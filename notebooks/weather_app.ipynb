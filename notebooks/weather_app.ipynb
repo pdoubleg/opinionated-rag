{
 "cells": [
  {
   "cell_type": "markdown",
   "metadata": {},
   "source": [
    "# Weather App | Development Notebook"
   ]
  },
  {
   "cell_type": "code",
   "execution_count": 1,
   "metadata": {},
   "outputs": [],
   "source": [
    "import os\n",
    "import pandas as pd\n",
    "import numpy as np\n",
    "from dotenv import load_dotenv\n",
    "load_dotenv()\n",
    "import openai\n",
    "import asyncio\n",
    "import nest_asyncio\n",
    "from PIL import Image as PILImage\n",
    "from IPython.display import Markdown, display, Image, HTML\n",
    "\n",
    "os.chdir(os.path.dirname(os.getcwd()))"
   ]
  },
  {
   "cell_type": "code",
   "execution_count": 2,
   "metadata": {},
   "outputs": [],
   "source": [
    "from typing import List, Dict, Any\n",
    "import uuid\n",
    "from urllib.parse import urlparse\n",
    "import base64\n",
    "import lancedb\n",
    "import requests"
   ]
  },
  {
   "cell_type": "code",
   "execution_count": 3,
   "metadata": {},
   "outputs": [],
   "source": [
    "from duckduckgo_search import DDGS"
   ]
  },
  {
   "cell_type": "code",
   "execution_count": 4,
   "metadata": {},
   "outputs": [
    {
     "name": "stderr",
     "output_type": "stream",
     "text": [
      "c:\\Users\\pdoub\\opinionated-rag\\.venv\\lib\\site-packages\\curl_cffi\\aio.py:204: UserWarning: Curlm alread closed! quitting from process_data\n",
      "  warnings.warn(\"Curlm alread closed! quitting from process_data\")\n"
     ]
    }
   ],
   "source": [
    "results = DDGS().news(keywords=\"austin, tx\", timelimit=\"d\", max_results=3)"
   ]
  },
  {
   "cell_type": "code",
   "execution_count": 5,
   "metadata": {},
   "outputs": [
    {
     "data": {
      "text/plain": [
       "[{'date': '2024-05-05T04:16:50+00:00',\n",
       "  'title': '2024 Texas election live updates: May 4 elections underway in Austin area',\n",
       "  'body': 'Election day in Texas has arrived.             Voters will head to the polls on May 4 to weigh in on candidates and propositions across Central Texas, including the Travis Central Appraisal District board of directors and a $649.',\n",
       "  'url': 'https://www.msn.com/en-us/news/us/2024-texas-election-live-updates-get-latest-unofficial-voting-results-for-austin-area/ar-AA1o8nL9',\n",
       "  'image': 'https://img-s-msn-com.akamaized.net/tenant/amp/entityid/BB1jnVTx.img?w=2000&h=1333&m=4&q=75',\n",
       "  'source': 'Austin American-Statesman on MSN.com'},\n",
       " {'date': '2024-05-04T05:20:00+00:00',\n",
       "  'title': 'Austin City Council at odds with Texas AG over transgender protections',\n",
       "  'body': 'The Austin City Council passed a resolution ensuring transgender people may receive gender reassignment therapy.',\n",
       "  'url': 'https://www.msn.com/en-us/news/other/austin-city-council-at-odds-with-texas-ag-over-transgender-protections/ar-AA1o7ijM',\n",
       "  'image': 'https://wex-s3.s3.us-east-1.amazonaws.com/wp-content/uploads/2024/04/iStock-1155258427.jpg',\n",
       "  'source': 'Washington Examiner on MSN.com'},\n",
       " {'date': '2024-05-04T15:10:00+00:00',\n",
       "  'title': 'Austin, Texas, hit by opioid outbreak leaving at least 9 dead and 75 overdoses in 3 days',\n",
       "  'body': 'Last year, the Texas legislature passed a bill that Gov. Greg Abbott signed into law changing state law to classify fentanyl poisoning as murder',\n",
       "  'url': 'https://justthenews.com/nation/states/center-square/austin-texas-opioid-outbreak-leaves-least-9-dead-75-overdoses-3-days',\n",
       "  'image': 'https://justthenews.com/sites/default/files/styles/social_media_share/public/2022-08/Rainbow Fentanyl 2 (Multnomah County Sheriff).jpg?h=dafda68b&itok=s9-AKbG5',\n",
       "  'source': 'justthenews'}]"
      ]
     },
     "execution_count": 5,
     "metadata": {},
     "output_type": "execute_result"
    }
   ],
   "source": [
    "results"
   ]
  },
  {
   "cell_type": "code",
   "execution_count": 9,
   "metadata": {},
   "outputs": [],
   "source": [
    "from pydantic import BaseModel, model_validator, field_validator\n",
    "from typing import Optional, List\n",
    "from datetime import datetime, timedelta\n",
    "import requests\n",
    "import os\n",
    "\n",
    "def celsius_to_fahrenheit(temp_celsius: float) -> float:\n",
    "    return (temp_celsius * 9/5) + 32\n",
    "\n",
    "class WeatherData(BaseModel):\n",
    "    temp: float\n",
    "    temp_max: float\n",
    "    temp_min: float\n",
    "    feels_like: float\n",
    "    description: str\n",
    "    icon: str\n",
    "    wind_speed: float\n",
    "    wind_direction: int\n",
    "    humidity: int\n",
    "    rain: str\n",
    "    cloud_cover: int\n",
    "    sunset_local: str\n",
    "    city_name: str\n",
    "    date_stamp: str\n",
    "\n",
    "    def __str__(self):\n",
    "        return (\n",
    "            f\"{self.date_stamp}\\n\"\n",
    "            f\"In {self.city_name}, the weather is currently:\\n\"\n",
    "            f\"Status: {self.description.title()}\\n\"\n",
    "            f\"Wind speed: {self.wind_speed} m/s, direction: {self.wind_direction}°\\n\"\n",
    "            f\"Humidity: {self.humidity}%\\n\"\n",
    "            f\"Temperature: \\n\"\n",
    "            f\"  - Current: {self.temp}°F\\n\"\n",
    "            f\"  - High: {self.temp_max}°F\\n\"\n",
    "            f\"  - Low: {self.temp_min}°F\\n\"\n",
    "            f\"  - Feels like: {self.feels_like}°F\\n\"\n",
    "            f\"Rain: {self.rain if self.rain else 'No rain'}\\n\"\n",
    "            f\"Cloud cover: {self.cloud_cover}%\"\n",
    "        )\n",
    "    \n",
    "    @property\n",
    "    def to_markdown(self):\n",
    "        return (\n",
    "            f\"{self.date_stamp}\\n\\n\"\n",
    "            f\"The weather in **{self.city_name}** is currently:\\n\\n\"\n",
    "            f\"Status: {self.description.title()}\\n\\n\"\n",
    "            f\"Wind speed: {self.wind_speed} m/s, direction: {self.wind_direction}°\\n\\n\"\n",
    "            f\"Humidity: {self.humidity}%\\n\\n\"\n",
    "            f\"Temperature: \\n\\n\"\n",
    "            f\"  - Current: {self.temp}°F\\n\"\n",
    "            f\"  - High: {self.temp_max}°F\\n\"\n",
    "            f\"  - Low: {self.temp_min}°F\\n\"\n",
    "            f\"  - Feels like: {self.feels_like}°F\\n\\n\"\n",
    "            f\"Rain: {self.rain if self.rain else 'No rain'}\\n\\n\"\n",
    "            f\"Cloud cover: {self.cloud_cover}%\"\n",
    "        )\n",
    "\n",
    "def fetch_weather(search_query: str, search_type: str = \"city\") -> WeatherData:\n",
    "    API_key = os.getenv(\"OPENWEATHERMAP_API_KEY\")\n",
    "    base_url = \"http://api.openweathermap.org/data/2.5/weather?\"\n",
    "    \n",
    "    if search_type == \"city\":\n",
    "        final_url = f\"{base_url}appid={API_key}&q={search_query}\"\n",
    "    elif search_type == \"zip\":\n",
    "        final_url = f\"{base_url}appid={API_key}&zip={search_query}\"\n",
    "    else:\n",
    "        raise ValueError(f\"Invalid search type: {search_type}. Must be either 'city' or 'zip'.\")\n",
    "    \n",
    "    owm_response_json = requests.get(final_url).json()\n",
    "    \n",
    "    sunset_utc = datetime.fromtimestamp(owm_response_json[\"sys\"][\"sunset\"])\n",
    "    sunset_local = sunset_utc.strftime(\"%I:%M %p\")\n",
    "    \n",
    "    temp_celsius = owm_response_json[\"main\"][\"temp\"] - 273.15\n",
    "    temp_max_celsius = owm_response_json[\"main\"][\"temp_max\"] - 273.15\n",
    "    temp_min_celsius = owm_response_json[\"main\"][\"temp_min\"] - 273.15\n",
    "    temp_feels_like_celsius = owm_response_json[\"main\"][\"feels_like\"] - 273.15\n",
    "\n",
    "    temp_fahrenheit = round(celsius_to_fahrenheit(temp_celsius), 2)\n",
    "    temp_max_fahrenheit = round(celsius_to_fahrenheit(temp_max_celsius), 2)\n",
    "    temp_min_fahrenheit = round(celsius_to_fahrenheit(temp_min_celsius), 2)\n",
    "    temp_feels_like_fahrenheit = round(celsius_to_fahrenheit(temp_feels_like_celsius), 2)\n",
    "\n",
    "    rain = owm_response_json.get(\"rain\", \"No rain\")\n",
    "    \n",
    "    owm_dict = {\n",
    "        \"temp\": temp_fahrenheit,\n",
    "        \"temp_max\": temp_max_fahrenheit,\n",
    "        \"temp_min\": temp_min_fahrenheit,\n",
    "        \"feels_like\": temp_feels_like_fahrenheit,\n",
    "        \"description\": owm_response_json[\"weather\"][0][\"description\"],\n",
    "        \"icon\": owm_response_json[\"weather\"][0][\"icon\"],\n",
    "        \"wind_speed\": owm_response_json[\"wind\"][\"speed\"],\n",
    "        \"wind_direction\": owm_response_json[\"wind\"][\"deg\"],\n",
    "        \"humidity\": owm_response_json[\"main\"][\"humidity\"],\n",
    "        \"rain\": rain,\n",
    "        \"cloud_cover\": owm_response_json[\"clouds\"][\"all\"],\n",
    "        \"sunset_local\": sunset_local,\n",
    "        \"city_name\": owm_response_json[\"name\"],\n",
    "        \"date_stamp\": datetime.utcnow().strftime(\"%A, %B %d, %Y\")\n",
    "    }\n",
    "    \n",
    "    return WeatherData(**owm_dict)"
   ]
  },
  {
   "cell_type": "code",
   "execution_count": 11,
   "metadata": {},
   "outputs": [
    {
     "name": "stdout",
     "output_type": "stream",
     "text": [
      "Sunday, May 05, 2024\n",
      "In Spicewood, the weather is currently:\n",
      "Status: Overcast Clouds\n",
      "Wind speed: 2.68 m/s, direction: 360°\n",
      "Humidity: 87%\n",
      "Temperature: \n",
      "  - Current: 72.73°F\n",
      "  - High: 74.07°F\n",
      "  - Low: 71.35°F\n",
      "  - Feels like: 73.8°F\n",
      "Rain: No rain\n",
      "Cloud cover: 100%\n"
     ]
    }
   ],
   "source": [
    "city = \"austin\"\n",
    "weather = fetch_weather('78669', search_type='zip')\n",
    "print(weather)"
   ]
  },
  {
   "cell_type": "code",
   "execution_count": 12,
   "metadata": {},
   "outputs": [],
   "source": [
    "import requests\n",
    "\n",
    "def get_local_alerts(max_alerts: int = 5) -> str:\n",
    "    \"\"\"\n",
    "    Get local weather alerts for the current IP address location.\n",
    "\n",
    "    Args:\n",
    "        max_alerts (int): Maximum number of alerts to include in the output. Defaults to 5.\n",
    "\n",
    "    Returns:\n",
    "        str: Markdown-formatted string containing the weather alerts.\n",
    "    \"\"\"\n",
    "    ip_address = requests.get('http://api.ipify.org').text\n",
    "    geo_data = requests.get(f'http://ip-api.com/json/{ip_address}').json()\n",
    "    lat = geo_data['lat']\n",
    "    lon = geo_data['lon']\n",
    "    response = requests.get(f'https://api.weather.gov/alerts?point={lat},{lon}').json()\n",
    "    markdown_output = \"\"\n",
    "    for x in response['features'][:max_alerts]:\n",
    "        markdown_output += f\"# {x['properties']['headline']}\\n\\n\"\n",
    "        markdown_output += f\"### {x['properties']['areaDesc']}\\n\\n\"\n",
    "        markdown_output += f\"{x['properties']['description']}\\n\\n\"\n",
    "        markdown_output += \"---\\n\\n\"\n",
    "    return markdown_output"
   ]
  },
  {
   "cell_type": "code",
   "execution_count": 14,
   "metadata": {},
   "outputs": [
    {
     "data": {
      "text/markdown": [
       "# Severe Thunderstorm Watch issued May 5 at 12:02AM CDT until May 5 at 2:00AM CDT by NWS Austin/San Antonio TX\n",
       "\n",
       "### Bandera, TX; Blanco, TX; Burnet, TX; Comal, TX; Edwards, TX; Gillespie, TX; Hays, TX; Kendall, TX; Kerr, TX; Kinney, TX; Llano, TX; Maverick, TX; Real, TX; Travis, TX; Williamson, TX\n",
       "\n",
       "SEVERE THUNDERSTORM WATCH 185 REMAINS VALID UNTIL 2 AM CDT EARLY\n",
       "THIS MORNING FOR THE FOLLOWING AREAS\n",
       "\n",
       "IN TEXAS THIS WATCH INCLUDES 15 COUNTIES\n",
       "\n",
       "IN SOUTH CENTRAL TEXAS\n",
       "\n",
       "BANDERA               BLANCO                BURNET\n",
       "COMAL                 EDWARDS               GILLESPIE\n",
       "HAYS                  KENDALL               KERR\n",
       "KINNEY                LLANO                 MAVERICK\n",
       "REAL                  TRAVIS                WILLIAMSON\n",
       "\n",
       "THIS INCLUDES THE CITIES OF AUSTIN, BANDERA, BLANCO, BOERNE,\n",
       "BRACKETTVILLE, BURNET, EAGLE PASS, FREDERICKSBURG, GEORGETOWN,\n",
       "KERRVILLE, LEAKEY, LLANO, NEW BRAUNFELS, ROCKSPRINGS,\n",
       "AND SAN MARCOS.\n",
       "\n",
       "---\n",
       "\n",
       "# Severe Thunderstorm Watch issued May 4 at 9:39PM CDT until May 5 at 2:00AM CDT by NWS Austin/San Antonio TX\n",
       "\n",
       "### Bandera, TX; Blanco, TX; Burnet, TX; Comal, TX; Edwards, TX; Gillespie, TX; Hays, TX; Kendall, TX; Kerr, TX; Kinney, TX; Llano, TX; Maverick, TX; Real, TX; Travis, TX; Williamson, TX\n",
       "\n",
       "SEVERE THUNDERSTORM WATCH 185 REMAINS VALID UNTIL 2 AM CDT SUNDAY\n",
       "FOR THE FOLLOWING AREAS\n",
       "\n",
       "IN TEXAS THIS WATCH INCLUDES 15 COUNTIES\n",
       "\n",
       "IN SOUTH CENTRAL TEXAS\n",
       "\n",
       "BANDERA               BLANCO                BURNET\n",
       "COMAL                 EDWARDS               GILLESPIE\n",
       "HAYS                  KENDALL               KERR\n",
       "KINNEY                LLANO                 MAVERICK\n",
       "REAL                  TRAVIS                WILLIAMSON\n",
       "\n",
       "THIS INCLUDES THE CITIES OF AUSTIN, BANDERA, BLANCO, BOERNE,\n",
       "BRACKETTVILLE, BURNET, EAGLE PASS, FREDERICKSBURG, GEORGETOWN,\n",
       "KERRVILLE, LEAKEY, LLANO, NEW BRAUNFELS, ROCKSPRINGS,\n",
       "AND SAN MARCOS.\n",
       "\n",
       "---\n",
       "\n"
      ],
      "text/plain": [
       "<IPython.core.display.Markdown object>"
      ]
     },
     "execution_count": 14,
     "metadata": {},
     "output_type": "execute_result"
    }
   ],
   "source": [
    "alerts = get_local_alerts(2)\n",
    "Markdown(alerts)"
   ]
  },
  {
   "cell_type": "code",
   "execution_count": null,
   "metadata": {},
   "outputs": [],
   "source": []
  },
  {
   "cell_type": "code",
   "execution_count": null,
   "metadata": {},
   "outputs": [],
   "source": []
  }
 ],
 "metadata": {
  "kernelspec": {
   "display_name": ".venv",
   "language": "python",
   "name": "python3"
  },
  "language_info": {
   "codemirror_mode": {
    "name": "ipython",
    "version": 3
   },
   "file_extension": ".py",
   "mimetype": "text/x-python",
   "name": "python",
   "nbconvert_exporter": "python",
   "pygments_lexer": "ipython3",
   "version": "3.10.11"
  }
 },
 "nbformat": 4,
 "nbformat_minor": 2
}
