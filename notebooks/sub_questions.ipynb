{
 "cells": [
  {
   "cell_type": "code",
   "execution_count": 1,
   "metadata": {},
   "outputs": [
    {
     "data": {
      "text/plain": [
       "True"
      ]
     },
     "execution_count": 1,
     "metadata": {},
     "output_type": "execute_result"
    }
   ],
   "source": [
    "import os\n",
    "from dotenv import load_dotenv\n",
    "import pandas as pd\n",
    "import json\n",
    "from datetime import datetime\n",
    "from markdown import markdown\n",
    "from IPython.display import Markdown, display, HTML\n",
    "import warnings\n",
    "warnings.filterwarnings('ignore')\n",
    "pd.set_option('display.max_columns', None)\n",
    "load_dotenv()"
   ]
  },
  {
   "cell_type": "code",
   "execution_count": 2,
   "metadata": {},
   "outputs": [],
   "source": [
    "os.chdir(os.path.dirname(os.getcwd()))"
   ]
  },
  {
   "cell_type": "code",
   "execution_count": 3,
   "metadata": {},
   "outputs": [],
   "source": [
    "from src.embedding_models.models import OpenAIEmbeddingsConfig, OpenAIEmbeddings\n",
    "from src.embedding_models.models import ColbertReranker\n",
    "from src.db.lancedb import LanceDBConfig, LanceDB"
   ]
  },
  {
   "cell_type": "code",
   "execution_count": 4,
   "metadata": {},
   "outputs": [
    {
     "name": "stderr",
     "output_type": "stream",
     "text": [
      "Non-empty Collection lance-citations already exists\n",
      "Not replacing collection\n"
     ]
    }
   ],
   "source": [
    "db_config = LanceDBConfig(\n",
    "    collection_name=\"lance-citations\",\n",
    "    replace_collection=False,\n",
    "    embedding = OpenAIEmbeddingsConfig(),\n",
    ")\n",
    "db = LanceDB(\n",
    "    config=db_config,\n",
    ")"
   ]
  },
  {
   "cell_type": "code",
   "execution_count": 5,
   "metadata": {},
   "outputs": [
    {
     "data": {
      "text/plain": [
       "['lance-citations', 'reddit-legal', 'test-opinions']"
      ]
     },
     "execution_count": 5,
     "metadata": {},
     "output_type": "execute_result"
    }
   ],
   "source": [
    "db.list_collections()"
   ]
  },
  {
   "cell_type": "code",
   "execution_count": 6,
   "metadata": {},
   "outputs": [],
   "source": [
    "table = db.client.open_table(\"lance-citations\")"
   ]
  },
  {
   "cell_type": "code",
   "execution_count": 7,
   "metadata": {},
   "outputs": [
    {
     "data": {
      "text/plain": [
       "(2995, 4)"
      ]
     },
     "execution_count": 7,
     "metadata": {},
     "output_type": "execute_result"
    }
   ],
   "source": [
    "table.to_pandas().shape"
   ]
  },
  {
   "cell_type": "code",
   "execution_count": 8,
   "metadata": {},
   "outputs": [
    {
     "data": {
      "text/html": [
       "<div>\n",
       "<style scoped>\n",
       "    .dataframe tbody tr th:only-of-type {\n",
       "        vertical-align: middle;\n",
       "    }\n",
       "\n",
       "    .dataframe tbody tr th {\n",
       "        vertical-align: top;\n",
       "    }\n",
       "\n",
       "    .dataframe thead th {\n",
       "        text-align: right;\n",
       "    }\n",
       "</style>\n",
       "<table border=\"1\" class=\"dataframe\">\n",
       "  <thead>\n",
       "    <tr style=\"text-align: right;\">\n",
       "      <th></th>\n",
       "      <th>id</th>\n",
       "      <th>vector</th>\n",
       "      <th>content</th>\n",
       "      <th>metadata</th>\n",
       "    </tr>\n",
       "  </thead>\n",
       "  <tbody>\n",
       "    <tr>\n",
       "      <th>0</th>\n",
       "      <td>3987a43c-95d3-6461-a97a-f9e7c79d2d73</td>\n",
       "      <td>[-0.01016574, -0.001256924, 0.0021155635, -0.0...</td>\n",
       "      <td>351 F.3d 1229 \\n   RECORDING INDUSTRY ASSOCIAT...</td>\n",
       "      <td>{'source': 'context', 'is_chunk': True, 'id': ...</td>\n",
       "    </tr>\n",
       "    <tr>\n",
       "      <th>1</th>\n",
       "      <td>2ad8e729-a1be-6cbb-bb90-d4dd84fd94b9</td>\n",
       "      <td>[-0.0087040225, -0.006643959, -0.0086300885, -...</td>\n",
       "      <td>GINSBURG, Chief Judge: \\n     This case concer...</td>\n",
       "      <td>{'source': 'context', 'is_chunk': True, 'id': ...</td>\n",
       "    </tr>\n",
       "    <tr>\n",
       "      <th>2</th>\n",
       "      <td>8605964f-ba70-81df-a37f-3c67bca750dc</td>\n",
       "      <td>[-0.0070057022, -0.029567793, 0.009822634, -0....</td>\n",
       "      <td>Napster, Inc.,  239 F.3d 1004  (9th Cir.2001),...</td>\n",
       "      <td>{'source': 'context', 'is_chunk': True, 'id': ...</td>\n",
       "    </tr>\n",
       "    <tr>\n",
       "      <th>3</th>\n",
       "      <td>3e03d7ea-fe4d-c746-a611-6879bb8d5fc7</td>\n",
       "      <td>[-0.019195106, -0.012144928, -0.011466515, -0....</td>\n",
       "      <td>The RIAA has used the subpoena provisions of §...</td>\n",
       "      <td>{'source': 'context', 'is_chunk': True, 'id': ...</td>\n",
       "    </tr>\n",
       "    <tr>\n",
       "      <th>4</th>\n",
       "      <td>728d7a22-51ac-e8b6-9f46-40d03ee67c8e</td>\n",
       "      <td>[-0.01852692, -0.011990808, 0.00037747578, -0....</td>\n",
       "      <td>On July 24, 2002 the RIAA served Verizon with ...</td>\n",
       "      <td>{'source': 'context', 'is_chunk': True, 'id': ...</td>\n",
       "    </tr>\n",
       "  </tbody>\n",
       "</table>\n",
       "</div>"
      ],
      "text/plain": [
       "                                     id  \\\n",
       "0  3987a43c-95d3-6461-a97a-f9e7c79d2d73   \n",
       "1  2ad8e729-a1be-6cbb-bb90-d4dd84fd94b9   \n",
       "2  8605964f-ba70-81df-a37f-3c67bca750dc   \n",
       "3  3e03d7ea-fe4d-c746-a611-6879bb8d5fc7   \n",
       "4  728d7a22-51ac-e8b6-9f46-40d03ee67c8e   \n",
       "\n",
       "                                              vector  \\\n",
       "0  [-0.01016574, -0.001256924, 0.0021155635, -0.0...   \n",
       "1  [-0.0087040225, -0.006643959, -0.0086300885, -...   \n",
       "2  [-0.0070057022, -0.029567793, 0.009822634, -0....   \n",
       "3  [-0.019195106, -0.012144928, -0.011466515, -0....   \n",
       "4  [-0.01852692, -0.011990808, 0.00037747578, -0....   \n",
       "\n",
       "                                             content  \\\n",
       "0  351 F.3d 1229 \\n   RECORDING INDUSTRY ASSOCIAT...   \n",
       "1  GINSBURG, Chief Judge: \\n     This case concer...   \n",
       "2  Napster, Inc.,  239 F.3d 1004  (9th Cir.2001),...   \n",
       "3  The RIAA has used the subpoena provisions of §...   \n",
       "4  On July 24, 2002 the RIAA served Verizon with ...   \n",
       "\n",
       "                                            metadata  \n",
       "0  {'source': 'context', 'is_chunk': True, 'id': ...  \n",
       "1  {'source': 'context', 'is_chunk': True, 'id': ...  \n",
       "2  {'source': 'context', 'is_chunk': True, 'id': ...  \n",
       "3  {'source': 'context', 'is_chunk': True, 'id': ...  \n",
       "4  {'source': 'context', 'is_chunk': True, 'id': ...  "
      ]
     },
     "execution_count": 8,
     "metadata": {},
     "output_type": "execute_result"
    }
   ],
   "source": [
    "table.to_pandas().head()"
   ]
  },
  {
   "cell_type": "code",
   "execution_count": 5,
   "metadata": {},
   "outputs": [
    {
     "name": "stdout",
     "output_type": "stream",
     "text": [
      "{\n",
      "    \"root_question\": \"What is the difference between the population of jason's home country and canada?\",\n",
      "    \"plan\": [\n",
      "        {\n",
      "            \"id\": 1,\n",
      "            \"query\": \"What is the population of Jason's home country?\",\n",
      "            \"subquestions\": []\n",
      "        },\n",
      "        {\n",
      "            \"id\": 2,\n",
      "            \"query\": \"What is the population of Canada?\",\n",
      "            \"subquestions\": []\n",
      "        },\n",
      "        {\n",
      "            \"id\": 3,\n",
      "            \"query\": \"What is the difference in population between two countries?\",\n",
      "            \"subquestions\": [\n",
      "                1,\n",
      "                2\n",
      "            ]\n",
      "        }\n",
      "    ]\n",
      "}\n"
     ]
    }
   ],
   "source": [
    "import enum\n",
    "import logging\n",
    "import instructor\n",
    "\n",
    "from typing import List\n",
    "from openai import OpenAI\n",
    "from pydantic import Field, BaseModel\n",
    "from pydantic_settings import BaseSettings\n",
    "\n",
    "from src.llm.basemodel import OpenAIConfig, OpenAIGPT\n",
    "from src.embedding_models.models import OpenAIEmbeddingsConfig, OpenAIEmbeddings, ColbertReranker\n",
    "from src.db.lancedb import LanceDBConfig, LanceDB\n",
    "\n",
    "\n",
    "logger = logging.getLogger(__name__)\n",
    "\n",
    "client = instructor.patch(OpenAI())\n",
    "\n",
    "class Question(BaseModel):\n",
    "    id: int = Field(..., description=\"A unique identifier for the question\")\n",
    "    query: str = Field(..., description=\"The question decomposited as much as possible\")\n",
    "    subquestions: List[int] = Field(\n",
    "        default_factory=list,\n",
    "        description=\"The subquestions that this question is composed of\",\n",
    "    )\n",
    "\n",
    "\n",
    "class QueryPlan(BaseModel):\n",
    "    \n",
    "    root_question: str = Field(\n",
    "        ...,\n",
    "        description=\"The root question that the user asked\")\n",
    "    plan: List[Question] = Field(\n",
    "        ..., \n",
    "        description=\"The plan to answer the root question and its subquestions\"\n",
    "    )\n",
    "\n",
    "\n",
    "retrieval = client.chat.completions.create(\n",
    "    model=\"gpt-4-1106-preview\",\n",
    "    response_model=QueryPlan,\n",
    "    messages=[\n",
    "        {\n",
    "            \"role\": \"system\",\n",
    "            \"content\": \"You are a query understanding system capable of decomposing a question into subquestions.\",\n",
    "        },\n",
    "        {\n",
    "            \"role\": \"user\",\n",
    "            \"content\": \"What is the difference between the population of jason's home country and canada?\",\n",
    "        },\n",
    "    ],\n",
    ")\n",
    "\n",
    "print(retrieval.model_dump_json(indent=4))"
   ]
  },
  {
   "cell_type": "code",
   "execution_count": null,
   "metadata": {},
   "outputs": [],
   "source": []
  },
  {
   "cell_type": "code",
   "execution_count": null,
   "metadata": {},
   "outputs": [],
   "source": []
  },
  {
   "cell_type": "code",
   "execution_count": null,
   "metadata": {},
   "outputs": [],
   "source": []
  }
 ],
 "metadata": {
  "kernelspec": {
   "display_name": ".venv",
   "language": "python",
   "name": "python3"
  },
  "language_info": {
   "codemirror_mode": {
    "name": "ipython",
    "version": 3
   },
   "file_extension": ".py",
   "mimetype": "text/x-python",
   "name": "python",
   "nbconvert_exporter": "python",
   "pygments_lexer": "ipython3",
   "version": "3.10.13"
  }
 },
 "nbformat": 4,
 "nbformat_minor": 2
}
