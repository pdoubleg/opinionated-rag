{
 "cells": [
  {
   "cell_type": "code",
   "execution_count": 1,
   "metadata": {},
   "outputs": [
    {
     "data": {
      "text/html": [
       "<div>\n",
       "<style scoped>\n",
       "    .dataframe tbody tr th:only-of-type {\n",
       "        vertical-align: middle;\n",
       "    }\n",
       "\n",
       "    .dataframe tbody tr th {\n",
       "        vertical-align: top;\n",
       "    }\n",
       "\n",
       "    .dataframe thead th {\n",
       "        text-align: right;\n",
       "    }\n",
       "</style>\n",
       "<table border=\"1\" class=\"dataframe\">\n",
       "  <thead>\n",
       "    <tr style=\"text-align: right;\">\n",
       "      <th></th>\n",
       "      <th>index</th>\n",
       "      <th>created_utc</th>\n",
       "      <th>full_link</th>\n",
       "      <th>id</th>\n",
       "      <th>body</th>\n",
       "      <th>title</th>\n",
       "      <th>text_label</th>\n",
       "      <th>flair_label</th>\n",
       "      <th>embeddings</th>\n",
       "      <th>token_count</th>\n",
       "      <th>llm_title</th>\n",
       "      <th>state</th>\n",
       "      <th>kmeans_label</th>\n",
       "      <th>topic_title</th>\n",
       "      <th>splade_embeddings</th>\n",
       "    </tr>\n",
       "  </thead>\n",
       "  <tbody>\n",
       "    <tr>\n",
       "      <th>0</th>\n",
       "      <td>1078</td>\n",
       "      <td>1575952538</td>\n",
       "      <td>https://www.reddit.com/r/legaladvice/comments/...</td>\n",
       "      <td>e8lsen</td>\n",
       "      <td>I applied for a job and after two interviews I...</td>\n",
       "      <td>Failed a drug test due to amphetamines, I have...</td>\n",
       "      <td>employment</td>\n",
       "      <td>5</td>\n",
       "      <td>[9.475638042064453e-05, 0.0005111666301983955,...</td>\n",
       "      <td>493</td>\n",
       "      <td>\"Validity of Schedule II Drug Prescription in ...</td>\n",
       "      <td>PR</td>\n",
       "      <td>8</td>\n",
       "      <td>Employment Legal Concerns and Issues</td>\n",
       "      <td>[0.0, 0.0, 0.0, 0.0, 0.0, 0.0, 0.0, 0.0, 0.0, ...</td>\n",
       "    </tr>\n",
       "    <tr>\n",
       "      <th>1</th>\n",
       "      <td>2098</td>\n",
       "      <td>1577442453</td>\n",
       "      <td>https://www.reddit.com/r/legaladvice/comments/...</td>\n",
       "      <td>eg9ll2</td>\n",
       "      <td>Hi everyone, thanks in advance for any guidanc...</td>\n",
       "      <td>Speeding ticket in Tennessee, Georgia Driver's...</td>\n",
       "      <td>driving</td>\n",
       "      <td>4</td>\n",
       "      <td>[-0.006706413111028856, 0.020911016696181495, ...</td>\n",
       "      <td>252</td>\n",
       "      <td>\"Speeding ticket consequences for out-of-state...</td>\n",
       "      <td>KY</td>\n",
       "      <td>10</td>\n",
       "      <td>Legal Topics in Traffic Violations</td>\n",
       "      <td>[0.0, 0.0, 0.0, 0.0, 0.0, 0.0, 0.0, 0.0, 0.0, ...</td>\n",
       "    </tr>\n",
       "  </tbody>\n",
       "</table>\n",
       "</div>"
      ],
      "text/plain": [
       "   index  created_utc                                          full_link  \\\n",
       "0   1078   1575952538  https://www.reddit.com/r/legaladvice/comments/...   \n",
       "1   2098   1577442453  https://www.reddit.com/r/legaladvice/comments/...   \n",
       "\n",
       "       id                                               body  \\\n",
       "0  e8lsen  I applied for a job and after two interviews I...   \n",
       "1  eg9ll2  Hi everyone, thanks in advance for any guidanc...   \n",
       "\n",
       "                                               title  text_label  flair_label  \\\n",
       "0  Failed a drug test due to amphetamines, I have...  employment            5   \n",
       "1  Speeding ticket in Tennessee, Georgia Driver's...     driving            4   \n",
       "\n",
       "                                          embeddings  token_count  \\\n",
       "0  [9.475638042064453e-05, 0.0005111666301983955,...          493   \n",
       "1  [-0.006706413111028856, 0.020911016696181495, ...          252   \n",
       "\n",
       "                                           llm_title state  kmeans_label  \\\n",
       "0  \"Validity of Schedule II Drug Prescription in ...    PR             8   \n",
       "1  \"Speeding ticket consequences for out-of-state...    KY            10   \n",
       "\n",
       "                            topic_title  \\\n",
       "0  Employment Legal Concerns and Issues   \n",
       "1    Legal Topics in Traffic Violations   \n",
       "\n",
       "                                   splade_embeddings  \n",
       "0  [0.0, 0.0, 0.0, 0.0, 0.0, 0.0, 0.0, 0.0, 0.0, ...  \n",
       "1  [0.0, 0.0, 0.0, 0.0, 0.0, 0.0, 0.0, 0.0, 0.0, ...  "
      ]
     },
     "execution_count": 1,
     "metadata": {},
     "output_type": "execute_result"
    }
   ],
   "source": [
    "import os\n",
    "os.environ[\"KMP_DUPLICATE_LIB_OK\"] = \"TRUE\"\n",
    "import re\n",
    "from dotenv import load_dotenv\n",
    "import pandas as pd\n",
    "\n",
    "from IPython.display import Markdown, display, HTML\n",
    "import warnings\n",
    "warnings.filterwarnings('ignore')\n",
    "pd.set_option('display.max_columns', None)\n",
    "load_dotenv()\n",
    "os.chdir(os.path.dirname(os.getcwd()))\n",
    "\n",
    "df = pd.read_parquet(\"./data/splade_embeds.parquet\")\n",
    "# Convert column names to snake_case for compatibility with LanceDB\n",
    "original_columns = df.columns\n",
    "snake_case_columns = {col: re.sub(r'(?<!^)(?=[A-Z])', '_', col).lower() for col in original_columns}\n",
    "df.rename(columns=snake_case_columns, inplace=True)\n",
    "df.head(2)"
   ]
  },
  {
   "cell_type": "code",
   "execution_count": 2,
   "metadata": {},
   "outputs": [],
   "source": [
    "df.sort_values(by='token_count', ascending=False, inplace=True)"
   ]
  },
  {
   "cell_type": "code",
   "execution_count": 3,
   "metadata": {},
   "outputs": [
    {
     "data": {
      "text/markdown": [
       "\n",
       "A person working for a vacation rental company was called back to work after being temporarily laid off and collecting unemployment for 5 weeks. Upon returning, they observed a lack of adherence to COVID-19 safety protocols among colleagues, including the absence of mask-wearing and social distancing. They were moved to a different workspace due to close proximity issues but still felt unsafe due to the overall disregard for safety measures. The person is aware of a new unemployment provision in Texas allowing individuals not to return to work under certain conditions related to illness and caregiving but does not believe they qualify for these exceptions. They are concerned about safety at work and are seeking advice on their rights or possible actions.\n"
      ],
      "text/plain": [
       "<IPython.core.display.Markdown object>"
      ]
     },
     "execution_count": 3,
     "metadata": {},
     "output_type": "execute_result"
    }
   ],
   "source": [
    "test_query = \"\"\"\n",
    "A person working for a vacation rental company was called back to work after being temporarily laid off and collecting unemployment for 5 weeks. Upon returning, they observed a lack of adherence to COVID-19 safety protocols among colleagues, including the absence of mask-wearing and social distancing. They were moved to a different workspace due to close proximity issues but still felt unsafe due to the overall disregard for safety measures. The person is aware of a new unemployment provision in Texas allowing individuals not to return to work under certain conditions related to illness and caregiving but does not believe they qualify for these exceptions. They are concerned about safety at work and are seeking advice on their rights or possible actions.\n",
    "\"\"\"\n",
    "\n",
    "Markdown(test_query)"
   ]
  },
  {
   "cell_type": "code",
   "execution_count": 4,
   "metadata": {},
   "outputs": [],
   "source": [
    "from src.parsing.search import find_fuzzy_matches_in_df, find_closest_matches_with_bm25_df"
   ]
  },
  {
   "cell_type": "code",
   "execution_count": 5,
   "metadata": {},
   "outputs": [],
   "source": [
    "bm25_test = find_closest_matches_with_bm25_df(\n",
    "    query=test_query,\n",
    "    df=df,\n",
    "    top_k=20,\n",
    "    text_column='body',\n",
    ")"
   ]
  },
  {
   "cell_type": "code",
   "execution_count": 6,
   "metadata": {},
   "outputs": [
    {
     "data": {
      "text/plain": [
       "['I work for a vacation rental company. I got called up the week before last after 5 weeks of being temporarily laid off and collecting unemployment for that long (3 total payments). I came back to work Thursday (5/7) and worked Thursday and Friday.\\n\\nI was the only one wearing a mask and did not notice any social distancing measures between employees. They *did* have me re-locate to a room upstairs as my normal workspace is in very close proximity to two other employees, but in general, I saw people all day talking face to face and not making any effort to distance themselves. \\n\\nI know Texas recently added an unemployment provision saying you can opt to not return to work and continue to collect unemployment if you’re sick, caring for someone who is sick, or caring for a child. I do have a 5 year old but my Wife only works 1 day a week and can take him to work, so she’s available for childcare. She will go back to a regular schedule in 2 weeks and my son will have to go to daycare.\\n\\nI feel like I don’t qualify for any of the special circumstances in regard to unemployment, but I don’t feel safe at work. Is there anything I can do?',\n",
       " 'I work on a restaurant(Chipotle) that is currently still open for pick up/delivery by allowing guests to come to front door, not enter the building, and have their food brought out to them. \\n\\nAs of how we operate currently, we prepare all orders on a second make line that is a total of 8 feet wide. \\nBecause of how busy we are, we commonly require 3 individuals in this 8 foot space for multiple hours a day in order to make all orders on time. \\n\\nMyself, as well as multiple coworkers, are not comfortable working in such a close proximity to others when it is not necessary.(simply lower limit of orders at a time and a single individual could complete this) \\n\\nWhen I directly asked(and recorded) my bosses response, she said that it is simply not possible to follow social distancing rules and still complete our job, before listing other things we do to allow for safety such as air filters and proper sanitation. \\n\\nMy coworkers and myself are still not comfortable working in such a close proximity to each other just so we can serve slightly more food. However we are worried that we would be unable to leave a job we do not consider to be safe and recieve any sort of unemployment. \\n\\nMy question is, if we were to leave this job due to safety concerns and the failure to follow social distancing, would we be eligible for unemployment/PUA?',\n",
       " \"Kind of a weird situation here. I'm immunocompromised due to a chronic illness I have, which I made my employer aware about before I started working for them. I work in IT so my job is generally done remotely, but every now and then we have to work at a customers location. When the COVID-19 shutdown started, he let me stay in the office due to my condition, but is now saying that they need me to start going back onsite. I asked what would happen if I refused, and they said it would mean I resigned.\\n\\nSemi-related: The company shut down for about a month, and during this time I was unable to get unemployment because my boss didn't check the mail. The only reason I went back was because I didn't think I was gonna get any unemployment money and they told me I wouldn't have to be face to face with any customers. Of course, none of this is in writing, but I just thought I would add some context.\\n\\nDo I have any other options here?\",\n",
       " \"United States\\nMaybe I was a fool to begin with but I quit my job to work for the 2020 Census. I also was laid off from my ANOTHER job I was working at a ski resort that closed down due to covid. \\n\\nI filed for unemployment at the end of March and sat without any update until yesterday. Yesterday, the adjudicator asked me more about why I left my job and was not concerned with the fact that I was going to work for a government bureau. He didn't seem to care that I was working another job at the same time that I was laid off from. This morning I get an email saying I have been denied benefits.\\n\\nSomething about this just doesn't seem right to me. Everyone I talked to leading up to the adjudicator made it seem like my profile was totally fine. I even called the office multiple times during my waiting period to double check that everything was OK. Now, if I quit a job to work for the government *maybe* I wouldn't qualify but, I was also laid off from a job due to covid.\\n\\nOne line from the denial email claimed that I can't receive benefits because the new employer (Census Bureau) doesn't pay unemployment taxes. If this was the case why was my claim not thrown out from the beginning? I am pretty young and have very little background in any of this so maybe I am being naive but why would you want to work for the federal government if I don't even qualify for help during the worst of times. I spent 6 weeks assuming I qualified for unemployment and now it looks like I'm going to go broke.\",\n",
       " \"To make it brief, today my mother's salary was openly discussed among coworkers, shared by none other than the accounts payable and other various office admins - without her permission. She's already had her shift changed due to Covid-19 and not feeling safe due to their lack of safety measurements, and she's already had hostility issues from other coworkers. Does she have any recourse to these actions? \\n\\nI know it's not illegal to discuss salaries amongst yourselves, but she didn't give permission for this information to be shared. Now it's becoming a big deal that she's paid more than people think she deserves.\"]"
      ]
     },
     "execution_count": 6,
     "metadata": {},
     "output_type": "execute_result"
    }
   ],
   "source": [
    "bm25_test['body'].tolist()[:5]"
   ]
  },
  {
   "cell_type": "code",
   "execution_count": 7,
   "metadata": {},
   "outputs": [],
   "source": [
    "from src.search.llm_filter import UsefulLLMFilter"
   ]
  },
  {
   "cell_type": "code",
   "execution_count": 8,
   "metadata": {},
   "outputs": [],
   "source": [
    "filterer = UsefulLLMFilter()"
   ]
  },
  {
   "cell_type": "code",
   "execution_count": 9,
   "metadata": {},
   "outputs": [
    {
     "name": "stderr",
     "output_type": "stream",
     "text": [
      "2024-04-17 23:11:33 - INFO - Input DataFrame has 20 rows\n",
      "2024-04-17 23:11:33 - INFO - Running LLM usefulness eval in parallel\n",
      "2024-04-17 23:11:34 - INFO - LLM filtered out 6 rows - output df shape is (14, 17)\n"
     ]
    }
   ],
   "source": [
    "test = filterer.filter_df_with_llm(\n",
    "    query=test_query,\n",
    "    df=bm25_test,\n",
    "    text_column='body',\n",
    ")"
   ]
  },
  {
   "cell_type": "code",
   "execution_count": 10,
   "metadata": {},
   "outputs": [],
   "source": [
    "from src.search.rank_gpt import RankGPTRerank\n",
    "from llama_index.llms.openai import OpenAI\n",
    "\n",
    "\n",
    "llm = OpenAI(model=\"gpt-3.5-turbo-16k\")\n",
    "\n",
    "reranker = RankGPTRerank(\n",
    "    top_n=10,\n",
    "    llm=llm\n",
    ")\n",
    "\n",
    "rank_gpt_res = reranker.rerank_dataframe(\n",
    "    df=bm25_test,\n",
    "    query=test_query,\n",
    "    text_column='body',\n",
    ")"
   ]
  },
  {
   "cell_type": "code",
   "execution_count": 11,
   "metadata": {},
   "outputs": [
    {
     "name": "stderr",
     "output_type": "stream",
     "text": [
      "Processing summaries:   0%|          | 0/10 [00:00<?, ?it/s]"
     ]
    },
    {
     "name": "stderr",
     "output_type": "stream",
     "text": [
      "Processing summaries: 100%|██████████| 10/10 [00:08<00:00,  1.19it/s]\n"
     ]
    }
   ],
   "source": [
    "from src.agent.tools.utils import aget_fact_patterns_df\n",
    "import nest_asyncio\n",
    "nest_asyncio.apply()\n",
    "\n",
    "prep_df = await aget_fact_patterns_df(rank_gpt_res, 'body')"
   ]
  },
  {
   "cell_type": "code",
   "execution_count": 12,
   "metadata": {},
   "outputs": [],
   "source": [
    "from src.agent.tools.utils import create_formatted_input, get_final_answer\n",
    "\n",
    "formatted_input = create_formatted_input(\n",
    "    df=prep_df, \n",
    "    query=test_query, \n",
    "    text_column='summary',\n",
    "    context_token_limit=8000\n",
    "    )\n"
   ]
  },
  {
   "cell_type": "code",
   "execution_count": 13,
   "metadata": {},
   "outputs": [
    {
     "data": {
      "text/markdown": [
       "[1] An individual returned to work at a vacation rental company after being laid off and collecting unemployment benefits for 5 weeks. Upon returning, they noticed a lack of COVID-19 safety measures among employees, such as social distancing and mask-wearing, despite being moved to a different workspace for safety. They are aware of a recent unemployment provision in Texas that allows individuals to opt out of returning to work for specific reasons related to COVID-19 but do not believe they qualify under those conditions. The individual is concerned about their safety at work but feels unsure about their options regarding unemployment benefits due to their situation, which is complicated by childcare responsibilities.\n",
       "URL: https://www.reddit.com/r/legaladvice/comments/ghny7f/what_are_my_unemployment_options_texas/\n",
       "\n",
       "[2] Workers at a restaurant, adapted for pick-up/delivery with a 2nd make line 8 feet wide, are required to work closely (3 people in 8ft space) due to high demand, contrary to social distancing preferences. Despite air filters and sanitation efforts, discomfort persists over safety. Inquiry regards eligibility for unemployment or Pandemic Unemployment Assistance (PUA) if leaving job due to these safety concerns and the inability to maintain social distancing.\n",
       "URL: https://www.reddit.com/r/legaladvice/comments/gkgbbc/workplace_refuses_to_follow_social_distancingmi/\n",
       "\n",
       "[3] An immunocompromised individual, due to a chronic illness, is employed in an IT role that is typically remote but occasionally requires on-site customer visits. The employer, initially accommodating by allowing remote work during the COVID-19 shutdown, is now asking the employee to resume on-site duties. The employee was informed that refusal would be considered resignation. Additionally, during a company shutdown, the employee was unable to access unemployment benefits due to the employer's lack of communication. The employer had previously assured that on-site work would not involve direct customer interaction, a condition not documented in writing. The inquiry concerns potential options available to this employee facing the requirement to return to on-site work despite health concerns.\n",
       "URL: https://www.reddit.com/r/legaladvice/comments/go79i4/tx_employer_let_me_work_from_the_office_for_the/\n",
       "\n",
       "[4] An individual's salary was discussed without their permission among coworkers, shared by the accounts payable and office admins. This occurred after their shift was changed due to Covid-19 concerns and facing a hostile work environment from coworkers. The individual is concerned about the legality of the salary discussion without their permission and its impact, considering the ensuing negative perception of their compensation among coworkers.\n",
       "URL: https://www.reddit.com/r/legaladvice/comments/gm7pw7/ethics_vs_legality/\n",
       "\n",
       "[5] An individual at risk for COVID-19 expressed concerns over their living situation in a building where pandemic guidelines are not being strictly followed. This includes no enforcement of mask-wearing in common areas with open-air hallways, refusal to close a communal pool, lack of social distancing, and maintenance personnel not wearing masks. The tenant, who is dealing with a chronic illness, feels unsafe and is seeking advice on legal avenues to potentially terminate their lease agreement due to these concerns.\n",
       "URL: https://www.reddit.com/r/legaladvice/comments/geppms/california_no_one_wearing_masks_pool_is_open_im/\n",
       "\n",
       "[6] An individual, categorized as a 1099 contractor for a rental housing company for 5 years, raises concerns over the company's failure to deliver promised COVID-19 work incentives, lack of personal protective equipment (PPE), and the necessity of their work being classified as essential during the pandemic. Despite announcements of incentives for contractors, none were provided, specifically to those in roles preparing houses for rental, unlike new contractors on the rehabilitation side who were offered a $250 signup bonus. The individual queries the viability of taking action against the company for exploiting the COVID-19 pandemic to encourage ongoing work without adequate safety measures or promised compensation.\n",
       "URL: https://www.reddit.com/r/legaladvice/comments/gj3ltq/1099_and_inscentives_not_given/\n",
       "\n",
       "[7] A person facing financial hardship due to unemployment since early March is preparing for an unemployment appeal hearing. The person, after voluntarily resigning just before the COVID-19 pandemic escalated, was deemed ineligible for unemployment benefits under the criteria of quitting in anticipation of discharge. Seeking to qualify under the rationale of good cause to quit, they recount a situation of being forced to quit due to a he-said-she-said scenario with an ex, leading to an investigation and an ultimatum to quit or face possible termination and police involvement. The reasons cited for quitting under the good cause provision include avoiding potential damage to their criminal and school record, safety concerns relating to the commute, and fears of an unsafe work environment exacerbated by the pandemic. Despite attempting to address these concerns with supervisors and higher management and seeking a transfer, the person was told no alternatives were available, leading them to resign. These actions and decisions are framed within the context of needing to prove that their quitting was motivated by good workplace-related reasons for which the employer is responsible, adverse to the worker, and compelling enough to make a reasonable worker resign.\n",
       "URL: https://www.reddit.com/r/legaladvice/comments/ge2si7/need_help_with_proving_good_cause_for_quitting_in/\n",
       "\n",
       "[8] A person began working from home in March due to the pandemic. Shortly afterward, their company implemented a temporary 30-day furlough, during which all employees, regardless of their position, received only 60% of their salary and were asked to work 24 hours a week. After this period, employees were given the option to return to the office to receive full pay, but the individual in question opted to continue working remotely due to ongoing regional stay-at-home orders. Despite performing the same amount of work remotely, the company only offered full salaries to those who returned to the office. The person is concerned about the lack of COVID-19 safety measures in the office, such as wearing masks or conducting health screenings. They are questioning the legality of the company's policy to reduce pay for remote workers who are performing their duties equivalently to their in-office counterparts, with the context of the situation occurring in the U.S.\n",
       "URL: https://www.reddit.com/r/legaladvice/comments/gsf2gq/company_refusing_to_pay_full_salary_unless_i_come/\n",
       "\n",
       "[9] An individual was promised a $5,000 bonus upon completing their first year of employment. However, after a 2-month layoff due to the COVID-19 pandemic, the company is asking the individual to forfeit this bonus as a condition for reemployment, threatening termination if the conditions are not accepted. The question arises whether refusing these new terms would still allow the individual to qualify for unemployment benefits in Ohio, especially considering the initial employment agreement included a signed letter promising the bonus.\n",
       "URL: https://www.reddit.com/r/legaladvice/comments/gjpbku/my_employer_is_requesting_i_forfeit_my_bonus_as_a/\n",
       "\n",
       "[10] The query addresses a situation involving an individual's significant other (SO) who works in an essential business and is at risk due to cardiovascular conditions amidst the COVID-19 pandemic. Despite a relatively stable situation initially, the area is experiencing a worsening outbreak. The person is inquiring about the possibility of their SO obtaining a doctor's note to seek unemployment benefits if quitting the job becomes necessary due to health risks. Additionally, the individual is questioning their eligibility for the Family and Medical Leave Act (FMLA) to potentially take leave from a customer-facing job that could expose them to the virus, given their concern for the SO's health.\n",
       "URL: https://www.reddit.com/r/legaladvice/comments/gc3oby/can_an_atrisk_individual_get_unemployment_if_they/\n",
       "\n",
       "Instructions: Using only the provided search results that are relevant, and starting with the most relevant, write a detailed comparative analysis for a new query. If there are no relevant cases say so, and use one example from the search results to illustrate the uniquness of the new query. ALWAYS cite search results using [[number](URL)] notation after the reference.\n",
       "\n",
       "New Query:\n",
       "\n",
       "A person working for a vacation rental company was called back to work after being temporarily laid off and collecting unemployment for 5 weeks. Upon returning, they observed a lack of adherence to COVID-19 safety protocols among colleagues, including the absence of mask-wearing and social distancing. They were moved to a different workspace due to close proximity issues but still felt unsafe due to the overall disregard for safety measures. The person is aware of a new unemployment provision in Texas allowing individuals not to return to work under certain conditions related to illness and caregiving but does not believe they qualify for these exceptions. They are concerned about safety at work and are seeking advice on their rights or possible actions.\n",
       "\n",
       "\n",
       "Analysis:"
      ],
      "text/plain": [
       "<IPython.core.display.Markdown object>"
      ]
     },
     "execution_count": 13,
     "metadata": {},
     "output_type": "execute_result"
    }
   ],
   "source": [
    "Markdown(formatted_input)"
   ]
  },
  {
   "cell_type": "code",
   "execution_count": 14,
   "metadata": {},
   "outputs": [],
   "source": [
    "response_model = get_final_answer(formatted_input, model_name=\"gpt-4-turbo-preview\")"
   ]
  },
  {
   "cell_type": "code",
   "execution_count": 15,
   "metadata": {},
   "outputs": [
    {
     "data": {
      "text/plain": [
       "{'research_report': 'The current query involves an individual who has returned to their workplace, a vacation rental company, after a temporary layoff and is concerned about the lack of COVID-19 safety protocols among employees. This situation raises questions about employee rights, unemployment benefits, and workplace safety amid the pandemic, particularly under Texas law. \\n\\nComparatively, the most directly relevant case is [1], where an individual in a similar situation of returning to work at a vacation rental company observed a lack of COVID-19 safety measures and questioned their options regarding unemployment benefits. Both scenarios involve concerns about workplace safety and the implications of returning to work under potentially unsafe conditions. \\n\\nThe query also shares similarities with [2], where employees at a restaurant faced a cramped working environment that contradicted social distancing guidelines, raising questions about their eligibility for unemployment or Pandemic Unemployment Assistance (PUA) if they chose to leave due to safety concerns. \\n\\nIn [3], an immunocompromised individual faced a dilemma about returning to on-site work amidst health concerns, showcasing another angle of how employees might deal with being asked to work in conditions they perceive as unsafe due to the pandemic. This parallels the current query by highlighting the tension between employer expectations and employee safety concerns. \\n\\nWhile cases such as [4] and [5] discuss related issues of workplace and living environment concerns during COVID-19, they are more peripheral, focusing on interpersonal and lease-related issues rather than the direct concern of returning to work under unsafe conditions. \\n\\nOverall, the present situation aligns closely with concerns raised in [1], [2], and [3], which explore the intersections of workplace safety, unemployment benefits, and employee rights during the pandemic. These cases offer insights into the complexity of employment decisions motivated by health and safety concerns, underlining the importance of understanding specific legal provisions and rights available to workers.',\n",
       " 'context_citations': [{'citation_number': 1,\n",
       "   'citation_string': \"Individual's concerns about COVID-19 safety at a vacation rental company (Texas).\",\n",
       "   'url': 'https://www.reddit.com/r/legaladvice/comments/ghny7f/what_are_my_unemployment_options_texas/'},\n",
       "  {'citation_number': 2,\n",
       "   'citation_string': \"Workers' safety concerns and unemployment eligibility in a restaurant environment.\",\n",
       "   'url': 'https://www.reddit.com/r/legaladvice/comments/gkgbbc/workplace_refuses_to_follow_social_distancingmi/'},\n",
       "  {'citation_number': 3,\n",
       "   'citation_string': \"Immunocompromised employee's concerns about returning to on-site work (Texas).\",\n",
       "   'url': 'https://www.reddit.com/r/legaladvice/comments/go79i4/tx_employer_let_me_work_from_the_office_for_the/'}],\n",
       " 'citations': ['1', '2', '3', '4', '5']}"
      ]
     },
     "execution_count": 15,
     "metadata": {},
     "output_type": "execute_result"
    }
   ],
   "source": [
    "response_model.model_dump()"
   ]
  },
  {
   "cell_type": "code",
   "execution_count": 16,
   "metadata": {},
   "outputs": [
    {
     "data": {
      "text/markdown": [
       "The current query involves an individual who has returned to their workplace, a vacation rental company, after a temporary layoff and is concerned about the lack of COVID-19 safety protocols among employees. This situation raises questions about employee rights, unemployment benefits, and workplace safety amid the pandemic, particularly under Texas law. \n",
       "\n",
       "Comparatively, the most directly relevant case is [1], where an individual in a similar situation of returning to work at a vacation rental company observed a lack of COVID-19 safety measures and questioned their options regarding unemployment benefits. Both scenarios involve concerns about workplace safety and the implications of returning to work under potentially unsafe conditions. \n",
       "\n",
       "The query also shares similarities with [2], where employees at a restaurant faced a cramped working environment that contradicted social distancing guidelines, raising questions about their eligibility for unemployment or Pandemic Unemployment Assistance (PUA) if they chose to leave due to safety concerns. \n",
       "\n",
       "In [3], an immunocompromised individual faced a dilemma about returning to on-site work amidst health concerns, showcasing another angle of how employees might deal with being asked to work in conditions they perceive as unsafe due to the pandemic. This parallels the current query by highlighting the tension between employer expectations and employee safety concerns. \n",
       "\n",
       "While cases such as [4] and [5] discuss related issues of workplace and living environment concerns during COVID-19, they are more peripheral, focusing on interpersonal and lease-related issues rather than the direct concern of returning to work under unsafe conditions. \n",
       "\n",
       "Overall, the present situation aligns closely with concerns raised in [1], [2], and [3], which explore the intersections of workplace safety, unemployment benefits, and employee rights during the pandemic. These cases offer insights into the complexity of employment decisions motivated by health and safety concerns, underlining the importance of understanding specific legal provisions and rights available to workers."
      ],
      "text/plain": [
       "<IPython.core.display.Markdown object>"
      ]
     },
     "metadata": {},
     "output_type": "display_data"
    }
   ],
   "source": [
    "display(Markdown(response_model.research_report))"
   ]
  },
  {
   "cell_type": "code",
   "execution_count": 17,
   "metadata": {},
   "outputs": [
    {
     "data": {
      "text/markdown": [
       "* [[1](https://www.reddit.com/r/legaladvice/comments/ghny7f/what_are_my_unemployment_options_texas/)] - Individual's concerns about COVID-19 safety at a vacation rental company (Texas).\n",
       "* [[2](https://www.reddit.com/r/legaladvice/comments/gkgbbc/workplace_refuses_to_follow_social_distancingmi/)] - Workers' safety concerns and unemployment eligibility in a restaurant environment.\n",
       "* [[3](https://www.reddit.com/r/legaladvice/comments/go79i4/tx_employer_let_me_work_from_the_office_for_the/)] - Immunocompromised employee's concerns about returning to on-site work (Texas)."
      ],
      "text/plain": [
       "<IPython.core.display.Markdown object>"
      ]
     },
     "metadata": {},
     "output_type": "display_data"
    }
   ],
   "source": [
    "display(Markdown(str(response_model.get_formatted_citations)))"
   ]
  },
  {
   "cell_type": "code",
   "execution_count": 29,
   "metadata": {},
   "outputs": [
    {
     "data": {
      "text/markdown": [
       "[3](https://www.reddit.com/r/legaladvice/comments/gnrqby/if_i_have_a_medical_marijuana_card_can_i_be_fired/) - Medical Marijuana and Workplace Drug Testing Policies in Pennsylvania, Reddit Legal Advice."
      ],
      "text/plain": [
       "<IPython.core.display.Markdown object>"
      ]
     },
     "execution_count": 29,
     "metadata": {},
     "output_type": "execute_result"
    }
   ],
   "source": [
    "Markdown(response_model.context_citations[1].get_markdown_citation)"
   ]
  },
  {
   "cell_type": "code",
   "execution_count": 49,
   "metadata": {},
   "outputs": [],
   "source": [
    "\n",
    "def clean_string(string):\n",
    "    # Remove spaces and special characters using regex\n",
    "    string = re.sub(\"[^A-Za-z0-9]+\", \"\", string)\n",
    "    # Convert the string to lowercase\n",
    "    string = string.lower()\n",
    "    return string\n",
    "\n",
    "def generate_citation_strings(\n",
    "    citation_numbers: List[str],\n",
    "    df: pd.DataFrame,\n",
    "    location_column: str,\n",
    "    date_column: str,\n",
    ") -> List[str]:\n",
    "    result = []\n",
    "    for citation in citation_numbers:\n",
    "        i = int(citation) - 1  # convert string to int and adjust for 0-indexing\n",
    "        title = df.iloc[i][\"llm_title\"]\n",
    "        claim_number = df.iloc[i][\"id\"]\n",
    "\n",
    "        claim_number_clean = clean_string(str(claim_number))\n",
    "        link = f\"={claim_number_clean}\"\n",
    "        claim_number_formatted = f\"[{claim_number}]({link})\"\n",
    "\n",
    "        venue = str(df.iloc[i][location_column])\n",
    "        date = \"2022 Jan\"\n",
    "        result.append(\n",
    "            f\"**{[i+1]}** *{title}* - {venue}, {date}, Claim Number: {claim_number_formatted}\\n\\n\"\n",
    "        )\n",
    "    return result"
   ]
  },
  {
   "cell_type": "code",
   "execution_count": 50,
   "metadata": {},
   "outputs": [],
   "source": [
    "from src.agent.tools.utils import extract_citation_numbers_in_brackets\n",
    "\n",
    "\n",
    "cites = extract_citation_numbers_in_brackets(\n",
    "    response_model.research_report\n",
    ")\n",
    "\n",
    "cite_strings = generate_citation_strings(\n",
    "    citation_numbers=cites,\n",
    "    df=prep_df,\n",
    "    location_column='state',\n",
    "    date_column='date'\n",
    ")"
   ]
  },
  {
   "cell_type": "code",
   "execution_count": 51,
   "metadata": {},
   "outputs": [
    {
     "data": {
      "text/plain": [
       "['14', '15', '1']"
      ]
     },
     "execution_count": 51,
     "metadata": {},
     "output_type": "execute_result"
    }
   ],
   "source": [
    "cites"
   ]
  },
  {
   "cell_type": "code",
   "execution_count": 52,
   "metadata": {},
   "outputs": [
    {
     "data": {
      "text/markdown": [
       "**[1]** *\"Legal implications of company drug policies and medical marijuana cards in Arizona\"* - PA, 2022 Jan, Claim Number: [e8y7gr](=e8y7gr)\n",
       "\n"
      ],
      "text/plain": [
       "<IPython.core.display.Markdown object>"
      ]
     },
     "execution_count": 52,
     "metadata": {},
     "output_type": "execute_result"
    }
   ],
   "source": [
    "Markdown(cite_strings[2])"
   ]
  },
  {
   "cell_type": "code",
   "execution_count": null,
   "metadata": {},
   "outputs": [],
   "source": []
  },
  {
   "cell_type": "code",
   "execution_count": 12,
   "metadata": {},
   "outputs": [],
   "source": [
    "fuzzy_test = find_fuzzy_matches_in_df(\n",
    "    query='marijuana',\n",
    "    df=df,\n",
    "    k=10,\n",
    "    text_column='body',\n",
    "    words_after=5,\n",
    "    words_before=5,\n",
    ")"
   ]
  },
  {
   "cell_type": "code",
   "execution_count": 13,
   "metadata": {},
   "outputs": [
    {
     "data": {
      "text/plain": [
       "['father conceal loads of drugs, marijuana and some black looking drug,',\n",
       " 'years for a possession of marijuana charge. I’ve violated a couple',\n",
       " 'damaged property, and constantly had marijuana in her possession on the',\n",
       " 'tolerance for the use of marijuana regardless of local laws. I',\n",
       " 'the roommates getting arrested for marijuana charges on the property and',\n",
       " \"state recreational use of Marijuana is legal and I'm unsure if\",\n",
       " 'I know it’s is only marijuana, but in very large amounts.',\n",
       " 'small amount of dabs or marijuana concentrate with me. Me and',\n",
       " 'to deal with. He smokes marijuana and either he smokes so',\n",
       " 'was volunteering at a medicinal marijuana collective to help out a']"
      ]
     },
     "execution_count": 13,
     "metadata": {},
     "output_type": "execute_result"
    }
   ],
   "source": [
    "fuzzy_test['context'].tolist()"
   ]
  },
  {
   "cell_type": "code",
   "execution_count": 14,
   "metadata": {},
   "outputs": [],
   "source": [
    "from src.search.query_expansion import segment_search_query\n",
    "\n",
    "queries = segment_search_query(\n",
    "    test_query,\n",
    ")"
   ]
  },
  {
   "cell_type": "code",
   "execution_count": 15,
   "metadata": {},
   "outputs": [
    {
     "data": {
      "text/plain": [
       "[SubQuestion(chain_of_thought=\"To understand if an employer's actions constitute illegal discrimination, we need to explore the legal protections for medical marijuana patients in the workplace. This involves examining federal and state laws regarding medical marijuana use and employment discrimination.\", sub_question_topic='Legal Protections for Medical Marijuana Patients', sub_question_query='What legal protections exist for medical marijuana patients in the workplace?', sub_question_keywords=['medical marijuana', 'workplace', 'legal protections']),\n",
       " SubQuestion(chain_of_thought=\"Since federal law, including the Controlled Substances Act, may conflict with state laws that legalize medical marijuana, it's important to understand how these conflicting laws impact employment rights.\", sub_question_topic='Federal vs. State Law on Medical Marijuana', sub_question_query='How do federal and state laws regarding medical marijuana use conflict, and what impact does this have on employment rights?', sub_question_keywords=['Controlled Substances Act', 'federal law', 'state law', 'employment rights']),\n",
       " SubQuestion(chain_of_thought=\"To determine if discrimination has occurred, it's crucial to understand what constitutes discrimination under the law, especially in the context of medical marijuana use.\", sub_question_topic='Definition of Discrimination in Employment', sub_question_query='What constitutes discrimination in employment, especially regarding medical marijuana patients?', sub_question_keywords=['discrimination', 'employment law', 'medical marijuana']),\n",
       " SubQuestion(chain_of_thought=\"Some states have specific laws or court rulings that address the rights of medical marijuana patients in the workplace, which could directly impact the legality of the employer's actions.\", sub_question_topic='State-Specific Laws and Court Rulings', sub_question_query='What are the state-specific laws and court rulings regarding the rights of medical marijuana patients in the workplace?', sub_question_keywords=['state laws', 'court rulings', 'medical marijuana', 'workplace rights'])]"
      ]
     },
     "execution_count": 15,
     "metadata": {},
     "output_type": "execute_result"
    }
   ],
   "source": [
    "queries.searches"
   ]
  },
  {
   "cell_type": "code",
   "execution_count": 17,
   "metadata": {},
   "outputs": [
    {
     "name": "stderr",
     "output_type": "stream",
     "text": [
      "2024-04-17 19:15:23 - INFO - Using pre-computed 'title' embeddings from existing column: splade_embeddings\n"
     ]
    }
   ],
   "source": [
    "from src.agent.tools.semantic_search import SemanticSearch\n",
    "from src.agent.tools.splade_search import SPLADESparseSearch\n",
    "from src.search.query_expansion import segment_search_query\n",
    "\n",
    "semantic_search = SemanticSearch(\n",
    "    df=df,\n",
    "    embedding_column='embeddings'\n",
    ")\n",
    "\n",
    "splade_search = SPLADESparseSearch(\n",
    "    df=df,\n",
    "    text_column='title',\n",
    "    embedding_column='splade_embeddings'\n",
    ")"
   ]
  },
  {
   "cell_type": "code",
   "execution_count": 18,
   "metadata": {},
   "outputs": [
    {
     "name": "stderr",
     "output_type": "stream",
     "text": [
      "2024-04-17 19:15:30 - INFO - \n",
      "\n",
      "Thought: To understand if an employer's actions constitute illegal discrimination, we need to explore the\n",
      "legal protections for medical marijuana patients in the workplace. This involves examining federal\n",
      "and state laws regarding medical marijuana use and employment discrimination.\n",
      "Search topic: Legal Protections for Medical Marijuana Patients\n",
      "2024-04-17 19:15:30 - INFO - Running vector (OpenAI) search: What legal protections exist for medical marijuana patients in the workplace?\n"
     ]
    },
    {
     "ename": "TypeError",
     "evalue": "SemanticSearch.query_similar_documents() got an unexpected keyword argument 'top_n'",
     "output_type": "error",
     "traceback": [
      "\u001b[1;31m---------------------------------------------------------------------------\u001b[0m",
      "\u001b[1;31mTypeError\u001b[0m                                 Traceback (most recent call last)",
      "Cell \u001b[1;32mIn[18], line 1\u001b[0m\n\u001b[1;32m----> 1\u001b[0m vector_results, keyword_results \u001b[38;5;241m=\u001b[39m \u001b[43mqueries\u001b[49m\u001b[38;5;241;43m.\u001b[39;49m\u001b[43mexecute\u001b[49m\u001b[43m(\u001b[49m\u001b[43msemantic_search\u001b[49m\u001b[43m,\u001b[49m\u001b[43m \u001b[49m\u001b[43msplade_search\u001b[49m\u001b[43m)\u001b[49m\n",
      "File \u001b[1;32mc:\\Users\\pdoub\\opinionated-rag\\src\\search\\query_expansion.py:220\u001b[0m, in \u001b[0;36mMultiSearch.execute\u001b[1;34m(self, semantic_search, splade_search)\u001b[0m\n\u001b[0;32m    218\u001b[0m splade_results \u001b[38;5;241m=\u001b[39m []\n\u001b[0;32m    219\u001b[0m \u001b[38;5;28;01mfor\u001b[39;00m search \u001b[38;5;129;01min\u001b[39;00m \u001b[38;5;28mself\u001b[39m\u001b[38;5;241m.\u001b[39msearches:\n\u001b[1;32m--> 220\u001b[0m     vector_res, splade_res \u001b[38;5;241m=\u001b[39m \u001b[43msearch\u001b[49m\u001b[38;5;241;43m.\u001b[39;49m\u001b[43mexecute\u001b[49m\u001b[43m(\u001b[49m\u001b[43msemantic_search\u001b[49m\u001b[43m,\u001b[49m\u001b[43m \u001b[49m\u001b[43msplade_search\u001b[49m\u001b[43m)\u001b[49m\n\u001b[0;32m    221\u001b[0m     vector_results\u001b[38;5;241m.\u001b[39mappend(vector_res)\n\u001b[0;32m    222\u001b[0m     splade_results\u001b[38;5;241m.\u001b[39mappend(splade_res)\n",
      "File \u001b[1;32mc:\\Users\\pdoub\\opinionated-rag\\src\\search\\query_expansion.py:173\u001b[0m, in \u001b[0;36mSubQuestion.execute\u001b[1;34m(self, semantic_search, splade_search)\u001b[0m\n\u001b[0;32m    169\u001b[0m logger\u001b[38;5;241m.\u001b[39minfo(\n\u001b[0;32m    170\u001b[0m     \u001b[38;5;124mf\u001b[39m\u001b[38;5;124m\"\u001b[39m\u001b[38;5;130;01m\\n\u001b[39;00m\u001b[38;5;130;01m\\n\u001b[39;00m\u001b[38;5;124mThought: \u001b[39m\u001b[38;5;132;01m{\u001b[39;00mwrapped_thought\u001b[38;5;132;01m}\u001b[39;00m\u001b[38;5;130;01m\\n\u001b[39;00m\u001b[38;5;124mSearch topic: \u001b[39m\u001b[38;5;132;01m{\u001b[39;00m\u001b[38;5;28mself\u001b[39m\u001b[38;5;241m.\u001b[39msub_question_topic\u001b[38;5;132;01m}\u001b[39;00m\u001b[38;5;124m\"\u001b[39m\n\u001b[0;32m    171\u001b[0m )\n\u001b[0;32m    172\u001b[0m logger\u001b[38;5;241m.\u001b[39minfo(\u001b[38;5;124mf\u001b[39m\u001b[38;5;124m\"\u001b[39m\u001b[38;5;124mRunning vector (OpenAI) search: \u001b[39m\u001b[38;5;132;01m{\u001b[39;00m\u001b[38;5;28mself\u001b[39m\u001b[38;5;241m.\u001b[39msub_question_query\u001b[38;5;132;01m}\u001b[39;00m\u001b[38;5;124m\"\u001b[39m)\n\u001b[1;32m--> 173\u001b[0m vector_results \u001b[38;5;241m=\u001b[39m \u001b[43msemantic_search\u001b[49m\u001b[38;5;241;43m.\u001b[39;49m\u001b[43mquery_similar_documents\u001b[49m\u001b[43m(\u001b[49m\n\u001b[0;32m    174\u001b[0m \u001b[43m    \u001b[49m\u001b[38;5;28;43mself\u001b[39;49m\u001b[38;5;241;43m.\u001b[39;49m\u001b[43msub_question_query\u001b[49m\u001b[43m,\u001b[49m\u001b[43m \u001b[49m\u001b[43mtop_n\u001b[49m\u001b[38;5;241;43m=\u001b[39;49m\u001b[38;5;241;43m10\u001b[39;49m\n\u001b[0;32m    175\u001b[0m \u001b[43m\u001b[49m\u001b[43m)\u001b[49m\n\u001b[0;32m    177\u001b[0m \u001b[38;5;66;03m# Initialize an empty DataFrame for SPLADE results\u001b[39;00m\n\u001b[0;32m    178\u001b[0m splade_results \u001b[38;5;241m=\u001b[39m pd\u001b[38;5;241m.\u001b[39mDataFrame()\n",
      "\u001b[1;31mTypeError\u001b[0m: SemanticSearch.query_similar_documents() got an unexpected keyword argument 'top_n'"
     ]
    }
   ],
   "source": [
    "vector_results, keyword_results = queries.execute(semantic_search, splade_search)"
   ]
  },
  {
   "cell_type": "code",
   "execution_count": 33,
   "metadata": {},
   "outputs": [
    {
     "name": "stderr",
     "output_type": "stream",
     "text": [
      "Processing summaries:   0%|          | 0/27 [00:00<?, ?it/s]"
     ]
    },
    {
     "name": "stderr",
     "output_type": "stream",
     "text": [
      "Processing summaries: 100%|██████████| 27/27 [00:07<00:00,  3.79it/s]\n"
     ]
    }
   ],
   "source": [
    "from src.agent.tools.utils import aget_fact_patterns_df\n",
    "import nest_asyncio\n",
    "nest_asyncio.apply()\n",
    "\n",
    "prep_df = await aget_fact_patterns_df(hybrid_results, 'body', \"id\")"
   ]
  },
  {
   "cell_type": "code",
   "execution_count": 34,
   "metadata": {},
   "outputs": [
    {
     "data": {
      "text/html": [
       "<div>\n",
       "<style scoped>\n",
       "    .dataframe tbody tr th:only-of-type {\n",
       "        vertical-align: middle;\n",
       "    }\n",
       "\n",
       "    .dataframe tbody tr th {\n",
       "        vertical-align: top;\n",
       "    }\n",
       "\n",
       "    .dataframe thead th {\n",
       "        text-align: right;\n",
       "    }\n",
       "</style>\n",
       "<table border=\"1\" class=\"dataframe\">\n",
       "  <thead>\n",
       "    <tr style=\"text-align: right;\">\n",
       "      <th></th>\n",
       "      <th>index</th>\n",
       "      <th>created_utc</th>\n",
       "      <th>full_link</th>\n",
       "      <th>id</th>\n",
       "      <th>body</th>\n",
       "      <th>title</th>\n",
       "      <th>text_label</th>\n",
       "      <th>flair_label</th>\n",
       "      <th>token_count</th>\n",
       "      <th>llm_title</th>\n",
       "      <th>state</th>\n",
       "      <th>kmeans_label</th>\n",
       "      <th>topic_title</th>\n",
       "      <th>clean_text</th>\n",
       "      <th>search_type</th>\n",
       "      <th>_relevance_score</th>\n",
       "      <th>summary</th>\n",
       "    </tr>\n",
       "  </thead>\n",
       "  <tbody>\n",
       "    <tr>\n",
       "      <th>0</th>\n",
       "      <td>8075</td>\n",
       "      <td>1590524169</td>\n",
       "      <td>https://www.reddit.com/r/legaladvice/comments/...</td>\n",
       "      <td>36598d2ca979f02397b530a5c36d7a2a</td>\n",
       "      <td>I'm a New York State medical marijuana patient...</td>\n",
       "      <td>Is it legal in New York to discriminate agains...</td>\n",
       "      <td>employment</td>\n",
       "      <td>5</td>\n",
       "      <td>114</td>\n",
       "      <td>\"Can a hospital refuse to hire a medical marij...</td>\n",
       "      <td>MI</td>\n",
       "      <td>8</td>\n",
       "      <td>Employment Legal Concerns and Issues</td>\n",
       "      <td>new york state medical marijuana patient also ...</td>\n",
       "      <td>splade</td>\n",
       "      <td>0.821348</td>\n",
       "      <td>A New York State medical marijuana patient, wh...</td>\n",
       "    </tr>\n",
       "    <tr>\n",
       "      <th>1</th>\n",
       "      <td>7331</td>\n",
       "      <td>1576018396</td>\n",
       "      <td>https://www.reddit.com/r/legaladvice/comments/...</td>\n",
       "      <td>b20c68f342dceb310b1c8190753aa3af</td>\n",
       "      <td>Hello,\\n\\nI was considering getting a medical ...</td>\n",
       "      <td>Considering getting a medical marijuana card- ...</td>\n",
       "      <td>employment</td>\n",
       "      <td>5</td>\n",
       "      <td>276</td>\n",
       "      <td>\"Legal implications of company drug policies a...</td>\n",
       "      <td>PA</td>\n",
       "      <td>8</td>\n",
       "      <td>Employment Legal Concerns and Issues</td>\n",
       "      <td>hello considering getting medical marijuana ca...</td>\n",
       "      <td>vector</td>\n",
       "      <td>0.669316</td>\n",
       "      <td>An individual considering obtaining a medical ...</td>\n",
       "    </tr>\n",
       "  </tbody>\n",
       "</table>\n",
       "</div>"
      ],
      "text/plain": [
       "   index  created_utc                                          full_link  \\\n",
       "0   8075   1590524169  https://www.reddit.com/r/legaladvice/comments/...   \n",
       "1   7331   1576018396  https://www.reddit.com/r/legaladvice/comments/...   \n",
       "\n",
       "                                 id  \\\n",
       "0  36598d2ca979f02397b530a5c36d7a2a   \n",
       "1  b20c68f342dceb310b1c8190753aa3af   \n",
       "\n",
       "                                                body  \\\n",
       "0  I'm a New York State medical marijuana patient...   \n",
       "1  Hello,\\n\\nI was considering getting a medical ...   \n",
       "\n",
       "                                               title  text_label  flair_label  \\\n",
       "0  Is it legal in New York to discriminate agains...  employment            5   \n",
       "1  Considering getting a medical marijuana card- ...  employment            5   \n",
       "\n",
       "   token_count                                          llm_title state  \\\n",
       "0          114  \"Can a hospital refuse to hire a medical marij...    MI   \n",
       "1          276  \"Legal implications of company drug policies a...    PA   \n",
       "\n",
       "   kmeans_label                           topic_title  \\\n",
       "0             8  Employment Legal Concerns and Issues   \n",
       "1             8  Employment Legal Concerns and Issues   \n",
       "\n",
       "                                          clean_text search_type  \\\n",
       "0  new york state medical marijuana patient also ...      splade   \n",
       "1  hello considering getting medical marijuana ca...      vector   \n",
       "\n",
       "   _relevance_score                                            summary  \n",
       "0          0.821348  A New York State medical marijuana patient, wh...  \n",
       "1          0.669316  An individual considering obtaining a medical ...  "
      ]
     },
     "execution_count": 34,
     "metadata": {},
     "output_type": "execute_result"
    }
   ],
   "source": [
    "prep_df.head(2)"
   ]
  },
  {
   "cell_type": "code",
   "execution_count": 35,
   "metadata": {},
   "outputs": [],
   "source": [
    "from src.agent.tools.utils import create_formatted_input, get_final_answer\n",
    "\n",
    "formatted_input = create_formatted_input(\n",
    "    prep_df, test_query, context_token_limit=8000\n",
    "    )\n",
    "\n",
    "response_model = get_final_answer(formatted_input, model_name=\"gpt-4-turbo-preview\")"
   ]
  },
  {
   "cell_type": "code",
   "execution_count": 36,
   "metadata": {},
   "outputs": [
    {
     "data": {
      "text/markdown": [
       "The query raises the issue of employment-related discrimination based on an individual's status as a medical marijuana patient. This concern intersects with several laws and regulations, including but not limited to, employment discrimination laws, medical marijuana laws at the state level, and policies regarding drug testing in the workplace. \n",
       "\n",
       "The most directly relevant case is the first search result. This individual was offered a job in New York, which was later rescinded upon disclosure of their medical marijuana patient status during a pre-employment physical. They reached out to the division of human rights at the labor department for guidance, indicating a potential legal issue surrounding employment discrimination based on medical marijuana use [[1](https://www.reddit.com/r/legaladvice/comments/gr4q8s/is_it_legal_in_new_york_to_discriminate_against/)].\n",
       "\n",
       "Another pertinent case comes from Arizona, where an individual debated the ramifications of obtaining a medical marijuana card on their employment due to their company's zero-tolerance drug policy [[2](https://www.reddit.com/r/legaladvice/comments/e8y7gr/considering_getting_a_medical_marijuana_card/)]. This scenario mirrors the query by highlighting the tension between state-legalized medical marijuana and employer drug policies. \n",
       "\n",
       "The situation described in Pennsylvania also sheds light on this issue. The individual, a medical marijuana cardholder, expressed concerns about drug testing during the hiring process and potential repercussions upon failing the test due to their legitimate medical use of marijuana [[4](https://www.reddit.com/r/legaladvice/comments/gnrqby/if_i_have_a_medical_marijuana_card_can_i_be_fired/)].\n",
       "\n",
       "Finally, the scenario in New Jersey presents a scenario where prescribed medication (though not specifically marijuana) constituted grounds for a job offer being rescinded, which parallels concerns about discrimination based on medical treatments or prescriptions [[6](https://www.reddit.com/r/legaladvice/comments/gnpjof/nj_i_was_denied_a_job_due_to_being_prescribed/)].\n",
       "\n",
       "These cases collectively illustrate the complexity of navigating employment and medical marijuana use. They suggest a delicate balance between complying with state laws that permit medical marijuana and adhering to employer drug policies that may not differentiate between recreational and medical use. The legal landscape around this issue appears to be evolving, and the specifics may vary significantly depending on jurisdiction, making it imperative to consider local laws and regulations alongside federal standards when assessing legality."
      ],
      "text/plain": [
       "<IPython.core.display.Markdown object>"
      ]
     },
     "execution_count": 36,
     "metadata": {},
     "output_type": "execute_result"
    }
   ],
   "source": [
    "Markdown(response_model.research_report)"
   ]
  },
  {
   "cell_type": "code",
   "execution_count": null,
   "metadata": {},
   "outputs": [
    {
     "ename": "AssertionError",
     "evalue": "",
     "output_type": "error",
     "traceback": [
      "\u001b[1;31m---------------------------------------------------------------------------\u001b[0m",
      "\u001b[1;31mAssertionError\u001b[0m                            Traceback (most recent call last)",
      "Cell \u001b[1;32mIn[29], line 1\u001b[0m\n\u001b[1;32m----> 1\u001b[0m \u001b[38;5;28;01massert\u001b[39;00m \u001b[38;5;241m1\u001b[39m \u001b[38;5;241m+\u001b[39m \u001b[38;5;241m1\u001b[39m \u001b[38;5;241m==\u001b[39m \u001b[38;5;241m3\u001b[39m\n",
      "\u001b[1;31mAssertionError\u001b[0m: "
     ]
    }
   ],
   "source": [
    "assert 1 + 1 == 3"
   ]
  },
  {
   "cell_type": "code",
   "execution_count": null,
   "metadata": {},
   "outputs": [
    {
     "data": {
      "text/plain": [
       "['Should I just pay the rent and wait for my refund?',\n",
       " 'If the post office shows that my original money order was cashed, am I out that money?',\n",
       " 'What can I do about a landlord who is slow to make repairs?',\n",
       " 'Is it legal for my landlord to enter my apartment without permission?',\n",
       " 'Can a landlord raise rent in response to making repairs?',\n",
       " 'How do I handle disruptive neighbors?',\n",
       " 'What should I do if I suspect my landlord of stealing from me?',\n",
       " 'What are my rights as a tenant in Missouri?',\n",
       " 'Is it legal to use pliers to turn on water in lieu of a broken knob?',\n",
       " \"What actions can I take if I've been treated unfairly by my landlord?\"]"
      ]
     },
     "execution_count": 34,
     "metadata": {},
     "output_type": "execute_result"
    }
   ],
   "source": [
    "from src.search.query_expansion import generate_subquestions\n",
    "\n",
    "questions = generate_subquestions(test_query, n='any number of')\n",
    "questions.questions"
   ]
  },
  {
   "cell_type": "code",
   "execution_count": null,
   "metadata": {},
   "outputs": [
    {
     "data": {
      "text/plain": [
       "CompletionUsage(completion_tokens=147, prompt_tokens=1130, total_tokens=1277)"
      ]
     },
     "execution_count": 35,
     "metadata": {},
     "output_type": "execute_result"
    }
   ],
   "source": [
    "questions._raw_response.usage"
   ]
  },
  {
   "cell_type": "code",
   "execution_count": null,
   "metadata": {},
   "outputs": [],
   "source": [
    "from src.search.query_filter import generate_query_plan, auto_filter_fts_search"
   ]
  },
  {
   "cell_type": "code",
   "execution_count": null,
   "metadata": {},
   "outputs": [
    {
     "name": "stderr",
     "output_type": "stream",
     "text": [
      "\u001b[32m2024-03-19 21:42:45 - INFO - Schema shown to LLM: \n",
      "Name of each field, its type and unique values (up to 20):\n",
      "* state (string);  Values - ['NM' 'IN' 'WY' 'NH' 'MP' 'PA' 'MH' 'ID' 'AR' 'MA' 'KS' 'AS' 'ND' 'PR'\n",
      " 'DE' 'FL' 'LA' 'OR' 'VT' 'PW'], ... 39 more\n",
      "        \u001b[0m\n"
     ]
    },
    {
     "name": "stderr",
     "output_type": "stream",
     "text": [
      "\u001b[32m2024-03-19 21:42:55 - INFO - Input DataFrame has 5,000 rows\u001b[0m\n",
      "\u001b[32m2024-03-19 21:42:55 - INFO - Applying filter(s): state LIKE '%OR%'\u001b[0m\n",
      "\u001b[32m2024-03-19 21:43:03 - INFO - Filtered DataFrame has 86 rows\u001b[0m\n"
     ]
    }
   ],
   "source": [
    "query_plan = generate_query_plan(\n",
    "    input_df=df,\n",
    "    query=test_query,\n",
    "    filter_fields=[\n",
    "        'state',\n",
    "    ]\n",
    ")\n",
    "filtered_df = query_plan.filter_df(df=df)"
   ]
  },
  {
   "cell_type": "code",
   "execution_count": null,
   "metadata": {},
   "outputs": [
    {
     "data": {
      "text/html": [
       "<div>\n",
       "<style scoped>\n",
       "    .dataframe tbody tr th:only-of-type {\n",
       "        vertical-align: middle;\n",
       "    }\n",
       "\n",
       "    .dataframe tbody tr th {\n",
       "        vertical-align: top;\n",
       "    }\n",
       "\n",
       "    .dataframe thead th {\n",
       "        text-align: right;\n",
       "    }\n",
       "</style>\n",
       "<table border=\"1\" class=\"dataframe\">\n",
       "  <thead>\n",
       "    <tr style=\"text-align: right;\">\n",
       "      <th></th>\n",
       "      <th>index</th>\n",
       "      <th>created_utc</th>\n",
       "      <th>full_link</th>\n",
       "      <th>id</th>\n",
       "      <th>body</th>\n",
       "      <th>title</th>\n",
       "      <th>text_label</th>\n",
       "      <th>flair_label</th>\n",
       "      <th>embeddings</th>\n",
       "      <th>token_count</th>\n",
       "      <th>llm_title</th>\n",
       "      <th>state</th>\n",
       "      <th>kmeans_label</th>\n",
       "      <th>topic_title</th>\n",
       "      <th>splade_embeddings</th>\n",
       "    </tr>\n",
       "  </thead>\n",
       "  <tbody>\n",
       "    <tr>\n",
       "      <th>0</th>\n",
       "      <td>2029</td>\n",
       "      <td>1578267399</td>\n",
       "      <td>https://www.reddit.com/r/legaladvice/comments/...</td>\n",
       "      <td>ekl2ef</td>\n",
       "      <td>For context I live in the Philippines. I wont ...</td>\n",
       "      <td>My professor refuses to show us ALL of our tes...</td>\n",
       "      <td>school</td>\n",
       "      <td>9</td>\n",
       "      <td>[-0.00954271624451715, 0.007157037183387862, 0...</td>\n",
       "      <td>953</td>\n",
       "      <td>\"Unrevealed Grades and Lack of Transparency: S...</td>\n",
       "      <td>OR</td>\n",
       "      <td>9</td>\n",
       "      <td>Legal Consequences of False Accusations</td>\n",
       "      <td>[0.0, 0.0, 0.0, 0.0, 0.0, 0.0, 0.0, 0.0, 0.0, ...</td>\n",
       "    </tr>\n",
       "    <tr>\n",
       "      <th>1</th>\n",
       "      <td>3320</td>\n",
       "      <td>1591126549</td>\n",
       "      <td>https://www.reddit.com/r/legaladvice/comments/...</td>\n",
       "      <td>gve3nq</td>\n",
       "      <td>Edit: I live in Washington state.\\n\\nSo I live...</td>\n",
       "      <td>My landlord has been harassing me about my pet...</td>\n",
       "      <td>housing</td>\n",
       "      <td>7</td>\n",
       "      <td>[-0.0034782202413053045, 0.00616729225832095, ...</td>\n",
       "      <td>759</td>\n",
       "      <td>\"Legal dispute over pet snake: Landlord threat...</td>\n",
       "      <td>OR</td>\n",
       "      <td>3</td>\n",
       "      <td>Rental Property and Landlord Matters</td>\n",
       "      <td>[0.0, 0.0, 0.0, 0.0, 0.0, 0.0, 0.0, 0.0, 0.0, ...</td>\n",
       "    </tr>\n",
       "  </tbody>\n",
       "</table>\n",
       "</div>"
      ],
      "text/plain": [
       "   index  created_utc                                          full_link  \\\n",
       "0   2029   1578267399  https://www.reddit.com/r/legaladvice/comments/...   \n",
       "1   3320   1591126549  https://www.reddit.com/r/legaladvice/comments/...   \n",
       "\n",
       "       id                                               body  \\\n",
       "0  ekl2ef  For context I live in the Philippines. I wont ...   \n",
       "1  gve3nq  Edit: I live in Washington state.\\n\\nSo I live...   \n",
       "\n",
       "                                               title text_label  flair_label  \\\n",
       "0  My professor refuses to show us ALL of our tes...     school            9   \n",
       "1  My landlord has been harassing me about my pet...    housing            7   \n",
       "\n",
       "                                          embeddings  token_count  \\\n",
       "0  [-0.00954271624451715, 0.007157037183387862, 0...          953   \n",
       "1  [-0.0034782202413053045, 0.00616729225832095, ...          759   \n",
       "\n",
       "                                           llm_title state  kmeans_label  \\\n",
       "0  \"Unrevealed Grades and Lack of Transparency: S...    OR             9   \n",
       "1  \"Legal dispute over pet snake: Landlord threat...    OR             3   \n",
       "\n",
       "                               topic_title  \\\n",
       "0  Legal Consequences of False Accusations   \n",
       "1     Rental Property and Landlord Matters   \n",
       "\n",
       "                                   splade_embeddings  \n",
       "0  [0.0, 0.0, 0.0, 0.0, 0.0, 0.0, 0.0, 0.0, 0.0, ...  \n",
       "1  [0.0, 0.0, 0.0, 0.0, 0.0, 0.0, 0.0, 0.0, 0.0, ...  "
      ]
     },
     "execution_count": 15,
     "metadata": {},
     "output_type": "execute_result"
    }
   ],
   "source": [
    "filtered_df.head(2)"
   ]
  },
  {
   "cell_type": "code",
   "execution_count": null,
   "metadata": {},
   "outputs": [
    {
     "name": "stdout",
     "output_type": "stream",
     "text": [
      "Do I have any legal recourse here? I know Oregon is an 'at will' state, but it sounds like there are at LEAST two instances that offer grounds for wrongful termination (just based on my limited knowledge of the ADA, dept of labor, BOLI, etc.). \n",
      "legal recourse for wrongful termination in 'at will' employment including issues related to mistreatment, health code violations, improper handling of company money, and potential discrimination due to medical conditions\n"
     ]
    }
   ],
   "source": [
    "print(query_plan.original_query)\n",
    "print(query_plan.rephrased_query)"
   ]
  },
  {
   "cell_type": "code",
   "execution_count": null,
   "metadata": {},
   "outputs": [
    {
     "name": "stderr",
     "output_type": "stream",
     "text": [
      "\u001b[32m2024-03-19 21:44:19 - INFO - Schema shown to LLM: \n",
      "Name of each field, its type and unique values (up to 20):\n",
      "* state (string);  Values - ['NM' 'IN' 'WY' 'NH' 'MP' 'PA' 'MH' 'ID' 'AR' 'MA' 'KS' 'AS' 'ND' 'PR'\n",
      " 'DE' 'FL' 'LA' 'OR' 'VT' 'PW'], ... 39 more\n",
      "        \u001b[0m\n"
     ]
    },
    {
     "name": "stderr",
     "output_type": "stream",
     "text": [
      "\u001b[32m2024-03-19 21:44:22 - INFO - No filters were identified for query: marijuana\u001b[0m\n",
      "\u001b[32m2024-03-19 21:44:22 - INFO - Revised query: marijuana\u001b[0m\n",
      "\u001b[32m2024-03-19 21:44:23 - INFO - Full Text Search (FTS) search yielded a DataFrame with 20 rows\u001b[0m\n"
     ]
    }
   ],
   "source": [
    "test_res = auto_filter_fts_search(\n",
    "    df=df,\n",
    "    query='marijuana',\n",
    "    top_k=20,\n",
    "    text_column=\"body\",\n",
    "    embeddings_column=\"embeddings\",\n",
    "    filter_fields=[\n",
    "        'state',\n",
    "    ])"
   ]
  },
  {
   "cell_type": "code",
   "execution_count": null,
   "metadata": {},
   "outputs": [
    {
     "data": {
      "text/markdown": [
       "I'm a New York State medical marijuana patient. I also work in healthcare. I applied to a new job at a new hospital, and they are discriminating against me for being a medical marijuana patient. I was offered the job and accepted, but when I went to get my pre-employment physical conducted, I gave them my medical marijuana card and informed them that I am a patient. They are now refusing to hire me. Is this legal? I already contacted the division of human rights at the labor department and they said I may or may not have a case."
      ],
      "text/plain": [
       "<IPython.core.display.Markdown object>"
      ]
     },
     "execution_count": 14,
     "metadata": {},
     "output_type": "execute_result"
    }
   ],
   "source": [
    "Markdown(test_res['body'].tolist()[0])"
   ]
  }
 ],
 "metadata": {
  "kernelspec": {
   "display_name": ".venv",
   "language": "python",
   "name": "python3"
  },
  "language_info": {
   "codemirror_mode": {
    "name": "ipython",
    "version": 3
   },
   "file_extension": ".py",
   "mimetype": "text/x-python",
   "name": "python",
   "nbconvert_exporter": "python",
   "pygments_lexer": "ipython3",
   "version": "3.10.11"
  }
 },
 "nbformat": 4,
 "nbformat_minor": 2
}
