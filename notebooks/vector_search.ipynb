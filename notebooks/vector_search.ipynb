{
 "cells": [
  {
   "cell_type": "code",
   "execution_count": 1,
   "metadata": {},
   "outputs": [],
   "source": [
    "import os\n",
    "from dotenv import load_dotenv\n",
    "import pandas as pd\n",
    "import nest_asyncio\n",
    "\n",
    "from IPython.display import Markdown, display, HTML\n",
    "import warnings\n",
    "warnings.filterwarnings('ignore')\n",
    "pd.set_option('display.max_columns', None)\n",
    "load_dotenv()\n",
    "os.chdir(os.path.dirname(os.getcwd()))"
   ]
  },
  {
   "cell_type": "code",
   "execution_count": 2,
   "metadata": {},
   "outputs": [],
   "source": [
    "df = pd.read_parquet(\"./data/reddit_legal_cluster_test_results.parquet\")"
   ]
  },
  {
   "cell_type": "code",
   "execution_count": 3,
   "metadata": {},
   "outputs": [
    {
     "data": {
      "text/html": [
       "<div>\n",
       "<style scoped>\n",
       "    .dataframe tbody tr th:only-of-type {\n",
       "        vertical-align: middle;\n",
       "    }\n",
       "\n",
       "    .dataframe tbody tr th {\n",
       "        vertical-align: top;\n",
       "    }\n",
       "\n",
       "    .dataframe thead th {\n",
       "        text-align: right;\n",
       "    }\n",
       "</style>\n",
       "<table border=\"1\" class=\"dataframe\">\n",
       "  <thead>\n",
       "    <tr style=\"text-align: right;\">\n",
       "      <th></th>\n",
       "      <th>index</th>\n",
       "      <th>created_utc</th>\n",
       "      <th>full_link</th>\n",
       "      <th>id</th>\n",
       "      <th>body</th>\n",
       "      <th>title</th>\n",
       "      <th>text_label</th>\n",
       "      <th>flair_label</th>\n",
       "      <th>embeddings</th>\n",
       "      <th>token_count</th>\n",
       "      <th>llm_title</th>\n",
       "      <th>State</th>\n",
       "      <th>kmeans_label</th>\n",
       "      <th>topic_title</th>\n",
       "    </tr>\n",
       "  </thead>\n",
       "  <tbody>\n",
       "    <tr>\n",
       "      <th>1078</th>\n",
       "      <td>1078</td>\n",
       "      <td>1575952538</td>\n",
       "      <td>https://www.reddit.com/r/legaladvice/comments/...</td>\n",
       "      <td>e8lsen</td>\n",
       "      <td>I applied for a job and after two interviews I...</td>\n",
       "      <td>Failed a drug test due to amphetamines, I have...</td>\n",
       "      <td>employment</td>\n",
       "      <td>5</td>\n",
       "      <td>[9.475638042064453e-05, 0.0005111666301983955,...</td>\n",
       "      <td>493</td>\n",
       "      <td>\"Validity of Schedule II Drug Prescription in ...</td>\n",
       "      <td>PR</td>\n",
       "      <td>8</td>\n",
       "      <td>Employment Legal Concerns and Issues</td>\n",
       "    </tr>\n",
       "    <tr>\n",
       "      <th>2098</th>\n",
       "      <td>2098</td>\n",
       "      <td>1577442453</td>\n",
       "      <td>https://www.reddit.com/r/legaladvice/comments/...</td>\n",
       "      <td>eg9ll2</td>\n",
       "      <td>Hi everyone, thanks in advance for any guidanc...</td>\n",
       "      <td>Speeding ticket in Tennessee, Georgia Driver's...</td>\n",
       "      <td>driving</td>\n",
       "      <td>4</td>\n",
       "      <td>[-0.006706413111028856, 0.020911016696181495, ...</td>\n",
       "      <td>252</td>\n",
       "      <td>\"Speeding ticket consequences for out-of-state...</td>\n",
       "      <td>KY</td>\n",
       "      <td>10</td>\n",
       "      <td>Legal Topics in Traffic Violations</td>\n",
       "    </tr>\n",
       "  </tbody>\n",
       "</table>\n",
       "</div>"
      ],
      "text/plain": [
       "      index  created_utc                                          full_link  \\\n",
       "1078   1078   1575952538  https://www.reddit.com/r/legaladvice/comments/...   \n",
       "2098   2098   1577442453  https://www.reddit.com/r/legaladvice/comments/...   \n",
       "\n",
       "          id                                               body  \\\n",
       "1078  e8lsen  I applied for a job and after two interviews I...   \n",
       "2098  eg9ll2  Hi everyone, thanks in advance for any guidanc...   \n",
       "\n",
       "                                                  title  text_label  \\\n",
       "1078  Failed a drug test due to amphetamines, I have...  employment   \n",
       "2098  Speeding ticket in Tennessee, Georgia Driver's...     driving   \n",
       "\n",
       "      flair_label                                         embeddings  \\\n",
       "1078            5  [9.475638042064453e-05, 0.0005111666301983955,...   \n",
       "2098            4  [-0.006706413111028856, 0.020911016696181495, ...   \n",
       "\n",
       "      token_count                                          llm_title State  \\\n",
       "1078          493  \"Validity of Schedule II Drug Prescription in ...    PR   \n",
       "2098          252  \"Speeding ticket consequences for out-of-state...    KY   \n",
       "\n",
       "      kmeans_label                           topic_title  \n",
       "1078             8  Employment Legal Concerns and Issues  \n",
       "2098            10    Legal Topics in Traffic Violations  "
      ]
     },
     "execution_count": 3,
     "metadata": {},
     "output_type": "execute_result"
    }
   ],
   "source": [
    "df.head(2)"
   ]
  },
  {
   "cell_type": "code",
   "execution_count": 4,
   "metadata": {},
   "outputs": [],
   "source": [
    "from src.agent.tools.refactor_report import ResearchPastQuestions"
   ]
  },
  {
   "cell_type": "code",
   "execution_count": 5,
   "metadata": {},
   "outputs": [],
   "source": [
    "tool = ResearchPastQuestions(df=df, include_sources=False)"
   ]
  },
  {
   "cell_type": "code",
   "execution_count": 6,
   "metadata": {},
   "outputs": [
    {
     "name": "stdout",
     "output_type": "stream",
     "text": [
      "Performing vector search...\n"
     ]
    },
    {
     "name": "stderr",
     "output_type": "stream",
     "text": [
      "Processing summaries: 100%|██████████| 10/10 [00:25<00:00,  2.54s/it]\n"
     ]
    },
    {
     "name": "stdout",
     "output_type": "stream",
     "text": [
      "Reranking with ColBERTv2...\n",
      "Generating final response...\n",
      "\n",
      "Cases selected by LLM: ['4', '3', '6']\n",
      "\n"
     ]
    }
   ],
   "source": [
    "nest_asyncio.apply()\n",
    "\n",
    "query = \"I got fired from my job for smoking medical marijuana. Is that even legal?\"\n",
    "\n",
    "res, res_model = await tool.run(user_query=query)"
   ]
  },
  {
   "cell_type": "code",
   "execution_count": 7,
   "metadata": {},
   "outputs": [
    {
     "data": {
      "text/markdown": [
       "# New Referral\n",
       "\n",
       "I got fired from my job for smoking medical marijuana. Is that even legal?\n",
       "<h1 id=\"research-results\">Research Results</h1><p id=\"search-criteria\">Search Criteria: All States</p>\n",
       "\n",
       "_The following summary was generated by GPT..._<br>\n",
       "Your inquiry about the legality of being fired for smoking medical marijuana intersects with several of the provided search results, shedding light on aspects of your situation through comparison. The legality of such actions by employers often hinges on state law, company policy, and the specific circumstances of the medical marijuana use, such as whether it impacts work performance or violates a zero-tolerance drug policy.\n",
       "\n",
       "The closest comparison can be made with the case of an individual in Arizona questioning whether their company's zero tolerance drug policy, which dismisses state legalization of marijuana, could override state laws allowing medical marijuana. This case underscores the tension between state laws that legalize medical marijuana and employer policies that may not recognize these laws [[4](https://www.reddit.com/r/legaladvice/comments/e8y7gr/considering_getting_a_medical_marijuana_card/)]. In Arizona, where medical marijuana is legal, the individual's concern about the legality of an employer's actions against medical marijuana use, particularly in non-driving office positions, mirrors the broader concerns about employers' rights to enforce drug policies against state law.\n",
       "\n",
       "Another relevant case involves a medical marijuana patient in New York facing discrimination from a new hospital employer after disclosing their patient status during a pre-employment physical. This scenario illustrates the potential for discrimination based on medical marijuana use and the ambiguous legality of such actions by employers [[3](https://www.reddit.com/r/legaladvice/comments/gr4q8s/is_it_legal_in_new_york_to_discriminate_against/)].\n",
       "\n",
       "A Pennsylvania inquiry touches on concerns about failing a drug test for medical marijuana during the employment process, highlighting the legal and personal implications of drug testing for medical marijuana users in the workplace [[6](https://www.reddit.com/r/legaladvice/comments/gnrqby/if_i_have_a_medical_marijuana_card_can_i_be_fired/)]. This case, like yours, deals with the tension between medical necessity and workplace drug policies.\n",
       "\n",
       "In summary, your situation resonates with instances where the legality of firing an employee for medical marijuana use is questioned. These cases illustrate the complex interplay between state law, which may protect medical marijuana use, and employer policies that may enforce stricter drug use standards. The analyses suggest that the outcome can significantly depend on jurisdictional interpretations of rights, discrimination laws, and the specifics of employer policies.\n",
       "\n",
       "\n",
       "___\n",
       "\n",
       "<h2 id=\"sources\">Sources</h2>**[4]** <sup class=\"footnote-ref\" id=\"fnref-4\"><a href=\"#fn-4\">4</a></sup> *\"Legal implications of company drug policies and medical marijuana cards in Arizona\"* - PA, 2022 Jan, Claim Number: [e8y7gr](=e8y7gr)\n",
       "\n",
       "**[3]** <sup class=\"footnote-ref\" id=\"fnref-3\"><a href=\"#fn-3\">3</a></sup> *\"Can a hospital refuse to hire a medical marijuana patient based on their status?\"* - MI, 2022 Jan, Claim Number: [gr4q8s](=gr4q8s)\n",
       "\n",
       "**[6]** <sup class=\"footnote-ref\" id=\"fnref-6\"><a href=\"#fn-6\">6</a></sup> *\"Medical Marijuana and Employment: Can failing a drug test lead to termination or fines?\"* - DE, 2022 Jan, Claim Number: [gnrqby](=gnrqby)\n",
       "\n",
       "\n",
       "\n",
       "___\n",
       "\n",
       "<p class='sources-intro'>This report is derived from a search</p>"
      ],
      "text/plain": [
       "<IPython.core.display.Markdown object>"
      ]
     },
     "execution_count": 7,
     "metadata": {},
     "output_type": "execute_result"
    }
   ],
   "source": [
    "Markdown(res)"
   ]
  },
  {
   "cell_type": "code",
   "execution_count": null,
   "metadata": {},
   "outputs": [],
   "source": []
  },
  {
   "cell_type": "code",
   "execution_count": null,
   "metadata": {},
   "outputs": [],
   "source": []
  },
  {
   "cell_type": "code",
   "execution_count": null,
   "metadata": {},
   "outputs": [],
   "source": []
  }
 ],
 "metadata": {
  "kernelspec": {
   "display_name": ".venv",
   "language": "python",
   "name": "python3"
  },
  "language_info": {
   "codemirror_mode": {
    "name": "ipython",
    "version": 3
   },
   "file_extension": ".py",
   "mimetype": "text/x-python",
   "name": "python",
   "nbconvert_exporter": "python",
   "pygments_lexer": "ipython3",
   "version": "3.10.13"
  }
 },
 "nbformat": 4,
 "nbformat_minor": 2
}
