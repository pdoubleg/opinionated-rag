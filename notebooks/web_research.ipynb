{
 "cells": [
  {
   "cell_type": "markdown",
   "metadata": {},
   "source": [
    "# eBay Assistant v2 | Development Notebook"
   ]
  },
  {
   "cell_type": "code",
   "execution_count": 1,
   "metadata": {},
   "outputs": [],
   "source": [
    "import os\n",
    "import pandas as pd\n",
    "import numpy as np\n",
    "from dotenv import load_dotenv\n",
    "load_dotenv()\n",
    "import openai\n",
    "from IPython.display import Markdown, display, HTML, Image\n",
    "\n",
    "os.chdir(os.path.dirname(os.getcwd()))"
   ]
  },
  {
   "cell_type": "code",
   "execution_count": 2,
   "metadata": {},
   "outputs": [],
   "source": [
    "import requests\n",
    "from bs4 import BeautifulSoup\n",
    "from urllib.parse import unquote\n",
    "from readabilipy import simple_json_from_html_string\n",
    "from langchain.schema import Document"
   ]
  },
  {
   "cell_type": "code",
   "execution_count": 3,
   "metadata": {},
   "outputs": [],
   "source": [
    "from src.doc_store.ebay_scraper import eBayWebSearch, AverageSalePrice, eBayProduct"
   ]
  },
  {
   "cell_type": "markdown",
   "metadata": {},
   "source": [
    "* Test \"query\" based on an item description from the existing app"
   ]
  },
  {
   "cell_type": "code",
   "execution_count": 4,
   "metadata": {},
   "outputs": [],
   "source": [
    "query = 'Vintage Appleton Industrial Vented Light Fixture'"
   ]
  },
  {
   "cell_type": "markdown",
   "metadata": {},
   "source": [
    "* The `AverageSalePrice` function searches the eBay API for sold items matching a description\n",
    "* It excludes extreme outliers, then calculates average selling price (broken down by item cost & shipping) across all results\n",
    "* Filters can be adjusted as needed, and the actual items can be brought in as well"
   ]
  },
  {
   "cell_type": "code",
   "execution_count": 5,
   "metadata": {},
   "outputs": [
    {
     "name": "stdout",
     "output_type": "stream",
     "text": [
      "Item Description: Vintage Appleton Industrial Vented Light Fixture\n",
      "Average Price (based on 52 sold items):\n",
      "* Item: $43.95 ($2.886 to $150.0)\n",
      "* Shipping: $15.4 ($0.0 to $37.7)\n",
      "* Total: $59.35\n"
     ]
    }
   ],
   "source": [
    "averagePrice = AverageSalePrice(query=query, country='us', condition='all')\n",
    "print(averagePrice)"
   ]
  },
  {
   "cell_type": "markdown",
   "metadata": {},
   "source": [
    "* The `eBayWebSearch` function works the same as searching eBay via a browser\n",
    "* Given a query it returns a list of `eBayProduct` objects shown below\n",
    "* Results can be formatted and easily added to an OpenAI prompt\n",
    "* **Note:** Search results **contain links** to the primary image for the listing - GPT-4 with vision can **read images from links!**"
   ]
  },
  {
   "cell_type": "code",
   "execution_count": 6,
   "metadata": {},
   "outputs": [
    {
     "data": {
      "text/plain": [
       "74"
      ]
     },
     "execution_count": 6,
     "metadata": {},
     "output_type": "execute_result"
    }
   ],
   "source": [
    "search_res = eBayWebSearch(query)\n",
    "len(search_res)"
   ]
  },
  {
   "cell_type": "markdown",
   "metadata": {},
   "source": [
    "* Example of the `eBayProduct` search result"
   ]
  },
  {
   "cell_type": "code",
   "execution_count": 7,
   "metadata": {},
   "outputs": [
    {
     "data": {
      "text/plain": [
       "{'ebay_id': 386723431936,\n",
       " 'item': {'title': 'VTG Appleton A-51 Vented Explosion-Proof Industrial Light - Man Cave Garage Bar',\n",
       "  'link': Url('https://www.ebay.com/itm/386723431936?itmmeta=01HRV2NTDDDD0ZPA8N29HX1X1M&hash=item5a0a834600:g:9QwAAOSwpDlluDud&itmprp=enc%3AAQAJAAABAPHSNGyQoO8pN8WmNRMHCIlNDmpuUw3yIBE1EGfu6VylzD0sxM2rFFpzuAbB1qudD9ipViG8rb02Tf%2B5YuTSw59fy7hbFG1d049FkuglOBFTrLDp0q92EBU8lCS16CFpf34kqTsj5AAUsZqYc67KXbFTN0IgGy9hPo88fCzURhiRZNfX0Cj8v082pZ1y18HRQeyDKFXXPm0Ww2B3VLl9YvpH0e7eaYbN%2Fa3verv3A3ZHjyFliR90YGlb7ovRnjtVep4dQuITRgwAGedR8YKHAYEguCuDIYQywtHmPmubPqt3MGN0DnRCx0S6XOV6vLogZbL%2Bti0Eua4kaJqIaWXs1B8%3D%7Ctkp%3ABk9SR-im1-LGYw'),\n",
       "  'price': 39.99,\n",
       "  'image_url': Url('https://i.ebayimg.com/thumbs/images/g/9QwAAOSwpDlluDud/s-l300.jpg'),\n",
       "  'description': 'eBay\\nTransform your space with this vintage Appleton Electric A-51 Vented Explosion-Proof Industrial Light Fixture - a perfect addition to your man cave, industrial garage, or home bar decor!\\nCrafted by the reputable Appleton Electric Company, this fixture boasts a unique blend of industrial charm and safety features. The vented design ensures both functionality and a touch of nostalgia, making it an ideal choice for enthusiasts seeking authentic vintage decor.\\nKey Features:\\nManufacturer & Model: Appleton Electric Company, A-51 Series Vented.\\nMaterial: Durable metal body, likely aluminum, for corrosion resistance.\\nSafety Certification: UL and CSA certified, meeting safety standards for hazardous locations.\\nVoltage & Lamp Support: Supports up to 300 volts, compatible with various lamp types (up to 200 watts).\\nMounting Instructions: Clearly marked \"MOUNT VERTICAL\" for correct installation.\\nCondition: Displays signs of wear and age; the ribbed glass enclosure is intact. Please note, there is a slight gap in the top seal, and it may not be completely watertight.\\nElevate your space with industrial decor that tells a story. Whether it\\'s for your man cave, garage, or home bar, this Appleton A-51 Vented Light Fixture is a conversation starter.\\nPicture the warm glow adding character to your favorite hangout spot. Buy now and let the vintage industrial charm illuminate your unique style!'},\n",
       " 'condition': 'Pre-Owned',\n",
       " 'top_rated': False,\n",
       " 'reviews': None,\n",
       " 'watchers_or_sold': None,\n",
       " 'buy_now_extension': None,\n",
       " 'delivery': {'shipping': '+$14.45 shipping', 'location': None},\n",
       " 'bids': {'count': None, 'time_left': None}}"
      ]
     },
     "execution_count": 7,
     "metadata": {},
     "output_type": "execute_result"
    }
   ],
   "source": [
    "search_res[1].model_dump()"
   ]
  },
  {
   "cell_type": "markdown",
   "metadata": {},
   "source": [
    "* Example of formatted search results"
   ]
  },
  {
   "cell_type": "code",
   "execution_count": 8,
   "metadata": {},
   "outputs": [
    {
     "name": "stdout",
     "output_type": "stream",
     "text": [
      "Vintage Appleton Explosion Proof Vented Industrial Ceiling Light Lamp Fixture\n",
      "Pre-Owned\n",
      "$39.99\n",
      "+$35.10 shipping\n",
      "\n",
      "Item description from the seller:\n",
      "Vintage Appleton Explosion Proof Vented Industrial Ceiling Light Lamp Fixture\n",
      "Parts Only - Light is untested\n",
      "200W - 250V - Type EVA - Catalog AA 99\n",
      "Measures\n",
      "8\" in dia x\n",
      "16\n",
      "\" in height (not including threaded rod)\n",
      "all approx\n",
      "Fresh Barn Find the Aluminum housing has oxidation\n",
      "Glass Looks Good - Has a\n",
      "Porcelain\n",
      "socket\n",
      "Down Rod will be removed for shipping\n",
      "Please study all the photos\n",
      "Feel Free to ask any questions\n",
      "Check Back I found more unusual Light Fixtures in this Barn Including a few Holophane shades et\n",
      "\n",
      "eBay item number: 155896783352\n",
      "Listing URL: https://www.ebay.com/itm/155896783352?itmmeta=01HRV2NTDD38R6H0ZJ6VDYJRKH&hash=item244c2c21f8:g:PrUAAOSwK2xlR49E&itmprp=enc%3AAQAJAAABAPBpiT6k0BZqrDHIOt2szm1vMidunUYXcAsqs2slIben0GxIVVfLdtQF8vPE0HpIK%2BqdL%2BIJhw63uzy%2Fa9Td3%2FgOzoruMFjrmwD%2B2ZH2klDR3GWUT7%2FHP20osYftZt129ZeAWcy4MFLYsjGjdu2hheR1ZWsYbxxHP%2BU21UiItix1nKCR5rH4Dp7FXb%2FOE95U3H7ozgMoMExd%2Fwk1svEjDv5L62WZODkdGFLTvF9efWlEZtuu%2B0C%2BpVKqzsGyK3yAMdSxoki6iM%2BX%2FRDjXeh7R8az9pV6tTsnnobFhugODDGAPehDJ7Gqw0nr%2F0MvYiC2rKk0757LoQR553pbdoFrrOc%3D%7Ctkp%3ABk9SR-im1-LGYw\n",
      "Image URL: https://i.ebayimg.com/thumbs/images/g/PrUAAOSwK2xlR49E/s-l300.jpg\n",
      "--------------------------------------------------\n",
      "VTG Appleton A-51 Vented Explosion-Proof Industrial Light - Man Cave Garage Bar\n",
      "Pre-Owned\n",
      "$39.99\n",
      "+$14.45 shipping\n",
      "\n",
      "Item description from the seller:\n",
      "Transform your space with this vintage Appleton Electric A-51 Vented Explosion-Proof Industrial Light Fixture - a perfect addition to your man cave, industrial garage, or home bar decor!\n",
      "Crafted by the reputable Appleton Electric Company, this fixture boasts a unique blend of industrial charm and safety features. The vented design ensures both functionality and a touch of nostalgia, making it an ideal choice for enthusiasts seeking authentic vintage decor.\n",
      "Key Features:\n",
      "Manufacturer & Model: Appleton Electric Company, A-51 Series Vented.\n",
      "Material: Durable metal body, likely aluminum, for corrosion resistance.\n",
      "Safety Certification: UL and CSA certified, meeting safety standards for hazardous locations.\n",
      "Voltage & Lamp Support: Supports up to 300 volts, compatible with various lamp types (up to 200 watts).\n",
      "Mounting Instructions: Clearly marked \"MOUNT VERTICAL\" for correct installation.\n",
      "Condition: Displays signs of wear and age; the ribbed glass enclosure is intact. Please note, there is a slight gap in the top seal, and it may not be completely watertight.\n",
      "Elevate your space with industrial decor that tells a story. Whether it's for your man cave, garage, or home bar, this Appleton A-51 Vented Light Fixture is a conversation starter.\n",
      "Picture the warm glow adding character to your favorite hangout spot. Buy now and let the vintage industrial charm illuminate your unique style\n",
      "\n",
      "eBay item number: 386723431936\n",
      "Listing URL: https://www.ebay.com/itm/386723431936?itmmeta=01HRV2NTDDDD0ZPA8N29HX1X1M&hash=item5a0a834600:g:9QwAAOSwpDlluDud&itmprp=enc%3AAQAJAAABAPHSNGyQoO8pN8WmNRMHCIlNDmpuUw3yIBE1EGfu6VylzD0sxM2rFFpzuAbB1qudD9ipViG8rb02Tf%2B5YuTSw59fy7hbFG1d049FkuglOBFTrLDp0q92EBU8lCS16CFpf34kqTsj5AAUsZqYc67KXbFTN0IgGy9hPo88fCzURhiRZNfX0Cj8v082pZ1y18HRQeyDKFXXPm0Ww2B3VLl9YvpH0e7eaYbN%2Fa3verv3A3ZHjyFliR90YGlb7ovRnjtVep4dQuITRgwAGedR8YKHAYEguCuDIYQywtHmPmubPqt3MGN0DnRCx0S6XOV6vLogZbL%2Bti0Eua4kaJqIaWXs1B8%3D%7Ctkp%3ABk9SR-im1-LGYw\n",
      "Image URL: https://i.ebayimg.com/thumbs/images/g/9QwAAOSwpDlluDud/s-l300.jpg\n",
      "--------------------------------------------------\n",
      "Vintage Appleton Electric Co. white enamel angled industrial light fixture\n",
      "Pre-Owned\n",
      "$50.0\n",
      "+$13.20 shipping\n",
      "\n",
      "Item description from the seller:\n",
      "Vintage Appleton Electric Co. white enamel angled industrial light fixture.\n",
      "Light shade is 8 inches across. In very good condition with original sticker. It weighs a little over 2 lbs\n",
      "\n",
      "eBay item number: 185694894549\n",
      "Listing URL: https://www.ebay.com/itm/185694894549?itmmeta=01HRV2NTDDQB7T8HKREJC4VYGM&hash=item2b3c4739d5:g:4WcAAOSwjNJjlzya&itmprp=enc%3AAQAJAAAA4CV3joGLnkD3SIe7NK7aMlhCUQTAh76lsEyqQyG62vDbnwk0ImMQ5i8gfUu0j9pFnjnNrLGECaj%2FZupWtVv5QsvhZly%2FVTrARc9GZCEg2pRe%2BB1D2K5sT%2BwtBS9d0NVFyaRcFmNsbYwVE9eiAFAlpv7Cqreuuu%2BjhKjl6oddr4toQVNdlT428PEn5NVTkVC1S5gDW%2FfsjTby7V0jRvC6HoalbUcc76OHQOg9x1qSbfJBtM4aarzT%2B%2BcUxsf8QyEHnqsst0Tv8lGm2unXzlf04S5tqYrcNQMZhlE0oJqXRjXw%7Ctkp%3ABk9SR-im1-LGYw\n",
      "Image URL: https://i.ebayimg.com/thumbs/images/g/4WcAAOSwjNJjlzya/s-l300.jpg\n",
      "--------------------------------------------------\n",
      "Vintage 1940's Crouse Hinds Appleton Explosion Proof Industrial Wall Lamp Light\n",
      "None\n",
      "$125.0\n",
      "+$14.92 shipping\n",
      "\n",
      "Item description from the seller:\n",
      "The fixture is made of cast iron with a thick glass globe. No cracks in glass. Light socket is missing. Please examine pictures for condition and size. Weighs about 8 pounds. Please check out my other items on Ebay. Thank you for looking\n",
      "\n",
      "eBay item number: 145324899641\n",
      "Listing URL: https://www.ebay.com/itm/145324899641?itmmeta=01HRV2NTDDBRRDNDK2H8YKWPK1&hash=item21d609fd39:g:frIAAOSwHl5lEhbf&itmprp=enc%3AAQAJAAABAJqBdh9UtkH6iQBXeTmpghrXc0A6wTPgUpqI2D52XCB8%2Bst9f7tlHv1WEZaPDhmY0W8BFy2dGoi3jz5LB2hASsWwIrI%2BSKGvyBUvF8hyPbdsW65wht5yuD3w9zfaDn6dxqOpQzWqzDpqJgLv9puh9v5Edt1KNSkYHqdzuPpH0WGjpUNX4tdOrm3x%2Fh4vTTbqsvmhtTSZ9SqjlWBzFQKDpL%2Bb7gZ9UK0RjVOvpOlskU95cyPY2%2ByoYZyfm4SSHxjmStAyyHot5OFEIkNBTzsVbizFAbuLSRPRpiF7Vn2IHLkVULKXbYxLJifgbF3SGPFMWHwRF4hp0PamBMZLhJvbhhQ%3D%7Ctkp%3ABk9SR-im1-LGYw\n",
      "Image URL: https://i.ebayimg.com/thumbs/images/g/frIAAOSwHl5lEhbf/s-l300.jpg\n",
      "--------------------------------------------------\n"
     ]
    }
   ],
   "source": [
    "for i in range(len(search_res[:4])):\n",
    "    print(search_res[i])"
   ]
  },
  {
   "cell_type": "markdown",
   "metadata": {},
   "source": [
    "* Example showing `eBayProduct` sorted by price (ascending or descending)"
   ]
  },
  {
   "cell_type": "markdown",
   "metadata": {},
   "source": [
    "* Least expensive"
   ]
  },
  {
   "cell_type": "code",
   "execution_count": 9,
   "metadata": {},
   "outputs": [
    {
     "name": "stdout",
     "output_type": "stream",
     "text": [
      "Vintage Appleton Light Fixture Clear Ribbed Glass Globe & Cage Unknown Model\n",
      "Pre-Owned\n",
      "$19.95\n",
      "+$13.05 shipping\n",
      "\n",
      "Item description from the seller:\n",
      "Appleton Products light globe and cage. Have some marks from use as shown in pictures.  The inside of the globe is ribbed.  the opening is 5.25\" across and the globe is 6\" tall.  No model numbers on it just Appleton logo at bottom of globe. It is preowned.\n",
      "LOC 4\n",
      "\n",
      "eBay item number: 123718689975\n",
      "Listing URL: https://www.ebay.com/itm/123718689975?itmmeta=01HRV2NTDDVN4ZGVCJ5XVNPYC9&hash=item1cce3564b7:g:lZUAAOSwGUBaRVLx&itmprp=enc%3AAQAJAAABABAxlnAswwUQZ4M4EX%2BZJMuhDy4VX5YlTSRqV1NiKDnMitw7xU23TzgwcNvzsWWIAK4smbF4oze8EcQGxAiLyZPpXqJCmZTbmhWihTeMtNvD2%2B%2FznPJ6qoa2dWyrpGyCX1f4kfajr5TNQ5HFEjebpx3jJSM4JDehRip3AEdRYgIk2yU8ybJ9vgmQyJyh4tsHD%2B%2F7taC0n1hgRKCeXF1Fhatiqmg0Q0JXj8UPl4ud3dMbF4TDqpnICyoQSGB0q4%2B3k8317ciN6fJ7dz6iq%2FGJ37joQWMlX9qZY67HvNDVS6LK930Fqp3PS7nu1FcwZzSh2POXL%2BlkQccKPbjNSfLbxbw%3D%7Ctkp%3ABFBM6KbX4sZj\n",
      "Image URL: https://i.ebayimg.com/thumbs/images/g/lZUAAOSwGUBaRVLx/s-l300.jpg\n",
      "--------------------------------------------------\n",
      "NEW OLD STOCK APPLETON PRIS GLASS GLOBE LIGHT FIXTURE VPGL-2HR\n",
      "New – Open box\n",
      "$24.95\n",
      "+$12.48 shipping\n",
      "\n",
      "Item description from the seller:\n",
      "PLEASE FEEL FREE TO CONTACT US WITH ANY QUESTIONS\n",
      "SHIPPING\n",
      "WE WILL BE HAPPY TO COMBINE SHIPPING ON MULTIPLE ITEMS. ITEMS PURCHASED BEFORE 12:00 CST ARE ARE IN MOST CASES SHIPPED THE SAME DAY.\n",
      "INTERNATIONAL SHIPPING\n",
      "MOST ITEMS CAN BE SHIPPED INTERNATIONALLY - SIMPLY CONTACT US FIRST TO CONFIRM THIS.\n",
      "RE-SELLERS: PLEASE BE AWARE THAT ALL ITEMS LISTED AS NEW WILL COME THAT WAY - PACKAGING MAY AT TIMES CONTAIN COSMETIC DEFICIENCIES SUCH AS WRITING OR MISC. TAPE. PLEASE CONTACT US IF YOU NEED TO HAVE THE ITEM IN PERFECT PACKAGING.\n",
      "SATISFACTION GUARANTEE\n",
      "ITEMS LISTED AS NEW OR UNUSED WILL COME THAT WAY. WE WILL GUARANTEE THESE ITEMS TO WORK AS NEW WHEN RECEIVED.  IF YOU ARE NOT SATISFIED FOR ANY REASON, PLEASE CONTACT US AND WE WILL BE HAPPY TO EXCHANGE WHEN POSSIBLE OR ALLOW FOR A RETURN FOR A FULL REFUND. ITEMS LISTED AS USED OR FOR SALE AS PARTS WILL BE SOLD \"AS\n",
      "IS, UNLESS WE STATE THAT WE WILL GUARANTEE THE ITEM\".\n",
      "PLEASE FEEL FREE TO CONTACT US WITH ANY QUESTIONS INCLUDING COMBINED OR RUSH SHIPPING.\n",
      "REF: WR3-\n",
      "\n",
      "eBay item number: 392011891847\n",
      "Listing URL: https://www.ebay.com/itm/392011891847?epid=1504540449&itmmeta=01HRV2NTDE05XT08TC9AHE6VJ9&hash=item5b45bac487:g:e7cAAOSwcjhawjzx&itmprp=enc%3AAQAJAAAA4OVWBXeNPraKhM8WNAMYto2urmgU3Eh92q50YAwxMp9ajwCEcizr9isTs%2Fb2%2BOqV6UAeXB7OFvWTG39EP%2FxB8Sldg7rHpUNOaxENEnyBbwonk1sIwXT68fPrb%2BLuOf9cHeqBCTK8nT3W356BLTWwKNErr5WPSxSi4mnKWRqqvc%2FGXSzR4Qs2RKIGcZt8yg%2B7%2FCLVbnWA36C6V6SBPZHAug4ib73mJi%2FmWghexjrq8Z2ziR5S7rqCP4bYzyUfSyzcHN4uTL0X65pJaIC305ziwLXWz1J8vTNuLeojCyu%2FhqNX%7Ctkp%3ABk9SR-ym1-LGYw\n",
      "Image URL: https://i.ebayimg.com/thumbs/images/g/e7cAAOSwcjhawjzx/s-l300.jpg\n",
      "--------------------------------------------------\n",
      "Vtg Appleton Electric Industrial Light Lamp Fixture Cover Mount Arm 90XB Cap Lid\n",
      "Pre-Owned\n",
      "$29.99\n",
      "Free shipping\n",
      "\n",
      "Item description from the seller:\n",
      "Up for sale is this part to a light fixture, Used but in good condition, set screws turn freely No cracks or repairs. See pics for detail\n",
      "\n",
      "eBay item number: 266243392418\n",
      "Listing URL: https://www.ebay.com/itm/266243392418?itmmeta=01HRV2NTDD7QDV3E7CSYNJCVYQ&hash=item3dfd57c3a2:g:I-UAAOSwl2RkUYh7&itmprp=enc%3AAQAJAAABAHmhBscS7zeXlG8Es5B2WuRi5n1qIJEYIH7nZvAvG%2BfQA4%2BE12ulsYjbxYqnt%2BQbmy9yIi0iH7G6dU36d11vHuU6odj%2F55AH1XnW4%2BUCyiasf1GePnT0Okof3v4JiZOW6g6pjqjHCynPz0oj1XMZ%2FlPjpITwukaBMxQfC2mBgcN%2B9Jeyy9BAlGDP5XYXIBuJKsHHtFONtI7fRjFmG%2FxVF2dmWdTg4PygIZeZTp3TVwDOVvRr7mTMHGzR12irubz647gipeaVyeMCfwqL0fdLPDrN6H3lg4N1B6Y3ptdGJYaleqvDQ3SHgC5zSHXTOATRlSY8Ko5s1YoqE4PqrcHwP%2BY%3D%7Ctkp%3ABk9SR-im1-LGYw\n",
      "Image URL: https://i.ebayimg.com/thumbs/images/g/I-UAAOSwl2RkUYh7/s-l300.jpg\n",
      "--------------------------------------------------\n",
      "Vintage Appleton Industrial Light Fixture-Steampunk Model V51?\n",
      "Pre-Owned\n",
      "$29.99\n",
      "+$15.99 shipping\n",
      "\n",
      "Item description from the seller:\n",
      "Vintage Appleton Industrial Light Fixture-Steampunk Model V51\n",
      "\n",
      "eBay item number: 393657783532\n",
      "Listing URL: https://www.ebay.com/itm/393657783532?itmmeta=01HRV2NTDEH7M2EBR4H2D36GCM&hash=item5ba7d514ec:g:GT4AAOSw~p1hfGXi&itmprp=enc%3AAQAJAAABAE0qUbFLGOVrgMj%2B3ugysE4X6dUvQFua8BQ1MBFc7DpnMy2qhFa0HGhZTxhn7OuLKZhOa6obFAfkLcvAZD%2FEUoWAR4sy5UKtXMZTdkapdT7FssAf2HDi4%2FBxLZCc8qcgXAKnZC3W7DNmeP%2B8FC18%2BEYlan7r7r2zCv2l59NzaSANgyuKNwlV2Mx4RLV5Le%2FeRXQvgiL4ZAjPf7EPdZbS2AtKXeuJnsmZ3Cy6uu%2BjpdNgoVfgJ%2FL%2BRWMwPfRFm3paUlIRd1jmNfwaVsG79RkVv2m75hfBK9yOtk5Ij98s62FDtkoEmXnZ976AUK7KM8ZVEgvW8b2U%2BCOC3G%2B4TjShMr0%3D%7Ctkp%3ABk9SR-qm1-LGYw\n",
      "Image URL: https://i.ebayimg.com/thumbs/images/g/GT4AAOSw~p1hfGXi/s-l300.jpg\n",
      "--------------------------------------------------\n"
     ]
    }
   ],
   "source": [
    "sorted_results = eBayProduct.sort_by_price(search_res, reverse=False)\n",
    "for i in range(len(sorted_results[:4])):\n",
    "    print(sorted_results[i])"
   ]
  },
  {
   "cell_type": "markdown",
   "metadata": {},
   "source": [
    "* Most expensive"
   ]
  },
  {
   "cell_type": "code",
   "execution_count": 10,
   "metadata": {},
   "outputs": [
    {
     "name": "stdout",
     "output_type": "stream",
     "text": [
      "Set of 4 Appleton 12\" Porcelain Flush Mount Industrial Green Enamel Barn Light\n",
      "Pre-Owned\n",
      "$660.0\n",
      "+$25.00 shipping\n",
      "\n",
      "Item description from the seller:\n",
      "SOLD AS A SET OF FOUR\n",
      "The absolute perfect light for lower ceilings. Excellent for use in hallways, small rooms or almost any room with four ceiling boxes. Garages are also a good spot for these. Lot's of garages need exactly four of these. Also, the overhead garage door will miss these!\n",
      "Nice little lights, perfect for 8 foot or lower ceiling as they only need 6 inches of space.\n",
      "These heavy porcelain covered steel light fixtures were manufactured by Appleton,  Circa 1936 patent.\n",
      "Push and turn to lower the shade for cleaning.  A clean shade shines brighter.\n",
      "All I had to do was clean the shades, disassemble, re-wire and reassemble.\n",
      "The shades are 12 inches in diameter. The total height is only  inches.\n",
      "In order to safely ship the lights, they will be disassembled, to be easily reassembled by the buyer.\n",
      "Please feel free to ask questions prior to bidding.\n",
      "I'm a very fast and careful shipper. These lights will be packed very well.\n",
      "THANK YOU FOR VISITING THE ORIGINAL\n",
      "OLD-INDUSTRIAL-LIGHTING LLC\n",
      "Although we offer full refunds for defective or inaccurately described items,\n",
      "most of the items we sell are vintage or no longer in production. All items are sold as is and there is no implied warranty. It is your responsibility to assure the items are compatible to your needs and other equipment, and are safe. By purchasing an item, you agree to take full responsibility and liability for the use, installation, maintenance, and operation of the item as well as any and all consequences which come out of its purchase, use and/or misuse.\n",
      "Shelf #\n",
      "18544306365\n",
      "\n",
      "eBay item number: 255575257755\n",
      "Listing URL: https://www.ebay.com/itm/255575257755?itmmeta=01HRV2NTDETH143VC644Q5CN5S&hash=item3b8178f29b:g:Zu0AAOSw3QViomVR&itmprp=enc%3AAQAJAAABAJGzHBRIYSW%2B0j36A3uxeJpLD52QXfWeUso99%2BtPYJ9XVz%2F7JzRh70u6lH2w%2ByYIxjWg%2B%2BIblIhtQyuIeHFbzl5cVgLWm9YQbALkjXXImnn%2FiJKQDAwUapwpiEuXAI7RedQmkd9Wvy0HhEhnpQtB0zMLklH7%2FWsU%2F5JEi%2FNNPet8oOwo9BN5ldR01uViBg1bk1SgeABr%2FBwNyoPtwE%2FReBWP4q6j5O1nnt%2B0kNNLlj0kaXvpgEVH6DCmFkaf2e20Gai8szSh46Kug6kyMoHUbtG00SAPbHc6d%2FnvflYx0Z3mJAb3wTtbN3ot2J0%2Bl%2B30jEdeWhYtUXhkThmBE9JUpgc%3D%7Ctkp%3ABFBM6qbX4sZj\n",
      "Image URL: https://i.ebayimg.com/thumbs/images/g/Zu0AAOSw3QViomVR/s-l300.jpg\n",
      "--------------------------------------------------\n",
      "(2)  VTG Appleton 18\" Flush Mount Industrial Green Barn Porcelain Light PATINA\n",
      "Pre-Owned\n",
      "$355.0\n",
      "Free shipping\n",
      "\n",
      "Item description from the seller:\n",
      "(2)  VTG Appleton 18\" Flush Mount Industrial Green Barn Porcelain Light PATINA\n",
      "BOTH  HAVE AUTHENTIC PATINA AND CHARACTER\n",
      "SOLD AS A PAIR\n",
      "These guys escaped the pampered life. They are perhaps 70 or 80 years old and look like it. Chips, rust etc. as shown, one is even ever so slightly out of round. While the shades are aesthetically challenged, the sockets are in great condition and have been re-wired, I even added a ground. If you're looking for cosmetic perfection...move on, these old boys aren't for you. This listing is for the vintage light-lover that loves their lights to look vintage and perform safely.\n",
      "All I had to do was clean the shades, disassemble the multi-piece sockets, re-wire and reassemble. The socket is the large mogul type, I will include free of charge a screw in adapter to convert the socket to a standard household medium base. (Easily removable). Mogul base LED's are readily available and provide LOTS of light if necessary.\n",
      "The shade is a large 18\" diameter. From the bottom of the shade to the ceiling is only about 12\".\n",
      "In order to safely ship the lights, they will be disassembled, to be easily reassembled by the buyer.\n",
      "Please feel free to ask questions prior to bidding.\n",
      "I'm a very fast and careful shipper. These lights will be packed very well.\n",
      "THANK YOU FOR VISITING THE ORIGINAL\n",
      "OLD-INDUSTRIAL-LIGHTING LLC\n",
      "Although we offer full refunds for defective or inaccurately described items,\n",
      "most of the items we sell are vintage or no longer in production. All items are sold as is and there is no implied warranty. It is your responsibility to assure the items are compatible to your needs and other equipment, and are safe. By purchasing an item, you agree to take full responsibility and liability for the use, installation, maintenance, and operation of the item as well as any and all consequences which come out of its purchase, use and/or misuse.\n",
      "Greenfield ben appleton flush x \n",
      "\n",
      "eBay item number: 264001436238\n",
      "Listing URL: https://www.ebay.com/itm/264001436238?itmmeta=01HRV2NTDEFJMFGBZCNAAXZZEA&hash=item3d77b63a4e:g:Yo0AAOSwXRxavpeB&itmprp=enc%3AAQAJAAABAN7OITpzYgb5F3BNAatgjCs2527SES%2FIL0Rbg7l%2BGMK5nDodr6AM6JcMNGrYW0CQp4XNxgQLhTaQSD%2F0xl7qXtob5BnA6VT2hlXcBUjFQ57qQp8mJdRX7CFSlZ5yXr%2B4HZgHc3qYgesxXOhpPLVknKJbubdVWmNg0pxLHI6uVXbJEtzLoPba3LU9l1zYANYN6jzMUitqADry3qCjreOOqVu2CUMKkM0WjbDIZiPretBefnH2Wvm9zeWS%2FK1sL9%2BUeaWQVW3pIZUjdquK4jMVUyprJNl54AWqTBE30mMtTzztbrU28yv6ObicmaR%2Bp3gyy9WC5tRIovNEz5aqlTmPpkE%3D%7Ctkp%3ABFBM6qbX4sZj\n",
      "Image URL: https://i.ebayimg.com/thumbs/images/g/Yo0AAOSwXRxavpeB/s-l300.jpg\n",
      "--------------------------------------------------\n",
      "Vintage Appleton Porcelain EXPLOSION PROOF 14\" Barn I​ndustrial Lamp Light\n",
      "Pre-Owned\n",
      "$294.99\n",
      "+$76.10 shipping\n",
      "\n",
      "Item description from the seller:\n",
      "Vintage Appleton 14\" porcelain shade explosion proof industrial lamp / light fixture.  The fixture was completely disassembled, cleaned and inspected...it is ready to add wire and hang.  I did not rewire because it can be configured in a number of different arrangements.   It is very easy to re-wire.  Included are 3\" pipe extension, 18\" pipe extension, Appleton junction box and swivel fitting for the junction box and two 3/4\" pipe plugs.  This allows it to be close fit to the ceiling, dropped 18\" plus or mounted from the wall.\n",
      "The condition is very good.  The shade has several small chips in the porcelain.  The explosion proof fixture is nice with no problems.  The globe is good with no cracks or chips.  The cork gasket is dried out and cracked...easily replaced or could be left out.  It does use a standard base bulb.  Nice addition to any decor.\n",
      "Payment due within 3 days.  Buyer pays shipping\n",
      "\n",
      "eBay item number: 372240292075\n",
      "Listing URL: https://www.ebay.com/itm/372240292075?itmmeta=01HRV2NTDEDESE9GV2AKBHA6QC&hash=item56ab4018eb:g:DA4AAOSw2XFUi3ew&itmprp=enc%3AAQAJAAAA4IjdV2aBaxrWVtfbUjilEGkQ9RpGoZN3e%2FD9hTyF7BWgylxRUGBgWiMbh3eutzG1CN8QqSxlwZgk5V6GQfAVQ%2BP8W6OpSB%2FOPCtdmNsuu8Ebb9YUa%2FGreZV40Rg4s4zWS0jmDPjTPDd%2FBHZ%2FxugtBvucbl5DA3wvbtppDA%2FfxKdjNZ09dJK4AVIu3IQ7qmZ7ergjWoHvCvl0ayerXOxv0RvHDuAFAJNUYcWYBtNJf9b4Zm6V%2F4J5fb7kel9H79UVqRrQkfhJuS4q1TbF7AAbGteVY2mmEZPTZ6W2EFyBL2gW%7Ctkp%3ABk9SR-ym1-LGYw\n",
      "Image URL: https://i.ebayimg.com/thumbs/images/g/DA4AAOSw2XFUi3ew/s-l300.jpg\n",
      "--------------------------------------------------\n",
      "Vintage Appleton Porcelain EXPLOSION PROOF 14\" Barn I​ndustrial Lamp Light\n",
      "Pre-Owned\n",
      "$294.99\n",
      "+$76.10 shipping\n",
      "\n",
      "Item description from the seller:\n",
      "Vintage Appleton 14\" porcelain shade explosion proof industrial lamp / light fixture.  The fixture was completely disassembled, cleaned and inspected...it is ready to add wire and hang.  I did not rewire because it can be configured in a number of different arrangements.   It is very easy to re-wire.  Included are 3\" pipe extension, 18\" pipe extension, Appleton junction box and swivel fitting for the junction box and two 3/4\" pipe plugs.  This allows it to be close fit to the ceiling, dropped 18\" plus or mounted from the wall.\n",
      "The condition is very good.  The shade has several small chips in the porcelain.  The explosion proof fixture is nice with no problems.  The globe is good with no cracks or chips.  The cork gasket is dried out and cracked...easily replaced or could be left out.  It does use a standard base bulb.  Nice addition to any decor.\n",
      "Payment due within 3 days.  Buyer pays shipping\n",
      "\n",
      "eBay item number: 372240292075\n",
      "Listing URL: https://www.ebay.com/itm/372240292075?itmmeta=01HRV2NTDJZ3ZX5PND0F6W2FQR&hash=item56ab4018eb:g:DA4AAOSw2XFUi3ew\n",
      "Image URL: https://i.ebayimg.com/thumbs/images/g/DA4AAOSw2XFUi3ew/s-l300.jpg\n",
      "--------------------------------------------------\n"
     ]
    }
   ],
   "source": [
    "sorted_high_results = eBayProduct.sort_by_price(search_res, reverse=True)\n",
    "for i in range(len(sorted_high_results[:4])):\n",
    "    print(sorted_high_results[i])"
   ]
  },
  {
   "cell_type": "markdown",
   "metadata": {},
   "source": [
    "## Image comparison test"
   ]
  },
  {
   "cell_type": "markdown",
   "metadata": {},
   "source": [
    "* Function to send multiple images to GPT-4"
   ]
  },
  {
   "cell_type": "code",
   "execution_count": 18,
   "metadata": {},
   "outputs": [],
   "source": [
    "from openai import OpenAI\n",
    "\n",
    "client = OpenAI()\n",
    "\n",
    "def compare_item_images(base_img_url: str, comp_image_url: str):\n",
    "    response = client.chat.completions.create(\n",
    "    model=\"gpt-4-vision-preview\",\n",
    "    messages=[\n",
    "        {\n",
    "        \"role\": \"user\",\n",
    "        \"content\": [\n",
    "            {\n",
    "            \"type\": \"text\",\n",
    "            \"text\": \"I'm planning to list the item in the first image on eBay and looking for good 'comps' to help determine the price. Please review and asses whether the second image is similar enough to use. Include a highly concise explanation as to why.\",\n",
    "            },\n",
    "            {\n",
    "            \"type\": \"image_url\",\n",
    "            \"image_url\": {\n",
    "                \"url\": base_img_url,\n",
    "            },\n",
    "            },\n",
    "            {\n",
    "            \"type\": \"image_url\",\n",
    "            \"image_url\": {\n",
    "                \"url\": comp_image_url,\n",
    "            },\n",
    "            },\n",
    "        ],\n",
    "        }\n",
    "    ],\n",
    "    max_tokens=300,\n",
    "    )\n",
    "    return response.choices[0]"
   ]
  },
  {
   "cell_type": "markdown",
   "metadata": {},
   "source": [
    "* Target image to compare against"
   ]
  },
  {
   "cell_type": "code",
   "execution_count": 26,
   "metadata": {},
   "outputs": [
    {
     "data": {
      "text/html": [
       "<img src=\"https://i.ebayimg.com/thumbs/images/g/9QwAAOSwpDlluDud/s-l300.jpg\"/>"
      ],
      "text/plain": [
       "<IPython.core.display.Image object>"
      ]
     },
     "metadata": {},
     "output_type": "display_data"
    }
   ],
   "source": [
    "target_image = \"https://i.ebayimg.com/thumbs/images/g/9QwAAOSwpDlluDud/s-l300.jpg\"\n",
    "display(Image(url=target_image))"
   ]
  },
  {
   "cell_type": "markdown",
   "metadata": {},
   "source": [
    "* First a bad comp we would not want to use"
   ]
  },
  {
   "cell_type": "code",
   "execution_count": 20,
   "metadata": {},
   "outputs": [
    {
     "data": {
      "text/html": [
       "<img src=\"https://i.ebayimg.com/thumbs/images/g/09cAAOSwYOplwqWF/s-l300.jpg\"/>"
      ],
      "text/plain": [
       "<IPython.core.display.Image object>"
      ]
     },
     "metadata": {},
     "output_type": "display_data"
    }
   ],
   "source": [
    "bad_comp_image = str(sorted_results[11].item.image_url)\n",
    "display(Image(url=bad_comp_image))"
   ]
  },
  {
   "cell_type": "code",
   "execution_count": 22,
   "metadata": {},
   "outputs": [
    {
     "data": {
      "text/markdown": [
       "The second image is not an appropriate comp for the item in the first image. While both items appear to be vintage lighting fixtures (possibly industrial), there are notable differences:\n",
       "\n",
       "1. Design: The first fixture has a more tapered shape and a wire guard, while the second lacks these features.\n",
       "2. Color: The first has a predominantly gray color with red labels, whereas the second appears to be a combination of silver and clear.\n",
       "3. Condition: They appear to be in different conditions, which can affect value.\n",
       "\n",
       "Due to these differences, it would be better to seek comparables that more closely match the first item in design, material, and condition for an accurate price assessment."
      ],
      "text/plain": [
       "<IPython.core.display.Markdown object>"
      ]
     },
     "execution_count": 22,
     "metadata": {},
     "output_type": "execute_result"
    }
   ],
   "source": [
    "# Testing a bad match\n",
    "image_comp = compare_item_images(target_image, bad_comp_image)\n",
    "Markdown(image_comp.message.content)"
   ]
  },
  {
   "cell_type": "markdown",
   "metadata": {},
   "source": [
    "* This time a seemingly decent comp item"
   ]
  },
  {
   "cell_type": "code",
   "execution_count": 23,
   "metadata": {},
   "outputs": [
    {
     "data": {
      "text/html": [
       "<img src=\"https://i.ebayimg.com/thumbs/images/g/PrUAAOSwK2xlR49E/s-l300.jpg\"/>"
      ],
      "text/plain": [
       "<IPython.core.display.Image object>"
      ]
     },
     "metadata": {},
     "output_type": "display_data"
    }
   ],
   "source": [
    "good_comp_image = str(sorted_results[7].item.image_url)\n",
    "display(Image(url=good_comp_image))"
   ]
  },
  {
   "cell_type": "code",
   "execution_count": 24,
   "metadata": {},
   "outputs": [
    {
     "data": {
      "text/markdown": [
       "The second image is similar enough to use as a comp for listing the item in the first image on eBay. Both images depict industrial or vintage pendant lights with a caged design and similar shape. The fixtures have a similar style, and while there may be minor variations in condition, size, and specific design details, they are close enough in appearance that the second image serves as a relevant comparison for the first."
      ],
      "text/plain": [
       "<IPython.core.display.Markdown object>"
      ]
     },
     "execution_count": 24,
     "metadata": {},
     "output_type": "execute_result"
    }
   ],
   "source": [
    "# Looks like a good match to me\n",
    "image_comp = compare_item_images(target_image, good_comp_image)\n",
    "Markdown(image_comp.message.content)"
   ]
  },
  {
   "cell_type": "markdown",
   "metadata": {},
   "source": [
    "## Notes\n",
    "* Given the above, we can now add to the app by\n",
    "  * Instead of a keyword search over the entire internet, search eBay for specific comps\n",
    "  * Get listings that seem close, then send to GPT-4 to help find the \"best\" comps automatically"
   ]
  },
  {
   "cell_type": "code",
   "execution_count": 25,
   "metadata": {},
   "outputs": [],
   "source": [
    "def compare_item_images(base_img_url: str, comp_image_urls: list):\n",
    "    \"\"\"\n",
    "    Compares a base image against a list of comparison images using GPT-4 with vision capabilities.\n",
    "\n",
    "    Args:\n",
    "        base_img_url (str): The URL of the base image to compare against.\n",
    "        comp_image_urls (list): A list of URLs for the comparison images.\n",
    "\n",
    "    Returns:\n",
    "        The response from the API call.\n",
    "    \"\"\"\n",
    "    # Construct the messages payload\n",
    "    messages = [\n",
    "        {\n",
    "            \"role\": \"user\",\n",
    "            \"content\": [\n",
    "                {\n",
    "                    \"type\": \"text\",\n",
    "                    \"text\": \"I'm planning to list the item in the first image on eBay and looking for good 'comps' to help determine the price. Please review and assess whether the following images are similar enough to use. Include the number positions, if any, for the best comps, a highly concise explanation as to why.\",\n",
    "                },\n",
    "                {\n",
    "                    \"type\": \"image_url\",\n",
    "                    \"image_url\": {\n",
    "                        \"url\": base_img_url,\n",
    "                    },\n",
    "                }\n",
    "            ],\n",
    "        }\n",
    "    ]\n",
    "\n",
    "    # Dynamically add comparison images to the messages payload\n",
    "    for comp_image_url in comp_image_urls:\n",
    "        messages[0][\"content\"].append(\n",
    "            {\n",
    "                \"type\": \"image_url\",\n",
    "                \"image_url\": {\n",
    "                    \"url\": comp_image_url,\n",
    "                },\n",
    "            }\n",
    "        )\n",
    "\n",
    "    response = client.chat.completions.create(\n",
    "        model=\"gpt-4-vision-preview\",\n",
    "        messages=messages,\n",
    "        max_tokens=300,\n",
    "    )\n",
    "\n",
    "    return response.choices[0]"
   ]
  },
  {
   "cell_type": "code",
   "execution_count": 26,
   "metadata": {},
   "outputs": [
    {
     "data": {
      "text/html": [
       "<img src=\"https://i.ebayimg.com/thumbs/images/g/lZUAAOSwGUBaRVLx/s-l300.jpg\"/>"
      ],
      "text/plain": [
       "<IPython.core.display.Image object>"
      ]
     },
     "metadata": {},
     "output_type": "display_data"
    },
    {
     "data": {
      "text/html": [
       "<img src=\"https://i.ebayimg.com/thumbs/images/g/e7cAAOSwcjhawjzx/s-l300.jpg\"/>"
      ],
      "text/plain": [
       "<IPython.core.display.Image object>"
      ]
     },
     "metadata": {},
     "output_type": "display_data"
    },
    {
     "data": {
      "text/html": [
       "<img src=\"https://i.ebayimg.com/thumbs/images/g/I-UAAOSwl2RkUYh7/s-l300.jpg\"/>"
      ],
      "text/plain": [
       "<IPython.core.display.Image object>"
      ]
     },
     "metadata": {},
     "output_type": "display_data"
    },
    {
     "data": {
      "text/html": [
       "<img src=\"https://i.ebayimg.com/thumbs/images/g/GT4AAOSw~p1hfGXi/s-l300.jpg\"/>"
      ],
      "text/plain": [
       "<IPython.core.display.Image object>"
      ]
     },
     "metadata": {},
     "output_type": "display_data"
    },
    {
     "data": {
      "text/html": [
       "<img src=\"https://i.ebayimg.com/thumbs/images/g/GT4AAOSw~p1hfGXi/s-l300.jpg\"/>"
      ],
      "text/plain": [
       "<IPython.core.display.Image object>"
      ]
     },
     "metadata": {},
     "output_type": "display_data"
    }
   ],
   "source": [
    "image_urls = [str(sorted_results[i].item.image_url) for i in range(5)]\n",
    "for url in image_urls:\n",
    "    display(Image(url=url))"
   ]
  },
  {
   "cell_type": "code",
   "execution_count": 27,
   "metadata": {},
   "outputs": [
    {
     "data": {
      "text/markdown": [
       "It appears you're looking for comparisons for an industrial or vintage light fixture. Based on the images provided:\n",
       "\n",
       "1. Image 2 doesn't seem like a close match because it lacks the top protective fixture and is only the protective glass with its cage.\n",
       "2. Image 3 may not be a direct comp since it looks like new stock and includes packaging, while your item appears to be used.\n",
       "3. Image 4 is not a good comp as it only shows a cover or cap for a fixture, not the complete fixture itself.\n",
       "4. Images 5 and 6 are duplicates, but they could be considered as comps because they feature a similar enclosed industrial light style, although the design is visibly different.\n",
       "\n",
       "Out of these options, images 5 and 6 (which are the same) could be used to help determine a price, keeping in mind the design and condition differences. However, for more accurate pricing, look for comps that match more closely in design, age, condition, and brand—if known."
      ],
      "text/plain": [
       "<IPython.core.display.Markdown object>"
      ]
     },
     "execution_count": 27,
     "metadata": {},
     "output_type": "execute_result"
    }
   ],
   "source": [
    "test_mutiple_comps = compare_item_images(target_image, image_urls)\n",
    "Markdown(test_mutiple_comps.message.content)"
   ]
  },
  {
   "cell_type": "code",
   "execution_count": null,
   "metadata": {},
   "outputs": [],
   "source": []
  },
  {
   "cell_type": "markdown",
   "metadata": {},
   "source": [
    "___"
   ]
  },
  {
   "cell_type": "markdown",
   "metadata": {},
   "source": [
    "# WIP"
   ]
  },
  {
   "cell_type": "code",
   "execution_count": 5,
   "metadata": {},
   "outputs": [],
   "source": [
    "def get_llm_response(system='You are a helpful assistant.', user = '', temperature = 0.1, model = 'gpt-3.5-turbo'):\n",
    "    completion = openai.chat.completions.create(\n",
    "        model=model,\n",
    "        temperature=temperature,\n",
    "        messages=[\n",
    "            {'role': 'system', 'content': system},\n",
    "            {'role': 'user', 'content': user},\n",
    "        ]\n",
    "    )\n",
    "    return completion.choices[0].message.content"
   ]
  },
  {
   "cell_type": "code",
   "execution_count": 6,
   "metadata": {},
   "outputs": [],
   "source": [
    "def create_keyword_query_generation_prompt(topic, n):\n",
    "    return f\"\"\"I'm doing pricing research on **{topic}** and need help coming up with eBay keyword search queries.\n",
    "eBay keyword searches should just be a few words long. It should not be a complete sentence.\n",
    "Please generate a diverse list of {n} eBay keyword search queries that would be useful for researching **${topic}**. Do not add any formatting or numbering to the queries.\"\"\"\n"
   ]
  },
  {
   "cell_type": "code",
   "execution_count": 7,
   "metadata": {},
   "outputs": [],
   "source": [
    "def generate_search_queries(topic, n):\n",
    "    user_prompt = create_keyword_query_generation_prompt(topic, n)\n",
    "    completion = get_llm_response(\n",
    "        system='The user will ask you to help generate some search queries. Respond with only the suggested queries in plain text with no extra formatting, each on it\\'s own line.',\n",
    "        user=user_prompt,\n",
    "        temperature=1\n",
    "    )\n",
    "    queries = [s for s in completion.split('\\n') if s.strip()][:n]\n",
    "    return queries"
   ]
  },
  {
   "cell_type": "code",
   "execution_count": 8,
   "metadata": {},
   "outputs": [
    {
     "data": {
      "text/plain": [
       "['Vintage Appleton Industrial Vented Light Fixture',\n",
       " 'Appleton Industrial Light Fixture Vintage']"
      ]
     },
     "execution_count": 8,
     "metadata": {},
     "output_type": "execute_result"
    }
   ],
   "source": [
    "queries = generate_search_queries(query, 2)\n",
    "queries"
   ]
  },
  {
   "cell_type": "code",
   "execution_count": 9,
   "metadata": {},
   "outputs": [],
   "source": [
    "def get_search_results(queries, itemsPerQuery=10):\n",
    "    \"\"\"\n",
    "    Fetches search results for given queries and deduplicates them based on eBay ID.\n",
    "\n",
    "    Args:\n",
    "        queries (list): A list of query strings to search for.\n",
    "        itemsPerQuery (int): The number of items to fetch per query.\n",
    "\n",
    "    Returns:\n",
    "        list: A list of deduplicated eBayProduct objects.\n",
    "    \"\"\"\n",
    "    results = []\n",
    "    seen_ids = set()\n",
    "    for query in queries:\n",
    "        search_response = eBayWebSearch(query)\n",
    "        for product in search_response[:itemsPerQuery]:\n",
    "            if product.ebay_id not in seen_ids:\n",
    "                seen_ids.add(product.ebay_id)\n",
    "                results.append(product)\n",
    "                \n",
    "    return results"
   ]
  },
  {
   "cell_type": "code",
   "execution_count": 10,
   "metadata": {},
   "outputs": [
    {
     "data": {
      "text/plain": [
       "17"
      ]
     },
     "execution_count": 10,
     "metadata": {},
     "output_type": "execute_result"
    }
   ],
   "source": [
    "item_listings = get_search_results(queries)\n",
    "len(item_listings)"
   ]
  },
  {
   "cell_type": "code",
   "execution_count": 11,
   "metadata": {},
   "outputs": [
    {
     "name": "stdout",
     "output_type": "stream",
     "text": [
      "Vintage Appleton Explosion Proof Vented Industrial Ceiling Light Lamp Fixture\n",
      "Pre-Owned\n",
      "$39.99\n",
      "+$35.10 shipping\n",
      "\n",
      "Item description from the seller:\n",
      "Vintage Appleton Explosion Proof Vented Industrial Ceiling Light Lamp Fixture\n",
      "Parts Only - Light is untested\n",
      "200W - 250V - Type EVA - Catalog AA 99\n",
      "Measures\n",
      "8\" in dia x\n",
      "16\n",
      "\" in height (not including threaded rod)\n",
      "all approx\n",
      "Fresh Barn Find the Aluminum housing has oxidation\n",
      "Glass Looks Good - Has a\n",
      "Porcelain\n",
      "socket\n",
      "Down Rod will be removed for shipping\n",
      "Please study all the photos\n",
      "Feel Free to ask any questions\n",
      "Check Back I found more unusual Light Fixtures in this Barn Including a few Holophane shades et\n",
      "\n",
      "eBay item number: 155896783352\n",
      "Listing URL: https://www.ebay.com/itm/155896783352?itmmeta=01HRV3ZF0NKYC4CV4MXR74JVBA&hash=item244c2c21f8:g:PrUAAOSwK2xlR49E&itmprp=enc%3AAQAIAAAA4B8%2B2Q1W6ISeGsSM37CcksptgXDgAzaL74Hvnh0stjTGog%2FWSESj7YNo%2Bci6OxmTcGxYXXX5fID%2FNEuQ1QQyhVBJrMOwejiTfJ3sw7%2FA%2BKlc6GZkrU4GjbPSCAdZKGwWmbjSFcp58ZO7ElyJqd3tGVDRI1PkTfZUElhQ%2FRrgpwofV4KlDIIvAXHMDV%2BpZL71Ry2TYnpdQI0345PbF3p%2FeXkfLNZZfnA87KqADCKdHxeWUdKbXZlwfvOIbsip9wFGx%2BCTAAzFx0qhj4tb6sGiCQI15w5WCdf2il6pS7sfq5J0%7Ctkp%3ABk9SR7jw_ePGYw\n",
      "Image URL: https://i.ebayimg.com/thumbs/images/g/PrUAAOSwK2xlR49E/s-l300.jpg\n",
      "--------------------------------------------------\n"
     ]
    }
   ],
   "source": [
    "print(item_listings[0])"
   ]
  },
  {
   "cell_type": "code",
   "execution_count": 22,
   "metadata": {},
   "outputs": [],
   "source": [
    "from openai import OpenAI\n",
    "\n",
    "client = OpenAI()\n",
    "\n",
    "def compare_listing_with_image(text: str, base_img_url: str, comp_image_url: str):\n",
    "    response = client.chat.completions.create(\n",
    "    model=\"gpt-4-vision-preview\",\n",
    "    messages=[\n",
    "        {\n",
    "        \"role\": \"user\",\n",
    "        \"content\": [\n",
    "            {\n",
    "            \"type\": \"text\",\n",
    "            \"text\": \"I'm planning to list the item in the first image on eBay and I am looking for good 'comps' to help determine the price. Please review this candidate's text description and image and generate a concise summary explaining why it would or would not make a good comp.\",\n",
    "            },\n",
    "            \n",
    "            {\n",
    "            \"type\": \"text\",\n",
    "            \"text\": f\"Here is the descrition for the candidate: {text}.\",\n",
    "            },\n",
    "            \n",
    "            {\n",
    "            \"type\": \"image_url\",\n",
    "            \"image_url\": {\n",
    "                \"url\": base_img_url,\n",
    "            },\n",
    "            },\n",
    "            {\n",
    "            \"type\": \"image_url\",\n",
    "            \"image_url\": {\n",
    "                \"url\": comp_image_url,\n",
    "            },\n",
    "            },\n",
    "        ],\n",
    "        }\n",
    "    ],\n",
    "    max_tokens=300,\n",
    "    )\n",
    "    return response.choices[0]"
   ]
  },
  {
   "cell_type": "code",
   "execution_count": 21,
   "metadata": {},
   "outputs": [
    {
     "data": {
      "text/plain": [
       "'https://i.ebayimg.com/thumbs/images/g/PrUAAOSwK2xlR49E/s-l300.jpg'"
      ]
     },
     "execution_count": 21,
     "metadata": {},
     "output_type": "execute_result"
    }
   ],
   "source": [
    "str(item_listings[0].item.image_url)"
   ]
  },
  {
   "cell_type": "code",
   "execution_count": 27,
   "metadata": {},
   "outputs": [
    {
     "data": {
      "text/markdown": [
       "Based on the information provided and the images of both items, the candidate listing could serve as a reasonable comp (comparable item) for determining the price of your item. Here are the main points that support this:\n",
       "\n",
       "1. Similar Type of Item: Both are vintage Appleton explosion-proof industrial ceiling light fixtures, which directly aligns them in terms of type and potential use.\n",
       "\n",
       "2. Condition: The candidate is listed as pre-owned and 'Parts Only - Light is untested,' suggesting it might not be fully functional. When comparing to your item, consider whether your item is in similar condition, better (fully operational), or worse (missing more components or damaged), as this would affect relative value.\n",
       "\n",
       "3. Aesthetic Condition: The oxidation on the aluminum housing of the candidate is worth noting. Assess the cosmetic condition of your item in comparison. If yours has less wear or is cleaner, this could justify a higher price.\n",
       "\n",
       "4. Specifications: Both lights appear to share specifications such as \"200W - 250V - Type EVA,\" which is relevant when customers look for specific technical requirements.\n",
       "\n",
       "5. Size: The measurements of the candidate are provided, which would be useful to compare with your item to ensure they match in terms of size and scale.\n",
       "\n",
       "6. Shipping Considerations: The candidate listing notes the down rod will be removed for shipping. Determine if your item also has similar shipping considerations that would impact shipping costs or risk of damage in transit.\n",
       "\n",
       "7. Market Price: The candidate's"
      ],
      "text/plain": [
       "<IPython.core.display.Markdown object>"
      ]
     },
     "execution_count": 27,
     "metadata": {},
     "output_type": "execute_result"
    }
   ],
   "source": [
    "comp_with_image = compare_listing_with_image(text=str(item_listings[0]), base_img_url=target_image, comp_image_url=str(item_listings[0].item.image_url))\n",
    "Markdown(comp_with_image.message.content)"
   ]
  },
  {
   "cell_type": "code",
   "execution_count": null,
   "metadata": {},
   "outputs": [],
   "source": [
    "def display_base_models(base_models):\n",
    "    \"\"\"\n",
    "    Display the title, url, and published_date of each BaseModel object in a list.\n",
    "\n",
    "    Args:\n",
    "        base_models (List[BaseModel]): List of BaseModel objects.\n",
    "\n",
    "    \"\"\"\n",
    "    for model in base_models:\n",
    "        print(f\"Title: {model.title}\")\n",
    "        print(f\"URL: {model.url}\")\n",
    "        print(f\"Published Date: {model.published_date}\")"
   ]
  },
  {
   "cell_type": "code",
   "execution_count": null,
   "metadata": {},
   "outputs": [],
   "source": [
    "display_base_models(links)"
   ]
  },
  {
   "cell_type": "code",
   "execution_count": null,
   "metadata": {},
   "outputs": [],
   "source": [
    "from bs4 import BeautifulSoup\n",
    "import re\n",
    "\n",
    "def clean_html_content(content: str) -> str:\n",
    "    \"\"\"\n",
    "    Clean the HTML content using BeautifulSoup.\n",
    "\n",
    "    Args:\n",
    "        content (str): HTML content.\n",
    "\n",
    "    Returns:\n",
    "        str: Cleaned text content.\n",
    "    \"\"\"\n",
    "    soup = BeautifulSoup(content, \"html.parser\")\n",
    "\n",
    "    # Extract header and paragraph tags\n",
    "    header_tags = soup.find_all(re.compile(r\"^h\\d$\"))\n",
    "    paragraph_tags = soup.find_all(\"p\")\n",
    "\n",
    "    # Strip HTML tags and collect text content\n",
    "    stripped_content = \"\"\n",
    "    for tag in header_tags + paragraph_tags:\n",
    "        stripped_content += \" \" + tag.get_text().strip() + \" \"\n",
    "\n",
    "    return ' '.join(stripped_content.split())"
   ]
  },
  {
   "cell_type": "code",
   "execution_count": null,
   "metadata": {},
   "outputs": [],
   "source": [
    "def get_page_contents(search_results):\n",
    "    contents_response = metaphor.get_contents(search_results)\n",
    "    return contents_response.contents\n",
    "\n",
    "\n",
    "content = get_page_contents([link.id for link in links])"
   ]
  },
  {
   "cell_type": "code",
   "execution_count": null,
   "metadata": {},
   "outputs": [],
   "source": [
    "def create_web_content_string(search_contents: list, char_limit: int = 30000) -> str:\n",
    "    \"\"\"\n",
    "    Synthesize a report from search contents.\n",
    "\n",
    "    Args:\n",
    "        search_contents (list): List of search contents.\n",
    "        char_limit (int, optional): Total character limit. Defaults to 30000.\n",
    "\n",
    "    Returns:\n",
    "        str: Synthesized report.\n",
    "    \"\"\"\n",
    "    total_chars = sum([len(clean_html_content(item.extract)) for item in search_contents])\n",
    "    inputData = ''\n",
    "\n",
    "    for item in search_contents:\n",
    "        cleaned_content = clean_html_content(item.extract)\n",
    "        item_chars = len(cleaned_content)\n",
    "        slice_ratio = item_chars / total_chars\n",
    "        slice_limit = int(char_limit * slice_ratio)\n",
    "        sliced_content = cleaned_content[:slice_limit]\n",
    "\n",
    "        inputData += f'--START ITEM--\\nURL: {item.url}\\nTITLE: {item.title}\\nCONTENT: {sliced_content}\\n--END ITEM--\\n'\n",
    "\n",
    "    return inputData\n",
    "    # return get_llm_response(\n",
    "    #     system='You are a helpful research assistant. Write a report according to the user\\'s instructions.',\n",
    "    #     user='Input Data:\\n' + inputData + f'Write a two paragraph research report about {topic} based on the provided information. Include as many sources as possible. Provide citations in the text using footnote notation ([#]). First provide the report, followed by a single \"References\" section that lists all the URLs used, in the format [#] .',\n",
    "    #     model='gpt-4' # want a better report? use gpt-4\n",
    "    # )"
   ]
  },
  {
   "cell_type": "code",
   "execution_count": null,
   "metadata": {},
   "outputs": [],
   "source": [
    "def format_for_markdown(text: str) -> str:\n",
    "    \"\"\"\n",
    "    Formats the given text for markdown.\n",
    "\n",
    "    Args:\n",
    "        text (str): The text to be formatted.\n",
    "\n",
    "    Returns:\n",
    "        str: The formatted text.\n",
    "    \"\"\"\n",
    "    # Split the text into items\n",
    "    items = text.split(\"--END ITEM--\")\n",
    "    \n",
    "    # Process each item\n",
    "    formatted_items = []\n",
    "    for item in items:\n",
    "        if item.strip() == \"\":\n",
    "            continue\n",
    "\n",
    "        # Remove START ITEM tag and split into lines\n",
    "        lines = item.replace(\"--START ITEM--\", \"\").strip().split(\" \")\n",
    "\n",
    "        # Initialize formatted item\n",
    "        formatted_item = \"\\n\\n\"\n",
    "\n",
    "        # Add each line with a newline at the end\n",
    "        for line in lines:\n",
    "            if \"URL:\" in line or \"TITLE:\" in line:\n",
    "                formatted_item += \"<br/>\" + line\n",
    "            elif \"CONTENT:\" in line:\n",
    "                formatted_item += \"<br/>\" + line + \"<br/>\"\n",
    "            else:\n",
    "                formatted_item += \" \" + line\n",
    "\n",
    "        formatted_items.append(formatted_item.strip())\n",
    "\n",
    "    return \"<br/><br/>\".join(formatted_items)\n",
    "\n",
    "# Your provided text\n",
    "text = \"\"\"\n",
    "--START ITEM-- URL: https://www.stanley12volt.com/ TITLE: HOME | stanley12volt CONTENT: WATCH & LEARN Watch and Learn Learn more about your favorite products! Check out the Watch & Learn Section to see more videos Subscribe for Updates Congrats! You’re subscribed --END ITEM-- --START ITEM-- URL: https://www.woodcraft.com/categories/planes TITLE: Hand Planes for Sale from WoodRiver, Stanley, Veritas & More | Woodcraft CONTENT: Woodworking Hand Planes This Simple Yet Versatile Tool Deserves a Place In Your Workshop Hand Plane Resources & Videos Hand Planes are deceptively simple tools that when used properly can deliver speed and precision not possible with power tools or abrasives. Prior to the introduction of motorized power tools, hand planes bridged the gap between rough lumber and finished projects. A properly tuned hand plane can give you superior results when it comes to smoothing and other fine work. Learn more about this versatile tool through the articles and videos below, and be sure to check out our Woodcraft's Hand Plane Buying Guide! Top of Page --END ITEM-- --START ITEM-- URL: https://www.k-bid.com/auction/44829/item/203 TITLE: Vintage Stanley Woodworking Planer No. 602 CONTENT: Pick up is located at the back entrance of the warehouse.\n",
    "\"\"\"\n",
    "\n",
    "# Format the text for markdown\n",
    "formatted_text = format_for_markdown(text)\n",
    "print(f\"{formatted_text}\")"
   ]
  },
  {
   "cell_type": "code",
   "execution_count": null,
   "metadata": {},
   "outputs": [],
   "source": [
    "def clean_html_content(content: str) -> str:\n",
    "    \"\"\"\n",
    "    Clean the HTML content using BeautifulSoup.\n",
    "\n",
    "    Args:\n",
    "        content (str): HTML content.\n",
    "\n",
    "    Returns:\n",
    "        str: Cleaned text content.\n",
    "    \"\"\"\n",
    "    soup = BeautifulSoup(content, \"html.parser\")\n",
    "\n",
    "    # Extract header and paragraph tags\n",
    "    header_tags = soup.find_all(re.compile(r\"^h\\d$\"))\n",
    "    paragraph_tags = soup.find_all(\"p\")\n",
    "\n",
    "    # Strip HTML tags and collect text content\n",
    "    stripped_content = \"\"\n",
    "    for tag in header_tags + paragraph_tags:\n",
    "        stripped_content += \" \" + tag.get_text().strip() + \" \"\n",
    "\n",
    "    return \" \".join(stripped_content.split())\n",
    "\n",
    "\n",
    "def create_web_content_string(search_contents: list, char_limit: int = 9000) -> str:\n",
    "    \"\"\"\n",
    "    Build context for LLM call.\n",
    "\n",
    "    Args:\n",
    "        search_contents (list): List of search contents.\n",
    "        char_limit (int, optional): Total character limit. Defaults to 9000.\n",
    "\n",
    "    Returns:\n",
    "        str: Processed internet content.\n",
    "    \"\"\"\n",
    "    total_chars = sum(\n",
    "        [len(clean_html_content(item.extract)) for item in search_contents]\n",
    "    )\n",
    "    internet_content = \"\"\n",
    "\n",
    "    for item in search_contents:\n",
    "        cleaned_content = clean_html_content(item.extract)\n",
    "        item_chars = len(cleaned_content)\n",
    "        slice_ratio = item_chars / total_chars\n",
    "        slice_limit = int(char_limit * slice_ratio)\n",
    "        sliced_content = cleaned_content[:slice_limit]\n",
    "\n",
    "        internet_content += f\"--START ITEM--\\nURL: {item.url}\\nTITLE: {item.title}\\nCONTENT: {sliced_content}\\n--END ITEM--\\n\"\n",
    "\n",
    "    return internet_content\n",
    "\n",
    "\n",
    "def synthesize_report(topic: str, internet_content: str) -> str:\n",
    "    return openai.chat.completions.create(\n",
    "        model=\"gpt-4-1106-preview\",\n",
    "        temperature=1,\n",
    "        messages=[\n",
    "            {\n",
    "                \"role\": \"system\",\n",
    "                \"content\": \"You are a helpful internet research assistant specializing in empowering buyers. You help sift through raw search results to find the most relevant and interesting findings for user topic of interest.\",\n",
    "            },\n",
    "            {\n",
    "                \"role\": \"user\",\n",
    "                \"content\": \"Input Data:\\n\"\n",
    "                + internet_content\n",
    "                + f\"Write a two paragraph research report about **{topic}** based on the provided search results. One paragraph summarizing the Input Data, and another focusing on the main Research Topic. Include as many sources as possible. ALWAYS cite results using [[number](URL)] notation after the reference. End with a markdown table of all the URLs used. Remember to use markdown links when citing the context, for example [[number](URL)].\",\n",
    "            },\n",
    "        ],\n",
    "        )\n",
    "    \n"
   ]
  },
  {
   "cell_type": "code",
   "execution_count": null,
   "metadata": {},
   "outputs": [],
   "source": [
    "response = metaphor.search(\"ceiling drywall\",\n",
    "    num_results=5,\n",
    "    type='keyword',\n",
    "    start_published_date=\"2023-06-12\"\n",
    ")\n",
    "\n",
    "print(response)"
   ]
  },
  {
   "cell_type": "code",
   "execution_count": null,
   "metadata": {},
   "outputs": [],
   "source": [
    "def researcher(topic, n_queries, n_links_per_query):\n",
    "    search_queries = generate_search_queries(topic, n_queries)\n",
    "    print(search_queries)\n",
    "    search_results = get_search_results(search_queries, 'neural', n_links_per_query)\n",
    "    search_contents = get_page_contents([link.id for link in search_results])\n",
    "    internet_content = create_web_content_string(search_contents, 30000)\n",
    "    report = synthesize_report(topic, internet_content)\n",
    "    return report"
   ]
  },
  {
   "cell_type": "code",
   "execution_count": null,
   "metadata": {},
   "outputs": [],
   "source": [
    "research = researcher(PROPERTY_TOPIC, 2, 2)\n",
    "\n",
    "Markdown(f\"{research.choices[0].message.content}\")"
   ]
  },
  {
   "cell_type": "code",
   "execution_count": null,
   "metadata": {},
   "outputs": [],
   "source": []
  },
  {
   "cell_type": "code",
   "execution_count": null,
   "metadata": {},
   "outputs": [],
   "source": [
    "from langchain.tools import tool\n",
    "from crewai import Agent, Task, Crew, Process\n",
    "\n",
    "@tool\n",
    "def duckduckgo_search_tool(query: str) -> str:\n",
    "    \"\"\"\n",
    "    Tool to perform DuckDuckGo searches and return formatted results.\n",
    "    The input should be a string representing the search query.\n",
    "    This function has been updated to return a single string that formats all values from each dict in the list of results.\n",
    "\n",
    "    Args:\n",
    "        query (str): The search query.\n",
    "\n",
    "    Returns:\n",
    "        str: A formatted string containing titles, snippets, and links from all search results.\n",
    "    \"\"\"\n",
    "    # Initialize the DuckDuckGo Search API wrapper\n",
    "    duckduckgo_serper = DuckDuckGoSearchAPIWrapper()\n",
    "    # Run the search\n",
    "    results = duckduckgo_serper.results(query, max_results=4)\n",
    "    # Format each result into a readable string\n",
    "    formatted_results = []\n",
    "    for result in results:\n",
    "        formatted_result = f\"Title: {result['title']}\\nSnippet: {result['snippet']}\\nLink: {result['link']}\\n---\"\n",
    "        formatted_results.append(formatted_result)\n",
    "    # Join all formatted results into a single string\n",
    "    return \"\\n\\n\".join(formatted_results)\n",
    "\n",
    "# Initialize the Research Analyst agent and assign the custom tool\n",
    "research_analyst = Agent(\n",
    "    role='Research Analyst',\n",
    "    goal='Find comparable listings for items using DuckDuckGo Search',\n",
    "    backstory='Skilled in web scraping and market research, using DuckDuckGo searches to gather data on similar items for sale.',\n",
    "    verbose=True,\n",
    "    tools=[duckduckgo_search_tool]\n",
    ")\n",
    "\n",
    "# Task for the Research Analyst: Scrape comparable listings\n",
    "scrape_comps_task = Task(\n",
    "    description='Use DuckDuckGo Search to find and scrape comparable listings for a provided list of items.',\n",
    "    agent=research_analyst,\n",
    "    final_answer='Return a structured dataset with comparable listings data.',\n",
    "    expected_output='A JSON or structured format containing the titles, links, and prices of comparable listings.' \n",
    ")\n",
    "\n",
    "\n",
    "# Define the Data Analyst agent\n",
    "data_analyst = Agent(\n",
    "    role='Data Analyst',\n",
    "    goal='Analyze the data from comparable listings to provide pricing recommendations',\n",
    "    backstory='Expert in data analysis and pricing strategy, transforming data into actionable insights.',\n",
    "    verbose=True\n",
    ")\n",
    "\n",
    "# Task for the Data Analyst: Build pricing recommendations\n",
    "build_pricing_recommendations_task = Task(\n",
    "    description='Analyze the scraped data to determine competitive pricing recommendations for each item.',\n",
    "    agent=data_analyst,\n",
    "    final_answer='Provide a list of pricing recommendations for each item based on the analysis.',\n",
    "    expected_output='A list of items with their recommended pricing based on the market analysis.' \n",
    ")\n",
    "\n",
    "# Assemble the crew\n",
    "crew = Crew(\n",
    "    agents=[research_analyst, data_analyst],\n",
    "    tasks=[scrape_comps_task, build_pricing_recommendations_task],\n",
    "    process=Process.sequential,\n",
    "    verbose=True\n",
    ")"
   ]
  },
  {
   "cell_type": "code",
   "execution_count": null,
   "metadata": {},
   "outputs": [],
   "source": [
    "result = crew.kickoff()\n",
    "print(result)"
   ]
  }
 ],
 "metadata": {
  "kernelspec": {
   "display_name": ".venv",
   "language": "python",
   "name": "python3"
  },
  "language_info": {
   "codemirror_mode": {
    "name": "ipython",
    "version": 3
   },
   "file_extension": ".py",
   "mimetype": "text/x-python",
   "name": "python",
   "nbconvert_exporter": "python",
   "pygments_lexer": "ipython3",
   "version": "3.10.11"
  }
 },
 "nbformat": 4,
 "nbformat_minor": 2
}
