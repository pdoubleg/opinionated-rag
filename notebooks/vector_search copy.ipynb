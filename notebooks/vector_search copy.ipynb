{
 "cells": [
  {
   "cell_type": "code",
   "execution_count": 1,
   "metadata": {},
   "outputs": [],
   "source": [
    "import os\n",
    "os.environ[\"KMP_DUPLICATE_LIB_OK\"] = \"TRUE\"\n",
    "import re\n",
    "from dotenv import load_dotenv\n",
    "import pandas as pd\n",
    "\n",
    "from IPython.display import Markdown, display, HTML\n",
    "import warnings\n",
    "warnings.filterwarnings('ignore')\n",
    "pd.set_option('display.max_columns', None)\n",
    "load_dotenv()\n",
    "os.chdir(os.path.dirname(os.getcwd()))"
   ]
  },
  {
   "cell_type": "code",
   "execution_count": 2,
   "metadata": {},
   "outputs": [
    {
     "data": {
      "text/plain": [
       "((117, 6), (659, 4))"
      ]
     },
     "execution_count": 2,
     "metadata": {},
     "output_type": "execute_result"
    }
   ],
   "source": [
    "summary_df = pd.read_parquet('citation_summary_keywords.parquet')\n",
    "question_df = pd.read_parquet('citation_questions.parquet')\n",
    "summary_df.shape, question_df.shape"
   ]
  },
  {
   "cell_type": "code",
   "execution_count": 3,
   "metadata": {},
   "outputs": [
    {
     "data": {
      "text/markdown": [
       "\n",
       "Regarding the pollution exclusion clause under the terms of comprehensive general liability (CGL) insurance, how is phrase \"sudden and accidental' defined and applied given a claim involving gradual but unintentional polluting events.\n"
      ],
      "text/plain": [
       "<IPython.core.display.Markdown object>"
      ]
     },
     "execution_count": 3,
     "metadata": {},
     "output_type": "execute_result"
    }
   ],
   "source": [
    "test_query = \"\"\"\n",
    "Regarding the pollution exclusion clause under the terms of comprehensive general liability (CGL) insurance, \\\n",
    "how is phrase \"sudden and accidental' defined and applied given a claim involving gradual but unintentional polluting events.\n",
    "\"\"\"\n",
    "\n",
    "Markdown(test_query)"
   ]
  },
  {
   "cell_type": "code",
   "execution_count": 4,
   "metadata": {},
   "outputs": [
    {
     "data": {
      "text/html": [
       "<div>\n",
       "<style scoped>\n",
       "    .dataframe tbody tr th:only-of-type {\n",
       "        vertical-align: middle;\n",
       "    }\n",
       "\n",
       "    .dataframe tbody tr th {\n",
       "        vertical-align: top;\n",
       "    }\n",
       "\n",
       "    .dataframe thead th {\n",
       "        text-align: right;\n",
       "    }\n",
       "</style>\n",
       "<table border=\"1\" class=\"dataframe\">\n",
       "  <thead>\n",
       "    <tr style=\"text-align: right;\">\n",
       "      <th></th>\n",
       "      <th>citation</th>\n",
       "      <th>summary</th>\n",
       "      <th>keywords</th>\n",
       "      <th>recency</th>\n",
       "      <th>openai_embeddings_summary</th>\n",
       "      <th>splade_embeddings</th>\n",
       "    </tr>\n",
       "  </thead>\n",
       "  <tbody>\n",
       "    <tr>\n",
       "      <th>0</th>\n",
       "      <td>154 Ill. 2d 90</td>\n",
       "      <td>The case Outboard Marine Corp. v. Liberty Mutu...</td>\n",
       "      <td>insurance policy interpretation, duty to defen...</td>\n",
       "      <td>None</td>\n",
       "      <td>[-0.01926794834434986, 0.0018745827255770564, ...</td>\n",
       "      <td>[0.0, 0.0, 0.0, 0.0, 0.0, 0.0, 0.0, 0.0, 0.0, ...</td>\n",
       "    </tr>\n",
       "  </tbody>\n",
       "</table>\n",
       "</div>"
      ],
      "text/plain": [
       "         citation                                            summary  \\\n",
       "0  154 Ill. 2d 90  The case Outboard Marine Corp. v. Liberty Mutu...   \n",
       "\n",
       "                                            keywords recency  \\\n",
       "0  insurance policy interpretation, duty to defen...    None   \n",
       "\n",
       "                           openai_embeddings_summary  \\\n",
       "0  [-0.01926794834434986, 0.0018745827255770564, ...   \n",
       "\n",
       "                                   splade_embeddings  \n",
       "0  [0.0, 0.0, 0.0, 0.0, 0.0, 0.0, 0.0, 0.0, 0.0, ...  "
      ]
     },
     "execution_count": 4,
     "metadata": {},
     "output_type": "execute_result"
    }
   ],
   "source": [
    "summary_df.head(1)"
   ]
  },
  {
   "cell_type": "code",
   "execution_count": 5,
   "metadata": {},
   "outputs": [
    {
     "data": {
      "text/html": [
       "<div>\n",
       "<style scoped>\n",
       "    .dataframe tbody tr th:only-of-type {\n",
       "        vertical-align: middle;\n",
       "    }\n",
       "\n",
       "    .dataframe tbody tr th {\n",
       "        vertical-align: top;\n",
       "    }\n",
       "\n",
       "    .dataframe thead th {\n",
       "        text-align: right;\n",
       "    }\n",
       "</style>\n",
       "<table border=\"1\" class=\"dataframe\">\n",
       "  <thead>\n",
       "    <tr style=\"text-align: right;\">\n",
       "      <th></th>\n",
       "      <th>citation</th>\n",
       "      <th>question</th>\n",
       "      <th>openai_embeddings_question</th>\n",
       "      <th>splade_embeddings</th>\n",
       "    </tr>\n",
       "  </thead>\n",
       "  <tbody>\n",
       "    <tr>\n",
       "      <th>0</th>\n",
       "      <td>154 Ill. 2d 90</td>\n",
       "      <td>What are the key principles established by the...</td>\n",
       "      <td>[0.0014819653006270528, -0.01120856124907732, ...</td>\n",
       "      <td>[0.0, 0.0, 0.0, 0.0, 0.0, 0.0, 0.0, 0.0, 0.0, ...</td>\n",
       "    </tr>\n",
       "  </tbody>\n",
       "</table>\n",
       "</div>"
      ],
      "text/plain": [
       "         citation                                           question  \\\n",
       "0  154 Ill. 2d 90  What are the key principles established by the...   \n",
       "\n",
       "                          openai_embeddings_question  \\\n",
       "0  [0.0014819653006270528, -0.01120856124907732, ...   \n",
       "\n",
       "                                   splade_embeddings  \n",
       "0  [0.0, 0.0, 0.0, 0.0, 0.0, 0.0, 0.0, 0.0, 0.0, ...  "
      ]
     },
     "execution_count": 5,
     "metadata": {},
     "output_type": "execute_result"
    }
   ],
   "source": [
    "question_df.head(1)"
   ]
  },
  {
   "cell_type": "code",
   "execution_count": 6,
   "metadata": {},
   "outputs": [
    {
     "name": "stderr",
     "output_type": "stream",
     "text": [
      "\u001b[32m2024-04-04 23:54:54 - INFO - Using pre-computed 'question' embeddings from existing column: splade_embeddings\u001b[0m\n"
     ]
    }
   ],
   "source": [
    "from src.agent.tools.semantic_search import SemanticSearch\n",
    "from src.agent.tools.splade_search import SparseEmbeddingsSplade\n",
    "from src.search.query_expansion import segment\n",
    "\n",
    "semantic_search = SemanticSearch(\n",
    "    df=summary_df,\n",
    "    embedding_col_name='openai_embeddings_summary'\n",
    ")\n",
    "\n",
    "splade_search = SparseEmbeddingsSplade(\n",
    "    df=question_df,\n",
    "    text_column='question',\n",
    "    splade_column='splade_embeddings'\n",
    ")\n",
    "\n",
    "queries = segment(\n",
    "    test_query,\n",
    "    n='3 to 5'\n",
    ")"
   ]
  },
  {
   "cell_type": "code",
   "execution_count": 7,
   "metadata": {},
   "outputs": [
    {
     "data": {
      "text/plain": [
       "[SubQuestion(chain_of_thought=\"To understand how the phrase 'sudden and accidental' is defined, it's essential to explore the legal interpretations and definitions provided by courts or in the policy language itself.\", sub_question_topic=\"Definition of 'Sudden and Accidental'\", sub_question_query=\"How is the phrase 'sudden and accidental' defined in comprehensive general liability insurance policies?\", sub_question_keywords=['sudden and accidental', 'definition', 'CGL insurance', 'pollution exclusion']),\n",
       " SubQuestion(chain_of_thought=\"Given the complexity of pollution events, it's important to understand how courts have historically applied the 'sudden and accidental' clause in cases involving gradual pollution.\", sub_question_topic='Application in Gradual Pollution Cases', sub_question_query=\"How have courts applied the 'sudden and accidental' clause in CGL insurance to cases of gradual pollution?\", sub_question_keywords=['sudden and accidental', 'gradual pollution', 'court cases', 'CGL insurance', 'application']),\n",
       " SubQuestion(chain_of_thought=\"Exploring specific examples of claims involving gradual but unintentional polluting events can provide insight into the practical application of the 'sudden and accidental' clause.\", sub_question_topic='Examples of Gradual Pollution Claims', sub_question_query='What are examples of claims involving gradual but unintentional polluting events under CGL insurance policies?', sub_question_keywords=['gradual pollution', 'claims examples', 'CGL insurance', 'unintentional pollution']),\n",
       " SubQuestion(chain_of_thought=\"Understanding the legal principles or doctrines that influence the interpretation of 'sudden and accidental' can shed light on its application.\", sub_question_topic='Legal Principles Influencing Interpretation', sub_question_query=\"What legal principles or doctrines influence the interpretation of 'sudden and accidental' in CGL insurance policies?\", sub_question_keywords=['legal principles', 'doctrines', 'sudden and accidental', 'interpretation', 'CGL insurance'])]"
      ]
     },
     "execution_count": 7,
     "metadata": {},
     "output_type": "execute_result"
    }
   ],
   "source": [
    "queries.searches"
   ]
  },
  {
   "cell_type": "code",
   "execution_count": 33,
   "metadata": {},
   "outputs": [
    {
     "name": "stderr",
     "output_type": "stream",
     "text": [
      "\u001b[32m2024-04-05 00:11:38 - INFO - \n",
      "\n",
      "Thought: To understand how the phrase 'sudden and accidental' is defined, it's essential to explore the legal\n",
      "interpretations and definitions provided by courts or in the policy language itself.\n",
      "Search topic: Definition of 'Sudden and Accidental'\u001b[0m\n",
      "\u001b[32m2024-04-05 00:11:38 - INFO - Running vector (OpenAI) search on: How is the phrase 'sudden and accidental' defined in comprehensive general liability insurance policies?\u001b[0m\n",
      "\u001b[32m2024-04-05 00:11:38 - INFO - Running keyword (SPLADE) search on: sudden and accidental, definition, CGL insurance, pollution exclusion\u001b[0m\n",
      "\u001b[32m2024-04-05 00:11:38 - INFO - Returning 10 records from vector search and 10 from keywords\u001b[0m\n",
      "\u001b[32m2024-04-05 00:11:38 - INFO - ---------------------------------------------------------------------------\u001b[0m\n",
      "\u001b[32m2024-04-05 00:11:38 - INFO - \n",
      "\n",
      "Thought: Given the complexity of pollution events, it's important to understand how courts have historically\n",
      "applied the 'sudden and accidental' clause in cases involving gradual pollution.\n",
      "Search topic: Application in Gradual Pollution Cases\u001b[0m\n",
      "\u001b[32m2024-04-05 00:11:38 - INFO - Running vector (OpenAI) search on: How have courts applied the 'sudden and accidental' clause in CGL insurance to cases of gradual pollution?\u001b[0m\n",
      "\u001b[32m2024-04-05 00:11:38 - INFO - Running keyword (SPLADE) search on: sudden and accidental, gradual pollution, court cases, CGL insurance, application\u001b[0m\n",
      "\u001b[32m2024-04-05 00:11:38 - INFO - Returning 10 records from vector search and 10 from keywords\u001b[0m\n",
      "\u001b[32m2024-04-05 00:11:38 - INFO - ---------------------------------------------------------------------------\u001b[0m\n",
      "\u001b[32m2024-04-05 00:11:38 - INFO - \n",
      "\n",
      "Thought: Exploring specific examples of claims involving gradual but unintentional polluting events can\n",
      "provide insight into the practical application of the 'sudden and accidental' clause.\n",
      "Search topic: Examples of Gradual Pollution Claims\u001b[0m\n",
      "\u001b[32m2024-04-05 00:11:38 - INFO - Running vector (OpenAI) search on: What are examples of claims involving gradual but unintentional polluting events under CGL insurance policies?\u001b[0m\n",
      "\u001b[32m2024-04-05 00:11:39 - INFO - Running keyword (SPLADE) search on: gradual pollution, claims examples, CGL insurance, unintentional pollution\u001b[0m\n",
      "\u001b[32m2024-04-05 00:11:39 - INFO - Returning 10 records from vector search and 10 from keywords\u001b[0m\n",
      "\u001b[32m2024-04-05 00:11:39 - INFO - ---------------------------------------------------------------------------\u001b[0m\n",
      "\u001b[32m2024-04-05 00:11:39 - INFO - \n",
      "\n",
      "Thought: Understanding the legal principles or doctrines that influence the interpretation of 'sudden and\n",
      "accidental' can shed light on its application.\n",
      "Search topic: Legal Principles Influencing Interpretation\u001b[0m\n",
      "\u001b[32m2024-04-05 00:11:39 - INFO - Running vector (OpenAI) search on: What legal principles or doctrines influence the interpretation of 'sudden and accidental' in CGL insurance policies?\u001b[0m\n",
      "\u001b[32m2024-04-05 00:11:39 - INFO - Running keyword (SPLADE) search on: legal principles, doctrines, sudden and accidental, interpretation, CGL insurance\u001b[0m\n",
      "\u001b[32m2024-04-05 00:11:39 - INFO - Returning 10 records from vector search and 10 from keywords\u001b[0m\n",
      "\u001b[32m2024-04-05 00:11:39 - INFO - ---------------------------------------------------------------------------\u001b[0m\n"
     ]
    },
    {
     "data": {
      "text/plain": [
       "(4, 4)"
      ]
     },
     "execution_count": 33,
     "metadata": {},
     "output_type": "execute_result"
    }
   ],
   "source": [
    "vector_results, keyword_results = queries.execute(semantic_search, splade_search)\n",
    "len(vector_results), len(keyword_results)"
   ]
  },
  {
   "cell_type": "code",
   "execution_count": null,
   "metadata": {},
   "outputs": [],
   "source": [
    "vector_results = [df.reset_index(drop=False) for df in vector_results]\n",
    "keyword_results = [df.reset_index(drop=False) for df in keyword_results]"
   ]
  },
  {
   "cell_type": "code",
   "execution_count": 82,
   "metadata": {},
   "outputs": [
    {
     "data": {
      "text/plain": [
       "((40, 9), (40, 7))"
      ]
     },
     "execution_count": 82,
     "metadata": {},
     "output_type": "execute_result"
    }
   ],
   "source": [
    "pd.concat(vector_results).shape, pd.concat(keyword_results).shape"
   ]
  },
  {
   "cell_type": "code",
   "execution_count": 83,
   "metadata": {},
   "outputs": [],
   "source": [
    "from src.search.doc_joiner import DocJoinerDF\n",
    "\n",
    "df_joiner = DocJoinerDF(join_mode=\"reciprocal_rank_fusion\", top_k=20)"
   ]
  },
  {
   "cell_type": "code",
   "execution_count": 84,
   "metadata": {},
   "outputs": [
    {
     "data": {
      "text/plain": [
       "((19, 9), (20, 7))"
      ]
     },
     "execution_count": 84,
     "metadata": {},
     "output_type": "execute_result"
    }
   ],
   "source": [
    "vector_res = df_joiner.run(vector_results)\n",
    "keyword_res = df_joiner.run(keyword_results)\n",
    "vector_res.shape, keyword_res.shape"
   ]
  },
  {
   "cell_type": "code",
   "execution_count": 85,
   "metadata": {},
   "outputs": [
    {
     "data": {
      "text/html": [
       "<div>\n",
       "<style scoped>\n",
       "    .dataframe tbody tr th:only-of-type {\n",
       "        vertical-align: middle;\n",
       "    }\n",
       "\n",
       "    .dataframe tbody tr th {\n",
       "        vertical-align: top;\n",
       "    }\n",
       "\n",
       "    .dataframe thead th {\n",
       "        text-align: right;\n",
       "    }\n",
       "</style>\n",
       "<table border=\"1\" class=\"dataframe\">\n",
       "  <thead>\n",
       "    <tr style=\"text-align: right;\">\n",
       "      <th></th>\n",
       "      <th>index</th>\n",
       "      <th>citation</th>\n",
       "      <th>summary</th>\n",
       "      <th>keywords</th>\n",
       "      <th>recency</th>\n",
       "      <th>openai_embeddings_summary</th>\n",
       "      <th>splade_embeddings</th>\n",
       "      <th>search_type</th>\n",
       "      <th>score</th>\n",
       "    </tr>\n",
       "  </thead>\n",
       "  <tbody>\n",
       "    <tr>\n",
       "      <th>33</th>\n",
       "      <td>33</td>\n",
       "      <td>268 Ill. App. 3d 598</td>\n",
       "      <td>The case law from United States Gypsum Co. v. ...</td>\n",
       "      <td>insurance, claim, coverage, policy, occurrence...</td>\n",
       "      <td>None</td>\n",
       "      <td>[-0.008939363993704319, -0.011452711187303066,...</td>\n",
       "      <td>[0.0, 0.0, 0.0, 0.0, 0.0, 0.0, 0.0, 0.0, 0.0, ...</td>\n",
       "      <td>vector</td>\n",
       "      <td>0.984127</td>\n",
       "    </tr>\n",
       "    <tr>\n",
       "      <th>71</th>\n",
       "      <td>71</td>\n",
       "      <td>199 Ill. 2d 281</td>\n",
       "      <td>General Casualty Insurance Co. v. Lacey, 199 I...</td>\n",
       "      <td>insurance policy, summary judgment, duty to de...</td>\n",
       "      <td>This case has continually influenced the inter...</td>\n",
       "      <td>[-0.0014027409488335252, 0.010859929956495762,...</td>\n",
       "      <td>[0.0, 0.0, 0.0, 0.0, 0.0, 0.0, 0.0, 0.0, 0.0, ...</td>\n",
       "      <td>vector</td>\n",
       "      <td>0.957829</td>\n",
       "    </tr>\n",
       "    <tr>\n",
       "      <th>53</th>\n",
       "      <td>53</td>\n",
       "      <td>643 N.E.2d 1226</td>\n",
       "      <td>643 N.E.2d 1226, United States Gypsum Co. v. A...</td>\n",
       "      <td>insurance law, continuous trigger approach, pr...</td>\n",
       "      <td>References to 643 N.E.2d 1226 have evolved to ...</td>\n",
       "      <td>[-0.02118617109954357, -0.003369903890416026, ...</td>\n",
       "      <td>[0.0, 0.0, 0.0, 0.0, 0.0, 0.0, 0.0, 0.0, 0.0, ...</td>\n",
       "      <td>vector</td>\n",
       "      <td>0.951231</td>\n",
       "    </tr>\n",
       "    <tr>\n",
       "      <th>91</th>\n",
       "      <td>91</td>\n",
       "      <td>363 Ill. App. 3d 335</td>\n",
       "      <td>Liberty Mutual Fire Insurance Co. v. St. Paul ...</td>\n",
       "      <td>insurance policy, interpretation, obligations,...</td>\n",
       "      <td>None</td>\n",
       "      <td>[-0.006612452678382397, -0.00979774072766304, ...</td>\n",
       "      <td>[0.0, 0.0, 0.0, 0.0, 0.0, 0.0, 0.0, 0.0, 0.0, ...</td>\n",
       "      <td>vector</td>\n",
       "      <td>0.928014</td>\n",
       "    </tr>\n",
       "    <tr>\n",
       "      <th>40</th>\n",
       "      <td>40</td>\n",
       "      <td>89 Ill. App. 3d 617</td>\n",
       "      <td>The case Aetna Casualty &amp; Surety Co. v. Freyer...</td>\n",
       "      <td>insurance, accident, definition, unforeseen oc...</td>\n",
       "      <td>The definition of 'accident' established in 89...</td>\n",
       "      <td>[-0.003400814952328801, -0.015401927754282951,...</td>\n",
       "      <td>[0.0, 0.0, 0.0, 0.0, 0.0, 0.0, 0.0, 0.0, 0.0, ...</td>\n",
       "      <td>vector</td>\n",
       "      <td>0.717857</td>\n",
       "    </tr>\n",
       "  </tbody>\n",
       "</table>\n",
       "</div>"
      ],
      "text/plain": [
       "    index              citation  \\\n",
       "33     33  268 Ill. App. 3d 598   \n",
       "71     71       199 Ill. 2d 281   \n",
       "53     53       643 N.E.2d 1226   \n",
       "91     91  363 Ill. App. 3d 335   \n",
       "40     40   89 Ill. App. 3d 617   \n",
       "\n",
       "                                              summary  \\\n",
       "33  The case law from United States Gypsum Co. v. ...   \n",
       "71  General Casualty Insurance Co. v. Lacey, 199 I...   \n",
       "53  643 N.E.2d 1226, United States Gypsum Co. v. A...   \n",
       "91  Liberty Mutual Fire Insurance Co. v. St. Paul ...   \n",
       "40  The case Aetna Casualty & Surety Co. v. Freyer...   \n",
       "\n",
       "                                             keywords  \\\n",
       "33  insurance, claim, coverage, policy, occurrence...   \n",
       "71  insurance policy, summary judgment, duty to de...   \n",
       "53  insurance law, continuous trigger approach, pr...   \n",
       "91  insurance policy, interpretation, obligations,...   \n",
       "40  insurance, accident, definition, unforeseen oc...   \n",
       "\n",
       "                                              recency  \\\n",
       "33                                               None   \n",
       "71  This case has continually influenced the inter...   \n",
       "53  References to 643 N.E.2d 1226 have evolved to ...   \n",
       "91                                               None   \n",
       "40  The definition of 'accident' established in 89...   \n",
       "\n",
       "                            openai_embeddings_summary  \\\n",
       "33  [-0.008939363993704319, -0.011452711187303066,...   \n",
       "71  [-0.0014027409488335252, 0.010859929956495762,...   \n",
       "53  [-0.02118617109954357, -0.003369903890416026, ...   \n",
       "91  [-0.006612452678382397, -0.00979774072766304, ...   \n",
       "40  [-0.003400814952328801, -0.015401927754282951,...   \n",
       "\n",
       "                                    splade_embeddings search_type     score  \n",
       "33  [0.0, 0.0, 0.0, 0.0, 0.0, 0.0, 0.0, 0.0, 0.0, ...      vector  0.984127  \n",
       "71  [0.0, 0.0, 0.0, 0.0, 0.0, 0.0, 0.0, 0.0, 0.0, ...      vector  0.957829  \n",
       "53  [0.0, 0.0, 0.0, 0.0, 0.0, 0.0, 0.0, 0.0, 0.0, ...      vector  0.951231  \n",
       "91  [0.0, 0.0, 0.0, 0.0, 0.0, 0.0, 0.0, 0.0, 0.0, ...      vector  0.928014  \n",
       "40  [0.0, 0.0, 0.0, 0.0, 0.0, 0.0, 0.0, 0.0, 0.0, ...      vector  0.717857  "
      ]
     },
     "execution_count": 85,
     "metadata": {},
     "output_type": "execute_result"
    }
   ],
   "source": [
    "vector_res.head()"
   ]
  },
  {
   "cell_type": "code",
   "execution_count": 64,
   "metadata": {},
   "outputs": [],
   "source": [
    "from src.embedding_models.models import ColbertReranker\n",
    "from src.search.threadpool import run_functions_tuples_in_parallel"
   ]
  },
  {
   "cell_type": "code",
   "execution_count": 86,
   "metadata": {},
   "outputs": [],
   "source": [
    "USEFUL_PAT = \"Yes useful\"\n",
    "NONUSEFUL_PAT = \"Not useful\"\n",
    "CHUNK_FILTER_PROMPT = f\"\"\"\n",
    "Determine if the reference section is USEFUL for answering the user query.\n",
    "It is good enough for the section to be related or similar to the query, \\\n",
    "it should be relevant information that is USEFUL for comparing to the query.\n",
    "If the section contains ANY useful information, that is good enough, \\\n",
    "it does not need to fully answer the user query, but it \\\n",
    "should at least address a component to be USEFUL.\n",
    "\n",
    "Reference Section:\n",
    "```\n",
    "{{chunk_text}}\n",
    "```\n",
    "\n",
    "User Query:\n",
    "```\n",
    "{{user_query}}\n",
    "```\n",
    "\n",
    "Respond with EXACTLY AND ONLY: \"{USEFUL_PAT}\" or \"{NONUSEFUL_PAT}\"\n",
    "\"\"\".strip()"
   ]
  },
  {
   "cell_type": "code",
   "execution_count": 66,
   "metadata": {},
   "outputs": [],
   "source": [
    "from langchain.schema.messages import AIMessage\n",
    "from langchain.schema.messages import BaseMessage\n",
    "from langchain.schema.messages import HumanMessage\n",
    "from langchain.schema.messages import SystemMessage\n",
    "\n",
    "def dict_based_prompt_to_langchain_prompt(\n",
    "    messages: list[dict[str, str]]\n",
    ") -> list[BaseMessage]:\n",
    "    prompt: list[BaseMessage] = []\n",
    "    for message in messages:\n",
    "        role = message.get(\"role\")\n",
    "        content = message.get(\"content\")\n",
    "        if not role:\n",
    "            raise ValueError(f\"Message missing `role`: {message}\")\n",
    "        if not content:\n",
    "            raise ValueError(f\"Message missing `content`: {message}\")\n",
    "        elif role == \"user\":\n",
    "            prompt.append(HumanMessage(content=content))\n",
    "        elif role == \"system\":\n",
    "            prompt.append(SystemMessage(content=content))\n",
    "        elif role == \"assistant\":\n",
    "            prompt.append(AIMessage(content=content))\n",
    "        else:\n",
    "            raise ValueError(f\"Unknown role: {role}\")\n",
    "    return prompt"
   ]
  },
  {
   "cell_type": "code",
   "execution_count": 67,
   "metadata": {},
   "outputs": [],
   "source": [
    "from typing import Callable\n",
    "from langchain_openai import ChatOpenAI\n",
    "\n",
    "def llm_eval_chunk(query: str, chunk_content: str) -> bool:\n",
    "    def _get_usefulness_messages() -> list[dict[str, str]]:\n",
    "        messages = [\n",
    "            {\n",
    "                \"role\": \"user\",\n",
    "                \"content\": CHUNK_FILTER_PROMPT.format(\n",
    "                    chunk_text=chunk_content, user_query=query\n",
    "                ),\n",
    "            },\n",
    "        ]\n",
    "\n",
    "        return messages\n",
    "\n",
    "    def _extract_usefulness(model_output: str) -> bool:\n",
    "        \"\"\"Default 'useful' if the LLM doesn't match pattern exactly.\n",
    "        This is because it's better to trust the (re)ranking if LLM fails\"\"\"\n",
    "        if model_output.content.strip().strip('\"').lower() == NONUSEFUL_PAT.lower():\n",
    "            return False\n",
    "        return True\n",
    "\n",
    "    llm = ChatOpenAI(model='gpt-3.5-turbo')\n",
    "\n",
    "    messages = _get_usefulness_messages()\n",
    "    filled_llm_prompt = dict_based_prompt_to_langchain_prompt(messages)\n",
    "    model_output = llm.invoke(filled_llm_prompt)\n",
    "\n",
    "    return _extract_usefulness(model_output)\n",
    "\n",
    "\n",
    "def llm_batch_eval_chunks(\n",
    "    query: str, chunk_contents: list[str], use_threads: bool = True\n",
    ") -> list[bool]:\n",
    "    if use_threads:\n",
    "        functions_with_args: list[tuple[Callable, tuple]] = [\n",
    "            (llm_eval_chunk, (query, chunk_content)) for chunk_content in chunk_contents\n",
    "        ]\n",
    "\n",
    "        print(\n",
    "            \"Running LLM usefulness eval in parallel (following logging may be out of order)\"\n",
    "        )\n",
    "        parallel_results = run_functions_tuples_in_parallel(\n",
    "            functions_with_args, allow_failures=True\n",
    "        )\n",
    "\n",
    "        # In case of failure/timeout, don't throw out the chunk\n",
    "        return [True if item is None else item for item in parallel_results]\n",
    "\n",
    "    else:\n",
    "        return [\n",
    "            llm_eval_chunk(query, chunk_content) for chunk_content in chunk_contents\n",
    "        ]"
   ]
  },
  {
   "cell_type": "code",
   "execution_count": 68,
   "metadata": {},
   "outputs": [],
   "source": [
    "from llama_index_client import TextNode\n",
    "from src.search.models import dataframe_to_text_nodes\n",
    "\n",
    "def filter_chunks(\n",
    "    query: str,\n",
    "    chunks_to_filter: list[TextNode],\n",
    "    max_llm_filter_chunks: int = 20,\n",
    ") -> list[TextNode]:\n",
    "    \"\"\"Filters chunks based on whether the LLM thought they were relevant to the query.\n",
    "\n",
    "    Args:\n",
    "        query (str): The query to filter chunks against.\n",
    "        chunks_to_filter (list[TextNode]): A list of TextNode objects to filter.\n",
    "        max_llm_filter_chunks (int, optional): The maximum number of chunks to consider. Defaults to 20.\n",
    "\n",
    "    Returns:\n",
    "        list[TextNode]: A list of TextNode objects that were marked as relevant.\n",
    "    \"\"\"\n",
    "    chunks_to_filter = chunks_to_filter[: max_llm_filter_chunks]\n",
    "    llm_chunk_selection = llm_batch_eval_chunks(\n",
    "        query=query,\n",
    "        chunk_contents=[chunk.text for chunk in chunks_to_filter],\n",
    "    )\n",
    "    return [\n",
    "        chunk\n",
    "        for ind, chunk in enumerate(chunks_to_filter)\n",
    "        if llm_chunk_selection[ind]\n",
    "    ]"
   ]
  },
  {
   "cell_type": "code",
   "execution_count": 69,
   "metadata": {},
   "outputs": [
    {
     "data": {
      "text/plain": [
       "[SubQuestion(chain_of_thought=\"To understand how the phrase 'sudden and accidental' is defined, it's essential to explore the legal interpretations and definitions provided by courts or in the policy language itself.\", sub_question_topic=\"Definition of 'Sudden and Accidental'\", sub_question_query=\"How is the phrase 'sudden and accidental' defined in comprehensive general liability insurance policies?\", sub_question_keywords=['sudden and accidental', 'definition', 'CGL insurance', 'pollution exclusion']),\n",
       " SubQuestion(chain_of_thought=\"Given the complexity of pollution events, it's important to understand how courts have historically applied the 'sudden and accidental' clause in cases involving gradual pollution.\", sub_question_topic='Application in Gradual Pollution Cases', sub_question_query=\"How have courts applied the 'sudden and accidental' clause in CGL insurance to cases of gradual pollution?\", sub_question_keywords=['sudden and accidental', 'gradual pollution', 'court cases', 'CGL insurance', 'application']),\n",
       " SubQuestion(chain_of_thought=\"Exploring specific examples of claims involving gradual but unintentional polluting events can provide insight into the practical application of the 'sudden and accidental' clause.\", sub_question_topic='Examples of Gradual Pollution Claims', sub_question_query='What are examples of claims involving gradual but unintentional polluting events under CGL insurance policies?', sub_question_keywords=['gradual pollution', 'claims examples', 'CGL insurance', 'unintentional pollution']),\n",
       " SubQuestion(chain_of_thought=\"Understanding the legal principles or doctrines that influence the interpretation of 'sudden and accidental' can shed light on its application.\", sub_question_topic='Legal Principles Influencing Interpretation', sub_question_query=\"What legal principles or doctrines influence the interpretation of 'sudden and accidental' in CGL insurance policies?\", sub_question_keywords=['legal principles', 'doctrines', 'sudden and accidental', 'interpretation', 'CGL insurance'])]"
      ]
     },
     "execution_count": 69,
     "metadata": {},
     "output_type": "execute_result"
    }
   ],
   "source": [
    "queries.searches"
   ]
  },
  {
   "cell_type": "code",
   "execution_count": 89,
   "metadata": {},
   "outputs": [
    {
     "name": "stdout",
     "output_type": "stream",
     "text": [
      "Running LLM usefulness eval in parallel (following logging may be out of order)\n",
      "\n",
      "Returned 12 nodes\n",
      "\n",
      "Regarding the pollution exclusion clause under the terms of comprehensive general liability (CGL) insurance, how is phrase \"sudden and accidental' defined and applied given a claim involving gradual but unintentional polluting events.\n",
      "\n",
      "\n",
      "Node ID: 268 Ill. App. 3d 598\n",
      "Text: The case law from United States Gypsum Co. v. Admiral Insurance\n",
      "Co., 268 Ill. App. 3d 598, clarifies significant concepts in insurance\n",
      "law across multiple topics, such as the determination of claim\n",
      "coverage based on third party's claim contents, the interpretation of\n",
      "'occurrences' using the 'cause' theory, guidance on definitional\n",
      "aspects of 'oc...\n",
      "--------------------------------------------------\n",
      "Node ID: 199 Ill. 2d 281\n",
      "Text: General Casualty Insurance Co. v. Lacey, 199 Ill. 2d 281 (2002)\n",
      "is a pivotal case that has been cited extensively to address legal\n",
      "standards related to insurance policy interpretations, the duty to\n",
      "defend and indemnify, procedural standards for granting summary\n",
      "judgment, and legal proceedings concerning policy exclusions. It has\n",
      "laid down signif...\n",
      "--------------------------------------------------\n",
      "Node ID: 363 Ill. App. 3d 335\n",
      "Text: Liberty Mutual Fire Insurance Co. v. St. Paul Fire & Marine\n",
      "Insurance Co., 363 Ill. App. 3d 335 (2005), is a foundational case\n",
      "that provides guidance on multiple aspects related to insurance\n",
      "policies, including the interpretation of insurance policy language,\n",
      "the obligations of the parties involved, the process for adding an\n",
      "entity as an additio...\n",
      "--------------------------------------------------\n",
      "Node ID: 89 Ill. App. 3d 617\n",
      "Text: The case Aetna Casualty & Surety Co. v. Freyer, 89 Ill. App. 3d\n",
      "617, established the definition of 'accident' within the realm of\n",
      "insurance policies as 'an unforeseen occurrence, usually of an\n",
      "untoward or disastrous character or an undesigned sudden or unexpected\n",
      "event of an inflictive or unfortunate character.' This definition has\n",
      "been consiste...\n",
      "--------------------------------------------------\n",
      "Node ID: 197 Ill. 2d 278\n",
      "Text: Travelers Insurance Co. v. Eljer Manufacturing, Inc. addresses\n",
      "several key issues in insurance law, including the construction of\n",
      "insurance policy provisions, the application of the initial permission\n",
      "rule, the definition of \"property damage\", the scope of duty to defend\n",
      "and indemnify, the principles for granting summary judgment, and the\n",
      "interp...\n",
      "--------------------------------------------------\n",
      "Node ID: 578 N.E.2d 926\n",
      "Text: The citation 578 N.E.2d 926 concerns primarily the\n",
      "interpretation of insurance policies, focusing on the broad duty of\n",
      "insurers to defend their insured, the consideration of ambiguous\n",
      "policy terms in favor of the insured, and the principles for\n",
      "determining coverage in complex scenarios such as pollution or\n",
      "property damage. It establishes that in...\n",
      "--------------------------------------------------\n",
      "Node ID: 620 N.E.2d 1073\n",
      "Text: The citation 620 N.E.2d 1073 primarily addresses the principles\n",
      "of interpreting insurance policies, focusing on ascertaining and\n",
      "enforcing the intentions of the parties as expressed in the agreement.\n",
      "It emphasizes the duty of insurers to defend their insured if the\n",
      "allegations potentially fall within the policy's coverage. The case\n",
      "also highligh...\n",
      "--------------------------------------------------\n",
      "Node ID: 158 Ill. 2d 116\n",
      "Text: The seminal case of National Union Fire Insurance Co. v.\n",
      "Glenview Park District, 158 Ill. 2d 116 (1994) plays a pivotal role in\n",
      "the interpretation of insurance policies, emphasizing the importance\n",
      "of clearly specifying coverage limits and endorsements, constructing\n",
      "policy terms in favor of the insured in case of ambiguity, defining\n",
      "the duty of i...\n",
      "--------------------------------------------------\n",
      "Node ID: 92 Ill. 2d 388\n",
      "Text: Conway v. Country Casualty Insurance Co. clarified that an\n",
      "insurer cannot simply discharge its duty to defend by making payment\n",
      "up to the policy limits or depositing those limits with the court. It\n",
      "established the principles guiding the duty to defend, including that\n",
      "this duty is a separate and distinct obligation from the duty to\n",
      "indemnify, and...\n",
      "--------------------------------------------------\n",
      "Node ID: 357 Ill. App. 3d 955\n",
      "Text: The case cautions against broadly interpreting the 'arising out\n",
      "of' language in an insurance policy exclusion to avoid expanding the\n",
      "exclusion advantageously for the insurer. It supports the principle\n",
      "that insurers may justifiably refuse to defend against underlying\n",
      "actions if the complaint clearly does not allege facts potentially\n",
      "within covera...\n",
      "--------------------------------------------------\n",
      "Node ID: 757 N.E.2d 481\n",
      "Text: The citation 757 N.E.2d 481, primarily referencing Travelers\n",
      "Insurance Co. v. Eljer Manufacturing, Inc., highlights principles\n",
      "related to insurance policy interpretation, particularly the court's\n",
      "duty to ascertain the intent of the parties, the insurer's duty to\n",
      "defend, and the standards for summary judgment. It establishes that\n",
      "construction lan...\n",
      "--------------------------------------------------\n",
      "Node ID: 118 Ill. 2d 23\n",
      "Text: The case of Zurich Insurance Co. v. Raymark Industries, Inc.,\n",
      "118 Ill. 2d 23 (1987), primarily addresses issues related to insurance\n",
      "coverage, specifically focusing on the duties to defend and indemnify,\n",
      "the interpretation of policy terms, and the trigger of coverage for\n",
      "asbestos-related claims. It clarifies that the duty to defend and\n",
      "indemnify...\n",
      "--------------------------------------------------\n"
     ]
    }
   ],
   "source": [
    "nodes = dataframe_to_text_nodes(\n",
    "    vector_res,\n",
    "    id_column='citation', \n",
    "    text_col='summary',\n",
    "    metadata_fields=['citation']\n",
    ")\n",
    "\n",
    "filtered_chunks = filter_chunks(test_query, nodes)\n",
    "print(f\"\\nReturned {len(filtered_chunks)} nodes\")\n",
    "print(f\"{test_query}\\n\")\n",
    "for obj in filtered_chunks:\n",
    "    print(obj)\n",
    "    print(\"-\" * 50)"
   ]
  },
  {
   "cell_type": "code",
   "execution_count": 90,
   "metadata": {},
   "outputs": [
    {
     "name": "stdout",
     "output_type": "stream",
     "text": [
      "Running LLM usefulness eval in parallel (following logging may be out of order)\n",
      "\n",
      "Returned 8 nodes\n",
      "\n",
      "Regarding the pollution exclusion clause under the terms of comprehensive general liability (CGL) insurance, how is phrase \"sudden and accidental' defined and applied given a claim involving gradual but unintentional polluting events.\n",
      "\n",
      "\n",
      "Node ID: 687 N.E.2d 72\n",
      "Text: What precedent establishes the scope of environmental pollution\n",
      "exclusions in insurance policies?\n",
      "--------------------------------------------------\n",
      "Node ID: 578 N.E.2d 926\n",
      "Text: What conditions must be met for the standard pollution exclusion\n",
      "to apply in insurance policies according to this citation?\n",
      "--------------------------------------------------\n",
      "Node ID: 757 N.E.2d 481\n",
      "Text: What constitutes an 'occurrence' under a CGL policy in cases\n",
      "related to property damage?\n",
      "--------------------------------------------------\n",
      "Node ID: 144 Ill. 2d 64\n",
      "Text: What principles apply to the interpretation of exclusionary\n",
      "clauses in insurance policies?\n",
      "--------------------------------------------------\n",
      "Node ID: 181 Ill. 2d 436\n",
      "Text: What guidelines exist for the interpretation of exclusion\n",
      "clauses in insurance policies?\n",
      "--------------------------------------------------\n",
      "Node ID: 156 Ill. 2d 384\n",
      "Text: What principles guide the interpretation of insurance policy\n",
      "language?\n",
      "--------------------------------------------------\n",
      "Node ID: 223 Ill. 2d 352\n",
      "Text: In what way do insurance policies approach the interpretation of\n",
      "exclusions and coverage clauses?\n",
      "--------------------------------------------------\n",
      "Node ID: 89 Ill. App. 3d 617\n",
      "Text: How has the definition of 'accident' been applied in insurance\n",
      "litigation?\n",
      "--------------------------------------------------\n"
     ]
    }
   ],
   "source": [
    "nodes_kw = dataframe_to_text_nodes(\n",
    "    keyword_res,\n",
    "    id_column='citation', \n",
    "    text_col='question',\n",
    "    metadata_fields=['citation']\n",
    ")\n",
    "\n",
    "filtered_chunks_kw = filter_chunks(test_query, nodes_kw)\n",
    "print(f\"\\nReturned {len(filtered_chunks_kw)} nodes\")\n",
    "print(f\"{test_query}\\n\")\n",
    "for obj in filtered_chunks_kw:\n",
    "    print(obj)\n",
    "    print(\"-\" * 50)"
   ]
  },
  {
   "cell_type": "code",
   "execution_count": 96,
   "metadata": {},
   "outputs": [],
   "source": [
    "distinct_citations = list(set(node.metadata['citation'] for node in filtered_chunks + filtered_chunks_kw))"
   ]
  },
  {
   "cell_type": "code",
   "execution_count": 97,
   "metadata": {},
   "outputs": [
    {
     "data": {
      "text/plain": [
       "17"
      ]
     },
     "execution_count": 97,
     "metadata": {},
     "output_type": "execute_result"
    }
   ],
   "source": [
    "len(distinct_citations)"
   ]
  },
  {
   "cell_type": "code",
   "execution_count": 120,
   "metadata": {},
   "outputs": [
    {
     "data": {
      "text/markdown": [
       "The case law from United States Gypsum Co. v. Admiral Insurance Co., 268 Ill. App. 3d 598, clarifies significant concepts in insurance law across multiple topics, such as the determination of claim coverage based on third party's claim contents, the interpretation of 'occurrences' using the 'cause' theory, guidance on definitional aspects of 'occurrence' in policies for progressive property damage, issues around settlements following an insurer's breach of duty to defend, principles of indemnification, applying a continuing trigger analysis for pollution damage, assessing the 'continuing process' of manufacturing and selling products as one occurrence, and the importance of cause in determining the number of occurrences. It has been cited to address the need to determine the interpretation of insurance policy terms, the standard for reasonableness of settlements, and ethical issues in insurer-insured relationships."
      ],
      "text/plain": [
       "<IPython.core.display.Markdown object>"
      ]
     },
     "execution_count": 120,
     "metadata": {},
     "output_type": "execute_result"
    }
   ],
   "source": [
    "from src.search.models import text_nodes_to_dataframe\n",
    "\n",
    "search_res_df = text_nodes_to_dataframe(nodes)\n",
    "Markdown(search_res_df.head(1)['text'].tolist()[0])"
   ]
  },
  {
   "cell_type": "code",
   "execution_count": 125,
   "metadata": {},
   "outputs": [
    {
     "data": {
      "text/html": [
       "<div>\n",
       "<style scoped>\n",
       "    .dataframe tbody tr th:only-of-type {\n",
       "        vertical-align: middle;\n",
       "    }\n",
       "\n",
       "    .dataframe tbody tr th {\n",
       "        vertical-align: top;\n",
       "    }\n",
       "\n",
       "    .dataframe thead th {\n",
       "        text-align: right;\n",
       "    }\n",
       "</style>\n",
       "<table border=\"1\" class=\"dataframe\">\n",
       "  <thead>\n",
       "    <tr style=\"text-align: right;\">\n",
       "      <th></th>\n",
       "      <th>text</th>\n",
       "      <th>citation</th>\n",
       "    </tr>\n",
       "  </thead>\n",
       "  <tbody>\n",
       "    <tr>\n",
       "      <th>0</th>\n",
       "      <td>The case law from United States Gypsum Co. v. ...</td>\n",
       "      <td>268 Ill. App. 3d 598</td>\n",
       "    </tr>\n",
       "    <tr>\n",
       "      <th>1</th>\n",
       "      <td>General Casualty Insurance Co. v. Lacey, 199 I...</td>\n",
       "      <td>199 Ill. 2d 281</td>\n",
       "    </tr>\n",
       "    <tr>\n",
       "      <th>2</th>\n",
       "      <td>643 N.E.2d 1226, United States Gypsum Co. v. A...</td>\n",
       "      <td>643 N.E.2d 1226</td>\n",
       "    </tr>\n",
       "    <tr>\n",
       "      <th>3</th>\n",
       "      <td>Liberty Mutual Fire Insurance Co. v. St. Paul ...</td>\n",
       "      <td>363 Ill. App. 3d 335</td>\n",
       "    </tr>\n",
       "    <tr>\n",
       "      <th>4</th>\n",
       "      <td>The case Aetna Casualty &amp; Surety Co. v. Freyer...</td>\n",
       "      <td>89 Ill. App. 3d 617</td>\n",
       "    </tr>\n",
       "  </tbody>\n",
       "</table>\n",
       "</div>"
      ],
      "text/plain": [
       "                                                text              citation\n",
       "0  The case law from United States Gypsum Co. v. ...  268 Ill. App. 3d 598\n",
       "1  General Casualty Insurance Co. v. Lacey, 199 I...       199 Ill. 2d 281\n",
       "2  643 N.E.2d 1226, United States Gypsum Co. v. A...       643 N.E.2d 1226\n",
       "3  Liberty Mutual Fire Insurance Co. v. St. Paul ...  363 Ill. App. 3d 335\n",
       "4  The case Aetna Casualty & Surety Co. v. Freyer...   89 Ill. App. 3d 617"
      ]
     },
     "execution_count": 125,
     "metadata": {},
     "output_type": "execute_result"
    }
   ],
   "source": [
    "search_res_df.head()"
   ]
  },
  {
   "cell_type": "code",
   "execution_count": 133,
   "metadata": {},
   "outputs": [],
   "source": [
    "from src.utils.gen_utils import count_tokens\n",
    "\n",
    "\n",
    "def create_context(\n",
    "    df: pd.DataFrame,\n",
    "    context_token_limit: int = 25000\n",
    ") -> str:\n",
    "    \"\"\"\n",
    "    Creates a context string from a DataFrame within a specified token limit,\n",
    "    applying word wrapping to the summary text.\n",
    "\n",
    "    Args:\n",
    "        df (pd.DataFrame): The DataFrame containing case data.\n",
    "        context_token_limit (int): The maximum number of tokens for the context.\n",
    "\n",
    "    Returns:\n",
    "        str: A formatted string containing case details within the token limit,\n",
    "             with word wrapping applied to the summary text.\n",
    "    \"\"\"\n",
    "    import textwrap\n",
    "\n",
    "    df.reset_index(drop=True, inplace=True)\n",
    "    returns = []\n",
    "    count = 1\n",
    "    total_tokens = 100  # Starting token count to account for initial text.\n",
    "    # Add the text to the context until the context is too long.\n",
    "    for _, row in df.iterrows():\n",
    "        wrapped_summary = textwrap.fill(row['text'], width=80)\n",
    "        text = (\n",
    "            f\"[{count}] {row['citation']}\\n\"\n",
    "            f\"Summary: {wrapped_summary}\\n\"\n",
    "            \"-----------------------------------------\\n\"\n",
    "        )\n",
    "        text_tokens = count_tokens(text)\n",
    "        if total_tokens + text_tokens > context_token_limit:\n",
    "            break\n",
    "        returns.append(text)\n",
    "        total_tokens += text_tokens\n",
    "        count += 1\n",
    "    return \"\\n\\n\".join(returns)"
   ]
  },
  {
   "cell_type": "code",
   "execution_count": 134,
   "metadata": {},
   "outputs": [],
   "source": [
    "context = create_context(search_res_df)"
   ]
  },
  {
   "cell_type": "code",
   "execution_count": 141,
   "metadata": {},
   "outputs": [],
   "source": [
    "from src.agent.tools.utils import extract_citation_numbers_in_brackets\n",
    "\n",
    "def create_formatted_input(\n",
    "    df: pd.DataFrame,\n",
    "    query: str,\n",
    "    context_token_limit: int = 25000,\n",
    "    instructions: str = \"\"\"Instructions: Working step-by-step using only the provided search results that are relevant, write a detailed and structured analysis to guide the users research.\\n\\nNew Query:\"\"\",\n",
    ") -> str:\n",
    "\n",
    "    context = create_context(df)\n",
    "\n",
    "    try:\n",
    "        prompt = f\"\"\"{context}\\n\\n{instructions}\\n{query}\\n\\nAnalysis:\"\"\"\n",
    "        prompt_citations = extract_citation_numbers_in_brackets(prompt)\n",
    "        # print(f\"\\nCases in prompt: {prompt_citations}\\n\")\n",
    "        # print(prompt)\n",
    "        return prompt\n",
    "    except Exception as e:\n",
    "        print(e)\n",
    "        return \"\""
   ]
  },
  {
   "cell_type": "code",
   "execution_count": 145,
   "metadata": {},
   "outputs": [],
   "source": [
    "from src.agent.tools.utils import ResearchReport\n",
    "import openai\n",
    "import instructor\n",
    "from tenacity import Retrying, stop_after_attempt, wait_fixed\n",
    "\n",
    "\n",
    "def get_final_answer(formatted_input: str, model_name: str) -> ResearchReport:\n",
    "    client = instructor.patch(openai.OpenAI())\n",
    "    return client.chat.completions.create(\n",
    "        model=model_name,\n",
    "        response_model=ResearchReport,\n",
    "        max_retries=Retrying(\n",
    "            stop=stop_after_attempt(5),\n",
    "            wait=wait_fixed(1),\n",
    "        ),\n",
    "        messages=[\n",
    "            {\n",
    "                \"role\": \"system\",\n",
    "                \"content\": \"You are helpful legal research assistant. Working step-by-step, analyze the current legal question, and compare it to the search results of case law references. Using only the provided context, offer insights on applicability of the past case(s) and how the legal researcher can reference them to address the new question. Make sure to use highly structured markdown formatting, and end with a markdown table summarizing the takeaways for each sub-question topic.\",\n",
    "            },\n",
    "            {\n",
    "                \"role\": \"user\",\n",
    "                \"content\": f\"Search Results:\\n\\n{formatted_input}\"\n",
    "            },\n",
    "        ],\n",
    "    )\n"
   ]
  },
  {
   "cell_type": "code",
   "execution_count": 146,
   "metadata": {},
   "outputs": [],
   "source": [
    "formatted_input = create_formatted_input(search_res_df, test_query, context_token_limit=25000)\n",
    "\n",
    "response_model = get_final_answer(formatted_input, model_name=\"gpt-4-turbo-preview\")"
   ]
  },
  {
   "cell_type": "code",
   "execution_count": 147,
   "metadata": {},
   "outputs": [
    {
     "data": {
      "text/markdown": [
       "Regarding the interpretation and application of the 'sudden and accidental' phrase within the context of pollution exclusion clauses under Comprehensive General Liability (CGL) insurance policies, especially in cases involving gradual but unintentional pollution events, a detailed analysis of applicable case law is essential. This analysis will explore how this phrase has been defined and applied in past rulings to guide the current enquiry.\n",
       "\n",
       "**Case Law Analysis:**\n",
       "\n",
       "- **United States Gypsum Co. v. Admiral Insurance Co., [1] & [3]:** These entries note the application of the 'continuous trigger approach' for progressive and inseparable property damage and the interpretation of insurance coverage through cause analysis. While not directly referencing 'sudden and accidental,' these cases are significant for understanding how courts may approach policy interpretations involving gradual pollution events. The principles of cause analysis and continuous trigger might be indirectly relevant to dissecting the 'sudden and accidental' clause in pollution exclusions.\n",
       "\n",
       "- **Travelers Insurance Co. v. Eljer Manufacturing, Inc., [6] & [17]:** These references address the construction of insurance policy provisions and interpretation duties of insurers. They establish guidelines that might be applicable when debating the definition and application of 'sudden and accidental' in pollution exclusions, especially since the summary points to discussions around 'occurrence' and 'property damage' in insurance contracts.\n",
       "\n",
       "- **Zurich Insurance Co. v. Raymark Industries, Inc., [18]:** This case directly deals with the interpretation of policy terms, especially concerning duties to defend and indemnify and trigger of coverage for specific claims like asbestos exposure. While not exclusively concerning pollution, the principles set forth regarding insurance policy interpretation could be instrumental in understanding how 'sudden and accidental' might be construed in the context of pollution.\n",
       "\n",
       "**Discussion:**\n",
       "\n",
       "The analyzed cases suggest that the interpretation of 'sudden and accidental' within pollution exclusions likely depends on broader legal principles of insurance policy interpretation, including the continuous trigger for coverage and cause analysis. Since gradual pollution events fall outside the traditional 'sudden' framework, the application of these clauses would require a nuanced approach, examining the specific language of the policy and considering precedents that interpret similar terms.\n",
       "\n",
       "**Conclusion:**\n",
       "\n",
       "Given the indirect relevance of the discussed cases, further research into directly related case law or advisory opinions concerning 'sudden and accidental' in the context of CGL policies and pollution exclusions might be necessary. However, these cases provide a foundational understanding of how courts approach complex policy interpretations and might influence arguments concerning the applicability of pollution exclusions to gradual environmental damage."
      ],
      "text/plain": [
       "<IPython.core.display.Markdown object>"
      ]
     },
     "execution_count": 147,
     "metadata": {},
     "output_type": "execute_result"
    }
   ],
   "source": [
    "Markdown(response_model.research_report)"
   ]
  },
  {
   "cell_type": "code",
   "execution_count": null,
   "metadata": {},
   "outputs": [],
   "source": []
  },
  {
   "cell_type": "code",
   "execution_count": null,
   "metadata": {},
   "outputs": [
    {
     "data": {
      "text/plain": [
       "['Should I just pay the rent and wait for my refund?',\n",
       " 'If the post office shows that my original money order was cashed, am I out that money?',\n",
       " 'What can I do about a landlord who is slow to make repairs?',\n",
       " 'Is it legal for my landlord to enter my apartment without permission?',\n",
       " 'Can a landlord raise rent in response to making repairs?',\n",
       " 'How do I handle disruptive neighbors?',\n",
       " 'What should I do if I suspect my landlord of stealing from me?',\n",
       " 'What are my rights as a tenant in Missouri?',\n",
       " 'Is it legal to use pliers to turn on water in lieu of a broken knob?',\n",
       " \"What actions can I take if I've been treated unfairly by my landlord?\"]"
      ]
     },
     "execution_count": 34,
     "metadata": {},
     "output_type": "execute_result"
    }
   ],
   "source": [
    "from src.search.query_expansion import generate_subquestions\n",
    "\n",
    "questions = generate_subquestions(test_query, n='any number of')\n",
    "questions.questions"
   ]
  },
  {
   "cell_type": "code",
   "execution_count": null,
   "metadata": {},
   "outputs": [
    {
     "data": {
      "text/plain": [
       "CompletionUsage(completion_tokens=147, prompt_tokens=1130, total_tokens=1277)"
      ]
     },
     "execution_count": 35,
     "metadata": {},
     "output_type": "execute_result"
    }
   ],
   "source": [
    "questions._raw_response.usage"
   ]
  },
  {
   "cell_type": "code",
   "execution_count": 8,
   "metadata": {},
   "outputs": [],
   "source": [
    "from src.search.query_filter import generate_query_plan, auto_filter_fts_search"
   ]
  },
  {
   "cell_type": "code",
   "execution_count": 9,
   "metadata": {},
   "outputs": [
    {
     "name": "stderr",
     "output_type": "stream",
     "text": [
      "\u001b[32m2024-03-19 21:42:45 - INFO - Schema shown to LLM: \n",
      "Name of each field, its type and unique values (up to 20):\n",
      "* state (string);  Values - ['NM' 'IN' 'WY' 'NH' 'MP' 'PA' 'MH' 'ID' 'AR' 'MA' 'KS' 'AS' 'ND' 'PR'\n",
      " 'DE' 'FL' 'LA' 'OR' 'VT' 'PW'], ... 39 more\n",
      "        \u001b[0m\n"
     ]
    },
    {
     "name": "stderr",
     "output_type": "stream",
     "text": [
      "\u001b[32m2024-03-19 21:42:55 - INFO - Input DataFrame has 5,000 rows\u001b[0m\n",
      "\u001b[32m2024-03-19 21:42:55 - INFO - Applying filter(s): state LIKE '%OR%'\u001b[0m\n",
      "\u001b[32m2024-03-19 21:43:03 - INFO - Filtered DataFrame has 86 rows\u001b[0m\n"
     ]
    }
   ],
   "source": [
    "query_plan = generate_query_plan(\n",
    "    input_df=df,\n",
    "    query=test_query,\n",
    "    filter_fields=[\n",
    "        'state',\n",
    "    ]\n",
    ")\n",
    "filtered_df = query_plan.filter_df(df=df)"
   ]
  },
  {
   "cell_type": "code",
   "execution_count": 15,
   "metadata": {},
   "outputs": [
    {
     "data": {
      "text/html": [
       "<div>\n",
       "<style scoped>\n",
       "    .dataframe tbody tr th:only-of-type {\n",
       "        vertical-align: middle;\n",
       "    }\n",
       "\n",
       "    .dataframe tbody tr th {\n",
       "        vertical-align: top;\n",
       "    }\n",
       "\n",
       "    .dataframe thead th {\n",
       "        text-align: right;\n",
       "    }\n",
       "</style>\n",
       "<table border=\"1\" class=\"dataframe\">\n",
       "  <thead>\n",
       "    <tr style=\"text-align: right;\">\n",
       "      <th></th>\n",
       "      <th>index</th>\n",
       "      <th>created_utc</th>\n",
       "      <th>full_link</th>\n",
       "      <th>id</th>\n",
       "      <th>body</th>\n",
       "      <th>title</th>\n",
       "      <th>text_label</th>\n",
       "      <th>flair_label</th>\n",
       "      <th>embeddings</th>\n",
       "      <th>token_count</th>\n",
       "      <th>llm_title</th>\n",
       "      <th>state</th>\n",
       "      <th>kmeans_label</th>\n",
       "      <th>topic_title</th>\n",
       "      <th>splade_embeddings</th>\n",
       "    </tr>\n",
       "  </thead>\n",
       "  <tbody>\n",
       "    <tr>\n",
       "      <th>0</th>\n",
       "      <td>2029</td>\n",
       "      <td>1578267399</td>\n",
       "      <td>https://www.reddit.com/r/legaladvice/comments/...</td>\n",
       "      <td>ekl2ef</td>\n",
       "      <td>For context I live in the Philippines. I wont ...</td>\n",
       "      <td>My professor refuses to show us ALL of our tes...</td>\n",
       "      <td>school</td>\n",
       "      <td>9</td>\n",
       "      <td>[-0.00954271624451715, 0.007157037183387862, 0...</td>\n",
       "      <td>953</td>\n",
       "      <td>\"Unrevealed Grades and Lack of Transparency: S...</td>\n",
       "      <td>OR</td>\n",
       "      <td>9</td>\n",
       "      <td>Legal Consequences of False Accusations</td>\n",
       "      <td>[0.0, 0.0, 0.0, 0.0, 0.0, 0.0, 0.0, 0.0, 0.0, ...</td>\n",
       "    </tr>\n",
       "    <tr>\n",
       "      <th>1</th>\n",
       "      <td>3320</td>\n",
       "      <td>1591126549</td>\n",
       "      <td>https://www.reddit.com/r/legaladvice/comments/...</td>\n",
       "      <td>gve3nq</td>\n",
       "      <td>Edit: I live in Washington state.\\n\\nSo I live...</td>\n",
       "      <td>My landlord has been harassing me about my pet...</td>\n",
       "      <td>housing</td>\n",
       "      <td>7</td>\n",
       "      <td>[-0.0034782202413053045, 0.00616729225832095, ...</td>\n",
       "      <td>759</td>\n",
       "      <td>\"Legal dispute over pet snake: Landlord threat...</td>\n",
       "      <td>OR</td>\n",
       "      <td>3</td>\n",
       "      <td>Rental Property and Landlord Matters</td>\n",
       "      <td>[0.0, 0.0, 0.0, 0.0, 0.0, 0.0, 0.0, 0.0, 0.0, ...</td>\n",
       "    </tr>\n",
       "  </tbody>\n",
       "</table>\n",
       "</div>"
      ],
      "text/plain": [
       "   index  created_utc                                          full_link  \\\n",
       "0   2029   1578267399  https://www.reddit.com/r/legaladvice/comments/...   \n",
       "1   3320   1591126549  https://www.reddit.com/r/legaladvice/comments/...   \n",
       "\n",
       "       id                                               body  \\\n",
       "0  ekl2ef  For context I live in the Philippines. I wont ...   \n",
       "1  gve3nq  Edit: I live in Washington state.\\n\\nSo I live...   \n",
       "\n",
       "                                               title text_label  flair_label  \\\n",
       "0  My professor refuses to show us ALL of our tes...     school            9   \n",
       "1  My landlord has been harassing me about my pet...    housing            7   \n",
       "\n",
       "                                          embeddings  token_count  \\\n",
       "0  [-0.00954271624451715, 0.007157037183387862, 0...          953   \n",
       "1  [-0.0034782202413053045, 0.00616729225832095, ...          759   \n",
       "\n",
       "                                           llm_title state  kmeans_label  \\\n",
       "0  \"Unrevealed Grades and Lack of Transparency: S...    OR             9   \n",
       "1  \"Legal dispute over pet snake: Landlord threat...    OR             3   \n",
       "\n",
       "                               topic_title  \\\n",
       "0  Legal Consequences of False Accusations   \n",
       "1     Rental Property and Landlord Matters   \n",
       "\n",
       "                                   splade_embeddings  \n",
       "0  [0.0, 0.0, 0.0, 0.0, 0.0, 0.0, 0.0, 0.0, 0.0, ...  \n",
       "1  [0.0, 0.0, 0.0, 0.0, 0.0, 0.0, 0.0, 0.0, 0.0, ...  "
      ]
     },
     "execution_count": 15,
     "metadata": {},
     "output_type": "execute_result"
    }
   ],
   "source": [
    "filtered_df.head(2)"
   ]
  },
  {
   "cell_type": "code",
   "execution_count": 10,
   "metadata": {},
   "outputs": [
    {
     "name": "stdout",
     "output_type": "stream",
     "text": [
      "Do I have any legal recourse here? I know Oregon is an 'at will' state, but it sounds like there are at LEAST two instances that offer grounds for wrongful termination (just based on my limited knowledge of the ADA, dept of labor, BOLI, etc.). \n",
      "legal recourse for wrongful termination in 'at will' employment including issues related to mistreatment, health code violations, improper handling of company money, and potential discrimination due to medical conditions\n"
     ]
    }
   ],
   "source": [
    "print(query_plan.original_query)\n",
    "print(query_plan.rephrased_query)"
   ]
  },
  {
   "cell_type": "code",
   "execution_count": 13,
   "metadata": {},
   "outputs": [
    {
     "name": "stderr",
     "output_type": "stream",
     "text": [
      "\u001b[32m2024-03-19 21:44:19 - INFO - Schema shown to LLM: \n",
      "Name of each field, its type and unique values (up to 20):\n",
      "* state (string);  Values - ['NM' 'IN' 'WY' 'NH' 'MP' 'PA' 'MH' 'ID' 'AR' 'MA' 'KS' 'AS' 'ND' 'PR'\n",
      " 'DE' 'FL' 'LA' 'OR' 'VT' 'PW'], ... 39 more\n",
      "        \u001b[0m\n"
     ]
    },
    {
     "name": "stderr",
     "output_type": "stream",
     "text": [
      "\u001b[32m2024-03-19 21:44:22 - INFO - No filters were identified for query: marijuana\u001b[0m\n",
      "\u001b[32m2024-03-19 21:44:22 - INFO - Revised query: marijuana\u001b[0m\n",
      "\u001b[32m2024-03-19 21:44:23 - INFO - Full Text Search (FTS) search yielded a DataFrame with 20 rows\u001b[0m\n"
     ]
    }
   ],
   "source": [
    "test_res = auto_filter_fts_search(\n",
    "    df=df,\n",
    "    query='marijuana',\n",
    "    top_k=20,\n",
    "    text_column=\"body\",\n",
    "    embeddings_column=\"embeddings\",\n",
    "    filter_fields=[\n",
    "        'state',\n",
    "    ])"
   ]
  },
  {
   "cell_type": "code",
   "execution_count": 14,
   "metadata": {},
   "outputs": [
    {
     "data": {
      "text/markdown": [
       "I'm a New York State medical marijuana patient. I also work in healthcare. I applied to a new job at a new hospital, and they are discriminating against me for being a medical marijuana patient. I was offered the job and accepted, but when I went to get my pre-employment physical conducted, I gave them my medical marijuana card and informed them that I am a patient. They are now refusing to hire me. Is this legal? I already contacted the division of human rights at the labor department and they said I may or may not have a case."
      ],
      "text/plain": [
       "<IPython.core.display.Markdown object>"
      ]
     },
     "execution_count": 14,
     "metadata": {},
     "output_type": "execute_result"
    }
   ],
   "source": [
    "Markdown(test_res['body'].tolist()[0])"
   ]
  }
 ],
 "metadata": {
  "kernelspec": {
   "display_name": ".venv",
   "language": "python",
   "name": "python3"
  },
  "language_info": {
   "codemirror_mode": {
    "name": "ipython",
    "version": 3
   },
   "file_extension": ".py",
   "mimetype": "text/x-python",
   "name": "python",
   "nbconvert_exporter": "python",
   "pygments_lexer": "ipython3",
   "version": "3.10.11"
  }
 },
 "nbformat": 4,
 "nbformat_minor": 2
}
