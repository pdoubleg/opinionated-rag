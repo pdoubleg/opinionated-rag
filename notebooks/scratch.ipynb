{
 "cells": [
  {
   "cell_type": "code",
   "execution_count": 1,
   "metadata": {},
   "outputs": [],
   "source": [
    "import os\n",
    "from dotenv import load_dotenv\n",
    "import pandas as pd\n",
    "import json\n",
    "from datetime import datetime\n",
    "from markdown import markdown\n",
    "from IPython.display import Markdown, display, HTML\n",
    "import warnings\n",
    "warnings.filterwarnings('ignore')\n",
    "pd.set_option('display.max_columns', None)\n",
    "load_dotenv()\n",
    "import eyecite\n",
    "\n",
    "CAP_API_KEY = os.getenv('CAP_API_KEY')"
   ]
  },
  {
   "cell_type": "code",
   "execution_count": 2,
   "metadata": {},
   "outputs": [],
   "source": [
    "os.chdir(os.path.dirname(os.getcwd()))"
   ]
  },
  {
   "cell_type": "code",
   "execution_count": 3,
   "metadata": {},
   "outputs": [],
   "source": [
    "from src.types import DocMetaData, Document\n",
    "from src.utils.gen_utils import count_tokens, hash_id\n",
    "from src.utils.pydantic_utils import dataframe_to_documents, documents_to_dataframe\n",
    "from src.parsing.parser import ParsingConfig, Parser\n",
    "from src.parsing.search import eliminate_near_duplicates_df, eliminate_near_duplicates_grouped\n",
    "from src.citations import (\n",
    "    get_citation_context_sents, \n",
    "    get_authorities_list, \n",
    "    get_top_citations,\n",
    "    extract_resolved_citations,\n",
    "    get_citation_context,\n",
    "    create_citation_lookup_table,\n",
    ")\n",
    "from src.embedding_models.models import ColbertReranker\n",
    "from src.utils.output import write_md_to_pdf\n",
    "from justopinion.download import CAPClient"
   ]
  },
  {
   "cell_type": "code",
   "execution_count": 140,
   "metadata": {},
   "outputs": [],
   "source": [
    "client = CAPClient(CAP_API_KEY)\n",
    "response = client.fetch_cite(cite=\"104 S. Ct. 774\", full_case=True)\n",
    "case = json.loads(response.content)"
   ]
  },
  {
   "cell_type": "code",
   "execution_count": 152,
   "metadata": {},
   "outputs": [
    {
     "data": {
      "text/plain": [
       "123"
      ]
     },
     "execution_count": 152,
     "metadata": {},
     "output_type": "execute_result"
    }
   ],
   "source": [
    "len(case[\"results\"][0][\"cites_to\"])"
   ]
  },
  {
   "cell_type": "code",
   "execution_count": 23,
   "metadata": {},
   "outputs": [
    {
     "name": "stdout",
     "output_type": "stream",
     "text": [
      "df shape: (5000, 14)\n"
     ]
    },
    {
     "data": {
      "text/html": [
       "<div>\n",
       "<style scoped>\n",
       "    .dataframe tbody tr th:only-of-type {\n",
       "        vertical-align: middle;\n",
       "    }\n",
       "\n",
       "    .dataframe tbody tr th {\n",
       "        vertical-align: top;\n",
       "    }\n",
       "\n",
       "    .dataframe thead th {\n",
       "        text-align: right;\n",
       "    }\n",
       "</style>\n",
       "<table border=\"1\" class=\"dataframe\">\n",
       "  <thead>\n",
       "    <tr style=\"text-align: right;\">\n",
       "      <th></th>\n",
       "      <th>index</th>\n",
       "      <th>created_utc</th>\n",
       "      <th>full_link</th>\n",
       "      <th>id</th>\n",
       "      <th>body</th>\n",
       "      <th>title</th>\n",
       "      <th>text_label</th>\n",
       "      <th>flair_label</th>\n",
       "      <th>embeddings</th>\n",
       "      <th>token_count</th>\n",
       "      <th>llm_title</th>\n",
       "      <th>State</th>\n",
       "      <th>kmeans_label</th>\n",
       "      <th>topic_title</th>\n",
       "    </tr>\n",
       "  </thead>\n",
       "  <tbody>\n",
       "    <tr>\n",
       "      <th>1078</th>\n",
       "      <td>1078</td>\n",
       "      <td>1575952538</td>\n",
       "      <td>https://www.reddit.com/r/legaladvice/comments/...</td>\n",
       "      <td>e8lsen</td>\n",
       "      <td>I applied for a job and after two interviews I...</td>\n",
       "      <td>Failed a drug test due to amphetamines, I have...</td>\n",
       "      <td>employment</td>\n",
       "      <td>5</td>\n",
       "      <td>[9.475638042064453e-05, 0.0005111666301983955,...</td>\n",
       "      <td>493</td>\n",
       "      <td>\"Validity of Schedule II Drug Prescription in ...</td>\n",
       "      <td>PR</td>\n",
       "      <td>8</td>\n",
       "      <td>Employment Legal Concerns and Issues</td>\n",
       "    </tr>\n",
       "    <tr>\n",
       "      <th>2098</th>\n",
       "      <td>2098</td>\n",
       "      <td>1577442453</td>\n",
       "      <td>https://www.reddit.com/r/legaladvice/comments/...</td>\n",
       "      <td>eg9ll2</td>\n",
       "      <td>Hi everyone, thanks in advance for any guidanc...</td>\n",
       "      <td>Speeding ticket in Tennessee, Georgia Driver's...</td>\n",
       "      <td>driving</td>\n",
       "      <td>4</td>\n",
       "      <td>[-0.006706413111028856, 0.020911016696181495, ...</td>\n",
       "      <td>252</td>\n",
       "      <td>\"Speeding ticket consequences for out-of-state...</td>\n",
       "      <td>KY</td>\n",
       "      <td>10</td>\n",
       "      <td>Legal Topics in Traffic Violations</td>\n",
       "    </tr>\n",
       "    <tr>\n",
       "      <th>9384</th>\n",
       "      <td>9384</td>\n",
       "      <td>1412266873</td>\n",
       "      <td>https://www.reddit.com/r/legaladvice/comments/...</td>\n",
       "      <td>2i3or9</td>\n",
       "      <td>So the line in question is:\\n\\n*Husband shall ...</td>\n",
       "      <td>Can't figure out what this language from Divor...</td>\n",
       "      <td>family</td>\n",
       "      <td>6</td>\n",
       "      <td>[-0.0008707255965511636, 0.015741086521669008,...</td>\n",
       "      <td>157</td>\n",
       "      <td>Interpreting divorce decree language regarding...</td>\n",
       "      <td>IL</td>\n",
       "      <td>7</td>\n",
       "      <td>Child Custody and Related Issues</td>\n",
       "    </tr>\n",
       "    <tr>\n",
       "      <th>5425</th>\n",
       "      <td>5425</td>\n",
       "      <td>1578732752</td>\n",
       "      <td>https://www.reddit.com/r/legaladvice/comments/...</td>\n",
       "      <td>en55d8</td>\n",
       "      <td>I rented an apartment as a student, and I was ...</td>\n",
       "      <td>FICO score dropped 100points</td>\n",
       "      <td>housing</td>\n",
       "      <td>7</td>\n",
       "      <td>[0.0018182859833585185, -0.021543734695078785,...</td>\n",
       "      <td>78</td>\n",
       "      <td>\"Responsibility for missed rent payments and r...</td>\n",
       "      <td>FM</td>\n",
       "      <td>4</td>\n",
       "      <td>Legal Issues in Consumer Protection</td>\n",
       "    </tr>\n",
       "    <tr>\n",
       "      <th>7735</th>\n",
       "      <td>7735</td>\n",
       "      <td>1578331074</td>\n",
       "      <td>https://www.reddit.com/r/legaladvice/comments/...</td>\n",
       "      <td>ekx2ch</td>\n",
       "      <td>I have a audio recording of me saying I can’t ...</td>\n",
       "      <td>[MI] I told my boss I had epilepsy and was fir...</td>\n",
       "      <td>employment</td>\n",
       "      <td>5</td>\n",
       "      <td>[-0.004012766701303168, 0.01652626296610702, 0...</td>\n",
       "      <td>251</td>\n",
       "      <td>\"Wrongful Termination Due to Epilepsy: Seeking...</td>\n",
       "      <td>DC</td>\n",
       "      <td>8</td>\n",
       "      <td>Employment Legal Concerns and Issues</td>\n",
       "    </tr>\n",
       "  </tbody>\n",
       "</table>\n",
       "</div>"
      ],
      "text/plain": [
       "      index  created_utc                                          full_link  \\\n",
       "1078   1078   1575952538  https://www.reddit.com/r/legaladvice/comments/...   \n",
       "2098   2098   1577442453  https://www.reddit.com/r/legaladvice/comments/...   \n",
       "9384   9384   1412266873  https://www.reddit.com/r/legaladvice/comments/...   \n",
       "5425   5425   1578732752  https://www.reddit.com/r/legaladvice/comments/...   \n",
       "7735   7735   1578331074  https://www.reddit.com/r/legaladvice/comments/...   \n",
       "\n",
       "          id                                               body  \\\n",
       "1078  e8lsen  I applied for a job and after two interviews I...   \n",
       "2098  eg9ll2  Hi everyone, thanks in advance for any guidanc...   \n",
       "9384  2i3or9  So the line in question is:\\n\\n*Husband shall ...   \n",
       "5425  en55d8  I rented an apartment as a student, and I was ...   \n",
       "7735  ekx2ch  I have a audio recording of me saying I can’t ...   \n",
       "\n",
       "                                                  title  text_label  \\\n",
       "1078  Failed a drug test due to amphetamines, I have...  employment   \n",
       "2098  Speeding ticket in Tennessee, Georgia Driver's...     driving   \n",
       "9384  Can't figure out what this language from Divor...      family   \n",
       "5425                       FICO score dropped 100points     housing   \n",
       "7735  [MI] I told my boss I had epilepsy and was fir...  employment   \n",
       "\n",
       "      flair_label                                         embeddings  \\\n",
       "1078            5  [9.475638042064453e-05, 0.0005111666301983955,...   \n",
       "2098            4  [-0.006706413111028856, 0.020911016696181495, ...   \n",
       "9384            6  [-0.0008707255965511636, 0.015741086521669008,...   \n",
       "5425            7  [0.0018182859833585185, -0.021543734695078785,...   \n",
       "7735            5  [-0.004012766701303168, 0.01652626296610702, 0...   \n",
       "\n",
       "      token_count                                          llm_title State  \\\n",
       "1078          493  \"Validity of Schedule II Drug Prescription in ...    PR   \n",
       "2098          252  \"Speeding ticket consequences for out-of-state...    KY   \n",
       "9384          157  Interpreting divorce decree language regarding...    IL   \n",
       "5425           78  \"Responsibility for missed rent payments and r...    FM   \n",
       "7735          251  \"Wrongful Termination Due to Epilepsy: Seeking...    DC   \n",
       "\n",
       "      kmeans_label                           topic_title  \n",
       "1078             8  Employment Legal Concerns and Issues  \n",
       "2098            10    Legal Topics in Traffic Violations  \n",
       "9384             7      Child Custody and Related Issues  \n",
       "5425             4   Legal Issues in Consumer Protection  \n",
       "7735             8  Employment Legal Concerns and Issues  "
      ]
     },
     "execution_count": 23,
     "metadata": {},
     "output_type": "execute_result"
    }
   ],
   "source": [
    "df = pd.read_parquet(\"data/reddit_legal_cluster_test_results.parquet\")\n",
    "print(f\"df shape: {df.shape}\")\n",
    "df.head()\n"
   ]
  },
  {
   "cell_type": "code",
   "execution_count": 5,
   "metadata": {},
   "outputs": [],
   "source": [
    "top_citations = get_top_citations(df, \"Complete Text\", 20)"
   ]
  },
  {
   "cell_type": "code",
   "execution_count": 6,
   "metadata": {},
   "outputs": [
    {
     "data": {
      "text/html": [
       "<div>\n",
       "<style scoped>\n",
       "    .dataframe tbody tr th:only-of-type {\n",
       "        vertical-align: middle;\n",
       "    }\n",
       "\n",
       "    .dataframe tbody tr th {\n",
       "        vertical-align: top;\n",
       "    }\n",
       "\n",
       "    .dataframe thead th {\n",
       "        text-align: right;\n",
       "    }\n",
       "</style>\n",
       "<table border=\"1\" class=\"dataframe\">\n",
       "  <thead>\n",
       "    <tr style=\"text-align: right;\">\n",
       "      <th></th>\n",
       "      <th>Citation</th>\n",
       "      <th>Count</th>\n",
       "      <th>link</th>\n",
       "    </tr>\n",
       "  </thead>\n",
       "  <tbody>\n",
       "    <tr>\n",
       "      <th>0</th>\n",
       "      <td>464 U.S. 417</td>\n",
       "      <td>47</td>\n",
       "      <td>https://cite.case.law/us/464/417</td>\n",
       "    </tr>\n",
       "    <tr>\n",
       "      <th>1</th>\n",
       "      <td>104 S. Ct. 774</td>\n",
       "      <td>44</td>\n",
       "      <td>https://www.courtlistener.com/c/S.%20Ct./104/774</td>\n",
       "    </tr>\n",
       "    <tr>\n",
       "      <th>2</th>\n",
       "      <td>78 L. Ed. 2d 574</td>\n",
       "      <td>44</td>\n",
       "      <td>https://www.courtlistener.com/c/L.%20Ed.%202d/...</td>\n",
       "    </tr>\n",
       "    <tr>\n",
       "      <th>3</th>\n",
       "      <td>17 U.S.C. § 101</td>\n",
       "      <td>33</td>\n",
       "      <td>No link found</td>\n",
       "    </tr>\n",
       "    <tr>\n",
       "      <th>4</th>\n",
       "      <td>471 U.S. 539</td>\n",
       "      <td>29</td>\n",
       "      <td>https://cite.case.law/us/471/539</td>\n",
       "    </tr>\n",
       "    <tr>\n",
       "      <th>5</th>\n",
       "      <td>17 U.S.C. § 102</td>\n",
       "      <td>26</td>\n",
       "      <td>No link found</td>\n",
       "    </tr>\n",
       "    <tr>\n",
       "      <th>6</th>\n",
       "      <td>17 U.S.C. § 106</td>\n",
       "      <td>26</td>\n",
       "      <td>No link found</td>\n",
       "    </tr>\n",
       "    <tr>\n",
       "      <th>7</th>\n",
       "      <td>105 S. Ct. 2218</td>\n",
       "      <td>26</td>\n",
       "      <td>https://www.courtlistener.com/c/S.%20Ct./105/2218</td>\n",
       "    </tr>\n",
       "    <tr>\n",
       "      <th>8</th>\n",
       "      <td>85 L. Ed. 2d 588</td>\n",
       "      <td>26</td>\n",
       "      <td>https://www.courtlistener.com/c/L.%20Ed.%202d/...</td>\n",
       "    </tr>\n",
       "    <tr>\n",
       "      <th>9</th>\n",
       "      <td>17 U.S.C. § 501</td>\n",
       "      <td>23</td>\n",
       "      <td>No link found</td>\n",
       "    </tr>\n",
       "  </tbody>\n",
       "</table>\n",
       "</div>"
      ],
      "text/plain": [
       "           Citation  Count                                               link\n",
       "0      464 U.S. 417     47                   https://cite.case.law/us/464/417\n",
       "1    104 S. Ct. 774     44   https://www.courtlistener.com/c/S.%20Ct./104/774\n",
       "2  78 L. Ed. 2d 574     44  https://www.courtlistener.com/c/L.%20Ed.%202d/...\n",
       "3   17 U.S.C. § 101     33                                      No link found\n",
       "4      471 U.S. 539     29                   https://cite.case.law/us/471/539\n",
       "5   17 U.S.C. § 102     26                                      No link found\n",
       "6   17 U.S.C. § 106     26                                      No link found\n",
       "7   105 S. Ct. 2218     26  https://www.courtlistener.com/c/S.%20Ct./105/2218\n",
       "8  85 L. Ed. 2d 588     26  https://www.courtlistener.com/c/L.%20Ed.%202d/...\n",
       "9   17 U.S.C. § 501     23                                      No link found"
      ]
     },
     "execution_count": 6,
     "metadata": {},
     "output_type": "execute_result"
    }
   ],
   "source": [
    "top_citations.head(10)\n"
   ]
  },
  {
   "cell_type": "code",
   "execution_count": 7,
   "metadata": {},
   "outputs": [
    {
     "data": {
      "text/plain": [
       "['464 U.S. 417',\n",
       " '104 S. Ct. 774',\n",
       " '78 L. Ed. 2d 574',\n",
       " '17 U.S.C. § 101',\n",
       " '471 U.S. 539']"
      ]
     },
     "execution_count": 7,
     "metadata": {},
     "output_type": "execute_result"
    }
   ],
   "source": [
    "top_5 = top_citations.head(5)[\"Citation\"].tolist()\n",
    "top_5\n",
    "    "
   ]
  },
  {
   "cell_type": "code",
   "execution_count": 8,
   "metadata": {},
   "outputs": [],
   "source": [
    "context = get_citation_context(\n",
    "    df=df, \n",
    "    id_column=\"Citing Case ID\", \n",
    "    text_column=\"Complete Text\", \n",
    "    sentences_before=8, \n",
    "    sentences_after=4, \n",
    "    target_citations=top_5\n",
    ")"
   ]
  },
  {
   "cell_type": "code",
   "execution_count": 9,
   "metadata": {},
   "outputs": [
    {
     "data": {
      "text/html": [
       "<div>\n",
       "<style scoped>\n",
       "    .dataframe tbody tr th:only-of-type {\n",
       "        vertical-align: middle;\n",
       "    }\n",
       "\n",
       "    .dataframe tbody tr th {\n",
       "        vertical-align: top;\n",
       "    }\n",
       "\n",
       "    .dataframe thead th {\n",
       "        text-align: right;\n",
       "    }\n",
       "</style>\n",
       "<table border=\"1\" class=\"dataframe\">\n",
       "  <thead>\n",
       "    <tr style=\"text-align: right;\">\n",
       "      <th></th>\n",
       "      <th>id</th>\n",
       "      <th>citation</th>\n",
       "      <th>context</th>\n",
       "      <th>start_char</th>\n",
       "      <th>end_char</th>\n",
       "    </tr>\n",
       "  </thead>\n",
       "  <tbody>\n",
       "    <tr>\n",
       "      <th>0</th>\n",
       "      <td>7399454</td>\n",
       "      <td>464 U.S. 417</td>\n",
       "      <td>Further, the Court of Appeals stated, a plaint...</td>\n",
       "      <td>6135</td>\n",
       "      <td>7485</td>\n",
       "    </tr>\n",
       "    <tr>\n",
       "      <th>1</th>\n",
       "      <td>7399454</td>\n",
       "      <td>78 L. Ed. 2d 574</td>\n",
       "      <td>[that] the copying, if proven, went so far as ...</td>\n",
       "      <td>6295</td>\n",
       "      <td>7684</td>\n",
       "    </tr>\n",
       "    <tr>\n",
       "      <th>2</th>\n",
       "      <td>7399454</td>\n",
       "      <td>464 U.S. 417</td>\n",
       "      <td>Further, the Court of Appeals stated, a plaint...</td>\n",
       "      <td>41613</td>\n",
       "      <td>42963</td>\n",
       "    </tr>\n",
       "    <tr>\n",
       "      <th>3</th>\n",
       "      <td>7399454</td>\n",
       "      <td>78 L. Ed. 2d 574</td>\n",
       "      <td>[that] the copying, if proven, went so far as ...</td>\n",
       "      <td>41773</td>\n",
       "      <td>43162</td>\n",
       "    </tr>\n",
       "    <tr>\n",
       "      <th>4</th>\n",
       "      <td>7399454</td>\n",
       "      <td>464 U.S. 417</td>\n",
       "      <td>Nimmer on Copyright  see, e.g., Atari, Inc. v....</td>\n",
       "      <td>76685</td>\n",
       "      <td>77933</td>\n",
       "    </tr>\n",
       "    <tr>\n",
       "      <th>...</th>\n",
       "      <td>...</td>\n",
       "      <td>...</td>\n",
       "      <td>...</td>\n",
       "      <td>...</td>\n",
       "      <td>...</td>\n",
       "    </tr>\n",
       "    <tr>\n",
       "      <th>1400</th>\n",
       "      <td>633900</td>\n",
       "      <td>464 U.S. 417</td>\n",
       "      <td>Brief for Columbia Pictures et al. as  Amici C...</td>\n",
       "      <td>195116</td>\n",
       "      <td>196697</td>\n",
       "    </tr>\n",
       "    <tr>\n",
       "      <th>1401</th>\n",
       "      <td>633900</td>\n",
       "      <td>464 U.S. 417</td>\n",
       "      <td>In any event, the complaint that respondent’s ...</td>\n",
       "      <td>195261</td>\n",
       "      <td>197275</td>\n",
       "    </tr>\n",
       "    <tr>\n",
       "      <th>1402</th>\n",
       "      <td>633900</td>\n",
       "      <td>17 U.S.C. § 101</td>\n",
       "      <td>The record supports the Court of Appeals’ conc...</td>\n",
       "      <td>217052</td>\n",
       "      <td>218140</td>\n",
       "    </tr>\n",
       "    <tr>\n",
       "      <th>1403</th>\n",
       "      <td>633900</td>\n",
       "      <td>17 U.S.C. § 101</td>\n",
       "      <td>“This case presents a classic example of an un...</td>\n",
       "      <td>217284</td>\n",
       "      <td>218478</td>\n",
       "    </tr>\n",
       "    <tr>\n",
       "      <th>1404</th>\n",
       "      <td>633900</td>\n",
       "      <td>17 U.S.C. § 101</td>\n",
       "      <td>It is so ordered. \\n      It is so ordered. \\n...</td>\n",
       "      <td>217644</td>\n",
       "      <td>219075</td>\n",
       "    </tr>\n",
       "  </tbody>\n",
       "</table>\n",
       "<p>1405 rows × 5 columns</p>\n",
       "</div>"
      ],
      "text/plain": [
       "           id          citation  \\\n",
       "0     7399454      464 U.S. 417   \n",
       "1     7399454  78 L. Ed. 2d 574   \n",
       "2     7399454      464 U.S. 417   \n",
       "3     7399454  78 L. Ed. 2d 574   \n",
       "4     7399454      464 U.S. 417   \n",
       "...       ...               ...   \n",
       "1400   633900      464 U.S. 417   \n",
       "1401   633900      464 U.S. 417   \n",
       "1402   633900   17 U.S.C. § 101   \n",
       "1403   633900   17 U.S.C. § 101   \n",
       "1404   633900   17 U.S.C. § 101   \n",
       "\n",
       "                                                context  start_char  end_char  \n",
       "0     Further, the Court of Appeals stated, a plaint...        6135      7485  \n",
       "1     [that] the copying, if proven, went so far as ...        6295      7684  \n",
       "2     Further, the Court of Appeals stated, a plaint...       41613     42963  \n",
       "3     [that] the copying, if proven, went so far as ...       41773     43162  \n",
       "4     Nimmer on Copyright  see, e.g., Atari, Inc. v....       76685     77933  \n",
       "...                                                 ...         ...       ...  \n",
       "1400  Brief for Columbia Pictures et al. as  Amici C...      195116    196697  \n",
       "1401  In any event, the complaint that respondent’s ...      195261    197275  \n",
       "1402  The record supports the Court of Appeals’ conc...      217052    218140  \n",
       "1403  “This case presents a classic example of an un...      217284    218478  \n",
       "1404  It is so ordered. \\n      It is so ordered. \\n...      217644    219075  \n",
       "\n",
       "[1405 rows x 5 columns]"
      ]
     },
     "execution_count": 9,
     "metadata": {},
     "output_type": "execute_result"
    }
   ],
   "source": [
    "context"
   ]
  },
  {
   "cell_type": "code",
   "execution_count": 10,
   "metadata": {},
   "outputs": [
    {
     "data": {
      "text/html": [
       "<div>\n",
       "<style scoped>\n",
       "    .dataframe tbody tr th:only-of-type {\n",
       "        vertical-align: middle;\n",
       "    }\n",
       "\n",
       "    .dataframe tbody tr th {\n",
       "        vertical-align: top;\n",
       "    }\n",
       "\n",
       "    .dataframe thead th {\n",
       "        text-align: right;\n",
       "    }\n",
       "</style>\n",
       "<table border=\"1\" class=\"dataframe\">\n",
       "  <thead>\n",
       "    <tr style=\"text-align: right;\">\n",
       "      <th></th>\n",
       "      <th>id</th>\n",
       "      <th>citation</th>\n",
       "      <th>context</th>\n",
       "      <th>start_char</th>\n",
       "      <th>end_char</th>\n",
       "    </tr>\n",
       "  </thead>\n",
       "  <tbody>\n",
       "    <tr>\n",
       "      <th>0</th>\n",
       "      <td>7399454</td>\n",
       "      <td>464 U.S. 417</td>\n",
       "      <td>Further, the Court of Appeals stated, a plaint...</td>\n",
       "      <td>6135</td>\n",
       "      <td>7485</td>\n",
       "    </tr>\n",
       "    <tr>\n",
       "      <th>1</th>\n",
       "      <td>7399454</td>\n",
       "      <td>78 L. Ed. 2d 574</td>\n",
       "      <td>[that] the copying, if proven, went so far as ...</td>\n",
       "      <td>6295</td>\n",
       "      <td>7684</td>\n",
       "    </tr>\n",
       "    <tr>\n",
       "      <th>2</th>\n",
       "      <td>7399454</td>\n",
       "      <td>464 U.S. 417</td>\n",
       "      <td>Further, the Court of Appeals stated, a plaint...</td>\n",
       "      <td>41613</td>\n",
       "      <td>42963</td>\n",
       "    </tr>\n",
       "    <tr>\n",
       "      <th>3</th>\n",
       "      <td>7399454</td>\n",
       "      <td>78 L. Ed. 2d 574</td>\n",
       "      <td>[that] the copying, if proven, went so far as ...</td>\n",
       "      <td>41773</td>\n",
       "      <td>43162</td>\n",
       "    </tr>\n",
       "    <tr>\n",
       "      <th>4</th>\n",
       "      <td>7399454</td>\n",
       "      <td>464 U.S. 417</td>\n",
       "      <td>Nimmer on Copyright  see, e.g., Atari, Inc. v....</td>\n",
       "      <td>76685</td>\n",
       "      <td>77933</td>\n",
       "    </tr>\n",
       "    <tr>\n",
       "      <th>...</th>\n",
       "      <td>...</td>\n",
       "      <td>...</td>\n",
       "      <td>...</td>\n",
       "      <td>...</td>\n",
       "      <td>...</td>\n",
       "    </tr>\n",
       "    <tr>\n",
       "      <th>1374</th>\n",
       "      <td>633900</td>\n",
       "      <td>464 U.S. 417</td>\n",
       "      <td>Brief for Columbia Pictures et al. as  Amici C...</td>\n",
       "      <td>195116</td>\n",
       "      <td>196697</td>\n",
       "    </tr>\n",
       "    <tr>\n",
       "      <th>1375</th>\n",
       "      <td>633900</td>\n",
       "      <td>464 U.S. 417</td>\n",
       "      <td>In any event, the complaint that respondent’s ...</td>\n",
       "      <td>195261</td>\n",
       "      <td>197275</td>\n",
       "    </tr>\n",
       "    <tr>\n",
       "      <th>1376</th>\n",
       "      <td>633900</td>\n",
       "      <td>17 U.S.C. § 101</td>\n",
       "      <td>The record supports the Court of Appeals’ conc...</td>\n",
       "      <td>217052</td>\n",
       "      <td>218140</td>\n",
       "    </tr>\n",
       "    <tr>\n",
       "      <th>1377</th>\n",
       "      <td>633900</td>\n",
       "      <td>17 U.S.C. § 101</td>\n",
       "      <td>“This case presents a classic example of an un...</td>\n",
       "      <td>217284</td>\n",
       "      <td>218478</td>\n",
       "    </tr>\n",
       "    <tr>\n",
       "      <th>1378</th>\n",
       "      <td>633900</td>\n",
       "      <td>17 U.S.C. § 101</td>\n",
       "      <td>It is so ordered. \\n      It is so ordered. \\n...</td>\n",
       "      <td>217644</td>\n",
       "      <td>219075</td>\n",
       "    </tr>\n",
       "  </tbody>\n",
       "</table>\n",
       "<p>187 rows × 5 columns</p>\n",
       "</div>"
      ],
      "text/plain": [
       "           id          citation  \\\n",
       "0     7399454      464 U.S. 417   \n",
       "1     7399454  78 L. Ed. 2d 574   \n",
       "2     7399454      464 U.S. 417   \n",
       "3     7399454  78 L. Ed. 2d 574   \n",
       "4     7399454      464 U.S. 417   \n",
       "...       ...               ...   \n",
       "1374   633900      464 U.S. 417   \n",
       "1375   633900      464 U.S. 417   \n",
       "1376   633900   17 U.S.C. § 101   \n",
       "1377   633900   17 U.S.C. § 101   \n",
       "1378   633900   17 U.S.C. § 101   \n",
       "\n",
       "                                                context  start_char  end_char  \n",
       "0     Further, the Court of Appeals stated, a plaint...        6135      7485  \n",
       "1     [that] the copying, if proven, went so far as ...        6295      7684  \n",
       "2     Further, the Court of Appeals stated, a plaint...       41613     42963  \n",
       "3     [that] the copying, if proven, went so far as ...       41773     43162  \n",
       "4     Nimmer on Copyright  see, e.g., Atari, Inc. v....       76685     77933  \n",
       "...                                                 ...         ...       ...  \n",
       "1374  Brief for Columbia Pictures et al. as  Amici C...      195116    196697  \n",
       "1375  In any event, the complaint that respondent’s ...      195261    197275  \n",
       "1376  The record supports the Court of Appeals’ conc...      217052    218140  \n",
       "1377  “This case presents a classic example of an un...      217284    218478  \n",
       "1378  It is so ordered. \\n      It is so ordered. \\n...      217644    219075  \n",
       "\n",
       "[187 rows x 5 columns]"
      ]
     },
     "execution_count": 10,
     "metadata": {},
     "output_type": "execute_result"
    }
   ],
   "source": [
    "context.drop_duplicates(inplace=True)\n",
    "context"
   ]
  },
  {
   "cell_type": "code",
   "execution_count": 11,
   "metadata": {},
   "outputs": [
    {
     "data": {
      "text/plain": [
       "citation\n",
       "464 U.S. 417        60\n",
       "78 L. Ed. 2d 574    52\n",
       "17 U.S.C. § 101     34\n",
       "471 U.S. 539        28\n",
       "104 S. Ct. 774      13\n",
       "Name: count, dtype: int64"
      ]
     },
     "execution_count": 11,
     "metadata": {},
     "output_type": "execute_result"
    }
   ],
   "source": [
    "context[\"citation\"].value_counts()"
   ]
  },
  {
   "cell_type": "code",
   "execution_count": 12,
   "metadata": {},
   "outputs": [],
   "source": [
    "distinct_context = eliminate_near_duplicates_grouped(context, \"context\", group_columns=[\"id\", \"citation\"], threshold=0.75)\n",
    "concatenated_context = distinct_context.sort_values(by=['start_char']).groupby(['citation', 'id'])['context'].apply(' '.join).reset_index()"
   ]
  },
  {
   "cell_type": "code",
   "execution_count": 13,
   "metadata": {},
   "outputs": [
    {
     "name": "stdout",
     "output_type": "stream",
     "text": [
      "shape: (32, 3)\n"
     ]
    },
    {
     "data": {
      "text/html": [
       "<div>\n",
       "<style scoped>\n",
       "    .dataframe tbody tr th:only-of-type {\n",
       "        vertical-align: middle;\n",
       "    }\n",
       "\n",
       "    .dataframe tbody tr th {\n",
       "        vertical-align: top;\n",
       "    }\n",
       "\n",
       "    .dataframe thead th {\n",
       "        text-align: right;\n",
       "    }\n",
       "</style>\n",
       "<table border=\"1\" class=\"dataframe\">\n",
       "  <thead>\n",
       "    <tr style=\"text-align: right;\">\n",
       "      <th></th>\n",
       "      <th>citation</th>\n",
       "      <th>id</th>\n",
       "      <th>context</th>\n",
       "    </tr>\n",
       "  </thead>\n",
       "  <tbody>\n",
       "    <tr>\n",
       "      <th>0</th>\n",
       "      <td>104 S. Ct. 774</td>\n",
       "      <td>1451062</td>\n",
       "      <td>See  Wainwright Sec. v. Wall Street Transcript...</td>\n",
       "    </tr>\n",
       "    <tr>\n",
       "      <th>1</th>\n",
       "      <td>104 S. Ct. 774</td>\n",
       "      <td>3337641</td>\n",
       "      <td>The Claims Court’s predecessor, under the juri...</td>\n",
       "    </tr>\n",
       "    <tr>\n",
       "      <th>2</th>\n",
       "      <td>104 S. Ct. 774</td>\n",
       "      <td>7396224</td>\n",
       "      <td>The court held that the commercial nature of t...</td>\n",
       "    </tr>\n",
       "    <tr>\n",
       "      <th>3</th>\n",
       "      <td>17 U.S.C. § 101</td>\n",
       "      <td>633900</td>\n",
       "      <td>3 Nimmer § 13.05[A], p. 13-81. The record supp...</td>\n",
       "    </tr>\n",
       "    <tr>\n",
       "      <th>4</th>\n",
       "      <td>17 U.S.C. § 101</td>\n",
       "      <td>1451062</td>\n",
       "      <td>On the same day, the district court granted an...</td>\n",
       "    </tr>\n",
       "  </tbody>\n",
       "</table>\n",
       "</div>"
      ],
      "text/plain": [
       "          citation       id                                            context\n",
       "0   104 S. Ct. 774  1451062  See  Wainwright Sec. v. Wall Street Transcript...\n",
       "1   104 S. Ct. 774  3337641  The Claims Court’s predecessor, under the juri...\n",
       "2   104 S. Ct. 774  7396224  The court held that the commercial nature of t...\n",
       "3  17 U.S.C. § 101   633900  3 Nimmer § 13.05[A], p. 13-81. The record supp...\n",
       "4  17 U.S.C. § 101  1451062  On the same day, the district court granted an..."
      ]
     },
     "execution_count": 13,
     "metadata": {},
     "output_type": "execute_result"
    }
   ],
   "source": [
    "print(f\"shape: {concatenated_context.shape}\")\n",
    "concatenated_context.head()"
   ]
  },
  {
   "cell_type": "code",
   "execution_count": 14,
   "metadata": {},
   "outputs": [],
   "source": [
    "text = concatenated_context.head(1)[\"context\"].tolist()[0]"
   ]
  },
  {
   "cell_type": "code",
   "execution_count": 15,
   "metadata": {},
   "outputs": [],
   "source": [
    "html_text = markdown(text)"
   ]
  },
  {
   "cell_type": "code",
   "execution_count": 16,
   "metadata": {},
   "outputs": [
    {
     "name": "stdout",
     "output_type": "stream",
     "text": [
      "Report written to ./outputs/20240218-d5fe8.pdf\n"
     ]
    }
   ],
   "source": [
    "report = await write_md_to_pdf(html_text)"
   ]
  },
  {
   "cell_type": "code",
   "execution_count": 18,
   "metadata": {},
   "outputs": [
    {
     "data": {
      "text/plain": [
       "'./outputs/20240218-d5fe8.pdf'"
      ]
     },
     "execution_count": 18,
     "metadata": {},
     "output_type": "execute_result"
    }
   ],
   "source": [
    "report"
   ]
  },
  {
   "cell_type": "code",
   "execution_count": 51,
   "metadata": {},
   "outputs": [],
   "source": [
    "from typing import List, Literal, Optional\n",
    "from pydantic import BaseModel, Field\n",
    "\n",
    "class LegalCitation(BaseModel):\n",
    "    \"\"\"Information about a legal ruling and its application.\"\"\"\n",
    "    \n",
    "    citation: str = Field(\n",
    "        ...,\n",
    "        description=\"The Citation specified by the user.\",\n",
    "    )\n",
    "    question_summary: str = Field(\n",
    "        ...,\n",
    "        description=\"A concise summary of the underlying legal question.\",\n",
    "    )\n",
    "    rule: str = Field(\n",
    "        ...,\n",
    "        description=\"A rule, argument, decision, or otherwise legal principal the citation is begin associated with.\",\n",
    "    )\n",
    "    application: Optional[str] = Field(\n",
    "        None,\n",
    "        description=\"Application, or potential application of the rule to the question.\"\n",
    "    )"
   ]
  },
  {
   "cell_type": "code",
   "execution_count": 52,
   "metadata": {},
   "outputs": [],
   "source": [
    "from tenacity import AsyncRetrying, stop_after_attempt, wait_fixed"
   ]
  },
  {
   "cell_type": "code",
   "execution_count": 53,
   "metadata": {},
   "outputs": [],
   "source": [
    "import openai\n",
    "import instructor\n",
    "\n",
    "client = instructor.patch(openai.AsyncOpenAI())"
   ]
  },
  {
   "cell_type": "code",
   "execution_count": 60,
   "metadata": {},
   "outputs": [],
   "source": [
    "async def analyze_citations(citation, context):\n",
    "    return await client.chat.completions.create(\n",
    "        model=\"gpt-4-turbo-preview\",\n",
    "        response_model=LegalCitation,\n",
    "        max_retries=AsyncRetrying(\n",
    "        stop=stop_after_attempt(3),\n",
    "        wait=wait_fixed(1),\n",
    "    ),\n",
    "        messages=[\n",
    "            {\n",
    "                \"role\": \"system\",\n",
    "                \"content\": \"Your role is to extract information about a legal citation using the context provided and without prior knowledge.\",\n",
    "            },\n",
    "            {\"role\": \"user\", \"content\": f\"Your task focuses on citation: **{citation}**\"},\n",
    "            {\"role\": \"user\", \"content\": f\"Here is the context: {context}\"}\n",
    "        ]\n",
    "    )"
   ]
  },
  {
   "cell_type": "code",
   "execution_count": 57,
   "metadata": {},
   "outputs": [],
   "source": [
    "import asyncio\n",
    "import nest_asyncio\n",
    "nest_asyncio.apply()"
   ]
  },
  {
   "cell_type": "code",
   "execution_count": 61,
   "metadata": {},
   "outputs": [
    {
     "name": "stderr",
     "output_type": "stream",
     "text": [
      "100%|██████████| 39/39 [04:05<00:00,  6.30s/it]\n"
     ]
    }
   ],
   "source": [
    "from tqdm.asyncio import tqdm\n",
    "\n",
    "async def process_citations_with_progress(concatenated_context):\n",
    "    results = []\n",
    "    for row in tqdm(concatenated_context.itertuples(), total=len(concatenated_context)):\n",
    "        result = await analyze_citations(row.citation, row.context)\n",
    "        results.append(result)\n",
    "    return results\n",
    "\n",
    "all_data = await process_citations_with_progress(concatenated_context)"
   ]
  },
  {
   "cell_type": "code",
   "execution_count": 72,
   "metadata": {},
   "outputs": [
    {
     "data": {
      "text/html": [
       "<div>\n",
       "<style scoped>\n",
       "    .dataframe tbody tr th:only-of-type {\n",
       "        vertical-align: middle;\n",
       "    }\n",
       "\n",
       "    .dataframe tbody tr th {\n",
       "        vertical-align: top;\n",
       "    }\n",
       "\n",
       "    .dataframe thead th {\n",
       "        text-align: right;\n",
       "    }\n",
       "</style>\n",
       "<table border=\"1\" class=\"dataframe\">\n",
       "  <thead>\n",
       "    <tr style=\"text-align: right;\">\n",
       "      <th></th>\n",
       "      <th>citation</th>\n",
       "      <th>question_summary</th>\n",
       "      <th>rule</th>\n",
       "      <th>application</th>\n",
       "    </tr>\n",
       "  </thead>\n",
       "  <tbody>\n",
       "    <tr>\n",
       "      <th>0</th>\n",
       "      <td>104 S. Ct. 774</td>\n",
       "      <td>Understanding the legal principle established ...</td>\n",
       "      <td>The case addressed the circumstances under whi...</td>\n",
       "      <td>None</td>\n",
       "    </tr>\n",
       "    <tr>\n",
       "      <th>1</th>\n",
       "      <td>104 S. Ct. 774</td>\n",
       "      <td>Can a flea market owner be held liable for cop...</td>\n",
       "      <td>A manufacturer or operator cannot be held liab...</td>\n",
       "      <td>In this context, the citation from Sony Corp. ...</td>\n",
       "    </tr>\n",
       "    <tr>\n",
       "      <th>2</th>\n",
       "      <td>104 S. Ct. 774</td>\n",
       "      <td>What constitutes contributory copyright infrin...</td>\n",
       "      <td>A technology provider is not liable for copyri...</td>\n",
       "      <td>None</td>\n",
       "    </tr>\n",
       "    <tr>\n",
       "      <th>3</th>\n",
       "      <td>239 F.3d 1004</td>\n",
       "      <td>Does the Digital Millennium Copyright Act (DMC...</td>\n",
       "      <td>The Digital Millennium Copyright Act (DMCA) pr...</td>\n",
       "      <td>None</td>\n",
       "    </tr>\n",
       "    <tr>\n",
       "      <th>4</th>\n",
       "      <td>239 F.3d 1004</td>\n",
       "      <td>Copyright infringement by downloading and dist...</td>\n",
       "      <td>In the context of copyright law, downloading f...</td>\n",
       "      <td>None</td>\n",
       "    </tr>\n",
       "  </tbody>\n",
       "</table>\n",
       "</div>"
      ],
      "text/plain": [
       "         citation                                   question_summary  \\\n",
       "0  104 S. Ct. 774  Understanding the legal principle established ...   \n",
       "1  104 S. Ct. 774  Can a flea market owner be held liable for cop...   \n",
       "2  104 S. Ct. 774  What constitutes contributory copyright infrin...   \n",
       "3   239 F.3d 1004  Does the Digital Millennium Copyright Act (DMC...   \n",
       "4   239 F.3d 1004  Copyright infringement by downloading and dist...   \n",
       "\n",
       "                                                rule  \\\n",
       "0  The case addressed the circumstances under whi...   \n",
       "1  A manufacturer or operator cannot be held liab...   \n",
       "2  A technology provider is not liable for copyri...   \n",
       "3  The Digital Millennium Copyright Act (DMCA) pr...   \n",
       "4  In the context of copyright law, downloading f...   \n",
       "\n",
       "                                         application  \n",
       "0                                               None  \n",
       "1  In this context, the citation from Sony Corp. ...  \n",
       "2                                               None  \n",
       "3                                               None  \n",
       "4                                               None  "
      ]
     },
     "execution_count": 72,
     "metadata": {},
     "output_type": "execute_result"
    }
   ],
   "source": [
    "data_dicts = [model.model_dump() for model in all_data]\n",
    "df_res = pd.DataFrame(data_dicts)\n",
    "df_res.head()"
   ]
  },
  {
   "cell_type": "code",
   "execution_count": 138,
   "metadata": {},
   "outputs": [
    {
     "data": {
      "text/markdown": [
       "| citation             | question_summary                                                                                                                                                                     | rule                                                                                                                                                                                                                                                                                                                                                                                                                                                                                                                                                                                                                      | application                                                                                                                                                                                                                                                                                                                                                                                                                                                                                                                                                                                                                                                                                       |\n",
       "|:---------------------|:-------------------------------------------------------------------------------------------------------------------------------------------------------------------------------------|:--------------------------------------------------------------------------------------------------------------------------------------------------------------------------------------------------------------------------------------------------------------------------------------------------------------------------------------------------------------------------------------------------------------------------------------------------------------------------------------------------------------------------------------------------------------------------------------------------------------------------|:--------------------------------------------------------------------------------------------------------------------------------------------------------------------------------------------------------------------------------------------------------------------------------------------------------------------------------------------------------------------------------------------------------------------------------------------------------------------------------------------------------------------------------------------------------------------------------------------------------------------------------------------------------------------------------------------------|\n",
       "| 104 S. Ct. 774       | Can a flea market owner be held liable for copyright infringement by vendors?                                                                                                        | A manufacturer or operator cannot be held liable for copyright infringement merely because their product or service can be used to infringe copyrights, absent specific information that identifies infringing activity.                                                                                                                                                                                                                                                                                                                                                                                                  | In this context, the citation from Sony Corp. of America v. Universal City Studios, Inc. supports the principle that a flea market owner (like the video cassette recorder manufacturer in Sony) cannot be held liable for contributory copyright infringement simply because the structure of the flea market allows for the possibility that a vendor might sell infringing goods. However, this does not eliminate the possibility of liability if the flea market owner has constructive knowledge of the infringement based on specific facts.                                                                                                                                               |\n",
       "| 239 F.3d 1004        | Columbus Farmers Market's defense against copyright infringement claims                                                                                                              | Third party direct liability as an element of secondary liability                                                                                                                                                                                                                                                                                                                                                                                                                                                                                                                                                         | In the context of Columbus Farmers Market's argument, this legal ruling is relevant because it establishes that every case of contributory or vicarious liability necessarily involves the defendant being held accountable for the direct conduct of another. This ruling highlights the legal foundation for holding defendants responsible for the infringement actions of third parties, refuting the defense that damages were solely the result of third party actions over which the defendant had no knowledge, authority, or control.                                                                                                                                                    |\n",
       "| 259 F. Supp. 2d 1029 | Does the sale of software that can be used for infringing activities constitute contributory copyright infringement?                                                                 | The sale of a product that is capable of substantial noninfringing uses does not automatically result in contributory infringement, even if the product might be used for illicit purposes. The court distinguished this principle from sole reliance on the product's potential for lawful use, suggesting that liability for contributory infringement requires actual knowledge of specific acts of infringement when the infringer is in a position to prevent those acts.                                                                                                                                            | In the case of Metro-Goldwyn-Mayer Studios, Inc. v. Grokster, Ltd., the district court concluded that as long as the software could be used for substantial noninfringing purposes, and there was no evidence of the defendants' timely knowledge of specific acts of infringement that they could prevent, they could not be found liable for contributory copyright infringement. This decision was based on the principle that the potential for lawful use of a product does not suffice to establish contributory infringement liability without actual knowledge of specific acts of infringement being demonstrated.                                                                       |\n",
       "| 259 F. Supp. 2d 1029 | Does the law permit copyright infringing defendants to seek contribution from third parties?                                                                                         | Copyright infringing defendants cannot assert contribution against third parties for copyright infringement. Neither the Copyright Act nor federal common law recognize a copyright in-fringer’s right to contribution. Third-party direct liability is an element of an allegation of secondary liability, which involves either contributory or vicarious liability. Defendants can be held responsible for the infringement of third parties if they had knowledge of and materially contributed to that party’s infringing activity or had the ability to supervise and control it and financially benefited from it. | In the case of Metro-Goldwyn-Mayer Studios, Inc. v. Grokster, Ltd., it was clarified that every case of contributory or vicarious liability necessarily involves the defendant being held to answer for the direct conduct of another. The court elaborated on the aspects of contributory and vicarious liability, indicating that defendants cannot seek contribution from third parties for acts of copyright infringement. The defendants in this context are held liable for the actions of third parties (i.e., vendors) because they either had knowledge and materially contributed to the infringing activity or had the ability to supervise, control, and financially benefit from it. |\n",
       "| 259 F. Supp. 2d 1029 | Does the decision to not hold Grokster contributorily liable for copyright infringement by users of its P2P file sharing program align with Verizon's interpretation of the statute? | The court held Grokster not contributorily liable for copyright infringement by users of its P2P file sharing program.                                                                                                                                                                                                                                                                                                                                                                                                                                                                                                    | Because the court agreed with Verizon's interpretation of the statute, which presumably leaned towards not holding service providers or platforms like Grokster contributorily liable under the circumstances described, the court reversed the district court's orders enforcing the subpoenas. This decision aligns with Verizon's stance and supports a broader interpretation that service platforms cannot be held contributorily liable for the actions of their users in such cases of copyright infringement, pending specific conditions and interpretations of the law.                                                                                                                 |\n",
       "| 259 F.Supp.2d 1029   | Does actual knowledge of specific instances of infringement satisfy the 'knowledge' prong of contributory liability?                                                                 | The question of whether actual knowledge of specific instances of infringement is required for contributory liability focuses on the timing of the defendants' knowledge rather than the extent of knowledge possessed. For liability to attach, the defendant must have knowledge of direct infringement at the time they materially contribute to that infringement.                                                                                                                                                                                                                                                    | Despite Sinnott's reliance on Grokster to argue that actual knowledge of specific instances of infringement is required, the Grokster decision does not affirm this requirement for Sinnott's case. Instead, it emphasizes the timing of the knowledge in relation to the contribution to infringement, indicating that knowledge at the time of contribution is critical for establishing secondary liability.                                                                                                                                                                                                                                                                                   |\n",
       "| 334 F.3d 643         | Inducement liability and DMCA safe harbors compatibility                                                                                                                             | The DMCA does not exempt from protection any mode of copyright liability, including under the doctrine of inducement. The requirements applied for all DMCA safe harbors do not inherently conflict with inducement liability.                                                                                                                                                                                                                                                                                                                                                                                            | A service provider could potentially be liable for inducement but still qualify for protection under DMCA safe harbors if they enforce a policy of removing repeat infringers. This suggests that inducement liability and DMCA safe harbor requirements can coexist without inherent contradiction.                                                                                                                                                                                                                                                                                                                                                                                              |\n",
       "| 334 F.3d 643         | Defendants' liability regarding third party direct infringers                                                                                                                        | Defendants are legally responsible for the infringement of third parties when they have knowledge of and materially contribute to that third party’s infringing activity (contributory infringement), or when they have the ability to supervise and control it and financially benefit from it (vicarious liability).                                                                                                                                                                                                                                                                                                    | The court in the case cited reinforces that plaintiffs need not sue the numerous third party direct infringers in order to bring a cause of action against defendants. Additionally, the defendants may not seek contribution from those third party direct infringers.                                                                                                                                                                                                                                                                                                                                                                                                                           |\n",
       "| 464 U.S. 417         | Does the citation support the issuance of a § 512(h) subpoena to an ISP acting as a conduit for P2P file sharing?                                                                    | The court referenced Sony Corp. v. Universal City Studios, Inc., to emphasize that it's not the courts' role to rewrite the DMCA for unforeseen technologies, but rather Congress's role to address such issues.                                                                                                                                                                                                                                                                                                                                                                                                          | In the context given, the court deferred to the legislative branch for addressing the complexities brought about by new technologies like P2P file sharing, asserting that it would be inappropriate for the court to interpret or amend the DMCA in response to these technological advancements. This directly impacts the question of the legality of issuing § 512(h) subpoenas to ISPs in P2P contexts, indicating that such a determination is for Congress to make, not the courts.                                                                                                                                                                                                        |"
      ],
      "text/plain": [
       "<IPython.core.display.Markdown object>"
      ]
     },
     "execution_count": 138,
     "metadata": {},
     "output_type": "execute_result"
    }
   ],
   "source": [
    "Markdown(df_res[~df_res[\"application\"].isna()].to_markdown(index=False))"
   ]
  },
  {
   "cell_type": "code",
   "execution_count": 71,
   "metadata": {},
   "outputs": [
    {
     "data": {
      "text/plain": [
       "{'citation': '104 S. Ct. 774',\n",
       " 'question_summary': 'Understanding the legal principle established by Sony Corp. of America v. Universal City Studios, Inc.',\n",
       " 'rule': \"The case addressed the circumstances under which secondary liability for copyright infringement could arise from the distribution of a product capable of copying copyrighted material, specifically considering a product distributor's intent and encouragement of the product's use for infringement.\",\n",
       " 'application': None}"
      ]
     },
     "execution_count": 71,
     "metadata": {},
     "output_type": "execute_result"
    }
   ],
   "source": [
    "all_data[0].model_dump()"
   ]
  },
  {
   "cell_type": "code",
   "execution_count": 121,
   "metadata": {},
   "outputs": [],
   "source": [
    "def save_models_to_json(models: List[BaseModel], file_path: str) -> None:\n",
    "    \"\"\"\n",
    "    Saves a list of Pydantic models to a JSON file.\n",
    "\n",
    "    Args:\n",
    "        models: A list of Pydantic model instances.\n",
    "        file_path: The path to the JSON file where the data will be saved.\n",
    "\n",
    "    Returns:\n",
    "        None\n",
    "    \"\"\"\n",
    "    with open(file_path, 'w') as f:\n",
    "        # Convert list of models to list of dictionaries\n",
    "        data = [model.model_dump() for model in models]\n",
    "        json.dump(data, f, indent=4)"
   ]
  },
  {
   "cell_type": "code",
   "execution_count": 122,
   "metadata": {},
   "outputs": [],
   "source": [
    "save_models_to_json(all_data, 'models.json')"
   ]
  },
  {
   "cell_type": "code",
   "execution_count": 124,
   "metadata": {},
   "outputs": [],
   "source": [
    "import json\n",
    "from typing import List, Type, TypeVar\n",
    "from pydantic import BaseModel\n",
    "\n",
    "T = TypeVar('T', bound=BaseModel)\n",
    "\n",
    "def load_models_from_json(model_class: Type[T], file_path: str) -> List[T]:\n",
    "    \"\"\"\n",
    "    Loads JSON data from a file and converts it into a list of Pydantic models.\n",
    "\n",
    "    Args:\n",
    "        model_class: The Pydantic model class to which the JSON objects will be converted.\n",
    "        file_path: The path to the JSON file from which the data will be loaded.\n",
    "\n",
    "    Returns:\n",
    "        A list of Pydantic model instances.\n",
    "    \"\"\"\n",
    "    with open(file_path, 'r') as f:\n",
    "        data = json.load(f)\n",
    "        models = [model_class.model_validate(item) for item in data]\n",
    "    return models"
   ]
  },
  {
   "cell_type": "code",
   "execution_count": 133,
   "metadata": {},
   "outputs": [
    {
     "name": "stdout",
     "output_type": "stream",
     "text": [
      "{'application': None,\n",
      " 'citation': '104 S. Ct. 774',\n",
      " 'question_summary': 'Understanding the legal principle established by Sony '\n",
      "                     'Corp. of America v. Universal City Studios, Inc.',\n",
      " 'rule': 'The case addressed the circumstances under which secondary liability '\n",
      "         'for copyright infringement could arise from the distribution of a '\n",
      "         'product capable of copying copyrighted material, specifically '\n",
      "         \"considering a product distributor's intent and encouragement of the \"\n",
      "         \"product's use for infringement.\"}\n"
     ]
    }
   ],
   "source": [
    "from pprint import pprint\n",
    "\n",
    "models = load_models_from_json(LegalCitation, 'models.json')\n",
    "pprint(models[0].model_dump())"
   ]
  },
  {
   "cell_type": "code",
   "execution_count": 157,
   "metadata": {},
   "outputs": [
    {
     "data": {
      "text/markdown": [
       "| citation             | question_summary                                                                                                                                                                                                                      | rule                                                                                                                                                                                                                                                                                                                                                                                                                                                                                                                                                                                                                      |\n",
       "|:---------------------|:--------------------------------------------------------------------------------------------------------------------------------------------------------------------------------------------------------------------------------------|:--------------------------------------------------------------------------------------------------------------------------------------------------------------------------------------------------------------------------------------------------------------------------------------------------------------------------------------------------------------------------------------------------------------------------------------------------------------------------------------------------------------------------------------------------------------------------------------------------------------------------|\n",
       "| 104 S. Ct. 774       | Understanding the legal principle established by Sony Corp. of America v. Universal City Studios, Inc.                                                                                                                                | The case addressed the circumstances under which secondary liability for copyright infringement could arise from the distribution of a product capable of copying copyrighted material, specifically considering a product distributor's intent and encouragement of the product's use for infringement.                                                                                                                                                                                                                                                                                                                  |\n",
       "| 104 S. Ct. 774       | Can a flea market owner be held liable for copyright infringement by vendors?                                                                                                                                                         | A manufacturer or operator cannot be held liable for copyright infringement merely because their product or service can be used to infringe copyrights, absent specific information that identifies infringing activity.                                                                                                                                                                                                                                                                                                                                                                                                  |\n",
       "| 104 S. Ct. 774       | What constitutes contributory copyright infringement?                                                                                                                                                                                 | A technology provider is not liable for copyright infringement committed by end users if the product sold is widely used for legitimate, unobjectionable purposes, or is merely capable of substantial noninfringing uses.                                                                                                                                                                                                                                                                                                                                                                                                |\n",
       "| 239 F.3d 1004        | Does the Digital Millennium Copyright Act (DMCA) provide safe harbor protection to individuals or entities that have been found liable for inducing copyright infringement?                                                           | The Digital Millennium Copyright Act (DMCA) provides safe harbor protection to individuals or entities even if they have been found liable for inducing copyright infringement, under certain circumstances.                                                                                                                                                                                                                                                                                                                                                                                                              |\n",
       "| 239 F.3d 1004        | Copyright infringement by downloading and distributing copyright-protected materials                                                                                                                                                  | In the context of copyright law, downloading files containing copyrighted material without authorization violates the copyright owner's reproduction rights, and making those files available for others to download infringes upon the owner's exclusive right to distribute the material.                                                                                                                                                                                                                                                                                                                               |\n",
       "| 239 F.3d 1004        | Does Section 512(h) of the Digital Millennium Copyright Act authorize the issuance of a subpoena to an Internet Service Provider acting solely as a conduit for communications to identify users suspected of copyright infringement? | The court ruled in favor of Verizon's interpretation of the statute, therefore reversing the district court's enforcement of the subpoenas without addressing the constitutional arguments.                                                                                                                                                                                                                                                                                                                                                                                                                               |\n",
       "| 239 F.3d 1004        | Do users who download files containing copyrighted music via peer-to-peer networks infringe on the copyright holder’s reproduction rights?                                                                                            | Napster users who download files containing copyrighted music violate plaintiffs’ reproduction rights.                                                                                                                                                                                                                                                                                                                                                                                                                                                                                                                    |\n",
       "| 239 F.3d 1004        | Does inducement to infringe copyrights lead to irreparable harm and undermine the control of intellectual property?                                                                                                                   | The court rejected the request for compulsory royalties as opposed to injunctive relief because Plaintiffs would lose the power to control their intellectual property. The inducement of infringement greatly erodes the ability of copyright owners to enforce their exclusive rights and does not offer a realistic mechanism for collecting statutory damages for all subsequent infringements occurring outside of the system and software in use.                                                                                                                                                                   |\n",
       "| 239 F.3d 1004        | What is the significance of the ruling in A&M Records, Inc. v. Napster, Inc., with regard to contributory copyright infringement and the requirement for knowledge of specific infringing files?                                      | Evidence of actual knowledge of specific acts of infringement is required to hold a computer system operator liable for contributory copyright infringement.                                                                                                                                                                                                                                                                                                                                                                                                                                                              |\n",
       "| 239 F.3d 1004        | Is building a file-sharing network to foster a user base for another service, considering the network enables copyrighted material to be shared, legally permissible?                                                                 | Analysis of contributory copyright infringement with respect to the operation of a file-sharing network.                                                                                                                                                                                                                                                                                                                                                                                                                                                                                                                  |\n",
       "| 239 F.3d 1004        | Columbus Farmers Market's defense against copyright infringement claims                                                                                                                                                               | Third party direct liability as an element of secondary liability                                                                                                                                                                                                                                                                                                                                                                                                                                                                                                                                                         |\n",
       "| 239 F.3d 1004        | Does 17 U.S.C. § 512(h) authorize the issuance of a subpoena to an ISP acting solely as a conduit for communications to identify alleged copyright infringers without an underlying case or controversy?                              | Section 512(h) does not authorize the issuance of a subpoena to an ISP acting solely as a conduit for communications the content of which is determined by others. The decision of the district court enforcing the subpoenas was reversed.                                                                                                                                                                                                                                                                                                                                                                               |\n",
       "| 239 F.3d 1004        | Explanation of the Napster system                                                                                                                                                                                                     | Provides a detailed description of the Napster peer-to-peer file-sharing system                                                                                                                                                                                                                                                                                                                                                                                                                                                                                                                                           |\n",
       "| 239 F.3d 1004        | Do MFM vendors directly infringe copyright by selling unauthorized copies of copyrighted sound recordings?                                                                                                                            | Establishing direct copyright infringement by vendors is a prerequisite to both the contributory and vicarious copyright infringement claims.                                                                                                                                                                                                                                                                                                                                                                                                                                                                             |\n",
       "| 239 F.3d 1004        | Can downloading and uploading copyrighted music through a peer-to-peer service constitute direct infringement?                                                                                                                        | Downloading and uploading copyrighted material are infringements of copyright law.                                                                                                                                                                                                                                                                                                                                                                                                                                                                                                                                        |\n",
       "| 259 F. Supp. 2d 1029 | Does the sale of software that can be used for infringing activities constitute contributory copyright infringement?                                                                                                                  | The sale of a product that is capable of substantial noninfringing uses does not automatically result in contributory infringement, even if the product might be used for illicit purposes. The court distinguished this principle from sole reliance on the product's potential for lawful use, suggesting that liability for contributory infringement requires actual knowledge of specific acts of infringement when the infringer is in a position to prevent those acts.                                                                                                                                            |\n",
       "| 259 F. Supp. 2d 1029 | What constitutes copyright infringement with regard to downloading copyrighted media files over the internet?                                                                                                                         | Downloading copyrighted media files infringes the copyright holder's rights of reproduction and constitutes direct copyright infringement.                                                                                                                                                                                                                                                                                                                                                                                                                                                                                |\n",
       "| 259 F. Supp. 2d 1029 | What was the legal principle established in Metro-Goldwyn-Mayer Studios, Inc. v. Grokster, Ltd.?                                                                                                                                      | The court held that Grokster was not contributorily liable for copyright infringement by users of its P2P file sharing program.                                                                                                                                                                                                                                                                                                                                                                                                                                                                                           |\n",
       "| 259 F. Supp. 2d 1029 | Does downloading copyrighted music without authorization constitute an unlawful reproduction of the work?                                                                                                                             | Downloading copyrighted sound recordings without the authorization of the copyright holder constitutes an unlawful reproduction of the work in violation of § 106(1) of the Copyright Act.                                                                                                                                                                                                                                                                                                                                                                                                                                |\n",
       "| 259 F. Supp. 2d 1029 | Does refusal to provide certain information and allowing other networks to offer unfiltered software constitute waiver of the right to a permanent injunction?                                                                        | Waiver is the intentional relinquishment of a known right with knowledge of its existence and the intent to relinquish it. Waiver of copyright occurs only with the intent to surrender rights.                                                                                                                                                                                                                                                                                                                                                                                                                           |\n",
       "| 259 F. Supp. 2d 1029 | What was the legal issue in the case where the court granted summary judgment for Defendants StreamCast and Grokster?                                                                                                                 | The legal issue revolved around whether Defendants’ file-sharing software contributed to massive copyright infringement of copyrighted works owned by Plaintiffs.                                                                                                                                                                                                                                                                                                                                                                                                                                                         |\n",
       "| 259 F. Supp. 2d 1029 | Does the law permit copyright infringing defendants to seek contribution from third parties?                                                                                                                                          | Copyright infringing defendants cannot assert contribution against third parties for copyright infringement. Neither the Copyright Act nor federal common law recognize a copyright in-fringer’s right to contribution. Third-party direct liability is an element of an allegation of secondary liability, which involves either contributory or vicarious liability. Defendants can be held responsible for the infringement of third parties if they had knowledge of and materially contributed to that party’s infringing activity or had the ability to supervise and control it and financially benefited from it. |\n",
       "| 259 F. Supp. 2d 1029 | Does the decision to not hold Grokster contributorily liable for copyright infringement by users of its P2P file sharing program align with Verizon's interpretation of the statute?                                                  | The court held Grokster not contributorily liable for copyright infringement by users of its P2P file sharing program.                                                                                                                                                                                                                                                                                                                                                                                                                                                                                                    |\n",
       "| 259 F. Supp. 2d 1029 | Is file-sharing software distribution that facilitates copyright material exchange subject to vicarious and contributory copyright infringement?                                                                                      | Metro-Goldwyn-Mayer Studios, Inc. v. Grokster, Ltd. determined that distributors of peer-to-peer file-sharing software might be liable for copyright infringement if the software is predominantly used to exchange copyrighted material, pursuant to 17 U.S.C. §§ 501-13.                                                                                                                                                                                                                                                                                                                                                |\n",
       "| 259 F.Supp.2d 1029   | Does actual knowledge of specific instances of infringement satisfy the 'knowledge' prong of contributory liability?                                                                                                                  | The question of whether actual knowledge of specific instances of infringement is required for contributory liability focuses on the timing of the defendants' knowledge rather than the extent of knowledge possessed. For liability to attach, the defendant must have knowledge of direct infringement at the time they materially contribute to that infringement.                                                                                                                                                                                                                                                    |\n",
       "| 259 F. Supp. 2d 1029 | What does the ruling in Metro-Goldwyn-Mayer Studios, Inc. v. Grokster, Ltd. indicate about liability for file sharing?                                                                                                                | The district court in Grokster ruled that if either defendant ceased operations and deactivated all computers they control, users of their products would still be able to continue sharing files with little or no interruption.                                                                                                                                                                                                                                                                                                                                                                                         |\n",
       "| 334 F.3d 643         | Inducement liability and DMCA safe harbors compatibility                                                                                                                                                                              | The DMCA does not exempt from protection any mode of copyright liability, including under the doctrine of inducement. The requirements applied for all DMCA safe harbors do not inherently conflict with inducement liability.                                                                                                                                                                                                                                                                                                                                                                                            |\n",
       "| 334 F.3d 643         | Can imposing liability on software distributors for users' infringement limit technological innovation?                                                                                                                               | Secondary liability for contributory or vicarious infringement                                                                                                                                                                                                                                                                                                                                                                                                                                                                                                                                                            |\n",
       "| 334 F.3d 643         | Defendants' liability regarding third party direct infringers                                                                                                                                                                         | Defendants are legally responsible for the infringement of third parties when they have knowledge of and materially contribute to that third party’s infringing activity (contributory infringement), or when they have the ability to supervise and control it and financially benefit from it (vicarious liability).                                                                                                                                                                                                                                                                                                    |\n",
       "| 334 F.3d 643         | How should the standard of 'substantial noninfringing use' be interpreted?                                                                                                                                                            | The Seventh Circuit interpreted the 'substantial noninfringing use' standard to include the consideration of how 'probable' the noninfringing uses of a product are.                                                                                                                                                                                                                                                                                                                                                                                                                                                      |\n",
       "| 334 F.3d 643         | What is the concept of willful blindness in copyright law and its implications for contributory liability?                                                                                                                            | Willful blindness is knowledge, in copyright law ... as it is in the law generally.                                                                                                                                                                                                                                                                                                                                                                                                                                                                                                                                       |\n",
       "| 464 U.S. 417         | How did the Supreme Court address the issue of secondary copyright infringement in the context of new technologies?                                                                                                                   | Sony considered whether secondary liability for infringement could arise solely from the distribution of a commercial product capable of copying copyrighted material, focusing on the Betamax video tape recorder made by Sony.                                                                                                                                                                                                                                                                                                                                                                                          |\n",
       "| 464 U.S. 417         | Does the citation support the issuance of a § 512(h) subpoena to an ISP acting as a conduit for P2P file sharing?                                                                                                                     | The court referenced Sony Corp. v. Universal City Studios, Inc., to emphasize that it's not the courts' role to rewrite the DMCA for unforeseen technologies, but rather Congress's role to address such issues.                                                                                                                                                                                                                                                                                                                                                                                                          |\n",
       "| 464 U.S. 417         | Are the terms \"knowingly materially contributing\", \"enabling\", and \"permitting\" in the injunction against StreamCast relevant or necessary given its applicability to different infringement theories?                                | Sony Corp. v. Universal City Studios, Inc. introduces a standard for evaluating technology capable of substantial noninfringing uses.                                                                                                                                                                                                                                                                                                                                                                                                                                                                                     |\n",
       "| 464 U.S. 417         | How does the concept of contributory liability for copyright infringement based on distribution of a product apply, according to Sony Corp. of America v. Universal City Studios, Inc.?                                               | Distribution of a commercial product capable of substantial non-infringing uses cannot give rise to contributory liability for infringement unless the distributor had actual knowledge of specific instances of infringement and failed to act on that knowledge.                                                                                                                                                                                                                                                                                                                                                        |\n",
       "| 464 U.S. 417         | Does the legislative history support the issuance of a § 512(h) subpoena to an ISP acting as a conduit for P2P file sharing?                                                                                                          | The courts cannot rewrite the DMCA to fit new and unforeseen internet architecture; addressing the plight of copyright holders is the responsibility of Congress.                                                                                                                                                                                                                                                                                                                                                                                                                                                         |\n",
       "| 464 U.S. 417         | Can the sale of video tape recorders give rise to contributory copyright infringement liability?                                                                                                                                      | No, the sale of video tape recorders cannot give rise to contributory copyright infringement liability if the product is capable of substantial or commercially significant noninfringing uses.                                                                                                                                                                                                                                                                                                                                                                                                                           |\n",
       "| 464 U.S. 417         | How is secondary liability for copyright infringement established?                                                                                                                                                                    | Courts have long recognized that in certain circumstances, vicarious or contributory liability for copyright infringement will be imposed.                                                                                                                                                                                                                                                                                                                                                                                                                                                                                |\n",
       "| 464 U.S. 417         | Cox's liability for contributory infringement                                                                                                                                                                                         | the Supreme Court’s decision established that an internet service capable of substantial noninfringing uses should generally be immunized from liability for contributory infringement                                                                                                                                                                                                                                                                                                                                                                                                                                    |"
      ],
      "text/plain": [
       "<IPython.core.display.Markdown object>"
      ]
     },
     "execution_count": 157,
     "metadata": {},
     "output_type": "execute_result"
    }
   ],
   "source": [
    "Markdown(df_res[[\"citation\", \"question_summary\", \"rule\"]].to_markdown(index=False))"
   ]
  },
  {
   "cell_type": "code",
   "execution_count": null,
   "metadata": {},
   "outputs": [],
   "source": []
  }
 ],
 "metadata": {
  "kernelspec": {
   "display_name": ".venv",
   "language": "python",
   "name": "python3"
  },
  "language_info": {
   "codemirror_mode": {
    "name": "ipython",
    "version": 3
   },
   "file_extension": ".py",
   "mimetype": "text/x-python",
   "name": "python",
   "nbconvert_exporter": "python",
   "pygments_lexer": "ipython3",
   "version": "3.10.13"
  }
 },
 "nbformat": 4,
 "nbformat_minor": 2
}
