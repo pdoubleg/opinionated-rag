{
 "cells": [
  {
   "cell_type": "code",
   "execution_count": 1,
   "metadata": {},
   "outputs": [],
   "source": [
    "import os\n",
    "from dotenv import load_dotenv\n",
    "import pandas as pd\n",
    "import json\n",
    "import requests\n",
    "import eyecite\n",
    "from datetime import datetime\n",
    "from markdown import markdown\n",
    "from IPython.display import Markdown, display, HTML\n",
    "import warnings\n",
    "warnings.filterwarnings('ignore')\n",
    "pd.set_option('display.max_columns', None)\n",
    "load_dotenv()\n",
    "os.chdir(os.path.dirname(os.getcwd()))"
   ]
  },
  {
   "cell_type": "code",
   "execution_count": 2,
   "metadata": {},
   "outputs": [],
   "source": [
    "from typing import Optional, Dict\n",
    "from src.schema.decisions import Decision"
   ]
  },
  {
   "cell_type": "code",
   "execution_count": 3,
   "metadata": {},
   "outputs": [],
   "source": [
    "from src.schema.citations import CAPCitation\n",
    "from src.schema.decisions import CaseBody, CaseData, Court, Opinion\n",
    "from src.types import SEARCH_TYPES\n",
    "from src.doc_store.courtlistener import Caselist, CourtListenerCaseDataSource\n",
    "from typing import List, Dict, Any\n",
    "\n",
    "\n",
    "class DecisionWithContext(Decision):\n",
    "    \"\"\"Subclass of Decision that includes context for a citation.\"\"\"\n",
    "    \n",
    "    def __init__(self, *args, context: Optional[str] = None, context_citation: Optional[str] = None, **kwargs):\n",
    "        super().__init__(*args, **kwargs)\n",
    "        self.context = context\n",
    "        self.context_citation = context_citation\n",
    "\n",
    "\n",
    "class CourtListenerClient(CourtListenerCaseDataSource):\n",
    "    def __init__(self):\n",
    "        super().__init__()\n",
    "        \n",
    "    def fetch_case_by_id(self, case_id: int) -> Dict[str, Any]:\n",
    "        case_data = super().fetch_case(case_id)\n",
    "        decision = self.make_decisions(case_data)\n",
    "        return decision[0]\n",
    "    \n",
    "    \n",
    "    def fetch_case_by_id(self, case_id: int) -> Dict[str, Any]:\n",
    "        case_data = super().fetch_case(case_id)\n",
    "        decision = self.make_decisions(case_data)\n",
    "        return decision[0]\n",
    "    \n",
    "    \n",
    "    def fetch_forward_cites(self, case_id: int) -> List[int]:\n",
    "        \"\"\"Fetches a list of ids for cases that cite the target case\"\"\"\n",
    "        forward_citation_ids = super().get_forward_cites_from_id(case_id)\n",
    "        return forward_citation_ids\n",
    "    \n",
    "    \n",
    "    def read_forward_cites(self, case_id: int, verbose: bool = True) -> List[Decision]:\n",
    "        forward_citing_cases = super().fetch_forward_citations(case_id, verbose=verbose)\n",
    "        decisions = self.make_decisions(forward_citing_cases)\n",
    "        return decisions\n",
    "\n",
    "\n",
    "    def make_decisions(self, caselist: Caselist) -> List[Decision]:\n",
    "        \"\"\"\n",
    "        Converts a list of cases into a list of Decision objects.\n",
    "\n",
    "        Args:\n",
    "            caselist: A Caselist object containing multiple cases.\n",
    "\n",
    "        Returns:\n",
    "            A list of Decision objects, each representing a case in the caselist.\n",
    "        \"\"\"\n",
    "        decisions = []\n",
    "        for case in caselist.cases:\n",
    "            # Fallback mechanism for citations\n",
    "            if case.cluster.citations:\n",
    "                citations = [\n",
    "                    CAPCitation(\n",
    "                        cite=str(citation),\n",
    "                        reporter=citation.reporter,\n",
    "                        category=citation.type.name.title(),\n",
    "                        case_ids=[case.cluster.id],\n",
    "                    )\n",
    "                    for citation in case.cluster.citations\n",
    "                ]\n",
    "            else:\n",
    "                # Fallback citation when case.cluster.citations is None\n",
    "                citations = [\n",
    "                    CAPCitation(\n",
    "                        cite=case.name_short,\n",
    "                        reporter=case.court,\n",
    "                        category=\"Fallback\",  # You might want to specify a default category\n",
    "                        case_ids=[case.cluster.id],\n",
    "                    )\n",
    "                ]\n",
    "            decision = Decision(\n",
    "                id=case.id,\n",
    "                decision_date=case.date,\n",
    "                name=case.bluebook_citation,\n",
    "                name_abbreviation=case.docket.case_name_short,\n",
    "                docket_num=case.docket.docket_number,\n",
    "                citations=citations,\n",
    "                attorneys=case.people[\"attorneys\"],\n",
    "                court=Court(\n",
    "                    id=case.docket.id,\n",
    "                    name=case.court,\n",
    "                    url=case.docket.court,\n",
    "                ),\n",
    "                casebody=CaseBody(\n",
    "                    data=CaseData(\n",
    "                        head_matter=case.cluster.headmatter,\n",
    "                        opinions=[\n",
    "                            Opinion(\n",
    "                                type=opinion.type.name.title(),\n",
    "                                text=opinion.html,\n",
    "                                is_html=True,\n",
    "                            ) for opinion in case.opinions\n",
    "                        ],\n",
    "                        judges=case.people.get(\"judges\", []),\n",
    "                    ),\n",
    "                    status=case.cluster.precedential_status.name,\n",
    "                ),\n",
    "                cites_to=case.opinions[0].citing_cases if case.opinions else [],\n",
    "                frontend_url=case.opinions[0].web_link if case.opinions else \"\",\n",
    "            )\n",
    "            decisions.append(decision)\n",
    "        return decisions\n",
    "\n",
    "\n",
    "def extract_citation_context_decisions(\n",
    "    forward_decisions: List[Decision], \n",
    "    citations: List[str]\n",
    "    ) -> List[DecisionWithContext]:\n",
    "    \"\"\"\n",
    "    Extracts the context for the first found citation in each Decision object and returns a new list of Decision objects with the context stored in an attribute.\n",
    "\n",
    "    Args:\n",
    "        forward_decisions: A list of Decision objects to search through.\n",
    "        citations: A list of citation strings to search for in each Decision.\n",
    "\n",
    "    Returns:\n",
    "        A list of DecisionWithContext objects, each representing a Decision with an added context attribute.\n",
    "    \"\"\"\n",
    "    updated_decisions = []\n",
    "\n",
    "    for decision in forward_decisions:\n",
    "        context_found = False\n",
    "        extracted_context = None\n",
    "        \n",
    "        for citation in citations:\n",
    "            if context_found:\n",
    "                break\n",
    "            \n",
    "            try:\n",
    "                context = decision.extract_citation_contexts(citation)\n",
    "                \n",
    "                if context:\n",
    "                    extracted_context = context\n",
    "                    context_found = True\n",
    "            except Exception as e:\n",
    "                print(f\"Error extracting context for citation {citation} in decision: {e}\")\n",
    "        \n",
    "        # Create a new DecisionWithContext object, copying the original decision and adding the extracted context\n",
    "        updated_decision = DecisionWithContext(**decision.__dict__, context=extracted_context, context_citation=citation)\n",
    "        updated_decisions.append(updated_decision)\n",
    "\n",
    "    return updated_decisions\n",
    "\n",
    "       \n"
   ]
  },
  {
   "cell_type": "code",
   "execution_count": 4,
   "metadata": {},
   "outputs": [],
   "source": [
    "client = CourtListenerClient()"
   ]
  },
  {
   "cell_type": "code",
   "execution_count": 5,
   "metadata": {},
   "outputs": [
    {
     "data": {
      "text/plain": [
       "'Cunningham, 120 Cal. Rptr. 2d 162 (2002-04-30)'"
      ]
     },
     "execution_count": 5,
     "metadata": {},
     "output_type": "execute_result"
    }
   ],
   "source": [
    "case = client.fetch_case_by_id(2276381)\n",
    "str(case)"
   ]
  },
  {
   "cell_type": "code",
   "execution_count": 6,
   "metadata": {},
   "outputs": [
    {
     "data": {
      "text/plain": [
       "7"
      ]
     },
     "execution_count": 6,
     "metadata": {},
     "output_type": "execute_result"
    }
   ],
   "source": [
    "forward_cites = client.fetch_forward_cites(2276381)\n",
    "len(forward_cites)"
   ]
  },
  {
   "cell_type": "code",
   "execution_count": 7,
   "metadata": {},
   "outputs": [
    {
     "name": "stdout",
     "output_type": "stream",
     "text": [
      "Fetching forward citation ID: 2441985\n",
      "Fetching forward citation ID: 2439427\n",
      "Fetching forward citation ID: 2251305\n",
      "Fetching forward citation ID: 2740011\n",
      "Fetching forward citation ID: 2473426\n",
      "Fetching forward citation ID: 2276439\n",
      "Fetching forward citation ID: 2273431\n"
     ]
    }
   ],
   "source": [
    "forward_decisions = client.read_forward_cites(2276381)"
   ]
  },
  {
   "cell_type": "code",
   "execution_count": 8,
   "metadata": {},
   "outputs": [
    {
     "data": {
      "text/plain": [
       "['120 Cal. Rptr. 2d 162', '98 Cal. App. 4th 1141']"
      ]
     },
     "execution_count": 8,
     "metadata": {},
     "output_type": "execute_result"
    }
   ],
   "source": [
    "citations = [citation.cite for citation in case.citations]\n",
    "citations"
   ]
  },
  {
   "cell_type": "code",
   "execution_count": 9,
   "metadata": {},
   "outputs": [],
   "source": [
    "decisions_context = extract_citation_context_decisions(forward_decisions, citations)"
   ]
  },
  {
   "cell_type": "code",
   "execution_count": 20,
   "metadata": {},
   "outputs": [
    {
     "data": {
      "text/plain": [
       "'This in no way interfered with Fidelitone\\'s use of the premises. (Citations omitted) (emphasis added). In its initial brief in this Court, BTR argues that its actions did not constitute a constructive eviction. This argument, however, invokes the wrong doctrine of law, because the doctrine of constructive eviction is not applicable to the facts of the case sub judice. [2] In its reply brief, BTR clarifies that the circuit court erred in finding that BTR evicted Source Interlink from the property. According to BTR, Source Interlink (1) had decommissioned the property and was only using it to store equipment, (2) \"continued to store and showcase property in the facility\" even after Fidelitone had left, (3) was informed at all times by BTR that Fidelitone\\'s occupancy was only temporary, and (4) \"maintained the keys to the premises and continued to access the property weekly.\" Such facts, argues BTR, demonstrate that BTR did not \"interfere[ ] with any of the activities which Source [Interlink] conducted in the space prior to, during or after the flood.\" Because Source Interlink\\'s \"use of the space and its activities with respect to *152 the space never changed,\" BTR argues that it was \"impossible to have an actual eviction.\" We disagree and explain. Our review of Maryland case law has disclosed no definition of \"actual eviction.\" Black\\'s Law Dictionary 35 (6th ed.1990) defines actual eviction as \"[a]n actual expulsion of the tenant out of all or some part of the demised premises. A physical ouster or dispossession from the very thing granted or some substantial part thereof. \" (Emphasis added). Thompson on Real Property § 41.03(c)(2), entitled \"Actual Eviction by the Landlord,\" explains: The landlord will be in breach of the implied covenant of quiet enjoyment if the landlord, or someone for whose acts the landlord is responsible, wrongfully ousts the tenant from the leased premises. The cases refer to this conduct, which can take the form of physical expulsion or a physical exclusion of the tenant from the leased premises, as an actual eviction. Particular acts by the landlord that have been found to be sufficient to constitute actual eviction of a tenant have included changing the locks on the leased premises, refusing to permit the tenant to enter a building in which space has been leased, padlocking the entry to the leased premises, and taking possession of the leased premises with threats of violence against the tenant or members of the tenant\\'s family if they attempt to re- enter. The cases also recognize that the landlord\\'s eviction efforts may deprive the tenant of only a portion of the leased premises, leaving the tenant in possession of the remainder. If the landlord deprives the tenant of a significant portion of the leased premises, the landlord\\'s conduct will generally be regarded as constituting a partial actual eviction, and a breach of the implied covenant. (Emphasis added) (footnotes omitted); see also Cunningham v. Universal Underwriters, 98 Cal. App. 4th 1141, 120 Cal. Rptr. 2d 162, 168-69 (2002) (\"The legal definition of an eviction is the same: an eviction\\' is[t]he act or process of legally dispossessing a person of land or rental property.\\' (Black\\'s Law Dict. (7th ed.1999) p. 575, col. 2.) A wrongful eviction thus occurs when the person recovering the property had no right to dispossess the other party from the property.\" (Alteration in original)); cf. Day v. Watson, 8 Mich. 535, 536 (1860) (\"[T]he entry being followed by a continuous possession, which was inconsistent with the possessory title assured to the tenants under the lease, that possession amounts very clearly to an eviction.\"). The Restatement (Second) of Property: Landlord and Tenant § 6.1 (hereinafter \"the Restatement\"), provides in pertinent part: Except to the extent the parties to a lease validly agree otherwise, there is a breach of the landlord\\'s obligations if, during the period the tenant is entitled to possession of the leased property, the landlord, or someone whose conduct is attributable to him, interferes with a permissible use of the leased property by the tenant. (Emphasis added). Comment (a) to section 6.1 of the Restatement states that \"[t]he conduct in § 6.1 is more commonly referred to as an eviction by the landlord.\" (Emphasis added). Comment (b) to section 6.1 of the Restatement further explains that \"[a]n unauthorized possession of all or any part of the leased property by the landlord, or someone whose conduct is attributable to him, is an eviction of the tenant that could be cured by the tenant himself.\" One of the Illustrations given in Comment (b) is particularly relevant to the instant case: *153 L leases land to T. T enters the leased property. Six months later L, without T\\'s consent, takes possession of a building located on a remote corner of the leased premises that T is not currently using. L\\'s possession of part of the leased property is unauthorized, and L is interfering with a permissible use thereof by T. The actions of BTR in allowing Fidelitone to take possession of the premises leased to Source Interlink are more extensive than the Illustration discussed above. Source Interlink leased approximately 126,786 square feet of the Hampstead Facility, of which 114,891 square feet was warehouse space and 11,895 square feet was office space. Clark, a member of BTR, \"testified that Fidelitone used and occupied 115,000 square feet of Source Interlink\\'s space, constituting substantially all of Source Interlink\\'s warehouse space.\" Although there was testimony that Source Interlink stored \"a large piece of equipment\" in the warehouse during the time Fidelitone occupied the premises, the impact of such equipment on the warehouse space used by Fidelitone was negligible. The equipment referred to was Source Interlink\\'s air system, consisting mainly of a Twinn City Fan and Blower, which was mounted on the roof. Source Interlink wanted to sell the air system, and estimated that its removal would cost $8,500.00.'"
      ]
     },
     "execution_count": 20,
     "metadata": {},
     "output_type": "execute_result"
    }
   ],
   "source": [
    "decisions_context[0].context"
   ]
  },
  {
   "cell_type": "code",
   "execution_count": 21,
   "metadata": {},
   "outputs": [],
   "source": [
    "from src.doc_store.base import CitationAnalysis, analyze_citation\n",
    "\n",
    "citation_analysis: CitationAnalysis = analyze_citation(\n",
    "    str(decisions_context[0].context_citation), decisions_context[0].context\n",
    ")"
   ]
  },
  {
   "cell_type": "code",
   "execution_count": 22,
   "metadata": {},
   "outputs": [
    {
     "data": {
      "text/markdown": [
       "98 Cal. App. 4th 1141"
      ],
      "text/plain": [
       "<IPython.core.display.Markdown object>"
      ]
     },
     "metadata": {},
     "output_type": "display_data"
    },
    {
     "data": {
      "text/markdown": [
       "Does allowing another entity to take possession of premises leased to a third party constitute an eviction?"
      ],
      "text/plain": [
       "<IPython.core.display.Markdown object>"
      ]
     },
     "metadata": {},
     "output_type": "display_data"
    },
    {
     "data": {
      "text/markdown": [
       "An eviction is defined as the act or process of legally dispossessing a person of land or rental property. A wrongful eviction occurs when the person recovering the property had no right to dispossess the other party from the property."
      ],
      "text/plain": [
       "<IPython.core.display.Markdown object>"
      ]
     },
     "metadata": {},
     "output_type": "display_data"
    },
    {
     "data": {
      "text/markdown": [
       "The actions of allowing Fidelitone to take possession of premises leased to Source Interlink could be considered a wrongful eviction if it is determined that BTR had no right to dispossess Source Interlink from the property."
      ],
      "text/plain": [
       "<IPython.core.display.Markdown object>"
      ]
     },
     "metadata": {},
     "output_type": "display_data"
    },
    {
     "data": {
      "text/markdown": [
       "Cunningham v. Universal Underwriters is referenced in the context of defining eviction and wrongful eviction. It defines both concepts and illustrates a case where wrongful eviction occurs when the dispossessing party has no legal right to the property."
      ],
      "text/plain": [
       "<IPython.core.display.Markdown object>"
      ]
     },
     "metadata": {},
     "output_type": "display_data"
    }
   ],
   "source": [
    "display(Markdown((citation_analysis.citation)))\n",
    "display(Markdown((citation_analysis.legal_question)))\n",
    "display(Markdown((citation_analysis.rule)))\n",
    "display(Markdown((citation_analysis.application)))\n",
    "display(Markdown((citation_analysis.citation_reference)))"
   ]
  },
  {
   "cell_type": "code",
   "execution_count": 33,
   "metadata": {},
   "outputs": [],
   "source": [
    "import instructor\n",
    "import openai\n",
    "from src.doc_store.base import CitationAnalysis\n",
    "\n",
    "client = instructor.patch(openai.AsyncOpenAI())\n",
    "\n",
    "async def analyze_citations(citation, context):\n",
    "    return await client.chat.completions.create(\n",
    "        model=\"gpt-4-turbo-preview\",\n",
    "        response_model=CitationAnalysis,\n",
    "        max_retries=AsyncRetrying(\n",
    "        stop=stop_after_attempt(3),\n",
    "        wait=wait_fixed(1),\n",
    "    ),\n",
    "        messages=[\n",
    "            {\n",
    "                \"role\": \"system\",\n",
    "                \"content\": \"Your role is to extract information about a legal citation using the context provided and without prior knowledge.\",\n",
    "            },\n",
    "            {\"role\": \"user\", \"content\": f\"Your task focuses on citation: **{citation}**\"},\n",
    "            {\"role\": \"user\", \"content\": f\"Here is the context: {context}\"}\n",
    "        ]\n",
    "    )"
   ]
  },
  {
   "cell_type": "code",
   "execution_count": 34,
   "metadata": {},
   "outputs": [
    {
     "name": "stderr",
     "output_type": "stream",
     "text": [
      "  0%|          | 0/7 [00:00<?, ?it/s]"
     ]
    }
   ],
   "source": [
    "import nest_asyncio\n",
    "nest_asyncio.apply()\n",
    "from tqdm.asyncio import tqdm\n",
    "\n",
    "async def process_citations_with_progress(decisions_context):\n",
    "    results = []\n",
    "    for case in tqdm(decisions_context, total=len(decisions_context)):\n",
    "        result = await analyze_citations(case.context_citation, case.context)\n",
    "        results.append(result)\n",
    "    return results\n",
    "\n",
    "all_data = await process_citations_with_progress(decisions_context)"
   ]
  },
  {
   "cell_type": "code",
   "execution_count": 32,
   "metadata": {},
   "outputs": [
    {
     "data": {
      "text/markdown": [
       "| citation              | question_summary                                                                                                                                            | rule                                                                                                                                                                                                                                                                                                                                                                                | application                                                                                                                                                                                                                                                                                                                                                                                                                                                                                                                                                                                                                                                                                 |\n",
       "|:----------------------|:------------------------------------------------------------------------------------------------------------------------------------------------------------|:------------------------------------------------------------------------------------------------------------------------------------------------------------------------------------------------------------------------------------------------------------------------------------------------------------------------------------------------------------------------------------|:--------------------------------------------------------------------------------------------------------------------------------------------------------------------------------------------------------------------------------------------------------------------------------------------------------------------------------------------------------------------------------------------------------------------------------------------------------------------------------------------------------------------------------------------------------------------------------------------------------------------------------------------------------------------------------------------|\n",
       "| 98 Cal. App. 4th 1141 | Does the action of allowing Fidelitone to take possession of premises leased to Source Interlink constitute an eviction?                                    | An eviction is defined as the act or process of legally dispossessing a person of land or rental property. A wrongful eviction occurs when the person recovering the property had no right to dispossess the other party from the property.                                                                                                                                         |                                                                                                                                                                                                                                                                                                                                                                                                                                                                                                                                                                                                                                                                                             |\n",
       "| 98 Cal. App. 4th 1141 | Does a tenant's right to possess property amount to a tangible property right for purposes of insurance coverage?                                           | A tenant's right to possess a property does not mature into a tangible property right until actual possession occurs. A nonpossessing tenant, whose loss concerns solely the interference with the right to possession under the lease, does not possess tangible property rights. However, upon taking legal possession, a tenant has a possessory property right in the premises. | In the context provided, the court clarified that a tenant does not possess tangible property rights merely based on their lease agreement and the anticipated right to occupy the property. This right transforms into a tangible property right only when the tenant actually takes possession of the property. Hence, prior to possession, allegations of loss related to interference with the right to possession do not qualify as claims for property damage under insurance policies that define property damage as damage to tangible property. This decision impacts how insurance coverage may be interpreted in cases involving tenants' rights and claims for property damage. |\n",
       "| 98 Cal. App. 4th 1141 | In an insurance coverage dispute, how is an ambiguous policy provision interpreted?                                                                         | If a policy provision is ambiguous, courts resolve the ambiguity in the insureds' favor, consistent with the insureds' reasonable expectations.                                                                                                                                                                                                                                     |                                                                                                                                                                                                                                                                                                                                                                                                                                                                                                                                                                                                                                                                                             |\n",
       "| 98 Cal. App. 4th 1141 | Does a claim for negligent massage arising from sexual misconduct give rise to a duty to defend under an insurance policy?                                  | Claims based on intentional acts, such as sexual misconduct, do not give rise to a duty to defend under an insurance policy when the acts alleged are inherently intentional and not negligent.                                                                                                                                                                                     |                                                                                                                                                                                                                                                                                                                                                                                                                                                                                                                                                                                                                                                                                             |\n",
       "| 98 Cal. App. 4th 1141 | Does the defendant have a duty to defend the plaintiff against a nuisance claim under the policy's coverage for invasion of the right of private occupancy? | An insurer must defend its insured against claims that create a potential for indemnity under the policy. The duty to defend is broader than the duty to indemnify, and may apply even in an action where no damages are awarded. Further, any doubt as to whether the facts give rise to a duty to defend is resolved in the insured's favor.                                      |                                                                                                                                                                                                                                                                                                                                                                                                                                                                                                                                                                                                                                                                                             |\n",
       "| 98 Cal. App. 4th 1141 | Does the per person limit or the per accident limit apply for uninsured motorist coverage claims when workers' compensation benefits have been paid?        | The per person limit applies to uninsured motorist coverage claims if the policy language unambiguously stipulates as such, despite any workers' compensation benefits paid.                                                                                                                                                                                                        |                                                                                                                                                                                                                                                                                                                                                                                                                                                                                                                                                                                                                                                                                             |\n",
       "| 98 Cal. App. 4th 1141 | Legal Context                                                                                                                                               | Uncertain without direct access to the case text or additional specific information                                                                                                                                                                                                                                                                                                 |                                                                                                                                                                                                                                                                                                                                                                                                                                                                                                                                                                                                                                                                                             |"
      ],
      "text/plain": [
       "<IPython.core.display.Markdown object>"
      ]
     },
     "execution_count": 32,
     "metadata": {},
     "output_type": "execute_result"
    }
   ],
   "source": [
    "data_dicts = [model.model_dump() for model in all_data]\n",
    "df_res = pd.DataFrame(data_dicts)\n",
    "\n",
    "Markdown(df_res.to_markdown(index=False))"
   ]
  },
  {
   "cell_type": "code",
   "execution_count": null,
   "metadata": {},
   "outputs": [],
   "source": []
  },
  {
   "cell_type": "code",
   "execution_count": null,
   "metadata": {},
   "outputs": [],
   "source": []
  },
  {
   "cell_type": "code",
   "execution_count": 14,
   "metadata": {},
   "outputs": [],
   "source": [
    "from src.doc_store.cap_api import CAPClient\n",
    "from src.doc_store.courtlistener import CourtListenerCaseDataSource\n",
    "from src.doc_store.base import CitationAnalysis, analyze_citation"
   ]
  },
  {
   "cell_type": "code",
   "execution_count": 3,
   "metadata": {},
   "outputs": [],
   "source": [
    "cap = CAPClient()"
   ]
  },
  {
   "cell_type": "code",
   "execution_count": 4,
   "metadata": {},
   "outputs": [
    {
     "name": "stdout",
     "output_type": "stream",
     "text": [
      "Cunningham v. Universal Underwriters, 98 Cal. App. 4th 1141 (2002-04-30)\n"
     ]
    }
   ],
   "source": [
    "cunningham = cap.read_id(1079906, full_case=False, body_format=None)\n",
    "print(cunningham)"
   ]
  },
  {
   "cell_type": "code",
   "execution_count": 5,
   "metadata": {},
   "outputs": [
    {
     "data": {
      "text/plain": [
       "1079906"
      ]
     },
     "execution_count": 5,
     "metadata": {},
     "output_type": "execute_result"
    }
   ],
   "source": [
    "cunningham.id"
   ]
  },
  {
   "cell_type": "code",
   "execution_count": 6,
   "metadata": {},
   "outputs": [
    {
     "data": {
      "text/plain": [
       "'98 Cal. App. 4th 1141'"
      ]
     },
     "execution_count": 6,
     "metadata": {},
     "output_type": "execute_result"
    }
   ],
   "source": [
    "cunningham.citations[0].cite"
   ]
  },
  {
   "cell_type": "code",
   "execution_count": 7,
   "metadata": {},
   "outputs": [
    {
     "data": {
      "text/plain": [
       "14"
      ]
     },
     "execution_count": 7,
     "metadata": {},
     "output_type": "execute_result"
    }
   ],
   "source": [
    "forward_cite_ids = cap.fetch_forward_cites(cunningham.id)\n",
    "len(forward_cite_ids)"
   ]
  },
  {
   "cell_type": "code",
   "execution_count": 9,
   "metadata": {},
   "outputs": [],
   "source": [
    "forward_1 = cap.read(forward_cite_ids[0], full_case=True)"
   ]
  },
  {
   "cell_type": "code",
   "execution_count": 13,
   "metadata": {},
   "outputs": [
    {
     "data": {
      "text/markdown": [
       "Here, R & H, tenants of the Property, have sued Plaintiffs, their landlords, for invading their right of private occupancy to the Property, not merely based on the contamination of the property, but also based on Plaintiffs’ alleged failure to inspect and disclose contamination. Accordingly, the Court finds that the Underlying Complaint alleges personal injury claims separate from claims for property damage. 3) Applicability of the Pollution Exclusion The Hartford argues that, even if the Court finds that the Underlying Complaint alleges personal injury damages, the Second Pollution Exclusion bars coverage. The Court disagrees. Although the Second Pollution Exclusion does not expressly state that it applies only to property damage or bodily injury, both pollution exclusions are listed as exclusions under Section IA of the insurance contract, the section of the contract dealing with coverage for bodily injury and property damage liability. Coverage for personal injury claims, on the other hand, is found in Section IB, a separate section containing its own insuring agreement and applicable exclusions. Given the structure of the insurance contract, an insured would reasonably expect that the exclusions listed under Section IA of the insurance contract, including both pollution exclusions, apply only to property damage or bodily injury. See Legarra v. Federated Mut. Ins. Co., 35 Cal. App.4th 1472, 1477, 42 Cal.Rptr.2d 101 (1995)(find-ing that, given the format of the policy, an insured would reasonably expect the pollution exclusion to apply only to coverage for bodily injury and property damage, despite the lack of specific reference in the pollution exclusion to bodily injury and property damage). Therefore, the Court finds that the pollution exclusions in the insurance contract do not bar coverage for personal injury claims against the insured, and The Hartford has a duty to defend Plaintiffs in the suit filed by R & H. III. CONCLUSION For the foregoing reasons, the Court GRANTS Plaintiffs’ motion for partial summary judgment and DENIES The Hartford’s Motion to Dismiss. IT IS SO ORDERED. . Plaintiffs have also argued that the allegations in the Underlying Complaint cannot be claims for \"property damage,” since the property damage section of the policy applies only to \"tangible property.” Plaintiffs argue that a leasehold interest is not \"tangible property” and therefore damage to a leasehold interest is not property damage as defined in the policy. No California court has directly considered whether a tenant in possession of a property has a tangible property right. In Kazi v. State Farm Fire and Casualty Co., 24 Cal.4th 871, 103 Cal.Rptr.2d 1, 15 P.3d 223 (2001), the Supreme Court of California held that an easement represents only a nonposses-sory right to use another’s property, and therefore is not tangible property. Id. at 881, 103 Cal.Rptr.2d 1, 15 P.3d 223. In Cunningham v. Universal Underwriters, 98 Cal. App.4th 1141, 120 Cal.Rptr.2d 162 (2002), a California appellate court applied the reasoning of Kazi to hold that a nonpossessing tenant, whose claimed loss concerned solely the interference with its right to possession of real property under the parties’ lease, did not allege damage to a tangible property right. As the court in Cunningham explained, \"[a] tenant’s right to possess property on the lease commencement date is a contractual right that does not mature into a property right until possession actually occurs. A landlord's failure to deliver possession of the premises merely gives the tenant a right to abandon the tenancy and sue for damages, but does not give the tenant the legal right to act as a possessor of the real property until the date of actual transfer.” Id. at 1155-1156, 120 Cal.Rptr.2d 162. The clear implication of the Cunningham court’s reasoning is that when a tenant legally takes possession of the premises, the tenant, unlike an easement holder or a nonpossessing tenant, has a possessory property right in the premises. As such, a tenant in possession presumably has a tangible property interest in the premises and can assert claims for property damage, as defined in the insurance contract."
      ],
      "text/plain": [
       "<IPython.core.display.Markdown object>"
      ]
     },
     "execution_count": 13,
     "metadata": {},
     "output_type": "execute_result"
    }
   ],
   "source": [
    "context = forward_1.extract_citation_contexts(cunningham.citations[0].cite)\n",
    "Markdown(context)"
   ]
  },
  {
   "cell_type": "code",
   "execution_count": 15,
   "metadata": {},
   "outputs": [
    {
     "data": {
      "text/plain": [
       "'Brucia v. Hartford Accident & Indemnity, 307 F. Supp. 2d 1079 (2003-01-22)'"
      ]
     },
     "execution_count": 15,
     "metadata": {},
     "output_type": "execute_result"
    }
   ],
   "source": [
    "str(forward_1)"
   ]
  },
  {
   "cell_type": "code",
   "execution_count": 16,
   "metadata": {},
   "outputs": [],
   "source": [
    "citation_analysis: CitationAnalysis = analyze_citation(\n",
    "    str(forward_1), context\n",
    ")"
   ]
  },
  {
   "cell_type": "code",
   "execution_count": 24,
   "metadata": {},
   "outputs": [
    {
     "data": {
      "text/markdown": [
       "Brucia v. Hartford Accident & Indemnity, 307 F. Supp. 2d 1079 (2003-01-22)"
      ],
      "text/plain": [
       "<IPython.core.display.Markdown object>"
      ]
     },
     "metadata": {},
     "output_type": "display_data"
    },
    {
     "data": {
      "text/markdown": [
       "Can the pollution exclusions in the insurance contract bar coverage for personal injury claims against the insured?"
      ],
      "text/plain": [
       "<IPython.core.display.Markdown object>"
      ]
     },
     "metadata": {},
     "output_type": "display_data"
    },
    {
     "data": {
      "text/markdown": [
       "No, the pollution exclusions in the insurance contract do not bar coverage for personal injury claims against the insured. The Court finds that, given the structure of the insurance contract, an insured would reasonably expect that the exclusions listed under the section of the contract dealing with coverage for bodily injury and property damage would not apply to personal injury claims. Coverage for personal injury claims is found in a separate section of the insurance contract, which contains its own insuring agreement and applicable exclusions."
      ],
      "text/plain": [
       "<IPython.core.display.Markdown object>"
      ]
     },
     "metadata": {},
     "output_type": "display_data"
    },
    {
     "data": {
      "text/markdown": [
       "The Court disagreed with The Hartford, which argued that the pollution exclusions barred coverage for personal injury damages. It was identified that pollution exclusions are listed under a section of the insurance contract concerning bodily injury and property damage liability, while personal injury claims are covered under a different section. Therefore, the pollution exclusions do not apply to the personal injury claims brought in the underling lawsuit, and The Hartford has a duty to defend the Plaintiffs."
      ],
      "text/plain": [
       "<IPython.core.display.Markdown object>"
      ]
     },
     "metadata": {},
     "output_type": "display_data"
    },
    {
     "data": {
      "text/markdown": [
       "In the context, the citation is referenced in a legal proceeding where the Court is addressing the applicability of pollution exclusions in an insurance contract. The Court uses the citation to exemplify a situation where distinctions within the insurance policy's sections lead to a certain understanding of coverage applicability, specifically in debating the insurance coverage related to personal injury claims versus property damage claims."
      ],
      "text/plain": [
       "<IPython.core.display.Markdown object>"
      ]
     },
     "metadata": {},
     "output_type": "display_data"
    }
   ],
   "source": [
    "display(Markdown((citation_analysis.citation)))\n",
    "display(Markdown((citation_analysis.legal_question)))\n",
    "display(Markdown((citation_analysis.rule)))\n",
    "display(Markdown((citation_analysis.application)))\n",
    "display(Markdown((citation_analysis.citation_reference)))"
   ]
  },
  {
   "cell_type": "code",
   "execution_count": null,
   "metadata": {},
   "outputs": [],
   "source": []
  },
  {
   "cell_type": "code",
   "execution_count": null,
   "metadata": {},
   "outputs": [],
   "source": []
  },
  {
   "cell_type": "code",
   "execution_count": null,
   "metadata": {},
   "outputs": [],
   "source": []
  },
  {
   "cell_type": "code",
   "execution_count": null,
   "metadata": {},
   "outputs": [],
   "source": []
  },
  {
   "cell_type": "code",
   "execution_count": 19,
   "metadata": {},
   "outputs": [],
   "source": [
    "cl = CourtListenerCaseDataSource()"
   ]
  },
  {
   "cell_type": "code",
   "execution_count": 20,
   "metadata": {},
   "outputs": [],
   "source": [
    "# id is 2276381 for case Cunningham v. Universal Underwriters\n",
    "base_citation = \"120 Cal. Rptr. 2d 162\"\n",
    "base_case = cl.find_cite(base_citation)"
   ]
  },
  {
   "cell_type": "code",
   "execution_count": 26,
   "metadata": {},
   "outputs": [
    {
     "name": "stdout",
     "output_type": "stream",
     "text": [
      "{'absolute_url': '/opinion/2276381/cunningham-v-universal-underwriters/', 'attorney': 'Counsel, Callahan, McCune & Willis and Colrena Kay Johnson for Defendant and Appellant., Ault, Davis & Shonfeld, Thomas H. Ault, Gary E. Davis and R. Michael Jordan for Plaintiffs and Respondents.', 'author_id': 6430, 'caseName': 'Cunningham v. Universal Underwriters', 'caseNameShort': 'Cunningham', 'citation': ['120 Cal. Rptr. 2d 162', '98 Cal. App. 4th 1141'], 'citeCount': 13, 'cites': [1158094, 1158522, 1160464, 1182285, 1252963, 2126249, 2144332, 2174121, 2245487, 2249141, 2253301, 2254351, 2258291, 2268966, 2269810, 2270816, 2280652, 2293434, 2302806, 2514219, 2525331, 2585557], 'cluster_id': 2276381, 'court': 'California Court of Appeal', 'court_citation_string': 'Cal. Ct. App.', 'court_exact': 'calctapp', 'court_id': 'calctapp', 'dateArgued': None, 'dateFiled': '2002-04-30T00:00:00-07:00', 'dateReargued': None, 'dateReargumentDenied': None, 'docketNumber': 'D038121', 'docket_id': 2163227, 'download_url': None, 'id': 2276381, 'joined_by_ids': None, 'judge': 'Haller', 'lexisCite': None, 'local_path': '', 'neutralCite': None, 'non_participating_judge_ids': None, 'pagerank': None, 'panel_ids': None, 'per_curiam': None, 'scdb_id': '', 'sibling_ids': [2276381], 'snippet': '\\n\\n\\n    \\n120 Cal.Rptr.2d 162 (2002)\\n98 Cal.App.4th 1141\\nRichard CUNNINGHAM et al., Plaintiffs and Respondents,\\nv.\\nUNIVERSAL UNDERWRITERS, Defendant and Appellant.\\nNo. D038121.\\nCourt of Appeal, Fourth District, Division One.\\nApril 30, 2002.\\nReview Denied July 17, 2002.\\n*165 Callahan, McCune &amp; Willis, Colrena Kay Johnson, Tustin, for Defendant and Appellant.\\nAult, Davis, &amp; Shonfeld, Thomas H. Ault, Gary E. Davis, San Diego, and R. Michael Jordan, for Plaintiffs and Respondents.\\nHALLER, Acti', 'source': 'LU', 'status': 'Precedential', 'status_exact': 'Precedential', 'suitNature': '', 'timestamp': '2023-10-03T22:30:29.824999-07:00', 'type': '010combined'}\n"
     ]
    }
   ],
   "source": [
    "print(base_case[0])"
   ]
  },
  {
   "cell_type": "code",
   "execution_count": 34,
   "metadata": {},
   "outputs": [],
   "source": [
    "case_id = 2276381\n",
    "\n",
    "forward_citations_data = cl.fetch_forward_citations(case_id, depth=1)"
   ]
  },
  {
   "cell_type": "code",
   "execution_count": 42,
   "metadata": {},
   "outputs": [
    {
     "data": {
      "text/plain": [
       "2441985"
      ]
     },
     "execution_count": 42,
     "metadata": {},
     "output_type": "execute_result"
    }
   ],
   "source": [
    "forward_citations_data.cases[0].opinions[0].id"
   ]
  },
  {
   "cell_type": "code",
   "execution_count": 7,
   "metadata": {},
   "outputs": [],
   "source": [
    "casef1 = forward_citations_data[2]"
   ]
  },
  {
   "cell_type": "code",
   "execution_count": 78,
   "metadata": {},
   "outputs": [
    {
     "data": {
      "text/plain": [
       "2103109"
      ]
     },
     "execution_count": 78,
     "metadata": {},
     "output_type": "execute_result"
    }
   ],
   "source": [
    "casef1.id"
   ]
  },
  {
   "cell_type": "code",
   "execution_count": 79,
   "metadata": {},
   "outputs": [],
   "source": [
    "case_search = cl.fetch_case(2103109)"
   ]
  },
  {
   "cell_type": "code",
   "execution_count": 71,
   "metadata": {},
   "outputs": [
    {
     "data": {
      "text/plain": [
       "'Bolitho, 422 N.W.2d 29 (Minn. Ct. App. 1988)'"
      ]
     },
     "execution_count": 71,
     "metadata": {},
     "output_type": "execute_result"
    }
   ],
   "source": [
    "cl.get_bluebook_citation(2103109)"
   ]
  },
  {
   "cell_type": "code",
   "execution_count": 62,
   "metadata": {},
   "outputs": [
    {
     "data": {
      "text/plain": [
       "{'cited_by': [2276381],\n",
       " 'cites': [2160171, 2527475, 284783, 1544204, 21645, 107383]}"
      ]
     },
     "execution_count": 62,
     "metadata": {},
     "output_type": "execute_result"
    }
   ],
   "source": [
    "casef1.citation_network"
   ]
  },
  {
   "cell_type": "code",
   "execution_count": 10,
   "metadata": {},
   "outputs": [],
   "source": [
    "b1 = cl.fetch_cases_cited_by(casef1)"
   ]
  },
  {
   "cell_type": "code",
   "execution_count": 61,
   "metadata": {},
   "outputs": [
    {
     "data": {
      "text/plain": [
       "{'cited_by': [2103109], 'cites': []}"
      ]
     },
     "execution_count": 61,
     "metadata": {},
     "output_type": "execute_result"
    }
   ],
   "source": [
    "b1.cases[2].citation_network"
   ]
  },
  {
   "cell_type": "code",
   "execution_count": 19,
   "metadata": {},
   "outputs": [],
   "source": [
    "text_sample = b1.cases[0].opinions[0].text"
   ]
  },
  {
   "cell_type": "code",
   "execution_count": 36,
   "metadata": {},
   "outputs": [],
   "source": [
    "cites = eyecite.get_citations(text_sample, remove_ambiguous=True)"
   ]
  },
  {
   "cell_type": "code",
   "execution_count": 57,
   "metadata": {},
   "outputs": [
    {
     "name": "stdout",
     "output_type": "stream",
     "text": [
      "Co. v. Syufy Enterprises\n",
      "(1999), 69 Cal. App. 4th 321\n"
     ]
    }
   ],
   "source": [
    "print(cites[2].corrected_citation_full())"
   ]
  },
  {
   "cell_type": "code",
   "execution_count": 10,
   "metadata": {},
   "outputs": [],
   "source": [
    "from src.schema.decisions import Opinion"
   ]
  },
  {
   "cell_type": "code",
   "execution_count": 13,
   "metadata": {},
   "outputs": [],
   "source": [
    "opinion_test = Opinion(**d)"
   ]
  },
  {
   "cell_type": "code",
   "execution_count": 40,
   "metadata": {},
   "outputs": [
    {
     "data": {
      "text/plain": [
       "Opinion(type=\"010combined\", author=\"None\")"
      ]
     },
     "execution_count": 40,
     "metadata": {},
     "output_type": "execute_result"
    }
   ],
   "source": [
    "opinion_test"
   ]
  },
  {
   "cell_type": "code",
   "execution_count": 35,
   "metadata": {},
   "outputs": [
    {
     "name": "stdout",
     "output_type": "stream",
     "text": [
      "5 A.3d 142 (2010) 194 Md. App. 538\n",
      "BTR HAMPSTEAD, LLC\n",
      "v.\n",
      "SOURCE INTERLINK DISTRIBUTION, LLC.\n",
      "No. 199, September Term, 2009.\n",
      "Court of Special Appeals of Maryland.\n",
      "September 14, 2010.\n",
      "*143 Donald J. Walsh (Offit Kurman, on the brief) Owings Mills, MD, for appellant.\n",
      "Francis J. Gorman (Angela D. Sheehan, Neal S. Dongre, Gorman & Williams, on\n",
      "the brief) Baltimore, MD, for appellee.\n",
      "Panel: WOODWARD, KEHOE and JAMES P. SALMON, (Retired, Specially Assigned), JJ.\n",
      "WOODWARD, J.\n",
      "Appellee, Source Interlink Distribution, LLC (\"Source Interlink\"), leased\n",
      "warehouse and office space from appellant, BTR Hampstead, LLC (\"BTR\"). After a\n",
      "dispute arose between the parties, occasioned by the flooding of the space\n",
      "adjacent to Source Interlink's premises, Source *144 Interlink filed a\n",
      "complaint on September 28, 2007, in the Circuit Court for Carroll County,\n",
      "seeking, inter alia, (1) a declaration that its Agreement of Lease (\"Lease\")\n",
      "with BTR was terminated, and (2) an award of money damages. On December 3,\n",
      "2007, BTR filed a counterclaim against Source Interlink for \"rent due and\n",
      "owing,\" arguing that Source Interlink was in breach of the Lease. After a\n",
      "three-day trial, on March 24, 2009, the circuit court entered judgment that\n",
      "the Lease was terminated effective September 28, 2007, and awarded Source\n",
      "Interlink $149,467.04 in damages. The court denied all relief to BTR on its\n",
      "counterclaim.\n",
      "On appeal, BTR presents three questions for our review, which we have expanded\n",
      "into four questions:\n",
      "\n",
      "I. Did the circuit court err by finding that the actions of BTR relating to\n",
      "Source Interlink's premises after the flood in May of 2007 constituted an\n",
      "actual eviction?\n",
      "II. Did the circuit court err by finding that Source Interlink did not waive\n",
      "its right to claim an eviction and to declare the Lease terminated?\n",
      "III. Did the circuit court err by ruling that the terms of the Lease did not\n",
      "permit the actions of BTR relating to Source Interlink's premises after the\n",
      "flood in May of 2007?\n",
      "IV. Did Source Interlink prove damages to a reasonable certainty?\n",
      "\n",
      "For the reasons set forth herein, we shall affirm the judgment of the circuit\n",
      "court.\n",
      "BACKGROUND\n",
      "The facts of the instant case are not in dispute. We shall adopt and\n",
      "incorporate substantial portions of the factual history as set forth by the\n",
      "Circuit Court for Carroll County in its Memorandum Opinion, dated March 23,\n",
      "2009:\n",
      "\n",
      "1. BTR ... is in the business of the ownership and leasing of real estate\n",
      "and owns the land and improvements at 626 Hanover Pike, Hampstead, Maryland\n",
      "(\"Hampstead Facility\"). The total square footage in the Hampstead Facility\n",
      "is approximately 800,000 square feet.\n",
      "2. BTR is the Landlord and Source Interlink ... is the Tenant under an\n",
      "Agreement of Lease (\"Lease\") at the Hampstead Facility and leased\n",
      "approximately 126,000 square feet of space.\n",
      "3. Fidelitone Logistics (\"Fidelitone\"), another tenant in the Hampstead\n",
      "Facility during the relevant time period, leased approximately 185,000\n",
      "square feet of space adjacent to Source Interlink's premises.\n",
      "\n",
      "6. In March 2006, Source Interlink acquired Anderson News, LLC\n",
      "(\"Anderson\"), which included acquisition of the Lease at the Hampstead\n",
      "Facility.\n",
      "\n",
      "15. The Lease at issue in this case was first executed in November 1999 and\n",
      "is for approximately 126,786 square feet which is comprised of 114,891 sq.\n",
      "ft. of warehouse space and 11,895 sq. ft. of office space.\n",
      "16. The Lease will expire by its terms on January 31, 2010.\n",
      "\n",
      "33. After acquiring the [L]ease from Anderson News in March 2006, Source\n",
      "Interlink continued to use the space as a distribution center for\n",
      "approximately five months, until late August or early September of 2006.\n",
      "34. In approximately September 2006, Source Interlink began decommissioning\n",
      "the leased premises as a distribution *145 center and moving that portion of\n",
      "Source Interlink's operations to a distribution center in Lancaster,\n",
      "P[ennsylvania]. The decommissioning process took about two months.\n",
      "35. During the fall of 2006, Source Interlink caused the leased premises to\n",
      "\"go dark,\" which is a term used by Source Interlink to mean that the space\n",
      "was no longer being actively used for the purposes of that Facility, but\n",
      "Source Interlink continued to honor and fulfill its lease obligations with\n",
      "respect to the facility. Source Interlink continued to pay the rent and\n",
      "other related charges to BTR after the facility was decommissioned.\n",
      "\n",
      "38. When Source Interlink decommissions a facility, it hires a third party\n",
      "or someone within the company to be responsible for periodic inspections of\n",
      "the facility to ensure that safety and maintenance concerns are addressed on\n",
      "a regular basis.\n",
      "39. Robert Schuler (\"Schuler\"), Source Interlink's National Maintenance\n",
      "Manager, hired Harold Raines (\"Raines\") to periodically inspect the leased\n",
      "premises after it was decommissioned.\n",
      "40. Raines began visiting Source Interlink's leased premises to check on it\n",
      "around the middle of October 2006.\n",
      "41. Between October 2007 and April 2007, Raines visited Source Interlink's\n",
      "leased premises three days a week because those months were cold weather\n",
      "months. During warm weather months, Raines visited once a week.\n",
      "\n",
      "44. Source Interlink attempted to sublease the premises in the fall of 2006\n",
      "after the premises had been decommissioned.\n",
      "45. The subleasing efforts were coordinated by Mohr Partners, Inc., who in\n",
      "turn hired a local real estate [broker] to conduct the marketing of the\n",
      "leased premises for sublease.\n",
      "46. Source Interlink requested Mohr Partners to hire a new local real\n",
      "estate broker, Mackenzie Commercial Real Estate Services, LLC, to market the\n",
      "leased premises for sublease. Daniel A[.] Hudak (\"Hudak\"), Senior Vice\n",
      "President/Principal of Mackenzie, was contacted by Mohr Partners to assist\n",
      "the resident local broker....\n",
      "47. In early to mid-October 2007, [Mohr Partners] called Hudak and\n",
      "instructed him to stop marketing the warehouse space for sublease as of\n",
      "October 15, 2007, until further notice because of a legal dispute. Hudak\n",
      "complied with this instruction.\n",
      "\n",
      "86. Early in the morning on Saturday morning of Memorial Day weekend of\n",
      "2007, the closed-loop water pipe system burst at a point located in the\n",
      "ceiling of Fidelitone's space at the Hampstead Facility.\n",
      "87. [Anna Dziewanowski, the Senior Property Manager at BTR] received a call\n",
      "... early in the morning that required her to come to the Hampstead\n",
      "Facility. [Michael] Clark[, a member of BTR] received a call from\n",
      "Dziewanowski in the early morning of Saturday, May 26, 2007 advising him of\n",
      "the leak and flooding. Fidelitone's warehouse manager, Richard Rae (\"Rae\"),\n",
      "also showed up on Saturday morning.\n",
      "\n",
      "96. Shortly after BTR and Fidelitone representatives arrived at the\n",
      "Hampstead Facility on the day of the flood, there was a meeting among Clark,\n",
      "Rae, *146 and two members of BTR Management's property management staff.\n",
      "97. During or shortly after this meeting, Clark, on behalf of BTR, made the\n",
      "decision permitting Fidelitone to move its products into the Source\n",
      "Interlink premises.\n",
      "98. BTR's decision was oral and never put in writing. There is no written\n",
      "documentation of the dealings, arrangement and communication between BTR and\n",
      "Fidelitone about Fidelitone's use of the Source Interlink space.\n",
      "99. BTR considered its decision to permit Fidelitone to occupy the Source\n",
      "Interlink space to be an emergency decision.\n",
      "100. The exigency that caused BTR to permit Fidelitone to put its product\n",
      "in the Source Interlink space ended no later than June 15, 2007.\n",
      "101. A hole was cut in the demising wall between the Fidelitone space and\n",
      "the Source Interlink space on the day of the flood. Fidelitone began using\n",
      "forklifts to move [its] product into the Source Interlink space immediately.\n",
      "\n",
      "105. Fidelitone was able to start operating again on May 29, 2007, the\n",
      "Tuesday after Memorial Day Weekend. There was no interruption in\n",
      "Fidelitone's business operations as a result of the flooding of its space.\n",
      "106. BTR never asked Source Interlink for its consent to allow Fidelitone\n",
      "to use Source Interlink's premises.\n",
      "107. Source Interlink never gave permission or authorization to BTR to\n",
      "allow Fidelitone to enter Source Interlink's leased premises, use the\n",
      "premises, or conduct operations there for six months. Raines never gave\n",
      "permission on behalf of Source Interlink for BTR to put Fidelitone into\n",
      "Source Interlink's space.\n",
      "\n",
      "111. After Raines observed Fidelitone's use and occupancy of Source\n",
      "Interlink's leased premises for the first time, he called Schuler, his\n",
      "contact at Source Interlink, to inform him. Schuler was not aware of what\n",
      "had occurred at the Hampstead Facility until Raines informed him.\n",
      "112. [Thomas] Ramage[, the National Property Manager of Source Interlink],\n",
      "did not find out about the flood and Fidelitone moving into Source\n",
      "Interlink's space until a telephone conversation he had with [Jeffrey]\n",
      "Rodgers[, BTR management employee who handled various accounting matters] on\n",
      "or about June 13, 2007....\n",
      "113. The only written notification BTR gave to Source Interlink is a letter\n",
      "dated June 8, 2007, from Rodgers to Ramage. Ramage did not receive the\n",
      "letter until June 18, 2007. Rodgers' letter stated that there had been a\n",
      "water pipe leak in the Fidelitone space, that BTR had allowed Fidelitone to\n",
      "\"temporarily\" move some product into Source Interlink's space while\n",
      "Fidelitone's space was restored, and that BTR would be moving Fidelitone's\n",
      "product back as soon as possible.\n",
      "114. BTR did not provide Source Interlink with any information as to the\n",
      "nature of Fidelitone's usage of Source Interlink's space.\n",
      "115. Fidelitone moved the majority of its product (about sixty percent)\n",
      "that was on the floor at the time of the flood into Source Interlink's space\n",
      "and eventually moved everything on racks into Source Interlink's space.\n",
      "\n",
      "*147 118. Fidelitone used approximately eighty percent of Source\n",
      "Interlink's space for most of the time it was using and occupying Source\n",
      "Interlink's space. The average number of pallets of product Fidelitone kept\n",
      "in the Source Interlink space between Memorial Day and the end of October\n",
      "was approximately 1,000 to 1,200 pallets.\n",
      "119. Fidelitone used the bay doors in Source Interlink's space for\n",
      "unloading trucks and receiving product. This was an improved operating\n",
      "situation for Fidelitone because the Source Interlink space provided\n",
      "Fidelitone an additional number of bay doors.\n",
      "120. At any given time, approximately ten Fidelitone employees would be\n",
      "working in the Source Interlink space.\n",
      "121. Clark[, from BTR] testified that Fidelitone used and occupied 115,000\n",
      "square feet of Source Interlink's space, constituting substantially all of\n",
      "Source Interlink's warehouse space.\n",
      "\n",
      "124. On July 2, 2007, Ramage went into the Source Interlink space and\n",
      "observed that roughly one-hundred thousand square feet of the warehouse\n",
      "space was full of Fidelitone product. He also observed that there were a\n",
      "number of forklifts moving back and forth and that delivery trucks were\n",
      "being loaded and offloaded from the bay doors of the leased premises. He\n",
      "also observed that there was a large hole in the demising wall between the\n",
      "leased premises and Fidelitone's space. Ramage had trouble opening the\n",
      "access doors to the Source Interlink space because Fidelitone had put\n",
      "pallets of inventory stacked six to eight feet tall.\n",
      "125. Ramage also observed during his visit on July 2, 2007, that Fidelitone\n",
      "was using Source Interlink battery chargers to charge Fidelitone's\n",
      "forklifts.\n",
      "126. Raines observed during his visits that the amount of Fidelitone's\n",
      "inventory being stored in Source Interlink's leased premises increased and\n",
      "that Fidelitone's use of the space appeared to be a \"full operation.\" Raines\n",
      "observed that all the bay doors were open, trucks were backed up to the bay\n",
      "doors for loading and forklifts were moving equipment around.\n",
      "127. Fidelitone received the benefit of use of the heating and electric\n",
      "utility in Source Interlink's leased premises.\n",
      "128. BTR admits that Fidelitone acted like a tenant in Source Interlink's\n",
      "space. BTR knew that Fidelitone was storing product, operating forklifts,\n",
      "and utilizing the Source Interlink loading/unloading docks.\n",
      "\n",
      "130. Ramage inspected the Source Interlink space at the Hampstead Facility\n",
      "on July 2, 2007. Ramage personally observed Fidelitone's usage of the leased\n",
      "premises and took photographs during his July 2, 2007, inspection. Raines\n",
      "met Ramage at the Hampstead Facility on July 2, 2007. No BTR representatives\n",
      "were present during Ramage's July 2 inspection. Ramage immediately\n",
      "telephoned [David] Buck[, Source Interlink's Vice President for Facilities]\n",
      "to inform him.\n",
      "\n",
      "134. A meeting was held between Ramage and Clark at the Hampstead Facility\n",
      "on July 17, 2007. Ramage told Clark that it had taken BTR two weeks to\n",
      "notify him that Fidelitone had been granted access to use the Source\n",
      "Interlink space. Ramage told Clark how \"shocked\" he had been to see on his\n",
      "July 2, 2007, inspection that Fidelitone was actually conducting operations\n",
      "in the Source Interlink space.\n",
      "*148 135. Ramage also told Clark that Source Interlink had not given\n",
      "permission to either BTR or Fidelitone for Fidelitone to use and occupy the\n",
      "leased premises and that Ramage believed BTR to be in breach of the lease.\n",
      "136. Ramage told Clark that Source Interlink had been told that\n",
      "Fidelitone's use and occupancy of the leased premises would only last for a\n",
      "few days or a week, but that it in fact had already lasted more than a\n",
      "month.\n",
      "\n",
      "141. In total, the cleanup and restoration of Fidelitone's space took\n",
      "approximately two months, during June and July of 2007.\n",
      "142. Even after the July 17, 2007, meeting with Ramage, BTR continued to\n",
      "allow Fidelitone to use and occupy Source Interlink's leased premises.\n",
      "143. No one at BTR told Fidelitone to stop loading and unloading and\n",
      "otherwise to stop operating out of the Source Interlink space. BTR did not\n",
      "give Fidelitone a deadline to get Fidelitone's product out of the Source\n",
      "Interlink space.\n",
      "\n",
      "147. Fidelitone operated in Source Interlink's leased premises for six\n",
      "months.\n",
      "148. On November 15, 2007, Raines observed Fidelitone still using the\n",
      "Source Interlink space.\n",
      "149. Fidelitone was not completely out of Source Interlink's space until\n",
      "the last weekend of November 2007.\n",
      "150. BTR did not abate Source Interlink's rent, [common area maintenance\n",
      "(\"CAM\") charges], taxes or insurance during the period June, July, August,\n",
      "and September of 2007.\n",
      "\n",
      "152. Fidelitone was never asked by BTR to compensate Source Interlink for\n",
      "Fidelitone's use of the Source Interlink space.\n",
      "153. Source Interlink continued to pay rent and other related charges to\n",
      "BTR for the months of June, July, August, and September 2007 while\n",
      "Fidelitone was using and occupying Source Interlink's leased premises.\n",
      "154. BTR suffered no loss or rental income as a result of the flood\n",
      "because, in addition to charging and collecting from Source Interlink,\n",
      "Fidelitone also continued to pay rent on its leased premises during the time\n",
      "Fidelitone was using Source Interlink's space.\n",
      "155. In August 2007, Ramage sent two lettersAugust 10 and August 13,\n",
      "2007in an effort to generate a response from [BTR] that would lead to an\n",
      "end to Fidelitone's use of the Source Interlink premises.\n",
      "\n",
      "157. No one from BTR ever responded in any fashion to Ramage's August 10,\n",
      "2007, letter.\n",
      "\n",
      "159. No one from BTR ever responded in any fashion to Ramage's August 13,\n",
      "2007, letter.\n",
      "\n",
      "161. No claim was submitted to BTR's insurer for any loss of business or\n",
      "interruption suffered by Fidelitone.\n",
      "162. The claim submitted by BTR to its insurer because of the flood\n",
      "included two months of rent on the Source Interlink's space. The total\n",
      "amount paid by BTR's insurer to BTR for the rent portion of the claim was\n",
      "$76,000.\n",
      "\n",
      "164. BTR did not contact Source Interlink to inform Source Interlink about\n",
      "*149 any communications with the insurance company. Source Interlink was\n",
      "never contacted by any insurance agency regarding reimbursement.\n",
      "165. BTR never paid any insurance monies to Source Interlink.\n",
      "\n",
      "169. BTR did not tell Fidelitone to move out of Source Interlink's space\n",
      "until after [the] lawsuit was filed prior to filing suit.\n",
      "170. Source Interlink instructed Raines to continue to check the facility\n",
      "periodically after the lawsuit was filed for the purposes of safety and\n",
      "security. Source Interlink still has Raines visit the space on a weekly\n",
      "basis continuing his inspections and check of the heat. Source Interlink had\n",
      "Raines clean the filters in the heaters, check on the fire extinguishers and\n",
      "also contract with a contractor in January and February, 2008 to service the\n",
      "heaters in the space.\n",
      "171. As a result of Raines[ ] checking the facility for any problems, he\n",
      "discovered in March 2008 a gas leak which was repaired in March 2008.\n",
      "172. Since the conclusion of the second day of trial in this case in August\n",
      "2008, Raines has made periodic visits to the premises to check that the\n",
      "premises are safe, secure, and free of vandalism and to set the heat at 50\n",
      "degrees to make sure the pipes do not freeze.\n",
      "173. In addition to continuing to insure the property, retaining keys to\n",
      "the property and accessing the property, Source Interlink left a large piece\n",
      "of equipment stored at the facility which it has unsuccessfully attempted to\n",
      "sell since it decommissioned the space. The costs to remove this equipment,\n",
      "which are separate from the repairs to the building, involve use of heavy\n",
      "equipment at a cost estimate of $8,500.\n",
      "174. Source Interlink has never offered or attempted to return the keys to\n",
      "the property.\n",
      "175. The total amount of base rent, CAM charges, insurance, and real estate\n",
      "tax payments that Source Interlink paid to BTR during the months of June,\n",
      "July, August, and September of 2007 was $149,466.04.\n",
      "\n",
      "The Dispute\n",
      "On September 28, 2007, Source Interlink filed a complaint against BTR for,\n",
      "inter alia, a declaration that the Lease was terminated and for an award of\n",
      "money damages. Sometime in October of 2007, after it filed the complaint,\n",
      "Source Interlink called Hudak and instructed him to stop marketing the\n",
      "warehouse space for sublease because of the legal dispute. Source Interlink,\n",
      "however, continued to insure the property, to inspect and access the property\n",
      "for the purposes of safety and security, and retained the keys to the\n",
      "property. Source Interlink also used the property to store its air system, a\n",
      "large piece of equipment mounted on the roof, with an estimated removal cost\n",
      "of $8,500.\n",
      "On December 3, 2007, BTR answered the complaint, listing the affirmative\n",
      "defenses of accord and satisfaction, contributory negligence, estoppel,\n",
      "laches, release, and waiver. On the same day, BTR filed a counterclaim\n",
      "alleging that Source Interlink \"ha[d] not paid the rent due and owing under\n",
      "the lease for the months of October and November and ha[d] not paid the rent\n",
      "to BTR for December,\" and thus argued that Source Interlink was in breach of\n",
      "the Lease. Source Interlink answered the counterclaim on January 3, 2008.\n",
      "Trial was held on August 25, 28, and December 19, 2008. On March 24, 2009, the\n",
      "circuit court entered Judgment, which stated, in relevant part:\n",
      "\n",
      "*150 ORDERED, that the Court declares the Lease between BTR [ ] and Source\n",
      "Interlink [ ] is terminated effective September 28, 2007; and it is further\n",
      "ORDERED, that judgment is entered in favor of Source Interlink [ ] against\n",
      "BTR [ ] in the amount of $149,467.04;[[1]] and it is further\n",
      "ORDERED, that all other relief requested by either party be and the same is\n",
      "hereby DENIED.\n",
      "\n",
      "BTR timely noted an appeal from the judgment of the circuit court. Additional\n",
      "facts will be set forth as needed to resolve the questions presented.\n",
      "DISCUSSION\n",
      "I.\n",
      "_Did the circuit court err by finding that the actions of BTR relating to\n",
      "Source Interlink's premises after the flood in May of 2007 constituted an\n",
      "actual eviction?_\n",
      "In its thorough and well-reasoned Memorandum Opinion, the circuit court first\n",
      "ruled that, \"[b]y moving Fidelitone into space rented by Source Interlink, BTR\n",
      "breached the covenant of quiet enjoyment in the Lease.\" (Emphasis omitted).\n",
      "The court explained:\n",
      "\n",
      "BTR contends that it did not interfere with Source Interlink's use of the\n",
      "premises, only with its rights to use same, while Source Interlink contends\n",
      "the interference with the right to use the premises was a material breach of\n",
      "the covenant of quiet enjoyment. None of the cases cited by the parties\n",
      "involve holdings that address the difference between the legal effect of\n",
      "depriving a tenant of actual use rather than a right to use. The\n",
      "Restatement, however, makes clear that it is interference with a permissible\n",
      "use that is necessary:\n",
      "Except to the extent the parties to a lease validly agree otherwise, there\n",
      "is a breach of the landlord's obligations if, during the period the tenant\n",
      "is entitled to possession of the leased property, the landlord, or someone\n",
      "whose conduct is attributable to him, interferes with a permissible use of\n",
      "the leased property by the tenant.\n",
      "A \"permissible use\" is \" any use ... that the tenant is authorized to\n",
      "make.\" By giving Source Interlink's space to Fidelitone, BTR interfered with\n",
      "every use Source Interlink was authorized to make.\n",
      "\n",
      "(Emphasis added) (citations omitted) (italicization and alteration in\n",
      "original).\n",
      "The circuit court further ruled that, \"[b]y moving Fidelitone into space\n",
      "rented by Source [I]nterlink, BTR evicted Source Interlink.\" (Emphasis\n",
      "omitted). The court reasoned:\n",
      "\n",
      "In addition to breaching the covenant of quiet enjoyment, BTR's acts totally\n",
      "interfered with Source Interlink's right to use and enjoy the premises,\n",
      "amounting to an eviction. This entitled Source Interlink to terminate the\n",
      "lease.\n",
      "Here, BTR retook possession of the premises without the consent of or notice\n",
      "to Source Interlink. Although BTR knew that Source Interlink objected *151\n",
      "to Fidelitone being in its premises, BTR did nothing to move Fidelitone out\n",
      "until after this suit was filed. Further, BTR continued to send regular rent\n",
      "bills to Source Interlink, and refused Source Interlink's requests for\n",
      "information as to BTR's intentions. Although BTR contends that its\n",
      "appropriation of the premises was temporary, its refusal to act or even\n",
      "communicate on the subject belied that assertion and entitled Source\n",
      "Interlink to terminate the lease by declaring an eviction.\n",
      "Source Interlink's termination of the Lease is not precluded by Source\n",
      "Interlink's failure to remove its battery chargers or trade fixtures.\n",
      "Restatement, Section 10.1 Comment (e) states:\n",
      "The tenant may vacate the leased property without totally emptying the\n",
      "Premises of his property, as long as what is left does not constitute a\n",
      "substantial interference with the landlord's retaking possession.\n",
      "This residual property did not affect in any way BTR's retaking of the\n",
      "premises, or the continued use thereof by Fidelitone. In addition, any\n",
      "effort to remove this property would have been inconsistent with the\n",
      "occupation of the premises by Fidelitone. The battery charges were actually\n",
      "being used by Fidelitone, and the removal of the chute would have required\n",
      "not only roof but interior access into rental space then fully used by\n",
      "another business. Finally, while Source Interlink did retain keys, it did so\n",
      "not to make commercial use of the space but to provide for the security of\n",
      "the premises during this dispute. This in no way interfered with\n",
      "Fidelitone's use of the premises.\n",
      "\n",
      "(Citations omitted) (emphasis added).\n",
      "In its initial brief in this Court, BTR argues that its actions did not\n",
      "constitute a constructive eviction. This argument, however, invokes the wrong\n",
      "doctrine of law, because the doctrine of constructive eviction is not\n",
      "applicable to the facts of the case sub judice. [2] In its reply brief, BTR\n",
      "clarifies that the circuit court erred in finding that BTR evicted Source\n",
      "Interlink from the property. According to BTR, Source Interlink (1) had\n",
      "decommissioned the property and was only using it to store equipment, (2)\n",
      "\"continued to store and showcase property in the facility\" even after\n",
      "Fidelitone had left, (3) was informed at all times by BTR that Fidelitone's\n",
      "occupancy was only temporary, and (4) \"maintained the keys to the premises and\n",
      "continued to access the property weekly.\" Such facts, argues BTR, demonstrate\n",
      "that BTR did not \"interfere[ ] with any of the activities which Source\n",
      "[Interlink] conducted in the space prior to, during or after the flood.\"\n",
      "Because Source Interlink's \"use of the space and its activities with respect\n",
      "to *152 the space never changed,\" BTR argues that it was \"impossible to have\n",
      "an actual eviction.\" We disagree and explain.\n",
      "Our review of Maryland case law has disclosed no definition of \"actual\n",
      "eviction.\" Black's Law Dictionary 35 (6th ed.1990) defines actual eviction as\n",
      "\"[a]n actual expulsion of the tenant out of all or some part of the demised\n",
      "premises. A physical ouster or dispossession from the very thing granted or\n",
      "some substantial part thereof. \" (Emphasis added). Thompson on Real Property\n",
      "§ 41.03(c)(2), entitled \"Actual Eviction by the Landlord,\" explains:\n",
      "\n",
      "The landlord will be in breach of the implied covenant of quiet enjoyment if\n",
      "the landlord, or someone for whose acts the landlord is responsible,\n",
      "wrongfully ousts the tenant from the leased premises. The cases refer to\n",
      "this conduct, which can take the form of physical expulsion or a physical\n",
      "exclusion of the tenant from the leased premises, as an actual eviction.\n",
      "Particular acts by the landlord that have been found to be sufficient to\n",
      "constitute actual eviction of a tenant have included changing the locks on\n",
      "the leased premises, refusing to permit the tenant to enter a building in\n",
      "which space has been leased, padlocking the entry to the leased premises,\n",
      "and taking possession of the leased premises with threats of violence\n",
      "against the tenant or members of the tenant's family if they attempt to re-\n",
      "enter.\n",
      "The cases also recognize that the landlord's eviction efforts may deprive\n",
      "the tenant of only a portion of the leased premises, leaving the tenant in\n",
      "possession of the remainder. If the landlord deprives the tenant of a\n",
      "significant portion of the leased premises, the landlord's conduct will\n",
      "generally be regarded as constituting a partial actual eviction, and a\n",
      "breach of the implied covenant.\n",
      "\n",
      "(Emphasis added) (footnotes omitted); see also Cunningham v. Universal\n",
      "Underwriters, 98 Cal. App. 4th 1141, 120 Cal. Rptr. 2d\n",
      "162, 168-69 (2002)\n",
      "(\"The legal definition of an eviction is the same: an eviction' is[t]he act\n",
      "or process of legally dispossessing a person of land or rental property.'\n",
      "(Black's Law Dict. (7th ed.1999) p. 575, col. 2.) A wrongful eviction thus\n",
      "occurs when the person recovering the property had no right to dispossess the\n",
      "other party from the property.\" (Alteration in original)); cf. Day v.\n",
      "Watson, 8 Mich. 535, 536 (1860) (\"[T]he entry being followed by a continuous\n",
      "possession, which was inconsistent with the possessory title assured to the\n",
      "tenants under the lease, that possession amounts very clearly to an\n",
      "eviction.\").\n",
      "The Restatement (Second) of Property: Landlord and Tenant § 6.1 (hereinafter\n",
      "\"the Restatement\"), provides in pertinent part:\n",
      "\n",
      "Except to the extent the parties to a lease validly agree otherwise, there\n",
      "is a breach of the landlord's obligations if, during the period the tenant\n",
      "is entitled to possession of the leased property, the landlord, or someone\n",
      "whose conduct is attributable to him, interferes with a permissible use of\n",
      "the leased property by the tenant.\n",
      "\n",
      "(Emphasis added).\n",
      "Comment (a) to section 6.1 of the Restatement states that \"[t]he conduct in §\n",
      "6.1 is more commonly referred to as an eviction by the landlord.\" (Emphasis\n",
      "added). Comment (b) to section 6.1 of the Restatement further explains that\n",
      "\"[a]n unauthorized possession of all or any part of the leased property by the\n",
      "landlord, or someone whose conduct is attributable to him, is an eviction of\n",
      "the tenant that could be cured by the tenant himself.\" One of the\n",
      "Illustrations given in Comment (b) is particularly relevant to the instant\n",
      "case:\n",
      "\n",
      "*153 L leases land to T. T enters the leased property. Six months later L,\n",
      "without T's consent, takes possession of a building located on a remote\n",
      "corner of the leased premises that T is not currently using. L's possession\n",
      "of part of the leased property is unauthorized, and L is interfering with a\n",
      "permissible use thereof by T.\n",
      "\n",
      "The actions of BTR in allowing Fidelitone to take possession of the premises\n",
      "leased to Source Interlink are more extensive than the Illustration discussed\n",
      "above. Source Interlink leased approximately 126,786 square feet of the\n",
      "Hampstead Facility, of which 114,891 square feet was warehouse space and\n",
      "11,895 square feet was office space. Clark, a member of BTR, \"testified that\n",
      "Fidelitone used and occupied 115,000 square feet of Source Interlink's space,\n",
      "constituting substantially all of Source Interlink's warehouse space.\"\n",
      "Although there was testimony that Source Interlink stored \"a large piece of\n",
      "equipment\" in the warehouse during the time Fidelitone occupied the premises,\n",
      "the impact of such equipment on the warehouse space used by Fidelitone was\n",
      "negligible. The equipment referred to was Source Interlink's air system,\n",
      "consisting mainly of a Twinn City Fan and Blower, which was mounted on the\n",
      "roof. Source Interlink wanted to sell the air system, and estimated that its\n",
      "removal would cost $8,500.00. The removal of the system would have included\n",
      "removing the rooftop divertor with a crane, removing the existing outside\n",
      "fan/blower motor and all attached ductwork, and patching three rooftop holes.\n",
      "Based on this removal plan, it is clear that the \"large piece of equipment\"\n",
      "had no impact on the square footage of Source Interlink's warehouse space used\n",
      "by Fidelitone. Consequently, Fidelitone took possession of virtually all of\n",
      "Source Interlink's warehouse space for approximately six months, from the end\n",
      "of May of 2007 until the last weekend of November of 2007.\n",
      "Additionally, Fidelitone's use of Source Interlink's leased space was a \"full\n",
      "operation.\" Raines observed that \"all the bay doors were open, trucks were\n",
      "backed up to the bay doors for loading and forklifts were moving equipment\n",
      "around.\" Fidelitone used Source Interlink's battery chargers to charge\n",
      "Fidelitone's forklifts, as well as the heat and electricity in Source\n",
      "Interlink's premises. BTR admitted that it knew that Fidelitone was acting\n",
      "\"like a tenant in Source Interlink's space\" and that Fidelitone \"was storing\n",
      "product, operating forklifts, and utilizing Source Interlink loading/unloading\n",
      "docks.\"\n",
      "Moreover, Source Interlink neither consented to nor authorized Fidelitone's\n",
      "occupancy and use of its warehouse space. Indeed, BTR unilaterally made the\n",
      "decision to move Fidelitone into Source Interlink's leased warehouse space\n",
      "without informing Source Interlink until approximately three weeks later. The\n",
      "communication informing Source Interlink was a letter describing Fidelitone's\n",
      "possession of the premises as temporary. Ramage, the National Property\n",
      "Manager of Source Interlink, then explicitly informed BTR that Fidelitone was\n",
      "in possession of the warehouse space without Source Interlink's permission.\n",
      "BTR justifies its actions by explaining that Source Interlink had\n",
      "decommissioned the property, and thus the occupancy of Fidelitone did not\n",
      "affect Source Interlink's \"use of the space and its activities with respect to\n",
      "the space.\" As discussed above, an eviction occurs when \"the landlord, or\n",
      "someone whose conduct is attributable to him, interferes with a permissible\n",
      "use of the leased property by the tenant.\" Restatement § 6.1 (emphasis\n",
      "added). Comment *154 (e) of § 6.1 defines \"permissible use\" as\n",
      "\n",
      "any use thereof that the tenant is authorized to make. That particular\n",
      "conduct does not interfere with the manner in which the tenant is currently\n",
      "using the leased property does not cause the rule of this section to be\n",
      "inapplicable. The tenant is entitled to complete freedom from interference\n",
      "by the landlord with any permissible use.\n",
      "\n",
      "(Emphasis added). Accordingly, the fact that Source Interlink's actual use of\n",
      "the leased premises was not affected by Fidelitone's occupancy and use of such\n",
      "premises does not negate the finding of an actual eviction.\n",
      "In sum, a landlord cannot permit one tenant to occupy the space of another\n",
      "without the latter's permission. Clearly, the unauthorized possession of\n",
      "Source Interlink's warehouse space by Fidelitone is attributable to BTR and is\n",
      "sufficient to constitute the actual eviction of Source Interlink. Therefore,\n",
      "the circuit court did not err in concluding that BTR evicted Source Interlink\n",
      "from the leased premises.\n",
      "II.\n",
      "_Did the circuit court err by finding that Source Interlink did not waive\n",
      "its right to claim an eviction and to declare the Lease terminated?_\n",
      "A.\n",
      "Waiver of Right to Declare an Eviction\n",
      "In its closing memorandum of law before the circuit court, BTR argued that\n",
      "Source Interlink waived the right to claim a constructive eviction, because,\n",
      "during Fidelitone's occupancy of the space, Source Interlink \"continued to\n",
      "pay rent and other charges from BTR [for four months], moved equipment out of\n",
      "the space, approached [a prospective tenant] about subleasing the space, and\n",
      "retained a new broker to assist in subleasing the property.\" BTR also argued\n",
      "that Source Interlink \"never terminated the lease or took action to express a\n",
      "belief that the lease was terminated until it filed this suit four months\n",
      "after the flood,\" and, \"with the exception of paying BTR, nothing changed in\n",
      "the manner in which Source [Interlink] approached the property before, during\n",
      "or after the Fidelitone occupation.\" Therefore, BTR concluded that Source\n",
      "Interlink's acts were \"completely inconsistent with a party claiming to have\n",
      "been constructively evicted,\" and that \"[j]udgment on the [c]omplaint and the\n",
      "[c]ounterclaim must be entered in favor of BTR.\"\n",
      "On appeal, despite minor changes, BTR's argument in its original brief is\n",
      "identical to the argument in its closing memorandum. In other words, the\n",
      "gravamen of BTR's argument is that Source Interlink waived its right to a\n",
      "declare a constructive eviction because it waited an unreasonable time before\n",
      "vacating the premises.[3] As discussed above, the action of BTR constituted an\n",
      "actual eviction, and thus Source Interlink did not have to prove that it\n",
      "vacated the premises, which is an element of constructive eviction. See\n",
      "Stevan v. Brown, 54 Md.App. 235, 240, 458 *155 A.2d 466 (1983) (stating that\n",
      "a constructive eviction \"occurs when the acts of a landlord cause serious or\n",
      "substantial interference with the tenants' enjoyment of the property which\n",
      "results in the tenant vacating the premises\"). Consequently, BTR's waiver\n",
      "argument is inapplicable in the context of the instant case.\n",
      "Even if we were to consider this issue, we agree with the circuit court that\n",
      "Source Interlink did not waive its right to declare an eviction for the period\n",
      "from the time of the flood in May 2007 until the filing of the instant action\n",
      "in September 2007. The court correctly reasoned:\n",
      "\n",
      "A waiver is a knowing and voluntary relinquishment of a known right. In\n",
      "deciding whether Source Interlink's forbearance to declare an eviction and\n",
      "declare BTR's actions as a material breach of the covenant of quiet\n",
      "enjoyment, the Court first notes that Source Interlink fully performed all\n",
      "of its obligations under the Lease, while at the same time it received\n",
      "nothing amounting to consideration from BTR from the date of the flood to\n",
      "the date of this suit. Put another way, Source Interlink continued to bear\n",
      "all of the burden with none of the benefits of the Lease.\n",
      "Source Interlink made proper, timely and multiple objections to BTR, who\n",
      "promised Fidelitone's interference would be \"temporary.\" Not only did that\n",
      "statement turn out to be factually inaccurate, BTR breached its implied\n",
      "promise to make it true by failing to demand that Fidelitone move out until\n",
      "after this lawsuit was filed. Source Interlink was justified in doubting\n",
      "BTR's statements when BTR ceased communicating with Source Interlink on the\n",
      "issue and failed to respond to Source Interlink's oral complaints and the\n",
      "two August letters over days, then weeks, then months. Although BTR also\n",
      "promised rent relief, that was not forthcoming either.\n",
      "Implicit in BTR's waiver argument is the proposition that Source Interlink\n",
      "should not have relied upon BTR's unfulfilled promises or put up with BTR's\n",
      "dilatory ways as long as it did. If Source Interlink had been receiving some\n",
      "benefit under the Lease during this delay, BTR's position might be tenable,\n",
      "but since Source Interlink delayed legal action because of BTR's promises\n",
      "and while fully performing its Lease obligations, it cannot reasonably be\n",
      "concluded that Source Interlink did so with an intent to waive rights it had\n",
      "asserted. In hindsight, it is clear that BTR had no intention of fulfilling\n",
      "its promises, but Source Interlink was not unreasonable in trusting BTR to\n",
      "do so until the filing of this action. Source Interlink's actions do not\n",
      "amount to a waiver of any right assert[ed] or remedy requested [removed] in\n",
      "this case.\n",
      "\n",
      "B.\n",
      "Waiver of Right to Terminate the Lease\n",
      "An actual eviction entitles the tenant to declare the lease terminated. See\n",
      "Legg v. Castruccio, 100 Md.App. 748, 781, 642 A.2d 906\n",
      "(1994) (\"A requirement of eviction is\n",
      "perfectly proper when the tenant seeks to terminate the lease and avoid\n",
      "further responsibility for rent ...\" (Internal quotations omitted));\n",
      "Restatement § 6.1 (stating that a tenant may terminate the lease if the\n",
      "landlord \"interferes with a permissible use of the leased property by the\n",
      "tenant\"). In the instant case, Source Interlink sought to terminate the Lease\n",
      "by filing the instant action against BTR in September 2007.\n",
      "BTR argues, however, that \"[r]egardless of whether this Court concludes that\n",
      "BTR actually or constructively evicted Source *156 [Interlink], the [c]ircuit\n",
      "[c]ourt was incorrect in concluding that Source[ ] [Interlink's] filing suit\n",
      "terminated the lease. \" (Emphasis added). Focusing on Source Interlink's\n",
      "conduct \" after suit was filed,\" BTR contends that \"[b]ased on the [c]ircuit\n",
      "[c]ourt's findings of Source[] [Interlink's] conduct in the space for the 15\n",
      "months following Fidelitone's exit from Source[ ] [Interlink's] space, there\n",
      "can be no question that Source [Interlink] considered the lease was still in\n",
      "effect.\" (Bold and italicization in original). BTR points out:\n",
      "\n",
      "Source [Interlink] continued to maintain and use the keys to access the\n",
      "property, continued to inspect and monitor the property, continued to adjust\n",
      "the heat in the property, continued to keep its equipment in the property,\n",
      "brought in prospective purchasers of the equipment to show it, continued to\n",
      "access the property for litigation purposes and otherwise exercised complete\n",
      "control and dominion over the space.\n",
      "\n",
      "BTR thus concludes that Source Interlink waived its right to terminate the\n",
      "lease and is \"responsible for all payments due under the lease from October 1,\n",
      "2007 until its natural termination in January, 2010.\" We disagree and explain.\n",
      "Although Source Interlink kept the keys to the premises, Source Interlink\n",
      "explained that it did so to continue to monitor the property for any vandalism\n",
      "or issues comprising the safety and security of the premises. During oral\n",
      "argument before this Court, Source Interlink stated that it viewed its\n",
      "decision to hold onto to the keys as \"prudent,\" particularly because the\n",
      "circuit court had not yet declared the Lease terminated. Consequently, if\n",
      "something went wrong on the premises, Source Interlink could have been\n",
      "potentially liable. In fact, Raines discovered a gas leak during one of his\n",
      "inspections and was able to repair it before it caused any damage.\n",
      "Additionally, the trial court found that any equipment left on the premises by\n",
      "Source Interlink was \"residual\" and \"did not affect in any way BTR's retaking\n",
      "of the premises.\" The court added that\n",
      "\n",
      "any effort to remove this property would have been inconsistent with the\n",
      "occupation of the premises by Fidelitone. The battery chargers were actually\n",
      "being used by Fidelitone, and the removal of the chute would have required\n",
      "not only roof but interior access into rental space then fully used by\n",
      "another business. Finally, while Source Interlink did retain keys, it did so\n",
      "not to make commercial use of the space but to provide for the security of\n",
      "the premises during this dispute. This in no way interfered with\n",
      "Fidelitone's use of the premises.\n",
      "\n",
      "Thus the trial court implicitly determined that Source Interlink did not waive\n",
      "its right to terminate the lease by finding that Source Interlink's actions\n",
      "did not affect Fidelitone's or BTR's use and/or retaking of the premises.\n",
      "BTR argues that Source Interlink continued to bring \"prospective purchasers\"\n",
      "onto the property in order to sell the equipment, presumably the air system on\n",
      "the roof, but offers no citation to the record extract in support of its\n",
      "statement. The evidence demonstrates that Source Interlink hired Mohr Partners\n",
      "to show the premises to prospective sublessees, but that in mid-October of\n",
      "2007, shortly after filing suit on September 28, 2007, Source Interlink\n",
      "instructed Mohr Partners to stop marketing the space for sublease. Thus BTR is\n",
      "incorrect in maintaining that Source Interlink continued to market the\n",
      "premises to sublessees or show the equipment located thereon after it filed\n",
      "suit.\n",
      "Finally, Source Interlink at no time demonstrated an intention to waive its\n",
      "*157 right to terminate the Lease and continue occupation of the premises. The\n",
      "facts as found by the trial court are that Source Interlink filed suit to\n",
      "terminate the lease of an already decommissioned property, ceased any\n",
      "commercial activities relating to the premises, such as subletting, and only\n",
      "held onto the keys for safety and security reasons. Therefore, we hold that\n",
      "Source Interlink did not waive its right to terminate the lease by its conduct\n",
      "after filing suit in September 2007.\n",
      "III.\n",
      "_Did the circuit court err by ruling that the terms of the Lease did not\n",
      "permit the actions of BTR relating to Source Interlink's premises after the\n",
      "flood in May of 2007?_\n",
      "BTR contends that \"[t]he express terms of the Lease did not permit BTR to\n",
      "occupy Source[ ] [Interlink's] space.\" Particularly, BTR argues that either\n",
      "paragraph 22 or paragraph 19 of the Lease authorized BTR to occupy the space.\n",
      "Paragraph 22 of the Lease provides:\n",
      "\n",
      "22. Modifications to Lease; Rights of Superior Mortgagee, Superior Lessor.\n",
      "Landlord hereby notifies Tenant that this Lease may not be cancelled or\n",
      "surrendered, or modified or amended so as to reduce the Rent, shorten the\n",
      "Term or adversely affect in any other respect to any material extent the\n",
      "rights of Landlord hereunder and that Landlord may not accept prepayments of\n",
      "any installments of Rent except for prepayments in the nature of security\n",
      "for the performance of Tenant's obligations hereunder without the consent of\n",
      "the Superior Lessor and the Superior Mortgagee in each instance, except that\n",
      "said consent shall not be required to the institution or prosecution of any\n",
      "action or proceedings against Tenant by reason of an Event of Default. If,\n",
      "in connection with the obtaining, continuing or renewing of financing for\n",
      "which the Building, the Land or the interest of the lessee under the\n",
      "Superior Lease represents collateral, in whole or in part, a savings or\n",
      "commercial bank or trust company, insurance company, savings and loan\n",
      "association, a welfare, pension or retirement fund or system or any other\n",
      "lender shall be or be willing to become the Superior Mortgagee and shall\n",
      "request reasonable modifications of this Lease as a condition of such\n",
      "financing, Tenant will not unreasonably withhold its consent thereto,\n",
      "provided that such modifications do not materially and adversely either\n",
      "increase the obligations of Tenant hereunder or affect the rights of Tenant\n",
      "under this Lease. Tenant shall not do or suffer or permit anything to be\n",
      "done which would constitute a default under the Superior Mortgage or the\n",
      "Superior Lease or cause the Superior Lease to be terminated or forfeited by\n",
      "virtue of any rights of termination or forfeiture reserved or vested in the\n",
      "Superior Lessor. If any act or omission by Landlord would give Tenant the\n",
      "right, immediately or after lapse of time, to cancel or terminate this Lease\n",
      "or to claim a partial or total eviction, Tenant will not exercise any such\n",
      "right until: (i) it has given written notice of such act or omission to each\n",
      "Superior Mortgagee and each Superior Lessor, whose name and address shall\n",
      "have previously been furnished to Tenant, by delivering notice of such act\n",
      "or omission addressed to each such party at its last address so furnished;\n",
      "and (ii) a reasonable period for remedying such act or omission shall have\n",
      "elapsed following such giving of notice and following the time when such\n",
      "Superior Mortgagee or Superior Lessor shall have become entitled *158 under\n",
      "such Superior Mortgage or Superior Lease, as the case may be, to remedy the\n",
      "same (which shall in no event be less than the period to which Landlord\n",
      "would be entitled under this Lease to effect such remedy) provided such\n",
      "Superior Mortgagee or Superior Lessor shall, with reasonable diligence, give\n",
      "Tenant notice of intention to, and commence and continue to, remedy such act\n",
      "or omission or to cause the same to be remedied.\n",
      "\n",
      "(Emphasis added).\n",
      "The circuit court ruled that Source Interlink's cause of action against BTR\n",
      "was \"not barred by paragraph 22 of General Terms and Conditions,\" and\n",
      "explained that \"[s]uch a provision which seeks to insulate a landlord from\n",
      "liability for willful and intentional interference with permissible uses by\n",
      "the tenant contravenes public policy and is void.\"\n",
      "Certainly paragraph 22 would be void if it precluded Source Interlink from\n",
      "terminating the Lease where BTR's conduct constituted an eviction of Source\n",
      "Interlink under Maryland law. Paragraph 22, however, does not prohibit such\n",
      "action. The title of paragraph 22Modifications to Lease; Rights of Superior\n",
      "Mortgagee, Superior Lessorindicates that the provision addresses the rights\n",
      "of the superior mortgagee or superior lessor, if one or the other existed. The\n",
      "provision explains that if the acts or omissions of the landlord give the\n",
      "tenant the right \"to cancel or terminate\" the lease or \"to claim a partial or\n",
      "total eviction,\" the tenant must first provide \"written notice\" of the\n",
      "landlord's \"act or omission to each Superior Mortgagee and each Superior\n",
      "Lessor\" in order to permit the Superior Mortgagee or Superior Lessor to remedy\n",
      "the situation. Neither BTR nor Source Interlink contend that there was a\n",
      "Superior Mortgagee or Superior Lessor to the premises. Accordingly, paragraph\n",
      "22 of the Lease did not permit the actions of BTR relating to Source\n",
      "Interlink's premises after the flood in May of 2007.\n",
      "Paragraph 19 of the Lease states:\n",
      "\n",
      "19. Right of Entry. Landlord and its representatives shall have the right\n",
      "at all reasonable times during normal business hours with prior oral or\n",
      "written notice to enter the Premises for the purposes of inspecting them and\n",
      "exhibiting them for sale or financing; and Landlord shall not be liable in\n",
      "any manner for any entry into the Premises for such purposes. Landlord\n",
      "reserves and shall at all times have the right to re-enter the Premises upon\n",
      "24 hours prior notice to Tenant (except in an emergency) to maintain, repair\n",
      "and replace the Premises and any portion of the Building of which the\n",
      "Premises are a part, without abatement of Rent. Landlord may for the purpose\n",
      "of such work erect, use and maintain scaffolding, pipes, conduits and other\n",
      "necessary structures in and through the Premises where reasonably required\n",
      "by the character of the work to be performed, provided that entrance to the\n",
      "Premises shall not be blocked. Landlord agrees to use its commercially\n",
      "reasonable efforts to minimize the disruption or interference with Tenant's\n",
      "business that might result from Landlord's exercise of such rights. For so\n",
      "long as Landlord uses such reasonable efforts, Tenant waives any claim for\n",
      "any injury or inconvenience to or interference with Tenant's business, any\n",
      "loss of occupancy or quiet enjoyment of the Premises and any other loss\n",
      "occasioned by any such maintenance, repair or replacement work.\n",
      "\n",
      "(Emphasis added).\n",
      "The circuit court found that BTR's \"actions were not justified under the\n",
      "emergency *159 entry provisions of the Lease.\" As the circuit court explained,\n",
      "\n",
      "[t]he Lease at paragraph 19 of the General Terms and Conditions permits\n",
      "landlord to enter Source Interlink's space to \"maintain, repair and replace\n",
      "the Premises.\" That right does not render lawful BTR's entry for the purpose\n",
      "of conferring commercial benefits upon Fidelitone, even if same is for the\n",
      "purpose of limiting BTR's liability occasioned by its breach of lease with\n",
      "Fidelitone. The only \"emergency\" here was that of Fidelitone, and how it was\n",
      "to continue its business, but that did not justify appropriation of the\n",
      "demised premises, even if BTR concluded or was concerned that the flood was\n",
      "its fault.\n",
      "\n",
      "In our opinion, paragraph 19 permitted BTR to enter Fidelitone's premises\n",
      "after the flood to \"maintain, repair and replace\" the damage caused by the\n",
      "flood, which qualified as an \"emergency.\" The flood was caused when a closed-\n",
      "loop water pipe burst in the ceiling of Fidelitone's space. Thus the\n",
      "emergency was confined to Fidelitone's premises, and there was no need for BTR\n",
      "to enter Source Interlink's space to respond to the emergency.\n",
      "Paragraph 19 would have permitted BTR to enter Source Interlink's space if a\n",
      "pipe had burst in Source Interlink's ceiling and caused a flood in Source\n",
      "Interlink's space, or perhaps, if a pipe had burst in Source Interlink's\n",
      "ceiling and caused a flood in Fidelitone's space. In those scenarios, the\n",
      "source of flood would be Source Interlink's premises, and BTR would have been\n",
      "justified to enter Source Interlink's premises to repair the broken pipe.\n",
      "Paragraph 19 certainly does not permit Fidelitone, under the authority of BTR,\n",
      "to occupy Source Interlink's space for six months because of an emergency in\n",
      "Fidelitone's space, particularly when the \"exigency... ended no later June 15,\n",
      "2007,\" approximately two weeks after it began. Therefore, the circuit court\n",
      "did not err by ruling that paragraph 19 did not authorize the actions of BTR\n",
      "relating to Source Interlink's premises after the flood in May of 2007.\n",
      "IV.\n",
      "Did Source Interlink prove damages to a reasonable certainty?\n",
      "The circuit court found \"[t]he total amount of base rent, CAM charges,\n",
      "insurance, and real estate tax payments that Source Interlink paid to BTR\n",
      "during the months of June, July, August, and September of 2007 was\n",
      "$149,466.04.\" Based on that finding, the circuit court entered a judgment for\n",
      "damages in the amount of $149,466.04,[4] and explained that \"[t]he damages for\n",
      "the breach prior to the filing of this action [was] the fair market value of\n",
      "what Source Interlink was to receive under the Lease, and what it did receive,\n",
      "i.e., the monthly payments from June through September of 2007.\"\n",
      "On appeal, BTR argues that Source Interlink failed to prove damages to a\n",
      "reasonable certainty, because Source Interlink \"made no effort to demonstrate\n",
      "[ ] the reduced value of its interest in the property\" given the fact that\n",
      "Source Interlink \"continued to storing equipment in [its] space throughout the\n",
      "Fidelitone occupation and to this day.\" (Emphasis omitted).\n",
      "BTR does not expressly identify the equipment to which it refers. We assume\n",
      "that BTR is referring to the air system mounted on the roof. As discussed\n",
      "above, the air system consisted of a rooftop divertor, an outside fan/blower\n",
      "motor, and attached ductwork and took up a negligible percentage of the square\n",
      "footage of Source Interlink's warehouse space. Thus the circuit court\n",
      "impliedly found that whatever *160 space this piece of equipment occupied was\n",
      "inconsequential to the usable warehouse space and thus had no effect on the\n",
      "rental value. Therefore, we hold that Source Interlink proved its damages to a\n",
      "reasonable certainty, and the circuit court was not clearly erroneous in\n",
      "determining the amount of its award.\n",
      "JUDGMENT OF THE CIRCUIT COURT FOR CARROLL COUNTY AFFIRMED; APPELLANT TO PAY\n",
      "COSTS.\n",
      "NOTES\n",
      "[1] The award of damages consisted of (1) $149,466.04, representing the base\n",
      "rent, CAM charges, insurance, and real estate tax payments paid by Source\n",
      "Interlink to BTR for the months of June, July, August, and September of 2007,\n",
      "and (2) $1.00, representing nominal damages for BTR's breach of contract by\n",
      "billing Source Interlink for excessive gas and electricity charges. The\n",
      "circuit court found that Source Interlink failed to prove its contractual\n",
      "damages, i.e., the over payment of the gas and electricity charges. Source\n",
      "Interlink did not file a cross appeal challenging that determination.\n",
      "[2] In Stevan v. Brown, 54 Md.App. 235, 458 A.2d 466\n",
      "(1983), this Court explained:\n",
      "A constructive eviction occurs when the acts of a landlord cause serious or\n",
      "substantial interference with the tenants' enjoyment of the property which\n",
      "results in the tenant vacating the premises. These acts must be done by the\n",
      "landlord with the intent and effect of depriving the tenant of the latter's\n",
      "use and enjoyment. But the requisite intent may be inferred from the nature\n",
      "and impact of the acts.\n",
      "Id. at 240, 458 A.2d 466 (citations\n",
      "omitted). Acts resulting in constructive eviction include failure on the part\n",
      "of the landlord \"to furnish heat, elevator service, and necessary\n",
      "electricity...; as [well as] the failure to furnish sanitary restroom\n",
      "facilities (along with other problems), and frequent flooding of the premises\n",
      "because of the landlord's fault.\" Id. (citations omitted).\n",
      "In the instant case, BTR permitted Fidelitone to occupy substantially all of\n",
      "Source Interlink's leased warehouse space. For reasons that will be explained\n",
      "infra, such actions constitute an actual eviction, not a constructive\n",
      "eviction.\n",
      "[3] BTR's argument here is difficult to follow. BTR asserts that, \"[e]ven if\n",
      "there was a constructive eviction, Source [Interlink] clearly waived it.\" BTR\n",
      "then cites to Stevan, for the proposition that a tenant may waive the right\n",
      "to claim a constructive eviction \"if he waits an unreasonable length of time\n",
      "before vacating the premises. \" 54 Md.App. at 241, 458 A.2d 466\n",
      "(emphasis added). Yet, BTR relies on the\n",
      "same conduct of Source Interlink after the flood in support of its waiver\n",
      "argument as it does in support of its argument that Source Interlink failed to\n",
      "vacate the premises. Apparently BTR is arguing that Source Interlink's filing\n",
      "of the instant action in September 2007 constituted its \"vacating the\n",
      "premises.\"\n",
      "[4] See footnote 1, supra.\n"
     ]
    }
   ],
   "source": [
    "print(opinion_test.text)"
   ]
  },
  {
   "cell_type": "code",
   "execution_count": 23,
   "metadata": {},
   "outputs": [],
   "source": [
    "import eyecite\n",
    "\n",
    "cites = eyecite.get_citations(opinion_test.text)"
   ]
  },
  {
   "cell_type": "code",
   "execution_count": 27,
   "metadata": {},
   "outputs": [
    {
     "data": {
      "text/plain": [
       "FullCaseCitation('5 A.3d 142', groups={'volume': '5', 'reporter': 'A.3d', 'page': '142'}, metadata=FullCaseCitation.Metadata(parenthetical=None, pin_cite=None, year='2010', court=None, plaintiff=None, defendant=None, extra=None))"
      ]
     },
     "execution_count": 27,
     "metadata": {},
     "output_type": "execute_result"
    }
   ],
   "source": [
    "cites[0]"
   ]
  },
  {
   "cell_type": "code",
   "execution_count": 33,
   "metadata": {},
   "outputs": [
    {
     "data": {
      "text/plain": [
       "[TextPassage(\"5 A.3d 142\"), None]"
      ]
     },
     "execution_count": 33,
     "metadata": {},
     "output_type": "execute_result"
    }
   ],
   "source": [
    "t.passages"
   ]
  },
  {
   "cell_type": "code",
   "execution_count": null,
   "metadata": {},
   "outputs": [],
   "source": []
  },
  {
   "cell_type": "code",
   "execution_count": null,
   "metadata": {},
   "outputs": [],
   "source": []
  },
  {
   "cell_type": "code",
   "execution_count": 23,
   "metadata": {},
   "outputs": [
    {
     "name": "stdout",
     "output_type": "stream",
     "text": [
      "df shape: (5000, 14)\n"
     ]
    },
    {
     "data": {
      "text/html": [
       "<div>\n",
       "<style scoped>\n",
       "    .dataframe tbody tr th:only-of-type {\n",
       "        vertical-align: middle;\n",
       "    }\n",
       "\n",
       "    .dataframe tbody tr th {\n",
       "        vertical-align: top;\n",
       "    }\n",
       "\n",
       "    .dataframe thead th {\n",
       "        text-align: right;\n",
       "    }\n",
       "</style>\n",
       "<table border=\"1\" class=\"dataframe\">\n",
       "  <thead>\n",
       "    <tr style=\"text-align: right;\">\n",
       "      <th></th>\n",
       "      <th>index</th>\n",
       "      <th>created_utc</th>\n",
       "      <th>full_link</th>\n",
       "      <th>id</th>\n",
       "      <th>body</th>\n",
       "      <th>title</th>\n",
       "      <th>text_label</th>\n",
       "      <th>flair_label</th>\n",
       "      <th>embeddings</th>\n",
       "      <th>token_count</th>\n",
       "      <th>llm_title</th>\n",
       "      <th>State</th>\n",
       "      <th>kmeans_label</th>\n",
       "      <th>topic_title</th>\n",
       "    </tr>\n",
       "  </thead>\n",
       "  <tbody>\n",
       "    <tr>\n",
       "      <th>1078</th>\n",
       "      <td>1078</td>\n",
       "      <td>1575952538</td>\n",
       "      <td>https://www.reddit.com/r/legaladvice/comments/...</td>\n",
       "      <td>e8lsen</td>\n",
       "      <td>I applied for a job and after two interviews I...</td>\n",
       "      <td>Failed a drug test due to amphetamines, I have...</td>\n",
       "      <td>employment</td>\n",
       "      <td>5</td>\n",
       "      <td>[9.475638042064453e-05, 0.0005111666301983955,...</td>\n",
       "      <td>493</td>\n",
       "      <td>\"Validity of Schedule II Drug Prescription in ...</td>\n",
       "      <td>PR</td>\n",
       "      <td>8</td>\n",
       "      <td>Employment Legal Concerns and Issues</td>\n",
       "    </tr>\n",
       "    <tr>\n",
       "      <th>2098</th>\n",
       "      <td>2098</td>\n",
       "      <td>1577442453</td>\n",
       "      <td>https://www.reddit.com/r/legaladvice/comments/...</td>\n",
       "      <td>eg9ll2</td>\n",
       "      <td>Hi everyone, thanks in advance for any guidanc...</td>\n",
       "      <td>Speeding ticket in Tennessee, Georgia Driver's...</td>\n",
       "      <td>driving</td>\n",
       "      <td>4</td>\n",
       "      <td>[-0.006706413111028856, 0.020911016696181495, ...</td>\n",
       "      <td>252</td>\n",
       "      <td>\"Speeding ticket consequences for out-of-state...</td>\n",
       "      <td>KY</td>\n",
       "      <td>10</td>\n",
       "      <td>Legal Topics in Traffic Violations</td>\n",
       "    </tr>\n",
       "    <tr>\n",
       "      <th>9384</th>\n",
       "      <td>9384</td>\n",
       "      <td>1412266873</td>\n",
       "      <td>https://www.reddit.com/r/legaladvice/comments/...</td>\n",
       "      <td>2i3or9</td>\n",
       "      <td>So the line in question is:\\n\\n*Husband shall ...</td>\n",
       "      <td>Can't figure out what this language from Divor...</td>\n",
       "      <td>family</td>\n",
       "      <td>6</td>\n",
       "      <td>[-0.0008707255965511636, 0.015741086521669008,...</td>\n",
       "      <td>157</td>\n",
       "      <td>Interpreting divorce decree language regarding...</td>\n",
       "      <td>IL</td>\n",
       "      <td>7</td>\n",
       "      <td>Child Custody and Related Issues</td>\n",
       "    </tr>\n",
       "    <tr>\n",
       "      <th>5425</th>\n",
       "      <td>5425</td>\n",
       "      <td>1578732752</td>\n",
       "      <td>https://www.reddit.com/r/legaladvice/comments/...</td>\n",
       "      <td>en55d8</td>\n",
       "      <td>I rented an apartment as a student, and I was ...</td>\n",
       "      <td>FICO score dropped 100points</td>\n",
       "      <td>housing</td>\n",
       "      <td>7</td>\n",
       "      <td>[0.0018182859833585185, -0.021543734695078785,...</td>\n",
       "      <td>78</td>\n",
       "      <td>\"Responsibility for missed rent payments and r...</td>\n",
       "      <td>FM</td>\n",
       "      <td>4</td>\n",
       "      <td>Legal Issues in Consumer Protection</td>\n",
       "    </tr>\n",
       "    <tr>\n",
       "      <th>7735</th>\n",
       "      <td>7735</td>\n",
       "      <td>1578331074</td>\n",
       "      <td>https://www.reddit.com/r/legaladvice/comments/...</td>\n",
       "      <td>ekx2ch</td>\n",
       "      <td>I have a audio recording of me saying I can’t ...</td>\n",
       "      <td>[MI] I told my boss I had epilepsy and was fir...</td>\n",
       "      <td>employment</td>\n",
       "      <td>5</td>\n",
       "      <td>[-0.004012766701303168, 0.01652626296610702, 0...</td>\n",
       "      <td>251</td>\n",
       "      <td>\"Wrongful Termination Due to Epilepsy: Seeking...</td>\n",
       "      <td>DC</td>\n",
       "      <td>8</td>\n",
       "      <td>Employment Legal Concerns and Issues</td>\n",
       "    </tr>\n",
       "  </tbody>\n",
       "</table>\n",
       "</div>"
      ],
      "text/plain": [
       "      index  created_utc                                          full_link  \\\n",
       "1078   1078   1575952538  https://www.reddit.com/r/legaladvice/comments/...   \n",
       "2098   2098   1577442453  https://www.reddit.com/r/legaladvice/comments/...   \n",
       "9384   9384   1412266873  https://www.reddit.com/r/legaladvice/comments/...   \n",
       "5425   5425   1578732752  https://www.reddit.com/r/legaladvice/comments/...   \n",
       "7735   7735   1578331074  https://www.reddit.com/r/legaladvice/comments/...   \n",
       "\n",
       "          id                                               body  \\\n",
       "1078  e8lsen  I applied for a job and after two interviews I...   \n",
       "2098  eg9ll2  Hi everyone, thanks in advance for any guidanc...   \n",
       "9384  2i3or9  So the line in question is:\\n\\n*Husband shall ...   \n",
       "5425  en55d8  I rented an apartment as a student, and I was ...   \n",
       "7735  ekx2ch  I have a audio recording of me saying I can’t ...   \n",
       "\n",
       "                                                  title  text_label  \\\n",
       "1078  Failed a drug test due to amphetamines, I have...  employment   \n",
       "2098  Speeding ticket in Tennessee, Georgia Driver's...     driving   \n",
       "9384  Can't figure out what this language from Divor...      family   \n",
       "5425                       FICO score dropped 100points     housing   \n",
       "7735  [MI] I told my boss I had epilepsy and was fir...  employment   \n",
       "\n",
       "      flair_label                                         embeddings  \\\n",
       "1078            5  [9.475638042064453e-05, 0.0005111666301983955,...   \n",
       "2098            4  [-0.006706413111028856, 0.020911016696181495, ...   \n",
       "9384            6  [-0.0008707255965511636, 0.015741086521669008,...   \n",
       "5425            7  [0.0018182859833585185, -0.021543734695078785,...   \n",
       "7735            5  [-0.004012766701303168, 0.01652626296610702, 0...   \n",
       "\n",
       "      token_count                                          llm_title State  \\\n",
       "1078          493  \"Validity of Schedule II Drug Prescription in ...    PR   \n",
       "2098          252  \"Speeding ticket consequences for out-of-state...    KY   \n",
       "9384          157  Interpreting divorce decree language regarding...    IL   \n",
       "5425           78  \"Responsibility for missed rent payments and r...    FM   \n",
       "7735          251  \"Wrongful Termination Due to Epilepsy: Seeking...    DC   \n",
       "\n",
       "      kmeans_label                           topic_title  \n",
       "1078             8  Employment Legal Concerns and Issues  \n",
       "2098            10    Legal Topics in Traffic Violations  \n",
       "9384             7      Child Custody and Related Issues  \n",
       "5425             4   Legal Issues in Consumer Protection  \n",
       "7735             8  Employment Legal Concerns and Issues  "
      ]
     },
     "execution_count": 23,
     "metadata": {},
     "output_type": "execute_result"
    }
   ],
   "source": [
    "df = pd.read_parquet(\"data/reddit_legal_cluster_test_results.parquet\")\n",
    "print(f\"df shape: {df.shape}\")\n",
    "df.head()\n"
   ]
  },
  {
   "cell_type": "code",
   "execution_count": 5,
   "metadata": {},
   "outputs": [],
   "source": [
    "top_citations = get_top_citations(df, \"Complete Text\", 20)"
   ]
  },
  {
   "cell_type": "code",
   "execution_count": 6,
   "metadata": {},
   "outputs": [
    {
     "data": {
      "text/html": [
       "<div>\n",
       "<style scoped>\n",
       "    .dataframe tbody tr th:only-of-type {\n",
       "        vertical-align: middle;\n",
       "    }\n",
       "\n",
       "    .dataframe tbody tr th {\n",
       "        vertical-align: top;\n",
       "    }\n",
       "\n",
       "    .dataframe thead th {\n",
       "        text-align: right;\n",
       "    }\n",
       "</style>\n",
       "<table border=\"1\" class=\"dataframe\">\n",
       "  <thead>\n",
       "    <tr style=\"text-align: right;\">\n",
       "      <th></th>\n",
       "      <th>Citation</th>\n",
       "      <th>Count</th>\n",
       "      <th>link</th>\n",
       "    </tr>\n",
       "  </thead>\n",
       "  <tbody>\n",
       "    <tr>\n",
       "      <th>0</th>\n",
       "      <td>464 U.S. 417</td>\n",
       "      <td>47</td>\n",
       "      <td>https://cite.case.law/us/464/417</td>\n",
       "    </tr>\n",
       "    <tr>\n",
       "      <th>1</th>\n",
       "      <td>104 S. Ct. 774</td>\n",
       "      <td>44</td>\n",
       "      <td>https://www.courtlistener.com/c/S.%20Ct./104/774</td>\n",
       "    </tr>\n",
       "    <tr>\n",
       "      <th>2</th>\n",
       "      <td>78 L. Ed. 2d 574</td>\n",
       "      <td>44</td>\n",
       "      <td>https://www.courtlistener.com/c/L.%20Ed.%202d/...</td>\n",
       "    </tr>\n",
       "    <tr>\n",
       "      <th>3</th>\n",
       "      <td>17 U.S.C. § 101</td>\n",
       "      <td>33</td>\n",
       "      <td>No link found</td>\n",
       "    </tr>\n",
       "    <tr>\n",
       "      <th>4</th>\n",
       "      <td>471 U.S. 539</td>\n",
       "      <td>29</td>\n",
       "      <td>https://cite.case.law/us/471/539</td>\n",
       "    </tr>\n",
       "    <tr>\n",
       "      <th>5</th>\n",
       "      <td>17 U.S.C. § 102</td>\n",
       "      <td>26</td>\n",
       "      <td>No link found</td>\n",
       "    </tr>\n",
       "    <tr>\n",
       "      <th>6</th>\n",
       "      <td>17 U.S.C. § 106</td>\n",
       "      <td>26</td>\n",
       "      <td>No link found</td>\n",
       "    </tr>\n",
       "    <tr>\n",
       "      <th>7</th>\n",
       "      <td>105 S. Ct. 2218</td>\n",
       "      <td>26</td>\n",
       "      <td>https://www.courtlistener.com/c/S.%20Ct./105/2218</td>\n",
       "    </tr>\n",
       "    <tr>\n",
       "      <th>8</th>\n",
       "      <td>85 L. Ed. 2d 588</td>\n",
       "      <td>26</td>\n",
       "      <td>https://www.courtlistener.com/c/L.%20Ed.%202d/...</td>\n",
       "    </tr>\n",
       "    <tr>\n",
       "      <th>9</th>\n",
       "      <td>17 U.S.C. § 501</td>\n",
       "      <td>23</td>\n",
       "      <td>No link found</td>\n",
       "    </tr>\n",
       "  </tbody>\n",
       "</table>\n",
       "</div>"
      ],
      "text/plain": [
       "           Citation  Count                                               link\n",
       "0      464 U.S. 417     47                   https://cite.case.law/us/464/417\n",
       "1    104 S. Ct. 774     44   https://www.courtlistener.com/c/S.%20Ct./104/774\n",
       "2  78 L. Ed. 2d 574     44  https://www.courtlistener.com/c/L.%20Ed.%202d/...\n",
       "3   17 U.S.C. § 101     33                                      No link found\n",
       "4      471 U.S. 539     29                   https://cite.case.law/us/471/539\n",
       "5   17 U.S.C. § 102     26                                      No link found\n",
       "6   17 U.S.C. § 106     26                                      No link found\n",
       "7   105 S. Ct. 2218     26  https://www.courtlistener.com/c/S.%20Ct./105/2218\n",
       "8  85 L. Ed. 2d 588     26  https://www.courtlistener.com/c/L.%20Ed.%202d/...\n",
       "9   17 U.S.C. § 501     23                                      No link found"
      ]
     },
     "execution_count": 6,
     "metadata": {},
     "output_type": "execute_result"
    }
   ],
   "source": [
    "top_citations.head(10)\n"
   ]
  },
  {
   "cell_type": "code",
   "execution_count": 7,
   "metadata": {},
   "outputs": [
    {
     "data": {
      "text/plain": [
       "['464 U.S. 417',\n",
       " '104 S. Ct. 774',\n",
       " '78 L. Ed. 2d 574',\n",
       " '17 U.S.C. § 101',\n",
       " '471 U.S. 539']"
      ]
     },
     "execution_count": 7,
     "metadata": {},
     "output_type": "execute_result"
    }
   ],
   "source": [
    "top_5 = top_citations.head(5)[\"Citation\"].tolist()\n",
    "top_5\n",
    "    "
   ]
  },
  {
   "cell_type": "code",
   "execution_count": 8,
   "metadata": {},
   "outputs": [],
   "source": [
    "context = get_citation_context(\n",
    "    df=df, \n",
    "    id_column=\"Citing Case ID\", \n",
    "    text_column=\"Complete Text\", \n",
    "    sentences_before=8, \n",
    "    sentences_after=4, \n",
    "    target_citations=top_5\n",
    ")"
   ]
  },
  {
   "cell_type": "code",
   "execution_count": 9,
   "metadata": {},
   "outputs": [
    {
     "data": {
      "text/html": [
       "<div>\n",
       "<style scoped>\n",
       "    .dataframe tbody tr th:only-of-type {\n",
       "        vertical-align: middle;\n",
       "    }\n",
       "\n",
       "    .dataframe tbody tr th {\n",
       "        vertical-align: top;\n",
       "    }\n",
       "\n",
       "    .dataframe thead th {\n",
       "        text-align: right;\n",
       "    }\n",
       "</style>\n",
       "<table border=\"1\" class=\"dataframe\">\n",
       "  <thead>\n",
       "    <tr style=\"text-align: right;\">\n",
       "      <th></th>\n",
       "      <th>id</th>\n",
       "      <th>citation</th>\n",
       "      <th>context</th>\n",
       "      <th>start_char</th>\n",
       "      <th>end_char</th>\n",
       "    </tr>\n",
       "  </thead>\n",
       "  <tbody>\n",
       "    <tr>\n",
       "      <th>0</th>\n",
       "      <td>7399454</td>\n",
       "      <td>464 U.S. 417</td>\n",
       "      <td>Further, the Court of Appeals stated, a plaint...</td>\n",
       "      <td>6135</td>\n",
       "      <td>7485</td>\n",
       "    </tr>\n",
       "    <tr>\n",
       "      <th>1</th>\n",
       "      <td>7399454</td>\n",
       "      <td>78 L. Ed. 2d 574</td>\n",
       "      <td>[that] the copying, if proven, went so far as ...</td>\n",
       "      <td>6295</td>\n",
       "      <td>7684</td>\n",
       "    </tr>\n",
       "    <tr>\n",
       "      <th>2</th>\n",
       "      <td>7399454</td>\n",
       "      <td>464 U.S. 417</td>\n",
       "      <td>Further, the Court of Appeals stated, a plaint...</td>\n",
       "      <td>41613</td>\n",
       "      <td>42963</td>\n",
       "    </tr>\n",
       "    <tr>\n",
       "      <th>3</th>\n",
       "      <td>7399454</td>\n",
       "      <td>78 L. Ed. 2d 574</td>\n",
       "      <td>[that] the copying, if proven, went so far as ...</td>\n",
       "      <td>41773</td>\n",
       "      <td>43162</td>\n",
       "    </tr>\n",
       "    <tr>\n",
       "      <th>4</th>\n",
       "      <td>7399454</td>\n",
       "      <td>464 U.S. 417</td>\n",
       "      <td>Nimmer on Copyright  see, e.g., Atari, Inc. v....</td>\n",
       "      <td>76685</td>\n",
       "      <td>77933</td>\n",
       "    </tr>\n",
       "    <tr>\n",
       "      <th>...</th>\n",
       "      <td>...</td>\n",
       "      <td>...</td>\n",
       "      <td>...</td>\n",
       "      <td>...</td>\n",
       "      <td>...</td>\n",
       "    </tr>\n",
       "    <tr>\n",
       "      <th>1400</th>\n",
       "      <td>633900</td>\n",
       "      <td>464 U.S. 417</td>\n",
       "      <td>Brief for Columbia Pictures et al. as  Amici C...</td>\n",
       "      <td>195116</td>\n",
       "      <td>196697</td>\n",
       "    </tr>\n",
       "    <tr>\n",
       "      <th>1401</th>\n",
       "      <td>633900</td>\n",
       "      <td>464 U.S. 417</td>\n",
       "      <td>In any event, the complaint that respondent’s ...</td>\n",
       "      <td>195261</td>\n",
       "      <td>197275</td>\n",
       "    </tr>\n",
       "    <tr>\n",
       "      <th>1402</th>\n",
       "      <td>633900</td>\n",
       "      <td>17 U.S.C. § 101</td>\n",
       "      <td>The record supports the Court of Appeals’ conc...</td>\n",
       "      <td>217052</td>\n",
       "      <td>218140</td>\n",
       "    </tr>\n",
       "    <tr>\n",
       "      <th>1403</th>\n",
       "      <td>633900</td>\n",
       "      <td>17 U.S.C. § 101</td>\n",
       "      <td>“This case presents a classic example of an un...</td>\n",
       "      <td>217284</td>\n",
       "      <td>218478</td>\n",
       "    </tr>\n",
       "    <tr>\n",
       "      <th>1404</th>\n",
       "      <td>633900</td>\n",
       "      <td>17 U.S.C. § 101</td>\n",
       "      <td>It is so ordered. \\n      It is so ordered. \\n...</td>\n",
       "      <td>217644</td>\n",
       "      <td>219075</td>\n",
       "    </tr>\n",
       "  </tbody>\n",
       "</table>\n",
       "<p>1405 rows × 5 columns</p>\n",
       "</div>"
      ],
      "text/plain": [
       "           id          citation  \\\n",
       "0     7399454      464 U.S. 417   \n",
       "1     7399454  78 L. Ed. 2d 574   \n",
       "2     7399454      464 U.S. 417   \n",
       "3     7399454  78 L. Ed. 2d 574   \n",
       "4     7399454      464 U.S. 417   \n",
       "...       ...               ...   \n",
       "1400   633900      464 U.S. 417   \n",
       "1401   633900      464 U.S. 417   \n",
       "1402   633900   17 U.S.C. § 101   \n",
       "1403   633900   17 U.S.C. § 101   \n",
       "1404   633900   17 U.S.C. § 101   \n",
       "\n",
       "                                                context  start_char  end_char  \n",
       "0     Further, the Court of Appeals stated, a plaint...        6135      7485  \n",
       "1     [that] the copying, if proven, went so far as ...        6295      7684  \n",
       "2     Further, the Court of Appeals stated, a plaint...       41613     42963  \n",
       "3     [that] the copying, if proven, went so far as ...       41773     43162  \n",
       "4     Nimmer on Copyright  see, e.g., Atari, Inc. v....       76685     77933  \n",
       "...                                                 ...         ...       ...  \n",
       "1400  Brief for Columbia Pictures et al. as  Amici C...      195116    196697  \n",
       "1401  In any event, the complaint that respondent’s ...      195261    197275  \n",
       "1402  The record supports the Court of Appeals’ conc...      217052    218140  \n",
       "1403  “This case presents a classic example of an un...      217284    218478  \n",
       "1404  It is so ordered. \\n      It is so ordered. \\n...      217644    219075  \n",
       "\n",
       "[1405 rows x 5 columns]"
      ]
     },
     "execution_count": 9,
     "metadata": {},
     "output_type": "execute_result"
    }
   ],
   "source": [
    "context"
   ]
  },
  {
   "cell_type": "code",
   "execution_count": 10,
   "metadata": {},
   "outputs": [
    {
     "data": {
      "text/html": [
       "<div>\n",
       "<style scoped>\n",
       "    .dataframe tbody tr th:only-of-type {\n",
       "        vertical-align: middle;\n",
       "    }\n",
       "\n",
       "    .dataframe tbody tr th {\n",
       "        vertical-align: top;\n",
       "    }\n",
       "\n",
       "    .dataframe thead th {\n",
       "        text-align: right;\n",
       "    }\n",
       "</style>\n",
       "<table border=\"1\" class=\"dataframe\">\n",
       "  <thead>\n",
       "    <tr style=\"text-align: right;\">\n",
       "      <th></th>\n",
       "      <th>id</th>\n",
       "      <th>citation</th>\n",
       "      <th>context</th>\n",
       "      <th>start_char</th>\n",
       "      <th>end_char</th>\n",
       "    </tr>\n",
       "  </thead>\n",
       "  <tbody>\n",
       "    <tr>\n",
       "      <th>0</th>\n",
       "      <td>7399454</td>\n",
       "      <td>464 U.S. 417</td>\n",
       "      <td>Further, the Court of Appeals stated, a plaint...</td>\n",
       "      <td>6135</td>\n",
       "      <td>7485</td>\n",
       "    </tr>\n",
       "    <tr>\n",
       "      <th>1</th>\n",
       "      <td>7399454</td>\n",
       "      <td>78 L. Ed. 2d 574</td>\n",
       "      <td>[that] the copying, if proven, went so far as ...</td>\n",
       "      <td>6295</td>\n",
       "      <td>7684</td>\n",
       "    </tr>\n",
       "    <tr>\n",
       "      <th>2</th>\n",
       "      <td>7399454</td>\n",
       "      <td>464 U.S. 417</td>\n",
       "      <td>Further, the Court of Appeals stated, a plaint...</td>\n",
       "      <td>41613</td>\n",
       "      <td>42963</td>\n",
       "    </tr>\n",
       "    <tr>\n",
       "      <th>3</th>\n",
       "      <td>7399454</td>\n",
       "      <td>78 L. Ed. 2d 574</td>\n",
       "      <td>[that] the copying, if proven, went so far as ...</td>\n",
       "      <td>41773</td>\n",
       "      <td>43162</td>\n",
       "    </tr>\n",
       "    <tr>\n",
       "      <th>4</th>\n",
       "      <td>7399454</td>\n",
       "      <td>464 U.S. 417</td>\n",
       "      <td>Nimmer on Copyright  see, e.g., Atari, Inc. v....</td>\n",
       "      <td>76685</td>\n",
       "      <td>77933</td>\n",
       "    </tr>\n",
       "    <tr>\n",
       "      <th>...</th>\n",
       "      <td>...</td>\n",
       "      <td>...</td>\n",
       "      <td>...</td>\n",
       "      <td>...</td>\n",
       "      <td>...</td>\n",
       "    </tr>\n",
       "    <tr>\n",
       "      <th>1374</th>\n",
       "      <td>633900</td>\n",
       "      <td>464 U.S. 417</td>\n",
       "      <td>Brief for Columbia Pictures et al. as  Amici C...</td>\n",
       "      <td>195116</td>\n",
       "      <td>196697</td>\n",
       "    </tr>\n",
       "    <tr>\n",
       "      <th>1375</th>\n",
       "      <td>633900</td>\n",
       "      <td>464 U.S. 417</td>\n",
       "      <td>In any event, the complaint that respondent’s ...</td>\n",
       "      <td>195261</td>\n",
       "      <td>197275</td>\n",
       "    </tr>\n",
       "    <tr>\n",
       "      <th>1376</th>\n",
       "      <td>633900</td>\n",
       "      <td>17 U.S.C. § 101</td>\n",
       "      <td>The record supports the Court of Appeals’ conc...</td>\n",
       "      <td>217052</td>\n",
       "      <td>218140</td>\n",
       "    </tr>\n",
       "    <tr>\n",
       "      <th>1377</th>\n",
       "      <td>633900</td>\n",
       "      <td>17 U.S.C. § 101</td>\n",
       "      <td>“This case presents a classic example of an un...</td>\n",
       "      <td>217284</td>\n",
       "      <td>218478</td>\n",
       "    </tr>\n",
       "    <tr>\n",
       "      <th>1378</th>\n",
       "      <td>633900</td>\n",
       "      <td>17 U.S.C. § 101</td>\n",
       "      <td>It is so ordered. \\n      It is so ordered. \\n...</td>\n",
       "      <td>217644</td>\n",
       "      <td>219075</td>\n",
       "    </tr>\n",
       "  </tbody>\n",
       "</table>\n",
       "<p>187 rows × 5 columns</p>\n",
       "</div>"
      ],
      "text/plain": [
       "           id          citation  \\\n",
       "0     7399454      464 U.S. 417   \n",
       "1     7399454  78 L. Ed. 2d 574   \n",
       "2     7399454      464 U.S. 417   \n",
       "3     7399454  78 L. Ed. 2d 574   \n",
       "4     7399454      464 U.S. 417   \n",
       "...       ...               ...   \n",
       "1374   633900      464 U.S. 417   \n",
       "1375   633900      464 U.S. 417   \n",
       "1376   633900   17 U.S.C. § 101   \n",
       "1377   633900   17 U.S.C. § 101   \n",
       "1378   633900   17 U.S.C. § 101   \n",
       "\n",
       "                                                context  start_char  end_char  \n",
       "0     Further, the Court of Appeals stated, a plaint...        6135      7485  \n",
       "1     [that] the copying, if proven, went so far as ...        6295      7684  \n",
       "2     Further, the Court of Appeals stated, a plaint...       41613     42963  \n",
       "3     [that] the copying, if proven, went so far as ...       41773     43162  \n",
       "4     Nimmer on Copyright  see, e.g., Atari, Inc. v....       76685     77933  \n",
       "...                                                 ...         ...       ...  \n",
       "1374  Brief for Columbia Pictures et al. as  Amici C...      195116    196697  \n",
       "1375  In any event, the complaint that respondent’s ...      195261    197275  \n",
       "1376  The record supports the Court of Appeals’ conc...      217052    218140  \n",
       "1377  “This case presents a classic example of an un...      217284    218478  \n",
       "1378  It is so ordered. \\n      It is so ordered. \\n...      217644    219075  \n",
       "\n",
       "[187 rows x 5 columns]"
      ]
     },
     "execution_count": 10,
     "metadata": {},
     "output_type": "execute_result"
    }
   ],
   "source": [
    "context.drop_duplicates(inplace=True)\n",
    "context"
   ]
  },
  {
   "cell_type": "code",
   "execution_count": 11,
   "metadata": {},
   "outputs": [
    {
     "data": {
      "text/plain": [
       "citation\n",
       "464 U.S. 417        60\n",
       "78 L. Ed. 2d 574    52\n",
       "17 U.S.C. § 101     34\n",
       "471 U.S. 539        28\n",
       "104 S. Ct. 774      13\n",
       "Name: count, dtype: int64"
      ]
     },
     "execution_count": 11,
     "metadata": {},
     "output_type": "execute_result"
    }
   ],
   "source": [
    "context[\"citation\"].value_counts()"
   ]
  },
  {
   "cell_type": "code",
   "execution_count": 12,
   "metadata": {},
   "outputs": [],
   "source": [
    "distinct_context = eliminate_near_duplicates_grouped(context, \"context\", group_columns=[\"id\", \"citation\"], threshold=0.75)\n",
    "concatenated_context = distinct_context.sort_values(by=['start_char']).groupby(['citation', 'id'])['context'].apply(' '.join).reset_index()"
   ]
  },
  {
   "cell_type": "code",
   "execution_count": 13,
   "metadata": {},
   "outputs": [
    {
     "name": "stdout",
     "output_type": "stream",
     "text": [
      "shape: (32, 3)\n"
     ]
    },
    {
     "data": {
      "text/html": [
       "<div>\n",
       "<style scoped>\n",
       "    .dataframe tbody tr th:only-of-type {\n",
       "        vertical-align: middle;\n",
       "    }\n",
       "\n",
       "    .dataframe tbody tr th {\n",
       "        vertical-align: top;\n",
       "    }\n",
       "\n",
       "    .dataframe thead th {\n",
       "        text-align: right;\n",
       "    }\n",
       "</style>\n",
       "<table border=\"1\" class=\"dataframe\">\n",
       "  <thead>\n",
       "    <tr style=\"text-align: right;\">\n",
       "      <th></th>\n",
       "      <th>citation</th>\n",
       "      <th>id</th>\n",
       "      <th>context</th>\n",
       "    </tr>\n",
       "  </thead>\n",
       "  <tbody>\n",
       "    <tr>\n",
       "      <th>0</th>\n",
       "      <td>104 S. Ct. 774</td>\n",
       "      <td>1451062</td>\n",
       "      <td>See  Wainwright Sec. v. Wall Street Transcript...</td>\n",
       "    </tr>\n",
       "    <tr>\n",
       "      <th>1</th>\n",
       "      <td>104 S. Ct. 774</td>\n",
       "      <td>3337641</td>\n",
       "      <td>The Claims Court’s predecessor, under the juri...</td>\n",
       "    </tr>\n",
       "    <tr>\n",
       "      <th>2</th>\n",
       "      <td>104 S. Ct. 774</td>\n",
       "      <td>7396224</td>\n",
       "      <td>The court held that the commercial nature of t...</td>\n",
       "    </tr>\n",
       "    <tr>\n",
       "      <th>3</th>\n",
       "      <td>17 U.S.C. § 101</td>\n",
       "      <td>633900</td>\n",
       "      <td>3 Nimmer § 13.05[A], p. 13-81. The record supp...</td>\n",
       "    </tr>\n",
       "    <tr>\n",
       "      <th>4</th>\n",
       "      <td>17 U.S.C. § 101</td>\n",
       "      <td>1451062</td>\n",
       "      <td>On the same day, the district court granted an...</td>\n",
       "    </tr>\n",
       "  </tbody>\n",
       "</table>\n",
       "</div>"
      ],
      "text/plain": [
       "          citation       id                                            context\n",
       "0   104 S. Ct. 774  1451062  See  Wainwright Sec. v. Wall Street Transcript...\n",
       "1   104 S. Ct. 774  3337641  The Claims Court’s predecessor, under the juri...\n",
       "2   104 S. Ct. 774  7396224  The court held that the commercial nature of t...\n",
       "3  17 U.S.C. § 101   633900  3 Nimmer § 13.05[A], p. 13-81. The record supp...\n",
       "4  17 U.S.C. § 101  1451062  On the same day, the district court granted an..."
      ]
     },
     "execution_count": 13,
     "metadata": {},
     "output_type": "execute_result"
    }
   ],
   "source": [
    "print(f\"shape: {concatenated_context.shape}\")\n",
    "concatenated_context.head()"
   ]
  },
  {
   "cell_type": "code",
   "execution_count": 14,
   "metadata": {},
   "outputs": [],
   "source": [
    "text = concatenated_context.head(1)[\"context\"].tolist()[0]"
   ]
  },
  {
   "cell_type": "code",
   "execution_count": 15,
   "metadata": {},
   "outputs": [],
   "source": [
    "html_text = markdown(text)"
   ]
  },
  {
   "cell_type": "code",
   "execution_count": 16,
   "metadata": {},
   "outputs": [
    {
     "name": "stdout",
     "output_type": "stream",
     "text": [
      "Report written to ./outputs/20240218-d5fe8.pdf\n"
     ]
    }
   ],
   "source": [
    "report = await write_md_to_pdf(html_text)"
   ]
  },
  {
   "cell_type": "code",
   "execution_count": 18,
   "metadata": {},
   "outputs": [
    {
     "data": {
      "text/plain": [
       "'./outputs/20240218-d5fe8.pdf'"
      ]
     },
     "execution_count": 18,
     "metadata": {},
     "output_type": "execute_result"
    }
   ],
   "source": [
    "report"
   ]
  },
  {
   "cell_type": "code",
   "execution_count": 51,
   "metadata": {},
   "outputs": [],
   "source": [
    "from typing import List, Literal, Optional\n",
    "from pydantic import BaseModel, Field\n",
    "from tenacity import AsyncRetrying, stop_after_attempt, wait_fixed\n",
    "\n",
    "class LegalCitation(BaseModel):\n",
    "    \"\"\"Information about a legal ruling and its application.\"\"\"\n",
    "    \n",
    "    citation: str = Field(\n",
    "        ...,\n",
    "        description=\"The Citation specified by the user.\",\n",
    "    )\n",
    "    question_summary: str = Field(\n",
    "        ...,\n",
    "        description=\"A concise summary of the underlying legal question.\",\n",
    "    )\n",
    "    rule: str = Field(\n",
    "        ...,\n",
    "        description=\"A rule, argument, decision, or otherwise legal principal the citation is begin associated with.\",\n",
    "    )\n",
    "    application: Optional[str] = Field(\n",
    "        None,\n",
    "        description=\"Application, or potential application of the rule to the question.\"\n",
    "    )"
   ]
  },
  {
   "cell_type": "code",
   "execution_count": 53,
   "metadata": {},
   "outputs": [],
   "source": [
    "import openai\n",
    "import instructor\n",
    "\n",
    "client = instructor.patch(openai.AsyncOpenAI())"
   ]
  },
  {
   "cell_type": "code",
   "execution_count": 60,
   "metadata": {},
   "outputs": [],
   "source": [
    "client = instructor.patch(openai.AsyncOpenAI())\n",
    "\n",
    "async def analyze_citations(citation, context):\n",
    "    return await client.chat.completions.create(\n",
    "        model=\"gpt-4-turbo-preview\",\n",
    "        response_model=LegalCitation,\n",
    "        max_retries=AsyncRetrying(\n",
    "        stop=stop_after_attempt(3),\n",
    "        wait=wait_fixed(1),\n",
    "    ),\n",
    "        messages=[\n",
    "            {\n",
    "                \"role\": \"system\",\n",
    "                \"content\": \"Your role is to extract information about a legal citation using the context provided and without prior knowledge.\",\n",
    "            },\n",
    "            {\"role\": \"user\", \"content\": f\"Your task focuses on citation: **{citation}**\"},\n",
    "            {\"role\": \"user\", \"content\": f\"Here is the context: {context}\"}\n",
    "        ]\n",
    "    )"
   ]
  },
  {
   "cell_type": "code",
   "execution_count": 57,
   "metadata": {},
   "outputs": [],
   "source": [
    "import asyncio\n",
    "import nest_asyncio\n",
    "nest_asyncio.apply()"
   ]
  },
  {
   "cell_type": "code",
   "execution_count": 61,
   "metadata": {},
   "outputs": [
    {
     "name": "stderr",
     "output_type": "stream",
     "text": [
      "100%|██████████| 39/39 [04:05<00:00,  6.30s/it]\n"
     ]
    }
   ],
   "source": [
    "import nest_asyncio\n",
    "nest_asyncio.apply()\n",
    "from tqdm.asyncio import tqdm\n",
    "\n",
    "async def process_citations_with_progress(concatenated_context):\n",
    "    results = []\n",
    "    for row in tqdm(concatenated_context.itertuples(), total=len(concatenated_context)):\n",
    "        result = await analyze_citations(row.citation, row.context)\n",
    "        results.append(result)\n",
    "    return results\n",
    "\n",
    "all_data = await process_citations_with_progress(concatenated_context)"
   ]
  },
  {
   "cell_type": "code",
   "execution_count": 72,
   "metadata": {},
   "outputs": [
    {
     "data": {
      "text/html": [
       "<div>\n",
       "<style scoped>\n",
       "    .dataframe tbody tr th:only-of-type {\n",
       "        vertical-align: middle;\n",
       "    }\n",
       "\n",
       "    .dataframe tbody tr th {\n",
       "        vertical-align: top;\n",
       "    }\n",
       "\n",
       "    .dataframe thead th {\n",
       "        text-align: right;\n",
       "    }\n",
       "</style>\n",
       "<table border=\"1\" class=\"dataframe\">\n",
       "  <thead>\n",
       "    <tr style=\"text-align: right;\">\n",
       "      <th></th>\n",
       "      <th>citation</th>\n",
       "      <th>question_summary</th>\n",
       "      <th>rule</th>\n",
       "      <th>application</th>\n",
       "    </tr>\n",
       "  </thead>\n",
       "  <tbody>\n",
       "    <tr>\n",
       "      <th>0</th>\n",
       "      <td>104 S. Ct. 774</td>\n",
       "      <td>Understanding the legal principle established ...</td>\n",
       "      <td>The case addressed the circumstances under whi...</td>\n",
       "      <td>None</td>\n",
       "    </tr>\n",
       "    <tr>\n",
       "      <th>1</th>\n",
       "      <td>104 S. Ct. 774</td>\n",
       "      <td>Can a flea market owner be held liable for cop...</td>\n",
       "      <td>A manufacturer or operator cannot be held liab...</td>\n",
       "      <td>In this context, the citation from Sony Corp. ...</td>\n",
       "    </tr>\n",
       "    <tr>\n",
       "      <th>2</th>\n",
       "      <td>104 S. Ct. 774</td>\n",
       "      <td>What constitutes contributory copyright infrin...</td>\n",
       "      <td>A technology provider is not liable for copyri...</td>\n",
       "      <td>None</td>\n",
       "    </tr>\n",
       "    <tr>\n",
       "      <th>3</th>\n",
       "      <td>239 F.3d 1004</td>\n",
       "      <td>Does the Digital Millennium Copyright Act (DMC...</td>\n",
       "      <td>The Digital Millennium Copyright Act (DMCA) pr...</td>\n",
       "      <td>None</td>\n",
       "    </tr>\n",
       "    <tr>\n",
       "      <th>4</th>\n",
       "      <td>239 F.3d 1004</td>\n",
       "      <td>Copyright infringement by downloading and dist...</td>\n",
       "      <td>In the context of copyright law, downloading f...</td>\n",
       "      <td>None</td>\n",
       "    </tr>\n",
       "  </tbody>\n",
       "</table>\n",
       "</div>"
      ],
      "text/plain": [
       "         citation                                   question_summary  \\\n",
       "0  104 S. Ct. 774  Understanding the legal principle established ...   \n",
       "1  104 S. Ct. 774  Can a flea market owner be held liable for cop...   \n",
       "2  104 S. Ct. 774  What constitutes contributory copyright infrin...   \n",
       "3   239 F.3d 1004  Does the Digital Millennium Copyright Act (DMC...   \n",
       "4   239 F.3d 1004  Copyright infringement by downloading and dist...   \n",
       "\n",
       "                                                rule  \\\n",
       "0  The case addressed the circumstances under whi...   \n",
       "1  A manufacturer or operator cannot be held liab...   \n",
       "2  A technology provider is not liable for copyri...   \n",
       "3  The Digital Millennium Copyright Act (DMCA) pr...   \n",
       "4  In the context of copyright law, downloading f...   \n",
       "\n",
       "                                         application  \n",
       "0                                               None  \n",
       "1  In this context, the citation from Sony Corp. ...  \n",
       "2                                               None  \n",
       "3                                               None  \n",
       "4                                               None  "
      ]
     },
     "execution_count": 72,
     "metadata": {},
     "output_type": "execute_result"
    }
   ],
   "source": [
    "data_dicts = [model.model_dump() for model in all_data]\n",
    "df_res = pd.DataFrame(data_dicts)\n",
    "df_res.head()"
   ]
  },
  {
   "cell_type": "code",
   "execution_count": 138,
   "metadata": {},
   "outputs": [
    {
     "data": {
      "text/markdown": [
       "| citation             | question_summary                                                                                                                                                                     | rule                                                                                                                                                                                                                                                                                                                                                                                                                                                                                                                                                                                                                      | application                                                                                                                                                                                                                                                                                                                                                                                                                                                                                                                                                                                                                                                                                       |\n",
       "|:---------------------|:-------------------------------------------------------------------------------------------------------------------------------------------------------------------------------------|:--------------------------------------------------------------------------------------------------------------------------------------------------------------------------------------------------------------------------------------------------------------------------------------------------------------------------------------------------------------------------------------------------------------------------------------------------------------------------------------------------------------------------------------------------------------------------------------------------------------------------|:--------------------------------------------------------------------------------------------------------------------------------------------------------------------------------------------------------------------------------------------------------------------------------------------------------------------------------------------------------------------------------------------------------------------------------------------------------------------------------------------------------------------------------------------------------------------------------------------------------------------------------------------------------------------------------------------------|\n",
       "| 104 S. Ct. 774       | Can a flea market owner be held liable for copyright infringement by vendors?                                                                                                        | A manufacturer or operator cannot be held liable for copyright infringement merely because their product or service can be used to infringe copyrights, absent specific information that identifies infringing activity.                                                                                                                                                                                                                                                                                                                                                                                                  | In this context, the citation from Sony Corp. of America v. Universal City Studios, Inc. supports the principle that a flea market owner (like the video cassette recorder manufacturer in Sony) cannot be held liable for contributory copyright infringement simply because the structure of the flea market allows for the possibility that a vendor might sell infringing goods. However, this does not eliminate the possibility of liability if the flea market owner has constructive knowledge of the infringement based on specific facts.                                                                                                                                               |\n",
       "| 239 F.3d 1004        | Columbus Farmers Market's defense against copyright infringement claims                                                                                                              | Third party direct liability as an element of secondary liability                                                                                                                                                                                                                                                                                                                                                                                                                                                                                                                                                         | In the context of Columbus Farmers Market's argument, this legal ruling is relevant because it establishes that every case of contributory or vicarious liability necessarily involves the defendant being held accountable for the direct conduct of another. This ruling highlights the legal foundation for holding defendants responsible for the infringement actions of third parties, refuting the defense that damages were solely the result of third party actions over which the defendant had no knowledge, authority, or control.                                                                                                                                                    |\n",
       "| 259 F. Supp. 2d 1029 | Does the sale of software that can be used for infringing activities constitute contributory copyright infringement?                                                                 | The sale of a product that is capable of substantial noninfringing uses does not automatically result in contributory infringement, even if the product might be used for illicit purposes. The court distinguished this principle from sole reliance on the product's potential for lawful use, suggesting that liability for contributory infringement requires actual knowledge of specific acts of infringement when the infringer is in a position to prevent those acts.                                                                                                                                            | In the case of Metro-Goldwyn-Mayer Studios, Inc. v. Grokster, Ltd., the district court concluded that as long as the software could be used for substantial noninfringing purposes, and there was no evidence of the defendants' timely knowledge of specific acts of infringement that they could prevent, they could not be found liable for contributory copyright infringement. This decision was based on the principle that the potential for lawful use of a product does not suffice to establish contributory infringement liability without actual knowledge of specific acts of infringement being demonstrated.                                                                       |\n",
       "| 259 F. Supp. 2d 1029 | Does the law permit copyright infringing defendants to seek contribution from third parties?                                                                                         | Copyright infringing defendants cannot assert contribution against third parties for copyright infringement. Neither the Copyright Act nor federal common law recognize a copyright in-fringer’s right to contribution. Third-party direct liability is an element of an allegation of secondary liability, which involves either contributory or vicarious liability. Defendants can be held responsible for the infringement of third parties if they had knowledge of and materially contributed to that party’s infringing activity or had the ability to supervise and control it and financially benefited from it. | In the case of Metro-Goldwyn-Mayer Studios, Inc. v. Grokster, Ltd., it was clarified that every case of contributory or vicarious liability necessarily involves the defendant being held to answer for the direct conduct of another. The court elaborated on the aspects of contributory and vicarious liability, indicating that defendants cannot seek contribution from third parties for acts of copyright infringement. The defendants in this context are held liable for the actions of third parties (i.e., vendors) because they either had knowledge and materially contributed to the infringing activity or had the ability to supervise, control, and financially benefit from it. |\n",
       "| 259 F. Supp. 2d 1029 | Does the decision to not hold Grokster contributorily liable for copyright infringement by users of its P2P file sharing program align with Verizon's interpretation of the statute? | The court held Grokster not contributorily liable for copyright infringement by users of its P2P file sharing program.                                                                                                                                                                                                                                                                                                                                                                                                                                                                                                    | Because the court agreed with Verizon's interpretation of the statute, which presumably leaned towards not holding service providers or platforms like Grokster contributorily liable under the circumstances described, the court reversed the district court's orders enforcing the subpoenas. This decision aligns with Verizon's stance and supports a broader interpretation that service platforms cannot be held contributorily liable for the actions of their users in such cases of copyright infringement, pending specific conditions and interpretations of the law.                                                                                                                 |\n",
       "| 259 F.Supp.2d 1029   | Does actual knowledge of specific instances of infringement satisfy the 'knowledge' prong of contributory liability?                                                                 | The question of whether actual knowledge of specific instances of infringement is required for contributory liability focuses on the timing of the defendants' knowledge rather than the extent of knowledge possessed. For liability to attach, the defendant must have knowledge of direct infringement at the time they materially contribute to that infringement.                                                                                                                                                                                                                                                    | Despite Sinnott's reliance on Grokster to argue that actual knowledge of specific instances of infringement is required, the Grokster decision does not affirm this requirement for Sinnott's case. Instead, it emphasizes the timing of the knowledge in relation to the contribution to infringement, indicating that knowledge at the time of contribution is critical for establishing secondary liability.                                                                                                                                                                                                                                                                                   |\n",
       "| 334 F.3d 643         | Inducement liability and DMCA safe harbors compatibility                                                                                                                             | The DMCA does not exempt from protection any mode of copyright liability, including under the doctrine of inducement. The requirements applied for all DMCA safe harbors do not inherently conflict with inducement liability.                                                                                                                                                                                                                                                                                                                                                                                            | A service provider could potentially be liable for inducement but still qualify for protection under DMCA safe harbors if they enforce a policy of removing repeat infringers. This suggests that inducement liability and DMCA safe harbor requirements can coexist without inherent contradiction.                                                                                                                                                                                                                                                                                                                                                                                              |\n",
       "| 334 F.3d 643         | Defendants' liability regarding third party direct infringers                                                                                                                        | Defendants are legally responsible for the infringement of third parties when they have knowledge of and materially contribute to that third party’s infringing activity (contributory infringement), or when they have the ability to supervise and control it and financially benefit from it (vicarious liability).                                                                                                                                                                                                                                                                                                    | The court in the case cited reinforces that plaintiffs need not sue the numerous third party direct infringers in order to bring a cause of action against defendants. Additionally, the defendants may not seek contribution from those third party direct infringers.                                                                                                                                                                                                                                                                                                                                                                                                                           |\n",
       "| 464 U.S. 417         | Does the citation support the issuance of a § 512(h) subpoena to an ISP acting as a conduit for P2P file sharing?                                                                    | The court referenced Sony Corp. v. Universal City Studios, Inc., to emphasize that it's not the courts' role to rewrite the DMCA for unforeseen technologies, but rather Congress's role to address such issues.                                                                                                                                                                                                                                                                                                                                                                                                          | In the context given, the court deferred to the legislative branch for addressing the complexities brought about by new technologies like P2P file sharing, asserting that it would be inappropriate for the court to interpret or amend the DMCA in response to these technological advancements. This directly impacts the question of the legality of issuing § 512(h) subpoenas to ISPs in P2P contexts, indicating that such a determination is for Congress to make, not the courts.                                                                                                                                                                                                        |"
      ],
      "text/plain": [
       "<IPython.core.display.Markdown object>"
      ]
     },
     "execution_count": 138,
     "metadata": {},
     "output_type": "execute_result"
    }
   ],
   "source": [
    "data_dicts = [model.model_dump() for model in all_data]\n",
    "df_res = pd.DataFrame(data_dicts)\n",
    "\n",
    "Markdown(df_res[~df_res[\"application\"].isna()].to_markdown(index=False))"
   ]
  },
  {
   "cell_type": "code",
   "execution_count": 71,
   "metadata": {},
   "outputs": [
    {
     "data": {
      "text/plain": [
       "{'citation': '104 S. Ct. 774',\n",
       " 'question_summary': 'Understanding the legal principle established by Sony Corp. of America v. Universal City Studios, Inc.',\n",
       " 'rule': \"The case addressed the circumstances under which secondary liability for copyright infringement could arise from the distribution of a product capable of copying copyrighted material, specifically considering a product distributor's intent and encouragement of the product's use for infringement.\",\n",
       " 'application': None}"
      ]
     },
     "execution_count": 71,
     "metadata": {},
     "output_type": "execute_result"
    }
   ],
   "source": [
    "all_data[0].model_dump()"
   ]
  },
  {
   "cell_type": "code",
   "execution_count": 121,
   "metadata": {},
   "outputs": [],
   "source": [
    "import json\n",
    "from typing import List, Type, TypeVar\n",
    "from pydantic import BaseModel\n",
    "\n",
    "def save_models_to_json(models: List[BaseModel], file_path: str) -> None:\n",
    "    \"\"\"\n",
    "    Saves a list of Pydantic models to a JSON file.\n",
    "\n",
    "    Args:\n",
    "        models: A list of Pydantic model instances.\n",
    "        file_path: The path to the JSON file where the data will be saved.\n",
    "\n",
    "    Returns:\n",
    "        None\n",
    "    \"\"\"\n",
    "    with open(file_path, 'w') as f:\n",
    "        # Convert list of models to list of dictionaries\n",
    "        data = [model.model_dump() for model in models]\n",
    "        json.dump(data, f, indent=4)\n",
    "        \n",
    "T = TypeVar('T', bound=BaseModel)\n",
    "\n",
    "def load_models_from_json(model_class: Type[T], file_path: str) -> List[T]:\n",
    "    \"\"\"\n",
    "    Loads JSON data from a file and converts it into a list of Pydantic models.\n",
    "\n",
    "    Args:\n",
    "        model_class: The Pydantic model class to which the JSON objects will be converted.\n",
    "        file_path: The path to the JSON file from which the data will be loaded.\n",
    "\n",
    "    Returns:\n",
    "        A list of Pydantic model instances.\n",
    "    \"\"\"\n",
    "    with open(file_path, 'r') as f:\n",
    "        data = json.load(f)\n",
    "        models = [model_class.model_validate(item) for item in data]\n",
    "    return models       \n"
   ]
  },
  {
   "cell_type": "code",
   "execution_count": 122,
   "metadata": {},
   "outputs": [],
   "source": [
    "save_models_to_json(all_data, 'models.json')"
   ]
  },
  {
   "cell_type": "code",
   "execution_count": 133,
   "metadata": {},
   "outputs": [
    {
     "name": "stdout",
     "output_type": "stream",
     "text": [
      "{'application': None,\n",
      " 'citation': '104 S. Ct. 774',\n",
      " 'question_summary': 'Understanding the legal principle established by Sony '\n",
      "                     'Corp. of America v. Universal City Studios, Inc.',\n",
      " 'rule': 'The case addressed the circumstances under which secondary liability '\n",
      "         'for copyright infringement could arise from the distribution of a '\n",
      "         'product capable of copying copyrighted material, specifically '\n",
      "         \"considering a product distributor's intent and encouragement of the \"\n",
      "         \"product's use for infringement.\"}\n"
     ]
    }
   ],
   "source": [
    "from pprint import pprint\n",
    "\n",
    "models = load_models_from_json(LegalCitation, 'models.json')\n",
    "pprint(models[0].model_dump())"
   ]
  },
  {
   "cell_type": "code",
   "execution_count": 157,
   "metadata": {},
   "outputs": [
    {
     "data": {
      "text/markdown": [
       "| citation             | question_summary                                                                                                                                                                                                                      | rule                                                                                                                                                                                                                                                                                                                                                                                                                                                                                                                                                                                                                      |\n",
       "|:---------------------|:--------------------------------------------------------------------------------------------------------------------------------------------------------------------------------------------------------------------------------------|:--------------------------------------------------------------------------------------------------------------------------------------------------------------------------------------------------------------------------------------------------------------------------------------------------------------------------------------------------------------------------------------------------------------------------------------------------------------------------------------------------------------------------------------------------------------------------------------------------------------------------|\n",
       "| 104 S. Ct. 774       | Understanding the legal principle established by Sony Corp. of America v. Universal City Studios, Inc.                                                                                                                                | The case addressed the circumstances under which secondary liability for copyright infringement could arise from the distribution of a product capable of copying copyrighted material, specifically considering a product distributor's intent and encouragement of the product's use for infringement.                                                                                                                                                                                                                                                                                                                  |\n",
       "| 104 S. Ct. 774       | Can a flea market owner be held liable for copyright infringement by vendors?                                                                                                                                                         | A manufacturer or operator cannot be held liable for copyright infringement merely because their product or service can be used to infringe copyrights, absent specific information that identifies infringing activity.                                                                                                                                                                                                                                                                                                                                                                                                  |\n",
       "| 104 S. Ct. 774       | What constitutes contributory copyright infringement?                                                                                                                                                                                 | A technology provider is not liable for copyright infringement committed by end users if the product sold is widely used for legitimate, unobjectionable purposes, or is merely capable of substantial noninfringing uses.                                                                                                                                                                                                                                                                                                                                                                                                |\n",
       "| 239 F.3d 1004        | Does the Digital Millennium Copyright Act (DMCA) provide safe harbor protection to individuals or entities that have been found liable for inducing copyright infringement?                                                           | The Digital Millennium Copyright Act (DMCA) provides safe harbor protection to individuals or entities even if they have been found liable for inducing copyright infringement, under certain circumstances.                                                                                                                                                                                                                                                                                                                                                                                                              |\n",
       "| 239 F.3d 1004        | Copyright infringement by downloading and distributing copyright-protected materials                                                                                                                                                  | In the context of copyright law, downloading files containing copyrighted material without authorization violates the copyright owner's reproduction rights, and making those files available for others to download infringes upon the owner's exclusive right to distribute the material.                                                                                                                                                                                                                                                                                                                               |\n",
       "| 239 F.3d 1004        | Does Section 512(h) of the Digital Millennium Copyright Act authorize the issuance of a subpoena to an Internet Service Provider acting solely as a conduit for communications to identify users suspected of copyright infringement? | The court ruled in favor of Verizon's interpretation of the statute, therefore reversing the district court's enforcement of the subpoenas without addressing the constitutional arguments.                                                                                                                                                                                                                                                                                                                                                                                                                               |\n",
       "| 239 F.3d 1004        | Do users who download files containing copyrighted music via peer-to-peer networks infringe on the copyright holder’s reproduction rights?                                                                                            | Napster users who download files containing copyrighted music violate plaintiffs’ reproduction rights.                                                                                                                                                                                                                                                                                                                                                                                                                                                                                                                    |\n",
       "| 239 F.3d 1004        | Does inducement to infringe copyrights lead to irreparable harm and undermine the control of intellectual property?                                                                                                                   | The court rejected the request for compulsory royalties as opposed to injunctive relief because Plaintiffs would lose the power to control their intellectual property. The inducement of infringement greatly erodes the ability of copyright owners to enforce their exclusive rights and does not offer a realistic mechanism for collecting statutory damages for all subsequent infringements occurring outside of the system and software in use.                                                                                                                                                                   |\n",
       "| 239 F.3d 1004        | What is the significance of the ruling in A&M Records, Inc. v. Napster, Inc., with regard to contributory copyright infringement and the requirement for knowledge of specific infringing files?                                      | Evidence of actual knowledge of specific acts of infringement is required to hold a computer system operator liable for contributory copyright infringement.                                                                                                                                                                                                                                                                                                                                                                                                                                                              |\n",
       "| 239 F.3d 1004        | Is building a file-sharing network to foster a user base for another service, considering the network enables copyrighted material to be shared, legally permissible?                                                                 | Analysis of contributory copyright infringement with respect to the operation of a file-sharing network.                                                                                                                                                                                                                                                                                                                                                                                                                                                                                                                  |\n",
       "| 239 F.3d 1004        | Columbus Farmers Market's defense against copyright infringement claims                                                                                                                                                               | Third party direct liability as an element of secondary liability                                                                                                                                                                                                                                                                                                                                                                                                                                                                                                                                                         |\n",
       "| 239 F.3d 1004        | Does 17 U.S.C. § 512(h) authorize the issuance of a subpoena to an ISP acting solely as a conduit for communications to identify alleged copyright infringers without an underlying case or controversy?                              | Section 512(h) does not authorize the issuance of a subpoena to an ISP acting solely as a conduit for communications the content of which is determined by others. The decision of the district court enforcing the subpoenas was reversed.                                                                                                                                                                                                                                                                                                                                                                               |\n",
       "| 239 F.3d 1004        | Explanation of the Napster system                                                                                                                                                                                                     | Provides a detailed description of the Napster peer-to-peer file-sharing system                                                                                                                                                                                                                                                                                                                                                                                                                                                                                                                                           |\n",
       "| 239 F.3d 1004        | Do MFM vendors directly infringe copyright by selling unauthorized copies of copyrighted sound recordings?                                                                                                                            | Establishing direct copyright infringement by vendors is a prerequisite to both the contributory and vicarious copyright infringement claims.                                                                                                                                                                                                                                                                                                                                                                                                                                                                             |\n",
       "| 239 F.3d 1004        | Can downloading and uploading copyrighted music through a peer-to-peer service constitute direct infringement?                                                                                                                        | Downloading and uploading copyrighted material are infringements of copyright law.                                                                                                                                                                                                                                                                                                                                                                                                                                                                                                                                        |\n",
       "| 259 F. Supp. 2d 1029 | Does the sale of software that can be used for infringing activities constitute contributory copyright infringement?                                                                                                                  | The sale of a product that is capable of substantial noninfringing uses does not automatically result in contributory infringement, even if the product might be used for illicit purposes. The court distinguished this principle from sole reliance on the product's potential for lawful use, suggesting that liability for contributory infringement requires actual knowledge of specific acts of infringement when the infringer is in a position to prevent those acts.                                                                                                                                            |\n",
       "| 259 F. Supp. 2d 1029 | What constitutes copyright infringement with regard to downloading copyrighted media files over the internet?                                                                                                                         | Downloading copyrighted media files infringes the copyright holder's rights of reproduction and constitutes direct copyright infringement.                                                                                                                                                                                                                                                                                                                                                                                                                                                                                |\n",
       "| 259 F. Supp. 2d 1029 | What was the legal principle established in Metro-Goldwyn-Mayer Studios, Inc. v. Grokster, Ltd.?                                                                                                                                      | The court held that Grokster was not contributorily liable for copyright infringement by users of its P2P file sharing program.                                                                                                                                                                                                                                                                                                                                                                                                                                                                                           |\n",
       "| 259 F. Supp. 2d 1029 | Does downloading copyrighted music without authorization constitute an unlawful reproduction of the work?                                                                                                                             | Downloading copyrighted sound recordings without the authorization of the copyright holder constitutes an unlawful reproduction of the work in violation of § 106(1) of the Copyright Act.                                                                                                                                                                                                                                                                                                                                                                                                                                |\n",
       "| 259 F. Supp. 2d 1029 | Does refusal to provide certain information and allowing other networks to offer unfiltered software constitute waiver of the right to a permanent injunction?                                                                        | Waiver is the intentional relinquishment of a known right with knowledge of its existence and the intent to relinquish it. Waiver of copyright occurs only with the intent to surrender rights.                                                                                                                                                                                                                                                                                                                                                                                                                           |\n",
       "| 259 F. Supp. 2d 1029 | What was the legal issue in the case where the court granted summary judgment for Defendants StreamCast and Grokster?                                                                                                                 | The legal issue revolved around whether Defendants’ file-sharing software contributed to massive copyright infringement of copyrighted works owned by Plaintiffs.                                                                                                                                                                                                                                                                                                                                                                                                                                                         |\n",
       "| 259 F. Supp. 2d 1029 | Does the law permit copyright infringing defendants to seek contribution from third parties?                                                                                                                                          | Copyright infringing defendants cannot assert contribution against third parties for copyright infringement. Neither the Copyright Act nor federal common law recognize a copyright in-fringer’s right to contribution. Third-party direct liability is an element of an allegation of secondary liability, which involves either contributory or vicarious liability. Defendants can be held responsible for the infringement of third parties if they had knowledge of and materially contributed to that party’s infringing activity or had the ability to supervise and control it and financially benefited from it. |\n",
       "| 259 F. Supp. 2d 1029 | Does the decision to not hold Grokster contributorily liable for copyright infringement by users of its P2P file sharing program align with Verizon's interpretation of the statute?                                                  | The court held Grokster not contributorily liable for copyright infringement by users of its P2P file sharing program.                                                                                                                                                                                                                                                                                                                                                                                                                                                                                                    |\n",
       "| 259 F. Supp. 2d 1029 | Is file-sharing software distribution that facilitates copyright material exchange subject to vicarious and contributory copyright infringement?                                                                                      | Metro-Goldwyn-Mayer Studios, Inc. v. Grokster, Ltd. determined that distributors of peer-to-peer file-sharing software might be liable for copyright infringement if the software is predominantly used to exchange copyrighted material, pursuant to 17 U.S.C. §§ 501-13.                                                                                                                                                                                                                                                                                                                                                |\n",
       "| 259 F.Supp.2d 1029   | Does actual knowledge of specific instances of infringement satisfy the 'knowledge' prong of contributory liability?                                                                                                                  | The question of whether actual knowledge of specific instances of infringement is required for contributory liability focuses on the timing of the defendants' knowledge rather than the extent of knowledge possessed. For liability to attach, the defendant must have knowledge of direct infringement at the time they materially contribute to that infringement.                                                                                                                                                                                                                                                    |\n",
       "| 259 F. Supp. 2d 1029 | What does the ruling in Metro-Goldwyn-Mayer Studios, Inc. v. Grokster, Ltd. indicate about liability for file sharing?                                                                                                                | The district court in Grokster ruled that if either defendant ceased operations and deactivated all computers they control, users of their products would still be able to continue sharing files with little or no interruption.                                                                                                                                                                                                                                                                                                                                                                                         |\n",
       "| 334 F.3d 643         | Inducement liability and DMCA safe harbors compatibility                                                                                                                                                                              | The DMCA does not exempt from protection any mode of copyright liability, including under the doctrine of inducement. The requirements applied for all DMCA safe harbors do not inherently conflict with inducement liability.                                                                                                                                                                                                                                                                                                                                                                                            |\n",
       "| 334 F.3d 643         | Can imposing liability on software distributors for users' infringement limit technological innovation?                                                                                                                               | Secondary liability for contributory or vicarious infringement                                                                                                                                                                                                                                                                                                                                                                                                                                                                                                                                                            |\n",
       "| 334 F.3d 643         | Defendants' liability regarding third party direct infringers                                                                                                                                                                         | Defendants are legally responsible for the infringement of third parties when they have knowledge of and materially contribute to that third party’s infringing activity (contributory infringement), or when they have the ability to supervise and control it and financially benefit from it (vicarious liability).                                                                                                                                                                                                                                                                                                    |\n",
       "| 334 F.3d 643         | How should the standard of 'substantial noninfringing use' be interpreted?                                                                                                                                                            | The Seventh Circuit interpreted the 'substantial noninfringing use' standard to include the consideration of how 'probable' the noninfringing uses of a product are.                                                                                                                                                                                                                                                                                                                                                                                                                                                      |\n",
       "| 334 F.3d 643         | What is the concept of willful blindness in copyright law and its implications for contributory liability?                                                                                                                            | Willful blindness is knowledge, in copyright law ... as it is in the law generally.                                                                                                                                                                                                                                                                                                                                                                                                                                                                                                                                       |\n",
       "| 464 U.S. 417         | How did the Supreme Court address the issue of secondary copyright infringement in the context of new technologies?                                                                                                                   | Sony considered whether secondary liability for infringement could arise solely from the distribution of a commercial product capable of copying copyrighted material, focusing on the Betamax video tape recorder made by Sony.                                                                                                                                                                                                                                                                                                                                                                                          |\n",
       "| 464 U.S. 417         | Does the citation support the issuance of a § 512(h) subpoena to an ISP acting as a conduit for P2P file sharing?                                                                                                                     | The court referenced Sony Corp. v. Universal City Studios, Inc., to emphasize that it's not the courts' role to rewrite the DMCA for unforeseen technologies, but rather Congress's role to address such issues.                                                                                                                                                                                                                                                                                                                                                                                                          |\n",
       "| 464 U.S. 417         | Are the terms \"knowingly materially contributing\", \"enabling\", and \"permitting\" in the injunction against StreamCast relevant or necessary given its applicability to different infringement theories?                                | Sony Corp. v. Universal City Studios, Inc. introduces a standard for evaluating technology capable of substantial noninfringing uses.                                                                                                                                                                                                                                                                                                                                                                                                                                                                                     |\n",
       "| 464 U.S. 417         | How does the concept of contributory liability for copyright infringement based on distribution of a product apply, according to Sony Corp. of America v. Universal City Studios, Inc.?                                               | Distribution of a commercial product capable of substantial non-infringing uses cannot give rise to contributory liability for infringement unless the distributor had actual knowledge of specific instances of infringement and failed to act on that knowledge.                                                                                                                                                                                                                                                                                                                                                        |\n",
       "| 464 U.S. 417         | Does the legislative history support the issuance of a § 512(h) subpoena to an ISP acting as a conduit for P2P file sharing?                                                                                                          | The courts cannot rewrite the DMCA to fit new and unforeseen internet architecture; addressing the plight of copyright holders is the responsibility of Congress.                                                                                                                                                                                                                                                                                                                                                                                                                                                         |\n",
       "| 464 U.S. 417         | Can the sale of video tape recorders give rise to contributory copyright infringement liability?                                                                                                                                      | No, the sale of video tape recorders cannot give rise to contributory copyright infringement liability if the product is capable of substantial or commercially significant noninfringing uses.                                                                                                                                                                                                                                                                                                                                                                                                                           |\n",
       "| 464 U.S. 417         | How is secondary liability for copyright infringement established?                                                                                                                                                                    | Courts have long recognized that in certain circumstances, vicarious or contributory liability for copyright infringement will be imposed.                                                                                                                                                                                                                                                                                                                                                                                                                                                                                |\n",
       "| 464 U.S. 417         | Cox's liability for contributory infringement                                                                                                                                                                                         | the Supreme Court’s decision established that an internet service capable of substantial noninfringing uses should generally be immunized from liability for contributory infringement                                                                                                                                                                                                                                                                                                                                                                                                                                    |"
      ],
      "text/plain": [
       "<IPython.core.display.Markdown object>"
      ]
     },
     "execution_count": 157,
     "metadata": {},
     "output_type": "execute_result"
    }
   ],
   "source": [
    "Markdown(df_res[[\"citation\", \"question_summary\", \"rule\"]].to_markdown(index=False))"
   ]
  },
  {
   "cell_type": "code",
   "execution_count": null,
   "metadata": {},
   "outputs": [],
   "source": []
  }
 ],
 "metadata": {
  "kernelspec": {
   "display_name": ".venv",
   "language": "python",
   "name": "python3"
  },
  "language_info": {
   "codemirror_mode": {
    "name": "ipython",
    "version": 3
   },
   "file_extension": ".py",
   "mimetype": "text/x-python",
   "name": "python",
   "nbconvert_exporter": "python",
   "pygments_lexer": "ipython3",
   "version": "3.10.13"
  }
 },
 "nbformat": 4,
 "nbformat_minor": 2
}
