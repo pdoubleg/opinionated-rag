{
 "cells": [
  {
   "cell_type": "code",
   "execution_count": 1,
   "metadata": {},
   "outputs": [],
   "source": [
    "import os\n",
    "import pandas as pd\n",
    "import numpy as np\n",
    "from IPython.display import Markdown, display\n",
    "import warnings\n",
    "warnings.filterwarnings('ignore')\n",
    "pd.set_option('display.max_columns', None)\n",
    "\n",
    "import eyecite"
   ]
  },
  {
   "cell_type": "code",
   "execution_count": 2,
   "metadata": {},
   "outputs": [],
   "source": [
    "os.chdir(os.path.dirname(os.getcwd()))"
   ]
  },
  {
   "cell_type": "code",
   "execution_count": 3,
   "metadata": {},
   "outputs": [],
   "source": [
    "from src.utils.gen_utils import count_tokens, hash_id\n",
    "from src.utils.pydantic_utils import dataframe_to_documents\n",
    "from src.parsing.parser import ParsingConfig, Parser\n",
    "from src.citations import (\n",
    "    get_citation_context_sents, \n",
    "    get_citation_context_words, \n",
    "    extract_citations_with_context_from_df,\n",
    ")\n",
    "from src.embedding_models.models import ColbertReranker"
   ]
  },
  {
   "cell_type": "code",
   "execution_count": 4,
   "metadata": {},
   "outputs": [],
   "source": [
    "df = pd.read_parquet('./data/forward_citations.parquet')"
   ]
  },
  {
   "cell_type": "code",
   "execution_count": 5,
   "metadata": {},
   "outputs": [],
   "source": [
    "df['tokens'] = df['Complete Text'].apply(lambda x: count_tokens(x))\n",
    "df[\"id\"] = df['Complete Text'].apply(lambda x: hash_id(x))"
   ]
  },
  {
   "cell_type": "code",
   "execution_count": 6,
   "metadata": {},
   "outputs": [
    {
     "data": {
      "text/html": [
       "<div>\n",
       "<style scoped>\n",
       "    .dataframe tbody tr th:only-of-type {\n",
       "        vertical-align: middle;\n",
       "    }\n",
       "\n",
       "    .dataframe tbody tr th {\n",
       "        vertical-align: top;\n",
       "    }\n",
       "\n",
       "    .dataframe thead th {\n",
       "        text-align: right;\n",
       "    }\n",
       "</style>\n",
       "<table border=\"1\" class=\"dataframe\">\n",
       "  <thead>\n",
       "    <tr style=\"text-align: right;\">\n",
       "      <th></th>\n",
       "      <th>Cited Case ID</th>\n",
       "      <th>Cited Case Title</th>\n",
       "      <th>Citing Case ID</th>\n",
       "      <th>Citing Case Title</th>\n",
       "      <th>Relevant Excerpt</th>\n",
       "      <th>Excerpt Contains Negative Sentiment</th>\n",
       "      <th>Complete Text</th>\n",
       "      <th>tokens</th>\n",
       "      <th>id</th>\n",
       "    </tr>\n",
       "  </thead>\n",
       "  <tbody>\n",
       "    <tr>\n",
       "      <th>0</th>\n",
       "      <td>9117679</td>\n",
       "      <td>Metro-Goldwyn-Mayer Studios, Inc. v. Grokster,...</td>\n",
       "      <td>3720681</td>\n",
       "      <td>Recording Industry Ass'n of America, Inc. v. V...</td>\n",
       "      <td>available at  *88 See  Indirect Liability for ...</td>\n",
       "      <td>NO</td>\n",
       "      <td>\\n   351 F.3d 1229 \\n   RECORDING INDUSTRY ASS...</td>\n",
       "      <td>22871</td>\n",
       "      <td>aa155094-1ce9-abce-a85d-f865944d493e</td>\n",
       "    </tr>\n",
       "    <tr>\n",
       "      <th>1</th>\n",
       "      <td>9117679</td>\n",
       "      <td>Metro-Goldwyn-Mayer Studios, Inc. v. Grokster,...</td>\n",
       "      <td>9054205</td>\n",
       "      <td>Recording Industry Ass'n of America, Inc. v. V...</td>\n",
       "      <td>available at  *1232 See  Indirect Liability fo...</td>\n",
       "      <td>The given excerpt does not provide enough info...</td>\n",
       "      <td>\\n   RECORDING INDUSTRY ASSOCIATION OF AMERICA...</td>\n",
       "      <td>22906</td>\n",
       "      <td>2dc86e39-82d9-6a1f-24ff-8cf9c743e8fd</td>\n",
       "    </tr>\n",
       "    <tr>\n",
       "      <th>2</th>\n",
       "      <td>9117679</td>\n",
       "      <td>Metro-Goldwyn-Mayer Studios, Inc. v. Grokster,...</td>\n",
       "      <td>9291681</td>\n",
       "      <td>UMG Recordings, Inc. v. Sinnott, 300 F. Supp. ...</td>\n",
       "      <td>239 F.3d at 1020 Cable/Home Communication Corp...</td>\n",
       "      <td>No</td>\n",
       "      <td>\\n   UMG RECORDINGS, INC.; Arista Records, Inc...</td>\n",
       "      <td>25853</td>\n",
       "      <td>160761cf-e82c-beb6-04c4-dbc48770d9df</td>\n",
       "    </tr>\n",
       "    <tr>\n",
       "      <th>3</th>\n",
       "      <td>9117679</td>\n",
       "      <td>Metro-Goldwyn-Mayer Studios, Inc. v. Grokster,...</td>\n",
       "      <td>9291681</td>\n",
       "      <td>UMG Recordings, Inc. v. Sinnott, 300 F. Supp. ...</td>\n",
       "      <td>259 F.Supp.2d 1029 Grok-ster  Grokster  In  Gr...</td>\n",
       "      <td>No</td>\n",
       "      <td>\\n   UMG RECORDINGS, INC.; Arista Records, Inc...</td>\n",
       "      <td>25853</td>\n",
       "      <td>160761cf-e82c-beb6-04c4-dbc48770d9df</td>\n",
       "    </tr>\n",
       "    <tr>\n",
       "      <th>4</th>\n",
       "      <td>9117679</td>\n",
       "      <td>Metro-Goldwyn-Mayer Studios, Inc. v. Grokster,...</td>\n",
       "      <td>9214758</td>\n",
       "      <td>Metro-Goldwyn-Mayer Studios, Inc. v. Grokster ...</td>\n",
       "      <td>From the advent of the player piano, every new...</td>\n",
       "      <td>No</td>\n",
       "      <td>\\n   METRO-GOLDWYN-MAYER STUDIOS, INC.; Columb...</td>\n",
       "      <td>29264</td>\n",
       "      <td>1ad2f161-d162-fd1a-6dfc-244676f7a67b</td>\n",
       "    </tr>\n",
       "    <tr>\n",
       "      <th>5</th>\n",
       "      <td>9117679</td>\n",
       "      <td>Metro-Goldwyn-Mayer Studios, Inc. v. Grokster,...</td>\n",
       "      <td>9214758</td>\n",
       "      <td>Metro-Goldwyn-Mayer Studios, Inc. v. Grokster ...</td>\n",
       "      <td>Thus, in order to analyze the required element...</td>\n",
       "      <td>No</td>\n",
       "      <td>\\n   METRO-GOLDWYN-MAYER STUDIOS, INC.; Columb...</td>\n",
       "      <td>29264</td>\n",
       "      <td>1ad2f161-d162-fd1a-6dfc-244676f7a67b</td>\n",
       "    </tr>\n",
       "    <tr>\n",
       "      <th>6</th>\n",
       "      <td>9117679</td>\n",
       "      <td>Metro-Goldwyn-Mayer Studios, Inc. v. Grokster,...</td>\n",
       "      <td>9214758</td>\n",
       "      <td>Metro-Goldwyn-Mayer Studios, Inc. v. Grokster ...</td>\n",
       "      <td>See Napster I,   In this case, the district co...</td>\n",
       "      <td>No</td>\n",
       "      <td>\\n   METRO-GOLDWYN-MAYER STUDIOS, INC.; Columb...</td>\n",
       "      <td>29264</td>\n",
       "      <td>1ad2f161-d162-fd1a-6dfc-244676f7a67b</td>\n",
       "    </tr>\n",
       "    <tr>\n",
       "      <th>7</th>\n",
       "      <td>9117679</td>\n",
       "      <td>Metro-Goldwyn-Mayer Studios, Inc. v. Grokster,...</td>\n",
       "      <td>9214758</td>\n",
       "      <td>Metro-Goldwyn-Mayer Studios, Inc. v. Grokster ...</td>\n",
       "      <td>Napster II,  Sony-Betamax  Having determined t...</td>\n",
       "      <td>NO</td>\n",
       "      <td>\\n   METRO-GOLDWYN-MAYER STUDIOS, INC.; Columb...</td>\n",
       "      <td>29264</td>\n",
       "      <td>1ad2f161-d162-fd1a-6dfc-244676f7a67b</td>\n",
       "    </tr>\n",
       "    <tr>\n",
       "      <th>8</th>\n",
       "      <td>9117679</td>\n",
       "      <td>Metro-Goldwyn-Mayer Studios, Inc. v. Grokster,...</td>\n",
       "      <td>9214758</td>\n",
       "      <td>Metro-Goldwyn-Mayer Studios, Inc. v. Grokster ...</td>\n",
       "      <td>*1163 In the context of this case, the softwar...</td>\n",
       "      <td>NO</td>\n",
       "      <td>\\n   METRO-GOLDWYN-MAYER STUDIOS, INC.; Columb...</td>\n",
       "      <td>29264</td>\n",
       "      <td>1ad2f161-d162-fd1a-6dfc-244676f7a67b</td>\n",
       "    </tr>\n",
       "    <tr>\n",
       "      <th>9</th>\n",
       "      <td>9117679</td>\n",
       "      <td>Metro-Goldwyn-Mayer Studios, Inc. v. Grokster,...</td>\n",
       "      <td>9214758</td>\n",
       "      <td>Metro-Goldwyn-Mayer Studios, Inc. v. Grokster ...</td>\n",
       "      <td>907 F.Supp. 1361 Fonovisa, Inc. v. Cherry Auct...</td>\n",
       "      <td>NO</td>\n",
       "      <td>\\n   METRO-GOLDWYN-MAYER STUDIOS, INC.; Columb...</td>\n",
       "      <td>29264</td>\n",
       "      <td>1ad2f161-d162-fd1a-6dfc-244676f7a67b</td>\n",
       "    </tr>\n",
       "  </tbody>\n",
       "</table>\n",
       "</div>"
      ],
      "text/plain": [
       "   Cited Case ID                                   Cited Case Title  \\\n",
       "0        9117679  Metro-Goldwyn-Mayer Studios, Inc. v. Grokster,...   \n",
       "1        9117679  Metro-Goldwyn-Mayer Studios, Inc. v. Grokster,...   \n",
       "2        9117679  Metro-Goldwyn-Mayer Studios, Inc. v. Grokster,...   \n",
       "3        9117679  Metro-Goldwyn-Mayer Studios, Inc. v. Grokster,...   \n",
       "4        9117679  Metro-Goldwyn-Mayer Studios, Inc. v. Grokster,...   \n",
       "5        9117679  Metro-Goldwyn-Mayer Studios, Inc. v. Grokster,...   \n",
       "6        9117679  Metro-Goldwyn-Mayer Studios, Inc. v. Grokster,...   \n",
       "7        9117679  Metro-Goldwyn-Mayer Studios, Inc. v. Grokster,...   \n",
       "8        9117679  Metro-Goldwyn-Mayer Studios, Inc. v. Grokster,...   \n",
       "9        9117679  Metro-Goldwyn-Mayer Studios, Inc. v. Grokster,...   \n",
       "\n",
       "   Citing Case ID                                  Citing Case Title  \\\n",
       "0         3720681  Recording Industry Ass'n of America, Inc. v. V...   \n",
       "1         9054205  Recording Industry Ass'n of America, Inc. v. V...   \n",
       "2         9291681  UMG Recordings, Inc. v. Sinnott, 300 F. Supp. ...   \n",
       "3         9291681  UMG Recordings, Inc. v. Sinnott, 300 F. Supp. ...   \n",
       "4         9214758  Metro-Goldwyn-Mayer Studios, Inc. v. Grokster ...   \n",
       "5         9214758  Metro-Goldwyn-Mayer Studios, Inc. v. Grokster ...   \n",
       "6         9214758  Metro-Goldwyn-Mayer Studios, Inc. v. Grokster ...   \n",
       "7         9214758  Metro-Goldwyn-Mayer Studios, Inc. v. Grokster ...   \n",
       "8         9214758  Metro-Goldwyn-Mayer Studios, Inc. v. Grokster ...   \n",
       "9         9214758  Metro-Goldwyn-Mayer Studios, Inc. v. Grokster ...   \n",
       "\n",
       "                                    Relevant Excerpt  \\\n",
       "0  available at  *88 See  Indirect Liability for ...   \n",
       "1  available at  *1232 See  Indirect Liability fo...   \n",
       "2  239 F.3d at 1020 Cable/Home Communication Corp...   \n",
       "3  259 F.Supp.2d 1029 Grok-ster  Grokster  In  Gr...   \n",
       "4  From the advent of the player piano, every new...   \n",
       "5  Thus, in order to analyze the required element...   \n",
       "6  See Napster I,   In this case, the district co...   \n",
       "7  Napster II,  Sony-Betamax  Having determined t...   \n",
       "8  *1163 In the context of this case, the softwar...   \n",
       "9  907 F.Supp. 1361 Fonovisa, Inc. v. Cherry Auct...   \n",
       "\n",
       "                 Excerpt Contains Negative Sentiment  \\\n",
       "0                                                 NO   \n",
       "1  The given excerpt does not provide enough info...   \n",
       "2                                                 No   \n",
       "3                                                 No   \n",
       "4                                                 No   \n",
       "5                                                 No   \n",
       "6                                                 No   \n",
       "7                                                 NO   \n",
       "8                                                 NO   \n",
       "9                                                 NO   \n",
       "\n",
       "                                       Complete Text  tokens  \\\n",
       "0  \\n   351 F.3d 1229 \\n   RECORDING INDUSTRY ASS...   22871   \n",
       "1  \\n   RECORDING INDUSTRY ASSOCIATION OF AMERICA...   22906   \n",
       "2  \\n   UMG RECORDINGS, INC.; Arista Records, Inc...   25853   \n",
       "3  \\n   UMG RECORDINGS, INC.; Arista Records, Inc...   25853   \n",
       "4  \\n   METRO-GOLDWYN-MAYER STUDIOS, INC.; Columb...   29264   \n",
       "5  \\n   METRO-GOLDWYN-MAYER STUDIOS, INC.; Columb...   29264   \n",
       "6  \\n   METRO-GOLDWYN-MAYER STUDIOS, INC.; Columb...   29264   \n",
       "7  \\n   METRO-GOLDWYN-MAYER STUDIOS, INC.; Columb...   29264   \n",
       "8  \\n   METRO-GOLDWYN-MAYER STUDIOS, INC.; Columb...   29264   \n",
       "9  \\n   METRO-GOLDWYN-MAYER STUDIOS, INC.; Columb...   29264   \n",
       "\n",
       "                                     id  \n",
       "0  aa155094-1ce9-abce-a85d-f865944d493e  \n",
       "1  2dc86e39-82d9-6a1f-24ff-8cf9c743e8fd  \n",
       "2  160761cf-e82c-beb6-04c4-dbc48770d9df  \n",
       "3  160761cf-e82c-beb6-04c4-dbc48770d9df  \n",
       "4  1ad2f161-d162-fd1a-6dfc-244676f7a67b  \n",
       "5  1ad2f161-d162-fd1a-6dfc-244676f7a67b  \n",
       "6  1ad2f161-d162-fd1a-6dfc-244676f7a67b  \n",
       "7  1ad2f161-d162-fd1a-6dfc-244676f7a67b  \n",
       "8  1ad2f161-d162-fd1a-6dfc-244676f7a67b  \n",
       "9  1ad2f161-d162-fd1a-6dfc-244676f7a67b  "
      ]
     },
     "execution_count": 6,
     "metadata": {},
     "output_type": "execute_result"
    }
   ],
   "source": [
    "df.head(10)"
   ]
  },
  {
   "cell_type": "code",
   "execution_count": 7,
   "metadata": {},
   "outputs": [
    {
     "data": {
      "text/plain": [
       "(29, 9)"
      ]
     },
     "execution_count": 7,
     "metadata": {},
     "output_type": "execute_result"
    }
   ],
   "source": [
    "df.shape"
   ]
  },
  {
   "cell_type": "code",
   "execution_count": 8,
   "metadata": {},
   "outputs": [
    {
     "data": {
      "text/markdown": [
       "\n",
       "   351 F.3d 1229 \n",
       "   RECORDING INDUSTRY ASSOCIATION OF AMERICA, INC., Appellee, v. VERIZON INTERNET SERVICES, INC., Appellant. \n",
       "   Nos. 03-7015 & 03-7053. \n",
       "   United States Court of Appeals, District of Columbia Circuit. \n",
       "   Argued Sept. 16, 2003. \n",
       "   Decided Dec. 19, 2003. \n",
       "   \n",
       "     *86 Andrew G. McBride argued the cause for appellant. With him on the briefs were John Thorne, Bruce G. Joseph, Dineen P. Wasylik, and Kathryn L. Comer-ford. \n",
       "   Megan E. Gray, Lawrence S. Robbins, Alan Untereiner, Christopher A. Hansen, Arthur B. Spitzer, and Cindy Cohn were on the brief for amici curiae Alliance for Public Technology, et al., in support of appellant. \n",
       "   Donald B. Verrilli, Jr. argued the cause for appellee Recording Industry Association of America, Inc. With him on the brief were Thomas J. Perrelli and Matthew J. Oppenheim. Deanne E. Maynard entered an appearance. \n",
       "   Scott R. McIntosh, Attorney, U.S. Department of Justice, argued the cause for intervenor-appellee United States. With him on the brief were Roscoe C. Howard, Jr., U.S. Attorney, and Douglas N. Letter, Attorney, U.S. Department of Justice. \n",
       "   Paul B. Gaffney, Thomas G. Hentoff, Eric H. Smith, Patricia Polach, Ann Chai *87 tovitz, Allan R. Adler, Joseph J. DiMona, Robert S. Giolito, and Chun T. Wright were on the brief for amici curiae Motion Picture Association of America, et al., in support of appellee Recording Industry Association of America. David E. Kendall entered an appearance. \n",
       "   Paul Alan Levy, Alan B. Morrison, and Allison M. Zieve were on the brief for amicus curiae Public Citizen. \n",
       "   Before: GINSBURG, Chief Judge,and ROBERTS, Circuit Judge, and WILLIAMS, Senior Circuit Judge. \n",
       "   \n",
       "     Opinion for the Court filed by Chief Judge GINSBURG. \n",
       "     GINSBURG, Chief Judge: \n",
       "     This case concerns the Recording Industry Association of America’s use of the subpoena provision of the Digital Millennium Copyright Act,  17 U.S.C. § 512 (h), to identify internet users the RIAA believes are infringing "
      ],
      "text/plain": [
       "<IPython.core.display.Markdown object>"
      ]
     },
     "execution_count": 8,
     "metadata": {},
     "output_type": "execute_result"
    }
   ],
   "source": [
    "Markdown(df.head(1)['Complete Text'].tolist()[0][:2000])"
   ]
  },
  {
   "cell_type": "code",
   "execution_count": 9,
   "metadata": {},
   "outputs": [],
   "source": [
    "text = df.head(1)['Complete Text'].tolist()[0]"
   ]
  },
  {
   "cell_type": "code",
   "execution_count": 10,
   "metadata": {},
   "outputs": [
    {
     "data": {
      "text/plain": [
       "490"
      ]
     },
     "execution_count": 10,
     "metadata": {},
     "output_type": "execute_result"
    }
   ],
   "source": [
    "citations = eyecite.get_citations(text, remove_ambiguous=True)\n",
    "len(citations)"
   ]
  },
  {
   "cell_type": "code",
   "execution_count": 11,
   "metadata": {},
   "outputs": [
    {
     "data": {
      "text/markdown": [
       "amici curiae Motion Picture Association of America, et al., in support of appellee Recording Industry Association of America. David E. Kendall entered an appearance. Paul Alan Levy, Alan B. Morrison, and Allison M. Zieve were on the brief for amicus curiae Public Citizen. Before: GINSBURG, Chief Judge,and ROBERTS, Circuit Judge, and WILLIAMS, Senior Circuit Judge. Opinion for the Court filed by Chief Judge GINSBURG. GINSBURG, Chief Judge: This case concerns the Recording Industry Association of America’s use of the subpoena provision of the Digital Millennium Copyright Act, 17 U.S.C. § 512 (h), to identify internet users the RIAA believes are infringing the copyrights of its members. The RIAA served two subpoenas upon Verizon Internet Services in order to discover the names of two Verizon subscribers who appeared to be trading large numbers of .mp3 files of copyrighted music via “peer-to-peer” (P2P) file sharing programs, such as KaZaA. Verizon refused to comply with the subpoenas on various legal grounds. The district court rejected Verizon’s statutory and constitutional challenges to § 512(h) and ordered the internet service provider (ISP) to disclose to the RIAA the names of the two subscribers. On appeal Verizon presents three alternative arguments for reversing the orders of the district court: (1) § 512(h) does not authorize the issuance of a subpoena to an ISP acting solely as a conduit for communications the content of which is determined by others; if the statute does authorize such a subpoena, then the statute is unconstitutional because (2) the district court lacked Article III jurisdiction to issue a subpoena with no underlying “case or controversy” pending before the court; and (3) § 512(h) violates the First Amendment because it lacks sufficient safeguards to protect an internet user’s ability to speak and to associate anonymously. Because we agree with Verizon’s interpretation of the statute, we reverse the orders of the district court enforcing the subpoenas and do not reach either of Verizon’s constitutional arguments. * I. Background Individuals with a personal computer and access to the internet began to offer digital copies of recordings for download by other users, an activity known as file sharing, in the late 1990’s using a program called Napster. Although recording companies and music publishers successfully obtained an injunction against Napster’s facilitating the sharing of files containing copyrighted recordings, see A&M Records, Inc. v. Napster, Inc., 284 F.3d 1091 (9th Cir.2002); A&M Records, Inc. v. Napster, Inc., <mark>239 F.3d 1004</mark> (9th Cir.2001), millions of people in the United States and around the world continue to share digital .mp3 files of copyrighted recordings using P2P computer programs such as KaZaA, Morpheus, Grokster, and eDonkey. See John Borland, File Swapping Shifts Up a Gear (May 27, 2003), available at http:// news.com.com/2100-1026-1009742.html, *88 (last visited December 2, 2003). Unlike Napster, which relied upon a centralized communication architecture to identify the .mp3 files available for download, the current generation of P2P file sharing programs allow an internet user to search directly the .mp3 file libraries of other users; no web site is involved. See Douglas Lichtman & William Landes, Indirect Liability for Copyright Infringement: An Economic Perspective, 16 Harv. J. Law & Tech. 395, 403, 408-09 (2003). To date, owners of copyrights have not been able to stop the use of these decentralized programs. See Metro-Goldwyn-Mayer Studios, Inc. v. Grokster, Ltd., 259 F.Supp.2d 1029 (C.D.Cal.2003) (holding Grokster not contributorily liable for copyright infringement by users of its P2P file sharing program). The RIAA now has begun to direct its anti-infringement efforts against individual users of P2P file sharing programs. In order to pursue apparent infringers the RIAA needs to be able to identify the"
      ],
      "text/plain": [
       "<IPython.core.display.Markdown object>"
      ]
     },
     "execution_count": 11,
     "metadata": {},
     "output_type": "execute_result"
    }
   ],
   "source": [
    "context_words = get_citation_context_words(text, '239 F.3d 1004', 400, 200)\n",
    "highlighted_contexts = context_words.replace(\"239 F.3d 1004\", \"<mark>239 F.3d 1004</mark>\")\n",
    "Markdown(highlighted_contexts)"
   ]
  },
  {
   "cell_type": "code",
   "execution_count": 12,
   "metadata": {},
   "outputs": [
    {
     "data": {
      "text/markdown": [
       "This case concerns the Recording Industry Association of America’s use of the subpoena provision of the Digital Millennium Copyright Act,  17 U.S.C. § 512 (h), to identify internet users the RIAA believes are infringing the copyrights of its members. The RIAA served two subpoenas upon Verizon Internet Services in order to discover the names of two Verizon subscribers who appeared to be trading large numbers of .mp3 files of copyrighted music via “peer-to-peer” (P2P) file sharing programs, such as KaZaA. Verizon refused to comply with the subpoenas on various legal grounds. \n",
       "      The district court rejected Verizon’s statutory and constitutional challenges to § 512(h) and ordered the internet service provider (ISP) to disclose to the RIAA the names of the two subscribers. On appeal Verizon presents three alternative arguments for reversing the orders of the district court: (1) § 512(h) does not authorize the issuance of a subpoena to an ISP acting solely as a conduit for communications the content of which is determined by others; if the statute does authorize such a subpoena, then the statute is unconstitutional because (2) the district court lacked Article III jurisdiction to issue a subpoena with no underlying “case or controversy” pending before the court; and (3) § 512(h) violates the First Amendment because it lacks sufficient safeguards to protect an internet user’s ability to speak and to associate anonymously. Because we agree with Verizon’s interpretation of the statute, we reverse the orders of the district court enforcing the subpoenas and do not reach either of Verizon’s constitutional arguments. * \n",
       "     \n",
       "     I. Background \n",
       "     Individuals with a personal computer and access to the internet began to offer digital copies of recordings for download by other users, an activity known as file sharing, in the late 1990’s using a program called Napster. Although recording companies and music publishers successfully obtained an injunction against Napster’s facilitating the sharing of files containing copyrighted recordings,  see A&M Records, Inc. v. Napster, Inc.,  284 F.3d 1091  (9th Cir.2002);  A&M Records, Inc. v. Napster, Inc.,  **239 F.3d 1004**  (9th Cir.2001), millions of people in the United States and around the world continue to share digital .mp3 files of copyrighted recordings using P2P computer programs such as KaZaA, Morpheus, Grokster, and eDonkey.   See  John Borland,  File Swapping Shifts Up a Gear  (May 27, 2003),  available at  http:// news.com.com/2100-1026-1009742.html,  *88 (last visited December 2, 2003). Unlike Napster, which relied upon a centralized communication architecture to identify the .mp3 files available for download, the current generation of P2P file sharing programs allow an internet user to search directly the .mp3 file libraries of other users; no web site is involved.  "
      ],
      "text/plain": [
       "<IPython.core.display.Markdown object>"
      ]
     },
     "execution_count": 12,
     "metadata": {},
     "output_type": "execute_result"
    }
   ],
   "source": [
    "context_sents = get_citation_context_sents(text, \"239 F.3d 1004\", 6, 2)\n",
    "highlighted_contexts = context_sents.replace(\"239 F.3d 1004\", \"**239 F.3d 1004**\")\n",
    "Markdown(highlighted_contexts)"
   ]
  },
  {
   "cell_type": "code",
   "execution_count": 13,
   "metadata": {},
   "outputs": [
    {
     "name": "stdout",
     "output_type": "stream",
     "text": [
      "df shape: (8846, 5)\n",
      "distinct citations: 575\n"
     ]
    },
    {
     "data": {
      "text/html": [
       "<div>\n",
       "<style scoped>\n",
       "    .dataframe tbody tr th:only-of-type {\n",
       "        vertical-align: middle;\n",
       "    }\n",
       "\n",
       "    .dataframe tbody tr th {\n",
       "        vertical-align: top;\n",
       "    }\n",
       "\n",
       "    .dataframe thead th {\n",
       "        text-align: right;\n",
       "    }\n",
       "</style>\n",
       "<table border=\"1\" class=\"dataframe\">\n",
       "  <thead>\n",
       "    <tr style=\"text-align: right;\">\n",
       "      <th></th>\n",
       "      <th>id</th>\n",
       "      <th>citation</th>\n",
       "      <th>context</th>\n",
       "      <th>start_char</th>\n",
       "      <th>end_char</th>\n",
       "    </tr>\n",
       "  </thead>\n",
       "  <tbody>\n",
       "    <tr>\n",
       "      <th>0</th>\n",
       "      <td>3720681</td>\n",
       "      <td>351 F.3d 1229</td>\n",
       "      <td>\\n   351 F.3d 1229 \\n   RECORDING INDUSTRY ASS...</td>\n",
       "      <td>0</td>\n",
       "      <td>160</td>\n",
       "    </tr>\n",
       "    <tr>\n",
       "      <th>1</th>\n",
       "      <td>3720681</td>\n",
       "      <td>17 U.S.C. § 512</td>\n",
       "      <td>Paul Alan Levy, Alan B. Morrison, and Allison ...</td>\n",
       "      <td>1477</td>\n",
       "      <td>2366</td>\n",
       "    </tr>\n",
       "    <tr>\n",
       "      <th>2</th>\n",
       "      <td>3720681</td>\n",
       "      <td>284 F.3d 1091</td>\n",
       "      <td>The district court rejected Verizon’s statutor...</td>\n",
       "      <td>2366</td>\n",
       "      <td>4354</td>\n",
       "    </tr>\n",
       "    <tr>\n",
       "      <th>3</th>\n",
       "      <td>3720681</td>\n",
       "      <td>239 F.3d 1004</td>\n",
       "      <td>The district court rejected Verizon’s statutor...</td>\n",
       "      <td>2366</td>\n",
       "      <td>4354</td>\n",
       "    </tr>\n",
       "    <tr>\n",
       "      <th>4</th>\n",
       "      <td>3720681</td>\n",
       "      <td>259 F. Supp. 2d 1029</td>\n",
       "      <td>Unlike Napster, which relied upon a centralize...</td>\n",
       "      <td>4355</td>\n",
       "      <td>5233</td>\n",
       "    </tr>\n",
       "  </tbody>\n",
       "</table>\n",
       "</div>"
      ],
      "text/plain": [
       "        id              citation  \\\n",
       "0  3720681         351 F.3d 1229   \n",
       "1  3720681       17 U.S.C. § 512   \n",
       "2  3720681         284 F.3d 1091   \n",
       "3  3720681         239 F.3d 1004   \n",
       "4  3720681  259 F. Supp. 2d 1029   \n",
       "\n",
       "                                             context  start_char  end_char  \n",
       "0  \\n   351 F.3d 1229 \\n   RECORDING INDUSTRY ASS...           0       160  \n",
       "1  Paul Alan Levy, Alan B. Morrison, and Allison ...        1477      2366  \n",
       "2  The district court rejected Verizon’s statutor...        2366      4354  \n",
       "3  The district court rejected Verizon’s statutor...        2366      4354  \n",
       "4  Unlike Napster, which relied upon a centralize...        4355      5233  "
      ]
     },
     "execution_count": 13,
     "metadata": {},
     "output_type": "execute_result"
    }
   ],
   "source": [
    "citations_df = extract_citations_with_context_from_df(df, \"Complete Text\", \"Citing Case ID\", 4, 2)\n",
    "print(f\"df shape: {citations_df.shape}\")\n",
    "print(f\"distinct citations: {citations_df.citation.nunique()}\")\n",
    "citations_df.head()"
   ]
  },
  {
   "cell_type": "code",
   "execution_count": 14,
   "metadata": {},
   "outputs": [
    {
     "name": "stdout",
     "output_type": "stream",
     "text": [
      "df shape: (4104, 5)\n",
      "distinct citations: 575\n"
     ]
    },
    {
     "data": {
      "text/html": [
       "<div>\n",
       "<style scoped>\n",
       "    .dataframe tbody tr th:only-of-type {\n",
       "        vertical-align: middle;\n",
       "    }\n",
       "\n",
       "    .dataframe tbody tr th {\n",
       "        vertical-align: top;\n",
       "    }\n",
       "\n",
       "    .dataframe thead th {\n",
       "        text-align: right;\n",
       "    }\n",
       "</style>\n",
       "<table border=\"1\" class=\"dataframe\">\n",
       "  <thead>\n",
       "    <tr style=\"text-align: right;\">\n",
       "      <th></th>\n",
       "      <th>id</th>\n",
       "      <th>citation</th>\n",
       "      <th>context</th>\n",
       "      <th>start_char</th>\n",
       "      <th>end_char</th>\n",
       "    </tr>\n",
       "  </thead>\n",
       "  <tbody>\n",
       "    <tr>\n",
       "      <th>0</th>\n",
       "      <td>3720681</td>\n",
       "      <td>351 F.3d 1229</td>\n",
       "      <td>\\n   351 F.3d 1229 \\n   RECORDING INDUSTRY ASS...</td>\n",
       "      <td>0</td>\n",
       "      <td>160</td>\n",
       "    </tr>\n",
       "    <tr>\n",
       "      <th>1</th>\n",
       "      <td>3720681</td>\n",
       "      <td>17 U.S.C. § 512</td>\n",
       "      <td>Paul Alan Levy, Alan B. Morrison, and Allison ...</td>\n",
       "      <td>1477</td>\n",
       "      <td>2366</td>\n",
       "    </tr>\n",
       "    <tr>\n",
       "      <th>2</th>\n",
       "      <td>3720681</td>\n",
       "      <td>284 F.3d 1091</td>\n",
       "      <td>The district court rejected Verizon’s statutor...</td>\n",
       "      <td>2366</td>\n",
       "      <td>4354</td>\n",
       "    </tr>\n",
       "    <tr>\n",
       "      <th>3</th>\n",
       "      <td>3720681</td>\n",
       "      <td>239 F.3d 1004</td>\n",
       "      <td>The district court rejected Verizon’s statutor...</td>\n",
       "      <td>2366</td>\n",
       "      <td>4354</td>\n",
       "    </tr>\n",
       "    <tr>\n",
       "      <th>4</th>\n",
       "      <td>3720681</td>\n",
       "      <td>259 F. Supp. 2d 1029</td>\n",
       "      <td>Unlike Napster, which relied upon a centralize...</td>\n",
       "      <td>4355</td>\n",
       "      <td>5233</td>\n",
       "    </tr>\n",
       "  </tbody>\n",
       "</table>\n",
       "</div>"
      ],
      "text/plain": [
       "        id              citation  \\\n",
       "0  3720681         351 F.3d 1229   \n",
       "1  3720681       17 U.S.C. § 512   \n",
       "2  3720681         284 F.3d 1091   \n",
       "3  3720681         239 F.3d 1004   \n",
       "4  3720681  259 F. Supp. 2d 1029   \n",
       "\n",
       "                                             context  start_char  end_char  \n",
       "0  \\n   351 F.3d 1229 \\n   RECORDING INDUSTRY ASS...           0       160  \n",
       "1  Paul Alan Levy, Alan B. Morrison, and Allison ...        1477      2366  \n",
       "2  The district court rejected Verizon’s statutor...        2366      4354  \n",
       "3  The district court rejected Verizon’s statutor...        2366      4354  \n",
       "4  Unlike Napster, which relied upon a centralize...        4355      5233  "
      ]
     },
     "execution_count": 14,
     "metadata": {},
     "output_type": "execute_result"
    }
   ],
   "source": [
    "df2 = citations_df.drop_duplicates()\n",
    "print(f\"df shape: {df2.shape}\")\n",
    "print(f\"distinct citations: {df2.citation.nunique()}\")\n",
    "df2.head()"
   ]
  },
  {
   "cell_type": "code",
   "execution_count": 15,
   "metadata": {},
   "outputs": [],
   "source": [
    "grouped = df2.groupby('citation')\n",
    "merged_data = []\n",
    "\n",
    "for citation, group in grouped:\n",
    "    # Sort contexts by their starting position\n",
    "    sorted_group = group.sort_values(by=['start_char'])\n",
    "    \n",
    "    merged_contexts = []\n",
    "    current_start, current_end, current_context = None, None, \"\"\n",
    "    \n",
    "    for idx, row in sorted_group.iterrows():\n",
    "        if current_start is None:  # For the first iteration\n",
    "            current_start, current_end, current_context = row['start_char'], row['end_char'], row['context']\n",
    "        elif row['start_char'] <= current_end:  # Overlapping or adjacent contexts\n",
    "            # Merge contexts by extending the end if necessary and combining the text\n",
    "            current_end = max(current_end, row['end_char'])\n",
    "            # Prevent duplicating text if the contexts are exactly the same\n",
    "            if row['context'] not in current_context:\n",
    "                current_context += \" \" + row['context']\n",
    "        else:\n",
    "            # No overlap; add the current context to merged_contexts and start a new one\n",
    "            merged_contexts.append({\"id\": idx, \"citation\": citation, \"context\": current_context, \"start_char\": current_start, \"end_char\": current_end})\n",
    "            current_start, current_end, current_context = row['start_char'], row['end_char'], row['context']\n",
    "    \n",
    "    # Don't forget to add the last context\n",
    "    merged_contexts.append({\"id\": idx, \"citation\": citation, \"context\": current_context, \"start_char\": current_start, \"end_char\": current_end})\n",
    "    \n",
    "    merged_data.extend(merged_contexts)\n",
    "\n",
    "# Convert merged data back into a DataFrame\n",
    "merged_df = pd.DataFrame(merged_data)"
   ]
  },
  {
   "cell_type": "code",
   "execution_count": 16,
   "metadata": {},
   "outputs": [
    {
     "name": "stdout",
     "output_type": "stream",
     "text": [
      "df shape: (2923, 5)\n",
      "distinct citations: 575\n"
     ]
    },
    {
     "data": {
      "text/html": [
       "<div>\n",
       "<style scoped>\n",
       "    .dataframe tbody tr th:only-of-type {\n",
       "        vertical-align: middle;\n",
       "    }\n",
       "\n",
       "    .dataframe tbody tr th {\n",
       "        vertical-align: top;\n",
       "    }\n",
       "\n",
       "    .dataframe thead th {\n",
       "        text-align: right;\n",
       "    }\n",
       "</style>\n",
       "<table border=\"1\" class=\"dataframe\">\n",
       "  <thead>\n",
       "    <tr style=\"text-align: right;\">\n",
       "      <th></th>\n",
       "      <th>id</th>\n",
       "      <th>citation</th>\n",
       "      <th>context</th>\n",
       "      <th>start_char</th>\n",
       "      <th>end_char</th>\n",
       "    </tr>\n",
       "  </thead>\n",
       "  <tbody>\n",
       "    <tr>\n",
       "      <th>0</th>\n",
       "      <td>2926</td>\n",
       "      <td>1 L. Ed. 2d 465</td>\n",
       "      <td>In re Napster, Inc. Copyright Litigation,  191...</td>\n",
       "      <td>54510</td>\n",
       "      <td>55406</td>\n",
       "    </tr>\n",
       "    <tr>\n",
       "      <th>1</th>\n",
       "      <td>3098</td>\n",
       "      <td>1 L. Ed. 2d 465</td>\n",
       "      <td>In re Napster, Inc. Copyright Litigation,  191...</td>\n",
       "      <td>118732</td>\n",
       "      <td>119628</td>\n",
       "    </tr>\n",
       "    <tr>\n",
       "      <th>2</th>\n",
       "      <td>3101</td>\n",
       "      <td>1 L. Ed. 2d 465</td>\n",
       "      <td>The issue focuses on when plaintiffs can bring...</td>\n",
       "      <td>186464</td>\n",
       "      <td>187384</td>\n",
       "    </tr>\n",
       "    <tr>\n",
       "      <th>3</th>\n",
       "      <td>3101</td>\n",
       "      <td>1 L. Ed. 2d 465</td>\n",
       "      <td>402 ,  86 L.Ed. 363  (1942) (“Equity may right...</td>\n",
       "      <td>187603</td>\n",
       "      <td>188343</td>\n",
       "    </tr>\n",
       "    <tr>\n",
       "      <th>4</th>\n",
       "      <td>2868</td>\n",
       "      <td>10 F.R.D. 534</td>\n",
       "      <td>See Oneida Indian Nation of New York v. City o...</td>\n",
       "      <td>18785</td>\n",
       "      <td>20019</td>\n",
       "    </tr>\n",
       "  </tbody>\n",
       "</table>\n",
       "</div>"
      ],
      "text/plain": [
       "     id         citation                                            context  \\\n",
       "0  2926  1 L. Ed. 2d 465  In re Napster, Inc. Copyright Litigation,  191...   \n",
       "1  3098  1 L. Ed. 2d 465  In re Napster, Inc. Copyright Litigation,  191...   \n",
       "2  3101  1 L. Ed. 2d 465  The issue focuses on when plaintiffs can bring...   \n",
       "3  3101  1 L. Ed. 2d 465  402 ,  86 L.Ed. 363  (1942) (“Equity may right...   \n",
       "4  2868    10 F.R.D. 534  See Oneida Indian Nation of New York v. City o...   \n",
       "\n",
       "   start_char  end_char  \n",
       "0       54510     55406  \n",
       "1      118732    119628  \n",
       "2      186464    187384  \n",
       "3      187603    188343  \n",
       "4       18785     20019  "
      ]
     },
     "execution_count": 16,
     "metadata": {},
     "output_type": "execute_result"
    }
   ],
   "source": [
    "print(f\"df shape: {merged_df.shape}\")\n",
    "print(f\"distinct citations: {merged_df.citation.nunique()}\")\n",
    "merged_df.head()"
   ]
  },
  {
   "cell_type": "code",
   "execution_count": 17,
   "metadata": {},
   "outputs": [
    {
     "data": {
      "text/plain": [
       "count    2923.000000\n",
       "mean      326.897708\n",
       "std       273.851818\n",
       "min        64.000000\n",
       "25%       190.000000\n",
       "50%       244.000000\n",
       "75%       365.000000\n",
       "max      4699.000000\n",
       "Name: tokens, dtype: float64"
      ]
     },
     "execution_count": 17,
     "metadata": {},
     "output_type": "execute_result"
    }
   ],
   "source": [
    "merged_df[\"tokens\"] = merged_df[\"context\"].apply(lambda x: count_tokens(x))\n",
    "merged_df[\"tokens\"].describe()"
   ]
  },
  {
   "cell_type": "code",
   "execution_count": 18,
   "metadata": {},
   "outputs": [
    {
     "data": {
      "text/markdown": [
       "In re Napster, Inc. Copyright Litigation,  191 F.Supp.2d 1087 , 1108 (N.D.Cal.2002)(“The doctrine does not prevent plaintiffs from ultimately recovering for acts of infringement that occur during the period of misuse. The issue focuses on when plaintiffs can bring or pursue an action for infringement, not for which acts of infringement they can recover.”). \n",
       "      Moreover, Defendants base their contention that “[w]hether a plaintiff may retroactively sue for infringement of its copyright during a period of misuse of the copyright is an unsettled issue” is based on dicta from a patent misuse case,  U.S. Gypsum Co. v. National Gypsum Co.,  352 U.S. 457 ,  77 S.Ct. 490 ,  1 L.Ed.2d 465  (1957), in which the Supreme Court reversed the lower court’s unsupported finding that the misuse remained “unpurged” as of the time of suit, precluding enforcement of the patent.   Id.  at 463 ,  77 S.Ct."
      ],
      "text/plain": [
       "<IPython.core.display.Markdown object>"
      ]
     },
     "execution_count": 18,
     "metadata": {},
     "output_type": "execute_result"
    }
   ],
   "source": [
    "Markdown(merged_df.head(2)['context'].tolist()[1])"
   ]
  },
  {
   "cell_type": "code",
   "execution_count": 19,
   "metadata": {},
   "outputs": [],
   "source": [
    "docs = dataframe_to_documents(df, \"Complete Text\", metadata=[\"Citing Case ID\", \"Citing Case Title\"], )"
   ]
  },
  {
   "cell_type": "code",
   "execution_count": 20,
   "metadata": {},
   "outputs": [
    {
     "data": {
      "text/plain": [
       "29"
      ]
     },
     "execution_count": 20,
     "metadata": {},
     "output_type": "execute_result"
    }
   ],
   "source": [
    "len(docs)"
   ]
  },
  {
   "cell_type": "code",
   "execution_count": 21,
   "metadata": {},
   "outputs": [],
   "source": [
    "parser = Parser(\n",
    "    ParsingConfig(\n",
    "        chunk_size=500,\n",
    "        n_neighbor_ids=2\n",
    "    )\n",
    ")"
   ]
  },
  {
   "cell_type": "code",
   "execution_count": 22,
   "metadata": {},
   "outputs": [
    {
     "data": {
      "text/plain": [
       "2995"
      ]
     },
     "execution_count": 22,
     "metadata": {},
     "output_type": "execute_result"
    }
   ],
   "source": [
    "chunks = parser.split_para_sentence(docs)\n",
    "len(chunks)"
   ]
  },
  {
   "cell_type": "code",
   "execution_count": 23,
   "metadata": {},
   "outputs": [
    {
     "data": {
      "text/markdown": [
       "And of the Courts of Appeals that have considered the matter, only one has proposed interpreting  Sony  more strictly than I would do — in a case where the product might have failed under  any  standard. In re Aimster Copyright Litigation,  334 F. 3d 643 , 653 (CA7 2003) (defendant “failed to show that its service is  ever  used for any purpose other than to infringe” copyrights (emphasis added)); see  Matthew Bender & Co. v. West Pub. Co.,  158  *956 F. 3d 693 , 706-707 (CA2 1998) (court did not  require  that noninfringing uses be “predominant,” it merely found that they  were  predominant, and therefore provided no analysis of  Sony’s  boundaries); but see  ante,  at 944, n. 1 (Ginsburg, J., concurring); see also  A&M Records, Inc. v. Napster, Inc.,  239 F. 3d 1004 , 1020 (CA9 2001) (discussing  Sony); Cable/Home Communication Corp. v. Network Productions, Inc.,  902 F. 2d 829 , 842-847 (CA11 1990) (same);  Vault Corp. v. Quaid Software, Ltd.,  847 F. 2d 255 , 262 (CA5 1988) (same); cf. Dynacore Holdings Corp. v. U S. Philips Corp.,  363 F. 3d 1263 , 1275 (CA Fed. 2004) (same); see also  Doe  v. GTE Corp.,  347 F. 3d 655 , 661 (CA7 2003) (“A person may be liable as a contributory infringer if the product or service it sells has no (or only slight) legal use”). Instead, the real question is whether we should modify the  Sony  standard, as MGM requests, or interpret  Sony  more strictly, as I believe Justice Ginsburg’s approach would do in practice."
      ],
      "text/plain": [
       "<IPython.core.display.Markdown object>"
      ]
     },
     "execution_count": 23,
     "metadata": {},
     "output_type": "execute_result"
    }
   ],
   "source": [
    "Markdown(chunks[1000].content)"
   ]
  },
  {
   "cell_type": "code",
   "execution_count": 24,
   "metadata": {},
   "outputs": [
    {
     "data": {
      "text/plain": [
       "DynamicMetaData(source='context', is_chunk=True, id='3e03d7ea-fe4d-c746-a611-6879bb8d5fc7', window_ids=['2ad8e729-a1be-6cbb-bb90-d4dd84fd94b9', '8605964f-ba70-81df-a37f-3c67bca750dc', '3e03d7ea-fe4d-c746-a611-6879bb8d5fc7', '728d7a22-51ac-e8b6-9f46-40d03ee67c8e', '4b3cbeef-348a-596e-b497-e95f33b988cc'], Citing Case ID=3720681, Citing Case Title=\"Recording Industry Ass'n of America, Inc. v. Verizon Internet Services, Inc., 359 U.S. App. D.C. 85 (D.C. Cir. 2003)\")"
      ]
     },
     "execution_count": 24,
     "metadata": {},
     "output_type": "execute_result"
    }
   ],
   "source": [
    "chunks[3].metadata"
   ]
  },
  {
   "cell_type": "code",
   "execution_count": 6,
   "metadata": {},
   "outputs": [],
   "source": [
    "from src.db.lancedb import LanceDBConfig, LanceDB\n",
    "from src.embedding_models.models import OpenAIEmbeddingsConfig"
   ]
  },
  {
   "cell_type": "code",
   "execution_count": 7,
   "metadata": {},
   "outputs": [],
   "source": [
    "reddit = pd.read_parquet(\"./data/reddit_legal_cluster_test_results.parquet\")"
   ]
  },
  {
   "cell_type": "code",
   "execution_count": 8,
   "metadata": {},
   "outputs": [
    {
     "data": {
      "text/html": [
       "<div>\n",
       "<style scoped>\n",
       "    .dataframe tbody tr th:only-of-type {\n",
       "        vertical-align: middle;\n",
       "    }\n",
       "\n",
       "    .dataframe tbody tr th {\n",
       "        vertical-align: top;\n",
       "    }\n",
       "\n",
       "    .dataframe thead th {\n",
       "        text-align: right;\n",
       "    }\n",
       "</style>\n",
       "<table border=\"1\" class=\"dataframe\">\n",
       "  <thead>\n",
       "    <tr style=\"text-align: right;\">\n",
       "      <th></th>\n",
       "      <th>index</th>\n",
       "      <th>created_utc</th>\n",
       "      <th>full_link</th>\n",
       "      <th>id</th>\n",
       "      <th>body</th>\n",
       "      <th>title</th>\n",
       "      <th>text_label</th>\n",
       "      <th>flair_label</th>\n",
       "      <th>vector</th>\n",
       "      <th>token_count</th>\n",
       "      <th>llm_title</th>\n",
       "      <th>State</th>\n",
       "      <th>kmeans_label</th>\n",
       "      <th>topic_title</th>\n",
       "    </tr>\n",
       "  </thead>\n",
       "  <tbody>\n",
       "    <tr>\n",
       "      <th>1078</th>\n",
       "      <td>1078</td>\n",
       "      <td>1575952538</td>\n",
       "      <td>https://www.reddit.com/r/legaladvice/comments/...</td>\n",
       "      <td>e8lsen</td>\n",
       "      <td>I applied for a job and after two interviews I...</td>\n",
       "      <td>Failed a drug test due to amphetamines, I have...</td>\n",
       "      <td>employment</td>\n",
       "      <td>5</td>\n",
       "      <td>[9.475638042064453e-05, 0.0005111666301983955,...</td>\n",
       "      <td>493</td>\n",
       "      <td>\"Validity of Schedule II Drug Prescription in ...</td>\n",
       "      <td>PR</td>\n",
       "      <td>8</td>\n",
       "      <td>Employment Legal Concerns and Issues</td>\n",
       "    </tr>\n",
       "    <tr>\n",
       "      <th>2098</th>\n",
       "      <td>2098</td>\n",
       "      <td>1577442453</td>\n",
       "      <td>https://www.reddit.com/r/legaladvice/comments/...</td>\n",
       "      <td>eg9ll2</td>\n",
       "      <td>Hi everyone, thanks in advance for any guidanc...</td>\n",
       "      <td>Speeding ticket in Tennessee, Georgia Driver's...</td>\n",
       "      <td>driving</td>\n",
       "      <td>4</td>\n",
       "      <td>[-0.006706413111028856, 0.020911016696181495, ...</td>\n",
       "      <td>252</td>\n",
       "      <td>\"Speeding ticket consequences for out-of-state...</td>\n",
       "      <td>KY</td>\n",
       "      <td>10</td>\n",
       "      <td>Legal Topics in Traffic Violations</td>\n",
       "    </tr>\n",
       "  </tbody>\n",
       "</table>\n",
       "</div>"
      ],
      "text/plain": [
       "      index  created_utc                                          full_link  \\\n",
       "1078   1078   1575952538  https://www.reddit.com/r/legaladvice/comments/...   \n",
       "2098   2098   1577442453  https://www.reddit.com/r/legaladvice/comments/...   \n",
       "\n",
       "          id                                               body  \\\n",
       "1078  e8lsen  I applied for a job and after two interviews I...   \n",
       "2098  eg9ll2  Hi everyone, thanks in advance for any guidanc...   \n",
       "\n",
       "                                                  title  text_label  \\\n",
       "1078  Failed a drug test due to amphetamines, I have...  employment   \n",
       "2098  Speeding ticket in Tennessee, Georgia Driver's...     driving   \n",
       "\n",
       "      flair_label                                             vector  \\\n",
       "1078            5  [9.475638042064453e-05, 0.0005111666301983955,...   \n",
       "2098            4  [-0.006706413111028856, 0.020911016696181495, ...   \n",
       "\n",
       "      token_count                                          llm_title State  \\\n",
       "1078          493  \"Validity of Schedule II Drug Prescription in ...    PR   \n",
       "2098          252  \"Speeding ticket consequences for out-of-state...    KY   \n",
       "\n",
       "      kmeans_label                           topic_title  \n",
       "1078             8  Employment Legal Concerns and Issues  \n",
       "2098            10    Legal Topics in Traffic Violations  "
      ]
     },
     "execution_count": 8,
     "metadata": {},
     "output_type": "execute_result"
    }
   ],
   "source": [
    "reddit.rename(columns={\"embeddings\": \"vector\"}, inplace=True)\n",
    "reddit.head(2)"
   ]
  },
  {
   "cell_type": "code",
   "execution_count": 10,
   "metadata": {},
   "outputs": [],
   "source": [
    "db_dir = \".lancedb/data\"\n",
    "ldb_cfg = LanceDBConfig(\n",
    "    collection_name=\"reddit-legal\",\n",
    "    replace_collection=False,\n",
    "    storage_path=db_dir,\n",
    "    flatten=False,\n",
    "    embedding=OpenAIEmbeddingsConfig()\n",
    ")"
   ]
  },
  {
   "cell_type": "code",
   "execution_count": 11,
   "metadata": {},
   "outputs": [],
   "source": [
    "db = LanceDB(\n",
    "    ldb_cfg\n",
    ")"
   ]
  },
  {
   "cell_type": "code",
   "execution_count": 13,
   "metadata": {},
   "outputs": [],
   "source": [
    "db.create_collection(\"reddit-legal\")"
   ]
  },
  {
   "cell_type": "code",
   "execution_count": 17,
   "metadata": {},
   "outputs": [
    {
     "data": {
      "text/plain": [
       "['lance-citations', 'reddit-legal']"
      ]
     },
     "execution_count": 17,
     "metadata": {},
     "output_type": "execute_result"
    }
   ],
   "source": [
    "db.list_collections()"
   ]
  },
  {
   "cell_type": "code",
   "execution_count": 16,
   "metadata": {},
   "outputs": [],
   "source": [
    "db.add_dataframe(reddit, content=\"body\", metadata=['text_label', 'token_count', 'State'])"
   ]
  },
  {
   "cell_type": "code",
   "execution_count": 19,
   "metadata": {},
   "outputs": [],
   "source": [
    "res = db.similar_texts_with_scores(text=\"I got fired for smoking medical marijuana during lunch. Can they even do that?\", k=10)"
   ]
  },
  {
   "cell_type": "code",
   "execution_count": 22,
   "metadata": {},
   "outputs": [],
   "source": [
    "table = db.client.open_table(\"reddit-legal\")"
   ]
  },
  {
   "cell_type": "code",
   "execution_count": 26,
   "metadata": {},
   "outputs": [],
   "source": [
    "query=\"I got fired for smoking medical marijuana during lunch. Can they even do that?\"\n",
    "query_vector = db.embedding_fn([query])[0]"
   ]
  },
  {
   "cell_type": "code",
   "execution_count": 40,
   "metadata": {},
   "outputs": [
    {
     "data": {
      "text/plain": [
       "5000"
      ]
     },
     "execution_count": 40,
     "metadata": {},
     "output_type": "execute_result"
    }
   ],
   "source": [
    "table.count_rows()"
   ]
  },
  {
   "cell_type": "code",
   "execution_count": 74,
   "metadata": {},
   "outputs": [
    {
     "data": {
      "text/plain": [
       "count     10.000000\n",
       "mean     503.300000\n",
       "std      198.024157\n",
       "min      308.000000\n",
       "25%      369.250000\n",
       "50%      422.500000\n",
       "75%      643.000000\n",
       "max      911.000000\n",
       "Name: token_count, dtype: float64"
      ]
     },
     "execution_count": 74,
     "metadata": {},
     "output_type": "execute_result"
    }
   ],
   "source": [
    "query_fts_results = table.search().where('token_count > 300', prefilter=True).limit(10).with_row_id(True).to_pandas()\n",
    "query_fts_results['token_count'].describe()"
   ]
  },
  {
   "cell_type": "code",
   "execution_count": null,
   "metadata": {},
   "outputs": [],
   "source": []
  },
  {
   "cell_type": "code",
   "execution_count": 27,
   "metadata": {},
   "outputs": [],
   "source": [
    "query_vector_results = table.search(\n",
    "    query_vector, query_type=\"vector\").limit(20).with_row_id(True).to_arrow()\n",
    "\n",
    "query_fts_results = table.search(\n",
    "    query, query_type=\"fts\").limit(20).with_row_id(True).to_arrow()"
   ]
  },
  {
   "cell_type": "code",
   "execution_count": 28,
   "metadata": {},
   "outputs": [],
   "source": [
    "reranker = ColbertReranker()"
   ]
  },
  {
   "cell_type": "code",
   "execution_count": 29,
   "metadata": {},
   "outputs": [],
   "source": [
    "ranked_res = reranker.rerank_hybrid(query, query_vector_results, query_fts_results)"
   ]
  },
  {
   "cell_type": "code",
   "execution_count": 30,
   "metadata": {},
   "outputs": [
    {
     "data": {
      "text/plain": [
       "'I got fired for smoking medical marijuana during lunch. Can they even do that?'"
      ]
     },
     "execution_count": 30,
     "metadata": {},
     "output_type": "execute_result"
    }
   ],
   "source": [
    "query"
   ]
  },
  {
   "cell_type": "code",
   "execution_count": 31,
   "metadata": {},
   "outputs": [
    {
     "data": {
      "text/markdown": [
       "I currently work for a staffing agency, when I picked up my check today I noticed I had less hours than usual. When I asked my employer why my check was off they stated that the business I contracted with was now requiring them to deduct lunch breaks. I am not able to take a 30 min lunch break off the floor/out of building due to being the only employee in building certified to hold the medication cart keys. Is this legal? Everything I've found online says they cannot deduct a lunch break unless I am free to leave premesis, which I am not. Any information on this issue and advice on course of action would be appreciated"
      ],
      "text/plain": [
       "<IPython.core.display.Markdown object>"
      ]
     },
     "execution_count": 31,
     "metadata": {},
     "output_type": "execute_result"
    }
   ],
   "source": [
    "Markdown(ranked_res.to_pandas().head(1)['content'].tolist()[0])"
   ]
  },
  {
   "cell_type": "code",
   "execution_count": 32,
   "metadata": {},
   "outputs": [
    {
     "data": {
      "text/markdown": [
       "I have my medical marijuana card because mj lets me eat, not feel like my body is coming apart at it's joints, feel like life is not so hopeless, and sleep soundly, but I've been looking for new jobs and I'm unsure about drug testing. \n",
       "\n",
       "I've looked it up and know its a state-to-state thing, but I'm still a little iffy about Pennsylvania and how weirdly 50/50 it seems to be with medical marijuana. I don't smoke before or during work and never intend to do so. However I'm unsure about the legality of workers compensation and drug testing during a hire situation if I happen to fail the test. \n",
       "\n",
       "Will I get fired or fined from work and would the employer looking to hire me have grounds to dismiss me?\n",
       "\n",
       "Also, this is my first time on this sub so I hope this isn't an annoying question or something."
      ],
      "text/plain": [
       "<IPython.core.display.Markdown object>"
      ]
     },
     "execution_count": 32,
     "metadata": {},
     "output_type": "execute_result"
    }
   ],
   "source": [
    "Markdown(query_fts_results.to_pandas().head(1)['content'].tolist()[0])"
   ]
  },
  {
   "cell_type": "code",
   "execution_count": 33,
   "metadata": {},
   "outputs": [
    {
     "data": {
      "text/markdown": [
       "I'm a New York State medical marijuana patient. I also work in healthcare. I applied to a new job at a new hospital, and they are discriminating against me for being a medical marijuana patient. I was offered the job and accepted, but when I went to get my pre-employment physical conducted, I gave them my medical marijuana card and informed them that I am a patient. They are now refusing to hire me. Is this legal? I already contacted the division of human rights at the labor department and they said I may or may not have a case."
      ],
      "text/plain": [
       "<IPython.core.display.Markdown object>"
      ]
     },
     "execution_count": 33,
     "metadata": {},
     "output_type": "execute_result"
    }
   ],
   "source": [
    "Markdown(query_vector_results.to_pandas().head(1)['content'].tolist()[0])"
   ]
  },
  {
   "cell_type": "code",
   "execution_count": 34,
   "metadata": {},
   "outputs": [
    {
     "data": {
      "text/html": [
       "<div>\n",
       "<style scoped>\n",
       "    .dataframe tbody tr th:only-of-type {\n",
       "        vertical-align: middle;\n",
       "    }\n",
       "\n",
       "    .dataframe tbody tr th {\n",
       "        vertical-align: top;\n",
       "    }\n",
       "\n",
       "    .dataframe thead th {\n",
       "        text-align: right;\n",
       "    }\n",
       "</style>\n",
       "<table border=\"1\" class=\"dataframe\">\n",
       "  <thead>\n",
       "    <tr style=\"text-align: right;\">\n",
       "      <th></th>\n",
       "      <th>index</th>\n",
       "      <th>created_utc</th>\n",
       "      <th>full_link</th>\n",
       "      <th>id</th>\n",
       "      <th>content</th>\n",
       "      <th>title</th>\n",
       "      <th>text_label</th>\n",
       "      <th>flair_label</th>\n",
       "      <th>vector</th>\n",
       "      <th>token_count</th>\n",
       "      <th>llm_title</th>\n",
       "      <th>State</th>\n",
       "      <th>kmeans_label</th>\n",
       "      <th>topic_title</th>\n",
       "      <th>score</th>\n",
       "      <th>_rowid</th>\n",
       "    </tr>\n",
       "  </thead>\n",
       "  <tbody>\n",
       "    <tr>\n",
       "      <th>0</th>\n",
       "      <td>7381</td>\n",
       "      <td>1590042919</td>\n",
       "      <td>https://www.reddit.com/r/legaladvice/comments/...</td>\n",
       "      <td>gnrqby</td>\n",
       "      <td>I have my medical marijuana card because mj le...</td>\n",
       "      <td>If I have a medical marijuana card can I be fi...</td>\n",
       "      <td>employment</td>\n",
       "      <td>5</td>\n",
       "      <td>[-0.0059105414, 8.900394e-05, 0.014213444, -0....</td>\n",
       "      <td>180</td>\n",
       "      <td>\"Medical Marijuana and Employment: Can failing...</td>\n",
       "      <td>DE</td>\n",
       "      <td>8</td>\n",
       "      <td>Employment Legal Concerns and Issues</td>\n",
       "      <td>21.860365</td>\n",
       "      <td>3185</td>\n",
       "    </tr>\n",
       "    <tr>\n",
       "      <th>1</th>\n",
       "      <td>1410</td>\n",
       "      <td>1588738046</td>\n",
       "      <td>https://www.reddit.com/r/legaladvice/comments/...</td>\n",
       "      <td>geczaw</td>\n",
       "      <td>i was driving without a license, I had a marij...</td>\n",
       "      <td>Got a license block as a minor</td>\n",
       "      <td>driving</td>\n",
       "      <td>4</td>\n",
       "      <td>[0.0020290152, -0.0046247216, 0.0039017021, -0...</td>\n",
       "      <td>243</td>\n",
       "      <td>\"Challenges with probation, drug tests, and li...</td>\n",
       "      <td>SD</td>\n",
       "      <td>10</td>\n",
       "      <td>Legal Topics in Traffic Violations</td>\n",
       "      <td>20.850960</td>\n",
       "      <td>3577</td>\n",
       "    </tr>\n",
       "    <tr>\n",
       "      <th>2</th>\n",
       "      <td>7331</td>\n",
       "      <td>1576018396</td>\n",
       "      <td>https://www.reddit.com/r/legaladvice/comments/...</td>\n",
       "      <td>e8y7gr</td>\n",
       "      <td>Hello,\\n\\nI was considering getting a medical ...</td>\n",
       "      <td>Considering getting a medical marijuana card- ...</td>\n",
       "      <td>employment</td>\n",
       "      <td>5</td>\n",
       "      <td>[-0.018918596, -0.009167221, 0.00857643, -0.05...</td>\n",
       "      <td>276</td>\n",
       "      <td>\"Legal implications of company drug policies a...</td>\n",
       "      <td>PA</td>\n",
       "      <td>8</td>\n",
       "      <td>Employment Legal Concerns and Issues</td>\n",
       "      <td>20.696045</td>\n",
       "      <td>1764</td>\n",
       "    </tr>\n",
       "    <tr>\n",
       "      <th>3</th>\n",
       "      <td>3114</td>\n",
       "      <td>1476760869</td>\n",
       "      <td>https://www.reddit.com/r/legaladvice/comments/...</td>\n",
       "      <td>581p64</td>\n",
       "      <td>Asking this for a friend who lives in a mobile...</td>\n",
       "      <td>Medical Marijuana: own the Mobile home but its...</td>\n",
       "      <td>housing</td>\n",
       "      <td>7</td>\n",
       "      <td>[0.014702618, 0.0030635837, 0.03439224, -0.035...</td>\n",
       "      <td>91</td>\n",
       "      <td>\"Legal rights of mobile home park residents in...</td>\n",
       "      <td>AZ</td>\n",
       "      <td>6</td>\n",
       "      <td>Compilation of Legal Topics</td>\n",
       "      <td>17.979671</td>\n",
       "      <td>1658</td>\n",
       "    </tr>\n",
       "    <tr>\n",
       "      <th>4</th>\n",
       "      <td>8075</td>\n",
       "      <td>1590524169</td>\n",
       "      <td>https://www.reddit.com/r/legaladvice/comments/...</td>\n",
       "      <td>gr4q8s</td>\n",
       "      <td>I'm a New York State medical marijuana patient...</td>\n",
       "      <td>Is it legal in New York to discriminate agains...</td>\n",
       "      <td>employment</td>\n",
       "      <td>5</td>\n",
       "      <td>[-0.01495087, -0.0094863335, 0.009920432, -0.0...</td>\n",
       "      <td>114</td>\n",
       "      <td>\"Can a hospital refuse to hire a medical marij...</td>\n",
       "      <td>MI</td>\n",
       "      <td>8</td>\n",
       "      <td>Employment Legal Concerns and Issues</td>\n",
       "      <td>17.294579</td>\n",
       "      <td>2172</td>\n",
       "    </tr>\n",
       "  </tbody>\n",
       "</table>\n",
       "</div>"
      ],
      "text/plain": [
       "   index  created_utc                                          full_link  \\\n",
       "0   7381   1590042919  https://www.reddit.com/r/legaladvice/comments/...   \n",
       "1   1410   1588738046  https://www.reddit.com/r/legaladvice/comments/...   \n",
       "2   7331   1576018396  https://www.reddit.com/r/legaladvice/comments/...   \n",
       "3   3114   1476760869  https://www.reddit.com/r/legaladvice/comments/...   \n",
       "4   8075   1590524169  https://www.reddit.com/r/legaladvice/comments/...   \n",
       "\n",
       "       id                                            content  \\\n",
       "0  gnrqby  I have my medical marijuana card because mj le...   \n",
       "1  geczaw  i was driving without a license, I had a marij...   \n",
       "2  e8y7gr  Hello,\\n\\nI was considering getting a medical ...   \n",
       "3  581p64  Asking this for a friend who lives in a mobile...   \n",
       "4  gr4q8s  I'm a New York State medical marijuana patient...   \n",
       "\n",
       "                                               title  text_label  flair_label  \\\n",
       "0  If I have a medical marijuana card can I be fi...  employment            5   \n",
       "1                     Got a license block as a minor     driving            4   \n",
       "2  Considering getting a medical marijuana card- ...  employment            5   \n",
       "3  Medical Marijuana: own the Mobile home but its...     housing            7   \n",
       "4  Is it legal in New York to discriminate agains...  employment            5   \n",
       "\n",
       "                                              vector  token_count  \\\n",
       "0  [-0.0059105414, 8.900394e-05, 0.014213444, -0....          180   \n",
       "1  [0.0020290152, -0.0046247216, 0.0039017021, -0...          243   \n",
       "2  [-0.018918596, -0.009167221, 0.00857643, -0.05...          276   \n",
       "3  [0.014702618, 0.0030635837, 0.03439224, -0.035...           91   \n",
       "4  [-0.01495087, -0.0094863335, 0.009920432, -0.0...          114   \n",
       "\n",
       "                                           llm_title State  kmeans_label  \\\n",
       "0  \"Medical Marijuana and Employment: Can failing...    DE             8   \n",
       "1  \"Challenges with probation, drug tests, and li...    SD            10   \n",
       "2  \"Legal implications of company drug policies a...    PA             8   \n",
       "3  \"Legal rights of mobile home park residents in...    AZ             6   \n",
       "4  \"Can a hospital refuse to hire a medical marij...    MI             8   \n",
       "\n",
       "                            topic_title      score  _rowid  \n",
       "0  Employment Legal Concerns and Issues  21.860365    3185  \n",
       "1    Legal Topics in Traffic Violations  20.850960    3577  \n",
       "2  Employment Legal Concerns and Issues  20.696045    1764  \n",
       "3           Compilation of Legal Topics  17.979671    1658  \n",
       "4  Employment Legal Concerns and Issues  17.294579    2172  "
      ]
     },
     "execution_count": 34,
     "metadata": {},
     "output_type": "execute_result"
    }
   ],
   "source": [
    "query_fts_results.to_pandas().head()"
   ]
  },
  {
   "cell_type": "code",
   "execution_count": null,
   "metadata": {},
   "outputs": [],
   "source": []
  },
  {
   "cell_type": "code",
   "execution_count": 19,
   "metadata": {},
   "outputs": [],
   "source": [
    "from typing import List, Literal\n",
    "from pydantic import BaseModel, Field\n",
    "\n",
    "class LegalCitation(BaseModel):\n",
    "    \"\"\"Information about a legal rule and its application.\"\"\"\n",
    "    \n",
    "    citation: str = Field(\n",
    "        default=\"None\",\n",
    "        description=\"The Citation specified by the user.\",\n",
    "    )\n",
    "    sentiment: Literal['Agree', 'Neutral', 'Disagree'] = Field(\n",
    "        default=\"Neutral\",\n",
    "        description=\"The Context's sentiment towards the Citation.\"\n",
    "    )\n",
    "    summary: str = Field(\n",
    "        ...,\n",
    "        description=\"A concise background summary of the Context in relation to the Citation.\",\n",
    "    )\n",
    "    hypothetical_applications: List[str] = Field(\n",
    "        default_factory=list,\n",
    "        description=\"Hypothetical questions or arguments that the Citation would apply to.\",\n",
    "    )\n",
    "    keywords: List[str] = Field(\n",
    "        default_factory=list, description=\"Keywords about the Citation from the Context.\"\n",
    "    )"
   ]
  },
  {
   "cell_type": "code",
   "execution_count": 20,
   "metadata": {},
   "outputs": [],
   "source": [
    "from tenacity import AsyncRetrying, stop_after_attempt, wait_fixed"
   ]
  },
  {
   "cell_type": "code",
   "execution_count": 21,
   "metadata": {},
   "outputs": [],
   "source": [
    "import time\n",
    "\n",
    "class Timer:\n",
    "    def __init__(self, name):\n",
    "        self.name = name\n",
    "        self.start = None\n",
    "        self.end = None\n",
    "\n",
    "    async def __aenter__(self):\n",
    "        self.start = time.time()\n",
    "\n",
    "    async def __aexit__(self, *args, **kwargs):\n",
    "        self.end = time.time()\n",
    "        print(f\"{self.name} took {(self.end - self.start):.2f} seconds\")"
   ]
  },
  {
   "cell_type": "code",
   "execution_count": 22,
   "metadata": {},
   "outputs": [],
   "source": [
    "import openai\n",
    "import instructor\n",
    "\n",
    "client = instructor.patch(openai.AsyncOpenAI())"
   ]
  },
  {
   "cell_type": "code",
   "execution_count": 23,
   "metadata": {},
   "outputs": [],
   "source": [
    "async def analyze_citations(citation, context):\n",
    "    return await client.chat.completions.create(\n",
    "        model=\"gpt-4-turbo-preview\",\n",
    "        response_model=LegalCitation,\n",
    "        max_retries=AsyncRetrying(\n",
    "        stop=stop_after_attempt(2),\n",
    "        wait=wait_fixed(1),\n",
    "    ),\n",
    "        messages=[\n",
    "            {\n",
    "                \"role\": \"system\",\n",
    "                \"content\": \"Your role is to extract information about a legal citation using the context provided and without prior knowledge.\",\n",
    "            },\n",
    "            {\"role\": \"user\", \"content\": f\"Your task focuses on citation: {citation}\"},\n",
    "            {\"role\": \"user\", \"content\": f\"Here is the context: {context}\"}\n",
    "        ]\n",
    "    )"
   ]
  },
  {
   "cell_type": "code",
   "execution_count": 28,
   "metadata": {},
   "outputs": [],
   "source": [
    "sample_df = merged_df.sample(10, random_state=42)\n",
    "sample_df.reset_index(inplace=True, drop=True)"
   ]
  },
  {
   "cell_type": "code",
   "execution_count": 25,
   "metadata": {},
   "outputs": [],
   "source": [
    "import asyncio\n",
    "import nest_asyncio\n",
    "nest_asyncio.apply()"
   ]
  },
  {
   "cell_type": "code",
   "execution_count": 29,
   "metadata": {},
   "outputs": [
    {
     "name": "stdout",
     "output_type": "stream",
     "text": [
      "asyncio.gather took 13.66 seconds\n"
     ]
    }
   ],
   "source": [
    "async with Timer(\"asyncio.gather\"):\n",
    "    tasks_ = [analyze_citations(row['citation'], row['context']) for _, row in sample_df.iterrows()]\n",
    "    all_data = await asyncio.gather(*tasks_)"
   ]
  },
  {
   "cell_type": "code",
   "execution_count": 30,
   "metadata": {},
   "outputs": [
    {
     "data": {
      "text/html": [
       "<div>\n",
       "<style scoped>\n",
       "    .dataframe tbody tr th:only-of-type {\n",
       "        vertical-align: middle;\n",
       "    }\n",
       "\n",
       "    .dataframe tbody tr th {\n",
       "        vertical-align: top;\n",
       "    }\n",
       "\n",
       "    .dataframe thead th {\n",
       "        text-align: right;\n",
       "    }\n",
       "</style>\n",
       "<table border=\"1\" class=\"dataframe\">\n",
       "  <thead>\n",
       "    <tr style=\"text-align: right;\">\n",
       "      <th></th>\n",
       "      <th>citation</th>\n",
       "      <th>sentiment</th>\n",
       "      <th>summary</th>\n",
       "      <th>hypothetical_applications</th>\n",
       "      <th>keywords</th>\n",
       "    </tr>\n",
       "  </thead>\n",
       "  <tbody>\n",
       "    <tr>\n",
       "      <th>0</th>\n",
       "      <td>259 F. Supp. 2d at 1036</td>\n",
       "      <td>Neutral</td>\n",
       "      <td>In the context provided, the citation concerns...</td>\n",
       "      <td>Would the court's decision apply in a case whe...</td>\n",
       "      <td>Grokster I, peer-to-peer file-sharing, copyrig...</td>\n",
       "    </tr>\n",
       "    <tr>\n",
       "      <th>1</th>\n",
       "      <td>676 F.3d at 31</td>\n",
       "      <td>Neutral</td>\n",
       "      <td>The context discusses the interpretation of sp...</td>\n",
       "      <td>Would an online service provider be excluded f...</td>\n",
       "      <td>Section 512(c), safe harbor, service provider,...</td>\n",
       "    </tr>\n",
       "    <tr>\n",
       "      <th>2</th>\n",
       "      <td>284 F.3d at 1098</td>\n",
       "      <td>Neutral</td>\n",
       "      <td>The context involves legal principles surround...</td>\n",
       "      <td>Would a court be able to modify an injunction ...</td>\n",
       "      <td>injunction, modify, preliminary injunction, in...</td>\n",
       "    </tr>\n",
       "    <tr>\n",
       "      <th>3</th>\n",
       "      <td>373 F.3d at 555</td>\n",
       "      <td>Neutral</td>\n",
       "      <td>In the context provided, the DMCA's relevance ...</td>\n",
       "      <td>Would the DMCA's safe harbor provisions apply ...</td>\n",
       "      <td>DMCA, safe harbor, copyright infringement, CoS...</td>\n",
       "    </tr>\n",
       "    <tr>\n",
       "      <th>4</th>\n",
       "      <td>2007 WL 1246448</td>\n",
       "      <td>Neutral</td>\n",
       "      <td>The context revolves around the uncertainty an...</td>\n",
       "      <td>How would the post-eBay legal landscape affect...</td>\n",
       "      <td>post-eBay, preliminary injunction, Ninth Circu...</td>\n",
       "    </tr>\n",
       "    <tr>\n",
       "      <th>5</th>\n",
       "      <td>464 U.S. 417</td>\n",
       "      <td>Neutral</td>\n",
       "      <td>In Sony Corp. v. Universal City Studios, Inc. ...</td>\n",
       "      <td>Would Sony’s Betamax case apply to modern stre...</td>\n",
       "      <td>Sony, Betamax, videocassette recorder, copyrig...</td>\n",
       "    </tr>\n",
       "    <tr>\n",
       "      <th>6</th>\n",
       "      <td>648 F.Supp. 1127</td>\n",
       "      <td>Neutral</td>\n",
       "      <td>The context discusses the case of Broderbund S...</td>\n",
       "      <td>Would a claim of damages based on increased op...</td>\n",
       "      <td>copyright infringement, damages, speculative c...</td>\n",
       "    </tr>\n",
       "    <tr>\n",
       "      <th>7</th>\n",
       "      <td>676 F.3d 19</td>\n",
       "      <td>Neutral</td>\n",
       "      <td>This case involves the application of establis...</td>\n",
       "      <td>Could the precedent set by this case be used t...</td>\n",
       "      <td>intellectual property, new technologies, film ...</td>\n",
       "    </tr>\n",
       "    <tr>\n",
       "      <th>8</th>\n",
       "      <td>373 F.3d at 555</td>\n",
       "      <td>Neutral</td>\n",
       "      <td>The context discusses a legal contention invol...</td>\n",
       "      <td>How would the DMCA apply in a case where a ser...</td>\n",
       "      <td>DMCA, copyright infringement, safe harbor, pre...</td>\n",
       "    </tr>\n",
       "    <tr>\n",
       "      <th>9</th>\n",
       "      <td>711 A.2d 951</td>\n",
       "      <td>Neutral</td>\n",
       "      <td>The citation 711 A.2d 951 refers to the case B...</td>\n",
       "      <td>Would the citation apply if a blog post contai...</td>\n",
       "      <td>defamation claim, false and defamatory stateme...</td>\n",
       "    </tr>\n",
       "  </tbody>\n",
       "</table>\n",
       "</div>"
      ],
      "text/plain": [
       "                  citation sentiment  \\\n",
       "0  259 F. Supp. 2d at 1036   Neutral   \n",
       "1           676 F.3d at 31   Neutral   \n",
       "2         284 F.3d at 1098   Neutral   \n",
       "3          373 F.3d at 555   Neutral   \n",
       "4          2007 WL 1246448   Neutral   \n",
       "5             464 U.S. 417   Neutral   \n",
       "6         648 F.Supp. 1127   Neutral   \n",
       "7              676 F.3d 19   Neutral   \n",
       "8          373 F.3d at 555   Neutral   \n",
       "9             711 A.2d 951   Neutral   \n",
       "\n",
       "                                             summary  \\\n",
       "0  In the context provided, the citation concerns...   \n",
       "1  The context discusses the interpretation of sp...   \n",
       "2  The context involves legal principles surround...   \n",
       "3  In the context provided, the DMCA's relevance ...   \n",
       "4  The context revolves around the uncertainty an...   \n",
       "5  In Sony Corp. v. Universal City Studios, Inc. ...   \n",
       "6  The context discusses the case of Broderbund S...   \n",
       "7  This case involves the application of establis...   \n",
       "8  The context discusses a legal contention invol...   \n",
       "9  The citation 711 A.2d 951 refers to the case B...   \n",
       "\n",
       "                           hypothetical_applications  \\\n",
       "0  Would the court's decision apply in a case whe...   \n",
       "1  Would an online service provider be excluded f...   \n",
       "2  Would a court be able to modify an injunction ...   \n",
       "3  Would the DMCA's safe harbor provisions apply ...   \n",
       "4  How would the post-eBay legal landscape affect...   \n",
       "5  Would Sony’s Betamax case apply to modern stre...   \n",
       "6  Would a claim of damages based on increased op...   \n",
       "7  Could the precedent set by this case be used t...   \n",
       "8  How would the DMCA apply in a case where a ser...   \n",
       "9  Would the citation apply if a blog post contai...   \n",
       "\n",
       "                                            keywords  \n",
       "0  Grokster I, peer-to-peer file-sharing, copyrig...  \n",
       "1  Section 512(c), safe harbor, service provider,...  \n",
       "2  injunction, modify, preliminary injunction, in...  \n",
       "3  DMCA, safe harbor, copyright infringement, CoS...  \n",
       "4  post-eBay, preliminary injunction, Ninth Circu...  \n",
       "5  Sony, Betamax, videocassette recorder, copyrig...  \n",
       "6  copyright infringement, damages, speculative c...  \n",
       "7  intellectual property, new technologies, film ...  \n",
       "8  DMCA, copyright infringement, safe harbor, pre...  \n",
       "9  defamation claim, false and defamatory stateme...  "
      ]
     },
     "execution_count": 30,
     "metadata": {},
     "output_type": "execute_result"
    }
   ],
   "source": [
    "data_dicts = [model.model_dump() for model in all_data]\n",
    "df_res = pd.DataFrame(data_dicts)\n",
    "df_res['keywords'] = df_res['keywords'].apply(lambda x: ', '.join(x))\n",
    "df_res['hypothetical_applications'] = df_res['hypothetical_applications'].apply(lambda x: ', '.join(x))\n",
    "df_res"
   ]
  },
  {
   "cell_type": "code",
   "execution_count": 31,
   "metadata": {},
   "outputs": [
    {
     "data": {
      "text/markdown": [
       "| citation                | sentiment   | summary                                                                                                                                                                                                                                                                                                                                                                                                                                                                                                                                                                                                                                                                                                                                                                                                                                                                                                                                                                                                                                       | hypothetical_applications                                                                                                                                                                                                                                                                                                                                                                                                                                                                                                                                       | keywords                                                                                                                                                                                  |\n",
       "|:------------------------|:------------|:----------------------------------------------------------------------------------------------------------------------------------------------------------------------------------------------------------------------------------------------------------------------------------------------------------------------------------------------------------------------------------------------------------------------------------------------------------------------------------------------------------------------------------------------------------------------------------------------------------------------------------------------------------------------------------------------------------------------------------------------------------------------------------------------------------------------------------------------------------------------------------------------------------------------------------------------------------------------------------------------------------------------------------------------|:----------------------------------------------------------------------------------------------------------------------------------------------------------------------------------------------------------------------------------------------------------------------------------------------------------------------------------------------------------------------------------------------------------------------------------------------------------------------------------------------------------------------------------------------------------------|:------------------------------------------------------------------------------------------------------------------------------------------------------------------------------------------|\n",
       "| 259 F. Supp. 2d at 1036 | Neutral     | In the context provided, the citation concerns a judicial stance on peer-to-peer file-sharing technology in the case, Grokster I. The court's decision indicated that the activities involved were too incidental to direct copyright infringement to constitute a material contribution. It was emphasized that the defendants did not host any infringing files or lists of infringing files, nor did they regulate or provide access to such files. The technology in question, despite attempts to portray it as a method to circumvent previous copyright infringement rulings (Napster I and II), was recognized for its varied applications beyond facilitating copyright infringement. The court notably highlighted the technology's role in significantly reducing distribution costs for public domain and permissively shared content, and in lessening centralized control over distribution. In light of these considerations, the court declined to expand contributory copyright liability as the copyright owners requested. | Would the court's decision apply in a case where a company's technology is primarily used for copyright infringement but has potential legitimate uses?, Can a platform be held liable for contributory copyright infringement if it does not host infringing content but indirectly benefits from the traffic generated by such content?, Does the decision imply that technologies with both infringing and non-infringing uses can always avoid contributory copyright liability?                                                                            | Grokster I, peer-to-peer file-sharing, copyright infringement, material contribution, public domain, permissively shared content, contributory copyright liability, Napster I, Napster II |\n",
       "| 676 F.3d at 31          | Neutral     | The context discusses the interpretation of specific provisions within Section 512(c) of a legal statute, focusing on the definition of 'service provider' and the scope of liability under the statute's safe harbor provisions for online service providers or network access operators. Specifically, it addresses the uncertainty in case law regarding whether exclusion from the § 512(c) safe harbor due to actual or 'red flag' knowledge of infringing activity limits liability merely to that infringing activity or more broadly. The citation, 676 F.3d at 31, is referenced in relation to this uncertainty, noting the limited case law interpreting the knowledge provisions of the § 512(c) safe harbor.                                                                                                                                                                                                                                                                                                                     | Would an online service provider be excluded from the § 512(c) safe harbor if it had 'red flag' knowledge of specific infringing content on its platform?, Does the liability limitation under the § 512(c) safe harbor apply only to the specific infringing activity known by the service provider, or does it extend to other activities as well?, How does the interpretation of 'financial benefit/right to control' provisions affect a service provider's eligibility for the § 512(c) safe harbor?                                                      | Section 512(c), safe harbor, service provider, online services, network access, case law, liability, infringing activity, red flag knowledge                                              |\n",
       "| 284 F.3d at 1098        | Neutral     | The context involves legal principles surrounding the adaptability of court orders, specifically injunctions, in response to new circumstances or facts. The citation comes from a case mentioned in support of the idea that a court has inherent authority to modify a preliminary injunction due to new facts. This concept is underscored by referencing several cases that together establish the principle that court orders, including injunctions, are not static. They can and should be adapted as necessary to address                                                                                                                                                                                                                                                                                                                                                                                                                                                                                                             | Would a court be able to modify an injunction if significant new evidence comes to light after the injunction is issued?, In a situation where there's a substantial change in law affecting the basis of a previously issued injunction, does the court have the authority to revisit and possibly modify the injunction?, Can a plaintiff request an amendment to an injunction based on unexpected developments that significantly affect the effectiveness of that injunction?                                                                              | injunction, modify, preliminary injunction, inherent authority, new facts                                                                                                                 |\n",
       "| 373 F.3d at 555         | Neutral     | In the context provided, the DMCA's relevance in determining what constitutes a prima facie case of copyright infringement is being discussed. Cox contends that the court's instruction on the DMCA was highly prejudicial. The cited case, CoStar Group, Inc., establishes that everyone agrees the DMCA is irrelevant in determining the criteria for a prima facie case of copyright infringement. The citation emphasizes that the effect of DMCA’s safe harbor provisions is to limit the remedies available against parties otherwise found liable for copyright infringement.                                                                                                                                                                                                                                                                                                                                                                                                                                                         | Would the DMCA's safe harbor provisions apply to a social media platform accused of copyright infringement by not taking down copyrighted content upon notification?, Is the DMCA relevant in a lawsuit where a content creator sues a website for copyright infringement for not implementing effective notice-and-takedown procedures?                                                                                                                                                                                                                        | DMCA, safe harbor, copyright infringement, CoStar Group, prima facie case                                                                                                                 |\n",
       "| 2007 WL 1246448         | Neutral     | The context revolves around the uncertainty and evolving nature of the law concerning the issuance of preliminary injunctions in the Ninth Circuit following the eBay Inc. v. MercExchange, L.L.C. decision. The reference to 2007 WL 1246448, along with other case citations, highlights the ongoing questions about the effects of the eBay decision on the standards and presumptions applicable to requests for such injunctions. Specifically, there's an implication that post-eBay, there may no longer be a presumption of irreparable harm in cases seeking permanent or preliminary injunctions, a notion that is considered in light of Amoco Production Co. v. Village of Gambell. This creates a legal environment where the applicability and strength of previous Ninth Circuit decisions on preliminary injunctions are in question.                                                                                                                                                                                         | How would the post-eBay legal landscape affect a startup's request for a preliminary injunction against a competitor accused of intellectual property infringement?, In the context of a patent dispute, would the absence of a presumption of irreparable harm influence the court's decision to grant a preliminary injunction?, Does the eBay decision impact the strategy of companies seeking to enforce non-compete agreements through preliminary injunctions in the Ninth Circuit?                                                                      | post-eBay, preliminary injunction, Ninth Circuit, irreparable harm, Amoco, patent dispute, intellectual property, non-compete agreements                                                  |\n",
       "| 464 U.S. 417            | Neutral     | In Sony Corp. v. Universal City Studios, Inc. (Sony), the Supreme Court considered Sony’s liability for selling the Betamax videocassette recorder. The ruling centered around a full trial record, scrutinizing whether Sony could be held liable for potential copyright infringement by users of the Betamax. The context highlights how the decision in Sony along with copyright law principles have informed distinctions in patent law, particularly between active inducement liability and contributory liability for distributing products not suitable for substantial noninfringing use. The discussion also touches upon overlapping yet distinct categories of culpable behavior in copyright and patent law.                                                                                                                                                                                                                                                                                                                   | Would Sony’s Betamax case apply to modern streaming devices in terms of liability for copyright infringement?, How does the distinction between active inducement liability and contributory liability impact tech companies' distribution of multi-purpose devices?, In what ways might a company mitigate risk when a product can be used for both infringing and non-infringing purposes?                                                                                                                                                                    | Sony, Betamax, videocassette recorder, copyright infringement, liability, patent law, active inducement, contributory liability                                                           |\n",
       "| 648 F.Supp. 1127        | Neutral     | The context discusses the case of Broderbund Software, Inc. v. Unison World, Inc., where the court found that the defendant may have profited from alleged copyright infringement. StreamCast made claims that damages were incurred due to Plaintiffs' refusal to assist, which made their filtering system more burdensome to update. However, such claims were deemed speculative and insufficient to prove discernible damages. The court suggested that StreamCast may have benefitted from the plaintiffs' refusal to cooperate, likely resulting in increased advertising revenue due to an ineffective filter facilitating direct infringement. The precedent set by this case was used to argue that StreamCast's business model profited from mass copyright infringement and that their claims of personal injury were unsubstantial. Furthermore, StreamCast's argument that the public would suffer harm if it were shut down was also mentioned.                                                                                | Would a claim of damages based on increased operational difficulties due to a third party's refusal to cooperate be considered sufficient for legal relief?, Can a defendant be considered to have profited from copyright infringement if there is no effective system to prevent such infringement?, Is a speculative claim of personal injury adequate to establish discernible damages in a copyright infringement case?                                                                                                                                    | copyright infringement, damages, speculative claims, benefited from infringement, advertising revenue, business model, mass infringement, personal injury                                 |\n",
       "| 676 F.3d 19             | Neutral     | This case involves the application of established intellectual property concepts to new technologies. It is referenced in the context of a broader discussion about intellectual property law and its intersection with new media and technologies. Specifically, the case of 676 F.3d 19 is mentioned alongside other notable cases that have addressed similar issues within the realm of intellectual property law. In this context, various film studios alleged that the services and websites maintained by Gary Fung and his company, isoHunt Web Technologies, Inc., induced third parties to download infringing copies of the studios' copyrighted works.                                                                                                                                                                                                                                                                                                                                                                           | Could the precedent set by this case be used to argue that a new file-sharing platform is liable for copyright infringement?, How might this case be cited in arguing for or against the applicability of copyright law to emerging technologies such as blockchain or non-fungible tokens (NFTs)?, In what way does this case influence the legal strategy of companies owning intellectual property rights when dealing with platforms that potentially facilitate copyright infringement?                                                                    | intellectual property, new technologies, film studios, copyright infringement, Gary Fung, isoHunt Web Technologies                                                                        |\n",
       "| 373 F.3d at 555         | Neutral     | The context discusses a legal contention involving the DMCA (Digital Millennium Copyright Act) and a court's instruction related to it. Cox argued that the instruction on the DMCA was highly prejudicial. The precedent established in CoStar Grp., Inc. v. LoopNet, Inc., as cited (373 F.3d at 555), holds that the DMCA is \"irrelevant to determining what constitutes a prima facie case of copyright infringement.\" This establishes that the DMCA's significance lies in its ability to limit remedies available against a party found liable for copyright infringement, rather than affecting the establishment of copyright infringement itself.                                                                                                                                                                                                                                                                                                                                                                                   | How would the DMCA apply in a case where a service provider is accused of copyright infringement but claims safe harbor protection?, In what circumstances can a party argue that the DMCA's safe harbor provisions do not affect the determination of a prima facie case of copyright infringement?                                                                                                                                                                                                                                                            | DMCA, copyright infringement, safe harbor, prejudicial, CoStar Grp., Inc., prima facie case                                                                                               |\n",
       "| 711 A.2d 951            | Neutral     | The citation 711 A.2d 951 refers to the case Beck v. Tribert, which discusses the requirements for stating a defamation claim under New Jersey law. According to this case, to establish a defamation claim, the Defendants must prove that the Plaintiffs made a false and defamatory statement of fact about them, that the Plaintiffs knew or should have known was false, and that this statement was communicated to third parties, causing damages.                                                                                                                                                                                                                                                                                                                                                                                                                                                                                                                                                                                     | Would the citation apply if a blog post contained false statements about a person that damaged their reputation, and the author should have known these statements were false?, Could this citation be relevant in a scenario where a public figure is accused of making untrue statements about a competitor on social media, causing them harm?, Does this citation provide a basis for action if a newsletter publishes false information about an individual's criminal record, knowing it could be false, and it leads to the individual losing their job? | defamation claim, false and defamatory statement, knew or should have known, communicated to third parties, causing damages                                                               |"
      ],
      "text/plain": [
       "<IPython.core.display.Markdown object>"
      ]
     },
     "execution_count": 31,
     "metadata": {},
     "output_type": "execute_result"
    }
   ],
   "source": [
    "Markdown(df_res.to_markdown(index=False))"
   ]
  },
  {
   "cell_type": "code",
   "execution_count": 32,
   "metadata": {},
   "outputs": [],
   "source": [
    "from lancedb.pydantic import pydantic_to_schema"
   ]
  },
  {
   "cell_type": "code",
   "execution_count": null,
   "metadata": {},
   "outputs": [],
   "source": []
  },
  {
   "cell_type": "code",
   "execution_count": null,
   "metadata": {},
   "outputs": [],
   "source": []
  },
  {
   "cell_type": "code",
   "execution_count": null,
   "metadata": {},
   "outputs": [],
   "source": []
  }
 ],
 "metadata": {
  "kernelspec": {
   "display_name": ".venv",
   "language": "python",
   "name": "python3"
  },
  "language_info": {
   "codemirror_mode": {
    "name": "ipython",
    "version": 3
   },
   "file_extension": ".py",
   "mimetype": "text/x-python",
   "name": "python",
   "nbconvert_exporter": "python",
   "pygments_lexer": "ipython3",
   "version": "3.10.13"
  }
 },
 "nbformat": 4,
 "nbformat_minor": 2
}
