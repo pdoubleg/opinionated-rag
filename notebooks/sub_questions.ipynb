{
 "cells": [
  {
   "cell_type": "code",
   "execution_count": 1,
   "metadata": {},
   "outputs": [
    {
     "data": {
      "text/plain": [
       "True"
      ]
     },
     "execution_count": 1,
     "metadata": {},
     "output_type": "execute_result"
    }
   ],
   "source": [
    "import os\n",
    "from dotenv import load_dotenv\n",
    "import pandas as pd\n",
    "import json\n",
    "from datetime import datetime\n",
    "from markdown import markdown\n",
    "from IPython.display import Markdown, display, HTML\n",
    "import warnings\n",
    "warnings.filterwarnings('ignore')\n",
    "pd.set_option('display.max_columns', None)\n",
    "load_dotenv()"
   ]
  },
  {
   "cell_type": "code",
   "execution_count": 2,
   "metadata": {},
   "outputs": [],
   "source": [
    "os.chdir(os.path.dirname(os.getcwd()))"
   ]
  },
  {
   "cell_type": "code",
   "execution_count": 24,
   "metadata": {},
   "outputs": [],
   "source": [
    "from concurrent.futures import ThreadPoolExecutor\n",
    "from urllib.parse import urlparse, parse_qs\n",
    "from readability import Document\n",
    "from datetime import datetime\n",
    "from bs4 import BeautifulSoup\n",
    "import requests\n",
    "import openai\n",
    "import ujson\n",
    "\n",
    "COMPLETION_MODEL = \"gpt-4-turbo-preview\"\n",
    "SOURCE_COUNT = 10\n",
    "\n",
    "def generate_search_query(text: str, model=\"gpt-4-turbo-preview\") -> str:\n",
    "    \"\"\"\n",
    "    Uses OpenAI's ChatCompletions to generate a search query from a given text.\n",
    "\n",
    "    ### Example:\n",
    "    For the text `What is the new Discord username system?`, a search query similar to `discord new username system` would be generated.\n",
    "    \"\"\"\n",
    "    client = openai.OpenAI()\n",
    "    return client.chat.completions.create(\n",
    "        model=model,\n",
    "        messages=[\n",
    "            {\"role\": \"system\", \"content\": \"Given a query, respond with the Google search query that would best help to answer the query. Don't use search operators. Respond with only the Google query and nothing else.\"},\n",
    "            {\"role\": \"user\", \"content\": text}\n",
    "        ]\n",
    "    ).choices[0].message.content\n",
    "\n",
    "\n",
    "def get_google_search_links(query: str, source_count: int = SOURCE_COUNT, proxies: dict = None) -> list[str]:\n",
    "    \"\"\"\n",
    "    Scrapes the official Google search page using the `requests` module and returns the first `source_count` links.\n",
    "\n",
    "    Args:\n",
    "        query (str): The search query.\n",
    "        source_count (int): The number of links to return.\n",
    "        proxies (dict, optional): Proxies to use for the request. Defaults to None.\n",
    "\n",
    "    Returns:\n",
    "        list[str]: A list of the first `source_count` links from the Google search.\n",
    "    \"\"\"\n",
    "    url = f\"https://www.google.com/search?q={query}\"\n",
    "    if proxies:\n",
    "        response = requests.get(url, proxies=proxies)\n",
    "    else:\n",
    "        response = requests.get(url)\n",
    "    soup = BeautifulSoup(response.text, \"html.parser\")\n",
    "    link_tags = soup.find_all(\"a\")\n",
    "    \n",
    "    links = []\n",
    "    for link in link_tags:\n",
    "        href = link.get(\"href\")\n",
    "        if href and href.startswith(\"/url?q=\"):\n",
    "            cleaned_href = parse_qs(urlparse(href).query)[\"q\"][0]\n",
    "            if cleaned_href not in links:\n",
    "                links.append(cleaned_href)\n",
    "\n",
    "    filtered_links = []\n",
    "    for link in links:\n",
    "        domain = urlparse(link).hostname\n",
    "        if domain and not any(site in domain for site in [\"google\", \"facebook\", \"twitter\", \"instagram\", \"youtube\", \"tiktok\"]):\n",
    "            if not any(new_url.hostname == domain for new_url in [urlparse(l) for l in filtered_links]):\n",
    "                filtered_links.append(link)\n",
    "    \n",
    "    return filtered_links[:source_count]\n",
    "\n",
    "def scrape_text_from_links(links: list, proxies: dict = None) -> list[dict]:   \n",
    "    \"\"\"\n",
    "    Uses a `ThreadPoolExecutor` to run `scrape_text_from_links` on each link in `links` concurrently, allowing for lightning-fast scraping.\n",
    "    \"\"\" \n",
    "    with ThreadPoolExecutor(max_workers=len(links)) as executor:\n",
    "        if proxies:\n",
    "            results = list(executor.map(scrape_text_from_link, links, [proxies] * len(links)))\n",
    "        else:\n",
    "            results = list(executor.map(scrape_text_from_link, links))\n",
    "    \n",
    "    for i, result in enumerate(results, start=1):\n",
    "        result[\"result_number\"] = i\n",
    "\n",
    "    return results\n",
    "    \n",
    "def scrape_text_from_link(link: str, proxies: dict = None) -> dict:\n",
    "    \"\"\"\n",
    "    Uses the `requests` module to scrape the text from a given link, and then uses the `readability-lxml` module along with `BeautifulSoup4` \n",
    "    to parse the text into a readable format. Implements robust error handling to ensure the function completes without throwing an error.\n",
    "\n",
    "    Args:\n",
    "        link (str): The URL of the webpage to scrape.\n",
    "        proxies (dict, optional): Proxies to use for the request. Defaults to None.\n",
    "\n",
    "    Returns:\n",
    "        dict: A dictionary containing the URL and the summarized text from the link. If an error occurs, returns a dictionary with the URL and an error message.\n",
    "    \"\"\"\n",
    "    try:\n",
    "        if proxies:\n",
    "            response = requests.get(link, proxies=proxies)\n",
    "        else:\n",
    "            response = requests.get(link)\n",
    "        response.raise_for_status()  # Raises a HTTPError if the response status code is 4XX/5XX\n",
    "    except requests.exceptions.RequestException as e:\n",
    "        return {\"url\": link, \"error\": f\"Failed to retrieve content: {str(e)}\"}\n",
    "\n",
    "    try:\n",
    "        doc = Document(response.text)\n",
    "        parsed = doc.summary()\n",
    "        soup = BeautifulSoup(parsed, \"html.parser\")\n",
    "        source_text = soup.get_text()\n",
    "    except Exception as e:\n",
    "        return {\"url\": link, \"error\": f\"Failed to parse content: {str(e)}\"}\n",
    "\n",
    "    try:\n",
    "        summarized_text = summarize_text(source_text[:50000])\n",
    "    except Exception as e:\n",
    "        return {\"url\": link, \"error\": f\"Failed to summarize content: {str(e)}\"}\n",
    "\n",
    "    return {\"url\": link, \"text\": summarized_text}\n",
    "\n",
    "def summarize_text(text: str, model=\"gpt-4-turbo-preview\") -> str:\n",
    "    \"\"\"\n",
    "    Uses OpenAI's ChatCompletions to summarize a given text.\n",
    "    \"\"\"\n",
    "    return openai.chat.completions.create(\n",
    "        model=model,\n",
    "        messages=[\n",
    "            {\"role\": \"system\", \"content\": \"Given text, respond with the summarized text (no more than 500 words) and nothing else.\"},\n",
    "            {\"role\": \"user\", \"content\": text}\n",
    "        ]\n",
    "    ).choices[0].message.content\n",
    "\n",
    "def search(query: str, proxies: dict = None) -> tuple[list[str], list[dict]]:\n",
    "    \"\"\"\n",
    "    This function takes a query as input, gets top Google search links for the query, and then scrapes the text from the links.\n",
    "    It returns a tuple containing the list of links and a list of dictionaries. Each dictionary contains the URL and the summarized text from the link.\n",
    "    \"\"\"\n",
    "    links = get_google_search_links(query, proxies=proxies)\n",
    "    sources = scrape_text_from_links(links, proxies=proxies)\n",
    "\n",
    "    return links, sources\n",
    "\n",
    "def perplexity_clone(query: str, proxies: dict = None, verbose=False) -> str:\n",
    "    \"\"\"\n",
    "    A clone of Perplexity AI's \"Search\" feature. This function takes a query as input and returns Markdown formatted text containing a response to the query with cited sources.\n",
    "    \"\"\"\n",
    "    client = openai.OpenAI()\n",
    "    formatted_time = datetime.utcnow().strftime(\"%A, %B %d, %Y %H:%M:%S UTC\")\n",
    "\n",
    "    search_query = generate_search_query(query)\n",
    "    if verbose:\n",
    "        print(f\"Searching \\\"{search_query}\\\"...\")\n",
    "    links, sources = search(search_query, proxies=proxies)\n",
    "    \n",
    "    print(f\"Links found: {links}\")\n",
    "\n",
    "    result = client.chat.completions.create(\n",
    "        model=COMPLETION_MODEL,\n",
    "        messages=[\n",
    "            {\"role\": \"system\", \"content\": \"Generate a comprehensive and informative answer for a given question solely based on the provided web Search Results (URL and Summary). You must only use information from the provided search results. Use an unbiased and journalistic tone. Use this current date and time: \" + formatted_time + \". Combine search results together into a coherent answer. Do not repeat text. Cite sources as [1] or [2] or [3] after each sentence (not just the very end) to back up your answer (Ex: Correct: [1], Correct: [2][3], Incorrect: [1, 2]). Only cite the most relevant results that answer the question accurately. If different results refer to different entities with the same name, write separate answers for each entity.\"},\n",
    "            {\"role\": \"user\", \"content\": ujson.dumps(sources)},\n",
    "            {\"role\": \"user\", \"content\": query}\n",
    "        ]\n",
    "    ).choices[0].message.content\n",
    "    result +=\"\\n\\n\"\n",
    "    result +=\"___\"\n",
    "    for i, link in enumerate(links, start=1):\n",
    "        parsed_url = urlparse(link)\n",
    "        base_url = parsed_url.netloc\n",
    "        # Optionally, remove 'www.' if present\n",
    "        base_url = base_url.replace(\"www.\", \"\")\n",
    "        result = result.replace(f\"[{i}]\", f\"<sup>[[{i}]]({link})</sup>\")\n",
    "        result += f\"* **[[{i}]](http://{base_url}) {base_url}**\\n\"\n",
    "\n",
    "    return result, sources"
   ]
  },
  {
   "cell_type": "code",
   "execution_count": 25,
   "metadata": {},
   "outputs": [
    {
     "name": "stdout",
     "output_type": "stream",
     "text": [
      "Searching \"2024 solar eclipse viewing locations Austin TX\"...\n",
      "Links found: ['https://nationaleclipse.com/cities/austin_texas.html', 'https://www.austintexas.org/events/eclipse-austin/', 'https://eclipse2024.org/eclipse_cities/blog-posts/what-will-the-2024-total-solar-eclipse-look-like-from-austin.html', 'https://www.austintexas.gov/readycentraltexas/eclipse', 'https://www.kvue.com/article/news/world/solar-eclipse/solar-eclipse-viewing-places-central-texas-austin-cities-parks/269-bbcf5531-9b4e-4fe6-a834-d1261768f3c3', 'http://library.austintexas.gov/eclipse', 'https://tpwd.texas.gov/state-parks/park-information/links/eclipse-viewing', 'https://www.statesman.com/story/entertainment/events/2024/02/29/total-solar-eclipse-2024-texas-events-tickets-guide-austin-central-texas/72777409007/', 'https://austin.eater.com/23893270/eclipse-texas-where-to-watch-central-texas-hill-country-austin-restaurants-wineries-breweries']\n"
     ]
    },
    {
     "data": {
      "text/markdown": [
       "The total solar eclipse occurring on April 8, 2024, presents a unique astronomical event for Austin, Texas, and the surrounding Central Texas region. This event is particularly noteworthy as it places Austin on the southern edge of the totality path, where the moon will completely obscure the sun, creating a twilight effect for a few minutes during the day <sup>[[3]](https://eclipse2024.org/eclipse_cities/blog-posts/what-will-the-2024-total-solar-eclipse-look-like-from-austin.html)</sup><sup>[[7]](https://tpwd.texas.gov/state-parks/park-information/links/eclipse-viewing)</sup>. This phenomenon is rare and highly anticipated, drawing large crowds to the area for a chance to witness total darkness in the daytime, an occurrence last seen in the Austin area more than 140 years ago <sup>[[5]](https://www.kvue.com/article/news/world/solar-eclipse/solar-eclipse-viewing-places-central-texas-austin-cities-parks/269-bbcf5531-9b4e-4fe6-a834-d1261768f3c3)</sup>.\n",
       "\n",
       "For those in Austin wanting to experience the eclipse's full effect, locations such as the Austin Zoo, Lady Bird Johnson Wildflower Center, and the Austin Aquarium are among several spots to consider, with totality start times ranging from approximately 1:35:21 PM CDT to 1:36:20 PM CDT. The durations of totality at these locations vary from about 1:24 to 2:58 minutes <sup>[[1]](https://nationaleclipse.com/cities/austin_texas.html)</sup>. However, for an extended experience of totality lasting over four minutes, areas outside Austin, including towns like Burnet, Marble Falls, and Killeen, are recommended <sup>[[3]](https://eclipse2024.org/eclipse_cities/blog-posts/what-will-the-2024-total-solar-eclipse-look-like-from-austin.html)</sup>.\n",
       "\n",
       "Safety and preparedness are paramount for both residents and visitors planning to partake in eclipse viewing. Essential safety measures include wearing proper eye protection at all times except during the brief phase of totality and being prepared for increased traffic and potential delays by arriving early to viewing spots and carrying extra food and water <sup>[[2]](https://www.austintexas.org/events/eclipse-austin/)</sup>. Additionally, it's crucial to use only eclipse glasses or viewers that meet the ISO 12312-2 international standard for direct sun viewing <sup>[[4]](https://www.austintexas.gov/readycentraltexas/eclipse)</sup>.\n",
       "\n",
       "Various local organizations, parks, and the City of Austin itself are hosting viewing parties and events offering educational resources, activities, and free eclipse glasses at select locations to ensure a safe and enjoyable viewing experience. These gatherings are spread across Austin and Central Texas, including Travis County, Williamson County, Georgetown, Burnet County, Lampasas County, Hays County, and Fredericksburg, reflecting a community-wide engagement with the event <sup>[[4]](https://www.austintexas.gov/readycentraltexas/eclipse)</sup><sup>[[5]](https://www.kvue.com/article/news/world/solar-eclipse/solar-eclipse-viewing-places-central-texas-austin-cities-parks/269-bbcf5531-9b4e-4fe6-a834-d1261768f3c3)</sup>.\n",
       "\n",
       "Given the influx of tourists and the historical significance of this eclipse—the first visible in North America since 2017 and the last until 2044—extensive preparations are underway. This includes traffic management, public safety measures, and providing ample opportunities for education and engagement with the astronomical occurrence. Travis County has even declared a local disaster to better manage the expected surge in visitors <sup>[[4]](https://www.austintexas.gov/readycentraltexas/eclipse)</sup>.\n",
       "\n",
       "For those interested in themed festivities, the eclipse will also be celebrated at various locations with special events and offerings, ranging from educational talks by NASA to themed parties at vineyards and estates, providing unique ways to enjoy the rare solar eclipse experience across Texas <sup>[[6]](http://library.austintexas.gov/eclipse)</sup><sup>[[8]](https://www.statesman.com/story/entertainment/events/2024/02/29/total-solar-eclipse-2024-texas-events-tickets-guide-austin-central-texas/72777409007/)</sup><sup>[[9]](https://austin.eater.com/23893270/eclipse-texas-where-to-watch-central-texas-hill-country-austin-restaurants-wineries-breweries)</sup>.\n",
       "\n",
       "* **[[1]](http://nationaleclipse.com)** nationaleclipse.com\n",
       "* **[[2]](http://austintexas.org)** austintexas.org\n",
       "* **[[3]](http://eclipse2024.org)** eclipse2024.org\n",
       "* **[[4]](http://austintexas.gov)** austintexas.gov\n",
       "* **[[5]](http://kvue.com)** kvue.com\n",
       "* **[[6]](http://library.austintexas.gov)** library.austintexas.gov\n",
       "* **[[7]](http://tpwd.texas.gov)** tpwd.texas.gov\n",
       "* **[[8]](http://statesman.com)** statesman.com\n",
       "* **[[9]](http://austin.eater.com)** austin.eater.com\n"
      ],
      "text/plain": [
       "<IPython.core.display.Markdown object>"
      ]
     },
     "metadata": {},
     "output_type": "display_data"
    }
   ],
   "source": [
    "test, sources = perplexity_clone(query=\"2024 solar eclipse austin tx\", verbose=True)\n",
    "display(Markdown(test))"
   ]
  },
  {
   "cell_type": "code",
   "execution_count": 27,
   "metadata": {},
   "outputs": [
    {
     "data": {
      "text/plain": [
       "{'url': 'https://nationaleclipse.com/cities/austin_texas.html',\n",
       " 'text': \"This text provides a list of locations in Austin, Texas, with corresponding start times and durations for an eclipse totality event. It mentions various places such as the Austin Zoo, Lady Bird Johnson Wildflower Center, and the Austin Aquarium, among others, with totality start times ranging from 1:35:21 PM CDT to 1:36:20 PM CDT and durations from 1:24 to 2:58 minutes. The text also notes that these times and durations are approximate, particularly for large areas like parks and campuses, and advises using Xavier Jubier's interactive Google eclipse maps for precise timing and duration at specific locations. The duration mentioned refers to the total eclipse's duration, expressed in minutes and seconds. Additionally, there's a mention of events and festivals celebrating the eclipse in Austin.\",\n",
       " 'result_number': 1}"
      ]
     },
     "execution_count": 27,
     "metadata": {},
     "output_type": "execute_result"
    }
   ],
   "source": [
    "sources[0]"
   ]
  },
  {
   "cell_type": "code",
   "execution_count": null,
   "metadata": {},
   "outputs": [],
   "source": []
  }
 ],
 "metadata": {
  "kernelspec": {
   "display_name": ".venv",
   "language": "python",
   "name": "python3"
  },
  "language_info": {
   "codemirror_mode": {
    "name": "ipython",
    "version": 3
   },
   "file_extension": ".py",
   "mimetype": "text/x-python",
   "name": "python",
   "nbconvert_exporter": "python",
   "pygments_lexer": "ipython3",
   "version": "3.10.11"
  }
 },
 "nbformat": 4,
 "nbformat_minor": 2
}
