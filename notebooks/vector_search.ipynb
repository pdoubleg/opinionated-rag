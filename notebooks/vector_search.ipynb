{
 "cells": [
  {
   "cell_type": "code",
   "execution_count": 1,
   "metadata": {},
   "outputs": [
    {
     "data": {
      "text/html": [
       "<div>\n",
       "<style scoped>\n",
       "    .dataframe tbody tr th:only-of-type {\n",
       "        vertical-align: middle;\n",
       "    }\n",
       "\n",
       "    .dataframe tbody tr th {\n",
       "        vertical-align: top;\n",
       "    }\n",
       "\n",
       "    .dataframe thead th {\n",
       "        text-align: right;\n",
       "    }\n",
       "</style>\n",
       "<table border=\"1\" class=\"dataframe\">\n",
       "  <thead>\n",
       "    <tr style=\"text-align: right;\">\n",
       "      <th></th>\n",
       "      <th>index</th>\n",
       "      <th>created_utc</th>\n",
       "      <th>full_link</th>\n",
       "      <th>id</th>\n",
       "      <th>body</th>\n",
       "      <th>title</th>\n",
       "      <th>text_label</th>\n",
       "      <th>flair_label</th>\n",
       "      <th>embeddings</th>\n",
       "      <th>token_count</th>\n",
       "      <th>llm_title</th>\n",
       "      <th>state</th>\n",
       "      <th>kmeans_label</th>\n",
       "      <th>topic_title</th>\n",
       "      <th>splade_embeddings</th>\n",
       "    </tr>\n",
       "  </thead>\n",
       "  <tbody>\n",
       "    <tr>\n",
       "      <th>0</th>\n",
       "      <td>1078</td>\n",
       "      <td>1575952538</td>\n",
       "      <td>https://www.reddit.com/r/legaladvice/comments/...</td>\n",
       "      <td>e8lsen</td>\n",
       "      <td>I applied for a job and after two interviews I...</td>\n",
       "      <td>Failed a drug test due to amphetamines, I have...</td>\n",
       "      <td>employment</td>\n",
       "      <td>5</td>\n",
       "      <td>[9.475638042064453e-05, 0.0005111666301983955,...</td>\n",
       "      <td>493</td>\n",
       "      <td>\"Validity of Schedule II Drug Prescription in ...</td>\n",
       "      <td>PR</td>\n",
       "      <td>8</td>\n",
       "      <td>Employment Legal Concerns and Issues</td>\n",
       "      <td>[0.0, 0.0, 0.0, 0.0, 0.0, 0.0, 0.0, 0.0, 0.0, ...</td>\n",
       "    </tr>\n",
       "    <tr>\n",
       "      <th>1</th>\n",
       "      <td>2098</td>\n",
       "      <td>1577442453</td>\n",
       "      <td>https://www.reddit.com/r/legaladvice/comments/...</td>\n",
       "      <td>eg9ll2</td>\n",
       "      <td>Hi everyone, thanks in advance for any guidanc...</td>\n",
       "      <td>Speeding ticket in Tennessee, Georgia Driver's...</td>\n",
       "      <td>driving</td>\n",
       "      <td>4</td>\n",
       "      <td>[-0.006706413111028856, 0.020911016696181495, ...</td>\n",
       "      <td>252</td>\n",
       "      <td>\"Speeding ticket consequences for out-of-state...</td>\n",
       "      <td>KY</td>\n",
       "      <td>10</td>\n",
       "      <td>Legal Topics in Traffic Violations</td>\n",
       "      <td>[0.0, 0.0, 0.0, 0.0, 0.0, 0.0, 0.0, 0.0, 0.0, ...</td>\n",
       "    </tr>\n",
       "  </tbody>\n",
       "</table>\n",
       "</div>"
      ],
      "text/plain": [
       "   index  created_utc                                          full_link  \\\n",
       "0   1078   1575952538  https://www.reddit.com/r/legaladvice/comments/...   \n",
       "1   2098   1577442453  https://www.reddit.com/r/legaladvice/comments/...   \n",
       "\n",
       "       id                                               body  \\\n",
       "0  e8lsen  I applied for a job and after two interviews I...   \n",
       "1  eg9ll2  Hi everyone, thanks in advance for any guidanc...   \n",
       "\n",
       "                                               title  text_label  flair_label  \\\n",
       "0  Failed a drug test due to amphetamines, I have...  employment            5   \n",
       "1  Speeding ticket in Tennessee, Georgia Driver's...     driving            4   \n",
       "\n",
       "                                          embeddings  token_count  \\\n",
       "0  [9.475638042064453e-05, 0.0005111666301983955,...          493   \n",
       "1  [-0.006706413111028856, 0.020911016696181495, ...          252   \n",
       "\n",
       "                                           llm_title state  kmeans_label  \\\n",
       "0  \"Validity of Schedule II Drug Prescription in ...    PR             8   \n",
       "1  \"Speeding ticket consequences for out-of-state...    KY            10   \n",
       "\n",
       "                            topic_title  \\\n",
       "0  Employment Legal Concerns and Issues   \n",
       "1    Legal Topics in Traffic Violations   \n",
       "\n",
       "                                   splade_embeddings  \n",
       "0  [0.0, 0.0, 0.0, 0.0, 0.0, 0.0, 0.0, 0.0, 0.0, ...  \n",
       "1  [0.0, 0.0, 0.0, 0.0, 0.0, 0.0, 0.0, 0.0, 0.0, ...  "
      ]
     },
     "execution_count": 1,
     "metadata": {},
     "output_type": "execute_result"
    }
   ],
   "source": [
    "import os\n",
    "os.environ[\"KMP_DUPLICATE_LIB_OK\"] = \"TRUE\"\n",
    "import re\n",
    "from dotenv import load_dotenv\n",
    "import pandas as pd\n",
    "\n",
    "from IPython.display import Markdown, display, HTML\n",
    "import warnings\n",
    "warnings.filterwarnings('ignore')\n",
    "pd.set_option('display.max_columns', None)\n",
    "load_dotenv()\n",
    "os.chdir(os.path.dirname(os.getcwd()))\n",
    "\n",
    "df = pd.read_parquet(\"./data/splade_embeds.parquet\")\n",
    "# Convert column names to snake_case for compatibility with LanceDB\n",
    "original_columns = df.columns\n",
    "snake_case_columns = {col: re.sub(r'(?<!^)(?=[A-Z])', '_', col).lower() for col in original_columns}\n",
    "df.rename(columns=snake_case_columns, inplace=True)\n",
    "df.head(2)"
   ]
  },
  {
   "cell_type": "code",
   "execution_count": 2,
   "metadata": {},
   "outputs": [],
   "source": [
    "df.sort_values(by='token_count', ascending=False, inplace=True)"
   ]
  },
  {
   "cell_type": "code",
   "execution_count": 4,
   "metadata": {},
   "outputs": [
    {
     "name": "stderr",
     "output_type": "stream",
     "text": [
      "\u001b[32m2024-03-20 01:37:40 - INFO - Using pre-computed 'body' embeddings from existing column: splade_embeddings\u001b[0m\n",
      "\u001b[32m2024-03-20 01:37:40 - INFO - Using pre-computed 'body' embeddings from existing column: splade_embeddings\u001b[0m\n"
     ]
    }
   ],
   "source": [
    "from src.search.query_expansion import segment\n",
    "\n",
    "queries = segment(\n",
    "    test_query,\n",
    "    n='3 to 5'\n",
    ")"
   ]
  },
  {
   "cell_type": "code",
   "execution_count": 5,
   "metadata": {},
   "outputs": [
    {
     "data": {
      "text/plain": [
       "[SubQuestion(chain_of_thought=\"To determine if the user is exempt from overtime payment, it's necessary to understand the criteria for overtime exemption under New York State labor laws, especially for salaried employees and those in managerial positions like 'Director of IT'.\", sub_question_topic='Overtime Exemption Criteria in New York', sub_question_query='What are the criteria for overtime exemption for salaried employees in New York State?', sub_question_keywords=['overtime exemption', 'salaried employees', 'New York State labor laws']),\n",
       " SubQuestion(chain_of_thought=\"Given the user's significant increase in work hours to meet a deadline, it's important to explore if there are specific laws or regulations in New York State that address compensation for excessive overtime, particularly for positions like 'Director of IT'.\", sub_question_topic='Compensation for Excessive Overtime in New York', sub_question_query='Are there laws in New York State regarding compensation for excessive overtime for managerial positions?', sub_question_keywords=['excessive overtime compensation', 'managerial positions', 'New York State']),\n",
       " SubQuestion(chain_of_thought=\"To address the user's question about the paid vacation days clause, it's essential to understand how vacation accrual clauses are typically interpreted in employment contracts, and if there's a standard interpretation that could apply to the user's situation.\", sub_question_topic='Interpretation of Vacation Accrual Clauses', sub_question_query='How are vacation accrual clauses in employment contracts typically interpreted?', sub_question_keywords=['vacation accrual clauses', 'employment contracts', 'interpretation']),\n",
       " SubQuestion(chain_of_thought=\"Considering the discrepancy between the user's understanding and HR's interpretation of the vacation days clause, it would be helpful to know if there are common legal precedents or guidelines in New York State that could clarify such disputes.\", sub_question_topic='Legal Precedents for Vacation Days Disputes in New York', sub_question_query='Are there legal precedents or guidelines in New York State for resolving disputes over vacation days in employment contracts?', sub_question_keywords=['legal precedents', 'vacation days disputes', 'New York State employment contracts'])]"
      ]
     },
     "execution_count": 5,
     "metadata": {},
     "output_type": "execute_result"
    }
   ],
   "source": [
    "queries.searches"
   ]
  },
  {
   "cell_type": "code",
   "execution_count": 6,
   "metadata": {},
   "outputs": [
    {
     "name": "stderr",
     "output_type": "stream",
     "text": [
      "\u001b[32m2024-03-20 01:38:06 - INFO - \n",
      "\n",
      "Thought: To determine if the user is exempt from overtime payment, it's necessary to understand the criteria\n",
      "for overtime exemption under New York State labor laws, especially for salaried employees and those\n",
      "in managerial positions like 'Director of IT'.\n",
      "Search topic: Overtime Exemption Criteria in New York\u001b[0m\n",
      "\u001b[32m2024-03-20 01:38:06 - INFO - Running vector (OpenAI) search on: What are the criteria for overtime exemption for salaried employees in New York State?\u001b[0m\n",
      "\u001b[32m2024-03-20 01:38:07 - INFO - Running keyword (SPLADE) search on: overtime exemption, salaried employees, New York State labor laws\u001b[0m\n",
      "\u001b[32m2024-03-20 01:38:07 - INFO - Returning 10 records from vector search and 10 from keywords\u001b[0m\n",
      "\u001b[32m2024-03-20 01:38:07 - INFO - Results contain 15 unique IDs\u001b[0m\n",
      "\u001b[32m2024-03-20 01:38:07 - INFO - ---------------------------------------------------------------------------\u001b[0m\n",
      "\u001b[32m2024-03-20 01:38:07 - INFO - \n",
      "\n",
      "Thought: Given the user's significant increase in work hours to meet a deadline, it's important to explore if\n",
      "there are specific laws or regulations in New York State that address compensation for excessive\n",
      "overtime, particularly for positions like 'Director of IT'.\n",
      "Search topic: Compensation for Excessive Overtime in New York\u001b[0m\n",
      "\u001b[32m2024-03-20 01:38:07 - INFO - Running vector (OpenAI) search on: Are there laws in New York State regarding compensation for excessive overtime for managerial positions?\u001b[0m\n",
      "\u001b[32m2024-03-20 01:38:07 - INFO - Running keyword (SPLADE) search on: excessive overtime compensation, managerial positions, New York State\u001b[0m\n",
      "\u001b[32m2024-03-20 01:38:07 - INFO - Returning 10 records from vector search and 10 from keywords\u001b[0m\n",
      "\u001b[32m2024-03-20 01:38:07 - INFO - Results contain 15 unique IDs\u001b[0m\n",
      "\u001b[32m2024-03-20 01:38:07 - INFO - ---------------------------------------------------------------------------\u001b[0m\n",
      "\u001b[32m2024-03-20 01:38:07 - INFO - \n",
      "\n",
      "Thought: To address the user's question about the paid vacation days clause, it's essential to understand how\n",
      "vacation accrual clauses are typically interpreted in employment contracts, and if there's a\n",
      "standard interpretation that could apply to the user's situation.\n",
      "Search topic: Interpretation of Vacation Accrual Clauses\u001b[0m\n",
      "\u001b[32m2024-03-20 01:38:07 - INFO - Running vector (OpenAI) search on: How are vacation accrual clauses in employment contracts typically interpreted?\u001b[0m\n",
      "\u001b[32m2024-03-20 01:38:07 - INFO - Running keyword (SPLADE) search on: vacation accrual clauses, employment contracts, interpretation\u001b[0m\n",
      "\u001b[32m2024-03-20 01:38:07 - INFO - Returning 10 records from vector search and 10 from keywords\u001b[0m\n",
      "\u001b[32m2024-03-20 01:38:07 - INFO - Results contain 15 unique IDs\u001b[0m\n",
      "\u001b[32m2024-03-20 01:38:07 - INFO - ---------------------------------------------------------------------------\u001b[0m\n",
      "\u001b[32m2024-03-20 01:38:07 - INFO - \n",
      "\n",
      "Thought: Considering the discrepancy between the user's understanding and HR's interpretation of the vacation\n",
      "days clause, it would be helpful to know if there are common legal precedents or guidelines in New\n",
      "York State that could clarify such disputes.\n",
      "Search topic: Legal Precedents for Vacation Days Disputes in New York\u001b[0m\n",
      "\u001b[32m2024-03-20 01:38:07 - INFO - Running vector (OpenAI) search on: Are there legal precedents or guidelines in New York State for resolving disputes over vacation days in employment contracts?\u001b[0m\n",
      "\u001b[32m2024-03-20 01:38:08 - INFO - Running keyword (SPLADE) search on: legal precedents, vacation days disputes, New York State employment contracts\u001b[0m\n",
      "\u001b[32m2024-03-20 01:38:08 - INFO - Returning 10 records from vector search and 10 from keywords\u001b[0m\n",
      "\u001b[32m2024-03-20 01:38:08 - INFO - Results contain 16 unique IDs\u001b[0m\n",
      "\u001b[32m2024-03-20 01:38:08 - INFO - ---------------------------------------------------------------------------\u001b[0m\n"
     ]
    }
   ],
   "source": [
    "vector_results, keyword_results = queries.execute()"
   ]
  },
  {
   "cell_type": "code",
   "execution_count": 7,
   "metadata": {},
   "outputs": [],
   "source": [
    "from src.search.doc_joiner import DocJoinerDF\n",
    "from src.embedding_models.models import ColbertReranker\n",
    "from src.search.threadpool import run_functions_tuples_in_parallel"
   ]
  },
  {
   "cell_type": "code",
   "execution_count": 8,
   "metadata": {},
   "outputs": [],
   "source": [
    "USEFUL_PAT = \"Yes useful\"\n",
    "NONUSEFUL_PAT = \"Not useful\"\n",
    "CHUNK_FILTER_PROMPT = f\"\"\"\n",
    "Determine if the reference section is USEFUL for answering the user query.\n",
    "It is good enough for the section to be related or similar to the query, \\\n",
    "it should be relevant information that is USEFUL for answering the query.\n",
    "If the section contains ANY useful information, that is good enough, \\\n",
    "it does not need to fully answer the every part of the user query.\n",
    "\n",
    "Reference Section:\n",
    "```\n",
    "{{chunk_text}}\n",
    "```\n",
    "\n",
    "User Query:\n",
    "```\n",
    "{{user_query}}\n",
    "```\n",
    "\n",
    "Respond with EXACTLY AND ONLY: \"{USEFUL_PAT}\" or \"{NONUSEFUL_PAT}\"\n",
    "\"\"\".strip()"
   ]
  },
  {
   "cell_type": "code",
   "execution_count": 9,
   "metadata": {},
   "outputs": [],
   "source": [
    "from langchain.schema.messages import AIMessage\n",
    "from langchain.schema.messages import BaseMessage\n",
    "from langchain.schema.messages import HumanMessage\n",
    "from langchain.schema.messages import SystemMessage\n",
    "\n",
    "def dict_based_prompt_to_langchain_prompt(\n",
    "    messages: list[dict[str, str]]\n",
    ") -> list[BaseMessage]:\n",
    "    prompt: list[BaseMessage] = []\n",
    "    for message in messages:\n",
    "        role = message.get(\"role\")\n",
    "        content = message.get(\"content\")\n",
    "        if not role:\n",
    "            raise ValueError(f\"Message missing `role`: {message}\")\n",
    "        if not content:\n",
    "            raise ValueError(f\"Message missing `content`: {message}\")\n",
    "        elif role == \"user\":\n",
    "            prompt.append(HumanMessage(content=content))\n",
    "        elif role == \"system\":\n",
    "            prompt.append(SystemMessage(content=content))\n",
    "        elif role == \"assistant\":\n",
    "            prompt.append(AIMessage(content=content))\n",
    "        else:\n",
    "            raise ValueError(f\"Unknown role: {role}\")\n",
    "    return prompt"
   ]
  },
  {
   "cell_type": "code",
   "execution_count": 10,
   "metadata": {},
   "outputs": [],
   "source": [
    "from typing import Callable\n",
    "from langchain_openai import ChatOpenAI\n",
    "\n",
    "def llm_eval_chunk(query: str, chunk_content: str) -> bool:\n",
    "    def _get_usefulness_messages() -> list[dict[str, str]]:\n",
    "        messages = [\n",
    "            {\n",
    "                \"role\": \"user\",\n",
    "                \"content\": CHUNK_FILTER_PROMPT.format(\n",
    "                    chunk_text=chunk_content, user_query=query\n",
    "                ),\n",
    "            },\n",
    "        ]\n",
    "\n",
    "        return messages\n",
    "\n",
    "    def _extract_usefulness(model_output: str) -> bool:\n",
    "        \"\"\"Default 'useful' if the LLM doesn't match pattern exactly.\n",
    "        This is because it's better to trust the (re)ranking if LLM fails\"\"\"\n",
    "        if model_output.content.strip().strip('\"').lower() == NONUSEFUL_PAT.lower():\n",
    "            return False\n",
    "        return True\n",
    "\n",
    "    llm = ChatOpenAI(model='gpt-3.5-turbo')\n",
    "\n",
    "    messages = _get_usefulness_messages()\n",
    "    filled_llm_prompt = dict_based_prompt_to_langchain_prompt(messages)\n",
    "    model_output = llm.invoke(filled_llm_prompt)\n",
    "\n",
    "    return _extract_usefulness(model_output)\n",
    "\n",
    "\n",
    "def llm_batch_eval_chunks(\n",
    "    query: str, chunk_contents: list[str], use_threads: bool = True\n",
    ") -> list[bool]:\n",
    "    if use_threads:\n",
    "        functions_with_args: list[tuple[Callable, tuple]] = [\n",
    "            (llm_eval_chunk, (query, chunk_content)) for chunk_content in chunk_contents\n",
    "        ]\n",
    "\n",
    "        print(\n",
    "            \"Running LLM usefulness eval in parallel (following logging may be out of order)\"\n",
    "        )\n",
    "        parallel_results = run_functions_tuples_in_parallel(\n",
    "            functions_with_args, allow_failures=True\n",
    "        )\n",
    "\n",
    "        # In case of failure/timeout, don't throw out the chunk\n",
    "        return [True if item is None else item for item in parallel_results]\n",
    "\n",
    "    else:\n",
    "        return [\n",
    "            llm_eval_chunk(query, chunk_content) for chunk_content in chunk_contents\n",
    "        ]"
   ]
  },
  {
   "cell_type": "code",
   "execution_count": 11,
   "metadata": {},
   "outputs": [],
   "source": [
    "from llama_index_client import TextNode\n",
    "from src.search.models import dataframe_to_text_nodes\n",
    "\n",
    "def filter_chunks(\n",
    "    query: str,\n",
    "    chunks_to_filter: list[TextNode],\n",
    "    max_llm_filter_chunks: int = 20,\n",
    ") -> list[TextNode]:\n",
    "    \"\"\"Filters chunks based on whether the LLM thought they were relevant to the query.\n",
    "\n",
    "    Args:\n",
    "        query (str): The query to filter chunks against.\n",
    "        chunks_to_filter (list[TextNode]): A list of TextNode objects to filter.\n",
    "        max_llm_filter_chunks (int, optional): The maximum number of chunks to consider. Defaults to 20.\n",
    "\n",
    "    Returns:\n",
    "        list[TextNode]: A list of TextNode objects that were marked as relevant.\n",
    "    \"\"\"\n",
    "    chunks_to_filter = chunks_to_filter[: max_llm_filter_chunks]\n",
    "    llm_chunk_selection = llm_batch_eval_chunks(\n",
    "        query=query,\n",
    "        chunk_contents=[chunk.text for chunk in chunks_to_filter],\n",
    "    )\n",
    "    return [\n",
    "        chunk\n",
    "        for ind, chunk in enumerate(chunks_to_filter)\n",
    "        if llm_chunk_selection[ind]\n",
    "    ]"
   ]
  },
  {
   "cell_type": "code",
   "execution_count": 12,
   "metadata": {},
   "outputs": [],
   "source": [
    "cols = df.columns.tolist()\n",
    "cols.remove('embeddings')\n",
    "\n",
    "i = 0\n",
    "\n",
    "query = queries.searches[i].sub_question_keywords\n",
    "nodes = dataframe_to_text_nodes(\n",
    "    keyword_results[i],\n",
    "    id_column='index', \n",
    "    text_col='body', \n",
    "    metadata_fields=cols\n",
    ")"
   ]
  },
  {
   "cell_type": "code",
   "execution_count": 13,
   "metadata": {},
   "outputs": [
    {
     "data": {
      "text/html": [
       "<div>\n",
       "<style scoped>\n",
       "    .dataframe tbody tr th:only-of-type {\n",
       "        vertical-align: middle;\n",
       "    }\n",
       "\n",
       "    .dataframe tbody tr th {\n",
       "        vertical-align: top;\n",
       "    }\n",
       "\n",
       "    .dataframe thead th {\n",
       "        text-align: right;\n",
       "    }\n",
       "</style>\n",
       "<table border=\"1\" class=\"dataframe\">\n",
       "  <thead>\n",
       "    <tr style=\"text-align: right;\">\n",
       "      <th></th>\n",
       "      <th>text</th>\n",
       "      <th>index</th>\n",
       "      <th>created_utc</th>\n",
       "      <th>full_link</th>\n",
       "      <th>id</th>\n",
       "      <th>body</th>\n",
       "      <th>title</th>\n",
       "      <th>text_label</th>\n",
       "      <th>flair_label</th>\n",
       "      <th>token_count</th>\n",
       "      <th>llm_title</th>\n",
       "      <th>state</th>\n",
       "      <th>kmeans_label</th>\n",
       "      <th>topic_title</th>\n",
       "      <th>splade_embeddings</th>\n",
       "    </tr>\n",
       "  </thead>\n",
       "  <tbody>\n",
       "    <tr>\n",
       "      <th>0</th>\n",
       "      <td>Okay so I have 2 questions.  One regarding whe...</td>\n",
       "      <td>6076</td>\n",
       "      <td>1472610609</td>\n",
       "      <td>https://www.reddit.com/r/legaladvice/comments/...</td>\n",
       "      <td>50exvs</td>\n",
       "      <td>Okay so I have 2 questions.  One regarding whe...</td>\n",
       "      <td>[NY] Exempt from overtime? (Salaried Software ...</td>\n",
       "      <td>employment</td>\n",
       "      <td>5</td>\n",
       "      <td>710</td>\n",
       "      <td>\"Legal Questions: Exempt from Overtime and Cla...</td>\n",
       "      <td>NE</td>\n",
       "      <td>8</td>\n",
       "      <td>Employment Legal Concerns and Issues</td>\n",
       "      <td>[0.0, 0.0, 0.0, 0.0, 0.0, 0.0, 0.0, 0.0, 0.0, ...</td>\n",
       "    </tr>\n",
       "  </tbody>\n",
       "</table>\n",
       "</div>"
      ],
      "text/plain": [
       "                                                text  index  created_utc  \\\n",
       "0  Okay so I have 2 questions.  One regarding whe...   6076   1472610609   \n",
       "\n",
       "                                           full_link      id  \\\n",
       "0  https://www.reddit.com/r/legaladvice/comments/...  50exvs   \n",
       "\n",
       "                                                body  \\\n",
       "0  Okay so I have 2 questions.  One regarding whe...   \n",
       "\n",
       "                                               title  text_label  flair_label  \\\n",
       "0  [NY] Exempt from overtime? (Salaried Software ...  employment            5   \n",
       "\n",
       "   token_count                                          llm_title state  \\\n",
       "0          710  \"Legal Questions: Exempt from Overtime and Cla...    NE   \n",
       "\n",
       "   kmeans_label                           topic_title  \\\n",
       "0             8  Employment Legal Concerns and Issues   \n",
       "\n",
       "                                   splade_embeddings  \n",
       "0  [0.0, 0.0, 0.0, 0.0, 0.0, 0.0, 0.0, 0.0, 0.0, ...  "
      ]
     },
     "execution_count": 13,
     "metadata": {},
     "output_type": "execute_result"
    }
   ],
   "source": [
    "from src.search.models import text_nodes_to_dataframe\n",
    "\n",
    "node_df = text_nodes_to_dataframe(nodes)\n",
    "node_df.head(1)"
   ]
  },
  {
   "cell_type": "code",
   "execution_count": 14,
   "metadata": {},
   "outputs": [
    {
     "name": "stdout",
     "output_type": "stream",
     "text": [
      "Running LLM usefulness eval in parallel (following logging may be out of order)\n",
      "\n",
      "Returned 8 nodes\n",
      "['overtime exemption', 'salaried employees', 'New York State labor laws']\n",
      "\n",
      "Node ID: 6076\n",
      "Text: Okay so I have 2 questions.  One regarding whether I am exempt\n",
      "from overtime payment.  The other regarding the wording of the paid\n",
      "vacation days clause in my offer letter.  Okay so first off I live in\n",
      "NY.  I work remotely from home.  The company I work for is also based\n",
      "out of NY.  (Upstate, not the city, if that makes any difference).\n",
      "When I w...\n",
      "--------------------------------------------------\n",
      "Node ID: 4229\n",
      "Text: Im an Assistant Manager at a car dealership in Connecticut. We\n",
      "have been short staffed for 4 months now (I can't hire anyone without\n",
      "the approval of 2 other people) and I have been made to work unpaid\n",
      "overtime almost every day to pick up all of the unfinished work.  I've\n",
      "looked up a few sites about labor law and overtime law, but nothing is\n",
      "real...\n",
      "--------------------------------------------------\n",
      "Node ID: 7019\n",
      "Text: Hello everyone and thanks for any help. I have been employed by\n",
      "the same company for all of 2017 and currently still am. In the\n",
      "beginning of 2017 I was paid hourly. Around September I got a raise\n",
      "but was switched to exempt salary working 45 hours a week. This means\n",
      "no overtime since my payrate never changes. My raise included \"paid\n",
      "holidays\" but...\n",
      "--------------------------------------------------\n",
      "Node ID: 993\n",
      "Text: Started a new job near North Carolina that was too good to be\n",
      "true on paper. It says specifically in my employment agreement that\n",
      "I'd be salary non-exempt (eligible for overtime). But now they're\n",
      "saying that language was a mistake and they're \"looking into how to\n",
      "rectify the error\".   Half the reason I took the job is because they\n",
      "said they'd pa...\n",
      "--------------------------------------------------\n",
      "Node ID: 3555\n",
      "Text: I am an attorney myself but it's been a minute since I practiced\n",
      "employment law. I am now looking into a FLSA classification issue with\n",
      "my current position at a federal agency, where my position is\n",
      "considered exempt, but several other very similar attorney positions\n",
      "are classified as non-exempt by our employer. I'm looking for case law\n",
      "or other ...\n",
      "--------------------------------------------------\n",
      "Node ID: 3912\n",
      "Text: I currently work for 2 separate companies part-time, but through\n",
      "an employment agency. I get my paychecks from the agency, and they\n",
      "gave me my W-2. In the past, they’ve asked me not to work more than 40\n",
      "hours total between my 2 jobs, because I’d be entitled to overtime\n",
      "pay, which the agency would lose money on.   But is that true? Is\n",
      "there an ex...\n",
      "--------------------------------------------------\n",
      "Node ID: 8729\n",
      "Text: I'm a teacher at a private school in PA making $30,000 paid as a\n",
      "salary (no hours tracking).  My official work day is 8-4 which is a 40\n",
      "hour work week (we eat lunch with and while supervising the kids).\n",
      "The kids are in the classroom between 8-3:30.  I average another 25+\n",
      "hours a week before/after school and nights and weekend grading and\n",
      "doing ...\n",
      "--------------------------------------------------\n",
      "Node ID: 1850\n",
      "Text: I work for a small 501 (c) (3) in Texas. It has under ten\n",
      "employees, but has over $300k in revenue with an unknown amount of\n",
      "grants and donations. There are two employees that work full time,\n",
      "myself being one. Everyone is on a shift schedule ranging with shift\n",
      "ranging from 4-7 hours each.   I have worked there for a little over\n",
      "two months, and w...\n",
      "--------------------------------------------------\n"
     ]
    }
   ],
   "source": [
    "filtered_chunks = filter_chunks(test_query, nodes)\n",
    "print(f\"\\nReturned {len(filtered_chunks)} nodes\")\n",
    "print(f\"{query}\\n\")\n",
    "for obj in filtered_chunks:\n",
    "    print(obj)\n",
    "    print(\"-\" * 50)\n"
   ]
  },
  {
   "cell_type": "code",
   "execution_count": null,
   "metadata": {},
   "outputs": [],
   "source": []
  },
  {
   "cell_type": "code",
   "execution_count": 8,
   "metadata": {},
   "outputs": [],
   "source": [
    "contater = DocJoinerDF(join_mode=\"reciprocal_rank_fusion\", top_k=20)"
   ]
  },
  {
   "cell_type": "code",
   "execution_count": 9,
   "metadata": {},
   "outputs": [
    {
     "data": {
      "text/plain": [
       "((20, 17), (20, 17))"
      ]
     },
     "execution_count": 9,
     "metadata": {},
     "output_type": "execute_result"
    }
   ],
   "source": [
    "vector_res = contater.run(vector_results)\n",
    "keyword_res = contater.run(keyword_results)\n",
    "vector_res.shape, keyword_res.shape"
   ]
  },
  {
   "cell_type": "code",
   "execution_count": null,
   "metadata": {},
   "outputs": [],
   "source": [
    "reranker = ColbertReranker(column='body')"
   ]
  },
  {
   "cell_type": "code",
   "execution_count": null,
   "metadata": {},
   "outputs": [],
   "source": [
    "vec_res = vector_res.drop(columns=['embeddings', 'splade_embeddings'])\n",
    "kw_res = keyword_res.drop(columns=['embeddings', 'splade_embeddings'])"
   ]
  },
  {
   "cell_type": "code",
   "execution_count": null,
   "metadata": {},
   "outputs": [],
   "source": [
    "hybrid_results = reranker.rerank_hybrid(test_query, vec_res, kw_res)"
   ]
  },
  {
   "cell_type": "code",
   "execution_count": null,
   "metadata": {},
   "outputs": [
    {
     "data": {
      "text/plain": [
       "(40, 15)"
      ]
     },
     "execution_count": 20,
     "metadata": {},
     "output_type": "execute_result"
    }
   ],
   "source": [
    "hybrid_results.shape"
   ]
  },
  {
   "cell_type": "code",
   "execution_count": null,
   "metadata": {},
   "outputs": [
    {
     "data": {
      "text/plain": [
       "(35, 15)"
      ]
     },
     "execution_count": 22,
     "metadata": {},
     "output_type": "execute_result"
    }
   ],
   "source": [
    "hybrid_results.drop_duplicates(subset=['body'], inplace=True)\n",
    "hybrid_results.shape"
   ]
  },
  {
   "cell_type": "code",
   "execution_count": null,
   "metadata": {},
   "outputs": [
    {
     "data": {
      "text/plain": [
       "search_type\n",
       "splade    11\n",
       "vector     9\n",
       "Name: count, dtype: int64"
      ]
     },
     "execution_count": 23,
     "metadata": {},
     "output_type": "execute_result"
    }
   ],
   "source": [
    "hybrid_results.head(20)['search_type'].value_counts()"
   ]
  },
  {
   "cell_type": "code",
   "execution_count": null,
   "metadata": {},
   "outputs": [
    {
     "name": "stderr",
     "output_type": "stream",
     "text": [
      "Processing summaries: 100%|██████████| 35/35 [00:11<00:00,  2.96it/s]\n"
     ]
    }
   ],
   "source": [
    "from src.agent.tools.utils import aget_fact_patterns_df\n",
    "import nest_asyncio\n",
    "nest_asyncio.apply()\n",
    "\n",
    "prep_df = await aget_fact_patterns_df(hybrid_results, 'body', \"id\")"
   ]
  },
  {
   "cell_type": "code",
   "execution_count": null,
   "metadata": {},
   "outputs": [
    {
     "data": {
      "text/html": [
       "<div>\n",
       "<style scoped>\n",
       "    .dataframe tbody tr th:only-of-type {\n",
       "        vertical-align: middle;\n",
       "    }\n",
       "\n",
       "    .dataframe tbody tr th {\n",
       "        vertical-align: top;\n",
       "    }\n",
       "\n",
       "    .dataframe thead th {\n",
       "        text-align: right;\n",
       "    }\n",
       "</style>\n",
       "<table border=\"1\" class=\"dataframe\">\n",
       "  <thead>\n",
       "    <tr style=\"text-align: right;\">\n",
       "      <th></th>\n",
       "      <th>index</th>\n",
       "      <th>created_utc</th>\n",
       "      <th>full_link</th>\n",
       "      <th>id</th>\n",
       "      <th>body</th>\n",
       "      <th>title</th>\n",
       "      <th>text_label</th>\n",
       "      <th>flair_label</th>\n",
       "      <th>token_count</th>\n",
       "      <th>llm_title</th>\n",
       "      <th>state</th>\n",
       "      <th>kmeans_label</th>\n",
       "      <th>topic_title</th>\n",
       "      <th>search_type</th>\n",
       "      <th>_relevance_score</th>\n",
       "      <th>summary</th>\n",
       "    </tr>\n",
       "  </thead>\n",
       "  <tbody>\n",
       "    <tr>\n",
       "      <th>0</th>\n",
       "      <td>5872</td>\n",
       "      <td>1576255862</td>\n",
       "      <td>https://www.reddit.com/r/legaladvice/comments/...</td>\n",
       "      <td>ea6gvy</td>\n",
       "      <td>This will be a long post, but I really need so...</td>\n",
       "      <td>Who do I contact if I think my landlord is bei...</td>\n",
       "      <td>housing</td>\n",
       "      <td>7</td>\n",
       "      <td>1001</td>\n",
       "      <td>\"Legal issues with landlord: repairs, theft, r...</td>\n",
       "      <td>MH</td>\n",
       "      <td>3</td>\n",
       "      <td>Rental Property and Landlord Matters</td>\n",
       "      <td>splade</td>\n",
       "      <td>0.939139</td>\n",
       "      <td>A tenant in Missouri experiences multiple ongo...</td>\n",
       "    </tr>\n",
       "    <tr>\n",
       "      <th>1</th>\n",
       "      <td>9173</td>\n",
       "      <td>1422499769</td>\n",
       "      <td>https://www.reddit.com/r/legaladvice/comments/...</td>\n",
       "      <td>2u1eqk</td>\n",
       "      <td>This is a follow up post to [this post](http:/...</td>\n",
       "      <td>(Florida) Need to know how to dispute refusal ...</td>\n",
       "      <td>housing</td>\n",
       "      <td>7</td>\n",
       "      <td>665</td>\n",
       "      <td>\"Landlord withholding security deposit - How t...</td>\n",
       "      <td>ID</td>\n",
       "      <td>0</td>\n",
       "      <td>Legal Topics in Rental Properties</td>\n",
       "      <td>splade</td>\n",
       "      <td>0.870435</td>\n",
       "      <td>A renter details a series of problematic renta...</td>\n",
       "    </tr>\n",
       "  </tbody>\n",
       "</table>\n",
       "</div>"
      ],
      "text/plain": [
       "   index  created_utc                                          full_link  \\\n",
       "0   5872   1576255862  https://www.reddit.com/r/legaladvice/comments/...   \n",
       "1   9173   1422499769  https://www.reddit.com/r/legaladvice/comments/...   \n",
       "\n",
       "       id                                               body  \\\n",
       "0  ea6gvy  This will be a long post, but I really need so...   \n",
       "1  2u1eqk  This is a follow up post to [this post](http:/...   \n",
       "\n",
       "                                               title text_label  flair_label  \\\n",
       "0  Who do I contact if I think my landlord is bei...    housing            7   \n",
       "1  (Florida) Need to know how to dispute refusal ...    housing            7   \n",
       "\n",
       "   token_count                                          llm_title state  \\\n",
       "0         1001  \"Legal issues with landlord: repairs, theft, r...    MH   \n",
       "1          665  \"Landlord withholding security deposit - How t...    ID   \n",
       "\n",
       "   kmeans_label                           topic_title search_type  \\\n",
       "0             3  Rental Property and Landlord Matters      splade   \n",
       "1             0     Legal Topics in Rental Properties      splade   \n",
       "\n",
       "   _relevance_score                                            summary  \n",
       "0          0.939139  A tenant in Missouri experiences multiple ongo...  \n",
       "1          0.870435  A renter details a series of problematic renta...  "
      ]
     },
     "execution_count": 27,
     "metadata": {},
     "output_type": "execute_result"
    }
   ],
   "source": [
    "prep_df.head(2)"
   ]
  },
  {
   "cell_type": "code",
   "execution_count": null,
   "metadata": {},
   "outputs": [],
   "source": [
    "from src.agent.tools.utils import create_formatted_input, get_final_answer\n",
    "\n",
    "formatted_input = create_formatted_input(\n",
    "    prep_df, test_query, context_token_limit=8000\n",
    "    )\n",
    "\n",
    "response_model = get_final_answer(formatted_input, model_name=\"gpt-4-turbo-preview\")"
   ]
  },
  {
   "cell_type": "code",
   "execution_count": null,
   "metadata": {},
   "outputs": [
    {
     "data": {
      "text/markdown": [
       "The new query presents a multifaceted legal issue involving poor maintenance, unresponsive landlords, potential unauthorized entry and theft by the landlord, and a rent payment dispute possibly being leveraged for eviction purposes. The tenant's situation in Missouri shares several parallels with past cases, providing an informative basis for comparison. \n",
       "\n",
       "The scenario with the tenant experiencing multiple ongoing issues, including unaddressed maintenance problems and unauthorized entry, closely mirrors the situation described in [Search Result 1](https://www.reddit.com/r/legaladvice/comments/ea6gvy/who_do_i_contact_if_i_think_my_landlord_is_being/). Both highlight the challenges faced by tenants dealing with landlords who are slow or refuse to make necessary repairs, coupled with the suspicion that the landlord is entering their premises without permission. The advice sought in both queries centers on how to handle these complex tenant-landlord relationship issues, especially regarding the landlord's responsibilities for upkeep and respect for tenant privacy. \n",
       "\n",
       "The challenge of dealing with a rent payment dispute, where the tenant has made a good faith effort to pay rent on time but faces difficulties due to mail delivery issues, aligns with the primary concern of [Search Result 1](https://www.reddit.com/r/legaladvice/comments/ea6gvy/who_do_i_contact_if_i_think_my_landlord_is_being/) and is further compounded by the landlord's threats and the inherent fear of eviction. This situation also resonates with concerns raised in [Search Result 22](https://www.reddit.com/r/legaladvice/comments/56uax5/missouri_landlord_attempting_to_evict/), where a Missouri resident faces eviction without proper notice and questionable rent increase demands. Both scenarios emphasize the precarious nature of tenant-landlord trust and the legal technicalities surrounding proper eviction processes and rent increase notices. \n",
       "\n",
       "Notably, the current query uniquely combines these elements into a single narrative, presenting a multifaceted legal dilemma. The past cases offer valuable insights into addressing each aspect individually but also illustrate the complexity of navigating these issues concurrently. Legal advice and intervention might be necessary to ensure that the tenant's rights are protected, especially when facing potential eviction under dubious circumstances. The incorporation of concerns regarding unauthorized entry, property theft, and exploitation of rent payment issues adds layers to the tenant's predicament, underscoring the importance of seeking comprehensive legal advice tailored to the specificities of the situation."
      ],
      "text/plain": [
       "<IPython.core.display.Markdown object>"
      ]
     },
     "execution_count": 33,
     "metadata": {},
     "output_type": "execute_result"
    }
   ],
   "source": [
    "Markdown(response_model.research_report)"
   ]
  },
  {
   "cell_type": "code",
   "execution_count": null,
   "metadata": {},
   "outputs": [],
   "source": []
  },
  {
   "cell_type": "code",
   "execution_count": null,
   "metadata": {},
   "outputs": [
    {
     "data": {
      "text/plain": [
       "['Should I just pay the rent and wait for my refund?',\n",
       " 'If the post office shows that my original money order was cashed, am I out that money?',\n",
       " 'What can I do about a landlord who is slow to make repairs?',\n",
       " 'Is it legal for my landlord to enter my apartment without permission?',\n",
       " 'Can a landlord raise rent in response to making repairs?',\n",
       " 'How do I handle disruptive neighbors?',\n",
       " 'What should I do if I suspect my landlord of stealing from me?',\n",
       " 'What are my rights as a tenant in Missouri?',\n",
       " 'Is it legal to use pliers to turn on water in lieu of a broken knob?',\n",
       " \"What actions can I take if I've been treated unfairly by my landlord?\"]"
      ]
     },
     "execution_count": 34,
     "metadata": {},
     "output_type": "execute_result"
    }
   ],
   "source": [
    "from src.search.query_expansion import generate_subquestions\n",
    "\n",
    "questions = generate_subquestions(test_query, n='any number of')\n",
    "questions.questions"
   ]
  },
  {
   "cell_type": "code",
   "execution_count": null,
   "metadata": {},
   "outputs": [
    {
     "data": {
      "text/plain": [
       "CompletionUsage(completion_tokens=147, prompt_tokens=1130, total_tokens=1277)"
      ]
     },
     "execution_count": 35,
     "metadata": {},
     "output_type": "execute_result"
    }
   ],
   "source": [
    "questions._raw_response.usage"
   ]
  },
  {
   "cell_type": "code",
   "execution_count": 8,
   "metadata": {},
   "outputs": [],
   "source": [
    "from src.search.query_filter import generate_query_plan, auto_filter_fts_search"
   ]
  },
  {
   "cell_type": "code",
   "execution_count": 9,
   "metadata": {},
   "outputs": [
    {
     "name": "stderr",
     "output_type": "stream",
     "text": [
      "\u001b[32m2024-03-19 21:42:45 - INFO - Schema shown to LLM: \n",
      "Name of each field, its type and unique values (up to 20):\n",
      "* state (string);  Values - ['NM' 'IN' 'WY' 'NH' 'MP' 'PA' 'MH' 'ID' 'AR' 'MA' 'KS' 'AS' 'ND' 'PR'\n",
      " 'DE' 'FL' 'LA' 'OR' 'VT' 'PW'], ... 39 more\n",
      "        \u001b[0m\n"
     ]
    },
    {
     "name": "stderr",
     "output_type": "stream",
     "text": [
      "\u001b[32m2024-03-19 21:42:55 - INFO - Input DataFrame has 5,000 rows\u001b[0m\n",
      "\u001b[32m2024-03-19 21:42:55 - INFO - Applying filter(s): state LIKE '%OR%'\u001b[0m\n",
      "\u001b[32m2024-03-19 21:43:03 - INFO - Filtered DataFrame has 86 rows\u001b[0m\n"
     ]
    }
   ],
   "source": [
    "query_plan = generate_query_plan(\n",
    "    input_df=df,\n",
    "    query=test_query,\n",
    "    filter_fields=[\n",
    "        'state',\n",
    "    ]\n",
    ")\n",
    "filtered_df = query_plan.filter_df(df=df)"
   ]
  },
  {
   "cell_type": "code",
   "execution_count": 15,
   "metadata": {},
   "outputs": [
    {
     "data": {
      "text/html": [
       "<div>\n",
       "<style scoped>\n",
       "    .dataframe tbody tr th:only-of-type {\n",
       "        vertical-align: middle;\n",
       "    }\n",
       "\n",
       "    .dataframe tbody tr th {\n",
       "        vertical-align: top;\n",
       "    }\n",
       "\n",
       "    .dataframe thead th {\n",
       "        text-align: right;\n",
       "    }\n",
       "</style>\n",
       "<table border=\"1\" class=\"dataframe\">\n",
       "  <thead>\n",
       "    <tr style=\"text-align: right;\">\n",
       "      <th></th>\n",
       "      <th>index</th>\n",
       "      <th>created_utc</th>\n",
       "      <th>full_link</th>\n",
       "      <th>id</th>\n",
       "      <th>body</th>\n",
       "      <th>title</th>\n",
       "      <th>text_label</th>\n",
       "      <th>flair_label</th>\n",
       "      <th>embeddings</th>\n",
       "      <th>token_count</th>\n",
       "      <th>llm_title</th>\n",
       "      <th>state</th>\n",
       "      <th>kmeans_label</th>\n",
       "      <th>topic_title</th>\n",
       "      <th>splade_embeddings</th>\n",
       "    </tr>\n",
       "  </thead>\n",
       "  <tbody>\n",
       "    <tr>\n",
       "      <th>0</th>\n",
       "      <td>2029</td>\n",
       "      <td>1578267399</td>\n",
       "      <td>https://www.reddit.com/r/legaladvice/comments/...</td>\n",
       "      <td>ekl2ef</td>\n",
       "      <td>For context I live in the Philippines. I wont ...</td>\n",
       "      <td>My professor refuses to show us ALL of our tes...</td>\n",
       "      <td>school</td>\n",
       "      <td>9</td>\n",
       "      <td>[-0.00954271624451715, 0.007157037183387862, 0...</td>\n",
       "      <td>953</td>\n",
       "      <td>\"Unrevealed Grades and Lack of Transparency: S...</td>\n",
       "      <td>OR</td>\n",
       "      <td>9</td>\n",
       "      <td>Legal Consequences of False Accusations</td>\n",
       "      <td>[0.0, 0.0, 0.0, 0.0, 0.0, 0.0, 0.0, 0.0, 0.0, ...</td>\n",
       "    </tr>\n",
       "    <tr>\n",
       "      <th>1</th>\n",
       "      <td>3320</td>\n",
       "      <td>1591126549</td>\n",
       "      <td>https://www.reddit.com/r/legaladvice/comments/...</td>\n",
       "      <td>gve3nq</td>\n",
       "      <td>Edit: I live in Washington state.\\n\\nSo I live...</td>\n",
       "      <td>My landlord has been harassing me about my pet...</td>\n",
       "      <td>housing</td>\n",
       "      <td>7</td>\n",
       "      <td>[-0.0034782202413053045, 0.00616729225832095, ...</td>\n",
       "      <td>759</td>\n",
       "      <td>\"Legal dispute over pet snake: Landlord threat...</td>\n",
       "      <td>OR</td>\n",
       "      <td>3</td>\n",
       "      <td>Rental Property and Landlord Matters</td>\n",
       "      <td>[0.0, 0.0, 0.0, 0.0, 0.0, 0.0, 0.0, 0.0, 0.0, ...</td>\n",
       "    </tr>\n",
       "  </tbody>\n",
       "</table>\n",
       "</div>"
      ],
      "text/plain": [
       "   index  created_utc                                          full_link  \\\n",
       "0   2029   1578267399  https://www.reddit.com/r/legaladvice/comments/...   \n",
       "1   3320   1591126549  https://www.reddit.com/r/legaladvice/comments/...   \n",
       "\n",
       "       id                                               body  \\\n",
       "0  ekl2ef  For context I live in the Philippines. I wont ...   \n",
       "1  gve3nq  Edit: I live in Washington state.\\n\\nSo I live...   \n",
       "\n",
       "                                               title text_label  flair_label  \\\n",
       "0  My professor refuses to show us ALL of our tes...     school            9   \n",
       "1  My landlord has been harassing me about my pet...    housing            7   \n",
       "\n",
       "                                          embeddings  token_count  \\\n",
       "0  [-0.00954271624451715, 0.007157037183387862, 0...          953   \n",
       "1  [-0.0034782202413053045, 0.00616729225832095, ...          759   \n",
       "\n",
       "                                           llm_title state  kmeans_label  \\\n",
       "0  \"Unrevealed Grades and Lack of Transparency: S...    OR             9   \n",
       "1  \"Legal dispute over pet snake: Landlord threat...    OR             3   \n",
       "\n",
       "                               topic_title  \\\n",
       "0  Legal Consequences of False Accusations   \n",
       "1     Rental Property and Landlord Matters   \n",
       "\n",
       "                                   splade_embeddings  \n",
       "0  [0.0, 0.0, 0.0, 0.0, 0.0, 0.0, 0.0, 0.0, 0.0, ...  \n",
       "1  [0.0, 0.0, 0.0, 0.0, 0.0, 0.0, 0.0, 0.0, 0.0, ...  "
      ]
     },
     "execution_count": 15,
     "metadata": {},
     "output_type": "execute_result"
    }
   ],
   "source": [
    "filtered_df.head(2)"
   ]
  },
  {
   "cell_type": "code",
   "execution_count": 10,
   "metadata": {},
   "outputs": [
    {
     "name": "stdout",
     "output_type": "stream",
     "text": [
      "Do I have any legal recourse here? I know Oregon is an 'at will' state, but it sounds like there are at LEAST two instances that offer grounds for wrongful termination (just based on my limited knowledge of the ADA, dept of labor, BOLI, etc.). \n",
      "legal recourse for wrongful termination in 'at will' employment including issues related to mistreatment, health code violations, improper handling of company money, and potential discrimination due to medical conditions\n"
     ]
    }
   ],
   "source": [
    "print(query_plan.original_query)\n",
    "print(query_plan.rephrased_query)"
   ]
  },
  {
   "cell_type": "code",
   "execution_count": 13,
   "metadata": {},
   "outputs": [
    {
     "name": "stderr",
     "output_type": "stream",
     "text": [
      "\u001b[32m2024-03-19 21:44:19 - INFO - Schema shown to LLM: \n",
      "Name of each field, its type and unique values (up to 20):\n",
      "* state (string);  Values - ['NM' 'IN' 'WY' 'NH' 'MP' 'PA' 'MH' 'ID' 'AR' 'MA' 'KS' 'AS' 'ND' 'PR'\n",
      " 'DE' 'FL' 'LA' 'OR' 'VT' 'PW'], ... 39 more\n",
      "        \u001b[0m\n"
     ]
    },
    {
     "name": "stderr",
     "output_type": "stream",
     "text": [
      "\u001b[32m2024-03-19 21:44:22 - INFO - No filters were identified for query: marijuana\u001b[0m\n",
      "\u001b[32m2024-03-19 21:44:22 - INFO - Revised query: marijuana\u001b[0m\n",
      "\u001b[32m2024-03-19 21:44:23 - INFO - Full Text Search (FTS) search yielded a DataFrame with 20 rows\u001b[0m\n"
     ]
    }
   ],
   "source": [
    "test_res = auto_filter_fts_search(\n",
    "    df=df,\n",
    "    query='marijuana',\n",
    "    top_k=20,\n",
    "    text_column=\"body\",\n",
    "    embeddings_column=\"embeddings\",\n",
    "    filter_fields=[\n",
    "        'state',\n",
    "    ])"
   ]
  },
  {
   "cell_type": "code",
   "execution_count": 14,
   "metadata": {},
   "outputs": [
    {
     "data": {
      "text/markdown": [
       "I'm a New York State medical marijuana patient. I also work in healthcare. I applied to a new job at a new hospital, and they are discriminating against me for being a medical marijuana patient. I was offered the job and accepted, but when I went to get my pre-employment physical conducted, I gave them my medical marijuana card and informed them that I am a patient. They are now refusing to hire me. Is this legal? I already contacted the division of human rights at the labor department and they said I may or may not have a case."
      ],
      "text/plain": [
       "<IPython.core.display.Markdown object>"
      ]
     },
     "execution_count": 14,
     "metadata": {},
     "output_type": "execute_result"
    }
   ],
   "source": [
    "Markdown(test_res['body'].tolist()[0])"
   ]
  }
 ],
 "metadata": {
  "kernelspec": {
   "display_name": ".venv",
   "language": "python",
   "name": "python3"
  },
  "language_info": {
   "codemirror_mode": {
    "name": "ipython",
    "version": 3
   },
   "file_extension": ".py",
   "mimetype": "text/x-python",
   "name": "python",
   "nbconvert_exporter": "python",
   "pygments_lexer": "ipython3",
   "version": "3.10.11"
  }
 },
 "nbformat": 4,
 "nbformat_minor": 2
}
