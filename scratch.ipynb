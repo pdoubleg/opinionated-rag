{
 "cells": [
  {
   "cell_type": "code",
   "execution_count": 1,
   "metadata": {},
   "outputs": [],
   "source": [
    "import pandas as pd\n",
    "import tiktoken\n",
    "import openai\n",
    "import instructor\n",
    "import eyecite\n",
    "import citeurl\n",
    "import re\n",
    "import spacy\n",
    "from collections import Counter\n",
    "from typing import Tuple\n",
    "from thefuzz import fuzz, process\n",
    "import difflib\n",
    "\n",
    "from IPython.display import Markdown, display\n",
    "import warnings\n",
    "warnings.filterwarnings('ignore')\n",
    "pd.set_option('display.max_columns', None)"
   ]
  },
  {
   "cell_type": "code",
   "execution_count": 2,
   "metadata": {},
   "outputs": [],
   "source": [
    "from src.utils import *\n",
    "from src.citations import resolve_citations"
   ]
  },
  {
   "cell_type": "code",
   "execution_count": 3,
   "metadata": {},
   "outputs": [],
   "source": [
    "df = pd.read_parquet('forward_citations.parquet')"
   ]
  },
  {
   "cell_type": "code",
   "execution_count": 4,
   "metadata": {},
   "outputs": [],
   "source": [
    "df['tokens'] = df['Complete Text'].apply(lambda x: count_tokens(x))\n",
    "df[\"id\"] = df['Complete Text'].apply(lambda x: hash_id(x))"
   ]
  },
  {
   "cell_type": "code",
   "execution_count": 5,
   "metadata": {},
   "outputs": [
    {
     "data": {
      "text/html": [
       "<div>\n",
       "<style scoped>\n",
       "    .dataframe tbody tr th:only-of-type {\n",
       "        vertical-align: middle;\n",
       "    }\n",
       "\n",
       "    .dataframe tbody tr th {\n",
       "        vertical-align: top;\n",
       "    }\n",
       "\n",
       "    .dataframe thead th {\n",
       "        text-align: right;\n",
       "    }\n",
       "</style>\n",
       "<table border=\"1\" class=\"dataframe\">\n",
       "  <thead>\n",
       "    <tr style=\"text-align: right;\">\n",
       "      <th></th>\n",
       "      <th>Cited Case ID</th>\n",
       "      <th>Cited Case Title</th>\n",
       "      <th>Citing Case ID</th>\n",
       "      <th>Citing Case Title</th>\n",
       "      <th>Relevant Excerpt</th>\n",
       "      <th>Excerpt Contains Negative Sentiment</th>\n",
       "      <th>Complete Text</th>\n",
       "      <th>tokens</th>\n",
       "      <th>id</th>\n",
       "    </tr>\n",
       "  </thead>\n",
       "  <tbody>\n",
       "    <tr>\n",
       "      <th>0</th>\n",
       "      <td>9117679</td>\n",
       "      <td>Metro-Goldwyn-Mayer Studios, Inc. v. Grokster,...</td>\n",
       "      <td>3720681</td>\n",
       "      <td>Recording Industry Ass'n of America, Inc. v. V...</td>\n",
       "      <td>available at  *88 See  Indirect Liability for ...</td>\n",
       "      <td>NO</td>\n",
       "      <td>\\n   351 F.3d 1229 \\n   RECORDING INDUSTRY ASS...</td>\n",
       "      <td>22871</td>\n",
       "      <td>aa155094-1ce9-abce-a85d-f865944d493e</td>\n",
       "    </tr>\n",
       "    <tr>\n",
       "      <th>1</th>\n",
       "      <td>9117679</td>\n",
       "      <td>Metro-Goldwyn-Mayer Studios, Inc. v. Grokster,...</td>\n",
       "      <td>9054205</td>\n",
       "      <td>Recording Industry Ass'n of America, Inc. v. V...</td>\n",
       "      <td>available at  *1232 See  Indirect Liability fo...</td>\n",
       "      <td>The given excerpt does not provide enough info...</td>\n",
       "      <td>\\n   RECORDING INDUSTRY ASSOCIATION OF AMERICA...</td>\n",
       "      <td>22906</td>\n",
       "      <td>2dc86e39-82d9-6a1f-24ff-8cf9c743e8fd</td>\n",
       "    </tr>\n",
       "    <tr>\n",
       "      <th>2</th>\n",
       "      <td>9117679</td>\n",
       "      <td>Metro-Goldwyn-Mayer Studios, Inc. v. Grokster,...</td>\n",
       "      <td>9291681</td>\n",
       "      <td>UMG Recordings, Inc. v. Sinnott, 300 F. Supp. ...</td>\n",
       "      <td>239 F.3d at 1020 Cable/Home Communication Corp...</td>\n",
       "      <td>No</td>\n",
       "      <td>\\n   UMG RECORDINGS, INC.; Arista Records, Inc...</td>\n",
       "      <td>25853</td>\n",
       "      <td>160761cf-e82c-beb6-04c4-dbc48770d9df</td>\n",
       "    </tr>\n",
       "    <tr>\n",
       "      <th>3</th>\n",
       "      <td>9117679</td>\n",
       "      <td>Metro-Goldwyn-Mayer Studios, Inc. v. Grokster,...</td>\n",
       "      <td>9291681</td>\n",
       "      <td>UMG Recordings, Inc. v. Sinnott, 300 F. Supp. ...</td>\n",
       "      <td>259 F.Supp.2d 1029 Grok-ster  Grokster  In  Gr...</td>\n",
       "      <td>No</td>\n",
       "      <td>\\n   UMG RECORDINGS, INC.; Arista Records, Inc...</td>\n",
       "      <td>25853</td>\n",
       "      <td>160761cf-e82c-beb6-04c4-dbc48770d9df</td>\n",
       "    </tr>\n",
       "    <tr>\n",
       "      <th>4</th>\n",
       "      <td>9117679</td>\n",
       "      <td>Metro-Goldwyn-Mayer Studios, Inc. v. Grokster,...</td>\n",
       "      <td>9214758</td>\n",
       "      <td>Metro-Goldwyn-Mayer Studios, Inc. v. Grokster ...</td>\n",
       "      <td>From the advent of the player piano, every new...</td>\n",
       "      <td>No</td>\n",
       "      <td>\\n   METRO-GOLDWYN-MAYER STUDIOS, INC.; Columb...</td>\n",
       "      <td>29264</td>\n",
       "      <td>1ad2f161-d162-fd1a-6dfc-244676f7a67b</td>\n",
       "    </tr>\n",
       "    <tr>\n",
       "      <th>5</th>\n",
       "      <td>9117679</td>\n",
       "      <td>Metro-Goldwyn-Mayer Studios, Inc. v. Grokster,...</td>\n",
       "      <td>9214758</td>\n",
       "      <td>Metro-Goldwyn-Mayer Studios, Inc. v. Grokster ...</td>\n",
       "      <td>Thus, in order to analyze the required element...</td>\n",
       "      <td>No</td>\n",
       "      <td>\\n   METRO-GOLDWYN-MAYER STUDIOS, INC.; Columb...</td>\n",
       "      <td>29264</td>\n",
       "      <td>1ad2f161-d162-fd1a-6dfc-244676f7a67b</td>\n",
       "    </tr>\n",
       "    <tr>\n",
       "      <th>6</th>\n",
       "      <td>9117679</td>\n",
       "      <td>Metro-Goldwyn-Mayer Studios, Inc. v. Grokster,...</td>\n",
       "      <td>9214758</td>\n",
       "      <td>Metro-Goldwyn-Mayer Studios, Inc. v. Grokster ...</td>\n",
       "      <td>See Napster I,   In this case, the district co...</td>\n",
       "      <td>No</td>\n",
       "      <td>\\n   METRO-GOLDWYN-MAYER STUDIOS, INC.; Columb...</td>\n",
       "      <td>29264</td>\n",
       "      <td>1ad2f161-d162-fd1a-6dfc-244676f7a67b</td>\n",
       "    </tr>\n",
       "    <tr>\n",
       "      <th>7</th>\n",
       "      <td>9117679</td>\n",
       "      <td>Metro-Goldwyn-Mayer Studios, Inc. v. Grokster,...</td>\n",
       "      <td>9214758</td>\n",
       "      <td>Metro-Goldwyn-Mayer Studios, Inc. v. Grokster ...</td>\n",
       "      <td>Napster II,  Sony-Betamax  Having determined t...</td>\n",
       "      <td>NO</td>\n",
       "      <td>\\n   METRO-GOLDWYN-MAYER STUDIOS, INC.; Columb...</td>\n",
       "      <td>29264</td>\n",
       "      <td>1ad2f161-d162-fd1a-6dfc-244676f7a67b</td>\n",
       "    </tr>\n",
       "    <tr>\n",
       "      <th>8</th>\n",
       "      <td>9117679</td>\n",
       "      <td>Metro-Goldwyn-Mayer Studios, Inc. v. Grokster,...</td>\n",
       "      <td>9214758</td>\n",
       "      <td>Metro-Goldwyn-Mayer Studios, Inc. v. Grokster ...</td>\n",
       "      <td>*1163 In the context of this case, the softwar...</td>\n",
       "      <td>NO</td>\n",
       "      <td>\\n   METRO-GOLDWYN-MAYER STUDIOS, INC.; Columb...</td>\n",
       "      <td>29264</td>\n",
       "      <td>1ad2f161-d162-fd1a-6dfc-244676f7a67b</td>\n",
       "    </tr>\n",
       "    <tr>\n",
       "      <th>9</th>\n",
       "      <td>9117679</td>\n",
       "      <td>Metro-Goldwyn-Mayer Studios, Inc. v. Grokster,...</td>\n",
       "      <td>9214758</td>\n",
       "      <td>Metro-Goldwyn-Mayer Studios, Inc. v. Grokster ...</td>\n",
       "      <td>907 F.Supp. 1361 Fonovisa, Inc. v. Cherry Auct...</td>\n",
       "      <td>NO</td>\n",
       "      <td>\\n   METRO-GOLDWYN-MAYER STUDIOS, INC.; Columb...</td>\n",
       "      <td>29264</td>\n",
       "      <td>1ad2f161-d162-fd1a-6dfc-244676f7a67b</td>\n",
       "    </tr>\n",
       "  </tbody>\n",
       "</table>\n",
       "</div>"
      ],
      "text/plain": [
       "   Cited Case ID                                   Cited Case Title  \\\n",
       "0        9117679  Metro-Goldwyn-Mayer Studios, Inc. v. Grokster,...   \n",
       "1        9117679  Metro-Goldwyn-Mayer Studios, Inc. v. Grokster,...   \n",
       "2        9117679  Metro-Goldwyn-Mayer Studios, Inc. v. Grokster,...   \n",
       "3        9117679  Metro-Goldwyn-Mayer Studios, Inc. v. Grokster,...   \n",
       "4        9117679  Metro-Goldwyn-Mayer Studios, Inc. v. Grokster,...   \n",
       "5        9117679  Metro-Goldwyn-Mayer Studios, Inc. v. Grokster,...   \n",
       "6        9117679  Metro-Goldwyn-Mayer Studios, Inc. v. Grokster,...   \n",
       "7        9117679  Metro-Goldwyn-Mayer Studios, Inc. v. Grokster,...   \n",
       "8        9117679  Metro-Goldwyn-Mayer Studios, Inc. v. Grokster,...   \n",
       "9        9117679  Metro-Goldwyn-Mayer Studios, Inc. v. Grokster,...   \n",
       "\n",
       "   Citing Case ID                                  Citing Case Title  \\\n",
       "0         3720681  Recording Industry Ass'n of America, Inc. v. V...   \n",
       "1         9054205  Recording Industry Ass'n of America, Inc. v. V...   \n",
       "2         9291681  UMG Recordings, Inc. v. Sinnott, 300 F. Supp. ...   \n",
       "3         9291681  UMG Recordings, Inc. v. Sinnott, 300 F. Supp. ...   \n",
       "4         9214758  Metro-Goldwyn-Mayer Studios, Inc. v. Grokster ...   \n",
       "5         9214758  Metro-Goldwyn-Mayer Studios, Inc. v. Grokster ...   \n",
       "6         9214758  Metro-Goldwyn-Mayer Studios, Inc. v. Grokster ...   \n",
       "7         9214758  Metro-Goldwyn-Mayer Studios, Inc. v. Grokster ...   \n",
       "8         9214758  Metro-Goldwyn-Mayer Studios, Inc. v. Grokster ...   \n",
       "9         9214758  Metro-Goldwyn-Mayer Studios, Inc. v. Grokster ...   \n",
       "\n",
       "                                    Relevant Excerpt  \\\n",
       "0  available at  *88 See  Indirect Liability for ...   \n",
       "1  available at  *1232 See  Indirect Liability fo...   \n",
       "2  239 F.3d at 1020 Cable/Home Communication Corp...   \n",
       "3  259 F.Supp.2d 1029 Grok-ster  Grokster  In  Gr...   \n",
       "4  From the advent of the player piano, every new...   \n",
       "5  Thus, in order to analyze the required element...   \n",
       "6  See Napster I,   In this case, the district co...   \n",
       "7  Napster II,  Sony-Betamax  Having determined t...   \n",
       "8  *1163 In the context of this case, the softwar...   \n",
       "9  907 F.Supp. 1361 Fonovisa, Inc. v. Cherry Auct...   \n",
       "\n",
       "                 Excerpt Contains Negative Sentiment  \\\n",
       "0                                                 NO   \n",
       "1  The given excerpt does not provide enough info...   \n",
       "2                                                 No   \n",
       "3                                                 No   \n",
       "4                                                 No   \n",
       "5                                                 No   \n",
       "6                                                 No   \n",
       "7                                                 NO   \n",
       "8                                                 NO   \n",
       "9                                                 NO   \n",
       "\n",
       "                                       Complete Text  tokens  \\\n",
       "0  \\n   351 F.3d 1229 \\n   RECORDING INDUSTRY ASS...   22871   \n",
       "1  \\n   RECORDING INDUSTRY ASSOCIATION OF AMERICA...   22906   \n",
       "2  \\n   UMG RECORDINGS, INC.; Arista Records, Inc...   25853   \n",
       "3  \\n   UMG RECORDINGS, INC.; Arista Records, Inc...   25853   \n",
       "4  \\n   METRO-GOLDWYN-MAYER STUDIOS, INC.; Columb...   29264   \n",
       "5  \\n   METRO-GOLDWYN-MAYER STUDIOS, INC.; Columb...   29264   \n",
       "6  \\n   METRO-GOLDWYN-MAYER STUDIOS, INC.; Columb...   29264   \n",
       "7  \\n   METRO-GOLDWYN-MAYER STUDIOS, INC.; Columb...   29264   \n",
       "8  \\n   METRO-GOLDWYN-MAYER STUDIOS, INC.; Columb...   29264   \n",
       "9  \\n   METRO-GOLDWYN-MAYER STUDIOS, INC.; Columb...   29264   \n",
       "\n",
       "                                     id  \n",
       "0  aa155094-1ce9-abce-a85d-f865944d493e  \n",
       "1  2dc86e39-82d9-6a1f-24ff-8cf9c743e8fd  \n",
       "2  160761cf-e82c-beb6-04c4-dbc48770d9df  \n",
       "3  160761cf-e82c-beb6-04c4-dbc48770d9df  \n",
       "4  1ad2f161-d162-fd1a-6dfc-244676f7a67b  \n",
       "5  1ad2f161-d162-fd1a-6dfc-244676f7a67b  \n",
       "6  1ad2f161-d162-fd1a-6dfc-244676f7a67b  \n",
       "7  1ad2f161-d162-fd1a-6dfc-244676f7a67b  \n",
       "8  1ad2f161-d162-fd1a-6dfc-244676f7a67b  \n",
       "9  1ad2f161-d162-fd1a-6dfc-244676f7a67b  "
      ]
     },
     "execution_count": 5,
     "metadata": {},
     "output_type": "execute_result"
    }
   ],
   "source": [
    "df.head(10)"
   ]
  },
  {
   "cell_type": "code",
   "execution_count": 6,
   "metadata": {},
   "outputs": [
    {
     "data": {
      "text/plain": [
       "(29, 9)"
      ]
     },
     "execution_count": 6,
     "metadata": {},
     "output_type": "execute_result"
    }
   ],
   "source": [
    "df.shape"
   ]
  },
  {
   "cell_type": "code",
   "execution_count": 7,
   "metadata": {},
   "outputs": [
    {
     "data": {
      "text/markdown": [
       "\n",
       "   351 F.3d 1229 \n",
       "   RECORDING INDUSTRY ASSOCIATION OF AMERICA, INC., Appellee, v. VERIZON INTERNET SERVICES, INC., Appellant. \n",
       "   Nos. 03-7015 & 03-7053. \n",
       "   United States Court of Appeals, District of Columbia Circuit. \n",
       "   Argued Sept. 16, 2003. \n",
       "   Decided Dec. 19, 2003. \n",
       "   \n",
       "     *86 Andrew G. McBride argued the cause for appellant. With him on the briefs were John Thorne, Bruce G. Joseph, Dineen P. Wasylik, and Kathryn L. Comer-ford. \n",
       "   Megan E. Gray, Lawrence S. Robbins, Alan Untereiner, Christopher A. Hansen, Arthur B. Spitzer, and Cindy Cohn were on the brief for amici curiae Alliance for Public Technology, et al., in support of appellant. \n",
       "   Donald B. Verrilli, Jr. argued the cause for appellee Recording Industry Association of America, Inc. With him on the brief were Thomas J. Perrelli and Matthew J. Oppenheim. Deanne E. Maynard entered an appearance. \n",
       "   Scott R. McIntosh, Attorney, U.S. Department of Justice, argued the cause for intervenor-appellee United States. With him on the brief were Roscoe C. Howard, Jr., U.S. Attorney, and Douglas N. Letter, Attorney, U.S. Department of Justice. \n",
       "   Paul B. Gaffney, Thomas G. Hentoff, Eric H. Smith, Patricia Polach, Ann Chai *87 tovitz, Allan R. Adler, Joseph J. DiMona, Robert S. Giolito, and Chun T. Wright were on the brief for amici curiae Motion Picture Association of America, et al., in support of appellee Recording Industry Association of America. David E. Kendall entered an appearance. \n",
       "   Paul Alan Levy, Alan B. Morrison, and Allison M. Zieve were on the brief for amicus curiae Public Citizen. \n",
       "   Before: GINSBURG, Chief Judge,and ROBERTS, Circuit Judge, and WILLIAMS, Senior Circuit Judge. \n",
       "   \n",
       "     Opinion for the Court filed by Chief Judge GINSBURG. \n",
       "     GINSBURG, Chief Judge: \n",
       "     This case concerns the Recording Industry Association of America’s use of the subpoena provision of the Digital Millennium Copyright Act,  17 U.S.C. § 512 (h), to identify internet users the RIAA believes are infringing "
      ],
      "text/plain": [
       "<IPython.core.display.Markdown object>"
      ]
     },
     "execution_count": 7,
     "metadata": {},
     "output_type": "execute_result"
    }
   ],
   "source": [
    "Markdown(df.head(1)['Complete Text'].tolist()[0][:2000])"
   ]
  },
  {
   "cell_type": "code",
   "execution_count": 8,
   "metadata": {},
   "outputs": [],
   "source": [
    "text = df.head(1)['Complete Text'].tolist()[0]"
   ]
  },
  {
   "cell_type": "code",
   "execution_count": 9,
   "metadata": {},
   "outputs": [
    {
     "data": {
      "text/plain": [
       "490"
      ]
     },
     "execution_count": 9,
     "metadata": {},
     "output_type": "execute_result"
    }
   ],
   "source": [
    "citations = eyecite.get_citations(text, remove_ambiguous=True)\n",
    "len(citations)"
   ]
  },
  {
   "cell_type": "code",
   "execution_count": 10,
   "metadata": {},
   "outputs": [],
   "source": [
    "resolved_list = resolve_citations(citations)"
   ]
  },
  {
   "cell_type": "code",
   "execution_count": 11,
   "metadata": {},
   "outputs": [
    {
     "data": {
      "text/plain": [
       "['351 F.3d 1229',\n",
       " '17 U.S.C. § 512',\n",
       " '284 F.3d 1091',\n",
       " '239 F.3d 1004',\n",
       " '259 F. Supp. 2d 1029',\n",
       " '240 F. Supp. 2d 24',\n",
       " '257 F. Supp. 2d 244',\n",
       " '121 F.3d 729',\n",
       " '967 F.2d 630',\n",
       " '534 U.S. 438',\n",
       " '122 S. Ct. 941',\n",
       " '151 L. Ed. 2d 908',\n",
       " '791 F.2d 202',\n",
       " '510 U.S. 135',\n",
       " '114 S. Ct. 655',\n",
       " '126 L. Ed. 2d 615',\n",
       " '464 U.S. 417',\n",
       " '104 S. Ct. 774',\n",
       " '78 L. Ed. 2d 574',\n",
       " '154 U.S. 447',\n",
       " '14 S. Ct. 1125',\n",
       " '38 L. Ed. 1047']"
      ]
     },
     "execution_count": 11,
     "metadata": {},
     "output_type": "execute_result"
    }
   ],
   "source": [
    "resolved_list"
   ]
  },
  {
   "cell_type": "code",
   "execution_count": 12,
   "metadata": {},
   "outputs": [],
   "source": [
    "def get_citation_context(\n",
    "    text: str,\n",
    "    citation: str,\n",
    "    words_before: int | None = 1000,\n",
    "    words_after: int | None = 500,\n",
    "):\n",
    "\n",
    "    if words_after is None and words_before is None:\n",
    "        # return entire text since we're not asked to return a bounded context\n",
    "        return text, 0, 0\n",
    "\n",
    "    found_citations = eyecite.get_citations(text)\n",
    "    \n",
    "    for cit in found_citations:\n",
    "        if cit.corrected_citation() == citation:\n",
    "            match = cit.matched_text()\n",
    "            sequence_matcher = difflib.SequenceMatcher(None, text, match)\n",
    "            match = sequence_matcher.find_longest_match(0, len(text), 0, len(match))\n",
    "\n",
    "            if match.size == 0:\n",
    "                return \"\", 0, 0\n",
    "\n",
    "            segments = text.split()\n",
    "            n_segs = len(segments)\n",
    "\n",
    "            start_segment_pos = len(text[: match.a].split())\n",
    "\n",
    "            words_before = words_before or n_segs\n",
    "            words_after = words_after or n_segs\n",
    "            start_pos = max(0, start_segment_pos - words_before)\n",
    "            end_pos = min(len(segments), start_segment_pos + words_after + len(citation.split()))\n",
    "            result = \" \".join(segments[start_pos:end_pos]), start_pos, end_pos\n",
    "\n",
    "    return result[0]"
   ]
  },
  {
   "cell_type": "code",
   "execution_count": 13,
   "metadata": {},
   "outputs": [],
   "source": [
    "context = get_citation_context(text, '239 F.3d 1004')"
   ]
  },
  {
   "cell_type": "code",
   "execution_count": 14,
   "metadata": {},
   "outputs": [
    {
     "data": {
      "text/markdown": [
       "351 F.3d 1229 RECORDING INDUSTRY ASSOCIATION OF AMERICA, INC., Appellee, v. VERIZON INTERNET SERVICES, INC., Appellant. Nos. 03-7015 & 03-7053. United States Court of Appeals, District of Columbia Circuit. Argued Sept. 16, 2003. Decided Dec. 19, 2003. *86 Andrew G. McBride argued the cause for appellant. With him on the briefs were John Thorne, Bruce G. Joseph, Dineen P. Wasylik, and Kathryn L. Comer-ford. Megan E. Gray, Lawrence S. Robbins, Alan Untereiner, Christopher A. Hansen, Arthur B. Spitzer, and Cindy Cohn were on the brief for amici curiae Alliance for Public Technology, et al., in support of appellant. Donald B. Verrilli, Jr. argued the cause for appellee Recording Industry Association of America, Inc. With him on the brief were Thomas J. Perrelli and Matthew J. Oppenheim. Deanne E. Maynard entered an appearance. Scott R. McIntosh, Attorney, U.S. Department of Justice, argued the cause for intervenor-appellee United States. With him on the brief were Roscoe C. Howard, Jr., U.S. Attorney, and Douglas N. Letter, Attorney, U.S. Department of Justice. Paul B. Gaffney, Thomas G. Hentoff, Eric H. Smith, Patricia Polach, Ann Chai *87 tovitz, Allan R. Adler, Joseph J. DiMona, Robert S. Giolito, and Chun T. Wright were on the brief for amici curiae Motion Picture Association of America, et al., in support of appellee Recording Industry Association of America. David E. Kendall entered an appearance. Paul Alan Levy, Alan B. Morrison, and Allison M. Zieve were on the brief for amicus curiae Public Citizen. Before: GINSBURG, Chief Judge,and ROBERTS, Circuit Judge, and WILLIAMS, Senior Circuit Judge. Opinion for the Court filed by Chief Judge GINSBURG. GINSBURG, Chief Judge: This case concerns the Recording Industry Association of America’s use of the subpoena provision of the Digital Millennium Copyright Act, 17 U.S.C. § 512 (h), to identify internet users the RIAA believes are infringing the copyrights of its members. The RIAA served two subpoenas upon Verizon Internet Services in order to discover the names of two Verizon subscribers who appeared to be trading large numbers of .mp3 files of copyrighted music via “peer-to-peer” (P2P) file sharing programs, such as KaZaA. Verizon refused to comply with the subpoenas on various legal grounds. The district court rejected Verizon’s statutory and constitutional challenges to § 512(h) and ordered the internet service provider (ISP) to disclose to the RIAA the names of the two subscribers. On appeal Verizon presents three alternative arguments for reversing the orders of the district court: (1) § 512(h) does not authorize the issuance of a subpoena to an ISP acting solely as a conduit for communications the content of which is determined by others; if the statute does authorize such a subpoena, then the statute is unconstitutional because (2) the district court lacked Article III jurisdiction to issue a subpoena with no underlying “case or controversy” pending before the court; and (3) § 512(h) violates the First Amendment because it lacks sufficient safeguards to protect an internet user’s ability to speak and to associate anonymously. Because we agree with Verizon’s interpretation of the statute, we reverse the orders of the district court enforcing the subpoenas and do not reach either of Verizon’s constitutional arguments. * I. Background Individuals with a personal computer and access to the internet began to offer digital copies of recordings for download by other users, an activity known as file sharing, in the late 1990’s using a program called Napster. Although recording companies and music publishers successfully obtained an injunction against Napster’s facilitating the sharing of files containing copyrighted recordings, see A&M Records, Inc. v. Napster, Inc., 284 F.3d 1091 (9th Cir.2002); A&M Records, Inc. v. Napster, Inc., 239 F.3d 1004 (9th Cir.2001), millions of people in the United States and around the world continue to share digital .mp3 files of copyrighted recordings using P2P computer programs such as KaZaA, Morpheus, Grokster, and eDonkey. See John Borland, File Swapping Shifts Up a Gear (May 27, 2003), available at http:// news.com.com/2100-1026-1009742.html, *88 (last visited December 2, 2003). Unlike Napster, which relied upon a centralized communication architecture to identify the .mp3 files available for download, the current generation of P2P file sharing programs allow an internet user to search directly the .mp3 file libraries of other users; no web site is involved. See Douglas Lichtman & William Landes, Indirect Liability for Copyright Infringement: An Economic Perspective, 16 Harv. J. Law & Tech. 395, 403, 408-09 (2003). To date, owners of copyrights have not been able to stop the use of these decentralized programs. See Metro-Goldwyn-Mayer Studios, Inc. v. Grokster, Ltd., 259 F.Supp.2d 1029 (C.D.Cal.2003) (holding Grokster not contributorily liable for copyright infringement by users of its P2P file sharing program). The RIAA now has begun to direct its anti-infringement efforts against individual users of P2P file sharing programs. In order to pursue apparent infringers the RIAA needs to be able to identify the individuals who are sharing and trading files using P2P programs. The RIAA can readily obtain the screen name of an individual user, and using the Internet Protocol (IP) address associated with that screen name, can trace the user to his ISP. Only the ISP, however, can link the IP address used to access a P2P program with the name and address of a person - the ISP’s customer - who can then be contacted or, if need be, sued by the RIAA. The RIAA has used the subpoena provisions of § 512(h) of the Digital Millennium Copyright Act (DMCA) to compel ISPs to disclose the names of subscribers whom the RIAA has reason to believe are infringing its members’ copyrights. See 17 U.S.C. § 512 (h)(1) (copyright owner may “request the clerk of any United States district court to issue a subpoena to [an ISP] for identification of an alleged infringer”). Some ISPs have complied with the RIAA’s § 512(h) subpoenas and identified the names of the subscribers sought by the RIAA. The RIAA has sent letters to and filed lawsuits against several hundred such individuals, each of whom allegedly made available for download by other users hundreds or in some cases even thousands of .mp3 files of copyrighted recordings. Verizon refused to comply with and instead has challenged the validity of the two § 512(h) subpoenas it has received. A copyright owner (or its agent, such as the RIAA) must file three items along with its request that the Clerk of a district court issue a subpoena: (1) a “notification of claimed infringement” identifying the copyrighted work(s) claimed to have been infringed and the infringing material or activity, and providing information reasonably sufficient for the ISP to locate the material, all as further specified in § 512(c)(3)(A); (2) the"
      ],
      "text/plain": [
       "<IPython.core.display.Markdown object>"
      ]
     },
     "execution_count": 14,
     "metadata": {},
     "output_type": "execute_result"
    }
   ],
   "source": [
    "Markdown(context)"
   ]
  },
  {
   "cell_type": "code",
   "execution_count": 15,
   "metadata": {},
   "outputs": [],
   "source": [
    "import pandas as pd\n",
    "from typing import List\n",
    "\n",
    "def create_citation_lookup_table(df: pd.DataFrame, text_column: str, id_column: str) -> pd.DataFrame:\n",
    "    \"\"\"\n",
    "    Creates a citation lookup table from a dataframe by finding distinct citations in a specified text column.\n",
    "\n",
    "    Args:\n",
    "        df (pd.DataFrame): The input dataframe containing the texts and ids.\n",
    "        text_column (str): The name of the column in df that contains the text to search for citations.\n",
    "        id_column (str): The name of the column in df that contains the unique identifier for each text.\n",
    "\n",
    "    Returns:\n",
    "        pd.DataFrame: A dataframe with columns for id and citation.\n",
    "    \"\"\"\n",
    "    exclude_list = ['§', 'Id.', 'Id.,', 'id.,', 'id.', 'supra', 'Ibid.', '§§', '[§', 'supra,']\n",
    "    # Initialize an empty list to store the citation data\n",
    "    citation_data = []\n",
    "\n",
    "    # Iterate over each row in the dataframe\n",
    "    for index, row in df.iterrows():\n",
    "        # Extract the text and id from the current row\n",
    "        text = row[text_column]\n",
    "        doc_id = row[id_column]\n",
    "\n",
    "        # Find citations in the text\n",
    "        citations = eyecite.get_citations(text, remove_ambiguous=True)\n",
    "\n",
    "        # For each citation found, append the id and the citation to the citation_data list\n",
    "        for citation in citations:\n",
    "            citation_str = citation.corrected_citation()\n",
    "            if citation_str not in exclude_list:\n",
    "                span = citation.span()\n",
    "                citation_data.append({\n",
    "                    \"id\": doc_id,\n",
    "                    \"citation\": str(citation.corrected_citation()),\n",
    "                    \"context\": text[span[0]-2500:span[1]+500],\n",
    "                })\n",
    "    # Convert the citation_data list to a DataFrame\n",
    "    citation_df = pd.DataFrame(citation_data, columns=[\"id\", \"citation\", \"context\"])\n",
    "    citation_df.drop_duplicates(inplace=True)\n",
    "\n",
    "    return citation_df\n"
   ]
  },
  {
   "cell_type": "code",
   "execution_count": 16,
   "metadata": {},
   "outputs": [],
   "source": [
    "citations_df = create_citation_lookup_table(df, \"Complete Text\", \"Citing Case ID\")"
   ]
  },
  {
   "cell_type": "code",
   "execution_count": 17,
   "metadata": {},
   "outputs": [],
   "source": [
    "citations_df = citations_df[citations_df['context']!=\"\"]"
   ]
  },
  {
   "cell_type": "code",
   "execution_count": 18,
   "metadata": {},
   "outputs": [
    {
     "name": "stdout",
     "output_type": "stream",
     "text": [
      "df shape: (3587, 3)\n"
     ]
    },
    {
     "data": {
      "text/html": [
       "<div>\n",
       "<style scoped>\n",
       "    .dataframe tbody tr th:only-of-type {\n",
       "        vertical-align: middle;\n",
       "    }\n",
       "\n",
       "    .dataframe tbody tr th {\n",
       "        vertical-align: top;\n",
       "    }\n",
       "\n",
       "    .dataframe thead th {\n",
       "        text-align: right;\n",
       "    }\n",
       "</style>\n",
       "<table border=\"1\" class=\"dataframe\">\n",
       "  <thead>\n",
       "    <tr style=\"text-align: right;\">\n",
       "      <th></th>\n",
       "      <th>id</th>\n",
       "      <th>citation</th>\n",
       "      <th>context</th>\n",
       "    </tr>\n",
       "  </thead>\n",
       "  <tbody>\n",
       "    <tr>\n",
       "      <th>2</th>\n",
       "      <td>3720681</td>\n",
       "      <td>284 F.3d 1091</td>\n",
       "      <td>e Recording Industry Association of America. D...</td>\n",
       "    </tr>\n",
       "    <tr>\n",
       "      <th>3</th>\n",
       "      <td>3720681</td>\n",
       "      <td>239 F.3d 1004</td>\n",
       "      <td>an appearance. \\n   Paul Alan Levy, Alan B. M...</td>\n",
       "    </tr>\n",
       "    <tr>\n",
       "      <th>4</th>\n",
       "      <td>3720681</td>\n",
       "      <td>259 F. Supp. 2d 1029</td>\n",
       "      <td>rdered the internet service provider (ISP) to ...</td>\n",
       "    </tr>\n",
       "    <tr>\n",
       "      <th>5</th>\n",
       "      <td>3720681</td>\n",
       "      <td>17 U.S.C. § 512</td>\n",
       "      <td>s to the internet began to offer digital copie...</td>\n",
       "    </tr>\n",
       "    <tr>\n",
       "      <th>6</th>\n",
       "      <td>3720681</td>\n",
       "      <td>17 U.S.C. §§ 512</td>\n",
       "      <td>decentralized programs.  See Metro-Goldwyn-Ma...</td>\n",
       "    </tr>\n",
       "  </tbody>\n",
       "</table>\n",
       "</div>"
      ],
      "text/plain": [
       "        id              citation  \\\n",
       "2  3720681         284 F.3d 1091   \n",
       "3  3720681         239 F.3d 1004   \n",
       "4  3720681  259 F. Supp. 2d 1029   \n",
       "5  3720681       17 U.S.C. § 512   \n",
       "6  3720681      17 U.S.C. §§ 512   \n",
       "\n",
       "                                             context  \n",
       "2  e Recording Industry Association of America. D...  \n",
       "3   an appearance. \\n   Paul Alan Levy, Alan B. M...  \n",
       "4  rdered the internet service provider (ISP) to ...  \n",
       "5  s to the internet began to offer digital copie...  \n",
       "6   decentralized programs.  See Metro-Goldwyn-Ma...  "
      ]
     },
     "execution_count": 18,
     "metadata": {},
     "output_type": "execute_result"
    }
   ],
   "source": [
    "print(f\"df shape: {citations_df.shape}\")\n",
    "citations_df.head()"
   ]
  },
  {
   "cell_type": "code",
   "execution_count": 19,
   "metadata": {},
   "outputs": [],
   "source": [
    "grouped_df = citations_df.groupby('citation')['context'].apply(lambda x: ' '.join(x)).reset_index()"
   ]
  },
  {
   "cell_type": "code",
   "execution_count": 20,
   "metadata": {},
   "outputs": [],
   "source": [
    "grouped_df['context_tokens'] = grouped_df['context'].apply(lambda x: count_tokens(x))"
   ]
  },
  {
   "cell_type": "code",
   "execution_count": 21,
   "metadata": {},
   "outputs": [
    {
     "data": {
      "text/plain": [
       "count       645.000000\n",
       "mean       4195.744186\n",
       "std        9586.534873\n",
       "min        1228.000000\n",
       "25%        2152.000000\n",
       "50%        2391.000000\n",
       "75%        3219.000000\n",
       "max      200083.000000\n",
       "Name: context_tokens, dtype: float64"
      ]
     },
     "execution_count": 21,
     "metadata": {},
     "output_type": "execute_result"
    }
   ],
   "source": [
    "grouped_df['context_tokens'].describe()"
   ]
  },
  {
   "cell_type": "code",
   "execution_count": 22,
   "metadata": {},
   "outputs": [],
   "source": [
    "df = grouped_df[grouped_df['context_tokens']<10000]"
   ]
  },
  {
   "cell_type": "code",
   "execution_count": 23,
   "metadata": {},
   "outputs": [],
   "source": [
    "from typing import Literal\n",
    "\n",
    "from pydantic import BaseModel, Field\n",
    "\n",
    "\n",
    "class LegalCitation(BaseModel):\n",
    "    \"\"\"Information about a legal rule and its application.\"\"\"\n",
    "    \n",
    "    citation: str = Field(\n",
    "        default=\"None\",\n",
    "        description=\"The Citation specified by the user.\",\n",
    "    )\n",
    "    sentiment: Literal['Agree', 'Neutral', 'Disagree'] = Field(\n",
    "        default=\"Neutral\",\n",
    "        description=\"The Context's sentiment towards the Citation.\"\n",
    "    )\n",
    "    summary: str = Field(\n",
    "        ...,\n",
    "        description=\"A concise background summary of the Context in relation to the Citation.\",\n",
    "    )\n",
    "    hypothetical_applications: List[str] = Field(\n",
    "        default_factory=list,\n",
    "        description=\"Hypothetical questions or arguments that the Citation would apply to.\",\n",
    "    )\n",
    "    keywords: List[str] = Field(\n",
    "        default_factory=list, description=\"Keywords about the Citation from the Context.\"\n",
    "    )"
   ]
  },
  {
   "cell_type": "code",
   "execution_count": 24,
   "metadata": {},
   "outputs": [],
   "source": [
    "from tenacity import AsyncRetrying, stop_after_attempt, wait_fixed"
   ]
  },
  {
   "cell_type": "code",
   "execution_count": 25,
   "metadata": {},
   "outputs": [],
   "source": [
    "import time\n",
    "\n",
    "class Timer:\n",
    "    def __init__(self, name):\n",
    "        self.name = name\n",
    "        self.start = None\n",
    "        self.end = None\n",
    "\n",
    "    async def __aenter__(self):\n",
    "        self.start = time.time()\n",
    "\n",
    "    async def __aexit__(self, *args, **kwargs):\n",
    "        self.end = time.time()\n",
    "        print(f\"{self.name} took {(self.end - self.start):.2f} seconds\")"
   ]
  },
  {
   "cell_type": "code",
   "execution_count": 26,
   "metadata": {},
   "outputs": [],
   "source": [
    "import openai\n",
    "\n",
    "client = instructor.apatch(openai.AsyncOpenAI())"
   ]
  },
  {
   "cell_type": "code",
   "execution_count": 27,
   "metadata": {},
   "outputs": [],
   "source": [
    "async def analyze_citations(citation, context):\n",
    "    return await client.chat.completions.create(\n",
    "        model=\"gpt-4-turbo-preview\",\n",
    "        response_model=LegalCitation,\n",
    "        max_retries=AsyncRetrying(\n",
    "        stop=stop_after_attempt(2),\n",
    "        wait=wait_fixed(1),\n",
    "    ),\n",
    "        messages=[\n",
    "            {\n",
    "                \"role\": \"system\",\n",
    "                \"content\": \"Your role is to extract information about a legal citation using the context provided and without prior knowledge.\",\n",
    "            },\n",
    "            {\"role\": \"user\", \"content\": f\"Your task focuses on citation: {citation}\"},\n",
    "            {\"role\": \"user\", \"content\": f\"Here is the context: {context}\"}\n",
    "        ]\n",
    "    )"
   ]
  },
  {
   "cell_type": "code",
   "execution_count": 28,
   "metadata": {},
   "outputs": [],
   "source": [
    "sample_df = df.sample(5, random_state=43)\n",
    "sample_df.reset_index(inplace=True, drop=True)"
   ]
  },
  {
   "cell_type": "code",
   "execution_count": 29,
   "metadata": {},
   "outputs": [],
   "source": [
    "import asyncio\n",
    "import nest_asyncio\n",
    "nest_asyncio.apply()"
   ]
  },
  {
   "cell_type": "code",
   "execution_count": 30,
   "metadata": {},
   "outputs": [
    {
     "name": "stdout",
     "output_type": "stream",
     "text": [
      "asyncio.gather took 26.26 seconds\n"
     ]
    }
   ],
   "source": [
    "async with Timer(\"asyncio.gather\"):\n",
    "    tasks_ = [analyze_citations(row['citation'], row['context']) for _, row in sample_df.iterrows()]\n",
    "    all_data = await asyncio.gather(*tasks_)"
   ]
  },
  {
   "cell_type": "code",
   "execution_count": 37,
   "metadata": {},
   "outputs": [
    {
     "data": {
      "text/html": [
       "<div>\n",
       "<style scoped>\n",
       "    .dataframe tbody tr th:only-of-type {\n",
       "        vertical-align: middle;\n",
       "    }\n",
       "\n",
       "    .dataframe tbody tr th {\n",
       "        vertical-align: top;\n",
       "    }\n",
       "\n",
       "    .dataframe thead th {\n",
       "        text-align: right;\n",
       "    }\n",
       "</style>\n",
       "<table border=\"1\" class=\"dataframe\">\n",
       "  <thead>\n",
       "    <tr style=\"text-align: right;\">\n",
       "      <th></th>\n",
       "      <th>citation</th>\n",
       "      <th>sentiment</th>\n",
       "      <th>summary</th>\n",
       "      <th>hypothetical_applications</th>\n",
       "      <th>keywords</th>\n",
       "    </tr>\n",
       "  </thead>\n",
       "  <tbody>\n",
       "    <tr>\n",
       "      <th>0</th>\n",
       "      <td>465 F.3d 1069</td>\n",
       "      <td>Neutral</td>\n",
       "      <td>The context revolves around StreamCast's distr...</td>\n",
       "      <td>Would the standard for reviewing the terms of ...</td>\n",
       "      <td>Bates v. United Parcel Serv., Inc., 465 F.3d 1...</td>\n",
       "    </tr>\n",
       "    <tr>\n",
       "      <th>1</th>\n",
       "      <td>239 F.3d at 1024</td>\n",
       "      <td>Neutral</td>\n",
       "      <td>The context discusses the copyright infringeme...</td>\n",
       "      <td>Would a digital marketplace selling user-creat...</td>\n",
       "      <td>copyright infringement, vicarious liability, N...</td>\n",
       "    </tr>\n",
       "    <tr>\n",
       "      <th>2</th>\n",
       "      <td>294 F. Supp. 2d 504</td>\n",
       "      <td>Neutral</td>\n",
       "      <td>In Lehman Brothers, Inc. v. Wu, the court addr...</td>\n",
       "      <td>Can defendant X claim that a third party's act...</td>\n",
       "      <td>copyright infringement, third-party contributi...</td>\n",
       "    </tr>\n",
       "    <tr>\n",
       "      <th>3</th>\n",
       "      <td>204 F.3d 601</td>\n",
       "      <td>Neutral</td>\n",
       "      <td>In Chavez v. Arte Publico Press, the court hel...</td>\n",
       "      <td>Would a defendant be liable for copyright infr...</td>\n",
       "      <td>copyright infringement, intent to infringe, li...</td>\n",
       "    </tr>\n",
       "    <tr>\n",
       "      <th>4</th>\n",
       "      <td>442 U.S. 682</td>\n",
       "      <td>Neutral</td>\n",
       "      <td>The context provided discusses various provisi...</td>\n",
       "      <td>How does the principle from Califano v. Yamasa...</td>\n",
       "      <td>injunctive relief, unduly burdensome, defendan...</td>\n",
       "    </tr>\n",
       "  </tbody>\n",
       "</table>\n",
       "</div>"
      ],
      "text/plain": [
       "              citation sentiment  \\\n",
       "0        465 F.3d 1069   Neutral   \n",
       "1     239 F.3d at 1024   Neutral   \n",
       "2  294 F. Supp. 2d 504   Neutral   \n",
       "3         204 F.3d 601   Neutral   \n",
       "4         442 U.S. 682   Neutral   \n",
       "\n",
       "                                             summary  \\\n",
       "0  The context revolves around StreamCast's distr...   \n",
       "1  The context discusses the copyright infringeme...   \n",
       "2  In Lehman Brothers, Inc. v. Wu, the court addr...   \n",
       "3  In Chavez v. Arte Publico Press, the court hel...   \n",
       "4  The context provided discusses various provisi...   \n",
       "\n",
       "                           hypothetical_applications  \\\n",
       "0  Would the standard for reviewing the terms of ...   \n",
       "1  Would a digital marketplace selling user-creat...   \n",
       "2  Can defendant X claim that a third party's act...   \n",
       "3  Would a defendant be liable for copyright infr...   \n",
       "4  How does the principle from Califano v. Yamasa...   \n",
       "\n",
       "                                            keywords  \n",
       "0  Bates v. United Parcel Serv., Inc., 465 F.3d 1...  \n",
       "1  copyright infringement, vicarious liability, N...  \n",
       "2  copyright infringement, third-party contributi...  \n",
       "3  copyright infringement, intent to infringe, li...  \n",
       "4  injunctive relief, unduly burdensome, defendan...  "
      ]
     },
     "execution_count": 37,
     "metadata": {},
     "output_type": "execute_result"
    }
   ],
   "source": [
    "data_dicts = [model.model_dump() for model in all_data]\n",
    "df_res = pd.DataFrame(data_dicts)\n",
    "df_res['keywords'] = df_res['keywords'].apply(lambda x: ', '.join(x))\n",
    "df_res['hypothetical_applications'] = df_res['hypothetical_applications'].apply(lambda x: ', '.join(x))\n",
    "df_res"
   ]
  },
  {
   "cell_type": "code",
   "execution_count": 38,
   "metadata": {},
   "outputs": [
    {
     "data": {
      "text/markdown": [
       "| citation            | sentiment   | summary                                                                                                                                                                                                                                                                                                                                                                                                                                                                                                                                                                                                                                                                                                                                                                                                                                                                                | hypothetical_applications                                                                                                                                                                                                                                                                                                                                                                                                                                                                                                                                                                                       | keywords                                                                                                                                                   |\n",
       "|:--------------------|:------------|:---------------------------------------------------------------------------------------------------------------------------------------------------------------------------------------------------------------------------------------------------------------------------------------------------------------------------------------------------------------------------------------------------------------------------------------------------------------------------------------------------------------------------------------------------------------------------------------------------------------------------------------------------------------------------------------------------------------------------------------------------------------------------------------------------------------------------------------------------------------------------------------|:----------------------------------------------------------------------------------------------------------------------------------------------------------------------------------------------------------------------------------------------------------------------------------------------------------------------------------------------------------------------------------------------------------------------------------------------------------------------------------------------------------------------------------------------------------------------------------------------------------------|:-----------------------------------------------------------------------------------------------------------------------------------------------------------|\n",
       "| 465 F.3d 1069       | Neutral     | The context revolves around StreamCast's distribution of the Morpheus Software in two versions and their subsequent legal challenges regarding technology for filtering and fingerprinting media files. A key point of legal contention was whether the terms of an injunction met the requirements of Rule 65(d), which pertains to the specificity of injunction terms. The citation 465 F.3d 1069 refers to Bates v. United Parcel Serv., Inc., where the Ninth Circuit Court of Appeals provided guidance on the review process for injunctions, specifying that orders granting permanent injunctions are reviewed for abuse of discretion or erroneous application of legal principles. The specificity of the injunction's terms is subject to de novo review, and injunctions under Rule 65(d) are upheld unless they are so vague as to lack any reasonably specific meaning. | Would the standard for reviewing the terms of a permanent injunction against a company found liable for copyright infringement apply similarly as outlined in Bates v. United Parcel Serv., Inc.?, How would the principles outlined in Bates v. United Parcel Serv., Inc., guide the drafting of an injunction order to prevent a company from distributing copyrighted media through software?, In a case where a company argues that an injunction is too vague, how might the reasoning in Bates v. United Parcel Serv., Inc., apply in determining whether the injunction has reasonably specific meaning? | Bates v. United Parcel Serv., Inc., 465 F.3d 1069, permanent injunction, Rule 65(d), review process, abuse of discretion, de novo review, specificity      |\n",
       "| 239 F.3d at 1024    | Neutral     | The context discusses the copyright infringement case involving Grokster and StreamCast, contrasting these companies' operations with Napster’s previous case. It highlights the principle that the right and ability to supervise for vicarious liability does not equate to the duty of entities found liable for copyright infringement to police copyrighted materials. It specifically refers to Napster’s case, where its ability to police was limited by the system's architecture, indicating that mere potential to modify the system does not necessarily imply vicarious liability. Turning a blind eye to infringement for profit could still lead to liability.                                                                                                                                                                                                          | Would a digital marketplace selling user-created content be held vicariously liable for copyright infringement if it has no direct control over the user uploads but profits from the sales?, Would a company that provides cloud storage services be vicariously liable for copyright infringement if users store and share copyrighted materials on the service, assuming the company has implemented no proactive monitoring measures but has the capability to remove infringing content upon notification?                                                                                                 | copyright infringement, vicarious liability, Napster, Grokster, StreamCast, right and ability to supervise, system architecture, turning a blind eye       |\n",
       "| 294 F. Supp. 2d 504 | Neutral     | In Lehman Brothers, Inc. v. Wu, the court addressed the issue of copyright infringement liability concerning third-party contributions. The court held that copyright infringing defendants cannot assert contribution claims against third parties who allegedly contribute to infringement. Furthermore, it established that neither the Copyright Act nor federal common law recognizes a copyright infringer's right to contribution. This ruling plays a significant role in copyright law by denying defendants the ability to shift or spread liability to third parties for copyright infringement.                                                                                                                                                                                                                                                                            | Can defendant X claim that a third party's actions should partially absolve them of copyright infringement liability?, If a seller at a market is found infringing copyright, can the market owner claim that the seller's actions contributively absolve their liability for allowing the sale?                                                                                                                                                                                                                                                                                                                | copyright infringement, third-party contribution, federal common law, Lehman Brothers v. Wu, contributory liability, vicarious liability                   |\n",
       "| 204 F.3d 601        | Neutral     | In Chavez v. Arte Publico Press, the court held that copyright infringement actions typically do not require proof of intent to infringe. This decision reiterates the principle that copyright infringement can occur even without the defendant’s knowledge or intent to infringe, making the defendant's intent irrelevant to establishing copyright infringement liability.                                                                                                                                                                                                                                                                                                                                                                                                                                                                                                        | Would a defendant be liable for copyright infringement if they unknowingly used a copyrighted image on their blog?, Can an individual be held responsible for copyright infringement if they unintentionally distributed copyrighted material?, Is intent a necessary element to prove for a copyright owner to win an infringement lawsuit against a party who used their work without permission?                                                                                                                                                                                                             | copyright infringement, intent to infringe, liability, knowledge, unintentional distribution                                                               |\n",
       "| 442 U.S. 682        | Neutral     | The context provided discusses various provisions of a permanent injunction affecting a technology company and its owner, Fung, in connection with copyright infringement issues. The main legal principle highlighted is related to the burden of injunctive relief on the defendant. The citation 442 U.S. 682 refers to the case 'Califano v. Yamasaki,' which is quoted to support the argument that injunctive relief should not be more burdensome to the defendant than necessary to provide complete relief to the plaintiffs. This principle was applied to argue that an injunction prohibiting Fung from seeking legitimate employment in technology companies, on the grounds that their services could be used by others to infringe copyright, was more burdensome than necessary.                                                                                       | How does the principle from Califano v. Yamasaki apply to a situation where an injunction prevents a social media platform's CEO from creating new platforms due to potential misuse by users?, In a copyright infringement case against a streaming service, can a broad injunction that restricts the service's development of new features be considered more burdensome than necessary based on Califano v. Yamasaki?                                                                                                                                                                                       | injunctive relief, unduly burdensome, defendant, complete relief, plaintiffs, Califano v. Yamasaki, copyright infringement, technology company, employment |"
      ],
      "text/plain": [
       "<IPython.core.display.Markdown object>"
      ]
     },
     "execution_count": 38,
     "metadata": {},
     "output_type": "execute_result"
    }
   ],
   "source": [
    "Markdown(df_res.to_markdown(index=False))"
   ]
  },
  {
   "cell_type": "code",
   "execution_count": null,
   "metadata": {},
   "outputs": [],
   "source": []
  },
  {
   "cell_type": "code",
   "execution_count": 4,
   "metadata": {},
   "outputs": [],
   "source": [
    "import nest_asyncio\n",
    "nest_asyncio.apply()"
   ]
  },
  {
   "cell_type": "code",
   "execution_count": 1,
   "metadata": {},
   "outputs": [],
   "source": [
    "from src.paperqa.docs import Docs"
   ]
  },
  {
   "cell_type": "code",
   "execution_count": 2,
   "metadata": {},
   "outputs": [],
   "source": [
    "docs = Docs()"
   ]
  },
  {
   "cell_type": "code",
   "execution_count": 5,
   "metadata": {},
   "outputs": [
    {
     "data": {
      "text/plain": [
       "'Densler2024'"
      ]
     },
     "execution_count": 5,
     "metadata": {},
     "output_type": "execute_result"
    }
   ],
   "source": [
    "docs.add(\"data/opinion_sample.txt\")"
   ]
  },
  {
   "cell_type": "code",
   "execution_count": 14,
   "metadata": {},
   "outputs": [
    {
     "data": {
      "text/markdown": [
       "Question: What are the main arguments on misrepresentations this case?\n",
       "\n",
       "The main argument on misrepresentations in the case revolves around the discrepancy between Mr. Densler's deposition and trial testimony concerning whether Dr. Durrani warned him about the risk of paralysis without surgery. In the deposition, Mr. Densler did not mention Dr. Durrani's warning, but he recalled the \"paralyzed\" comment during the trial, which significantly impacted the jury's decision on Dr. Durrani's alleged fraud. The trial court's decision to disallow cross-examination on this inconsistency is contested as it is perceived to have affected the fairness of the trial (Densler2024 chunk 10).\n",
       "\n",
       "References\n",
       "\n",
       "1. (Densler2024 chunk 10): \"Densler v. Durrani, 2024-Ohio-14.\" Ohio First District Court of Appeals. 5 Jan. 2024.\n"
      ],
      "text/plain": [
       "<IPython.core.display.Markdown object>"
      ]
     },
     "execution_count": 14,
     "metadata": {},
     "output_type": "execute_result"
    }
   ],
   "source": [
    "answer = docs.query(\"What are the main arguments on misrepresentations this case?\", k = 5, max_sources = 2)\n",
    "Markdown(answer.formatted_answer)"
   ]
  },
  {
   "cell_type": "code",
   "execution_count": 12,
   "metadata": {},
   "outputs": [
    {
     "data": {
      "text/markdown": [
       "Question: What are the main arguments on misrepresentations this case?\n",
       "\n",
       "The main arguments on misrepresentations in the case revolve around the credibility of testimony and the trial court's handling of evidence. One argument is that the trial court abused its discretion by admitting Dr. Zeeshan Tayeb's testimony, which was considered inadmissible habit evidence under Evid.R. 406, suggesting Dr. Durrani made false statements about the urgency of surgeries (Densler2024 chunk 6). Another contention is the inconsistency between Mr. Densler's deposition and trial testimony regarding Dr. Durrani's warning about paralysis, which was not challenged due to the trial court's refusal to allow cross-examination on this point (Densler2024 chunk 10). Additionally, the trial court's decision to prevent interrogation of a prejudicial comment maker was seen as an abuse of discretion, impacting the jury's fraud conclusion (Densler2024 chunk 11). The Ohio First District Court of Appeals reversed the trial court's judgment, citing an abuse of discretion for not allowing cross-examination about prior inconsistent statements in line with Evid.R. 613(B) (Densler2024 chunk 9).\n",
       "\n",
       "References\n",
       "\n",
       "1. (Densler2024 chunk 11): \"Densler v. Durrani, 2024-Ohio-14.\" Ohio First District Court of Appeals. 5 Jan. 2024.\n",
       "\n",
       "2. (Densler2024 chunk 10): \"Densler v. Durrani, 2024-Ohio-14.\" Ohio First District Court of Appeals. 5 Jan. 2024.\n",
       "\n",
       "3. (Densler2024 chunk 6): \"Densler v. Durrani, 2024-Ohio-14.\" Ohio First District Court of Appeals. 5 Jan. 2024.\n",
       "\n",
       "4. (Densler2024 chunk 9): \"Densler v. Durrani, 2024-Ohio-14.\" Ohio First District Court of Appeals. 5 Jan. 2024.\n"
      ],
      "text/plain": [
       "<IPython.core.display.Markdown object>"
      ]
     },
     "execution_count": 12,
     "metadata": {},
     "output_type": "execute_result"
    }
   ],
   "source": [
    "Markdown(answer.formatted_answer)"
   ]
  },
  {
   "cell_type": "code",
   "execution_count": 13,
   "metadata": {},
   "outputs": [
    {
     "data": {
      "text/markdown": [
       "Densler2024 chunk 4: The main argument in this case is whether Medicare, as the payer of Mr. Densler's medical expenses, is the sole real party in interest for his claim of past medical expenses. The defendants argue that since Medicare paid the entire amount, they are the only party with a real interest in the expenses. They cite the case of Shealy v. Campbell, where the Ohio Supreme Court held that an insurance company that paid the full judgment was the sole real party in interest. However, the difference in this case is that the bounds of liability were not firmly established at the time the action was filed, and Mr. Densler's claim for past medical expenses was not limited to the amount accepted by Medicare. (Relevance score: 10)\n",
       "\n",
       "Densler2024 chunk 11: The main argument on misrepresentations in this case is that there was a highly prejudicial comment made that influenced the jury to conclude that Dr. Durrani committed fraud. The defense counsel was not allowed to interrogate the person who made the comment, which was seen as an abuse of discretion by the trial court. The argument is that the jury should have been able to evaluate the credibility of the comment and consider it alongside other statements. This argument is supported by the fact that the court recorded its own entry on this issue. (100 words) \n",
       "\n",
       "Relevance score: 10\n",
       "\n",
       "Densler2024 chunk 10: The main argument on misrepresentations in this case is that there was an inconsistency between Mr. Densler's trial testimony and his deposition testimony regarding whether Dr. Durrani told him he would be paralyzed without surgery. During the deposition, Mr. Densler did not mention this admonition from Dr. Durrani, despite multiple opportunities to respond to questions about their presurgery consultations. However, at trial, Mr. Densler recalled the \"paralyzed\" comment, which was highly prejudicial and appeared to have influenced the jury's conclusion that Dr. Durrani committed fraud. The trial court's refusal to allow cross-examination on this inconsistency is seen as unfair. (Relevance score: 10)\n",
       "\n",
       "Densler2024 chunk 6: The main argument on misrepresentations in this case is that the trial court abused its discretion by admitting the testimony of Dr. Zeeshan Tayeb as his testimony was inadmissible as habit evidence under Evid.R. 406. Dr. Tayeb testified that he heard Dr. Durrani tell patients that they could be paralyzed if they did not have surgery, and that Dr. Durrani would classify surgery as an emergency even if it wasn't actually an emergency. This testimony suggests that Dr. Durrani made false or misleading statements to patients regarding the urgency and potential consequences of surgery. (100 words)\n",
       "\n",
       "Relevance score: 10\n",
       "\n",
       "Densler2024 chunk 9: In the excerpt, the Ohio First District Court of Appeals reverses the trial court's judgment and remands the case for a new trial on the fraudulent-misrepresentation claim. One judge concurs separately, arguing that the trial court abused its discretion by denying defense counsel the opportunity to cross-examine the plaintiff about a prior inconsistent statement. The judge references Evid.R. 613(B), which allows the introduction of extrinsic evidence of a witness's prior inconsistent statement, and argues that the trial court's decision to sustain an objection and strike a question was inconsistent with the requirements and purpose of the rule.\n",
       "\n",
       "Score: 9\n",
       "\n",
       "Valid keys: Densler2024 chunk 4, Densler2024 chunk 11, Densler2024 chunk 10, Densler2024 chunk 6, Densler2024 chunk 9"
      ],
      "text/plain": [
       "<IPython.core.display.Markdown object>"
      ]
     },
     "execution_count": 13,
     "metadata": {},
     "output_type": "execute_result"
    }
   ],
   "source": [
    "Markdown(answer.context)"
   ]
  },
  {
   "cell_type": "code",
   "execution_count": null,
   "metadata": {},
   "outputs": [],
   "source": []
  }
 ],
 "metadata": {
  "kernelspec": {
   "display_name": ".venv",
   "language": "python",
   "name": "python3"
  },
  "language_info": {
   "codemirror_mode": {
    "name": "ipython",
    "version": 3
   },
   "file_extension": ".py",
   "mimetype": "text/x-python",
   "name": "python",
   "nbconvert_exporter": "python",
   "pygments_lexer": "ipython3",
   "version": "3.10.13"
  }
 },
 "nbformat": 4,
 "nbformat_minor": 2
}
