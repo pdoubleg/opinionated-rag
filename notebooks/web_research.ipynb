{
 "cells": [
  {
   "cell_type": "markdown",
   "metadata": {},
   "source": [
    "# eBay Assistant v2 | Development Notebook"
   ]
  },
  {
   "cell_type": "code",
   "execution_count": 40,
   "metadata": {},
   "outputs": [],
   "source": [
    "import os\n",
    "import pandas as pd\n",
    "import numpy as np\n",
    "from dotenv import load_dotenv\n",
    "load_dotenv()\n",
    "import openai\n",
    "from IPython.display import Markdown, display, HTML, Image\n",
    "\n",
    "os.chdir(os.path.dirname(os.getcwd()))"
   ]
  },
  {
   "cell_type": "code",
   "execution_count": 2,
   "metadata": {},
   "outputs": [],
   "source": [
    "import requests\n",
    "from bs4 import BeautifulSoup\n",
    "from urllib.parse import unquote\n",
    "from readabilipy import simple_json_from_html_string\n",
    "from langchain.schema import Document"
   ]
  },
  {
   "cell_type": "code",
   "execution_count": 3,
   "metadata": {},
   "outputs": [],
   "source": [
    "from src.doc_store.ebay_scraper import eBayWebSearch, AverageSalePrice, eBayProduct"
   ]
  },
  {
   "cell_type": "markdown",
   "metadata": {},
   "source": [
    "* Test \"query\" based on an item description from the existing app"
   ]
  },
  {
   "cell_type": "code",
   "execution_count": 4,
   "metadata": {},
   "outputs": [],
   "source": [
    "query = 'Vintage Appleton Industrial Vented Light Fixture'"
   ]
  },
  {
   "cell_type": "markdown",
   "metadata": {},
   "source": [
    "* The `AverageSalePrice` function searches the eBay API for sold items matching a description\n",
    "* It excludes extreme outliers, then calculates average selling price (broken down by item cost & shipping) across all results\n",
    "* Filters can be adjusted as needed, and the actual items can be brought in as well"
   ]
  },
  {
   "cell_type": "code",
   "execution_count": 5,
   "metadata": {},
   "outputs": [
    {
     "name": "stdout",
     "output_type": "stream",
     "text": [
      "Item Description: Vintage Appleton Industrial Vented Light Fixture\n",
      "Average Price (based on 53 sold items):\n",
      "* Item: $48.78 ($2.886 to $175.0)\n",
      "* Shipping: $15.37 ($0.0 to $45.12)\n",
      "* Total: $64.15\n"
     ]
    }
   ],
   "source": [
    "averagePrice = AverageSalePrice(query=query, country='us', condition='all')\n",
    "print(averagePrice)"
   ]
  },
  {
   "cell_type": "markdown",
   "metadata": {},
   "source": [
    "* The `eBayWebSearch` function works the same as searching eBay via a browser\n",
    "* Given a query it returns a list of `eBayProduct` objects shown below\n",
    "* Results can be formatted and easily added to an OpenAI prompt\n",
    "* **Note:** Search results **contain links** to the primary image for the listing - GPT-4 with vision can **read images from links!**"
   ]
  },
  {
   "cell_type": "code",
   "execution_count": 6,
   "metadata": {},
   "outputs": [
    {
     "data": {
      "text/plain": [
       "73"
      ]
     },
     "execution_count": 6,
     "metadata": {},
     "output_type": "execute_result"
    }
   ],
   "source": [
    "search_res = eBayWebSearch(query)\n",
    "len(search_res)"
   ]
  },
  {
   "cell_type": "markdown",
   "metadata": {},
   "source": [
    "* Example of the `eBayProduct` search result"
   ]
  },
  {
   "cell_type": "code",
   "execution_count": 54,
   "metadata": {},
   "outputs": [
    {
     "data": {
      "text/plain": [
       "{'ebay_id': 386723431936,\n",
       " 'item': {'title': 'VTG Appleton A-51 Vented Explosion-Proof Industrial Light - Man Cave Garage Bar',\n",
       "  'link': Url('https://www.ebay.com/itm/386723431936?itmmeta=01HRNWCDJAYKKGCP4HAYYJKF4P&hash=item5a0a834600:g:9QwAAOSwpDlluDud&itmprp=enc%3AAQAIAAABAGP2goulIxqfc2L%2BgWJXqhnBKYLugKAE%2FnzT6kcmqO0xyVMT8z5I3GrddMrK8C%2BEzcvwJcmoVxsVbajkeBGKGld6e2GLR09dPL9NMa7xBu5zK2Qhi%2BxdsGiKmgI%2FzaBXaSet%2Bn7cXdE6jhUrShpzEmqOW8%2Bjds6RzMLXv%2BtBawrPlerXDmLL%2F4sZAJ4tjDp2O%2Fu%2FyDQd77p5dcanqTns5RmRuh9LDAA2QeFB1%2B8ApyqsqHw4tVPVNkL5qw06JOJn3MbHOpoSN2YCqzbuybV8F6IDUSDImDXe%2BKClHTULnVJagur%2BzcAs6JFQ6%2BpBylk5kQca6ZqBDWNIIclnceSKuXE%3D%7Ctkp%3ABk9SR6LZsbzFYw'),\n",
       "  'price': 39.99,\n",
       "  'image_url': Url('https://i.ebayimg.com/thumbs/images/g/9QwAAOSwpDlluDud/s-l300.jpg'),\n",
       "  'description': 'eBay\\nTransform your space with this vintage Appleton Electric A-51 Vented Explosion-Proof Industrial Light Fixture - a perfect addition to your man cave, industrial garage, or home bar decor!\\nCrafted by the reputable Appleton Electric Company, this fixture boasts a unique blend of industrial charm and safety features. The vented design ensures both functionality and a touch of nostalgia, making it an ideal choice for enthusiasts seeking authentic vintage decor.\\nKey Features:\\nManufacturer & Model: Appleton Electric Company, A-51 Series Vented.\\nMaterial: Durable metal body, likely aluminum, for corrosion resistance.\\nSafety Certification: UL and CSA certified, meeting safety standards for hazardous locations.\\nVoltage & Lamp Support: Supports up to 300 volts, compatible with various lamp types (up to 200 watts).\\nMounting Instructions: Clearly marked \"MOUNT VERTICAL\" for correct installation.\\nCondition: Displays signs of wear and age; the ribbed glass enclosure is intact. Please note, there is a slight gap in the top seal, and it may not be completely watertight.\\nElevate your space with industrial decor that tells a story. Whether it\\'s for your man cave, garage, or home bar, this Appleton A-51 Vented Light Fixture is a conversation starter.\\nPicture the warm glow adding character to your favorite hangout spot. Buy now and let the vintage industrial charm illuminate your unique style!'},\n",
       " 'condition': 'Pre-Owned',\n",
       " 'top_rated': False,\n",
       " 'reviews': None,\n",
       " 'watchers_or_sold': None,\n",
       " 'buy_now_extension': None,\n",
       " 'delivery': {'shipping': '+$14.45 shipping', 'location': None},\n",
       " 'bids': {'count': None, 'time_left': None}}"
      ]
     },
     "execution_count": 54,
     "metadata": {},
     "output_type": "execute_result"
    }
   ],
   "source": [
    "search_res[1].model_dump()"
   ]
  },
  {
   "cell_type": "markdown",
   "metadata": {},
   "source": [
    "* Example of formatted search results"
   ]
  },
  {
   "cell_type": "code",
   "execution_count": 11,
   "metadata": {},
   "outputs": [
    {
     "name": "stdout",
     "output_type": "stream",
     "text": [
      "Vintage Appleton Explosion Proof Vented Industrial Ceiling Light Lamp Fixture\n",
      "Pre-Owned\n",
      "$39.99\n",
      "+$35.10 shipping\n",
      "\n",
      "Item description from the seller:\n",
      "Vintage Appleton Explosion Proof Vented Industrial Ceiling Light Lamp Fixture\n",
      "Parts Only - Light is untested\n",
      "200W - 250V - Type EVA - Catalog AA 99\n",
      "Measures\n",
      "8\" in dia x\n",
      "16\n",
      "\" in height (not including threaded rod)\n",
      "all approx\n",
      "Fresh Barn Find the Aluminum housing has oxidation\n",
      "Glass Looks Good - Has a\n",
      "Porcelain\n",
      "socket\n",
      "Down Rod will be removed for shipping\n",
      "Please study all the photos\n",
      "Feel Free to ask any questions\n",
      "Check Back I found more unusual Light Fixtures in this Barn Including a few Holophane shades et\n",
      "\n",
      "eBay item number: 155896783352\n",
      "Listing URL: https://www.ebay.com/itm/155896783352?itmmeta=01HRNWCDJAHJ1Q0GXC01V3JV30&hash=item244c2c21f8:g:PrUAAOSwK2xlR49E&itmprp=enc%3AAQAIAAAA4B8%2B2Q1W6ISeGsSM37CcksptgXDgAzaL74Hvnh0stjTGog%2FWSESj7YNo%2Bci6OxmTcKQkmhHwCAunkkIhB1aso0yxwO9RSKxdafVrFg6sCFy3fiEvDwz4LckinD%2Fj7VbxuGNdSo0BOUaNkDOCmIRuWVSm4ULldvepzfACNlw81PlBcp5bCLEdA7Endg%2BtXs47W7dOqP84uOtcPNFsrwDfQr%2Fok%2By44YIRtpsa91LY4ZZ36SQ4m8WQ5LjE4KhYhjsoxhIcEayP%2FE6nMXOY8WB%2Bcd9AESiYEEeJIOj6LfV58Thl%7Ctkp%3ABk9SR6LZsbzFYw\n",
      "Image URL: https://i.ebayimg.com/thumbs/images/g/PrUAAOSwK2xlR49E/s-l300.jpg\n",
      "--------------------------------------------------\n",
      "VTG Appleton A-51 Vented Explosion-Proof Industrial Light - Man Cave Garage Bar\n",
      "Pre-Owned\n",
      "$39.99\n",
      "+$14.45 shipping\n",
      "\n",
      "Item description from the seller:\n",
      "Transform your space with this vintage Appleton Electric A-51 Vented Explosion-Proof Industrial Light Fixture - a perfect addition to your man cave, industrial garage, or home bar decor!\n",
      "Crafted by the reputable Appleton Electric Company, this fixture boasts a unique blend of industrial charm and safety features. The vented design ensures both functionality and a touch of nostalgia, making it an ideal choice for enthusiasts seeking authentic vintage decor.\n",
      "Key Features:\n",
      "Manufacturer & Model: Appleton Electric Company, A-51 Series Vented.\n",
      "Material: Durable metal body, likely aluminum, for corrosion resistance.\n",
      "Safety Certification: UL and CSA certified, meeting safety standards for hazardous locations.\n",
      "Voltage & Lamp Support: Supports up to 300 volts, compatible with various lamp types (up to 200 watts).\n",
      "Mounting Instructions: Clearly marked \"MOUNT VERTICAL\" for correct installation.\n",
      "Condition: Displays signs of wear and age; the ribbed glass enclosure is intact. Please note, there is a slight gap in the top seal, and it may not be completely watertight.\n",
      "Elevate your space with industrial decor that tells a story. Whether it's for your man cave, garage, or home bar, this Appleton A-51 Vented Light Fixture is a conversation starter.\n",
      "Picture the warm glow adding character to your favorite hangout spot. Buy now and let the vintage industrial charm illuminate your unique style\n",
      "\n",
      "eBay item number: 386723431936\n",
      "Listing URL: https://www.ebay.com/itm/386723431936?itmmeta=01HRNWCDJAYKKGCP4HAYYJKF4P&hash=item5a0a834600:g:9QwAAOSwpDlluDud&itmprp=enc%3AAQAIAAABAGP2goulIxqfc2L%2BgWJXqhnBKYLugKAE%2FnzT6kcmqO0xyVMT8z5I3GrddMrK8C%2BEzcvwJcmoVxsVbajkeBGKGld6e2GLR09dPL9NMa7xBu5zK2Qhi%2BxdsGiKmgI%2FzaBXaSet%2Bn7cXdE6jhUrShpzEmqOW8%2Bjds6RzMLXv%2BtBawrPlerXDmLL%2F4sZAJ4tjDp2O%2Fu%2FyDQd77p5dcanqTns5RmRuh9LDAA2QeFB1%2B8ApyqsqHw4tVPVNkL5qw06JOJn3MbHOpoSN2YCqzbuybV8F6IDUSDImDXe%2BKClHTULnVJagur%2BzcAs6JFQ6%2BpBylk5kQca6ZqBDWNIIclnceSKuXE%3D%7Ctkp%3ABk9SR6LZsbzFYw\n",
      "Image URL: https://i.ebayimg.com/thumbs/images/g/9QwAAOSwpDlluDud/s-l300.jpg\n",
      "--------------------------------------------------\n",
      "Appleton Electrical A-51 Series Vintage Vented Explosion Proof Light Fixture\n",
      "Pre-Owned\n",
      "$125.0\n",
      "+$14.92 shipping\n",
      "\n",
      "Item description from the seller:\n",
      "Appleton Electrical A-51 Series Vintage Vented Explosion Proof Light Fixture.\n",
      "Step back in time with this incredible vintage Appleton A-51 Explosion-Proof Light, a remarkable piece of industrial history that will add a touch of authenticity to any space. Crafted to withstand hazardous environments, this sturdy and stylish light fixture is an iconic relic from a bygone era.\n",
      "Product Features:\n",
      "Authentic Vintage Item: This Appleton A-51 light is a genuine vintage piece, manufactured during a time when functionality and durability were paramount.\n",
      "Explosion-Proof Design: Originally created for use in hazardous locations, this light features a robust construction to ensure safety in potentially volatile environments.\n",
      "Timeless Industrial Aesthetic: The Appleton A-51 boasts a rugged yet elegant design, combining a cast aluminum housing with a glass globe for a perfect blend of style and practicality.\n",
      "Excellent Craftsmanship: Meticulously built, this explosion-proof light showcases the quality and attention to detail that were characteristic of vintage industrial equipment.\n",
      "Versatile Usage: While originally intended for industrial settings, this Appleton A-51 light can also be repurposed for home decor or as a unique collector's item.\n",
      "Condition:\n",
      "This Appleton A-51 Explosion-Proof Light is in remarkable vintage condition. Please note that due to its age, there may be minor signs of wear and tear, which only add to its authenticity and character.\n",
      "It has been wired with a plug, but that could be easily changed to fit your needs.\n",
      "Specifications:\n",
      "Manufacturer: Appleton Electric Company\n",
      "Model: A-51\n",
      "Material: Cast Aluminum\n",
      "Finish: Weathered Patina\n",
      "Glass Globe: Clear\n",
      "Mounting: Ceiling or Wall\n",
      "Wiring: Please note that this light is sold as-is, and rewiring may be necessary to comply with current electrical standards.\n",
      "Dimensions (approximate):\n",
      "Whether you're a collector, an industrial enthusiast, or simply someone who appreciates unique vintage decor, this Appleton A-51 Explosion-Proof Light will make a stunning addition to your space. Don't miss the opportunity to own a genuine piece of industrial heritage. Bid with confidence and embrace the captivating allure of this timeless artifact!\n",
      "Please feel free to reach out if you have any questions or require further information. Happy bidding\n",
      "\n",
      "eBay item number: 295715450395\n",
      "Listing URL: https://www.ebay.com/itm/295715450395?itmmeta=01HRNWCDJAGKS84EHX6MBMNEXD&hash=item44da03ae1b:g:kHwAAOSwTOFkbNMV&itmprp=enc%3AAQAIAAAA4K3QrE%2FISUF0e%2BMJsgkyITWxUJ6VPUdvppqHlXTQ%2FfBUDMgYu%2BX1W3End1Ff%2FjeO1IiviGjh7ftxRxTy9%2BoLq%2BHaofMQrlhRmkHCbeVlgtnKQsEnlJjQbKhZoVdOjvuahyJZONajxBMDcSFFXaTAmli%2FfR2E%2F6FBHZIdlgjr5%2FM9zZwfoxpWGGs6ZZHpdL1RDGs3HGNY9ynwo7ZJzyobCmCa8JvCM%2FC8Qw4zG%2FcJoe43tknflsdWDbnHalSOYEp1OGHQ9%2BaIYx4rP0orEnGhjBLU7wYroAtMrK4qMz44pULF%7Ctkp%3ABk9SR6LZsbzFYw\n",
      "Image URL: https://i.ebayimg.com/thumbs/images/g/kHwAAOSwTOFkbNMV/s-l300.jpg\n",
      "--------------------------------------------------\n",
      "Large vintage antique appleton Vented Explosion Proof Lighting Fixture steampunk\n",
      "Pre-Owned\n",
      "$85.0\n",
      "+$48.65 shipping\n",
      "\n",
      "Item description from the seller:\n",
      "This large vintage antique Appleton lighting fixture is perfect for adding a touch of steampunk style to any industrial lighting setup. Its vented design ensures safe operation in any facility, making it an ideal choice for those in need of high-quality lighting fixtures for their business or industrial space. With a brand name like Appleton, you can trust that this fixture is built to last and will provide reliable lighting for years to come. Its unique vintage look is sure to draw attention and add a touch of character to any space. Measures about 15 inches in lengt\n",
      "\n",
      "eBay item number: 166632200740\n",
      "Listing URL: https://www.ebay.com/itm/166632200740?itmmeta=01HRNWCDJAXJK9N71YSDJB7KD2&hash=item26cc0d9a24:g:Y8IAAOSwgEpl1RBA&itmprp=enc%3AAQAIAAAA4OQhLjmGXlj6Dd9KDPHp8onassje7EYwst1CVNfX%2BnVblX0iWohKlwI3IfhFQJEgoAS3oPl%2Fma7i8Fzoh1Fr3BBzdfoi%2FiuBoWjfzsKuvI1VvFvpc1qO7W9HkiYDP4ddr%2Fdz8FJh0pToeWg2nhDhO%2FAwbDqO%2FxzRlP1VKHelc3ptaGZO3M89KjrUoOY4Yq9LtiUj%2FwwYp2uiOyZ5ClxA%2BzsPbNr34WEUgUsK8Imcwq1WBLh0aDHCKgazQxxWrEHKzvLpcydHiyCwWR5JEqT1Bwfe3r1JULgv0eFIg7Mmeiob%7Ctkp%3ABk9SR6LZsbzFYw\n",
      "Image URL: https://i.ebayimg.com/thumbs/images/g/Y8IAAOSwgEpl1RBA/s-l300.jpg\n",
      "--------------------------------------------------\n",
      "Vintage Appleton Electric Co. white enamel angled industrial light fixture\n",
      "Pre-Owned\n",
      "$50.0\n",
      "+$13.20 shipping\n",
      "\n",
      "Item description from the seller:\n",
      "Vintage Appleton Electric Co. white enamel angled industrial light fixture.\n",
      "Light shade is 8 inches across. In very good condition with original sticker. It weighs a little over 2 lbs\n",
      "\n",
      "eBay item number: 185694894549\n",
      "Listing URL: https://www.ebay.com/itm/185694894549?itmmeta=01HRNWCDJA5KVC5PRMVBHENMEB&hash=item2b3c4739d5:g:4WcAAOSwjNJjlzya&itmprp=enc%3AAQAIAAABAOWTtdYS3R28U2W%2FaEbVVn%2FgK0XZTV3ih9amRFCkBt%2BzqRGBo9pcyWIsufEM3DQ1ahDN19SQ7GRkdgbMbavsXbUbj%2B%2Bh80SgfAK6JgGS79JE1YEY35Iw0QO9EPGdW2Xuoq3npaqzVlaXvhL8cJUdKea24318mhcuPC4JHMXn64iBew189xk%2BpdutrYrwymGgdjvceQN2lEPWv0xAVLVnvqTJdAc16XCVP1plynDdp6yUoh3Bop9oce60Ll73c%2FaiTzcX%2B4dXTO27xKdDNeoTxS5J4gr4W3TwzSQmk6HWKJH7SaHUwMkGDGAQpGuY5kBM06Fvrw3S2B0xNUyCiA9xEK8%3D%7Ctkp%3ABk9SR6LZsbzFYw\n",
      "Image URL: https://i.ebayimg.com/thumbs/images/g/4WcAAOSwjNJjlzya/s-l300.jpg\n",
      "--------------------------------------------------\n",
      "Appleton Electrical A-51 Series Vintage Vented Explosion Proof Light Fixture\n",
      "Pre-Owned\n",
      "$135.0\n",
      "Free shipping\n",
      "\n",
      "Item description from the seller:\n",
      "This vintage Appleton Electrical A-51 series light fixture is a great addition to any industrial lighting setup. With its vented explosion proof design, it ensures safety in any facility maintenance and safety application.\n",
      "This unit, made in the United States, boasts a single unit quantity and is perfect for those looking for a reliable and durable lighting fixture. Its brand, Appleton, is known for its quality products and this unit is no exception. Add this industrial lighting fixture to your collection today\n",
      "\n",
      "eBay item number: 145411750618\n",
      "Listing URL: https://www.ebay.com/itm/145411750618?itmmeta=01HRNWCDJAHQV3NWGQT2EZ3KQG&hash=item21db373ada:g:TIYAAOSwxzllRTFK&itmprp=enc%3AAQAIAAABANvVJns2kxmAeIt%2FuPPCTnTSRdfGIxcQl%2F7lOEXvPq%2FYK1SM5quwGA8jUtsyCNKE%2Bgi%2BiI3QZQNXDuuz4fehpm8K5jp2YsosSQAtknYHKQtXZP9rjkxAWyiesESceIGRa76ZdMHvFNtcaOpgEu1UbJKhUKmAX9DDAPb0ZAhQlFcO%2BKCw55214iBkXsxJHNDb%2B1fU3Va2giAp9gNvqA2ur%2B7nZKk6xPh%2BQWqhnLvDf%2BTnmYr7WwTD2%2BI2Gf9p7mU6EdsFWuPFpqqC7Yhr8mPoddSz4ZI5YHTKbKnB0Pu7zuSGjmARZZ0z4VAMgGiu6tgDKdCFgtBnwyVwyOxA87ZDo1w%3D%7Ctkp%3ABk9SR6LZsbzFYw\n",
      "Image URL: https://i.ebayimg.com/thumbs/images/g/TIYAAOSwxzllRTFK/s-l300.jpg\n",
      "--------------------------------------------------\n",
      "Vintage 1940's Crouse Hinds Appleton Explosion Proof Industrial Wall Lamp Light\n",
      "None\n",
      "$125.0\n",
      "+$14.92 shipping\n",
      "\n",
      "Item description from the seller:\n",
      "The fixture is made of cast iron with a thick glass globe. No cracks in glass. Light socket is missing. Please examine pictures for condition and size. Weighs about 8 pounds. Please check out my other items on Ebay. Thank you for looking\n",
      "\n",
      "eBay item number: 145324899641\n",
      "Listing URL: https://www.ebay.com/itm/145324899641?itmmeta=01HRNWCDJAM0YHDP2X5JW38YQ7&hash=item21d609fd39:g:frIAAOSwHl5lEhbf&itmprp=enc%3AAQAIAAAA4FgFaE0E4vP2S23Y7HjZ48flrLTNUbz8JCymGVD1ZiPDWeLNud9UFgPmM8J80LTZAXCiCCV%2BaW4en296CjD8lOsxONqb2MzouaD3sdpNnC%2BETTOP1Il1gbRemdr4kI2Ly%2F7azTvD67YSKE79D4ejO9dpRiK3NRiQUctZZG5l2yGdu1Om%2FP8kpaH0jjfR%2FjZLPYh4yJ1GVhH9A7AOapl%2BGbBQBTPAFa8xpDJlVMi7HFoUJ3J8LhICz4frgybCeEjCqdkoH0Uuyd7QsmUg5%2Bv%2Bb20Si7Lhtmcf1%2BQhzltm3PkZ%7Ctkp%3ABk9SR6LZsbzFYw\n",
      "Image URL: https://i.ebayimg.com/thumbs/images/g/frIAAOSwHl5lEhbf/s-l300.jpg\n",
      "--------------------------------------------------\n",
      "Appleton Pendant Shade / Lights – Wired – True Vintage Workshop Barn Industrial\n",
      "Pre-Owned\n",
      "$59.99\n",
      "+$33.02 shipping\n",
      "\n",
      "Item description from the seller:\n",
      "Appleton\n",
      "White Enamel Pendant Shade / Lights – Wired – True Vintage – Workshop Barn\n",
      "Garage Industrial Warehouse (2 available)\n",
      "Cost is per (1) shade....\n",
      "Vintage white Appleton shade for an industrial\n",
      "pendant light fixture.\n",
      "Porcelain enamel on metal shade and the original\n",
      "Appleton Electric label.\n",
      "Measures 16\" across\n",
      "x\n",
      "10”\n",
      "high (approx.)\n",
      "Two (2) shade / lights with pendant drop\n",
      "available\n",
      "One (1) with 40” drop (pipe) - One (1) with no pipe.\n",
      "Virtually\n",
      "ready attach to your circuit!\n",
      "Condition\n",
      "Overall Good / Very Good vintage condition.\n",
      "Some minor bumping – to be expected of True\n",
      "Vintage articles. (Want them perfect ?\n",
      "Buy new!).\n",
      "A couple with the\n",
      "original Appleton labels.\n",
      "Please see the\n",
      "photos.\n",
      "Shipping - Local Pickup Preferred ....but I can ship....\n",
      "Will ship with the shade detached from the pipes\n",
      "(for efficiency).\n",
      "Provide your ZIP and # / needs and I can investigate\n",
      "most efficient shipping options.\n",
      "The shipping cost shown in the calculator is likely NOT accurate - please contact me and I will provide an accurate cost.\n",
      "A rescue from an estate\n",
      "in metro Detroit Michigan…\n",
      "06202\n",
      "\n",
      "eBay item number: 175931275499\n",
      "Listing URL: https://www.ebay.com/itm/175931275499?itmmeta=01HRNWCDJAMDHKV148FXYDTS5M&hash=item28f65238eb:g:WFAAAOSw8VNlb0XY&itmprp=enc%3AAQAIAAABAGGj%2FEOA7rkgQzYkKXBxlU%2BrHMF36KsaqEy3yiWybg8rHj%2BvjEH%2BocO8cSuIzpJGzgtPdy9MQiORerMAnmniM0ULQzEufb39MeuXZNHcrH8%2FIT589UKigv3K9lsiE6tZG0uHJS1qFDoOcipLMkjsFq1X3lzPUL42e1q%2FBcbkfio5patk%2FKva6R77LKWIeyYExEaoxfhI%2B6yEMXAuLw0HDB3WvEhIe1l%2BX1ALqViNnKm0y9Uo3xkGQJl2AhwNKudUiPkj%2BN4fGUvdBCmskKaLXuXXxmlNQkmtGdyIsXLZIfMz0m2QsPxMzPcHMTZTuDWzreIjSPG83TmXKmat%2FWXJ%2BtU%3D%7Ctkp%3ABk9SR6LZsbzFYw\n",
      "Image URL: https://i.ebayimg.com/thumbs/images/g/WFAAAOSw8VNlb0XY/s-l300.jpg\n",
      "--------------------------------------------------\n",
      "Vintage 1940's Crouse Hinds Appleton Explosion Proof Industrial Wall Lamp Light\n",
      "None\n",
      "$125.0\n",
      "+$14.92 shipping\n",
      "\n",
      "Item description from the seller:\n",
      "The fixture is made of cast iron with a thick glass globe. No cracks in glass. Light socket is missing. Please examine pictures for condition and size. Weighs about 8 pounds. Please check out my other items on Ebay. Thank you for looking\n",
      "\n",
      "eBay item number: 145324900005\n",
      "Listing URL: https://www.ebay.com/itm/145324900005?itmmeta=01HRNWCDJAAXCP61NXGQ0H7SFK&hash=item21d609fea5:g:rscAAOSwU3llEhpV&itmprp=enc%3AAQAIAAABABp9umBINsVyDWNbC5hDUsA0Szu044OVLPuO24NnBqay0WdME53HGAGabBqieeWBz5tM%2BQp8rLQz0kK4g1OclwBaw%2FMikNHlNoKmxL%2FbmS3h1gt7%2FaaO5EjUukoSDA60VyJC3NrOt8USIIBz43ki439k026g8mcDjQXp9opZ1g7Gw1CIa6WOq8ZxTCrznxyy1C9mtw6L20K%2F6xUpFs9ySgLALkVZD5h6%2F86UbBnXMUC5bz6xWzZfI7y8CcWT4OeSTutI3IhyMJW8WbrEKLv8CPQ%2B%2BRq6Y4C5zfnYpOikwoXRqzulwcLzdMXk%2BGTK0H6wjiq2YQ0UPdZrODXW1%2FRoiEE%3D%7Ctkp%3ABk9SR6TZsbzFYw\n",
      "Image URL: https://i.ebayimg.com/thumbs/images/g/rscAAOSwU3llEhpV/s-l300.jpg\n",
      "--------------------------------------------------\n",
      "Vintage Heavy Duty Metal Appleton Form 100 Industrial Light with Cage & Glass\n",
      "None\n",
      "$49.99\n",
      "+$11.99 shipping\n",
      "\n",
      "Item description from the seller:\n",
      "Vintage Heavy Duty Metal Appleton Form 100 Industrial Light with Cage & Glass. Great bones. I don't see any rust. You could easily clean and and repaint it if you want\n",
      "\n",
      "eBay item number: 315200573814\n",
      "Listing URL: https://www.ebay.com/itm/315200573814?itmmeta=01HRNWCDJA7DE5RT8JW3892DE3&hash=item49636b1176:g:oxsAAOSwi5hlz4h1&itmprp=enc%3AAQAIAAABAFoL224r7ibVjkWaYhZ5mqXdDX4g%2BDM%2FE%2BGV76%2BxSq%2B3sY2MhlNsUm1D%2FLMvxPfq6r1scH%2B0FY%2B28tLLaJ6nXaXqVJlKiRNLN3p8kDYLkr8w%2FfQYybflBZMc8ECU7YxhvqVjBbwLhcVTlVWswmqQzV7nSRoSxfp986Rpv9euWHuvXaAsnLOkpiskoIrLW%2Fl0Y2qnbC5AamxMRDGFMyI0sq2lnoMjOCCXl6LYQRRrJ9cbgTQJ6nd2oao9pPj9CjHA8vsS0zf390%2FWz3BSYTC8leVIs%2FG1vi4RXlBWB%2FJxz5lZmrj2yMFVWtdHo3queE9AMyQsQNXiXXk4P9rq2DzPbOA%3D%7Ctkp%3ABk9SR6TZsbzFYw\n",
      "Image URL: https://i.ebayimg.com/thumbs/images/g/oxsAAOSwi5hlz4h1/s-l300.jpg\n",
      "--------------------------------------------------\n"
     ]
    }
   ],
   "source": [
    "for i in range(len(search_res[:4])):\n",
    "    print(search_res[i])"
   ]
  },
  {
   "cell_type": "markdown",
   "metadata": {},
   "source": [
    "* Example showing `eBayProduct` sorted by price (ascending or descending)"
   ]
  },
  {
   "cell_type": "markdown",
   "metadata": {},
   "source": [
    "* Least expensive"
   ]
  },
  {
   "cell_type": "code",
   "execution_count": 14,
   "metadata": {},
   "outputs": [
    {
     "name": "stdout",
     "output_type": "stream",
     "text": [
      "Vintage Appleton Light Fixture Clear Ribbed Glass Globe & Cage Unknown Model\n",
      "Pre-Owned\n",
      "$19.95\n",
      "+$13.05 shipping\n",
      "\n",
      "Item description from the seller:\n",
      "Appleton Products light globe and cage. Have some marks from use as shown in pictures.  The inside of the globe is ribbed.  the opening is 5.25\" across and the globe is 6\" tall.  No model numbers on it just Appleton logo at bottom of globe. It is preowned.\n",
      "LOC 4\n",
      "\n",
      "eBay item number: 123718689975\n",
      "Listing URL: https://www.ebay.com/itm/123718689975?itmmeta=01HRNWCDJAKGTS3HVPWYXDQTGE&hash=item1cce3564b7:g:lZUAAOSwGUBaRVLx&itmprp=enc%3AAQAIAAABAMA9Cd93bTMPT6uSQNJZIvQZpqFSF6pup65XR1TEzQ3LUEqfsEdQj0jW%2FBDIRm%2F7jdb6Ejzx1ir9ESDeSjSudsSH4zee7JMTeu7rI4CCLpaqXzCEORphQ7%2B0KjYKVFwbAYL8voJsabpYg0EM3HY%2FGtfSbmJJg3nK1RjHN5AR14j%2FEO74xfikoc7kIfyBuTzkwlpntJ1%2F37MIkl3f7G9hSY5B%2BP%2BSx63GGnZpRC659yXvj6%2BPZzkUEsIoIl%2BgtUDgdPoQjw8VUao9qSghF63hS3TZ7tWc87fviwNOl5LmVDV6eIKLW1CLnGFYxkEd5fe%2BiBui1ePtpGSN81C9v8LilAQ%3D%7Ctkp%3ABFBMpNmxvMVj\n",
      "Image URL: https://i.ebayimg.com/thumbs/images/g/lZUAAOSwGUBaRVLx/s-l300.jpg\n",
      "--------------------------------------------------\n",
      "NEW OLD STOCK APPLETON PRIS GLASS GLOBE LIGHT FIXTURE VPGL-2HR\n",
      "New – Open box\n",
      "$24.95\n",
      "+$12.48 shipping\n",
      "\n",
      "Item description from the seller:\n",
      "PLEASE FEEL FREE TO CONTACT US WITH ANY QUESTIONS\n",
      "SHIPPING\n",
      "WE WILL BE HAPPY TO COMBINE SHIPPING ON MULTIPLE ITEMS. ITEMS PURCHASED BEFORE 12:00 CST ARE ARE IN MOST CASES SHIPPED THE SAME DAY.\n",
      "INTERNATIONAL SHIPPING\n",
      "MOST ITEMS CAN BE SHIPPED INTERNATIONALLY - SIMPLY CONTACT US FIRST TO CONFIRM THIS.\n",
      "RE-SELLERS: PLEASE BE AWARE THAT ALL ITEMS LISTED AS NEW WILL COME THAT WAY - PACKAGING MAY AT TIMES CONTAIN COSMETIC DEFICIENCIES SUCH AS WRITING OR MISC. TAPE. PLEASE CONTACT US IF YOU NEED TO HAVE THE ITEM IN PERFECT PACKAGING.\n",
      "SATISFACTION GUARANTEE\n",
      "ITEMS LISTED AS NEW OR UNUSED WILL COME THAT WAY. WE WILL GUARANTEE THESE ITEMS TO WORK AS NEW WHEN RECEIVED.  IF YOU ARE NOT SATISFIED FOR ANY REASON, PLEASE CONTACT US AND WE WILL BE HAPPY TO EXCHANGE WHEN POSSIBLE OR ALLOW FOR A RETURN FOR A FULL REFUND. ITEMS LISTED AS USED OR FOR SALE AS PARTS WILL BE SOLD \"AS\n",
      "IS, UNLESS WE STATE THAT WE WILL GUARANTEE THE ITEM\".\n",
      "PLEASE FEEL FREE TO CONTACT US WITH ANY QUESTIONS INCLUDING COMBINED OR RUSH SHIPPING.\n",
      "REF: WR3-\n",
      "\n",
      "eBay item number: 392011891847\n",
      "Listing URL: https://www.ebay.com/itm/392011891847?epid=1504540449&itmmeta=01HRNWCDJBJ9R5R4ZJPKM8919B&hash=item5b45bac487:g:e7cAAOSwcjhawjzx&itmprp=enc%3AAQAIAAAA4N4%2Bpn3UanwEU8CZ5YUSPZM4G41ZWF56BzTdeO%2BhTjTQdR4yHUfq5yVDcPhY%2BLeqPWhqxucGMS3arDnOO9J3zu32LolLAYeoOv2KxY70%2B6Y9h5XfGGx7n0KP685rexEIH8ibQJGV7U5WTUsCcO6aSVoXblo%2F729coLvOmhTXEw9k4qgAXkj%2Bef5vMyOc2SEkLfpgXVzF5kwB8CdxoHdYjuixIjfw6u9TLxqoYWa2zWgh28mCRYuNldDUwT1PqY3mUjUOX0LaxAhR%2FWXhkHGJC4AmyDJPOrB7yG3UTv4EyQ7K%7Ctkp%3ABk9SR6bZsbzFYw\n",
      "Image URL: https://i.ebayimg.com/thumbs/images/g/e7cAAOSwcjhawjzx/s-l300.jpg\n",
      "--------------------------------------------------\n",
      "Vtg Appleton Electric Industrial Light Lamp Fixture Cover Mount Arm 90XB Cap Lid\n",
      "Pre-Owned\n",
      "$29.99\n",
      "Free shipping\n",
      "\n",
      "Item description from the seller:\n",
      "Up for sale is this part to a light fixture, Used but in good condition, set screws turn freely No cracks or repairs. See pics for detail\n",
      "\n",
      "eBay item number: 266243392418\n",
      "Listing URL: https://www.ebay.com/itm/266243392418?itmmeta=01HRNWCDJA6KS812590NP0WSR3&hash=item3dfd57c3a2:g:I-UAAOSwl2RkUYh7&itmprp=enc%3AAQAIAAABAJnDQTl6kEJrPva3msoA3RL9DjuOSoSkeoXJWb%2BuJdWj81t0%2FpVS3P8%2BxKYCK%2BAsgfWJgOaX32H%2BWjzE4e%2BtfUsITENspmTKG0l0Lo5zRqdkitFoKFBYJOixlYVhymlBjrg6nYGuRxuDhgKT1YR1Ioan%2BUvOWYnjMQDQWDJ46ckg581U1xleVLEz5RdfD40amDtx3%2Fd3P7hWC8zwDm%2FiY59Zu8o9JC3hgl8DGa45l30Ja%2FLvJjnG2u1dqlz9fuZX8ocQ%2BtiMjk5nV6biVqdiUlM4Swq8794KYvif60rUUS34o4pExW1khaQTNZ98u5GfQSWnukWoUu12CLrlykYEH3M%3D%7Ctkp%3ABk9SR6TZsbzFYw\n",
      "Image URL: https://i.ebayimg.com/thumbs/images/g/I-UAAOSwl2RkUYh7/s-l300.jpg\n",
      "--------------------------------------------------\n",
      "Vintage Appleton Industrial Light Fixture-Steampunk Model V51?\n",
      "Pre-Owned\n",
      "$29.99\n",
      "+$15.99 shipping\n",
      "\n",
      "Item description from the seller:\n",
      "Vintage Appleton Industrial Light Fixture-Steampunk Model V51\n",
      "\n",
      "eBay item number: 393657783532\n",
      "Listing URL: https://www.ebay.com/itm/393657783532?itmmeta=01HRNWCDJAJKD2CG7G57D9JEVH&hash=item5ba7d514ec:g:GT4AAOSw~p1hfGXi&itmprp=enc%3AAQAIAAAA4PUbkgux2IYFBnb8Ydv6FJ3OtT4NNsqFAPf6k99clZ6rI0HuF8rKj7TPt9mSR9lLbtSd9S%2BmS6d2Cc7yA93ok0mxtxWw6XCv8d9KdPbFON4K5n6ByiFl1FxRAMh3GOYfqZ1nZYzp83e%2FiKs2galdm5rNfpKWSuFF%2FcaTG7DB54uSbDVuin37XosPlV0fpahGX5cc0BxTKZmEcnl4glI3qWNHAzZzEgzZWmpyUe2j1vUnug8%2Ffe3OzXWcnx29FB%2FGdxCbHKR2MQF4CdiHx4U2TEP%2Fo9PVBdiFVhyuf8E%2BGPv%2B%7Ctkp%3ABk9SR6TZsbzFYw\n",
      "Image URL: https://i.ebayimg.com/thumbs/images/g/GT4AAOSw~p1hfGXi/s-l300.jpg\n",
      "--------------------------------------------------\n"
     ]
    }
   ],
   "source": [
    "sorted_results = eBayProduct.sort_by_price(search_res, reverse=False)\n",
    "for i in range(len(sorted_results[:4])):\n",
    "    print(sorted_results[i])"
   ]
  },
  {
   "cell_type": "markdown",
   "metadata": {},
   "source": [
    "* Most expensive"
   ]
  },
  {
   "cell_type": "code",
   "execution_count": 9,
   "metadata": {},
   "outputs": [
    {
     "name": "stdout",
     "output_type": "stream",
     "text": [
      "Set of 4 Appleton 12\" Porcelain Flush Mount Industrial Green Enamel Barn Light\n",
      "Pre-Owned\n",
      "$660.0\n",
      "+$25.00 shipping\n",
      "\n",
      "Item description from the seller:\n",
      "SOLD AS A SET OF FOUR\n",
      "The absolute perfect light for lower ceilings. Excellent for use in hallways, small rooms or almost any room with four ceiling boxes. Garages are also a good spot for these. Lot's of garages need exactly four of these. Also, the overhead garage door will miss these!\n",
      "Nice little lights, perfect for 8 foot or lower ceiling as they only need 6 inches of space.\n",
      "These heavy porcelain covered steel light fixtures were manufactured by Appleton,  Circa 1936 patent.\n",
      "Push and turn to lower the shade for cleaning.  A clean shade shines brighter.\n",
      "All I had to do was clean the shades, disassemble, re-wire and reassemble.\n",
      "The shades are 12 inches in diameter. The total height is only  inches.\n",
      "In order to safely ship the lights, they will be disassembled, to be easily reassembled by the buyer.\n",
      "Please feel free to ask questions prior to bidding.\n",
      "I'm a very fast and careful shipper. These lights will be packed very well.\n",
      "THANK YOU FOR VISITING THE ORIGINAL\n",
      "OLD-INDUSTRIAL-LIGHTING LLC\n",
      "Although we offer full refunds for defective or inaccurately described items,\n",
      "most of the items we sell are vintage or no longer in production. All items are sold as is and there is no implied warranty. It is your responsibility to assure the items are compatible to your needs and other equipment, and are safe. By purchasing an item, you agree to take full responsibility and liability for the use, installation, maintenance, and operation of the item as well as any and all consequences which come out of its purchase, use and/or misuse.\n",
      "Shelf #\n",
      "18544306365\n",
      "\n",
      "eBay item number: 255575257755\n",
      "Listing URL: https://www.ebay.com/itm/255575257755?itmmeta=01HRNWCDJAV05XW17E0EJDGBRH&hash=item3b8178f29b:g:Zu0AAOSw3QViomVR&itmprp=enc%3AAQAIAAABANxD91IQiXRMJnKj38etvTE6w90rvwLmu%2BArFHFlfHa5uKz%2BBjyiFmCLwW9rSthoaT%2B3DwmjfaDNosW1puzgEx1WyDDDeCDebjgms34bg9rqAIbm30FUu5na5ivEFUOz8bryWjC8bDYZ48tWBhUF0KzQBBXGXENMUqTRmujIDhQnf52XGialLpGTXcHunkqErWeRItNuzWZ3%2Fu6TlEuXUWazjT3s5RudN%2B%2BpL6FnBI%2FoDrKLq4zRjspp0jMszpRXQBEy7qrQr8zsoApV21n3VED3CJo0IRUzo4Svuuk%2BU7Jt5Qw0IwMhBpA97G8Jr1uGBQkV7vCF0Ylivd0T2kdq1uI%3D%7Ctkp%3ABFBMptmxvMVj\n",
      "Image URL: https://i.ebayimg.com/thumbs/images/g/Zu0AAOSw3QViomVR/s-l300.jpg\n",
      "--------------------------------------------------\n",
      "(2)  VTG Appleton 18\" Flush Mount Industrial Green Barn Porcelain Light PATINA\n",
      "Pre-Owned\n",
      "$355.0\n",
      "Free shipping\n",
      "\n",
      "Item description from the seller:\n",
      "(2)  VTG Appleton 18\" Flush Mount Industrial Green Barn Porcelain Light PATINA\n",
      "BOTH  HAVE AUTHENTIC PATINA AND CHARACTER\n",
      "SOLD AS A PAIR\n",
      "These guys escaped the pampered life. They are perhaps 70 or 80 years old and look like it. Chips, rust etc. as shown, one is even ever so slightly out of round. While the shades are aesthetically challenged, the sockets are in great condition and have been re-wired, I even added a ground. If you're looking for cosmetic perfection...move on, these old boys aren't for you. This listing is for the vintage light-lover that loves their lights to look vintage and perform safely.\n",
      "All I had to do was clean the shades, disassemble the multi-piece sockets, re-wire and reassemble. The socket is the large mogul type, I will include free of charge a screw in adapter to convert the socket to a standard household medium base. (Easily removable). Mogul base LED's are readily available and provide LOTS of light if necessary.\n",
      "The shade is a large 18\" diameter. From the bottom of the shade to the ceiling is only about 12\".\n",
      "In order to safely ship the lights, they will be disassembled, to be easily reassembled by the buyer.\n",
      "Please feel free to ask questions prior to bidding.\n",
      "I'm a very fast and careful shipper. These lights will be packed very well.\n",
      "THANK YOU FOR VISITING THE ORIGINAL\n",
      "OLD-INDUSTRIAL-LIGHTING LLC\n",
      "Although we offer full refunds for defective or inaccurately described items,\n",
      "most of the items we sell are vintage or no longer in production. All items are sold as is and there is no implied warranty. It is your responsibility to assure the items are compatible to your needs and other equipment, and are safe. By purchasing an item, you agree to take full responsibility and liability for the use, installation, maintenance, and operation of the item as well as any and all consequences which come out of its purchase, use and/or misuse.\n",
      "Greenfield ben appleton flush x \n",
      "\n",
      "eBay item number: 264001436238\n",
      "Listing URL: https://www.ebay.com/itm/264001436238?itmmeta=01HRNWCDJAE2X1T6XQNK31E0AX&hash=item3d77b63a4e:g:Yo0AAOSwXRxavpeB&itmprp=enc%3AAQAIAAABAEWlrasBG062XtsoZ85Oa%2BwcQ18%2BaaiJDwZBr1zlBb4SdmiUTVP942ZwSzB%2FfMqZwLulotXDrkR3rJlVo9uRzN0V4yptH%2B1TzblwvFdwFQy4jsQH6kRvxb3EGpQIcLt1yJdxXmrfaWgoSOgQ9lagR1MiRgXEgzXUjuDwAULtEOXwx4RlYv%2BK5eVZVk8FxFc4RUu26qRWtz7ZN6dmyLuw0o%2BMnGjTa1M60ioqddqraanmX33%2FrvveiTxuhDRU9%2Bwyy3dIBb4Pt2iZ%2B53kR1aTvChWkRTTQTMS6a3HNdGtSnBz5a53IcaYaTCilhkEJVFMiW%2Fe%2Fi5GNXSTRzCERxhLSk4%3D%7Ctkp%3ABFBMptmxvMVj\n",
      "Image URL: https://i.ebayimg.com/thumbs/images/g/Yo0AAOSwXRxavpeB/s-l300.jpg\n",
      "--------------------------------------------------\n",
      "Vintage Appleton Porcelain EXPLOSION PROOF 14\" Barn I​ndustrial Lamp Light\n",
      "Pre-Owned\n",
      "$294.99\n",
      "+$76.10 shipping\n",
      "\n",
      "Item description from the seller:\n",
      "Vintage Appleton 14\" porcelain shade explosion proof industrial lamp / light fixture.  The fixture was completely disassembled, cleaned and inspected...it is ready to add wire and hang.  I did not rewire because it can be configured in a number of different arrangements.   It is very easy to re-wire.  Included are 3\" pipe extension, 18\" pipe extension, Appleton junction box and swivel fitting for the junction box and two 3/4\" pipe plugs.  This allows it to be close fit to the ceiling, dropped 18\" plus or mounted from the wall.\n",
      "The condition is very good.  The shade has several small chips in the porcelain.  The explosion proof fixture is nice with no problems.  The globe is good with no cracks or chips.  The cork gasket is dried out and cracked...easily replaced or could be left out.  It does use a standard base bulb.  Nice addition to any decor.\n",
      "Payment due within 3 days.  Buyer pays shipping\n",
      "\n",
      "eBay item number: 372240292075\n",
      "Listing URL: https://www.ebay.com/itm/372240292075?itmmeta=01HRNWCDJBYM6AHQ5J0X7509KE&hash=item56ab4018eb:g:DA4AAOSw2XFUi3ew&itmprp=enc%3AAQAIAAABAGaVpVDjJ1Oj%2Fej0FxlO68XZckIlgNJ7l6UFqHStUV1bIum4%2B6TCVpmM1GRrhF6Xawjrgs3TnPZ9tr2y2t%2F6UW6mFOtvrC93aHbC4I8CsAQw5iUVtcJGdDHXmOX1oyoxDMPfhJw2kbkDEvFVgj4O05dCLwpkQgUILrEXDogSMM9g5%2BaTYaRJsPyP4%2FRWRyP0BY3mSldc9%2B127SMuJcG8xsMsSA6R6Mj89v%2FnhYavYpwxlrYDolG2GaYSfcTXhMz3GGNqWQXJ3%2BXQEO0SxGAjuJWW6GnpTWo%2B8ECrIvlLJ0bc0Y49xw2cpSgZ4HXleLUKaXGSztNA9nylrqcFX7XHHZc%3D%7Ctkp%3ABk9SR6bZsbzFYw\n",
      "Image URL: https://i.ebayimg.com/thumbs/images/g/DA4AAOSw2XFUi3ew/s-l300.jpg\n",
      "--------------------------------------------------\n",
      "Vintage Appleton Porcelain EXPLOSION PROOF 14\" Barn I​ndustrial Lamp Light\n",
      "Pre-Owned\n",
      "$294.99\n",
      "+$76.10 shipping\n",
      "\n",
      "Item description from the seller:\n",
      "Vintage Appleton 14\" porcelain shade explosion proof industrial lamp / light fixture.  The fixture was completely disassembled, cleaned and inspected...it is ready to add wire and hang.  I did not rewire because it can be configured in a number of different arrangements.   It is very easy to re-wire.  Included are 3\" pipe extension, 18\" pipe extension, Appleton junction box and swivel fitting for the junction box and two 3/4\" pipe plugs.  This allows it to be close fit to the ceiling, dropped 18\" plus or mounted from the wall.\n",
      "The condition is very good.  The shade has several small chips in the porcelain.  The explosion proof fixture is nice with no problems.  The globe is good with no cracks or chips.  The cork gasket is dried out and cracked...easily replaced or could be left out.  It does use a standard base bulb.  Nice addition to any decor.\n",
      "Payment due within 3 days.  Buyer pays shipping\n",
      "\n",
      "eBay item number: 372240292075\n",
      "Listing URL: https://www.ebay.com/itm/372240292075?itmmeta=01HRNWCDJFYW9HCCYPG57A36FW&hash=item56ab4018eb:g:DA4AAOSw2XFUi3ew\n",
      "Image URL: https://i.ebayimg.com/thumbs/images/g/DA4AAOSw2XFUi3ew/s-l300.jpg\n",
      "--------------------------------------------------\n"
     ]
    }
   ],
   "source": [
    "sorted_high_results = eBayProduct.sort_by_price(search_res, reverse=True)\n",
    "for i in range(len(sorted_high_results[:4])):\n",
    "    print(sorted_high_results[i])"
   ]
  },
  {
   "cell_type": "markdown",
   "metadata": {},
   "source": [
    "## Image comparison test"
   ]
  },
  {
   "cell_type": "markdown",
   "metadata": {},
   "source": [
    "* Function to send multiple images to GPT-4"
   ]
  },
  {
   "cell_type": "code",
   "execution_count": null,
   "metadata": {},
   "outputs": [],
   "source": [
    "from openai import OpenAI\n",
    "\n",
    "client = OpenAI()\n",
    "\n",
    "def compare_item_images(base_img_url: str, comp_image_url: str):\n",
    "    response = client.chat.completions.create(\n",
    "    model=\"gpt-4-vision-preview\",\n",
    "    messages=[\n",
    "        {\n",
    "        \"role\": \"user\",\n",
    "        \"content\": [\n",
    "            {\n",
    "            \"type\": \"text\",\n",
    "            \"text\": \"I'm planning to list the item in the first image on eBay and looking for good 'comps' to help determine the price. Please review and asses whether the second image is similar enough to use. Include a highly concise explanation as to why.\",\n",
    "            },\n",
    "            {\n",
    "            \"type\": \"image_url\",\n",
    "            \"image_url\": {\n",
    "                \"url\": base_img_url,\n",
    "            },\n",
    "            },\n",
    "            {\n",
    "            \"type\": \"image_url\",\n",
    "            \"image_url\": {\n",
    "                \"url\": comp_image_url,\n",
    "            },\n",
    "            },\n",
    "        ],\n",
    "        }\n",
    "    ],\n",
    "    max_tokens=300,\n",
    "    )\n",
    "    return response.choices[0]"
   ]
  },
  {
   "cell_type": "markdown",
   "metadata": {},
   "source": [
    "* Target image to compare against"
   ]
  },
  {
   "cell_type": "code",
   "execution_count": 42,
   "metadata": {},
   "outputs": [
    {
     "data": {
      "text/html": [
       "<img src=\"https://i.ebayimg.com/thumbs/images/g/9QwAAOSwpDlluDud/s-l300.jpg\"/>"
      ],
      "text/plain": [
       "<IPython.core.display.Image object>"
      ]
     },
     "metadata": {},
     "output_type": "display_data"
    }
   ],
   "source": [
    "target_image = \"https://i.ebayimg.com/thumbs/images/g/9QwAAOSwpDlluDud/s-l300.jpg\"\n",
    "display(Image(url=target_image))"
   ]
  },
  {
   "cell_type": "markdown",
   "metadata": {},
   "source": [
    "* First a bad comp we would not want to use"
   ]
  },
  {
   "cell_type": "code",
   "execution_count": 41,
   "metadata": {},
   "outputs": [
    {
     "data": {
      "text/html": [
       "<img src=\"https://i.ebayimg.com/thumbs/images/g/HEgAAOSwTrJl2Vng/s-l300.jpg\"/>"
      ],
      "text/plain": [
       "<IPython.core.display.Image object>"
      ]
     },
     "metadata": {},
     "output_type": "display_data"
    }
   ],
   "source": [
    "bad_comp_image = str(sorted_results[11].item.image_url)\n",
    "display(Image(url=bad_comp_image))"
   ]
  },
  {
   "cell_type": "code",
   "execution_count": 27,
   "metadata": {},
   "outputs": [
    {
     "data": {
      "text/markdown": [
       "The first image depicts an industrial or vintage light fixture with a distinctive red label and an attached wiring conduit. The second image shows a different light fixture that lacks the attached wiring conduit and has a different protective cage design.\n",
       "\n",
       "The items are not similar enough to use as comps for pricing because:\n",
       "- The designs are notably different, indicating they may serve different functions or fit different aesthetics.\n",
       "- The presence of the wiring conduit and the red label in the first item adds to its characteristics, possibly affecting its value.\n",
       "- The condition and age of the items might differ, which can significantly influence the price.\n",
       "\n",
       "Use comps that more closely match the design, features, and condition of your item for accurate pricing."
      ],
      "text/plain": [
       "<IPython.core.display.Markdown object>"
      ]
     },
     "execution_count": 27,
     "metadata": {},
     "output_type": "execute_result"
    }
   ],
   "source": [
    "# Testing a bad match\n",
    "image_comp = compare_item_images(target_image, bad_comp_image)\n",
    "Markdown(image_comp.message.content)"
   ]
  },
  {
   "cell_type": "markdown",
   "metadata": {},
   "source": [
    "* This time a seemingly decent comp item"
   ]
  },
  {
   "cell_type": "code",
   "execution_count": 43,
   "metadata": {},
   "outputs": [
    {
     "data": {
      "text/html": [
       "<img src=\"https://i.ebayimg.com/thumbs/images/g/PrUAAOSwK2xlR49E/s-l300.jpg\"/>"
      ],
      "text/plain": [
       "<IPython.core.display.Image object>"
      ]
     },
     "metadata": {},
     "output_type": "display_data"
    }
   ],
   "source": [
    "good_comp_image = str(sorted_results[7].item.image_url)\n",
    "display(Image(url=good_comp_image))"
   ]
  },
  {
   "cell_type": "code",
   "execution_count": 35,
   "metadata": {},
   "outputs": [
    {
     "data": {
      "text/markdown": [
       "Yes, the second image is similar enough to use for price comparison. Both images show vintage industrial light fixtures with caged, glass globes and similar design aesthetics. They appear to be of a similar era and style, which is pertinent when looking for comparables in vintage or antique items."
      ],
      "text/plain": [
       "<IPython.core.display.Markdown object>"
      ]
     },
     "execution_count": 35,
     "metadata": {},
     "output_type": "execute_result"
    }
   ],
   "source": [
    "# Looks like a good match to me\n",
    "image_comp = compare_item_images(target_image, good_comp_image)\n",
    "Markdown(image_comp.message.content)"
   ]
  },
  {
   "cell_type": "markdown",
   "metadata": {},
   "source": [
    "## Notes\n",
    "* Given the above, we can now add to the app by\n",
    "  * Instead of a keyword search over the entire internet, search eBay for specific comps\n",
    "  * Get listings that seem close, then send to GPT-4 to help find the \"best\" comps automatically"
   ]
  },
  {
   "cell_type": "code",
   "execution_count": 59,
   "metadata": {},
   "outputs": [],
   "source": [
    "def compare_item_images(base_img_url: str, comp_image_urls: list):\n",
    "    \"\"\"\n",
    "    Compares a base image against a list of comparison images using GPT-4 with vision capabilities.\n",
    "\n",
    "    Args:\n",
    "        base_img_url (str): The URL of the base image to compare against.\n",
    "        comp_image_urls (list): A list of URLs for the comparison images.\n",
    "\n",
    "    Returns:\n",
    "        The response from the API call.\n",
    "    \"\"\"\n",
    "    # Construct the messages payload\n",
    "    messages = [\n",
    "        {\n",
    "            \"role\": \"user\",\n",
    "            \"content\": [\n",
    "                {\n",
    "                    \"type\": \"text\",\n",
    "                    \"text\": \"I'm planning to list the item in the first image on eBay and looking for good 'comps' to help determine the price. Please review and assess whether the following images are similar enough to use. Include the number positions, if any, for the best comps, a highly concise explanation as to why.\",\n",
    "                },\n",
    "                {\n",
    "                    \"type\": \"image_url\",\n",
    "                    \"image_url\": {\n",
    "                        \"url\": base_img_url,\n",
    "                    },\n",
    "                }\n",
    "            ],\n",
    "        }\n",
    "    ]\n",
    "\n",
    "    # Dynamically add comparison images to the messages payload\n",
    "    for comp_image_url in comp_image_urls:\n",
    "        messages[0][\"content\"].append(\n",
    "            {\n",
    "                \"type\": \"image_url\",\n",
    "                \"image_url\": {\n",
    "                    \"url\": comp_image_url,\n",
    "                },\n",
    "            }\n",
    "        )\n",
    "\n",
    "    response = client.chat.completions.create(\n",
    "        model=\"gpt-4-vision-preview\",\n",
    "        messages=messages,\n",
    "        max_tokens=300,\n",
    "    )\n",
    "\n",
    "    return response.choices[0]"
   ]
  },
  {
   "cell_type": "code",
   "execution_count": 58,
   "metadata": {},
   "outputs": [
    {
     "data": {
      "text/html": [
       "<img src=\"https://i.ebayimg.com/thumbs/images/g/lZUAAOSwGUBaRVLx/s-l300.jpg\"/>"
      ],
      "text/plain": [
       "<IPython.core.display.Image object>"
      ]
     },
     "metadata": {},
     "output_type": "display_data"
    },
    {
     "data": {
      "text/html": [
       "<img src=\"https://i.ebayimg.com/thumbs/images/g/e7cAAOSwcjhawjzx/s-l300.jpg\"/>"
      ],
      "text/plain": [
       "<IPython.core.display.Image object>"
      ]
     },
     "metadata": {},
     "output_type": "display_data"
    },
    {
     "data": {
      "text/html": [
       "<img src=\"https://i.ebayimg.com/thumbs/images/g/I-UAAOSwl2RkUYh7/s-l300.jpg\"/>"
      ],
      "text/plain": [
       "<IPython.core.display.Image object>"
      ]
     },
     "metadata": {},
     "output_type": "display_data"
    },
    {
     "data": {
      "text/html": [
       "<img src=\"https://i.ebayimg.com/thumbs/images/g/GT4AAOSw~p1hfGXi/s-l300.jpg\"/>"
      ],
      "text/plain": [
       "<IPython.core.display.Image object>"
      ]
     },
     "metadata": {},
     "output_type": "display_data"
    },
    {
     "data": {
      "text/html": [
       "<img src=\"https://i.ebayimg.com/thumbs/images/g/GT4AAOSw~p1hfGXi/s-l300.jpg\"/>"
      ],
      "text/plain": [
       "<IPython.core.display.Image object>"
      ]
     },
     "metadata": {},
     "output_type": "display_data"
    },
    {
     "data": {
      "text/html": [
       "<img src=\"https://i.ebayimg.com/thumbs/images/g/I-UAAOSwl2RkUYh7/s-l300.jpg\"/>"
      ],
      "text/plain": [
       "<IPython.core.display.Image object>"
      ]
     },
     "metadata": {},
     "output_type": "display_data"
    },
    {
     "data": {
      "text/html": [
       "<img src=\"https://i.ebayimg.com/thumbs/images/g/PqUAAOSwgFBktVU5/s-l300.jpg\"/>"
      ],
      "text/plain": [
       "<IPython.core.display.Image object>"
      ]
     },
     "metadata": {},
     "output_type": "display_data"
    },
    {
     "data": {
      "text/html": [
       "<img src=\"https://i.ebayimg.com/thumbs/images/g/PrUAAOSwK2xlR49E/s-l300.jpg\"/>"
      ],
      "text/plain": [
       "<IPython.core.display.Image object>"
      ]
     },
     "metadata": {},
     "output_type": "display_data"
    }
   ],
   "source": [
    "image_urls = [str(sorted_results[i].item.image_url) for i in range(8)]\n",
    "for url in image_urls:\n",
    "    display(Image(url=url))"
   ]
  },
  {
   "cell_type": "code",
   "execution_count": 60,
   "metadata": {},
   "outputs": [
    {
     "data": {
      "text/markdown": [
       "Based on the provided images, the following are the best comps:\n",
       "\n",
       "- Image 5: This fixture is similar as it appears to be an industrial or vintage light fixture with a protective cage and similar overall design elements. It closely matches the style and era of the item you want to list.\n",
       "- Image 9: This item has a similar industrial appearance and protective cage, which might be indicative of the same or similar use and era, making it a decent comp for your item.\n",
       "\n",
       "Images 2, 3, 4, 7 and 8 do not resemble the original item closely either in form, design, or intended use, hence they are not suitable comps. Image 6 is a duplicate of Image 5."
      ],
      "text/plain": [
       "<IPython.core.display.Markdown object>"
      ]
     },
     "execution_count": 60,
     "metadata": {},
     "output_type": "execute_result"
    }
   ],
   "source": [
    "test_mutiple_comps = compare_item_images(target_image, image_urls)\n",
    "Markdown(test_mutiple_comps.message.content)"
   ]
  },
  {
   "cell_type": "code",
   "execution_count": null,
   "metadata": {},
   "outputs": [],
   "source": []
  },
  {
   "cell_type": "markdown",
   "metadata": {},
   "source": [
    "___"
   ]
  },
  {
   "cell_type": "markdown",
   "metadata": {},
   "source": [
    "# WIP"
   ]
  },
  {
   "cell_type": "code",
   "execution_count": null,
   "metadata": {},
   "outputs": [],
   "source": [
    "def get_llm_response(system='You are a helpful assistant.', user = '', temperature = 0.1, model = 'gpt-3.5-turbo'):\n",
    "    completion = openai.chat.completions.create(\n",
    "        model=model,\n",
    "        temperature=temperature,\n",
    "        messages=[\n",
    "            {'role': 'system', 'content': system},\n",
    "            {'role': 'user', 'content': user},\n",
    "        ]\n",
    "    )\n",
    "    return completion.choices[0].message.content"
   ]
  },
  {
   "cell_type": "code",
   "execution_count": null,
   "metadata": {},
   "outputs": [],
   "source": [
    "def create_keyword_query_generation_prompt(topic, n):\n",
    "    return f\"\"\"I'm writing a research report on {topic} and need help coming up with Google keyword search queries.\n",
    "Google keyword searches should just be a few words long. It should not be a complete sentence.\n",
    "Please generate a diverse list of {n} Google keyword search queries that would be useful for writing a research report on ${topic}. Do not add any formatting or numbering to the queries.\"\"\"\n"
   ]
  },
  {
   "cell_type": "code",
   "execution_count": null,
   "metadata": {},
   "outputs": [],
   "source": [
    "def generate_search_queries(topic, n):\n",
    "    user_prompt = create_keyword_query_generation_prompt(topic, n)\n",
    "    completion = get_llm_response(\n",
    "        system='The user will ask you to help generate some search queries. Respond with only the suggested queries in plain text with no extra formatting, each on it\\'s own line.',\n",
    "        user=user_prompt,\n",
    "        temperature=1\n",
    "    )\n",
    "    queries = [s for s in completion.split('\\n') if s.strip()][:n]\n",
    "    return queries"
   ]
  },
  {
   "cell_type": "code",
   "execution_count": null,
   "metadata": {},
   "outputs": [],
   "source": [
    "prop_queries = generate_search_queries(PROPERTY_TOPIC, 3)\n",
    "struct_queries = generate_search_queries(STRUCTURE_TOPIC, 3)"
   ]
  },
  {
   "cell_type": "code",
   "execution_count": null,
   "metadata": {},
   "outputs": [],
   "source": [
    "def get_search_results(queries, type, linksPerQuery=1):\n",
    "    results = []\n",
    "    for query in queries:\n",
    "        search_response = metaphor.search(query, type=type, num_results=linksPerQuery, use_autoprompt=False)\n",
    "        results.extend(search_response.results)\n",
    "    return results"
   ]
  },
  {
   "cell_type": "code",
   "execution_count": null,
   "metadata": {},
   "outputs": [],
   "source": [
    "links = get_search_results(prop_queries, 'neural')"
   ]
  },
  {
   "cell_type": "code",
   "execution_count": null,
   "metadata": {},
   "outputs": [],
   "source": [
    "def display_base_models(base_models):\n",
    "    \"\"\"\n",
    "    Display the title, url, and published_date of each BaseModel object in a list.\n",
    "\n",
    "    Args:\n",
    "        base_models (List[BaseModel]): List of BaseModel objects.\n",
    "\n",
    "    \"\"\"\n",
    "    for model in base_models:\n",
    "        print(f\"Title: {model.title}\")\n",
    "        print(f\"URL: {model.url}\")\n",
    "        print(f\"Published Date: {model.published_date}\")"
   ]
  },
  {
   "cell_type": "code",
   "execution_count": null,
   "metadata": {},
   "outputs": [],
   "source": [
    "display_base_models(links)"
   ]
  },
  {
   "cell_type": "code",
   "execution_count": null,
   "metadata": {},
   "outputs": [],
   "source": [
    "from bs4 import BeautifulSoup\n",
    "import re\n",
    "\n",
    "def clean_html_content(content: str) -> str:\n",
    "    \"\"\"\n",
    "    Clean the HTML content using BeautifulSoup.\n",
    "\n",
    "    Args:\n",
    "        content (str): HTML content.\n",
    "\n",
    "    Returns:\n",
    "        str: Cleaned text content.\n",
    "    \"\"\"\n",
    "    soup = BeautifulSoup(content, \"html.parser\")\n",
    "\n",
    "    # Extract header and paragraph tags\n",
    "    header_tags = soup.find_all(re.compile(r\"^h\\d$\"))\n",
    "    paragraph_tags = soup.find_all(\"p\")\n",
    "\n",
    "    # Strip HTML tags and collect text content\n",
    "    stripped_content = \"\"\n",
    "    for tag in header_tags + paragraph_tags:\n",
    "        stripped_content += \" \" + tag.get_text().strip() + \" \"\n",
    "\n",
    "    return ' '.join(stripped_content.split())"
   ]
  },
  {
   "cell_type": "code",
   "execution_count": null,
   "metadata": {},
   "outputs": [],
   "source": [
    "def get_page_contents(search_results):\n",
    "    contents_response = metaphor.get_contents(search_results)\n",
    "    return contents_response.contents\n",
    "\n",
    "\n",
    "content = get_page_contents([link.id for link in links])"
   ]
  },
  {
   "cell_type": "code",
   "execution_count": null,
   "metadata": {},
   "outputs": [],
   "source": [
    "def create_web_content_string(search_contents: list, char_limit: int = 30000) -> str:\n",
    "    \"\"\"\n",
    "    Synthesize a report from search contents.\n",
    "\n",
    "    Args:\n",
    "        search_contents (list): List of search contents.\n",
    "        char_limit (int, optional): Total character limit. Defaults to 30000.\n",
    "\n",
    "    Returns:\n",
    "        str: Synthesized report.\n",
    "    \"\"\"\n",
    "    total_chars = sum([len(clean_html_content(item.extract)) for item in search_contents])\n",
    "    inputData = ''\n",
    "\n",
    "    for item in search_contents:\n",
    "        cleaned_content = clean_html_content(item.extract)\n",
    "        item_chars = len(cleaned_content)\n",
    "        slice_ratio = item_chars / total_chars\n",
    "        slice_limit = int(char_limit * slice_ratio)\n",
    "        sliced_content = cleaned_content[:slice_limit]\n",
    "\n",
    "        inputData += f'--START ITEM--\\nURL: {item.url}\\nTITLE: {item.title}\\nCONTENT: {sliced_content}\\n--END ITEM--\\n'\n",
    "\n",
    "    return inputData\n",
    "    # return get_llm_response(\n",
    "    #     system='You are a helpful research assistant. Write a report according to the user\\'s instructions.',\n",
    "    #     user='Input Data:\\n' + inputData + f'Write a two paragraph research report about {topic} based on the provided information. Include as many sources as possible. Provide citations in the text using footnote notation ([#]). First provide the report, followed by a single \"References\" section that lists all the URLs used, in the format [#] .',\n",
    "    #     model='gpt-4' # want a better report? use gpt-4\n",
    "    # )"
   ]
  },
  {
   "cell_type": "code",
   "execution_count": null,
   "metadata": {},
   "outputs": [],
   "source": [
    "def format_for_markdown(text: str) -> str:\n",
    "    \"\"\"\n",
    "    Formats the given text for markdown.\n",
    "\n",
    "    Args:\n",
    "        text (str): The text to be formatted.\n",
    "\n",
    "    Returns:\n",
    "        str: The formatted text.\n",
    "    \"\"\"\n",
    "    # Split the text into items\n",
    "    items = text.split(\"--END ITEM--\")\n",
    "    \n",
    "    # Process each item\n",
    "    formatted_items = []\n",
    "    for item in items:\n",
    "        if item.strip() == \"\":\n",
    "            continue\n",
    "\n",
    "        # Remove START ITEM tag and split into lines\n",
    "        lines = item.replace(\"--START ITEM--\", \"\").strip().split(\" \")\n",
    "\n",
    "        # Initialize formatted item\n",
    "        formatted_item = \"\\n\\n\"\n",
    "\n",
    "        # Add each line with a newline at the end\n",
    "        for line in lines:\n",
    "            if \"URL:\" in line or \"TITLE:\" in line:\n",
    "                formatted_item += \"<br/>\" + line\n",
    "            elif \"CONTENT:\" in line:\n",
    "                formatted_item += \"<br/>\" + line + \"<br/>\"\n",
    "            else:\n",
    "                formatted_item += \" \" + line\n",
    "\n",
    "        formatted_items.append(formatted_item.strip())\n",
    "\n",
    "    return \"<br/><br/>\".join(formatted_items)\n",
    "\n",
    "# Your provided text\n",
    "text = \"\"\"\n",
    "--START ITEM-- URL: https://www.stanley12volt.com/ TITLE: HOME | stanley12volt CONTENT: WATCH & LEARN Watch and Learn Learn more about your favorite products! Check out the Watch & Learn Section to see more videos Subscribe for Updates Congrats! You’re subscribed --END ITEM-- --START ITEM-- URL: https://www.woodcraft.com/categories/planes TITLE: Hand Planes for Sale from WoodRiver, Stanley, Veritas & More | Woodcraft CONTENT: Woodworking Hand Planes This Simple Yet Versatile Tool Deserves a Place In Your Workshop Hand Plane Resources & Videos Hand Planes are deceptively simple tools that when used properly can deliver speed and precision not possible with power tools or abrasives. Prior to the introduction of motorized power tools, hand planes bridged the gap between rough lumber and finished projects. A properly tuned hand plane can give you superior results when it comes to smoothing and other fine work. Learn more about this versatile tool through the articles and videos below, and be sure to check out our Woodcraft's Hand Plane Buying Guide! Top of Page --END ITEM-- --START ITEM-- URL: https://www.k-bid.com/auction/44829/item/203 TITLE: Vintage Stanley Woodworking Planer No. 602 CONTENT: Pick up is located at the back entrance of the warehouse.\n",
    "\"\"\"\n",
    "\n",
    "# Format the text for markdown\n",
    "formatted_text = format_for_markdown(text)\n",
    "print(f\"{formatted_text}\")"
   ]
  },
  {
   "cell_type": "code",
   "execution_count": null,
   "metadata": {},
   "outputs": [],
   "source": [
    "def clean_html_content(content: str) -> str:\n",
    "    \"\"\"\n",
    "    Clean the HTML content using BeautifulSoup.\n",
    "\n",
    "    Args:\n",
    "        content (str): HTML content.\n",
    "\n",
    "    Returns:\n",
    "        str: Cleaned text content.\n",
    "    \"\"\"\n",
    "    soup = BeautifulSoup(content, \"html.parser\")\n",
    "\n",
    "    # Extract header and paragraph tags\n",
    "    header_tags = soup.find_all(re.compile(r\"^h\\d$\"))\n",
    "    paragraph_tags = soup.find_all(\"p\")\n",
    "\n",
    "    # Strip HTML tags and collect text content\n",
    "    stripped_content = \"\"\n",
    "    for tag in header_tags + paragraph_tags:\n",
    "        stripped_content += \" \" + tag.get_text().strip() + \" \"\n",
    "\n",
    "    return \" \".join(stripped_content.split())\n",
    "\n",
    "\n",
    "def create_web_content_string(search_contents: list, char_limit: int = 9000) -> str:\n",
    "    \"\"\"\n",
    "    Build context for LLM call.\n",
    "\n",
    "    Args:\n",
    "        search_contents (list): List of search contents.\n",
    "        char_limit (int, optional): Total character limit. Defaults to 9000.\n",
    "\n",
    "    Returns:\n",
    "        str: Processed internet content.\n",
    "    \"\"\"\n",
    "    total_chars = sum(\n",
    "        [len(clean_html_content(item.extract)) for item in search_contents]\n",
    "    )\n",
    "    internet_content = \"\"\n",
    "\n",
    "    for item in search_contents:\n",
    "        cleaned_content = clean_html_content(item.extract)\n",
    "        item_chars = len(cleaned_content)\n",
    "        slice_ratio = item_chars / total_chars\n",
    "        slice_limit = int(char_limit * slice_ratio)\n",
    "        sliced_content = cleaned_content[:slice_limit]\n",
    "\n",
    "        internet_content += f\"--START ITEM--\\nURL: {item.url}\\nTITLE: {item.title}\\nCONTENT: {sliced_content}\\n--END ITEM--\\n\"\n",
    "\n",
    "    return internet_content\n",
    "\n",
    "\n",
    "def synthesize_report(topic: str, internet_content: str) -> str:\n",
    "    return openai.chat.completions.create(\n",
    "        model=\"gpt-4-1106-preview\",\n",
    "        temperature=1,\n",
    "        messages=[\n",
    "            {\n",
    "                \"role\": \"system\",\n",
    "                \"content\": \"You are a helpful internet research assistant specializing in empowering buyers. You help sift through raw search results to find the most relevant and interesting findings for user topic of interest.\",\n",
    "            },\n",
    "            {\n",
    "                \"role\": \"user\",\n",
    "                \"content\": \"Input Data:\\n\"\n",
    "                + internet_content\n",
    "                + f\"Write a two paragraph research report about **{topic}** based on the provided search results. One paragraph summarizing the Input Data, and another focusing on the main Research Topic. Include as many sources as possible. ALWAYS cite results using [[number](URL)] notation after the reference. End with a markdown table of all the URLs used. Remember to use markdown links when citing the context, for example [[number](URL)].\",\n",
    "            },\n",
    "        ],\n",
    "        )\n",
    "    \n"
   ]
  },
  {
   "cell_type": "code",
   "execution_count": null,
   "metadata": {},
   "outputs": [],
   "source": [
    "response = metaphor.search(\"ceiling drywall\",\n",
    "    num_results=5,\n",
    "    type='keyword',\n",
    "    start_published_date=\"2023-06-12\"\n",
    ")\n",
    "\n",
    "print(response)"
   ]
  },
  {
   "cell_type": "code",
   "execution_count": null,
   "metadata": {},
   "outputs": [],
   "source": [
    "def researcher(topic, n_queries, n_links_per_query):\n",
    "    search_queries = generate_search_queries(topic, n_queries)\n",
    "    print(search_queries)\n",
    "    search_results = get_search_results(search_queries, 'neural', n_links_per_query)\n",
    "    search_contents = get_page_contents([link.id for link in search_results])\n",
    "    internet_content = create_web_content_string(search_contents, 30000)\n",
    "    report = synthesize_report(topic, internet_content)\n",
    "    return report"
   ]
  },
  {
   "cell_type": "code",
   "execution_count": null,
   "metadata": {},
   "outputs": [],
   "source": [
    "research = researcher(PROPERTY_TOPIC, 2, 2)\n",
    "\n",
    "Markdown(f\"{research.choices[0].message.content}\")"
   ]
  },
  {
   "cell_type": "code",
   "execution_count": null,
   "metadata": {},
   "outputs": [],
   "source": []
  },
  {
   "cell_type": "code",
   "execution_count": null,
   "metadata": {},
   "outputs": [],
   "source": [
    "from langchain.tools import tool\n",
    "from crewai import Agent, Task, Crew, Process\n",
    "\n",
    "@tool\n",
    "def duckduckgo_search_tool(query: str) -> str:\n",
    "    \"\"\"\n",
    "    Tool to perform DuckDuckGo searches and return formatted results.\n",
    "    The input should be a string representing the search query.\n",
    "    This function has been updated to return a single string that formats all values from each dict in the list of results.\n",
    "\n",
    "    Args:\n",
    "        query (str): The search query.\n",
    "\n",
    "    Returns:\n",
    "        str: A formatted string containing titles, snippets, and links from all search results.\n",
    "    \"\"\"\n",
    "    # Initialize the DuckDuckGo Search API wrapper\n",
    "    duckduckgo_serper = DuckDuckGoSearchAPIWrapper()\n",
    "    # Run the search\n",
    "    results = duckduckgo_serper.results(query, max_results=4)\n",
    "    # Format each result into a readable string\n",
    "    formatted_results = []\n",
    "    for result in results:\n",
    "        formatted_result = f\"Title: {result['title']}\\nSnippet: {result['snippet']}\\nLink: {result['link']}\\n---\"\n",
    "        formatted_results.append(formatted_result)\n",
    "    # Join all formatted results into a single string\n",
    "    return \"\\n\\n\".join(formatted_results)\n",
    "\n",
    "# Initialize the Research Analyst agent and assign the custom tool\n",
    "research_analyst = Agent(\n",
    "    role='Research Analyst',\n",
    "    goal='Find comparable listings for items using DuckDuckGo Search',\n",
    "    backstory='Skilled in web scraping and market research, using DuckDuckGo searches to gather data on similar items for sale.',\n",
    "    verbose=True,\n",
    "    tools=[duckduckgo_search_tool]\n",
    ")\n",
    "\n",
    "# Task for the Research Analyst: Scrape comparable listings\n",
    "scrape_comps_task = Task(\n",
    "    description='Use DuckDuckGo Search to find and scrape comparable listings for a provided list of items.',\n",
    "    agent=research_analyst,\n",
    "    final_answer='Return a structured dataset with comparable listings data.',\n",
    "    expected_output='A JSON or structured format containing the titles, links, and prices of comparable listings.' \n",
    ")\n",
    "\n",
    "\n",
    "# Define the Data Analyst agent\n",
    "data_analyst = Agent(\n",
    "    role='Data Analyst',\n",
    "    goal='Analyze the data from comparable listings to provide pricing recommendations',\n",
    "    backstory='Expert in data analysis and pricing strategy, transforming data into actionable insights.',\n",
    "    verbose=True\n",
    ")\n",
    "\n",
    "# Task for the Data Analyst: Build pricing recommendations\n",
    "build_pricing_recommendations_task = Task(\n",
    "    description='Analyze the scraped data to determine competitive pricing recommendations for each item.',\n",
    "    agent=data_analyst,\n",
    "    final_answer='Provide a list of pricing recommendations for each item based on the analysis.',\n",
    "    expected_output='A list of items with their recommended pricing based on the market analysis.' \n",
    ")\n",
    "\n",
    "# Assemble the crew\n",
    "crew = Crew(\n",
    "    agents=[research_analyst, data_analyst],\n",
    "    tasks=[scrape_comps_task, build_pricing_recommendations_task],\n",
    "    process=Process.sequential,\n",
    "    verbose=True\n",
    ")"
   ]
  },
  {
   "cell_type": "code",
   "execution_count": null,
   "metadata": {},
   "outputs": [],
   "source": [
    "result = crew.kickoff()\n",
    "print(result)"
   ]
  }
 ],
 "metadata": {
  "kernelspec": {
   "display_name": ".venv",
   "language": "python",
   "name": "python3"
  },
  "language_info": {
   "codemirror_mode": {
    "name": "ipython",
    "version": 3
   },
   "file_extension": ".py",
   "mimetype": "text/x-python",
   "name": "python",
   "nbconvert_exporter": "python",
   "pygments_lexer": "ipython3",
   "version": "3.10.13"
  }
 },
 "nbformat": 4,
 "nbformat_minor": 2
}
