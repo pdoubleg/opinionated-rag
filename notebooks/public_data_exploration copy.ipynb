{
 "cells": [
  {
   "cell_type": "markdown",
   "metadata": {},
   "source": []
  },
  {
   "cell_type": "code",
   "execution_count": 1,
   "metadata": {},
   "outputs": [],
   "source": [
    "import os\n",
    "from dotenv import load_dotenv\n",
    "import pandas as pd\n",
    "from IPython.display import Markdown\n",
    "import warnings\n",
    "warnings.filterwarnings('ignore')\n",
    "pd.set_option('display.max_columns', None)\n",
    "load_dotenv()\n",
    "os.chdir(os.path.dirname(os.getcwd()))"
   ]
  },
  {
   "cell_type": "code",
   "execution_count": 2,
   "metadata": {},
   "outputs": [],
   "source": [
    "from src.schema.decisions import Decision\n",
    "from src.doc_store.cap_client import CAPClient\n",
    "from src.doc_store.cl_client  import CourtListenerClient\n",
    "from src.doc_store.utils import (\n",
    "    load_models_from_json, \n",
    ")"
   ]
  },
  {
   "cell_type": "code",
   "execution_count": 3,
   "metadata": {},
   "outputs": [],
   "source": [
    "cl_client = CourtListenerClient()\n",
    "cap_client = CAPClient()"
   ]
  },
  {
   "cell_type": "code",
   "execution_count": 4,
   "metadata": {},
   "outputs": [],
   "source": [
    "cap_docket_search = cap_client.search_cases(search_term=\"Liberty Mutual\", full_case=True)"
   ]
  },
  {
   "cell_type": "markdown",
   "metadata": {},
   "source": [
    "* The `Decision` data model is based on the CAP API, but it also (mostly) works with Court Listener API data"
   ]
  },
  {
   "cell_type": "code",
   "execution_count": 5,
   "metadata": {},
   "outputs": [
    {
     "data": {
      "text/plain": [
       "'ok'"
      ]
     },
     "execution_count": 5,
     "metadata": {},
     "output_type": "execute_result"
    }
   ],
   "source": [
    "decisions = [Decision(**result) for result in cap_docket_search[\"results\"]]\n",
    "\n",
    "decisions[0].casebody.status"
   ]
  },
  {
   "cell_type": "code",
   "execution_count": 6,
   "metadata": {},
   "outputs": [
    {
     "data": {
      "text/plain": [
       "100"
      ]
     },
     "execution_count": 6,
     "metadata": {},
     "output_type": "execute_result"
    }
   ],
   "source": [
    "len(decisions)"
   ]
  },
  {
   "cell_type": "code",
   "execution_count": 3,
   "metadata": {},
   "outputs": [
    {
     "data": {
      "text/plain": [
       "169"
      ]
     },
     "execution_count": 3,
     "metadata": {},
     "output_type": "execute_result"
    }
   ],
   "source": [
    "decisions = load_models_from_json(Decision, \"./data/models/top_four.json\")\n",
    "len(decisions)"
   ]
  },
  {
   "cell_type": "markdown",
   "metadata": {},
   "source": [
    "* Example of CAP data"
   ]
  },
  {
   "cell_type": "code",
   "execution_count": 7,
   "metadata": {},
   "outputs": [
    {
     "name": "stdout",
     "output_type": "stream",
     "text": [
      "Downloaded 58129 court cases to file cap_liberty_search_results.csv.\n"
     ]
    }
   ],
   "source": [
    "cap_client.download_to_csv(cap_docket_search, 'cap_liberty_search_results.csv')"
   ]
  },
  {
   "cell_type": "code",
   "execution_count": 8,
   "metadata": {},
   "outputs": [
    {
     "name": "stdout",
     "output_type": "stream",
     "text": [
      "Shape of CAP keyword search results: (58129, 13)\n",
      "Data contains 56,716 unique case names\n"
     ]
    },
    {
     "data": {
      "text/html": [
       "<div>\n",
       "<style scoped>\n",
       "    .dataframe tbody tr th:only-of-type {\n",
       "        vertical-align: middle;\n",
       "    }\n",
       "\n",
       "    .dataframe tbody tr th {\n",
       "        vertical-align: top;\n",
       "    }\n",
       "\n",
       "    .dataframe thead th {\n",
       "        text-align: right;\n",
       "    }\n",
       "</style>\n",
       "<table border=\"1\" class=\"dataframe\">\n",
       "  <thead>\n",
       "    <tr style=\"text-align: right;\">\n",
       "      <th></th>\n",
       "      <th>id</th>\n",
       "      <th>name</th>\n",
       "      <th>name_abbreviation</th>\n",
       "      <th>decision_date</th>\n",
       "      <th>court_id</th>\n",
       "      <th>court_name</th>\n",
       "      <th>court_slug</th>\n",
       "      <th>judges</th>\n",
       "      <th>attorneys</th>\n",
       "      <th>citations</th>\n",
       "      <th>url</th>\n",
       "      <th>head</th>\n",
       "      <th>body</th>\n",
       "    </tr>\n",
       "  </thead>\n",
       "  <tbody>\n",
       "    <tr>\n",
       "      <th>0</th>\n",
       "      <td>9468099</td>\n",
       "      <td>Lauri Jo HARTZ, Plaintiff-Appellant, v. LIBERT...</td>\n",
       "      <td>Hartz v. Liberty Mutual Insurance</td>\n",
       "      <td>2001-10-29</td>\n",
       "      <td>8954</td>\n",
       "      <td>United States Court of Appeals for the Fourth ...</td>\n",
       "      <td>4th-cir</td>\n",
       "      <td>['Before WILKINSON, Chief Judge, and WILKINS a...</td>\n",
       "      <td>['ARGUED: C. William Michaels, Baltimore, MD, ...</td>\n",
       "      <td>[{'type': 'official', 'cite': '269 F.3d 474'}]</td>\n",
       "      <td>https://api.case.law/v1/cases/9468099/</td>\n",
       "      <td>Lauri Jo HARTZ, Plaintiff-Appellant, v. LIBERT...</td>\n",
       "      <td>Affirmed by published opinion. Chief Judge WIL...</td>\n",
       "    </tr>\n",
       "    <tr>\n",
       "      <th>1</th>\n",
       "      <td>6774574</td>\n",
       "      <td>Reynolds v. Liberty Mutual Insurance Company, ...</td>\n",
       "      <td>Reynolds v. Liberty Mutual Insurance</td>\n",
       "      <td>1975-11-13</td>\n",
       "      <td>8775</td>\n",
       "      <td>Superior Court of Pennsylvania</td>\n",
       "      <td>pa-super-ct</td>\n",
       "      <td>[]</td>\n",
       "      <td>['Stephen J. Schofield, with him Joseph R. Tho...</td>\n",
       "      <td>[{'type': 'official', 'cite': '236 Pa. Super. ...</td>\n",
       "      <td>https://api.case.law/v1/cases/6774574/</td>\n",
       "      <td>Reynolds v. Liberty Mutual Insurance Company, ...</td>\n",
       "      <td>Order and judgment in both appeals affirmed.</td>\n",
       "    </tr>\n",
       "  </tbody>\n",
       "</table>\n",
       "</div>"
      ],
      "text/plain": [
       "        id                                               name  \\\n",
       "0  9468099  Lauri Jo HARTZ, Plaintiff-Appellant, v. LIBERT...   \n",
       "1  6774574  Reynolds v. Liberty Mutual Insurance Company, ...   \n",
       "\n",
       "                      name_abbreviation decision_date  court_id  \\\n",
       "0     Hartz v. Liberty Mutual Insurance    2001-10-29      8954   \n",
       "1  Reynolds v. Liberty Mutual Insurance    1975-11-13      8775   \n",
       "\n",
       "                                          court_name   court_slug  \\\n",
       "0  United States Court of Appeals for the Fourth ...      4th-cir   \n",
       "1                     Superior Court of Pennsylvania  pa-super-ct   \n",
       "\n",
       "                                              judges  \\\n",
       "0  ['Before WILKINSON, Chief Judge, and WILKINS a...   \n",
       "1                                                 []   \n",
       "\n",
       "                                           attorneys  \\\n",
       "0  ['ARGUED: C. William Michaels, Baltimore, MD, ...   \n",
       "1  ['Stephen J. Schofield, with him Joseph R. Tho...   \n",
       "\n",
       "                                           citations  \\\n",
       "0     [{'type': 'official', 'cite': '269 F.3d 474'}]   \n",
       "1  [{'type': 'official', 'cite': '236 Pa. Super. ...   \n",
       "\n",
       "                                      url  \\\n",
       "0  https://api.case.law/v1/cases/9468099/   \n",
       "1  https://api.case.law/v1/cases/6774574/   \n",
       "\n",
       "                                                head  \\\n",
       "0  Lauri Jo HARTZ, Plaintiff-Appellant, v. LIBERT...   \n",
       "1  Reynolds v. Liberty Mutual Insurance Company, ...   \n",
       "\n",
       "                                                body  \n",
       "0  Affirmed by published opinion. Chief Judge WIL...  \n",
       "1       Order and judgment in both appeals affirmed.  "
      ]
     },
     "execution_count": 8,
     "metadata": {},
     "output_type": "execute_result"
    }
   ],
   "source": [
    "cap_df = cap_client.read_in_csv('cap_liberty_search_results.csv')\n",
    "print(f\"Shape of CAP keyword search results: {cap_df.shape}\")\n",
    "print(f\"Data contains {cap_df['name'].nunique():,} unique case names\")\n",
    "cap_df.head(2)"
   ]
  },
  {
   "cell_type": "code",
   "execution_count": 10,
   "metadata": {},
   "outputs": [
    {
     "data": {
      "text/plain": [
       "name_contains_lm\n",
       "False    51916\n",
       "True      6213\n",
       "Name: count, dtype: int64"
      ]
     },
     "execution_count": 10,
     "metadata": {},
     "output_type": "execute_result"
    }
   ],
   "source": [
    "cap_df['name'].fillna('Missing', inplace=True)\n",
    "cap_df['body'].fillna('Missing', inplace=True)\n",
    "\n",
    "cap_df['name_contains_lm'] = cap_df['name'].apply(lambda x: 'Liberty Mutual' in x or 'LIBERTY MUTUAL' in x)\n",
    "cap_df['body_contains_lm'] = cap_df['body'].apply(lambda x: 'Liberty Mutual' in x or 'LIBERTY MUTUAL' in x)\n",
    "    \n",
    "cap_df['name_contains_lm'].value_counts()"
   ]
  },
  {
   "cell_type": "code",
   "execution_count": 11,
   "metadata": {},
   "outputs": [
    {
     "data": {
      "text/plain": [
       "body_contains_lm\n",
       "False    56589\n",
       "True      1540\n",
       "Name: count, dtype: int64"
      ]
     },
     "execution_count": 11,
     "metadata": {},
     "output_type": "execute_result"
    }
   ],
   "source": [
    "cap_df['body_contains_lm'].value_counts()"
   ]
  },
  {
   "cell_type": "code",
   "execution_count": 12,
   "metadata": {},
   "outputs": [
    {
     "name": "stdout",
     "output_type": "stream",
     "text": [
      "Filtered df shape: (7467, 15)\n"
     ]
    },
    {
     "data": {
      "text/html": [
       "<div>\n",
       "<style scoped>\n",
       "    .dataframe tbody tr th:only-of-type {\n",
       "        vertical-align: middle;\n",
       "    }\n",
       "\n",
       "    .dataframe tbody tr th {\n",
       "        vertical-align: top;\n",
       "    }\n",
       "\n",
       "    .dataframe thead th {\n",
       "        text-align: right;\n",
       "    }\n",
       "</style>\n",
       "<table border=\"1\" class=\"dataframe\">\n",
       "  <thead>\n",
       "    <tr style=\"text-align: right;\">\n",
       "      <th></th>\n",
       "      <th>id</th>\n",
       "      <th>name</th>\n",
       "      <th>name_abbreviation</th>\n",
       "      <th>decision_date</th>\n",
       "      <th>court_id</th>\n",
       "      <th>court_name</th>\n",
       "      <th>court_slug</th>\n",
       "      <th>judges</th>\n",
       "      <th>attorneys</th>\n",
       "      <th>citations</th>\n",
       "      <th>url</th>\n",
       "      <th>head</th>\n",
       "      <th>body</th>\n",
       "      <th>name_contains_lm</th>\n",
       "      <th>body_contains_lm</th>\n",
       "    </tr>\n",
       "  </thead>\n",
       "  <tbody>\n",
       "    <tr>\n",
       "      <th>0</th>\n",
       "      <td>9468099</td>\n",
       "      <td>Lauri Jo HARTZ, Plaintiff-Appellant, v. LIBERT...</td>\n",
       "      <td>Hartz v. Liberty Mutual Insurance</td>\n",
       "      <td>2001-10-29</td>\n",
       "      <td>8954</td>\n",
       "      <td>United States Court of Appeals for the Fourth ...</td>\n",
       "      <td>4th-cir</td>\n",
       "      <td>['Before WILKINSON, Chief Judge, and WILKINS a...</td>\n",
       "      <td>['ARGUED: C. William Michaels, Baltimore, MD, ...</td>\n",
       "      <td>[{'type': 'official', 'cite': '269 F.3d 474'}]</td>\n",
       "      <td>https://api.case.law/v1/cases/9468099/</td>\n",
       "      <td>Lauri Jo HARTZ, Plaintiff-Appellant, v. LIBERT...</td>\n",
       "      <td>Affirmed by published opinion. Chief Judge WIL...</td>\n",
       "      <td>True</td>\n",
       "      <td>True</td>\n",
       "    </tr>\n",
       "    <tr>\n",
       "      <th>1</th>\n",
       "      <td>6774574</td>\n",
       "      <td>Reynolds v. Liberty Mutual Insurance Company, ...</td>\n",
       "      <td>Reynolds v. Liberty Mutual Insurance</td>\n",
       "      <td>1975-11-13</td>\n",
       "      <td>8775</td>\n",
       "      <td>Superior Court of Pennsylvania</td>\n",
       "      <td>pa-super-ct</td>\n",
       "      <td>[]</td>\n",
       "      <td>['Stephen J. Schofield, with him Joseph R. Tho...</td>\n",
       "      <td>[{'type': 'official', 'cite': '236 Pa. Super. ...</td>\n",
       "      <td>https://api.case.law/v1/cases/6774574/</td>\n",
       "      <td>Reynolds v. Liberty Mutual Insurance Company, ...</td>\n",
       "      <td>Order and judgment in both appeals affirmed.</td>\n",
       "      <td>True</td>\n",
       "      <td>False</td>\n",
       "    </tr>\n",
       "  </tbody>\n",
       "</table>\n",
       "</div>"
      ],
      "text/plain": [
       "        id                                               name  \\\n",
       "0  9468099  Lauri Jo HARTZ, Plaintiff-Appellant, v. LIBERT...   \n",
       "1  6774574  Reynolds v. Liberty Mutual Insurance Company, ...   \n",
       "\n",
       "                      name_abbreviation decision_date  court_id  \\\n",
       "0     Hartz v. Liberty Mutual Insurance    2001-10-29      8954   \n",
       "1  Reynolds v. Liberty Mutual Insurance    1975-11-13      8775   \n",
       "\n",
       "                                          court_name   court_slug  \\\n",
       "0  United States Court of Appeals for the Fourth ...      4th-cir   \n",
       "1                     Superior Court of Pennsylvania  pa-super-ct   \n",
       "\n",
       "                                              judges  \\\n",
       "0  ['Before WILKINSON, Chief Judge, and WILKINS a...   \n",
       "1                                                 []   \n",
       "\n",
       "                                           attorneys  \\\n",
       "0  ['ARGUED: C. William Michaels, Baltimore, MD, ...   \n",
       "1  ['Stephen J. Schofield, with him Joseph R. Tho...   \n",
       "\n",
       "                                           citations  \\\n",
       "0     [{'type': 'official', 'cite': '269 F.3d 474'}]   \n",
       "1  [{'type': 'official', 'cite': '236 Pa. Super. ...   \n",
       "\n",
       "                                      url  \\\n",
       "0  https://api.case.law/v1/cases/9468099/   \n",
       "1  https://api.case.law/v1/cases/6774574/   \n",
       "\n",
       "                                                head  \\\n",
       "0  Lauri Jo HARTZ, Plaintiff-Appellant, v. LIBERT...   \n",
       "1  Reynolds v. Liberty Mutual Insurance Company, ...   \n",
       "\n",
       "                                                body  name_contains_lm  \\\n",
       "0  Affirmed by published opinion. Chief Judge WIL...              True   \n",
       "1       Order and judgment in both appeals affirmed.              True   \n",
       "\n",
       "   body_contains_lm  \n",
       "0              True  \n",
       "1             False  "
      ]
     },
     "execution_count": 12,
     "metadata": {},
     "output_type": "execute_result"
    }
   ],
   "source": [
    "# Filtering the dataframe to keep rows where either 'name_contains_lm' or 'body_contains_lm' is True\n",
    "filtered_df = cap_df[(cap_df['name_contains_lm'] == True) | (cap_df['body_contains_lm'] == True)]\n",
    "\n",
    "print(f\"Filtered df shape: {filtered_df.shape}\")\n",
    "filtered_df.head(2)"
   ]
  },
  {
   "cell_type": "code",
   "execution_count": 13,
   "metadata": {},
   "outputs": [
    {
     "data": {
      "text/plain": [
       "(Timestamp('1910-05-12 00:00:00'), Timestamp('2019-08-15 00:00:00'))"
      ]
     },
     "execution_count": 13,
     "metadata": {},
     "output_type": "execute_result"
    }
   ],
   "source": [
    "filtered_df['decision_date'] = pd.to_datetime(filtered_df['decision_date'], errors='coerce')\n",
    "filtered_df.sort_values(by='decision_date', inplace=True)\n",
    "filtered_df['decision_date'].min(), filtered_df['decision_date'].max()"
   ]
  },
  {
   "cell_type": "code",
   "execution_count": 14,
   "metadata": {},
   "outputs": [
    {
     "data": {
      "text/plain": [
       "<Axes: >"
      ]
     },
     "execution_count": 14,
     "metadata": {},
     "output_type": "execute_result"
    },
    {
     "data": {
      "image/png": "[encoded data removed]",
      "text/plain": [
       "<Figure size 640x480 with 1 Axes>"
      ]
     },
     "metadata": {},
     "output_type": "display_data"
    }
   ],
   "source": [
    "filtered_df['year'] = pd.DatetimeIndex(filtered_df['decision_date']).year\n",
    "filtered_df['year'] = filtered_df['year'].fillna(0).astype(int)\n",
    "trimmed_df = filtered_df[filtered_df['year'] > 1940]\n",
    "trimmed_df['year'].hist(bins=50)"
   ]
  },
  {
   "cell_type": "code",
   "execution_count": 15,
   "metadata": {},
   "outputs": [
    {
     "name": "stdout",
     "output_type": "stream",
     "text": [
      "df shape: (2479, 16)\n",
      "unique case names: 2,359\n"
     ]
    },
    {
     "data": {
      "text/html": [
       "<div>\n",
       "<style scoped>\n",
       "    .dataframe tbody tr th:only-of-type {\n",
       "        vertical-align: middle;\n",
       "    }\n",
       "\n",
       "    .dataframe tbody tr th {\n",
       "        vertical-align: top;\n",
       "    }\n",
       "\n",
       "    .dataframe thead th {\n",
       "        text-align: right;\n",
       "    }\n",
       "</style>\n",
       "<table border=\"1\" class=\"dataframe\">\n",
       "  <thead>\n",
       "    <tr style=\"text-align: right;\">\n",
       "      <th></th>\n",
       "      <th>id</th>\n",
       "      <th>name</th>\n",
       "      <th>name_abbreviation</th>\n",
       "      <th>decision_date</th>\n",
       "      <th>court_id</th>\n",
       "      <th>court_name</th>\n",
       "      <th>court_slug</th>\n",
       "      <th>judges</th>\n",
       "      <th>attorneys</th>\n",
       "      <th>citations</th>\n",
       "      <th>url</th>\n",
       "      <th>head</th>\n",
       "      <th>body</th>\n",
       "      <th>name_contains_lm</th>\n",
       "      <th>body_contains_lm</th>\n",
       "      <th>year</th>\n",
       "    </tr>\n",
       "  </thead>\n",
       "  <tbody>\n",
       "    <tr>\n",
       "      <th>3546</th>\n",
       "      <td>106582</td>\n",
       "      <td>Nancy RAMIREZ, as Personal Representative of t...</td>\n",
       "      <td>Ramirez v. Dawson Production Partners, Inc.</td>\n",
       "      <td>2000-01-11</td>\n",
       "      <td>9025</td>\n",
       "      <td>Court of Appeals of New Mexico</td>\n",
       "      <td>nm-ct-app</td>\n",
       "      <td>['BOSSON and ARMIJO, JJ., concur.']</td>\n",
       "      <td>['Timothy J. Cusack, Cusack, Jaramillo, Romero...</td>\n",
       "      <td>[{'type': 'official', 'cite': '128 N.M. 601'},...</td>\n",
       "      <td>https://api.case.law/v1/cases/106582/</td>\n",
       "      <td>2000-NMCA-011\\r\\n995 P.2d 1043\\r\\nNancy RAMIRE...</td>\n",
       "      <td>OPINION\\r\\nBUSTAMANTE, Judge.\\r\\n{1} This case...</td>\n",
       "      <td>True</td>\n",
       "      <td>False</td>\n",
       "      <td>2000</td>\n",
       "    </tr>\n",
       "    <tr>\n",
       "      <th>30161</th>\n",
       "      <td>411690</td>\n",
       "      <td>RICHARD R. JOHNSON, Plaintiff-Appellant and Cr...</td>\n",
       "      <td>Johnson v. Halloran</td>\n",
       "      <td>2000-01-13</td>\n",
       "      <td>8837</td>\n",
       "      <td>Illinois Appellate Court</td>\n",
       "      <td>ill-app-ct</td>\n",
       "      <td>[]</td>\n",
       "      <td>['Wolter, Beeman, Lynch &amp; McIntyre, of Springf...</td>\n",
       "      <td>[{'type': 'official', 'cite': '312 Ill. App. 3...</td>\n",
       "      <td>https://api.case.law/v1/cases/411690/</td>\n",
       "      <td>RICHARD R. JOHNSON, Plaintiff-Appellant and Cr...</td>\n",
       "      <td>JUSTICE HALL\\r\\ndelivered the opinion of the c...</td>\n",
       "      <td>False</td>\n",
       "      <td>True</td>\n",
       "      <td>2000</td>\n",
       "    </tr>\n",
       "  </tbody>\n",
       "</table>\n",
       "</div>"
      ],
      "text/plain": [
       "           id                                               name  \\\n",
       "3546   106582  Nancy RAMIREZ, as Personal Representative of t...   \n",
       "30161  411690  RICHARD R. JOHNSON, Plaintiff-Appellant and Cr...   \n",
       "\n",
       "                                 name_abbreviation decision_date  court_id  \\\n",
       "3546   Ramirez v. Dawson Production Partners, Inc.    2000-01-11      9025   \n",
       "30161                          Johnson v. Halloran    2000-01-13      8837   \n",
       "\n",
       "                           court_name  court_slug  \\\n",
       "3546   Court of Appeals of New Mexico   nm-ct-app   \n",
       "30161        Illinois Appellate Court  ill-app-ct   \n",
       "\n",
       "                                    judges  \\\n",
       "3546   ['BOSSON and ARMIJO, JJ., concur.']   \n",
       "30161                                   []   \n",
       "\n",
       "                                               attorneys  \\\n",
       "3546   ['Timothy J. Cusack, Cusack, Jaramillo, Romero...   \n",
       "30161  ['Wolter, Beeman, Lynch & McIntyre, of Springf...   \n",
       "\n",
       "                                               citations  \\\n",
       "3546   [{'type': 'official', 'cite': '128 N.M. 601'},...   \n",
       "30161  [{'type': 'official', 'cite': '312 Ill. App. 3...   \n",
       "\n",
       "                                         url  \\\n",
       "3546   https://api.case.law/v1/cases/106582/   \n",
       "30161  https://api.case.law/v1/cases/411690/   \n",
       "\n",
       "                                                    head  \\\n",
       "3546   2000-NMCA-011\\r\\n995 P.2d 1043\\r\\nNancy RAMIRE...   \n",
       "30161  RICHARD R. JOHNSON, Plaintiff-Appellant and Cr...   \n",
       "\n",
       "                                                    body  name_contains_lm  \\\n",
       "3546   OPINION\\r\\nBUSTAMANTE, Judge.\\r\\n{1} This case...              True   \n",
       "30161  JUSTICE HALL\\r\\ndelivered the opinion of the c...             False   \n",
       "\n",
       "       body_contains_lm  year  \n",
       "3546              False  2000  \n",
       "30161              True  2000  "
      ]
     },
     "execution_count": 15,
     "metadata": {},
     "output_type": "execute_result"
    }
   ],
   "source": [
    "df1 = filtered_df[filtered_df['year']>=2000]\n",
    "\n",
    "print(f\"df shape: {df1.shape}\")\n",
    "print(f\"unique case names: {df1['name'].nunique():,}\")\n",
    "df1.head(2)"
   ]
  },
  {
   "cell_type": "code",
   "execution_count": 16,
   "metadata": {},
   "outputs": [],
   "source": [
    "from src.utils.citations import create_citation_lookup_table, get_top_citations, get_citation_context"
   ]
  },
  {
   "cell_type": "code",
   "execution_count": 17,
   "metadata": {},
   "outputs": [
    {
     "data": {
      "text/markdown": [
       "| Citation             |   Count | link                                                  |\n",
       "|:---------------------|--------:|:------------------------------------------------------|\n",
       "| 154 Ill. 2d 90       |     321 | https://cite.case.law/ill-2d/154/90                   |\n",
       "| 607 N.E.2d 1204      |     178 | https://cite.case.law/ne2d/607/1204                   |\n",
       "| 156 Ill. 2d 384      |      76 | https://cite.case.law/ill-2d/156/384                  |\n",
       "| 477 U.S. 317         |      60 | https://cite.case.law/us/477/317                      |\n",
       "| 144 Ill. 2d 64       |      59 | https://cite.case.law/ill-2d/144/64                   |\n",
       "| 106 S. Ct. 2548      |      56 | https://www.courtlistener.com/c/S.%20Ct./106/2548     |\n",
       "| 91 L. Ed. 2d 265     |      56 | https://www.courtlistener.com/c/L.%20Ed.%202d/91/265  |\n",
       "| 477 U.S. 242         |      44 | https://cite.case.law/us/477/242                      |\n",
       "| 91 L. Ed. 2d 202     |      44 | https://www.courtlistener.com/c/L.%20Ed.%202d/91/202  |\n",
       "| 106 S. Ct. 2505      |      44 | https://www.courtlistener.com/c/S.%20Ct./106/2505     |\n",
       "| 197 Ill. 2d 278      |      43 | https://cite.case.law/ill-2d/197/278                  |\n",
       "| 177 Ill. 2d 473      |      41 | https://cite.case.law/ill-2d/177/473                  |\n",
       "| 186 Ill. 2d 127      |      37 | https://cite.case.law/ill-2d/186/127                  |\n",
       "| 620 N.E.2d 1073      |      37 | https://cite.case.law/ne2d/620/1073                   |\n",
       "| 578 N.E.2d 926       |      37 | https://cite.case.law/ne2d/578/926                    |\n",
       "| 111 Ill. 2d 229      |      34 | https://cite.case.law/ill-2d/111/229                  |\n",
       "| 215 Ill. 2d 121      |      32 | https://cite.case.law/ill-2d/215/121                  |\n",
       "| 180 Ill. Dec. 691    |      32 | https://www.courtlistener.com/c/Ill.%20Dec./180/691   |\n",
       "| 213 Ill. 2d 141      |      25 | https://cite.case.law/ill-2d/213/141                  |\n",
       "| 213 Ill. 2d 307      |      24 | https://cite.case.law/ill-2d/213/307                  |\n",
       "| 155 Ill. 2d 402      |      23 | https://cite.case.law/ill-2d/155/402                  |\n",
       "| 757 N.E.2d 481       |      23 | https://cite.case.law/ne2d/757/481                    |\n",
       "| 106 S. Ct. 1348      |      23 | https://www.courtlistener.com/c/S.%20Ct./106/1348     |\n",
       "| 89 L. Ed. 2d 538     |      23 | https://www.courtlistener.com/c/L.%20Ed.%202d/89/538  |\n",
       "| 708 N.E.2d 1122      |      22 | https://cite.case.law/ne2d/708/1122                   |\n",
       "| 118 Ill. 2d 23       |      22 | https://cite.case.law/ill-2d/118/23                   |\n",
       "| 475 U.S. 574         |      22 | https://cite.case.law/us/475/574                      |\n",
       "| 166 Ill. 2d 520      |      21 | https://cite.case.law/ill-2d/166/520                  |\n",
       "| 687 N.E.2d 72        |      20 | https://cite.case.law/ne2d/687/72                     |\n",
       "| 165 Ill. 2d 107      |      20 | https://cite.case.law/ill-2d/165/107                  |\n",
       "| 214 Ill. 2d 11       |      20 | https://cite.case.law/ill-2d/214/11                   |\n",
       "| 550 U.S. 544         |      19 | https://cite.case.law/us/550/544                      |\n",
       "| 556 U.S. 662         |      19 | https://cite.case.law/us/556/662                      |\n",
       "| 129 S. Ct. 1937      |      19 | https://www.courtlistener.com/c/S.%20Ct./129/1937     |\n",
       "| 173 L. Ed. 2d 868    |      19 | https://www.courtlistener.com/c/L.%20Ed.%202d/173/868 |\n",
       "| 268 Ill. App. 3d 598 |      18 | https://cite.case.law/ill-app-3d/268/598              |\n",
       "| 309 Ill. App. 3d 313 |      18 | https://cite.case.law/ill-app-3d/309/313              |\n",
       "| 374 Ill. App. 3d 618 |      18 | https://cite.case.law/ill-app-3d/374/618              |\n",
       "| 127 S. Ct. 1955      |      18 | https://www.courtlistener.com/c/S.%20Ct./127/1955     |\n",
       "| 167 L. Ed. 2d 929    |      18 | https://www.courtlistener.com/c/L.%20Ed.%202d/167/929 |\n",
       "| 183 Ill. 2d 317      |      17 | https://cite.case.law/ill-2d/183/317                  |\n",
       "| 181 Ill. 2d 436      |      17 | https://cite.case.law/ill-2d/181/436                  |\n",
       "| 349 N.C. 676         |      17 | https://cite.case.law/nc/349/676                      |\n",
       "| 509 S.E.2d 411       |      17 | https://cite.case.law/se2d/509/411                    |\n",
       "| 328 Ill. App. 3d 696 |      17 | https://cite.case.law/ill-app-3d/328/696              |\n",
       "| 323 Ill. App. 3d 946 |      17 | https://cite.case.law/ill-app-3d/323/946              |\n",
       "| 230 Ill. App. 3d 40  |      17 | https://cite.case.law/ill-app-3d/230/40               |\n",
       "| 489 N.E.2d 867       |      16 | https://cite.case.law/ne2d/489/867                    |\n",
       "| 88 Ill. 2d 1         |      15 | https://cite.case.law/ill-2d/88/1                     |\n",
       "| 186 Ill. 2d 367      |      15 | https://cite.case.law/ill-2d/186/367                  |"
      ],
      "text/plain": [
       "<IPython.core.display.Markdown object>"
      ]
     },
     "execution_count": 17,
     "metadata": {},
     "output_type": "execute_result"
    }
   ],
   "source": [
    "top_citations = get_top_citations(df=df1, text_column='body', top_n=50)\n",
    "Markdown(top_citations.to_markdown(index=False))"
   ]
  },
  {
   "cell_type": "code",
   "execution_count": 18,
   "metadata": {},
   "outputs": [
    {
     "name": "stdout",
     "output_type": "stream",
     "text": [
      "Outboard Marine Corp. v. Liberty Mutual Insurance, 154 Ill. 2d 90 (1992-12-04)\n"
     ]
    }
   ],
   "source": [
    "top_cite = '154 Ill. 2d 90'\n",
    "\n",
    "top_cited_case = cap_client.read_cite(\n",
    "    cite=top_cite,\n",
    "    full_case=True,\n",
    "    body_format='html')\n",
    "print(top_cited_case)"
   ]
  },
  {
   "cell_type": "code",
   "execution_count": 19,
   "metadata": {},
   "outputs": [
    {
     "data": {
      "text/plain": [
       "'https://cite.case.law/pdf/4820940/Outboard%20Marine%20Corp.%20v.%20Liberty%20Mutual%20Insurance,%20154%20Ill.%202d%2090%20(1992).pdf'"
      ]
     },
     "execution_count": 19,
     "metadata": {},
     "output_type": "execute_result"
    }
   ],
   "source": [
    "top_cited_case.frontend_pdf_url"
   ]
  },
  {
   "cell_type": "code",
   "execution_count": 21,
   "metadata": {},
   "outputs": [
    {
     "data": {
      "text/plain": [
       "18007"
      ]
     },
     "execution_count": 21,
     "metadata": {},
     "output_type": "execute_result"
    }
   ],
   "source": [
    "from src.utils.gen_utils import count_tokens\n",
    "\n",
    "case_text = top_cited_case.construct_decision_string()\n",
    "count_tokens(case_text)"
   ]
  },
  {
   "cell_type": "code",
   "execution_count": 22,
   "metadata": {},
   "outputs": [],
   "source": [
    "from typing import List\n",
    "from typing_extensions import Annotated\n",
    "from pydantic import BaseModel, Field\n",
    "from src.utils.pydantic_utils import flatten_pydantic_instance\n",
    "from tenacity import Retrying, stop_after_attempt, wait_fixed\n",
    "import instructor\n",
    "import openai\n",
    "\n",
    "class AnalysisSection(BaseModel):\n",
    "    \"\"\"A concise legal analysis leading to a decision.\"\"\"\n",
    "    \n",
    "    rules: str = Field(\n",
    "        ...,\n",
    "        description=\"Concise explanation of how the Court considers relevant statutes, interpretations, standards, and tests applicable to this case.\",\n",
    "    )\n",
    "    case_law: str = Field(\n",
    "        ...,\n",
    "        description=\"Names and or citations of cases reviewed by the Court and analysis of how the Court relates those cases to the Issues Presented.\",\n",
    "    )\n",
    "    application: str = Field(\n",
    "        ...,\n",
    "        description=\"Concise explanation of how the Rules and Case Law help the Court reach its conclusions.\",\n",
    "    )\n",
    "\n",
    "\n",
    "class CaseBrief(BaseModel):\n",
    "    \"\"\"A well structured and concise legal case brief.\"\"\"\n",
    "    \n",
    "    case_name: str = Field(\n",
    "        ...,\n",
    "        description=\"The name of the case, if possible include the court and year.\",\n",
    "    )\n",
    "    issues_presented: str = Field(\n",
    "        ...,\n",
    "        description=\"The issues the Court must resolve.\",\n",
    "    )\n",
    "    facts_of_the_case: str = Field(\n",
    "        ...,\n",
    "        description=\"A concise summary of the facts, parties involved, and the events leading to this case.\",\n",
    "    )\n",
    "    procedural_history: str = Field(\n",
    "        ...,\n",
    "        description=\"A district court case summary, appeals court case summary, or otherwise how this issue reached this Court.\",\n",
    "    )\n",
    "    analysis: AnalysisSection = Field(\n",
    "        ...,\n",
    "        description=\"A legal analysis leading to a decision.\",\n",
    "    )\n",
    "    conclusion: str = Field(\n",
    "        ...,\n",
    "        description=\"The Court's ruling on the Issues Presented.\",\n",
    "    )\n",
    "    winner: str = Field(\n",
    "        ...,\n",
    "        description=\"The entity or role that the Court decided in favor of.\",\n",
    "    )\n",
    "    @property\n",
    "    def to_pandas(self) -> pd.DataFrame:\n",
    "        \"\"\"Converts the case brief into a pandas DataFrame.\"\"\"\n",
    "        flat_model = flatten_pydantic_instance(self)\n",
    "        return pd.DataFrame([flat_model])\n",
    "    \n",
    "    def __str__(self) -> str:\n",
    "        \"\"\"Returns a structured legal case brief as a string.\"\"\"\n",
    "        brief_details = [\n",
    "            f\"Case Name: {self.case_name}\",\n",
    "            f\"Issues Presented: {self.issues_presented}\",\n",
    "            f\"Facts of the Case: {self.facts_of_the_case}\",\n",
    "            f\"Procedural History: {self.procedural_history}\",\n",
    "            f\"Analysis:\\n\\n* Rules: {self.analysis.rules}\\n\\n* Case Law: {self.analysis.case_law}\\n\\n* Application: {self.analysis.application}\",\n",
    "            f\"Conclusion: {self.conclusion}\",\n",
    "            f\"Winner: {self.winner}\"\n",
    "        ]\n",
    "        return \"\\n\\n\".join(brief_details)\n",
    "\n",
    "    \n",
    "CaseBrief.model_rebuild()\n",
    "\n",
    "\n",
    "def generate_case_brief(text: str) -> CaseBrief:\n",
    "    client = instructor.patch(openai.OpenAI())\n",
    "    return client.chat.completions.create(\n",
    "        model=\"gpt-4-1106-preview\",\n",
    "        response_model=CaseBrief,\n",
    "        max_retries=Retrying(\n",
    "            stop=stop_after_attempt(5),\n",
    "            wait=wait_fixed(1),\n",
    "        ),\n",
    "        messages=[\n",
    "            {\n",
    "                \"role\": \"system\",\n",
    "                \"content\": \"You are a world class legal AI specializing in document extraction and summarization.\",\n",
    "            },\n",
    "            {\n",
    "                \"role\": \"user\",\n",
    "                \"content\": f\"Compose a case brief using only information from the Context. Working step by step, organize the Context outline into well-structured paragraphs.\\n\\nHere is the Context: {text}\",\n",
    "            },\n",
    "        ],\n",
    "    )"
   ]
  },
  {
   "cell_type": "code",
   "execution_count": 23,
   "metadata": {},
   "outputs": [],
   "source": [
    "case_brief = generate_case_brief(case_text)"
   ]
  },
  {
   "cell_type": "code",
   "execution_count": 24,
   "metadata": {},
   "outputs": [
    {
     "data": {
      "text/markdown": [
       "Case Name: Outboard Marine Corp. v. Liberty Mutual Insurance, 154 Ill. 2d 90 (1992-12-04)\n",
       "\n",
       "Issues Presented: Whether the insurers have a duty to defend and indemnify Outboard Marine Corporation (OMC) under the terms of comprehensive general liability (CGL) insurance policies, considering the pollution exclusion clauses and the known loss doctrine.\n",
       "\n",
       "Facts of the Case: Outboard Marine Corporation (OMC) was involved in a coverage dispute with its insurers over the discharge of polychlorinated biphenyls (PCBs) into the North Ditch, Waukegan Harbor, and Lake Michigan. The Environmental Protection Agency (EPA) and the State of Illinois brought actions against OMC, which tendered defense to its insurers. The insurers refused to defend OMC, alleging the actions were not covered under the policies due to pollution exclusion provisions. OMC defended itself and later entered into a consent decree, incurring cleanup costs and seeking a declaration from the court regarding its insurers' duty to defend and indemnify for the costs associated with the PCB cleanup.\n",
       "\n",
       "Procedural History: The circuit court of Lake County granted OMC partial summary judgment against Liberty Mutual on the 'damages' issue, but granted the insurers' motions for summary judgment based on pollution exclusion provisions. Appeals were consolidated, and the appellate court affirmed the decisions. The Illinois Supreme Court granted Liberty Mutual's petition for leave to appeal.\n",
       "\n",
       "Analysis:\n",
       "\n",
       "* Rules: Insurers have a duty to defend if the facts alleged in a complaint potentially fall within policy coverage. The known loss doctrine may preclude coverage if the insured knew or should have known of a probable loss when purchasing the policy. The pollution exclusion generally denies coverage for environmental damage unless the discharge is sudden and accidental. However, language in insurance contracts is subject to interpretation, and ambiguous terms are construed in favor of coverage.\n",
       "\n",
       "* Case Law: The appellate court's interpretation of 'sudden' in the pollution exclusion clauses was reviewed, examining contrary authorities and considering the relationship between the policy definition of 'occurrence' and the exclusion clause.\n",
       "\n",
       "* Application: The Illinois Supreme Court construed the term 'sudden' in the exclusion clauses to mean unexpected or unintended rather than abrupt. This interpretation reinstates coverage for gradual but unintentional polluting events under the CGL policies. As for the known loss doctrine, the court affirmed one insurer's summary judgment due to OMC's pre-existing knowledge of PCB pollution, but remanded for further proceedings regarding other insurers. The court also upheld an insurer's exclusion based on its distinct pollution exclusion clause which did not contain a 'sudden and accidental' exception.\n",
       "\n",
       "Conclusion: The Illinois Supreme Court affirmed parts of both the appellate and circuit courts' rulings, reversed others, and remanded the case for further proceedings. It affirmed that OMC had knowledge of the known loss for one insurer, that the underlying actions were 'suits seeking damages', and that one insurer was rightly excluded based on its distinct clause. The court reversed the findings on the 'sudden and accidental' exception, providing possible coverage for OMC.\n",
       "\n",
       "Winner: Partially Outboard Marine Corporation, partially the insurers"
      ],
      "text/plain": [
       "<IPython.core.display.Markdown object>"
      ]
     },
     "execution_count": 24,
     "metadata": {},
     "output_type": "execute_result"
    }
   ],
   "source": [
    "Markdown(str(case_brief))"
   ]
  },
  {
   "cell_type": "code",
   "execution_count": 25,
   "metadata": {},
   "outputs": [
    {
     "name": "stdout",
     "output_type": "stream",
     "text": [
      "Citation table contains 30,423 rows from 22,331 unique citations\n",
      "CPU times: total: 1min 38s\n",
      "Wall time: 1min 38s\n"
     ]
    }
   ],
   "source": [
    "# %%time\n",
    "citation_table = create_citation_lookup_table(df1, text_column='body', id_column='id')\n",
    "print(f\"Citation table contains {len(citation_table):,} rows from {citation_table['citation'].nunique():,} unique citations\")"
   ]
  },
  {
   "cell_type": "code",
   "execution_count": 26,
   "metadata": {},
   "outputs": [],
   "source": [
    "def filter_frequent_citations(citation_table: pd.DataFrame, min_occurrences: int = 10) -> pd.DataFrame:\n",
    "    \"\"\"\n",
    "    Filters the citation table to only include citations that appear at least a specified number of times.\n",
    "    \n",
    "    Args:\n",
    "        citation_table (pd.DataFrame): The citation table to filter.\n",
    "        min_occurrences (int): The minimum number of occurrences for a citation to be included.\n",
    "        \n",
    "    Returns:\n",
    "        pd.DataFrame: A filtered DataFrame containing only the citations that meet the minimum occurrence criterion.\n",
    "    \"\"\"\n",
    "    # Count the occurrences of each citation\n",
    "    citation_counts = citation_table['citation'].value_counts()\n",
    "    \n",
    "    # Filter for citations that occur at least min_occurrences times\n",
    "    frequent_citations = citation_counts[citation_counts >= min_occurrences].index\n",
    "    \n",
    "    # Filter the original citation table to only include these citations\n",
    "    filtered_citation_table = citation_table[citation_table['citation'].isin(frequent_citations)]\n",
    "    \n",
    "    return filtered_citation_table\n"
   ]
  },
  {
   "cell_type": "code",
   "execution_count": 27,
   "metadata": {},
   "outputs": [
    {
     "data": {
      "text/plain": [
       "(2669, 2)"
      ]
     },
     "execution_count": 27,
     "metadata": {},
     "output_type": "execute_result"
    }
   ],
   "source": [
    "frequent_citation_table = filter_frequent_citations(citation_table, 10)\n",
    "frequent_citation_table.shape"
   ]
  },
  {
   "cell_type": "code",
   "execution_count": 28,
   "metadata": {},
   "outputs": [],
   "source": [
    "df2 = frequent_citation_table.merge(df1, on='id', how='inner')"
   ]
  },
  {
   "cell_type": "code",
   "execution_count": 29,
   "metadata": {},
   "outputs": [
    {
     "data": {
      "text/html": [
       "<div>\n",
       "<style scoped>\n",
       "    .dataframe tbody tr th:only-of-type {\n",
       "        vertical-align: middle;\n",
       "    }\n",
       "\n",
       "    .dataframe tbody tr th {\n",
       "        vertical-align: top;\n",
       "    }\n",
       "\n",
       "    .dataframe thead th {\n",
       "        text-align: right;\n",
       "    }\n",
       "</style>\n",
       "<table border=\"1\" class=\"dataframe\">\n",
       "  <thead>\n",
       "    <tr style=\"text-align: right;\">\n",
       "      <th></th>\n",
       "      <th>id</th>\n",
       "      <th>citation</th>\n",
       "      <th>name</th>\n",
       "      <th>name_abbreviation</th>\n",
       "      <th>decision_date</th>\n",
       "      <th>court_id</th>\n",
       "      <th>court_name</th>\n",
       "      <th>court_slug</th>\n",
       "      <th>judges</th>\n",
       "      <th>attorneys</th>\n",
       "      <th>citations</th>\n",
       "      <th>url</th>\n",
       "      <th>head</th>\n",
       "      <th>body</th>\n",
       "      <th>name_contains_lm</th>\n",
       "      <th>body_contains_lm</th>\n",
       "      <th>year</th>\n",
       "    </tr>\n",
       "  </thead>\n",
       "  <tbody>\n",
       "    <tr>\n",
       "      <th>0</th>\n",
       "      <td>411690</td>\n",
       "      <td>154 Ill. 2d 90</td>\n",
       "      <td>RICHARD R. JOHNSON, Plaintiff-Appellant and Cr...</td>\n",
       "      <td>Johnson v. Halloran</td>\n",
       "      <td>2000-01-13</td>\n",
       "      <td>8837</td>\n",
       "      <td>Illinois Appellate Court</td>\n",
       "      <td>ill-app-ct</td>\n",
       "      <td>[]</td>\n",
       "      <td>['Wolter, Beeman, Lynch &amp; McIntyre, of Springf...</td>\n",
       "      <td>[{'type': 'official', 'cite': '312 Ill. App. 3...</td>\n",
       "      <td>https://api.case.law/v1/cases/411690/</td>\n",
       "      <td>RICHARD R. JOHNSON, Plaintiff-Appellant and Cr...</td>\n",
       "      <td>JUSTICE HALL\\r\\ndelivered the opinion of the c...</td>\n",
       "      <td>False</td>\n",
       "      <td>True</td>\n",
       "      <td>2000</td>\n",
       "    </tr>\n",
       "    <tr>\n",
       "      <th>1</th>\n",
       "      <td>411690</td>\n",
       "      <td>607 N.E.2d 1204</td>\n",
       "      <td>RICHARD R. JOHNSON, Plaintiff-Appellant and Cr...</td>\n",
       "      <td>Johnson v. Halloran</td>\n",
       "      <td>2000-01-13</td>\n",
       "      <td>8837</td>\n",
       "      <td>Illinois Appellate Court</td>\n",
       "      <td>ill-app-ct</td>\n",
       "      <td>[]</td>\n",
       "      <td>['Wolter, Beeman, Lynch &amp; McIntyre, of Springf...</td>\n",
       "      <td>[{'type': 'official', 'cite': '312 Ill. App. 3...</td>\n",
       "      <td>https://api.case.law/v1/cases/411690/</td>\n",
       "      <td>RICHARD R. JOHNSON, Plaintiff-Appellant and Cr...</td>\n",
       "      <td>JUSTICE HALL\\r\\ndelivered the opinion of the c...</td>\n",
       "      <td>False</td>\n",
       "      <td>True</td>\n",
       "      <td>2000</td>\n",
       "    </tr>\n",
       "  </tbody>\n",
       "</table>\n",
       "</div>"
      ],
      "text/plain": [
       "       id         citation                                               name  \\\n",
       "0  411690   154 Ill. 2d 90  RICHARD R. JOHNSON, Plaintiff-Appellant and Cr...   \n",
       "1  411690  607 N.E.2d 1204  RICHARD R. JOHNSON, Plaintiff-Appellant and Cr...   \n",
       "\n",
       "     name_abbreviation decision_date  court_id                court_name  \\\n",
       "0  Johnson v. Halloran    2000-01-13      8837  Illinois Appellate Court   \n",
       "1  Johnson v. Halloran    2000-01-13      8837  Illinois Appellate Court   \n",
       "\n",
       "   court_slug judges                                          attorneys  \\\n",
       "0  ill-app-ct     []  ['Wolter, Beeman, Lynch & McIntyre, of Springf...   \n",
       "1  ill-app-ct     []  ['Wolter, Beeman, Lynch & McIntyre, of Springf...   \n",
       "\n",
       "                                           citations  \\\n",
       "0  [{'type': 'official', 'cite': '312 Ill. App. 3...   \n",
       "1  [{'type': 'official', 'cite': '312 Ill. App. 3...   \n",
       "\n",
       "                                     url  \\\n",
       "0  https://api.case.law/v1/cases/411690/   \n",
       "1  https://api.case.law/v1/cases/411690/   \n",
       "\n",
       "                                                head  \\\n",
       "0  RICHARD R. JOHNSON, Plaintiff-Appellant and Cr...   \n",
       "1  RICHARD R. JOHNSON, Plaintiff-Appellant and Cr...   \n",
       "\n",
       "                                                body  name_contains_lm  \\\n",
       "0  JUSTICE HALL\\r\\ndelivered the opinion of the c...             False   \n",
       "1  JUSTICE HALL\\r\\ndelivered the opinion of the c...             False   \n",
       "\n",
       "   body_contains_lm  year  \n",
       "0              True  2000  \n",
       "1              True  2000  "
      ]
     },
     "execution_count": 29,
     "metadata": {},
     "output_type": "execute_result"
    }
   ],
   "source": [
    "df2.head(2)"
   ]
  },
  {
   "cell_type": "code",
   "execution_count": 30,
   "metadata": {},
   "outputs": [
    {
     "name": "stdout",
     "output_type": "stream",
     "text": [
      "shape of df with cases citing a top 10 cite: (2669, 17)\n",
      "data contains: 117 unique citations\n"
     ]
    }
   ],
   "source": [
    "print(f\"shape of df with cases citing a top 10 cite: {df2.shape}\")\n",
    "print(f\"data contains: {df2['citation'].nunique()} unique citations\")"
   ]
  },
  {
   "cell_type": "code",
   "execution_count": 31,
   "metadata": {},
   "outputs": [],
   "source": [
    "def add_citation_context_to_df(\n",
    "    df: pd.DataFrame, \n",
    "    text_column: str, \n",
    "    citation_column: str, \n",
    "    words_before: int = 512, \n",
    "    words_after: int = 512,\n",
    ") -> pd.DataFrame:\n",
    "    \"\"\"\n",
    "    Loops over the given DataFrame and applies `get_citation_context` for the specified citation.\n",
    "    Adds the resulting context string to the DataFrame as a new column.\n",
    "\n",
    "    Args:\n",
    "        df (pd.DataFrame): The DataFrame to process, expected to contain a 'body' column.\n",
    "        citation (str): The citation to search for within the 'body' column.\n",
    "\n",
    "    Returns:\n",
    "        pd.DataFrame: The original DataFrame with an added 'context' column containing the citation context.\n",
    "    \"\"\"\n",
    "    # Ensure the 'context' column exists\n",
    "    if 'context' not in df.columns:\n",
    "        df['context'] = ''\n",
    "\n",
    "    # Apply the get_citation_context function row-wise\n",
    "    for index, row in df.iterrows():\n",
    "        cite = row[citation_column]\n",
    "        context = get_citation_context(\n",
    "            text=row[text_column], \n",
    "            citation=cite, \n",
    "            words_before=words_before, \n",
    "            words_after=words_after,\n",
    "        )\n",
    "        df.at[index, 'context'] = context\n",
    "        df.at[index, 'context_citation'] = cite\n",
    "\n",
    "    return df"
   ]
  },
  {
   "cell_type": "code",
   "execution_count": 32,
   "metadata": {},
   "outputs": [],
   "source": [
    "top_cites_with_context_df = add_citation_context_to_df(\n",
    "    df=df2,\n",
    "    text_column='body',\n",
    "    citation_column='citation',\n",
    ")"
   ]
  },
  {
   "cell_type": "code",
   "execution_count": 38,
   "metadata": {},
   "outputs": [
    {
     "data": {
      "text/plain": [
       "count    2669.000000\n",
       "mean     1435.885725\n",
       "std       153.952959\n",
       "min       568.000000\n",
       "25%      1365.000000\n",
       "50%      1428.000000\n",
       "75%      1524.000000\n",
       "max      2216.000000\n",
       "Name: context_tokens, dtype: float64"
      ]
     },
     "execution_count": 38,
     "metadata": {},
     "output_type": "execute_result"
    }
   ],
   "source": [
    "top_cites_with_context_df['context_tokens'] = top_cites_with_context_df['context'].apply(lambda x: count_tokens(x))\n",
    "top_cites_with_context_df['context_tokens'].describe()"
   ]
  },
  {
   "cell_type": "code",
   "execution_count": 39,
   "metadata": {},
   "outputs": [
    {
     "data": {
      "text/plain": [
       "3832379"
      ]
     },
     "execution_count": 39,
     "metadata": {},
     "output_type": "execute_result"
    }
   ],
   "source": [
    "top_cites_with_context_df['context_tokens'].sum()"
   ]
  },
  {
   "cell_type": "code",
   "execution_count": 35,
   "metadata": {},
   "outputs": [
    {
     "data": {
      "text/html": [
       "<div>\n",
       "<style scoped>\n",
       "    .dataframe tbody tr th:only-of-type {\n",
       "        vertical-align: middle;\n",
       "    }\n",
       "\n",
       "    .dataframe tbody tr th {\n",
       "        vertical-align: top;\n",
       "    }\n",
       "\n",
       "    .dataframe thead th {\n",
       "        text-align: right;\n",
       "    }\n",
       "</style>\n",
       "<table border=\"1\" class=\"dataframe\">\n",
       "  <thead>\n",
       "    <tr style=\"text-align: right;\">\n",
       "      <th></th>\n",
       "      <th>id</th>\n",
       "      <th>citation</th>\n",
       "      <th>name</th>\n",
       "      <th>name_abbreviation</th>\n",
       "      <th>decision_date</th>\n",
       "      <th>court_id</th>\n",
       "      <th>court_name</th>\n",
       "      <th>court_slug</th>\n",
       "      <th>judges</th>\n",
       "      <th>attorneys</th>\n",
       "      <th>citations</th>\n",
       "      <th>url</th>\n",
       "      <th>head</th>\n",
       "      <th>body</th>\n",
       "      <th>name_contains_lm</th>\n",
       "      <th>body_contains_lm</th>\n",
       "      <th>year</th>\n",
       "      <th>context</th>\n",
       "      <th>context_citation</th>\n",
       "      <th>context_tokens</th>\n",
       "    </tr>\n",
       "  </thead>\n",
       "  <tbody>\n",
       "    <tr>\n",
       "      <th>0</th>\n",
       "      <td>411690</td>\n",
       "      <td>154 Ill. 2d 90</td>\n",
       "      <td>RICHARD R. JOHNSON, Plaintiff-Appellant and Cr...</td>\n",
       "      <td>Johnson v. Halloran</td>\n",
       "      <td>2000-01-13</td>\n",
       "      <td>8837</td>\n",
       "      <td>Illinois Appellate Court</td>\n",
       "      <td>ill-app-ct</td>\n",
       "      <td>[]</td>\n",
       "      <td>['Wolter, Beeman, Lynch &amp; McIntyre, of Springf...</td>\n",
       "      <td>[{'type': 'official', 'cite': '312 Ill. App. 3...</td>\n",
       "      <td>https://api.case.law/v1/cases/411690/</td>\n",
       "      <td>RICHARD R. JOHNSON, Plaintiff-Appellant and Cr...</td>\n",
       "      <td>JUSTICE HALL\\r\\ndelivered the opinion of the c...</td>\n",
       "      <td>False</td>\n",
       "      <td>True</td>\n",
       "      <td>2000</td>\n",
       "      <td>The public defender of Cook County was appoint...</td>\n",
       "      <td>154 Ill. 2d 90</td>\n",
       "      <td>1317</td>\n",
       "    </tr>\n",
       "    <tr>\n",
       "      <th>1</th>\n",
       "      <td>411690</td>\n",
       "      <td>607 N.E.2d 1204</td>\n",
       "      <td>RICHARD R. JOHNSON, Plaintiff-Appellant and Cr...</td>\n",
       "      <td>Johnson v. Halloran</td>\n",
       "      <td>2000-01-13</td>\n",
       "      <td>8837</td>\n",
       "      <td>Illinois Appellate Court</td>\n",
       "      <td>ill-app-ct</td>\n",
       "      <td>[]</td>\n",
       "      <td>['Wolter, Beeman, Lynch &amp; McIntyre, of Springf...</td>\n",
       "      <td>[{'type': 'official', 'cite': '312 Ill. App. 3...</td>\n",
       "      <td>https://api.case.law/v1/cases/411690/</td>\n",
       "      <td>RICHARD R. JOHNSON, Plaintiff-Appellant and Cr...</td>\n",
       "      <td>JUSTICE HALL\\r\\ndelivered the opinion of the c...</td>\n",
       "      <td>False</td>\n",
       "      <td>True</td>\n",
       "      <td>2000</td>\n",
       "      <td>The public defender of Cook County was appoint...</td>\n",
       "      <td>607 N.E.2d 1204</td>\n",
       "      <td>1317</td>\n",
       "    </tr>\n",
       "  </tbody>\n",
       "</table>\n",
       "</div>"
      ],
      "text/plain": [
       "       id         citation                                               name  \\\n",
       "0  411690   154 Ill. 2d 90  RICHARD R. JOHNSON, Plaintiff-Appellant and Cr...   \n",
       "1  411690  607 N.E.2d 1204  RICHARD R. JOHNSON, Plaintiff-Appellant and Cr...   \n",
       "\n",
       "     name_abbreviation decision_date  court_id                court_name  \\\n",
       "0  Johnson v. Halloran    2000-01-13      8837  Illinois Appellate Court   \n",
       "1  Johnson v. Halloran    2000-01-13      8837  Illinois Appellate Court   \n",
       "\n",
       "   court_slug judges                                          attorneys  \\\n",
       "0  ill-app-ct     []  ['Wolter, Beeman, Lynch & McIntyre, of Springf...   \n",
       "1  ill-app-ct     []  ['Wolter, Beeman, Lynch & McIntyre, of Springf...   \n",
       "\n",
       "                                           citations  \\\n",
       "0  [{'type': 'official', 'cite': '312 Ill. App. 3...   \n",
       "1  [{'type': 'official', 'cite': '312 Ill. App. 3...   \n",
       "\n",
       "                                     url  \\\n",
       "0  https://api.case.law/v1/cases/411690/   \n",
       "1  https://api.case.law/v1/cases/411690/   \n",
       "\n",
       "                                                head  \\\n",
       "0  RICHARD R. JOHNSON, Plaintiff-Appellant and Cr...   \n",
       "1  RICHARD R. JOHNSON, Plaintiff-Appellant and Cr...   \n",
       "\n",
       "                                                body  name_contains_lm  \\\n",
       "0  JUSTICE HALL\\r\\ndelivered the opinion of the c...             False   \n",
       "1  JUSTICE HALL\\r\\ndelivered the opinion of the c...             False   \n",
       "\n",
       "   body_contains_lm  year                                            context  \\\n",
       "0              True  2000  The public defender of Cook County was appoint...   \n",
       "1              True  2000  The public defender of Cook County was appoint...   \n",
       "\n",
       "  context_citation  context_tokens  \n",
       "0   154 Ill. 2d 90            1317  \n",
       "1  607 N.E.2d 1204            1317  "
      ]
     },
     "execution_count": 35,
     "metadata": {},
     "output_type": "execute_result"
    }
   ],
   "source": [
    "top_cites_with_context_df.head(2)"
   ]
  },
  {
   "cell_type": "code",
   "execution_count": 40,
   "metadata": {},
   "outputs": [],
   "source": [
    "top_cites_with_context_df.to_parquet('citation_data_with_context.parquet', index=False)"
   ]
  },
  {
   "cell_type": "code",
   "execution_count": 4,
   "metadata": {},
   "outputs": [],
   "source": [
    "top_cites_with_context_df = pd.read_parquet('citation_data_with_context.parquet')"
   ]
  },
  {
   "cell_type": "code",
   "execution_count": 5,
   "metadata": {},
   "outputs": [
    {
     "data": {
      "text/markdown": [
       "The defense in the criminal case was then assigned to assistant public defender Halloran. Pretrial discovery disclosed by the State in the criminal case included two Chicago police department lab reports. These lab reports showed that body fluids on the vaginal swab and panties of the victim immediately following the attack revealed the presence of H activity, indicating that such body fluids were from a person who was a secretor. The blood and saliva samples taken from the victim and from Johnson showed that they were both nonsecretors. These results established that Johnson could not have been the sole donor of the foreign body fluids found on the person or clothing of the victim. Halloran did not seek to use this information in the underlying criminal trial. Rather, at a pretrial hearing, Halloran presented a motion in limine to prohibit the State from introducing any evidence of blood, semen, or saliva testing. The circuit court granted Halloran’s motion in limine on September 4, 1992. Following a bench trial, Johnson was convicted in the underlying criminal case and was sentenced to 30 years in the Illinois Department of Corrections. Prior to this conviction, no DNA profile was performed on Johnson, the victim, or the victim’s husband. Johnson’s conviction was vacated on March 8, 1996, pursuant to a postconviction petition based on DNA test results. Prior to his release, Johnson sent a letter dated February 8, 1993, to defendant Rita A. Fry, public defender of Cook County, complaining about the legal representation he received in his criminal case. In this letter, Johnson specifically mentioned DNA evidence. Johnson also sent a letter to the Attorney Registration and Disciplinary Commission (ARDC) date stamped March 3, 1993, complaining about the legal representation he received from Halloran. In the instant case, defendants filed a motion to dismiss plaintiffs complaint based on the statute of limitations, which was denied. Defendants filed a motion for summary judgment on the basis of sovereign immunity, arguing that public defenders are employees of the state and therefore the circuit court lacked subject matter jurisdiction to hear this case because plaintiffs claims must be brought in the Illinois Court of Claims. The circuit court granted defendants’ motion on May 27, 1998. On appeal plaintiff contends that the circuit court erred in granting summary judgment in favor of the defendants on the basis of sovereign immunity because (a) public defenders are not agents or employees of the state, and (b) defendants’ professional duties to their clients do not arise solely as a result of their government employment. On cross-appeal defendants contend that the circuit court erred in finding that plaintiffs complaint was timely filed. DISCUSSION A. Standard of Review In appeals from summary judgment rulings, this court conducts a de novo review. Outboard Marine Corp. v. Liberty Mutual Insurance Co., 154 Ill. 2d 90, 607 N.E.2d 1204 (1992). Summary judgment is appropriate only when there are no genuine issues of material fact and the moving party is entitled to judgment as a matter of law. Purtill v. Hess, <mark>111 Ill. 2d 229</mark>, 489 N.E.2d 867 (1986). B. Sovereign Immunity Article XIII, section 4, of the Illinois Constitution of 1970 abolished sovereign immunity “[ejxcept as the General Assembly may provide by law.” Ill. Const. 1970, art. XIII, § 4. The legislature enacted the State Lawsuit Immunity Act, which provides in pertinent part: “Except as provided in *** ‘AN ACT to create the Court of Claims ***’, *** the State of Illinois shall not be made a defendant or party in any court.” 745 ILCS 5/1 (West 1996). The Court of Claims Act established the Court of Claims and endowed it with exclusive jurisdiction to hear certain matters, including “[a]ll claims against the State for damages in cases sounding in tort, if a like cause of action would lie against a private person or corporation in a civil suit.” 705 ILCS 505/8(d) (West 1996). The plaintiff argues that Cook County public defenders are county employees and, therefore, the circuit court erred in applying the doctrine of sovereign immunity. Defendants contend that they are employees of the state so that sovereign immunity would apply. 1. Source of Duty Whether or not public defenders are state employees or county employees, the circuit court erred in applying sovereign immunity in this case because defendants’ professional duties to their clients did not arise solely as a result of their government employment. Whether an action is a suit against the state or merely an action against an employee for his own individual acts of negligence depends upon the issues involved and the relief sought, rather than the formal designation of the parties. Currie v. Lao, 148 Ill. 2d 151, 592 N.E.2d 977 (1992); Healy v. Vaupel, 133 Ill. 2d 295, 549 N.E.2d 1240 (1990). A suit against a state employee in his individual capacity is a claim against the state when the judgment for the plaintiff could control the state’s actions or subject it to liability. Wozniak v. Conry, 288 Ill. App. 3d 129, 679 N.E.2d 1255 (1997). However, a state employee is not immunized by sovereign immunity for his own acts of negligence merely because he was acting within the scope of his employment. Currie, 148 Ill. 2d at 158; Wozniak, 288 Ill. App. 3d at 133. The supreme court has instructed that when determining whether a tort claim arising out of the alleged on-the-job negligence of a state employee is in reality a claim against the state, the proper inquiry is into the source of the duty the employee is charged with breaching. Currie, 148 Ill. 2d at 159. The supreme court explained the source-of-duty analysis as follows: “Where the charged act of negligence arose out of the State employee’s breach of a duty that is imposed on him solely by virtue of his State employment, sovereign immunity will bar maintenance of the action in circuit court. [Citations.] Conversely, where the employee is charged with breaching a duty imposed on him independently of his State employment, sovereign immunity will not attach and a negligence claim may be maintained against him in circuit court. [Citations.] In other words, where"
      ],
      "text/plain": [
       "<IPython.core.display.Markdown object>"
      ]
     },
     "execution_count": 5,
     "metadata": {},
     "output_type": "execute_result"
    }
   ],
   "source": [
    "from src.utils.citations import create_highlighted_citation\n",
    "\n",
    "example_context = top_cites_with_context_df['context'].tolist()[2]\n",
    "example_citation = top_cites_with_context_df['citation'].tolist()[2]\n",
    "\n",
    "html_text = create_highlighted_citation(\n",
    "    text=example_context,\n",
    "    target_citation=example_citation,\n",
    "    html=True)\n",
    "\n",
    "Markdown(html_text)"
   ]
  },
  {
   "cell_type": "code",
   "execution_count": 8,
   "metadata": {},
   "outputs": [],
   "source": [
    "import pandas as pd\n",
    "from typing import List\n",
    "from typing_extensions import Annotated\n",
    "from pydantic import BaseModel, Field\n",
    "from typing import Literal\n",
    "from tenacity import AsyncRetrying, stop_after_attempt, wait_fixed\n",
    "import instructor\n",
    "import openai\n",
    "from tqdm.asyncio import tqdm\n",
    "\n",
    "class CaseCitationReference(BaseModel):\n",
    "    \"\"\"A legal citation referenced in court document.\"\"\"\n",
    "    \n",
    "    summary: str = Field(\n",
    "        ...,\n",
    "        description=\"A summary the legal argument with respect to the citation of interest. When possible this should include the question or issue the cited case helped answer or address.\"\n",
    "    )\n",
    "    keywords: str = Field(\n",
    "        ...,\n",
    "        description='A list of keywords useful for associating the citation with its underlying topic.'\n",
    "    )\n",
    "\n",
    "async def analyze_citations(citation: str, context: str) -> CaseCitationReference:\n",
    "    \"\"\"\n",
    "    Asynchronously analyzes citations and returns a CaseCitationReference object.\n",
    "    \n",
    "    Args:\n",
    "        citation (str): The citation to analyze.\n",
    "        context (str): The context in which the citation is used.\n",
    "        \n",
    "    Returns:\n",
    "        CaseCitationReference: An object containing the summary and sentiment of the citation.\n",
    "    \"\"\"\n",
    "    client = instructor.patch(openai.AsyncOpenAI())\n",
    "    response = await client.chat.completions.create(\n",
    "        model=\"gpt-3.5-turbo\",\n",
    "        response_model=CaseCitationReference,\n",
    "        max_retries=AsyncRetrying(\n",
    "            stop=stop_after_attempt(3),\n",
    "            wait=wait_fixed(1),\n",
    "        ),\n",
    "        messages=[\n",
    "            {\n",
    "                \"role\": \"system\",\n",
    "                \"content\": \"Your role is to extract information about a legal citation using the context, which is an excerpt from a subsequent legal proceeding that referenced the citation of interest.\",\n",
    "            },\n",
    "            {   \"role\": \"user\", \n",
    "                \"content\": f\"Your task focuses on citation: **{citation}**\"},\n",
    "            {   \"role\": \"user\", \n",
    "                \"content\": f\"Here is the context: {context}\"}\n",
    "        ]\n",
    "    )\n",
    "    return response\n",
    "\n",
    "async def process_citations_with_progress(df: pd.DataFrame) -> pd.DataFrame:\n",
    "    \"\"\"\n",
    "    Asynchronously processes citations in a DataFrame and updates it with new attributes.\n",
    "    \n",
    "    Args:\n",
    "        df (pd.DataFrame): The DataFrame to process.\n",
    "        \n",
    "    Returns:\n",
    "        pd.DataFrame: The updated DataFrame with new attributes.\n",
    "    \"\"\"\n",
    "    # Ensure the DataFrame has the necessary columns\n",
    "    if 'context' not in df.columns:\n",
    "        raise ValueError(\"DataFrame must contain a 'context' column.\")\n",
    "    \n",
    "    # Prepare new columns for the DataFrame\n",
    "    df['summary'] = None\n",
    "    df['keywords'] = None\n",
    "    \n",
    "    # Convert DataFrame rows to a list of dictionaries for easier async processing\n",
    "    rows = df.to_dict('records')\n",
    "    \n",
    "    # Process each row asynchronously\n",
    "    async for row in tqdm(rows, total=len(rows)):\n",
    "        citation_reference = await analyze_citations(row['citation'], row['context'])\n",
    "        row['summary'] = citation_reference.summary\n",
    "        row['keywords'] = citation_reference.keywords\n",
    "    \n",
    "    # Convert the list of dictionaries back to a DataFrame\n",
    "    updated_df = pd.DataFrame(rows)\n",
    "    \n",
    "    return updated_df"
   ]
  },
  {
   "cell_type": "code",
   "execution_count": 9,
   "metadata": {},
   "outputs": [
    {
     "name": "stderr",
     "output_type": "stream",
     "text": [
      "100%|██████████| 2669/2669 [1:14:46<00:00,  1.68s/it]\n"
     ]
    }
   ],
   "source": [
    "import nest_asyncio\n",
    "nest_asyncio.apply()\n",
    "\n",
    "updated_df = await process_citations_with_progress(df=top_cites_with_context_df)"
   ]
  },
  {
   "cell_type": "code",
   "execution_count": 10,
   "metadata": {},
   "outputs": [],
   "source": [
    "updated_df.to_parquet('citation_lookup_data.parquet', index=False)"
   ]
  },
  {
   "cell_type": "code",
   "execution_count": 11,
   "metadata": {},
   "outputs": [],
   "source": [
    "df = pd.read_parquet('citation_lookup_data.parquet')"
   ]
  },
  {
   "cell_type": "code",
   "execution_count": 12,
   "metadata": {},
   "outputs": [
    {
     "data": {
      "text/markdown": [
       "* The legal standard for summary judgment and the burden of proof in the context of a declaratory judgment action\n",
       "* The case discussed in the context upheld the trial court's finding that an affidavit complied with Rule 191(a) despite technical deficiencies in identifying certain details of conversations.\n",
       "* The case Crum & Forster Managers Corp. v. Resolution Trust Corp., 156 Ill. 2d 384 (1993), is cited in the legal document to support the principle that the construction of insurance policy provisions is a question of law that can be decided in a motion for summary judgment.\n",
       "* The citation 106 S. Ct. 2505 is referenced in a legal proceeding discussing the standard of review for summary judgment. It states that summary judgment must be granted when there is no genuine dispute as to any material fact and the movant is entitled to judgment as a matter of law, referencing the case Anderson v. Liberty Lobby, Inc.\n",
       "* The legal standard for summary judgment in the context refers to no genuine issue as to any material fact and the moving party being entitled to judgment as a matter of law. It also mentions the standard set forth in Anderson v. Liberty Lobby, Inc., 477 U.S. 242, 106 S.Ct. 2505, regarding what constitutes a genuine dispute about a material fact.\n",
       "* The citation 265 N.C. 431 is referenced in a legal proceeding to illustrate the court's duty in determining whether competent evidence supports the Commission's findings of fact.\n",
       "* To survive a motion to dismiss, a complaint must have 'facial plausibility,' meaning it must 'plead[ ] factual content that allows the court to draw the reasonable inference that the defendant is liable for the misconduct alleged.'\n",
       "* The case of State Farm Mutual Automobile Insurance Co. v. Smith, 197 Ill. 2d 369, 757 N.E.2d 881 (2001), discusses the inappropriateness of awarding costs and sanctions when there is a bona fide dispute concerning coverage in an insurance claim.\n",
       "* Crum & Forster Managers Corp. v. Resolution Trust Corp., 156 Ill. 2d 384, 393, 620 N.E.2d 1073 (1993) discusses an insurer's duty to defend and the obligation to defend its insured based on the allegations in the underlying complaint compared to the language of the insurance policy.\n",
       "* The court must award summary judgment with caution to avoid preempting a litigant’s right to trial by jury or his right to present fully the factual basis of a case where a material dispute may exist. In determining a summary judgment motion, the court must construe the pleadings, affidavits, depositions and admissions on file strictly against the moving party and liberally in favor of the opponent. In re Estate of Hoover, 155 Ill. 2d 402, 410-11, 615 N.E.2d 736 (1993)."
      ],
      "text/plain": [
       "<IPython.core.display.Markdown object>"
      ]
     },
     "metadata": {},
     "output_type": "display_data"
    }
   ],
   "source": [
    "from IPython.display import Markdown, display\n",
    "\n",
    "display(Markdown('\\n'.join([f'* {summary}' for summary in df.sample(10)['summary'].tolist()])))"
   ]
  },
  {
   "cell_type": "code",
   "execution_count": 13,
   "metadata": {},
   "outputs": [
    {
     "data": {
      "text/html": [
       "<div>\n",
       "<style scoped>\n",
       "    .dataframe tbody tr th:only-of-type {\n",
       "        vertical-align: middle;\n",
       "    }\n",
       "\n",
       "    .dataframe tbody tr th {\n",
       "        vertical-align: top;\n",
       "    }\n",
       "\n",
       "    .dataframe thead th {\n",
       "        text-align: right;\n",
       "    }\n",
       "</style>\n",
       "<table border=\"1\" class=\"dataframe\">\n",
       "  <thead>\n",
       "    <tr style=\"text-align: right;\">\n",
       "      <th></th>\n",
       "      <th>id</th>\n",
       "      <th>citation</th>\n",
       "      <th>name</th>\n",
       "      <th>name_abbreviation</th>\n",
       "      <th>decision_date</th>\n",
       "      <th>court_id</th>\n",
       "      <th>court_name</th>\n",
       "      <th>court_slug</th>\n",
       "      <th>judges</th>\n",
       "      <th>attorneys</th>\n",
       "      <th>citations</th>\n",
       "      <th>url</th>\n",
       "      <th>head</th>\n",
       "      <th>body</th>\n",
       "      <th>name_contains_lm</th>\n",
       "      <th>body_contains_lm</th>\n",
       "      <th>year</th>\n",
       "      <th>context</th>\n",
       "      <th>context_citation</th>\n",
       "      <th>context_tokens</th>\n",
       "      <th>summary</th>\n",
       "      <th>keywords</th>\n",
       "    </tr>\n",
       "  </thead>\n",
       "  <tbody>\n",
       "    <tr>\n",
       "      <th>0</th>\n",
       "      <td>411690</td>\n",
       "      <td>154 Ill. 2d 90</td>\n",
       "      <td>RICHARD R. JOHNSON, Plaintiff-Appellant and Cr...</td>\n",
       "      <td>Johnson v. Halloran</td>\n",
       "      <td>2000-01-13</td>\n",
       "      <td>8837</td>\n",
       "      <td>Illinois Appellate Court</td>\n",
       "      <td>ill-app-ct</td>\n",
       "      <td>[]</td>\n",
       "      <td>['Wolter, Beeman, Lynch &amp; McIntyre, of Springf...</td>\n",
       "      <td>[{'type': 'official', 'cite': '312 Ill. App. 3...</td>\n",
       "      <td>https://api.case.law/v1/cases/411690/</td>\n",
       "      <td>RICHARD R. JOHNSON, Plaintiff-Appellant and Cr...</td>\n",
       "      <td>JUSTICE HALL\\r\\ndelivered the opinion of the c...</td>\n",
       "      <td>False</td>\n",
       "      <td>True</td>\n",
       "      <td>2000</td>\n",
       "      <td>The public defender of Cook County was appoint...</td>\n",
       "      <td>154 Ill. 2d 90</td>\n",
       "      <td>1317</td>\n",
       "      <td>The case Outboard Marine Corp. v. Liberty Mutu...</td>\n",
       "      <td>appeals, summary judgment, standard of review,...</td>\n",
       "    </tr>\n",
       "    <tr>\n",
       "      <th>1</th>\n",
       "      <td>411690</td>\n",
       "      <td>607 N.E.2d 1204</td>\n",
       "      <td>RICHARD R. JOHNSON, Plaintiff-Appellant and Cr...</td>\n",
       "      <td>Johnson v. Halloran</td>\n",
       "      <td>2000-01-13</td>\n",
       "      <td>8837</td>\n",
       "      <td>Illinois Appellate Court</td>\n",
       "      <td>ill-app-ct</td>\n",
       "      <td>[]</td>\n",
       "      <td>['Wolter, Beeman, Lynch &amp; McIntyre, of Springf...</td>\n",
       "      <td>[{'type': 'official', 'cite': '312 Ill. App. 3...</td>\n",
       "      <td>https://api.case.law/v1/cases/411690/</td>\n",
       "      <td>RICHARD R. JOHNSON, Plaintiff-Appellant and Cr...</td>\n",
       "      <td>JUSTICE HALL\\r\\ndelivered the opinion of the c...</td>\n",
       "      <td>False</td>\n",
       "      <td>True</td>\n",
       "      <td>2000</td>\n",
       "      <td>The public defender of Cook County was appoint...</td>\n",
       "      <td>607 N.E.2d 1204</td>\n",
       "      <td>1317</td>\n",
       "      <td>The case Outboard Marine Corp. v. Liberty Mutu...</td>\n",
       "      <td>summary judgment, de novo review, genuine issu...</td>\n",
       "    </tr>\n",
       "  </tbody>\n",
       "</table>\n",
       "</div>"
      ],
      "text/plain": [
       "       id         citation                                               name  \\\n",
       "0  411690   154 Ill. 2d 90  RICHARD R. JOHNSON, Plaintiff-Appellant and Cr...   \n",
       "1  411690  607 N.E.2d 1204  RICHARD R. JOHNSON, Plaintiff-Appellant and Cr...   \n",
       "\n",
       "     name_abbreviation decision_date  court_id                court_name  \\\n",
       "0  Johnson v. Halloran    2000-01-13      8837  Illinois Appellate Court   \n",
       "1  Johnson v. Halloran    2000-01-13      8837  Illinois Appellate Court   \n",
       "\n",
       "   court_slug judges                                          attorneys  \\\n",
       "0  ill-app-ct     []  ['Wolter, Beeman, Lynch & McIntyre, of Springf...   \n",
       "1  ill-app-ct     []  ['Wolter, Beeman, Lynch & McIntyre, of Springf...   \n",
       "\n",
       "                                           citations  \\\n",
       "0  [{'type': 'official', 'cite': '312 Ill. App. 3...   \n",
       "1  [{'type': 'official', 'cite': '312 Ill. App. 3...   \n",
       "\n",
       "                                     url  \\\n",
       "0  https://api.case.law/v1/cases/411690/   \n",
       "1  https://api.case.law/v1/cases/411690/   \n",
       "\n",
       "                                                head  \\\n",
       "0  RICHARD R. JOHNSON, Plaintiff-Appellant and Cr...   \n",
       "1  RICHARD R. JOHNSON, Plaintiff-Appellant and Cr...   \n",
       "\n",
       "                                                body  name_contains_lm  \\\n",
       "0  JUSTICE HALL\\r\\ndelivered the opinion of the c...             False   \n",
       "1  JUSTICE HALL\\r\\ndelivered the opinion of the c...             False   \n",
       "\n",
       "   body_contains_lm  year                                            context  \\\n",
       "0              True  2000  The public defender of Cook County was appoint...   \n",
       "1              True  2000  The public defender of Cook County was appoint...   \n",
       "\n",
       "  context_citation  context_tokens  \\\n",
       "0   154 Ill. 2d 90            1317   \n",
       "1  607 N.E.2d 1204            1317   \n",
       "\n",
       "                                             summary  \\\n",
       "0  The case Outboard Marine Corp. v. Liberty Mutu...   \n",
       "1  The case Outboard Marine Corp. v. Liberty Mutu...   \n",
       "\n",
       "                                            keywords  \n",
       "0  appeals, summary judgment, standard of review,...  \n",
       "1  summary judgment, de novo review, genuine issu...  "
      ]
     },
     "execution_count": 13,
     "metadata": {},
     "output_type": "execute_result"
    }
   ],
   "source": [
    "df.head(2)"
   ]
  },
  {
   "cell_type": "code",
   "execution_count": 14,
   "metadata": {},
   "outputs": [],
   "source": [
    "from src.utils.gen_utils import count_tokens\n",
    "\n",
    "df['summary_tokens'] = df['summary'].apply(lambda x: count_tokens(x))"
   ]
  },
  {
   "cell_type": "code",
   "execution_count": 15,
   "metadata": {},
   "outputs": [],
   "source": [
    "def create_context(\n",
    "    df: pd.DataFrame,\n",
    "    context_token_limit: int = 50000\n",
    ") -> str:\n",
    "    \"\"\"\n",
    "    Creates a context string from a DataFrame within a specified token limit.\n",
    "\n",
    "    Args:\n",
    "        df (pd.DataFrame): The DataFrame containing case data.\n",
    "        context_token_limit (int): The maximum number of tokens for the context.\n",
    "\n",
    "    Returns:\n",
    "        str: A formatted string containing case details within the token limit.\n",
    "    \"\"\"\n",
    "    df.reset_index(drop=True, inplace=True)\n",
    "    returns = []\n",
    "    count = 1\n",
    "    total_tokens = 100  # Starting token count to account for initial text.\n",
    "    # Add the text to the context until the context is too long.\n",
    "    for _, row in df.iterrows():\n",
    "        text = (\n",
    "            f\"[{count}] [{row['name']}]({row['url']})\\n\"\n",
    "            f\"Decision date: {row['year']}\\n\"\n",
    "            f\"Summary: {row['summary']}\\n\"\n",
    "            f\"Keywords: {row['keywords']}\\n\"\n",
    "            \"-----------------------------------------\\n\"\n",
    "        )\n",
    "        text_tokens = count_tokens(text)\n",
    "        if total_tokens + text_tokens > context_token_limit:\n",
    "            break\n",
    "        returns.append(text)\n",
    "        total_tokens += text_tokens\n",
    "        count += 1\n",
    "    return \"\\n\\n\".join(returns)"
   ]
  },
  {
   "cell_type": "code",
   "execution_count": 16,
   "metadata": {},
   "outputs": [],
   "source": [
    "from typing import Optional, List\n",
    "from pydantic import BaseModel, Field\n",
    "\n",
    "class CitationInformation(BaseModel):\n",
    "    \"\"\"Generalized information about a legal citation.\"\"\"\n",
    "\n",
    "    citation: str = Field(\n",
    "        ...,\n",
    "        description=\"The Citation specified by the user.\",\n",
    "    )\n",
    "    summary: str = Field(\n",
    "        ...,\n",
    "        description=\"A fact-focused summary of the citation's scope of authority as evidenced by its past use.\",\n",
    "    )\n",
    "    questions: List[str] = Field(\n",
    "        default_factory=list,\n",
    "        description=\"A list of named-entity-free generalized questions, or potential questions the cited case can help answer or address. Do NOT reference specific entities, but rather the broader idea, theory or concept.\",\n",
    "    )\n",
    "    keywords: List[str] = Field(\n",
    "        default_factory=list,\n",
    "        description=\"A correctly resolved list of important keywords from the Context. Group similar topics together.\"\n",
    "    )\n",
    "    recency: Optional[str] = Field(\n",
    "        None,\n",
    "        description=\"Optional summary of changes in the interpretation or use of the cited case with a focus on the most recent (listed toward the end of the Context) texts.\",\n",
    "    )\n",
    "\n",
    "    def __str__(self) -> str:\n",
    "        \"\"\"Pretty prints the citation information, wrapping the summary, keywords, and recency text, and listing questions as bullet points.\"\"\"\n",
    "        from textwrap import fill\n",
    "        summary_wrapped = fill(self.summary, width=100)\n",
    "        questions_formatted = '\\n'.join([f\"- {q}\" for q in self.questions])\n",
    "        keywords_wrapped = fill(', '.join(self.keywords), width=100)\n",
    "        recency_wrapped = fill(self.recency, width=100) if self.recency else \"No recent observations.\"\n",
    "        return (\n",
    "            f\"Citation: {self.citation}\\n\"\n",
    "            f\"Summary:\\n{summary_wrapped}\\n\"\n",
    "            f\"Questions:\\n{questions_formatted}\\n\"\n",
    "            f\"Keywords:\\n{keywords_wrapped}\\n\"\n",
    "            f\"Recency:\\n{recency_wrapped}\"\n",
    "        )\n"
   ]
  },
  {
   "cell_type": "code",
   "execution_count": 17,
   "metadata": {},
   "outputs": [],
   "source": [
    "import instructor\n",
    "import openai\n",
    "from tenacity import Retrying, stop_after_attempt, wait_fixed\n",
    "\n",
    "def analyze_citation(\n",
    "    citation: str, excerpts: str\n",
    ") -> CitationInformation:\n",
    "    client = instructor.patch(openai.OpenAI())\n",
    "    return client.chat.completions.create(\n",
    "        model=\"gpt-4-turbo-preview\",\n",
    "        seed=42,\n",
    "        response_model=CitationInformation,\n",
    "        max_retries=Retrying(\n",
    "            stop=stop_after_attempt(5),\n",
    "            wait=wait_fixed(1),\n",
    "        ),\n",
    "        messages=[\n",
    "            {\n",
    "                \"role\": \"system\",\n",
    "                \"content\": \"Your role is to analyze Context, which is previously extracted information about a legal case law citation, and distill down the main takeaways using the correct format. The goal is to support downstream retrieval for users who will be submitting natural language queries to return relevant and useful case citations.\",\n",
    "            },\n",
    "            {\n",
    "                \"role\": \"user\",\n",
    "                \"content\": f\"Your task focuses on citation: **{citation}**\",\n",
    "            },\n",
    "            {   \"role\": \"user\", \"content\": f\"Here is the Context, remember to limit the use of named entities especially on the questions: {excerpts}\"},\n",
    "        ],\n",
    "    )"
   ]
  },
  {
   "cell_type": "code",
   "execution_count": 18,
   "metadata": {},
   "outputs": [],
   "source": [
    "df.sort_values(by='year', ascending=False)\n",
    "test_cite = df[df['citation']=='154 Ill. 2d 90']\n",
    "\n",
    "context = create_context(test_cite)"
   ]
  },
  {
   "cell_type": "code",
   "execution_count": 19,
   "metadata": {},
   "outputs": [],
   "source": [
    "test_res = analyze_citation(citation='154 Ill. 2d 90', excerpts=context)"
   ]
  },
  {
   "cell_type": "code",
   "execution_count": 20,
   "metadata": {},
   "outputs": [
    {
     "name": "stdout",
     "output_type": "stream",
     "text": [
      "Citation: 154 Ill. 2d 90\n",
      "Summary:\n",
      "The case Outboard Marine Corp. v. Liberty Mutual Insurance Co., 154 Ill. 2d 90, is a leading case\n",
      "establishing important principles concerning the standard for granting summary judgment, the concept\n",
      "of de novo review in appellate cases, and the interpretation of insurance policies, particularly\n",
      "regarding the duty of insurers to defend their insureds. It outlines that the review of a grant of\n",
      "summary judgment is conducted de novo, meaning that the appellate court examines the case anew, as\n",
      "if the trial court's decision had not been made, to determine if the movant's right to judgment is\n",
      "clear and free from doubt. This ruling also emphasizes the insurers' broader duty to defend their\n",
      "insureds based on the allegations in the underlying complaint compared to the policy language,\n",
      "indicating that if the facts alleged potentially fall within the policy coverage, the insurer must\n",
      "defend the insured.\n",
      "Questions:\n",
      "- What is the standard for granting summary judgment according to Illinois law?\n",
      "- How does the Outboard Marine Corp. case define the duty of an insurer to defend its insured?\n",
      "- What does de novo review entail in the context of appellate cases concerning summary judgment?\n",
      "Keywords:\n",
      "summary judgment, de novo review, insurance policy interpretation, duty to defend, Outboard Marine\n",
      "Corp. v. Liberty Mutual Insurance Co., insurer, insured, allegations in underlying complaint, policy\n",
      "coverage, Illinois law\n",
      "Recency:\n",
      "No recent observations.\n"
     ]
    }
   ],
   "source": [
    "print(test_res)"
   ]
  },
  {
   "cell_type": "code",
   "execution_count": 21,
   "metadata": {},
   "outputs": [
    {
     "data": {
      "text/plain": [
       "117"
      ]
     },
     "execution_count": 21,
     "metadata": {},
     "output_type": "execute_result"
    }
   ],
   "source": [
    "citation_list = df['citation'].unique().tolist()\n",
    "len(citation_list)"
   ]
  },
  {
   "cell_type": "code",
   "execution_count": 22,
   "metadata": {},
   "outputs": [
    {
     "name": "stderr",
     "output_type": "stream",
     "text": [
      "Analyzing citations: 100%|██████████| 117/117 [19:28<00:00,  9.99s/it]\n"
     ]
    }
   ],
   "source": [
    "from tqdm import tqdm\n",
    "\n",
    "results = []\n",
    "\n",
    "for citation in tqdm(citation_list, desc=\"Analyzing citations\"):\n",
    "    temp_df = df[df['citation'] == citation]    \n",
    "    context = create_context(temp_df)\n",
    "    result = analyze_citation(citation=citation, excerpts=context)\n",
    "    results.append(result)"
   ]
  },
  {
   "cell_type": "code",
   "execution_count": 25,
   "metadata": {},
   "outputs": [],
   "source": [
    "from datetime import datetime\n",
    "\n",
    "local_tz = str(datetime.now().astimezone().tzinfo)\n",
    "def get_timestamp(local_tz=local_tz):\n",
    "    return datetime.now().astimezone().isoformat()[:-9] + \"-\" + local_tz"
   ]
  },
  {
   "cell_type": "code",
   "execution_count": 26,
   "metadata": {},
   "outputs": [
    {
     "data": {
      "text/plain": [
       "'2024-04-04T22:19:12.493-Central Daylight Time'"
      ]
     },
     "execution_count": 26,
     "metadata": {},
     "output_type": "execute_result"
    }
   ],
   "source": [
    "get_timestamp()"
   ]
  },
  {
   "cell_type": "code",
   "execution_count": 27,
   "metadata": {},
   "outputs": [],
   "source": [
    "# Convert to DataFrame excluding 'questions', 'keywords' as joined string\n",
    "df1 = pd.DataFrame([{\n",
    "    'citation': ci.citation,\n",
    "    'summary': ci.summary,\n",
    "    'keywords': ', '.join(ci.keywords),\n",
    "    'recency': ci.recency\n",
    "} for ci in results])\n",
    "\n",
    "# Convert to DataFrame for 'citation' and 'question', each question in its own row\n",
    "df2_rows = [(ci.citation, question) for ci in results for question in ci.questions]\n",
    "df2 = pd.DataFrame(df2_rows, columns=['citation', 'question'])"
   ]
  },
  {
   "cell_type": "code",
   "execution_count": 31,
   "metadata": {},
   "outputs": [
    {
     "data": {
      "text/plain": [
       "((117, 4), (659, 2))"
      ]
     },
     "execution_count": 31,
     "metadata": {},
     "output_type": "execute_result"
    }
   ],
   "source": [
    "df1.to_parquet('citation_summary_keywords.parquet', index=False)\n",
    "df2.to_parquet('citation_questions.parquet', index=False)\n",
    "df1.shape, df2.shape"
   ]
  },
  {
   "cell_type": "code",
   "execution_count": 33,
   "metadata": {},
   "outputs": [],
   "source": [
    "from src.doc_store.utils import save_models_to_json, load_models_from_json"
   ]
  },
  {
   "cell_type": "code",
   "execution_count": 34,
   "metadata": {},
   "outputs": [],
   "source": [
    "save_models_to_json(results, './data/citation_search_data.json')"
   ]
  },
  {
   "cell_type": "code",
   "execution_count": 35,
   "metadata": {},
   "outputs": [],
   "source": [
    "results = load_models_from_json(CitationInformation, './data/citation_search_data.json')"
   ]
  },
  {
   "cell_type": "code",
   "execution_count": 36,
   "metadata": {},
   "outputs": [
    {
     "data": {
      "text/plain": [
       "117"
      ]
     },
     "execution_count": 36,
     "metadata": {},
     "output_type": "execute_result"
    }
   ],
   "source": [
    "len(results)"
   ]
  },
  {
   "cell_type": "code",
   "execution_count": 37,
   "metadata": {},
   "outputs": [
    {
     "name": "stdout",
     "output_type": "stream",
     "text": [
      "Citation: 154 Ill. 2d 90\n",
      "Summary:\n",
      "The case Outboard Marine Corp. v. Liberty Mutual Insurance Co., 154 Ill. 2d 90, is cited for setting\n",
      "legal standards in multiple aspects. It primarily addresses the interpretation of insurance policy\n",
      "provisions, emphasizing that provisions limiting or excluding coverage must be construed liberally\n",
      "in favor of the insured and against the insurer who drafted such language. It further establishes\n",
      "the principle that an insurer's duty to defend is broader than its duty to indemnify, determined by\n",
      "comparing the allegations in the underlying complaint to the language of the insurance policy. The\n",
      "court also held that summary judgment should only be granted when the movant's right to judgment is\n",
      "clear and free from doubt, setting the standard for reviewing summary judgment motions as de novo.\n",
      "Additionally, the case touches upon the insurer's obligation to repay settlement costs arising from\n",
      "the duty to indemnify and highlights that coverage disputes and policy language interpretations\n",
      "arise as key issues in legal proceedings related to insurance.\n",
      "Questions:\n",
      "- What are the key principles established by the case on interpreting insurance policy provisions?\n",
      "- How does the case distinguish between an insurer's duty to defend and its duty to indemnify?\n",
      "- What standard does the case set for granting summary judgment?\n",
      "- How should courts conduct reviews of summary judgment motions according to the case?\n",
      "- What does the case say about an insurer's obligation to repay settlement costs related to the duty to indemnify?\n",
      "- In what types of legal proceedings is the case often cited in relation to insurance disputes?\n",
      "Keywords:\n",
      "insurance policy interpretation, duty to defend, duty to indemnify, summary judgment, de novo\n",
      "review, coverage disputes, settlement costs, policy language, provisions excluding coverage,\n",
      "underlying complaint, liberal construction\n",
      "Recency:\n",
      "No recent observations.\n"
     ]
    }
   ],
   "source": [
    "print(results[0])"
   ]
  },
  {
   "cell_type": "code",
   "execution_count": 41,
   "metadata": {},
   "outputs": [
    {
     "data": {
      "text/markdown": [
       "| citation        | summary                                                                                                                                                                                                                                                                                                                                                                                                                                                                                                                                                                                                                                                                                                                                                                                                                                                                                                                                                                                                                                                                                       | keywords                                                                                                                                                                                                                                                                                     | recency   |\n",
       "|:----------------|:----------------------------------------------------------------------------------------------------------------------------------------------------------------------------------------------------------------------------------------------------------------------------------------------------------------------------------------------------------------------------------------------------------------------------------------------------------------------------------------------------------------------------------------------------------------------------------------------------------------------------------------------------------------------------------------------------------------------------------------------------------------------------------------------------------------------------------------------------------------------------------------------------------------------------------------------------------------------------------------------------------------------------------------------------------------------------------------------|:---------------------------------------------------------------------------------------------------------------------------------------------------------------------------------------------------------------------------------------------------------------------------------------------|:----------|\n",
       "| 154 Ill. 2d 90  | The case Outboard Marine Corp. v. Liberty Mutual Insurance Co., 154 Ill. 2d 90, is cited for setting legal standards in multiple aspects. It primarily addresses the interpretation of insurance policy provisions, emphasizing that provisions limiting or excluding coverage must be construed liberally in favor of the insured and against the insurer who drafted such language. It further establishes the principle that an insurer's duty to defend is broader than its duty to indemnify, determined by comparing the allegations in the underlying complaint to the language of the insurance policy. The court also held that summary judgment should only be granted when the movant's right to judgment is clear and free from doubt, setting the standard for reviewing summary judgment motions as de novo. Additionally, the case touches upon the insurer's obligation to repay settlement costs arising from the duty to indemnify and highlights that coverage disputes and policy language interpretations arise as key issues in legal proceedings related to insurance. | insurance policy interpretation, duty to defend, duty to indemnify, summary judgment, de novo review, coverage disputes, settlement costs, policy language, provisions excluding coverage, underlying complaint, liberal construction                                                        |           |\n",
       "| 607 N.E.2d 1204 | Outboard Marine Corp. v. Liberty Mutual Insurance Co., 154 Ill. 2d 90, 607 N.E.2d 1204 (1992), established principles for interpreting insurance policies, focusing on determining the intent of the parties to the contract, the construction of an insurance policy's provisions, and the determination of the rights and obligations under that policy. It also clarified the standards for granting summary judgment by stating that summary judgment should only be granted when the movant's right to judgment is clear and free from doubt, and it should be reviewed de novo. The case is frequently cited as a precedent for principles regarding the duty of an insurer to defend its insured, the interpretation of ambiguous policy terms in favor of the insured, and the liberal construction of insurance policies to favor coverage.                                                                                                                                                                                                                                          | insurance policy interpretation, ambiguity in policy terms, duty to defend, summary judgment, interpretation favoring coverage, intent of the parties, contract construction, Outboard Marine Corp., Liberty Mutual Insurance Co., movant's right, clear and free from doubt, de novo review |           |"
      ],
      "text/plain": [
       "<IPython.core.display.Markdown object>"
      ]
     },
     "execution_count": 41,
     "metadata": {},
     "output_type": "execute_result"
    }
   ],
   "source": [
    "Markdown(df1.head(2).to_markdown(index=False))"
   ]
  },
  {
   "cell_type": "code",
   "execution_count": 43,
   "metadata": {},
   "outputs": [
    {
     "data": {
      "text/markdown": [
       "| citation       | question                                                                                                         |\n",
       "|:---------------|:-----------------------------------------------------------------------------------------------------------------|\n",
       "| 154 Ill. 2d 90 | What are the key principles established by the case on interpreting insurance policy provisions?                 |\n",
       "| 154 Ill. 2d 90 | How does the case distinguish between an insurer's duty to defend and its duty to indemnify?                     |\n",
       "| 154 Ill. 2d 90 | What standard does the case set for granting summary judgment?                                                   |\n",
       "| 154 Ill. 2d 90 | How should courts conduct reviews of summary judgment motions according to the case?                             |\n",
       "| 154 Ill. 2d 90 | What does the case say about an insurer's obligation to repay settlement costs related to the duty to indemnify? |"
      ],
      "text/plain": [
       "<IPython.core.display.Markdown object>"
      ]
     },
     "execution_count": 43,
     "metadata": {},
     "output_type": "execute_result"
    }
   ],
   "source": [
    "Markdown(df2.head().to_markdown(index=False))"
   ]
  },
  {
   "cell_type": "code",
   "execution_count": 38,
   "metadata": {},
   "outputs": [],
   "source": [
    "from src.embedding_models.models import OpenAIEmbeddings"
   ]
  },
  {
   "cell_type": "code",
   "execution_count": 45,
   "metadata": {},
   "outputs": [],
   "source": [
    "embeddings = OpenAIEmbeddings()\n",
    "embed_fn = embeddings.embedding_fn()\n",
    "\n",
    "summary_vecs = embed_fn(df1['summary'].tolist())\n",
    "df1['openai_embeddings_summary'] = summary_vecs\n",
    "\n",
    "question_vecs = embed_fn(df2['question'].tolist())\n",
    "df2['openai_embeddings_question'] = question_vecs"
   ]
  },
  {
   "cell_type": "code",
   "execution_count": 47,
   "metadata": {},
   "outputs": [
    {
     "data": {
      "text/html": [
       "<div>\n",
       "<style scoped>\n",
       "    .dataframe tbody tr th:only-of-type {\n",
       "        vertical-align: middle;\n",
       "    }\n",
       "\n",
       "    .dataframe tbody tr th {\n",
       "        vertical-align: top;\n",
       "    }\n",
       "\n",
       "    .dataframe thead th {\n",
       "        text-align: right;\n",
       "    }\n",
       "</style>\n",
       "<table border=\"1\" class=\"dataframe\">\n",
       "  <thead>\n",
       "    <tr style=\"text-align: right;\">\n",
       "      <th></th>\n",
       "      <th>citation</th>\n",
       "      <th>summary</th>\n",
       "      <th>keywords</th>\n",
       "      <th>recency</th>\n",
       "      <th>openai_embeddings_summary</th>\n",
       "    </tr>\n",
       "  </thead>\n",
       "  <tbody>\n",
       "    <tr>\n",
       "      <th>0</th>\n",
       "      <td>154 Ill. 2d 90</td>\n",
       "      <td>The case Outboard Marine Corp. v. Liberty Mutu...</td>\n",
       "      <td>insurance policy interpretation, duty to defen...</td>\n",
       "      <td>None</td>\n",
       "      <td>[-0.01926794834434986, 0.0018745827255770564, ...</td>\n",
       "    </tr>\n",
       "    <tr>\n",
       "      <th>1</th>\n",
       "      <td>607 N.E.2d 1204</td>\n",
       "      <td>Outboard Marine Corp. v. Liberty Mutual Insura...</td>\n",
       "      <td>insurance policy interpretation, ambiguity in ...</td>\n",
       "      <td>None</td>\n",
       "      <td>[-0.018108054995536804, -0.0009786781156435609...</td>\n",
       "    </tr>\n",
       "    <tr>\n",
       "      <th>2</th>\n",
       "      <td>111 Ill. 2d 229</td>\n",
       "      <td>The citation references Purtill v. Hess as a s...</td>\n",
       "      <td>summary judgment, material fact, moving party,...</td>\n",
       "      <td>None</td>\n",
       "      <td>[-0.003897976828739047, 0.01571042649447918, 0...</td>\n",
       "    </tr>\n",
       "    <tr>\n",
       "      <th>3</th>\n",
       "      <td>489 N.E.2d 867</td>\n",
       "      <td>The case of Purtill v. Hess, 489 N.E.2d 867 (1...</td>\n",
       "      <td>summary judgment, appeals, common law negligen...</td>\n",
       "      <td>The case's interpretation concerning summary j...</td>\n",
       "      <td>[-0.003980935085564852, 0.021972907707095146, ...</td>\n",
       "    </tr>\n",
       "    <tr>\n",
       "      <th>4</th>\n",
       "      <td>158 Ill. 2d 116</td>\n",
       "      <td>The seminal case of National Union Fire Insura...</td>\n",
       "      <td>insurance policy, coverage, liability, endorse...</td>\n",
       "      <td>The case continues to be referenced in numerou...</td>\n",
       "      <td>[-0.012328366748988628, -0.013215634971857071,...</td>\n",
       "    </tr>\n",
       "  </tbody>\n",
       "</table>\n",
       "</div>"
      ],
      "text/plain": [
       "          citation                                            summary  \\\n",
       "0   154 Ill. 2d 90  The case Outboard Marine Corp. v. Liberty Mutu...   \n",
       "1  607 N.E.2d 1204  Outboard Marine Corp. v. Liberty Mutual Insura...   \n",
       "2  111 Ill. 2d 229  The citation references Purtill v. Hess as a s...   \n",
       "3   489 N.E.2d 867  The case of Purtill v. Hess, 489 N.E.2d 867 (1...   \n",
       "4  158 Ill. 2d 116  The seminal case of National Union Fire Insura...   \n",
       "\n",
       "                                            keywords  \\\n",
       "0  insurance policy interpretation, duty to defen...   \n",
       "1  insurance policy interpretation, ambiguity in ...   \n",
       "2  summary judgment, material fact, moving party,...   \n",
       "3  summary judgment, appeals, common law negligen...   \n",
       "4  insurance policy, coverage, liability, endorse...   \n",
       "\n",
       "                                             recency  \\\n",
       "0                                               None   \n",
       "1                                               None   \n",
       "2                                               None   \n",
       "3  The case's interpretation concerning summary j...   \n",
       "4  The case continues to be referenced in numerou...   \n",
       "\n",
       "                           openai_embeddings_summary  \n",
       "0  [-0.01926794834434986, 0.0018745827255770564, ...  \n",
       "1  [-0.018108054995536804, -0.0009786781156435609...  \n",
       "2  [-0.003897976828739047, 0.01571042649447918, 0...  \n",
       "3  [-0.003980935085564852, 0.021972907707095146, ...  \n",
       "4  [-0.012328366748988628, -0.013215634971857071,...  "
      ]
     },
     "execution_count": 47,
     "metadata": {},
     "output_type": "execute_result"
    }
   ],
   "source": [
    "df1.head()"
   ]
  },
  {
   "cell_type": "code",
   "execution_count": 48,
   "metadata": {},
   "outputs": [],
   "source": [
    "from src.agent.tools.splade_search import SparseEmbeddingsSplade"
   ]
  },
  {
   "cell_type": "code",
   "execution_count": 49,
   "metadata": {},
   "outputs": [
    {
     "name": "stderr",
     "output_type": "stream",
     "text": [
      "2024-04-04 23:16:37 - INFO - Generating sparce (SPLADE) embeddings...\n",
      "Embedding documents: 100%|██████████| 117/117 [00:06<00:00, 19.18it/s]\n",
      "2024-04-04 23:16:43 - INFO - Done! Embeddings have been saved to self.df['splade_embeddings']\n",
      "2024-04-04 23:16:43 - INFO - Using pre-computed 'keywords' embeddings from existing column: splade_embeddings\n"
     ]
    }
   ],
   "source": [
    "splade = SparseEmbeddingsSplade(df1, 'keywords')"
   ]
  },
  {
   "cell_type": "code",
   "execution_count": 50,
   "metadata": {},
   "outputs": [
    {
     "name": "stderr",
     "output_type": "stream",
     "text": [
      "2024-04-04 23:17:14 - INFO - Generating sparce (SPLADE) embeddings...\n",
      "Embedding documents: 100%|██████████| 659/659 [00:21<00:00, 30.05it/s]\n",
      "2024-04-04 23:17:36 - INFO - Done! Embeddings have been saved to self.df['splade_embeddings']\n",
      "2024-04-04 23:17:36 - INFO - Using pre-computed 'question' embeddings from existing column: splade_embeddings\n"
     ]
    }
   ],
   "source": [
    "splade_q = SparseEmbeddingsSplade(df2, 'question')"
   ]
  },
  {
   "cell_type": "code",
   "execution_count": 51,
   "metadata": {},
   "outputs": [
    {
     "data": {
      "text/plain": [
       "((117, 6), (659, 4))"
      ]
     },
     "execution_count": 51,
     "metadata": {},
     "output_type": "execute_result"
    }
   ],
   "source": [
    "splade.df.to_parquet('citation_summary_keywords.parquet', index=False)\n",
    "splade_q.df.to_parquet('citation_questions.parquet', index=False)\n",
    "splade.df.shape, splade_q.df.shape"
   ]
  },
  {
   "cell_type": "code",
   "execution_count": null,
   "metadata": {},
   "outputs": [],
   "source": []
  },
  {
   "cell_type": "code",
   "execution_count": null,
   "metadata": {},
   "outputs": [],
   "source": []
  },
  {
   "cell_type": "code",
   "execution_count": null,
   "metadata": {},
   "outputs": [],
   "source": []
  },
  {
   "cell_type": "code",
   "execution_count": 27,
   "metadata": {},
   "outputs": [],
   "source": [
    "import ast\n",
    "from src.schema.decisions import CaseBody, Decision\n",
    "\n",
    "decision_list = []\n",
    "\n",
    "for i, row in df1.iterrows():\n",
    "    # Safely evaluate the string representations\n",
    "    try:\n",
    "        citations = ast.literal_eval(row['citations'])\n",
    "    except (ValueError, SyntaxError):\n",
    "        citations = []\n",
    "        \n",
    "    try:\n",
    "        parties = ast.literal_eval(row['judges'])\n",
    "    except (ValueError, SyntaxError):\n",
    "        parties = []\n",
    "        \n",
    "    try:\n",
    "        attorneys = ast.literal_eval(row['attorneys'])\n",
    "    except (ValueError, SyntaxError):\n",
    "        attorneys = []\n",
    "\n",
    "    decision_obj = Decision(\n",
    "        id=row['id'],\n",
    "        decision_date=row['decision_date'],\n",
    "        name=row['name'],\n",
    "        name_abbreviation=row['name_abbreviation'],\n",
    "        citations=citations, \n",
    "        parties=parties,\n",
    "        attorneys=attorneys,\n",
    "        frontend_url=row['url'],\n",
    "        court=row['court_name'],\n",
    "        casebody=CaseBody(\n",
    "            data=row['body'],\n",
    "        )\n",
    "    )\n",
    "    decision_list.append(decision_obj)"
   ]
  },
  {
   "cell_type": "code",
   "execution_count": 28,
   "metadata": {},
   "outputs": [
    {
     "data": {
      "text/plain": [
       "2479"
      ]
     },
     "execution_count": 28,
     "metadata": {},
     "output_type": "execute_result"
    }
   ],
   "source": [
    "len(decision_list)"
   ]
  },
  {
   "cell_type": "code",
   "execution_count": 33,
   "metadata": {},
   "outputs": [
    {
     "name": "stdout",
     "output_type": "stream",
     "text": [
      "OPINION\n",
      "BUSTAMANTE, Judge.\n",
      "{1} This case requires us to examine the scope of workers’ compensation coverage for workers whose work takes them away from home and who are injured while away from home for their employment. We address appeals from a consolidated case before the Workers’ Compensation Administration in which three oil field workers injured in an automobile accident between their work site and their homes sought workers’ compensation benefits for their injuries. The Workers’ Compensation Judge (WCJ) applied the “traveling employee exception” to the “going and coming rule” in awarding benefits to two of the workers but denying benefits to the third. The WCJ ordered that the compensation awards to the two workers be reduced by 30% and 15%, respectively, based on the workers’ violations of certain company safety policies and statutory regulations. We affirm in part, reverse in part, and remand with instructions.\n",
      "FACTS\n",
      "{2} On August 4, 1997, Jose Ramirez, Gabriel Alvarez, and Jesus Cervantes were working as roustabouts, or roughnecks, for Dawson Production Partners, Inc. (Dawson), which operates an oil field well-servicing business. Ramirez, Alvarez, and Cervantes were part of a “pulling unit” crew, the pulling unit being the mobile rig assembly. Dawson’s pulling unit crews consisted of two floor hands, a derrick man, and a rig operator, who oversaw the work of the other crew members. Two such crews, including the one to which Ramirez, Alvarez, and Cervantes were assigned, were working in Men-tone, Texas, on a “fishing” operation; that is, they were working to try to retrieve tubing and wire that were stuck in a drill hole. Mentone, Texas, is approximately ninety miles from Hobbs, New Mexico, where the workers’ lived and where Dawson maintained its home office.\n",
      "{3} When Dawson began the fishing operation in Mentone in March 1997, it expected the job to take approximately two weeks. Dawson provided crew members $50 per day, with which they could pay for lodging and meals in the nearby towns of Kermit or Pecos, Texas, and $6.50 per day for travel, including the day of the car accident, for the approximately one-half hour trip each way between the workers’ lodgings and the oil field. Everyone understood the purpose of the per diem money; most used it to stay at a motel in Pecos. But workers were not directed specifically on how they were to spend the money, and they received the money even if they did not stay in Pecos on work nights. Dawson also initially provided transportation between Mentone and Hobbs on the workers’ days off.\n",
      "{4} The job took much longer than originally expected, and safety became a concern as the two crews worked around the clock with little time off. Sometime before July 1, 1997, Lilo Quiroz, one of the rig operators at Mentone, and Lonnie Stuward, Dawson’s Operations Manager in Hobbs, agreed that crews in Mentone should have an extra member in order for crew members to establish a rotating schedule of regular days off. The idea was that workers would be more well rested and therefore safer as a result of having regularly scheduled days off. In exchange for the extra crew member, however, workers would have to provide their own transportation between Mentone and Hobbs.\n",
      "{5} On August 4, 1997, Ramirez, Alvarez, and Cervantes finished their shift on the pulling unit crew at 5:00 p.m. MDT. Their supervisor, Lilo Quiroz, drove them from the rig site to Mentone, where the three got into a pickup truck Ramirez had borrowed from his cousin. They set out for Hobbs, stopping for a six pack of beer along the way. Five miles north of Kermit, Texas, the truck’s left rear tire blew while the truck was traveling at over eighty miles per hour. Ramirez, the driver, lost control of the truck. It swerved and skidded and rolled at least three times before coming to rest on the side of the road. All three workers were ejected from the truck and seriously injured. Ramirez died as a result of his injuries. None of the three was wearing a seat belt, although the seat belt where Alvarez was sitting was broken. All had drunk beer, but none had a significant blood-alcohol concentration. The WCJ found the levels of blood alcohol to be “very low.”\n",
      "{6} After a hearing, the WCJ awarded benefits to Ramirez’ estate and to Alvarez, based on the conclusion that Ramirez and Alvarez, as traveling employees, were injured within the course and scope of their employment while traveling to Hobbs. She denied benefits to Cervantes, however, because she concluded he was outside the scope of his employment.\n",
      "DISCUSSION\n",
      "{7} Under New Mexico’s Workers’ Compensation Act, NMSA 1978, §§ 52-1-1 to -70 (1929, as amended through 1999) (the Act), workers injured while traveling between home and work are generally not eligible for compensation. See § 52-1-19 (excluding from compensation “injuries to any worker occurring while on his way to assume the duties of his employment or after leaving such duties”). In this respect, the Act codifies what is commonly known in workers’ compensation law as the “going-and-coming rule.” See Espinosa v. Albuquerque. Publ’g Co., 1997-NMCA-072, ¶ 8, 123 N.M. 605, 943 P.2d 1058. “This rule arises from the recognition that, ‘while admittedly the employment is the cause of the workman’s journey between his home and the factory, it is generally taken for granted that workmen’s compensation was not intended to protect him against all the perils of that journey.’ ” Id. (quoting 1 Arthur Larson & Lex K. Larson, Larson’s Workers’ Compensation Law § 15.11 (1996)). The going-and-coming rule is subject to a number of exceptions, though, as we have recognized on several occasions. See Espinosa, 1997-NMCA-072, ¶ 8, 123 N.M. 605, 943 P.2d 1058 (“Off-premises injuries sustained while going to or from work are not covered under the [Act] unless they fit within one of several specific exceptions to the going-and-coming rule.”); see also Barton v. Las Cositas, 102 N.M. 312, 315, 694 P.2d 1377, 1380 (Ct.App.1984) (“If the employee’s work creates the necessity for the travel, then any injury during travel (except for that governed by the ‘going and coming rule’) is compensable.”). One of those exceptions — the “traveling-employee” exception— is at issue in this ease.\n",
      "{8} Before discussing the traveling-employee rule in detail, however, we think it necessary to address Dawson’s argument that our Legislature’s rejection of the rule of liberal construction of the Act in favor of workers precludes us from adopting the traveling-employee rule in this case. See NMSA 1978, § 52-5-1 (1989) (“It is the specific intent of the legislature that benefit claims eases be decided on their merits and that the common law rule of ‘liberal construction’ based on the supposed ‘remedial’ basis of workers’ benefits legislation shall not apply in these eases.”). We do not agree with Dawson’s contention. Liberal construction was “but one of many tools employed by our appellate courts in construing workers’ compensation legislation. Liberal construction has historically been tempered by attention to legislative intent and balanced against sound reason and policy. Fundamental fairness to both the workers and employers has long been a guideline.” Garcia v. Mt. Taylor Millwork, Inc., 111 N.M. 17, 19, 801 P.2d 87, 89 (Ct.App.1989) (citation omitted). “Section 52-5-1 [simply] calls for a balanced and evenhanded construction of the Workers’ Compensation Act.” Gomez v. B.E. Harvey Gin Corp., 110 N.M. 100, 102, 792 P.2d 1143, 1145 (1990).\n",
      "{9} As our discussion below indicates, the traveling-employee rule recognizes that the conditions faced by employees working “on the road,” away from home and away from their employer’s home office, are sufficiently different from the conditions faced by employees merely going to or from their local place of employment on a daily basis to warrant a distinct rule. We need not construe the Act liberally to apply a rule appropriate to the circumstances in which Dawson and its employees working at Mentone found themselves at the time of the accident. Instead, evenhanded construction of the Act requires us to recognize the conditions traveling employees face. Cf. Iliaifar v. SAIF Corp., 160 Or.App. 116, 981 P.2d 353, 356 (1999) (noting Oregon’s longstanding recognition of exceptions to going-and-coming rule without reference to passage in 1995 of Or. Rev.Stat.Ann. § 656-012(3) (Supp.1998) abrogating liberal construction of Oregon’s workers’ compensation statute).\n",
      "{10} Dawson also argues that we have already rejected the traveling-employee exception with our decision in Arias v. AAA Landscaping, 115 N.M. 239, 849 P.2d 382 (Ct.App.1993), implicitly acknowledging our ability to adopt the traveling-employee exception despite the Legislature’s direction that courts not construe the Act liberally. We concede that the facts in Arias bear some similarity to the facts in this case. See id. at 239-40, 849 P.2d at 382-83. However, in Arias we were concerned with three distinct exceptions to the going-and-coming rule: the “employer’s conveyance exception,” see id. at 240, 849 P.2d at 383 (citing 1 Arthur Larson, Larson’s Workers’ Compensation Law § 17.00 (1992)); the “special errand exception,” see id. (citing Edens v. New Mexico Health & Soc. Servs. Dep’t, 89 N.M. 60, 547 P.2d 65 (1976); Avila v. Pleasuretime Soda, Inc., 90 N.M. 707, 568 P.2d 233 (Ct. App.1977)); and the “dual purpose exception,” see id. at 241, 849 P.2d at 384 (citing and quoting Wilson v. Rowan Drilling Co., 55 N.M. 81, 92, 227 P.2d 365, 372 (1950)); cf. Clark v. Electronic City, 90 N.M. 477, 480-81, 565 P.2d 348, 351-52 (Ct.App.1977) (discussing development of dual-purpose doctrine in New Mexico). Anas does not discuss the traveling-employee exception at all, and we adhere to the rale that cases are not authority for propositions they do not consider. See Fernandez v. Farmers Ins. Co., 115 N.M. 622, 627, 857 P.2d 22, 27 (1993). We therefore turn to the traveling-employee exception and its applicability in this case.\n",
      "The Traveling-Employee Exception\n",
      "{11} “The general rule is that an employee whose work entails travel away from the employer’s premises is, in most circumstances, under continuous workers’ compensation coverage from the time he leaves home until he returns.” Voight v. Rettinger Transp., Inc., 306 N.W.2d 133, 136 (Minn.1981); see also 2 Arthur Larson & Lex K. Larson, Larson’s Workers’ Compensation Law § 25.01 (1999). Stated otherwise,\n",
      "An employee who is taken away from home by his or her employment and who of necessity must eat and sleep away from home in order to further the employer’s business may be considered to be in the continuous employment of the employer, day and night. In such a case, “ ‘[i]t can not [sic] be said that the employment is broken by mere intervals of leisure such as those taken for a meal.’ ”\n",
      "Boyd Bros. Transp. Co. v. Fonville, 237 Ga. App. 721, 516 S.E.2d 573, 574 (1999) (citing and quoting McDonald v. State Highway Dep’t., 127 Ga.App. 171, 192 S.E.2d 919, 922-23 (1972)) (first alteration in original) (citation omitted). A traveling employee is not simply one who must travel significant distances to and from his job, however. “Traveling employees are employees for whom travel is an integral part of their jobs, such as those who travel to different locations to perform their duties, as differentiated from employees who commute daily from home to a single workplace.” Boyce v. Potter, 642 A.2d 1342, 1343 (Me.1994).\n",
      "{12} “The rationale behind the traveling employee rule is that an employee who is required to travel away from home is furthering the business of his employer as he eats, sleeps, and performs other acts necessary to his health and comfort during his travels.” Olinger Constr. Co. v. Mosbey, 427 N.E.2d 910, 915 (Ind.Ct.App.1981). In addition, “[w]here the employment requires travel, the employee is consequently exposed to hazards [he or] she would otherwise have the option of avoiding. Thus the hazards of the route become the hazards of the employment.” Appeal of Griffin, 140 N.H. 650, 671 A.2d 541, 544 (1996) (quoting Whittemore v. Sullivan County Homemaker’s Aid Serv., 129 N.H. 432, 529 A.2d 919, 921 (1987)) (internal quotation marks omitted) (second alteration in original). But,\n",
      "[i]t is not merely travel on a highway that creates a risk of compensable injury; if that were so, every ordinary commuter would be covered under the Act. Rather, it is the job’s requirement of travel and the employer’s authority and control in assigning its employees to different work sites that increase the normal risk and render compensable ... injuries] suffered during such travel.\n",
      "Boyce, 642 A.2d at 1344. In this respect, traveling employees have been regarded as having a “sui generis status since their work necessarily requires that they be away from home.” Voight, 306 N.W.2d at 138.\n",
      "{13} We note that some jurisdictions have extended coverage to injuries a traveling employee suffers during “leisure” activities, other than eating or sleeping, while away from home. See, e.g., Arkansas Dep’t of Health v. Huntley, 12 Ark.App. 287, 675 S.W.2d 845, 848-49 (1984) (extending coverage to woman injured by intoxicated stranger while returning to her motel room from motel’s bar); Bagcraft Corp. v. Industrial Comm’n, 302 Ill.App.3d 334, 235 Ill.Dec. 736, 705 N.E.2d 919, 923 (1998) (injuries from an all-terrain vehicle accident covered); Proctor v. SAIF Corp., 123 Or.App. 326, 860 P.2d 828, 831-32 (1993) (injuries suffered during basketball game covered). The reason for extending coverage to some injuries incurred during recreational activities is that employers should expect their traveling employees to engage in some sort of recreation while on the road. See Bagcraft Corp., 235 Ill.Dec. 736, 705 N.E.2d at 921. Moreover, given the rationale behind the exception, it would make little sense to provide coverage for traveling employees only while they are actually performing the duties of their jobs. See id. Thus, “[a] traveling employee may satisfy a physical need for recreation even if the job does not cause stress, and even if the employee chooses an activity that is not related to work. As the cases show, most traveling employees relax through activities that have little relationship to work.” Proctor, 860 P.2d at 831.\n",
      "{14} Coverage for traveling employees injured while away from home is not limitless, however. While a traveling employee is considered to be acting within the scope of his or her employment while on the road, one seeking compensation for an injury must still demonstrate that the injury “arose out of and in the course of employment.” See Jensen v. Industrial Comm’n, 305 Ill.App.3d 274, 238 Ill.Dec. 468, 711 N.E.2d 1129, 1132-33 (1999); see also Kolson v. District of Columbia Dep’t of Employment Servs., 699 A.2d 357, 360-61 (D.C.1997); NMSA 1978, § 52-l-28(A)(l). The phrase “in the course of,” we have previously noted, “refers to the time, place, and circumstances under which the injury occurred.” Gutierrez v. Amity Leather Prods. Co., 107 N.M. 26, 29, 751 P.2d 710, 713 (Ct.App.1988). In contrast, “[a]n injury arises out of the employment when it is ‘caused by a risk to which the worker is subjected in the employment.’ ” Sena v. Continental Cas. Co., 97 N.M. 753, 755, 643 P.2d 622, 624 (Ct.App.1982) (quoting Losinski v. Drs. Corcoran, Barkoff & Stagnone, P.A., 97 N.M. 79, 80, 636 P.2d 898, 899 (Ct.App.1981)). “For an injury to ‘arise out of the employment, there must be a showing that the injury was caused by a risk to which the plaintiff is subjected by reason of his employment.” Gutierrez, 107 N.M. at 29, 751 P.2d at 713. “Typically, an injury ‘arises out of a claimant’s employment if, at the time of the occurrence, the claimant was performing acts the employer instructed the claimant to perform, acts incidental to the claimant’s assigned duties, or acts which the claimant had a common law or statutory duty to perform.” Jensen, 238 Ill.Dec. 468, 711 N.E.2d at 1132. Determining whether a worker’s injury arose out of his employment is a question of fact. See Cox v. Chino Mines/Phelps Dodge, 115 N.M. 335, 337, 850 P.2d 1038, 1040 (Ct.App.1993). “However, where the historical facts of the case are undisputed, as in this case, the question of whether the accident arose out of the employment is a question of law.” Id.\n",
      "{15} Several jurisdictions have held that the requirements that an injury arise out of and in the course of employment are met if the traveling employee was injured while engaging in an activity that was both reasonable and foreseeable. See Huntley, 675 S.W.2d at 848; Bagcraft, 235 Ill.Dec. 736, 705 N.E.2d at 921; Voight, 306 N.W.2d at 138. Other jurisdictions have held that a traveling employee is covered unless he was injured during a distinct departure from his employment for a personal errand. See Eversman v. Concrete Cutting & Breaking, 224 Mich.App. 221, 568 N.W.2d 387, 389 (1997); see also Evans v. Workmen’s Compensation Appeal Board (Hotwork, Inc.), 664 A.2d 216, 219 (Pa.Cmwlth.1995) (allowing employer to rebut presumption that traveling employee was furthering employer’s business by proving “that the claimant’s actions were so foreign to and removed from his usual employment as to constitute an abandonment thereof’). These tests are fine, as far as they go. But they can put an undue burden on employers. Cf. Voight, 306 N.W.2d at 135, 138 (reversing denial of compensation to claimant who was accidentally shot by intoxicated fellow employee “attempt[ing] to generate some excitement” because claimant’s trip to the bar “for recreational purposes was a reasonable activity and therefore incident to the employment relationship”).\n",
      "{16} At least one of the jurisdictions that employs the reasonable-and-foreseeable test has sought to limit the test’s reach by imposing an additional requirement for compensation. The Illinois Appellate Court recently held that an injury incurred in an otherwise reasonable and foreseeable recreational activity will not be compensable if the activity was conducted in an unreasonable or unforeseeable manner. See Jensen, 238 Ill.Dec. 468, 711 N.E.2d at 1133. We agree that this should be part of the analysis. We also join those jurisdictions that hold that the activity giving rise to the injury must confer some benefit on the employer; that it must be reasonably related or incidental to employment. See Benson v. Colorado Compensation Ins. Auth., 870 P.2d 624, 627 (Colo.Ct.App.1994) (holding that the traveling-employee exception applies, in part, “when the travel confers a benefit on the employer beyond the sole fact of the employee’s arrival at work”); Kolson, 699 A.2d at 361 (“[W]hen a traveling employee is injured while engaging in a reasonable and foreseeable activity that is reasonably related to or incidental to his or her employment, the injury arises in the course of employment.”); Indiana & Mich. Elec. Co. v. Morgan, 494 N.E.2d 991, 994 (Ind.Ct.App.1986) (“Activities which advance, either directly or indirectly, an employer’s interests or are for the mutual benefit of the employer and employee may be incidental to and arise in the course of employment.”). This is consistent with our position in earlier cases “that an injury occurs in the course of employment when it takes place within the period of employment, at a place where the employee may reasonably be, and while the employee is reasonably fulfilling the duties of employment or doing something incidental to it.” Kloer v. Municipality of Las Vegas, 106 N.M. 594, 597, 746 P.2d 1126, 1129 (Ct.App.1987); accord Garcia v. Homestake Mining Co., 113 N.M. 508, 511, 828 P.2d 420, 423 (Ct.App. 1992); cf. Evans v. Valley Diesel, 111 N.M. 556, 559, 807 P.2d 740, 743 (1991) (reversing this Court’s denial of compensation and citing Moer for the proposition that the employee’s injury arose out of his employment because his employer derived intangible benefit from the activity the employee was engaged in when injured).\n",
      "{17} In sum, we hold that one whose work not only requires him to travel but for whom travel is an integral part of his employment is within the scope of employment continuously while traveling, and may therefore be eligible for workers’ compensation benefits as a traveling employee for injuries he sustains while away from home. The injury must, however, arise out of and in the course of employment, which means that it must occur during the commission of an activity that is reasonable and foreseeable both as to its nature and manner of commission, and must be of some benefit to the employer. The benefit to the employer need not be pecuniary, and may be as intangible as a well-fed and well-rested employee.\n",
      "{18} In this case, the WCJ applied the correct test in deciding whether to award benefits to Ramirez, Alvarez, and Cervantes. The WCJ found that the trip by Ramirez arose out of and in the course of his employment because the primary purposes of the trip were (1) to transport Alvarez to Hobbs so that Alvarez could begin his scheduled days off; and (2) to transport dirty uniforms, in part at the request of his supervisor, Lilo Quiroz, for laundering at the Hobbs yard the next day. These were both reasonable and foreseeable, and they benefitted Dawson by helping to ensure that Alvarez would be rested when he returned to work and that those whose uniforms Ramirez was transporting for laundering would have uniforms that met industry standards for safety. Thus, the WCJ properly awarded compensation to Ramirez’ estate.\n",
      "{19} About the awarding of benefits to Alvarez, little needs to be said. He was returning to Hobbs to begin his days off, as would be expected. The benefit to Dawson is exactly what was contemplated by the 1997 agreement: having a well-rested employee. And Alvarez arranged for a ride in a co-worker’s vehicle, as was necessary under the 1997 agreement. We note, as did the WCJ, that the 1997 agreement between Lilo Quiroz and Lonnie Steward conferred an incidental benefit on Dawson, saving it the expense of using one of its vehicles to transport workers back and forth from Hobbs to Mentone. The WCJ properly awarded compensation to Alvarez.\n",
      "{20} The WCJ concluded Cervantes’ injuries were not compensable because they did not arise out of and in the course of his employment. Although Cervantes was also taking his uniforms to Hobbs for cleaning, it was not necessary for him to accompany Ramirez and Alvarez, insofar as they were making the trip and transporting uniforms anyway. Regarding the other reason Cervantes offered for going along on the trip—to keep Ramirez company on the return trip the following morning—the WCJ concluded that conferred no benefit on Dawson and that Cervantes was therefore not entitled to compensation benefits. We agree. Traveling back and forth from Mentone to Hobbs too frequently would have exposed workers to the very safety risk Dawson sought to remedy by encouraging workers to stay in the Mentone area—insufficient rest. We therefore hold that the WCJ properly denied benefits to Cervantes.\n",
      "The WCJ’s Reduction of Workers’ Benefits\n",
      "{21} As we noted at the outset, despite awarding compensation benefits to Ramirez and Alvarez, the WCJ concluded that their compensation awards should be reduced because both had consumed alcohol during the drive and neither was wearing a seat belt. Specifically, the WCJ ordered a 10% reduction in benefits for both Ramirez and Alvarez for consuming alcohol during the drive, and ordered an additional 10% reduction in Ramirez’ benefits for failing to wear a seat belt, but only an additional 5% reduction in Alvarez’ benefits for failing to wear a seat belt, because the seat belt where he was sitting was inoperative. Finally, the WCJ ordered that Ramirez’ benefits be further reduced by 10% because he was speeding at the time of the accident.\n",
      "{22} The Act does provide for a reduction- in compensation to an injured worker under certain circumstances:\n",
      "In case an injury to, or death of, a worker results from his failure to observe statutory regulations appertaining to the safe conduct of his employment or from his failure to use a safety device provided by his employer, then the compensation otherwise payable under the ..'. Act ... shall be reduced ten percent.\n",
      "Section 52-l-10(A). By the terms of the statute, in order for a reduction to be appropriate the employee’s statutory violation or failure to use a safety device must have caused his injury. “In the absence of a showing of causation, no issue of entitlement to the penalty is raised.” Boughton v. Western Nuclear, Inc., 99 N.M. 723, 726, 663 P.2d 382, 385 (Ct.App.1983).\n",
      "{23} With respect to Ramirez’ and Alvarez’ consumption of alcohol and failure to wear seat belts, the record is devoid of evidence that those factors caused their injuries. In fact, the WCJ specifically found that “Mr. Ramirez’s consumption of alcohol did not contribute to the accident in which he was injured”; that the accident due to a blown tire might well have occurred even if the workers had not had any alcohol to drink. On the use of seat belts, Dawson does not point to any evidence, nor have we found any, to indicate that the workers’ failure in this regard caused their injuries. Instead, Dawson argues that “as a matter of common sense” the workers were ejected from the vehicle because they were not wearing seat belts, which “tends to lead to enhanced injuries.” Dawson also argues that the WCJ made an “implicit finding” that Ramirez’ and Alvarez’ failure to wear seat belts was a cause of their injuries. Of course, an implicit finding of causation is not a showing of causation. Dawson simply failed to present any evidence showing enhanced injury due to nonuse of seat belts, and we reject Dawson’s invitation to speculate to that effect.\n",
      "{24} The WCJ reduced Ramirez’ and Alvarez’ compensation awards nonetheless based on the finding that their consumption of alcohol and their failure to wear seat belts were in violation of Dawson’s safety policies. But Section 52-l-10(A) does not provide for a reduction in benefits when an employee simply violates company policies in the absence of evidence that the violation caused the injury, which Dawson did not produce. The WCJ was therefore incorrect in reducing Ramirez’ and Alvarez’ compensation awards on that basis. We reverse two of the 10% reductions for Ramirez. We also reverse the 15% reduction for Alvarez and note that, not only does Section 52-l-10(A) not provide for a 5% reduction in benefits, we also think it improper to penalize a worker for violating a regulation or failing to use a safety device (the non-operational seat beat) when the violation or failure was beyond his control.\n",
      "{25} In contrast, the WCJ found, based on the opinions of the officer who investigated the accident, that excessive speed was one of the causes of the accident. Por a traveling employee who is driving while in the course and scope of his employment, observing the posted speed limit is a “statutory regulation}] appertaining to the safe conduct of his employment.” Section 52-l-10(A). Thus, in light of the WCJ’s findings that speeding was a contributing cause of the accident (and therefore the injuries), it was proper to reduce Ramirez’ compensation award by 10%. As a mere passenger, Alvarez is not affected by this ruling. Because of our disposition of the other two reductions to Ramirez’ compensation award, we need not decide whether Section 52-1-10(A) authorizes multiple 10% reductions in a single accident for each safety violation or failure to use a safety device.\n",
      "CONCLUSION\n",
      "{26} We affirm the award of compensation to Ramirez and Alvarez based on the WCJ’s conclusion that the two were traveling-employees injured in the course and scope of their employment. We reverse the WCJ’s order of a 15% reduction in Alvarez’ compensation award for the reasons discussed above, and hold that Alvarez is not subject to any reduction. We likewise reverse the WCJ’s order of a reduction in Ramirez’ compensation award, except the 10% reduction based on the findings related to his driving in excess of the posted speed limit. We affirm the denial of benefits to Cervantes. We remand for the entry of a new order consistent with this opinion.\n",
      "{27} IT IS SO ORDERED.\n",
      "BOSSON and ARMIJO, JJ., concur.\n"
     ]
    }
   ],
   "source": [
    "print(decision_list[0].text)"
   ]
  },
  {
   "cell_type": "code",
   "execution_count": null,
   "metadata": {},
   "outputs": [],
   "source": []
  },
  {
   "cell_type": "code",
   "execution_count": null,
   "metadata": {},
   "outputs": [],
   "source": []
  },
  {
   "cell_type": "code",
   "execution_count": null,
   "metadata": {},
   "outputs": [],
   "source": []
  },
  {
   "cell_type": "code",
   "execution_count": null,
   "metadata": {},
   "outputs": [],
   "source": []
  },
  {
   "cell_type": "code",
   "execution_count": 19,
   "metadata": {},
   "outputs": [
    {
     "name": "stdout",
     "output_type": "stream",
     "text": [
      "court_name\n",
      "Massachusetts Superior Court                                             20\n",
      "United States Court of Appeals for the Eleventh Circuit                  20\n",
      "United States Court of Appeals for the Eighth Circuit                    20\n",
      "United States District Court for the District of Massachusetts           18\n",
      "United States Court of Appeals for the First Circuit                     18\n",
      "United States Court of Appeals for the Seventh Circuit                   18\n",
      "Minnesota Supreme Court                                                  18\n",
      "New Jersey Superior Court, Appellate Division                            17\n",
      "Court of Appeals of Georgia                                              16\n",
      "Court of Appeals of Indiana                                              15\n",
      "Court of Appeal of Louisiana, Third Circuit                              15\n",
      "Superior Court of Pennsylvania                                           14\n",
      "Supreme Court of the United States                                       14\n",
      "United States District Court for the Middle District of Florida          13\n",
      "Wisconsin Court of Appeals                                               13\n",
      "United States District Court for the District of Columbia                13\n",
      "Massachusetts Appellate Division                                         12\n",
      "Oklahoma Court of Civil Appeals                                          11\n",
      "United States District Court for the Eastern District of Pennsylvania    11\n",
      "United States Court of Appeals for the Tenth Circuit                     11\n",
      "Court of Appeals of Virginia                                             10\n",
      "Court of Appeal, Fifth District, California                              10\n",
      "United States District Court for the District of Connecticut             10\n",
      "Kansas Court of Appeals                                                  10\n",
      "Massachusetts Appeals Court                                              10\n",
      "Commonwealth Court of Pennsylvania                                       10\n",
      "Name: count, dtype: int64\n"
     ]
    }
   ],
   "source": [
    "court_name_counts = df1['court_name'].value_counts()\n",
    "court_name_counts_between_10_and_20 = court_name_counts[(court_name_counts >= 10) & (court_name_counts <= 20)]\n",
    "print(court_name_counts_between_10_and_20)"
   ]
  },
  {
   "cell_type": "code",
   "execution_count": 56,
   "metadata": {},
   "outputs": [
    {
     "data": {
      "text/plain": [
       "(14, 16)"
      ]
     },
     "execution_count": 56,
     "metadata": {},
     "output_type": "execute_result"
    }
   ],
   "source": [
    "la_third = filtered_df[filtered_df['court_name']=='Court of Appeal of Louisiana, Third Circuit']\n",
    "la_third = la_third[la_third['year']>2017]\n",
    "la_third.sort_values(by='decision_date', inplace=True)\n",
    "la_third.shape"
   ]
  },
  {
   "cell_type": "code",
   "execution_count": 70,
   "metadata": {},
   "outputs": [
    {
     "data": {
      "text/markdown": [
       "AMY, Judge.\r\n",
       "This dispute arises from an automobile accident between the plaintiff, Gerald Janise, and William Gerard, who was operating an Acadian Ambulance vehicle at the time of the collision. Following the accident, the plaintiff filed a petition for damages against Mr. Gerard, Acadian Ambulance, and the company's insurer. The jury ultimately found in favor of the defendants, and the plaintiff now appeals. For the following reasons, we affirm.\r\n",
       "Factual and Procedural Background\r\n",
       "On April 16, 2013, at the intersection of the Evangeline Thruway and Mudd Avenue in Lafayette, the plaintiff, Gerald Janise, was involved in an automobile accident with William Gerard, an operations supervisor for Acadian Ambulance Service, Inc. (hereafter referred to as \"Acadian Ambulance\"), who was driving a company vehicle. Subsequently, Mr. Janise filed a petition for damages, naming Mr. Gerard, Acadian Ambulance, and their insurer, Liberty Mutual Insurance Company (hereafter referred to as \"Liberty Mutual\"), as defendants. The petition alleged: \"When confronted with a red light ..., William J. Gerard, with wanton disregard and gross negligence, failed to obey the traffic control signal, failed to secure a proper lookout, and failed to proceed through the intersection with caution, thereby causing the collision with Gerald Janise's vehicle.\" The petition further alleged that, as a result of the collision, the plaintiff sustained bodily injury, particularly to his head, neck, and back. The defendants answered, responding, in pertinent part: \"Defendant avers that, by statute, it is entitled to qualified immunity due to the use of the ambulance's lights and siren, and, therefore, may not be held liable in this matter in the absence of gross negligence, which is expressly denied.\"\r\n",
       "Thereafter, the defendants filed a motion for summary judgment, arguing that, under La.R.S. 32:24, which is set forth in pertinent part below, \"the driver of an emergency vehicle can be held liable only if his"
      ],
      "text/plain": [
       "<IPython.core.display.Markdown object>"
      ]
     },
     "execution_count": 70,
     "metadata": {},
     "output_type": "execute_result"
    }
   ],
   "source": [
    "sample_test = la_third['body'].sample(1).tolist()[0]\n",
    "\n",
    "Markdown(sample_test[:2000])"
   ]
  },
  {
   "cell_type": "code",
   "execution_count": 76,
   "metadata": {},
   "outputs": [],
   "source": [
    "from typing import List\n",
    "from typing_extensions import Annotated\n",
    "from pydantic import BaseModel, Field\n",
    "from src.utils.pydantic_utils import flatten_pydantic_instance\n",
    "\n",
    "class AnalysisSection(BaseModel):\n",
    "    \"\"\"A concise legal analysis leading to a decision.\"\"\"\n",
    "    \n",
    "    rules: str = Field(\n",
    "        ...,\n",
    "        description=\"Concise explanation of how the Court's considers relevant statutes, interpretations, standards, and tests applicable to this case\",\n",
    "    )\n",
    "    case_law: str = Field(\n",
    "        ...,\n",
    "        description=\"Names and or citations of cases reviewed by the Court and analysis of how the Court relates those cases to the Issues Presented\",\n",
    "    )\n",
    "    application: str = Field(\n",
    "        ...,\n",
    "        description=\"Concise explanation of how the Rules and Case Law help the Court reach its conclusions.\",\n",
    "    )\n",
    "\n",
    "\n",
    "class CaseBrief(BaseModel):\n",
    "    \"\"\"A well structured and concise legal case brief.\"\"\"\n",
    "    \n",
    "    case_name: str = Field(\n",
    "        ...,\n",
    "        description=\"The name of the case, if possible include the court and year.\",\n",
    "    )\n",
    "    issues_presented: str = Field(\n",
    "        ...,\n",
    "        description=\"The issues the Court must resolve\",\n",
    "    )\n",
    "    facts_of_the_case: str = Field(\n",
    "        ...,\n",
    "        description=\"A concise summary of the facts, parties involved, and the events leading to this case.\",\n",
    "    )\n",
    "    procedural_history: str = Field(\n",
    "        ...,\n",
    "        description=\"A district court case summary, appeals court case summary, or otherwise how this issue reached this Court.\",\n",
    "    )\n",
    "    analysis: AnalysisSection = Field(\n",
    "        ...,\n",
    "        description=\"A legal analysis leading to a decision.\",\n",
    "    )\n",
    "    conclusion: str = Field(\n",
    "        ...,\n",
    "        description=\"The Court's ruling on the Issues Presented.\",\n",
    "    )\n",
    "    winner: str = Field(\n",
    "        ...,\n",
    "        description=\"The entity or role that the Court decided in favor of.\",\n",
    "    )\n",
    "    @property\n",
    "    def to_pandas(self):\n",
    "        flat_model = flatten_pydantic_instance(self)\n",
    "        return pd.DataFrame([flat_model])\n",
    "\n",
    "    \n",
    "CaseBrief.model_rebuild()"
   ]
  },
  {
   "cell_type": "code",
   "execution_count": 77,
   "metadata": {},
   "outputs": [],
   "source": [
    "from tenacity import Retrying, stop_after_attempt, wait_fixed\n",
    "import instructor\n",
    "import openai\n",
    "\n",
    "\n",
    "def generate_case_brief(text: str) -> CaseBrief:\n",
    "    client = instructor.patch(openai.OpenAI())\n",
    "    return client.chat.completions.create(\n",
    "        model=\"gpt-4-1106-preview\",\n",
    "        response_model=CaseBrief,\n",
    "        max_retries=Retrying(\n",
    "            stop=stop_after_attempt(5),\n",
    "            wait=wait_fixed(1),\n",
    "        ),\n",
    "        messages=[\n",
    "            {\n",
    "                \"role\": \"system\",\n",
    "                \"content\": \"You are a world class legal AI specializing in document extraction and summarization.\",\n",
    "            },\n",
    "            {\n",
    "                \"role\": \"user\",\n",
    "                \"content\": f\"Compose a case brief using only information from the Context. Working step by step, organize the Context outline into well-structured paragraphs.\\n\\nHere is the Context: {text}\",\n",
    "            },\n",
    "        ],\n",
    "    )"
   ]
  },
  {
   "cell_type": "code",
   "execution_count": 78,
   "metadata": {},
   "outputs": [
    {
     "name": "stdout",
     "output_type": "stream",
     "text": [
      "Case 1 of 14:\n",
      "Analyzing case: Zaunbrecher ex rel. Father v. Martin, decided on: 2018-03-21 00:00:00...\n",
      "Ruling favors: Defendants/Relators Marissa Martin, Nathan Ponthier, and Jeremy Ponthieux\n",
      "Case 2 of 14:\n",
      "Analyzing case: Janise v. Acadian Ambulance Serv., Inc., decided on: 2018-04-25 00:00:00...\n",
      "Ruling favors: William Gerard, Acadian Ambulance Service, Inc., and Liberty Mutual Insurance Company\n",
      "Case 3 of 14:\n",
      "Analyzing case: Talbot v. Mouton Plumbing & Hauling, Inc., decided on: 2018-04-25 00:00:00...\n",
      "Ruling favors: Partially Talbot, with other issues remanded for further proceedings\n",
      "Case 4 of 14:\n",
      "Analyzing case: Ortega v. Cantu Servs., Inc., decided on: 2018-05-02 00:00:00...\n",
      "Ruling favors: Cantu Services, Inc. and Liberty Mutual Insurance Company\n",
      "Case 5 of 14:\n",
      "Analyzing case: Blanchard v. Hicks, decided on: 2018-05-02 00:00:00...\n",
      "Ruling favors: GoAuto Insurance Company and Demetrius J. Hicks\n",
      "Case 6 of 14:\n",
      "Analyzing case: Gaspard v. Horace Mann Ins. Co., decided on: 2018-05-09 00:00:00...\n",
      "Ruling favors: Allstate Insurance Company\n",
      "Case 7 of 14:\n",
      "Analyzing case: Noles-Frye Realty v. Dixon, decided on: 2018-05-09 00:00:00...\n",
      "Ruling favors: Andrea Soltau-Talbot, the Buyer\n",
      "Case 8 of 14:\n",
      "Analyzing case: Adams v. Ga. Gulf Lake Charles, LLC, decided on: 2018-06-27 00:00:00...\n",
      "Ruling favors: Joseph Adams\n",
      "Case 9 of 14:\n",
      "Analyzing case: Walker v. Manitowoc Co., decided on: 2018-10-10 00:00:00...\n",
      "Ruling favors: Defendants/Applicants - Manitowoc Cranes, LLC, Westchester Fire Insurance Co., and The Manitowoc Company, Inc.\n",
      "Case 10 of 14:\n",
      "Analyzing case: Walker v. Manitowoc Co., decided on: 2018-10-10 00:00:00...\n",
      "Ruling favors: Defendants/Appellees\n",
      "Case 11 of 14:\n",
      "Analyzing case: Vanek v. Robertson, decided on: 2018-12-06 00:00:00...\n",
      "Ruling favors: Plaintiff (Michael D. Vanek and Vanek Real Estate, LLC)\n",
      "Case 12 of 14:\n",
      "Analyzing case: Liberty Mut. Fire Ins. Co. v. Randall J. Hebert & Assocs., Inc., decided on: 2019-02-06 00:00:00...\n",
      "Ruling favors: St. Martin Economic Development Authority (SMEDA)\n",
      "Case 13 of 14:\n",
      "Analyzing case: Guilbeau v. Liberty Mut. Fire Ins. Co., decided on: 2019-03-07 00:00:00...\n",
      "Ruling favors: Defendants/Appellants\n",
      "Case 14 of 14:\n",
      "Analyzing case: Mitchell v. Alliance Compressors, decided on: 2019-05-01 00:00:00...\n",
      "Ruling favors: Alliance Compressors\n"
     ]
    }
   ],
   "source": [
    "results = []\n",
    "n = len(la_third)\n",
    "i = 1\n",
    "\n",
    "for _, row in la_third.iterrows():\n",
    "    print(f\"Case {i} of {n}:\")\n",
    "    print(f\"Analyzing case: {row['name_abbreviation']}, decided on: {str(row['decision_date'])}...\")\n",
    "    text = row['body']\n",
    "    case_brief = generate_case_brief(text)\n",
    "    print(f\"Ruling favors: {case_brief.winner}\")\n",
    "    case_df = case_brief.to_pandas\n",
    "    case_df['id'] = row['id']\n",
    "    results.extend([case_df])\n",
    "    i += 1"
   ]
  },
  {
   "cell_type": "code",
   "execution_count": 89,
   "metadata": {},
   "outputs": [
    {
     "data": {
      "text/plain": [
       "\"(1) Whether the trial court erred in calculating the 'buy back' amount under La.R.S. 23:1102(B).\\n(2) Whether Talbot satisfied the necessary 'buy back' amount under La.R.S. 23:1102(B).\\n(3) Whether Talbot is entitled to additional credit against future workers' compensation benefits.\\n(4) Whether the trial court properly calculated the dollar for dollar credit against future compensation owed by Talbot.\""
      ]
     },
     "execution_count": 89,
     "metadata": {},
     "output_type": "execute_result"
    }
   ],
   "source": [
    "results[2]['issues_presented'].tolist()[0]"
   ]
  },
  {
   "cell_type": "code",
   "execution_count": 91,
   "metadata": {},
   "outputs": [
    {
     "data": {
      "text/markdown": [
       "| case_name                                                                                                                                                   | issues_presented                                                                                                                                                                                                                                                                                                                                                                                                        | facts_of_the_case                                                                                                                                                                                                                                                                                                                                                                                                                                                                                                                                                                                                                                                                                    | proceedural_history                                                                                                                                                                                                                                                                                                                                                                                                                                                                          | analysis__rules                                                                                                                                                                                                                                                                                                                                                                                                                                                         | analysis__case_law                                                                                                                                                                                                                                                                                                                                                                                                                           | analysis__application                                                                                                                                                                                                                                                                                                                                                                                                                                                                                                                 | conclusion                                                                                                                                                                                                                                                                                                                     | winner                                                                                                         |\n",
       "|:------------------------------------------------------------------------------------------------------------------------------------------------------------|:------------------------------------------------------------------------------------------------------------------------------------------------------------------------------------------------------------------------------------------------------------------------------------------------------------------------------------------------------------------------------------------------------------------------|:-----------------------------------------------------------------------------------------------------------------------------------------------------------------------------------------------------------------------------------------------------------------------------------------------------------------------------------------------------------------------------------------------------------------------------------------------------------------------------------------------------------------------------------------------------------------------------------------------------------------------------------------------------------------------------------------------------|:---------------------------------------------------------------------------------------------------------------------------------------------------------------------------------------------------------------------------------------------------------------------------------------------------------------------------------------------------------------------------------------------------------------------------------------------------------------------------------------------|:------------------------------------------------------------------------------------------------------------------------------------------------------------------------------------------------------------------------------------------------------------------------------------------------------------------------------------------------------------------------------------------------------------------------------------------------------------------------|:---------------------------------------------------------------------------------------------------------------------------------------------------------------------------------------------------------------------------------------------------------------------------------------------------------------------------------------------------------------------------------------------------------------------------------------------|:--------------------------------------------------------------------------------------------------------------------------------------------------------------------------------------------------------------------------------------------------------------------------------------------------------------------------------------------------------------------------------------------------------------------------------------------------------------------------------------------------------------------------------------|:-------------------------------------------------------------------------------------------------------------------------------------------------------------------------------------------------------------------------------------------------------------------------------------------------------------------------------|:---------------------------------------------------------------------------------------------------------------|\n",
       "| Zaunbrecher v. Succession of David, et al.                                                                                                                  | Whether the Louisiana Anti-Dram Shop Statute, La.R.S. 9:2800.1, grants statutory immunity to defendants Marissa Martin, Nathan Ponthier, and Jeremy Ponthieux, thereby barring the wrongful death suit arising from a fatal automobile accident caused by an intoxicated individual served alcohol by the defendants.                                                                                                   | On July 11, 2013, Michael Blake Zaunbrecher was killed in a head-on collision with Leo J. David, who was intoxicated. The plaintiff, Zachary Zaunbrecher, filed a suit alleging that David lost control of his vehicle due to his intoxication after being overserved at Paragon Casino Resort, where Marissa Martin served him alcohol, and security guards Nathan Ponthier and Jeremy Ponthieux failed to prevent him from driving away in an intoxicated state.                                                                                                                                                                                                                                   | The trial court dismissed claims against Paragon Casino based on tribal sovereign immunity but was reversed on appeal for the employee defendants. The employees later sought summary judgment based on statutory immunity, which the trial court denied. The employees then filed for supervisory writs challenging the denial of summary judgment.                                                                                                                                         | Under La.R.S. 9:2800.1, a person or entity who sells or serves alcohol is not liable for injuries caused by an intoxicated individual, except when alcohol is provided by force or to minors. Statutory immunity applies to employees of permit holders.                                                                                                                                                                                                                | Louisiana courts, including the Louisiana Supreme Court, have consistently interpreted the statute strictly, denying recovery in similar cases where the statutory conditions for immunity are met.                                                                                                                                                                                                                                          | The defendants have statutory immunity as employees of Paragon, a permit holder. The court found no evidence of force in serving alcohol or service to a minor, thus concluding that the statute applies and bars the suit.                                                                                                                                                                                                                                                                                                           | The writs sought by Marissa Martin, Nathan Ponthier, and Jeremy Ponthieux are granted and made peremptory, dismissing all claims against them with prejudice.                                                                                                                                                                  | Defendants/Relators Marissa Martin, Nathan Ponthier, and Jeremy Ponthieux                                      |\n",
       "| Gerald Janise v. William Gerard, Acadian Ambulance Service, Inc., and Liberty Mutual Insurance Company                                                      | Whether the jury correctly applied the emergency vehicle statute La.R.S. 32:24, determined Gross Negligence, and followed La.Civ.Code art. 2323 regarding the degree or percentage of negligence.                                                                                                                                                                                                                       | On April 16, 2013, in Lafayette, plaintiff Gerald Janise was involved in a collision with William Gerard of Acadian Ambulance while he was responding to an emergency. Janise sued Gerard, Acadian Ambulance, and their insurer, alleging negligence. The jury found in favor of the defendants, leading Janise to appeal on grounds of misapplication of law and failure to award damages.                                                                                                                                                                                                                                                                                                          | A motion for summary judgment by defendants was denied, proceeding to a jury trial where the jury ruled in favor of defendants. Plaintiff's motion for directed verdict was denied. Post-trial, the defendant's motion for a directed verdict was also denied, and the case was appealed.                                                                                                                                                                                                    | Under La.R.S. 32:24, an emergency vehicle is only liable for reckless disregard. The plaintiff must demonstrate that the emergency vehicle did not follow the statute's provision to qualify as 'responding to an emergency'. La.Civ.Code art. 2323 requires determination of negligence degree.                                                                                                                                                                        | Previous cases (such as Lenard v. Dilley and others) established that the statute provides a 'reckless disregard' standard if certain conditions are met.                                                                                                                                                                                                                                                                                    | The court found that Janise did not prove Gerard was not responding to an actual emergency, as Gerard was instructed by dispatch. The jury had a factual basis for finding Gerard exercised 'reckless disregard' or 'gross negligence'.                                                                                                                                                                                                                                                                                               | The appellate court upheld the jury's ruling in favor of the defendants, confirming that the defendant Gerard acted within the prescribed conduct for an emergency vehicle driver responding to an emergency call.                                                                                                             | William Gerard, Acadian Ambulance Service, Inc., and Liberty Mutual Insurance Company                          |\n",
       "| Terrell Talbot v. Mouton Plumbing and Hauling, Inc., Liberty Mutual Insurance Company                                                                       | (1) Whether the trial court erred in calculating the 'buy back' amount under La.R.S. 23:1102(B).; (2) Whether Talbot satisfied the necessary 'buy back' amount under La.R.S. 23:1102(B).; (3) Whether Talbot is entitled to additional credit against future workers' compensation benefits.; (4) Whether the trial court properly calculated the dollar for dollar credit against future compensation owed by Talbot.  | Terrell Talbot was involved in a work-related car accident and received workers' compensation benefits from his employer, Mouton Plumbing, and its insurer, Liberty Mutual. Subsequently, Talbot settled a lawsuit against a third-party tortfeasor without his employer's approval and his benefits were terminated. He paid a sum to 'buy back' his right to future benefits under La.R.S. 23:1102(B), leading to disputes about the sufficiency of the 'buy-back' and future benefit credits.                                                                                                                                                                                                     | Talbot filed a motion for summary judgment which was granted by the workers' compensation judge (WCJ), thus ruling in his favor. This affirmed that he had fulfilled the 'buy-back' and was entitled to future benefits. Mouton and Liberty Mutual disputed the calculations and appealed. The appellate court reviewed the WCJ's rulings, addressed calculation errors, and remanded the case for further determinations.                                                                   | La.R.S. 23:1102(B) states that an employee forfeits future workers' compensation benefits if settlement of a tort claim with a third party is not approved by the employer or insurer. The right to future benefits can be reserved upon 'buy-back' payment to the employer or insurer, which should not exceed fifty percent of the total recovery minus legal fees.                                                                                                   | The court considered previous cases, including City of Dequincy v. Henry and Mercer v. Nabors Drilling USA, L.P., and rulings that clarified the proper calculation of the 'buy back' amount and the credit against future benefits.                                                                                                                                                                                                         | The court de novo reviewed errors in legal analysis by the WCJ and corrected the 'buy back' payment amount and the overpayment credit due to Talbot. It upheld that Talbot's payment satisfied the 'buy-back' provision and ruled that the calculation of future credit owed by Talbot requires reconsideration.                                                                                                                                                                                                                      | The court affirmed parts of the WCJ's ruling, amended parts regarding overpayment and 'buy back' figures, and reversed the awarding of dollar for dollar credit. The case is remanded for proper determination of the credit.                                                                                                  | Partially Talbot, with other issues remanded for further proceedings                                           |\n",
       "| Mary Ortega v. Cantu Services, Inc. and Liberty Mutual Insurance Company                                                                                    | Whether the workers' compensation judge (WCJ) erred in: 1) finding the settlement of $120,000 did not need to be paid within thirty days of the judicial approval of the settlement agreement; and 2) finding CMS approval was a suspensive condition that must be fulfilled before paying Ms. Ortega the $120,000 settlement.                                                                                          | Mary Ortega sustained an injury while employed by Cantu Services, Inc. A settlement of $120,000 was reached, which included a Medicare Set-Aside Agreement (MSA) requiring CMS approval. The settlement was conditioned on CMS approval, with the benefits amount to be adjusted accordingly. Ms. Ortega filed a Motion to Enforce Settlement and for penalties and attorney fees, asserting nonpayment within thirty days post-agreement violation.                                                                                                                                                                                                                                                 | The settlement was judicially approved, but when CMS did not approve the MSA, Ms. Ortega filed motions for enforcement, penalties, and attorney fees. Upon denial at the WCJ level, she appealed, also filing a Motion to Strike parts of the Appellees' brief for lacking record support. The appellate court affirmed the WCJ's judgment but granted the Motion to Strike.                                                                                                                 | Louisiana Revised Statutes 23:1201(G) pertains to penalties and attorney fees for nonpayment of workers' compensation settlements within thirty days of a final, nonappealable judgment. Louisiana Civil Codes articles 1767, 1768, and 1770 address suspensive conditions in contracts, defining the fulfillment events and nullification conditions dependent on the obligor's actions.                                                                               | The case of Harrelson v. Arcadia established that CMS approval for MSA funding is a suspensive condition delaying the payment obligation until approval. CMS's actions are typically out of the employer's control, negating penalties for delayed payment pending CMS approval.                                                                                                                                                             | The court found no error with the WCJ's determination that the CMS approval was a suspensive condition and that it was not dependent on the whim of the obligor, as the timing and decision of CMS approval lay beyond the employer's control. The court concluded that nonpayment was the result of conditions over which the employer had no control, and therefore statutory penalties and attorney fees were not warranted.                                                                                                       | The appellate court affirmed the WCJ's judgment denying Ms. Ortega's Motion to Enforce Settlement and for penalties and attorney fees, as the settlement was properly conditioned upon CMS approval of the MSA, a suspensive condition. The court granted the Motion to Strike.                                                | Cantu Services, Inc. and Liberty Mutual Insurance Company                                                      |\n",
       "| Blanchard v. GoAuto Insurance Company and Demetrius J. Hicks                                                                                                | Whether the trial court erred in granting summary judgment to the defendants based on their assertion that an unknown thief's actions caused the collision and not the negligence of Mr. Hicks, who left his vehicle with the keys in the ignition and engine running in violation of La.R.S. 32:145.                                                                                                                   | Christopher Blanchard filed a lawsuit against Demetrius J. Hicks and his insurer, GoAuto, claiming damages from a collision where Blanchard's patrol car was rear-ended by a truck owned by Mr. Hicks and insured by GoAuto. The truck was earlier stolen by an unknown thief who abandoned it in gear, causing it to collide with Blanchard's vehicle. Hicks admitted leaving the truck unattended with the engine and air conditioning running. Blanchard appealed after summary judgment was granted in favor of Hicks and GoAuto by the trial court.                                                                                                                                             | The trial court granted summary judgment for Hicks and GoAuto, dismissing Blanchard's claims with prejudice. Blanchard appealed the judgment, claiming the trial court erred due to Hicks's violation of La.R.S. 32:145.                                                                                                                                                                                                                                                                     | The review for summary judgment is de novo and requires showing that there's no genuine issue of material fact, allowing the mover to win judgment as a matter of law. La.R.S. 32:145 mandates certain steps before leaving a vehicle unattended. Violation of La.R.S. 32:145 alone does not extend to liability for accidents caused by a thief.                                                                                                                       | A series of cases, such as 'Racine v. Moon's Towing' and 'Roach v. Liberty Mutual Insurance Co.', established that the mere act of leaving keys in a car does not create liability when a thief steals the car and injures a third party.                                                                                                                                                                                                    | The trial court applied the summary judgment standard and the relevant case law to conclude that Hicks's violation of La.R.S. 32:145 did not create liability for the accident caused by the thief. The court noted Hicks took immediate action to recover his stolen truck and that there was no genuine issue of material fact that warranted a trial.                                                                                                                                                                              | The trial court's ruling granting summary judgment in favor of GoAuto and Mr. Hicks is upheld, affirming the dismissal of all claims by plaintiff Christopher Blanchard.                                                                                                                                                       | GoAuto Insurance Company and Demetrius J. Hicks                                                                |\n",
       "| Jacqueline Gaspard v. Allstate Insurance Company                                                                                                            | Whether the trial court erred in: 1) granting Allstate's motion to strike the jury trial; 2) not recusing itself and proceeding as the finder-of-fact; 3) denying Ms. Gaspard's motion for a new trial without a contradictory hearing; 4) dismissing Ms. Gaspard's bad faith claims against Allstate; and 5) its findings related to damages and lost earning capacity.                                                | Jacqueline Gaspard experienced an auto accident on August 27, 2012, and claimed damages exceeding the liability coverage of the responsible parties. She reached settlements with the responsible parties and their insurers, but pursued claims against her uninsured motorist insurer, Allstate Insurance Company. She demanded an unconditional tender under Allstate's UM policy and later amended her claim to include penalties and attorney fees, which Allstate did not tender.                                                                                                                                                                                                              | The trial court denied Ms. Gaspard's claims for penalties and attorney fees and awarded her $3,314.37 in medical expenses and $8,000.00 in general damages. Ms. Gaspard filed motions for a new trial and to recuse the trial judge, both denied. She appealed on several grounds related to the conduct of the trial and the sufficiency of her damages award.                                                                                                                              | Allstate was not obligated to pay damages until Ms. Gaspard proved her damages exceeded $50,000.00. Issues of trial conduct, recusal, and damages are subject to standards that look at the trial court's discretion, the presence of actual bias, prejudice, and the reasonable basis for factual findings, and must be preserved for appeal properly.                                                                                                                 | Ms. Gaspard's reliance for a jury trial relied on La.Code Civ.P. arts. 1733, 1734, and 1734.1 which outline conditions for a jury trial or withdrawal of a jury demand. Her recusal claim was considered under the standards set for in La.Code Civ.P. art. 151(A) which outlines when a judge should be recused. The adequacy of damages is reviewed under the manifest error standard, as established by past case law.                    | The appellate court found the trial court did not err in its rulings. Ms. Gaspard did not properly secure her right to a jury trial and did not preserve her recusal argument for appeal. The damage awards were within the trial court's discretion, and there was no error in its determinations related to damages and lost earning capacity. Ms. Gaspard failed to prove bad faith against Allstate as she did not establish damages in excess of policy limits.                                                                  | Ms. Gaspard's appeal was affirmed, with all costs assessed to her. Her claims for penalties and attorney fees against Allstate were dismissed, and the judgment on the awarded damages was upheld.                                                                                                                             | Allstate Insurance Company                                                                                     |\n",
       "| Noles-Frye Realty v. Soltau-Talbot                                                                                                                          | Whether Andrea Soltau-Talbot, the Buyer, satisfied the burden of proving her good faith effort to obtain a loan as per the financing contingency in the purchase agreement, to warrant the return of her $30,000 deposit.                                                                                                                                                                                               | Noles-Frye Realty commenced a concursus proceeding over a disputed escrow deposit from a failed real estate transaction. Andrea Soltau-Talbot, the Buyer, sought to purchase property from the Sellers, but the sale was not completed. Both parties claimed entitlement to the deposit. The Buyer argued that due to an inability to secure financing, as per the financing contingency in the Agreement, she was entitled to the deposit's return. The Sellers contended the Agreement did not make the sale contingent on financing and claimed the deposit based on the Buyer's default.                                                                                                         | Following a hearing, the trial court ruled in favor of the Sellers, determining the Buyer failed to prove a good faith effort to obtain financing. The Buyer appealed. The appellate court reversed and rendered the trial court's decision.                                                                                                                                                                                                                                                 | The financing contingency clause under Louisiana law imposes a duty on the Buyer to make a good faith effort to obtain a loan for the purchase of the property. Both parties, as per the concursus proceeding, must assert their claims contradictorily against other parties and carry the burden to prove their claims.                                                                                                                                               | Woods v. Austin established that if, through no fault of her own, the Buyer is unable to obtain the loan, she is released from her obligation to purchase and is entitled to the return of her deposit (La. C.C. Art. 1771).                                                                                                                                                                                                                 | The appellate court found that the record supported the Buyer's credible testimony regarding her attempts to secure financing, and while the trial court found her credible, it improperly demanded additional documentary evidence which was not required by the Agreement. Upon appellate review, it was determined that the Buyer's testimony alone sufficiently proved her good faith effort to obtain a loan.                                                                                                                    | Given the credibility of the Buyer's testimony and the lack of requirement for additional documentary proof, the appellate court reversed the trial court's judgment and ordered that the deposit, along with accumulated interest, be returned to the Buyer.                                                                  | Andrea Soltau-Talbot, the Buyer                                                                                |\n",
       "| Adams v. Georgia Gulf Lake Charles, LLC                                                                                                                     | Whether the WCJ erred in finding Mr. Adams' workers' compensation claim did not prescribe, whether there was a causal connection between Mr. Adams' hearing loss and employment at Georgia Gulf, entitlement to SEB payments, the awarding of penalties and attorney fees, and the addressal of additional attorney fees for appeal.                                                                                    | Joseph Adams, employed by Georgia Gulf for 40 years, filed a workers' compensation claim for occupational hearing loss. Adams was awarded SEB, penalties, and attorney fees by the WCJ. Georgia Gulf appealed, arguing that Adams' claim prescribed, there was no causal connection, Adams was not entitled to SEB, and the awards of penalties and attorney fees were incorrect. Adams sought additional attorney fees for appeal work.                                                                                                                                                                                                                                                             | The workers' compensation judge (WCJ) awarded SEB, penalties, and attorney fees to Mr. Adams. Georgia Gulf appealed the decision, and Mr. Adams answered seeking additional attorney fees for appeal work. The appellate court amended the judgment to limit SEB payments to 104 weeks, affirmed the decision as amended, and granted additional attorney fees for the appeal.                                                                                                               | Louisiana Workers' Compensation Act governs occupational diseases. The manifest error or clearly wrong standard applies to factual findings. Prescription is interrupted by suit filing in a competent court. The employee must prove inability to earn 90% of pre-injury wage to receive SEB. An employer who fails to contest the claim may be subject to penalties and attorney fees if the denial of benefits is found arbitrary or capricious.                     | The court considered 'Arrant v. Graphic Packaging International, Inc.' case that occupational noise-induced hearing loss is an occupational disease under the LWCA. 'Poissenot v. St. Bernard Parish Sheriff's Office' and 'Seal v. Gaylord Container Corp.' were cited regarding the standards for proving entitlement to SEB payments.                                                                                                     | The court agreed with the WCJ that Adams' tort suit interrupted prescription, that he provided a preponderance of evidence of causation between his work and hearing loss, and established a prima facie case for SEB entitlement. Georgia Gulf failed to prove job availability within Adams' restrictions. The award of penalties and attorney fees was upheld due to Georgia Gulf's arbitrary handling of the claim. Additional attorney fees were awarded for the appeal work.                                                    | The appellate court affirmed the WCJ's decision regarding Mr. Adams' award of SEB, penalties, and attorney fees but amended the judgment to limit the SEB payments to 104 weeks due to retirement. Additional attorney fees for appeal work were also awarded.                                                                 | Joseph Adams                                                                                                   |\n",
       "| Matthew M. Walker and Jim Lee Hankins v. The Manitowoc Company, Inc., et al.                                                                                | Whether Plaintiffs'/Intervenors' claims alleging product liability under the Louisiana Products Liability Act (LPLA) for a crane accident due to failure to warn, design defects, and defects in construction should be dismissed based on various grounds including reasonably anticipated use, the nature of the warnings provided, and whether genuine issues of material fact exist that preclude summary judgment. | Walker and Hankins filed separate suits for personal injuries sustained in a worksite accident involving a Manitowoc model 888 crane. They alleged the crane was unreasonably dangerous due to inadequate warning, design defects, and defects in construction. Their employer, BWW, and its insurer intervened, alleging property damage. Defendants contended that the accident was caused by misuse and overloading of the crane, and not due to defects.                                                                                                                                                                                                                                         | The trial court consolidated the suits, denied Manitowoc's motion for summary judgment, granted partial summary judgment in favor of Plaintiffs'/Intervenors, and denied Manitowoc's motions to dismiss and for sanctions due to spoliation of evidence. Manitowoc sought supervisory writs and appealed the judgments. The appeals and writs were consolidated for review.                                                                                                                  | Under the LPLA, a plaintiff must prove that the product was unreasonably dangerous in construction, design, due to inadequate warning, or because it did not conform to a warranty, and caused damage arising from a reasonably anticipated use. For a failure to warn claim, a product is considered unreasonably dangerous if it possessed a characteristic that may cause damage, and the manufacturer failed to use reasonable care to provide an adequate warning. | The Court considered precedents such as Butz v. Lynch and the statutory provisions of La.R.S. 9:2800.54 and related articles for assessing product liability claims under the LPLA.                                                                                                                                                                                                                                                          | The Court found genuine issues of material fact as to whether the boom was a \"suspended load,\" whether the crane was overloaded or poorly maintained, and if there were feasible alternative designs that could have prevented the incident. It also considered whether the manufacturer performed its duty to warn effectively, looking at alternatives like direct notifications to owners vs. communicating through distributors.                                                                                                  | The appellate court reverses the lower court's judgment granting partial summary judgment on the failure to warn and dismisses affirmative defenses against distributors and previous owners. It denies both writ applications. It remands the case as genuine issues of material fact preclude summary judgment at this time. | Defendants/Applicants - Manitowoc Cranes, LLC, Westchester Fire Insurance Co., and The Manitowoc Company, Inc. |\n",
       "| Jim Lee Hankins & Matthew M. Walker v. Manitowoc Cranes, LLC, et al.                                                                                        | Whether the trial court erred in granting summary judgment to H & E Equipment Services, Inc. and Travelers Property and Casualty Company of America.                                                                                                                                                                                                                                                                    | Matthew M. Walker and Jim Lee Hankins, plaintiffs, were injured when a Manitowoc model 888 crane malfunctioned, causing them to fall. The plaintiffs brought suits against various parties including the manufacturer of the crane, alleging defects under the Louisiana Products Liability Act, and H & E Equipment Services, Inc., for failing to inspect or warn of the defect. Plaintiffs' employer and its insurer also sought damages. After consolidation, H & E's summary judgment motion was granted by the trial court.                                                                                                                                                                    | Plaintiffs and their employer's insurer appealed the trial court's grant of summary judgment for H & E, which was made contingent on the outcome of a companion case regarding the duty to warn against Manitowoc. The appellate court affirmed the trial court's decision favoring H & E.                                                                                                                                                                                                   | Under Louisiana's duty-risk analysis, liability is determined by the defendant's duty, breach, causation, scope of liability, and damages. For summary judgment, the mover must show no genuine issue of material fact and entitlement to judgment as a matter of law.                                                                                                                                                                                                  | Marks v. OHMEDA, Inc. was cited by the trial court for the proposition that the duty established by La.R.S. 9:2800.57(C) cannot be delegated and is placed directly upon the manufacturer.                                                                                                                                                                                                                                                   | The court found H & E's lone repair on the crane fifteen months prior to the incident did not involve the crane's defect. As H & E was not the crane's distributor at the time of Manitowoc's Service Bulletin 90, it had no duty to warn. H & E's limited role and lack of causal connection to the accident negated the existence of a duty to the plaintiffs, leading to the grant of summary judgment.                                                                                                                            | The appellate court affirmed the trial court's judgment granting summary judgment in favor of H & E Equipment Services, Inc. and Travelers Property and Casualty Company of America.                                                                                                                                           | Defendants/Appellees                                                                                           |\n",
       "| Michael D. Vanek and Vanek Real Estate, LLC v. Charles Robertson and Div-Conn of Lake Charles, LLC                                                          | Whether the trial court erred in dismissing the plaintiff's principal demand against Robertson when no motion for summary judgment was filed by a party to the principal action.                                                                                                                                                                                                                                        | Plaintiff Michael D. Vanek filed suit against Charles Robertson for breach of a listing agreement concerning a commercial property, claiming a commission for a sale where Robertson paid a different broker. Robertson countered the listing expired and was specific to another entity. Vanek alleged previous payment of commissions ratified the agreement. Sedano, involved in the listing, ceased working for Vanek and assured Robertson the listing expired. After the property sale, Sedano was paid a commission. Sedano then filed a partial summary judgment to dismiss Vanek's claims, contending Vanek waived his right to a commission in a previous agreement, which Vanek disputed. | Suit filed by Vanek against Robertson; Robertson filed answer, reconventional demand, and third-party demand against Sedano; Sedano moved for partial summary judgment dismissing Vanek's claims, asserting a waiver of commission. Trial court granted Sedano's motion including dismissal of Vanek's claims against Robertson, whom he had not sued directly. Vanek appealed the dismissal of his claims against the original defendants, asserting that the court exceeded its authority. | The procedural correctness of a court's judgment, summary judgment standards, article 966(F) of the Louisiana Code of Civil Procedure, which allows summary judgment only for issues considered at the time, and due process requirements for adequate notice.                                                                                                                                                                                                          | Cited cases include State, Through La. Riverboat Gaming Comm'n v. La. State Police Riverboat Gaming Enf't Div., Johnson v. La. Tax Comm'n, Dennison v. Liberty Mutual Insurance Co., Jones v. American Bank & Trust Co., Tassin v. Setliff, and Glover v. Med. Ctr. of Baton Rouge, providing legal background on summary judgments, procedural jurisdiction, and the adjudication of claims without plaintiff's assertion or direct claims. | The trial court granted partial summary judgment based on the belief that no factual disputes existed and the agreement between Vanek and Sedano applied. However, Vanek's claims were not subject to the motion considered. Robertson's lack of a motion or joinder meant Vanek's claims were not validly dismissed. Dennison and Jones provided jurisprudence on judgments against unnamed parties, and Article 966(F) established boundaries of grantable summary judgments.                                                       | The trial court erred in dismissing Vanek's principal claims against the original defendants, as summary judgment applied only to Sedano's motion. The decree reversed the portion of judgment dismissing Vanek's claims against the defendants and remanded the matter for further proceedings.                               | Plaintiff (Michael D. Vanek and Vanek Real Estate, LLC)                                                        |\n",
       "| Liberty Mutual Fire Insurance Company v. St. Martin Economic Development Authority (SMEDA)                                                                  | Whether the trial court erred in granting summary judgment to SMEDA, thereby dismissing Liberty Mutual and Hanover's claims for flood damage against SMEDA.                                                                                                                                                                                                                                                             | The St. Martin Economic Development Authority (SMEDA), a non-profit corporation, sold Lot 21-A in the Highway 90 Industrial Park to Waukesha Pearce Industries, LLC (WPI). Following flood damage to WPI's building in 2015, insurers Liberty Mutual and Hanover filed damage claims against SMEDA, alleging negligence in the design and maintenance of drainage systems. SMEDA moved for summary judgment claiming no involvement in the development or drainage design.                                                                                                                                                                                                                           | The trial court granted summary judgment in favor of SMEDA, dismissing Liberty Mutual and Hanover's claims. Liberty Mutual appealed the decision, and Hanover filed a brief in support of the appeal.                                                                                                                                                                                                                                                                                        | Summary judgment is appropriate when there is no genuine issue of material fact and the moving party is entitled to judgment as a matter of law. The moving party must demonstrate the lack of a material fact, shifting the burden to the opposing party to provide evidence of such a fact.                                                                                                                                                                           | References to the Louisiana Code of Civil Procedure, particularly Articles 966 and 862, govern the standards and burdens for summary judgment.                                                                                                                                                                                                                                                                                               | The affidavits submitted by SMEDA established their lack of involvement in the development and drainage design, and no counter affidavits or evidence were presented by Liberty Mutual or Hanover to establish a genuine issue of material fact. The court found that all claims against SMEDA were dismissed and that the granting of summary judgment in SMEDA's favor was proper.                                                                                                                                                  | The appellate court affirmed the trial court's granting of summary judgment in favor of SMEDA, thereby dismissing with prejudice all claims from Liberty Mutual and Hanover.                                                                                                                                                   | St. Martin Economic Development Authority (SMEDA)                                                              |\n",
       "| James Guilbeau, Keith Antoine, and Clyde Guillory v. Morlon Chaddrick, Utility Lines Construction Services, Inc., and Liberty Mutual Fire Insurance Company | Whether the trial court erred in granting Plaintiffs a partial summary judgment on liability and making the factual finding that Defendant Morlon Chaddrick was 100% at fault for causing the vehicular accident, despite the contention of numerous issues of material fact as to the negligence and/or comparative fault of the parties in this case.                                                                 | On September 5, 2014, a rear-end collision occurred when Morlon Chaddrick, employed by Utility Lines Construction Services, Inc., struck a stopped St. Landry Parish maintenance truck occupied by Plaintiffs James Guilbeau, Keith Antoine, and Clyde Guillory. St. Landry Parish Government intervened for reimbursement of worker's compensation benefits. The Plaintiffs and Intervenor sought summary judgment on liability, which the trial court granted, reserving issues of medical causation and damages for trial. Defendants appealed, contending the trial court erred by not recognizing the genuine issues of material fact.                                                          | Plaintiffs filed a motion for partial summary judgment on liability, which the trial court granted, finding Defendants 100% at fault. The issues of medical causation and damages were reserved for a trial on the merits. Defendants appealed the decision.                                                                                                                                                                                                                                 | Louisiana Civil Code Article 2315 outlines general negligence principles requiring proof of duty, breach of duty, cause-in-fact, legal causation, and actual damages. La.R.S. 32:81(A) and 32:141 dictate motorist conduct regarding following distance and parking on highways. Comparative fault principles apply when multiple parties contribute to an accident.                                                                                                    | Garcia v. Stalsby (rear-end collision presumption), Graffia v. Louisiana Farm Bureau (comparative fault in rear-end collisions), Samuel v. Vicknair (application of La.R.S. 32:141), and Laird v. Travelers Ins. Co. (La.R.S. 32:141 as a highway safety measure). The Supreme Court cases of Maggio v. Parker and Boyance v. United Fire and Casualty Co. clarify the roles of the courts in summary judgment and comparative fault.        | The appellate court concluded that genuine issues of material fact exist regarding the negligence or comparative fault of the Plaintiffs, notably the parking position of the dump truck and the failure to use safety warnings, as well as the claimed temporary blindness of Mr. Chaddrick due to sun glare. It held that La.R.S. 32:141 applies to a parish road and found that the trial court erred in granting summary judgment without resolving fact-based inquiries, thus reversing and remanding for trial on those issues. | The appellate court reversed the trial court's grant of partial summary judgment finding Defendants 100% at fault and remanded the case for further proceedings.                                                                                                                                                               | Defendants/Appellants                                                                                          |\n",
       "| Mitchell v. Alliance Compressors                                                                                                                            | Whether Alliance Compressors was entitled to summary judgment in a workers' compensation case, and whether the Workers' Compensation Judge (WCJ) abused discretion by not referring the summary judgment motion to a trial on the merits.                                                                                                                                                                               | Elaine Mitchell filed a workers' compensation claim against Alliance Compressors, alleging a workplace injury to her right hand on December 5, 2016. The dispute involved the extent of disability, indemnity benefits, medical treatments, and payments for medical and travel expenses, among other issues.                                                                                                                                                                                                                                                                                                                                                                                        | After several trial continuations, a hearing for Alliance's motion for summary judgment was scheduled for July 5, 2018. Mitchell's motions filed just before the hearing were considered untimely, and she did not appear at the hearing. The WCJ granted summary judgment in favor of Alliance and denied Mitchell's subsequent motion for new trial. Mitchell appealed.                                                                                                                    | Under Louisiana's workers' compensation statutes, an employee must show injury from an accident related to employment, necessitating medical treatment or disability, to recover benefits. Summary judgment is appropriate when there is no genuine issue of material fact, and the mover is entitled to judgment as a matter of law.                                                                                                                                   | The court reviewed cases such as Alfred v. Mid-S. Mach., Inc. and Fritz v. Home Furniture-Lafayette regarding disability benefits from workers' compensation claims. Previous rulings discussed the award of temporary total disability benefits and criteria for granting summary judgment in workers' compensation cases.                                                                                                                  | Alliance properly supported its motion for summary judgment, establishing uncontested material facts. Mitchell failed to attend the hearing or timely file opposition, and did not establish a genuine issue of material fact. The WCJ did not abuse discretion in refusing to continue or refer the motion to trial, and proper legal procedure was followed.                                                                                                                                                                        | The court affirmed the judgment in favor of Alliance. The WCJ properly granted summary judgment as Alliance met its burden and no genuine issues of material fact were found.                                                                                                                                                  | Alliance Compressors                                                                                           |"
      ],
      "text/plain": [
       "<IPython.core.display.Markdown object>"
      ]
     },
     "execution_count": 91,
     "metadata": {},
     "output_type": "execute_result"
    }
   ],
   "source": [
    "res_df = pd.concat(results)\n",
    "table_df = res_df.drop(columns=['id'])\n",
    "table_df['issues_presented'] = table_df['issues_presented'].str.replace(\"\\n\", \"; \", regex=False)\n",
    "Markdown(table_df.to_markdown(index=False))"
   ]
  },
  {
   "cell_type": "code",
   "execution_count": 97,
   "metadata": {},
   "outputs": [],
   "source": [
    "filtered_df.to_parquet('lm_cap_cases2000.parquet')"
   ]
  },
  {
   "cell_type": "code",
   "execution_count": 3,
   "metadata": {},
   "outputs": [],
   "source": [
    "filtered_df = pd.read_parquet('lm_cap_cases2000.parquet')"
   ]
  },
  {
   "cell_type": "code",
   "execution_count": 4,
   "metadata": {},
   "outputs": [
    {
     "name": "stdout",
     "output_type": "stream",
     "text": [
      "(2480, 16)\n"
     ]
    },
    {
     "data": {
      "text/html": [
       "<div>\n",
       "<style scoped>\n",
       "    .dataframe tbody tr th:only-of-type {\n",
       "        vertical-align: middle;\n",
       "    }\n",
       "\n",
       "    .dataframe tbody tr th {\n",
       "        vertical-align: top;\n",
       "    }\n",
       "\n",
       "    .dataframe thead th {\n",
       "        text-align: right;\n",
       "    }\n",
       "</style>\n",
       "<table border=\"1\" class=\"dataframe\">\n",
       "  <thead>\n",
       "    <tr style=\"text-align: right;\">\n",
       "      <th></th>\n",
       "      <th>id</th>\n",
       "      <th>name</th>\n",
       "      <th>name_abbreviation</th>\n",
       "      <th>decision_date</th>\n",
       "      <th>court_id</th>\n",
       "      <th>court_name</th>\n",
       "      <th>court_slug</th>\n",
       "      <th>judges</th>\n",
       "      <th>attorneys</th>\n",
       "      <th>citations</th>\n",
       "      <th>url</th>\n",
       "      <th>head</th>\n",
       "      <th>body</th>\n",
       "      <th>year</th>\n",
       "      <th>name_contains_lm</th>\n",
       "      <th>body_contains_lm</th>\n",
       "    </tr>\n",
       "  </thead>\n",
       "  <tbody>\n",
       "    <tr>\n",
       "      <th>3546</th>\n",
       "      <td>106582</td>\n",
       "      <td>Nancy RAMIREZ, as Personal Representative of t...</td>\n",
       "      <td>Ramirez v. Dawson Production Partners, Inc.</td>\n",
       "      <td>2000-01-11</td>\n",
       "      <td>9025</td>\n",
       "      <td>Court of Appeals of New Mexico</td>\n",
       "      <td>nm-ct-app</td>\n",
       "      <td>['BOSSON and ARMIJO, JJ., concur.']</td>\n",
       "      <td>['Timothy J. Cusack, Cusack, Jaramillo, Romero...</td>\n",
       "      <td>[{'type': 'official', 'cite': '128 N.M. 601'},...</td>\n",
       "      <td>https://api.case.law/v1/cases/106582/</td>\n",
       "      <td>2000-NMCA-011\\r\\n995 P.2d 1043\\r\\nNancy RAMIRE...</td>\n",
       "      <td>OPINION\\r\\nBUSTAMANTE, Judge.\\r\\n{1} This case...</td>\n",
       "      <td>2000</td>\n",
       "      <td>True</td>\n",
       "      <td>False</td>\n",
       "    </tr>\n",
       "    <tr>\n",
       "      <th>30161</th>\n",
       "      <td>411690</td>\n",
       "      <td>RICHARD R. JOHNSON, Plaintiff-Appellant and Cr...</td>\n",
       "      <td>Johnson v. Halloran</td>\n",
       "      <td>2000-01-13</td>\n",
       "      <td>8837</td>\n",
       "      <td>Illinois Appellate Court</td>\n",
       "      <td>ill-app-ct</td>\n",
       "      <td>[]</td>\n",
       "      <td>['Wolter, Beeman, Lynch &amp; McIntyre, of Springf...</td>\n",
       "      <td>[{'type': 'official', 'cite': '312 Ill. App. 3...</td>\n",
       "      <td>https://api.case.law/v1/cases/411690/</td>\n",
       "      <td>RICHARD R. JOHNSON, Plaintiff-Appellant and Cr...</td>\n",
       "      <td>JUSTICE HALL\\r\\ndelivered the opinion of the c...</td>\n",
       "      <td>2000</td>\n",
       "      <td>False</td>\n",
       "      <td>True</td>\n",
       "    </tr>\n",
       "    <tr>\n",
       "      <th>21802</th>\n",
       "      <td>415304</td>\n",
       "      <td>GREAT AMERICAN INSURANCE COMPANY, Plaintiff-Ap...</td>\n",
       "      <td>Great American Insurance v. West Bend Mutual I...</td>\n",
       "      <td>2000-01-18</td>\n",
       "      <td>8837</td>\n",
       "      <td>Illinois Appellate Court</td>\n",
       "      <td>ill-app-ct</td>\n",
       "      <td>[]</td>\n",
       "      <td>['Querrey &amp; Harrow, Ltd., of Chicago (John E. ...</td>\n",
       "      <td>[{'type': 'official', 'cite': '311 Ill. App. 3...</td>\n",
       "      <td>https://api.case.law/v1/cases/415304/</td>\n",
       "      <td>GREAT AMERICAN INSURANCE COMPANY, Plaintiff-Ap...</td>\n",
       "      <td>JUSTICE McNULTY\\r\\ndelivered the opinion of th...</td>\n",
       "      <td>2000</td>\n",
       "      <td>False</td>\n",
       "      <td>True</td>\n",
       "    </tr>\n",
       "  </tbody>\n",
       "</table>\n",
       "</div>"
      ],
      "text/plain": [
       "           id                                               name  \\\n",
       "3546   106582  Nancy RAMIREZ, as Personal Representative of t...   \n",
       "30161  411690  RICHARD R. JOHNSON, Plaintiff-Appellant and Cr...   \n",
       "21802  415304  GREAT AMERICAN INSURANCE COMPANY, Plaintiff-Ap...   \n",
       "\n",
       "                                       name_abbreviation decision_date  \\\n",
       "3546         Ramirez v. Dawson Production Partners, Inc.    2000-01-11   \n",
       "30161                                Johnson v. Halloran    2000-01-13   \n",
       "21802  Great American Insurance v. West Bend Mutual I...    2000-01-18   \n",
       "\n",
       "       court_id                      court_name  court_slug  \\\n",
       "3546       9025  Court of Appeals of New Mexico   nm-ct-app   \n",
       "30161      8837        Illinois Appellate Court  ill-app-ct   \n",
       "21802      8837        Illinois Appellate Court  ill-app-ct   \n",
       "\n",
       "                                    judges  \\\n",
       "3546   ['BOSSON and ARMIJO, JJ., concur.']   \n",
       "30161                                   []   \n",
       "21802                                   []   \n",
       "\n",
       "                                               attorneys  \\\n",
       "3546   ['Timothy J. Cusack, Cusack, Jaramillo, Romero...   \n",
       "30161  ['Wolter, Beeman, Lynch & McIntyre, of Springf...   \n",
       "21802  ['Querrey & Harrow, Ltd., of Chicago (John E. ...   \n",
       "\n",
       "                                               citations  \\\n",
       "3546   [{'type': 'official', 'cite': '128 N.M. 601'},...   \n",
       "30161  [{'type': 'official', 'cite': '312 Ill. App. 3...   \n",
       "21802  [{'type': 'official', 'cite': '311 Ill. App. 3...   \n",
       "\n",
       "                                         url  \\\n",
       "3546   https://api.case.law/v1/cases/106582/   \n",
       "30161  https://api.case.law/v1/cases/411690/   \n",
       "21802  https://api.case.law/v1/cases/415304/   \n",
       "\n",
       "                                                    head  \\\n",
       "3546   2000-NMCA-011\\r\\n995 P.2d 1043\\r\\nNancy RAMIRE...   \n",
       "30161  RICHARD R. JOHNSON, Plaintiff-Appellant and Cr...   \n",
       "21802  GREAT AMERICAN INSURANCE COMPANY, Plaintiff-Ap...   \n",
       "\n",
       "                                                    body  year  \\\n",
       "3546   OPINION\\r\\nBUSTAMANTE, Judge.\\r\\n{1} This case...  2000   \n",
       "30161  JUSTICE HALL\\r\\ndelivered the opinion of the c...  2000   \n",
       "21802  JUSTICE McNULTY\\r\\ndelivered the opinion of th...  2000   \n",
       "\n",
       "       name_contains_lm  body_contains_lm  \n",
       "3546               True             False  \n",
       "30161             False              True  \n",
       "21802             False              True  "
      ]
     },
     "execution_count": 4,
     "metadata": {},
     "output_type": "execute_result"
    }
   ],
   "source": [
    "print(filtered_df.shape)\n",
    "filtered_df.head(3)"
   ]
  },
  {
   "cell_type": "code",
   "execution_count": null,
   "metadata": {},
   "outputs": [],
   "source": []
  },
  {
   "cell_type": "code",
   "execution_count": 10,
   "metadata": {},
   "outputs": [],
   "source": [
    "from typing import Any, Dict\n",
    "from markdown import markdown\n",
    "import nbformat\n",
    "from nbconvert import HTMLExporter\n",
    "from bs4 import BeautifulSoup\n",
    "import json\n",
    "import openai\n",
    "\n",
    "from html2text import html2text\n",
    "\n",
    "\n",
    "def read_notebook(notebook_path):\n",
    "    \n",
    "    with open(notebook_path, encoding='utf-8') as f:\n",
    "        return nbformat.read(f, as_version=4)\n",
    "    \n",
    "\n",
    "def retrieve_html(notebook):\n",
    "    html_exporter = HTMLExporter()\n",
    "    (html_output, _) = html_exporter.from_notebook_node(notebook)\n",
    "\n",
    "    return html_output\n",
    "\n",
    "\n",
    "def markdown_to_text(markdown_string: str) -> str:\n",
    "    \"\"\"Converts a markdown string to plain text.\n",
    "    \n",
    "    Args:\n",
    "        markdown_string (str): The markdown string to convert.\n",
    "    \n",
    "    Returns:\n",
    "        str: The converted plain text string.\n",
    "    \"\"\"\n",
    "    # Convert markdown to HTML\n",
    "    html = markdown(markdown_string)\n",
    "    \n",
    "    # Use BeautifulSoup to extract text from the HTML\n",
    "    soup = BeautifulSoup(html, \"html.parser\")\n",
    "    text = soup.get_text()\n",
    "    \n",
    "    return text\n",
    "\n",
    "\n",
    "def safe_get(data, dot_chained_keys):\n",
    "    \"\"\"\n",
    "    {'a': {'b': [{'c': 1}]}}\n",
    "    safe_get(data, 'a.b.0.c') -> 1\n",
    "    \"\"\"\n",
    "    keys = dot_chained_keys.split(\".\")\n",
    "    for key in keys:\n",
    "        try:\n",
    "            if isinstance(data, list):\n",
    "                data = data[int(key)]\n",
    "            else:\n",
    "                data = data[key]\n",
    "        except (KeyError, TypeError, IndexError):\n",
    "            return None\n",
    "    return data\n",
    "\n",
    "\n",
    "def response_parser(response: Dict[str, Any]):\n",
    "    return safe_get(response, \"choices.0.message.content\")\n",
    "\n",
    "\n",
    "def prompt(\n",
    "    prompt: str,\n",
    "    model: str = \"gpt-4-1106-preview\",\n",
    "    instructions: str = \"You are a helpful assistant.\",\n",
    ") -> str:\n",
    "    \"\"\"\n",
    "    Generate a response from a prompt using the OpenAI API.\n",
    "    \"\"\"\n",
    "    response = openai.chat.completions.create(\n",
    "        model=model,\n",
    "        messages=[\n",
    "            {\n",
    "                \"role\": \"system\",\n",
    "                \"content\": instructions,\n",
    "            },\n",
    "            {\n",
    "                \"role\": \"user\",\n",
    "                \"content\": prompt,\n",
    "            },\n",
    "        ],\n",
    "    )\n",
    "\n",
    "    return response_parser(response.model_dump())\n",
    "\n",
    "\n",
    "nb_obj = read_notebook('notebooks/weather_app.ipynb')\n",
    "nb_html = retrieve_html(nb_obj)\n",
    "markdown_from_html_text = html2text(nb_html)\n",
    "text = markdown_to_text(markdown_from_html_text)\n",
    "\n",
    "system_message = \"\"\"\n",
    "You are a python project documentation AI specializing in drafting clear wiki-style documentation in markdown that is easy to read for technical and non-technical readers. \n",
    "Users will provide contents of a Jupyter Notebook that has been converted to text. \n",
    "Your task is to generate a structured summary of the code and its output. Try to infer intent so that we explain the benefits and takeaways.\n",
    "Include example python code blocks for the core functionality only, and add docstrings and examples using toy/fake data where needed to enhance readability.\n",
    "\"\"\"\n",
    "nb_doc = prompt(\n",
    "    instructions=system_message,\n",
    "    prompt=f\"Please review the following jupyter notebook and generate a markdown summary suitable to use as a readme file. Notebook: {text}\",\n",
    ")\n"
   ]
  },
  {
   "cell_type": "code",
   "execution_count": 20,
   "metadata": {},
   "outputs": [],
   "source": [
    "nb_obj = read_notebook('notebooks/weather_app.ipynb')"
   ]
  },
  {
   "cell_type": "code",
   "execution_count": 21,
   "metadata": {},
   "outputs": [],
   "source": [
    "nb_html = retrieve_html(nb_obj)"
   ]
  },
  {
   "cell_type": "code",
   "execution_count": 22,
   "metadata": {},
   "outputs": [
    {
     "data": {
      "text/plain": [
       "'<!DOCTYPE html>\\n\\n<html lang=\"en\">\\n<head><meta charset=\"utf-8\"/>\\n<meta content=\"width=device-width, initial-scale=1.0\" name=\"viewport\"/>\\n<title>Notebook</title><script src=\"https://cdnjs.cloudflare.com/ajax/libs/require.js/2.1.10/require.min.js\"></script>\\n<style type=\"text/css\">\\n    pre { line-height: 125%; }\\ntd.linenos .normal { color: inherit; background-color: transparent; padding-left: 5px; padding-right: 5px; }\\nspan.linenos { color: inherit; background-color: transparent; padding-left: 5px; padding-right: 5px; }\\ntd.linenos .special { color: #000000; background-color: #ffffc0; padding-left: 5px; padding-right: 5px; }\\nspan.linenos.special { color: #000000; background-color: #ffffc0; padding-left: 5px; padding-right: 5px; }\\n.highlight .hll { background-color: var(--jp-cell-editor-active-background) }\\n.highlight { background: var(--jp-cell-editor-background); color: var(--jp-mirror-editor-variable-color) }\\n.highlight .c { color: var(--jp-mirror-editor-comment-color); font-style: italic } /* Comment */\\n.highlight .err { color: var(--jp-mirror-editor-error-color) } /* Error */\\n.highlight .k { color: var(--jp-mirror-editor-keyword-color); font-weight: bold } /* Keyword */\\n.highlight .o { color: var(--jp-mirror-editor-operator-color); font-weight: bold } /* Operator */\\n.highlight .p { color: var(--jp-mirror-editor-punctuation-color) } /* Punctuation */\\n.highlight .ch { color: var(--jp-mirror-editor-comment-color); font-style: italic } /* Comment.Hashbang */\\n.highlight .cm { color: var(--jp-mirror-editor-comment-color); font-style: italic } /* Comment.Multiline */\\n.highlight .cp { color: var(--jp-mirror-editor-comment-color); font-style: italic } /* Comment.Preproc */\\n.highlight .cpf { color: var(--jp-mirror-editor-comment-color); font-style: italic } /* Comment.PreprocFile */\\n.highlight .c1 { color: var(--jp-mirror-editor-comment-color); font-style: italic } /* Comment.Single */\\n.highlight .cs { color: var(--jp-mirror-editor-comment-color); font-style: italic } /* Comment.Special */\\n.highlight .kc { color: var(--jp-mirror-editor-keyword-color); font-weight: bold } /* Keyword.Constant */\\n.highlight .kd { color: var(--jp-mirror-editor-keyword-color); font-weight: bold } /* Keyword.Declaration */\\n.highlight .kn { color: var(--jp-mirror-editor-keyword-color); font-weight: bold } /* Keyword.Namespace */\\n.highlight .kp { color: var(--jp-mirror-editor-keyword-color); font-weight: bold } /* Keyword.Pseudo */\\n.highlight .kr { color: var(--jp-mirror-editor-keyword-color); font-weight: bold } /* Keyword.Reserved */\\n.highlight .kt { color: var(--jp-mirror-editor-keyword-color); font-weight: bold } /* Keyword.Type */\\n.highlight .m { color: var(--jp-mirror-editor-number-color) } /* Literal.Number */\\n.highlight .s { color: var(--jp-mirror-editor-string-color) } /* Literal.String */\\n.highlight .ow { color: var(--jp-mirror-editor-operator-color); font-weight: bold } /* Operator.Word */\\n.highlight .pm { color: var(--jp-mirror-editor-punctuation-color) } /* Punctuation.Marker */\\n.highlight .w { color: var(--jp-mirror-editor-variable-color) } /* Text.Whitespace */\\n.highlight .mb { color: var(--jp-mirror-editor-number-color) } /* Literal.Number.Bin */\\n.highlight .mf { color: var(--jp-mirror-editor-number-color) } /* Literal.Number.Float */\\n.highlight .mh { color: var(--jp-mirror-editor-number-color) } /* Literal.Number.Hex */\\n.highlight .mi { color: var(--jp-mirror-editor-number-color) } /* Literal.Number.Integer */\\n.highlight .mo { color: var(--jp-mirror-editor-number-color) } /* Literal.Number.Oct */\\n.highlight .sa { color: var(--jp-mirror-editor-string-color) } /* Literal.String.Affix */\\n.highlight .sb { color: var(--jp-mirror-editor-string-color) } /* Literal.String.Backtick */\\n.highlight .sc { color: var(--jp-mirror-editor-string-color) } /* Literal.String.Char */\\n.highlight .dl { color: var(--jp-mirror-editor-string-color) } /* Literal.String.Delimiter */\\n.highlight .sd { color: var(--jp-mirror-editor-string-color) } /* Literal.String.Doc */\\n.highlight .s2 { color: var(--jp-mirror-editor-string-color) } /* Literal.String.Double */\\n.highlight .se { color: var(--jp-mirror-editor-string-color) } /* Literal.String.Escape */\\n.highlight .sh { color: var(--jp-mirror-editor-string-color) } /* Literal.String.Heredoc */\\n.highlight .si { color: var(--jp-mirror-editor-string-color) } /* Literal.String.Interpol */\\n.highlight .sx { color: var(--jp-mirror-editor-string-color) } /* Literal.String.Other */\\n.highlight .sr { color: var(--jp-mirror-editor-string-color) } /* Literal.String.Regex */\\n.highlight .s1 { color: var(--jp-mirror-editor-string-color) } /* Literal.String.Single */\\n.highlight .ss { color: var(--jp-mirror-editor-string-color) } /* Literal.String.Symbol */\\n.highlight .il { color: var(--jp-mirror-editor-number-color) } /* Literal.Number.Integer.Long */\\n  </style>\\n<style type=\"text/css\">\\n/*-----------------------------------------------------------------------------\\n| Copyright (c) Jupyter Development Team.\\n| Distributed under the terms of the Modified BSD License.\\n|----------------------------------------------------------------------------*/\\n\\n/*\\n * Mozilla scrollbar styling\\n */\\n\\n/* use standard opaque scrollbars for most nodes */\\n[data-jp-theme-scrollbars=\\'true\\'] {\\n  scrollbar-color: rgb(var(--jp-scrollbar-thumb-color))\\n    var(--jp-scrollbar-background-color);\\n}\\n\\n/* for code nodes, use a transparent style of scrollbar. These selectors\\n * will match lower in the tree, and so will override the above */\\n[data-jp-theme-scrollbars=\\'true\\'] .CodeMirror-hscrollbar,\\n[data-jp-theme-scrollbars=\\'true\\'] .CodeMirror-vscrollbar {\\n  scrollbar-color: rgba(var(--jp-scrollbar-thumb-color), 0.5) transparent;\\n}\\n\\n/* tiny scrollbar */\\n\\n.jp-scrollbar-tiny {\\n  scrollbar-color: rgba(var(--jp-scrollbar-thumb-color), 0.5) transparent;\\n  scrollbar-width: thin;\\n}\\n\\n/* tiny scrollbar */\\n\\n.jp-scrollbar-tiny::-webkit-scrollbar,\\n.jp-scrollbar-tiny::-webkit-scrollbar-corner {\\n  background-color: transparent;\\n  height: 4px;\\n  width: 4px;\\n}\\n\\n.jp-scrollbar-tiny::-webkit-scrollbar-thumb {\\n  background: rgba(var(--jp-scrollbar-thumb-color), 0.5);\\n}\\n\\n.jp-scrollbar-tiny::-webkit-scrollbar-track:horizontal {\\n  border-left: 0 solid transparent;\\n  border-right: 0 solid transparent;\\n}\\n\\n.jp-scrollbar-tiny::-webkit-scrollbar-track:vertical {\\n  border-top: 0 solid transparent;\\n  border-bottom: 0 solid transparent;\\n}\\n\\n/*\\n * Lumino\\n */\\n\\n.lm-ScrollBar[data-orientation=\\'horizontal\\'] {\\n  min-height: 16px;\\n  max-height: 16px;\\n  min-width: 45px;\\n  border-top: 1px solid #a0a0a0;\\n}\\n\\n.lm-ScrollBar[data-orientation=\\'vertical\\'] {\\n  min-width: 16px;\\n  max-width: 16px;\\n  min-height: 45px;\\n  border-left: 1px solid #a0a0a0;\\n}\\n\\n.lm-ScrollBar-button {\\n  background-color: #f0f0f0;\\n  background-position: center center;\\n  min-height: 15px;\\n  max-height: 15px;\\n  min-width: 15px;\\n  max-width: 15px;\\n}\\n\\n.lm-ScrollBar-button:hover {\\n  background-color: #dadada;\\n}\\n\\n.lm-ScrollBar-button.lm-mod-active {\\n  background-color: #cdcdcd;\\n}\\n\\n.lm-ScrollBar-track {\\n  background: #f0f0f0;\\n}\\n\\n.lm-ScrollBar-thumb {\\n  background: #cdcdcd;\\n}\\n\\n.lm-ScrollBar-thumb:hover {\\n  background: #bababa;\\n}\\n\\n.lm-ScrollBar-thumb.lm-mod-active {\\n  background: #a0a0a0;\\n}\\n\\n.lm-ScrollBar[data-orientation=\\'horizontal\\'] .lm-ScrollBar-thumb {\\n  height: 100%;\\n  min-width: 15px;\\n  border-left: 1px solid #a0a0a0;\\n  border-right: 1px solid #a0a0a0;\\n}\\n\\n.lm-ScrollBar[data-orientation=\\'vertical\\'] .lm-ScrollBar-thumb {\\n  width: 100%;\\n  min-height: 15px;\\n  border-top: 1px solid #a0a0a0;\\n  border-bottom: 1px solid #a0a0a0;\\n}\\n\\n.lm-ScrollBar[data-orientation=\\'horizontal\\']\\n  .lm-ScrollBar-button[data-action=\\'decrement\\'] {\\n  background-image: var(--jp-icon-caret-left);\\n  background-size: 17px;\\n}\\n\\n.lm-ScrollBar[data-orientation=\\'horizontal\\']\\n  .lm-ScrollBar-button[data-action=\\'increment\\'] {\\n  background-image: var(--jp-icon-caret-right);\\n  background-size: 17px;\\n}\\n\\n.lm-ScrollBar[data-orientation=\\'vertical\\']\\n  .lm-ScrollBar-button[data-action=\\'decrement\\'] {\\n  background-image: var(--jp-icon-caret-up);\\n  background-size: 17px;\\n}\\n\\n.lm-ScrollBar[data-orientation=\\'vertical\\']\\n  .lm-ScrollBar-button[data-action=\\'increment\\'] {\\n  background-image: var(--jp-icon-caret-down);\\n  background-size: 17px;\\n}\\n\\n/*\\n * Copyright (c) Jupyter Development Team.\\n * Distributed under the terms of the Modified BSD License.\\n */\\n\\n/*-----------------------------------------------------------------------------\\n| Copyright (c) Jupyter Development Team.\\n| Copyright (c) 2014-2017, PhosphorJS Contributors\\n|\\n| Distributed under the terms of the BSD 3-Clause License.\\n|\\n| The full license is in the file LICENSE, distributed with this software.\\n|----------------------------------------------------------------------------*/\\n\\n.lm-Widget {\\n  box-sizing: border-box;\\n  position: relative;\\n  overflow: hidden;\\n}\\n\\n.lm-Widget.lm-mod-hidden {\\n  display: none !important;\\n}\\n\\n/*\\n * Copyright (c) Jupyter Development Team.\\n * Distributed under the terms of the Modified BSD License.\\n */\\n\\n.lm-AccordionPanel[data-orientation=\\'horizontal\\'] > .lm-AccordionPanel-title {\\n  /* Title is rotated for horizontal accordion panel using CSS */\\n  display: block;\\n  transform-origin: top left;\\n  transform: rotate(-90deg) translate(-100%);\\n}\\n\\n/*\\n * Copyright (c) Jupyter Development Team.\\n * Distributed under the terms of the Modified BSD License.\\n */\\n\\n/*-----------------------------------------------------------------------------\\n| Copyright (c) Jupyter Development Team.\\n| Copyright (c) 2014-2017, PhosphorJS Contributors\\n|\\n| Distributed under the terms of the BSD 3-Clause License.\\n|\\n| The full license is in the file LICENSE, distributed with this software.\\n|----------------------------------------------------------------------------*/\\n\\n.lm-CommandPalette {\\n  display: flex;\\n  flex-direction: column;\\n  -webkit-user-select: none;\\n  -moz-user-select: none;\\n  -ms-user-select: none;\\n  user-select: none;\\n}\\n\\n.lm-CommandPalette-search {\\n  flex: 0 0 auto;\\n}\\n\\n.lm-CommandPalette-content {\\n  flex: 1 1 auto;\\n  margin: 0;\\n  padding: 0;\\n  min-height: 0;\\n  overflow: auto;\\n  list-style-type: none;\\n}\\n\\n.lm-CommandPalette-header {\\n  overflow: hidden;\\n  white-space: nowrap;\\n  text-overflow: ellipsis;\\n}\\n\\n.lm-CommandPalette-item {\\n  display: flex;\\n  flex-direction: row;\\n}\\n\\n.lm-CommandPalette-itemIcon {\\n  flex: 0 0 auto;\\n}\\n\\n.lm-CommandPalette-itemContent {\\n  flex: 1 1 auto;\\n  overflow: hidden;\\n}\\n\\n.lm-CommandPalette-itemShortcut {\\n  flex: 0 0 auto;\\n}\\n\\n.lm-CommandPalette-itemLabel {\\n  overflow: hidden;\\n  white-space: nowrap;\\n  text-overflow: ellipsis;\\n}\\n\\n.lm-close-icon {\\n  border: 1px solid transparent;\\n  background-color: transparent;\\n  position: absolute;\\n  z-index: 1;\\n  right: 3%;\\n  top: 0;\\n  bottom: 0;\\n  margin: auto;\\n  padding: 7px 0;\\n  display: none;\\n  vertical-align: middle;\\n  outline: 0;\\n  cursor: pointer;\\n}\\n.lm-close-icon:after {\\n  content: \\'X\\';\\n  display: block;\\n  width: 15px;\\n  height: 15px;\\n  text-align: center;\\n  color: #000;\\n  font-weight: normal;\\n  font-size: 12px;\\n  cursor: pointer;\\n}\\n\\n/*\\n * Copyright (c) Jupyter Development Team.\\n * Distributed under the terms of the Modified BSD License.\\n */\\n\\n/*-----------------------------------------------------------------------------\\n| Copyright (c) Jupyter Development Team.\\n| Copyright (c) 2014-2017, PhosphorJS Contributors\\n|\\n| Distributed under the terms of the BSD 3-Clause License.\\n|\\n| The full license is in the file LICENSE, distributed with this software.\\n|----------------------------------------------------------------------------*/\\n\\n.lm-DockPanel {\\n  z-index: 0;\\n}\\n\\n.lm-DockPanel-widget {\\n  z-index: 0;\\n}\\n\\n.lm-DockPanel-tabBar {\\n  z-index: 1;\\n}\\n\\n.lm-DockPanel-handle {\\n  z-index: 2;\\n}\\n\\n.lm-DockPanel-handle.lm-mod-hidden {\\n  display: none !important;\\n}\\n\\n.lm-DockPanel-handle:after {\\n  position: absolute;\\n  top: 0;\\n  left: 0;\\n  width: 100%;\\n  height: 100%;\\n  content: \\'\\';\\n}\\n\\n.lm-DockPanel-handle[data-orientation=\\'horizontal\\'] {\\n  cursor: ew-resize;\\n}\\n\\n.lm-DockPanel-handle[data-orientation=\\'vertical\\'] {\\n  cursor: ns-resize;\\n}\\n\\n.lm-DockPanel-handle[data-orientation=\\'horizontal\\']:after {\\n  left: 50%;\\n  min-width: 8px;\\n  transform: translateX(-50%);\\n}\\n\\n.lm-DockPanel-handle[data-orientation=\\'vertical\\']:after {\\n  top: 50%;\\n  min-height: 8px;\\n  transform: translateY(-50%);\\n}\\n\\n.lm-DockPanel-overlay {\\n  z-index: 3;\\n  box-sizing: border-box;\\n  pointer-events: none;\\n}\\n\\n.lm-DockPanel-overlay.lm-mod-hidden {\\n  display: none !important;\\n}\\n\\n/*\\n * Copyright (c) Jupyter Development Team.\\n * Distributed under the terms of the Modified BSD License.\\n */\\n\\n/*-----------------------------------------------------------------------------\\n| Copyright (c) Jupyter Development Team.\\n| Copyright (c) 2014-2017, PhosphorJS Contributors\\n|\\n| Distributed under the terms of the BSD 3-Clause License.\\n|\\n| The full license is in the file LICENSE, distributed with this software.\\n|----------------------------------------------------------------------------*/\\n\\n.lm-Menu {\\n  z-index: 10000;\\n  position: absolute;\\n  white-space: nowrap;\\n  overflow-x: hidden;\\n  overflow-y: auto;\\n  outline: none;\\n  -webkit-user-select: none;\\n  -moz-user-select: none;\\n  -ms-user-select: none;\\n  user-select: none;\\n}\\n\\n.lm-Menu-content {\\n  margin: 0;\\n  padding: 0;\\n  display: table;\\n  list-style-type: none;\\n}\\n\\n.lm-Menu-item {\\n  display: table-row;\\n}\\n\\n.lm-Menu-item.lm-mod-hidden,\\n.lm-Menu-item.lm-mod-collapsed {\\n  display: none !important;\\n}\\n\\n.lm-Menu-itemIcon,\\n.lm-Menu-itemSubmenuIcon {\\n  display: table-cell;\\n  text-align: center;\\n}\\n\\n.lm-Menu-itemLabel {\\n  display: table-cell;\\n  text-align: left;\\n}\\n\\n.lm-Menu-itemShortcut {\\n  display: table-cell;\\n  text-align: right;\\n}\\n\\n/*\\n * Copyright (c) Jupyter Development Team.\\n * Distributed under the terms of the Modified BSD License.\\n */\\n\\n/*-----------------------------------------------------------------------------\\n| Copyright (c) Jupyter Development Team.\\n| Copyright (c) 2014-2017, PhosphorJS Contributors\\n|\\n| Distributed under the terms of the BSD 3-Clause License.\\n|\\n| The full license is in the file LICENSE, distributed with this software.\\n|----------------------------------------------------------------------------*/\\n\\n.lm-MenuBar {\\n  outline: none;\\n  -webkit-user-select: none;\\n  -moz-user-select: none;\\n  -ms-user-select: none;\\n  user-select: none;\\n}\\n\\n.lm-MenuBar-content {\\n  margin: 0;\\n  padding: 0;\\n  display: flex;\\n  flex-direction: row;\\n  list-style-type: none;\\n}\\n\\n.lm-MenuBar-item {\\n  box-sizing: border-box;\\n}\\n\\n.lm-MenuBar-itemIcon,\\n.lm-MenuBar-itemLabel {\\n  display: inline-block;\\n}\\n\\n/*\\n * Copyright (c) Jupyter Development Team.\\n * Distributed under the terms of the Modified BSD License.\\n */\\n\\n/*-----------------------------------------------------------------------------\\n| Copyright (c) Jupyter Development Team.\\n| Copyright (c) 2014-2017, PhosphorJS Contributors\\n|\\n| Distributed under the terms of the BSD 3-Clause License.\\n|\\n| The full license is in the file LICENSE, distributed with this software.\\n|----------------------------------------------------------------------------*/\\n\\n.lm-ScrollBar {\\n  display: flex;\\n  -webkit-user-select: none;\\n  -moz-user-select: none;\\n  -ms-user-select: none;\\n  user-select: none;\\n}\\n\\n.lm-ScrollBar[data-orientation=\\'horizontal\\'] {\\n  flex-direction: row;\\n}\\n\\n.lm-ScrollBar[data-orientation=\\'vertical\\'] {\\n  flex-direction: column;\\n}\\n\\n.lm-ScrollBar-button {\\n  box-sizing: border-box;\\n  flex: 0 0 auto;\\n}\\n\\n.lm-ScrollBar-track {\\n  box-sizing: border-box;\\n  position: relative;\\n  overflow: hidden;\\n  flex: 1 1 auto;\\n}\\n\\n.lm-ScrollBar-thumb {\\n  box-sizing: border-box;\\n  position: absolute;\\n}\\n\\n/*\\n * Copyright (c) Jupyter Development Team.\\n * Distributed under the terms of the Modified BSD License.\\n */\\n\\n/*-----------------------------------------------------------------------------\\n| Copyright (c) Jupyter Development Team.\\n| Copyright (c) 2014-2017, PhosphorJS Contributors\\n|\\n| Distributed under the terms of the BSD 3-Clause License.\\n|\\n| The full license is in the file LICENSE, distributed with this software.\\n|----------------------------------------------------------------------------*/\\n\\n.lm-SplitPanel-child {\\n  z-index: 0;\\n}\\n\\n.lm-SplitPanel-handle {\\n  z-index: 1;\\n}\\n\\n.lm-SplitPanel-handle.lm-mod-hidden {\\n  display: none !important;\\n}\\n\\n.lm-SplitPanel-handle:after {\\n  position: absolute;\\n  top: 0;\\n  left: 0;\\n  width: 100%;\\n  height: 100%;\\n  content: \\'\\';\\n}\\n\\n.lm-SplitPanel[data-orientation=\\'horizontal\\'] > .lm-SplitPanel-handle {\\n  cursor: ew-resize;\\n}\\n\\n.lm-SplitPanel[data-orientation=\\'vertical\\'] > .lm-SplitPanel-handle {\\n  cursor: ns-resize;\\n}\\n\\n.lm-SplitPanel[data-orientation=\\'horizontal\\'] > .lm-SplitPanel-handle:after {\\n  left: 50%;\\n  min-width: 8px;\\n  transform: translateX(-50%);\\n}\\n\\n.lm-SplitPanel[data-orientation=\\'vertical\\'] > .lm-SplitPanel-handle:after {\\n  top: 50%;\\n  min-height: 8px;\\n  transform: translateY(-50%);\\n}\\n\\n/*\\n * Copyright (c) Jupyter Development Team.\\n * Distributed under the terms of the Modified BSD License.\\n */\\n\\n/*-----------------------------------------------------------------------------\\n| Copyright (c) Jupyter Development Team.\\n| Copyright (c) 2014-2017, PhosphorJS Contributors\\n|\\n| Distributed under the terms of the BSD 3-Clause License.\\n|\\n| The full license is in the file LICENSE, distributed with this software.\\n|----------------------------------------------------------------------------*/\\n\\n.lm-TabBar {\\n  display: flex;\\n  -webkit-user-select: none;\\n  -moz-user-select: none;\\n  -ms-user-select: none;\\n  user-select: none;\\n}\\n\\n.lm-TabBar[data-orientation=\\'horizontal\\'] {\\n  flex-direction: row;\\n  align-items: flex-end;\\n}\\n\\n.lm-TabBar[data-orientation=\\'vertical\\'] {\\n  flex-direction: column;\\n  align-items: flex-end;\\n}\\n\\n.lm-TabBar-content {\\n  margin: 0;\\n  padding: 0;\\n  display: flex;\\n  flex: 1 1 auto;\\n  list-style-type: none;\\n}\\n\\n.lm-TabBar[data-orientation=\\'horizontal\\'] > .lm-TabBar-content {\\n  flex-direction: row;\\n}\\n\\n.lm-TabBar[data-orientation=\\'vertical\\'] > .lm-TabBar-content {\\n  flex-direction: column;\\n}\\n\\n.lm-TabBar-tab {\\n  display: flex;\\n  flex-direction: row;\\n  box-sizing: border-box;\\n  overflow: hidden;\\n  touch-action: none; /* Disable native Drag/Drop */\\n}\\n\\n.lm-TabBar-tabIcon,\\n.lm-TabBar-tabCloseIcon {\\n  flex: 0 0 auto;\\n}\\n\\n.lm-TabBar-tabLabel {\\n  flex: 1 1 auto;\\n  overflow: hidden;\\n  white-space: nowrap;\\n}\\n\\n.lm-TabBar-tabInput {\\n  user-select: all;\\n  width: 100%;\\n  box-sizing: border-box;\\n}\\n\\n.lm-TabBar-tab.lm-mod-hidden {\\n  display: none !important;\\n}\\n\\n.lm-TabBar-addButton.lm-mod-hidden {\\n  display: none !important;\\n}\\n\\n.lm-TabBar.lm-mod-dragging .lm-TabBar-tab {\\n  position: relative;\\n}\\n\\n.lm-TabBar.lm-mod-dragging[data-orientation=\\'horizontal\\'] .lm-TabBar-tab {\\n  left: 0;\\n  transition: left 150ms ease;\\n}\\n\\n.lm-TabBar.lm-mod-dragging[data-orientation=\\'vertical\\'] .lm-TabBar-tab {\\n  top: 0;\\n  transition: top 150ms ease;\\n}\\n\\n.lm-TabBar.lm-mod-dragging .lm-TabBar-tab.lm-mod-dragging {\\n  transition: none;\\n}\\n\\n.lm-TabBar-tabLabel .lm-TabBar-tabInput {\\n  user-select: all;\\n  width: 100%;\\n  box-sizing: border-box;\\n  background: inherit;\\n}\\n\\n/*\\n * Copyright (c) Jupyter Development Team.\\n * Distributed under the terms of the Modified BSD License.\\n */\\n\\n/*-----------------------------------------------------------------------------\\n| Copyright (c) Jupyter Development Team.\\n| Copyright (c) 2014-2017, PhosphorJS Contributors\\n|\\n| Distributed under the terms of the BSD 3-Clause License.\\n|\\n| The full license is in the file LICENSE, distributed with this software.\\n|----------------------------------------------------------------------------*/\\n\\n.lm-TabPanel-tabBar {\\n  z-index: 1;\\n}\\n\\n.lm-TabPanel-stackedPanel {\\n  z-index: 0;\\n}\\n\\n/*\\n * Copyright (c) Jupyter Development Team.\\n * Distributed under the terms of the Modified BSD License.\\n */\\n\\n/*-----------------------------------------------------------------------------\\n| Copyright (c) Jupyter Development Team.\\n| Copyright (c) 2014-2017, PhosphorJS Contributors\\n|\\n| Distributed under the terms of the BSD 3-Clause License.\\n|\\n| The full license is in the file LICENSE, distributed with this software.\\n|----------------------------------------------------------------------------*/\\n\\n/*-----------------------------------------------------------------------------\\n| Copyright (c) Jupyter Development Team.\\n| Distributed under the terms of the Modified BSD License.\\n|----------------------------------------------------------------------------*/\\n\\n.jp-Collapse {\\n  display: flex;\\n  flex-direction: column;\\n  align-items: stretch;\\n}\\n\\n.jp-Collapse-header {\\n  padding: 1px 12px;\\n  background-color: var(--jp-layout-color1);\\n  border-bottom: solid var(--jp-border-width) var(--jp-border-color2);\\n  color: var(--jp-ui-font-color1);\\n  cursor: pointer;\\n  display: flex;\\n  align-items: center;\\n  font-size: var(--jp-ui-font-size0);\\n  font-weight: 600;\\n  text-transform: uppercase;\\n  user-select: none;\\n}\\n\\n.jp-Collapser-icon {\\n  height: 16px;\\n}\\n\\n.jp-Collapse-header-collapsed .jp-Collapser-icon {\\n  transform: rotate(-90deg);\\n  margin: auto 0;\\n}\\n\\n.jp-Collapser-title {\\n  line-height: 25px;\\n}\\n\\n.jp-Collapse-contents {\\n  padding: 0 12px;\\n  background-color: var(--jp-layout-color1);\\n  color: var(--jp-ui-font-color1);\\n  overflow: auto;\\n}\\n\\n/*-----------------------------------------------------------------------------\\n| Copyright (c) Jupyter Development Team.\\n| Distributed under the terms of the Modified BSD License.\\n|----------------------------------------------------------------------------*/\\n\\n/* This file was auto-generated by ensureUiComponents() in @jupyterlab/buildutils */\\n\\n/**\\n * (DEPRECATED) Support for consuming icons as CSS background images\\n */\\n\\n/* Icons urls */\\n\\n:root {\\n  --jp-icon-add-above: url(data:image/svg+xml;base64,PHN2ZyB3aWR0aD0iMTQiIGhlaWdodD0iMTQiIHZpZXdCb3g9IjAgMCAxNCAxNCIgZmlsbD0ibm9uZSIgeG1sbnM9Imh0dHA6Ly93d3cudzMub3JnLzIwMDAvc3ZnIj4KPGcgY2xpcC1wYXRoPSJ1cmwoI2NsaXAwXzEzN18xOTQ5MikiPgo8cGF0aCBjbGFzcz0ianAtaWNvbjMiIGQ9Ik00Ljc1IDQuOTMwNjZINi42MjVWNi44MDU2NkM2LjYyNSA3LjAxMTkxIDYuNzkzNzUgNy4xODA2NiA3IDcuMTgwNjZDNy4yMDYyNSA3LjE4MDY2IDcuMzc1IDcuMDExOTEgNy4zNzUgNi44MDU2NlY0LjkzMDY2SDkuMjVDOS40NTYyNSA0LjkzMDY2IDkuNjI1IDQuNzYxOTEgOS42MjUgNC41NTU2NkM5LjYyNSA0LjM0OTQxIDkuNDU2MjUgNC4xODA2NiA5LjI1IDQuMTgwNjZINy4zNzVWMi4zMDU2NkM3LjM3NSAyLjA5OTQxIDcuMjA2MjUgMS45MzA2NiA3IDEuOTMwNjZDNi43OTM3NSAxLjkzMDY2IDYuNjI1IDIuMDk5NDEgNi42MjUgMi4zMDU2NlY0LjE4MDY2SDQuNzVDNC41NDM3NSA0LjE4MDY2IDQuMzc1IDQuMzQ5NDEgNC4zNzUgNC41NTU2NkM0LjM3NSA0Ljc2MTkxIDQuNTQzNzUgNC45MzA2NiA0Ljc1IDQuOTMwNjZaIiBmaWxsPSIjNjE2MTYxIiBzdHJva2U9IiM2MTYxNjEiIHN0cm9rZS13aWR0aD0iMC43Ii8+CjwvZz4KPHBhdGggY2xhc3M9ImpwLWljb24zIiBmaWxsLXJ1bGU9ImV2ZW5vZGQiIGNsaXAtcnVsZT0iZXZlbm9kZCIgZD0iTTExLjUgOS41VjExLjVMMi41IDExLjVWOS41TDExLjUgOS41Wk0xMiA4QzEyLjU1MjMgOCAxMyA4LjQ0NzcyIDEzIDlWMTJDMTMgMTIuNTUyMyAxMi41NTIzIDEzIDEyIDEzTDIgMTNDMS40NDc3MiAxMyAxIDEyLjU1MjMgMSAxMlY5QzEgOC40NDc3MiAxLjQ0NzcxIDggMiA4TDEyIDhaIiBmaWxsPSIjNjE2MTYxIi8+CjxkZWZzPgo8Y2xpcFBhdGggaWQ9ImNsaXAwXzEzN18xOTQ5MiI+CjxyZWN0IGNsYXNzPSJqcC1pY29uMyIgd2lkdGg9IjYiIGhlaWdodD0iNiIgZmlsbD0id2hpdGUiIHRyYW5zZm9ybT0ibWF0cml4KC0xIDAgMCAxIDEwIDEuNTU1NjYpIi8+CjwvY2xpcFBhdGg+CjwvZGVmcz4KPC9zdmc+Cg==);\\n  --jp-icon-add-below: url(data:image/svg+xml;base64,PHN2ZyB3aWR0aD0iMTQiIGhlaWdodD0iMTQiIHZpZXdCb3g9IjAgMCAxNCAxNCIgZmlsbD0ibm9uZSIgeG1sbnM9Imh0dHA6Ly93d3cudzMub3JnLzIwMDAvc3ZnIj4KPGcgY2xpcC1wYXRoPSJ1cmwoI2NsaXAwXzEzN18xOTQ5OCkiPgo8cGF0aCBjbGFzcz0ianAtaWNvbjMiIGQ9Ik05LjI1IDEwLjA2OTNMNy4zNzUgMTAuMDY5M0w3LjM3NSA4LjE5NDM0QzcuMzc1IDcuOTg4MDkgNy4yMDYyNSA3LjgxOTM0IDcgNy44MTkzNEM2Ljc5Mzc1IDcuODE5MzQgNi42MjUgNy45ODgwOSA2LjYyNSA4LjE5NDM0TDYuNjI1IDEwLjA2OTNMNC43NSAxMC4wNjkzQzQuNTQzNzUgMTAuMDY5MyA0LjM3NSAxMC4yMzgxIDQuMzc1IDEwLjQ0NDNDNC4zNzUgMTAuNjUwNiA0LjU0Mzc1IDEwLjgxOTMgNC43NSAxMC44MTkzTDYuNjI1IDEwLjgxOTNMNi42MjUgMTIuNjk0M0M2LjYyNSAxMi45MDA2IDYuNzkzNzUgMTMuMDY5MyA3IDEzLjA2OTNDNy4yMDYyNSAxMy4wNjkzIDcuMzc1IDEyLjkwMDYgNy4zNzUgMTIuNjk0M0w3LjM3NSAxMC44MTkzTDkuMjUgMTAuODE5M0M5LjQ1NjI1IDEwLjgxOTMgOS42MjUgMTAuNjUwNiA5LjYyNSAxMC40NDQzQzkuNjI1IDEwLjIzODEgOS40NTYyNSAxMC4wNjkzIDkuMjUgMTAuMDY5M1oiIGZpbGw9IiM2MTYxNjEiIHN0cm9rZT0iIzYxNjE2MSIgc3Ryb2tlLXdpZHRoPSIwLjciLz4KPC9nPgo8cGF0aCBjbGFzcz0ianAtaWNvbjMiIGZpbGwtcnVsZT0iZXZlbm9kZCIgY2xpcC1ydWxlPSJldmVub2RkIiBkPSJNMi41IDUuNUwyLjUgMy41TDExLjUgMy41TDExLjUgNS41TDIuNSA1LjVaTTIgN0MxLjQ0NzcyIDcgMSA2LjU1MjI4IDEgNkwxIDNDMSAyLjQ0NzcyIDEuNDQ3NzIgMiAyIDJMMTIgMkMxMi41NTIzIDIgMTMgMi40NDc3MiAxMyAzTDEzIDZDMTMgNi41NTIyOSAxMi41NTIzIDcgMTIgN0wyIDdaIiBmaWxsPSIjNjE2MTYxIi8+CjxkZWZzPgo8Y2xpcFBhdGggaWQ9ImNsaXAwXzEzN18xOTQ5OCI+CjxyZWN0IGNsYXNzPSJqcC1pY29uMyIgd2lkdGg9IjYiIGhlaWdodD0iNiIgZmlsbD0id2hpdGUiIHRyYW5zZm9ybT0ibWF0cml4KDEgMS43NDg0NmUtMDcgMS43NDg0NmUtMDcgLTEgNCAxMy40NDQzKSIvPgo8L2NsaXBQYXRoPgo8L2RlZnM+Cjwvc3ZnPgo=);\\n  --jp-icon-add: url(data:image/svg+xml;base64,PHN2ZyB4bWxucz0iaHR0cDovL3d3dy53My5vcmcvMjAwMC9zdmciIHdpZHRoPSIxNiIgdmlld0JveD0iMCAwIDI0IDI0Ij4KICA8ZyBjbGFzcz0ianAtaWNvbjMiIGZpbGw9IiM2MTYxNjEiPgogICAgPHBhdGggZD0iTTE5IDEzaC02djZoLTJ2LTZINXYtMmg2VjVoMnY2aDZ2MnoiLz4KICA8L2c+Cjwvc3ZnPgo=);\\n  --jp-icon-bell: url(data:image/svg+xml;base64,PHN2ZyB4bWxucz0iaHR0cDovL3d3dy53My5vcmcvMjAwMC9zdmciIHdpZHRoPSIxNiIgdmlld0JveD0iMCAwIDE2IDE2IiB2ZXJzaW9uPSIxLjEiPgogICA8cGF0aCBjbGFzcz0ianAtaWNvbjIganAtaWNvbi1zZWxlY3RhYmxlIiBmaWxsPSIjMzMzMzMzIgogICAgICBkPSJtOCAwLjI5Yy0xLjQgMC0yLjcgMC43My0zLjYgMS44LTEuMiAxLjUtMS40IDMuNC0xLjUgNS4yLTAuMTggMi4yLTAuNDQgNC0yLjMgNS4zbDAuMjggMS4zaDVjMC4wMjYgMC42NiAwLjMyIDEuMSAwLjcxIDEuNSAwLjg0IDAuNjEgMiAwLjYxIDIuOCAwIDAuNTItMC40IDAuNi0xIDAuNzEtMS41aDVsMC4yOC0xLjNjLTEuOS0wLjk3LTIuMi0zLjMtMi4zLTUuMy0wLjEzLTEuOC0wLjI2LTMuNy0xLjUtNS4yLTAuODUtMS0yLjItMS44LTMuNi0xLjh6bTAgMS40YzAuODggMCAxLjkgMC41NSAyLjUgMS4zIDAuODggMS4xIDEuMSAyLjcgMS4yIDQuNCAwLjEzIDEuNyAwLjIzIDMuNiAxLjMgNS4yaC0xMGMxLjEtMS42IDEuMi0zLjQgMS4zLTUuMiAwLjEzLTEuNyAwLjMtMy4zIDEuMi00LjQgMC41OS0wLjcyIDEuNi0xLjMgMi41LTEuM3ptLTAuNzQgMTJoMS41Yy0wLjAwMTUgMC4yOCAwLjAxNSAwLjc5LTAuNzQgMC43OS0wLjczIDAuMDAxNi0wLjcyLTAuNTMtMC43NC0wLjc5eiIgLz4KPC9zdmc+Cg==);\\n  --jp-icon-bug-dot: url(data:image/svg+xml;base64,PHN2ZyB3aWR0aD0iMjQiIGhlaWdodD0iMjQiIHZpZXdCb3g9IjAgMCAyNCAyNCIgZmlsbD0ibm9uZSIgeG1sbnM9Imh0dHA6Ly93d3cudzMub3JnLzIwMDAvc3ZnIj4KICAgIDxnIGNsYXNzPSJqcC1pY29uMyBqcC1pY29uLXNlbGVjdGFibGUiIGZpbGw9IiM2MTYxNjEiPgogICAgICAgIDxwYXRoIGZpbGwtcnVsZT0iZXZlbm9kZCIgY2xpcC1ydWxlPSJldmVub2RkIiBkPSJNMTcuMTkgOEgyMFYxMEgxNy45MUMxNy45NiAxMC4zMyAxOCAxMC42NiAxOCAxMVYxMkgyMFYxNEgxOC41SDE4VjE0LjAyNzVDMTUuNzUgMTQuMjc2MiAxNCAxNi4xODM3IDE0IDE4LjVDMTQgMTkuMjA4IDE0LjE2MzUgMTkuODc3OSAxNC40NTQ5IDIwLjQ3MzlDMTMuNzA2MyAyMC44MTE3IDEyLjg3NTcgMjEgMTIgMjFDOS43OCAyMSA3Ljg1IDE5Ljc5IDYuODEgMThINFYxNkg2LjA5QzYuMDQgMTUuNjcgNiAxNS4zNCA2IDE1VjE0SDRWMTJINlYxMUM2IDEwLjY2IDYuMDQgMTAuMzMgNi4wOSAxMEg0VjhINi44MUM3LjI2IDcuMjIgNy44OCA2LjU1IDguNjIgNi4wNEw3IDQuNDFMOC40MSAzTDEwLjU5IDUuMTdDMTEuMDQgNS4wNiAxMS41MSA1IDEyIDVDMTIuNDkgNSAxMi45NiA1LjA2IDEzLjQyIDUuMTdMMTUuNTkgM0wxNyA0LjQxTDE1LjM3IDYuMDRDMTYuMTIgNi41NSAxNi43NCA3LjIyIDE3LjE5IDhaTTEwIDE2SDE0VjE0SDEwVjE2Wk0xMCAxMkgxNFYxMEgxMFYxMloiIGZpbGw9IiM2MTYxNjEiLz4KICAgICAgICA8cGF0aCBkPSJNMjIgMTguNUMyMiAyMC40MzMgMjAuNDMzIDIyIDE4LjUgMjJDMTYuNTY3IDIyIDE1IDIwLjQzMyAxNSAxOC41QzE1IDE2LjU2NyAxNi41NjcgMTUgMTguNSAxNUMyMC40MzMgMTUgMjIgMTYuNTY3IDIyIDE4LjVaIiBmaWxsPSIjNjE2MTYxIi8+CiAgICA8L2c+Cjwvc3ZnPgo=);\\n  --jp-icon-bug: url(data:image/svg+xml;base64,PHN2ZyB2aWV3Qm94PSIwIDAgMjQgMjQiIHdpZHRoPSIxNiIgeG1sbnM9Imh0dHA6Ly93d3cudzMub3JnLzIwMDAvc3ZnIj4KICA8ZyBjbGFzcz0ianAtaWNvbjMganAtaWNvbi1zZWxlY3RhYmxlIiBmaWxsPSIjNjE2MTYxIj4KICAgIDxwYXRoIGQ9Ik0yMCA4aC0yLjgxYy0uNDUtLjc4LTEuMDctMS40NS0xLjgyLTEuOTZMMTcgNC40MSAxNS41OSAzbC0yLjE3IDIuMTdDMTIuOTYgNS4wNiAxMi40OSA1IDEyIDVjLS40OSAwLS45Ni4wNi0xLjQxLjE3TDguNDEgMyA3IDQuNDFsMS42MiAxLjYzQzcuODggNi41NSA3LjI2IDcuMjIgNi44MSA4SDR2MmgyLjA5Yy0uMDUuMzMtLjA5LjY2LS4wOSAxdjFINHYyaDJ2MWMwIC4zNC4wNC42Ny4wOSAxSDR2MmgyLjgxYzEuMDQgMS43OSAyLjk3IDMgNS4xOSAzczQuMTUtMS4yMSA1LjE5LTNIMjB2LTJoLTIuMDljLjA1LS4zMy4wOS0uNjYuMDktMXYtMWgydi0yaC0ydi0xYzAtLjM0LS4wNC0uNjctLjA5LTFIMjBWOHptLTYgOGgtNHYtMmg0djJ6bTAtNGgtNHYtMmg0djJ6Ii8+CiAgPC9nPgo8L3N2Zz4K);\\n  --jp-icon-build: url(data:image/svg+xml;base64,PHN2ZyB3aWR0aD0iMTYiIHZpZXdCb3g9IjAgMCAyNCAyNCIgeG1sbnM9Imh0dHA6Ly93d3cudzMub3JnLzIwMDAvc3ZnIj4KICA8ZyBjbGFzcz0ianAtaWNvbjMiIGZpbGw9IiM2MTYxNjEiPgogICAgPHBhdGggZD0iTTE0LjkgMTcuNDVDMTYuMjUgMTcuNDUgMTcuMzUgMTYuMzUgMTcuMzUgMTVDMTcuMzUgMTMuNjUgMTYuMjUgMTIuNTUgMTQuOSAxMi41NUMxMy41NCAxMi41NSAxMi40NSAxMy42NSAxMi40NSAxNUMxMi40NSAxNi4zNSAxMy41NCAxNy40NSAxNC45IDE3LjQ1Wk0yMC4xIDE1LjY4TDIxLjU4IDE2Ljg0QzIxLjcxIDE2Ljk1IDIxLjc1IDE3LjEzIDIxLjY2IDE3LjI5TDIwLjI2IDE5LjcxQzIwLjE3IDE5Ljg2IDIwIDE5LjkyIDE5LjgzIDE5Ljg2TDE4LjA5IDE5LjE2QzE3LjczIDE5LjQ0IDE3LjMzIDE5LjY3IDE2LjkxIDE5Ljg1TDE2LjY0IDIxLjdDMTYuNjIgMjEuODcgMTYuNDcgMjIgMTYuMyAyMkgxMy41QzEzLjMyIDIyIDEzLjE4IDIxLjg3IDEzLjE1IDIxLjdMMTIuODkgMTkuODVDMTIuNDYgMTkuNjcgMTIuMDcgMTkuNDQgMTEuNzEgMTkuMTZMOS45NjAwMiAxOS44NkM5LjgxMDAyIDE5LjkyIDkuNjIwMDIgMTkuODYgOS41NDAwMiAxOS43MUw4LjE0MDAyIDE3LjI5QzguMDUwMDIgMTcuMTMgOC4wOTAwMiAxNi45NSA4LjIyMDAyIDE2Ljg0TDkuNzAwMDIgMTUuNjhMOS42NTAwMSAxNUw5LjcwMDAyIDE0LjMxTDguMjIwMDIgMTMuMTZDOC4wOTAwMiAxMy4wNSA4LjA1MDAyIDEyLjg2IDguMTQwMDIgMTIuNzFMOS41NDAwMiAxMC4yOUM5LjYyMDAyIDEwLjEzIDkuODEwMDIgMTAuMDcgOS45NjAwMiAxMC4xM0wxMS43MSAxMC44NEMxMi4wNyAxMC41NiAxMi40NiAxMC4zMiAxMi44OSAxMC4xNUwxMy4xNSA4LjI4OTk4QzEzLjE4IDguMTI5OTggMTMuMzIgNy45OTk5OCAxMy41IDcuOTk5OThIMTYuM0MxNi40NyA3Ljk5OTk4IDE2LjYyIDguMTI5OTggMTYuNjQgOC4yODk5OEwxNi45MSAxMC4xNUMxNy4zMyAxMC4zMiAxNy43MyAxMC41NiAxOC4wOSAxMC44NEwxOS44MyAxMC4xM0MyMCAxMC4wNyAyMC4xNyAxMC4xMyAyMC4yNiAxMC4yOUwyMS42NiAxMi43MUMyMS43NSAxMi44NiAyMS43MSAxMy4wNSAyMS41OCAxMy4xNkwyMC4xIDE0LjMxTDIwLjE1IDE1TDIwLjEgMTUuNjhaIi8+CiAgICA8cGF0aCBkPSJNNy4zMjk2NiA3LjQ0NDU0QzguMDgzMSA3LjAwOTU0IDguMzM5MzIgNi4wNTMzMiA3LjkwNDMyIDUuMjk5ODhDNy40NjkzMiA0LjU0NjQzIDYuNTA4MSA0LjI4MTU2IDUuNzU0NjYgNC43MTY1NkM1LjM5MTc2IDQuOTI2MDggNS4xMjY5NSA1LjI3MTE4IDUuMDE4NDkgNS42NzU5NEM0LjkxMDA0IDYuMDgwNzEgNC45NjY4MiA2LjUxMTk4IDUuMTc2MzQgNi44NzQ4OEM1LjYxMTM0IDcuNjI4MzIgNi41NzYyMiA3Ljg3OTU0IDcuMzI5NjYgNy40NDQ1NFpNOS42NTcxOCA0Ljc5NTkzTDEwLjg2NzIgNC45NTE3OUMxMC45NjI4IDQuOTc3NDEgMTEuMDQwMiA1LjA3MTMzIDExLjAzODIgNS4xODc5M0wxMS4wMzg4IDYuOTg4OTNDMTEuMDQ1NSA3LjEwMDU0IDEwLjk2MTYgNy4xOTUxOCAxMC44NTUgNy4yMTA1NEw5LjY2MDAxIDcuMzgwODNMOS4yMzkxNSA4LjEzMTg4TDkuNjY5NjEgOS4yNTc0NUM5LjcwNzI5IDkuMzYyNzEgOS42NjkzNCA5LjQ3Njk5IDkuNTc0MDggOS41MzE5OUw4LjAxNTIzIDEwLjQzMkM3LjkxMTMxIDEwLjQ5MiA3Ljc5MzM3IDEwLjQ2NzcgNy43MjEwNSAxMC4zODI0TDYuOTg3NDggOS40MzE4OEw2LjEwOTMxIDkuNDMwODNMNS4zNDcwNCAxMC4zOTA1QzUuMjg5MDkgMTAuNDcwMiA1LjE3MzgzIDEwLjQ5MDUgNS4wNzE4NyAxMC40MzM5TDMuNTEyNDUgOS41MzI5M0MzLjQxMDQ5IDkuNDc2MzMgMy4zNzY0NyA5LjM1NzQxIDMuNDEwNzUgOS4yNTY3OUwzLjg2MzQ3IDguMTQwOTNMMy42MTc0OSA3Ljc3NDg4TDMuNDIzNDcgNy4zNzg4M0wyLjIzMDc1IDcuMjEyOTdDMi4xMjY0NyA3LjE5MjM1IDIuMDQwNDkgNy4xMDM0MiAyLjA0MjQ1IDYuOTg2ODJMMi4wNDE4NyA1LjE4NTgyQzIuMDQzODMgNS4wNjkyMiAyLjExOTA5IDQuOTc5NTggMi4yMTcwNCA0Ljk2OTIyTDMuNDIwNjUgNC43OTM5M0wzLjg2NzQ5IDQuMDI3ODhMMy40MTEwNSAyLjkxNzMxQzMuMzczMzcgMi44MTIwNCAzLjQxMTMxIDIuNjk3NzYgMy41MTUyMyAyLjYzNzc2TDUuMDc0MDggMS43Mzc3NkM1LjE2OTM0IDEuNjgyNzYgNS4yODcyOSAxLjcwNzA0IDUuMzU5NjEgMS43OTIzMUw2LjExOTE1IDIuNzI3ODhMNi45ODAwMSAyLjczODkzTDcuNzI0OTYgMS43ODkyMkM3Ljc5MTU2IDEuNzA0NTggNy45MTU0OCAxLjY3OTIyIDguMDA4NzkgMS43NDA4Mkw5LjU2ODIxIDIuNjQxODJDOS42NzAxNyAyLjY5ODQyIDkuNzEyODUgMi44MTIzNCA5LjY4NzIzIDIuOTA3OTdMOS4yMTcxOCA0LjAzMzgzTDkuNDYzMTYgNC4zOTk4OEw5LjY1NzE4IDQuNzk1OTNaIi8+CiAgPC9nPgo8L3N2Zz4K);\\n  --jp-icon-caret-down-empty-thin: url(data:image/svg+xml;base64,PHN2ZyB4bWxucz0iaHR0cDovL3d3dy53My5vcmcvMjAwMC9zdmciIHdpZHRoPSIxNiIgdmlld0JveD0iMCAwIDIwIDIwIj4KCTxnIGNsYXNzPSJqcC1pY29uMyIgZmlsbD0iIzYxNjE2MSIgc2hhcGUtcmVuZGVyaW5nPSJnZW9tZXRyaWNQcmVjaXNpb24iPgoJCTxwb2x5Z29uIGNsYXNzPSJzdDEiIHBvaW50cz0iOS45LDEzLjYgMy42LDcuNCA0LjQsNi42IDkuOSwxMi4yIDE1LjQsNi43IDE2LjEsNy40ICIvPgoJPC9nPgo8L3N2Zz4K);\\n  --jp-icon-caret-down-empty: url(data:image/svg+xml;base64,PHN2ZyB4bWxucz0iaHR0cDovL3d3dy53My5vcmcvMjAwMC9zdmciIHdpZHRoPSIxNiIgdmlld0JveD0iMCAwIDE4IDE4Ij4KICA8ZyBjbGFzcz0ianAtaWNvbjMiIGZpbGw9IiM2MTYxNjEiIHNoYXBlLXJlbmRlcmluZz0iZ2VvbWV0cmljUHJlY2lzaW9uIj4KICAgIDxwYXRoIGQ9Ik01LjIsNS45TDksOS43bDMuOC0zLjhsMS4yLDEuMmwtNC45LDVsLTQuOS01TDUuMiw1Ljl6Ii8+CiAgPC9nPgo8L3N2Zz4K);\\n  --jp-icon-caret-down: url(data:image/svg+xml;base64,PHN2ZyB4bWxucz0iaHR0cDovL3d3dy53My5vcmcvMjAwMC9zdmciIHdpZHRoPSIxNiIgdmlld0JveD0iMCAwIDE4IDE4Ij4KICA8ZyBjbGFzcz0ianAtaWNvbjMiIGZpbGw9IiM2MTYxNjEiIHNoYXBlLXJlbmRlcmluZz0iZ2VvbWV0cmljUHJlY2lzaW9uIj4KICAgIDxwYXRoIGQ9Ik01LjIsNy41TDksMTEuMmwzLjgtMy44SDUuMnoiLz4KICA8L2c+Cjwvc3ZnPgo=);\\n  --jp-icon-caret-left: url(data:image/svg+xml;base64,PHN2ZyB4bWxucz0iaHR0cDovL3d3dy53My5vcmcvMjAwMC9zdmciIHdpZHRoPSIxNiIgdmlld0JveD0iMCAwIDE4IDE4Ij4KCTxnIGNsYXNzPSJqcC1pY29uMyIgZmlsbD0iIzYxNjE2MSIgc2hhcGUtcmVuZGVyaW5nPSJnZW9tZXRyaWNQcmVjaXNpb24iPgoJCTxwYXRoIGQ9Ik0xMC44LDEyLjhMNy4xLDlsMy44LTMuOGwwLDcuNkgxMC44eiIvPgogIDwvZz4KPC9zdmc+Cg==);\\n  --jp-icon-caret-right: url(data:image/svg+xml;base64,PHN2ZyB4bWxucz0iaHR0cDovL3d3dy53My5vcmcvMjAwMC9zdmciIHdpZHRoPSIxNiIgdmlld0JveD0iMCAwIDE4IDE4Ij4KICA8ZyBjbGFzcz0ianAtaWNvbjMiIGZpbGw9IiM2MTYxNjEiIHNoYXBlLXJlbmRlcmluZz0iZ2VvbWV0cmljUHJlY2lzaW9uIj4KICAgIDxwYXRoIGQ9Ik03LjIsNS4yTDEwLjksOWwtMy44LDMuOFY1LjJINy4yeiIvPgogIDwvZz4KPC9zdmc+Cg==);\\n  --jp-icon-caret-up-empty-thin: url(data:image/svg+xml;base64,PHN2ZyB4bWxucz0iaHR0cDovL3d3dy53My5vcmcvMjAwMC9zdmciIHdpZHRoPSIxNiIgdmlld0JveD0iMCAwIDIwIDIwIj4KCTxnIGNsYXNzPSJqcC1pY29uMyIgZmlsbD0iIzYxNjE2MSIgc2hhcGUtcmVuZGVyaW5nPSJnZW9tZXRyaWNQcmVjaXNpb24iPgoJCTxwb2x5Z29uIGNsYXNzPSJzdDEiIHBvaW50cz0iMTUuNCwxMy4zIDkuOSw3LjcgNC40LDEzLjIgMy42LDEyLjUgOS45LDYuMyAxNi4xLDEyLjYgIi8+Cgk8L2c+Cjwvc3ZnPgo=);\\n  --jp-icon-caret-up: url(data:image/svg+xml;base64,PHN2ZyB4bWxucz0iaHR0cDovL3d3dy53My5vcmcvMjAwMC9zdmciIHdpZHRoPSIxNiIgdmlld0JveD0iMCAwIDE4IDE4Ij4KCTxnIGNsYXNzPSJqcC1pY29uMyIgZmlsbD0iIzYxNjE2MSIgc2hhcGUtcmVuZGVyaW5nPSJnZW9tZXRyaWNQcmVjaXNpb24iPgoJCTxwYXRoIGQ9Ik01LjIsMTAuNUw5LDYuOGwzLjgsMy44SDUuMnoiLz4KICA8L2c+Cjwvc3ZnPgo=);\\n  --jp-icon-case-sensitive: url(data:image/svg+xml;base64,PHN2ZyB4bWxucz0iaHR0cDovL3d3dy53My5vcmcvMjAwMC9zdmciIHdpZHRoPSIxNiIgdmlld0JveD0iMCAwIDIwIDIwIj4KICA8ZyBjbGFzcz0ianAtaWNvbjIiIGZpbGw9IiM0MTQxNDEiPgogICAgPHJlY3QgeD0iMiIgeT0iMiIgd2lkdGg9IjE2IiBoZWlnaHQ9IjE2Ii8+CiAgPC9nPgogIDxnIGNsYXNzPSJqcC1pY29uLWFjY2VudDIiIGZpbGw9IiNGRkYiPgogICAgPHBhdGggZD0iTTcuNiw4aDAuOWwzLjUsOGgtMS4xTDEwLDE0SDZsLTAuOSwySDRMNy42LDh6IE04LDkuMUw2LjQsMTNoMy4yTDgsOS4xeiIvPgogICAgPHBhdGggZD0iTTE2LjYsOS44Yy0wLjIsMC4xLTAuNCwwLjEtMC43LDAuMWMtMC4yLDAtMC40LTAuMS0wLjYtMC4yYy0wLjEtMC4xLTAuMi0wLjQtMC4yLTAuNyBjLTAuMywwLjMtMC42LDAuNS0wLjksMC43Yy0wLjMsMC4xLTAuNywwLjItMS4xLDAuMmMtMC4zLDAtMC41LDAtMC43LTAuMWMtMC4yLTAuMS0wLjQtMC4yLTAuNi0wLjNjLTAuMi0wLjEtMC4zLTAuMy0wLjQtMC41IGMtMC4xLTAuMi0wLjEtMC40LTAuMS0wLjdjMC0wLjMsMC4xLTAuNiwwLjItMC44YzAuMS0wLjIsMC4zLTAuNCwwLjQtMC41QzEyLDcsMTIuMiw2LjksMTIuNSw2LjhjMC4yLTAuMSwwLjUtMC4xLDAuNy0wLjIgYzAuMy0wLjEsMC41LTAuMSwwLjctMC4xYzAuMiwwLDAuNC0wLjEsMC42LTAuMWMwLjIsMCwwLjMtMC4xLDAuNC0wLjJjMC4xLTAuMSwwLjItMC4yLDAuMi0wLjRjMC0xLTEuMS0xLTEuMy0xIGMtMC40LDAtMS40LDAtMS40LDEuMmgtMC45YzAtMC40LDAuMS0wLjcsMC4yLTFjMC4xLTAuMiwwLjMtMC40LDAuNS0wLjZjMC4yLTAuMiwwLjUtMC4zLDAuOC0wLjNDMTMuMyw0LDEzLjYsNCwxMy45LDQgYzAuMywwLDAuNSwwLDAuOCwwLjFjMC4zLDAsMC41LDAuMSwwLjcsMC4yYzAuMiwwLjEsMC40LDAuMywwLjUsMC41QzE2LDUsMTYsNS4yLDE2LDUuNnYyLjljMCwwLjIsMCwwLjQsMCwwLjUgYzAsMC4xLDAuMSwwLjIsMC4zLDAuMmMwLjEsMCwwLjIsMCwwLjMsMFY5Ljh6IE0xNS4yLDYuOWMtMS4yLDAuNi0zLjEsMC4yLTMuMSwxLjRjMCwxLjQsMy4xLDEsMy4xLTAuNVY2Ljl6Ii8+CiAgPC9nPgo8L3N2Zz4K);\\n  --jp-icon-check: url(data:image/svg+xml;base64,PHN2ZyB4bWxucz0iaHR0cDovL3d3dy53My5vcmcvMjAwMC9zdmciIHdpZHRoPSIxNiIgdmlld0JveD0iMCAwIDI0IDI0Ij4KICA8ZyBjbGFzcz0ianAtaWNvbjMganAtaWNvbi1zZWxlY3RhYmxlIiBmaWxsPSIjNjE2MTYxIj4KICAgIDxwYXRoIGQ9Ik05IDE2LjE3TDQuODMgMTJsLTEuNDIgMS40MUw5IDE5IDIxIDdsLTEuNDEtMS40MXoiLz4KICA8L2c+Cjwvc3ZnPgo=);\\n  --jp-icon-circle-empty: url(data:image/svg+xml;base64,PHN2ZyB4bWxucz0iaHR0cDovL3d3dy53My5vcmcvMjAwMC9zdmciIHdpZHRoPSIxNiIgdmlld0JveD0iMCAwIDI0IDI0Ij4KICA8ZyBjbGFzcz0ianAtaWNvbjMiIGZpbGw9IiM2MTYxNjEiPgogICAgPHBhdGggZD0iTTEyIDJDNi40NyAyIDIgNi40NyAyIDEyczQuNDcgMTAgMTAgMTAgMTAtNC40NyAxMC0xMFMxNy41MyAyIDEyIDJ6bTAgMThjLTQuNDEgMC04LTMuNTktOC04czMuNTktOCA4LTggOCAzLjU5IDggOC0zLjU5IDgtOCA4eiIvPgogIDwvZz4KPC9zdmc+Cg==);\\n  --jp-icon-circle: url(data:image/svg+xml;base64,PHN2ZyB2aWV3Qm94PSIwIDAgMTggMTgiIHdpZHRoPSIxNiIgeG1sbnM9Imh0dHA6Ly93d3cudzMub3JnLzIwMDAvc3ZnIj4KICA8ZyBjbGFzcz0ianAtaWNvbjMiIGZpbGw9IiM2MTYxNjEiPgogICAgPGNpcmNsZSBjeD0iOSIgY3k9IjkiIHI9IjgiLz4KICA8L2c+Cjwvc3ZnPgo=);\\n  --jp-icon-clear: url(data:image/svg+xml;base64,PHN2ZyB4bWxucz0iaHR0cDovL3d3dy53My5vcmcvMjAwMC9zdmciIHdpZHRoPSIxNiIgdmlld0JveD0iMCAwIDI0IDI0Ij4KICA8bWFzayBpZD0iZG9udXRIb2xlIj4KICAgIDxyZWN0IHdpZHRoPSIyNCIgaGVpZ2h0PSIyNCIgZmlsbD0id2hpdGUiIC8+CiAgICA8Y2lyY2xlIGN4PSIxMiIgY3k9IjEyIiByPSI4IiBmaWxsPSJibGFjayIvPgogIDwvbWFzaz4KCiAgPGcgY2xhc3M9ImpwLWljb24zIiBmaWxsPSIjNjE2MTYxIj4KICAgIDxyZWN0IGhlaWdodD0iMTgiIHdpZHRoPSIyIiB4PSIxMSIgeT0iMyIgdHJhbnNmb3JtPSJyb3RhdGUoMzE1LCAxMiwgMTIpIi8+CiAgICA8Y2lyY2xlIGN4PSIxMiIgY3k9IjEyIiByPSIxMCIgbWFzaz0idXJsKCNkb251dEhvbGUpIi8+CiAgPC9nPgo8L3N2Zz4K);\\n  --jp-icon-close: url(data:image/svg+xml;base64,PHN2ZyB2aWV3Qm94PSIwIDAgMjQgMjQiIHdpZHRoPSIxNiIgeG1sbnM9Imh0dHA6Ly93d3cudzMub3JnLzIwMDAvc3ZnIj4KICA8ZyBjbGFzcz0ianAtaWNvbi1ub25lIGpwLWljb24tc2VsZWN0YWJsZS1pbnZlcnNlIGpwLWljb24zLWhvdmVyIiBmaWxsPSJub25lIj4KICAgIDxjaXJjbGUgY3g9IjEyIiBjeT0iMTIiIHI9IjExIi8+CiAgPC9nPgoKICA8ZyBjbGFzcz0ianAtaWNvbjMganAtaWNvbi1zZWxlY3RhYmxlIGpwLWljb24tYWNjZW50Mi1ob3ZlciIgZmlsbD0iIzYxNjE2MSI+CiAgICA8cGF0aCBkPSJNMTkgNi40MUwxNy41OSA1IDEyIDEwLjU5IDYuNDEgNSA1IDYuNDEgMTAuNTkgMTIgNSAxNy41OSA2LjQxIDE5IDEyIDEzLjQxIDE3LjU5IDE5IDE5IDE3LjU5IDEzLjQxIDEyeiIvPgogIDwvZz4KCiAgPGcgY2xhc3M9ImpwLWljb24tbm9uZSBqcC1pY29uLWJ1c3kiIGZpbGw9Im5vbmUiPgogICAgPGNpcmNsZSBjeD0iMTIiIGN5PSIxMiIgcj0iNyIvPgogIDwvZz4KPC9zdmc+Cg==);\\n  --jp-icon-code-check: url(data:image/svg+xml;base64,PHN2ZyB4bWxucz0iaHR0cDovL3d3dy53My5vcmcvMjAwMC9zdmciIHdpZHRoPSIyNCIgdmlld0JveD0iMCAwIDI0IDI0Ij4KICA8ZyBjbGFzcz0ianAtaWNvbjMganAtaWNvbi1zZWxlY3RhYmxlIiBmaWxsPSIjNjE2MTYxIiBzaGFwZS1yZW5kZXJpbmc9Imdlb21ldHJpY1ByZWNpc2lvbiI+CiAgICA8cGF0aCBkPSJNNi41OSwzLjQxTDIsOEw2LjU5LDEyLjZMOCwxMS4xOEw0LjgyLDhMOCw0LjgyTDYuNTksMy40MU0xMi40MSwzLjQxTDExLDQuODJMMTQuMTgsOEwxMSwxMS4xOEwxMi40MSwxMi42TDE3LDhMMTIuNDEsMy40MU0yMS41OSwxMS41OUwxMy41LDE5LjY4TDkuODMsMTZMOC40MiwxNy40MUwxMy41LDIyLjVMMjMsMTNMMjEuNTksMTEuNTlaIiAvPgogIDwvZz4KPC9zdmc+Cg==);\\n  --jp-icon-code: url(data:image/svg+xml;base64,PHN2ZyB3aWR0aD0iMjIiIGhlaWdodD0iMjIiIHZpZXdCb3g9IjAgMCAyOCAyOCIgeG1sbnM9Imh0dHA6Ly93d3cudzMub3JnLzIwMDAvc3ZnIj4KCTxnIGNsYXNzPSJqcC1pY29uMyIgZmlsbD0iIzYxNjE2MSI+CgkJPHBhdGggZD0iTTExLjQgMTguNkw2LjggMTRMMTEuNCA5LjRMMTAgOEw0IDE0TDEwIDIwTDExLjQgMTguNlpNMTYuNiAxOC42TDIxLjIgMTRMMTYuNiA5LjRMMTggOEwyNCAxNEwxOCAyMEwxNi42IDE4LjZWMTguNloiLz4KCTwvZz4KPC9zdmc+Cg==);\\n  --jp-icon-collapse-all: url(data:image/svg+xml;base64,PHN2ZyB4bWxucz0iaHR0cDovL3d3dy53My5vcmcvMjAwMC9zdmciIHdpZHRoPSIxNiIgdmlld0JveD0iMCAwIDI0IDI0Ij4KICAgIDxnIGNsYXNzPSJqcC1pY29uMyIgZmlsbD0iIzYxNjE2MSI+CiAgICAgICAgPHBhdGgKICAgICAgICAgICAgZD0iTTggMmMxIDAgMTEgMCAxMiAwczIgMSAyIDJjMCAxIDAgMTEgMCAxMnMwIDItMiAyQzIwIDE0IDIwIDQgMjAgNFMxMCA0IDYgNGMwLTIgMS0yIDItMnoiIC8+CiAgICAgICAgPHBhdGgKICAgICAgICAgICAgZD0iTTE4IDhjMC0xLTEtMi0yLTJTNSA2IDQgNnMtMiAxLTIgMmMwIDEgMCAxMSAwIDEyczEgMiAyIDJjMSAwIDExIDAgMTIgMHMyLTEgMi0yYzAtMSAwLTExIDAtMTJ6bS0yIDB2MTJINFY4eiIgLz4KICAgICAgICA8cGF0aCBkPSJNNiAxM3YyaDh2LTJ6IiAvPgogICAgPC9nPgo8L3N2Zz4K);\\n  --jp-icon-console: url(data:image/svg+xml;base64,PHN2ZyB4bWxucz0iaHR0cDovL3d3dy53My5vcmcvMjAwMC9zdmciIHdpZHRoPSIxNiIgdmlld0JveD0iMCAwIDIwMCAyMDAiPgogIDxnIGNsYXNzPSJqcC1jb25zb2xlLWljb24tYmFja2dyb3VuZC1jb2xvciBqcC1pY29uLXNlbGVjdGFibGUiIGZpbGw9IiMwMjg4RDEiPgogICAgPHBhdGggZD0iTTIwIDE5LjhoMTYwdjE1OS45SDIweiIvPgogIDwvZz4KICA8ZyBjbGFzcz0ianAtY29uc29sZS1pY29uLWNvbG9yIGpwLWljb24tc2VsZWN0YWJsZS1pbnZlcnNlIiBmaWxsPSIjZmZmIj4KICAgIDxwYXRoIGQ9Ik0xMDUgMTI3LjNoNDB2MTIuOGgtNDB6TTUxLjEgNzdMNzQgOTkuOWwtMjMuMyAyMy4zIDEwLjUgMTAuNSAyMy4zLTIzLjNMOTUgOTkuOSA4NC41IDg5LjQgNjEuNiA2Ni41eiIvPgogIDwvZz4KPC9zdmc+Cg==);\\n  --jp-icon-copy: url(data:image/svg+xml;base64,PHN2ZyB2aWV3Qm94PSIwIDAgMTggMTgiIHdpZHRoPSIxNiIgeG1sbnM9Imh0dHA6Ly93d3cudzMub3JnLzIwMDAvc3ZnIj4KICA8ZyBjbGFzcz0ianAtaWNvbjMiIGZpbGw9IiM2MTYxNjEiPgogICAgPHBhdGggZD0iTTExLjksMUgzLjJDMi40LDEsMS43LDEuNywxLjcsMi41djEwLjJoMS41VjIuNWg4LjdWMXogTTE0LjEsMy45aC04Yy0wLjgsMC0xLjUsMC43LTEuNSwxLjV2MTAuMmMwLDAuOCwwLjcsMS41LDEuNSwxLjVoOCBjMC44LDAsMS41LTAuNywxLjUtMS41VjUuNEMxNS41LDQuNiwxNC45LDMuOSwxNC4xLDMuOXogTTE0LjEsMTUuNWgtOFY1LjRoOFYxNS41eiIvPgogIDwvZz4KPC9zdmc+Cg==);\\n  --jp-icon-copyright: url(data:image/svg+xml;base64,PHN2ZyB4bWxucz0iaHR0cDovL3d3dy53My5vcmcvMjAwMC9zdmciIGVuYWJsZS1iYWNrZ3JvdW5kPSJuZXcgMCAwIDI0IDI0IiBoZWlnaHQ9IjI0IiB2aWV3Qm94PSIwIDAgMjQgMjQiIHdpZHRoPSIyNCI+CiAgPGcgY2xhc3M9ImpwLWljb24zIiBmaWxsPSIjNjE2MTYxIj4KICAgIDxwYXRoIGQ9Ik0xMS44OCw5LjE0YzEuMjgsMC4wNiwxLjYxLDEuMTUsMS42MywxLjY2aDEuNzljLTAuMDgtMS45OC0xLjQ5LTMuMTktMy40NS0zLjE5QzkuNjQsNy42MSw4LDksOCwxMi4xNCBjMCwxLjk0LDAuOTMsNC4yNCwzLjg0LDQuMjRjMi4yMiwwLDMuNDEtMS42NSwzLjQ0LTIuOTVoLTEuNzljLTAuMDMsMC41OS0wLjQ1LDEuMzgtMS42MywxLjQ0QzEwLjU1LDE0LjgzLDEwLDEzLjgxLDEwLDEyLjE0IEMxMCw5LjI1LDExLjI4LDkuMTYsMTEuODgsOS4xNHogTTEyLDJDNi40OCwyLDIsNi40OCwyLDEyczQuNDgsMTAsMTAsMTBzMTAtNC40OCwxMC0xMFMxNy41MiwyLDEyLDJ6IE0xMiwyMGMtNC40MSwwLTgtMy41OS04LTggczMuNTktOCw4LThzOCwzLjU5LDgsOFMxNi40MSwyMCwxMiwyMHoiLz4KICA8L2c+Cjwvc3ZnPgo=);\\n  --jp-icon-cut: url(data:image/svg+xml;base64,PHN2ZyB2aWV3Qm94PSIwIDAgMjQgMjQiIHdpZHRoPSIxNiIgeG1sbnM9Imh0dHA6Ly93d3cudzMub3JnLzIwMDAvc3ZnIj4KICA8ZyBjbGFzcz0ianAtaWNvbjMiIGZpbGw9IiM2MTYxNjEiPgogICAgPHBhdGggZD0iTTkuNjQgNy42NGMuMjMtLjUuMzYtMS4wNS4zNi0xLjY0IDAtMi4yMS0xLjc5LTQtNC00UzIgMy43OSAyIDZzMS43OSA0IDQgNGMuNTkgMCAxLjE0LS4xMyAxLjY0LS4zNkwxMCAxMmwtMi4zNiAyLjM2QzcuMTQgMTQuMTMgNi41OSAxNCA2IDE0Yy0yLjIxIDAtNCAxLjc5LTQgNHMxLjc5IDQgNCA0IDQtMS43OSA0LTRjMC0uNTktLjEzLTEuMTQtLjM2LTEuNjRMMTIgMTRsNyA3aDN2LTFMOS42NCA3LjY0ek02IDhjLTEuMSAwLTItLjg5LTItMnMuOS0yIDItMiAyIC44OSAyIDItLjkgMi0yIDJ6bTAgMTJjLTEuMSAwLTItLjg5LTItMnMuOS0yIDItMiAyIC44OSAyIDItLjkgMi0yIDJ6bTYtNy41Yy0uMjggMC0uNS0uMjItLjUtLjVzLjIyLS41LjUtLjUuNS4yMi41LjUtLjIyLjUtLjUuNXpNMTkgM2wtNiA2IDIgMiA3LTdWM3oiLz4KICA8L2c+Cjwvc3ZnPgo=);\\n  --jp-icon-delete: url(data:image/svg+xml;base64,PHN2ZyB4bWxucz0iaHR0cDovL3d3dy53My5vcmcvMjAwMC9zdmciIHZpZXdCb3g9IjAgMCAyNCAyNCIgd2lkdGg9IjE2cHgiIGhlaWdodD0iMTZweCI+CiAgICA8cGF0aCBkPSJNMCAwaDI0djI0SDB6IiBmaWxsPSJub25lIiAvPgogICAgPHBhdGggY2xhc3M9ImpwLWljb24zIiBmaWxsPSIjNjI2MjYyIiBkPSJNNiAxOWMwIDEuMS45IDIgMiAyaDhjMS4xIDAgMi0uOSAyLTJWN0g2djEyek0xOSA0aC0zLjVsLTEtMWgtNWwtMSAxSDV2MmgxNFY0eiIgLz4KPC9zdmc+Cg==);\\n  --jp-icon-download: url(data:image/svg+xml;base64,PHN2ZyB2aWV3Qm94PSIwIDAgMjQgMjQiIHdpZHRoPSIxNiIgeG1sbnM9Imh0dHA6Ly93d3cudzMub3JnLzIwMDAvc3ZnIj4KICA8ZyBjbGFzcz0ianAtaWNvbjMiIGZpbGw9IiM2MTYxNjEiPgogICAgPHBhdGggZD0iTTE5IDloLTRWM0g5djZINWw3IDcgNy03ek01IDE4djJoMTR2LTJINXoiLz4KICA8L2c+Cjwvc3ZnPgo=);\\n  --jp-icon-duplicate: url(data:image/svg+xml;base64,PHN2ZyB3aWR0aD0iMTQiIGhlaWdodD0iMTQiIHZpZXdCb3g9IjAgMCAxNCAxNCIgZmlsbD0ibm9uZSIgeG1sbnM9Imh0dHA6Ly93d3cudzMub3JnLzIwMDAvc3ZnIj4KPHBhdGggY2xhc3M9ImpwLWljb24zIiBmaWxsLXJ1bGU9ImV2ZW5vZGQiIGNsaXAtcnVsZT0iZXZlbm9kZCIgZD0iTTIuNzk5OTggMC44NzVIOC44OTU4MkM5LjIwMDYxIDAuODc1IDkuNDQ5OTggMS4xMzkxNCA5LjQ0OTk4IDEuNDYxOThDOS40NDk5OCAxLjc4NDgyIDkuMjAwNjEgMi4wNDg5NiA4Ljg5NTgyIDIuMDQ4OTZIMy4zNTQxNUMzLjA0OTM2IDIuMDQ4OTYgMi43OTk5OCAyLjMxMzEgMi43OTk5OCAyLjYzNTk0VjkuNjc5NjlDMi43OTk5OCAxMC4wMDI1IDIuNTUwNjEgMTAuMjY2NyAyLjI0NTgyIDEwLjI2NjdDMS45NDEwMyAxMC4yNjY3IDEuNjkxNjUgMTAuMDAyNSAxLjY5MTY1IDkuNjc5NjlWMi4wNDg5NkMxLjY5MTY1IDEuNDAzMjggMi4xOTA0IDAuODc1IDIuNzk5OTggMC44NzVaTTUuMzY2NjUgMTEuOVY0LjU1SDExLjA4MzNWMTEuOUg1LjM2NjY1Wk00LjE0MTY1IDQuMTQxNjdDNC4xNDE2NSAzLjY5MDYzIDQuNTA3MjggMy4zMjUgNC45NTgzMiAzLjMyNUgxMS40OTE3QzExLjk0MjcgMy4zMjUgMTIuMzA4MyAzLjY5MDYzIDEyLjMwODMgNC4xNDE2N1YxMi4zMDgzQzEyLjMwODMgMTIuNzU5NCAxMS45NDI3IDEzLjEyNSAxMS40OTE3IDEzLjEyNUg0Ljk1ODMyQzQuNTA3MjggMTMuMTI1IDQuMTQxNjUgMTIuNzU5NCA0LjE0MTY1IDEyLjMwODNWNC4xNDE2N1oiIGZpbGw9IiM2MTYxNjEiLz4KPHBhdGggY2xhc3M9ImpwLWljb24zIiBkPSJNOS40MzU3NCA4LjI2NTA3SDguMzY0MzFWOS4zMzY1QzguMzY0MzEgOS40NTQzNSA4LjI2Nzg4IDkuNTUwNzggOC4xNTAwMiA5LjU1MDc4QzguMDMyMTcgOS41NTA3OCA3LjkzNTc0IDkuNDU0MzUgNy45MzU3NCA5LjMzNjVWOC4yNjUwN0g2Ljg2NDMxQzYuNzQ2NDUgOC4yNjUwNyA2LjY1MDAyIDguMTY4NjQgNi42NTAwMiA4LjA1MDc4QzYuNjUwMDIgNy45MzI5MiA2Ljc0NjQ1IDcuODM2NSA2Ljg2NDMxIDcuODM2NUg3LjkzNTc0VjYuNzY1MDdDNy45MzU3NCA2LjY0NzIxIDguMDMyMTcgNi41NTA3OCA4LjE1MDAyIDYuNTUwNzhDOC4yNjc4OCA2LjU1MDc4IDguMzY0MzEgNi42NDcyMSA4LjM2NDMxIDYuNzY1MDdWNy44MzY1SDkuNDM1NzRDOS41NTM2IDcuODM2NSA5LjY1MDAyIDcuOTMyOTIgOS42NTAwMiA4LjA1MDc4QzkuNjUwMDIgOC4xNjg2NCA5LjU1MzYgOC4yNjUwNyA5LjQzNTc0IDguMjY1MDdaIiBmaWxsPSIjNjE2MTYxIiBzdHJva2U9IiM2MTYxNjEiIHN0cm9rZS13aWR0aD0iMC41Ii8+Cjwvc3ZnPgo=);\\n  --jp-icon-edit: url(data:image/svg+xml;base64,PHN2ZyB2aWV3Qm94PSIwIDAgMjQgMjQiIHdpZHRoPSIxNiIgeG1sbnM9Imh0dHA6Ly93d3cudzMub3JnLzIwMDAvc3ZnIj4KICA8ZyBjbGFzcz0ianAtaWNvbjMiIGZpbGw9IiM2MTYxNjEiPgogICAgPHBhdGggZD0iTTMgMTcuMjVWMjFoMy43NUwxNy44MSA5Ljk0bC0zLjc1LTMuNzVMMyAxNy4yNXpNMjAuNzEgNy4wNGMuMzktLjM5LjM5LTEuMDIgMC0xLjQxbC0yLjM0LTIuMzRjLS4zOS0uMzktMS4wMi0uMzktMS40MSAwbC0xLjgzIDEuODMgMy43NSAzLjc1IDEuODMtMS44M3oiLz4KICA8L2c+Cjwvc3ZnPgo=);\\n  --jp-icon-ellipses: url(data:image/svg+xml;base64,PHN2ZyB2aWV3Qm94PSIwIDAgMjQgMjQiIHdpZHRoPSIxNiIgeG1sbnM9Imh0dHA6Ly93d3cudzMub3JnLzIwMDAvc3ZnIj4KICA8ZyBjbGFzcz0ianAtaWNvbjMiIGZpbGw9IiM2MTYxNjEiPgogICAgPGNpcmNsZSBjeD0iNSIgY3k9IjEyIiByPSIyIi8+CiAgICA8Y2lyY2xlIGN4PSIxMiIgY3k9IjEyIiByPSIyIi8+CiAgICA8Y2lyY2xlIGN4PSIxOSIgY3k9IjEyIiByPSIyIi8+CiAgPC9nPgo8L3N2Zz4K);\\n  --jp-icon-error: url(data:image/svg+xml;base64,PHN2ZyB4bWxucz0iaHR0cDovL3d3dy53My5vcmcvMjAwMC9zdmciIHdpZHRoPSIxNiIgdmlld0JveD0iMCAwIDI0IDI0Ij4KPGcgY2xhc3M9ImpwLWljb24zIiBmaWxsPSIjNjE2MTYxIj48Y2lyY2xlIGN4PSIxMiIgY3k9IjE5IiByPSIyIi8+PHBhdGggZD0iTTEwIDNoNHYxMmgtNHoiLz48L2c+CjxwYXRoIGZpbGw9Im5vbmUiIGQ9Ik0wIDBoMjR2MjRIMHoiLz4KPC9zdmc+Cg==);\\n  --jp-icon-expand-all: url(data:image/svg+xml;base64,PHN2ZyB4bWxucz0iaHR0cDovL3d3dy53My5vcmcvMjAwMC9zdmciIHdpZHRoPSIxNiIgdmlld0JveD0iMCAwIDI0IDI0Ij4KICAgIDxnIGNsYXNzPSJqcC1pY29uMyIgZmlsbD0iIzYxNjE2MSI+CiAgICAgICAgPHBhdGgKICAgICAgICAgICAgZD0iTTggMmMxIDAgMTEgMCAxMiAwczIgMSAyIDJjMCAxIDAgMTEgMCAxMnMwIDItMiAyQzIwIDE0IDIwIDQgMjAgNFMxMCA0IDYgNGMwLTIgMS0yIDItMnoiIC8+CiAgICAgICAgPHBhdGgKICAgICAgICAgICAgZD0iTTE4IDhjMC0xLTEtMi0yLTJTNSA2IDQgNnMtMiAxLTIgMmMwIDEgMCAxMSAwIDEyczEgMiAyIDJjMSAwIDExIDAgMTIgMHMyLTEgMi0yYzAtMSAwLTExIDAtMTJ6bS0yIDB2MTJINFY4eiIgLz4KICAgICAgICA8cGF0aCBkPSJNMTEgMTBIOXYzSDZ2MmgzdjNoMnYtM2gzdi0yaC0zeiIgLz4KICAgIDwvZz4KPC9zdmc+Cg==);\\n  --jp-icon-extension: url(data:image/svg+xml;base64,PHN2ZyB4bWxucz0iaHR0cDovL3d3dy53My5vcmcvMjAwMC9zdmciIHdpZHRoPSIxNiIgdmlld0JveD0iMCAwIDI0IDI0Ij4KICA8ZyBjbGFzcz0ianAtaWNvbjMiIGZpbGw9IiM2MTYxNjEiPgogICAgPHBhdGggZD0iTTIwLjUgMTFIMTlWN2MwLTEuMS0uOS0yLTItMmgtNFYzLjVDMTMgMi4xMiAxMS44OCAxIDEwLjUgMVM4IDIuMTIgOCAzLjVWNUg0Yy0xLjEgMC0xLjk5LjktMS45OSAydjMuOEgzLjVjMS40OSAwIDIuNyAxLjIxIDIuNyAyLjdzLTEuMjEgMi43LTIuNyAyLjdIMlYyMGMwIDEuMS45IDIgMiAyaDMuOHYtMS41YzAtMS40OSAxLjIxLTIuNyAyLjctMi43IDEuNDkgMCAyLjcgMS4yMSAyLjcgMi43VjIySDE3YzEuMSAwIDItLjkgMi0ydi00aDEuNWMxLjM4IDAgMi41LTEuMTIgMi41LTIuNVMyMS44OCAxMSAyMC41IDExeiIvPgogIDwvZz4KPC9zdmc+Cg==);\\n  --jp-icon-fast-forward: url(data:image/svg+xml;base64,PHN2ZyB4bWxucz0iaHR0cDovL3d3dy53My5vcmcvMjAwMC9zdmciIHdpZHRoPSIyNCIgaGVpZ2h0PSIyNCIgdmlld0JveD0iMCAwIDI0IDI0Ij4KICAgIDxnIGNsYXNzPSJqcC1pY29uMyIgZmlsbD0iIzYxNjE2MSI+CiAgICAgICAgPHBhdGggZD0iTTQgMThsOC41LTZMNCA2djEyem05LTEydjEybDguNS02TDEzIDZ6Ii8+CiAgICA8L2c+Cjwvc3ZnPgo=);\\n  --jp-icon-file-upload: url(data:image/svg+xml;base64,PHN2ZyB4bWxucz0iaHR0cDovL3d3dy53My5vcmcvMjAwMC9zdmciIHdpZHRoPSIxNiIgdmlld0JveD0iMCAwIDI0IDI0Ij4KICA8ZyBjbGFzcz0ianAtaWNvbjMiIGZpbGw9IiM2MTYxNjEiPgogICAgPHBhdGggZD0iTTkgMTZoNnYtNmg0bC03LTctNyA3aDR6bS00IDJoMTR2Mkg1eiIvPgogIDwvZz4KPC9zdmc+Cg==);\\n  --jp-icon-file: url(data:image/svg+xml;base64,PHN2ZyB4bWxucz0iaHR0cDovL3d3dy53My5vcmcvMjAwMC9zdmciIHdpZHRoPSIxNiIgdmlld0JveD0iMCAwIDIyIDIyIj4KICA8cGF0aCBjbGFzcz0ianAtaWNvbjMganAtaWNvbi1zZWxlY3RhYmxlIiBmaWxsPSIjNjE2MTYxIiBkPSJNMTkuMyA4LjJsLTUuNS01LjVjLS4zLS4zLS43LS41LTEuMi0uNUgzLjljLS44LjEtMS42LjktMS42IDEuOHYxNC4xYzAgLjkuNyAxLjYgMS42IDEuNmgxNC4yYy45IDAgMS42LS43IDEuNi0xLjZWOS40Yy4xLS41LS4xLS45LS40LTEuMnptLTUuOC0zLjNsMy40IDMuNmgtMy40VjQuOXptMy45IDEyLjdINC43Yy0uMSAwLS4yIDAtLjItLjJWNC43YzAtLjIuMS0uMy4yLS4zaDcuMnY0LjRzMCAuOC4zIDEuMWMuMy4zIDEuMS4zIDEuMS4zaDQuM3Y3LjJzLS4xLjItLjIuMnoiLz4KPC9zdmc+Cg==);\\n  --jp-icon-filter-dot: url(data:image/svg+xml;base64,PHN2ZyB4bWxucz0iaHR0cDovL3d3dy53My5vcmcvMjAwMC9zdmciIHdpZHRoPSIxNiIgdmlld0JveD0iMCAwIDI0IDI0Ij4KICA8ZyBjbGFzcz0ianAtaWNvbjMiIGZpbGw9IiNGRkYiPgogICAgPHBhdGggZD0iTTE0LDEyVjE5Ljg4QzE0LjA0LDIwLjE4IDEzLjk0LDIwLjUgMTMuNzEsMjAuNzFDMTMuMzIsMjEuMSAxMi42OSwyMS4xIDEyLjMsMjAuNzFMMTAuMjksMTguN0MxMC4wNiwxOC40NyA5Ljk2LDE4LjE2IDEwLDE3Ljg3VjEySDkuOTdMNC4yMSw0LjYyQzMuODcsNC4xOSAzLjk1LDMuNTYgNC4zOCwzLjIyQzQuNTcsMy4wOCA0Ljc4LDMgNSwzVjNIMTlWM0MxOS4yMiwzIDE5LjQzLDMuMDggMTkuNjIsMy4yMkMyMC4wNSwzLjU2IDIwLjEzLDQuMTkgMTkuNzksNC42MkwxNC4wMywxMkgxNFoiIC8+CiAgPC9nPgogIDxnIGNsYXNzPSJqcC1pY29uLWRvdCIgZmlsbD0iI0ZGRiI+CiAgICA8Y2lyY2xlIGN4PSIxOCIgY3k9IjE3IiByPSIzIj48L2NpcmNsZT4KICA8L2c+Cjwvc3ZnPgo=);\\n  --jp-icon-filter-list: url(data:image/svg+xml;base64,PHN2ZyB4bWxucz0iaHR0cDovL3d3dy53My5vcmcvMjAwMC9zdmciIHdpZHRoPSIxNiIgdmlld0JveD0iMCAwIDI0IDI0Ij4KICA8ZyBjbGFzcz0ianAtaWNvbjMiIGZpbGw9IiM2MTYxNjEiPgogICAgPHBhdGggZD0iTTEwIDE4aDR2LTJoLTR2MnpNMyA2djJoMThWNkgzem0zIDdoMTJ2LTJINnYyeiIvPgogIDwvZz4KPC9zdmc+Cg==);\\n  --jp-icon-filter: url(data:image/svg+xml;base64,PHN2ZyB4bWxucz0iaHR0cDovL3d3dy53My5vcmcvMjAwMC9zdmciIHdpZHRoPSIxNiIgdmlld0JveD0iMCAwIDI0IDI0Ij4KICA8ZyBjbGFzcz0ianAtaWNvbjMiIGZpbGw9IiNGRkYiPgogICAgPHBhdGggZD0iTTE0LDEyVjE5Ljg4QzE0LjA0LDIwLjE4IDEzLjk0LDIwLjUgMTMuNzEsMjAuNzFDMTMuMzIsMjEuMSAxMi42OSwyMS4xIDEyLjMsMjAuNzFMMTAuMjksMTguN0MxMC4wNiwxOC40NyA5Ljk2LDE4LjE2IDEwLDE3Ljg3VjEySDkuOTdMNC4yMSw0LjYyQzMuODcsNC4xOSAzLjk1LDMuNTYgNC4zOCwzLjIyQzQuNTcsMy4wOCA0Ljc4LDMgNSwzVjNIMTlWM0MxOS4yMiwzIDE5LjQzLDMuMDggMTkuNjIsMy4yMkMyMC4wNSwzLjU2IDIwLjEzLDQuMTkgMTkuNzksNC42MkwxNC4wMywxMkgxNFoiIC8+CiAgPC9nPgo8L3N2Zz4K);\\n  --jp-icon-folder-favorite: url(data:image/svg+xml;base64,PHN2ZyB4bWxucz0iaHR0cDovL3d3dy53My5vcmcvMjAwMC9zdmciIGhlaWdodD0iMjRweCIgdmlld0JveD0iMCAwIDI0IDI0IiB3aWR0aD0iMjRweCIgZmlsbD0iIzAwMDAwMCI+CiAgPHBhdGggZD0iTTAgMGgyNHYyNEgwVjB6IiBmaWxsPSJub25lIi8+PHBhdGggY2xhc3M9ImpwLWljb24zIGpwLWljb24tc2VsZWN0YWJsZSIgZmlsbD0iIzYxNjE2MSIgZD0iTTIwIDZoLThsLTItMkg0Yy0xLjEgMC0yIC45LTIgMnYxMmMwIDEuMS45IDIgMiAyaDE2YzEuMSAwIDItLjkgMi0yVjhjMC0xLjEtLjktMi0yLTJ6bS0yLjA2IDExTDE1IDE1LjI4IDEyLjA2IDE3bC43OC0zLjMzLTIuNTktMi4yNCAzLjQxLS4yOUwxNSA4bDEuMzQgMy4xNCAzLjQxLjI5LTIuNTkgMi4yNC43OCAzLjMzeiIvPgo8L3N2Zz4K);\\n  --jp-icon-folder: url(data:image/svg+xml;base64,PHN2ZyB4bWxucz0iaHR0cDovL3d3dy53My5vcmcvMjAwMC9zdmciIHdpZHRoPSIxNiIgdmlld0JveD0iMCAwIDI0IDI0Ij4KICA8cGF0aCBjbGFzcz0ianAtaWNvbjMganAtaWNvbi1zZWxlY3RhYmxlIiBmaWxsPSIjNjE2MTYxIiBkPSJNMTAgNEg0Yy0xLjEgMC0xLjk5LjktMS45OSAyTDIgMThjMCAxLjEuOSAyIDIgMmgxNmMxLjEgMCAyLS45IDItMlY4YzAtMS4xLS45LTItMi0yaC04bC0yLTJ6Ii8+Cjwvc3ZnPgo=);\\n  --jp-icon-home: url(data:image/svg+xml;base64,PHN2ZyB4bWxucz0iaHR0cDovL3d3dy53My5vcmcvMjAwMC9zdmciIGhlaWdodD0iMjRweCIgdmlld0JveD0iMCAwIDI0IDI0IiB3aWR0aD0iMjRweCIgZmlsbD0iIzAwMDAwMCI+CiAgPHBhdGggZD0iTTAgMGgyNHYyNEgweiIgZmlsbD0ibm9uZSIvPjxwYXRoIGNsYXNzPSJqcC1pY29uMyBqcC1pY29uLXNlbGVjdGFibGUiIGZpbGw9IiM2MTYxNjEiIGQ9Ik0xMCAyMHYtNmg0djZoNXYtOGgzTDEyIDMgMiAxMmgzdjh6Ii8+Cjwvc3ZnPgo=);\\n  --jp-icon-html5: url(data:image/svg+xml;base64,PHN2ZyB4bWxucz0iaHR0cDovL3d3dy53My5vcmcvMjAwMC9zdmciIHdpZHRoPSIxNiIgdmlld0JveD0iMCAwIDUxMiA1MTIiPgogIDxwYXRoIGNsYXNzPSJqcC1pY29uMCBqcC1pY29uLXNlbGVjdGFibGUiIGZpbGw9IiMwMDAiIGQ9Ik0xMDguNCAwaDIzdjIyLjhoMjEuMlYwaDIzdjY5aC0yM1Y0NmgtMjF2MjNoLTIzLjJNMjA2IDIzaC0yMC4zVjBoNjMuN3YyM0gyMjl2NDZoLTIzbTUzLjUtNjloMjQuMWwxNC44IDI0LjNMMzEzLjIgMGgyNC4xdjY5aC0yM1YzNC44bC0xNi4xIDI0LjgtMTYuMS0yNC44VjY5aC0yMi42bTg5LjItNjloMjN2NDYuMmgzMi42VjY5aC01NS42Ii8+CiAgPHBhdGggY2xhc3M9ImpwLWljb24tc2VsZWN0YWJsZSIgZmlsbD0iI2U0NGQyNiIgZD0iTTEwNy42IDQ3MWwtMzMtMzcwLjRoMzYyLjhsLTMzIDM3MC4yTDI1NS43IDUxMiIvPgogIDxwYXRoIGNsYXNzPSJqcC1pY29uLXNlbGVjdGFibGUiIGZpbGw9IiNmMTY1MjkiIGQ9Ik0yNTYgNDgwLjVWMTMxaDE0OC4zTDM3NiA0NDciLz4KICA8cGF0aCBjbGFzcz0ianAtaWNvbi1zZWxlY3RhYmxlLWludmVyc2UiIGZpbGw9IiNlYmViZWIiIGQ9Ik0xNDIgMTc2LjNoMTE0djQ1LjRoLTY0LjJsNC4yIDQ2LjVoNjB2NDUuM0gxNTQuNG0yIDIyLjhIMjAybDMuMiAzNi4zIDUwLjggMTMuNnY0Ny40bC05My4yLTI2Ii8+CiAgPHBhdGggY2xhc3M9ImpwLWljb24tc2VsZWN0YWJsZS1pbnZlcnNlIiBmaWxsPSIjZmZmIiBkPSJNMzY5LjYgMTc2LjNIMjU1Ljh2NDUuNGgxMDkuNm0tNC4xIDQ2LjVIMjU1Ljh2NDUuNGg1NmwtNS4zIDU5LTUwLjcgMTMuNnY0Ny4ybDkzLTI1LjgiLz4KPC9zdmc+Cg==);\\n  --jp-icon-image: url(data:image/svg+xml;base64,PHN2ZyB4bWxucz0iaHR0cDovL3d3dy53My5vcmcvMjAwMC9zdmciIHdpZHRoPSIxNiIgdmlld0JveD0iMCAwIDIyIDIyIj4KICA8cGF0aCBjbGFzcz0ianAtaWNvbi1icmFuZDQganAtaWNvbi1zZWxlY3RhYmxlLWludmVyc2UiIGZpbGw9IiNGRkYiIGQ9Ik0yLjIgMi4yaDE3LjV2MTcuNUgyLjJ6Ii8+CiAgPHBhdGggY2xhc3M9ImpwLWljb24tYnJhbmQwIGpwLWljb24tc2VsZWN0YWJsZSIgZmlsbD0iIzNGNTFCNSIgZD0iTTIuMiAyLjJ2MTcuNWgxNy41bC4xLTE3LjVIMi4yem0xMi4xIDIuMmMxLjIgMCAyLjIgMSAyLjIgMi4ycy0xIDIuMi0yLjIgMi4yLTIuMi0xLTIuMi0yLjIgMS0yLjIgMi4yLTIuMnpNNC40IDE3LjZsMy4zLTguOCAzLjMgNi42IDIuMi0zLjIgNC40IDUuNEg0LjR6Ii8+Cjwvc3ZnPgo=);\\n  --jp-icon-info: url(data:image/svg+xml;base64,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);\\n  --jp-icon-inspector: url(data:image/svg+xml;base64,PHN2ZyB4bWxucz0iaHR0cDovL3d3dy53My5vcmcvMjAwMC9zdmciIHdpZHRoPSIxNiIgdmlld0JveD0iMCAwIDI0IDI0Ij4KICA8cGF0aCBjbGFzcz0ianAtaW5zcGVjdG9yLWljb24tY29sb3IganAtaWNvbi1zZWxlY3RhYmxlIiBmaWxsPSIjNjE2MTYxIiBkPSJNMjAgNEg0Yy0xLjEgMC0xLjk5LjktMS45OSAyTDIgMThjMCAxLjEuOSAyIDIgMmgxNmMxLjEgMCAyLS45IDItMlY2YzAtMS4xLS45LTItMi0yem0tNSAxNEg0di00aDExdjR6bTAtNUg0VjloMTF2NHptNSA1aC00VjloNHY5eiIvPgo8L3N2Zz4K);\\n  --jp-icon-json: url(data:image/svg+xml;base64,PHN2ZyB4bWxucz0iaHR0cDovL3d3dy53My5vcmcvMjAwMC9zdmciIHdpZHRoPSIxNiIgdmlld0JveD0iMCAwIDIyIDIyIj4KICA8ZyBjbGFzcz0ianAtanNvbi1pY29uLWNvbG9yIGpwLWljb24tc2VsZWN0YWJsZSIgZmlsbD0iI0Y5QTgyNSI+CiAgICA8cGF0aCBkPSJNMjAuMiAxMS44Yy0xLjYgMC0xLjcuNS0xLjcgMSAwIC40LjEuOS4xIDEuMy4xLjUuMS45LjEgMS4zIDAgMS43LTEuNCAyLjMtMy41IDIuM2gtLjl2LTEuOWguNWMxLjEgMCAxLjQgMCAxLjQtLjggMC0uMyAwLS42LS4xLTEgMC0uNC0uMS0uOC0uMS0xLjIgMC0xLjMgMC0xLjggMS4zLTItMS4zLS4yLTEuMy0uNy0xLjMtMiAwLS40LjEtLjguMS0xLjIuMS0uNC4xLS43LjEtMSAwLS44LS40LS43LTEuNC0uOGgtLjVWNC4xaC45YzIuMiAwIDMuNS43IDMuNSAyLjMgMCAuNC0uMS45LS4xIDEuMy0uMS41LS4xLjktLjEgMS4zIDAgLjUuMiAxIDEuNyAxdjEuOHpNMS44IDEwLjFjMS42IDAgMS43LS41IDEuNy0xIDAtLjQtLjEtLjktLjEtMS4zLS4xLS41LS4xLS45LS4xLTEuMyAwLTEuNiAxLjQtMi4zIDMuNS0yLjNoLjl2MS45aC0uNWMtMSAwLTEuNCAwLTEuNC44IDAgLjMgMCAuNi4xIDEgMCAuMi4xLjYuMSAxIDAgMS4zIDAgMS44LTEuMyAyQzYgMTEuMiA2IDExLjcgNiAxM2MwIC40LS4xLjgtLjEgMS4yLS4xLjMtLjEuNy0uMSAxIDAgLjguMy44IDEuNC44aC41djEuOWgtLjljLTIuMSAwLTMuNS0uNi0zLjUtMi4zIDAtLjQuMS0uOS4xLTEuMy4xLS41LjEtLjkuMS0xLjMgMC0uNS0uMi0xLTEuNy0xdi0xLjl6Ii8+CiAgICA8Y2lyY2xlIGN4PSIxMSIgY3k9IjEzLjgiIHI9IjIuMSIvPgogICAgPGNpcmNsZSBjeD0iMTEiIGN5PSI4LjIiIHI9IjIuMSIvPgogIDwvZz4KPC9zdmc+Cg==);\\n  --jp-icon-julia: url(data:image/svg+xml;base64,PHN2ZyB4bWxucz0iaHR0cDovL3d3dy53My5vcmcvMjAwMC9zdmciIHdpZHRoPSIxNiIgdmlld0JveD0iMCAwIDMyNSAzMDAiPgogIDxnIGNsYXNzPSJqcC1icmFuZDAganAtaWNvbi1zZWxlY3RhYmxlIiBmaWxsPSIjY2IzYzMzIj4KICAgIDxwYXRoIGQ9Ik0gMTUwLjg5ODQzOCAyMjUgQyAxNTAuODk4NDM4IDI2Ni40MjE4NzUgMTE3LjMyMDMxMiAzMDAgNzUuODk4NDM4IDMwMCBDIDM0LjQ3NjU2MiAzMDAgMC44OTg0MzggMjY2LjQyMTg3NSAwLjg5ODQzOCAyMjUgQyAwLjg5ODQzOCAxODMuNTc4MTI1IDM0LjQ3NjU2MiAxNTAgNzUuODk4NDM4IDE1MCBDIDExNy4zMjAzMTIgMTUwIDE1MC44OTg0MzggMTgzLjU3ODEyNSAxNTAuODk4NDM4IDIyNSIvPgogIDwvZz4KICA8ZyBjbGFzcz0ianAtYnJhbmQwIGpwLWljb24tc2VsZWN0YWJsZSIgZmlsbD0iIzM4OTgyNiI+CiAgICA8cGF0aCBkPSJNIDIzNy41IDc1IEMgMjM3LjUgMTE2LjQyMTg3NSAyMDMuOTIxODc1IDE1MCAxNjIuNSAxNTAgQyAxMjEuMDc4MTI1IDE1MCA4Ny41IDExNi40MjE4NzUgODcuNSA3NSBDIDg3LjUgMzMuNTc4MTI1IDEyMS4wNzgxMjUgMCAxNjIuNSAwIEMgMjAzLjkyMTg3NSAwIDIzNy41IDMzLjU3ODEyNSAyMzcuNSA3NSIvPgogIDwvZz4KICA8ZyBjbGFzcz0ianAtYnJhbmQwIGpwLWljb24tc2VsZWN0YWJsZSIgZmlsbD0iIzk1NThiMiI+CiAgICA8cGF0aCBkPSJNIDMyNC4xMDE1NjIgMjI1IEMgMzI0LjEwMTU2MiAyNjYuNDIxODc1IDI5MC41MjM0MzggMzAwIDI0OS4xMDE1NjIgMzAwIEMgMjA3LjY3OTY4OCAzMDAgMTc0LjEwMTU2MiAyNjYuNDIxODc1IDE3NC4xMDE1NjIgMjI1IEMgMTc0LjEwMTU2MiAxODMuNTc4MTI1IDIwNy42Nzk2ODggMTUwIDI0OS4xMDE1NjIgMTUwIEMgMjkwLjUyMzQzOCAxNTAgMzI0LjEwMTU2MiAxODMuNTc4MTI1IDMyNC4xMDE1NjIgMjI1Ii8+CiAgPC9nPgo8L3N2Zz4K);\\n  --jp-icon-jupyter-favicon: url(data:image/svg+xml;base64,PHN2ZyB3aWR0aD0iMTUyIiBoZWlnaHQ9IjE2NSIgdmlld0JveD0iMCAwIDE1MiAxNjUiIHZlcnNpb249IjEuMSIgeG1sbnM9Imh0dHA6Ly93d3cudzMub3JnLzIwMDAvc3ZnIj4KICAgPGcgY2xhc3M9ImpwLWp1cHl0ZXItaWNvbi1jb2xvciIgZmlsbD0iI0YzNzcyNiI+CiAgICA8cGF0aCB0cmFuc2Zvcm09InRyYW5zbGF0ZSgwLjA3ODk0NywgMTEwLjU4MjkyNykiIGQ9Ik03NS45NDIyODQyLDI5LjU4MDQ1NjEgQzQzLjMwMjM5NDcsMjkuNTgwNDU2MSAxNC43OTY3ODMyLDE3LjY1MzQ2MzQgMCwwIEM1LjUxMDgzMjExLDE1Ljg0MDY4MjkgMTUuNzgxNTM4OSwyOS41NjY3NzMyIDI5LjM5MDQ5NDcsMzkuMjc4NDE3MSBDNDIuOTk5Nyw0OC45ODk4NTM3IDU5LjI3MzcsNTQuMjA2NzgwNSA3NS45NjA1Nzg5LDU0LjIwNjc4MDUgQzkyLjY0NzQ1NzksNTQuMjA2NzgwNSAxMDguOTIxNDU4LDQ4Ljk4OTg1MzcgMTIyLjUzMDY2MywzOS4yNzg0MTcxIEMxMzYuMTM5NDUzLDI5LjU2Njc3MzIgMTQ2LjQxMDI4NCwxNS44NDA2ODI5IDE1MS45MjExNTgsMCBDMTM3LjA4Nzg2OCwxNy42NTM0NjM0IDEwOC41ODI1ODksMjkuNTgwNDU2MSA3NS45NDIyODQyLDI5LjU4MDQ1NjEgTDc1Ljk0MjI4NDIsMjkuNTgwNDU2MSBaIiAvPgogICAgPHBhdGggdHJhbnNmb3JtPSJ0cmFuc2xhdGUoMC4wMzczNjgsIDAuNzA0ODc4KSIgZD0iTTc1Ljk3ODQ1NzksMjQuNjI2NDA3MyBDMTA4LjYxODc2MywyNC42MjY0MDczIDEzNy4xMjQ0NTgsMzYuNTUzNDQxNSAxNTEuOTIxMTU4LDU0LjIwNjc4MDUgQzE0Ni40MTAyODQsMzguMzY2MjIyIDEzNi4xMzk0NTMsMjQuNjQwMTMxNyAxMjIuNTMwNjYzLDE0LjkyODQ4NzggQzEwOC45MjE0NTgsNS4yMTY4NDM5IDkyLjY0NzQ1NzksMCA3NS45NjA1Nzg5LDAgQzU5LjI3MzcsMCA0Mi45OTk3LDUuMjE2ODQzOSAyOS4zOTA0OTQ3LDE0LjkyODQ4NzggQzE1Ljc4MTUzODksMjQuNjQwMTMxNyA1LjUxMDgzMjExLDM4LjM2NjIyMiAwLDU0LjIwNjc4MDUgQzE0LjgzMzA4MTYsMzYuNTg5OTI5MyA0My4zMzg1Njg0LDI0LjYyNjQwNzMgNzUuOTc4NDU3OSwyNC42MjY0MDczIEw3NS45Nzg0NTc5LDI0LjYyNjQwNzMgWiIgLz4KICA8L2c+Cjwvc3ZnPgo=);\\n  --jp-icon-jupyter: url(data:image/svg+xml;base64,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);\\n  --jp-icon-jupyterlab-wordmark: url(data:image/svg+xml;base64,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);\\n  --jp-icon-kernel: url(data:image/svg+xml;base64,PHN2ZyB4bWxucz0iaHR0cDovL3d3dy53My5vcmcvMjAwMC9zdmciIHdpZHRoPSIxNiIgdmlld0JveD0iMCAwIDI0IDI0Ij4KICAgIDxwYXRoIGNsYXNzPSJqcC1pY29uMiIgZmlsbD0iIzYxNjE2MSIgZD0iTTE1IDlIOXY2aDZWOXptLTIgNGgtMnYtMmgydjJ6bTgtMlY5aC0yVjdjMC0xLjEtLjktMi0yLTJoLTJWM2gtMnYyaC0yVjNIOXYySDdjLTEuMSAwLTIgLjktMiAydjJIM3YyaDJ2MkgzdjJoMnYyYzAgMS4xLjkgMiAyIDJoMnYyaDJ2LTJoMnYyaDJ2LTJoMmMxLjEgMCAyLS45IDItMnYtMmgydi0yaC0ydi0yaDJ6bS00IDZIN1Y3aDEwdjEweiIvPgo8L3N2Zz4K);\\n  --jp-icon-keyboard: url(data:image/svg+xml;base64,PHN2ZyB4bWxucz0iaHR0cDovL3d3dy53My5vcmcvMjAwMC9zdmciIHdpZHRoPSIxNiIgdmlld0JveD0iMCAwIDI0IDI0Ij4KICA8cGF0aCBjbGFzcz0ianAtaWNvbjMganAtaWNvbi1zZWxlY3RhYmxlIiBmaWxsPSIjNjE2MTYxIiBkPSJNMjAgNUg0Yy0xLjEgMC0xLjk5LjktMS45OSAyTDIgMTdjMCAxLjEuOSAyIDIgMmgxNmMxLjEgMCAyLS45IDItMlY3YzAtMS4xLS45LTItMi0yem0tOSAzaDJ2MmgtMlY4em0wIDNoMnYyaC0ydi0yek04IDhoMnYySDhWOHptMCAzaDJ2Mkg4di0yem0tMSAySDV2LTJoMnYyem0wLTNINVY4aDJ2MnptOSA3SDh2LTJoOHYyem0wLTRoLTJ2LTJoMnYyem0wLTNoLTJWOGgydjJ6bTMgM2gtMnYtMmgydjJ6bTAtM2gtMlY4aDJ2MnoiLz4KPC9zdmc+Cg==);\\n  --jp-icon-launch: url(data:image/svg+xml;base64,PHN2ZyB2aWV3Qm94PSIwIDAgMzIgMzIiIHdpZHRoPSIzMiIgeG1sbnM9Imh0dHA6Ly93d3cudzMub3JnLzIwMDAvc3ZnIj4KICA8ZyBjbGFzcz0ianAtaWNvbjMganAtaWNvbi1zZWxlY3RhYmxlIiBmaWxsPSIjNjE2MTYxIj4KICAgIDxwYXRoIGQ9Ik0yNiwyOEg2YTIuMDAyNywyLjAwMjcsMCwwLDEtMi0yVjZBMi4wMDI3LDIuMDAyNywwLDAsMSw2LDRIMTZWNkg2VjI2SDI2VjE2aDJWMjZBMi4wMDI3LDIuMDAyNywwLDAsMSwyNiwyOFoiLz4KICAgIDxwb2x5Z29uIHBvaW50cz0iMjAgMiAyMCA0IDI2LjU4NiA0IDE4IDEyLjU4NiAxOS40MTQgMTQgMjggNS40MTQgMjggMTIgMzAgMTIgMzAgMiAyMCAyIi8+CiAgPC9nPgo8L3N2Zz4K);\\n  --jp-icon-launcher: url(data:image/svg+xml;base64,PHN2ZyB4bWxucz0iaHR0cDovL3d3dy53My5vcmcvMjAwMC9zdmciIHdpZHRoPSIxNiIgdmlld0JveD0iMCAwIDI0IDI0Ij4KICA8cGF0aCBjbGFzcz0ianAtaWNvbjMganAtaWNvbi1zZWxlY3RhYmxlIiBmaWxsPSIjNjE2MTYxIiBkPSJNMTkgMTlINVY1aDdWM0g1YTIgMiAwIDAwLTIgMnYxNGEyIDIgMCAwMDIgMmgxNGMxLjEgMCAyLS45IDItMnYtN2gtMnY3ek0xNCAzdjJoMy41OWwtOS44MyA5LjgzIDEuNDEgMS40MUwxOSA2LjQxVjEwaDJWM2gtN3oiLz4KPC9zdmc+Cg==);\\n  --jp-icon-line-form: url(data:image/svg+xml;base64,PHN2ZyB4bWxucz0iaHR0cDovL3d3dy53My5vcmcvMjAwMC9zdmciIHdpZHRoPSIxNiIgdmlld0JveD0iMCAwIDI0IDI0Ij4KICAgIDxwYXRoIGZpbGw9IndoaXRlIiBkPSJNNS44OCA0LjEyTDEzLjc2IDEybC03Ljg4IDcuODhMOCAyMmwxMC0xMEw4IDJ6Ii8+Cjwvc3ZnPgo=);\\n  --jp-icon-link: url(data:image/svg+xml;base64,PHN2ZyB2aWV3Qm94PSIwIDAgMjQgMjQiIHdpZHRoPSIxNiIgeG1sbnM9Imh0dHA6Ly93d3cudzMub3JnLzIwMDAvc3ZnIj4KICA8ZyBjbGFzcz0ianAtaWNvbjMiIGZpbGw9IiM2MTYxNjEiPgogICAgPHBhdGggZD0iTTMuOSAxMmMwLTEuNzEgMS4zOS0zLjEgMy4xLTMuMWg0VjdIN2MtMi43NiAwLTUgMi4yNC01IDVzMi4yNCA1IDUgNWg0di0xLjlIN2MtMS43MSAwLTMuMS0xLjM5LTMuMS0zLjF6TTggMTNoOHYtMkg4djJ6bTktNmgtNHYxLjloNGMxLjcxIDAgMy4xIDEuMzkgMy4xIDMuMXMtMS4zOSAzLjEtMy4xIDMuMWgtNFYxN2g0YzIuNzYgMCA1LTIuMjQgNS01cy0yLjI0LTUtNS01eiIvPgogIDwvZz4KPC9zdmc+Cg==);\\n  --jp-icon-list: url(data:image/svg+xml;base64,PHN2ZyB4bWxucz0iaHR0cDovL3d3dy53My5vcmcvMjAwMC9zdmciIHdpZHRoPSIxNiIgdmlld0JveD0iMCAwIDI0IDI0Ij4KICAgIDxwYXRoIGNsYXNzPSJqcC1pY29uMiBqcC1pY29uLXNlbGVjdGFibGUiIGZpbGw9IiM2MTYxNjEiIGQ9Ik0xOSA1djE0SDVWNWgxNG0xLjEtMkgzLjljLS41IDAtLjkuNC0uOS45djE2LjJjMCAuNC40LjkuOS45aDE2LjJjLjQgMCAuOS0uNS45LS45VjMuOWMwLS41LS41LS45LS45LS45ek0xMSA3aDZ2MmgtNlY3em0wIDRoNnYyaC02di0yem0wIDRoNnYyaC02ek03IDdoMnYySDd6bTAgNGgydjJIN3ptMCA0aDJ2Mkg3eiIvPgo8L3N2Zz4K);\\n  --jp-icon-markdown: url(data:image/svg+xml;base64,PHN2ZyB4bWxucz0iaHR0cDovL3d3dy53My5vcmcvMjAwMC9zdmciIHdpZHRoPSIxNiIgdmlld0JveD0iMCAwIDIyIDIyIj4KICA8cGF0aCBjbGFzcz0ianAtaWNvbi1jb250cmFzdDAganAtaWNvbi1zZWxlY3RhYmxlIiBmaWxsPSIjN0IxRkEyIiBkPSJNNSAxNC45aDEybC02LjEgNnptOS40LTYuOGMwLTEuMy0uMS0yLjktLjEtNC41LS40IDEuNC0uOSAyLjktMS4zIDQuM2wtMS4zIDQuM2gtMkw4LjUgNy45Yy0uNC0xLjMtLjctMi45LTEtNC4zLS4xIDEuNi0uMSAzLjItLjIgNC42TDcgMTIuNEg0LjhsLjctMTFoMy4zTDEwIDVjLjQgMS4yLjcgMi43IDEgMy45LjMtMS4yLjctMi42IDEtMy45bDEuMi0zLjdoMy4zbC42IDExaC0yLjRsLS4zLTQuMnoiLz4KPC9zdmc+Cg==);\\n  --jp-icon-move-down: url(data:image/svg+xml;base64,PHN2ZyB3aWR0aD0iMTQiIGhlaWdodD0iMTQiIHZpZXdCb3g9IjAgMCAxNCAxNCIgZmlsbD0ibm9uZSIgeG1sbnM9Imh0dHA6Ly93d3cudzMub3JnLzIwMDAvc3ZnIj4KPHBhdGggY2xhc3M9ImpwLWljb24zIiBkPSJNMTIuNDcxIDcuNTI4OTlDMTIuNzYzMiA3LjIzNjg0IDEyLjc2MzIgNi43NjMxNiAxMi40NzEgNi40NzEwMVY2LjQ3MTAxQzEyLjE3OSA2LjE3OTA1IDExLjcwNTcgNi4xNzg4NCAxMS40MTM1IDYuNDcwNTRMNy43NSAxMC4xMjc1VjEuNzVDNy43NSAxLjMzNTc5IDcuNDE0MjEgMSA3IDFWMUM2LjU4NTc5IDEgNi4yNSAxLjMzNTc5IDYuMjUgMS43NVYxMC4xMjc1TDIuNTk3MjYgNi40NjgyMkMyLjMwMzM4IDYuMTczODEgMS44MjY0MSA2LjE3MzU5IDEuNTMyMjYgNi40Njc3NFY2LjQ2Nzc0QzEuMjM4MyA2Ljc2MTcgMS4yMzgzIDcuMjM4MyAxLjUzMjI2IDcuNTMyMjZMNi4yOTI4OSAxMi4yOTI5QzYuNjgzNDIgMTIuNjgzNCA3LjMxNjU4IDEyLjY4MzQgNy43MDcxMSAxMi4yOTI5TDEyLjQ3MSA3LjUyODk5WiIgZmlsbD0iIzYxNjE2MSIvPgo8L3N2Zz4K);\\n  --jp-icon-move-up: url(data:image/svg+xml;base64,PHN2ZyB3aWR0aD0iMTQiIGhlaWdodD0iMTQiIHZpZXdCb3g9IjAgMCAxNCAxNCIgZmlsbD0ibm9uZSIgeG1sbnM9Imh0dHA6Ly93d3cudzMub3JnLzIwMDAvc3ZnIj4KPHBhdGggY2xhc3M9ImpwLWljb24zIiBkPSJNMS41Mjg5OSA2LjQ3MTAxQzEuMjM2ODQgNi43NjMxNiAxLjIzNjg0IDcuMjM2ODQgMS41Mjg5OSA3LjUyODk5VjcuNTI4OTlDMS44MjA5NSA3LjgyMDk1IDIuMjk0MjYgNy44MjExNiAyLjU4NjQ5IDcuNTI5NDZMNi4yNSAzLjg3MjVWMTIuMjVDNi4yNSAxMi42NjQyIDYuNTg1NzkgMTMgNyAxM1YxM0M3LjQxNDIxIDEzIDcuNzUgMTIuNjY0MiA3Ljc1IDEyLjI1VjMuODcyNUwxMS40MDI3IDcuNTMxNzhDMTEuNjk2NiA3LjgyNjE5IDEyLjE3MzYgNy44MjY0MSAxMi40Njc3IDcuNTMyMjZWNy41MzIyNkMxMi43NjE3IDcuMjM4MyAxMi43NjE3IDYuNzYxNyAxMi40Njc3IDYuNDY3NzRMNy43MDcxMSAxLjcwNzExQzcuMzE2NTggMS4zMTY1OCA2LjY4MzQyIDEuMzE2NTggNi4yOTI4OSAxLjcwNzExTDEuNTI4OTkgNi40NzEwMVoiIGZpbGw9IiM2MTYxNjEiLz4KPC9zdmc+Cg==);\\n  --jp-icon-new-folder: url(data:image/svg+xml;base64,PHN2ZyB4bWxucz0iaHR0cDovL3d3dy53My5vcmcvMjAwMC9zdmciIHdpZHRoPSIxNiIgdmlld0JveD0iMCAwIDI0IDI0Ij4KICA8ZyBjbGFzcz0ianAtaWNvbjMiIGZpbGw9IiM2MTYxNjEiPgogICAgPHBhdGggZD0iTTIwIDZoLThsLTItMkg0Yy0xLjExIDAtMS45OS44OS0xLjk5IDJMMiAxOGMwIDEuMTEuODkgMiAyIDJoMTZjMS4xMSAwIDItLjg5IDItMlY4YzAtMS4xMS0uODktMi0yLTJ6bS0xIDhoLTN2M2gtMnYtM2gtM3YtMmgzVjloMnYzaDN2MnoiLz4KICA8L2c+Cjwvc3ZnPgo=);\\n  --jp-icon-not-trusted: url(data:image/svg+xml;base64,PHN2ZyBmaWxsPSJub25lIiB4bWxucz0iaHR0cDovL3d3dy53My5vcmcvMjAwMC9zdmciIHdpZHRoPSIxNiIgdmlld0JveD0iMCAwIDI1IDI1Ij4KICAgIDxwYXRoIGNsYXNzPSJqcC1pY29uMiIgc3Ryb2tlPSIjMzMzMzMzIiBzdHJva2Utd2lkdGg9IjIiIHRyYW5zZm9ybT0idHJhbnNsYXRlKDMgMykiIGQ9Ik0xLjg2MDk0IDExLjQ0MDlDMC44MjY0NDggOC43NzAyNyAwLjg2Mzc3OSA2LjA1NzY0IDEuMjQ5MDcgNC4xOTkzMkMyLjQ4MjA2IDMuOTMzNDcgNC4wODA2OCAzLjQwMzQ3IDUuNjAxMDIgMi44NDQ5QzcuMjM1NDkgMi4yNDQ0IDguODU2NjYgMS41ODE1IDkuOTg3NiAxLjA5NTM5QzExLjA1OTcgMS41ODM0MSAxMi42MDk0IDIuMjQ0NCAxNC4yMTggMi44NDMzOUMxNS43NTAzIDMuNDEzOTQgMTcuMzk5NSAzLjk1MjU4IDE4Ljc1MzkgNC4yMTM4NUMxOS4xMzY0IDYuMDcxNzcgMTkuMTcwOSA4Ljc3NzIyIDE4LjEzOSAxMS40NDA5QzE3LjAzMDMgMTQuMzAzMiAxNC42NjY4IDE3LjE4NDQgOS45OTk5OSAxOC45MzU0QzUuMzMzMTkgMTcuMTg0NCAyLjk2OTY4IDE0LjMwMzIgMS44NjA5NCAxMS40NDA5WiIvPgogICAgPHBhdGggY2xhc3M9ImpwLWljb24yIiBzdHJva2U9IiMzMzMzMzMiIHN0cm9rZS13aWR0aD0iMiIgdHJhbnNmb3JtPSJ0cmFuc2xhdGUoOS4zMTU5MiA5LjMyMDMxKSIgZD0iTTcuMzY4NDIgMEwwIDcuMzY0NzkiLz4KICAgIDxwYXRoIGNsYXNzPSJqcC1pY29uMiIgc3Ryb2tlPSIjMzMzMzMzIiBzdHJva2Utd2lkdGg9IjIiIHRyYW5zZm9ybT0idHJhbnNsYXRlKDkuMzE1OTIgMTYuNjgzNikgc2NhbGUoMSAtMSkiIGQ9Ik03LjM2ODQyIDBMMCA3LjM2NDc5Ii8+Cjwvc3ZnPgo=);\\n  --jp-icon-notebook: url(data:image/svg+xml;base64,PHN2ZyB4bWxucz0iaHR0cDovL3d3dy53My5vcmcvMjAwMC9zdmciIHdpZHRoPSIxNiIgdmlld0JveD0iMCAwIDIyIDIyIj4KICA8ZyBjbGFzcz0ianAtbm90ZWJvb2staWNvbi1jb2xvciBqcC1pY29uLXNlbGVjdGFibGUiIGZpbGw9IiNFRjZDMDAiPgogICAgPHBhdGggZD0iTTE4LjcgMy4zdjE1LjRIMy4zVjMuM2gxNS40bTEuNS0xLjVIMS44djE4LjNoMTguM2wuMS0xOC4zeiIvPgogICAgPHBhdGggZD0iTTE2LjUgMTYuNWwtNS40LTQuMy01LjYgNC4zdi0xMWgxMXoiLz4KICA8L2c+Cjwvc3ZnPgo=);\\n  --jp-icon-numbering: url(data:image/svg+xml;base64,PHN2ZyB3aWR0aD0iMjIiIGhlaWdodD0iMjIiIHZpZXdCb3g9IjAgMCAyOCAyOCIgeG1sbnM9Imh0dHA6Ly93d3cudzMub3JnLzIwMDAvc3ZnIj4KCTxnIGNsYXNzPSJqcC1pY29uMyIgZmlsbD0iIzYxNjE2MSI+CgkJPHBhdGggZD0iTTQgMTlINlYxOS41SDVWMjAuNUg2VjIxSDRWMjJIN1YxOEg0VjE5Wk01IDEwSDZWNkg0VjdINVYxMFpNNCAxM0g1LjhMNCAxNS4xVjE2SDdWMTVINS4yTDcgMTIuOVYxMkg0VjEzWk05IDdWOUgyM1Y3SDlaTTkgMjFIMjNWMTlIOVYyMVpNOSAxNUgyM1YxM0g5VjE1WiIvPgoJPC9nPgo8L3N2Zz4K);\\n  --jp-icon-offline-bolt: url(data:image/svg+xml;base64,PHN2ZyB4bWxucz0iaHR0cDovL3d3dy53My5vcmcvMjAwMC9zdmciIHZpZXdCb3g9IjAgMCAyNCAyNCIgd2lkdGg9IjE2Ij4KICA8ZyBjbGFzcz0ianAtaWNvbjMiIGZpbGw9IiM2MTYxNjEiPgogICAgPHBhdGggZD0iTTEyIDIuMDJjLTUuNTEgMC05Ljk4IDQuNDctOS45OCA5Ljk4czQuNDcgOS45OCA5Ljk4IDkuOTggOS45OC00LjQ3IDkuOTgtOS45OFMxNy41MSAyLjAyIDEyIDIuMDJ6TTExLjQ4IDIwdi02LjI2SDhMMTMgNHY2LjI2aDMuMzVMMTEuNDggMjB6Ii8+CiAgPC9nPgo8L3N2Zz4K);\\n  --jp-icon-palette: url(data:image/svg+xml;base64,PHN2ZyB4bWxucz0iaHR0cDovL3d3dy53My5vcmcvMjAwMC9zdmciIHdpZHRoPSIxNiIgdmlld0JveD0iMCAwIDI0IDI0Ij4KICA8ZyBjbGFzcz0ianAtaWNvbjMiIGZpbGw9IiM2MTYxNjEiPgogICAgPHBhdGggZD0iTTE4IDEzVjIwSDRWNkg5LjAyQzkuMDcgNS4yOSA5LjI0IDQuNjIgOS41IDRINEMyLjkgNCAyIDQuOSAyIDZWMjBDMiAyMS4xIDIuOSAyMiA0IDIySDE4QzE5LjEgMjIgMjAgMjEuMSAyMCAyMFYxNUwxOCAxM1pNMTkuMyA4Ljg5QzE5Ljc0IDguMTkgMjAgNy4zOCAyMCA2LjVDMjAgNC4wMSAxNy45OSAyIDE1LjUgMkMxMy4wMSAyIDExIDQuMDEgMTEgNi41QzExIDguOTkgMTMuMDEgMTEgMTUuNDkgMTFDMTYuMzcgMTEgMTcuMTkgMTAuNzQgMTcuODggMTAuM0wyMSAxMy40MkwyMi40MiAxMkwxOS4zIDguODlaTTE1LjUgOUMxNC4xMiA5IDEzIDcuODggMTMgNi41QzEzIDUuMTIgMTQuMTIgNCAxNS41IDRDMTYuODggNCAxOCA1LjEyIDE4IDYuNUMxOCA3Ljg4IDE2Ljg4IDkgMTUuNSA5WiIvPgogICAgPHBhdGggZmlsbC1ydWxlPSJldmVub2RkIiBjbGlwLXJ1bGU9ImV2ZW5vZGQiIGQ9Ik00IDZIOS4wMTg5NEM5LjAwNjM5IDYuMTY1MDIgOSA2LjMzMTc2IDkgNi41QzkgOC44MTU3NyAxMC4yMTEgMTAuODQ4NyAxMi4wMzQzIDEySDlWMTRIMTZWMTIuOTgxMUMxNi41NzAzIDEyLjkzNzcgMTcuMTIgMTIuODIwNyAxNy42Mzk2IDEyLjYzOTZMMTggMTNWMjBINFY2Wk04IDhINlYxMEg4VjhaTTYgMTJIOFYxNEg2VjEyWk04IDE2SDZWMThIOFYxNlpNOSAxNkgxNlYxOEg5VjE2WiIvPgogIDwvZz4KPC9zdmc+Cg==);\\n  --jp-icon-paste: url(data:image/svg+xml;base64,PHN2ZyBoZWlnaHQ9IjI0IiB2aWV3Qm94PSIwIDAgMjQgMjQiIHdpZHRoPSIyNCIgeG1sbnM9Imh0dHA6Ly93d3cudzMub3JnLzIwMDAvc3ZnIj4KICAgIDxnIGNsYXNzPSJqcC1pY29uMyIgZmlsbD0iIzYxNjE2MSI+CiAgICAgICAgPHBhdGggZD0iTTE5IDJoLTQuMThDMTQuNC44NCAxMy4zIDAgMTIgMGMtMS4zIDAtMi40Ljg0LTIuODIgMkg1Yy0xLjEgMC0yIC45LTIgMnYxNmMwIDEuMS45IDIgMiAyaDE0YzEuMSAwIDItLjkgMi0yVjRjMC0xLjEtLjktMi0yLTJ6bS03IDBjLjU1IDAgMSAuNDUgMSAxcy0uNDUgMS0xIDEtMS0uNDUtMS0xIC40NS0xIDEtMXptNyAxOEg1VjRoMnYzaDEwVjRoMnYxNnoiLz4KICAgIDwvZz4KPC9zdmc+Cg==);\\n  --jp-icon-pdf: url(data:image/svg+xml;base64,PHN2ZwogICB4bWxucz0iaHR0cDovL3d3dy53My5vcmcvMjAwMC9zdmciIHZpZXdCb3g9IjAgMCAyMiAyMiIgd2lkdGg9IjE2Ij4KICAgIDxwYXRoIHRyYW5zZm9ybT0icm90YXRlKDQ1KSIgY2xhc3M9ImpwLWljb24tc2VsZWN0YWJsZSIgZmlsbD0iI0ZGMkEyQSIKICAgICAgIGQ9Im0gMjIuMzQ0MzY5LC0zLjAxNjM2NDIgaCA1LjYzODYwNCB2IDEuNTc5MjQzMyBoIC0zLjU0OTIyNyB2IDEuNTA4NjkyOTkgaCAzLjMzNzU3NiBWIDEuNjUwODE1NCBoIC0zLjMzNzU3NiB2IDMuNDM1MjYxMyBoIC0yLjA4OTM3NyB6IG0gLTcuMTM2NDQ0LDEuNTc5MjQzMyB2IDQuOTQzOTU0MyBoIDAuNzQ4OTIgcSAxLjI4MDc2MSwwIDEuOTUzNzAzLC0wLjYzNDk1MzUgMC42NzgzNjksLTAuNjM0OTUzNSAwLjY3ODM2OSwtMS44NDUxNjQxIDAsLTEuMjA0NzgzNTUgLTAuNjcyOTQyLC0xLjgzNDMxMDExIC0wLjY3Mjk0MiwtMC42Mjk1MjY1OSAtMS45NTkxMywtMC42Mjk1MjY1OSB6IG0gLTIuMDg5Mzc3LC0xLjU3OTI0MzMgaCAyLjIwMzM0MyBxIDEuODQ1MTY0LDAgMi43NDYwMzksMC4yNjU5MjA3IDAuOTA2MzAxLDAuMjYwNDkzNyAxLjU1MjEwOCwwLjg5MDAyMDMgMC41Njk4MywwLjU0ODEyMjMgMC44NDY2MDUsMS4yNjQ0ODAwNiAwLjI3Njc3NCwwLjcxNjM1NzgxIDAuMjc2Nzc0LDEuNjIyNjU4OTQgMCwwLjkxNzE1NTEgLTAuMjc2Nzc0LDEuNjM4OTM5OSAtMC4yNzY3NzUsMC43MTYzNTc4IC0wLjg0NjYwNSwxLjI2NDQ4IC0wLjY1MTIzNCwwLjYyOTUyNjYgLTEuNTYyOTYyLDAuODk1NDQ3MyAtMC45MTE3MjgsMC4yNjA0OTM3IC0yLjczNTE4NSwwLjI2MDQ5MzcgaCAtMi4yMDMzNDMgeiBtIC04LjE0NTg1NjUsMCBoIDMuNDY3ODIzIHEgMS41NDY2ODE2LDAgMi4zNzE1Nzg1LDAuNjg5MjIzIDAuODMwMzI0LDAuNjgzNzk2MSAwLjgzMDMyNCwxLjk1MzcwMzE0IDAsMS4yNzUzMzM5NyAtMC44MzAzMjQsMS45NjQ1NTcwNiBRIDkuOTg3MTk2MSwyLjI3NDkxNSA4LjQ0MDUxNDUsMi4yNzQ5MTUgSCA3LjA2MjA2ODQgViA1LjA4NjA3NjcgSCA0Ljk3MjY5MTUgWiBtIDIuMDg5Mzc2OSwxLjUxNDExOTkgdiAyLjI2MzAzOTQzIGggMS4xNTU5NDEgcSAwLjYwNzgxODgsMCAwLjkzODg2MjksLTAuMjkzMDU1NDcgMC4zMzEwNDQxLC0wLjI5ODQ4MjQxIDAuMzMxMDQ0MSwtMC44NDExNzc3MiAwLC0wLjU0MjY5NTMxIC0wLjMzMTA0NDEsLTAuODM1NzUwNzQgLTAuMzMxMDQ0MSwtMC4yOTMwNTU1IC0wLjkzODg2MjksLTAuMjkzMDU1NSB6IgovPgo8L3N2Zz4K);\\n  --jp-icon-python: url(data:image/svg+xml;base64,PHN2ZyB4bWxucz0iaHR0cDovL3d3dy53My5vcmcvMjAwMC9zdmciIHdpZHRoPSIxNiIgdmlld0JveD0iLTEwIC0xMCAxMzEuMTYxMzYxNjk0MzM1OTQgMTMyLjM4ODk5OTkzODk2NDg0Ij4KICA8cGF0aCBjbGFzcz0ianAtaWNvbi1zZWxlY3RhYmxlIiBmaWxsPSIjMzA2OTk4IiBkPSJNIDU0LjkxODc4NSw5LjE5Mjc0MjFlLTQgQyA1MC4zMzUxMzIsMC4wMjIyMTcyNyA0NS45NTc4NDYsMC40MTMxMzY5NyA0Mi4xMDYyODUsMS4wOTQ2NjkzIDMwLjc2MDA2OSwzLjA5OTE3MzEgMjguNzAwMDM2LDcuMjk0NzcxNCAyOC43MDAwMzUsMTUuMDMyMTY5IHYgMTAuMjE4NzUgaCAyNi44MTI1IHYgMy40MDYyNSBoIC0yNi44MTI1IC0xMC4wNjI1IGMgLTcuNzkyNDU5LDAgLTE0LjYxNTc1ODgsNC42ODM3MTcgLTE2Ljc0OTk5OTgsMTMuNTkzNzUgLTIuNDYxODE5OTgsMTAuMjEyOTY2IC0yLjU3MTAxNTA4LDE2LjU4NjAyMyAwLDI3LjI1IDEuOTA1OTI4Myw3LjkzNzg1MiA2LjQ1NzU0MzIsMTMuNTkzNzQ4IDE0LjI0OTk5OTgsMTMuNTkzNzUgaCA5LjIxODc1IHYgLTEyLjI1IGMgMCwtOC44NDk5MDIgNy42NTcxNDQsLTE2LjY1NjI0OCAxNi43NSwtMTYuNjU2MjUgaCAyNi43ODEyNSBjIDcuNDU0OTUxLDAgMTMuNDA2MjUzLC02LjEzODE2NCAxMy40MDYyNSwtMTMuNjI1IHYgLTI1LjUzMTI1IGMgMCwtNy4yNjYzMzg2IC02LjEyOTk4LC0xMi43MjQ3NzcxIC0xMy40MDYyNSwtMTMuOTM3NDk5NyBDIDY0LjI4MTU0OCwwLjMyNzk0Mzk3IDU5LjUwMjQzOCwtMC4wMjAzNzkwMyA1NC45MTg3ODUsOS4xOTI3NDIxZS00IFogbSAtMTQuNSw4LjIxODc1MDEyNTc5IGMgMi43Njk1NDcsMCA1LjAzMTI1LDIuMjk4NjQ1NiA1LjAzMTI1LDUuMTI0OTk5NiAtMmUtNiwyLjgxNjMzNiAtMi4yNjE3MDMsNS4wOTM3NSAtNS4wMzEyNSw1LjA5Mzc1IC0yLjc3OTQ3NiwtMWUtNiAtNS4wMzEyNSwtMi4yNzc0MTUgLTUuMDMxMjUsLTUuMDkzNzUgLTEwZS03LC0yLjgyNjM1MyAyLjI1MTc3NCwtNS4xMjQ5OTk2IDUuMDMxMjUsLTUuMTI0OTk5NiB6Ii8+CiAgPHBhdGggY2xhc3M9ImpwLWljb24tc2VsZWN0YWJsZSIgZmlsbD0iI2ZmZDQzYiIgZD0ibSA4NS42Mzc1MzUsMjguNjU3MTY5IHYgMTEuOTA2MjUgYyAwLDkuMjMwNzU1IC03LjgyNTg5NSwxNi45OTk5OTkgLTE2Ljc1LDE3IGggLTI2Ljc4MTI1IGMgLTcuMzM1ODMzLDAgLTEzLjQwNjI0OSw2LjI3ODQ4MyAtMTMuNDA2MjUsMTMuNjI1IHYgMjUuNTMxMjQ3IGMgMCw3LjI2NjM0NCA2LjMxODU4OCwxMS41NDAzMjQgMTMuNDA2MjUsMTMuNjI1MDA0IDguNDg3MzMxLDIuNDk1NjEgMTYuNjI2MjM3LDIuOTQ2NjMgMjYuNzgxMjUsMCA2Ljc1MDE1NSwtMS45NTQzOSAxMy40MDYyNTMsLTUuODg3NjEgMTMuNDA2MjUsLTEzLjYyNTAwNCBWIDg2LjUwMDkxOSBoIC0yNi43ODEyNSB2IC0zLjQwNjI1IGggMjYuNzgxMjUgMTMuNDA2MjU0IGMgNy43OTI0NjEsMCAxMC42OTYyNTEsLTUuNDM1NDA4IDEzLjQwNjI0MSwtMTMuNTkzNzUgMi43OTkzMywtOC4zOTg4ODYgMi42ODAyMiwtMTYuNDc1Nzc2IDAsLTI3LjI1IC0xLjkyNTc4LC03Ljc1NzQ0MSAtNS42MDM4NywtMTMuNTkzNzUgLTEzLjQwNjI0MSwtMTMuNTkzNzUgeiBtIC0xNS4wNjI1LDY0LjY1NjI1IGMgMi43Nzk0NzgsM2UtNiA1LjAzMTI1LDIuMjc3NDE3IDUuMDMxMjUsNS4wOTM3NDcgLTJlLTYsMi44MjYzNTQgLTIuMjUxNzc1LDUuMTI1MDA0IC01LjAzMTI1LDUuMTI1MDA0IC0yLjc2OTU1LDAgLTUuMDMxMjUsLTIuMjk4NjUgLTUuMDMxMjUsLTUuMTI1MDA0IDJlLTYsLTIuODE2MzMgMi4yNjE2OTcsLTUuMDkzNzQ3IDUuMDMxMjUsLTUuMDkzNzQ3IHoiLz4KPC9zdmc+Cg==);\\n  --jp-icon-r-kernel: url(data:image/svg+xml;base64,PHN2ZyB4bWxucz0iaHR0cDovL3d3dy53My5vcmcvMjAwMC9zdmciIHdpZHRoPSIxNiIgdmlld0JveD0iMCAwIDIyIDIyIj4KICA8cGF0aCBjbGFzcz0ianAtaWNvbi1jb250cmFzdDMganAtaWNvbi1zZWxlY3RhYmxlIiBmaWxsPSIjMjE5NkYzIiBkPSJNNC40IDIuNWMxLjItLjEgMi45LS4zIDQuOS0uMyAyLjUgMCA0LjEuNCA1LjIgMS4zIDEgLjcgMS41IDEuOSAxLjUgMy41IDAgMi0xLjQgMy41LTIuOSA0LjEgMS4yLjQgMS43IDEuNiAyLjIgMyAuNiAxLjkgMSAzLjkgMS4zIDQuNmgtMy44Yy0uMy0uNC0uOC0xLjctMS4yLTMuN3MtMS4yLTIuNi0yLjYtMi42aC0uOXY2LjRINC40VjIuNXptMy43IDYuOWgxLjRjMS45IDAgMi45LS45IDIuOS0yLjNzLTEtMi4zLTIuOC0yLjNjLS43IDAtMS4zIDAtMS42LjJ2NC41aC4xdi0uMXoiLz4KPC9zdmc+Cg==);\\n  --jp-icon-react: url(data:image/svg+xml;base64,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);\\n  --jp-icon-redo: url(data:image/svg+xml;base64,PHN2ZyB4bWxucz0iaHR0cDovL3d3dy53My5vcmcvMjAwMC9zdmciIGhlaWdodD0iMjQiIHZpZXdCb3g9IjAgMCAyNCAyNCIgd2lkdGg9IjE2Ij4KICA8ZyBjbGFzcz0ianAtaWNvbjMiIGZpbGw9IiM2MTYxNjEiPgogICAgICA8cGF0aCBkPSJNMCAwaDI0djI0SDB6IiBmaWxsPSJub25lIi8+PHBhdGggZD0iTTE4LjQgMTAuNkMxNi41NSA4Ljk5IDE0LjE1IDggMTEuNSA4Yy00LjY1IDAtOC41OCAzLjAzLTkuOTYgNy4yMkwzLjkgMTZjMS4wNS0zLjE5IDQuMDUtNS41IDcuNi01LjUgMS45NSAwIDMuNzMuNzIgNS4xMiAxLjg4TDEzIDE2aDlWN2wtMy42IDMuNnoiLz4KICA8L2c+Cjwvc3ZnPgo=);\\n  --jp-icon-refresh: url(data:image/svg+xml;base64,PHN2ZyB4bWxucz0iaHR0cDovL3d3dy53My5vcmcvMjAwMC9zdmciIHdpZHRoPSIxNiIgdmlld0JveD0iMCAwIDE4IDE4Ij4KICAgIDxnIGNsYXNzPSJqcC1pY29uMyIgZmlsbD0iIzYxNjE2MSI+CiAgICAgICAgPHBhdGggZD0iTTkgMTMuNWMtMi40OSAwLTQuNS0yLjAxLTQuNS00LjVTNi41MSA0LjUgOSA0LjVjMS4yNCAwIDIuMzYuNTIgMy4xNyAxLjMzTDEwIDhoNVYzbC0xLjc2IDEuNzZDMTIuMTUgMy42OCAxMC42NiAzIDkgMyA1LjY5IDMgMy4wMSA1LjY5IDMuMDEgOVM1LjY5IDE1IDkgMTVjMi45NyAwIDUuNDMtMi4xNiA1LjktNWgtMS41MmMtLjQ2IDItMi4yNCAzLjUtNC4zOCAzLjV6Ii8+CiAgICA8L2c+Cjwvc3ZnPgo=);\\n  --jp-icon-regex: url(data:image/svg+xml;base64,PHN2ZyB4bWxucz0iaHR0cDovL3d3dy53My5vcmcvMjAwMC9zdmciIHdpZHRoPSIxNiIgdmlld0JveD0iMCAwIDIwIDIwIj4KICA8ZyBjbGFzcz0ianAtaWNvbjIiIGZpbGw9IiM0MTQxNDEiPgogICAgPHJlY3QgeD0iMiIgeT0iMiIgd2lkdGg9IjE2IiBoZWlnaHQ9IjE2Ii8+CiAgPC9nPgoKICA8ZyBjbGFzcz0ianAtaWNvbi1hY2NlbnQyIiBmaWxsPSIjRkZGIj4KICAgIDxjaXJjbGUgY2xhc3M9InN0MiIgY3g9IjUuNSIgY3k9IjE0LjUiIHI9IjEuNSIvPgogICAgPHJlY3QgeD0iMTIiIHk9IjQiIGNsYXNzPSJzdDIiIHdpZHRoPSIxIiBoZWlnaHQ9IjgiLz4KICAgIDxyZWN0IHg9IjguNSIgeT0iNy41IiB0cmFuc2Zvcm09Im1hdHJpeCgwLjg2NiAtMC41IDAuNSAwLjg2NiAtMi4zMjU1IDcuMzIxOSkiIGNsYXNzPSJzdDIiIHdpZHRoPSI4IiBoZWlnaHQ9IjEiLz4KICAgIDxyZWN0IHg9IjEyIiB5PSI0IiB0cmFuc2Zvcm09Im1hdHJpeCgwLjUgLTAuODY2IDAuODY2IDAuNSAtMC42Nzc5IDE0LjgyNTIpIiBjbGFzcz0ic3QyIiB3aWR0aD0iMSIgaGVpZ2h0PSI4Ii8+CiAgPC9nPgo8L3N2Zz4K);\\n  --jp-icon-run: url(data:image/svg+xml;base64,PHN2ZyBoZWlnaHQ9IjI0IiB2aWV3Qm94PSIwIDAgMjQgMjQiIHdpZHRoPSIyNCIgeG1sbnM9Imh0dHA6Ly93d3cudzMub3JnLzIwMDAvc3ZnIj4KICAgIDxnIGNsYXNzPSJqcC1pY29uMyIgZmlsbD0iIzYxNjE2MSI+CiAgICAgICAgPHBhdGggZD0iTTggNXYxNGwxMS03eiIvPgogICAgPC9nPgo8L3N2Zz4K);\\n  --jp-icon-running: url(data:image/svg+xml;base64,PHN2ZyB4bWxucz0iaHR0cDovL3d3dy53My5vcmcvMjAwMC9zdmciIHdpZHRoPSIxNiIgdmlld0JveD0iMCAwIDUxMiA1MTIiPgogIDxnIGNsYXNzPSJqcC1pY29uMyIgZmlsbD0iIzYxNjE2MSI+CiAgICA8cGF0aCBkPSJNMjU2IDhDMTE5IDggOCAxMTkgOCAyNTZzMTExIDI0OCAyNDggMjQ4IDI0OC0xMTEgMjQ4LTI0OFMzOTMgOCAyNTYgOHptOTYgMzI4YzAgOC44LTcuMiAxNi0xNiAxNkgxNzZjLTguOCAwLTE2LTcuMi0xNi0xNlYxNzZjMC04LjggNy4yLTE2IDE2LTE2aDE2MGM4LjggMCAxNiA3LjIgMTYgMTZ2MTYweiIvPgogIDwvZz4KPC9zdmc+Cg==);\\n  --jp-icon-save: url(data:image/svg+xml;base64,PHN2ZyBoZWlnaHQ9IjI0IiB2aWV3Qm94PSIwIDAgMjQgMjQiIHdpZHRoPSIyNCIgeG1sbnM9Imh0dHA6Ly93d3cudzMub3JnLzIwMDAvc3ZnIj4KICAgIDxnIGNsYXNzPSJqcC1pY29uMyIgZmlsbD0iIzYxNjE2MSI+CiAgICAgICAgPHBhdGggZD0iTTE3IDNINWMtMS4xMSAwLTIgLjktMiAydjE0YzAgMS4xLjg5IDIgMiAyaDE0YzEuMSAwIDItLjkgMi0yVjdsLTQtNHptLTUgMTZjLTEuNjYgMC0zLTEuMzQtMy0zczEuMzQtMyAzLTMgMyAxLjM0IDMgMy0xLjM0IDMtMyAzem0zLTEwSDVWNWgxMHY0eiIvPgogICAgPC9nPgo8L3N2Zz4K);\\n  --jp-icon-search: url(data:image/svg+xml;base64,PHN2ZyB2aWV3Qm94PSIwIDAgMTggMTgiIHdpZHRoPSIxNiIgeG1sbnM9Imh0dHA6Ly93d3cudzMub3JnLzIwMDAvc3ZnIj4KICA8ZyBjbGFzcz0ianAtaWNvbjMiIGZpbGw9IiM2MTYxNjEiPgogICAgPHBhdGggZD0iTTEyLjEsMTAuOWgtMC43bC0wLjItMC4yYzAuOC0wLjksMS4zLTIuMiwxLjMtMy41YzAtMy0yLjQtNS40LTUuNC01LjRTMS44LDQuMiwxLjgsNy4xczIuNCw1LjQsNS40LDUuNCBjMS4zLDAsMi41LTAuNSwzLjUtMS4zbDAuMiwwLjJ2MC43bDQuMSw0LjFsMS4yLTEuMkwxMi4xLDEwLjl6IE03LjEsMTAuOWMtMi4xLDAtMy43LTEuNy0zLjctMy43czEuNy0zLjcsMy43LTMuN3MzLjcsMS43LDMuNywzLjcgUzkuMiwxMC45LDcuMSwxMC45eiIvPgogIDwvZz4KPC9zdmc+Cg==);\\n  --jp-icon-settings: url(data:image/svg+xml;base64,PHN2ZyB4bWxucz0iaHR0cDovL3d3dy53My5vcmcvMjAwMC9zdmciIHdpZHRoPSIxNiIgdmlld0JveD0iMCAwIDI0IDI0Ij4KICA8cGF0aCBjbGFzcz0ianAtaWNvbjMganAtaWNvbi1zZWxlY3RhYmxlIiBmaWxsPSIjNjE2MTYxIiBkPSJNMTkuNDMgMTIuOThjLjA0LS4zMi4wNy0uNjQuMDctLjk4cy0uMDMtLjY2LS4wNy0uOThsMi4xMS0xLjY1Yy4xOS0uMTUuMjQtLjQyLjEyLS42NGwtMi0zLjQ2Yy0uMTItLjIyLS4zOS0uMy0uNjEtLjIybC0yLjQ5IDFjLS41Mi0uNC0xLjA4LS43My0xLjY5LS45OGwtLjM4LTIuNjVBLjQ4OC40ODggMCAwMDE0IDJoLTRjLS4yNSAwLS40Ni4xOC0uNDkuNDJsLS4zOCAyLjY1Yy0uNjEuMjUtMS4xNy41OS0xLjY5Ljk4bC0yLjQ5LTFjLS4yMy0uMDktLjQ5IDAtLjYxLjIybC0yIDMuNDZjLS4xMy4yMi0uMDcuNDkuMTIuNjRsMi4xMSAxLjY1Yy0uMDQuMzItLjA3LjY1LS4wNy45OHMuMDMuNjYuMDcuOThsLTIuMTEgMS42NWMtLjE5LjE1LS4yNC40Mi0uMTIuNjRsMiAzLjQ2Yy4xMi4yMi4zOS4zLjYxLjIybDIuNDktMWMuNTIuNCAxLjA4LjczIDEuNjkuOThsLjM4IDIuNjVjLjAzLjI0LjI0LjQyLjQ5LjQyaDRjLjI1IDAgLjQ2LS4xOC40OS0uNDJsLjM4LTIuNjVjLjYxLS4yNSAxLjE3LS41OSAxLjY5LS45OGwyLjQ5IDFjLjIzLjA5LjQ5IDAgLjYxLS4yMmwyLTMuNDZjLjEyLS4yMi4wNy0uNDktLjEyLS42NGwtMi4xMS0xLjY1ek0xMiAxNS41Yy0xLjkzIDAtMy41LTEuNTctMy41LTMuNXMxLjU3LTMuNSAzLjUtMy41IDMuNSAxLjU3IDMuNSAzLjUtMS41NyAzLjUtMy41IDMuNXoiLz4KPC9zdmc+Cg==);\\n  --jp-icon-share: url(data:image/svg+xml;base64,PHN2ZyB3aWR0aD0iMTYiIHZpZXdCb3g9IjAgMCAyNCAyNCIgeG1sbnM9Imh0dHA6Ly93d3cudzMub3JnLzIwMDAvc3ZnIj4KICA8ZyBjbGFzcz0ianAtaWNvbjMiIGZpbGw9IiM2MTYxNjEiPgogICAgPHBhdGggZD0iTSAxOCAyIEMgMTYuMzU0OTkgMiAxNSAzLjM1NDk5MDQgMTUgNSBDIDE1IDUuMTkwOTUyOSAxNS4wMjE3OTEgNS4zNzcxMjI0IDE1LjA1NjY0MSA1LjU1ODU5MzggTCA3LjkyMTg3NSA5LjcyMDcwMzEgQyA3LjM5ODUzOTkgOS4yNzc4NTM5IDYuNzMyMDc3MSA5IDYgOSBDIDQuMzU0OTkwNCA5IDMgMTAuMzU0OTkgMyAxMiBDIDMgMTMuNjQ1MDEgNC4zNTQ5OTA0IDE1IDYgMTUgQyA2LjczMjA3NzEgMTUgNy4zOTg1Mzk5IDE0LjcyMjE0NiA3LjkyMTg3NSAxNC4yNzkyOTcgTCAxNS4wNTY2NDEgMTguNDM5NDUzIEMgMTUuMDIxNTU1IDE4LjYyMTUxNCAxNSAxOC44MDgzODYgMTUgMTkgQyAxNSAyMC42NDUwMSAxNi4zNTQ5OSAyMiAxOCAyMiBDIDE5LjY0NTAxIDIyIDIxIDIwLjY0NTAxIDIxIDE5IEMgMjEgMTcuMzU0OTkgMTkuNjQ1MDEgMTYgMTggMTYgQyAxNy4yNjc0OCAxNiAxNi42MDE1OTMgMTYuMjc5MzI4IDE2LjA3ODEyNSAxNi43MjI2NTYgTCA4Ljk0MzM1OTQgMTIuNTU4NTk0IEMgOC45NzgyMDk1IDEyLjM3NzEyMiA5IDEyLjE5MDk1MyA5IDEyIEMgOSAxMS44MDkwNDcgOC45NzgyMDk1IDExLjYyMjg3OCA4Ljk0MzM1OTQgMTEuNDQxNDA2IEwgMTYuMDc4MTI1IDcuMjc5Mjk2OSBDIDE2LjYwMTQ2IDcuNzIyMTQ2MSAxNy4yNjc5MjMgOCAxOCA4IEMgMTkuNjQ1MDEgOCAyMSA2LjY0NTAwOTYgMjEgNSBDIDIxIDMuMzU0OTkwNCAxOS42NDUwMSAyIDE4IDIgeiBNIDE4IDQgQyAxOC41NjQxMjkgNCAxOSA0LjQzNTg3MDYgMTkgNSBDIDE5IDUuNTY0MTI5NCAxOC41NjQxMjkgNiAxOCA2IEMgMTcuNDM1ODcxIDYgMTcgNS41NjQxMjk0IDE3IDUgQyAxNyA0LjQzNTg3MDYgMTcuNDM1ODcxIDQgMTggNCB6IE0gNiAxMSBDIDYuNTY0MTI5NCAxMSA3IDExLjQzNTg3MSA3IDEyIEMgNyAxMi41NjQxMjkgNi41NjQxMjk0IDEzIDYgMTMgQyA1LjQzNTg3MDYgMTMgNSAxMi41NjQxMjkgNSAxMiBDIDUgMTEuNDM1ODcxIDUuNDM1ODcwNiAxMSA2IDExIHogTSAxOCAxOCBDIDE4LjU2NDEyOSAxOCAxOSAxOC40MzU4NzEgMTkgMTkgQyAxOSAxOS41NjQxMjkgMTguNTY0MTI5IDIwIDE4IDIwIEMgMTcuNDM1ODcxIDIwIDE3IDE5LjU2NDEyOSAxNyAxOSBDIDE3IDE4LjQzNTg3MSAxNy40MzU4NzEgMTggMTggMTggeiIvPgogIDwvZz4KPC9zdmc+Cg==);\\n  --jp-icon-spreadsheet: url(data:image/svg+xml;base64,PHN2ZyB4bWxucz0iaHR0cDovL3d3dy53My5vcmcvMjAwMC9zdmciIHdpZHRoPSIxNiIgdmlld0JveD0iMCAwIDIyIDIyIj4KICA8cGF0aCBjbGFzcz0ianAtaWNvbi1jb250cmFzdDEganAtaWNvbi1zZWxlY3RhYmxlIiBmaWxsPSIjNENBRjUwIiBkPSJNMi4yIDIuMnYxNy42aDE3LjZWMi4ySDIuMnptMTUuNCA3LjdoLTUuNVY0LjRoNS41djUuNXpNOS45IDQuNHY1LjVINC40VjQuNGg1LjV6bS01LjUgNy43aDUuNXY1LjVINC40di01LjV6bTcuNyA1LjV2LTUuNWg1LjV2NS41aC01LjV6Ii8+Cjwvc3ZnPgo=);\\n  --jp-icon-stop: url(data:image/svg+xml;base64,PHN2ZyBoZWlnaHQ9IjI0IiB2aWV3Qm94PSIwIDAgMjQgMjQiIHdpZHRoPSIyNCIgeG1sbnM9Imh0dHA6Ly93d3cudzMub3JnLzIwMDAvc3ZnIj4KICAgIDxnIGNsYXNzPSJqcC1pY29uMyIgZmlsbD0iIzYxNjE2MSI+CiAgICAgICAgPHBhdGggZD0iTTAgMGgyNHYyNEgweiIgZmlsbD0ibm9uZSIvPgogICAgICAgIDxwYXRoIGQ9Ik02IDZoMTJ2MTJINnoiLz4KICAgIDwvZz4KPC9zdmc+Cg==);\\n  --jp-icon-tab: url(data:image/svg+xml;base64,PHN2ZyB4bWxucz0iaHR0cDovL3d3dy53My5vcmcvMjAwMC9zdmciIHdpZHRoPSIxNiIgdmlld0JveD0iMCAwIDI0IDI0Ij4KICA8ZyBjbGFzcz0ianAtaWNvbjMiIGZpbGw9IiM2MTYxNjEiPgogICAgPHBhdGggZD0iTTIxIDNIM2MtMS4xIDAtMiAuOS0yIDJ2MTRjMCAxLjEuOSAyIDIgMmgxOGMxLjEgMCAyLS45IDItMlY1YzAtMS4xLS45LTItMi0yem0wIDE2SDNWNWgxMHY0aDh2MTB6Ii8+CiAgPC9nPgo8L3N2Zz4K);\\n  --jp-icon-table-rows: url(data:image/svg+xml;base64,PHN2ZyBoZWlnaHQ9IjI0IiB2aWV3Qm94PSIwIDAgMjQgMjQiIHdpZHRoPSIyNCIgeG1sbnM9Imh0dHA6Ly93d3cudzMub3JnLzIwMDAvc3ZnIj4KICAgIDxnIGNsYXNzPSJqcC1pY29uMyIgZmlsbD0iIzYxNjE2MSI+CiAgICAgICAgPHBhdGggZD0iTTAgMGgyNHYyNEgweiIgZmlsbD0ibm9uZSIvPgogICAgICAgIDxwYXRoIGQ9Ik0yMSw4SDNWNGgxOFY4eiBNMjEsMTBIM3Y0aDE4VjEweiBNMjEsMTZIM3Y0aDE4VjE2eiIvPgogICAgPC9nPgo8L3N2Zz4K);\\n  --jp-icon-tag: url(data:image/svg+xml;base64,PHN2ZyB3aWR0aD0iMjgiIGhlaWdodD0iMjgiIHZpZXdCb3g9IjAgMCA0MyAyOCIgeG1sbnM9Imh0dHA6Ly93d3cudzMub3JnLzIwMDAvc3ZnIj4KCTxnIGNsYXNzPSJqcC1pY29uMyIgZmlsbD0iIzYxNjE2MSI+CgkJPHBhdGggZD0iTTI4LjgzMzIgMTIuMzM0TDMyLjk5OTggMTYuNTAwN0wzNy4xNjY1IDEyLjMzNEgyOC44MzMyWiIvPgoJCTxwYXRoIGQ9Ik0xNi4yMDk1IDIxLjYxMDRDMTUuNjg3MyAyMi4xMjk5IDE0Ljg0NDMgMjIuMTI5OSAxNC4zMjQ4IDIxLjYxMDRMNi45ODI5IDE0LjcyNDVDNi41NzI0IDE0LjMzOTQgNi4wODMxMyAxMy42MDk4IDYuMDQ3ODYgMTMuMDQ4MkM1Ljk1MzQ3IDExLjUyODggNi4wMjAwMiA4LjYxOTQ0IDYuMDY2MjEgNy4wNzY5NUM2LjA4MjgxIDYuNTE0NzcgNi41NTU0OCA2LjA0MzQ3IDcuMTE4MDQgNi4wMzA1NUM5LjA4ODYzIDUuOTg0NzMgMTMuMjYzOCA1LjkzNTc5IDEzLjY1MTggNi4zMjQyNUwyMS43MzY5IDEzLjYzOUMyMi4yNTYgMTQuMTU4NSAyMS43ODUxIDE1LjQ3MjQgMjEuMjYyIDE1Ljk5NDZMMTYuMjA5NSAyMS42MTA0Wk05Ljc3NTg1IDguMjY1QzkuMzM1NTEgNy44MjU2NiA4LjYyMzUxIDcuODI1NjYgOC4xODI4IDguMjY1QzcuNzQzNDYgOC43MDU3MSA3Ljc0MzQ2IDkuNDE3MzMgOC4xODI4IDkuODU2NjdDOC42MjM4MiAxMC4yOTY0IDkuMzM1ODIgMTAuMjk2NCA5Ljc3NTg1IDkuODU2NjdDMTAuMjE1NiA5LjQxNzMzIDEwLjIxNTYgOC43MDUzMyA5Ljc3NTg1IDguMjY1WiIvPgoJPC9nPgo8L3N2Zz4K);\\n  --jp-icon-terminal: url(data:image/svg+xml;base64,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);\\n  --jp-icon-text-editor: url(data:image/svg+xml;base64,PHN2ZyB4bWxucz0iaHR0cDovL3d3dy53My5vcmcvMjAwMC9zdmciIHdpZHRoPSIxNiIgdmlld0JveD0iMCAwIDI0IDI0Ij4KICA8cGF0aCBjbGFzcz0ianAtdGV4dC1lZGl0b3ItaWNvbi1jb2xvciBqcC1pY29uLXNlbGVjdGFibGUiIGZpbGw9IiM2MTYxNjEiIGQ9Ik0xNSAxNUgzdjJoMTJ2LTJ6bTAtOEgzdjJoMTJWN3pNMyAxM2gxOHYtMkgzdjJ6bTAgOGgxOHYtMkgzdjJ6TTMgM3YyaDE4VjNIM3oiLz4KPC9zdmc+Cg==);\\n  --jp-icon-toc: url(data:image/svg+xml;base64,PHN2ZyB4bWxucz0iaHR0cDovL3d3dy53My5vcmcvMjAwMC9zdmciIHdpZHRoPSIyNCIgaGVpZ2h0PSIyNCIgdmlld0JveD0iMCAwIDI0IDI0Ij4KICA8ZyBjbGFzcz0ianAtaWNvbjMganAtaWNvbi1zZWxlY3RhYmxlIiBmaWxsPSIjNjE2MTYxIj4KICAgIDxwYXRoIGQ9Ik03LDVIMjFWN0g3VjVNNywxM1YxMUgyMVYxM0g3TTQsNC41QTEuNSwxLjUgMCAwLDEgNS41LDZBMS41LDEuNSAwIDAsMSA0LDcuNUExLjUsMS41IDAgMCwxIDIuNSw2QTEuNSwxLjUgMCAwLDEgNCw0LjVNNCwxMC41QTEuNSwxLjUgMCAwLDEgNS41LDEyQTEuNSwxLjUgMCAwLDEgNCwxMy41QTEuNSwxLjUgMCAwLDEgMi41LDEyQTEuNSwxLjUgMCAwLDEgNCwxMC41TTcsMTlWMTdIMjFWMTlIN000LDE2LjVBMS41LDEuNSAwIDAsMSA1LjUsMThBMS41LDEuNSAwIDAsMSA0LDE5LjVBMS41LDEuNSAwIDAsMSAyLjUsMThBMS41LDEuNSAwIDAsMSA0LDE2LjVaIiAvPgogIDwvZz4KPC9zdmc+Cg==);\\n  --jp-icon-tree-view: url(data:image/svg+xml;base64,PHN2ZyBoZWlnaHQ9IjI0IiB2aWV3Qm94PSIwIDAgMjQgMjQiIHdpZHRoPSIyNCIgeG1sbnM9Imh0dHA6Ly93d3cudzMub3JnLzIwMDAvc3ZnIj4KICAgIDxnIGNsYXNzPSJqcC1pY29uMyIgZmlsbD0iIzYxNjE2MSI+CiAgICAgICAgPHBhdGggZD0iTTAgMGgyNHYyNEgweiIgZmlsbD0ibm9uZSIvPgogICAgICAgIDxwYXRoIGQ9Ik0yMiAxMVYzaC03djNIOVYzSDJ2OGg3VjhoMnYxMGg0djNoN3YtOGgtN3YzaC0yVjhoMnYzeiIvPgogICAgPC9nPgo8L3N2Zz4K);\\n  --jp-icon-trusted: url(data:image/svg+xml;base64,PHN2ZyBmaWxsPSJub25lIiB4bWxucz0iaHR0cDovL3d3dy53My5vcmcvMjAwMC9zdmciIHdpZHRoPSIxNiIgdmlld0JveD0iMCAwIDI0IDI1Ij4KICAgIDxwYXRoIGNsYXNzPSJqcC1pY29uMiIgc3Ryb2tlPSIjMzMzMzMzIiBzdHJva2Utd2lkdGg9IjIiIHRyYW5zZm9ybT0idHJhbnNsYXRlKDIgMykiIGQ9Ik0xLjg2MDk0IDExLjQ0MDlDMC44MjY0NDggOC43NzAyNyAwLjg2Mzc3OSA2LjA1NzY0IDEuMjQ5MDcgNC4xOTkzMkMyLjQ4MjA2IDMuOTMzNDcgNC4wODA2OCAzLjQwMzQ3IDUuNjAxMDIgMi44NDQ5QzcuMjM1NDkgMi4yNDQ0IDguODU2NjYgMS41ODE1IDkuOTg3NiAxLjA5NTM5QzExLjA1OTcgMS41ODM0MSAxMi42MDk0IDIuMjQ0NCAxNC4yMTggMi44NDMzOUMxNS43NTAzIDMuNDEzOTQgMTcuMzk5NSAzLjk1MjU4IDE4Ljc1MzkgNC4yMTM4NUMxOS4xMzY0IDYuMDcxNzcgMTkuMTcwOSA4Ljc3NzIyIDE4LjEzOSAxMS40NDA5QzE3LjAzMDMgMTQuMzAzMiAxNC42NjY4IDE3LjE4NDQgOS45OTk5OSAxOC45MzU0QzUuMzMzMiAxNy4xODQ0IDIuOTY5NjggMTQuMzAzMiAxLjg2MDk0IDExLjQ0MDlaIi8+CiAgICA8cGF0aCBjbGFzcz0ianAtaWNvbjIiIGZpbGw9IiMzMzMzMzMiIHN0cm9rZT0iIzMzMzMzMyIgdHJhbnNmb3JtPSJ0cmFuc2xhdGUoOCA5Ljg2NzE5KSIgZD0iTTIuODYwMTUgNC44NjUzNUwwLjcyNjU0OSAyLjk5OTU5TDAgMy42MzA0NUwyLjg2MDE1IDYuMTMxNTdMOCAwLjYzMDg3Mkw3LjI3ODU3IDBMMi44NjAxNSA0Ljg2NTM1WiIvPgo8L3N2Zz4K);\\n  --jp-icon-undo: url(data:image/svg+xml;base64,PHN2ZyB2aWV3Qm94PSIwIDAgMjQgMjQiIHdpZHRoPSIxNiIgeG1sbnM9Imh0dHA6Ly93d3cudzMub3JnLzIwMDAvc3ZnIj4KICA8ZyBjbGFzcz0ianAtaWNvbjMiIGZpbGw9IiM2MTYxNjEiPgogICAgPHBhdGggZD0iTTEyLjUgOGMtMi42NSAwLTUuMDUuOTktNi45IDIuNkwyIDd2OWg5bC0zLjYyLTMuNjJjMS4zOS0xLjE2IDMuMTYtMS44OCA1LjEyLTEuODggMy41NCAwIDYuNTUgMi4zMSA3LjYgNS41bDIuMzctLjc4QzIxLjA4IDExLjAzIDE3LjE1IDggMTIuNSA4eiIvPgogIDwvZz4KPC9zdmc+Cg==);\\n  --jp-icon-user: url(data:image/svg+xml;base64,PHN2ZyB3aWR0aD0iMTYiIHZpZXdCb3g9IjAgMCAyNCAyNCIgeG1sbnM9Imh0dHA6Ly93d3cudzMub3JnLzIwMDAvc3ZnIj4KICA8ZyBjbGFzcz0ianAtaWNvbjMiIGZpbGw9IiM2MTYxNjEiPgogICAgPHBhdGggZD0iTTE2IDdhNCA0IDAgMTEtOCAwIDQgNCAwIDAxOCAwek0xMiAxNGE3IDcgMCAwMC03IDdoMTRhNyA3IDAgMDAtNy03eiIvPgogIDwvZz4KPC9zdmc+Cg==);\\n  --jp-icon-users: url(data:image/svg+xml;base64,PHN2ZyB3aWR0aD0iMjQiIGhlaWdodD0iMjQiIHZlcnNpb249IjEuMSIgdmlld0JveD0iMCAwIDM2IDI0IiB4bWxucz0iaHR0cDovL3d3dy53My5vcmcvMjAwMC9zdmciPgogPGcgY2xhc3M9ImpwLWljb24zIiB0cmFuc2Zvcm09Im1hdHJpeCgxLjczMjcgMCAwIDEuNzMyNyAtMy42MjgyIC4wOTk1NzcpIiBmaWxsPSIjNjE2MTYxIj4KICA8cGF0aCB0cmFuc2Zvcm09Im1hdHJpeCgxLjUsMCwwLDEuNSwwLC02KSIgZD0ibTEyLjE4NiA3LjUwOThjLTEuMDUzNSAwLTEuOTc1NyAwLjU2NjUtMi40Nzg1IDEuNDEwMiAwLjc1MDYxIDAuMzEyNzcgMS4zOTc0IDAuODI2NDggMS44NzMgMS40NzI3aDMuNDg2M2MwLTEuNTkyLTEuMjg4OS0yLjg4MjgtMi44ODA5LTIuODgyOHoiLz4KICA8cGF0aCBkPSJtMjAuNDY1IDIuMzg5NWEyLjE4ODUgMi4xODg1IDAgMCAxLTIuMTg4NCAyLjE4ODUgMi4xODg1IDIuMTg4NSAwIDAgMS0yLjE4ODUtMi4xODg1IDIuMTg4NSAyLjE4ODUgMCAwIDEgMi4xODg1LTIuMTg4NSAyLjE4ODUgMi4xODg1IDAgMCAxIDIuMTg4NCAyLjE4ODV6Ii8+CiAgPHBhdGggdHJhbnNmb3JtPSJtYXRyaXgoMS41LDAsMCwxLjUsMCwtNikiIGQ9Im0zLjU4OTggOC40MjE5Yy0xLjExMjYgMC0yLjAxMzcgMC45MDExMS0yLjAxMzcgMi4wMTM3aDIuODE0NWMwLjI2Nzk3LTAuMzczMDkgMC41OTA3LTAuNzA0MzUgMC45NTg5OC0wLjk3ODUyLTAuMzQ0MzMtMC42MTY4OC0xLjAwMzEtMS4wMzUyLTEuNzU5OC0xLjAzNTJ6Ii8+CiAgPHBhdGggZD0ibTYuOTE1NCA0LjYyM2ExLjUyOTQgMS41Mjk0IDAgMCAxLTEuNTI5NCAxLjUyOTQgMS41Mjk0IDEuNTI5NCAwIDAgMS0xLjUyOTQtMS41Mjk0IDEuNTI5NCAxLjUyOTQgMCAwIDEgMS41Mjk0LTEuNTI5NCAxLjUyOTQgMS41Mjk0IDAgMCAxIDEuNTI5NCAxLjUyOTR6Ii8+CiAgPHBhdGggZD0ibTYuMTM1IDEzLjUzNWMwLTMuMjM5MiAyLjYyNTktNS44NjUgNS44NjUtNS44NjUgMy4yMzkyIDAgNS44NjUgMi42MjU5IDUuODY1IDUuODY1eiIvPgogIDxjaXJjbGUgY3g9IjEyIiBjeT0iMy43Njg1IiByPSIyLjk2ODUiLz4KIDwvZz4KPC9zdmc+Cg==);\\n  --jp-icon-vega: url(data:image/svg+xml;base64,PHN2ZyB4bWxucz0iaHR0cDovL3d3dy53My5vcmcvMjAwMC9zdmciIHdpZHRoPSIxNiIgdmlld0JveD0iMCAwIDIyIDIyIj4KICA8ZyBjbGFzcz0ianAtaWNvbjEganAtaWNvbi1zZWxlY3RhYmxlIiBmaWxsPSIjMjEyMTIxIj4KICAgIDxwYXRoIGQ9Ik0xMC42IDUuNGwyLjItMy4ySDIuMnY3LjNsNC02LjZ6Ii8+CiAgICA8cGF0aCBkPSJNMTUuOCAyLjJsLTQuNCA2LjZMNyA2LjNsLTQuOCA4djUuNWgxNy42VjIuMmgtNHptLTcgMTUuNEg1LjV2LTQuNGgzLjN2NC40em00LjQgMEg5LjhWOS44aDMuNHY3Ljh6bTQuNCAwaC0zLjRWNi41aDMuNHYxMS4xeiIvPgogIDwvZz4KPC9zdmc+Cg==);\\n  --jp-icon-word: url(data:image/svg+xml;base64,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);\\n  --jp-icon-yaml: url(data:image/svg+xml;base64,PHN2ZyB4bWxucz0iaHR0cDovL3d3dy53My5vcmcvMjAwMC9zdmciIHdpZHRoPSIxNiIgdmlld0JveD0iMCAwIDIyIDIyIj4KICA8ZyBjbGFzcz0ianAtaWNvbi1jb250cmFzdDIganAtaWNvbi1zZWxlY3RhYmxlIiBmaWxsPSIjRDgxQjYwIj4KICAgIDxwYXRoIGQ9Ik03LjIgMTguNnYtNS40TDMgNS42aDMuM2wxLjQgMy4xYy4zLjkuNiAxLjYgMSAyLjUuMy0uOC42LTEuNiAxLTIuNWwxLjQtMy4xaDMuNGwtNC40IDcuNnY1LjVsLTIuOS0uMXoiLz4KICAgIDxjaXJjbGUgY2xhc3M9InN0MCIgY3g9IjE3LjYiIGN5PSIxNi41IiByPSIyLjEiLz4KICAgIDxjaXJjbGUgY2xhc3M9InN0MCIgY3g9IjE3LjYiIGN5PSIxMSIgcj0iMi4xIi8+CiAgPC9nPgo8L3N2Zz4K);\\n}\\n\\n/* Icon CSS class declarations */\\n\\n.jp-AddAboveIcon {\\n  background-image: var(--jp-icon-add-above);\\n}\\n\\n.jp-AddBelowIcon {\\n  background-image: var(--jp-icon-add-below);\\n}\\n\\n.jp-AddIcon {\\n  background-image: var(--jp-icon-add);\\n}\\n\\n.jp-BellIcon {\\n  background-image: var(--jp-icon-bell);\\n}\\n\\n.jp-BugDotIcon {\\n  background-image: var(--jp-icon-bug-dot);\\n}\\n\\n.jp-BugIcon {\\n  background-image: var(--jp-icon-bug);\\n}\\n\\n.jp-BuildIcon {\\n  background-image: var(--jp-icon-build);\\n}\\n\\n.jp-CaretDownEmptyIcon {\\n  background-image: var(--jp-icon-caret-down-empty);\\n}\\n\\n.jp-CaretDownEmptyThinIcon {\\n  background-image: var(--jp-icon-caret-down-empty-thin);\\n}\\n\\n.jp-CaretDownIcon {\\n  background-image: var(--jp-icon-caret-down);\\n}\\n\\n.jp-CaretLeftIcon {\\n  background-image: var(--jp-icon-caret-left);\\n}\\n\\n.jp-CaretRightIcon {\\n  background-image: var(--jp-icon-caret-right);\\n}\\n\\n.jp-CaretUpEmptyThinIcon {\\n  background-image: var(--jp-icon-caret-up-empty-thin);\\n}\\n\\n.jp-CaretUpIcon {\\n  background-image: var(--jp-icon-caret-up);\\n}\\n\\n.jp-CaseSensitiveIcon {\\n  background-image: var(--jp-icon-case-sensitive);\\n}\\n\\n.jp-CheckIcon {\\n  background-image: var(--jp-icon-check);\\n}\\n\\n.jp-CircleEmptyIcon {\\n  background-image: var(--jp-icon-circle-empty);\\n}\\n\\n.jp-CircleIcon {\\n  background-image: var(--jp-icon-circle);\\n}\\n\\n.jp-ClearIcon {\\n  background-image: var(--jp-icon-clear);\\n}\\n\\n.jp-CloseIcon {\\n  background-image: var(--jp-icon-close);\\n}\\n\\n.jp-CodeCheckIcon {\\n  background-image: var(--jp-icon-code-check);\\n}\\n\\n.jp-CodeIcon {\\n  background-image: var(--jp-icon-code);\\n}\\n\\n.jp-CollapseAllIcon {\\n  background-image: var(--jp-icon-collapse-all);\\n}\\n\\n.jp-ConsoleIcon {\\n  background-image: var(--jp-icon-console);\\n}\\n\\n.jp-CopyIcon {\\n  background-image: var(--jp-icon-copy);\\n}\\n\\n.jp-CopyrightIcon {\\n  background-image: var(--jp-icon-copyright);\\n}\\n\\n.jp-CutIcon {\\n  background-image: var(--jp-icon-cut);\\n}\\n\\n.jp-DeleteIcon {\\n  background-image: var(--jp-icon-delete);\\n}\\n\\n.jp-DownloadIcon {\\n  background-image: var(--jp-icon-download);\\n}\\n\\n.jp-DuplicateIcon {\\n  background-image: var(--jp-icon-duplicate);\\n}\\n\\n.jp-EditIcon {\\n  background-image: var(--jp-icon-edit);\\n}\\n\\n.jp-EllipsesIcon {\\n  background-image: var(--jp-icon-ellipses);\\n}\\n\\n.jp-ErrorIcon {\\n  background-image: var(--jp-icon-error);\\n}\\n\\n.jp-ExpandAllIcon {\\n  background-image: var(--jp-icon-expand-all);\\n}\\n\\n.jp-ExtensionIcon {\\n  background-image: var(--jp-icon-extension);\\n}\\n\\n.jp-FastForwardIcon {\\n  background-image: var(--jp-icon-fast-forward);\\n}\\n\\n.jp-FileIcon {\\n  background-image: var(--jp-icon-file);\\n}\\n\\n.jp-FileUploadIcon {\\n  background-image: var(--jp-icon-file-upload);\\n}\\n\\n.jp-FilterDotIcon {\\n  background-image: var(--jp-icon-filter-dot);\\n}\\n\\n.jp-FilterIcon {\\n  background-image: var(--jp-icon-filter);\\n}\\n\\n.jp-FilterListIcon {\\n  background-image: var(--jp-icon-filter-list);\\n}\\n\\n.jp-FolderFavoriteIcon {\\n  background-image: var(--jp-icon-folder-favorite);\\n}\\n\\n.jp-FolderIcon {\\n  background-image: var(--jp-icon-folder);\\n}\\n\\n.jp-HomeIcon {\\n  background-image: var(--jp-icon-home);\\n}\\n\\n.jp-Html5Icon {\\n  background-image: var(--jp-icon-html5);\\n}\\n\\n.jp-ImageIcon {\\n  background-image: var(--jp-icon-image);\\n}\\n\\n.jp-InfoIcon {\\n  background-image: var(--jp-icon-info);\\n}\\n\\n.jp-InspectorIcon {\\n  background-image: var(--jp-icon-inspector);\\n}\\n\\n.jp-JsonIcon {\\n  background-image: var(--jp-icon-json);\\n}\\n\\n.jp-JuliaIcon {\\n  background-image: var(--jp-icon-julia);\\n}\\n\\n.jp-JupyterFaviconIcon {\\n  background-image: var(--jp-icon-jupyter-favicon);\\n}\\n\\n.jp-JupyterIcon {\\n  background-image: var(--jp-icon-jupyter);\\n}\\n\\n.jp-JupyterlabWordmarkIcon {\\n  background-image: var(--jp-icon-jupyterlab-wordmark);\\n}\\n\\n.jp-KernelIcon {\\n  background-image: var(--jp-icon-kernel);\\n}\\n\\n.jp-KeyboardIcon {\\n  background-image: var(--jp-icon-keyboard);\\n}\\n\\n.jp-LaunchIcon {\\n  background-image: var(--jp-icon-launch);\\n}\\n\\n.jp-LauncherIcon {\\n  background-image: var(--jp-icon-launcher);\\n}\\n\\n.jp-LineFormIcon {\\n  background-image: var(--jp-icon-line-form);\\n}\\n\\n.jp-LinkIcon {\\n  background-image: var(--jp-icon-link);\\n}\\n\\n.jp-ListIcon {\\n  background-image: var(--jp-icon-list);\\n}\\n\\n.jp-MarkdownIcon {\\n  background-image: var(--jp-icon-markdown);\\n}\\n\\n.jp-MoveDownIcon {\\n  background-image: var(--jp-icon-move-down);\\n}\\n\\n.jp-MoveUpIcon {\\n  background-image: var(--jp-icon-move-up);\\n}\\n\\n.jp-NewFolderIcon {\\n  background-image: var(--jp-icon-new-folder);\\n}\\n\\n.jp-NotTrustedIcon {\\n  background-image: var(--jp-icon-not-trusted);\\n}\\n\\n.jp-NotebookIcon {\\n  background-image: var(--jp-icon-notebook);\\n}\\n\\n.jp-NumberingIcon {\\n  background-image: var(--jp-icon-numbering);\\n}\\n\\n.jp-OfflineBoltIcon {\\n  background-image: var(--jp-icon-offline-bolt);\\n}\\n\\n.jp-PaletteIcon {\\n  background-image: var(--jp-icon-palette);\\n}\\n\\n.jp-PasteIcon {\\n  background-image: var(--jp-icon-paste);\\n}\\n\\n.jp-PdfIcon {\\n  background-image: var(--jp-icon-pdf);\\n}\\n\\n.jp-PythonIcon {\\n  background-image: var(--jp-icon-python);\\n}\\n\\n.jp-RKernelIcon {\\n  background-image: var(--jp-icon-r-kernel);\\n}\\n\\n.jp-ReactIcon {\\n  background-image: var(--jp-icon-react);\\n}\\n\\n.jp-RedoIcon {\\n  background-image: var(--jp-icon-redo);\\n}\\n\\n.jp-RefreshIcon {\\n  background-image: var(--jp-icon-refresh);\\n}\\n\\n.jp-RegexIcon {\\n  background-image: var(--jp-icon-regex);\\n}\\n\\n.jp-RunIcon {\\n  background-image: var(--jp-icon-run);\\n}\\n\\n.jp-RunningIcon {\\n  background-image: var(--jp-icon-running);\\n}\\n\\n.jp-SaveIcon {\\n  background-image: var(--jp-icon-save);\\n}\\n\\n.jp-SearchIcon {\\n  background-image: var(--jp-icon-search);\\n}\\n\\n.jp-SettingsIcon {\\n  background-image: var(--jp-icon-settings);\\n}\\n\\n.jp-ShareIcon {\\n  background-image: var(--jp-icon-share);\\n}\\n\\n.jp-SpreadsheetIcon {\\n  background-image: var(--jp-icon-spreadsheet);\\n}\\n\\n.jp-StopIcon {\\n  background-image: var(--jp-icon-stop);\\n}\\n\\n.jp-TabIcon {\\n  background-image: var(--jp-icon-tab);\\n}\\n\\n.jp-TableRowsIcon {\\n  background-image: var(--jp-icon-table-rows);\\n}\\n\\n.jp-TagIcon {\\n  background-image: var(--jp-icon-tag);\\n}\\n\\n.jp-TerminalIcon {\\n  background-image: var(--jp-icon-terminal);\\n}\\n\\n.jp-TextEditorIcon {\\n  background-image: var(--jp-icon-text-editor);\\n}\\n\\n.jp-TocIcon {\\n  background-image: var(--jp-icon-toc);\\n}\\n\\n.jp-TreeViewIcon {\\n  background-image: var(--jp-icon-tree-view);\\n}\\n\\n.jp-TrustedIcon {\\n  background-image: var(--jp-icon-trusted);\\n}\\n\\n.jp-UndoIcon {\\n  background-image: var(--jp-icon-undo);\\n}\\n\\n.jp-UserIcon {\\n  background-image: var(--jp-icon-user);\\n}\\n\\n.jp-UsersIcon {\\n  background-image: var(--jp-icon-users);\\n}\\n\\n.jp-VegaIcon {\\n  background-image: var(--jp-icon-vega);\\n}\\n\\n.jp-WordIcon {\\n  background-image: var(--jp-icon-word);\\n}\\n\\n.jp-YamlIcon {\\n  background-image: var(--jp-icon-yaml);\\n}\\n\\n/*-----------------------------------------------------------------------------\\n| Copyright (c) Jupyter Development Team.\\n| Distributed under the terms of the Modified BSD License.\\n|----------------------------------------------------------------------------*/\\n\\n/**\\n * (DEPRECATED) Support for consuming icons as CSS background images\\n */\\n\\n.jp-Icon,\\n.jp-MaterialIcon {\\n  background-position: center;\\n  background-repeat: no-repeat;\\n  background-size: 16px;\\n  min-width: 16px;\\n  min-height: 16px;\\n}\\n\\n.jp-Icon-cover {\\n  background-position: center;\\n  background-repeat: no-repeat;\\n  background-size: cover;\\n}\\n\\n/**\\n * (DEPRECATED) Support for specific CSS icon sizes\\n */\\n\\n.jp-Icon-16 {\\n  background-size: 16px;\\n  min-width: 16px;\\n  min-height: 16px;\\n}\\n\\n.jp-Icon-18 {\\n  background-size: 18px;\\n  min-width: 18px;\\n  min-height: 18px;\\n}\\n\\n.jp-Icon-20 {\\n  background-size: 20px;\\n  min-width: 20px;\\n  min-height: 20px;\\n}\\n\\n/*-----------------------------------------------------------------------------\\n| Copyright (c) Jupyter Development Team.\\n| Distributed under the terms of the Modified BSD License.\\n|----------------------------------------------------------------------------*/\\n\\n.lm-TabBar .lm-TabBar-addButton {\\n  align-items: center;\\n  display: flex;\\n  padding: 4px;\\n  padding-bottom: 5px;\\n  margin-right: 1px;\\n  background-color: var(--jp-layout-color2);\\n}\\n\\n.lm-TabBar .lm-TabBar-addButton:hover {\\n  background-color: var(--jp-layout-color1);\\n}\\n\\n.lm-DockPanel-tabBar .lm-TabBar-tab {\\n  width: var(--jp-private-horizontal-tab-width);\\n}\\n\\n.lm-DockPanel-tabBar .lm-TabBar-content {\\n  flex: unset;\\n}\\n\\n.lm-DockPanel-tabBar[data-orientation=\\'horizontal\\'] {\\n  flex: 1 1 auto;\\n}\\n\\n/*-----------------------------------------------------------------------------\\n| Copyright (c) Jupyter Development Team.\\n| Distributed under the terms of the Modified BSD License.\\n|----------------------------------------------------------------------------*/\\n\\n/**\\n * Support for icons as inline SVG HTMLElements\\n */\\n\\n/* recolor the primary elements of an icon */\\n.jp-icon0[fill] {\\n  fill: var(--jp-inverse-layout-color0);\\n}\\n\\n.jp-icon1[fill] {\\n  fill: var(--jp-inverse-layout-color1);\\n}\\n\\n.jp-icon2[fill] {\\n  fill: var(--jp-inverse-layout-color2);\\n}\\n\\n.jp-icon3[fill] {\\n  fill: var(--jp-inverse-layout-color3);\\n}\\n\\n.jp-icon4[fill] {\\n  fill: var(--jp-inverse-layout-color4);\\n}\\n\\n.jp-icon0[stroke] {\\n  stroke: var(--jp-inverse-layout-color0);\\n}\\n\\n.jp-icon1[stroke] {\\n  stroke: var(--jp-inverse-layout-color1);\\n}\\n\\n.jp-icon2[stroke] {\\n  stroke: var(--jp-inverse-layout-color2);\\n}\\n\\n.jp-icon3[stroke] {\\n  stroke: var(--jp-inverse-layout-color3);\\n}\\n\\n.jp-icon4[stroke] {\\n  stroke: var(--jp-inverse-layout-color4);\\n}\\n\\n/* recolor the accent elements of an icon */\\n.jp-icon-accent0[fill] {\\n  fill: var(--jp-layout-color0);\\n}\\n\\n.jp-icon-accent1[fill] {\\n  fill: var(--jp-layout-color1);\\n}\\n\\n.jp-icon-accent2[fill] {\\n  fill: var(--jp-layout-color2);\\n}\\n\\n.jp-icon-accent3[fill] {\\n  fill: var(--jp-layout-color3);\\n}\\n\\n.jp-icon-accent4[fill] {\\n  fill: var(--jp-layout-color4);\\n}\\n\\n.jp-icon-accent0[stroke] {\\n  stroke: var(--jp-layout-color0);\\n}\\n\\n.jp-icon-accent1[stroke] {\\n  stroke: var(--jp-layout-color1);\\n}\\n\\n.jp-icon-accent2[stroke] {\\n  stroke: var(--jp-layout-color2);\\n}\\n\\n.jp-icon-accent3[stroke] {\\n  stroke: var(--jp-layout-color3);\\n}\\n\\n.jp-icon-accent4[stroke] {\\n  stroke: var(--jp-layout-color4);\\n}\\n\\n/* set the color of an icon to transparent */\\n.jp-icon-none[fill] {\\n  fill: none;\\n}\\n\\n.jp-icon-none[stroke] {\\n  stroke: none;\\n}\\n\\n/* brand icon colors. Same for light and dark */\\n.jp-icon-brand0[fill] {\\n  fill: var(--jp-brand-color0);\\n}\\n\\n.jp-icon-brand1[fill] {\\n  fill: var(--jp-brand-color1);\\n}\\n\\n.jp-icon-brand2[fill] {\\n  fill: var(--jp-brand-color2);\\n}\\n\\n.jp-icon-brand3[fill] {\\n  fill: var(--jp-brand-color3);\\n}\\n\\n.jp-icon-brand4[fill] {\\n  fill: var(--jp-brand-color4);\\n}\\n\\n.jp-icon-brand0[stroke] {\\n  stroke: var(--jp-brand-color0);\\n}\\n\\n.jp-icon-brand1[stroke] {\\n  stroke: var(--jp-brand-color1);\\n}\\n\\n.jp-icon-brand2[stroke] {\\n  stroke: var(--jp-brand-color2);\\n}\\n\\n.jp-icon-brand3[stroke] {\\n  stroke: var(--jp-brand-color3);\\n}\\n\\n.jp-icon-brand4[stroke] {\\n  stroke: var(--jp-brand-color4);\\n}\\n\\n/* warn icon colors. Same for light and dark */\\n.jp-icon-warn0[fill] {\\n  fill: var(--jp-warn-color0);\\n}\\n\\n.jp-icon-warn1[fill] {\\n  fill: var(--jp-warn-color1);\\n}\\n\\n.jp-icon-warn2[fill] {\\n  fill: var(--jp-warn-color2);\\n}\\n\\n.jp-icon-warn3[fill] {\\n  fill: var(--jp-warn-color3);\\n}\\n\\n.jp-icon-warn0[stroke] {\\n  stroke: var(--jp-warn-color0);\\n}\\n\\n.jp-icon-warn1[stroke] {\\n  stroke: var(--jp-warn-color1);\\n}\\n\\n.jp-icon-warn2[stroke] {\\n  stroke: var(--jp-warn-color2);\\n}\\n\\n.jp-icon-warn3[stroke] {\\n  stroke: var(--jp-warn-color3);\\n}\\n\\n/* icon colors that contrast well with each other and most backgrounds */\\n.jp-icon-contrast0[fill] {\\n  fill: var(--jp-icon-contrast-color0);\\n}\\n\\n.jp-icon-contrast1[fill] {\\n  fill: var(--jp-icon-contrast-color1);\\n}\\n\\n.jp-icon-contrast2[fill] {\\n  fill: var(--jp-icon-contrast-color2);\\n}\\n\\n.jp-icon-contrast3[fill] {\\n  fill: var(--jp-icon-contrast-color3);\\n}\\n\\n.jp-icon-contrast0[stroke] {\\n  stroke: var(--jp-icon-contrast-color0);\\n}\\n\\n.jp-icon-contrast1[stroke] {\\n  stroke: var(--jp-icon-contrast-color1);\\n}\\n\\n.jp-icon-contrast2[stroke] {\\n  stroke: var(--jp-icon-contrast-color2);\\n}\\n\\n.jp-icon-contrast3[stroke] {\\n  stroke: var(--jp-icon-contrast-color3);\\n}\\n\\n.jp-icon-dot[fill] {\\n  fill: var(--jp-warn-color0);\\n}\\n\\n.jp-jupyter-icon-color[fill] {\\n  fill: var(--jp-jupyter-icon-color, var(--jp-warn-color0));\\n}\\n\\n.jp-notebook-icon-color[fill] {\\n  fill: var(--jp-notebook-icon-color, var(--jp-warn-color0));\\n}\\n\\n.jp-json-icon-color[fill] {\\n  fill: var(--jp-json-icon-color, var(--jp-warn-color1));\\n}\\n\\n.jp-console-icon-color[fill] {\\n  fill: var(--jp-console-icon-color, white);\\n}\\n\\n.jp-console-icon-background-color[fill] {\\n  fill: var(--jp-console-icon-background-color, var(--jp-brand-color1));\\n}\\n\\n.jp-terminal-icon-color[fill] {\\n  fill: var(--jp-terminal-icon-color, var(--jp-layout-color2));\\n}\\n\\n.jp-terminal-icon-background-color[fill] {\\n  fill: var(\\n    --jp-terminal-icon-background-color,\\n    var(--jp-inverse-layout-color2)\\n  );\\n}\\n\\n.jp-text-editor-icon-color[fill] {\\n  fill: var(--jp-text-editor-icon-color, var(--jp-inverse-layout-color3));\\n}\\n\\n.jp-inspector-icon-color[fill] {\\n  fill: var(--jp-inspector-icon-color, var(--jp-inverse-layout-color3));\\n}\\n\\n/* CSS for icons in selected filebrowser listing items */\\n.jp-DirListing-item.jp-mod-selected .jp-icon-selectable[fill] {\\n  fill: #fff;\\n}\\n\\n.jp-DirListing-item.jp-mod-selected .jp-icon-selectable-inverse[fill] {\\n  fill: var(--jp-brand-color1);\\n}\\n\\n/* stylelint-disable selector-max-class, selector-max-compound-selectors */\\n\\n/**\\n* TODO: come up with non css-hack solution for showing the busy icon on top\\n*  of the close icon\\n* CSS for complex behavior of close icon of tabs in the main area tabbar\\n*/\\n.lm-DockPanel-tabBar\\n  .lm-TabBar-tab.lm-mod-closable.jp-mod-dirty\\n  > .lm-TabBar-tabCloseIcon\\n  > :not(:hover)\\n  > .jp-icon3[fill] {\\n  fill: none;\\n}\\n\\n.lm-DockPanel-tabBar\\n  .lm-TabBar-tab.lm-mod-closable.jp-mod-dirty\\n  > .lm-TabBar-tabCloseIcon\\n  > :not(:hover)\\n  > .jp-icon-busy[fill] {\\n  fill: var(--jp-inverse-layout-color3);\\n}\\n\\n/* stylelint-enable selector-max-class, selector-max-compound-selectors */\\n\\n/* CSS for icons in status bar */\\n#jp-main-statusbar .jp-mod-selected .jp-icon-selectable[fill] {\\n  fill: #fff;\\n}\\n\\n#jp-main-statusbar .jp-mod-selected .jp-icon-selectable-inverse[fill] {\\n  fill: var(--jp-brand-color1);\\n}\\n\\n/* special handling for splash icon CSS. While the theme CSS reloads during\\n   splash, the splash icon can loose theming. To prevent that, we set a\\n   default for its color variable */\\n:root {\\n  --jp-warn-color0: var(--md-orange-700);\\n}\\n\\n/* not sure what to do with this one, used in filebrowser listing */\\n.jp-DragIcon {\\n  margin-right: 4px;\\n}\\n\\n/*-----------------------------------------------------------------------------\\n| Copyright (c) Jupyter Development Team.\\n| Distributed under the terms of the Modified BSD License.\\n|----------------------------------------------------------------------------*/\\n\\n/**\\n * Support for alt colors for icons as inline SVG HTMLElements\\n */\\n\\n/* alt recolor the primary elements of an icon */\\n.jp-icon-alt .jp-icon0[fill] {\\n  fill: var(--jp-layout-color0);\\n}\\n\\n.jp-icon-alt .jp-icon1[fill] {\\n  fill: var(--jp-layout-color1);\\n}\\n\\n.jp-icon-alt .jp-icon2[fill] {\\n  fill: var(--jp-layout-color2);\\n}\\n\\n.jp-icon-alt .jp-icon3[fill] {\\n  fill: var(--jp-layout-color3);\\n}\\n\\n.jp-icon-alt .jp-icon4[fill] {\\n  fill: var(--jp-layout-color4);\\n}\\n\\n.jp-icon-alt .jp-icon0[stroke] {\\n  stroke: var(--jp-layout-color0);\\n}\\n\\n.jp-icon-alt .jp-icon1[stroke] {\\n  stroke: var(--jp-layout-color1);\\n}\\n\\n.jp-icon-alt .jp-icon2[stroke] {\\n  stroke: var(--jp-layout-color2);\\n}\\n\\n.jp-icon-alt .jp-icon3[stroke] {\\n  stroke: var(--jp-layout-color3);\\n}\\n\\n.jp-icon-alt .jp-icon4[stroke] {\\n  stroke: var(--jp-layout-color4);\\n}\\n\\n/* alt recolor the accent elements of an icon */\\n.jp-icon-alt .jp-icon-accent0[fill] {\\n  fill: var(--jp-inverse-layout-color0);\\n}\\n\\n.jp-icon-alt .jp-icon-accent1[fill] {\\n  fill: var(--jp-inverse-layout-color1);\\n}\\n\\n.jp-icon-alt .jp-icon-accent2[fill] {\\n  fill: var(--jp-inverse-layout-color2);\\n}\\n\\n.jp-icon-alt .jp-icon-accent3[fill] {\\n  fill: var(--jp-inverse-layout-color3);\\n}\\n\\n.jp-icon-alt .jp-icon-accent4[fill] {\\n  fill: var(--jp-inverse-layout-color4);\\n}\\n\\n.jp-icon-alt .jp-icon-accent0[stroke] {\\n  stroke: var(--jp-inverse-layout-color0);\\n}\\n\\n.jp-icon-alt .jp-icon-accent1[stroke] {\\n  stroke: var(--jp-inverse-layout-color1);\\n}\\n\\n.jp-icon-alt .jp-icon-accent2[stroke] {\\n  stroke: var(--jp-inverse-layout-color2);\\n}\\n\\n.jp-icon-alt .jp-icon-accent3[stroke] {\\n  stroke: var(--jp-inverse-layout-color3);\\n}\\n\\n.jp-icon-alt .jp-icon-accent4[stroke] {\\n  stroke: var(--jp-inverse-layout-color4);\\n}\\n\\n/*-----------------------------------------------------------------------------\\n| Copyright (c) Jupyter Development Team.\\n| Distributed under the terms of the Modified BSD License.\\n|----------------------------------------------------------------------------*/\\n\\n.jp-icon-hoverShow:not(:hover) .jp-icon-hoverShow-content {\\n  display: none !important;\\n}\\n\\n/**\\n * Support for hover colors for icons as inline SVG HTMLElements\\n */\\n\\n/**\\n * regular colors\\n */\\n\\n/* recolor the primary elements of an icon */\\n.jp-icon-hover :hover .jp-icon0-hover[fill] {\\n  fill: var(--jp-inverse-layout-color0);\\n}\\n\\n.jp-icon-hover :hover .jp-icon1-hover[fill] {\\n  fill: var(--jp-inverse-layout-color1);\\n}\\n\\n.jp-icon-hover :hover .jp-icon2-hover[fill] {\\n  fill: var(--jp-inverse-layout-color2);\\n}\\n\\n.jp-icon-hover :hover .jp-icon3-hover[fill] {\\n  fill: var(--jp-inverse-layout-color3);\\n}\\n\\n.jp-icon-hover :hover .jp-icon4-hover[fill] {\\n  fill: var(--jp-inverse-layout-color4);\\n}\\n\\n.jp-icon-hover :hover .jp-icon0-hover[stroke] {\\n  stroke: var(--jp-inverse-layout-color0);\\n}\\n\\n.jp-icon-hover :hover .jp-icon1-hover[stroke] {\\n  stroke: var(--jp-inverse-layout-color1);\\n}\\n\\n.jp-icon-hover :hover .jp-icon2-hover[stroke] {\\n  stroke: var(--jp-inverse-layout-color2);\\n}\\n\\n.jp-icon-hover :hover .jp-icon3-hover[stroke] {\\n  stroke: var(--jp-inverse-layout-color3);\\n}\\n\\n.jp-icon-hover :hover .jp-icon4-hover[stroke] {\\n  stroke: var(--jp-inverse-layout-color4);\\n}\\n\\n/* recolor the accent elements of an icon */\\n.jp-icon-hover :hover .jp-icon-accent0-hover[fill] {\\n  fill: var(--jp-layout-color0);\\n}\\n\\n.jp-icon-hover :hover .jp-icon-accent1-hover[fill] {\\n  fill: var(--jp-layout-color1);\\n}\\n\\n.jp-icon-hover :hover .jp-icon-accent2-hover[fill] {\\n  fill: var(--jp-layout-color2);\\n}\\n\\n.jp-icon-hover :hover .jp-icon-accent3-hover[fill] {\\n  fill: var(--jp-layout-color3);\\n}\\n\\n.jp-icon-hover :hover .jp-icon-accent4-hover[fill] {\\n  fill: var(--jp-layout-color4);\\n}\\n\\n.jp-icon-hover :hover .jp-icon-accent0-hover[stroke] {\\n  stroke: var(--jp-layout-color0);\\n}\\n\\n.jp-icon-hover :hover .jp-icon-accent1-hover[stroke] {\\n  stroke: var(--jp-layout-color1);\\n}\\n\\n.jp-icon-hover :hover .jp-icon-accent2-hover[stroke] {\\n  stroke: var(--jp-layout-color2);\\n}\\n\\n.jp-icon-hover :hover .jp-icon-accent3-hover[stroke] {\\n  stroke: var(--jp-layout-color3);\\n}\\n\\n.jp-icon-hover :hover .jp-icon-accent4-hover[stroke] {\\n  stroke: var(--jp-layout-color4);\\n}\\n\\n/* set the color of an icon to transparent */\\n.jp-icon-hover :hover .jp-icon-none-hover[fill] {\\n  fill: none;\\n}\\n\\n.jp-icon-hover :hover .jp-icon-none-hover[stroke] {\\n  stroke: none;\\n}\\n\\n/**\\n * inverse colors\\n */\\n\\n/* inverse recolor the primary elements of an icon */\\n.jp-icon-hover.jp-icon-alt :hover .jp-icon0-hover[fill] {\\n  fill: var(--jp-layout-color0);\\n}\\n\\n.jp-icon-hover.jp-icon-alt :hover .jp-icon1-hover[fill] {\\n  fill: var(--jp-layout-color1);\\n}\\n\\n.jp-icon-hover.jp-icon-alt :hover .jp-icon2-hover[fill] {\\n  fill: var(--jp-layout-color2);\\n}\\n\\n.jp-icon-hover.jp-icon-alt :hover .jp-icon3-hover[fill] {\\n  fill: var(--jp-layout-color3);\\n}\\n\\n.jp-icon-hover.jp-icon-alt :hover .jp-icon4-hover[fill] {\\n  fill: var(--jp-layout-color4);\\n}\\n\\n.jp-icon-hover.jp-icon-alt :hover .jp-icon0-hover[stroke] {\\n  stroke: var(--jp-layout-color0);\\n}\\n\\n.jp-icon-hover.jp-icon-alt :hover .jp-icon1-hover[stroke] {\\n  stroke: var(--jp-layout-color1);\\n}\\n\\n.jp-icon-hover.jp-icon-alt :hover .jp-icon2-hover[stroke] {\\n  stroke: var(--jp-layout-color2);\\n}\\n\\n.jp-icon-hover.jp-icon-alt :hover .jp-icon3-hover[stroke] {\\n  stroke: var(--jp-layout-color3);\\n}\\n\\n.jp-icon-hover.jp-icon-alt :hover .jp-icon4-hover[stroke] {\\n  stroke: var(--jp-layout-color4);\\n}\\n\\n/* inverse recolor the accent elements of an icon */\\n.jp-icon-hover.jp-icon-alt :hover .jp-icon-accent0-hover[fill] {\\n  fill: var(--jp-inverse-layout-color0);\\n}\\n\\n.jp-icon-hover.jp-icon-alt :hover .jp-icon-accent1-hover[fill] {\\n  fill: var(--jp-inverse-layout-color1);\\n}\\n\\n.jp-icon-hover.jp-icon-alt :hover .jp-icon-accent2-hover[fill] {\\n  fill: var(--jp-inverse-layout-color2);\\n}\\n\\n.jp-icon-hover.jp-icon-alt :hover .jp-icon-accent3-hover[fill] {\\n  fill: var(--jp-inverse-layout-color3);\\n}\\n\\n.jp-icon-hover.jp-icon-alt :hover .jp-icon-accent4-hover[fill] {\\n  fill: var(--jp-inverse-layout-color4);\\n}\\n\\n.jp-icon-hover.jp-icon-alt :hover .jp-icon-accent0-hover[stroke] {\\n  stroke: var(--jp-inverse-layout-color0);\\n}\\n\\n.jp-icon-hover.jp-icon-alt :hover .jp-icon-accent1-hover[stroke] {\\n  stroke: var(--jp-inverse-layout-color1);\\n}\\n\\n.jp-icon-hover.jp-icon-alt :hover .jp-icon-accent2-hover[stroke] {\\n  stroke: var(--jp-inverse-layout-color2);\\n}\\n\\n.jp-icon-hover.jp-icon-alt :hover .jp-icon-accent3-hover[stroke] {\\n  stroke: var(--jp-inverse-layout-color3);\\n}\\n\\n.jp-icon-hover.jp-icon-alt :hover .jp-icon-accent4-hover[stroke] {\\n  stroke: var(--jp-inverse-layout-color4);\\n}\\n\\n/*-----------------------------------------------------------------------------\\n| Copyright (c) Jupyter Development Team.\\n| Distributed under the terms of the Modified BSD License.\\n|----------------------------------------------------------------------------*/\\n\\n.jp-IFrame {\\n  width: 100%;\\n  height: 100%;\\n}\\n\\n.jp-IFrame > iframe {\\n  border: none;\\n}\\n\\n/*\\nWhen drag events occur, `lm-mod-override-cursor` is added to the body.\\nBecause iframes steal all cursor events, the following two rules are necessary\\nto suppress pointer events while resize drags are occurring. There may be a\\nbetter solution to this problem.\\n*/\\nbody.lm-mod-override-cursor .jp-IFrame {\\n  position: relative;\\n}\\n\\nbody.lm-mod-override-cursor .jp-IFrame::before {\\n  content: \\'\\';\\n  position: absolute;\\n  top: 0;\\n  left: 0;\\n  right: 0;\\n  bottom: 0;\\n  background: transparent;\\n}\\n\\n/*-----------------------------------------------------------------------------\\n| Copyright (c) 2014-2016, Jupyter Development Team.\\n|\\n| Distributed under the terms of the Modified BSD License.\\n|----------------------------------------------------------------------------*/\\n\\n.jp-HoverBox {\\n  position: fixed;\\n}\\n\\n/*-----------------------------------------------------------------------------\\n| Copyright (c) Jupyter Development Team.\\n| Distributed under the terms of the Modified BSD License.\\n|----------------------------------------------------------------------------*/\\n\\n.jp-FormGroup-content fieldset {\\n  border: none;\\n  padding: 0;\\n  min-width: 0;\\n  width: 100%;\\n}\\n\\n/* stylelint-disable selector-max-type */\\n\\n.jp-FormGroup-content fieldset .jp-inputFieldWrapper input,\\n.jp-FormGroup-content fieldset .jp-inputFieldWrapper select,\\n.jp-FormGroup-content fieldset .jp-inputFieldWrapper textarea {\\n  font-size: var(--jp-content-font-size2);\\n  border-color: var(--jp-input-border-color);\\n  border-style: solid;\\n  border-radius: var(--jp-border-radius);\\n  border-width: 1px;\\n  padding: 6px 8px;\\n  background: none;\\n  color: var(--jp-ui-font-color0);\\n  height: inherit;\\n}\\n\\n.jp-FormGroup-content fieldset input[type=\\'checkbox\\'] {\\n  position: relative;\\n  top: 2px;\\n  margin-left: 0;\\n}\\n\\n.jp-FormGroup-content button.jp-mod-styled {\\n  cursor: pointer;\\n}\\n\\n.jp-FormGroup-content .checkbox label {\\n  cursor: pointer;\\n  font-size: var(--jp-content-font-size1);\\n}\\n\\n.jp-FormGroup-content .jp-root > fieldset > legend {\\n  display: none;\\n}\\n\\n.jp-FormGroup-content .jp-root > fieldset > p {\\n  display: none;\\n}\\n\\n/** copy of `input.jp-mod-styled:focus` style */\\n.jp-FormGroup-content fieldset input:focus,\\n.jp-FormGroup-content fieldset select:focus {\\n  -moz-outline-radius: unset;\\n  outline: var(--jp-border-width) solid var(--md-blue-500);\\n  outline-offset: -1px;\\n  box-shadow: inset 0 0 4px var(--md-blue-300);\\n}\\n\\n.jp-FormGroup-content fieldset input:hover:not(:focus),\\n.jp-FormGroup-content fieldset select:hover:not(:focus) {\\n  background-color: var(--jp-border-color2);\\n}\\n\\n/* stylelint-enable selector-max-type */\\n\\n.jp-FormGroup-content .checkbox .field-description {\\n  /* Disable default description field for checkbox:\\n   because other widgets do not have description fields,\\n   we add descriptions to each widget on the field level.\\n  */\\n  display: none;\\n}\\n\\n.jp-FormGroup-content #root__description {\\n  display: none;\\n}\\n\\n.jp-FormGroup-content .jp-modifiedIndicator {\\n  width: 5px;\\n  background-color: var(--jp-brand-color2);\\n  margin-top: 0;\\n  margin-left: calc(var(--jp-private-settingeditor-modifier-indent) * -1);\\n  flex-shrink: 0;\\n}\\n\\n.jp-FormGroup-content .jp-modifiedIndicator.jp-errorIndicator {\\n  background-color: var(--jp-error-color0);\\n  margin-right: 0.5em;\\n}\\n\\n/* RJSF ARRAY style */\\n\\n.jp-arrayFieldWrapper legend {\\n  font-size: var(--jp-content-font-size2);\\n  color: var(--jp-ui-font-color0);\\n  flex-basis: 100%;\\n  padding: 4px 0;\\n  font-weight: var(--jp-content-heading-font-weight);\\n  border-bottom: 1px solid var(--jp-border-color2);\\n}\\n\\n.jp-arrayFieldWrapper .field-description {\\n  padding: 4px 0;\\n  white-space: pre-wrap;\\n}\\n\\n.jp-arrayFieldWrapper .array-item {\\n  width: 100%;\\n  border: 1px solid var(--jp-border-color2);\\n  border-radius: 4px;\\n  margin: 4px;\\n}\\n\\n.jp-ArrayOperations {\\n  display: flex;\\n  margin-left: 8px;\\n}\\n\\n.jp-ArrayOperationsButton {\\n  margin: 2px;\\n}\\n\\n.jp-ArrayOperationsButton .jp-icon3[fill] {\\n  fill: var(--jp-ui-font-color0);\\n}\\n\\nbutton.jp-ArrayOperationsButton.jp-mod-styled:disabled {\\n  cursor: not-allowed;\\n  opacity: 0.5;\\n}\\n\\n/* RJSF form validation error */\\n\\n.jp-FormGroup-content .validationErrors {\\n  color: var(--jp-error-color0);\\n}\\n\\n/* Hide panel level error as duplicated the field level error */\\n.jp-FormGroup-content .panel.errors {\\n  display: none;\\n}\\n\\n/* RJSF normal content (settings-editor) */\\n\\n.jp-FormGroup-contentNormal {\\n  display: flex;\\n  align-items: center;\\n  flex-wrap: wrap;\\n}\\n\\n.jp-FormGroup-contentNormal .jp-FormGroup-contentItem {\\n  margin-left: 7px;\\n  color: var(--jp-ui-font-color0);\\n}\\n\\n.jp-FormGroup-contentNormal .jp-FormGroup-description {\\n  flex-basis: 100%;\\n  padding: 4px 7px;\\n}\\n\\n.jp-FormGroup-contentNormal .jp-FormGroup-default {\\n  flex-basis: 100%;\\n  padding: 4px 7px;\\n}\\n\\n.jp-FormGroup-contentNormal .jp-FormGroup-fieldLabel {\\n  font-size: var(--jp-content-font-size1);\\n  font-weight: normal;\\n  min-width: 120px;\\n}\\n\\n.jp-FormGroup-contentNormal fieldset:not(:first-child) {\\n  margin-left: 7px;\\n}\\n\\n.jp-FormGroup-contentNormal .field-array-of-string .array-item {\\n  /* Display `jp-ArrayOperations` buttons side-by-side with content except\\n    for small screens where flex-wrap will place them one below the other.\\n  */\\n  display: flex;\\n  align-items: center;\\n  flex-wrap: wrap;\\n}\\n\\n.jp-FormGroup-contentNormal .jp-objectFieldWrapper .form-group {\\n  padding: 2px 8px 2px var(--jp-private-settingeditor-modifier-indent);\\n  margin-top: 2px;\\n}\\n\\n/* RJSF compact content (metadata-form) */\\n\\n.jp-FormGroup-content.jp-FormGroup-contentCompact {\\n  width: 100%;\\n}\\n\\n.jp-FormGroup-contentCompact .form-group {\\n  display: flex;\\n  padding: 0.5em 0.2em 0.5em 0;\\n}\\n\\n.jp-FormGroup-contentCompact\\n  .jp-FormGroup-compactTitle\\n  .jp-FormGroup-description {\\n  font-size: var(--jp-ui-font-size1);\\n  color: var(--jp-ui-font-color2);\\n}\\n\\n.jp-FormGroup-contentCompact .jp-FormGroup-fieldLabel {\\n  padding-bottom: 0.3em;\\n}\\n\\n.jp-FormGroup-contentCompact .jp-inputFieldWrapper .form-control {\\n  width: 100%;\\n  box-sizing: border-box;\\n}\\n\\n.jp-FormGroup-contentCompact .jp-arrayFieldWrapper .jp-FormGroup-compactTitle {\\n  padding-bottom: 7px;\\n}\\n\\n.jp-FormGroup-contentCompact\\n  .jp-objectFieldWrapper\\n  .jp-objectFieldWrapper\\n  .form-group {\\n  padding: 2px 8px 2px var(--jp-private-settingeditor-modifier-indent);\\n  margin-top: 2px;\\n}\\n\\n.jp-FormGroup-contentCompact ul.error-detail {\\n  margin-block-start: 0.5em;\\n  margin-block-end: 0.5em;\\n  padding-inline-start: 1em;\\n}\\n\\n/*\\n * Copyright (c) Jupyter Development Team.\\n * Distributed under the terms of the Modified BSD License.\\n */\\n\\n.jp-SidePanel {\\n  display: flex;\\n  flex-direction: column;\\n  min-width: var(--jp-sidebar-min-width);\\n  overflow-y: auto;\\n  color: var(--jp-ui-font-color1);\\n  background: var(--jp-layout-color1);\\n  font-size: var(--jp-ui-font-size1);\\n}\\n\\n.jp-SidePanel-header {\\n  flex: 0 0 auto;\\n  display: flex;\\n  border-bottom: var(--jp-border-width) solid var(--jp-border-color2);\\n  font-size: var(--jp-ui-font-size0);\\n  font-weight: 600;\\n  letter-spacing: 1px;\\n  margin: 0;\\n  padding: 2px;\\n  text-transform: uppercase;\\n}\\n\\n.jp-SidePanel-toolbar {\\n  flex: 0 0 auto;\\n}\\n\\n.jp-SidePanel-content {\\n  flex: 1 1 auto;\\n}\\n\\n.jp-SidePanel-toolbar,\\n.jp-AccordionPanel-toolbar {\\n  height: var(--jp-private-toolbar-height);\\n}\\n\\n.jp-SidePanel-toolbar.jp-Toolbar-micro {\\n  display: none;\\n}\\n\\n.lm-AccordionPanel .jp-AccordionPanel-title {\\n  box-sizing: border-box;\\n  line-height: 25px;\\n  margin: 0;\\n  display: flex;\\n  align-items: center;\\n  background: var(--jp-layout-color1);\\n  color: var(--jp-ui-font-color1);\\n  border-bottom: var(--jp-border-width) solid var(--jp-toolbar-border-color);\\n  box-shadow: var(--jp-toolbar-box-shadow);\\n  font-size: var(--jp-ui-font-size0);\\n}\\n\\n.jp-AccordionPanel-title {\\n  cursor: pointer;\\n  user-select: none;\\n  -moz-user-select: none;\\n  -webkit-user-select: none;\\n  text-transform: uppercase;\\n}\\n\\n.lm-AccordionPanel[data-orientation=\\'horizontal\\'] > .jp-AccordionPanel-title {\\n  /* Title is rotated for horizontal accordion panel using CSS */\\n  display: block;\\n  transform-origin: top left;\\n  transform: rotate(-90deg) translate(-100%);\\n}\\n\\n.jp-AccordionPanel-title .lm-AccordionPanel-titleLabel {\\n  user-select: none;\\n  text-overflow: ellipsis;\\n  white-space: nowrap;\\n  overflow: hidden;\\n}\\n\\n.jp-AccordionPanel-title .lm-AccordionPanel-titleCollapser {\\n  transform: rotate(-90deg);\\n  margin: auto 0;\\n  height: 16px;\\n}\\n\\n.jp-AccordionPanel-title.lm-mod-expanded .lm-AccordionPanel-titleCollapser {\\n  transform: rotate(0deg);\\n}\\n\\n.lm-AccordionPanel .jp-AccordionPanel-toolbar {\\n  background: none;\\n  box-shadow: none;\\n  border: none;\\n  margin-left: auto;\\n}\\n\\n.lm-AccordionPanel .lm-SplitPanel-handle:hover {\\n  background: var(--jp-layout-color3);\\n}\\n\\n.jp-text-truncated {\\n  overflow: hidden;\\n  text-overflow: ellipsis;\\n  white-space: nowrap;\\n}\\n\\n/*-----------------------------------------------------------------------------\\n| Copyright (c) 2017, Jupyter Development Team.\\n|\\n| Distributed under the terms of the Modified BSD License.\\n|----------------------------------------------------------------------------*/\\n\\n.jp-Spinner {\\n  position: absolute;\\n  display: flex;\\n  justify-content: center;\\n  align-items: center;\\n  z-index: 10;\\n  left: 0;\\n  top: 0;\\n  width: 100%;\\n  height: 100%;\\n  background: var(--jp-layout-color0);\\n  outline: none;\\n}\\n\\n.jp-SpinnerContent {\\n  font-size: 10px;\\n  margin: 50px auto;\\n  text-indent: -9999em;\\n  width: 3em;\\n  height: 3em;\\n  border-radius: 50%;\\n  background: var(--jp-brand-color3);\\n  background: linear-gradient(\\n    to right,\\n    #f37626 10%,\\n    rgba(255, 255, 255, 0) 42%\\n  );\\n  position: relative;\\n  animation: load3 1s infinite linear, fadeIn 1s;\\n}\\n\\n.jp-SpinnerContent::before {\\n  width: 50%;\\n  height: 50%;\\n  background: #f37626;\\n  border-radius: 100% 0 0;\\n  position: absolute;\\n  top: 0;\\n  left: 0;\\n  content: \\'\\';\\n}\\n\\n.jp-SpinnerContent::after {\\n  background: var(--jp-layout-color0);\\n  width: 75%;\\n  height: 75%;\\n  border-radius: 50%;\\n  content: \\'\\';\\n  margin: auto;\\n  position: absolute;\\n  top: 0;\\n  left: 0;\\n  bottom: 0;\\n  right: 0;\\n}\\n\\n@keyframes fadeIn {\\n  0% {\\n    opacity: 0;\\n  }\\n\\n  100% {\\n    opacity: 1;\\n  }\\n}\\n\\n@keyframes load3 {\\n  0% {\\n    transform: rotate(0deg);\\n  }\\n\\n  100% {\\n    transform: rotate(360deg);\\n  }\\n}\\n\\n/*-----------------------------------------------------------------------------\\n| Copyright (c) 2014-2017, Jupyter Development Team.\\n|\\n| Distributed under the terms of the Modified BSD License.\\n|----------------------------------------------------------------------------*/\\n\\nbutton.jp-mod-styled {\\n  font-size: var(--jp-ui-font-size1);\\n  color: var(--jp-ui-font-color0);\\n  border: none;\\n  box-sizing: border-box;\\n  text-align: center;\\n  line-height: 32px;\\n  height: 32px;\\n  padding: 0 12px;\\n  letter-spacing: 0.8px;\\n  outline: none;\\n  appearance: none;\\n  -webkit-appearance: none;\\n  -moz-appearance: none;\\n}\\n\\ninput.jp-mod-styled {\\n  background: var(--jp-input-background);\\n  height: 28px;\\n  box-sizing: border-box;\\n  border: var(--jp-border-width) solid var(--jp-border-color1);\\n  padding-left: 7px;\\n  padding-right: 7px;\\n  font-size: var(--jp-ui-font-size2);\\n  color: var(--jp-ui-font-color0);\\n  outline: none;\\n  appearance: none;\\n  -webkit-appearance: none;\\n  -moz-appearance: none;\\n}\\n\\ninput[type=\\'checkbox\\'].jp-mod-styled {\\n  appearance: checkbox;\\n  -webkit-appearance: checkbox;\\n  -moz-appearance: checkbox;\\n  height: auto;\\n}\\n\\ninput.jp-mod-styled:focus {\\n  border: var(--jp-border-width) solid var(--md-blue-500);\\n  box-shadow: inset 0 0 4px var(--md-blue-300);\\n}\\n\\n.jp-select-wrapper {\\n  display: flex;\\n  position: relative;\\n  flex-direction: column;\\n  padding: 1px;\\n  background-color: var(--jp-layout-color1);\\n  box-sizing: border-box;\\n  margin-bottom: 12px;\\n}\\n\\n.jp-select-wrapper:not(.multiple) {\\n  height: 28px;\\n}\\n\\n.jp-select-wrapper.jp-mod-focused select.jp-mod-styled {\\n  border: var(--jp-border-width) solid var(--jp-input-active-border-color);\\n  box-shadow: var(--jp-input-box-shadow);\\n  background-color: var(--jp-input-active-background);\\n}\\n\\nselect.jp-mod-styled:hover {\\n  cursor: pointer;\\n  color: var(--jp-ui-font-color0);\\n  background-color: var(--jp-input-hover-background);\\n  box-shadow: inset 0 0 1px rgba(0, 0, 0, 0.5);\\n}\\n\\nselect.jp-mod-styled {\\n  flex: 1 1 auto;\\n  width: 100%;\\n  font-size: var(--jp-ui-font-size2);\\n  background: var(--jp-input-background);\\n  color: var(--jp-ui-font-color0);\\n  padding: 0 25px 0 8px;\\n  border: var(--jp-border-width) solid var(--jp-input-border-color);\\n  border-radius: 0;\\n  outline: none;\\n  appearance: none;\\n  -webkit-appearance: none;\\n  -moz-appearance: none;\\n}\\n\\nselect.jp-mod-styled:not([multiple]) {\\n  height: 32px;\\n}\\n\\nselect.jp-mod-styled[multiple] {\\n  max-height: 200px;\\n  overflow-y: auto;\\n}\\n\\n/*-----------------------------------------------------------------------------\\n| Copyright (c) Jupyter Development Team.\\n| Distributed under the terms of the Modified BSD License.\\n|----------------------------------------------------------------------------*/\\n\\n.jp-switch {\\n  display: flex;\\n  align-items: center;\\n  padding-left: 4px;\\n  padding-right: 4px;\\n  font-size: var(--jp-ui-font-size1);\\n  background-color: transparent;\\n  color: var(--jp-ui-font-color1);\\n  border: none;\\n  height: 20px;\\n}\\n\\n.jp-switch:hover {\\n  background-color: var(--jp-layout-color2);\\n}\\n\\n.jp-switch-label {\\n  margin-right: 5px;\\n  font-family: var(--jp-ui-font-family);\\n}\\n\\n.jp-switch-track {\\n  cursor: pointer;\\n  background-color: var(--jp-switch-color, var(--jp-border-color1));\\n  -webkit-transition: 0.4s;\\n  transition: 0.4s;\\n  border-radius: 34px;\\n  height: 16px;\\n  width: 35px;\\n  position: relative;\\n}\\n\\n.jp-switch-track::before {\\n  content: \\'\\';\\n  position: absolute;\\n  height: 10px;\\n  width: 10px;\\n  margin: 3px;\\n  left: 0;\\n  background-color: var(--jp-ui-inverse-font-color1);\\n  -webkit-transition: 0.4s;\\n  transition: 0.4s;\\n  border-radius: 50%;\\n}\\n\\n.jp-switch[aria-checked=\\'true\\'] .jp-switch-track {\\n  background-color: var(--jp-switch-true-position-color, var(--jp-warn-color0));\\n}\\n\\n.jp-switch[aria-checked=\\'true\\'] .jp-switch-track::before {\\n  /* track width (35) - margins (3 + 3) - thumb width (10) */\\n  left: 19px;\\n}\\n\\n/*-----------------------------------------------------------------------------\\n| Copyright (c) 2014-2016, Jupyter Development Team.\\n|\\n| Distributed under the terms of the Modified BSD License.\\n|----------------------------------------------------------------------------*/\\n\\n:root {\\n  --jp-private-toolbar-height: calc(\\n    28px + var(--jp-border-width)\\n  ); /* leave 28px for content */\\n}\\n\\n.jp-Toolbar {\\n  color: var(--jp-ui-font-color1);\\n  flex: 0 0 auto;\\n  display: flex;\\n  flex-direction: row;\\n  border-bottom: var(--jp-border-width) solid var(--jp-toolbar-border-color);\\n  box-shadow: var(--jp-toolbar-box-shadow);\\n  background: var(--jp-toolbar-background);\\n  min-height: var(--jp-toolbar-micro-height);\\n  padding: 2px;\\n  z-index: 8;\\n  overflow-x: hidden;\\n}\\n\\n/* Toolbar items */\\n\\n.jp-Toolbar > .jp-Toolbar-item.jp-Toolbar-spacer {\\n  flex-grow: 1;\\n  flex-shrink: 1;\\n}\\n\\n.jp-Toolbar-item.jp-Toolbar-kernelStatus {\\n  display: inline-block;\\n  width: 32px;\\n  background-repeat: no-repeat;\\n  background-position: center;\\n  background-size: 16px;\\n}\\n\\n.jp-Toolbar > .jp-Toolbar-item {\\n  flex: 0 0 auto;\\n  display: flex;\\n  padding-left: 1px;\\n  padding-right: 1px;\\n  font-size: var(--jp-ui-font-size1);\\n  line-height: var(--jp-private-toolbar-height);\\n  height: 100%;\\n}\\n\\n/* Toolbar buttons */\\n\\n/* This is the div we use to wrap the react component into a Widget */\\ndiv.jp-ToolbarButton {\\n  color: transparent;\\n  border: none;\\n  box-sizing: border-box;\\n  outline: none;\\n  appearance: none;\\n  -webkit-appearance: none;\\n  -moz-appearance: none;\\n  padding: 0;\\n  margin: 0;\\n}\\n\\nbutton.jp-ToolbarButtonComponent {\\n  background: var(--jp-layout-color1);\\n  border: none;\\n  box-sizing: border-box;\\n  outline: none;\\n  appearance: none;\\n  -webkit-appearance: none;\\n  -moz-appearance: none;\\n  padding: 0 6px;\\n  margin: 0;\\n  height: 24px;\\n  border-radius: var(--jp-border-radius);\\n  display: flex;\\n  align-items: center;\\n  text-align: center;\\n  font-size: 14px;\\n  min-width: unset;\\n  min-height: unset;\\n}\\n\\nbutton.jp-ToolbarButtonComponent:disabled {\\n  opacity: 0.4;\\n}\\n\\nbutton.jp-ToolbarButtonComponent > span {\\n  padding: 0;\\n  flex: 0 0 auto;\\n}\\n\\nbutton.jp-ToolbarButtonComponent .jp-ToolbarButtonComponent-label {\\n  font-size: var(--jp-ui-font-size1);\\n  line-height: 100%;\\n  padding-left: 2px;\\n  color: var(--jp-ui-font-color1);\\n  font-family: var(--jp-ui-font-family);\\n}\\n\\n#jp-main-dock-panel[data-mode=\\'single-document\\']\\n  .jp-MainAreaWidget\\n  > .jp-Toolbar.jp-Toolbar-micro {\\n  padding: 0;\\n  min-height: 0;\\n}\\n\\n#jp-main-dock-panel[data-mode=\\'single-document\\']\\n  .jp-MainAreaWidget\\n  > .jp-Toolbar {\\n  border: none;\\n  box-shadow: none;\\n}\\n\\n/*\\n * Copyright (c) Jupyter Development Team.\\n * Distributed under the terms of the Modified BSD License.\\n */\\n\\n.jp-WindowedPanel-outer {\\n  position: relative;\\n  overflow-y: auto;\\n}\\n\\n.jp-WindowedPanel-inner {\\n  position: relative;\\n}\\n\\n.jp-WindowedPanel-window {\\n  position: absolute;\\n  left: 0;\\n  right: 0;\\n  overflow: visible;\\n}\\n\\n/*-----------------------------------------------------------------------------\\n| Copyright (c) Jupyter Development Team.\\n| Distributed under the terms of the Modified BSD License.\\n|----------------------------------------------------------------------------*/\\n\\n/* Sibling imports */\\n\\nbody {\\n  color: var(--jp-ui-font-color1);\\n  font-size: var(--jp-ui-font-size1);\\n}\\n\\n/* Disable native link decoration styles everywhere outside of dialog boxes */\\na {\\n  text-decoration: unset;\\n  color: unset;\\n}\\n\\na:hover {\\n  text-decoration: unset;\\n  color: unset;\\n}\\n\\n/* Accessibility for links inside dialog box text */\\n.jp-Dialog-content a {\\n  text-decoration: revert;\\n  color: var(--jp-content-link-color);\\n}\\n\\n.jp-Dialog-content a:hover {\\n  text-decoration: revert;\\n}\\n\\n/* Styles for ui-components */\\n.jp-Button {\\n  color: var(--jp-ui-font-color2);\\n  border-radius: var(--jp-border-radius);\\n  padding: 0 12px;\\n  font-size: var(--jp-ui-font-size1);\\n\\n  /* Copy from blueprint 3 */\\n  display: inline-flex;\\n  flex-direction: row;\\n  border: none;\\n  cursor: pointer;\\n  align-items: center;\\n  justify-content: center;\\n  text-align: left;\\n  vertical-align: middle;\\n  min-height: 30px;\\n  min-width: 30px;\\n}\\n\\n.jp-Button:disabled {\\n  cursor: not-allowed;\\n}\\n\\n.jp-Button:empty {\\n  padding: 0 !important;\\n}\\n\\n.jp-Button.jp-mod-small {\\n  min-height: 24px;\\n  min-width: 24px;\\n  font-size: 12px;\\n  padding: 0 7px;\\n}\\n\\n/* Use our own theme for hover styles */\\n.jp-Button.jp-mod-minimal:hover {\\n  background-color: var(--jp-layout-color2);\\n}\\n\\n.jp-Button.jp-mod-minimal {\\n  background: none;\\n}\\n\\n.jp-InputGroup {\\n  display: block;\\n  position: relative;\\n}\\n\\n.jp-InputGroup input {\\n  box-sizing: border-box;\\n  border: none;\\n  border-radius: 0;\\n  background-color: transparent;\\n  color: var(--jp-ui-font-color0);\\n  box-shadow: inset 0 0 0 var(--jp-border-width) var(--jp-input-border-color);\\n  padding-bottom: 0;\\n  padding-top: 0;\\n  padding-left: 10px;\\n  padding-right: 28px;\\n  position: relative;\\n  width: 100%;\\n  -webkit-appearance: none;\\n  -moz-appearance: none;\\n  appearance: none;\\n  font-size: 14px;\\n  font-weight: 400;\\n  height: 30px;\\n  line-height: 30px;\\n  outline: none;\\n  vertical-align: middle;\\n}\\n\\n.jp-InputGroup input:focus {\\n  box-shadow: inset 0 0 0 var(--jp-border-width)\\n      var(--jp-input-active-box-shadow-color),\\n    inset 0 0 0 3px var(--jp-input-active-box-shadow-color);\\n}\\n\\n.jp-InputGroup input:disabled {\\n  cursor: not-allowed;\\n  resize: block;\\n  background-color: var(--jp-layout-color2);\\n  color: var(--jp-ui-font-color2);\\n}\\n\\n.jp-InputGroup input:disabled ~ span {\\n  cursor: not-allowed;\\n  color: var(--jp-ui-font-color2);\\n}\\n\\n.jp-InputGroup input::placeholder,\\ninput::placeholder {\\n  color: var(--jp-ui-font-color2);\\n}\\n\\n.jp-InputGroupAction {\\n  position: absolute;\\n  bottom: 1px;\\n  right: 0;\\n  padding: 6px;\\n}\\n\\n.jp-HTMLSelect.jp-DefaultStyle select {\\n  background-color: initial;\\n  border: none;\\n  border-radius: 0;\\n  box-shadow: none;\\n  color: var(--jp-ui-font-color0);\\n  display: block;\\n  font-size: var(--jp-ui-font-size1);\\n  font-family: var(--jp-ui-font-family);\\n  height: 24px;\\n  line-height: 14px;\\n  padding: 0 25px 0 10px;\\n  text-align: left;\\n  -moz-appearance: none;\\n  -webkit-appearance: none;\\n}\\n\\n.jp-HTMLSelect.jp-DefaultStyle select:disabled {\\n  background-color: var(--jp-layout-color2);\\n  color: var(--jp-ui-font-color2);\\n  cursor: not-allowed;\\n  resize: block;\\n}\\n\\n.jp-HTMLSelect.jp-DefaultStyle select:disabled ~ span {\\n  cursor: not-allowed;\\n}\\n\\n/* Use our own theme for hover and option styles */\\n/* stylelint-disable-next-line selector-max-type */\\n.jp-HTMLSelect.jp-DefaultStyle select:hover,\\n.jp-HTMLSelect.jp-DefaultStyle select > option {\\n  background-color: var(--jp-layout-color2);\\n  color: var(--jp-ui-font-color0);\\n}\\n\\nselect {\\n  box-sizing: border-box;\\n}\\n\\n/*-----------------------------------------------------------------------------\\n| Copyright (c) Jupyter Development Team.\\n| Distributed under the terms of the Modified BSD License.\\n|----------------------------------------------------------------------------*/\\n\\n/*-----------------------------------------------------------------------------\\n| Styles\\n|----------------------------------------------------------------------------*/\\n\\n.jp-StatusBar-Widget {\\n  display: flex;\\n  align-items: center;\\n  background: var(--jp-layout-color2);\\n  min-height: var(--jp-statusbar-height);\\n  justify-content: space-between;\\n  padding: 0 10px;\\n}\\n\\n.jp-StatusBar-Left {\\n  display: flex;\\n  align-items: center;\\n  flex-direction: row;\\n}\\n\\n.jp-StatusBar-Middle {\\n  display: flex;\\n  align-items: center;\\n}\\n\\n.jp-StatusBar-Right {\\n  display: flex;\\n  align-items: center;\\n  flex-direction: row-reverse;\\n}\\n\\n.jp-StatusBar-Item {\\n  max-height: var(--jp-statusbar-height);\\n  margin: 0 2px;\\n  height: var(--jp-statusbar-height);\\n  white-space: nowrap;\\n  text-overflow: ellipsis;\\n  color: var(--jp-ui-font-color1);\\n  padding: 0 6px;\\n}\\n\\n.jp-mod-highlighted:hover {\\n  background-color: var(--jp-layout-color3);\\n}\\n\\n.jp-mod-clicked {\\n  background-color: var(--jp-brand-color1);\\n}\\n\\n.jp-mod-clicked:hover {\\n  background-color: var(--jp-brand-color0);\\n}\\n\\n.jp-mod-clicked .jp-StatusBar-TextItem {\\n  color: var(--jp-ui-inverse-font-color1);\\n}\\n\\n.jp-StatusBar-HoverItem {\\n  box-shadow: \\'0px 4px 4px rgba(0, 0, 0, 0.25)\\';\\n}\\n\\n.jp-StatusBar-TextItem {\\n  font-size: var(--jp-ui-font-size1);\\n  font-family: var(--jp-ui-font-family);\\n  line-height: 24px;\\n  color: var(--jp-ui-font-color1);\\n}\\n\\n.jp-StatusBar-GroupItem {\\n  display: flex;\\n  align-items: center;\\n  flex-direction: row;\\n}\\n\\n.jp-Statusbar-ProgressCircle svg {\\n  display: block;\\n  margin: 0 auto;\\n  width: 16px;\\n  height: 24px;\\n  align-self: normal;\\n}\\n\\n.jp-Statusbar-ProgressCircle path {\\n  fill: var(--jp-inverse-layout-color3);\\n}\\n\\n.jp-Statusbar-ProgressBar-progress-bar {\\n  height: 10px;\\n  width: 100px;\\n  border: solid 0.25px var(--jp-brand-color2);\\n  border-radius: 3px;\\n  overflow: hidden;\\n  align-self: center;\\n}\\n\\n.jp-Statusbar-ProgressBar-progress-bar > div {\\n  background-color: var(--jp-brand-color2);\\n  background-image: linear-gradient(\\n    -45deg,\\n    rgba(255, 255, 255, 0.2) 25%,\\n    transparent 25%,\\n    transparent 50%,\\n    rgba(255, 255, 255, 0.2) 50%,\\n    rgba(255, 255, 255, 0.2) 75%,\\n    transparent 75%,\\n    transparent\\n  );\\n  background-size: 40px 40px;\\n  float: left;\\n  width: 0%;\\n  height: 100%;\\n  font-size: 12px;\\n  line-height: 14px;\\n  color: #fff;\\n  text-align: center;\\n  animation: jp-Statusbar-ExecutionTime-progress-bar 2s linear infinite;\\n}\\n\\n.jp-Statusbar-ProgressBar-progress-bar p {\\n  color: var(--jp-ui-font-color1);\\n  font-family: var(--jp-ui-font-family);\\n  font-size: var(--jp-ui-font-size1);\\n  line-height: 10px;\\n  width: 100px;\\n}\\n\\n@keyframes jp-Statusbar-ExecutionTime-progress-bar {\\n  0% {\\n    background-position: 0 0;\\n  }\\n\\n  100% {\\n    background-position: 40px 40px;\\n  }\\n}\\n\\n/*-----------------------------------------------------------------------------\\n| Copyright (c) Jupyter Development Team.\\n| Distributed under the terms of the Modified BSD License.\\n|----------------------------------------------------------------------------*/\\n\\n/*-----------------------------------------------------------------------------\\n| Variables\\n|----------------------------------------------------------------------------*/\\n\\n:root {\\n  --jp-private-commandpalette-search-height: 28px;\\n}\\n\\n/*-----------------------------------------------------------------------------\\n| Overall styles\\n|----------------------------------------------------------------------------*/\\n\\n.lm-CommandPalette {\\n  padding-bottom: 0;\\n  color: var(--jp-ui-font-color1);\\n  background: var(--jp-layout-color1);\\n\\n  /* This is needed so that all font sizing of children done in ems is\\n   * relative to this base size */\\n  font-size: var(--jp-ui-font-size1);\\n}\\n\\n/*-----------------------------------------------------------------------------\\n| Modal variant\\n|----------------------------------------------------------------------------*/\\n\\n.jp-ModalCommandPalette {\\n  position: absolute;\\n  z-index: 10000;\\n  top: 38px;\\n  left: 30%;\\n  margin: 0;\\n  padding: 4px;\\n  width: 40%;\\n  box-shadow: var(--jp-elevation-z4);\\n  border-radius: 4px;\\n  background: var(--jp-layout-color0);\\n}\\n\\n.jp-ModalCommandPalette .lm-CommandPalette {\\n  max-height: 40vh;\\n}\\n\\n.jp-ModalCommandPalette .lm-CommandPalette .lm-close-icon::after {\\n  display: none;\\n}\\n\\n.jp-ModalCommandPalette .lm-CommandPalette .lm-CommandPalette-header {\\n  display: none;\\n}\\n\\n.jp-ModalCommandPalette .lm-CommandPalette .lm-CommandPalette-item {\\n  margin-left: 4px;\\n  margin-right: 4px;\\n}\\n\\n.jp-ModalCommandPalette\\n  .lm-CommandPalette\\n  .lm-CommandPalette-item.lm-mod-disabled {\\n  display: none;\\n}\\n\\n/*-----------------------------------------------------------------------------\\n| Search\\n|----------------------------------------------------------------------------*/\\n\\n.lm-CommandPalette-search {\\n  padding: 4px;\\n  background-color: var(--jp-layout-color1);\\n  z-index: 2;\\n}\\n\\n.lm-CommandPalette-wrapper {\\n  overflow: overlay;\\n  padding: 0 9px;\\n  background-color: var(--jp-input-active-background);\\n  height: 30px;\\n  box-shadow: inset 0 0 0 var(--jp-border-width) var(--jp-input-border-color);\\n}\\n\\n.lm-CommandPalette.lm-mod-focused .lm-CommandPalette-wrapper {\\n  box-shadow: inset 0 0 0 1px var(--jp-input-active-box-shadow-color),\\n    inset 0 0 0 3px var(--jp-input-active-box-shadow-color);\\n}\\n\\n.jp-SearchIconGroup {\\n  color: white;\\n  background-color: var(--jp-brand-color1);\\n  position: absolute;\\n  top: 4px;\\n  right: 4px;\\n  padding: 5px 5px 1px;\\n}\\n\\n.jp-SearchIconGroup svg {\\n  height: 20px;\\n  width: 20px;\\n}\\n\\n.jp-SearchIconGroup .jp-icon3[fill] {\\n  fill: var(--jp-layout-color0);\\n}\\n\\n.lm-CommandPalette-input {\\n  background: transparent;\\n  width: calc(100% - 18px);\\n  float: left;\\n  border: none;\\n  outline: none;\\n  font-size: var(--jp-ui-font-size1);\\n  color: var(--jp-ui-font-color0);\\n  line-height: var(--jp-private-commandpalette-search-height);\\n}\\n\\n.lm-CommandPalette-input::-webkit-input-placeholder,\\n.lm-CommandPalette-input::-moz-placeholder,\\n.lm-CommandPalette-input:-ms-input-placeholder {\\n  color: var(--jp-ui-font-color2);\\n  font-size: var(--jp-ui-font-size1);\\n}\\n\\n/*-----------------------------------------------------------------------------\\n| Results\\n|----------------------------------------------------------------------------*/\\n\\n.lm-CommandPalette-header:first-child {\\n  margin-top: 0;\\n}\\n\\n.lm-CommandPalette-header {\\n  border-bottom: solid var(--jp-border-width) var(--jp-border-color2);\\n  color: var(--jp-ui-font-color1);\\n  cursor: pointer;\\n  display: flex;\\n  font-size: var(--jp-ui-font-size0);\\n  font-weight: 600;\\n  letter-spacing: 1px;\\n  margin-top: 8px;\\n  padding: 8px 0 8px 12px;\\n  text-transform: uppercase;\\n}\\n\\n.lm-CommandPalette-header.lm-mod-active {\\n  background: var(--jp-layout-color2);\\n}\\n\\n.lm-CommandPalette-header > mark {\\n  background-color: transparent;\\n  font-weight: bold;\\n  color: var(--jp-ui-font-color1);\\n}\\n\\n.lm-CommandPalette-item {\\n  padding: 4px 12px 4px 4px;\\n  color: var(--jp-ui-font-color1);\\n  font-size: var(--jp-ui-font-size1);\\n  font-weight: 400;\\n  display: flex;\\n}\\n\\n.lm-CommandPalette-item.lm-mod-disabled {\\n  color: var(--jp-ui-font-color2);\\n}\\n\\n.lm-CommandPalette-item.lm-mod-active {\\n  color: var(--jp-ui-inverse-font-color1);\\n  background: var(--jp-brand-color1);\\n}\\n\\n.lm-CommandPalette-item.lm-mod-active .lm-CommandPalette-itemLabel > mark {\\n  color: var(--jp-ui-inverse-font-color0);\\n}\\n\\n.lm-CommandPalette-item.lm-mod-active .jp-icon-selectable[fill] {\\n  fill: var(--jp-layout-color0);\\n}\\n\\n.lm-CommandPalette-item.lm-mod-active:hover:not(.lm-mod-disabled) {\\n  color: var(--jp-ui-inverse-font-color1);\\n  background: var(--jp-brand-color1);\\n}\\n\\n.lm-CommandPalette-item:hover:not(.lm-mod-active):not(.lm-mod-disabled) {\\n  background: var(--jp-layout-color2);\\n}\\n\\n.lm-CommandPalette-itemContent {\\n  overflow: hidden;\\n}\\n\\n.lm-CommandPalette-itemLabel > mark {\\n  color: var(--jp-ui-font-color0);\\n  background-color: transparent;\\n  font-weight: bold;\\n}\\n\\n.lm-CommandPalette-item.lm-mod-disabled mark {\\n  color: var(--jp-ui-font-color2);\\n}\\n\\n.lm-CommandPalette-item .lm-CommandPalette-itemIcon {\\n  margin: 0 4px 0 0;\\n  position: relative;\\n  width: 16px;\\n  top: 2px;\\n  flex: 0 0 auto;\\n}\\n\\n.lm-CommandPalette-item.lm-mod-disabled .lm-CommandPalette-itemIcon {\\n  opacity: 0.6;\\n}\\n\\n.lm-CommandPalette-item .lm-CommandPalette-itemShortcut {\\n  flex: 0 0 auto;\\n}\\n\\n.lm-CommandPalette-itemCaption {\\n  display: none;\\n}\\n\\n.lm-CommandPalette-content {\\n  background-color: var(--jp-layout-color1);\\n}\\n\\n.lm-CommandPalette-content:empty::after {\\n  content: \\'No results\\';\\n  margin: auto;\\n  margin-top: 20px;\\n  width: 100px;\\n  display: block;\\n  font-size: var(--jp-ui-font-size2);\\n  font-family: var(--jp-ui-font-family);\\n  font-weight: lighter;\\n}\\n\\n.lm-CommandPalette-emptyMessage {\\n  text-align: center;\\n  margin-top: 24px;\\n  line-height: 1.32;\\n  padding: 0 8px;\\n  color: var(--jp-content-font-color3);\\n}\\n\\n/*-----------------------------------------------------------------------------\\n| Copyright (c) 2014-2017, Jupyter Development Team.\\n|\\n| Distributed under the terms of the Modified BSD License.\\n|----------------------------------------------------------------------------*/\\n\\n.jp-Dialog {\\n  position: absolute;\\n  z-index: 10000;\\n  display: flex;\\n  flex-direction: column;\\n  align-items: center;\\n  justify-content: center;\\n  top: 0;\\n  left: 0;\\n  margin: 0;\\n  padding: 0;\\n  width: 100%;\\n  height: 100%;\\n  background: var(--jp-dialog-background);\\n}\\n\\n.jp-Dialog-content {\\n  display: flex;\\n  flex-direction: column;\\n  margin-left: auto;\\n  margin-right: auto;\\n  background: var(--jp-layout-color1);\\n  padding: 24px 24px 12px;\\n  min-width: 300px;\\n  min-height: 150px;\\n  max-width: 1000px;\\n  max-height: 500px;\\n  box-sizing: border-box;\\n  box-shadow: var(--jp-elevation-z20);\\n  word-wrap: break-word;\\n  border-radius: var(--jp-border-radius);\\n\\n  /* This is needed so that all font sizing of children done in ems is\\n   * relative to this base size */\\n  font-size: var(--jp-ui-font-size1);\\n  color: var(--jp-ui-font-color1);\\n  resize: both;\\n}\\n\\n.jp-Dialog-content.jp-Dialog-content-small {\\n  max-width: 500px;\\n}\\n\\n.jp-Dialog-button {\\n  overflow: visible;\\n}\\n\\nbutton.jp-Dialog-button:focus {\\n  outline: 1px solid var(--jp-brand-color1);\\n  outline-offset: 4px;\\n  -moz-outline-radius: 0;\\n}\\n\\nbutton.jp-Dialog-button:focus::-moz-focus-inner {\\n  border: 0;\\n}\\n\\nbutton.jp-Dialog-button.jp-mod-styled.jp-mod-accept:focus,\\nbutton.jp-Dialog-button.jp-mod-styled.jp-mod-warn:focus,\\nbutton.jp-Dialog-button.jp-mod-styled.jp-mod-reject:focus {\\n  outline-offset: 4px;\\n  -moz-outline-radius: 0;\\n}\\n\\nbutton.jp-Dialog-button.jp-mod-styled.jp-mod-accept:focus {\\n  outline: 1px solid var(--jp-accept-color-normal, var(--jp-brand-color1));\\n}\\n\\nbutton.jp-Dialog-button.jp-mod-styled.jp-mod-warn:focus {\\n  outline: 1px solid var(--jp-warn-color-normal, var(--jp-error-color1));\\n}\\n\\nbutton.jp-Dialog-button.jp-mod-styled.jp-mod-reject:focus {\\n  outline: 1px solid var(--jp-reject-color-normal, var(--md-grey-600));\\n}\\n\\nbutton.jp-Dialog-close-button {\\n  padding: 0;\\n  height: 100%;\\n  min-width: unset;\\n  min-height: unset;\\n}\\n\\n.jp-Dialog-header {\\n  display: flex;\\n  justify-content: space-between;\\n  flex: 0 0 auto;\\n  padding-bottom: 12px;\\n  font-size: var(--jp-ui-font-size3);\\n  font-weight: 400;\\n  color: var(--jp-ui-font-color1);\\n}\\n\\n.jp-Dialog-body {\\n  display: flex;\\n  flex-direction: column;\\n  flex: 1 1 auto;\\n  font-size: var(--jp-ui-font-size1);\\n  background: var(--jp-layout-color1);\\n  color: var(--jp-ui-font-color1);\\n  overflow: auto;\\n}\\n\\n.jp-Dialog-footer {\\n  display: flex;\\n  flex-direction: row;\\n  justify-content: flex-end;\\n  align-items: center;\\n  flex: 0 0 auto;\\n  margin-left: -12px;\\n  margin-right: -12px;\\n  padding: 12px;\\n}\\n\\n.jp-Dialog-checkbox {\\n  padding-right: 5px;\\n}\\n\\n.jp-Dialog-checkbox > input:focus-visible {\\n  outline: 1px solid var(--jp-input-active-border-color);\\n  outline-offset: 1px;\\n}\\n\\n.jp-Dialog-spacer {\\n  flex: 1 1 auto;\\n}\\n\\n.jp-Dialog-title {\\n  overflow: hidden;\\n  white-space: nowrap;\\n  text-overflow: ellipsis;\\n}\\n\\n.jp-Dialog-body > .jp-select-wrapper {\\n  width: 100%;\\n}\\n\\n.jp-Dialog-body > button {\\n  padding: 0 16px;\\n}\\n\\n.jp-Dialog-body > label {\\n  line-height: 1.4;\\n  color: var(--jp-ui-font-color0);\\n}\\n\\n.jp-Dialog-button.jp-mod-styled:not(:last-child) {\\n  margin-right: 12px;\\n}\\n\\n/*\\n * Copyright (c) Jupyter Development Team.\\n * Distributed under the terms of the Modified BSD License.\\n */\\n\\n.jp-Input-Boolean-Dialog {\\n  flex-direction: row-reverse;\\n  align-items: end;\\n  width: 100%;\\n}\\n\\n.jp-Input-Boolean-Dialog > label {\\n  flex: 1 1 auto;\\n}\\n\\n/*-----------------------------------------------------------------------------\\n| Copyright (c) 2014-2016, Jupyter Development Team.\\n|\\n| Distributed under the terms of the Modified BSD License.\\n|----------------------------------------------------------------------------*/\\n\\n.jp-MainAreaWidget > :focus {\\n  outline: none;\\n}\\n\\n.jp-MainAreaWidget .jp-MainAreaWidget-error {\\n  padding: 6px;\\n}\\n\\n.jp-MainAreaWidget .jp-MainAreaWidget-error > pre {\\n  width: auto;\\n  padding: 10px;\\n  background: var(--jp-error-color3);\\n  border: var(--jp-border-width) solid var(--jp-error-color1);\\n  border-radius: var(--jp-border-radius);\\n  color: var(--jp-ui-font-color1);\\n  font-size: var(--jp-ui-font-size1);\\n  white-space: pre-wrap;\\n  word-wrap: break-word;\\n}\\n\\n/*\\n * Copyright (c) Jupyter Development Team.\\n * Distributed under the terms of the Modified BSD License.\\n */\\n\\n/**\\n * google-material-color v1.2.6\\n * https://github.com/danlevan/google-material-color\\n */\\n:root {\\n  --md-red-50: #ffebee;\\n  --md-red-100: #ffcdd2;\\n  --md-red-200: #ef9a9a;\\n  --md-red-300: #e57373;\\n  --md-red-400: #ef5350;\\n  --md-red-500: #f44336;\\n  --md-red-600: #e53935;\\n  --md-red-700: #d32f2f;\\n  --md-red-800: #c62828;\\n  --md-red-900: #b71c1c;\\n  --md-red-A100: #ff8a80;\\n  --md-red-A200: #ff5252;\\n  --md-red-A400: #ff1744;\\n  --md-red-A700: #d50000;\\n  --md-pink-50: #fce4ec;\\n  --md-pink-100: #f8bbd0;\\n  --md-pink-200: #f48fb1;\\n  --md-pink-300: #f06292;\\n  --md-pink-400: #ec407a;\\n  --md-pink-500: #e91e63;\\n  --md-pink-600: #d81b60;\\n  --md-pink-700: #c2185b;\\n  --md-pink-800: #ad1457;\\n  --md-pink-900: #880e4f;\\n  --md-pink-A100: #ff80ab;\\n  --md-pink-A200: #ff4081;\\n  --md-pink-A400: #f50057;\\n  --md-pink-A700: #c51162;\\n  --md-purple-50: #f3e5f5;\\n  --md-purple-100: #e1bee7;\\n  --md-purple-200: #ce93d8;\\n  --md-purple-300: #ba68c8;\\n  --md-purple-400: #ab47bc;\\n  --md-purple-500: #9c27b0;\\n  --md-purple-600: #8e24aa;\\n  --md-purple-700: #7b1fa2;\\n  --md-purple-800: #6a1b9a;\\n  --md-purple-900: #4a148c;\\n  --md-purple-A100: #ea80fc;\\n  --md-purple-A200: #e040fb;\\n  --md-purple-A400: #d500f9;\\n  --md-purple-A700: #a0f;\\n  --md-deep-purple-50: #ede7f6;\\n  --md-deep-purple-100: #d1c4e9;\\n  --md-deep-purple-200: #b39ddb;\\n  --md-deep-purple-300: #9575cd;\\n  --md-deep-purple-400: #7e57c2;\\n  --md-deep-purple-500: #673ab7;\\n  --md-deep-purple-600: #5e35b1;\\n  --md-deep-purple-700: #512da8;\\n  --md-deep-purple-800: #4527a0;\\n  --md-deep-purple-900: #311b92;\\n  --md-deep-purple-A100: #b388ff;\\n  --md-deep-purple-A200: #7c4dff;\\n  --md-deep-purple-A400: #651fff;\\n  --md-deep-purple-A700: #6200ea;\\n  --md-indigo-50: #e8eaf6;\\n  --md-indigo-100: #c5cae9;\\n  --md-indigo-200: #9fa8da;\\n  --md-indigo-300: #7986cb;\\n  --md-indigo-400: #5c6bc0;\\n  --md-indigo-500: #3f51b5;\\n  --md-indigo-600: #3949ab;\\n  --md-indigo-700: #303f9f;\\n  --md-indigo-800: #283593;\\n  --md-indigo-900: #1a237e;\\n  --md-indigo-A100: #8c9eff;\\n  --md-indigo-A200: #536dfe;\\n  --md-indigo-A400: #3d5afe;\\n  --md-indigo-A700: #304ffe;\\n  --md-blue-50: #e3f2fd;\\n  --md-blue-100: #bbdefb;\\n  --md-blue-200: #90caf9;\\n  --md-blue-300: #64b5f6;\\n  --md-blue-400: #42a5f5;\\n  --md-blue-500: #2196f3;\\n  --md-blue-600: #1e88e5;\\n  --md-blue-700: #1976d2;\\n  --md-blue-800: #1565c0;\\n  --md-blue-900: #0d47a1;\\n  --md-blue-A100: #82b1ff;\\n  --md-blue-A200: #448aff;\\n  --md-blue-A400: #2979ff;\\n  --md-blue-A700: #2962ff;\\n  --md-light-blue-50: #e1f5fe;\\n  --md-light-blue-100: #b3e5fc;\\n  --md-light-blue-200: #81d4fa;\\n  --md-light-blue-300: #4fc3f7;\\n  --md-light-blue-400: #29b6f6;\\n  --md-light-blue-500: #03a9f4;\\n  --md-light-blue-600: #039be5;\\n  --md-light-blue-700: #0288d1;\\n  --md-light-blue-800: #0277bd;\\n  --md-light-blue-900: #01579b;\\n  --md-light-blue-A100: #80d8ff;\\n  --md-light-blue-A200: #40c4ff;\\n  --md-light-blue-A400: #00b0ff;\\n  --md-light-blue-A700: #0091ea;\\n  --md-cyan-50: #e0f7fa;\\n  --md-cyan-100: #b2ebf2;\\n  --md-cyan-200: #80deea;\\n  --md-cyan-300: #4dd0e1;\\n  --md-cyan-400: #26c6da;\\n  --md-cyan-500: #00bcd4;\\n  --md-cyan-600: #00acc1;\\n  --md-cyan-700: #0097a7;\\n  --md-cyan-800: #00838f;\\n  --md-cyan-900: #006064;\\n  --md-cyan-A100: #84ffff;\\n  --md-cyan-A200: #18ffff;\\n  --md-cyan-A400: #00e5ff;\\n  --md-cyan-A700: #00b8d4;\\n  --md-teal-50: #e0f2f1;\\n  --md-teal-100: #b2dfdb;\\n  --md-teal-200: #80cbc4;\\n  --md-teal-300: #4db6ac;\\n  --md-teal-400: #26a69a;\\n  --md-teal-500: #009688;\\n  --md-teal-600: #00897b;\\n  --md-teal-700: #00796b;\\n  --md-teal-800: #00695c;\\n  --md-teal-900: #004d40;\\n  --md-teal-A100: #a7ffeb;\\n  --md-teal-A200: #64ffda;\\n  --md-teal-A400: #1de9b6;\\n  --md-teal-A700: #00bfa5;\\n  --md-green-50: #e8f5e9;\\n  --md-green-100: #c8e6c9;\\n  --md-green-200: #a5d6a7;\\n  --md-green-300: #81c784;\\n  --md-green-400: #66bb6a;\\n  --md-green-500: #4caf50;\\n  --md-green-600: #43a047;\\n  --md-green-700: #388e3c;\\n  --md-green-800: #2e7d32;\\n  --md-green-900: #1b5e20;\\n  --md-green-A100: #b9f6ca;\\n  --md-green-A200: #69f0ae;\\n  --md-green-A400: #00e676;\\n  --md-green-A700: #00c853;\\n  --md-light-green-50: #f1f8e9;\\n  --md-light-green-100: #dcedc8;\\n  --md-light-green-200: #c5e1a5;\\n  --md-light-green-300: #aed581;\\n  --md-light-green-400: #9ccc65;\\n  --md-light-green-500: #8bc34a;\\n  --md-light-green-600: #7cb342;\\n  --md-light-green-700: #689f38;\\n  --md-light-green-800: #558b2f;\\n  --md-light-green-900: #33691e;\\n  --md-light-green-A100: #ccff90;\\n  --md-light-green-A200: #b2ff59;\\n  --md-light-green-A400: #76ff03;\\n  --md-light-green-A700: #64dd17;\\n  --md-lime-50: #f9fbe7;\\n  --md-lime-100: #f0f4c3;\\n  --md-lime-200: #e6ee9c;\\n  --md-lime-300: #dce775;\\n  --md-lime-400: #d4e157;\\n  --md-lime-500: #cddc39;\\n  --md-lime-600: #c0ca33;\\n  --md-lime-700: #afb42b;\\n  --md-lime-800: #9e9d24;\\n  --md-lime-900: #827717;\\n  --md-lime-A100: #f4ff81;\\n  --md-lime-A200: #eeff41;\\n  --md-lime-A400: #c6ff00;\\n  --md-lime-A700: #aeea00;\\n  --md-yellow-50: #fffde7;\\n  --md-yellow-100: #fff9c4;\\n  --md-yellow-200: #fff59d;\\n  --md-yellow-300: #fff176;\\n  --md-yellow-400: #ffee58;\\n  --md-yellow-500: #ffeb3b;\\n  --md-yellow-600: #fdd835;\\n  --md-yellow-700: #fbc02d;\\n  --md-yellow-800: #f9a825;\\n  --md-yellow-900: #f57f17;\\n  --md-yellow-A100: #ffff8d;\\n  --md-yellow-A200: #ff0;\\n  --md-yellow-A400: #ffea00;\\n  --md-yellow-A700: #ffd600;\\n  --md-amber-50: #fff8e1;\\n  --md-amber-100: #ffecb3;\\n  --md-amber-200: #ffe082;\\n  --md-amber-300: #ffd54f;\\n  --md-amber-400: #ffca28;\\n  --md-amber-500: #ffc107;\\n  --md-amber-600: #ffb300;\\n  --md-amber-700: #ffa000;\\n  --md-amber-800: #ff8f00;\\n  --md-amber-900: #ff6f00;\\n  --md-amber-A100: #ffe57f;\\n  --md-amber-A200: #ffd740;\\n  --md-amber-A400: #ffc400;\\n  --md-amber-A700: #ffab00;\\n  --md-orange-50: #fff3e0;\\n  --md-orange-100: #ffe0b2;\\n  --md-orange-200: #ffcc80;\\n  --md-orange-300: #ffb74d;\\n  --md-orange-400: #ffa726;\\n  --md-orange-500: #ff9800;\\n  --md-orange-600: #fb8c00;\\n  --md-orange-700: #f57c00;\\n  --md-orange-800: #ef6c00;\\n  --md-orange-900: #e65100;\\n  --md-orange-A100: #ffd180;\\n  --md-orange-A200: #ffab40;\\n  --md-orange-A400: #ff9100;\\n  --md-orange-A700: #ff6d00;\\n  --md-deep-orange-50: #fbe9e7;\\n  --md-deep-orange-100: #ffccbc;\\n  --md-deep-orange-200: #ffab91;\\n  --md-deep-orange-300: #ff8a65;\\n  --md-deep-orange-400: #ff7043;\\n  --md-deep-orange-500: #ff5722;\\n  --md-deep-orange-600: #f4511e;\\n  --md-deep-orange-700: #e64a19;\\n  --md-deep-orange-800: #d84315;\\n  --md-deep-orange-900: #bf360c;\\n  --md-deep-orange-A100: #ff9e80;\\n  --md-deep-orange-A200: #ff6e40;\\n  --md-deep-orange-A400: #ff3d00;\\n  --md-deep-orange-A700: #dd2c00;\\n  --md-brown-50: #efebe9;\\n  --md-brown-100: #d7ccc8;\\n  --md-brown-200: #bcaaa4;\\n  --md-brown-300: #a1887f;\\n  --md-brown-400: #8d6e63;\\n  --md-brown-500: #795548;\\n  --md-brown-600: #6d4c41;\\n  --md-brown-700: #5d4037;\\n  --md-brown-800: #4e342e;\\n  --md-brown-900: #3e2723;\\n  --md-grey-50: #fafafa;\\n  --md-grey-100: #f5f5f5;\\n  --md-grey-200: #eee;\\n  --md-grey-300: #e0e0e0;\\n  --md-grey-400: #bdbdbd;\\n  --md-grey-500: #9e9e9e;\\n  --md-grey-600: #757575;\\n  --md-grey-700: #616161;\\n  --md-grey-800: #424242;\\n  --md-grey-900: #212121;\\n  --md-blue-grey-50: #eceff1;\\n  --md-blue-grey-100: #cfd8dc;\\n  --md-blue-grey-200: #b0bec5;\\n  --md-blue-grey-300: #90a4ae;\\n  --md-blue-grey-400: #78909c;\\n  --md-blue-grey-500: #607d8b;\\n  --md-blue-grey-600: #546e7a;\\n  --md-blue-grey-700: #455a64;\\n  --md-blue-grey-800: #37474f;\\n  --md-blue-grey-900: #263238;\\n}\\n\\n/*-----------------------------------------------------------------------------\\n| Copyright (c) 2014-2017, Jupyter Development Team.\\n|\\n| Distributed under the terms of the Modified BSD License.\\n|----------------------------------------------------------------------------*/\\n\\n/*-----------------------------------------------------------------------------\\n| Copyright (c) Jupyter Development Team.\\n| Distributed under the terms of the Modified BSD License.\\n|----------------------------------------------------------------------------*/\\n\\n/*-----------------------------------------------------------------------------\\n| RenderedText\\n|----------------------------------------------------------------------------*/\\n\\n:root {\\n  /* This is the padding value to fill the gaps between lines containing spans with background color. */\\n  --jp-private-code-span-padding: calc(\\n    (var(--jp-code-line-height) - 1) * var(--jp-code-font-size) / 2\\n  );\\n}\\n\\n.jp-RenderedText {\\n  text-align: left;\\n  padding-left: var(--jp-code-padding);\\n  line-height: var(--jp-code-line-height);\\n  font-family: var(--jp-code-font-family);\\n}\\n\\n.jp-RenderedText pre,\\n.jp-RenderedJavaScript pre,\\n.jp-RenderedHTMLCommon pre {\\n  color: var(--jp-content-font-color1);\\n  font-size: var(--jp-code-font-size);\\n  border: none;\\n  margin: 0;\\n  padding: 0;\\n}\\n\\n.jp-RenderedText pre a:link {\\n  text-decoration: none;\\n  color: var(--jp-content-link-color);\\n}\\n\\n.jp-RenderedText pre a:hover {\\n  text-decoration: underline;\\n  color: var(--jp-content-link-color);\\n}\\n\\n.jp-RenderedText pre a:visited {\\n  text-decoration: none;\\n  color: var(--jp-content-link-color);\\n}\\n\\n/* console foregrounds and backgrounds */\\n.jp-RenderedText pre .ansi-black-fg {\\n  color: #3e424d;\\n}\\n\\n.jp-RenderedText pre .ansi-red-fg {\\n  color: #e75c58;\\n}\\n\\n.jp-RenderedText pre .ansi-green-fg {\\n  color: #00a250;\\n}\\n\\n.jp-RenderedText pre .ansi-yellow-fg {\\n  color: #ddb62b;\\n}\\n\\n.jp-RenderedText pre .ansi-blue-fg {\\n  color: #208ffb;\\n}\\n\\n.jp-RenderedText pre .ansi-magenta-fg {\\n  color: #d160c4;\\n}\\n\\n.jp-RenderedText pre .ansi-cyan-fg {\\n  color: #60c6c8;\\n}\\n\\n.jp-RenderedText pre .ansi-white-fg {\\n  color: #c5c1b4;\\n}\\n\\n.jp-RenderedText pre .ansi-black-bg {\\n  background-color: #3e424d;\\n  padding: var(--jp-private-code-span-padding) 0;\\n}\\n\\n.jp-RenderedText pre .ansi-red-bg {\\n  background-color: #e75c58;\\n  padding: var(--jp-private-code-span-padding) 0;\\n}\\n\\n.jp-RenderedText pre .ansi-green-bg {\\n  background-color: #00a250;\\n  padding: var(--jp-private-code-span-padding) 0;\\n}\\n\\n.jp-RenderedText pre .ansi-yellow-bg {\\n  background-color: #ddb62b;\\n  padding: var(--jp-private-code-span-padding) 0;\\n}\\n\\n.jp-RenderedText pre .ansi-blue-bg {\\n  background-color: #208ffb;\\n  padding: var(--jp-private-code-span-padding) 0;\\n}\\n\\n.jp-RenderedText pre .ansi-magenta-bg {\\n  background-color: #d160c4;\\n  padding: var(--jp-private-code-span-padding) 0;\\n}\\n\\n.jp-RenderedText pre .ansi-cyan-bg {\\n  background-color: #60c6c8;\\n  padding: var(--jp-private-code-span-padding) 0;\\n}\\n\\n.jp-RenderedText pre .ansi-white-bg {\\n  background-color: #c5c1b4;\\n  padding: var(--jp-private-code-span-padding) 0;\\n}\\n\\n.jp-RenderedText pre .ansi-black-intense-fg {\\n  color: #282c36;\\n}\\n\\n.jp-RenderedText pre .ansi-red-intense-fg {\\n  color: #b22b31;\\n}\\n\\n.jp-RenderedText pre .ansi-green-intense-fg {\\n  color: #007427;\\n}\\n\\n.jp-RenderedText pre .ansi-yellow-intense-fg {\\n  color: #b27d12;\\n}\\n\\n.jp-RenderedText pre .ansi-blue-intense-fg {\\n  color: #0065ca;\\n}\\n\\n.jp-RenderedText pre .ansi-magenta-intense-fg {\\n  color: #a03196;\\n}\\n\\n.jp-RenderedText pre .ansi-cyan-intense-fg {\\n  color: #258f8f;\\n}\\n\\n.jp-RenderedText pre .ansi-white-intense-fg {\\n  color: #a1a6b2;\\n}\\n\\n.jp-RenderedText pre .ansi-black-intense-bg {\\n  background-color: #282c36;\\n  padding: var(--jp-private-code-span-padding) 0;\\n}\\n\\n.jp-RenderedText pre .ansi-red-intense-bg {\\n  background-color: #b22b31;\\n  padding: var(--jp-private-code-span-padding) 0;\\n}\\n\\n.jp-RenderedText pre .ansi-green-intense-bg {\\n  background-color: #007427;\\n  padding: var(--jp-private-code-span-padding) 0;\\n}\\n\\n.jp-RenderedText pre .ansi-yellow-intense-bg {\\n  background-color: #b27d12;\\n  padding: var(--jp-private-code-span-padding) 0;\\n}\\n\\n.jp-RenderedText pre .ansi-blue-intense-bg {\\n  background-color: #0065ca;\\n  padding: var(--jp-private-code-span-padding) 0;\\n}\\n\\n.jp-RenderedText pre .ansi-magenta-intense-bg {\\n  background-color: #a03196;\\n  padding: var(--jp-private-code-span-padding) 0;\\n}\\n\\n.jp-RenderedText pre .ansi-cyan-intense-bg {\\n  background-color: #258f8f;\\n  padding: var(--jp-private-code-span-padding) 0;\\n}\\n\\n.jp-RenderedText pre .ansi-white-intense-bg {\\n  background-color: #a1a6b2;\\n  padding: var(--jp-private-code-span-padding) 0;\\n}\\n\\n.jp-RenderedText pre .ansi-default-inverse-fg {\\n  color: var(--jp-ui-inverse-font-color0);\\n}\\n\\n.jp-RenderedText pre .ansi-default-inverse-bg {\\n  background-color: var(--jp-inverse-layout-color0);\\n  padding: var(--jp-private-code-span-padding) 0;\\n}\\n\\n.jp-RenderedText pre .ansi-bold {\\n  font-weight: bold;\\n}\\n\\n.jp-RenderedText pre .ansi-underline {\\n  text-decoration: underline;\\n}\\n\\n.jp-RenderedText[data-mime-type=\\'application/vnd.jupyter.stderr\\'] {\\n  background: var(--jp-rendermime-error-background);\\n  padding-top: var(--jp-code-padding);\\n}\\n\\n/*-----------------------------------------------------------------------------\\n| RenderedLatex\\n|----------------------------------------------------------------------------*/\\n\\n.jp-RenderedLatex {\\n  color: var(--jp-content-font-color1);\\n  font-size: var(--jp-content-font-size1);\\n  line-height: var(--jp-content-line-height);\\n}\\n\\n/* Left-justify outputs.*/\\n.jp-OutputArea-output.jp-RenderedLatex {\\n  padding: var(--jp-code-padding);\\n  text-align: left;\\n}\\n\\n/*-----------------------------------------------------------------------------\\n| RenderedHTML\\n|----------------------------------------------------------------------------*/\\n\\n.jp-RenderedHTMLCommon {\\n  color: var(--jp-content-font-color1);\\n  font-family: var(--jp-content-font-family);\\n  font-size: var(--jp-content-font-size1);\\n  line-height: var(--jp-content-line-height);\\n\\n  /* Give a bit more R padding on Markdown text to keep line lengths reasonable */\\n  padding-right: 20px;\\n}\\n\\n.jp-RenderedHTMLCommon em {\\n  font-style: italic;\\n}\\n\\n.jp-RenderedHTMLCommon strong {\\n  font-weight: bold;\\n}\\n\\n.jp-RenderedHTMLCommon u {\\n  text-decoration: underline;\\n}\\n\\n.jp-RenderedHTMLCommon a:link {\\n  text-decoration: none;\\n  color: var(--jp-content-link-color);\\n}\\n\\n.jp-RenderedHTMLCommon a:hover {\\n  text-decoration: underline;\\n  color: var(--jp-content-link-color);\\n}\\n\\n.jp-RenderedHTMLCommon a:visited {\\n  text-decoration: none;\\n  color: var(--jp-content-link-color);\\n}\\n\\n/* Headings */\\n\\n.jp-RenderedHTMLCommon h1,\\n.jp-RenderedHTMLCommon h2,\\n.jp-RenderedHTMLCommon h3,\\n.jp-RenderedHTMLCommon h4,\\n.jp-RenderedHTMLCommon h5,\\n.jp-RenderedHTMLCommon h6 {\\n  line-height: var(--jp-content-heading-line-height);\\n  font-weight: var(--jp-content-heading-font-weight);\\n  font-style: normal;\\n  margin: var(--jp-content-heading-margin-top) 0\\n    var(--jp-content-heading-margin-bottom) 0;\\n}\\n\\n.jp-RenderedHTMLCommon h1:first-child,\\n.jp-RenderedHTMLCommon h2:first-child,\\n.jp-RenderedHTMLCommon h3:first-child,\\n.jp-RenderedHTMLCommon h4:first-child,\\n.jp-RenderedHTMLCommon h5:first-child,\\n.jp-RenderedHTMLCommon h6:first-child {\\n  margin-top: calc(0.5 * var(--jp-content-heading-margin-top));\\n}\\n\\n.jp-RenderedHTMLCommon h1:last-child,\\n.jp-RenderedHTMLCommon h2:last-child,\\n.jp-RenderedHTMLCommon h3:last-child,\\n.jp-RenderedHTMLCommon h4:last-child,\\n.jp-RenderedHTMLCommon h5:last-child,\\n.jp-RenderedHTMLCommon h6:last-child {\\n  margin-bottom: calc(0.5 * var(--jp-content-heading-margin-bottom));\\n}\\n\\n.jp-RenderedHTMLCommon h1 {\\n  font-size: var(--jp-content-font-size5);\\n}\\n\\n.jp-RenderedHTMLCommon h2 {\\n  font-size: var(--jp-content-font-size4);\\n}\\n\\n.jp-RenderedHTMLCommon h3 {\\n  font-size: var(--jp-content-font-size3);\\n}\\n\\n.jp-RenderedHTMLCommon h4 {\\n  font-size: var(--jp-content-font-size2);\\n}\\n\\n.jp-RenderedHTMLCommon h5 {\\n  font-size: var(--jp-content-font-size1);\\n}\\n\\n.jp-RenderedHTMLCommon h6 {\\n  font-size: var(--jp-content-font-size0);\\n}\\n\\n/* Lists */\\n\\n/* stylelint-disable selector-max-type, selector-max-compound-selectors */\\n\\n.jp-RenderedHTMLCommon ul:not(.list-inline),\\n.jp-RenderedHTMLCommon ol:not(.list-inline) {\\n  padding-left: 2em;\\n}\\n\\n.jp-RenderedHTMLCommon ul {\\n  list-style: disc;\\n}\\n\\n.jp-RenderedHTMLCommon ul ul {\\n  list-style: square;\\n}\\n\\n.jp-RenderedHTMLCommon ul ul ul {\\n  list-style: circle;\\n}\\n\\n.jp-RenderedHTMLCommon ol {\\n  list-style: decimal;\\n}\\n\\n.jp-RenderedHTMLCommon ol ol {\\n  list-style: upper-alpha;\\n}\\n\\n.jp-RenderedHTMLCommon ol ol ol {\\n  list-style: lower-alpha;\\n}\\n\\n.jp-RenderedHTMLCommon ol ol ol ol {\\n  list-style: lower-roman;\\n}\\n\\n.jp-RenderedHTMLCommon ol ol ol ol ol {\\n  list-style: decimal;\\n}\\n\\n.jp-RenderedHTMLCommon ol,\\n.jp-RenderedHTMLCommon ul {\\n  margin-bottom: 1em;\\n}\\n\\n.jp-RenderedHTMLCommon ul ul,\\n.jp-RenderedHTMLCommon ul ol,\\n.jp-RenderedHTMLCommon ol ul,\\n.jp-RenderedHTMLCommon ol ol {\\n  margin-bottom: 0;\\n}\\n\\n/* stylelint-enable selector-max-type, selector-max-compound-selectors */\\n\\n.jp-RenderedHTMLCommon hr {\\n  color: var(--jp-border-color2);\\n  background-color: var(--jp-border-color1);\\n  margin-top: 1em;\\n  margin-bottom: 1em;\\n}\\n\\n.jp-RenderedHTMLCommon > pre {\\n  margin: 1.5em 2em;\\n}\\n\\n.jp-RenderedHTMLCommon pre,\\n.jp-RenderedHTMLCommon code {\\n  border: 0;\\n  background-color: var(--jp-layout-color0);\\n  color: var(--jp-content-font-color1);\\n  font-family: var(--jp-code-font-family);\\n  font-size: inherit;\\n  line-height: var(--jp-code-line-height);\\n  padding: 0;\\n  white-space: pre-wrap;\\n}\\n\\n.jp-RenderedHTMLCommon :not(pre) > code {\\n  background-color: var(--jp-layout-color2);\\n  padding: 1px 5px;\\n}\\n\\n/* Tables */\\n\\n.jp-RenderedHTMLCommon table {\\n  border-collapse: collapse;\\n  border-spacing: 0;\\n  border: none;\\n  color: var(--jp-ui-font-color1);\\n  font-size: var(--jp-ui-font-size1);\\n  table-layout: fixed;\\n  margin-left: auto;\\n  margin-bottom: 1em;\\n  margin-right: auto;\\n}\\n\\n.jp-RenderedHTMLCommon thead {\\n  border-bottom: var(--jp-border-width) solid var(--jp-border-color1);\\n  vertical-align: bottom;\\n}\\n\\n.jp-RenderedHTMLCommon td,\\n.jp-RenderedHTMLCommon th,\\n.jp-RenderedHTMLCommon tr {\\n  vertical-align: middle;\\n  padding: 0.5em;\\n  line-height: normal;\\n  white-space: normal;\\n  max-width: none;\\n  border: none;\\n}\\n\\n.jp-RenderedMarkdown.jp-RenderedHTMLCommon td,\\n.jp-RenderedMarkdown.jp-RenderedHTMLCommon th {\\n  max-width: none;\\n}\\n\\n:not(.jp-RenderedMarkdown).jp-RenderedHTMLCommon td,\\n:not(.jp-RenderedMarkdown).jp-RenderedHTMLCommon th,\\n:not(.jp-RenderedMarkdown).jp-RenderedHTMLCommon tr {\\n  text-align: right;\\n}\\n\\n.jp-RenderedHTMLCommon th {\\n  font-weight: bold;\\n}\\n\\n.jp-RenderedHTMLCommon tbody tr:nth-child(odd) {\\n  background: var(--jp-layout-color0);\\n}\\n\\n.jp-RenderedHTMLCommon tbody tr:nth-child(even) {\\n  background: var(--jp-rendermime-table-row-background);\\n}\\n\\n.jp-RenderedHTMLCommon tbody tr:hover {\\n  background: var(--jp-rendermime-table-row-hover-background);\\n}\\n\\n.jp-RenderedHTMLCommon p {\\n  text-align: left;\\n  margin: 0;\\n  margin-bottom: 1em;\\n}\\n\\n.jp-RenderedHTMLCommon img {\\n  -moz-force-broken-image-icon: 1;\\n}\\n\\n/* Restrict to direct children as other images could be nested in other content. */\\n.jp-RenderedHTMLCommon > img {\\n  display: block;\\n  margin-left: 0;\\n  margin-right: 0;\\n  margin-bottom: 1em;\\n}\\n\\n/* Change color behind transparent images if they need it... */\\n[data-jp-theme-light=\\'false\\'] .jp-RenderedImage img.jp-needs-light-background {\\n  background-color: var(--jp-inverse-layout-color1);\\n}\\n\\n[data-jp-theme-light=\\'true\\'] .jp-RenderedImage img.jp-needs-dark-background {\\n  background-color: var(--jp-inverse-layout-color1);\\n}\\n\\n.jp-RenderedHTMLCommon img,\\n.jp-RenderedImage img,\\n.jp-RenderedHTMLCommon svg,\\n.jp-RenderedSVG svg {\\n  max-width: 100%;\\n  height: auto;\\n}\\n\\n.jp-RenderedHTMLCommon img.jp-mod-unconfined,\\n.jp-RenderedImage img.jp-mod-unconfined,\\n.jp-RenderedHTMLCommon svg.jp-mod-unconfined,\\n.jp-RenderedSVG svg.jp-mod-unconfined {\\n  max-width: none;\\n}\\n\\n.jp-RenderedHTMLCommon .alert {\\n  padding: var(--jp-notebook-padding);\\n  border: var(--jp-border-width) solid transparent;\\n  border-radius: var(--jp-border-radius);\\n  margin-bottom: 1em;\\n}\\n\\n.jp-RenderedHTMLCommon .alert-info {\\n  color: var(--jp-info-color0);\\n  background-color: var(--jp-info-color3);\\n  border-color: var(--jp-info-color2);\\n}\\n\\n.jp-RenderedHTMLCommon .alert-info hr {\\n  border-color: var(--jp-info-color3);\\n}\\n\\n.jp-RenderedHTMLCommon .alert-info > p:last-child,\\n.jp-RenderedHTMLCommon .alert-info > ul:last-child {\\n  margin-bottom: 0;\\n}\\n\\n.jp-RenderedHTMLCommon .alert-warning {\\n  color: var(--jp-warn-color0);\\n  background-color: var(--jp-warn-color3);\\n  border-color: var(--jp-warn-color2);\\n}\\n\\n.jp-RenderedHTMLCommon .alert-warning hr {\\n  border-color: var(--jp-warn-color3);\\n}\\n\\n.jp-RenderedHTMLCommon .alert-warning > p:last-child,\\n.jp-RenderedHTMLCommon .alert-warning > ul:last-child {\\n  margin-bottom: 0;\\n}\\n\\n.jp-RenderedHTMLCommon .alert-success {\\n  color: var(--jp-success-color0);\\n  background-color: var(--jp-success-color3);\\n  border-color: var(--jp-success-color2);\\n}\\n\\n.jp-RenderedHTMLCommon .alert-success hr {\\n  border-color: var(--jp-success-color3);\\n}\\n\\n.jp-RenderedHTMLCommon .alert-success > p:last-child,\\n.jp-RenderedHTMLCommon .alert-success > ul:last-child {\\n  margin-bottom: 0;\\n}\\n\\n.jp-RenderedHTMLCommon .alert-danger {\\n  color: var(--jp-error-color0);\\n  background-color: var(--jp-error-color3);\\n  border-color: var(--jp-error-color2);\\n}\\n\\n.jp-RenderedHTMLCommon .alert-danger hr {\\n  border-color: var(--jp-error-color3);\\n}\\n\\n.jp-RenderedHTMLCommon .alert-danger > p:last-child,\\n.jp-RenderedHTMLCommon .alert-danger > ul:last-child {\\n  margin-bottom: 0;\\n}\\n\\n.jp-RenderedHTMLCommon blockquote {\\n  margin: 1em 2em;\\n  padding: 0 1em;\\n  border-left: 5px solid var(--jp-border-color2);\\n}\\n\\na.jp-InternalAnchorLink {\\n  visibility: hidden;\\n  margin-left: 8px;\\n  color: var(--md-blue-800);\\n}\\n\\nh1:hover .jp-InternalAnchorLink,\\nh2:hover .jp-InternalAnchorLink,\\nh3:hover .jp-InternalAnchorLink,\\nh4:hover .jp-InternalAnchorLink,\\nh5:hover .jp-InternalAnchorLink,\\nh6:hover .jp-InternalAnchorLink {\\n  visibility: visible;\\n}\\n\\n.jp-RenderedHTMLCommon kbd {\\n  background-color: var(--jp-rendermime-table-row-background);\\n  border: 1px solid var(--jp-border-color0);\\n  border-bottom-color: var(--jp-border-color2);\\n  border-radius: 3px;\\n  box-shadow: inset 0 -1px 0 rgba(0, 0, 0, 0.25);\\n  display: inline-block;\\n  font-size: var(--jp-ui-font-size0);\\n  line-height: 1em;\\n  padding: 0.2em 0.5em;\\n}\\n\\n/* Most direct children of .jp-RenderedHTMLCommon have a margin-bottom of 1.0.\\n * At the bottom of cells this is a bit too much as there is also spacing\\n * between cells. Going all the way to 0 gets too tight between markdown and\\n * code cells.\\n */\\n.jp-RenderedHTMLCommon > *:last-child {\\n  margin-bottom: 0.5em;\\n}\\n\\n/*\\n * Copyright (c) Jupyter Development Team.\\n * Distributed under the terms of the Modified BSD License.\\n */\\n\\n/*-----------------------------------------------------------------------------\\n| Copyright (c) Jupyter Development Team.\\n| Copyright (c) 2014-2017, PhosphorJS Contributors\\n|\\n| Distributed under the terms of the BSD 3-Clause License.\\n|\\n| The full license is in the file LICENSE, distributed with this software.\\n|----------------------------------------------------------------------------*/\\n\\n.lm-cursor-backdrop {\\n  position: fixed;\\n  width: 200px;\\n  height: 200px;\\n  margin-top: -100px;\\n  margin-left: -100px;\\n  will-change: transform;\\n  z-index: 100;\\n}\\n\\n.lm-mod-drag-image {\\n  will-change: transform;\\n}\\n\\n/*\\n * Copyright (c) Jupyter Development Team.\\n * Distributed under the terms of the Modified BSD License.\\n */\\n\\n.jp-lineFormSearch {\\n  padding: 4px 12px;\\n  background-color: var(--jp-layout-color2);\\n  box-shadow: var(--jp-toolbar-box-shadow);\\n  z-index: 2;\\n  font-size: var(--jp-ui-font-size1);\\n}\\n\\n.jp-lineFormCaption {\\n  font-size: var(--jp-ui-font-size0);\\n  line-height: var(--jp-ui-font-size1);\\n  margin-top: 4px;\\n  color: var(--jp-ui-font-color0);\\n}\\n\\n.jp-baseLineForm {\\n  border: none;\\n  border-radius: 0;\\n  position: absolute;\\n  background-size: 16px;\\n  background-repeat: no-repeat;\\n  background-position: center;\\n  outline: none;\\n}\\n\\n.jp-lineFormButtonContainer {\\n  top: 4px;\\n  right: 8px;\\n  height: 24px;\\n  padding: 0 12px;\\n  width: 12px;\\n}\\n\\n.jp-lineFormButtonIcon {\\n  top: 0;\\n  right: 0;\\n  background-color: var(--jp-brand-color1);\\n  height: 100%;\\n  width: 100%;\\n  box-sizing: border-box;\\n  padding: 4px 6px;\\n}\\n\\n.jp-lineFormButton {\\n  top: 0;\\n  right: 0;\\n  background-color: transparent;\\n  height: 100%;\\n  width: 100%;\\n  box-sizing: border-box;\\n}\\n\\n.jp-lineFormWrapper {\\n  overflow: hidden;\\n  padding: 0 8px;\\n  border: 1px solid var(--jp-border-color0);\\n  background-color: var(--jp-input-active-background);\\n  height: 22px;\\n}\\n\\n.jp-lineFormWrapperFocusWithin {\\n  border: var(--jp-border-width) solid var(--md-blue-500);\\n  box-shadow: inset 0 0 4px var(--md-blue-300);\\n}\\n\\n.jp-lineFormInput {\\n  background: transparent;\\n  width: 200px;\\n  height: 100%;\\n  border: none;\\n  outline: none;\\n  color: var(--jp-ui-font-color0);\\n  line-height: 28px;\\n}\\n\\n/*-----------------------------------------------------------------------------\\n| Copyright (c) 2014-2016, Jupyter Development Team.\\n|\\n| Distributed under the terms of the Modified BSD License.\\n|----------------------------------------------------------------------------*/\\n\\n.jp-JSONEditor {\\n  display: flex;\\n  flex-direction: column;\\n  width: 100%;\\n}\\n\\n.jp-JSONEditor-host {\\n  flex: 1 1 auto;\\n  border: var(--jp-border-width) solid var(--jp-input-border-color);\\n  border-radius: 0;\\n  background: var(--jp-layout-color0);\\n  min-height: 50px;\\n  padding: 1px;\\n}\\n\\n.jp-JSONEditor.jp-mod-error .jp-JSONEditor-host {\\n  border-color: red;\\n  outline-color: red;\\n}\\n\\n.jp-JSONEditor-header {\\n  display: flex;\\n  flex: 1 0 auto;\\n  padding: 0 0 0 12px;\\n}\\n\\n.jp-JSONEditor-header label {\\n  flex: 0 0 auto;\\n}\\n\\n.jp-JSONEditor-commitButton {\\n  height: 16px;\\n  width: 16px;\\n  background-size: 18px;\\n  background-repeat: no-repeat;\\n  background-position: center;\\n}\\n\\n.jp-JSONEditor-host.jp-mod-focused {\\n  background-color: var(--jp-input-active-background);\\n  border: 1px solid var(--jp-input-active-border-color);\\n  box-shadow: var(--jp-input-box-shadow);\\n}\\n\\n.jp-Editor.jp-mod-dropTarget {\\n  border: var(--jp-border-width) solid var(--jp-input-active-border-color);\\n  box-shadow: var(--jp-input-box-shadow);\\n}\\n\\n/*-----------------------------------------------------------------------------\\n| Copyright (c) Jupyter Development Team.\\n| Distributed under the terms of the Modified BSD License.\\n|----------------------------------------------------------------------------*/\\n.jp-DocumentSearch-input {\\n  border: none;\\n  outline: none;\\n  color: var(--jp-ui-font-color0);\\n  font-size: var(--jp-ui-font-size1);\\n  background-color: var(--jp-layout-color0);\\n  font-family: var(--jp-ui-font-family);\\n  padding: 2px 1px;\\n  resize: none;\\n}\\n\\n.jp-DocumentSearch-overlay {\\n  position: absolute;\\n  background-color: var(--jp-toolbar-background);\\n  border-bottom: var(--jp-border-width) solid var(--jp-toolbar-border-color);\\n  border-left: var(--jp-border-width) solid var(--jp-toolbar-border-color);\\n  top: 0;\\n  right: 0;\\n  z-index: 7;\\n  min-width: 405px;\\n  padding: 2px;\\n  font-size: var(--jp-ui-font-size1);\\n\\n  --jp-private-document-search-button-height: 20px;\\n}\\n\\n.jp-DocumentSearch-overlay button {\\n  background-color: var(--jp-toolbar-background);\\n  outline: 0;\\n}\\n\\n.jp-DocumentSearch-overlay button:hover {\\n  background-color: var(--jp-layout-color2);\\n}\\n\\n.jp-DocumentSearch-overlay button:active {\\n  background-color: var(--jp-layout-color3);\\n}\\n\\n.jp-DocumentSearch-overlay-row {\\n  display: flex;\\n  align-items: center;\\n  margin-bottom: 2px;\\n}\\n\\n.jp-DocumentSearch-button-content {\\n  display: inline-block;\\n  cursor: pointer;\\n  box-sizing: border-box;\\n  width: 100%;\\n  height: 100%;\\n}\\n\\n.jp-DocumentSearch-button-content svg {\\n  width: 100%;\\n  height: 100%;\\n}\\n\\n.jp-DocumentSearch-input-wrapper {\\n  border: var(--jp-border-width) solid var(--jp-border-color0);\\n  display: flex;\\n  background-color: var(--jp-layout-color0);\\n  margin: 2px;\\n}\\n\\n.jp-DocumentSearch-input-wrapper:focus-within {\\n  border-color: var(--jp-cell-editor-active-border-color);\\n}\\n\\n.jp-DocumentSearch-toggle-wrapper,\\n.jp-DocumentSearch-button-wrapper {\\n  all: initial;\\n  overflow: hidden;\\n  display: inline-block;\\n  border: none;\\n  box-sizing: border-box;\\n}\\n\\n.jp-DocumentSearch-toggle-wrapper {\\n  width: 14px;\\n  height: 14px;\\n}\\n\\n.jp-DocumentSearch-button-wrapper {\\n  width: var(--jp-private-document-search-button-height);\\n  height: var(--jp-private-document-search-button-height);\\n}\\n\\n.jp-DocumentSearch-toggle-wrapper:focus,\\n.jp-DocumentSearch-button-wrapper:focus {\\n  outline: var(--jp-border-width) solid\\n    var(--jp-cell-editor-active-border-color);\\n  outline-offset: -1px;\\n}\\n\\n.jp-DocumentSearch-toggle-wrapper,\\n.jp-DocumentSearch-button-wrapper,\\n.jp-DocumentSearch-button-content:focus {\\n  outline: none;\\n}\\n\\n.jp-DocumentSearch-toggle-placeholder {\\n  width: 5px;\\n}\\n\\n.jp-DocumentSearch-input-button::before {\\n  display: block;\\n  padding-top: 100%;\\n}\\n\\n.jp-DocumentSearch-input-button-off {\\n  opacity: var(--jp-search-toggle-off-opacity);\\n}\\n\\n.jp-DocumentSearch-input-button-off:hover {\\n  opacity: var(--jp-search-toggle-hover-opacity);\\n}\\n\\n.jp-DocumentSearch-input-button-on {\\n  opacity: var(--jp-search-toggle-on-opacity);\\n}\\n\\n.jp-DocumentSearch-index-counter {\\n  padding-left: 10px;\\n  padding-right: 10px;\\n  user-select: none;\\n  min-width: 35px;\\n  display: inline-block;\\n}\\n\\n.jp-DocumentSearch-up-down-wrapper {\\n  display: inline-block;\\n  padding-right: 2px;\\n  margin-left: auto;\\n  white-space: nowrap;\\n}\\n\\n.jp-DocumentSearch-spacer {\\n  margin-left: auto;\\n}\\n\\n.jp-DocumentSearch-up-down-wrapper button {\\n  outline: 0;\\n  border: none;\\n  width: var(--jp-private-document-search-button-height);\\n  height: var(--jp-private-document-search-button-height);\\n  vertical-align: middle;\\n  margin: 1px 5px 2px;\\n}\\n\\n.jp-DocumentSearch-up-down-button:hover {\\n  background-color: var(--jp-layout-color2);\\n}\\n\\n.jp-DocumentSearch-up-down-button:active {\\n  background-color: var(--jp-layout-color3);\\n}\\n\\n.jp-DocumentSearch-filter-button {\\n  border-radius: var(--jp-border-radius);\\n}\\n\\n.jp-DocumentSearch-filter-button:hover {\\n  background-color: var(--jp-layout-color2);\\n}\\n\\n.jp-DocumentSearch-filter-button-enabled {\\n  background-color: var(--jp-layout-color2);\\n}\\n\\n.jp-DocumentSearch-filter-button-enabled:hover {\\n  background-color: var(--jp-layout-color3);\\n}\\n\\n.jp-DocumentSearch-search-options {\\n  padding: 0 8px;\\n  margin-left: 3px;\\n  width: 100%;\\n  display: grid;\\n  justify-content: start;\\n  grid-template-columns: 1fr 1fr;\\n  align-items: center;\\n  justify-items: stretch;\\n}\\n\\n.jp-DocumentSearch-search-filter-disabled {\\n  color: var(--jp-ui-font-color2);\\n}\\n\\n.jp-DocumentSearch-search-filter {\\n  display: flex;\\n  align-items: center;\\n  user-select: none;\\n}\\n\\n.jp-DocumentSearch-regex-error {\\n  color: var(--jp-error-color0);\\n}\\n\\n.jp-DocumentSearch-replace-button-wrapper {\\n  overflow: hidden;\\n  display: inline-block;\\n  box-sizing: border-box;\\n  border: var(--jp-border-width) solid var(--jp-border-color0);\\n  margin: auto 2px;\\n  padding: 1px 4px;\\n  height: calc(var(--jp-private-document-search-button-height) + 2px);\\n}\\n\\n.jp-DocumentSearch-replace-button-wrapper:focus {\\n  border: var(--jp-border-width) solid var(--jp-cell-editor-active-border-color);\\n}\\n\\n.jp-DocumentSearch-replace-button {\\n  display: inline-block;\\n  text-align: center;\\n  cursor: pointer;\\n  box-sizing: border-box;\\n  color: var(--jp-ui-font-color1);\\n\\n  /* height - 2 * (padding of wrapper) */\\n  line-height: calc(var(--jp-private-document-search-button-height) - 2px);\\n  width: 100%;\\n  height: 100%;\\n}\\n\\n.jp-DocumentSearch-replace-button:focus {\\n  outline: none;\\n}\\n\\n.jp-DocumentSearch-replace-wrapper-class {\\n  margin-left: 14px;\\n  display: flex;\\n}\\n\\n.jp-DocumentSearch-replace-toggle {\\n  border: none;\\n  background-color: var(--jp-toolbar-background);\\n  border-radius: var(--jp-border-radius);\\n}\\n\\n.jp-DocumentSearch-replace-toggle:hover {\\n  background-color: var(--jp-layout-color2);\\n}\\n\\n/*-----------------------------------------------------------------------------\\n| Copyright (c) Jupyter Development Team.\\n| Distributed under the terms of the Modified BSD License.\\n|----------------------------------------------------------------------------*/\\n\\n.cm-editor {\\n  line-height: var(--jp-code-line-height);\\n  font-size: var(--jp-code-font-size);\\n  font-family: var(--jp-code-font-family);\\n  border: 0;\\n  border-radius: 0;\\n  height: auto;\\n\\n  /* Changed to auto to autogrow */\\n}\\n\\n.cm-editor pre {\\n  padding: 0 var(--jp-code-padding);\\n}\\n\\n.jp-CodeMirrorEditor[data-type=\\'inline\\'] .cm-dialog {\\n  background-color: var(--jp-layout-color0);\\n  color: var(--jp-content-font-color1);\\n}\\n\\n.jp-CodeMirrorEditor {\\n  cursor: text;\\n}\\n\\n/* When zoomed out 67% and 33% on a screen of 1440 width x 900 height */\\n@media screen and (min-width: 2138px) and (max-width: 4319px) {\\n  .jp-CodeMirrorEditor[data-type=\\'inline\\'] .cm-cursor {\\n    border-left: var(--jp-code-cursor-width1) solid\\n      var(--jp-editor-cursor-color);\\n  }\\n}\\n\\n/* When zoomed out less than 33% */\\n@media screen and (min-width: 4320px) {\\n  .jp-CodeMirrorEditor[data-type=\\'inline\\'] .cm-cursor {\\n    border-left: var(--jp-code-cursor-width2) solid\\n      var(--jp-editor-cursor-color);\\n  }\\n}\\n\\n.cm-editor.jp-mod-readOnly .cm-cursor {\\n  display: none;\\n}\\n\\n.jp-CollaboratorCursor {\\n  border-left: 5px solid transparent;\\n  border-right: 5px solid transparent;\\n  border-top: none;\\n  border-bottom: 3px solid;\\n  background-clip: content-box;\\n  margin-left: -5px;\\n  margin-right: -5px;\\n}\\n\\n.cm-searching,\\n.cm-searching span {\\n  /* `.cm-searching span`: we need to override syntax highlighting */\\n  background-color: var(--jp-search-unselected-match-background-color);\\n  color: var(--jp-search-unselected-match-color);\\n}\\n\\n.cm-searching::selection,\\n.cm-searching span::selection {\\n  background-color: var(--jp-search-unselected-match-background-color);\\n  color: var(--jp-search-unselected-match-color);\\n}\\n\\n.jp-current-match > .cm-searching,\\n.jp-current-match > .cm-searching span,\\n.cm-searching > .jp-current-match,\\n.cm-searching > .jp-current-match span {\\n  background-color: var(--jp-search-selected-match-background-color);\\n  color: var(--jp-search-selected-match-color);\\n}\\n\\n.jp-current-match > .cm-searching::selection,\\n.cm-searching > .jp-current-match::selection,\\n.jp-current-match > .cm-searching span::selection {\\n  background-color: var(--jp-search-selected-match-background-color);\\n  color: var(--jp-search-selected-match-color);\\n}\\n\\n.cm-trailingspace {\\n  background-image: url(data:image/png;base64,iVBORw0KGgoAAAANSUhEUgAAAAgAAAAFCAYAAAB4ka1VAAAAsElEQVQIHQGlAFr/AAAAAAAAAAAAAAAAAAAAAAAAAAAAAAAAAAAAAAAAAAAAAAAAAAAAAAAA7+r3zKmT0/+pk9P/7+r3zAAAAAAAAAAABAAAAAAAAAAA6OPzM+/q9wAAAAAA6OPzMwAAAAAAAAAAAgAAAAAAAAAAGR8NiRQaCgAZIA0AGR8NiQAAAAAAAAAAAAAAAAAAAAAAAAAAAAAAAAAAAAAAAAAAAAAAAAAAAAAAQyoYJ/SY80UAAAAASUVORK5CYII=);\\n  background-position: center left;\\n  background-repeat: repeat-x;\\n}\\n\\n.jp-CollaboratorCursor-hover {\\n  position: absolute;\\n  z-index: 1;\\n  transform: translateX(-50%);\\n  color: white;\\n  border-radius: 3px;\\n  padding-left: 4px;\\n  padding-right: 4px;\\n  padding-top: 1px;\\n  padding-bottom: 1px;\\n  text-align: center;\\n  font-size: var(--jp-ui-font-size1);\\n  white-space: nowrap;\\n}\\n\\n.jp-CodeMirror-ruler {\\n  border-left: 1px dashed var(--jp-border-color2);\\n}\\n\\n/* Styles for shared cursors (remote cursor locations and selected ranges) */\\n.jp-CodeMirrorEditor .cm-ySelectionCaret {\\n  position: relative;\\n  border-left: 1px solid black;\\n  margin-left: -1px;\\n  margin-right: -1px;\\n  box-sizing: border-box;\\n}\\n\\n.jp-CodeMirrorEditor .cm-ySelectionCaret > .cm-ySelectionInfo {\\n  white-space: nowrap;\\n  position: absolute;\\n  top: -1.15em;\\n  padding-bottom: 0.05em;\\n  left: -1px;\\n  font-size: 0.95em;\\n  font-family: var(--jp-ui-font-family);\\n  font-weight: bold;\\n  line-height: normal;\\n  user-select: none;\\n  color: white;\\n  padding-left: 2px;\\n  padding-right: 2px;\\n  z-index: 101;\\n  transition: opacity 0.3s ease-in-out;\\n}\\n\\n.jp-CodeMirrorEditor .cm-ySelectionInfo {\\n  transition-delay: 0.7s;\\n  opacity: 0;\\n}\\n\\n.jp-CodeMirrorEditor .cm-ySelectionCaret:hover > .cm-ySelectionInfo {\\n  opacity: 1;\\n  transition-delay: 0s;\\n}\\n\\n/*-----------------------------------------------------------------------------\\n| Copyright (c) Jupyter Development Team.\\n| Distributed under the terms of the Modified BSD License.\\n|----------------------------------------------------------------------------*/\\n\\n.jp-MimeDocument {\\n  outline: none;\\n}\\n\\n/*-----------------------------------------------------------------------------\\n| Copyright (c) Jupyter Development Team.\\n| Distributed under the terms of the Modified BSD License.\\n|----------------------------------------------------------------------------*/\\n\\n/*-----------------------------------------------------------------------------\\n| Variables\\n|----------------------------------------------------------------------------*/\\n\\n:root {\\n  --jp-private-filebrowser-button-height: 28px;\\n  --jp-private-filebrowser-button-width: 48px;\\n}\\n\\n/*-----------------------------------------------------------------------------\\n| Copyright (c) Jupyter Development Team.\\n| Distributed under the terms of the Modified BSD License.\\n|----------------------------------------------------------------------------*/\\n\\n.jp-FileBrowser .jp-SidePanel-content {\\n  display: flex;\\n  flex-direction: column;\\n}\\n\\n.jp-FileBrowser-toolbar.jp-Toolbar {\\n  flex-wrap: wrap;\\n  row-gap: 12px;\\n  border-bottom: none;\\n  height: auto;\\n  margin: 8px 12px 0;\\n  box-shadow: none;\\n  padding: 0;\\n  justify-content: flex-start;\\n}\\n\\n.jp-FileBrowser-Panel {\\n  flex: 1 1 auto;\\n  display: flex;\\n  flex-direction: column;\\n}\\n\\n.jp-BreadCrumbs {\\n  flex: 0 0 auto;\\n  margin: 8px 12px;\\n}\\n\\n.jp-BreadCrumbs-item {\\n  margin: 0 2px;\\n  padding: 0 2px;\\n  border-radius: var(--jp-border-radius);\\n  cursor: pointer;\\n}\\n\\n.jp-BreadCrumbs-item:hover {\\n  background-color: var(--jp-layout-color2);\\n}\\n\\n.jp-BreadCrumbs-item:first-child {\\n  margin-left: 0;\\n}\\n\\n.jp-BreadCrumbs-item.jp-mod-dropTarget {\\n  background-color: var(--jp-brand-color2);\\n  opacity: 0.7;\\n}\\n\\n/*-----------------------------------------------------------------------------\\n| Buttons\\n|----------------------------------------------------------------------------*/\\n\\n.jp-FileBrowser-toolbar > .jp-Toolbar-item {\\n  flex: 0 0 auto;\\n  padding-left: 0;\\n  padding-right: 2px;\\n  align-items: center;\\n  height: unset;\\n}\\n\\n.jp-FileBrowser-toolbar > .jp-Toolbar-item .jp-ToolbarButtonComponent {\\n  width: 40px;\\n}\\n\\n/*-----------------------------------------------------------------------------\\n| Other styles\\n|----------------------------------------------------------------------------*/\\n\\n.jp-FileDialog.jp-mod-conflict input {\\n  color: var(--jp-error-color1);\\n}\\n\\n.jp-FileDialog .jp-new-name-title {\\n  margin-top: 12px;\\n}\\n\\n.jp-LastModified-hidden {\\n  display: none;\\n}\\n\\n.jp-FileSize-hidden {\\n  display: none;\\n}\\n\\n.jp-FileBrowser .lm-AccordionPanel > h3:first-child {\\n  display: none;\\n}\\n\\n/*-----------------------------------------------------------------------------\\n| DirListing\\n|----------------------------------------------------------------------------*/\\n\\n.jp-DirListing {\\n  flex: 1 1 auto;\\n  display: flex;\\n  flex-direction: column;\\n  outline: 0;\\n}\\n\\n.jp-DirListing-header {\\n  flex: 0 0 auto;\\n  display: flex;\\n  flex-direction: row;\\n  align-items: center;\\n  overflow: hidden;\\n  border-top: var(--jp-border-width) solid var(--jp-border-color2);\\n  border-bottom: var(--jp-border-width) solid var(--jp-border-color1);\\n  box-shadow: var(--jp-toolbar-box-shadow);\\n  z-index: 2;\\n}\\n\\n.jp-DirListing-headerItem {\\n  padding: 4px 12px 2px;\\n  font-weight: 500;\\n}\\n\\n.jp-DirListing-headerItem:hover {\\n  background: var(--jp-layout-color2);\\n}\\n\\n.jp-DirListing-headerItem.jp-id-name {\\n  flex: 1 0 84px;\\n}\\n\\n.jp-DirListing-headerItem.jp-id-modified {\\n  flex: 0 0 112px;\\n  border-left: var(--jp-border-width) solid var(--jp-border-color2);\\n  text-align: right;\\n}\\n\\n.jp-DirListing-headerItem.jp-id-filesize {\\n  flex: 0 0 75px;\\n  border-left: var(--jp-border-width) solid var(--jp-border-color2);\\n  text-align: right;\\n}\\n\\n.jp-id-narrow {\\n  display: none;\\n  flex: 0 0 5px;\\n  padding: 4px;\\n  border-left: var(--jp-border-width) solid var(--jp-border-color2);\\n  text-align: right;\\n  color: var(--jp-border-color2);\\n}\\n\\n.jp-DirListing-narrow .jp-id-narrow {\\n  display: block;\\n}\\n\\n.jp-DirListing-narrow .jp-id-modified,\\n.jp-DirListing-narrow .jp-DirListing-itemModified {\\n  display: none;\\n}\\n\\n.jp-DirListing-headerItem.jp-mod-selected {\\n  font-weight: 600;\\n}\\n\\n/* increase specificity to override bundled default */\\n.jp-DirListing-content {\\n  flex: 1 1 auto;\\n  margin: 0;\\n  padding: 0;\\n  list-style-type: none;\\n  overflow: auto;\\n  background-color: var(--jp-layout-color1);\\n}\\n\\n.jp-DirListing-content mark {\\n  color: var(--jp-ui-font-color0);\\n  background-color: transparent;\\n  font-weight: bold;\\n}\\n\\n.jp-DirListing-content .jp-DirListing-item.jp-mod-selected mark {\\n  color: var(--jp-ui-inverse-font-color0);\\n}\\n\\n/* Style the directory listing content when a user drops a file to upload */\\n.jp-DirListing.jp-mod-native-drop .jp-DirListing-content {\\n  outline: 5px dashed rgba(128, 128, 128, 0.5);\\n  outline-offset: -10px;\\n  cursor: copy;\\n}\\n\\n.jp-DirListing-item {\\n  display: flex;\\n  flex-direction: row;\\n  align-items: center;\\n  padding: 4px 12px;\\n  -webkit-user-select: none;\\n  -moz-user-select: none;\\n  -ms-user-select: none;\\n  user-select: none;\\n}\\n\\n.jp-DirListing-checkboxWrapper {\\n  /* Increases hit area of checkbox. */\\n  padding: 4px;\\n}\\n\\n.jp-DirListing-header\\n  .jp-DirListing-checkboxWrapper\\n  + .jp-DirListing-headerItem {\\n  padding-left: 4px;\\n}\\n\\n.jp-DirListing-content .jp-DirListing-checkboxWrapper {\\n  position: relative;\\n  left: -4px;\\n  margin: -4px 0 -4px -8px;\\n}\\n\\n.jp-DirListing-checkboxWrapper.jp-mod-visible {\\n  visibility: visible;\\n}\\n\\n/* For devices that support hovering, hide checkboxes until hovered, selected...\\n*/\\n@media (hover: hover) {\\n  .jp-DirListing-checkboxWrapper {\\n    visibility: hidden;\\n  }\\n\\n  .jp-DirListing-item:hover .jp-DirListing-checkboxWrapper,\\n  .jp-DirListing-item.jp-mod-selected .jp-DirListing-checkboxWrapper {\\n    visibility: visible;\\n  }\\n}\\n\\n.jp-DirListing-item[data-is-dot] {\\n  opacity: 75%;\\n}\\n\\n.jp-DirListing-item.jp-mod-selected {\\n  color: var(--jp-ui-inverse-font-color1);\\n  background: var(--jp-brand-color1);\\n}\\n\\n.jp-DirListing-item.jp-mod-dropTarget {\\n  background: var(--jp-brand-color3);\\n}\\n\\n.jp-DirListing-item:hover:not(.jp-mod-selected) {\\n  background: var(--jp-layout-color2);\\n}\\n\\n.jp-DirListing-itemIcon {\\n  flex: 0 0 20px;\\n  margin-right: 4px;\\n}\\n\\n.jp-DirListing-itemText {\\n  flex: 1 0 64px;\\n  white-space: nowrap;\\n  overflow: hidden;\\n  text-overflow: ellipsis;\\n  user-select: none;\\n}\\n\\n.jp-DirListing-itemText:focus {\\n  outline-width: 2px;\\n  outline-color: var(--jp-inverse-layout-color1);\\n  outline-style: solid;\\n  outline-offset: 1px;\\n}\\n\\n.jp-DirListing-item.jp-mod-selected .jp-DirListing-itemText:focus {\\n  outline-color: var(--jp-layout-color1);\\n}\\n\\n.jp-DirListing-itemModified {\\n  flex: 0 0 125px;\\n  text-align: right;\\n}\\n\\n.jp-DirListing-itemFileSize {\\n  flex: 0 0 90px;\\n  text-align: right;\\n}\\n\\n.jp-DirListing-editor {\\n  flex: 1 0 64px;\\n  outline: none;\\n  border: none;\\n  color: var(--jp-ui-font-color1);\\n  background-color: var(--jp-layout-color1);\\n}\\n\\n.jp-DirListing-item.jp-mod-running .jp-DirListing-itemIcon::before {\\n  color: var(--jp-success-color1);\\n  content: \\'\\\\25CF\\';\\n  font-size: 8px;\\n  position: absolute;\\n  left: -8px;\\n}\\n\\n.jp-DirListing-item.jp-mod-running.jp-mod-selected\\n  .jp-DirListing-itemIcon::before {\\n  color: var(--jp-ui-inverse-font-color1);\\n}\\n\\n.jp-DirListing-item.lm-mod-drag-image,\\n.jp-DirListing-item.jp-mod-selected.lm-mod-drag-image {\\n  font-size: var(--jp-ui-font-size1);\\n  padding-left: 4px;\\n  margin-left: 4px;\\n  width: 160px;\\n  background-color: var(--jp-ui-inverse-font-color2);\\n  box-shadow: var(--jp-elevation-z2);\\n  border-radius: 0;\\n  color: var(--jp-ui-font-color1);\\n  transform: translateX(-40%) translateY(-58%);\\n}\\n\\n.jp-Document {\\n  min-width: 120px;\\n  min-height: 120px;\\n  outline: none;\\n}\\n\\n/*-----------------------------------------------------------------------------\\n| Copyright (c) Jupyter Development Team.\\n| Distributed under the terms of the Modified BSD License.\\n|----------------------------------------------------------------------------*/\\n\\n/*-----------------------------------------------------------------------------\\n| Main OutputArea\\n| OutputArea has a list of Outputs\\n|----------------------------------------------------------------------------*/\\n\\n.jp-OutputArea {\\n  overflow-y: auto;\\n}\\n\\n.jp-OutputArea-child {\\n  display: table;\\n  table-layout: fixed;\\n  width: 100%;\\n  overflow: hidden;\\n}\\n\\n.jp-OutputPrompt {\\n  width: var(--jp-cell-prompt-width);\\n  color: var(--jp-cell-outprompt-font-color);\\n  font-family: var(--jp-cell-prompt-font-family);\\n  padding: var(--jp-code-padding);\\n  letter-spacing: var(--jp-cell-prompt-letter-spacing);\\n  line-height: var(--jp-code-line-height);\\n  font-size: var(--jp-code-font-size);\\n  border: var(--jp-border-width) solid transparent;\\n  opacity: var(--jp-cell-prompt-opacity);\\n\\n  /* Right align prompt text, don\\'t wrap to handle large prompt numbers */\\n  text-align: right;\\n  white-space: nowrap;\\n  overflow: hidden;\\n  text-overflow: ellipsis;\\n\\n  /* Disable text selection */\\n  -webkit-user-select: none;\\n  -moz-user-select: none;\\n  -ms-user-select: none;\\n  user-select: none;\\n}\\n\\n.jp-OutputArea-prompt {\\n  display: table-cell;\\n  vertical-align: top;\\n}\\n\\n.jp-OutputArea-output {\\n  display: table-cell;\\n  width: 100%;\\n  height: auto;\\n  overflow: auto;\\n  user-select: text;\\n  -moz-user-select: text;\\n  -webkit-user-select: text;\\n  -ms-user-select: text;\\n}\\n\\n.jp-OutputArea .jp-RenderedText {\\n  padding-left: 1ch;\\n}\\n\\n/**\\n * Prompt overlay.\\n */\\n\\n.jp-OutputArea-promptOverlay {\\n  position: absolute;\\n  top: 0;\\n  width: var(--jp-cell-prompt-width);\\n  height: 100%;\\n  opacity: 0.5;\\n}\\n\\n.jp-OutputArea-promptOverlay:hover {\\n  background: var(--jp-layout-color2);\\n  box-shadow: inset 0 0 1px var(--jp-inverse-layout-color0);\\n  cursor: zoom-out;\\n}\\n\\n.jp-mod-outputsScrolled .jp-OutputArea-promptOverlay:hover {\\n  cursor: zoom-in;\\n}\\n\\n/**\\n * Isolated output.\\n */\\n.jp-OutputArea-output.jp-mod-isolated {\\n  width: 100%;\\n  display: block;\\n}\\n\\n/*\\nWhen drag events occur, `lm-mod-override-cursor` is added to the body.\\nBecause iframes steal all cursor events, the following two rules are necessary\\nto suppress pointer events while resize drags are occurring. There may be a\\nbetter solution to this problem.\\n*/\\nbody.lm-mod-override-cursor .jp-OutputArea-output.jp-mod-isolated {\\n  position: relative;\\n}\\n\\nbody.lm-mod-override-cursor .jp-OutputArea-output.jp-mod-isolated::before {\\n  content: \\'\\';\\n  position: absolute;\\n  top: 0;\\n  left: 0;\\n  right: 0;\\n  bottom: 0;\\n  background: transparent;\\n}\\n\\n/* pre */\\n\\n.jp-OutputArea-output pre {\\n  border: none;\\n  margin: 0;\\n  padding: 0;\\n  overflow-x: auto;\\n  overflow-y: auto;\\n  word-break: break-all;\\n  word-wrap: break-word;\\n  white-space: pre-wrap;\\n}\\n\\n/* tables */\\n\\n.jp-OutputArea-output.jp-RenderedHTMLCommon table {\\n  margin-left: 0;\\n  margin-right: 0;\\n}\\n\\n/* description lists */\\n\\n.jp-OutputArea-output dl,\\n.jp-OutputArea-output dt,\\n.jp-OutputArea-output dd {\\n  display: block;\\n}\\n\\n.jp-OutputArea-output dl {\\n  width: 100%;\\n  overflow: hidden;\\n  padding: 0;\\n  margin: 0;\\n}\\n\\n.jp-OutputArea-output dt {\\n  font-weight: bold;\\n  float: left;\\n  width: 20%;\\n  padding: 0;\\n  margin: 0;\\n}\\n\\n.jp-OutputArea-output dd {\\n  float: left;\\n  width: 80%;\\n  padding: 0;\\n  margin: 0;\\n}\\n\\n.jp-TrimmedOutputs pre {\\n  background: var(--jp-layout-color3);\\n  font-size: calc(var(--jp-code-font-size) * 1.4);\\n  text-align: center;\\n  text-transform: uppercase;\\n}\\n\\n/* Hide the gutter in case of\\n *  - nested output areas (e.g. in the case of output widgets)\\n *  - mirrored output areas\\n */\\n.jp-OutputArea .jp-OutputArea .jp-OutputArea-prompt {\\n  display: none;\\n}\\n\\n/* Hide empty lines in the output area, for instance due to cleared widgets */\\n.jp-OutputArea-prompt:empty {\\n  padding: 0;\\n  border: 0;\\n}\\n\\n/*-----------------------------------------------------------------------------\\n| executeResult is added to any Output-result for the display of the object\\n| returned by a cell\\n|----------------------------------------------------------------------------*/\\n\\n.jp-OutputArea-output.jp-OutputArea-executeResult {\\n  margin-left: 0;\\n  width: 100%;\\n}\\n\\n/* Text output with the Out[] prompt needs a top padding to match the\\n * alignment of the Out[] prompt itself.\\n */\\n.jp-OutputArea-executeResult .jp-RenderedText.jp-OutputArea-output {\\n  padding-top: var(--jp-code-padding);\\n  border-top: var(--jp-border-width) solid transparent;\\n}\\n\\n/*-----------------------------------------------------------------------------\\n| The Stdin output\\n|----------------------------------------------------------------------------*/\\n\\n.jp-Stdin-prompt {\\n  color: var(--jp-content-font-color0);\\n  padding-right: var(--jp-code-padding);\\n  vertical-align: baseline;\\n  flex: 0 0 auto;\\n}\\n\\n.jp-Stdin-input {\\n  font-family: var(--jp-code-font-family);\\n  font-size: inherit;\\n  color: inherit;\\n  background-color: inherit;\\n  width: 42%;\\n  min-width: 200px;\\n\\n  /* make sure input baseline aligns with prompt */\\n  vertical-align: baseline;\\n\\n  /* padding + margin = 0.5em between prompt and cursor */\\n  padding: 0 0.25em;\\n  margin: 0 0.25em;\\n  flex: 0 0 70%;\\n}\\n\\n.jp-Stdin-input::placeholder {\\n  opacity: 0;\\n}\\n\\n.jp-Stdin-input:focus {\\n  box-shadow: none;\\n}\\n\\n.jp-Stdin-input:focus::placeholder {\\n  opacity: 1;\\n}\\n\\n/*-----------------------------------------------------------------------------\\n| Output Area View\\n|----------------------------------------------------------------------------*/\\n\\n.jp-LinkedOutputView .jp-OutputArea {\\n  height: 100%;\\n  display: block;\\n}\\n\\n.jp-LinkedOutputView .jp-OutputArea-output:only-child {\\n  height: 100%;\\n}\\n\\n/*-----------------------------------------------------------------------------\\n| Printing\\n|----------------------------------------------------------------------------*/\\n\\n@media print {\\n  .jp-OutputArea-child {\\n    break-inside: avoid-page;\\n  }\\n}\\n\\n/*-----------------------------------------------------------------------------\\n| Mobile\\n|----------------------------------------------------------------------------*/\\n@media only screen and (max-width: 760px) {\\n  .jp-OutputPrompt {\\n    display: table-row;\\n    text-align: left;\\n  }\\n\\n  .jp-OutputArea-child .jp-OutputArea-output {\\n    display: table-row;\\n    margin-left: var(--jp-notebook-padding);\\n  }\\n}\\n\\n/* Trimmed outputs warning */\\n.jp-TrimmedOutputs > a {\\n  margin: 10px;\\n  text-decoration: none;\\n  cursor: pointer;\\n}\\n\\n.jp-TrimmedOutputs > a:hover {\\n  text-decoration: none;\\n}\\n\\n/*-----------------------------------------------------------------------------\\n| Copyright (c) Jupyter Development Team.\\n| Distributed under the terms of the Modified BSD License.\\n|----------------------------------------------------------------------------*/\\n\\n/*-----------------------------------------------------------------------------\\n| Table of Contents\\n|----------------------------------------------------------------------------*/\\n\\n:root {\\n  --jp-private-toc-active-width: 4px;\\n}\\n\\n.jp-TableOfContents {\\n  display: flex;\\n  flex-direction: column;\\n  background: var(--jp-layout-color1);\\n  color: var(--jp-ui-font-color1);\\n  font-size: var(--jp-ui-font-size1);\\n  height: 100%;\\n}\\n\\n.jp-TableOfContents-placeholder {\\n  text-align: center;\\n}\\n\\n.jp-TableOfContents-placeholderContent {\\n  color: var(--jp-content-font-color2);\\n  padding: 8px;\\n}\\n\\n.jp-TableOfContents-placeholderContent > h3 {\\n  margin-bottom: var(--jp-content-heading-margin-bottom);\\n}\\n\\n.jp-TableOfContents .jp-SidePanel-content {\\n  overflow-y: auto;\\n}\\n\\n.jp-TableOfContents-tree {\\n  margin: 4px;\\n}\\n\\n.jp-TableOfContents ol {\\n  list-style-type: none;\\n}\\n\\n/* stylelint-disable-next-line selector-max-type */\\n.jp-TableOfContents li > ol {\\n  /* Align left border with triangle icon center */\\n  padding-left: 11px;\\n}\\n\\n.jp-TableOfContents-content {\\n  /* left margin for the active heading indicator */\\n  margin: 0 0 0 var(--jp-private-toc-active-width);\\n  padding: 0;\\n  background-color: var(--jp-layout-color1);\\n}\\n\\n.jp-tocItem {\\n  -webkit-user-select: none;\\n  -moz-user-select: none;\\n  -ms-user-select: none;\\n  user-select: none;\\n}\\n\\n.jp-tocItem-heading {\\n  display: flex;\\n  cursor: pointer;\\n}\\n\\n.jp-tocItem-heading:hover {\\n  background-color: var(--jp-layout-color2);\\n}\\n\\n.jp-tocItem-content {\\n  display: block;\\n  padding: 4px 0;\\n  white-space: nowrap;\\n  text-overflow: ellipsis;\\n  overflow-x: hidden;\\n}\\n\\n.jp-tocItem-collapser {\\n  height: 20px;\\n  margin: 2px 2px 0;\\n  padding: 0;\\n  background: none;\\n  border: none;\\n  cursor: pointer;\\n}\\n\\n.jp-tocItem-collapser:hover {\\n  background-color: var(--jp-layout-color3);\\n}\\n\\n/* Active heading indicator */\\n\\n.jp-tocItem-heading::before {\\n  content: \\' \\';\\n  background: transparent;\\n  width: var(--jp-private-toc-active-width);\\n  height: 24px;\\n  position: absolute;\\n  left: 0;\\n  border-radius: var(--jp-border-radius);\\n}\\n\\n.jp-tocItem-heading.jp-tocItem-active::before {\\n  background-color: var(--jp-brand-color1);\\n}\\n\\n.jp-tocItem-heading:hover.jp-tocItem-active::before {\\n  background: var(--jp-brand-color0);\\n  opacity: 1;\\n}\\n\\n/*-----------------------------------------------------------------------------\\n| Copyright (c) Jupyter Development Team.\\n| Distributed under the terms of the Modified BSD License.\\n|----------------------------------------------------------------------------*/\\n\\n.jp-Collapser {\\n  flex: 0 0 var(--jp-cell-collapser-width);\\n  padding: 0;\\n  margin: 0;\\n  border: none;\\n  outline: none;\\n  background: transparent;\\n  border-radius: var(--jp-border-radius);\\n  opacity: 1;\\n}\\n\\n.jp-Collapser-child {\\n  display: block;\\n  width: 100%;\\n  box-sizing: border-box;\\n\\n  /* height: 100% doesn\\'t work because the height of its parent is computed from content */\\n  position: absolute;\\n  top: 0;\\n  bottom: 0;\\n}\\n\\n/*-----------------------------------------------------------------------------\\n| Printing\\n|----------------------------------------------------------------------------*/\\n\\n/*\\nHiding collapsers in print mode.\\n\\nNote: input and output wrappers have \"display: block\" propery in print mode.\\n*/\\n\\n@media print {\\n  .jp-Collapser {\\n    display: none;\\n  }\\n}\\n\\n/*-----------------------------------------------------------------------------\\n| Copyright (c) Jupyter Development Team.\\n| Distributed under the terms of the Modified BSD License.\\n|----------------------------------------------------------------------------*/\\n\\n/*-----------------------------------------------------------------------------\\n| Header/Footer\\n|----------------------------------------------------------------------------*/\\n\\n/* Hidden by zero height by default */\\n.jp-CellHeader,\\n.jp-CellFooter {\\n  height: 0;\\n  width: 100%;\\n  padding: 0;\\n  margin: 0;\\n  border: none;\\n  outline: none;\\n  background: transparent;\\n}\\n\\n/*-----------------------------------------------------------------------------\\n| Copyright (c) Jupyter Development Team.\\n| Distributed under the terms of the Modified BSD License.\\n|----------------------------------------------------------------------------*/\\n\\n/*-----------------------------------------------------------------------------\\n| Input\\n|----------------------------------------------------------------------------*/\\n\\n/* All input areas */\\n.jp-InputArea {\\n  display: table;\\n  table-layout: fixed;\\n  width: 100%;\\n  overflow: hidden;\\n}\\n\\n.jp-InputArea-editor {\\n  display: table-cell;\\n  overflow: hidden;\\n  vertical-align: top;\\n\\n  /* This is the non-active, default styling */\\n  border: var(--jp-border-width) solid var(--jp-cell-editor-border-color);\\n  border-radius: 0;\\n  background: var(--jp-cell-editor-background);\\n}\\n\\n.jp-InputPrompt {\\n  display: table-cell;\\n  vertical-align: top;\\n  width: var(--jp-cell-prompt-width);\\n  color: var(--jp-cell-inprompt-font-color);\\n  font-family: var(--jp-cell-prompt-font-family);\\n  padding: var(--jp-code-padding);\\n  letter-spacing: var(--jp-cell-prompt-letter-spacing);\\n  opacity: var(--jp-cell-prompt-opacity);\\n  line-height: var(--jp-code-line-height);\\n  font-size: var(--jp-code-font-size);\\n  border: var(--jp-border-width) solid transparent;\\n\\n  /* Right align prompt text, don\\'t wrap to handle large prompt numbers */\\n  text-align: right;\\n  white-space: nowrap;\\n  overflow: hidden;\\n  text-overflow: ellipsis;\\n\\n  /* Disable text selection */\\n  -webkit-user-select: none;\\n  -moz-user-select: none;\\n  -ms-user-select: none;\\n  user-select: none;\\n}\\n\\n/*-----------------------------------------------------------------------------\\n| Mobile\\n|----------------------------------------------------------------------------*/\\n@media only screen and (max-width: 760px) {\\n  .jp-InputArea-editor {\\n    display: table-row;\\n    margin-left: var(--jp-notebook-padding);\\n  }\\n\\n  .jp-InputPrompt {\\n    display: table-row;\\n    text-align: left;\\n  }\\n}\\n\\n/*-----------------------------------------------------------------------------\\n| Copyright (c) Jupyter Development Team.\\n| Distributed under the terms of the Modified BSD License.\\n|----------------------------------------------------------------------------*/\\n\\n/*-----------------------------------------------------------------------------\\n| Placeholder\\n|----------------------------------------------------------------------------*/\\n\\n.jp-Placeholder {\\n  display: table;\\n  table-layout: fixed;\\n  width: 100%;\\n}\\n\\n.jp-Placeholder-prompt {\\n  display: table-cell;\\n  box-sizing: border-box;\\n}\\n\\n.jp-Placeholder-content {\\n  display: table-cell;\\n  padding: 4px 6px;\\n  border: 1px solid transparent;\\n  border-radius: 0;\\n  background: none;\\n  box-sizing: border-box;\\n  cursor: pointer;\\n}\\n\\n.jp-Placeholder-contentContainer {\\n  display: flex;\\n}\\n\\n.jp-Placeholder-content:hover,\\n.jp-InputPlaceholder > .jp-Placeholder-content:hover {\\n  border-color: var(--jp-layout-color3);\\n}\\n\\n.jp-Placeholder-content .jp-MoreHorizIcon {\\n  width: 32px;\\n  height: 16px;\\n  border: 1px solid transparent;\\n  border-radius: var(--jp-border-radius);\\n}\\n\\n.jp-Placeholder-content .jp-MoreHorizIcon:hover {\\n  border: 1px solid var(--jp-border-color1);\\n  box-shadow: 0 0 2px 0 rgba(0, 0, 0, 0.25);\\n  background-color: var(--jp-layout-color0);\\n}\\n\\n.jp-PlaceholderText {\\n  white-space: nowrap;\\n  overflow-x: hidden;\\n  color: var(--jp-inverse-layout-color3);\\n  font-family: var(--jp-code-font-family);\\n}\\n\\n.jp-InputPlaceholder > .jp-Placeholder-content {\\n  border-color: var(--jp-cell-editor-border-color);\\n  background: var(--jp-cell-editor-background);\\n}\\n\\n/*-----------------------------------------------------------------------------\\n| Copyright (c) Jupyter Development Team.\\n| Distributed under the terms of the Modified BSD License.\\n|----------------------------------------------------------------------------*/\\n\\n/*-----------------------------------------------------------------------------\\n| Private CSS variables\\n|----------------------------------------------------------------------------*/\\n\\n:root {\\n  --jp-private-cell-scrolling-output-offset: 5px;\\n}\\n\\n/*-----------------------------------------------------------------------------\\n| Cell\\n|----------------------------------------------------------------------------*/\\n\\n.jp-Cell {\\n  padding: var(--jp-cell-padding);\\n  margin: 0;\\n  border: none;\\n  outline: none;\\n  background: transparent;\\n}\\n\\n/*-----------------------------------------------------------------------------\\n| Common input/output\\n|----------------------------------------------------------------------------*/\\n\\n.jp-Cell-inputWrapper,\\n.jp-Cell-outputWrapper {\\n  display: flex;\\n  flex-direction: row;\\n  padding: 0;\\n  margin: 0;\\n\\n  /* Added to reveal the box-shadow on the input and output collapsers. */\\n  overflow: visible;\\n}\\n\\n/* Only input/output areas inside cells */\\n.jp-Cell-inputArea,\\n.jp-Cell-outputArea {\\n  flex: 1 1 auto;\\n}\\n\\n/*-----------------------------------------------------------------------------\\n| Collapser\\n|----------------------------------------------------------------------------*/\\n\\n/* Make the output collapser disappear when there is not output, but do so\\n * in a manner that leaves it in the layout and preserves its width.\\n */\\n.jp-Cell.jp-mod-noOutputs .jp-Cell-outputCollapser {\\n  border: none !important;\\n  background: transparent !important;\\n}\\n\\n.jp-Cell:not(.jp-mod-noOutputs) .jp-Cell-outputCollapser {\\n  min-height: var(--jp-cell-collapser-min-height);\\n}\\n\\n/*-----------------------------------------------------------------------------\\n| Output\\n|----------------------------------------------------------------------------*/\\n\\n/* Put a space between input and output when there IS output */\\n.jp-Cell:not(.jp-mod-noOutputs) .jp-Cell-outputWrapper {\\n  margin-top: 5px;\\n}\\n\\n.jp-CodeCell.jp-mod-outputsScrolled .jp-Cell-outputArea {\\n  overflow-y: auto;\\n  max-height: 24em;\\n  margin-left: var(--jp-private-cell-scrolling-output-offset);\\n  resize: vertical;\\n}\\n\\n.jp-CodeCell.jp-mod-outputsScrolled .jp-Cell-outputArea[style*=\\'height\\'] {\\n  max-height: unset;\\n}\\n\\n.jp-CodeCell.jp-mod-outputsScrolled .jp-Cell-outputArea::after {\\n  content: \\' \\';\\n  box-shadow: inset 0 0 6px 2px rgb(0 0 0 / 30%);\\n  width: 100%;\\n  height: 100%;\\n  position: sticky;\\n  bottom: 0;\\n  top: 0;\\n  margin-top: -50%;\\n  float: left;\\n  display: block;\\n  pointer-events: none;\\n}\\n\\n.jp-CodeCell.jp-mod-outputsScrolled .jp-OutputArea-child {\\n  padding-top: 6px;\\n}\\n\\n.jp-CodeCell.jp-mod-outputsScrolled .jp-OutputArea-prompt {\\n  width: calc(\\n    var(--jp-cell-prompt-width) - var(--jp-private-cell-scrolling-output-offset)\\n  );\\n}\\n\\n.jp-CodeCell.jp-mod-outputsScrolled .jp-OutputArea-promptOverlay {\\n  left: calc(-1 * var(--jp-private-cell-scrolling-output-offset));\\n}\\n\\n/*-----------------------------------------------------------------------------\\n| CodeCell\\n|----------------------------------------------------------------------------*/\\n\\n/*-----------------------------------------------------------------------------\\n| MarkdownCell\\n|----------------------------------------------------------------------------*/\\n\\n.jp-MarkdownOutput {\\n  display: table-cell;\\n  width: 100%;\\n  margin-top: 0;\\n  margin-bottom: 0;\\n  padding-left: var(--jp-code-padding);\\n}\\n\\n.jp-MarkdownOutput.jp-RenderedHTMLCommon {\\n  overflow: auto;\\n}\\n\\n/* collapseHeadingButton (show always if hiddenCellsButton is _not_ shown) */\\n.jp-collapseHeadingButton {\\n  display: flex;\\n  min-height: var(--jp-cell-collapser-min-height);\\n  font-size: var(--jp-code-font-size);\\n  position: absolute;\\n  background-color: transparent;\\n  background-size: 25px;\\n  background-repeat: no-repeat;\\n  background-position-x: center;\\n  background-position-y: top;\\n  background-image: var(--jp-icon-caret-down);\\n  right: 0;\\n  top: 0;\\n  bottom: 0;\\n}\\n\\n.jp-collapseHeadingButton.jp-mod-collapsed {\\n  background-image: var(--jp-icon-caret-right);\\n}\\n\\n/*\\n set the container font size to match that of content\\n so that the nested collapse buttons have the right size\\n*/\\n.jp-MarkdownCell .jp-InputPrompt {\\n  font-size: var(--jp-content-font-size1);\\n}\\n\\n/*\\n  Align collapseHeadingButton with cell top header\\n  The font sizes are identical to the ones in packages/rendermime/style/base.css\\n*/\\n.jp-mod-rendered .jp-collapseHeadingButton[data-heading-level=\\'1\\'] {\\n  font-size: var(--jp-content-font-size5);\\n  background-position-y: calc(0.3 * var(--jp-content-font-size5));\\n}\\n\\n.jp-mod-rendered .jp-collapseHeadingButton[data-heading-level=\\'2\\'] {\\n  font-size: var(--jp-content-font-size4);\\n  background-position-y: calc(0.3 * var(--jp-content-font-size4));\\n}\\n\\n.jp-mod-rendered .jp-collapseHeadingButton[data-heading-level=\\'3\\'] {\\n  font-size: var(--jp-content-font-size3);\\n  background-position-y: calc(0.3 * var(--jp-content-font-size3));\\n}\\n\\n.jp-mod-rendered .jp-collapseHeadingButton[data-heading-level=\\'4\\'] {\\n  font-size: var(--jp-content-font-size2);\\n  background-position-y: calc(0.3 * var(--jp-content-font-size2));\\n}\\n\\n.jp-mod-rendered .jp-collapseHeadingButton[data-heading-level=\\'5\\'] {\\n  font-size: var(--jp-content-font-size1);\\n  background-position-y: top;\\n}\\n\\n.jp-mod-rendered .jp-collapseHeadingButton[data-heading-level=\\'6\\'] {\\n  font-size: var(--jp-content-font-size0);\\n  background-position-y: top;\\n}\\n\\n/* collapseHeadingButton (show only on (hover,active) if hiddenCellsButton is shown) */\\n.jp-Notebook.jp-mod-showHiddenCellsButton .jp-collapseHeadingButton {\\n  display: none;\\n}\\n\\n.jp-Notebook.jp-mod-showHiddenCellsButton\\n  :is(.jp-MarkdownCell:hover, .jp-mod-active)\\n  .jp-collapseHeadingButton {\\n  display: flex;\\n}\\n\\n/* showHiddenCellsButton (only show if jp-mod-showHiddenCellsButton is set, which\\nis a consequence of the showHiddenCellsButton option in Notebook Settings)*/\\n.jp-Notebook.jp-mod-showHiddenCellsButton .jp-showHiddenCellsButton {\\n  margin-left: calc(var(--jp-cell-prompt-width) + 2 * var(--jp-code-padding));\\n  margin-top: var(--jp-code-padding);\\n  border: 1px solid var(--jp-border-color2);\\n  background-color: var(--jp-border-color3) !important;\\n  color: var(--jp-content-font-color0) !important;\\n  display: flex;\\n}\\n\\n.jp-Notebook.jp-mod-showHiddenCellsButton .jp-showHiddenCellsButton:hover {\\n  background-color: var(--jp-border-color2) !important;\\n}\\n\\n.jp-showHiddenCellsButton {\\n  display: none;\\n}\\n\\n/*-----------------------------------------------------------------------------\\n| Printing\\n|----------------------------------------------------------------------------*/\\n\\n/*\\nUsing block instead of flex to allow the use of the break-inside CSS property for\\ncell outputs.\\n*/\\n\\n@media print {\\n  .jp-Cell-inputWrapper,\\n  .jp-Cell-outputWrapper {\\n    display: block;\\n  }\\n}\\n\\n/*-----------------------------------------------------------------------------\\n| Copyright (c) Jupyter Development Team.\\n| Distributed under the terms of the Modified BSD License.\\n|----------------------------------------------------------------------------*/\\n\\n/*-----------------------------------------------------------------------------\\n| Copyright (c) Jupyter Development Team.\\n| Distributed under the terms of the Modified BSD License.\\n|----------------------------------------------------------------------------*/\\n\\n/*-----------------------------------------------------------------------------\\n| Variables\\n|----------------------------------------------------------------------------*/\\n\\n:root {\\n  --jp-notebook-toolbar-padding: 2px 5px 2px 2px;\\n}\\n\\n/*-----------------------------------------------------------------------------\\n\\n/*-----------------------------------------------------------------------------\\n| Styles\\n|----------------------------------------------------------------------------*/\\n\\n.jp-NotebookPanel-toolbar {\\n  padding: var(--jp-notebook-toolbar-padding);\\n\\n  /* disable paint containment from lumino 2.0 default strict CSS containment */\\n  contain: style size !important;\\n}\\n\\n.jp-Toolbar-item.jp-Notebook-toolbarCellType .jp-select-wrapper.jp-mod-focused {\\n  border: none;\\n  box-shadow: none;\\n}\\n\\n.jp-Notebook-toolbarCellTypeDropdown select {\\n  height: 24px;\\n  font-size: var(--jp-ui-font-size1);\\n  line-height: 14px;\\n  border-radius: 0;\\n  display: block;\\n}\\n\\n.jp-Notebook-toolbarCellTypeDropdown span {\\n  top: 5px !important;\\n}\\n\\n.jp-Toolbar-responsive-popup {\\n  position: absolute;\\n  height: fit-content;\\n  display: flex;\\n  flex-direction: row;\\n  flex-wrap: wrap;\\n  justify-content: flex-end;\\n  border-bottom: var(--jp-border-width) solid var(--jp-toolbar-border-color);\\n  box-shadow: var(--jp-toolbar-box-shadow);\\n  background: var(--jp-toolbar-background);\\n  min-height: var(--jp-toolbar-micro-height);\\n  padding: var(--jp-notebook-toolbar-padding);\\n  z-index: 1;\\n  right: 0;\\n  top: 0;\\n}\\n\\n.jp-Toolbar > .jp-Toolbar-responsive-opener {\\n  margin-left: auto;\\n}\\n\\n/*-----------------------------------------------------------------------------\\n| Copyright (c) Jupyter Development Team.\\n| Distributed under the terms of the Modified BSD License.\\n|----------------------------------------------------------------------------*/\\n\\n/*-----------------------------------------------------------------------------\\n| Variables\\n|----------------------------------------------------------------------------*/\\n\\n/*-----------------------------------------------------------------------------\\n\\n/*-----------------------------------------------------------------------------\\n| Styles\\n|----------------------------------------------------------------------------*/\\n\\n.jp-Notebook-ExecutionIndicator {\\n  position: relative;\\n  display: inline-block;\\n  height: 100%;\\n  z-index: 9997;\\n}\\n\\n.jp-Notebook-ExecutionIndicator-tooltip {\\n  visibility: hidden;\\n  height: auto;\\n  width: max-content;\\n  width: -moz-max-content;\\n  background-color: var(--jp-layout-color2);\\n  color: var(--jp-ui-font-color1);\\n  text-align: justify;\\n  border-radius: 6px;\\n  padding: 0 5px;\\n  position: fixed;\\n  display: table;\\n}\\n\\n.jp-Notebook-ExecutionIndicator-tooltip.up {\\n  transform: translateX(-50%) translateY(-100%) translateY(-32px);\\n}\\n\\n.jp-Notebook-ExecutionIndicator-tooltip.down {\\n  transform: translateX(calc(-100% + 16px)) translateY(5px);\\n}\\n\\n.jp-Notebook-ExecutionIndicator-tooltip.hidden {\\n  display: none;\\n}\\n\\n.jp-Notebook-ExecutionIndicator:hover .jp-Notebook-ExecutionIndicator-tooltip {\\n  visibility: visible;\\n}\\n\\n.jp-Notebook-ExecutionIndicator span {\\n  font-size: var(--jp-ui-font-size1);\\n  font-family: var(--jp-ui-font-family);\\n  color: var(--jp-ui-font-color1);\\n  line-height: 24px;\\n  display: block;\\n}\\n\\n.jp-Notebook-ExecutionIndicator-progress-bar {\\n  display: flex;\\n  justify-content: center;\\n  height: 100%;\\n}\\n\\n/*\\n * Copyright (c) Jupyter Development Team.\\n * Distributed under the terms of the Modified BSD License.\\n */\\n\\n/*\\n * Execution indicator\\n */\\n.jp-tocItem-content::after {\\n  content: \\'\\';\\n\\n  /* Must be identical to form a circle */\\n  width: 12px;\\n  height: 12px;\\n  background: none;\\n  border: none;\\n  position: absolute;\\n  right: 0;\\n}\\n\\n.jp-tocItem-content[data-running=\\'0\\']::after {\\n  border-radius: 50%;\\n  border: var(--jp-border-width) solid var(--jp-inverse-layout-color3);\\n  background: none;\\n}\\n\\n.jp-tocItem-content[data-running=\\'1\\']::after {\\n  border-radius: 50%;\\n  border: var(--jp-border-width) solid var(--jp-inverse-layout-color3);\\n  background-color: var(--jp-inverse-layout-color3);\\n}\\n\\n.jp-tocItem-content[data-running=\\'0\\'],\\n.jp-tocItem-content[data-running=\\'1\\'] {\\n  margin-right: 12px;\\n}\\n\\n/*\\n * Copyright (c) Jupyter Development Team.\\n * Distributed under the terms of the Modified BSD License.\\n */\\n\\n.jp-Notebook-footer {\\n  height: 27px;\\n  margin-left: calc(\\n    var(--jp-cell-prompt-width) + var(--jp-cell-collapser-width) +\\n      var(--jp-cell-padding)\\n  );\\n  width: calc(\\n    100% -\\n      (\\n        var(--jp-cell-prompt-width) + var(--jp-cell-collapser-width) +\\n          var(--jp-cell-padding) + var(--jp-cell-padding)\\n      )\\n  );\\n  border: var(--jp-border-width) solid var(--jp-cell-editor-border-color);\\n  color: var(--jp-ui-font-color3);\\n  margin-top: 6px;\\n  background: none;\\n  cursor: pointer;\\n}\\n\\n.jp-Notebook-footer:focus {\\n  border-color: var(--jp-cell-editor-active-border-color);\\n}\\n\\n/* For devices that support hovering, hide footer until hover */\\n@media (hover: hover) {\\n  .jp-Notebook-footer {\\n    opacity: 0;\\n  }\\n\\n  .jp-Notebook-footer:focus,\\n  .jp-Notebook-footer:hover {\\n    opacity: 1;\\n  }\\n}\\n\\n/*-----------------------------------------------------------------------------\\n| Copyright (c) Jupyter Development Team.\\n| Distributed under the terms of the Modified BSD License.\\n|----------------------------------------------------------------------------*/\\n\\n/*-----------------------------------------------------------------------------\\n| Imports\\n|----------------------------------------------------------------------------*/\\n\\n/*-----------------------------------------------------------------------------\\n| CSS variables\\n|----------------------------------------------------------------------------*/\\n\\n:root {\\n  --jp-side-by-side-output-size: 1fr;\\n  --jp-side-by-side-resized-cell: var(--jp-side-by-side-output-size);\\n  --jp-private-notebook-dragImage-width: 304px;\\n  --jp-private-notebook-dragImage-height: 36px;\\n  --jp-private-notebook-selected-color: var(--md-blue-400);\\n  --jp-private-notebook-active-color: var(--md-green-400);\\n}\\n\\n/*-----------------------------------------------------------------------------\\n| Notebook\\n|----------------------------------------------------------------------------*/\\n\\n/* stylelint-disable selector-max-class */\\n\\n.jp-NotebookPanel {\\n  display: block;\\n  height: 100%;\\n}\\n\\n.jp-NotebookPanel.jp-Document {\\n  min-width: 240px;\\n  min-height: 120px;\\n}\\n\\n.jp-Notebook {\\n  padding: var(--jp-notebook-padding);\\n  outline: none;\\n  overflow: auto;\\n  background: var(--jp-layout-color0);\\n}\\n\\n.jp-Notebook.jp-mod-scrollPastEnd::after {\\n  display: block;\\n  content: \\'\\';\\n  min-height: var(--jp-notebook-scroll-padding);\\n}\\n\\n.jp-MainAreaWidget-ContainStrict .jp-Notebook * {\\n  contain: strict;\\n}\\n\\n.jp-Notebook .jp-Cell {\\n  overflow: visible;\\n}\\n\\n.jp-Notebook .jp-Cell .jp-InputPrompt {\\n  cursor: move;\\n}\\n\\n/*-----------------------------------------------------------------------------\\n| Notebook state related styling\\n|\\n| The notebook and cells each have states, here are the possibilities:\\n|\\n| - Notebook\\n|   - Command\\n|   - Edit\\n| - Cell\\n|   - None\\n|   - Active (only one can be active)\\n|   - Selected (the cells actions are applied to)\\n|   - Multiselected (when multiple selected, the cursor)\\n|   - No outputs\\n|----------------------------------------------------------------------------*/\\n\\n/* Command or edit modes */\\n\\n.jp-Notebook .jp-Cell:not(.jp-mod-active) .jp-InputPrompt {\\n  opacity: var(--jp-cell-prompt-not-active-opacity);\\n  color: var(--jp-cell-prompt-not-active-font-color);\\n}\\n\\n.jp-Notebook .jp-Cell:not(.jp-mod-active) .jp-OutputPrompt {\\n  opacity: var(--jp-cell-prompt-not-active-opacity);\\n  color: var(--jp-cell-prompt-not-active-font-color);\\n}\\n\\n/* cell is active */\\n.jp-Notebook .jp-Cell.jp-mod-active .jp-Collapser {\\n  background: var(--jp-brand-color1);\\n}\\n\\n/* cell is dirty */\\n.jp-Notebook .jp-Cell.jp-mod-dirty .jp-InputPrompt {\\n  color: var(--jp-warn-color1);\\n}\\n\\n.jp-Notebook .jp-Cell.jp-mod-dirty .jp-InputPrompt::before {\\n  color: var(--jp-warn-color1);\\n  content: \\'•\\';\\n}\\n\\n.jp-Notebook .jp-Cell.jp-mod-active.jp-mod-dirty .jp-Collapser {\\n  background: var(--jp-warn-color1);\\n}\\n\\n/* collapser is hovered */\\n.jp-Notebook .jp-Cell .jp-Collapser:hover {\\n  box-shadow: var(--jp-elevation-z2);\\n  background: var(--jp-brand-color1);\\n  opacity: var(--jp-cell-collapser-not-active-hover-opacity);\\n}\\n\\n/* cell is active and collapser is hovered */\\n.jp-Notebook .jp-Cell.jp-mod-active .jp-Collapser:hover {\\n  background: var(--jp-brand-color0);\\n  opacity: 1;\\n}\\n\\n/* Command mode */\\n\\n.jp-Notebook.jp-mod-commandMode .jp-Cell.jp-mod-selected {\\n  background: var(--jp-notebook-multiselected-color);\\n}\\n\\n.jp-Notebook.jp-mod-commandMode\\n  .jp-Cell.jp-mod-active.jp-mod-selected:not(.jp-mod-multiSelected) {\\n  background: transparent;\\n}\\n\\n/* Edit mode */\\n\\n.jp-Notebook.jp-mod-editMode .jp-Cell.jp-mod-active .jp-InputArea-editor {\\n  border: var(--jp-border-width) solid var(--jp-cell-editor-active-border-color);\\n  box-shadow: var(--jp-input-box-shadow);\\n  background-color: var(--jp-cell-editor-active-background);\\n}\\n\\n/*-----------------------------------------------------------------------------\\n| Notebook drag and drop\\n|----------------------------------------------------------------------------*/\\n\\n.jp-Notebook-cell.jp-mod-dropSource {\\n  opacity: 0.5;\\n}\\n\\n.jp-Notebook-cell.jp-mod-dropTarget,\\n.jp-Notebook.jp-mod-commandMode\\n  .jp-Notebook-cell.jp-mod-active.jp-mod-selected.jp-mod-dropTarget {\\n  border-top-color: var(--jp-private-notebook-selected-color);\\n  border-top-style: solid;\\n  border-top-width: 2px;\\n}\\n\\n.jp-dragImage {\\n  display: block;\\n  flex-direction: row;\\n  width: var(--jp-private-notebook-dragImage-width);\\n  height: var(--jp-private-notebook-dragImage-height);\\n  border: var(--jp-border-width) solid var(--jp-cell-editor-border-color);\\n  background: var(--jp-cell-editor-background);\\n  overflow: visible;\\n}\\n\\n.jp-dragImage-singlePrompt {\\n  box-shadow: 2px 2px 4px 0 rgba(0, 0, 0, 0.12);\\n}\\n\\n.jp-dragImage .jp-dragImage-content {\\n  flex: 1 1 auto;\\n  z-index: 2;\\n  font-size: var(--jp-code-font-size);\\n  font-family: var(--jp-code-font-family);\\n  line-height: var(--jp-code-line-height);\\n  padding: var(--jp-code-padding);\\n  border: var(--jp-border-width) solid var(--jp-cell-editor-border-color);\\n  background: var(--jp-cell-editor-background-color);\\n  color: var(--jp-content-font-color3);\\n  text-align: left;\\n  margin: 4px 4px 4px 0;\\n}\\n\\n.jp-dragImage .jp-dragImage-prompt {\\n  flex: 0 0 auto;\\n  min-width: 36px;\\n  color: var(--jp-cell-inprompt-font-color);\\n  padding: var(--jp-code-padding);\\n  padding-left: 12px;\\n  font-family: var(--jp-cell-prompt-font-family);\\n  letter-spacing: var(--jp-cell-prompt-letter-spacing);\\n  line-height: 1.9;\\n  font-size: var(--jp-code-font-size);\\n  border: var(--jp-border-width) solid transparent;\\n}\\n\\n.jp-dragImage-multipleBack {\\n  z-index: -1;\\n  position: absolute;\\n  height: 32px;\\n  width: 300px;\\n  top: 8px;\\n  left: 8px;\\n  background: var(--jp-layout-color2);\\n  border: var(--jp-border-width) solid var(--jp-input-border-color);\\n  box-shadow: 2px 2px 4px 0 rgba(0, 0, 0, 0.12);\\n}\\n\\n/*-----------------------------------------------------------------------------\\n| Cell toolbar\\n|----------------------------------------------------------------------------*/\\n\\n.jp-NotebookTools {\\n  display: block;\\n  min-width: var(--jp-sidebar-min-width);\\n  color: var(--jp-ui-font-color1);\\n  background: var(--jp-layout-color1);\\n\\n  /* This is needed so that all font sizing of children done in ems is\\n    * relative to this base size */\\n  font-size: var(--jp-ui-font-size1);\\n  overflow: auto;\\n}\\n\\n.jp-ActiveCellTool {\\n  padding: 12px 0;\\n  display: flex;\\n}\\n\\n.jp-ActiveCellTool-Content {\\n  flex: 1 1 auto;\\n}\\n\\n.jp-ActiveCellTool .jp-ActiveCellTool-CellContent {\\n  background: var(--jp-cell-editor-background);\\n  border: var(--jp-border-width) solid var(--jp-cell-editor-border-color);\\n  border-radius: 0;\\n  min-height: 29px;\\n}\\n\\n.jp-ActiveCellTool .jp-InputPrompt {\\n  min-width: calc(var(--jp-cell-prompt-width) * 0.75);\\n}\\n\\n.jp-ActiveCellTool-CellContent > pre {\\n  padding: 5px 4px;\\n  margin: 0;\\n  white-space: normal;\\n}\\n\\n.jp-MetadataEditorTool {\\n  flex-direction: column;\\n  padding: 12px 0;\\n}\\n\\n.jp-RankedPanel > :not(:first-child) {\\n  margin-top: 12px;\\n}\\n\\n.jp-KeySelector select.jp-mod-styled {\\n  font-size: var(--jp-ui-font-size1);\\n  color: var(--jp-ui-font-color0);\\n  border: var(--jp-border-width) solid var(--jp-border-color1);\\n}\\n\\n.jp-KeySelector label,\\n.jp-MetadataEditorTool label,\\n.jp-NumberSetter label {\\n  line-height: 1.4;\\n}\\n\\n.jp-NotebookTools .jp-select-wrapper {\\n  margin-top: 4px;\\n  margin-bottom: 0;\\n}\\n\\n.jp-NumberSetter input {\\n  width: 100%;\\n  margin-top: 4px;\\n}\\n\\n.jp-NotebookTools .jp-Collapse {\\n  margin-top: 16px;\\n}\\n\\n/*-----------------------------------------------------------------------------\\n| Presentation Mode (.jp-mod-presentationMode)\\n|----------------------------------------------------------------------------*/\\n\\n.jp-mod-presentationMode .jp-Notebook {\\n  --jp-content-font-size1: var(--jp-content-presentation-font-size1);\\n  --jp-code-font-size: var(--jp-code-presentation-font-size);\\n}\\n\\n.jp-mod-presentationMode .jp-Notebook .jp-Cell .jp-InputPrompt,\\n.jp-mod-presentationMode .jp-Notebook .jp-Cell .jp-OutputPrompt {\\n  flex: 0 0 110px;\\n}\\n\\n/*-----------------------------------------------------------------------------\\n| Side-by-side Mode (.jp-mod-sideBySide)\\n|----------------------------------------------------------------------------*/\\n.jp-mod-sideBySide.jp-Notebook .jp-Notebook-cell {\\n  margin-top: 3em;\\n  margin-bottom: 3em;\\n  margin-left: 5%;\\n  margin-right: 5%;\\n}\\n\\n.jp-mod-sideBySide.jp-Notebook .jp-CodeCell {\\n  display: grid;\\n  grid-template-columns: minmax(0, 1fr) min-content minmax(\\n      0,\\n      var(--jp-side-by-side-output-size)\\n    );\\n  grid-template-rows: auto minmax(0, 1fr) auto;\\n  grid-template-areas:\\n    \\'header header header\\'\\n    \\'input handle output\\'\\n    \\'footer footer footer\\';\\n}\\n\\n.jp-mod-sideBySide.jp-Notebook .jp-CodeCell.jp-mod-resizedCell {\\n  grid-template-columns: minmax(0, 1fr) min-content minmax(\\n      0,\\n      var(--jp-side-by-side-resized-cell)\\n    );\\n}\\n\\n.jp-mod-sideBySide.jp-Notebook .jp-CodeCell .jp-CellHeader {\\n  grid-area: header;\\n}\\n\\n.jp-mod-sideBySide.jp-Notebook .jp-CodeCell .jp-Cell-inputWrapper {\\n  grid-area: input;\\n}\\n\\n.jp-mod-sideBySide.jp-Notebook .jp-CodeCell .jp-Cell-outputWrapper {\\n  /* overwrite the default margin (no vertical separation needed in side by side move */\\n  margin-top: 0;\\n  grid-area: output;\\n}\\n\\n.jp-mod-sideBySide.jp-Notebook .jp-CodeCell .jp-CellFooter {\\n  grid-area: footer;\\n}\\n\\n.jp-mod-sideBySide.jp-Notebook .jp-CodeCell .jp-CellResizeHandle {\\n  grid-area: handle;\\n  user-select: none;\\n  display: block;\\n  height: 100%;\\n  cursor: ew-resize;\\n  padding: 0 var(--jp-cell-padding);\\n}\\n\\n.jp-mod-sideBySide.jp-Notebook .jp-CodeCell .jp-CellResizeHandle::after {\\n  content: \\'\\';\\n  display: block;\\n  background: var(--jp-border-color2);\\n  height: 100%;\\n  width: 5px;\\n}\\n\\n.jp-mod-sideBySide.jp-Notebook\\n  .jp-CodeCell.jp-mod-resizedCell\\n  .jp-CellResizeHandle::after {\\n  background: var(--jp-border-color0);\\n}\\n\\n.jp-CellResizeHandle {\\n  display: none;\\n}\\n\\n/*-----------------------------------------------------------------------------\\n| Placeholder\\n|----------------------------------------------------------------------------*/\\n\\n.jp-Cell-Placeholder {\\n  padding-left: 55px;\\n}\\n\\n.jp-Cell-Placeholder-wrapper {\\n  background: #fff;\\n  border: 1px solid;\\n  border-color: #e5e6e9 #dfe0e4 #d0d1d5;\\n  border-radius: 4px;\\n  -webkit-border-radius: 4px;\\n  margin: 10px 15px;\\n}\\n\\n.jp-Cell-Placeholder-wrapper-inner {\\n  padding: 15px;\\n  position: relative;\\n}\\n\\n.jp-Cell-Placeholder-wrapper-body {\\n  background-repeat: repeat;\\n  background-size: 50% auto;\\n}\\n\\n.jp-Cell-Placeholder-wrapper-body div {\\n  background: #f6f7f8;\\n  background-image: -webkit-linear-gradient(\\n    left,\\n    #f6f7f8 0%,\\n    #edeef1 20%,\\n    #f6f7f8 40%,\\n    #f6f7f8 100%\\n  );\\n  background-repeat: no-repeat;\\n  background-size: 800px 104px;\\n  height: 104px;\\n  position: absolute;\\n  right: 15px;\\n  left: 15px;\\n  top: 15px;\\n}\\n\\ndiv.jp-Cell-Placeholder-h1 {\\n  top: 20px;\\n  height: 20px;\\n  left: 15px;\\n  width: 150px;\\n}\\n\\ndiv.jp-Cell-Placeholder-h2 {\\n  left: 15px;\\n  top: 50px;\\n  height: 10px;\\n  width: 100px;\\n}\\n\\ndiv.jp-Cell-Placeholder-content-1,\\ndiv.jp-Cell-Placeholder-content-2,\\ndiv.jp-Cell-Placeholder-content-3 {\\n  left: 15px;\\n  right: 15px;\\n  height: 10px;\\n}\\n\\ndiv.jp-Cell-Placeholder-content-1 {\\n  top: 100px;\\n}\\n\\ndiv.jp-Cell-Placeholder-content-2 {\\n  top: 120px;\\n}\\n\\ndiv.jp-Cell-Placeholder-content-3 {\\n  top: 140px;\\n}\\n\\n</style>\\n<style type=\"text/css\">\\n/*-----------------------------------------------------------------------------\\n| Copyright (c) Jupyter Development Team.\\n| Distributed under the terms of the Modified BSD License.\\n|----------------------------------------------------------------------------*/\\n\\n/*\\nThe following CSS variables define the main, public API for styling JupyterLab.\\nThese variables should be used by all plugins wherever possible. In other\\nwords, plugins should not define custom colors, sizes, etc unless absolutely\\nnecessary. This enables users to change the visual theme of JupyterLab\\nby changing these variables.\\n\\nMany variables appear in an ordered sequence (0,1,2,3). These sequences\\nare designed to work well together, so for example, `--jp-border-color1` should\\nbe used with `--jp-layout-color1`. The numbers have the following meanings:\\n\\n* 0: super-primary, reserved for special emphasis\\n* 1: primary, most important under normal situations\\n* 2: secondary, next most important under normal situations\\n* 3: tertiary, next most important under normal situations\\n\\nThroughout JupyterLab, we are mostly following principles from Google\\'s\\nMaterial Design when selecting colors. We are not, however, following\\nall of MD as it is not optimized for dense, information rich UIs.\\n*/\\n\\n:root {\\n  /* Elevation\\n   *\\n   * We style box-shadows using Material Design\\'s idea of elevation. These particular numbers are taken from here:\\n   *\\n   * https://github.com/material-components/material-components-web\\n   * https://material-components-web.appspot.com/elevation.html\\n   */\\n\\n  --jp-shadow-base-lightness: 0;\\n  --jp-shadow-umbra-color: rgba(\\n    var(--jp-shadow-base-lightness),\\n    var(--jp-shadow-base-lightness),\\n    var(--jp-shadow-base-lightness),\\n    0.2\\n  );\\n  --jp-shadow-penumbra-color: rgba(\\n    var(--jp-shadow-base-lightness),\\n    var(--jp-shadow-base-lightness),\\n    var(--jp-shadow-base-lightness),\\n    0.14\\n  );\\n  --jp-shadow-ambient-color: rgba(\\n    var(--jp-shadow-base-lightness),\\n    var(--jp-shadow-base-lightness),\\n    var(--jp-shadow-base-lightness),\\n    0.12\\n  );\\n  --jp-elevation-z0: none;\\n  --jp-elevation-z1: 0 2px 1px -1px var(--jp-shadow-umbra-color),\\n    0 1px 1px 0 var(--jp-shadow-penumbra-color),\\n    0 1px 3px 0 var(--jp-shadow-ambient-color);\\n  --jp-elevation-z2: 0 3px 1px -2px var(--jp-shadow-umbra-color),\\n    0 2px 2px 0 var(--jp-shadow-penumbra-color),\\n    0 1px 5px 0 var(--jp-shadow-ambient-color);\\n  --jp-elevation-z4: 0 2px 4px -1px var(--jp-shadow-umbra-color),\\n    0 4px 5px 0 var(--jp-shadow-penumbra-color),\\n    0 1px 10px 0 var(--jp-shadow-ambient-color);\\n  --jp-elevation-z6: 0 3px 5px -1px var(--jp-shadow-umbra-color),\\n    0 6px 10px 0 var(--jp-shadow-penumbra-color),\\n    0 1px 18px 0 var(--jp-shadow-ambient-color);\\n  --jp-elevation-z8: 0 5px 5px -3px var(--jp-shadow-umbra-color),\\n    0 8px 10px 1px var(--jp-shadow-penumbra-color),\\n    0 3px 14px 2px var(--jp-shadow-ambient-color);\\n  --jp-elevation-z12: 0 7px 8px -4px var(--jp-shadow-umbra-color),\\n    0 12px 17px 2px var(--jp-shadow-penumbra-color),\\n    0 5px 22px 4px var(--jp-shadow-ambient-color);\\n  --jp-elevation-z16: 0 8px 10px -5px var(--jp-shadow-umbra-color),\\n    0 16px 24px 2px var(--jp-shadow-penumbra-color),\\n    0 6px 30px 5px var(--jp-shadow-ambient-color);\\n  --jp-elevation-z20: 0 10px 13px -6px var(--jp-shadow-umbra-color),\\n    0 20px 31px 3px var(--jp-shadow-penumbra-color),\\n    0 8px 38px 7px var(--jp-shadow-ambient-color);\\n  --jp-elevation-z24: 0 11px 15px -7px var(--jp-shadow-umbra-color),\\n    0 24px 38px 3px var(--jp-shadow-penumbra-color),\\n    0 9px 46px 8px var(--jp-shadow-ambient-color);\\n\\n  /* Borders\\n   *\\n   * The following variables, specify the visual styling of borders in JupyterLab.\\n   */\\n\\n  --jp-border-width: 1px;\\n  --jp-border-color0: var(--md-grey-400);\\n  --jp-border-color1: var(--md-grey-400);\\n  --jp-border-color2: var(--md-grey-300);\\n  --jp-border-color3: var(--md-grey-200);\\n  --jp-inverse-border-color: var(--md-grey-600);\\n  --jp-border-radius: 2px;\\n\\n  /* UI Fonts\\n   *\\n   * The UI font CSS variables are used for the typography all of the JupyterLab\\n   * user interface elements that are not directly user generated content.\\n   *\\n   * The font sizing here is done assuming that the body font size of --jp-ui-font-size1\\n   * is applied to a parent element. When children elements, such as headings, are sized\\n   * in em all things will be computed relative to that body size.\\n   */\\n\\n  --jp-ui-font-scale-factor: 1.2;\\n  --jp-ui-font-size0: 0.83333em;\\n  --jp-ui-font-size1: 13px; /* Base font size */\\n  --jp-ui-font-size2: 1.2em;\\n  --jp-ui-font-size3: 1.44em;\\n  --jp-ui-font-family: system-ui, -apple-system, blinkmacsystemfont, \\'Segoe UI\\',\\n    helvetica, arial, sans-serif, \\'Apple Color Emoji\\', \\'Segoe UI Emoji\\',\\n    \\'Segoe UI Symbol\\';\\n\\n  /*\\n   * Use these font colors against the corresponding main layout colors.\\n   * In a light theme, these go from dark to light.\\n   */\\n\\n  /* Defaults use Material Design specification */\\n  --jp-ui-font-color0: rgba(0, 0, 0, 1);\\n  --jp-ui-font-color1: rgba(0, 0, 0, 0.87);\\n  --jp-ui-font-color2: rgba(0, 0, 0, 0.54);\\n  --jp-ui-font-color3: rgba(0, 0, 0, 0.38);\\n\\n  /*\\n   * Use these against the brand/accent/warn/error colors.\\n   * These will typically go from light to darker, in both a dark and light theme.\\n   */\\n\\n  --jp-ui-inverse-font-color0: rgba(255, 255, 255, 1);\\n  --jp-ui-inverse-font-color1: rgba(255, 255, 255, 1);\\n  --jp-ui-inverse-font-color2: rgba(255, 255, 255, 0.7);\\n  --jp-ui-inverse-font-color3: rgba(255, 255, 255, 0.5);\\n\\n  /* Content Fonts\\n   *\\n   * Content font variables are used for typography of user generated content.\\n   *\\n   * The font sizing here is done assuming that the body font size of --jp-content-font-size1\\n   * is applied to a parent element. When children elements, such as headings, are sized\\n   * in em all things will be computed relative to that body size.\\n   */\\n\\n  --jp-content-line-height: 1.6;\\n  --jp-content-font-scale-factor: 1.2;\\n  --jp-content-font-size0: 0.83333em;\\n  --jp-content-font-size1: 14px; /* Base font size */\\n  --jp-content-font-size2: 1.2em;\\n  --jp-content-font-size3: 1.44em;\\n  --jp-content-font-size4: 1.728em;\\n  --jp-content-font-size5: 2.0736em;\\n\\n  /* This gives a magnification of about 125% in presentation mode over normal. */\\n  --jp-content-presentation-font-size1: 17px;\\n  --jp-content-heading-line-height: 1;\\n  --jp-content-heading-margin-top: 1.2em;\\n  --jp-content-heading-margin-bottom: 0.8em;\\n  --jp-content-heading-font-weight: 500;\\n\\n  /* Defaults use Material Design specification */\\n  --jp-content-font-color0: rgba(0, 0, 0, 1);\\n  --jp-content-font-color1: rgba(0, 0, 0, 0.87);\\n  --jp-content-font-color2: rgba(0, 0, 0, 0.54);\\n  --jp-content-font-color3: rgba(0, 0, 0, 0.38);\\n  --jp-content-link-color: var(--md-blue-900);\\n  --jp-content-font-family: system-ui, -apple-system, blinkmacsystemfont,\\n    \\'Segoe UI\\', helvetica, arial, sans-serif, \\'Apple Color Emoji\\',\\n    \\'Segoe UI Emoji\\', \\'Segoe UI Symbol\\';\\n\\n  /*\\n   * Code Fonts\\n   *\\n   * Code font variables are used for typography of code and other monospaces content.\\n   */\\n\\n  --jp-code-font-size: 13px;\\n  --jp-code-line-height: 1.3077; /* 17px for 13px base */\\n  --jp-code-padding: 5px; /* 5px for 13px base, codemirror highlighting needs integer px value */\\n  --jp-code-font-family-default: menlo, consolas, \\'DejaVu Sans Mono\\', monospace;\\n  --jp-code-font-family: var(--jp-code-font-family-default);\\n\\n  /* This gives a magnification of about 125% in presentation mode over normal. */\\n  --jp-code-presentation-font-size: 16px;\\n\\n  /* may need to tweak cursor width if you change font size */\\n  --jp-code-cursor-width0: 1.4px;\\n  --jp-code-cursor-width1: 2px;\\n  --jp-code-cursor-width2: 4px;\\n\\n  /* Layout\\n   *\\n   * The following are the main layout colors use in JupyterLab. In a light\\n   * theme these would go from light to dark.\\n   */\\n\\n  --jp-layout-color0: white;\\n  --jp-layout-color1: white;\\n  --jp-layout-color2: var(--md-grey-200);\\n  --jp-layout-color3: var(--md-grey-400);\\n  --jp-layout-color4: var(--md-grey-600);\\n\\n  /* Inverse Layout\\n   *\\n   * The following are the inverse layout colors use in JupyterLab. In a light\\n   * theme these would go from dark to light.\\n   */\\n\\n  --jp-inverse-layout-color0: #111;\\n  --jp-inverse-layout-color1: var(--md-grey-900);\\n  --jp-inverse-layout-color2: var(--md-grey-800);\\n  --jp-inverse-layout-color3: var(--md-grey-700);\\n  --jp-inverse-layout-color4: var(--md-grey-600);\\n\\n  /* Brand/accent */\\n\\n  --jp-brand-color0: var(--md-blue-900);\\n  --jp-brand-color1: var(--md-blue-700);\\n  --jp-brand-color2: var(--md-blue-300);\\n  --jp-brand-color3: var(--md-blue-100);\\n  --jp-brand-color4: var(--md-blue-50);\\n  --jp-accent-color0: var(--md-green-900);\\n  --jp-accent-color1: var(--md-green-700);\\n  --jp-accent-color2: var(--md-green-300);\\n  --jp-accent-color3: var(--md-green-100);\\n\\n  /* State colors (warn, error, success, info) */\\n\\n  --jp-warn-color0: var(--md-orange-900);\\n  --jp-warn-color1: var(--md-orange-700);\\n  --jp-warn-color2: var(--md-orange-300);\\n  --jp-warn-color3: var(--md-orange-100);\\n  --jp-error-color0: var(--md-red-900);\\n  --jp-error-color1: var(--md-red-700);\\n  --jp-error-color2: var(--md-red-300);\\n  --jp-error-color3: var(--md-red-100);\\n  --jp-success-color0: var(--md-green-900);\\n  --jp-success-color1: var(--md-green-700);\\n  --jp-success-color2: var(--md-green-300);\\n  --jp-success-color3: var(--md-green-100);\\n  --jp-info-color0: var(--md-cyan-900);\\n  --jp-info-color1: var(--md-cyan-700);\\n  --jp-info-color2: var(--md-cyan-300);\\n  --jp-info-color3: var(--md-cyan-100);\\n\\n  /* Cell specific styles */\\n\\n  --jp-cell-padding: 5px;\\n  --jp-cell-collapser-width: 8px;\\n  --jp-cell-collapser-min-height: 20px;\\n  --jp-cell-collapser-not-active-hover-opacity: 0.6;\\n  --jp-cell-editor-background: var(--md-grey-100);\\n  --jp-cell-editor-border-color: var(--md-grey-300);\\n  --jp-cell-editor-box-shadow: inset 0 0 2px var(--md-blue-300);\\n  --jp-cell-editor-active-background: var(--jp-layout-color0);\\n  --jp-cell-editor-active-border-color: var(--jp-brand-color1);\\n  --jp-cell-prompt-width: 64px;\\n  --jp-cell-prompt-font-family: var(--jp-code-font-family-default);\\n  --jp-cell-prompt-letter-spacing: 0;\\n  --jp-cell-prompt-opacity: 1;\\n  --jp-cell-prompt-not-active-opacity: 0.5;\\n  --jp-cell-prompt-not-active-font-color: var(--md-grey-700);\\n\\n  /* A custom blend of MD grey and blue 600\\n   * See https://meyerweb.com/eric/tools/color-blend/#546E7A:1E88E5:5:hex */\\n  --jp-cell-inprompt-font-color: #307fc1;\\n\\n  /* A custom blend of MD grey and orange 600\\n   * https://meyerweb.com/eric/tools/color-blend/#546E7A:F4511E:5:hex */\\n  --jp-cell-outprompt-font-color: #bf5b3d;\\n\\n  /* Notebook specific styles */\\n\\n  --jp-notebook-padding: 10px;\\n  --jp-notebook-select-background: var(--jp-layout-color1);\\n  --jp-notebook-multiselected-color: var(--md-blue-50);\\n\\n  /* The scroll padding is calculated to fill enough space at the bottom of the\\n  notebook to show one single-line cell (with appropriate padding) at the top\\n  when the notebook is scrolled all the way to the bottom. We also subtract one\\n  pixel so that no scrollbar appears if we have just one single-line cell in the\\n  notebook. This padding is to enable a \\'scroll past end\\' feature in a notebook.\\n  */\\n  --jp-notebook-scroll-padding: calc(\\n    100% - var(--jp-code-font-size) * var(--jp-code-line-height) -\\n      var(--jp-code-padding) - var(--jp-cell-padding) - 1px\\n  );\\n\\n  /* Rendermime styles */\\n\\n  --jp-rendermime-error-background: #fdd;\\n  --jp-rendermime-table-row-background: var(--md-grey-100);\\n  --jp-rendermime-table-row-hover-background: var(--md-light-blue-50);\\n\\n  /* Dialog specific styles */\\n\\n  --jp-dialog-background: rgba(0, 0, 0, 0.25);\\n\\n  /* Console specific styles */\\n\\n  --jp-console-padding: 10px;\\n\\n  /* Toolbar specific styles */\\n\\n  --jp-toolbar-border-color: var(--jp-border-color1);\\n  --jp-toolbar-micro-height: 8px;\\n  --jp-toolbar-background: var(--jp-layout-color1);\\n  --jp-toolbar-box-shadow: 0 0 2px 0 rgba(0, 0, 0, 0.24);\\n  --jp-toolbar-header-margin: 4px 4px 0 4px;\\n  --jp-toolbar-active-background: var(--md-grey-300);\\n\\n  /* Statusbar specific styles */\\n\\n  --jp-statusbar-height: 24px;\\n\\n  /* Input field styles */\\n\\n  --jp-input-box-shadow: inset 0 0 2px var(--md-blue-300);\\n  --jp-input-active-background: var(--jp-layout-color1);\\n  --jp-input-hover-background: var(--jp-layout-color1);\\n  --jp-input-background: var(--md-grey-100);\\n  --jp-input-border-color: var(--jp-inverse-border-color);\\n  --jp-input-active-border-color: var(--jp-brand-color1);\\n  --jp-input-active-box-shadow-color: rgba(19, 124, 189, 0.3);\\n\\n  /* General editor styles */\\n\\n  --jp-editor-selected-background: #d9d9d9;\\n  --jp-editor-selected-focused-background: #d7d4f0;\\n  --jp-editor-cursor-color: var(--jp-ui-font-color0);\\n\\n  /* Code mirror specific styles */\\n\\n  --jp-mirror-editor-keyword-color: #008000;\\n  --jp-mirror-editor-atom-color: #88f;\\n  --jp-mirror-editor-number-color: #080;\\n  --jp-mirror-editor-def-color: #00f;\\n  --jp-mirror-editor-variable-color: var(--md-grey-900);\\n  --jp-mirror-editor-variable-2-color: rgb(0, 54, 109);\\n  --jp-mirror-editor-variable-3-color: #085;\\n  --jp-mirror-editor-punctuation-color: #05a;\\n  --jp-mirror-editor-property-color: #05a;\\n  --jp-mirror-editor-operator-color: #a2f;\\n  --jp-mirror-editor-comment-color: #408080;\\n  --jp-mirror-editor-string-color: #ba2121;\\n  --jp-mirror-editor-string-2-color: #708;\\n  --jp-mirror-editor-meta-color: #a2f;\\n  --jp-mirror-editor-qualifier-color: #555;\\n  --jp-mirror-editor-builtin-color: #008000;\\n  --jp-mirror-editor-bracket-color: #997;\\n  --jp-mirror-editor-tag-color: #170;\\n  --jp-mirror-editor-attribute-color: #00c;\\n  --jp-mirror-editor-header-color: blue;\\n  --jp-mirror-editor-quote-color: #090;\\n  --jp-mirror-editor-link-color: #00c;\\n  --jp-mirror-editor-error-color: #f00;\\n  --jp-mirror-editor-hr-color: #999;\\n\\n  /*\\n    RTC user specific colors.\\n    These colors are used for the cursor, username in the editor,\\n    and the icon of the user.\\n  */\\n\\n  --jp-collaborator-color1: #ffad8e;\\n  --jp-collaborator-color2: #dac83d;\\n  --jp-collaborator-color3: #72dd76;\\n  --jp-collaborator-color4: #00e4d0;\\n  --jp-collaborator-color5: #45d4ff;\\n  --jp-collaborator-color6: #e2b1ff;\\n  --jp-collaborator-color7: #ff9de6;\\n\\n  /* Vega extension styles */\\n\\n  --jp-vega-background: white;\\n\\n  /* Sidebar-related styles */\\n\\n  --jp-sidebar-min-width: 250px;\\n\\n  /* Search-related styles */\\n\\n  --jp-search-toggle-off-opacity: 0.5;\\n  --jp-search-toggle-hover-opacity: 0.8;\\n  --jp-search-toggle-on-opacity: 1;\\n  --jp-search-selected-match-background-color: rgb(245, 200, 0);\\n  --jp-search-selected-match-color: black;\\n  --jp-search-unselected-match-background-color: var(\\n    --jp-inverse-layout-color0\\n  );\\n  --jp-search-unselected-match-color: var(--jp-ui-inverse-font-color0);\\n\\n  /* Icon colors that work well with light or dark backgrounds */\\n  --jp-icon-contrast-color0: var(--md-purple-600);\\n  --jp-icon-contrast-color1: var(--md-green-600);\\n  --jp-icon-contrast-color2: var(--md-pink-600);\\n  --jp-icon-contrast-color3: var(--md-blue-600);\\n\\n  /* Button colors */\\n  --jp-accept-color-normal: var(--md-blue-700);\\n  --jp-accept-color-hover: var(--md-blue-800);\\n  --jp-accept-color-active: var(--md-blue-900);\\n  --jp-warn-color-normal: var(--md-red-700);\\n  --jp-warn-color-hover: var(--md-red-800);\\n  --jp-warn-color-active: var(--md-red-900);\\n  --jp-reject-color-normal: var(--md-grey-600);\\n  --jp-reject-color-hover: var(--md-grey-700);\\n  --jp-reject-color-active: var(--md-grey-800);\\n\\n  /* File or activity icons and switch semantic variables */\\n  --jp-jupyter-icon-color: #f37626;\\n  --jp-notebook-icon-color: #f37626;\\n  --jp-json-icon-color: var(--md-orange-700);\\n  --jp-console-icon-background-color: var(--md-blue-700);\\n  --jp-console-icon-color: white;\\n  --jp-terminal-icon-background-color: var(--md-grey-800);\\n  --jp-terminal-icon-color: var(--md-grey-200);\\n  --jp-text-editor-icon-color: var(--md-grey-700);\\n  --jp-inspector-icon-color: var(--md-grey-700);\\n  --jp-switch-color: var(--md-grey-400);\\n  --jp-switch-true-position-color: var(--md-orange-900);\\n}\\n</style>\\n<style type=\"text/css\">\\n/* Force rendering true colors when outputing to pdf */\\n* {\\n  -webkit-print-color-adjust: exact;\\n}\\n\\n/* Misc */\\na.anchor-link {\\n  display: none;\\n}\\n\\n/* Input area styling */\\n.jp-InputArea {\\n  overflow: hidden;\\n}\\n\\n.jp-InputArea-editor {\\n  overflow: hidden;\\n}\\n\\n.cm-editor.cm-s-jupyter .highlight pre {\\n/* weird, but --jp-code-padding defined to be 5px but 4px horizontal padding is hardcoded for pre.cm-line */\\n  padding: var(--jp-code-padding) 4px;\\n  margin: 0;\\n\\n  font-family: inherit;\\n  font-size: inherit;\\n  line-height: inherit;\\n  color: inherit;\\n\\n}\\n\\n.jp-OutputArea-output pre {\\n  line-height: inherit;\\n  font-family: inherit;\\n}\\n\\n.jp-RenderedText pre {\\n  color: var(--jp-content-font-color1);\\n  font-size: var(--jp-code-font-size);\\n}\\n\\n/* Hiding the collapser by default */\\n.jp-Collapser {\\n  display: none;\\n}\\n\\n@page {\\n    margin: 0.5in; /* Margin for each printed piece of paper */\\n}\\n\\n@media print {\\n  .jp-Cell-inputWrapper,\\n  .jp-Cell-outputWrapper {\\n    display: block;\\n  }\\n}\\n</style>\\n<!-- Load mathjax -->\\n<script src=\"https://cdnjs.cloudflare.com/ajax/libs/mathjax/2.7.7/latest.js?config=TeX-AMS_CHTML-full,Safe\"> </script>\\n<!-- MathJax configuration -->\\n<script type=\"text/x-mathjax-config\">\\n    init_mathjax = function() {\\n        if (window.MathJax) {\\n        // MathJax loaded\\n            MathJax.Hub.Config({\\n                TeX: {\\n                    equationNumbers: {\\n                    autoNumber: \"AMS\",\\n                    useLabelIds: true\\n                    }\\n                },\\n                tex2jax: {\\n                    inlineMath: [ [\\'$\\',\\'$\\'], [\"\\\\\\\\(\",\"\\\\\\\\)\"] ],\\n                    displayMath: [ [\\'$$\\',\\'$$\\'], [\"\\\\\\\\[\",\"\\\\\\\\]\"] ],\\n                    processEscapes: true,\\n                    processEnvironments: true\\n                },\\n                displayAlign: \\'center\\',\\n                CommonHTML: {\\n                    linebreaks: {\\n                    automatic: true\\n                    }\\n                }\\n            });\\n\\n            MathJax.Hub.Queue([\"Typeset\", MathJax.Hub]);\\n        }\\n    }\\n    init_mathjax();\\n    </script>\\n<!-- End of mathjax configuration --><script type=\"module\">\\n  document.addEventListener(\"DOMContentLoaded\", async () => {\\n    const diagrams = document.querySelectorAll(\".jp-Mermaid > pre.mermaid\");\\n    // do not load mermaidjs if not needed\\n    if (!diagrams.length) {\\n      return;\\n    }\\n    const mermaid = (await import(\"https://cdnjs.cloudflare.com/ajax/libs/mermaid/10.7.0/mermaid.esm.min.mjs\")).default;\\n    const parser = new DOMParser();\\n\\n    mermaid.initialize({\\n      maxTextSize: 100000,\\n      maxEdges: 100000,\\n      startOnLoad: false,\\n      fontFamily: window\\n        .getComputedStyle(document.body)\\n        .getPropertyValue(\"--jp-ui-font-family\"),\\n      theme: document.querySelector(\"body[data-jp-theme-light=\\'true\\']\")\\n        ? \"default\"\\n        : \"dark\",\\n    });\\n\\n    let _nextMermaidId = 0;\\n\\n    function makeMermaidImage(svg) {\\n      const img = document.createElement(\"img\");\\n      const doc = parser.parseFromString(svg, \"image/svg+xml\");\\n      const svgEl = doc.querySelector(\"svg\");\\n      const { maxWidth } = svgEl?.style || {};\\n      const firstTitle = doc.querySelector(\"title\");\\n      const firstDesc = doc.querySelector(\"desc\");\\n\\n      img.setAttribute(\"src\", `data:image/svg+xml,${encodeURIComponent(svg)}`);\\n      if (maxWidth) {\\n        img.width = parseInt(maxWidth);\\n      }\\n      if (firstTitle) {\\n        img.setAttribute(\"alt\", firstTitle.textContent);\\n      }\\n      if (firstDesc) {\\n        const caption = document.createElement(\"figcaption\");\\n        caption.className = \"sr-only\";\\n        caption.textContent = firstDesc.textContent;\\n        return [img, caption];\\n      }\\n      return [img];\\n    }\\n\\n    async function makeMermaidError(text) {\\n      let errorMessage = \"\";\\n      try {\\n        await mermaid.parse(text);\\n      } catch (err) {\\n        errorMessage = `${err}`;\\n      }\\n\\n      const result = document.createElement(\"details\");\\n      result.className = \\'jp-RenderedMermaid-Details\\';\\n      const summary = document.createElement(\"summary\");\\n      summary.className = \\'jp-RenderedMermaid-Summary\\';\\n      const pre = document.createElement(\"pre\");\\n      const code = document.createElement(\"code\");\\n      code.innerText = text;\\n      pre.appendChild(code);\\n      summary.appendChild(pre);\\n      result.appendChild(summary);\\n\\n      const warning = document.createElement(\"pre\");\\n      warning.innerText = errorMessage;\\n      result.appendChild(warning);\\n      return [result];\\n    }\\n\\n    async function renderOneMarmaid(src) {\\n      const id = `jp-mermaid-${_nextMermaidId++}`;\\n      const parent = src.parentNode;\\n      let raw = src.textContent.trim();\\n      const el = document.createElement(\"div\");\\n      el.style.visibility = \"hidden\";\\n      document.body.appendChild(el);\\n      let results = null;\\n      let output = null;\\n      try {\\n        let { svg } = await mermaid.render(id, raw, el);\\n        svg = cleanMermaidSvg(svg);\\n        results = makeMermaidImage(svg);\\n        output = document.createElement(\"figure\");\\n        results.map(output.appendChild, output);\\n      } catch (err) {\\n        parent.classList.add(\"jp-mod-warning\");\\n        results = await makeMermaidError(raw);\\n        output = results[0];\\n      } finally {\\n        el.remove();\\n      }\\n      parent.classList.add(\"jp-RenderedMermaid\");\\n      parent.appendChild(output);\\n    }\\n\\n\\n    /**\\n     * Post-process to ensure mermaid diagrams contain only valid SVG and XHTML.\\n     */\\n    function cleanMermaidSvg(svg) {\\n      return svg.replace(RE_VOID_ELEMENT, replaceVoidElement);\\n    }\\n\\n\\n    /**\\n     * A regular expression for all void elements, which may include attributes and\\n     * a slash.\\n     *\\n     * @see https://developer.mozilla.org/en-US/docs/Glossary/Void_element\\n     *\\n     * Of these, only `<br>` is generated by Mermaid in place of `\\\\n`,\\n     * but _any_ \"malformed\" tag will break the SVG rendering entirely.\\n     */\\n    const RE_VOID_ELEMENT =\\n      /<\\\\s*(area|base|br|col|embed|hr|img|input|link|meta|param|source|track|wbr)\\\\s*([^>]*?)\\\\s*>/gi;\\n\\n    /**\\n     * Ensure a void element is closed with a slash, preserving any attributes.\\n     */\\n    function replaceVoidElement(match, tag, rest) {\\n      rest = rest.trim();\\n      if (!rest.endsWith(\\'/\\')) {\\n        rest = `${rest} /`;\\n      }\\n      return `<${tag} ${rest}>`;\\n    }\\n\\n    void Promise.all([...diagrams].map(renderOneMarmaid));\\n  });\\n</script>\\n<style>\\n  .jp-Mermaid:not(.jp-RenderedMermaid) {\\n    display: none;\\n  }\\n\\n  .jp-RenderedMermaid {\\n    overflow: auto;\\n    display: flex;\\n  }\\n\\n  .jp-RenderedMermaid.jp-mod-warning {\\n    width: auto;\\n    padding: 0.5em;\\n    margin-top: 0.5em;\\n    border: var(--jp-border-width) solid var(--jp-warn-color2);\\n    border-radius: var(--jp-border-radius);\\n    color: var(--jp-ui-font-color1);\\n    font-size: var(--jp-ui-font-size1);\\n    white-space: pre-wrap;\\n    word-wrap: break-word;\\n  }\\n\\n  .jp-RenderedMermaid figure {\\n    margin: 0;\\n    overflow: auto;\\n    max-width: 100%;\\n  }\\n\\n  .jp-RenderedMermaid img {\\n    max-width: 100%;\\n  }\\n\\n  .jp-RenderedMermaid-Details > pre {\\n    margin-top: 1em;\\n  }\\n\\n  .jp-RenderedMermaid-Summary {\\n    color: var(--jp-warn-color2);\\n  }\\n\\n  .jp-RenderedMermaid:not(.jp-mod-warning) pre {\\n    display: none;\\n  }\\n\\n  .jp-RenderedMermaid-Summary > pre {\\n    display: inline-block;\\n    white-space: normal;\\n  }\\n</style>\\n<!-- End of mermaid configuration --></head>\\n<body class=\"jp-Notebook\" data-jp-theme-light=\"true\" data-jp-theme-name=\"JupyterLab Light\">\\n<main>\\n<div class=\"jp-Cell jp-MarkdownCell jp-Notebook-cell\">\\n<div class=\"jp-Cell-inputWrapper\" tabindex=\"0\">\\n<div class=\"jp-Collapser jp-InputCollapser jp-Cell-inputCollapser\">\\n</div>\\n<div class=\"jp-InputArea jp-Cell-inputArea\"><div class=\"jp-InputPrompt jp-InputArea-prompt\">\\n</div><div class=\"jp-RenderedHTMLCommon jp-RenderedMarkdown jp-MarkdownOutput\" data-mime-type=\"text/markdown\">\\n<h1 id=\"Weather-App-%7C-Development-Notebook\">Weather App | Development Notebook<a class=\"anchor-link\" href=\"#Weather-App-%7C-Development-Notebook\">¶</a></h1>\\n</div>\\n</div>\\n</div>\\n</div><div class=\"jp-Cell jp-CodeCell jp-Notebook-cell jp-mod-noOutputs\">\\n<div class=\"jp-Cell-inputWrapper\" tabindex=\"0\">\\n<div class=\"jp-Collapser jp-InputCollapser jp-Cell-inputCollapser\">\\n</div>\\n<div class=\"jp-InputArea jp-Cell-inputArea\">\\n<div class=\"jp-InputPrompt jp-InputArea-prompt\">In\\xa0[1]:</div>\\n<div class=\"jp-CodeMirrorEditor jp-Editor jp-InputArea-editor\" data-type=\"inline\">\\n<div class=\"cm-editor cm-s-jupyter\">\\n<div class=\"highlight hl-ipython3\"><pre><span></span><span class=\"kn\">import</span> <span class=\"nn\">os</span>\\n<span class=\"kn\">import</span> <span class=\"nn\">pandas</span> <span class=\"k\">as</span> <span class=\"nn\">pd</span>\\n<span class=\"kn\">import</span> <span class=\"nn\">numpy</span> <span class=\"k\">as</span> <span class=\"nn\">np</span>\\n<span class=\"kn\">from</span> <span class=\"nn\">dotenv</span> <span class=\"kn\">import</span> <span class=\"n\">load_dotenv</span>\\n<span class=\"n\">load_dotenv</span><span class=\"p\">()</span>\\n<span class=\"kn\">import</span> <span class=\"nn\">openai</span>\\n<span class=\"kn\">import</span> <span class=\"nn\">asyncio</span>\\n<span class=\"kn\">import</span> <span class=\"nn\">nest_asyncio</span>\\n<span class=\"kn\">from</span> <span class=\"nn\">PIL</span> <span class=\"kn\">import</span> <span class=\"n\">Image</span> <span class=\"k\">as</span> <span class=\"n\">PILImage</span>\\n<span class=\"kn\">from</span> <span class=\"nn\">IPython.display</span> <span class=\"kn\">import</span> <span class=\"n\">Markdown</span><span class=\"p\">,</span> <span class=\"n\">display</span><span class=\"p\">,</span> <span class=\"n\">Image</span><span class=\"p\">,</span> <span class=\"n\">HTML</span>\\n\\n<span class=\"n\">os</span><span class=\"o\">.</span><span class=\"n\">chdir</span><span class=\"p\">(</span><span class=\"n\">os</span><span class=\"o\">.</span><span class=\"n\">path</span><span class=\"o\">.</span><span class=\"n\">dirname</span><span class=\"p\">(</span><span class=\"n\">os</span><span class=\"o\">.</span><span class=\"n\">getcwd</span><span class=\"p\">()))</span>\\n</pre></div>\\n</div>\\n</div>\\n</div>\\n</div>\\n</div><div class=\"jp-Cell jp-CodeCell jp-Notebook-cell jp-mod-noOutputs\">\\n<div class=\"jp-Cell-inputWrapper\" tabindex=\"0\">\\n<div class=\"jp-Collapser jp-InputCollapser jp-Cell-inputCollapser\">\\n</div>\\n<div class=\"jp-InputArea jp-Cell-inputArea\">\\n<div class=\"jp-InputPrompt jp-InputArea-prompt\">In\\xa0[2]:</div>\\n<div class=\"jp-CodeMirrorEditor jp-Editor jp-InputArea-editor\" data-type=\"inline\">\\n<div class=\"cm-editor cm-s-jupyter\">\\n<div class=\"highlight hl-ipython3\"><pre><span></span><span class=\"kn\">from</span> <span class=\"nn\">typing</span> <span class=\"kn\">import</span> <span class=\"n\">List</span><span class=\"p\">,</span> <span class=\"n\">Dict</span><span class=\"p\">,</span> <span class=\"n\">Any</span>\\n<span class=\"kn\">import</span> <span class=\"nn\">uuid</span>\\n<span class=\"kn\">from</span> <span class=\"nn\">urllib.parse</span> <span class=\"kn\">import</span> <span class=\"n\">urlparse</span>\\n<span class=\"kn\">import</span> <span class=\"nn\">base64</span>\\n<span class=\"kn\">import</span> <span class=\"nn\">lancedb</span>\\n<span class=\"kn\">import</span> <span class=\"nn\">requests</span>\\n</pre></div>\\n</div>\\n</div>\\n</div>\\n</div>\\n</div><div class=\"jp-Cell jp-CodeCell jp-Notebook-cell jp-mod-noOutputs\">\\n<div class=\"jp-Cell-inputWrapper\" tabindex=\"0\">\\n<div class=\"jp-Collapser jp-InputCollapser jp-Cell-inputCollapser\">\\n</div>\\n<div class=\"jp-InputArea jp-Cell-inputArea\">\\n<div class=\"jp-InputPrompt jp-InputArea-prompt\">In\\xa0[45]:</div>\\n<div class=\"jp-CodeMirrorEditor jp-Editor jp-InputArea-editor\" data-type=\"inline\">\\n<div class=\"cm-editor cm-s-jupyter\">\\n<div class=\"highlight hl-ipython3\"><pre><span></span><span class=\"kn\">from</span> <span class=\"nn\">duckduckgo_search</span> <span class=\"kn\">import</span> <span class=\"n\">DDGS</span>\\n</pre></div>\\n</div>\\n</div>\\n</div>\\n</div>\\n</div><div class=\"jp-Cell jp-CodeCell jp-Notebook-cell jp-mod-noOutputs\">\\n<div class=\"jp-Cell-inputWrapper\" tabindex=\"0\">\\n<div class=\"jp-Collapser jp-InputCollapser jp-Cell-inputCollapser\">\\n</div>\\n<div class=\"jp-InputArea jp-Cell-inputArea\">\\n<div class=\"jp-InputPrompt jp-InputArea-prompt\">In\\xa0[70]:</div>\\n<div class=\"jp-CodeMirrorEditor jp-Editor jp-InputArea-editor\" data-type=\"inline\">\\n<div class=\"cm-editor cm-s-jupyter\">\\n<div class=\"highlight hl-ipython3\"><pre><span></span><span class=\"n\">results</span> <span class=\"o\">=</span> <span class=\"n\">DDGS</span><span class=\"p\">()</span><span class=\"o\">.</span><span class=\"n\">news</span><span class=\"p\">(</span><span class=\"n\">keywords</span><span class=\"o\">=</span><span class=\"s2\">\"austin, tx\"</span><span class=\"p\">,</span> <span class=\"n\">timelimit</span><span class=\"o\">=</span><span class=\"s2\">\"d\"</span><span class=\"p\">,</span> <span class=\"n\">max_results</span><span class=\"o\">=</span><span class=\"mi\">5</span><span class=\"p\">)</span>\\n</pre></div>\\n</div>\\n</div>\\n</div>\\n</div>\\n</div><div class=\"jp-Cell jp-CodeCell jp-Notebook-cell\">\\n<div class=\"jp-Cell-inputWrapper\" tabindex=\"0\">\\n<div class=\"jp-Collapser jp-InputCollapser jp-Cell-inputCollapser\">\\n</div>\\n<div class=\"jp-InputArea jp-Cell-inputArea\">\\n<div class=\"jp-InputPrompt jp-InputArea-prompt\">In\\xa0[71]:</div>\\n<div class=\"jp-CodeMirrorEditor jp-Editor jp-InputArea-editor\" data-type=\"inline\">\\n<div class=\"cm-editor cm-s-jupyter\">\\n<div class=\"highlight hl-ipython3\"><pre><span></span><span class=\"n\">results</span>\\n</pre></div>\\n</div>\\n</div>\\n</div>\\n</div>\\n<div class=\"jp-Cell-outputWrapper\">\\n<div class=\"jp-Collapser jp-OutputCollapser jp-Cell-outputCollapser\">\\n</div>\\n<div class=\"jp-OutputArea jp-Cell-outputArea\">\\n<div class=\"jp-OutputArea-child jp-OutputArea-executeResult\">\\n<div class=\"jp-OutputPrompt jp-OutputArea-prompt\">Out[71]:</div>\\n<div class=\"jp-RenderedText jp-OutputArea-output jp-OutputArea-executeResult\" data-mime-type=\"text/plain\" tabindex=\"0\">\\n<pre>[{\\'date\\': \\'2024-04-15T09:00:00+00:00\\',\\n  \\'title\\': \\'Samsung pouring $45B into Austin area — one of largest deals in US history\\',\\n  \\'body\\': \\'President Biden said the investment will \"cement Central Texas\\\\\\'s role as a state-of-the-art semiconductor ecosystem.\"\\',\\n  \\'url\\': \\'https://www.bizjournals.com/austin/news/2024/04/15/samsung-chips-act-taylor-austin-joe-biden.html\\',\\n  \\'image\\': \\'https://media.bizj.us/view/img/12655829/samsung-in-taylor-dec-2023*1200xx2710-1524-0-26.png\\',\\n  \\'source\\': \\'The Business Journals\\'},\\n {\\'date\\': \\'2024-04-15T21:04:07+00:00\\',\\n  \\'title\\': \"Austin-based Tesla reportedly set to lay off 10% of its workforce. Here\\'s what we know.\",\\n  \\'body\\': \"The cuts could affect thousands of workers if a full 10% are cut, though it\\'s unclear how many in Texas would be affected.\",\\n  \\'url\\': \\'https://www.msn.com/en-us/money/companies/austin-based-tesla-reportedly-set-to-lay-off-10-of-its-workforce-heres-what-we-know/ar-BB1lFDwt\\',\\n  \\'image\\': \\'https://www.statesman.com/gcdn/authoring/authoring-images/2024/04/02/NAAS/73184271007-tesla-jwj-00539.jpg?crop=2197,1235,x1,y1007&amp;width=2197&amp;height=1235&amp;format=pjpg&amp;auto=webp\\',\\n  \\'source\\': \\'Austin American-Statesman on MSN.com\\'},\\n {\\'date\\': \\'2024-04-15T21:42:00+00:00\\',\\n  \\'title\\': \\'Summer-like humidity builds through Central Texas this week\\',\\n  \\'body\\': \\'Wednesday and Thursday hold a 10 to 20% chance for more rain, which will keep most of the region dry. However, relative humidity will still be high and temperatures are also trending warmer. This will have the air feeling super soupy and thick for the middle and end of the week.\\',\\n  \\'url\\': \\'https://www.msn.com/en-us/weather/other/summer-like-humidity-builds-through-central-texas-this-week/ar-BB1lFZ0f\\',\\n  \\'image\\': \\'https://media.kvue.com/assets/KVUE/images/c29c5cc8-874d-4620-9f1e-4f36de0fa0bd/c29c5cc8-874d-4620-9f1e-4f36de0fa0bd_1140x641.jpg\\',\\n  \\'source\\': \\'KVUE on MSN.com\\'},\\n {\\'date\\': \\'2024-04-15T22:15:00+00:00\\',\\n  \\'title\\': \\'Samsung to expand in Central Texas with $6.4B federal grant\\',\\n  \\'body\\': \\'Samsung and the Department of Commerce signed a deal that will provide the company with access to a federal grant program totaling $6.4 billion.\\',\\n  \\'url\\': \\'https://www.fox7austin.com/news/samsung-expansion-with-federal-grant-in-texas\\',\\n  \\'image\\': \\'https://images.foxtv.com/m107833-mcdn.mp.lura.live/iupl/643/838/1280/720/643838FE57273B31AF3F5F6F02AAFE42.jpg?Expires=2082758400&amp;KeyName=mcpkey1&amp;Signature=5fDQhKsTPjpFm1SHCKzulgWyUwU&amp;ve=1&amp;tl=1\\',\\n  \\'source\\': \\'FOX 7 Austin KTBC\\'},\\n {\\'date\\': \\'2024-04-15T21:17:00+00:00\\',\\n  \\'title\\': \\'Actress Jenna Elfman lists Austin home for rent at $13,500 a month\\',\\n  \\'body\\': \"Fear the Walking Dead\\' and \\'Dharma and Greg\\' stars list Austin home for rental at $13,500 a month. The \\'60s style home is located in Balcones Park.\",\\n  \\'url\\': \\'https://www.msn.com/en-us/news/us/actress-jenna-elfman-lists-austin-home-for-rent-at-13500-a-month/ar-BB1lFmTO\\',\\n  \\'image\\': \\'https://s.hdnux.com/photos/01/37/03/57/24918997/3/rawImage.jpg\\',\\n  \\'source\\': \\'Houston Chronicle on MSN.com\\'}]</pre>\\n</div>\\n</div>\\n</div>\\n</div>\\n</div><div class=\"jp-Cell jp-CodeCell jp-Notebook-cell\">\\n<div class=\"jp-Cell-inputWrapper\" tabindex=\"0\">\\n<div class=\"jp-Collapser jp-InputCollapser jp-Cell-inputCollapser\">\\n</div>\\n<div class=\"jp-InputArea jp-Cell-inputArea\">\\n<div class=\"jp-InputPrompt jp-InputArea-prompt\">In\\xa0[79]:</div>\\n<div class=\"jp-CodeMirrorEditor jp-Editor jp-InputArea-editor\" data-type=\"inline\">\\n<div class=\"cm-editor cm-s-jupyter\">\\n<div class=\"highlight hl-ipython3\"><pre><span></span><span class=\"kn\">import</span> <span class=\"nn\">requests</span>\\n<span class=\"kn\">import</span> <span class=\"nn\">datetime</span>\\n<span class=\"kn\">from</span> <span class=\"nn\">pprint</span> <span class=\"kn\">import</span> <span class=\"n\">pprint</span>\\n\\n<span class=\"k\">def</span> <span class=\"nf\">celsius_to_fahrenheit</span><span class=\"p\">(</span><span class=\"n\">temp_celsius</span><span class=\"p\">:</span> <span class=\"nb\">float</span><span class=\"p\">)</span> <span class=\"o\">-&gt;</span> <span class=\"nb\">float</span><span class=\"p\">:</span>\\n    <span class=\"k\">return</span> <span class=\"p\">(</span><span class=\"n\">temp_celsius</span> <span class=\"o\">*</span> <span class=\"mi\">9</span><span class=\"o\">/</span><span class=\"mi\">5</span><span class=\"p\">)</span> <span class=\"o\">+</span> <span class=\"mi\">32</span>\\n \\n<span class=\"n\">API_key</span> <span class=\"o\">=</span> <span class=\"n\">os</span><span class=\"o\">.</span><span class=\"n\">getenv</span><span class=\"p\">(</span><span class=\"s2\">\"OPENWEATHERMAP_API_KEY\"</span><span class=\"p\">)</span>\\n<span class=\"n\">base_url</span> <span class=\"o\">=</span> <span class=\"s2\">\"http://api.openweathermap.org/data/2.5/weather?\"</span>\\n \\n<span class=\"n\">city_name</span> <span class=\"o\">=</span> <span class=\"nb\">input</span><span class=\"p\">(</span><span class=\"s2\">\"Enter a city Name : \"</span><span class=\"p\">)</span>\\n<span class=\"n\">final_url</span> <span class=\"o\">=</span> <span class=\"n\">base_url</span> <span class=\"o\">+</span> <span class=\"s2\">\"appid=\"</span> <span class=\"o\">+</span> <span class=\"n\">API_key</span> <span class=\"o\">+</span> <span class=\"s2\">\"&amp;q=\"</span> <span class=\"o\">+</span> <span class=\"n\">city_name</span>\\n \\n<span class=\"n\">owm_response_json</span> <span class=\"o\">=</span> <span class=\"n\">requests</span><span class=\"o\">.</span><span class=\"n\">get</span><span class=\"p\">(</span><span class=\"n\">final_url</span><span class=\"p\">)</span><span class=\"o\">.</span><span class=\"n\">json</span><span class=\"p\">()</span>\\n<span class=\"n\">sunset_utc</span> <span class=\"o\">=</span> <span class=\"n\">datetime</span><span class=\"o\">.</span><span class=\"n\">datetime</span><span class=\"o\">.</span><span class=\"n\">fromtimestamp</span><span class=\"p\">(</span><span class=\"n\">owm_response_json</span><span class=\"p\">[</span><span class=\"s2\">\"sys\"</span><span class=\"p\">][</span><span class=\"s2\">\"sunset\"</span><span class=\"p\">])</span>\\n\\n<span class=\"n\">temp_celsius</span> <span class=\"o\">=</span> <span class=\"n\">owm_response_json</span><span class=\"p\">[</span><span class=\"s2\">\"main\"</span><span class=\"p\">][</span><span class=\"s2\">\"temp\"</span><span class=\"p\">]</span> <span class=\"o\">-</span> <span class=\"mf\">273.15</span>\\n<span class=\"n\">temp_max_celsius</span> <span class=\"o\">=</span> <span class=\"n\">owm_response_json</span><span class=\"p\">[</span><span class=\"s2\">\"main\"</span><span class=\"p\">][</span><span class=\"s2\">\"temp_max\"</span><span class=\"p\">]</span> <span class=\"o\">-</span> <span class=\"mf\">273.15</span>\\n<span class=\"n\">temp_min_celsius</span> <span class=\"o\">=</span> <span class=\"n\">owm_response_json</span><span class=\"p\">[</span><span class=\"s2\">\"main\"</span><span class=\"p\">][</span><span class=\"s2\">\"temp_min\"</span><span class=\"p\">]</span> <span class=\"o\">-</span> <span class=\"mf\">273.15</span>\\n<span class=\"n\">temp_feels_like_celsius</span> <span class=\"o\">=</span> <span class=\"n\">owm_response_json</span><span class=\"p\">[</span><span class=\"s2\">\"main\"</span><span class=\"p\">][</span><span class=\"s2\">\"temp_min\"</span><span class=\"p\">]</span> <span class=\"o\">-</span> <span class=\"mf\">273.15</span>\\n\\n<span class=\"n\">temp_fahrenheit</span> <span class=\"o\">=</span> <span class=\"n\">celsius_to_fahrenheit</span><span class=\"p\">(</span><span class=\"n\">temp_celsius</span><span class=\"p\">)</span>\\n<span class=\"n\">temp_max_fahrenheit</span> <span class=\"o\">=</span> <span class=\"n\">celsius_to_fahrenheit</span><span class=\"p\">(</span><span class=\"n\">temp_max_celsius</span><span class=\"p\">)</span>\\n<span class=\"n\">temp_min_fahrenheit</span> <span class=\"o\">=</span> <span class=\"n\">celsius_to_fahrenheit</span><span class=\"p\">(</span><span class=\"n\">temp_min_celsius</span><span class=\"p\">)</span>\\n<span class=\"n\">temp_feels_like_fahrenheit</span> <span class=\"o\">=</span> <span class=\"n\">celsius_to_fahrenheit</span><span class=\"p\">(</span><span class=\"n\">temp_feels_like_celsius</span><span class=\"p\">)</span>\\n\\n<span class=\"n\">owm_dict</span> <span class=\"o\">=</span> <span class=\"p\">{</span>\\n      <span class=\"s2\">\"temp\"</span><span class=\"p\">:</span> <span class=\"n\">owm_response_json</span><span class=\"p\">[</span><span class=\"s2\">\"main\"</span><span class=\"p\">][</span><span class=\"s2\">\"temp\"</span><span class=\"p\">],</span>\\n      <span class=\"s2\">\"description\"</span><span class=\"p\">:</span> <span class=\"n\">owm_response_json</span><span class=\"p\">[</span><span class=\"s2\">\"weather\"</span><span class=\"p\">][</span><span class=\"mi\">0</span><span class=\"p\">][</span><span class=\"s2\">\"description\"</span><span class=\"p\">],</span>\\n      <span class=\"s2\">\"icon\"</span><span class=\"p\">:</span> <span class=\"n\">owm_response_json</span><span class=\"p\">[</span><span class=\"s2\">\"weather\"</span><span class=\"p\">][</span><span class=\"mi\">0</span><span class=\"p\">][</span><span class=\"s2\">\"icon\"</span><span class=\"p\">],</span>\\n      <span class=\"s2\">\"sunset_utc\"</span><span class=\"p\">:</span> <span class=\"n\">sunset_utc</span><span class=\"p\">,</span>\\n      <span class=\"s2\">\"sunset_local\"</span><span class=\"p\">:</span> <span class=\"n\">sunset_utc</span> <span class=\"o\">+</span> <span class=\"n\">datetime</span><span class=\"o\">.</span><span class=\"n\">timedelta</span><span class=\"p\">(</span><span class=\"n\">seconds</span><span class=\"o\">=</span><span class=\"n\">owm_response_json</span><span class=\"p\">[</span><span class=\"s2\">\"timezone\"</span><span class=\"p\">])</span>\\n  <span class=\"p\">}</span>\\n\\n<span class=\"p\">(</span>\\n    <span class=\"sa\">f</span><span class=\"s2\">\"In </span><span class=\"si\">{</span><span class=\"n\">owm_response_json</span><span class=\"p\">[</span><span class=\"s2\">\"name\"</span><span class=\"p\">]</span><span class=\"si\">}</span><span class=\"s2\">, the current weather is:</span><span class=\"se\">\\\\n</span><span class=\"s2\">\"</span>\\n    <span class=\"sa\">f</span><span class=\"s2\">\"Detailed status: </span><span class=\"si\">{</span><span class=\"n\">owm_response_json</span><span class=\"p\">[</span><span class=\"s2\">\"weather\"</span><span class=\"p\">][</span><span class=\"mi\">0</span><span class=\"p\">][</span><span class=\"s2\">\"description\"</span><span class=\"p\">]</span><span class=\"si\">}</span><span class=\"se\">\\\\n</span><span class=\"s2\">\"</span>\\n    <span class=\"sa\">f</span><span class=\"s2\">\"Wind speed: </span><span class=\"si\">{</span><span class=\"n\">owm_response_json</span><span class=\"p\">[</span><span class=\"s2\">\"wind\"</span><span class=\"p\">][</span><span class=\"s2\">\"speed\"</span><span class=\"p\">]</span><span class=\"si\">}</span><span class=\"s2\"> m/s, direction: </span><span class=\"si\">{</span><span class=\"n\">owm_response_json</span><span class=\"p\">[</span><span class=\"s2\">\"wind\"</span><span class=\"p\">][</span><span class=\"s2\">\"deg\"</span><span class=\"p\">]</span><span class=\"si\">}</span><span class=\"s2\">°</span><span class=\"se\">\\\\n</span><span class=\"s2\">\"</span>\\n    <span class=\"sa\">f</span><span class=\"s2\">\"Humidity: </span><span class=\"si\">{</span><span class=\"n\">owm_response_json</span><span class=\"p\">[</span><span class=\"s2\">\"main\"</span><span class=\"p\">][</span><span class=\"s2\">\"humidity\"</span><span class=\"p\">]</span><span class=\"si\">}</span><span class=\"s2\">%</span><span class=\"se\">\\\\n</span><span class=\"s2\">\"</span>\\n    <span class=\"sa\">f</span><span class=\"s2\">\"Temperature: </span><span class=\"se\">\\\\n</span><span class=\"s2\">\"</span>\\n    <span class=\"sa\">f</span><span class=\"s2\">\"  - Current: </span><span class=\"si\">{</span><span class=\"n\">temp_fahrenheit</span><span class=\"si\">}</span><span class=\"s2\">°F</span><span class=\"se\">\\\\n</span><span class=\"s2\">\"</span>\\n    <span class=\"sa\">f</span><span class=\"s2\">\"  - High: </span><span class=\"si\">{</span><span class=\"n\">temp_max_fahrenheit</span><span class=\"si\">}</span><span class=\"s2\">°F</span><span class=\"se\">\\\\n</span><span class=\"s2\">\"</span>\\n    <span class=\"sa\">f</span><span class=\"s2\">\"  - Low: </span><span class=\"si\">{</span><span class=\"n\">temp_min_fahrenheit</span><span class=\"si\">}</span><span class=\"s2\">°F</span><span class=\"se\">\\\\n</span><span class=\"s2\">\"</span>\\n    <span class=\"sa\">f</span><span class=\"s2\">\"  - Feels like: </span><span class=\"si\">{</span><span class=\"n\">temp_feels_like_fahrenheit</span><span class=\"si\">}</span><span class=\"s2\">°F</span><span class=\"se\">\\\\n</span><span class=\"s2\">\"</span>\\n    <span class=\"sa\">f</span><span class=\"s2\">\"Rain: </span><span class=\"si\">{</span><span class=\"n\">rain</span><span class=\"w\"> </span><span class=\"k\">if</span><span class=\"w\"> </span><span class=\"n\">rain</span><span class=\"w\"> </span><span class=\"k\">else</span><span class=\"w\"> </span><span class=\"s1\">\\'No rain\\'</span><span class=\"si\">}</span><span class=\"se\">\\\\n</span><span class=\"s2\">\"</span>\\n    <span class=\"sa\">f</span><span class=\"s2\">\"Cloud cover: </span><span class=\"si\">{</span><span class=\"n\">owm_response_json</span><span class=\"p\">[</span><span class=\"s2\">\"clouds\"</span><span class=\"p\">][</span><span class=\"s2\">\"all\"</span><span class=\"p\">]</span><span class=\"si\">}</span><span class=\"s2\">%\"</span>\\n<span class=\"p\">)</span>\\n\\n\\n<span class=\"nb\">print</span><span class=\"p\">(</span><span class=\"s2\">\"</span><span class=\"se\">\\\\n</span><span class=\"s2\">Current Weather Data Of \"</span> <span class=\"o\">+</span> <span class=\"n\">city_name</span> <span class=\"o\">+</span><span class=\"s2\">\":</span><span class=\"se\">\\\\n</span><span class=\"s2\">\"</span><span class=\"p\">)</span>\\n<span class=\"n\">pprint</span><span class=\"p\">(</span><span class=\"n\">weather_data</span><span class=\"p\">)</span>\\n</pre></div>\\n</div>\\n</div>\\n</div>\\n</div>\\n<div class=\"jp-Cell-outputWrapper\">\\n<div class=\"jp-Collapser jp-OutputCollapser jp-Cell-outputCollapser\">\\n</div>\\n<div class=\"jp-OutputArea jp-Cell-outputArea\">\\n<div class=\"jp-OutputArea-child\">\\n<div class=\"jp-OutputPrompt jp-OutputArea-prompt\"></div>\\n<div class=\"jp-RenderedText jp-OutputArea-output\" data-mime-type=\"text/plain\" tabindex=\"0\">\\n<pre>\\nCurrent Weather Data Of austin:\\n\\n{\\'base\\': \\'stations\\',\\n \\'clouds\\': {\\'all\\': 75},\\n \\'cod\\': 200,\\n \\'coord\\': {\\'lat\\': 30.2672, \\'lon\\': -97.7431},\\n \\'dt\\': 1713220368,\\n \\'id\\': 4671654,\\n \\'main\\': {\\'feels_like\\': 303.45,\\n          \\'humidity\\': 73,\\n          \\'pressure\\': 1015,\\n          \\'temp\\': 300.77,\\n          \\'temp_max\\': 301.99,\\n          \\'temp_min\\': 299.58},\\n \\'name\\': \\'Austin\\',\\n \\'sys\\': {\\'country\\': \\'US\\',\\n         \\'id\\': 2003218,\\n         \\'sunrise\\': 1713182582,\\n         \\'sunset\\': 1713229094,\\n         \\'type\\': 2},\\n \\'timezone\\': -18000,\\n \\'visibility\\': 10000,\\n \\'weather\\': [{\\'description\\': \\'broken clouds\\',\\n              \\'icon\\': \\'04d\\',\\n              \\'id\\': 803,\\n              \\'main\\': \\'Clouds\\'}],\\n \\'wind\\': {\\'deg\\': 140, \\'gust\\': 12.86, \\'speed\\': 8.23}}\\n</pre>\\n</div>\\n</div>\\n</div>\\n</div>\\n</div><div class=\"jp-Cell jp-CodeCell jp-Notebook-cell jp-mod-noOutputs\">\\n<div class=\"jp-Cell-inputWrapper\" tabindex=\"0\">\\n<div class=\"jp-Collapser jp-InputCollapser jp-Cell-inputCollapser\">\\n</div>\\n<div class=\"jp-InputArea jp-Cell-inputArea\">\\n<div class=\"jp-InputPrompt jp-InputArea-prompt\">In\\xa0[55]:</div>\\n<div class=\"jp-CodeMirrorEditor jp-Editor jp-InputArea-editor\" data-type=\"inline\">\\n<div class=\"cm-editor cm-s-jupyter\">\\n<div class=\"highlight hl-ipython3\"><pre><span></span><span class=\"kn\">from</span> <span class=\"nn\">pydantic</span> <span class=\"kn\">import</span> <span class=\"n\">BaseModel</span><span class=\"p\">,</span> <span class=\"n\">model_validator</span><span class=\"p\">,</span> <span class=\"n\">field_validator</span>\\n<span class=\"kn\">from</span> <span class=\"nn\">typing</span> <span class=\"kn\">import</span> <span class=\"n\">Optional</span><span class=\"p\">,</span> <span class=\"n\">List</span>\\n<span class=\"kn\">from</span> <span class=\"nn\">datetime</span> <span class=\"kn\">import</span> <span class=\"n\">datetime</span><span class=\"p\">,</span> <span class=\"n\">timedelta</span>\\n<span class=\"kn\">import</span> <span class=\"nn\">requests</span>\\n<span class=\"kn\">import</span> <span class=\"nn\">os</span>\\n\\n<span class=\"k\">class</span> <span class=\"nc\">WeatherData</span><span class=\"p\">(</span><span class=\"n\">BaseModel</span><span class=\"p\">):</span>\\n    <span class=\"n\">temp</span><span class=\"p\">:</span> <span class=\"nb\">float</span>\\n    <span class=\"n\">temp_max</span><span class=\"p\">:</span> <span class=\"nb\">float</span>\\n    <span class=\"n\">temp_min</span><span class=\"p\">:</span> <span class=\"nb\">float</span>\\n    <span class=\"n\">feels_like</span><span class=\"p\">:</span> <span class=\"nb\">float</span>\\n    <span class=\"n\">description</span><span class=\"p\">:</span> <span class=\"nb\">str</span>\\n    <span class=\"n\">icon</span><span class=\"p\">:</span> <span class=\"nb\">str</span>\\n    <span class=\"n\">wind_speed</span><span class=\"p\">:</span> <span class=\"nb\">float</span>\\n    <span class=\"n\">wind_direction</span><span class=\"p\">:</span> <span class=\"nb\">int</span>\\n    <span class=\"n\">humidity</span><span class=\"p\">:</span> <span class=\"nb\">int</span>\\n    <span class=\"n\">rain</span><span class=\"p\">:</span> <span class=\"nb\">str</span>\\n    <span class=\"n\">cloud_cover</span><span class=\"p\">:</span> <span class=\"nb\">int</span>\\n    <span class=\"n\">sunset_local</span><span class=\"p\">:</span> <span class=\"nb\">str</span>\\n    <span class=\"n\">city_name</span><span class=\"p\">:</span> <span class=\"nb\">str</span>\\n    <span class=\"n\">date_stamp</span><span class=\"p\">:</span> <span class=\"nb\">str</span>\\n\\n    <span class=\"k\">def</span> <span class=\"fm\">__str__</span><span class=\"p\">(</span><span class=\"bp\">self</span><span class=\"p\">):</span>\\n        <span class=\"k\">return</span> <span class=\"p\">(</span>\\n            <span class=\"sa\">f</span><span class=\"s2\">\"</span><span class=\"si\">{</span><span class=\"bp\">self</span><span class=\"o\">.</span><span class=\"n\">date_stamp</span><span class=\"si\">}</span><span class=\"se\">\\\\n</span><span class=\"s2\">\"</span>\\n            <span class=\"sa\">f</span><span class=\"s2\">\"In </span><span class=\"si\">{</span><span class=\"bp\">self</span><span class=\"o\">.</span><span class=\"n\">city_name</span><span class=\"si\">}</span><span class=\"s2\">, the weather is currently:</span><span class=\"se\">\\\\n</span><span class=\"s2\">\"</span>\\n            <span class=\"sa\">f</span><span class=\"s2\">\"Status: </span><span class=\"si\">{</span><span class=\"bp\">self</span><span class=\"o\">.</span><span class=\"n\">description</span><span class=\"o\">.</span><span class=\"n\">title</span><span class=\"p\">()</span><span class=\"si\">}</span><span class=\"se\">\\\\n</span><span class=\"s2\">\"</span>\\n            <span class=\"sa\">f</span><span class=\"s2\">\"Wind speed: </span><span class=\"si\">{</span><span class=\"bp\">self</span><span class=\"o\">.</span><span class=\"n\">wind_speed</span><span class=\"si\">}</span><span class=\"s2\"> m/s, direction: </span><span class=\"si\">{</span><span class=\"bp\">self</span><span class=\"o\">.</span><span class=\"n\">wind_direction</span><span class=\"si\">}</span><span class=\"s2\">°</span><span class=\"se\">\\\\n</span><span class=\"s2\">\"</span>\\n            <span class=\"sa\">f</span><span class=\"s2\">\"Humidity: </span><span class=\"si\">{</span><span class=\"bp\">self</span><span class=\"o\">.</span><span class=\"n\">humidity</span><span class=\"si\">}</span><span class=\"s2\">%</span><span class=\"se\">\\\\n</span><span class=\"s2\">\"</span>\\n            <span class=\"sa\">f</span><span class=\"s2\">\"Temperature: </span><span class=\"se\">\\\\n</span><span class=\"s2\">\"</span>\\n            <span class=\"sa\">f</span><span class=\"s2\">\"  - Current: </span><span class=\"si\">{</span><span class=\"bp\">self</span><span class=\"o\">.</span><span class=\"n\">temp</span><span class=\"si\">}</span><span class=\"s2\">°F</span><span class=\"se\">\\\\n</span><span class=\"s2\">\"</span>\\n            <span class=\"sa\">f</span><span class=\"s2\">\"  - High: </span><span class=\"si\">{</span><span class=\"bp\">self</span><span class=\"o\">.</span><span class=\"n\">temp_max</span><span class=\"si\">}</span><span class=\"s2\">°F</span><span class=\"se\">\\\\n</span><span class=\"s2\">\"</span>\\n            <span class=\"sa\">f</span><span class=\"s2\">\"  - Low: </span><span class=\"si\">{</span><span class=\"bp\">self</span><span class=\"o\">.</span><span class=\"n\">temp_min</span><span class=\"si\">}</span><span class=\"s2\">°F</span><span class=\"se\">\\\\n</span><span class=\"s2\">\"</span>\\n            <span class=\"sa\">f</span><span class=\"s2\">\"  - Feels like: </span><span class=\"si\">{</span><span class=\"bp\">self</span><span class=\"o\">.</span><span class=\"n\">feels_like</span><span class=\"si\">}</span><span class=\"s2\">°F</span><span class=\"se\">\\\\n</span><span class=\"s2\">\"</span>\\n            <span class=\"sa\">f</span><span class=\"s2\">\"Rain: </span><span class=\"si\">{</span><span class=\"bp\">self</span><span class=\"o\">.</span><span class=\"n\">rain</span><span class=\"w\"> </span><span class=\"k\">if</span><span class=\"w\"> </span><span class=\"bp\">self</span><span class=\"o\">.</span><span class=\"n\">rain</span><span class=\"w\"> </span><span class=\"k\">else</span><span class=\"w\"> </span><span class=\"s1\">\\'No rain\\'</span><span class=\"si\">}</span><span class=\"se\">\\\\n</span><span class=\"s2\">\"</span>\\n            <span class=\"sa\">f</span><span class=\"s2\">\"Cloud cover: </span><span class=\"si\">{</span><span class=\"bp\">self</span><span class=\"o\">.</span><span class=\"n\">cloud_cover</span><span class=\"si\">}</span><span class=\"s2\">%\"</span>\\n        <span class=\"p\">)</span>\\n    \\n    <span class=\"nd\">@property</span>\\n    <span class=\"k\">def</span> <span class=\"nf\">to_markdown</span><span class=\"p\">(</span><span class=\"bp\">self</span><span class=\"p\">):</span>\\n        <span class=\"k\">return</span> <span class=\"p\">(</span>\\n            <span class=\"sa\">f</span><span class=\"s2\">\"</span><span class=\"si\">{</span><span class=\"bp\">self</span><span class=\"o\">.</span><span class=\"n\">date_stamp</span><span class=\"si\">}</span><span class=\"se\">\\\\n\\\\n</span><span class=\"s2\">\"</span>\\n            <span class=\"sa\">f</span><span class=\"s2\">\"The weather in **</span><span class=\"si\">{</span><span class=\"bp\">self</span><span class=\"o\">.</span><span class=\"n\">city_name</span><span class=\"si\">}</span><span class=\"s2\">** is currently:</span><span class=\"se\">\\\\n\\\\n</span><span class=\"s2\">\"</span>\\n            <span class=\"sa\">f</span><span class=\"s2\">\"Status: </span><span class=\"si\">{</span><span class=\"bp\">self</span><span class=\"o\">.</span><span class=\"n\">description</span><span class=\"o\">.</span><span class=\"n\">title</span><span class=\"p\">()</span><span class=\"si\">}</span><span class=\"se\">\\\\n\\\\n</span><span class=\"s2\">\"</span>\\n            <span class=\"sa\">f</span><span class=\"s2\">\"Wind speed: </span><span class=\"si\">{</span><span class=\"bp\">self</span><span class=\"o\">.</span><span class=\"n\">wind_speed</span><span class=\"si\">}</span><span class=\"s2\"> m/s, direction: </span><span class=\"si\">{</span><span class=\"bp\">self</span><span class=\"o\">.</span><span class=\"n\">wind_direction</span><span class=\"si\">}</span><span class=\"s2\">°</span><span class=\"se\">\\\\n\\\\n</span><span class=\"s2\">\"</span>\\n            <span class=\"sa\">f</span><span class=\"s2\">\"Humidity: </span><span class=\"si\">{</span><span class=\"bp\">self</span><span class=\"o\">.</span><span class=\"n\">humidity</span><span class=\"si\">}</span><span class=\"s2\">%</span><span class=\"se\">\\\\n\\\\n</span><span class=\"s2\">\"</span>\\n            <span class=\"sa\">f</span><span class=\"s2\">\"Temperature: </span><span class=\"se\">\\\\n\\\\n</span><span class=\"s2\">\"</span>\\n            <span class=\"sa\">f</span><span class=\"s2\">\"  - Current: </span><span class=\"si\">{</span><span class=\"bp\">self</span><span class=\"o\">.</span><span class=\"n\">temp</span><span class=\"si\">}</span><span class=\"s2\">°F</span><span class=\"se\">\\\\n</span><span class=\"s2\">\"</span>\\n            <span class=\"sa\">f</span><span class=\"s2\">\"  - High: </span><span class=\"si\">{</span><span class=\"bp\">self</span><span class=\"o\">.</span><span class=\"n\">temp_max</span><span class=\"si\">}</span><span class=\"s2\">°F</span><span class=\"se\">\\\\n</span><span class=\"s2\">\"</span>\\n            <span class=\"sa\">f</span><span class=\"s2\">\"  - Low: </span><span class=\"si\">{</span><span class=\"bp\">self</span><span class=\"o\">.</span><span class=\"n\">temp_min</span><span class=\"si\">}</span><span class=\"s2\">°F</span><span class=\"se\">\\\\n</span><span class=\"s2\">\"</span>\\n            <span class=\"sa\">f</span><span class=\"s2\">\"  - Feels like: </span><span class=\"si\">{</span><span class=\"bp\">self</span><span class=\"o\">.</span><span class=\"n\">feels_like</span><span class=\"si\">}</span><span class=\"s2\">°F</span><span class=\"se\">\\\\n\\\\n</span><span class=\"s2\">\"</span>\\n            <span class=\"sa\">f</span><span class=\"s2\">\"Rain: </span><span class=\"si\">{</span><span class=\"bp\">self</span><span class=\"o\">.</span><span class=\"n\">rain</span><span class=\"w\"> </span><span class=\"k\">if</span><span class=\"w\"> </span><span class=\"bp\">self</span><span class=\"o\">.</span><span class=\"n\">rain</span><span class=\"w\"> </span><span class=\"k\">else</span><span class=\"w\"> </span><span class=\"s1\">\\'No rain\\'</span><span class=\"si\">}</span><span class=\"se\">\\\\n\\\\n</span><span class=\"s2\">\"</span>\\n            <span class=\"sa\">f</span><span class=\"s2\">\"Cloud cover: </span><span class=\"si\">{</span><span class=\"bp\">self</span><span class=\"o\">.</span><span class=\"n\">cloud_cover</span><span class=\"si\">}</span><span class=\"s2\">%\"</span>\\n        <span class=\"p\">)</span>\\n\\n<span class=\"k\">def</span> <span class=\"nf\">fetch_weather</span><span class=\"p\">(</span><span class=\"n\">search_query</span><span class=\"p\">:</span> <span class=\"nb\">str</span><span class=\"p\">,</span> <span class=\"n\">search_type</span><span class=\"p\">:</span> <span class=\"nb\">str</span> <span class=\"o\">=</span> <span class=\"s2\">\"city\"</span><span class=\"p\">)</span> <span class=\"o\">-&gt;</span> <span class=\"n\">WeatherData</span><span class=\"p\">:</span>\\n    <span class=\"n\">API_key</span> <span class=\"o\">=</span> <span class=\"n\">os</span><span class=\"o\">.</span><span class=\"n\">getenv</span><span class=\"p\">(</span><span class=\"s2\">\"OPENWEATHERMAP_API_KEY\"</span><span class=\"p\">)</span>\\n    <span class=\"n\">base_url</span> <span class=\"o\">=</span> <span class=\"s2\">\"http://api.openweathermap.org/data/2.5/weather?\"</span>\\n    \\n    <span class=\"k\">if</span> <span class=\"n\">search_type</span> <span class=\"o\">==</span> <span class=\"s2\">\"city\"</span><span class=\"p\">:</span>\\n        <span class=\"n\">final_url</span> <span class=\"o\">=</span> <span class=\"sa\">f</span><span class=\"s2\">\"</span><span class=\"si\">{</span><span class=\"n\">base_url</span><span class=\"si\">}</span><span class=\"s2\">appid=</span><span class=\"si\">{</span><span class=\"n\">API_key</span><span class=\"si\">}</span><span class=\"s2\">&amp;q=</span><span class=\"si\">{</span><span class=\"n\">search_query</span><span class=\"si\">}</span><span class=\"s2\">\"</span>\\n    <span class=\"k\">elif</span> <span class=\"n\">search_type</span> <span class=\"o\">==</span> <span class=\"s2\">\"zip\"</span><span class=\"p\">:</span>\\n        <span class=\"n\">final_url</span> <span class=\"o\">=</span> <span class=\"sa\">f</span><span class=\"s2\">\"</span><span class=\"si\">{</span><span class=\"n\">base_url</span><span class=\"si\">}</span><span class=\"s2\">appid=</span><span class=\"si\">{</span><span class=\"n\">API_key</span><span class=\"si\">}</span><span class=\"s2\">&amp;zip=</span><span class=\"si\">{</span><span class=\"n\">search_query</span><span class=\"si\">}</span><span class=\"s2\">\"</span>\\n    <span class=\"k\">else</span><span class=\"p\">:</span>\\n        <span class=\"k\">raise</span> <span class=\"ne\">ValueError</span><span class=\"p\">(</span><span class=\"sa\">f</span><span class=\"s2\">\"Invalid search type: </span><span class=\"si\">{</span><span class=\"n\">search_type</span><span class=\"si\">}</span><span class=\"s2\">. Must be either \\'city\\' or \\'zip\\'.\"</span><span class=\"p\">)</span>\\n    \\n    <span class=\"n\">owm_response_json</span> <span class=\"o\">=</span> <span class=\"n\">requests</span><span class=\"o\">.</span><span class=\"n\">get</span><span class=\"p\">(</span><span class=\"n\">final_url</span><span class=\"p\">)</span><span class=\"o\">.</span><span class=\"n\">json</span><span class=\"p\">()</span>\\n    \\n    <span class=\"n\">sunset_utc</span> <span class=\"o\">=</span> <span class=\"n\">datetime</span><span class=\"o\">.</span><span class=\"n\">fromtimestamp</span><span class=\"p\">(</span><span class=\"n\">owm_response_json</span><span class=\"p\">[</span><span class=\"s2\">\"sys\"</span><span class=\"p\">][</span><span class=\"s2\">\"sunset\"</span><span class=\"p\">])</span>\\n    <span class=\"n\">sunset_local</span> <span class=\"o\">=</span> <span class=\"n\">sunset_utc</span><span class=\"o\">.</span><span class=\"n\">strftime</span><span class=\"p\">(</span><span class=\"s2\">\"%I:%M %p\"</span><span class=\"p\">)</span>\\n    \\n    <span class=\"n\">temp_celsius</span> <span class=\"o\">=</span> <span class=\"n\">owm_response_json</span><span class=\"p\">[</span><span class=\"s2\">\"main\"</span><span class=\"p\">][</span><span class=\"s2\">\"temp\"</span><span class=\"p\">]</span> <span class=\"o\">-</span> <span class=\"mf\">273.15</span>\\n    <span class=\"n\">temp_max_celsius</span> <span class=\"o\">=</span> <span class=\"n\">owm_response_json</span><span class=\"p\">[</span><span class=\"s2\">\"main\"</span><span class=\"p\">][</span><span class=\"s2\">\"temp_max\"</span><span class=\"p\">]</span> <span class=\"o\">-</span> <span class=\"mf\">273.15</span>\\n    <span class=\"n\">temp_min_celsius</span> <span class=\"o\">=</span> <span class=\"n\">owm_response_json</span><span class=\"p\">[</span><span class=\"s2\">\"main\"</span><span class=\"p\">][</span><span class=\"s2\">\"temp_min\"</span><span class=\"p\">]</span> <span class=\"o\">-</span> <span class=\"mf\">273.15</span>\\n    <span class=\"n\">temp_feels_like_celsius</span> <span class=\"o\">=</span> <span class=\"n\">owm_response_json</span><span class=\"p\">[</span><span class=\"s2\">\"main\"</span><span class=\"p\">][</span><span class=\"s2\">\"feels_like\"</span><span class=\"p\">]</span> <span class=\"o\">-</span> <span class=\"mf\">273.15</span>\\n\\n    <span class=\"n\">temp_fahrenheit</span> <span class=\"o\">=</span> <span class=\"nb\">round</span><span class=\"p\">(</span><span class=\"n\">celsius_to_fahrenheit</span><span class=\"p\">(</span><span class=\"n\">temp_celsius</span><span class=\"p\">),</span> <span class=\"mi\">2</span><span class=\"p\">)</span>\\n    <span class=\"n\">temp_max_fahrenheit</span> <span class=\"o\">=</span> <span class=\"nb\">round</span><span class=\"p\">(</span><span class=\"n\">celsius_to_fahrenheit</span><span class=\"p\">(</span><span class=\"n\">temp_max_celsius</span><span class=\"p\">),</span> <span class=\"mi\">2</span><span class=\"p\">)</span>\\n    <span class=\"n\">temp_min_fahrenheit</span> <span class=\"o\">=</span> <span class=\"nb\">round</span><span class=\"p\">(</span><span class=\"n\">celsius_to_fahrenheit</span><span class=\"p\">(</span><span class=\"n\">temp_min_celsius</span><span class=\"p\">),</span> <span class=\"mi\">2</span><span class=\"p\">)</span>\\n    <span class=\"n\">temp_feels_like_fahrenheit</span> <span class=\"o\">=</span> <span class=\"nb\">round</span><span class=\"p\">(</span><span class=\"n\">celsius_to_fahrenheit</span><span class=\"p\">(</span><span class=\"n\">temp_feels_like_celsius</span><span class=\"p\">),</span> <span class=\"mi\">2</span><span class=\"p\">)</span>\\n\\n    <span class=\"n\">rain</span> <span class=\"o\">=</span> <span class=\"n\">owm_response_json</span><span class=\"o\">.</span><span class=\"n\">get</span><span class=\"p\">(</span><span class=\"s2\">\"rain\"</span><span class=\"p\">,</span> <span class=\"s2\">\"No rain\"</span><span class=\"p\">)</span>\\n    \\n    <span class=\"n\">owm_dict</span> <span class=\"o\">=</span> <span class=\"p\">{</span>\\n        <span class=\"s2\">\"temp\"</span><span class=\"p\">:</span> <span class=\"n\">temp_fahrenheit</span><span class=\"p\">,</span>\\n        <span class=\"s2\">\"temp_max\"</span><span class=\"p\">:</span> <span class=\"n\">temp_max_fahrenheit</span><span class=\"p\">,</span>\\n        <span class=\"s2\">\"temp_min\"</span><span class=\"p\">:</span> <span class=\"n\">temp_min_fahrenheit</span><span class=\"p\">,</span>\\n        <span class=\"s2\">\"feels_like\"</span><span class=\"p\">:</span> <span class=\"n\">temp_feels_like_fahrenheit</span><span class=\"p\">,</span>\\n        <span class=\"s2\">\"description\"</span><span class=\"p\">:</span> <span class=\"n\">owm_response_json</span><span class=\"p\">[</span><span class=\"s2\">\"weather\"</span><span class=\"p\">][</span><span class=\"mi\">0</span><span class=\"p\">][</span><span class=\"s2\">\"description\"</span><span class=\"p\">],</span>\\n        <span class=\"s2\">\"icon\"</span><span class=\"p\">:</span> <span class=\"n\">owm_response_json</span><span class=\"p\">[</span><span class=\"s2\">\"weather\"</span><span class=\"p\">][</span><span class=\"mi\">0</span><span class=\"p\">][</span><span class=\"s2\">\"icon\"</span><span class=\"p\">],</span>\\n        <span class=\"s2\">\"wind_speed\"</span><span class=\"p\">:</span> <span class=\"n\">owm_response_json</span><span class=\"p\">[</span><span class=\"s2\">\"wind\"</span><span class=\"p\">][</span><span class=\"s2\">\"speed\"</span><span class=\"p\">],</span>\\n        <span class=\"s2\">\"wind_direction\"</span><span class=\"p\">:</span> <span class=\"n\">owm_response_json</span><span class=\"p\">[</span><span class=\"s2\">\"wind\"</span><span class=\"p\">][</span><span class=\"s2\">\"deg\"</span><span class=\"p\">],</span>\\n        <span class=\"s2\">\"humidity\"</span><span class=\"p\">:</span> <span class=\"n\">owm_response_json</span><span class=\"p\">[</span><span class=\"s2\">\"main\"</span><span class=\"p\">][</span><span class=\"s2\">\"humidity\"</span><span class=\"p\">],</span>\\n        <span class=\"s2\">\"rain\"</span><span class=\"p\">:</span> <span class=\"n\">rain</span><span class=\"p\">,</span>\\n        <span class=\"s2\">\"cloud_cover\"</span><span class=\"p\">:</span> <span class=\"n\">owm_response_json</span><span class=\"p\">[</span><span class=\"s2\">\"clouds\"</span><span class=\"p\">][</span><span class=\"s2\">\"all\"</span><span class=\"p\">],</span>\\n        <span class=\"s2\">\"sunset_local\"</span><span class=\"p\">:</span> <span class=\"n\">sunset_local</span><span class=\"p\">,</span>\\n        <span class=\"s2\">\"city_name\"</span><span class=\"p\">:</span> <span class=\"n\">owm_response_json</span><span class=\"p\">[</span><span class=\"s2\">\"name\"</span><span class=\"p\">],</span>\\n        <span class=\"s2\">\"date_stamp\"</span><span class=\"p\">:</span> <span class=\"n\">datetime</span><span class=\"o\">.</span><span class=\"n\">utcnow</span><span class=\"p\">()</span><span class=\"o\">.</span><span class=\"n\">strftime</span><span class=\"p\">(</span><span class=\"s2\">\"%A, %B </span><span class=\"si\">%d</span><span class=\"s2\">, %Y\"</span><span class=\"p\">)</span>\\n    <span class=\"p\">}</span>\\n    \\n    <span class=\"k\">return</span> <span class=\"n\">WeatherData</span><span class=\"p\">(</span><span class=\"o\">**</span><span class=\"n\">owm_dict</span><span class=\"p\">)</span>\\n</pre></div>\\n</div>\\n</div>\\n</div>\\n</div>\\n</div><div class=\"jp-Cell jp-CodeCell jp-Notebook-cell\">\\n<div class=\"jp-Cell-inputWrapper\" tabindex=\"0\">\\n<div class=\"jp-Collapser jp-InputCollapser jp-Cell-inputCollapser\">\\n</div>\\n<div class=\"jp-InputArea jp-Cell-inputArea\">\\n<div class=\"jp-InputPrompt jp-InputArea-prompt\">In\\xa0[58]:</div>\\n<div class=\"jp-CodeMirrorEditor jp-Editor jp-InputArea-editor\" data-type=\"inline\">\\n<div class=\"cm-editor cm-s-jupyter\">\\n<div class=\"highlight hl-ipython3\"><pre><span></span><span class=\"n\">city</span> <span class=\"o\">=</span> <span class=\"s2\">\"marietta\"</span>\\n<span class=\"n\">weather</span> <span class=\"o\">=</span> <span class=\"n\">fetch_weather</span><span class=\"p\">(</span><span class=\"s1\">\\'90210\\'</span><span class=\"p\">,</span> <span class=\"n\">search_type</span><span class=\"o\">=</span><span class=\"s1\">\\'zip\\'</span><span class=\"p\">)</span>\\n<span class=\"nb\">print</span><span class=\"p\">(</span><span class=\"n\">weather</span><span class=\"p\">)</span>\\n</pre></div>\\n</div>\\n</div>\\n</div>\\n</div>\\n<div class=\"jp-Cell-outputWrapper\">\\n<div class=\"jp-Collapser jp-OutputCollapser jp-Cell-outputCollapser\">\\n</div>\\n<div class=\"jp-OutputArea jp-Cell-outputArea\">\\n<div class=\"jp-OutputArea-child\">\\n<div class=\"jp-OutputPrompt jp-OutputArea-prompt\"></div>\\n<div class=\"jp-RenderedText jp-OutputArea-output\" data-mime-type=\"text/plain\" tabindex=\"0\">\\n<pre>Tuesday, April 16, 2024\\nIn Beverly Hills, the weather is currently:\\nStatus: Clear Sky\\nWind speed: 5.66 m/s, direction: 270°\\nHumidity: 54%\\nTemperature: \\n  - Current: 65.44°F\\n  - High: 74.3°F\\n  - Low: 58.06°F\\n  - Feels like: 64.22°F\\nRain: No rain\\nCloud cover: 0%\\n</pre>\\n</div>\\n</div>\\n</div>\\n</div>\\n</div><div class=\"jp-Cell jp-CodeCell jp-Notebook-cell jp-mod-noOutputs\">\\n<div class=\"jp-Cell-inputWrapper\" tabindex=\"0\">\\n<div class=\"jp-Collapser jp-InputCollapser jp-Cell-inputCollapser\">\\n</div>\\n<div class=\"jp-InputArea jp-Cell-inputArea\">\\n<div class=\"jp-InputPrompt jp-InputArea-prompt\">In\\xa0[\\xa0]:</div>\\n<div class=\"jp-CodeMirrorEditor jp-Editor jp-InputArea-editor\" data-type=\"inline\">\\n<div class=\"cm-editor cm-s-jupyter\">\\n<div class=\"highlight hl-ipython3\"><pre><span></span> \\n</pre></div>\\n</div>\\n</div>\\n</div>\\n</div>\\n</div><div class=\"jp-Cell jp-CodeCell jp-Notebook-cell jp-mod-noOutputs\">\\n<div class=\"jp-Cell-inputWrapper\" tabindex=\"0\">\\n<div class=\"jp-Collapser jp-InputCollapser jp-Cell-inputCollapser\">\\n</div>\\n<div class=\"jp-InputArea jp-Cell-inputArea\">\\n<div class=\"jp-InputPrompt jp-InputArea-prompt\">In\\xa0[\\xa0]:</div>\\n<div class=\"jp-CodeMirrorEditor jp-Editor jp-InputArea-editor\" data-type=\"inline\">\\n<div class=\"cm-editor cm-s-jupyter\">\\n<div class=\"highlight hl-ipython3\"><pre><span></span> \\n</pre></div>\\n</div>\\n</div>\\n</div>\\n</div>\\n</div><div class=\"jp-Cell jp-CodeCell jp-Notebook-cell jp-mod-noOutputs\">\\n<div class=\"jp-Cell-inputWrapper\" tabindex=\"0\">\\n<div class=\"jp-Collapser jp-InputCollapser jp-Cell-inputCollapser\">\\n</div>\\n<div class=\"jp-InputArea jp-Cell-inputArea\">\\n<div class=\"jp-InputPrompt jp-InputArea-prompt\">In\\xa0[\\xa0]:</div>\\n<div class=\"jp-CodeMirrorEditor jp-Editor jp-InputArea-editor\" data-type=\"inline\">\\n<div class=\"cm-editor cm-s-jupyter\">\\n<div class=\"highlight hl-ipython3\"><pre><span></span> \\n</pre></div>\\n</div>\\n</div>\\n</div>\\n</div>\\n</div><div class=\"jp-Cell jp-CodeCell jp-Notebook-cell jp-mod-noOutputs\">\\n<div class=\"jp-Cell-inputWrapper\" tabindex=\"0\">\\n<div class=\"jp-Collapser jp-InputCollapser jp-Cell-inputCollapser\">\\n</div>\\n<div class=\"jp-InputArea jp-Cell-inputArea\">\\n<div class=\"jp-InputPrompt jp-InputArea-prompt\">In\\xa0[\\xa0]:</div>\\n<div class=\"jp-CodeMirrorEditor jp-Editor jp-InputArea-editor\" data-type=\"inline\">\\n<div class=\"cm-editor cm-s-jupyter\">\\n<div class=\"highlight hl-ipython3\"><pre><span></span> \\n</pre></div>\\n</div>\\n</div>\\n</div>\\n</div>\\n</div>\\n</main>\\n</body>\\n</html>\\n'"
      ]
     },
     "execution_count": 22,
     "metadata": {},
     "output_type": "execute_result"
    }
   ],
   "source": [
    "nb_html"
   ]
  },
  {
   "cell_type": "code",
   "execution_count": 23,
   "metadata": {},
   "outputs": [],
   "source": [
    "from html2text import html2text\n",
    "from src.doc_store.utils import markdown_to_text\n",
    "\n",
    "markdown_from_html_text = html2text(nb_html)\n",
    "text = markdown_to_text(markdown_from_html_text)"
   ]
  },
  {
   "cell_type": "code",
   "execution_count": 24,
   "metadata": {},
   "outputs": [
    {
     "name": "stdout",
     "output_type": "stream",
     "text": [
      "Weather App | Development Notebook¶\n",
      "In [1]:\n",
      "import os\n",
      "import pandas as pd\n",
      "import numpy as np\n",
      "from dotenv import load_dotenv\n",
      "load_dotenv()\n",
      "import openai\n",
      "import asyncio\n",
      "import nest_asyncio\n",
      "from PIL import Image as PILImage\n",
      "from IPython.display import Markdown, display, Image, HTML\n",
      "\n",
      "os.chdir(os.path.dirname(os.getcwd()))\n",
      "\n",
      "In [2]:\n",
      "from typing import List, Dict, Any\n",
      "import uuid\n",
      "from urllib.parse import urlparse\n",
      "import base64\n",
      "import lancedb\n",
      "import requests\n",
      "\n",
      "In [45]:\n",
      "from duckduckgo_search import DDGS\n",
      "\n",
      "In [70]:\n",
      "results = DDGS().news(keywords=\"austin, tx\", timelimit=\"d\", max_results=5)\n",
      "\n",
      "In [71]:\n",
      "results\n",
      "\n",
      "Out[71]:\n",
      "[{'date': '2024-04-15T09:00:00+00:00',\n",
      "  'title': 'Samsung pouring $45B into Austin area — one of largest deals in US history',\n",
      "  'body': 'President Biden said the investment will \"cement Central Texas\\'s role as a state-of-the-art semiconductor ecosystem.\"',\n",
      "  'url': 'https://www.bizjournals.com/austin/news/2024/04/15/samsung-chips-act-taylor-austin-joe-biden.html',\n",
      "  'image': 'https://media.bizj.us/view/img/12655829/samsung-in-taylor-dec-2023*1200xx2710-1524-0-26.png',\n",
      "  'source': 'The Business Journals'},\n",
      " {'date': '2024-04-15T21:04:07+00:00',\n",
      "  'title': \"Austin-based Tesla reportedly set to lay off 10% of its workforce. Here's what we know.\",\n",
      "  'body': \"The cuts could affect thousands of workers if a full 10% are cut, though it's unclear how many in Texas would be affected.\",\n",
      "  'url': 'https://www.msn.com/en-us/money/companies/austin-based-tesla-reportedly-set-to-lay-off-10-of-its-workforce-heres-what-we-know/ar-BB1lFDwt',\n",
      "  'image': 'https://www.statesman.com/gcdn/authoring/authoring-images/2024/04/02/NAAS/73184271007-tesla-jwj-00539.jpg?crop=2197,1235,x1,y1007&width=2197&height=1235&format=pjpg&auto=webp',\n",
      "  'source': 'Austin American-Statesman on MSN.com'},\n",
      " {'date': '2024-04-15T21:42:00+00:00',\n",
      "  'title': 'Summer-like humidity builds through Central Texas this week',\n",
      "  'body': 'Wednesday and Thursday hold a 10 to 20% chance for more rain, which will keep most of the region dry. However, relative humidity will still be high and temperatures are also trending warmer. This will have the air feeling super soupy and thick for the middle and end of the week.',\n",
      "  'url': 'https://www.msn.com/en-us/weather/other/summer-like-humidity-builds-through-central-texas-this-week/ar-BB1lFZ0f',\n",
      "  'image': 'https://media.kvue.com/assets/KVUE/images/c29c5cc8-874d-4620-9f1e-4f36de0fa0bd/c29c5cc8-874d-4620-9f1e-4f36de0fa0bd_1140x641.jpg',\n",
      "  'source': 'KVUE on MSN.com'},\n",
      " {'date': '2024-04-15T22:15:00+00:00',\n",
      "  'title': 'Samsung to expand in Central Texas with $6.4B federal grant',\n",
      "  'body': 'Samsung and the Department of Commerce signed a deal that will provide the company with access to a federal grant program totaling $6.4 billion.',\n",
      "  'url': 'https://www.fox7austin.com/news/samsung-expansion-with-federal-grant-in-texas',\n",
      "  'image': 'https://images.foxtv.com/m107833-mcdn.mp.lura.live/iupl/643/838/1280/720/643838FE57273B31AF3F5F6F02AAFE42.jpg?Expires=2082758400&KeyName=mcpkey1&Signature=5fDQhKsTPjpFm1SHCKzulgWyUwU&ve=1&tl=1',\n",
      "  'source': 'FOX 7 Austin KTBC'},\n",
      " {'date': '2024-04-15T21:17:00+00:00',\n",
      "  'title': 'Actress Jenna Elfman lists Austin home for rent at $13,500 a month',\n",
      "  'body': \"Fear the Walking Dead' and 'Dharma and Greg' stars list Austin home for rental at $13,500 a month. The '60s style home is located in Balcones Park.\",\n",
      "  'url': 'https://www.msn.com/en-us/news/us/actress-jenna-elfman-lists-austin-home-for-rent-at-13500-a-month/ar-BB1lFmTO',\n",
      "  'image': 'https://s.hdnux.com/photos/01/37/03/57/24918997/3/rawImage.jpg',\n",
      "  'source': 'Houston Chronicle on MSN.com'}]\n",
      "\n",
      "In [79]:\n",
      "import requests\n",
      "import datetime\n",
      "from pprint import pprint\n",
      "\n",
      "def celsius_to_fahrenheit(temp_celsius: float) -> float:\n",
      "    return (temp_celsius * 9/5) + 32\n",
      "\n",
      "API_key = os.getenv(\"OPENWEATHERMAP_API_KEY\")\n",
      "base_url = \"http://api.openweathermap.org/data/2.5/weather?\"\n",
      "\n",
      "city_name = input(\"Enter a city Name : \")\n",
      "final_url = base_url + \"appid=\" + API_key + \"&q=\" + city_name\n",
      "\n",
      "owm_response_json = requests.get(final_url).json()\n",
      "sunset_utc = datetime.datetime.fromtimestamp(owm_response_json[\"sys\"][\"sunset\"])\n",
      "\n",
      "temp_celsius = owm_response_json[\"main\"][\"temp\"] - 273.15\n",
      "temp_max_celsius = owm_response_json[\"main\"][\"temp_max\"] - 273.15\n",
      "temp_min_celsius = owm_response_json[\"main\"][\"temp_min\"] - 273.15\n",
      "temp_feels_like_celsius = owm_response_json[\"main\"][\"temp_min\"] - 273.15\n",
      "\n",
      "temp_fahrenheit = celsius_to_fahrenheit(temp_celsius)\n",
      "temp_max_fahrenheit = celsius_to_fahrenheit(temp_max_celsius)\n",
      "temp_min_fahrenheit = celsius_to_fahrenheit(temp_min_celsius)\n",
      "temp_feels_like_fahrenheit = celsius_to_fahrenheit(temp_feels_like_celsius)\n",
      "\n",
      "owm_dict = {\n",
      "      \"temp\": owm_response_json[\"main\"][\"temp\"],\n",
      "      \"description\": owm_response_json[\"weather\"][0][\"description\"],\n",
      "      \"icon\": owm_response_json[\"weather\"][0][\"icon\"],\n",
      "      \"sunset_utc\": sunset_utc,\n",
      "      \"sunset_local\": sunset_utc + datetime.timedelta(seconds=owm_response_json[\"timezone\"])\n",
      "  }\n",
      "\n",
      "(\n",
      "    f\"In {owm_response_json[\"name\"]}, the current weather is:\\n\"\n",
      "    f\"Detailed status: {owm_response_json[\"weather\"][0][\"description\"]}\\n\"\n",
      "    f\"Wind speed: {owm_response_json[\"wind\"][\"speed\"]} m/s, direction: {owm_response_json[\"wind\"][\"deg\"]}°\\n\"\n",
      "    f\"Humidity: {owm_response_json[\"main\"][\"humidity\"]}%\\n\"\n",
      "    f\"Temperature: \\n\"\n",
      "    f\"  - Current: {temp_fahrenheit}°F\\n\"\n",
      "    f\"  - High: {temp_max_fahrenheit}°F\\n\"\n",
      "    f\"  - Low: {temp_min_fahrenheit}°F\\n\"\n",
      "    f\"  - Feels like: {temp_feels_like_fahrenheit}°F\\n\"\n",
      "    f\"Rain: {rain if rain else 'No rain'}\\n\"\n",
      "    f\"Cloud cover: {owm_response_json[\"clouds\"][\"all\"]}%\"\n",
      ")\n",
      "\n",
      "\n",
      "print(\"\\nCurrent Weather Data Of \" + city_name +\":\\n\")\n",
      "pprint(weather_data)\n",
      "\n",
      "\n",
      "\n",
      "Current Weather Data Of austin:\n",
      "\n",
      "{'base': 'stations',\n",
      " 'clouds': {'all': 75},\n",
      " 'cod': 200,\n",
      " 'coord': {'lat': 30.2672, 'lon': -97.7431},\n",
      " 'dt': 1713220368,\n",
      " 'id': 4671654,\n",
      " 'main': {'feels_like': 303.45,\n",
      "          'humidity': 73,\n",
      "          'pressure': 1015,\n",
      "          'temp': 300.77,\n",
      "          'temp_max': 301.99,\n",
      "          'temp_min': 299.58},\n",
      " 'name': 'Austin',\n",
      " 'sys': {'country': 'US',\n",
      "         'id': 2003218,\n",
      "         'sunrise': 1713182582,\n",
      "         'sunset': 1713229094,\n",
      "         'type': 2},\n",
      " 'timezone': -18000,\n",
      " 'visibility': 10000,\n",
      " 'weather': [{'description': 'broken clouds',\n",
      "              'icon': '04d',\n",
      "              'id': 803,\n",
      "              'main': 'Clouds'}],\n",
      " 'wind': {'deg': 140, 'gust': 12.86, 'speed': 8.23}}\n",
      "\n",
      "In [55]:\n",
      "from pydantic import BaseModel, model_validator, field_validator\n",
      "from typing import Optional, List\n",
      "from datetime import datetime, timedelta\n",
      "import requests\n",
      "import os\n",
      "\n",
      "class WeatherData(BaseModel):\n",
      "    temp: float\n",
      "    temp_max: float\n",
      "    temp_min: float\n",
      "    feels_like: float\n",
      "    description: str\n",
      "    icon: str\n",
      "    wind_speed: float\n",
      "    wind_direction: int\n",
      "    humidity: int\n",
      "    rain: str\n",
      "    cloud_cover: int\n",
      "    sunset_local: str\n",
      "    city_name: str\n",
      "    date_stamp: str\n",
      "\n",
      "    def __str__(self):\n",
      "        return (\n",
      "            f\"{self.date_stamp}\\n\"\n",
      "            f\"In {self.city_name}, the weather is currently:\\n\"\n",
      "            f\"Status: {self.description.title()}\\n\"\n",
      "            f\"Wind speed: {self.wind_speed} m/s, direction: {self.wind_direction}°\\n\"\n",
      "            f\"Humidity: {self.humidity}%\\n\"\n",
      "            f\"Temperature: \\n\"\n",
      "            f\"  - Current: {self.temp}°F\\n\"\n",
      "            f\"  - High: {self.temp_max}°F\\n\"\n",
      "            f\"  - Low: {self.temp_min}°F\\n\"\n",
      "            f\"  - Feels like: {self.feels_like}°F\\n\"\n",
      "            f\"Rain: {self.rain if self.rain else 'No rain'}\\n\"\n",
      "            f\"Cloud cover: {self.cloud_cover}%\"\n",
      "        )\n",
      "\n",
      "    @property\n",
      "    def to_markdown(self):\n",
      "        return (\n",
      "            f\"{self.date_stamp}\\n\\n\"\n",
      "            f\"The weather in **{self.city_name}** is currently:\\n\\n\"\n",
      "            f\"Status: {self.description.title()}\\n\\n\"\n",
      "            f\"Wind speed: {self.wind_speed} m/s, direction: {self.wind_direction}°\\n\\n\"\n",
      "            f\"Humidity: {self.humidity}%\\n\\n\"\n",
      "            f\"Temperature: \\n\\n\"\n",
      "            f\"  - Current: {self.temp}°F\\n\"\n",
      "            f\"  - High: {self.temp_max}°F\\n\"\n",
      "            f\"  - Low: {self.temp_min}°F\\n\"\n",
      "            f\"  - Feels like: {self.feels_like}°F\\n\\n\"\n",
      "            f\"Rain: {self.rain if self.rain else 'No rain'}\\n\\n\"\n",
      "            f\"Cloud cover: {self.cloud_cover}%\"\n",
      "        )\n",
      "\n",
      "def fetch_weather(search_query: str, search_type: str = \"city\") -> WeatherData:\n",
      "    API_key = os.getenv(\"OPENWEATHERMAP_API_KEY\")\n",
      "    base_url = \"http://api.openweathermap.org/data/2.5/weather?\"\n",
      "\n",
      "    if search_type == \"city\":\n",
      "        final_url = f\"{base_url}appid={API_key}&q={search_query}\"\n",
      "    elif search_type == \"zip\":\n",
      "        final_url = f\"{base_url}appid={API_key}&zip={search_query}\"\n",
      "    else:\n",
      "        raise ValueError(f\"Invalid search type: {search_type}. Must be either 'city' or 'zip'.\")\n",
      "\n",
      "    owm_response_json = requests.get(final_url).json()\n",
      "\n",
      "    sunset_utc = datetime.fromtimestamp(owm_response_json[\"sys\"][\"sunset\"])\n",
      "    sunset_local = sunset_utc.strftime(\"%I:%M %p\")\n",
      "\n",
      "    temp_celsius = owm_response_json[\"main\"][\"temp\"] - 273.15\n",
      "    temp_max_celsius = owm_response_json[\"main\"][\"temp_max\"] - 273.15\n",
      "    temp_min_celsius = owm_response_json[\"main\"][\"temp_min\"] - 273.15\n",
      "    temp_feels_like_celsius = owm_response_json[\"main\"][\"feels_like\"] - 273.15\n",
      "\n",
      "    temp_fahrenheit = round(celsius_to_fahrenheit(temp_celsius), 2)\n",
      "    temp_max_fahrenheit = round(celsius_to_fahrenheit(temp_max_celsius), 2)\n",
      "    temp_min_fahrenheit = round(celsius_to_fahrenheit(temp_min_celsius), 2)\n",
      "    temp_feels_like_fahrenheit = round(celsius_to_fahrenheit(temp_feels_like_celsius), 2)\n",
      "\n",
      "    rain = owm_response_json.get(\"rain\", \"No rain\")\n",
      "\n",
      "    owm_dict = {\n",
      "        \"temp\": temp_fahrenheit,\n",
      "        \"temp_max\": temp_max_fahrenheit,\n",
      "        \"temp_min\": temp_min_fahrenheit,\n",
      "        \"feels_like\": temp_feels_like_fahrenheit,\n",
      "        \"description\": owm_response_json[\"weather\"][0][\"description\"],\n",
      "        \"icon\": owm_response_json[\"weather\"][0][\"icon\"],\n",
      "        \"wind_speed\": owm_response_json[\"wind\"][\"speed\"],\n",
      "        \"wind_direction\": owm_response_json[\"wind\"][\"deg\"],\n",
      "        \"humidity\": owm_response_json[\"main\"][\"humidity\"],\n",
      "        \"rain\": rain,\n",
      "        \"cloud_cover\": owm_response_json[\"clouds\"][\"all\"],\n",
      "        \"sunset_local\": sunset_local,\n",
      "        \"city_name\": owm_response_json[\"name\"],\n",
      "        \"date_stamp\": datetime.utcnow().strftime(\"%A, %B %d, %Y\")\n",
      "    }\n",
      "\n",
      "    return WeatherData(**owm_dict)\n",
      "\n",
      "In [58]:\n",
      "city = \"marietta\"\n",
      "weather = fetch_weather('90210', search_type='zip')\n",
      "print(weather)\n",
      "\n",
      "\n",
      "\n",
      "Tuesday, April 16, 2024\n",
      "In Beverly Hills, the weather is currently:\n",
      "Status: Clear Sky\n",
      "Wind speed: 5.66 m/s, direction: 270°\n",
      "Humidity: 54%\n",
      "Temperature: \n",
      "  - Current: 65.44°F\n",
      "  - High: 74.3°F\n",
      "  - Low: 58.06°F\n",
      "  - Feels like: 64.22°F\n",
      "Rain: No rain\n",
      "Cloud cover: 0%\n",
      "\n",
      "In [ ]:\n",
      "In [ ]:\n",
      "In [ ]:\n",
      "In [ ]:\n"
     ]
    }
   ],
   "source": [
    "print(text)"
   ]
  },
  {
   "cell_type": "code",
   "execution_count": 26,
   "metadata": {},
   "outputs": [
    {
     "data": {
      "text/plain": [
       "3238"
      ]
     },
     "execution_count": 26,
     "metadata": {},
     "output_type": "execute_result"
    }
   ],
   "source": [
    "from src.utils.gen_utils import count_tokens\n",
    "\n",
    "count_tokens(text)"
   ]
  },
  {
   "cell_type": "code",
   "execution_count": 27,
   "metadata": {},
   "outputs": [],
   "source": [
    "from src.utils.llm import prompt"
   ]
  },
  {
   "cell_type": "code",
   "execution_count": 28,
   "metadata": {},
   "outputs": [],
   "source": [
    "system_message = \"\"\"\n",
    "You are a python project documentation AI specializing in drafting clear wiki-style documentation in markdown that is easy to read for technical and non-technical readers. \n",
    "Users will provide contents of a Jupyter Notebook that has been converted to text. \n",
    "Your task is to generate a structured summary of the code and its output. Try to infer intent so that we explain the benefits and takeaways.\n",
    "Include example python code blocks for the core functionality only, and add docstrings and examples using toy/fake data where needed to enhance readability.\n",
    "\"\"\""
   ]
  },
  {
   "cell_type": "code",
   "execution_count": 29,
   "metadata": {},
   "outputs": [],
   "source": [
    "nb_doc = prompt(\n",
    "    instructions=system_message,\n",
    "    prompt=f\"Please review the following jupyter notebook and generate a markdown summary suitable to use as a readme file. Notebook: {text}\",\n",
    ")"
   ]
  },
  {
   "cell_type": "code",
   "execution_count": 30,
   "metadata": {},
   "outputs": [
    {
     "data": {
      "text/markdown": [
       "# Weather App Documentation\n",
       "\n",
       "## Overview\n",
       "\n",
       "The Weather App is a Jupyter Notebook project that demonstrates how to develop a simple application to fetch and display weather information and news related to a specific location. The notebook showcases the integration of various Python libraries and APIs for real-time data retrieval and processing.\n",
       "\n",
       "## Functionalities\n",
       "\n",
       "1. **Fetching News**: The app can retrieve current news related to a specific location, such as Austin, TX. DuckDuckGo's `DDGS` library is used to search for news with specific keywords.\n",
       "\n",
       "```python\n",
       "from duckduckgo_search import DDGS\n",
       "\n",
       "results = DDGS().news(keywords=\"austin, tx\", timelimit=\"d\", max_results=5)\n",
       "```\n",
       "\n",
       "2. **Weather Data Retrieval**: The app can fetch weather information from the OpenWeatherMap API. It includes temperature (current, high, low, feels like), weather conditions, wind speed and direction, humidity, cloud cover, and local sunset time.\n",
       "\n",
       "```python\n",
       "import requests\n",
       "import datetime\n",
       "\n",
       "API_key = os.getenv(\"OPENWEATHERMAP_API_KEY\")\n",
       "base_url = \"http://api.openweathermap.org/data/2.5/weather?\"\n",
       "\n",
       "city_name = input(\"Enter a city Name : \")\n",
       "final_url = base_url + \"appid=\" + API_key + \"&q=\" + city_name\n",
       "\n",
       "# Additional code to parse the response and format the weather data is needed.\n",
       "```\n",
       "\n",
       "3. **Conversion of Temperature**: The app has a utility to convert temperatures from Celsius to Fahrenheit.\n",
       "\n",
       "```python\n",
       "def celsius_to_fahrenheit(temp_celsius: float) -> float:\n",
       "    \"\"\"Convert Celsius to Fahrenheit.\"\"\"\n",
       "    return (temp_celsius * 9/5) + 32\n",
       "```\n",
       "\n",
       "4. **Weather Data Representation**: The app uses a Pydantic model `WeatherData` to store and display weather information in a structured format. \n",
       "\n",
       "```python\n",
       "from pydantic import BaseModel\n",
       "\n",
       "class WeatherData(BaseModel):\n",
       "    # Fields declaration\n",
       "    # ...\n",
       "\n",
       "def fetch_weather(search_query: str, search_type: str = \"city\") -> WeatherData:\n",
       "    \"\"\"Fetch weather data from OpenWeatherMap and return a WeatherData object.\"\"\"\n",
       "    # Request building and processing\n",
       "    # ...\n",
       "\n",
       "# Usage\n",
       "weather = fetch_weather('90210', search_type='zip')\n",
       "print(weather.to_markdown)\n",
       "```\n",
       "\n",
       "## Installation and Setup\n",
       "\n",
       "To run the Weather App, you will need to have Python installed along with the necessary libraries:\n",
       "\n",
       "1. Install libraries by using `pip`:\n",
       "   ```\n",
       "   pip install pandas numpy python-dotenv openai nest_asyncio Pillow requests pydantic duckduckgo_search\n",
       "   ```\n",
       "2. You will need to obtain an API key from OpenWeatherMap and set it as an environment variable or load it from a `.env` file using the `python-dotenv` library.\n",
       "\n",
       "## Usage\n",
       "\n",
       "To get weather data and news:\n",
       "\n",
       "1. Run the news fetching block to get the latest headlines.\n",
       "2. Prompt the user to enter the name of the city or zip code to fetch weather details.\n",
       "3. Utilize the `WeatherData` Pydantic model to format and print the fetched weather details.\n",
       "\n",
       "## Example Output\n",
       "\n",
       "Fetching news for Austin, TX returns a list of dictionaries with news articles containing information such as date, title, body, URL, and image source.\n",
       "\n",
       "For weather data, an example output might look like this after converting the response JSON into the `WeatherData` model and printing:\n",
       "\n",
       "```\n",
       "Tuesday, April 16, 2024\n",
       "In Beverly Hills, the weather is currently:\n",
       "Status: Clear Sky\n",
       "Wind speed: 5.66 m/s, direction: 270°\n",
       "Humidity: 54%\n",
       "Temperature: \n",
       "  - Current: 65.44°F\n",
       "  - High: 74.3°F\n",
       "  - Low: 58.06°F\n",
       "  - Feels like: 64.22°F\n",
       "Rain: No rain\n",
       "Cloud cover: 0%\n",
       "```\n",
       "\n",
       "## Conclusion\n",
       "\n",
       "The Weather App notebook serves as a guideline for creating a simple weather and news fetching application. It leverages external APIs, processes JSON responses, and presents information in a readable format. Suitable for both technical and non-technical users, the end result is an application that provides timely and relevant details about the weather and news of a given location."
      ],
      "text/plain": [
       "<IPython.core.display.Markdown object>"
      ]
     },
     "execution_count": 30,
     "metadata": {},
     "output_type": "execute_result"
    }
   ],
   "source": [
    "Markdown(nb_doc)"
   ]
  },
  {
   "cell_type": "code",
   "execution_count": 31,
   "metadata": {},
   "outputs": [],
   "source": [
    "def read_python_module(file_path: str) -> str:\n",
    "    \"\"\"\n",
    "    Read a Python module file and return its contents as a string.\n",
    "\n",
    "    Args:\n",
    "        file_path (str): The path to the Python module file.\n",
    "\n",
    "    Returns:\n",
    "        str: The contents of the Python module file as a string.\n",
    "    \"\"\"\n",
    "    with open(file_path, 'r') as file:\n",
    "        module_contents = file.read()\n",
    "    return module_contents\n"
   ]
  },
  {
   "cell_type": "code",
   "execution_count": 32,
   "metadata": {},
   "outputs": [],
   "source": [
    "text_module = read_python_module('src/search/base.py')"
   ]
  },
  {
   "cell_type": "code",
   "execution_count": 33,
   "metadata": {},
   "outputs": [
    {
     "name": "stdout",
     "output_type": "stream",
     "text": [
      "\"\"\"`\n",
      "This class follows the Dependency Inversion Principle, which promotes loose coupling and easier testability and maintainability. \n",
      "It allows swapping out different search engine implementations without affecting the code that uses the SearchEngine factory to create objects.\n",
      "\n",
      "The main idea is to create search engine objects on-the-fly using only a SearchType emun and a config.\n",
      "\n",
      "## Current implementations:\n",
      "\n",
      "1. KEYWORD: Keyword-based search\n",
      "   - Exact match with BM25 weighting via Tantivy and LanceDB\n",
      "   - Benefits: Fast, simple to implement, works well for exact matches\n",
      "   - Limitations: Lacks understanding of context and semantics, struggles with synonyms and related terms\n",
      "\n",
      "2. SEMANTIC: Semantic search using dense vector embeddings\n",
      "   - FAISS vector search over OpenAI embeddings\n",
      "   - Benefits: Captures semantic meaning, can find relevant results even if keywords don't exactly match\n",
      "   - Limitations: Computationally expensive, requires pre-computed embeddings, may miss exact keyword matches\n",
      "   \n",
      "3. SPLADE: SParse Lexical AnD Expansion Model\n",
      "   - Neural retrieval model which learns query/document sparse expansion via BERT MLM head and sparse regularization\n",
      "   - Benefits: Efficient storage and retrieval, effectively blends keyword matching and capturing semantics via expansion terms\n",
      "   - Limitations: Requires specialized less widely used model than dense embeddings\n",
      "\n",
      "4. HYBRID: Combines keyword and semantic search\n",
      "   - Conducts two initial searches (semantic and SPLADE) and reranks results using Colbertv2\n",
      "   - Benefits: Leverages strengths of both approaches, can find both exact matches and semantically relevant results\n",
      "   - Limitations: More complex to implement, may require tuning to balance keyword and semantic components\n",
      "   \n",
      "\"\"\"\n",
      "\n",
      "\n",
      "from abc import ABC, abstractmethod\n",
      "from enum import Enum\n",
      "from pathlib import Path\n",
      "from typing import Any, Dict, Optional, Union\n",
      "import pandas as pd\n",
      "from pydantic import BaseModel, Field\n",
      "\n",
      "from pydantic_settings import BaseSettings\n",
      "\n",
      "from src.utils.gen_utils import DataFrameCache\n",
      "from src.utils.logging import setup_colored_logging\n",
      "\n",
      "logger = setup_colored_logging(__name__)\n",
      "\n",
      "\n",
      "class SearchType(str, Enum):\n",
      "    \"\"\"Enum representing different types of search engines.\"\"\"\n",
      "    \n",
      "    KEYWORD = \"keyword\"\n",
      "    SEMANTIC = \"semantic\"\n",
      "    HYBRID = \"hybrid\"\n",
      "    SPLADE = \"splade\"\n",
      "\n",
      "\n",
      "class SearchEngineConfig(BaseSettings):\n",
      "    \"\"\"Configuration class for search engines.\n",
      "\n",
      "    Attributes:\n",
      "        type (SearchType): The type of search engine.\n",
      "        data_path (Optional[Path]): Path to the data file.\n",
      "        text_column (Optional[str]): Name of the text column in the data.\n",
      "        embedding_column (Optional[str]): Name of the embedding column in the data.\n",
      "    \"\"\"\n",
      "    type: SearchType\n",
      "    data_path: Path | None = None\n",
      "    text_column: str | None = None\n",
      "    embedding_column: str | None = None\n",
      "    \n",
      "    \n",
      "class SearchEngineBase(ABC):\n",
      "    \"\"\"Abstract base class for search engines.\"\"\"\n",
      "    \n",
      "    @abstractmethod\n",
      "    def create(config: SearchEngineConfig):\n",
      "\n",
      "        pass\n",
      "    \n",
      "    @abstractmethod\n",
      "    def query_similar_documents(query: str) -> pd.DataFrame:\n",
      "        \n",
      "        pass\n",
      "\n",
      "\n",
      "class SearchEngine(SearchEngineBase):\n",
      "    \"\"\"Abstract factory class for creating search engines.\n",
      "\n",
      "    To add a new search engine:\n",
      "    1. Create a configuration class subclassing SearchEngineConfig.\n",
      "    2. Implement the specific search engine class inheriting from SearchEngineBase.\n",
      "    3. Update the create() method in this class to handle the new search engine type.\n",
      "    4. Add the name of your search engine to the SearchType enum.\n",
      "\n",
      "    Attributes:\n",
      "        config (SearchEngineConfig): Configuration for the search engine.\n",
      "    \"\"\"\n",
      "\n",
      "    def __init__(self, config: SearchEngineConfig):\n",
      "        self.config = config\n",
      "\n",
      "    @staticmethod\n",
      "    def create(config: SearchEngineConfig) -> Optional[\"SearchEngine\"]:\n",
      "        \"\"\"Create a new instance of a search engine based on the provided configuration.\n",
      "\n",
      "        Args:\n",
      "            config (SearchEngineConfig): Configuration for the search engine.\n",
      "\n",
      "        Returns:\n",
      "            Optional[SearchEngine]: The created search engine instance, or None if not supported.\n",
      "        \"\"\"\n",
      "        from src.agent.tools.semantic_search import SemanticSearch\n",
      "        from src.agent.tools.splade_search import SPLADESparseSearch\n",
      "        from src.agent.tools.hybrid_search import HybridSearch\n",
      "        from src.agent.tools.full_text_search import FTSSearch\n",
      "\n",
      "        cached_df = DataFrameCache(config.data_path).df\n",
      "\n",
      "        if config.type == SearchType.SEMANTIC:\n",
      "            return SemanticSearch(\n",
      "                df=cached_df,\n",
      "                text_column=config.text_column,\n",
      "                embedding_column=config.embedding_column,\n",
      "            )\n",
      "        if config.type == SearchType.SPLADE:\n",
      "            return SPLADESparseSearch(\n",
      "                df=cached_df,\n",
      "                text_column=config.text_column,\n",
      "                embedding_column=config.embedding_column,\n",
      "            )\n",
      "        if config.type == SearchType.HYBRID:\n",
      "            return HybridSearch(\n",
      "                df=cached_df,\n",
      "                text_column=config.text_column,\n",
      "                dense_embedding_column=config.dense_embedding_column,\n",
      "                sparse_embedding_column=config.sparse_embedding_column,\n",
      "            )\n",
      "        if config.type == SearchType.KEYWORD:\n",
      "                return FTSSearch(\n",
      "                df=cached_df,\n",
      "                text_column=config.text_column,\n",
      "                embedding_column=config.embedding_column,\n",
      "            )\n",
      "                \n",
      "    def query_similar_documents(self, query: str) -> pd.DataFrame:\n",
      "\n",
      "        raise NotImplementedError(\"query_similar_documents is not implemented in the base SearchEngine class\")\n",
      "\n",
      "\n"
     ]
    }
   ],
   "source": [
    "print(text_module)"
   ]
  },
  {
   "cell_type": "code",
   "execution_count": 3,
   "metadata": {},
   "outputs": [],
   "source": [
    "from src.search.nb_doc import NotebookDocGenerator"
   ]
  },
  {
   "cell_type": "code",
   "execution_count": 4,
   "metadata": {},
   "outputs": [],
   "source": [
    "doccer = NotebookDocGenerator(\n",
    "    api_key=os.getenv(\"OPENAI_API_KEY\")\n",
    ")"
   ]
  },
  {
   "cell_type": "code",
   "execution_count": 5,
   "metadata": {},
   "outputs": [],
   "source": [
    "doccer.generate_documentation(\n",
    "    file_path='src/search/base.py',\n",
    "    output_path='outputs/test_auto_documentation.md'\n",
    ")"
   ]
  },
  {
   "cell_type": "code",
   "execution_count": 6,
   "metadata": {},
   "outputs": [],
   "source": [
    "from src.parsing.pdf2markdown import convert_pdf_to_markdown"
   ]
  },
  {
   "cell_type": "code",
   "execution_count": 7,
   "metadata": {},
   "outputs": [
    {
     "name": "stdout",
     "output_type": "stream",
     "text": [
      "Markdown creation time for data/pdf/A1-Royce Realty Tuesday Weekly Report.pdf: 0.1 sec.\n"
     ]
    }
   ],
   "source": [
    "royce_doc = convert_pdf_to_markdown(\n",
    "    filename='data/pdf/A1-Royce Realty Tuesday Weekly Report.pdf'\n",
    ")"
   ]
  },
  {
   "cell_type": "code",
   "execution_count": 9,
   "metadata": {},
   "outputs": [
    {
     "data": {
      "text/markdown": [
       "\n",
       "# Royce Realty Tuesday Weekly Report # Date: #  # \n",
       "\n",
       "Email to [Regina@roycerealty.com](mailto:Regina@roycerealty.com) and Royce.price@roycerealty.com\n",
       "\n",
       "\n",
       "|Name|Date|Date Turned Into Office|\n",
       "|---|---|---|\n",
       "|Client/Clients Names|||\n",
       "|Buyers|||\n",
       "|Buyers Property Addresses|||\n",
       "|New Home Buyers|||\n",
       "|New Home Buyer Address|||\n",
       "|Sellers|||\n",
       "|Listni g Property Addresses|||\n",
       "|Sales Price for Properties|||\n",
       "|Tenant/Tenants Names|||\n",
       "|Lease/Landlord|||\n",
       "|Lease Property Addresses|||\n",
       "|Title Company|||\n",
       "|Execution Date:|||\n",
       "\n",
       "\n",
       "Signed Date\n",
       "\n",
       "\n",
       "\n",
       "-----\n",
       "\n",
       "\n",
       "# Royce Realty Tuesday Weekly Report # Date: #  # \n",
       "\n",
       "Email to [Regina@roycerealty.com](mailto:Regina@roycerealty.com) and Royce.price@roycerealty.com\n",
       "\n",
       "# NOTES\n",
       "\n",
       "\n",
       "\n",
       "-----\n",
       "\n"
      ],
      "text/plain": [
       "<IPython.core.display.Markdown object>"
      ]
     },
     "execution_count": 9,
     "metadata": {},
     "output_type": "execute_result"
    }
   ],
   "source": [
    "Markdown(royce_doc)"
   ]
  },
  {
   "cell_type": "code",
   "execution_count": null,
   "metadata": {},
   "outputs": [],
   "source": []
  },
  {
   "cell_type": "code",
   "execution_count": 1,
   "metadata": {},
   "outputs": [
    {
     "ename": "TypeError",
     "evalue": "AsyncMessages.create() got an unexpected keyword argument 'file_ids'",
     "output_type": "error",
     "traceback": [
      "\u001b[1;31m---------------------------------------------------------------------------\u001b[0m",
      "\u001b[1;31mTypeError\u001b[0m                                 Traceback (most recent call last)",
      "Cell \u001b[1;32mIn[1], line 7\u001b[0m\n\u001b[0;32m      4\u001b[0m ai \u001b[38;5;241m=\u001b[39m Assistant(name\u001b[38;5;241m=\u001b[39m\u001b[38;5;124m\"\u001b[39m\u001b[38;5;124mMarvin\u001b[39m\u001b[38;5;124m\"\u001b[39m, instructions\u001b[38;5;241m=\u001b[39m\u001b[38;5;124m\"\u001b[39m\u001b[38;5;124mYou the Paranoid Android.\u001b[39m\u001b[38;5;124m\"\u001b[39m)\n\u001b[0;32m      6\u001b[0m \u001b[38;5;66;03m# send a message to the assistant and have it respond\u001b[39;00m\n\u001b[1;32m----> 7\u001b[0m \u001b[43mai\u001b[49m\u001b[38;5;241;43m.\u001b[39;49m\u001b[43msay\u001b[49m\u001b[43m(\u001b[49m\u001b[38;5;124;43m'\u001b[39;49m\u001b[38;5;124;43mHello, Marvin!\u001b[39;49m\u001b[38;5;124;43m'\u001b[39;49m\u001b[43m)\u001b[49m\n",
      "File \u001b[1;32mc:\\Users\\pdoub\\opinionated-rag\\.venv\\lib\\site-packages\\marvin\\utilities\\asyncio.py:190\u001b[0m, in \u001b[0;36mexpose_sync_method.<locals>.decorator.<locals>.sync_wrapper\u001b[1;34m(*args, **kwargs)\u001b[0m\n\u001b[0;32m    187\u001b[0m \u001b[38;5;129m@functools\u001b[39m\u001b[38;5;241m.\u001b[39mwraps(async_method)\n\u001b[0;32m    188\u001b[0m \u001b[38;5;28;01mdef\u001b[39;00m \u001b[38;5;21msync_wrapper\u001b[39m(\u001b[38;5;241m*\u001b[39margs: Any, \u001b[38;5;241m*\u001b[39m\u001b[38;5;241m*\u001b[39mkwargs: Any) \u001b[38;5;241m-\u001b[39m\u001b[38;5;241m>\u001b[39m T:\n\u001b[0;32m    189\u001b[0m     coro \u001b[38;5;241m=\u001b[39m async_method(\u001b[38;5;241m*\u001b[39margs, \u001b[38;5;241m*\u001b[39m\u001b[38;5;241m*\u001b[39mkwargs)\n\u001b[1;32m--> 190\u001b[0m     \u001b[38;5;28;01mreturn\u001b[39;00m \u001b[43mrun_sync\u001b[49m\u001b[43m(\u001b[49m\u001b[43mcoro\u001b[49m\u001b[43m)\u001b[49m\n",
      "File \u001b[1;32mc:\\Users\\pdoub\\opinionated-rag\\.venv\\lib\\site-packages\\marvin\\utilities\\asyncio.py:99\u001b[0m, in \u001b[0;36mrun_sync\u001b[1;34m(coroutine)\u001b[0m\n\u001b[0;32m     97\u001b[0m     \u001b[38;5;28;01mwith\u001b[39;00m ThreadPoolExecutor() \u001b[38;5;28;01mas\u001b[39;00m executor:\n\u001b[0;32m     98\u001b[0m         future \u001b[38;5;241m=\u001b[39m executor\u001b[38;5;241m.\u001b[39msubmit(asyncio\u001b[38;5;241m.\u001b[39mrun, coroutine)\n\u001b[1;32m---> 99\u001b[0m         \u001b[38;5;28;01mreturn\u001b[39;00m \u001b[43mfuture\u001b[49m\u001b[38;5;241;43m.\u001b[39;49m\u001b[43mresult\u001b[49m\u001b[43m(\u001b[49m\u001b[43m)\u001b[49m\n\u001b[0;32m    100\u001b[0m \u001b[38;5;28;01melse\u001b[39;00m:\n\u001b[0;32m    101\u001b[0m     \u001b[38;5;28;01mreturn\u001b[39;00m asyncio\u001b[38;5;241m.\u001b[39mrun(coroutine)\n",
      "File \u001b[1;32m~\\.pyenv\\pyenv-win\\versions\\3.10.11\\lib\\concurrent\\futures\\_base.py:458\u001b[0m, in \u001b[0;36mFuture.result\u001b[1;34m(self, timeout)\u001b[0m\n\u001b[0;32m    456\u001b[0m     \u001b[38;5;28;01mraise\u001b[39;00m CancelledError()\n\u001b[0;32m    457\u001b[0m \u001b[38;5;28;01melif\u001b[39;00m \u001b[38;5;28mself\u001b[39m\u001b[38;5;241m.\u001b[39m_state \u001b[38;5;241m==\u001b[39m FINISHED:\n\u001b[1;32m--> 458\u001b[0m     \u001b[38;5;28;01mreturn\u001b[39;00m \u001b[38;5;28;43mself\u001b[39;49m\u001b[38;5;241;43m.\u001b[39;49m\u001b[43m__get_result\u001b[49m\u001b[43m(\u001b[49m\u001b[43m)\u001b[49m\n\u001b[0;32m    459\u001b[0m \u001b[38;5;28;01melse\u001b[39;00m:\n\u001b[0;32m    460\u001b[0m     \u001b[38;5;28;01mraise\u001b[39;00m \u001b[38;5;167;01mTimeoutError\u001b[39;00m()\n",
      "File \u001b[1;32m~\\.pyenv\\pyenv-win\\versions\\3.10.11\\lib\\concurrent\\futures\\_base.py:403\u001b[0m, in \u001b[0;36mFuture.__get_result\u001b[1;34m(self)\u001b[0m\n\u001b[0;32m    401\u001b[0m \u001b[38;5;28;01mif\u001b[39;00m \u001b[38;5;28mself\u001b[39m\u001b[38;5;241m.\u001b[39m_exception:\n\u001b[0;32m    402\u001b[0m     \u001b[38;5;28;01mtry\u001b[39;00m:\n\u001b[1;32m--> 403\u001b[0m         \u001b[38;5;28;01mraise\u001b[39;00m \u001b[38;5;28mself\u001b[39m\u001b[38;5;241m.\u001b[39m_exception\n\u001b[0;32m    404\u001b[0m     \u001b[38;5;28;01mfinally\u001b[39;00m:\n\u001b[0;32m    405\u001b[0m         \u001b[38;5;66;03m# Break a reference cycle with the exception in self._exception\u001b[39;00m\n\u001b[0;32m    406\u001b[0m         \u001b[38;5;28mself\u001b[39m \u001b[38;5;241m=\u001b[39m \u001b[38;5;28;01mNone\u001b[39;00m\n",
      "File \u001b[1;32m~\\.pyenv\\pyenv-win\\versions\\3.10.11\\lib\\concurrent\\futures\\thread.py:58\u001b[0m, in \u001b[0;36m_WorkItem.run\u001b[1;34m(self)\u001b[0m\n\u001b[0;32m     55\u001b[0m     \u001b[38;5;28;01mreturn\u001b[39;00m\n\u001b[0;32m     57\u001b[0m \u001b[38;5;28;01mtry\u001b[39;00m:\n\u001b[1;32m---> 58\u001b[0m     result \u001b[38;5;241m=\u001b[39m \u001b[38;5;28mself\u001b[39m\u001b[38;5;241m.\u001b[39mfn(\u001b[38;5;241m*\u001b[39m\u001b[38;5;28mself\u001b[39m\u001b[38;5;241m.\u001b[39margs, \u001b[38;5;241m*\u001b[39m\u001b[38;5;241m*\u001b[39m\u001b[38;5;28mself\u001b[39m\u001b[38;5;241m.\u001b[39mkwargs)\n\u001b[0;32m     59\u001b[0m \u001b[38;5;28;01mexcept\u001b[39;00m \u001b[38;5;167;01mBaseException\u001b[39;00m \u001b[38;5;28;01mas\u001b[39;00m exc:\n\u001b[0;32m     60\u001b[0m     \u001b[38;5;28mself\u001b[39m\u001b[38;5;241m.\u001b[39mfuture\u001b[38;5;241m.\u001b[39mset_exception(exc)\n",
      "File \u001b[1;32m~\\.pyenv\\pyenv-win\\versions\\3.10.11\\lib\\asyncio\\runners.py:44\u001b[0m, in \u001b[0;36mrun\u001b[1;34m(main, debug)\u001b[0m\n\u001b[0;32m     42\u001b[0m     \u001b[38;5;28;01mif\u001b[39;00m debug \u001b[38;5;129;01mis\u001b[39;00m \u001b[38;5;129;01mnot\u001b[39;00m \u001b[38;5;28;01mNone\u001b[39;00m:\n\u001b[0;32m     43\u001b[0m         loop\u001b[38;5;241m.\u001b[39mset_debug(debug)\n\u001b[1;32m---> 44\u001b[0m     \u001b[38;5;28;01mreturn\u001b[39;00m \u001b[43mloop\u001b[49m\u001b[38;5;241;43m.\u001b[39;49m\u001b[43mrun_until_complete\u001b[49m\u001b[43m(\u001b[49m\u001b[43mmain\u001b[49m\u001b[43m)\u001b[49m\n\u001b[0;32m     45\u001b[0m \u001b[38;5;28;01mfinally\u001b[39;00m:\n\u001b[0;32m     46\u001b[0m     \u001b[38;5;28;01mtry\u001b[39;00m:\n",
      "File \u001b[1;32m~\\.pyenv\\pyenv-win\\versions\\3.10.11\\lib\\asyncio\\base_events.py:649\u001b[0m, in \u001b[0;36mBaseEventLoop.run_until_complete\u001b[1;34m(self, future)\u001b[0m\n\u001b[0;32m    646\u001b[0m \u001b[38;5;28;01mif\u001b[39;00m \u001b[38;5;129;01mnot\u001b[39;00m future\u001b[38;5;241m.\u001b[39mdone():\n\u001b[0;32m    647\u001b[0m     \u001b[38;5;28;01mraise\u001b[39;00m \u001b[38;5;167;01mRuntimeError\u001b[39;00m(\u001b[38;5;124m'\u001b[39m\u001b[38;5;124mEvent loop stopped before Future completed.\u001b[39m\u001b[38;5;124m'\u001b[39m)\n\u001b[1;32m--> 649\u001b[0m \u001b[38;5;28;01mreturn\u001b[39;00m \u001b[43mfuture\u001b[49m\u001b[38;5;241;43m.\u001b[39;49m\u001b[43mresult\u001b[49m\u001b[43m(\u001b[49m\u001b[43m)\u001b[49m\n",
      "File \u001b[1;32mc:\\Users\\pdoub\\opinionated-rag\\.venv\\lib\\site-packages\\marvin\\beta\\assistants\\assistants.py:117\u001b[0m, in \u001b[0;36mAssistant.say_async\u001b[1;34m(self, message, file_paths, thread, event_handler_class, **run_kwargs)\u001b[0m\n\u001b[0;32m    114\u001b[0m     event_handler_class \u001b[38;5;241m=\u001b[39m default_run_handler_class()\n\u001b[0;32m    116\u001b[0m \u001b[38;5;66;03m# post the message\u001b[39;00m\n\u001b[1;32m--> 117\u001b[0m user_message \u001b[38;5;241m=\u001b[39m \u001b[38;5;28;01mawait\u001b[39;00m thread\u001b[38;5;241m.\u001b[39madd_async(message, file_paths\u001b[38;5;241m=\u001b[39mfile_paths)\n\u001b[0;32m    119\u001b[0m \u001b[38;5;28;01mfrom\u001b[39;00m \u001b[38;5;21;01mmarvin\u001b[39;00m\u001b[38;5;21;01m.\u001b[39;00m\u001b[38;5;21;01mbeta\u001b[39;00m\u001b[38;5;21;01m.\u001b[39;00m\u001b[38;5;21;01massistants\u001b[39;00m\u001b[38;5;21;01m.\u001b[39;00m\u001b[38;5;21;01mruns\u001b[39;00m \u001b[38;5;28;01mimport\u001b[39;00m Run\n\u001b[0;32m    121\u001b[0m run \u001b[38;5;241m=\u001b[39m Run(\n\u001b[0;32m    122\u001b[0m     \u001b[38;5;66;03m# provide the user message as part of the run to print\u001b[39;00m\n\u001b[0;32m    123\u001b[0m     messages\u001b[38;5;241m=\u001b[39m[user_message],\n\u001b[1;32m   (...)\u001b[0m\n\u001b[0;32m    127\u001b[0m     \u001b[38;5;241m*\u001b[39m\u001b[38;5;241m*\u001b[39mrun_kwargs,\n\u001b[0;32m    128\u001b[0m )\n",
      "File \u001b[1;32mc:\\Users\\pdoub\\opinionated-rag\\.venv\\lib\\site-packages\\marvin\\beta\\assistants\\threads.py:83\u001b[0m, in \u001b[0;36mThread.add_async\u001b[1;34m(self, message, file_paths, role)\u001b[0m\n\u001b[0;32m     80\u001b[0m         file_ids\u001b[38;5;241m.\u001b[39mappend(response\u001b[38;5;241m.\u001b[39mid)\n\u001b[0;32m     82\u001b[0m \u001b[38;5;66;03m# Create the message with the attached files\u001b[39;00m\n\u001b[1;32m---> 83\u001b[0m response \u001b[38;5;241m=\u001b[39m \u001b[38;5;28;01mawait\u001b[39;00m \u001b[43mclient\u001b[49m\u001b[38;5;241;43m.\u001b[39;49m\u001b[43mbeta\u001b[49m\u001b[38;5;241;43m.\u001b[39;49m\u001b[43mthreads\u001b[49m\u001b[38;5;241;43m.\u001b[39;49m\u001b[43mmessages\u001b[49m\u001b[38;5;241;43m.\u001b[39;49m\u001b[43mcreate\u001b[49m\u001b[43m(\u001b[49m\n\u001b[0;32m     84\u001b[0m \u001b[43m    \u001b[49m\u001b[43mthread_id\u001b[49m\u001b[38;5;241;43m=\u001b[39;49m\u001b[38;5;28;43mself\u001b[39;49m\u001b[38;5;241;43m.\u001b[39;49m\u001b[43mid\u001b[49m\u001b[43m,\u001b[49m\u001b[43m \u001b[49m\u001b[43mrole\u001b[49m\u001b[38;5;241;43m=\u001b[39;49m\u001b[43mrole\u001b[49m\u001b[43m,\u001b[49m\u001b[43m \u001b[49m\u001b[43mcontent\u001b[49m\u001b[38;5;241;43m=\u001b[39;49m\u001b[43mmessage\u001b[49m\u001b[43m,\u001b[49m\u001b[43m \u001b[49m\u001b[43mfile_ids\u001b[49m\u001b[38;5;241;43m=\u001b[39;49m\u001b[43mfile_ids\u001b[49m\n\u001b[0;32m     85\u001b[0m \u001b[43m\u001b[49m\u001b[43m)\u001b[49m\n\u001b[0;32m     86\u001b[0m \u001b[38;5;28;01mreturn\u001b[39;00m response\n",
      "\u001b[1;31mTypeError\u001b[0m: AsyncMessages.create() got an unexpected keyword argument 'file_ids'"
     ]
    }
   ],
   "source": [
    "from marvin.beta.assistants import Assistant\n",
    "\n",
    "# create an assistant\n",
    "ai = Assistant(name=\"Marvin\", instructions=\"You the Paranoid Android.\")\n",
    "\n",
    "# send a message to the assistant and have it respond\n",
    "ai.say('Hello, Marvin!')"
   ]
  },
  {
   "cell_type": "code",
   "execution_count": null,
   "metadata": {},
   "outputs": [],
   "source": []
  },
  {
   "cell_type": "code",
   "execution_count": null,
   "metadata": {},
   "outputs": [],
   "source": []
  }
 ],
 "metadata": {
  "kernelspec": {
   "display_name": ".venv",
   "language": "python",
   "name": "python3"
  },
  "language_info": {
   "codemirror_mode": {
    "name": "ipython",
    "version": 3
   },
   "file_extension": ".py",
   "mimetype": "text/x-python",
   "name": "python",
   "nbconvert_exporter": "python",
   "pygments_lexer": "ipython3",
   "version": "3.10.11"
  }
 },
 "nbformat": 4,
 "nbformat_minor": 2
}
