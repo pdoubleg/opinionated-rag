{
 "cells": [
  {
   "cell_type": "code",
   "execution_count": 1,
   "metadata": {},
   "outputs": [
    {
     "data": {
      "text/html": [
       "<div>\n",
       "<style scoped>\n",
       "    .dataframe tbody tr th:only-of-type {\n",
       "        vertical-align: middle;\n",
       "    }\n",
       "\n",
       "    .dataframe tbody tr th {\n",
       "        vertical-align: top;\n",
       "    }\n",
       "\n",
       "    .dataframe thead th {\n",
       "        text-align: right;\n",
       "    }\n",
       "</style>\n",
       "<table border=\"1\" class=\"dataframe\">\n",
       "  <thead>\n",
       "    <tr style=\"text-align: right;\">\n",
       "      <th></th>\n",
       "      <th>index</th>\n",
       "      <th>created_utc</th>\n",
       "      <th>full_link</th>\n",
       "      <th>id</th>\n",
       "      <th>body</th>\n",
       "      <th>title</th>\n",
       "      <th>text_label</th>\n",
       "      <th>flair_label</th>\n",
       "      <th>embeddings</th>\n",
       "      <th>token_count</th>\n",
       "      <th>llm_title</th>\n",
       "      <th>state</th>\n",
       "      <th>kmeans_label</th>\n",
       "      <th>topic_title</th>\n",
       "      <th>splade_embeddings</th>\n",
       "    </tr>\n",
       "  </thead>\n",
       "  <tbody>\n",
       "    <tr>\n",
       "      <th>0</th>\n",
       "      <td>1078</td>\n",
       "      <td>1575952538</td>\n",
       "      <td>https://www.reddit.com/r/legaladvice/comments/...</td>\n",
       "      <td>e8lsen</td>\n",
       "      <td>I applied for a job and after two interviews I...</td>\n",
       "      <td>Failed a drug test due to amphetamines, I have...</td>\n",
       "      <td>employment</td>\n",
       "      <td>5</td>\n",
       "      <td>[9.475638042064453e-05, 0.0005111666301983955,...</td>\n",
       "      <td>493</td>\n",
       "      <td>\"Validity of Schedule II Drug Prescription in ...</td>\n",
       "      <td>PR</td>\n",
       "      <td>8</td>\n",
       "      <td>Employment Legal Concerns and Issues</td>\n",
       "      <td>[0.0, 0.0, 0.0, 0.0, 0.0, 0.0, 0.0, 0.0, 0.0, ...</td>\n",
       "    </tr>\n",
       "    <tr>\n",
       "      <th>1</th>\n",
       "      <td>2098</td>\n",
       "      <td>1577442453</td>\n",
       "      <td>https://www.reddit.com/r/legaladvice/comments/...</td>\n",
       "      <td>eg9ll2</td>\n",
       "      <td>Hi everyone, thanks in advance for any guidanc...</td>\n",
       "      <td>Speeding ticket in Tennessee, Georgia Driver's...</td>\n",
       "      <td>driving</td>\n",
       "      <td>4</td>\n",
       "      <td>[-0.006706413111028856, 0.020911016696181495, ...</td>\n",
       "      <td>252</td>\n",
       "      <td>\"Speeding ticket consequences for out-of-state...</td>\n",
       "      <td>KY</td>\n",
       "      <td>10</td>\n",
       "      <td>Legal Topics in Traffic Violations</td>\n",
       "      <td>[0.0, 0.0, 0.0, 0.0, 0.0, 0.0, 0.0, 0.0, 0.0, ...</td>\n",
       "    </tr>\n",
       "  </tbody>\n",
       "</table>\n",
       "</div>"
      ],
      "text/plain": [
       "   index  created_utc                                          full_link  \\\n",
       "0   1078   1575952538  https://www.reddit.com/r/legaladvice/comments/...   \n",
       "1   2098   1577442453  https://www.reddit.com/r/legaladvice/comments/...   \n",
       "\n",
       "       id                                               body  \\\n",
       "0  e8lsen  I applied for a job and after two interviews I...   \n",
       "1  eg9ll2  Hi everyone, thanks in advance for any guidanc...   \n",
       "\n",
       "                                               title  text_label  flair_label  \\\n",
       "0  Failed a drug test due to amphetamines, I have...  employment            5   \n",
       "1  Speeding ticket in Tennessee, Georgia Driver's...     driving            4   \n",
       "\n",
       "                                          embeddings  token_count  \\\n",
       "0  [9.475638042064453e-05, 0.0005111666301983955,...          493   \n",
       "1  [-0.006706413111028856, 0.020911016696181495, ...          252   \n",
       "\n",
       "                                           llm_title state  kmeans_label  \\\n",
       "0  \"Validity of Schedule II Drug Prescription in ...    PR             8   \n",
       "1  \"Speeding ticket consequences for out-of-state...    KY            10   \n",
       "\n",
       "                            topic_title  \\\n",
       "0  Employment Legal Concerns and Issues   \n",
       "1    Legal Topics in Traffic Violations   \n",
       "\n",
       "                                   splade_embeddings  \n",
       "0  [0.0, 0.0, 0.0, 0.0, 0.0, 0.0, 0.0, 0.0, 0.0, ...  \n",
       "1  [0.0, 0.0, 0.0, 0.0, 0.0, 0.0, 0.0, 0.0, 0.0, ...  "
      ]
     },
     "execution_count": 1,
     "metadata": {},
     "output_type": "execute_result"
    }
   ],
   "source": [
    "import os\n",
    "os.environ[\"KMP_DUPLICATE_LIB_OK\"] = \"TRUE\"\n",
    "import re\n",
    "from dotenv import load_dotenv\n",
    "import pandas as pd\n",
    "\n",
    "from IPython.display import Markdown, display, HTML\n",
    "import warnings\n",
    "warnings.filterwarnings('ignore')\n",
    "pd.set_option('display.max_columns', None)\n",
    "load_dotenv()\n",
    "os.chdir(os.path.dirname(os.getcwd()))\n",
    "\n",
    "df = pd.read_parquet(\"./data/splade_embeds.parquet\")\n",
    "# Convert column names to snake_case for compatibility with LanceDB\n",
    "original_columns = df.columns\n",
    "snake_case_columns = {col: re.sub(r'(?<!^)(?=[A-Z])', '_', col).lower() for col in original_columns}\n",
    "df.rename(columns=snake_case_columns, inplace=True)\n",
    "df.head(2)"
   ]
  },
  {
   "cell_type": "code",
   "execution_count": 2,
   "metadata": {},
   "outputs": [],
   "source": [
    "df.sort_values(by='token_count', ascending=False, inplace=True)"
   ]
  },
  {
   "cell_type": "code",
   "execution_count": 8,
   "metadata": {},
   "outputs": [
    {
     "data": {
      "text/markdown": [
       "This will be a long post, but I really need some advice.\n",
       "\n",
       "I live in Missouri and moved in with my boyfriend in 2005 after his dad moved out, so we've been on a month by month basis since then. We've always had problems, like things not being fixed or disruptive neighbors (screaming all hours of the night, cops and CPS, shared backyard taken over by boats, firepits, toys)  and we're pretty sure they've been in our apartment when we're not there. A long term (20+ years) tenant said they would do this, and other tenants who I was friendly with said they thought the same. I'm pretty sure my landlord stole a bong from me, since he was outside when we left and I hid it, and he and it was gone when we got back. We tore the place apart, but it's never turned up, and that was years ago. I've also thought numerous times that things in my drawers have been rearranged, and a few of my other neighbors over the years have said the same.\n",
       "\n",
       "They have always been slow to fix things, if at all, and several things are broken: windows don't shut, bad wiring leading to lights not working (bathroom and second bedroom), one of the water knobs in the bathroom broke off so we use pliers to turn it, the oven, it goes on and on.\n",
       "\n",
       "Over the summer we received an undated letter raising rent (they are dated when they would raise rent previously) and it also stated that ANY repairs done to the apartment would raise rent, and it specifically mentioned refrigerators and furnaces. Now, when my boyfriend moved in with his dad back in 2004, the landlord said he knew the furnace needed to be replaced, and was waiting for the furnace to go out before doing it. Three days after getting this letter, our furnace died, so we had no AC over the summer with my boyfriend prone to heat stroke since he's had it three times, and no heat this winter, although it hasn't been too bad with space heaters and electric blankets. \n",
       "\n",
       "Now the new problem is admittedly partially my fault. Rent is due on the first, but I was so busy (I work two jobs and they won't let me write checks since I wasn't on the original lease and my boyfriend doesn't have a bank account) that I didn't mail it until the second. I mailed it from the post office immediately after I purchased the money order. The landlady came by on the 10th pissed because she didn't have rent yet. Now, this has happened before; once it was in the mailbox when she got home and another time her husband deposited it in his account not hers, and another time he just forgot to tell her, so I figured it was something similar, or mail was just running slow since it's the beginning of December.\n",
       "\n",
       "I showed her my money order stub, but she was adamant that I pay her. I went to the post office and paid to track the money order, which a refund could take a minimum of 60 days. I told her I was doing all of this and she agreed to it. She messaged me this morning saying that she still hasn't gotten the rent, and that I needed to make arrangements to pay her. I told her I was waiting on the post office, like she agreed to. I got online and tracked my request, and it said that \"refund eligibility was being processed.\" I told her this, and she said regardless I was responsible for it, and I responded that I was waiting on the post office, and that if I had to pay dpuble and the end of this month I would.\n",
       "\n",
       "Here's the thing: they've made no secret about the fact that they want us out; we're grandfathered in at a way cheaper rate than anyone else in the building, and they tell us this all the time. When we had a volatile neighbor who was on pills, calling the police on everyone and having them and CPS called on her, fights outside at all hours, screaming of the adults and children at all hours, pets they're not supposed to have that the landlords know about, nothing was done. The landlords would just complain that they wished the people would move, or suggest that we move, but would never do anything. These people finally moved away, and the landlords have just finished fixing the apartment. \n",
       "\n",
       "I believe that they have the rent and are acting like they don't, hoping I don't have the money to pay double rent and can kick us out. I have the money to pay December now, and January at the end of this month, but it will be tight. Should I just pay and wait for my refund? If the post office shows that my original money order was cashed, am I out that money? \n",
       "\n",
       "Please help; any and all advice is welcome. Thank you!"
      ],
      "text/plain": [
       "<IPython.core.display.Markdown object>"
      ]
     },
     "execution_count": 8,
     "metadata": {},
     "output_type": "execute_result"
    }
   ],
   "source": [
    "test_query = df['body'].tolist()[6]\n",
    "Markdown(test_query)"
   ]
  },
  {
   "cell_type": "code",
   "execution_count": 9,
   "metadata": {},
   "outputs": [
    {
     "name": "stderr",
     "output_type": "stream",
     "text": [
      "\u001b[32m2024-03-18 01:01:31 - INFO - Using pre-computed 'body' embeddings from existing column: splade_embeddings\u001b[0m\n",
      "\u001b[32m2024-03-18 01:01:32 - INFO - Using pre-computed 'body' embeddings from existing column: splade_embeddings\u001b[0m\n"
     ]
    }
   ],
   "source": [
    "from src.search.query_expansion import segment\n",
    "\n",
    "queries = segment(\n",
    "    test_query,\n",
    "    n='3 to 5'\n",
    ")"
   ]
  },
  {
   "cell_type": "code",
   "execution_count": 10,
   "metadata": {},
   "outputs": [
    {
     "data": {
      "text/plain": [
       "[SubQuestion(chain_of_thought='Understanding tenant rights in Missouri can provide insight into the legal protections available for tenants facing issues with landlords, such as unauthorized entry, failure to make repairs, and eviction threats.', sub_question_topic='Tenant Rights in Missouri', sub_question_query='What are tenant rights in Missouri regarding landlord entry, repairs, and eviction?', sub_question_keywords=['tenant rights', 'Missouri', 'landlord entry', 'repairs', 'eviction']),\n",
       " SubQuestion(chain_of_thought='Investigating the process for handling lost or stolen money orders can help determine the steps to take if the money order for rent payment is not received by the landlord.', sub_question_topic='Handling Lost or Stolen Money Orders', sub_question_query='How to handle a lost or stolen money order for rent payment?', sub_question_keywords=['lost money order', 'stolen money order', 'rent payment']),\n",
       " SubQuestion(chain_of_thought=\"Understanding the legal implications of rent increases and the conditions under which a landlord can raise rent, especially in relation to repairs, can clarify the tenant's rights and obligations.\", sub_question_topic='Legal Implications of Rent Increases', sub_question_query='What are the legal implications of rent increases for repairs in Missouri?', sub_question_keywords=['rent increases', 'Missouri', 'legal implications', 'repairs']),\n",
       " SubQuestion(chain_of_thought='Exploring strategies for dealing with disruptive neighbors and landlord inaction can provide options for addressing these issues without resorting to moving out.', sub_question_topic='Dealing with Disruptive Neighbors and Landlord Inaction', sub_question_query='How to deal with disruptive neighbors and landlord inaction?', sub_question_keywords=['disruptive neighbors', 'landlord inaction', 'dealing with']),\n",
       " SubQuestion(chain_of_thought='Understanding the process and potential outcomes of disputing a rent payment issue, especially when the landlord claims non-receipt, can help in navigating this situation.', sub_question_topic='Disputing Rent Payment Issues', sub_question_query='How to dispute rent payment issues when the landlord claims non-receipt?', sub_question_keywords=['disputing rent payment', 'landlord claims non-receipt', 'rent payment issues']),\n",
       " SubQuestion(chain_of_thought='Investigating the potential for legal recourse or mediation in situations where a tenant feels unfairly treated by a landlord can offer pathways to resolution.', sub_question_topic='Legal Recourse for Unfair Treatment by Landlord', sub_question_query='What legal recourse is available for tenants feeling unfairly treated by their landlord in Missouri?', sub_question_keywords=['legal recourse', 'unfair treatment', 'landlord', 'Missouri'])]"
      ]
     },
     "execution_count": 10,
     "metadata": {},
     "output_type": "execute_result"
    }
   ],
   "source": [
    "queries.searches"
   ]
  },
  {
   "cell_type": "code",
   "execution_count": 11,
   "metadata": {},
   "outputs": [
    {
     "name": "stdout",
     "output_type": "stream",
     "text": [
      "\n",
      "\n",
      "Thought: Understanding tenant rights in Missouri can provide insight into the legal protections available for tenants facing issues with landlords, such as unauthorized entry, failure to make repairs, and eviction threats.\n",
      "Search topic: Tenant Rights in Missouri\n",
      "Running vector (OpenAI) search on: What are tenant rights in Missouri regarding landlord entry, repairs, and eviction?\n",
      "Running keyword (SPLADE) search on: tenant rights, Missouri, landlord entry, repairs, eviction\n",
      "Returning 10 records from vector search and 10 from keywords\n",
      "Results contain 15 unique IDs\n",
      "---------------------------------------------------------------------------\n",
      "\n",
      "\n",
      "Thought: Investigating the process for handling lost or stolen money orders can help determine the steps to take if the money order for rent payment is not received by the landlord.\n",
      "Search topic: Handling Lost or Stolen Money Orders\n",
      "Running vector (OpenAI) search on: How to handle a lost or stolen money order for rent payment?\n",
      "Running keyword (SPLADE) search on: lost money order, stolen money order, rent payment\n",
      "Returning 10 records from vector search and 10 from keywords\n",
      "Results contain 16 unique IDs\n",
      "---------------------------------------------------------------------------\n",
      "\n",
      "\n",
      "Thought: Understanding the legal implications of rent increases and the conditions under which a landlord can raise rent, especially in relation to repairs, can clarify the tenant's rights and obligations.\n",
      "Search topic: Legal Implications of Rent Increases\n",
      "Running vector (OpenAI) search on: What are the legal implications of rent increases for repairs in Missouri?\n",
      "Running keyword (SPLADE) search on: rent increases, Missouri, legal implications, repairs\n",
      "Returning 10 records from vector search and 10 from keywords\n",
      "Results contain 16 unique IDs\n",
      "---------------------------------------------------------------------------\n",
      "\n",
      "\n",
      "Thought: Exploring strategies for dealing with disruptive neighbors and landlord inaction can provide options for addressing these issues without resorting to moving out.\n",
      "Search topic: Dealing with Disruptive Neighbors and Landlord Inaction\n",
      "Running vector (OpenAI) search on: How to deal with disruptive neighbors and landlord inaction?\n",
      "Running keyword (SPLADE) search on: disruptive neighbors, landlord inaction, dealing with\n",
      "Returning 10 records from vector search and 10 from keywords\n",
      "Results contain 17 unique IDs\n",
      "---------------------------------------------------------------------------\n",
      "\n",
      "\n",
      "Thought: Understanding the process and potential outcomes of disputing a rent payment issue, especially when the landlord claims non-receipt, can help in navigating this situation.\n",
      "Search topic: Disputing Rent Payment Issues\n",
      "Running vector (OpenAI) search on: How to dispute rent payment issues when the landlord claims non-receipt?\n",
      "Running keyword (SPLADE) search on: disputing rent payment, landlord claims non-receipt, rent payment issues\n",
      "Returning 10 records from vector search and 10 from keywords\n",
      "Results contain 18 unique IDs\n",
      "---------------------------------------------------------------------------\n",
      "\n",
      "\n",
      "Thought: Investigating the potential for legal recourse or mediation in situations where a tenant feels unfairly treated by a landlord can offer pathways to resolution.\n",
      "Search topic: Legal Recourse for Unfair Treatment by Landlord\n",
      "Running vector (OpenAI) search on: What legal recourse is available for tenants feeling unfairly treated by their landlord in Missouri?\n",
      "Running keyword (SPLADE) search on: legal recourse, unfair treatment, landlord, Missouri\n",
      "Returning 10 records from vector search and 10 from keywords\n",
      "Results contain 17 unique IDs\n",
      "---------------------------------------------------------------------------\n"
     ]
    }
   ],
   "source": [
    "vector_results, keyword_results = queries.execute()"
   ]
  },
  {
   "cell_type": "code",
   "execution_count": 12,
   "metadata": {},
   "outputs": [],
   "source": [
    "from src.search.doc_joiner import DocJoinerDF\n",
    "from src.embedding_models.models import ColbertReranker"
   ]
  },
  {
   "cell_type": "code",
   "execution_count": 13,
   "metadata": {},
   "outputs": [],
   "source": [
    "contater = DocJoinerDF(join_mode=\"reciprocal_rank_fusion\", top_k=20)"
   ]
  },
  {
   "cell_type": "code",
   "execution_count": 14,
   "metadata": {},
   "outputs": [
    {
     "data": {
      "text/plain": [
       "((20, 17), (20, 17))"
      ]
     },
     "execution_count": 14,
     "metadata": {},
     "output_type": "execute_result"
    }
   ],
   "source": [
    "vector_res = contater.run(vector_results)\n",
    "keyword_res = contater.run(keyword_results)\n",
    "vector_res.shape, keyword_res.shape"
   ]
  },
  {
   "cell_type": "code",
   "execution_count": 15,
   "metadata": {},
   "outputs": [],
   "source": [
    "reranker = ColbertReranker(column='body')"
   ]
  },
  {
   "cell_type": "code",
   "execution_count": 16,
   "metadata": {},
   "outputs": [],
   "source": [
    "vec_res = vector_res.drop(columns=['embeddings', 'splade_embeddings'])\n",
    "kw_res = keyword_res.drop(columns=['embeddings', 'splade_embeddings'])"
   ]
  },
  {
   "cell_type": "code",
   "execution_count": 17,
   "metadata": {},
   "outputs": [],
   "source": [
    "hybrid_results = reranker.rerank_hybrid(test_query, vec_res, kw_res)"
   ]
  },
  {
   "cell_type": "code",
   "execution_count": 20,
   "metadata": {},
   "outputs": [
    {
     "data": {
      "text/plain": [
       "(40, 15)"
      ]
     },
     "execution_count": 20,
     "metadata": {},
     "output_type": "execute_result"
    }
   ],
   "source": [
    "hybrid_results.shape"
   ]
  },
  {
   "cell_type": "code",
   "execution_count": 22,
   "metadata": {},
   "outputs": [
    {
     "data": {
      "text/plain": [
       "(35, 15)"
      ]
     },
     "execution_count": 22,
     "metadata": {},
     "output_type": "execute_result"
    }
   ],
   "source": [
    "hybrid_results.drop_duplicates(subset=['body'], inplace=True)\n",
    "hybrid_results.shape"
   ]
  },
  {
   "cell_type": "code",
   "execution_count": 23,
   "metadata": {},
   "outputs": [
    {
     "data": {
      "text/plain": [
       "search_type\n",
       "splade    11\n",
       "vector     9\n",
       "Name: count, dtype: int64"
      ]
     },
     "execution_count": 23,
     "metadata": {},
     "output_type": "execute_result"
    }
   ],
   "source": [
    "hybrid_results.head(20)['search_type'].value_counts()"
   ]
  },
  {
   "cell_type": "code",
   "execution_count": 26,
   "metadata": {},
   "outputs": [
    {
     "name": "stderr",
     "output_type": "stream",
     "text": [
      "Processing summaries: 100%|██████████| 35/35 [00:11<00:00,  2.96it/s]\n"
     ]
    }
   ],
   "source": [
    "from src.agent.tools.utils import aget_fact_patterns_df\n",
    "import nest_asyncio\n",
    "nest_asyncio.apply()\n",
    "\n",
    "prep_df = await aget_fact_patterns_df(hybrid_results, 'body', \"id\")"
   ]
  },
  {
   "cell_type": "code",
   "execution_count": 27,
   "metadata": {},
   "outputs": [
    {
     "data": {
      "text/html": [
       "<div>\n",
       "<style scoped>\n",
       "    .dataframe tbody tr th:only-of-type {\n",
       "        vertical-align: middle;\n",
       "    }\n",
       "\n",
       "    .dataframe tbody tr th {\n",
       "        vertical-align: top;\n",
       "    }\n",
       "\n",
       "    .dataframe thead th {\n",
       "        text-align: right;\n",
       "    }\n",
       "</style>\n",
       "<table border=\"1\" class=\"dataframe\">\n",
       "  <thead>\n",
       "    <tr style=\"text-align: right;\">\n",
       "      <th></th>\n",
       "      <th>index</th>\n",
       "      <th>created_utc</th>\n",
       "      <th>full_link</th>\n",
       "      <th>id</th>\n",
       "      <th>body</th>\n",
       "      <th>title</th>\n",
       "      <th>text_label</th>\n",
       "      <th>flair_label</th>\n",
       "      <th>token_count</th>\n",
       "      <th>llm_title</th>\n",
       "      <th>state</th>\n",
       "      <th>kmeans_label</th>\n",
       "      <th>topic_title</th>\n",
       "      <th>search_type</th>\n",
       "      <th>_relevance_score</th>\n",
       "      <th>summary</th>\n",
       "    </tr>\n",
       "  </thead>\n",
       "  <tbody>\n",
       "    <tr>\n",
       "      <th>0</th>\n",
       "      <td>5872</td>\n",
       "      <td>1576255862</td>\n",
       "      <td>https://www.reddit.com/r/legaladvice/comments/...</td>\n",
       "      <td>ea6gvy</td>\n",
       "      <td>This will be a long post, but I really need so...</td>\n",
       "      <td>Who do I contact if I think my landlord is bei...</td>\n",
       "      <td>housing</td>\n",
       "      <td>7</td>\n",
       "      <td>1001</td>\n",
       "      <td>\"Legal issues with landlord: repairs, theft, r...</td>\n",
       "      <td>MH</td>\n",
       "      <td>3</td>\n",
       "      <td>Rental Property and Landlord Matters</td>\n",
       "      <td>splade</td>\n",
       "      <td>0.939139</td>\n",
       "      <td>A tenant in Missouri experiences multiple ongo...</td>\n",
       "    </tr>\n",
       "    <tr>\n",
       "      <th>1</th>\n",
       "      <td>9173</td>\n",
       "      <td>1422499769</td>\n",
       "      <td>https://www.reddit.com/r/legaladvice/comments/...</td>\n",
       "      <td>2u1eqk</td>\n",
       "      <td>This is a follow up post to [this post](http:/...</td>\n",
       "      <td>(Florida) Need to know how to dispute refusal ...</td>\n",
       "      <td>housing</td>\n",
       "      <td>7</td>\n",
       "      <td>665</td>\n",
       "      <td>\"Landlord withholding security deposit - How t...</td>\n",
       "      <td>ID</td>\n",
       "      <td>0</td>\n",
       "      <td>Legal Topics in Rental Properties</td>\n",
       "      <td>splade</td>\n",
       "      <td>0.870435</td>\n",
       "      <td>A renter details a series of problematic renta...</td>\n",
       "    </tr>\n",
       "  </tbody>\n",
       "</table>\n",
       "</div>"
      ],
      "text/plain": [
       "   index  created_utc                                          full_link  \\\n",
       "0   5872   1576255862  https://www.reddit.com/r/legaladvice/comments/...   \n",
       "1   9173   1422499769  https://www.reddit.com/r/legaladvice/comments/...   \n",
       "\n",
       "       id                                               body  \\\n",
       "0  ea6gvy  This will be a long post, but I really need so...   \n",
       "1  2u1eqk  This is a follow up post to [this post](http:/...   \n",
       "\n",
       "                                               title text_label  flair_label  \\\n",
       "0  Who do I contact if I think my landlord is bei...    housing            7   \n",
       "1  (Florida) Need to know how to dispute refusal ...    housing            7   \n",
       "\n",
       "   token_count                                          llm_title state  \\\n",
       "0         1001  \"Legal issues with landlord: repairs, theft, r...    MH   \n",
       "1          665  \"Landlord withholding security deposit - How t...    ID   \n",
       "\n",
       "   kmeans_label                           topic_title search_type  \\\n",
       "0             3  Rental Property and Landlord Matters      splade   \n",
       "1             0     Legal Topics in Rental Properties      splade   \n",
       "\n",
       "   _relevance_score                                            summary  \n",
       "0          0.939139  A tenant in Missouri experiences multiple ongo...  \n",
       "1          0.870435  A renter details a series of problematic renta...  "
      ]
     },
     "execution_count": 27,
     "metadata": {},
     "output_type": "execute_result"
    }
   ],
   "source": [
    "prep_df.head(2)"
   ]
  },
  {
   "cell_type": "code",
   "execution_count": 32,
   "metadata": {},
   "outputs": [],
   "source": [
    "from src.agent.tools.utils import create_formatted_input, get_final_answer\n",
    "\n",
    "formatted_input = create_formatted_input(\n",
    "    prep_df, test_query, context_token_limit=8000\n",
    "    )\n",
    "\n",
    "response_model = get_final_answer(formatted_input, model_name=\"gpt-4-turbo-preview\")"
   ]
  },
  {
   "cell_type": "code",
   "execution_count": 33,
   "metadata": {},
   "outputs": [
    {
     "data": {
      "text/markdown": [
       "The new query presents a multifaceted legal issue involving poor maintenance, unresponsive landlords, potential unauthorized entry and theft by the landlord, and a rent payment dispute possibly being leveraged for eviction purposes. The tenant's situation in Missouri shares several parallels with past cases, providing an informative basis for comparison. \n",
       "\n",
       "The scenario with the tenant experiencing multiple ongoing issues, including unaddressed maintenance problems and unauthorized entry, closely mirrors the situation described in [Search Result 1](https://www.reddit.com/r/legaladvice/comments/ea6gvy/who_do_i_contact_if_i_think_my_landlord_is_being/). Both highlight the challenges faced by tenants dealing with landlords who are slow or refuse to make necessary repairs, coupled with the suspicion that the landlord is entering their premises without permission. The advice sought in both queries centers on how to handle these complex tenant-landlord relationship issues, especially regarding the landlord's responsibilities for upkeep and respect for tenant privacy. \n",
       "\n",
       "The challenge of dealing with a rent payment dispute, where the tenant has made a good faith effort to pay rent on time but faces difficulties due to mail delivery issues, aligns with the primary concern of [Search Result 1](https://www.reddit.com/r/legaladvice/comments/ea6gvy/who_do_i_contact_if_i_think_my_landlord_is_being/) and is further compounded by the landlord's threats and the inherent fear of eviction. This situation also resonates with concerns raised in [Search Result 22](https://www.reddit.com/r/legaladvice/comments/56uax5/missouri_landlord_attempting_to_evict/), where a Missouri resident faces eviction without proper notice and questionable rent increase demands. Both scenarios emphasize the precarious nature of tenant-landlord trust and the legal technicalities surrounding proper eviction processes and rent increase notices. \n",
       "\n",
       "Notably, the current query uniquely combines these elements into a single narrative, presenting a multifaceted legal dilemma. The past cases offer valuable insights into addressing each aspect individually but also illustrate the complexity of navigating these issues concurrently. Legal advice and intervention might be necessary to ensure that the tenant's rights are protected, especially when facing potential eviction under dubious circumstances. The incorporation of concerns regarding unauthorized entry, property theft, and exploitation of rent payment issues adds layers to the tenant's predicament, underscoring the importance of seeking comprehensive legal advice tailored to the specificities of the situation."
      ],
      "text/plain": [
       "<IPython.core.display.Markdown object>"
      ]
     },
     "execution_count": 33,
     "metadata": {},
     "output_type": "execute_result"
    }
   ],
   "source": [
    "Markdown(response_model.research_report)"
   ]
  },
  {
   "cell_type": "code",
   "execution_count": null,
   "metadata": {},
   "outputs": [],
   "source": []
  },
  {
   "cell_type": "code",
   "execution_count": 34,
   "metadata": {},
   "outputs": [
    {
     "data": {
      "text/plain": [
       "['Should I just pay the rent and wait for my refund?',\n",
       " 'If the post office shows that my original money order was cashed, am I out that money?',\n",
       " 'What can I do about a landlord who is slow to make repairs?',\n",
       " 'Is it legal for my landlord to enter my apartment without permission?',\n",
       " 'Can a landlord raise rent in response to making repairs?',\n",
       " 'How do I handle disruptive neighbors?',\n",
       " 'What should I do if I suspect my landlord of stealing from me?',\n",
       " 'What are my rights as a tenant in Missouri?',\n",
       " 'Is it legal to use pliers to turn on water in lieu of a broken knob?',\n",
       " \"What actions can I take if I've been treated unfairly by my landlord?\"]"
      ]
     },
     "execution_count": 34,
     "metadata": {},
     "output_type": "execute_result"
    }
   ],
   "source": [
    "from src.search.query_expansion import generate_subquestions\n",
    "\n",
    "questions = generate_subquestions(test_query, n='any number of')\n",
    "questions.questions"
   ]
  },
  {
   "cell_type": "code",
   "execution_count": 35,
   "metadata": {},
   "outputs": [
    {
     "data": {
      "text/plain": [
       "CompletionUsage(completion_tokens=147, prompt_tokens=1130, total_tokens=1277)"
      ]
     },
     "execution_count": 35,
     "metadata": {},
     "output_type": "execute_result"
    }
   ],
   "source": [
    "questions._raw_response.usage"
   ]
  },
  {
   "cell_type": "code",
   "execution_count": 36,
   "metadata": {},
   "outputs": [],
   "source": [
    "from src.search.query_filter import generate_query_plan, auto_filter_fts_search"
   ]
  },
  {
   "cell_type": "code",
   "execution_count": 37,
   "metadata": {},
   "outputs": [
    {
     "name": "stderr",
     "output_type": "stream",
     "text": [
      "\u001b[32m2024-03-18 01:12:36 - INFO - Schema shown to LLM: \n",
      "Name of each field, its type and unique values (up to 20):\n",
      "* state (string);  Values - ['NM' 'IN' 'WY' 'NH' 'MP' 'PA' 'MH' 'ID' 'AR' 'MA' 'KS' 'AS' 'ND' 'PR'\n",
      " 'DE' 'FL' 'LA' 'OR' 'VT' 'PW'], ... 39 more\n",
      "        \u001b[0m\n"
     ]
    },
    {
     "name": "stderr",
     "output_type": "stream",
     "text": [
      "\u001b[32m2024-03-18 01:12:39 - INFO - No filters have been set! Returning input DataFrame.\u001b[0m\n"
     ]
    }
   ],
   "source": [
    "query_plan = generate_query_plan(\n",
    "    input_df=df,\n",
    "    query=questions.questions[0],\n",
    "    filter_fields=[\n",
    "        'state',\n",
    "    ]\n",
    ")\n",
    "filtered_df = query_plan.filter_df(df=df)"
   ]
  },
  {
   "cell_type": "code",
   "execution_count": 38,
   "metadata": {},
   "outputs": [
    {
     "name": "stdout",
     "output_type": "stream",
     "text": [
      "Should I just pay the rent and wait for my refund?\n",
      "advice on paying rent while awaiting a refund\n"
     ]
    }
   ],
   "source": [
    "print(query_plan.original_query)\n",
    "print(query_plan.rephrased_query)"
   ]
  },
  {
   "cell_type": "code",
   "execution_count": 41,
   "metadata": {},
   "outputs": [
    {
     "name": "stderr",
     "output_type": "stream",
     "text": [
      "\u001b[32m2024-03-18 01:13:39 - INFO - Schema shown to LLM: \n",
      "Name of each field, its type and unique values (up to 20):\n",
      "* state (string);  Values - ['NM' 'IN' 'WY' 'NH' 'MP' 'PA' 'MH' 'ID' 'AR' 'MA' 'KS' 'AS' 'ND' 'PR'\n",
      " 'DE' 'FL' 'LA' 'OR' 'VT' 'PW'], ... 39 more\n",
      "        \u001b[0m\n"
     ]
    },
    {
     "name": "stderr",
     "output_type": "stream",
     "text": [
      "\u001b[32m2024-03-18 01:13:41 - INFO - No filters were identified for query: Should I just pay the rent and wait for my refund?. Proceeding with the original query.\u001b[0m\n",
      "\u001b[32m2024-03-18 01:13:42 - INFO - Full Text Search (FTS) search yielded a DataFrame with 20 rows\u001b[0m\n"
     ]
    }
   ],
   "source": [
    "test_res = auto_filter_fts_search(\n",
    "    df=df,\n",
    "    query=questions.questions[0],\n",
    "    top_k=20,\n",
    "    text_column=\"body\",\n",
    "    embeddings_column=\"embeddings\",\n",
    "    filter_fields=[\n",
    "        'state',\n",
    "    ])"
   ]
  },
  {
   "cell_type": "code",
   "execution_count": 42,
   "metadata": {},
   "outputs": [
    {
     "data": {
      "text/markdown": [
       "Some background - I’m planning to move out of my current apartment in Boston in June, so I’ve submitted an intent to vacate form. Also, I normally pay my rent automatically with recurring monthly payments. Well, I noticed on May 1 that I hadn’t been charged for rent, even though that transaction normally appears on my bank account on the day of, so I went to the resident portal to see what had happened. I saw that my apartment had been put “on notice,” and so my recurring payments had been cancelled. Okay, it’s not great that they didn’t tell me when I submitted my intent to vacate form that my recurring payments would be cancelled. However, at least I found out now, so this is no problem, I just submit my payment and hope that it’ll go through without having to pay any late fees.\n",
       "\n",
       "Fast forward to May 4, I wake up and see that I received a notification that my bank account is in the negative. I panic and check to see what happened, and I see that I’ve been charged for last month’s rent twice. I shoot a message to the apartment’s customer care center but I don’t get a response until May 6:\n",
       "\n",
       "——\n",
       "Thank you for contacting the Customer Care Center.\n",
       "\n",
       "We are unable to void any payments on your account at this time, as they are all too far along in processing. \n",
       "\n",
       "However, we are able to process refunds of full payments made on your account. In order for us to do so, you will need to call us at the number below during business hours so we can conference call your bank and verify the payment will not be returned. Otherwise, we will need to wait at least 14 days after the payment to process a refund. In addition, a $35.00 administrative fee would be incurred for the processing of a refund.\n",
       "\n",
       "You can also leave your credit balance as of 05/06/2020 to be applied to future charges.\n",
       "\n",
       "If you have any further questions or concerns, or would like to begin the process of refunding a payment, please call our number below. We are open Monday through Friday from 8:30AM EST to 8:30PM EST and Saturdays from 12:00PM EST to 5:00PM EST.\n",
       "——\n",
       "\n",
       "So, I have to pay a transaction fee to get my money back? For something that I don’t even think was my fault?... and in the meantime, I just have to live with a negative bank account balance? Is there anything I can do here?"
      ],
      "text/plain": [
       "<IPython.core.display.Markdown object>"
      ]
     },
     "execution_count": 42,
     "metadata": {},
     "output_type": "execute_result"
    }
   ],
   "source": [
    "Markdown(test_res['body'].tolist()[0])"
   ]
  },
  {
   "cell_type": "code",
   "execution_count": null,
   "metadata": {},
   "outputs": [],
   "source": []
  }
 ],
 "metadata": {
  "kernelspec": {
   "display_name": ".venv",
   "language": "python",
   "name": "python3"
  },
  "language_info": {
   "codemirror_mode": {
    "name": "ipython",
    "version": 3
   },
   "file_extension": ".py",
   "mimetype": "text/x-python",
   "name": "python",
   "nbconvert_exporter": "python",
   "pygments_lexer": "ipython3",
   "version": "3.10.11"
  }
 },
 "nbformat": 4,
 "nbformat_minor": 2
}
