{
 "cells": [
  {
   "cell_type": "code",
   "execution_count": 1,
   "metadata": {},
   "outputs": [
    {
     "data": {
      "text/html": [
       "<div>\n",
       "<style scoped>\n",
       "    .dataframe tbody tr th:only-of-type {\n",
       "        vertical-align: middle;\n",
       "    }\n",
       "\n",
       "    .dataframe tbody tr th {\n",
       "        vertical-align: top;\n",
       "    }\n",
       "\n",
       "    .dataframe thead th {\n",
       "        text-align: right;\n",
       "    }\n",
       "</style>\n",
       "<table border=\"1\" class=\"dataframe\">\n",
       "  <thead>\n",
       "    <tr style=\"text-align: right;\">\n",
       "      <th></th>\n",
       "      <th>index</th>\n",
       "      <th>created_utc</th>\n",
       "      <th>full_link</th>\n",
       "      <th>id</th>\n",
       "      <th>body</th>\n",
       "      <th>title</th>\n",
       "      <th>text_label</th>\n",
       "      <th>flair_label</th>\n",
       "      <th>embeddings</th>\n",
       "      <th>token_count</th>\n",
       "      <th>llm_title</th>\n",
       "      <th>state</th>\n",
       "      <th>kmeans_label</th>\n",
       "      <th>topic_title</th>\n",
       "      <th>splade_embeddings</th>\n",
       "    </tr>\n",
       "  </thead>\n",
       "  <tbody>\n",
       "    <tr>\n",
       "      <th>0</th>\n",
       "      <td>1078</td>\n",
       "      <td>1575952538</td>\n",
       "      <td>https://www.reddit.com/r/legaladvice/comments/...</td>\n",
       "      <td>e8lsen</td>\n",
       "      <td>I applied for a job and after two interviews I...</td>\n",
       "      <td>Failed a drug test due to amphetamines, I have...</td>\n",
       "      <td>employment</td>\n",
       "      <td>5</td>\n",
       "      <td>[9.475638042064453e-05, 0.0005111666301983955,...</td>\n",
       "      <td>493</td>\n",
       "      <td>\"Validity of Schedule II Drug Prescription in ...</td>\n",
       "      <td>PR</td>\n",
       "      <td>8</td>\n",
       "      <td>Employment Legal Concerns and Issues</td>\n",
       "      <td>[0.0, 0.0, 0.0, 0.0, 0.0, 0.0, 0.0, 0.0, 0.0, ...</td>\n",
       "    </tr>\n",
       "    <tr>\n",
       "      <th>1</th>\n",
       "      <td>2098</td>\n",
       "      <td>1577442453</td>\n",
       "      <td>https://www.reddit.com/r/legaladvice/comments/...</td>\n",
       "      <td>eg9ll2</td>\n",
       "      <td>Hi everyone, thanks in advance for any guidanc...</td>\n",
       "      <td>Speeding ticket in Tennessee, Georgia Driver's...</td>\n",
       "      <td>driving</td>\n",
       "      <td>4</td>\n",
       "      <td>[-0.006706413111028856, 0.020911016696181495, ...</td>\n",
       "      <td>252</td>\n",
       "      <td>\"Speeding ticket consequences for out-of-state...</td>\n",
       "      <td>KY</td>\n",
       "      <td>10</td>\n",
       "      <td>Legal Topics in Traffic Violations</td>\n",
       "      <td>[0.0, 0.0, 0.0, 0.0, 0.0, 0.0, 0.0, 0.0, 0.0, ...</td>\n",
       "    </tr>\n",
       "  </tbody>\n",
       "</table>\n",
       "</div>"
      ],
      "text/plain": [
       "   index  created_utc                                          full_link  \\\n",
       "0   1078   1575952538  https://www.reddit.com/r/legaladvice/comments/...   \n",
       "1   2098   1577442453  https://www.reddit.com/r/legaladvice/comments/...   \n",
       "\n",
       "       id                                               body  \\\n",
       "0  e8lsen  I applied for a job and after two interviews I...   \n",
       "1  eg9ll2  Hi everyone, thanks in advance for any guidanc...   \n",
       "\n",
       "                                               title  text_label  flair_label  \\\n",
       "0  Failed a drug test due to amphetamines, I have...  employment            5   \n",
       "1  Speeding ticket in Tennessee, Georgia Driver's...     driving            4   \n",
       "\n",
       "                                          embeddings  token_count  \\\n",
       "0  [9.475638042064453e-05, 0.0005111666301983955,...          493   \n",
       "1  [-0.006706413111028856, 0.020911016696181495, ...          252   \n",
       "\n",
       "                                           llm_title state  kmeans_label  \\\n",
       "0  \"Validity of Schedule II Drug Prescription in ...    PR             8   \n",
       "1  \"Speeding ticket consequences for out-of-state...    KY            10   \n",
       "\n",
       "                            topic_title  \\\n",
       "0  Employment Legal Concerns and Issues   \n",
       "1    Legal Topics in Traffic Violations   \n",
       "\n",
       "                                   splade_embeddings  \n",
       "0  [0.0, 0.0, 0.0, 0.0, 0.0, 0.0, 0.0, 0.0, 0.0, ...  \n",
       "1  [0.0, 0.0, 0.0, 0.0, 0.0, 0.0, 0.0, 0.0, 0.0, ...  "
      ]
     },
     "execution_count": 1,
     "metadata": {},
     "output_type": "execute_result"
    }
   ],
   "source": [
    "import os\n",
    "os.environ[\"KMP_DUPLICATE_LIB_OK\"] = \"TRUE\"\n",
    "import re\n",
    "from dotenv import load_dotenv\n",
    "import pandas as pd\n",
    "\n",
    "from IPython.display import Markdown, display, HTML\n",
    "import warnings\n",
    "warnings.filterwarnings('ignore')\n",
    "pd.set_option('display.max_columns', None)\n",
    "load_dotenv()\n",
    "os.chdir(os.path.dirname(os.getcwd()))\n",
    "\n",
    "df = pd.read_parquet(\"./data/splade_embeds.parquet\")\n",
    "# Convert column names to snake_case for compatibility with LanceDB\n",
    "original_columns = df.columns\n",
    "snake_case_columns = {col: re.sub(r'(?<!^)(?=[A-Z])', '_', col).lower() for col in original_columns}\n",
    "df.rename(columns=snake_case_columns, inplace=True)\n",
    "df.head(2)"
   ]
  },
  {
   "cell_type": "code",
   "execution_count": 3,
   "metadata": {},
   "outputs": [],
   "source": [
    "df.sort_values(by='token_count', ascending=False, inplace=True)"
   ]
  },
  {
   "cell_type": "code",
   "execution_count": 4,
   "metadata": {},
   "outputs": [
    {
     "data": {
      "text/markdown": [
       "This will be a long post, but I really need some advice.\n",
       "\n",
       "I live in Missouri and moved in with my boyfriend in 2005 after his dad moved out, so we've been on a month by month basis since then. We've always had problems, like things not being fixed or disruptive neighbors (screaming all hours of the night, cops and CPS, shared backyard taken over by boats, firepits, toys)  and we're pretty sure they've been in our apartment when we're not there. A long term (20+ years) tenant said they would do this, and other tenants who I was friendly with said they thought the same. I'm pretty sure my landlord stole a bong from me, since he was outside when we left and I hid it, and he and it was gone when we got back. We tore the place apart, but it's never turned up, and that was years ago. I've also thought numerous times that things in my drawers have been rearranged, and a few of my other neighbors over the years have said the same.\n",
       "\n",
       "They have always been slow to fix things, if at all, and several things are broken: windows don't shut, bad wiring leading to lights not working (bathroom and second bedroom), one of the water knobs in the bathroom broke off so we use pliers to turn it, the oven, it goes on and on.\n",
       "\n",
       "Over the summer we received an undated letter raising rent (they are dated when they would raise rent previously) and it also stated that ANY repairs done to the apartment would raise rent, and it specifically mentioned refrigerators and furnaces. Now, when my boyfriend moved in with his dad back in 2004, the landlord said he knew the furnace needed to be replaced, and was waiting for the furnace to go out before doing it. Three days after getting this letter, our furnace died, so we had no AC over the summer with my boyfriend prone to heat stroke since he's had it three times, and no heat this winter, although it hasn't been too bad with space heaters and electric blankets. \n",
       "\n",
       "Now the new problem is admittedly partially my fault. Rent is due on the first, but I was so busy (I work two jobs and they won't let me write checks since I wasn't on the original lease and my boyfriend doesn't have a bank account) that I didn't mail it until the second. I mailed it from the post office immediately after I purchased the money order. The landlady came by on the 10th pissed because she didn't have rent yet. Now, this has happened before; once it was in the mailbox when she got home and another time her husband deposited it in his account not hers, and another time he just forgot to tell her, so I figured it was something similar, or mail was just running slow since it's the beginning of December.\n",
       "\n",
       "I showed her my money order stub, but she was adamant that I pay her. I went to the post office and paid to track the money order, which a refund could take a minimum of 60 days. I told her I was doing all of this and she agreed to it. She messaged me this morning saying that she still hasn't gotten the rent, and that I needed to make arrangements to pay her. I told her I was waiting on the post office, like she agreed to. I got online and tracked my request, and it said that \"refund eligibility was being processed.\" I told her this, and she said regardless I was responsible for it, and I responded that I was waiting on the post office, and that if I had to pay dpuble and the end of this month I would.\n",
       "\n",
       "Here's the thing: they've made no secret about the fact that they want us out; we're grandfathered in at a way cheaper rate than anyone else in the building, and they tell us this all the time. When we had a volatile neighbor who was on pills, calling the police on everyone and having them and CPS called on her, fights outside at all hours, screaming of the adults and children at all hours, pets they're not supposed to have that the landlords know about, nothing was done. The landlords would just complain that they wished the people would move, or suggest that we move, but would never do anything. These people finally moved away, and the landlords have just finished fixing the apartment. \n",
       "\n",
       "I believe that they have the rent and are acting like they don't, hoping I don't have the money to pay double rent and can kick us out. I have the money to pay December now, and January at the end of this month, but it will be tight. Should I just pay and wait for my refund? If the post office shows that my original money order was cashed, am I out that money? \n",
       "\n",
       "Please help; any and all advice is welcome. Thank you!"
      ],
      "text/plain": [
       "<IPython.core.display.Markdown object>"
      ]
     },
     "execution_count": 4,
     "metadata": {},
     "output_type": "execute_result"
    }
   ],
   "source": [
    "test_query = df['body'].tolist()[6]\n",
    "Markdown(test_query)"
   ]
  },
  {
   "cell_type": "code",
   "execution_count": 5,
   "metadata": {},
   "outputs": [
    {
     "name": "stderr",
     "output_type": "stream",
     "text": [
      "\u001b[32m2024-03-18 22:22:01 - INFO - Using pre-computed 'body' embeddings from existing column: splade_embeddings\u001b[0m\n",
      "\u001b[32m2024-03-18 22:22:01 - INFO - Using pre-computed 'body' embeddings from existing column: splade_embeddings\u001b[0m\n"
     ]
    }
   ],
   "source": [
    "from src.search.query_expansion import segment\n",
    "\n",
    "queries = segment(\n",
    "    test_query,\n",
    "    n='3 to 5'\n",
    ")"
   ]
  },
  {
   "cell_type": "code",
   "execution_count": 6,
   "metadata": {},
   "outputs": [
    {
     "data": {
      "text/plain": [
       "[SubQuestion(chain_of_thought='To understand the legal rights and protections for tenants in Missouri, especially regarding landlord entry, repairs, and rent increases.', sub_question_topic='Tenant Rights in Missouri', sub_question_query='What are tenant rights in Missouri regarding landlord entry, repairs, and rent increases?', sub_question_keywords=['tenant rights', 'Missouri', 'landlord entry', 'repairs', 'rent increases']),\n",
       " SubQuestion(chain_of_thought='To explore the legal procedures and tenant options when a landlord is suspected of theft or unauthorized entry.', sub_question_topic='Dealing with Landlord Theft or Unauthorized Entry', sub_question_query='How can tenants in Missouri deal with suspected landlord theft or unauthorized entry?', sub_question_keywords=['landlord theft', 'unauthorized entry', 'tenant options', 'Missouri']),\n",
       " SubQuestion(chain_of_thought='To understand the process and implications of late rent payments, including the legal timeframe landlords must adhere to before taking action.', sub_question_topic='Late Rent Payments in Missouri', sub_question_query='What are the legal implications of late rent payments in Missouri?', sub_question_keywords=['late rent payments', 'legal implications', 'Missouri']),\n",
       " SubQuestion(chain_of_thought='To find out the steps to take if a money order for rent is lost or not acknowledged by the landlord, including tracking and refund processes.', sub_question_topic='Handling Lost or Unacknowledged Rent Payments', sub_question_query='How to handle a lost or unacknowledged money order for rent payment?', sub_question_keywords=['lost money order', 'rent payment', 'tracking', 'refund process']),\n",
       " SubQuestion(chain_of_thought='To investigate strategies for dealing with difficult landlords, especially in situations where the landlord may want the tenant to move out.', sub_question_topic='Dealing with Difficult Landlords', sub_question_query='How to deal with difficult landlords who may want you to move out?', sub_question_keywords=['difficult landlords', 'tenant strategies', 'moving out']),\n",
       " SubQuestion(chain_of_thought='To understand the rights and options available to tenants when facing eviction, especially under circumstances of disputed rent payments.', sub_question_topic='Tenant Rights and Eviction Process', sub_question_query='What are tenant rights and the eviction process in Missouri, especially with disputed rent payments?', sub_question_keywords=['tenant rights', 'eviction process', 'Missouri', 'disputed rent payments'])]"
      ]
     },
     "execution_count": 6,
     "metadata": {},
     "output_type": "execute_result"
    }
   ],
   "source": [
    "queries.searches"
   ]
  },
  {
   "cell_type": "code",
   "execution_count": 7,
   "metadata": {},
   "outputs": [
    {
     "name": "stdout",
     "output_type": "stream",
     "text": [
      "\n",
      "\n",
      "Thought: To understand the legal rights and protections for tenants in Missouri, especially regarding landlord entry, repairs, and rent increases.\n",
      "Search topic: Tenant Rights in Missouri\n",
      "Running vector (OpenAI) search on: What are tenant rights in Missouri regarding landlord entry, repairs, and rent increases?\n",
      "Running keyword (SPLADE) search on: tenant rights, Missouri, landlord entry, repairs, rent increases\n",
      "Returning 10 records from vector search and 10 from keywords\n",
      "Results contain 14 unique IDs\n",
      "---------------------------------------------------------------------------\n",
      "\n",
      "\n",
      "Thought: To explore the legal procedures and tenant options when a landlord is suspected of theft or unauthorized entry.\n",
      "Search topic: Dealing with Landlord Theft or Unauthorized Entry\n",
      "Running vector (OpenAI) search on: How can tenants in Missouri deal with suspected landlord theft or unauthorized entry?\n",
      "Running keyword (SPLADE) search on: landlord theft, unauthorized entry, tenant options, Missouri\n",
      "Returning 10 records from vector search and 10 from keywords\n",
      "Results contain 17 unique IDs\n",
      "---------------------------------------------------------------------------\n",
      "\n",
      "\n",
      "Thought: To understand the process and implications of late rent payments, including the legal timeframe landlords must adhere to before taking action.\n",
      "Search topic: Late Rent Payments in Missouri\n",
      "Running vector (OpenAI) search on: What are the legal implications of late rent payments in Missouri?\n",
      "Running keyword (SPLADE) search on: late rent payments, legal implications, Missouri\n",
      "Returning 10 records from vector search and 10 from keywords\n",
      "Results contain 15 unique IDs\n",
      "---------------------------------------------------------------------------\n",
      "\n",
      "\n",
      "Thought: To find out the steps to take if a money order for rent is lost or not acknowledged by the landlord, including tracking and refund processes.\n",
      "Search topic: Handling Lost or Unacknowledged Rent Payments\n",
      "Running vector (OpenAI) search on: How to handle a lost or unacknowledged money order for rent payment?\n",
      "Running keyword (SPLADE) search on: lost money order, rent payment, tracking, refund process\n",
      "Returning 10 records from vector search and 10 from keywords\n",
      "Results contain 17 unique IDs\n",
      "---------------------------------------------------------------------------\n",
      "\n",
      "\n",
      "Thought: To investigate strategies for dealing with difficult landlords, especially in situations where the landlord may want the tenant to move out.\n",
      "Search topic: Dealing with Difficult Landlords\n",
      "Running vector (OpenAI) search on: How to deal with difficult landlords who may want you to move out?\n",
      "Running keyword (SPLADE) search on: difficult landlords, tenant strategies, moving out\n",
      "Returning 10 records from vector search and 10 from keywords\n",
      "Results contain 20 unique IDs\n",
      "---------------------------------------------------------------------------\n",
      "\n",
      "\n",
      "Thought: To understand the rights and options available to tenants when facing eviction, especially under circumstances of disputed rent payments.\n",
      "Search topic: Tenant Rights and Eviction Process\n",
      "Running vector (OpenAI) search on: What are tenant rights and the eviction process in Missouri, especially with disputed rent payments?\n",
      "Running keyword (SPLADE) search on: tenant rights, eviction process, Missouri, disputed rent payments\n",
      "Returning 10 records from vector search and 10 from keywords\n",
      "Results contain 17 unique IDs\n",
      "---------------------------------------------------------------------------\n"
     ]
    }
   ],
   "source": [
    "vector_results, keyword_results = queries.execute()"
   ]
  },
  {
   "cell_type": "code",
   "execution_count": 8,
   "metadata": {},
   "outputs": [],
   "source": [
    "from src.search.doc_joiner import DocJoinerDF\n",
    "from src.embedding_models.models import ColbertReranker\n",
    "from src.search.rerank_openai import rerank_with_openai"
   ]
  },
  {
   "cell_type": "code",
   "execution_count": 9,
   "metadata": {},
   "outputs": [],
   "source": [
    "contater = DocJoinerDF(join_mode=\"reciprocal_rank_fusion\", top_k=20)"
   ]
  },
  {
   "cell_type": "code",
   "execution_count": 10,
   "metadata": {},
   "outputs": [
    {
     "data": {
      "text/plain": [
       "((20, 17), (20, 17))"
      ]
     },
     "execution_count": 10,
     "metadata": {},
     "output_type": "execute_result"
    }
   ],
   "source": [
    "vector_res = contater.run(vector_results)\n",
    "keyword_res = contater.run(keyword_results)\n",
    "vector_res.shape, keyword_res.shape"
   ]
  },
  {
   "cell_type": "code",
   "execution_count": 66,
   "metadata": {},
   "outputs": [
    {
     "data": {
      "text/html": [
       "<div>\n",
       "<style scoped>\n",
       "    .dataframe tbody tr th:only-of-type {\n",
       "        vertical-align: middle;\n",
       "    }\n",
       "\n",
       "    .dataframe tbody tr th {\n",
       "        vertical-align: top;\n",
       "    }\n",
       "\n",
       "    .dataframe thead th {\n",
       "        text-align: right;\n",
       "    }\n",
       "</style>\n",
       "<table border=\"1\" class=\"dataframe\">\n",
       "  <thead>\n",
       "    <tr style=\"text-align: right;\">\n",
       "      <th></th>\n",
       "      <th>index</th>\n",
       "      <th>created_utc</th>\n",
       "      <th>full_link</th>\n",
       "      <th>id</th>\n",
       "      <th>body</th>\n",
       "      <th>title</th>\n",
       "      <th>text_label</th>\n",
       "      <th>flair_label</th>\n",
       "      <th>embeddings</th>\n",
       "      <th>token_count</th>\n",
       "      <th>llm_title</th>\n",
       "      <th>state</th>\n",
       "      <th>kmeans_label</th>\n",
       "      <th>topic_title</th>\n",
       "      <th>splade_embeddings</th>\n",
       "      <th>score</th>\n",
       "      <th>search_type</th>\n",
       "      <th>query</th>\n",
       "      <th>body_reranked</th>\n",
       "      <th>prediction</th>\n",
       "      <th>logprobs</th>\n",
       "      <th>probability</th>\n",
       "      <th>confidence</th>\n",
       "      <th>yes_probability</th>\n",
       "    </tr>\n",
       "  </thead>\n",
       "  <tbody>\n",
       "    <tr>\n",
       "      <th>2744</th>\n",
       "      <td>3692</td>\n",
       "      <td>1589697300</td>\n",
       "      <td>https://www.reddit.com/r/legaladvice/comments/...</td>\n",
       "      <td>glapn0</td>\n",
       "      <td>I mainly want to know if I'm in my rights as a...</td>\n",
       "      <td>Tenants rights to receive notice before landlo...</td>\n",
       "      <td>housing</td>\n",
       "      <td>7</td>\n",
       "      <td>[-0.004877123706320873, -0.006857454112966537,...</td>\n",
       "      <td>319</td>\n",
       "      <td>\"Understanding Tenant Rights: Can Landlords En...</td>\n",
       "      <td>PA</td>\n",
       "      <td>3</td>\n",
       "      <td>Rental Property and Landlord Matters</td>\n",
       "      <td>[0.0, 0.0, 0.0, 0.0, 0.0, 0.0, 0.0, 0.0, 0.0, ...</td>\n",
       "      <td>16.978695</td>\n",
       "      <td>splade</td>\n",
       "      <td>This will be a long post, but I really need so...</td>\n",
       "      <td>I mainly want to know if I'm in my rights as a...</td>\n",
       "      <td>No</td>\n",
       "      <td>-0.162727</td>\n",
       "      <td>0.849823</td>\n",
       "      <td>0.162727</td>\n",
       "      <td>0.150177</td>\n",
       "    </tr>\n",
       "    <tr>\n",
       "      <th>4275</th>\n",
       "      <td>4775</td>\n",
       "      <td>1590697989</td>\n",
       "      <td>https://www.reddit.com/r/legaladvice/comments/...</td>\n",
       "      <td>gse7e0</td>\n",
       "      <td>Hello, I'm from Missouri! I've recently acqui...</td>\n",
       "      <td>Is my truck violating my lease? MO</td>\n",
       "      <td>housing</td>\n",
       "      <td>7</td>\n",
       "      <td>[0.003063725374637794, -0.030413238548675448, ...</td>\n",
       "      <td>266</td>\n",
       "      <td>\"Is my medium duty truck violating my lease ag...</td>\n",
       "      <td>VA</td>\n",
       "      <td>3</td>\n",
       "      <td>Rental Property and Landlord Matters</td>\n",
       "      <td>[0.0, 0.0, 0.0, 0.0, 0.0, 0.0, 0.0, 0.0, 0.0, ...</td>\n",
       "      <td>13.275961</td>\n",
       "      <td>splade</td>\n",
       "      <td>This will be a long post, but I really need so...</td>\n",
       "      <td>Hello, I'm from Missouri! I've recently acqui...</td>\n",
       "      <td>No</td>\n",
       "      <td>-0.067785</td>\n",
       "      <td>0.934461</td>\n",
       "      <td>0.067785</td>\n",
       "      <td>0.065539</td>\n",
       "    </tr>\n",
       "    <tr>\n",
       "      <th>4682</th>\n",
       "      <td>7572</td>\n",
       "      <td>1516064012</td>\n",
       "      <td>https://www.reddit.com/r/legaladvice/comments/...</td>\n",
       "      <td>7qok5z</td>\n",
       "      <td>Background: I currently have a lease through A...</td>\n",
       "      <td>[IL] Landlord selling condo unit halfway throu...</td>\n",
       "      <td>housing</td>\n",
       "      <td>7</td>\n",
       "      <td>[-0.012060271207740768, -0.003256475704940407,...</td>\n",
       "      <td>297</td>\n",
       "      <td>\"Landlord selling condo: Can the realtor deman...</td>\n",
       "      <td>IN</td>\n",
       "      <td>3</td>\n",
       "      <td>Rental Property and Landlord Matters</td>\n",
       "      <td>[0.0, 0.0, 0.0, 0.0, 0.0, 0.0, 0.0, 0.0, 0.0, ...</td>\n",
       "      <td>15.413387</td>\n",
       "      <td>splade</td>\n",
       "      <td>This will be a long post, but I really need so...</td>\n",
       "      <td>Background: I currently have a lease through A...</td>\n",
       "      <td>No</td>\n",
       "      <td>-0.054250</td>\n",
       "      <td>0.947195</td>\n",
       "      <td>0.054250</td>\n",
       "      <td>0.052805</td>\n",
       "    </tr>\n",
       "    <tr>\n",
       "      <th>4041</th>\n",
       "      <td>4830</td>\n",
       "      <td>1590685868</td>\n",
       "      <td>https://www.reddit.com/r/legaladvice/comments/...</td>\n",
       "      <td>gsa99b</td>\n",
       "      <td>I'm asking this on behalf of a very good frien...</td>\n",
       "      <td>Landlord/Tenant question for North Carolina</td>\n",
       "      <td>housing</td>\n",
       "      <td>7</td>\n",
       "      <td>[-0.0006065469394306883, -0.023575009944144434...</td>\n",
       "      <td>127</td>\n",
       "      <td>\"Rent Increase and Tenant Protections: Underst...</td>\n",
       "      <td>MA</td>\n",
       "      <td>0</td>\n",
       "      <td>Legal Topics in Rental Properties</td>\n",
       "      <td>[0.0, 0.0, 0.0, 0.0, 0.0, 0.0, 0.0, 0.0, 0.0, ...</td>\n",
       "      <td>13.648916</td>\n",
       "      <td>splade</td>\n",
       "      <td>This will be a long post, but I really need so...</td>\n",
       "      <td>I'm asking this on behalf of a very good frien...</td>\n",
       "      <td>No</td>\n",
       "      <td>-0.048355</td>\n",
       "      <td>0.952796</td>\n",
       "      <td>0.048355</td>\n",
       "      <td>0.047204</td>\n",
       "    </tr>\n",
       "    <tr>\n",
       "      <th>492</th>\n",
       "      <td>3749</td>\n",
       "      <td>1421803853</td>\n",
       "      <td>https://www.reddit.com/r/legaladvice/comments/...</td>\n",
       "      <td>2t4bww</td>\n",
       "      <td>Hello Reddit,\\n\\nMy roommate and I are wanting...</td>\n",
       "      <td>Can someone explain what a rerent levy is?</td>\n",
       "      <td>housing</td>\n",
       "      <td>7</td>\n",
       "      <td>[0.015440599531819121, -0.0001857048427183159,...</td>\n",
       "      <td>160</td>\n",
       "      <td>\"Breaking a lease in Kansas City, Missouri: Un...</td>\n",
       "      <td>NJ</td>\n",
       "      <td>0</td>\n",
       "      <td>Legal Topics in Rental Properties</td>\n",
       "      <td>[0.0, 0.0, 0.0, 0.0, 0.0, 0.0, 0.0, 0.0, 0.0, ...</td>\n",
       "      <td>12.767593</td>\n",
       "      <td>splade</td>\n",
       "      <td>This will be a long post, but I really need so...</td>\n",
       "      <td>Hello Reddit,\\n\\nMy roommate and I are wanting...</td>\n",
       "      <td>No</td>\n",
       "      <td>-0.044801</td>\n",
       "      <td>0.956188</td>\n",
       "      <td>0.044801</td>\n",
       "      <td>0.043812</td>\n",
       "    </tr>\n",
       "  </tbody>\n",
       "</table>\n",
       "</div>"
      ],
      "text/plain": [
       "      index  created_utc                                          full_link  \\\n",
       "2744   3692   1589697300  https://www.reddit.com/r/legaladvice/comments/...   \n",
       "4275   4775   1590697989  https://www.reddit.com/r/legaladvice/comments/...   \n",
       "4682   7572   1516064012  https://www.reddit.com/r/legaladvice/comments/...   \n",
       "4041   4830   1590685868  https://www.reddit.com/r/legaladvice/comments/...   \n",
       "492    3749   1421803853  https://www.reddit.com/r/legaladvice/comments/...   \n",
       "\n",
       "          id                                               body  \\\n",
       "2744  glapn0  I mainly want to know if I'm in my rights as a...   \n",
       "4275  gse7e0   Hello, I'm from Missouri! I've recently acqui...   \n",
       "4682  7qok5z  Background: I currently have a lease through A...   \n",
       "4041  gsa99b  I'm asking this on behalf of a very good frien...   \n",
       "492   2t4bww  Hello Reddit,\\n\\nMy roommate and I are wanting...   \n",
       "\n",
       "                                                  title text_label  \\\n",
       "2744  Tenants rights to receive notice before landlo...    housing   \n",
       "4275                 Is my truck violating my lease? MO    housing   \n",
       "4682  [IL] Landlord selling condo unit halfway throu...    housing   \n",
       "4041        Landlord/Tenant question for North Carolina    housing   \n",
       "492          Can someone explain what a rerent levy is?    housing   \n",
       "\n",
       "      flair_label                                         embeddings  \\\n",
       "2744            7  [-0.004877123706320873, -0.006857454112966537,...   \n",
       "4275            7  [0.003063725374637794, -0.030413238548675448, ...   \n",
       "4682            7  [-0.012060271207740768, -0.003256475704940407,...   \n",
       "4041            7  [-0.0006065469394306883, -0.023575009944144434...   \n",
       "492             7  [0.015440599531819121, -0.0001857048427183159,...   \n",
       "\n",
       "      token_count                                          llm_title state  \\\n",
       "2744          319  \"Understanding Tenant Rights: Can Landlords En...    PA   \n",
       "4275          266  \"Is my medium duty truck violating my lease ag...    VA   \n",
       "4682          297  \"Landlord selling condo: Can the realtor deman...    IN   \n",
       "4041          127  \"Rent Increase and Tenant Protections: Underst...    MA   \n",
       "492           160  \"Breaking a lease in Kansas City, Missouri: Un...    NJ   \n",
       "\n",
       "      kmeans_label                           topic_title  \\\n",
       "2744             3  Rental Property and Landlord Matters   \n",
       "4275             3  Rental Property and Landlord Matters   \n",
       "4682             3  Rental Property and Landlord Matters   \n",
       "4041             0     Legal Topics in Rental Properties   \n",
       "492              0     Legal Topics in Rental Properties   \n",
       "\n",
       "                                      splade_embeddings      score  \\\n",
       "2744  [0.0, 0.0, 0.0, 0.0, 0.0, 0.0, 0.0, 0.0, 0.0, ...  16.978695   \n",
       "4275  [0.0, 0.0, 0.0, 0.0, 0.0, 0.0, 0.0, 0.0, 0.0, ...  13.275961   \n",
       "4682  [0.0, 0.0, 0.0, 0.0, 0.0, 0.0, 0.0, 0.0, 0.0, ...  15.413387   \n",
       "4041  [0.0, 0.0, 0.0, 0.0, 0.0, 0.0, 0.0, 0.0, 0.0, ...  13.648916   \n",
       "492   [0.0, 0.0, 0.0, 0.0, 0.0, 0.0, 0.0, 0.0, 0.0, ...  12.767593   \n",
       "\n",
       "     search_type                                              query  \\\n",
       "2744      splade  This will be a long post, but I really need so...   \n",
       "4275      splade  This will be a long post, but I really need so...   \n",
       "4682      splade  This will be a long post, but I really need so...   \n",
       "4041      splade  This will be a long post, but I really need so...   \n",
       "492       splade  This will be a long post, but I really need so...   \n",
       "\n",
       "                                          body_reranked prediction  logprobs  \\\n",
       "2744  I mainly want to know if I'm in my rights as a...         No -0.162727   \n",
       "4275   Hello, I'm from Missouri! I've recently acqui...         No -0.067785   \n",
       "4682  Background: I currently have a lease through A...         No -0.054250   \n",
       "4041  I'm asking this on behalf of a very good frien...         No -0.048355   \n",
       "492   Hello Reddit,\\n\\nMy roommate and I are wanting...         No -0.044801   \n",
       "\n",
       "      probability  confidence  yes_probability  \n",
       "2744     0.849823    0.162727         0.150177  \n",
       "4275     0.934461    0.067785         0.065539  \n",
       "4682     0.947195    0.054250         0.052805  \n",
       "4041     0.952796    0.048355         0.047204  \n",
       "492      0.956188    0.044801         0.043812  "
      ]
     },
     "execution_count": 66,
     "metadata": {},
     "output_type": "execute_result"
    }
   ],
   "source": [
    "openai_rank_test = rerank_with_openai(keyword_results[0], query=test_query, text_col_name='body')\n",
    "openai_rank_test.head()"
   ]
  },
  {
   "cell_type": "code",
   "execution_count": null,
   "metadata": {},
   "outputs": [],
   "source": []
  },
  {
   "cell_type": "code",
   "execution_count": 15,
   "metadata": {},
   "outputs": [],
   "source": [
    "reranker = ColbertReranker(column='body')"
   ]
  },
  {
   "cell_type": "code",
   "execution_count": 16,
   "metadata": {},
   "outputs": [],
   "source": [
    "vec_res = vector_res.drop(columns=['embeddings', 'splade_embeddings'])\n",
    "kw_res = keyword_res.drop(columns=['embeddings', 'splade_embeddings'])"
   ]
  },
  {
   "cell_type": "code",
   "execution_count": 17,
   "metadata": {},
   "outputs": [],
   "source": [
    "hybrid_results = reranker.rerank_hybrid(test_query, vec_res, kw_res)"
   ]
  },
  {
   "cell_type": "code",
   "execution_count": 20,
   "metadata": {},
   "outputs": [
    {
     "data": {
      "text/plain": [
       "(40, 15)"
      ]
     },
     "execution_count": 20,
     "metadata": {},
     "output_type": "execute_result"
    }
   ],
   "source": [
    "hybrid_results.shape"
   ]
  },
  {
   "cell_type": "code",
   "execution_count": 22,
   "metadata": {},
   "outputs": [
    {
     "data": {
      "text/plain": [
       "(35, 15)"
      ]
     },
     "execution_count": 22,
     "metadata": {},
     "output_type": "execute_result"
    }
   ],
   "source": [
    "hybrid_results.drop_duplicates(subset=['body'], inplace=True)\n",
    "hybrid_results.shape"
   ]
  },
  {
   "cell_type": "code",
   "execution_count": 23,
   "metadata": {},
   "outputs": [
    {
     "data": {
      "text/plain": [
       "search_type\n",
       "splade    11\n",
       "vector     9\n",
       "Name: count, dtype: int64"
      ]
     },
     "execution_count": 23,
     "metadata": {},
     "output_type": "execute_result"
    }
   ],
   "source": [
    "hybrid_results.head(20)['search_type'].value_counts()"
   ]
  },
  {
   "cell_type": "code",
   "execution_count": 26,
   "metadata": {},
   "outputs": [
    {
     "name": "stderr",
     "output_type": "stream",
     "text": [
      "Processing summaries: 100%|██████████| 35/35 [00:11<00:00,  2.96it/s]\n"
     ]
    }
   ],
   "source": [
    "from src.agent.tools.utils import aget_fact_patterns_df\n",
    "import nest_asyncio\n",
    "nest_asyncio.apply()\n",
    "\n",
    "prep_df = await aget_fact_patterns_df(hybrid_results, 'body', \"id\")"
   ]
  },
  {
   "cell_type": "code",
   "execution_count": 27,
   "metadata": {},
   "outputs": [
    {
     "data": {
      "text/html": [
       "<div>\n",
       "<style scoped>\n",
       "    .dataframe tbody tr th:only-of-type {\n",
       "        vertical-align: middle;\n",
       "    }\n",
       "\n",
       "    .dataframe tbody tr th {\n",
       "        vertical-align: top;\n",
       "    }\n",
       "\n",
       "    .dataframe thead th {\n",
       "        text-align: right;\n",
       "    }\n",
       "</style>\n",
       "<table border=\"1\" class=\"dataframe\">\n",
       "  <thead>\n",
       "    <tr style=\"text-align: right;\">\n",
       "      <th></th>\n",
       "      <th>index</th>\n",
       "      <th>created_utc</th>\n",
       "      <th>full_link</th>\n",
       "      <th>id</th>\n",
       "      <th>body</th>\n",
       "      <th>title</th>\n",
       "      <th>text_label</th>\n",
       "      <th>flair_label</th>\n",
       "      <th>token_count</th>\n",
       "      <th>llm_title</th>\n",
       "      <th>state</th>\n",
       "      <th>kmeans_label</th>\n",
       "      <th>topic_title</th>\n",
       "      <th>search_type</th>\n",
       "      <th>_relevance_score</th>\n",
       "      <th>summary</th>\n",
       "    </tr>\n",
       "  </thead>\n",
       "  <tbody>\n",
       "    <tr>\n",
       "      <th>0</th>\n",
       "      <td>5872</td>\n",
       "      <td>1576255862</td>\n",
       "      <td>https://www.reddit.com/r/legaladvice/comments/...</td>\n",
       "      <td>ea6gvy</td>\n",
       "      <td>This will be a long post, but I really need so...</td>\n",
       "      <td>Who do I contact if I think my landlord is bei...</td>\n",
       "      <td>housing</td>\n",
       "      <td>7</td>\n",
       "      <td>1001</td>\n",
       "      <td>\"Legal issues with landlord: repairs, theft, r...</td>\n",
       "      <td>MH</td>\n",
       "      <td>3</td>\n",
       "      <td>Rental Property and Landlord Matters</td>\n",
       "      <td>splade</td>\n",
       "      <td>0.939139</td>\n",
       "      <td>A tenant in Missouri experiences multiple ongo...</td>\n",
       "    </tr>\n",
       "    <tr>\n",
       "      <th>1</th>\n",
       "      <td>9173</td>\n",
       "      <td>1422499769</td>\n",
       "      <td>https://www.reddit.com/r/legaladvice/comments/...</td>\n",
       "      <td>2u1eqk</td>\n",
       "      <td>This is a follow up post to [this post](http:/...</td>\n",
       "      <td>(Florida) Need to know how to dispute refusal ...</td>\n",
       "      <td>housing</td>\n",
       "      <td>7</td>\n",
       "      <td>665</td>\n",
       "      <td>\"Landlord withholding security deposit - How t...</td>\n",
       "      <td>ID</td>\n",
       "      <td>0</td>\n",
       "      <td>Legal Topics in Rental Properties</td>\n",
       "      <td>splade</td>\n",
       "      <td>0.870435</td>\n",
       "      <td>A renter details a series of problematic renta...</td>\n",
       "    </tr>\n",
       "  </tbody>\n",
       "</table>\n",
       "</div>"
      ],
      "text/plain": [
       "   index  created_utc                                          full_link  \\\n",
       "0   5872   1576255862  https://www.reddit.com/r/legaladvice/comments/...   \n",
       "1   9173   1422499769  https://www.reddit.com/r/legaladvice/comments/...   \n",
       "\n",
       "       id                                               body  \\\n",
       "0  ea6gvy  This will be a long post, but I really need so...   \n",
       "1  2u1eqk  This is a follow up post to [this post](http:/...   \n",
       "\n",
       "                                               title text_label  flair_label  \\\n",
       "0  Who do I contact if I think my landlord is bei...    housing            7   \n",
       "1  (Florida) Need to know how to dispute refusal ...    housing            7   \n",
       "\n",
       "   token_count                                          llm_title state  \\\n",
       "0         1001  \"Legal issues with landlord: repairs, theft, r...    MH   \n",
       "1          665  \"Landlord withholding security deposit - How t...    ID   \n",
       "\n",
       "   kmeans_label                           topic_title search_type  \\\n",
       "0             3  Rental Property and Landlord Matters      splade   \n",
       "1             0     Legal Topics in Rental Properties      splade   \n",
       "\n",
       "   _relevance_score                                            summary  \n",
       "0          0.939139  A tenant in Missouri experiences multiple ongo...  \n",
       "1          0.870435  A renter details a series of problematic renta...  "
      ]
     },
     "execution_count": 27,
     "metadata": {},
     "output_type": "execute_result"
    }
   ],
   "source": [
    "prep_df.head(2)"
   ]
  },
  {
   "cell_type": "code",
   "execution_count": 32,
   "metadata": {},
   "outputs": [],
   "source": [
    "from src.agent.tools.utils import create_formatted_input, get_final_answer\n",
    "\n",
    "formatted_input = create_formatted_input(\n",
    "    prep_df, test_query, context_token_limit=8000\n",
    "    )\n",
    "\n",
    "response_model = get_final_answer(formatted_input, model_name=\"gpt-4-turbo-preview\")"
   ]
  },
  {
   "cell_type": "code",
   "execution_count": 33,
   "metadata": {},
   "outputs": [
    {
     "data": {
      "text/markdown": [
       "The new query presents a multifaceted legal issue involving poor maintenance, unresponsive landlords, potential unauthorized entry and theft by the landlord, and a rent payment dispute possibly being leveraged for eviction purposes. The tenant's situation in Missouri shares several parallels with past cases, providing an informative basis for comparison. \n",
       "\n",
       "The scenario with the tenant experiencing multiple ongoing issues, including unaddressed maintenance problems and unauthorized entry, closely mirrors the situation described in [Search Result 1](https://www.reddit.com/r/legaladvice/comments/ea6gvy/who_do_i_contact_if_i_think_my_landlord_is_being/). Both highlight the challenges faced by tenants dealing with landlords who are slow or refuse to make necessary repairs, coupled with the suspicion that the landlord is entering their premises without permission. The advice sought in both queries centers on how to handle these complex tenant-landlord relationship issues, especially regarding the landlord's responsibilities for upkeep and respect for tenant privacy. \n",
       "\n",
       "The challenge of dealing with a rent payment dispute, where the tenant has made a good faith effort to pay rent on time but faces difficulties due to mail delivery issues, aligns with the primary concern of [Search Result 1](https://www.reddit.com/r/legaladvice/comments/ea6gvy/who_do_i_contact_if_i_think_my_landlord_is_being/) and is further compounded by the landlord's threats and the inherent fear of eviction. This situation also resonates with concerns raised in [Search Result 22](https://www.reddit.com/r/legaladvice/comments/56uax5/missouri_landlord_attempting_to_evict/), where a Missouri resident faces eviction without proper notice and questionable rent increase demands. Both scenarios emphasize the precarious nature of tenant-landlord trust and the legal technicalities surrounding proper eviction processes and rent increase notices. \n",
       "\n",
       "Notably, the current query uniquely combines these elements into a single narrative, presenting a multifaceted legal dilemma. The past cases offer valuable insights into addressing each aspect individually but also illustrate the complexity of navigating these issues concurrently. Legal advice and intervention might be necessary to ensure that the tenant's rights are protected, especially when facing potential eviction under dubious circumstances. The incorporation of concerns regarding unauthorized entry, property theft, and exploitation of rent payment issues adds layers to the tenant's predicament, underscoring the importance of seeking comprehensive legal advice tailored to the specificities of the situation."
      ],
      "text/plain": [
       "<IPython.core.display.Markdown object>"
      ]
     },
     "execution_count": 33,
     "metadata": {},
     "output_type": "execute_result"
    }
   ],
   "source": [
    "Markdown(response_model.research_report)"
   ]
  },
  {
   "cell_type": "code",
   "execution_count": null,
   "metadata": {},
   "outputs": [],
   "source": []
  },
  {
   "cell_type": "code",
   "execution_count": 34,
   "metadata": {},
   "outputs": [
    {
     "data": {
      "text/plain": [
       "['Should I just pay the rent and wait for my refund?',\n",
       " 'If the post office shows that my original money order was cashed, am I out that money?',\n",
       " 'What can I do about a landlord who is slow to make repairs?',\n",
       " 'Is it legal for my landlord to enter my apartment without permission?',\n",
       " 'Can a landlord raise rent in response to making repairs?',\n",
       " 'How do I handle disruptive neighbors?',\n",
       " 'What should I do if I suspect my landlord of stealing from me?',\n",
       " 'What are my rights as a tenant in Missouri?',\n",
       " 'Is it legal to use pliers to turn on water in lieu of a broken knob?',\n",
       " \"What actions can I take if I've been treated unfairly by my landlord?\"]"
      ]
     },
     "execution_count": 34,
     "metadata": {},
     "output_type": "execute_result"
    }
   ],
   "source": [
    "from src.search.query_expansion import generate_subquestions\n",
    "\n",
    "questions = generate_subquestions(test_query, n='any number of')\n",
    "questions.questions"
   ]
  },
  {
   "cell_type": "code",
   "execution_count": 35,
   "metadata": {},
   "outputs": [
    {
     "data": {
      "text/plain": [
       "CompletionUsage(completion_tokens=147, prompt_tokens=1130, total_tokens=1277)"
      ]
     },
     "execution_count": 35,
     "metadata": {},
     "output_type": "execute_result"
    }
   ],
   "source": [
    "questions._raw_response.usage"
   ]
  },
  {
   "cell_type": "code",
   "execution_count": 36,
   "metadata": {},
   "outputs": [],
   "source": [
    "from src.search.query_filter import generate_query_plan, auto_filter_fts_search"
   ]
  },
  {
   "cell_type": "code",
   "execution_count": 37,
   "metadata": {},
   "outputs": [
    {
     "name": "stderr",
     "output_type": "stream",
     "text": [
      "\u001b[32m2024-03-18 01:12:36 - INFO - Schema shown to LLM: \n",
      "Name of each field, its type and unique values (up to 20):\n",
      "* state (string);  Values - ['NM' 'IN' 'WY' 'NH' 'MP' 'PA' 'MH' 'ID' 'AR' 'MA' 'KS' 'AS' 'ND' 'PR'\n",
      " 'DE' 'FL' 'LA' 'OR' 'VT' 'PW'], ... 39 more\n",
      "        \u001b[0m\n"
     ]
    },
    {
     "name": "stderr",
     "output_type": "stream",
     "text": [
      "\u001b[32m2024-03-18 01:12:39 - INFO - No filters have been set! Returning input DataFrame.\u001b[0m\n"
     ]
    }
   ],
   "source": [
    "query_plan = generate_query_plan(\n",
    "    input_df=df,\n",
    "    query=questions.questions[0],\n",
    "    filter_fields=[\n",
    "        'state',\n",
    "    ]\n",
    ")\n",
    "filtered_df = query_plan.filter_df(df=df)"
   ]
  },
  {
   "cell_type": "code",
   "execution_count": 38,
   "metadata": {},
   "outputs": [
    {
     "name": "stdout",
     "output_type": "stream",
     "text": [
      "Should I just pay the rent and wait for my refund?\n",
      "advice on paying rent while awaiting a refund\n"
     ]
    }
   ],
   "source": [
    "print(query_plan.original_query)\n",
    "print(query_plan.rephrased_query)"
   ]
  },
  {
   "cell_type": "code",
   "execution_count": 41,
   "metadata": {},
   "outputs": [
    {
     "name": "stderr",
     "output_type": "stream",
     "text": [
      "\u001b[32m2024-03-18 01:13:39 - INFO - Schema shown to LLM: \n",
      "Name of each field, its type and unique values (up to 20):\n",
      "* state (string);  Values - ['NM' 'IN' 'WY' 'NH' 'MP' 'PA' 'MH' 'ID' 'AR' 'MA' 'KS' 'AS' 'ND' 'PR'\n",
      " 'DE' 'FL' 'LA' 'OR' 'VT' 'PW'], ... 39 more\n",
      "        \u001b[0m\n"
     ]
    },
    {
     "name": "stderr",
     "output_type": "stream",
     "text": [
      "\u001b[32m2024-03-18 01:13:41 - INFO - No filters were identified for query: Should I just pay the rent and wait for my refund?. Proceeding with the original query.\u001b[0m\n",
      "\u001b[32m2024-03-18 01:13:42 - INFO - Full Text Search (FTS) search yielded a DataFrame with 20 rows\u001b[0m\n"
     ]
    }
   ],
   "source": [
    "test_res = auto_filter_fts_search(\n",
    "    df=df,\n",
    "    query=questions.questions[0],\n",
    "    top_k=20,\n",
    "    text_column=\"body\",\n",
    "    embeddings_column=\"embeddings\",\n",
    "    filter_fields=[\n",
    "        'state',\n",
    "    ])"
   ]
  },
  {
   "cell_type": "code",
   "execution_count": 42,
   "metadata": {},
   "outputs": [
    {
     "data": {
      "text/markdown": [
       "Some background - I’m planning to move out of my current apartment in Boston in June, so I’ve submitted an intent to vacate form. Also, I normally pay my rent automatically with recurring monthly payments. Well, I noticed on May 1 that I hadn’t been charged for rent, even though that transaction normally appears on my bank account on the day of, so I went to the resident portal to see what had happened. I saw that my apartment had been put “on notice,” and so my recurring payments had been cancelled. Okay, it’s not great that they didn’t tell me when I submitted my intent to vacate form that my recurring payments would be cancelled. However, at least I found out now, so this is no problem, I just submit my payment and hope that it’ll go through without having to pay any late fees.\n",
       "\n",
       "Fast forward to May 4, I wake up and see that I received a notification that my bank account is in the negative. I panic and check to see what happened, and I see that I’ve been charged for last month’s rent twice. I shoot a message to the apartment’s customer care center but I don’t get a response until May 6:\n",
       "\n",
       "——\n",
       "Thank you for contacting the Customer Care Center.\n",
       "\n",
       "We are unable to void any payments on your account at this time, as they are all too far along in processing. \n",
       "\n",
       "However, we are able to process refunds of full payments made on your account. In order for us to do so, you will need to call us at the number below during business hours so we can conference call your bank and verify the payment will not be returned. Otherwise, we will need to wait at least 14 days after the payment to process a refund. In addition, a $35.00 administrative fee would be incurred for the processing of a refund.\n",
       "\n",
       "You can also leave your credit balance as of 05/06/2020 to be applied to future charges.\n",
       "\n",
       "If you have any further questions or concerns, or would like to begin the process of refunding a payment, please call our number below. We are open Monday through Friday from 8:30AM EST to 8:30PM EST and Saturdays from 12:00PM EST to 5:00PM EST.\n",
       "——\n",
       "\n",
       "So, I have to pay a transaction fee to get my money back? For something that I don’t even think was my fault?... and in the meantime, I just have to live with a negative bank account balance? Is there anything I can do here?"
      ],
      "text/plain": [
       "<IPython.core.display.Markdown object>"
      ]
     },
     "execution_count": 42,
     "metadata": {},
     "output_type": "execute_result"
    }
   ],
   "source": [
    "Markdown(test_res['body'].tolist()[0])"
   ]
  },
  {
   "cell_type": "code",
   "execution_count": null,
   "metadata": {},
   "outputs": [],
   "source": []
  }
 ],
 "metadata": {
  "kernelspec": {
   "display_name": ".venv",
   "language": "python",
   "name": "python3"
  },
  "language_info": {
   "codemirror_mode": {
    "name": "ipython",
    "version": 3
   },
   "file_extension": ".py",
   "mimetype": "text/x-python",
   "name": "python",
   "nbconvert_exporter": "python",
   "pygments_lexer": "ipython3",
   "version": "3.10.11"
  }
 },
 "nbformat": 4,
 "nbformat_minor": 2
}
