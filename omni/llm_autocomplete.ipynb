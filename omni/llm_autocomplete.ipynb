{
 "cells": [
  {
   "cell_type": "markdown",
   "metadata": {},
   "source": [
    "# LLM Text Auto-Completion"
   ]
  },
  {
   "cell_type": "markdown",
   "metadata": {},
   "source": [
    "\n",
    "## Overview"
   ]
  },
  {
   "cell_type": "markdown",
   "metadata": {},
   "source": [
    "This notebook contains a mock up of an autocomplete system for legal services queries. It uses various components such as previous completions, domain knowledge, and user input to generate \"auto-completions\"."
   ]
  },
  {
   "cell_type": "markdown",
   "metadata": {},
   "source": [
    "### Key Components\n",
    "**Dynamic BAGs**: Dynamic, big ass prompts with general domain knowledge, few-shot examples, and detailed instructions.\n",
    "**Adaptive Learning**: LLM auto-completes self-improve with each (confirmed correct) interaction, becoming more accurate over time."
   ]
  },
  {
   "cell_type": "markdown",
   "metadata": {},
   "source": [
    "___"
   ]
  },
  {
   "cell_type": "markdown",
   "metadata": {},
   "source": [
    "## Code Breakdown"
   ]
  },
  {
   "cell_type": "code",
   "execution_count": 1,
   "metadata": {},
   "outputs": [],
   "source": [
    "import os\n",
    "import json\n",
    "from dotenv import load_dotenv\n",
    "import pandas as pd\n",
    "import numpy as np\n",
    "import warnings\n",
    "warnings.filterwarnings('ignore')\n",
    "pd.set_option('display.max_columns', None)\n",
    "from IPython.display import Markdown, display, HTML"
   ]
  },
  {
   "cell_type": "markdown",
   "metadata": {},
   "source": [
    "### Constants\n",
    "```python\n",
    "PROMPT_ROOT_DIR = \"prompts\"\n",
    "TOPIC_DIR = \"LSS\"\n",
    "TOPIC = \"Legal Services Department Questions\"\n",
    "```"
   ]
  },
  {
   "cell_type": "code",
   "execution_count": 2,
   "metadata": {},
   "outputs": [],
   "source": [
    "PROMPT_ROOT_DIR = \"prompts\"\n",
    "TOPIC_DIR = \"LSS\"\n",
    "TOPIC = \"Legal Services Department Questions\""
   ]
  },
  {
   "cell_type": "markdown",
   "metadata": {},
   "source": [
    "### Load Prompt Template `Instructions`"
   ]
  },
  {
   "cell_type": "code",
   "execution_count": 3,
   "metadata": {},
   "outputs": [
    {
     "name": "stdout",
     "output_type": "stream",
     "text": [
      "# You're a superhuman autocomplete system that provides auto-completions for your users.\n",
      "You take the TOPIC, the PREVIOUS_COMPLETIONS, DOMAIN_KNOWLEDGE and you generate a list of the most likely auto completions for your users based on their INPUT_VALUE.\n",
      "\n",
      "You closely follow GENERATION_RULES to provide the best possible completions.\n",
      "\n",
      "## GENERATION_RULES\n",
      "- If the users INPUT_VALUE exists within their PREVIOUS_COMPLETIONS, prefer that completion. Always prefer the completion with the highest hits.\n",
      "- If the users INPUT_VALUE does NOT exist in PREVIOUS_COMPLETIONS, derive completions from DOMAIN_KNOWLEDGE.\n",
      "- If the users INPUT_VALUE isn't in PREVIOUS_COMPLETIONS and doesn't have a completion in DOMAIN_KNOWLEDGE, generate a new, concise completion based on your own knowledge of the TOPIC.\n",
      "- Return the list of completions as JSON in this format {completions: [\"...\", \"...\", \"...\"]}\n",
      "- Provide completions that fully complete the users sentence.\n",
      "- Your completions should be the remaining words in the sentence, and should always make a valid sentence to be attached to the end of the input sentence.\n",
      "- Be sure to use the correct grammar and punctuation.\n",
      "- Order your completions by hits when available, and resemblance to hits when not.\n",
      "\n",
      "## TOPIC\n",
      "{{topic}}\n",
      "\n",
      "## PREVIOUS_COMPLETIONS\n",
      "{{previous_completions}}\n",
      "\n",
      "## DOMAIN_KNOWLEDGE\n",
      "{{domain_knowledge}}\n",
      "\n",
      "## Complete the following INPUT_VALUE\n",
      "{{input_value}}\n",
      "\n"
     ]
    }
   ],
   "source": [
    "prompt = open(f\"{PROMPT_ROOT_DIR}/prompt.txt\", \"r\").read()\n",
    "print(prompt)"
   ]
  },
  {
   "cell_type": "markdown",
   "metadata": {},
   "source": [
    "### Function: `build_omni_complete_prompt`\n",
    "* Get JSON few-shot examples sorted by past experience 'hits'"
   ]
  },
  {
   "cell_type": "code",
   "execution_count": 4,
   "metadata": {},
   "outputs": [],
   "source": [
    "def build_omni_complete_prompt(input_value: str, topic: str = \"Legal Services Department Questions\", topic_dir: str = \"LSS\") -> str:\n",
    "    \"\"\"\n",
    "    Constructs a complete prompt for the Omni autocomplete system by incorporating various components.\n",
    "\n",
    "    Args:\n",
    "        input_value (str): The user's input question or query.\n",
    "        topic (str): The specific topic under which the prompt is categorized.\n",
    "        topic_dir (str): The directory associated with the topic.\n",
    "\n",
    "    Returns:\n",
    "        str: A fully constructed prompt ready for use in the autocomplete system.\n",
    "\n",
    "    \"\"\"\n",
    "    prompt = open(f\"{PROMPT_ROOT_DIR}/prompt.txt\", \"r\").read()\n",
    "\n",
    "    previous_completions = open(\n",
    "        f\"{PROMPT_ROOT_DIR}/knowledge_bases/{topic_dir}/previous_completions.json\", \"r\"\n",
    "    ).read()\n",
    "\n",
    "    domain_knowledge = open(\n",
    "        f\"{PROMPT_ROOT_DIR}/knowledge_bases/{topic_dir}/domain_knowledge.txt\", \"r\"\n",
    "    ).read()\n",
    "\n",
    "    prompt = prompt.replace(\"{{topic}}\", topic)\n",
    "    prompt = prompt.replace(\"{{previous_completions}}\", previous_completions)\n",
    "    prompt = prompt.replace(\"{{domain_knowledge}}\", domain_knowledge)\n",
    "    prompt = prompt.replace(\"{{input_value}}\", input_value)\n",
    "    return prompt"
   ]
  },
  {
   "cell_type": "markdown",
   "metadata": {},
   "source": [
    "- **Purpose**: Constructs a complete prompt by incorporating the topic, previous completions, domain knowledge, and user input."
   ]
  },
  {
   "cell_type": "code",
   "execution_count": 7,
   "metadata": {},
   "outputs": [
    {
     "name": "stdout",
     "output_type": "stream",
     "text": [
      "# You're a superhuman autocomplete system that provides auto-completions for your users.\n",
      "You take the TOPIC, the PREVIOUS_COMPLETIONS, DOMAIN_KNOWLEDGE and you generate a list of the most likely auto completions for your users based on their INPUT_VALUE.\n",
      "\n",
      "You closely follow GENERATION_RULES to provide the best possible completions.\n",
      "\n",
      "## GENERATION_RULES\n",
      "- If the users INPUT_VALUE exists within their PREVIOUS_COMPLETIONS, prefer that completion. Always prefer the completion with the highest hits.\n",
      "- If the users INPUT_VALUE does NOT exist in PREVIOUS_COMPLETIONS, derive completions from DOMAIN_KNOWLEDGE.\n",
      "- If the users INPUT_VALUE isn't in PREVIOUS_COMPLETIONS and doesn't have a completion in DOMAIN_KNOWLEDGE, generate a new, concise completion based on your own knowledge of the TOPIC.\n",
      "- Return the list of completions as JSON in this format {completions: [\"...\", \"...\", \"...\"]}\n",
      "- Provide completions that fully complete the users sentence.\n",
      "- Your completions should be the remaining words in the sentence, and should always make a valid sentence to be attached to the end of the input sentence.\n",
      "- Be sure to use the correct grammar and punctuation.\n",
      "- Order your completions by hits when available, and resemblance to hits when not.\n",
      "\n",
      "## TOPIC\n",
      "Legal Services Department Questions\n",
      "\n",
      "## PREVIOUS_COMPLETIONS\n",
      "[\n",
      "    {\n",
      "        \"input\": \"i have a case where an employee is disputing\",\n",
      "        \"completions\": [\n",
      "            \"their termination and i need guidance\"\n",
      "        ],\n",
      "        \"correct_department\": \"Employment Disputes\",\n",
      "        \"hits\": 8\n",
      "    },\n",
      "    {\n",
      "        \"input\": \"can someone provide advice on compliance issues related to\",\n",
      "        \"completions\": [\n",
      "            \"data privacy and security regulations\"\n",
      "        ],\n",
      "        \"correct_department\": \"Data Privacy and Security Legal Team\",\n",
      "        \"hits\": 8\n",
      "    },\n",
      "    {\n",
      "        \"input\": \"can someone assist with a case involving\",\n",
      "        \"completions\": [\n",
      "            \"employee benefits and compensation disputes\"\n",
      "        ],\n",
      "        \"correct_department\": \"Employment Benefits Legal Team\",\n",
      "        \"hits\": 8\n",
      "    },\n",
      "    {\n",
      "        \"input\": \"can someone assist with a complex claim\",\n",
      "        \"completions\": [\n",
      "            \"regarding policy definitions and case law research\"\n",
      "        ],\n",
      "        \"correct_department\": \"Coverage Team\",\n",
      "        \"hits\": 7\n",
      "    },\n",
      "    {\n",
      "        \"input\": \"can someone help with an environmental damage claim\",\n",
      "        \"completions\": [\n",
      "            \"and provide expertise on environmental law\"\n",
      "        ],\n",
      "        \"correct_department\": \"Environmental Claims Unit\",\n",
      "        \"hits\": 7\n",
      "    },\n",
      "    {\n",
      "        \"input\": \"i need legal support for a merger involving\",\n",
      "        \"completions\": [\n",
      "            \"due diligence and risk assessment\"\n",
      "        ],\n",
      "        \"correct_department\": \"Mergers & Acquisitions Legal Team\",\n",
      "        \"hits\": 7\n",
      "    },\n",
      "    {\n",
      "        \"input\": \"i need legal advice on a property damage claim involving\",\n",
      "        \"completions\": [\n",
      "            \"a natural disaster\"\n",
      "        ],\n",
      "        \"correct_department\": \"Property Damage Legal Team\",\n",
      "        \"hits\": 7\n",
      "    },\n",
      "    {\n",
      "        \"input\": \"i need legal advice on an employment benefits issue involving\",\n",
      "        \"completions\": [\n",
      "            \"retirement plan disputes\"\n",
      "        ],\n",
      "        \"correct_department\": \"Employment Benefits Legal Team\",\n",
      "        \"hits\": 7\n",
      "    },\n",
      "    {\n",
      "        \"input\": \"i need legal advice on a claim involving\",\n",
      "        \"completions\": [\n",
      "            \"a defective product\"\n",
      "        ],\n",
      "        \"correct_department\": \"Product Liability Team\",\n",
      "        \"hits\": 6\n",
      "    },\n",
      "    {\n",
      "        \"input\": \"i need assistance with a workplace injury claim and\",\n",
      "        \"completions\": [\n",
      "            \"require guidance on workers' compensation laws\"\n",
      "        ],\n",
      "        \"correct_department\": \"Workers' Compensation Legal Team\",\n",
      "        \"hits\": 6\n",
      "    },\n",
      "    {\n",
      "        \"input\": \"i need legal advice on a property transaction involving\",\n",
      "        \"completions\": [\n",
      "            \"zoning laws and lease agreements\"\n",
      "        ],\n",
      "        \"correct_department\": \"Real Estate Legal Services\",\n",
      "        \"hits\": 6\n",
      "    },\n",
      "    {\n",
      "        \"input\": \"i need assistance with an auto claim involving\",\n",
      "        \"completions\": [\n",
      "            \"a complex accident\"\n",
      "        ],\n",
      "        \"correct_department\": \"Auto Claims Legal Team\",\n",
      "        \"hits\": 6\n",
      "    },\n",
      "    {\n",
      "        \"input\": \"can someone provide guidance on an intellectual property issue involving\",\n",
      "        \"completions\": [\n",
      "            \"a patent infringement\"\n",
      "        ],\n",
      "        \"correct_department\": \"Intellectual Property Group\",\n",
      "        \"hits\": 6\n",
      "    },\n",
      "    {\n",
      "        \"input\": \"can someone provide guidance on a real estate transaction involving\",\n",
      "        \"completions\": [\n",
      "            \"lease agreements and property acquisition\"\n",
      "        ],\n",
      "        \"correct_department\": \"Real Estate Legal Services\",\n",
      "        \"hits\": 6\n",
      "    },\n",
      "    {\n",
      "        \"input\": \"we suspect insurance fraud in a recent claim and need\",\n",
      "        \"completions\": [\n",
      "            \"to know next steps\"\n",
      "        ],\n",
      "        \"correct_department\": \"Fraud Investigation Unit\",\n",
      "        \"hits\": 5\n",
      "    },\n",
      "    {\n",
      "        \"input\": \"i need advice on handling a subrogation claim involving\",\n",
      "        \"completions\": [\n",
      "            \"a third-party responsible for an accident\"\n",
      "        ],\n",
      "        \"correct_department\": \"Subrogation Department\",\n",
      "        \"hits\": 5\n",
      "    },\n",
      "    {\n",
      "        \"input\": \"i need legal support for a malpractice claim against\",\n",
      "        \"completions\": [\n",
      "            \"a healthcare provider\"\n",
      "        ],\n",
      "        \"correct_department\": \"Professional Liability Group\",\n",
      "        \"hits\": 5\n",
      "    },\n",
      "    {\n",
      "        \"input\": \"can someone help with a regulatory compliance issue involving\",\n",
      "        \"completions\": [\n",
      "            \"new industry regulations\"\n",
      "        ],\n",
      "        \"correct_department\": \"Regulatory Affairs Team\",\n",
      "        \"hits\": 5\n",
      "    },\n",
      "    {\n",
      "        \"input\": \"can someone help with a healthcare liability claim involving\",\n",
      "        \"completions\": [\n",
      "            \"medical malpractice\"\n",
      "        ],\n",
      "        \"correct_department\": \"Healthcare Liability Team\",\n",
      "        \"hits\": 5\n",
      "    },\n",
      "    {\n",
      "        \"input\": \"we need legal support for a case involving\",\n",
      "        \"completions\": [\n",
      "            \"an international insurance claim\"\n",
      "        ],\n",
      "        \"correct_department\": \"International Claims Unit\",\n",
      "        \"hits\": 5\n",
      "    },\n",
      "    {\n",
      "        \"input\": \"can someone help with a cybersecurity incident involving\",\n",
      "        \"completions\": [\n",
      "            \"data breach response\"\n",
      "        ],\n",
      "        \"correct_department\": \"Cybersecurity Legal Team\",\n",
      "        \"hits\": 5\n",
      "    },\n",
      "    {\n",
      "        \"input\": \"i need help with a construction defect claim and\",\n",
      "        \"completions\": [\n",
      "            \"require legal support\"\n",
      "        ],\n",
      "        \"correct_department\": \"Construction Defects Team\",\n",
      "        \"hits\": 4\n",
      "    },\n",
      "    {\n",
      "        \"input\": \"we need guidance on a bankruptcy case involving\",\n",
      "        \"completions\": [\n",
      "            \"a client with significant debts\"\n",
      "        ],\n",
      "        \"correct_department\": \"Bankruptcy and Insolvency Team\",\n",
      "        \"hits\": 4\n",
      "    },\n",
      "    {\n",
      "        \"input\": \"i need advice on a contractual dispute involving\",\n",
      "        \"completions\": [\n",
      "            \"a vendor agreement\"\n",
      "        ],\n",
      "        \"correct_department\": \"Contractual Disputes Team\",\n",
      "        \"hits\": 4\n",
      "    },\n",
      "    {\n",
      "        \"input\": \"i need legal support for an insurance defense case\",\n",
      "        \"completions\": [\n",
      "            \"involving a liability claim\"\n",
      "        ],\n",
      "        \"correct_department\": \"Insurance Defense Team\",\n",
      "        \"hits\": 4\n",
      "    },\n",
      "    {\n",
      "        \"input\": \"i need legal advice on a claim involving\",\n",
      "        \"completions\": [\n",
      "            \"a dangerous product\"\n",
      "        ],\n",
      "        \"correct_department\": null,\n",
      "        \"hits\": 3\n",
      "    },\n",
      "    {\n",
      "        \"input\": \"i need legal advice on a complex claim involving\",\n",
      "        \"completions\": [\n",
      "            \"intellectual property rights violations\"\n",
      "        ],\n",
      "        \"correct_department\": null,\n",
      "        \"hits\": 1\n",
      "    },\n",
      "    {\n",
      "        \"input\": \"I need legal advice on a compliance\",\n",
      "        \"completions\": [\n",
      "            \"matter concerning internal audits and regulatory reviews\"\n",
      "        ],\n",
      "        \"correct_department\": null,\n",
      "        \"hits\": 1\n",
      "    },\n",
      "    {\n",
      "        \"input\": \"I have a complex coverage question and\",\n",
      "        \"completions\": [\n",
      "            \"need assistance with policy definitions and case law research.\"\n",
      "        ],\n",
      "        \"correct_department\": null,\n",
      "        \"hits\": 1\n",
      "    }\n",
      "]\n",
      "\n",
      "## DOMAIN_KNOWLEDGE\n",
      "# Employment Disputes\n",
      "Handles legal issues concerning current or former employees pursuing legal action against the company.\n",
      "Cases include wrongful termination, payment-related disputes, or contractual matters.\n",
      "Does not handle discrimination accusations.\n",
      "\n",
      "# Coverage Team\n",
      "Specialized attorneys providing advice on complex claims.\n",
      "Assist with policy definitions and their application.\n",
      "Conduct case law research.\n",
      "Referrals are only for non-litigated matters.\n",
      "For litigation, refer to Field Legal.\n",
      "\n",
      "# Field Legal\n",
      "Manages all litigation matters.\n",
      "Handles cases referred from the Coverage Team and other departments.\n",
      "Specializes in defending the company in court.\n",
      "\n",
      "# Compliance Team\n",
      "Ensures company adherence to legal standards and regulations.\n",
      "Handles internal audits and regulatory reviews.\n",
      "Provides guidance on compliance-related issues.\n",
      "\n",
      "# Fraud Investigation Unit\n",
      "Investigates suspected insurance fraud cases.\n",
      "Works closely with law enforcement and other agencies.\n",
      "Provides support for both internal and external fraud matters.\n",
      "\n",
      "# Subrogation Department\n",
      "Recovers funds from third parties responsible for insurance claims.\n",
      "Works with other departments to identify subrogation opportunities.\n",
      "Manages legal proceedings related to subrogation.\n",
      "\n",
      "# Product Liability Team\n",
      "Deals with claims related to defective products causing harm or damage.\n",
      "Provides legal advice and defense strategies.\n",
      "Collaborates with product development teams for risk mitigation.\n",
      "\n",
      "# Environmental Claims Unit\n",
      "Handles claims involving environmental damage and pollution.\n",
      "Provides expertise in environmental law and regulations.\n",
      "Works on cleanup cost recovery and liability defense.\n",
      "\n",
      "# Professional Liability Group\n",
      "Manages claims against professionals for malpractice or negligence.\n",
      "Specializes in sectors like healthcare, legal, and financial services.\n",
      "Offers defense and settlement negotiation services.\n",
      "\n",
      "# Construction Defects Team\n",
      "Deals with claims related to construction defects and contractor negligence.\n",
      "Works with engineers and experts for case assessments.\n",
      "Provides litigation and arbitration support.\n",
      "\n",
      "# Workers' Compensation Legal Team\n",
      "Manages claims related to workplace injuries and illnesses.\n",
      "Provides legal advice on workers' compensation laws and settlements.\n",
      "Collaborates with HR and risk management teams.\n",
      "\n",
      "# Intellectual Property Group\n",
      "Handles cases involving IP rights, including patents, trademarks, and copyrights.\n",
      "Provides defense against IP infringement claims.\n",
      "Assists in securing and enforcing the companyâ€™s IP assets.\n",
      "\n",
      "# Contractual Disputes Team\n",
      "Resolves disputes arising from contracts with vendors, partners, and clients.\n",
      "Provides negotiation and litigation support.\n",
      "Advises on contract drafting and risk management.\n",
      "\n",
      "# Mergers & Acquisitions Legal Team\n",
      "Provides legal support for mergers, acquisitions, and divestitures.\n",
      "Conducts due diligence and risk assessments.\n",
      "Handles regulatory approvals and compliance issues.\n",
      "\n",
      "# Real Estate Legal Services\n",
      "Manages legal aspects of property transactions and disputes.\n",
      "Provides advice on leases, acquisitions, and zoning laws.\n",
      "Works with real estate agents and property managers.\n",
      "\n",
      "# Bankruptcy and Insolvency Team\n",
      "Handles cases involving bankruptcies and insolvencies.\n",
      "Provides advice on creditor rights and debt recovery.\n",
      "Manages legal proceedings related to bankruptcy.\n",
      "\n",
      "# Data Privacy and Security Legal Team\n",
      "Ensures compliance with data protection laws and regulations.\n",
      "Manages data breach responses and investigations.\n",
      "Provides guidance on data privacy policies and practices.\n",
      "\n",
      "# Insurance Defense Team\n",
      "Provides defense against claims made under insurance policies.\n",
      "Specializes in liability, property, and casualty insurance claims.\n",
      "Works with claims adjusters and investigators.\n",
      "\n",
      "# Regulatory Affairs Team\n",
      "Manages relationships with regulatory bodies.\n",
      "Ensures compliance with industry regulations.\n",
      "Provides guidance on regulatory changes and impacts.\n",
      "\n",
      "# Employment Benefits Legal Team\n",
      "Handles legal issues related to employee benefits and compensation.\n",
      "Provides advice on retirement plans, health benefits, and compliance.\n",
      "Manages disputes and litigation involving employee benefits.\n",
      "\n",
      "# International Claims Unit\n",
      "Manages claims involving international policies and incidents.\n",
      "Provides expertise in international law and cross-border disputes.\n",
      "Works with global partners and legal teams.\n",
      "\n",
      "# Cybersecurity Legal Team\n",
      "Provides legal support for cybersecurity incidents and breaches.\n",
      "Ensures compliance with cybersecurity regulations.\n",
      "Manages legal aspects of cybersecurity policies and protocols.\n",
      "\n",
      "# Healthcare Liability Team\n",
      "Manages claims against healthcare providers and institutions.\n",
      "Provides defense and settlement negotiation services.\n",
      "Specializes in medical malpractice and healthcare regulations.\n",
      "\n",
      "# Auto Claims Legal Team\n",
      "Handles claims related to auto accidents and vehicle damage.\n",
      "Provides legal advice and defense strategies.\n",
      "Works with claims adjusters and auto repair experts.\n",
      "\n",
      "# Property Damage Legal Team\n",
      "Manages claims involving property damage from natural disasters, accidents, and other incidents.\n",
      "Provides legal support for damage assessments and settlements.\n",
      "Collaborates with claims adjusters and repair contractors.\n",
      "\n",
      "\n",
      "## Complete the following INPUT_VALUE\n",
      "who can help me with a question about pollution damage?\n",
      "\n"
     ]
    }
   ],
   "source": [
    "prompt_example = build_omni_complete_prompt(\"who can help me with a question about pollution damage?\")\n",
    "print(prompt_example)"
   ]
  },
  {
   "cell_type": "markdown",
   "metadata": {},
   "source": [
    "### If tokens are a concern we can truncate the examples"
   ]
  },
  {
   "cell_type": "code",
   "execution_count": 8,
   "metadata": {},
   "outputs": [],
   "source": [
    "import tiktoken\n",
    "\n",
    "def count_tokens(string: str, model: str = \"gpt-3.5-turbo\") -> int:\n",
    "    \"\"\"Returns the number of tokens in a text string.\"\"\"\n",
    "    encoding = tiktoken.encoding_for_model(model)\n",
    "    num_tokens = len(encoding.encode(string))\n",
    "    return num_tokens"
   ]
  },
  {
   "cell_type": "markdown",
   "metadata": {},
   "source": [
    "- **Example**: Demonstrates how to use the `truncate_json_by_tokens` function."
   ]
  },
  {
   "cell_type": "code",
   "execution_count": 9,
   "metadata": {},
   "outputs": [
    {
     "data": {
      "text/plain": [
       "2736"
      ]
     },
     "execution_count": 9,
     "metadata": {},
     "output_type": "execute_result"
    }
   ],
   "source": [
    "count_tokens(prompt_example)"
   ]
  },
  {
   "cell_type": "code",
   "execution_count": 10,
   "metadata": {},
   "outputs": [],
   "source": [
    "import json\n",
    "from typing import Any, Dict, List\n",
    "\n",
    "def truncate_json_by_tokens(json_string: str, threshold: int, model: str = \"gpt-3.5-turbo\") -> List[Dict[str, Any]]:\n",
    "    \"\"\"\n",
    "    Truncates a JSON string into a list of dictionaries based on a token threshold using a specified model.\n",
    "\n",
    "    Args:\n",
    "        json_string (str): The JSON string to be truncated.\n",
    "        threshold (int): The maximum number of tokens allowed in the truncated output.\n",
    "        model (str): The model used to count tokens, default is \"gpt-3.5-turbo\".\n",
    "\n",
    "    Returns:\n",
    "        List[Dict[str, Any]]: A list of dictionaries representing the truncated JSON data.\n",
    "    \"\"\"\n",
    "    data = json.loads(json_string)\n",
    "    truncated_data = []\n",
    "    current_tokens = 0\n",
    "\n",
    "    for item in data:\n",
    "        item_string = json.dumps(item, indent=4)\n",
    "        item_tokens = count_tokens(item_string, model)\n",
    "        \n",
    "        if current_tokens + item_tokens > threshold:\n",
    "            break\n",
    "        \n",
    "        truncated_data.append(item)\n",
    "        current_tokens += item_tokens\n",
    "\n",
    "    return truncated_data"
   ]
  },
  {
   "cell_type": "code",
   "execution_count": 11,
   "metadata": {},
   "outputs": [
    {
     "data": {
      "text/plain": [
       "1545"
      ]
     },
     "execution_count": 11,
     "metadata": {},
     "output_type": "execute_result"
    }
   ],
   "source": [
    "previous_completions = open(\n",
    "    f\"{PROMPT_ROOT_DIR}/knowledge_bases/LSS/previous_completions.json\", \"r\"\n",
    ").read()\n",
    "\n",
    "count_tokens(previous_completions)"
   ]
  },
  {
   "cell_type": "code",
   "execution_count": 12,
   "metadata": {},
   "outputs": [
    {
     "data": {
      "text/plain": [
       "131"
      ]
     },
     "execution_count": 12,
     "metadata": {},
     "output_type": "execute_result"
    }
   ],
   "source": [
    "truncated_json = truncate_json_by_tokens(previous_completions, 200)\n",
    "count_tokens(str(truncated_json))"
   ]
  },
  {
   "cell_type": "markdown",
   "metadata": {},
   "source": [
    "### Class: `AutoCompletionEntry`\n",
    "* This class represents historical data and handles updates"
   ]
  },
  {
   "cell_type": "code",
   "execution_count": 14,
   "metadata": {},
   "outputs": [],
   "source": [
    "from pydantic import BaseModel\n",
    "from typing import List\n",
    "\n",
    "class AutoCompletionEntry(BaseModel):\n",
    "    input: str\n",
    "    completions: List[str]\n",
    "    correct_department: str | None= None\n",
    "    hits: int = 1\n",
    "    \n",
    "    def __str__(self):\n",
    "        return f\"{self.input} {self.completions[0]}\"\n"
   ]
  },
  {
   "cell_type": "code",
   "execution_count": 15,
   "metadata": {},
   "outputs": [
    {
     "data": {
      "text/plain": [
       "AutoCompletionEntry(input='i have a case where an employee is disputing', completions=['their termination and i need guidance'], correct_department='Employment Disputes', hits=8)"
      ]
     },
     "execution_count": 15,
     "metadata": {},
     "output_type": "execute_result"
    }
   ],
   "source": [
    "AutoCompletionEntry(**truncated_json[0])"
   ]
  },
  {
   "cell_type": "code",
   "execution_count": 16,
   "metadata": {},
   "outputs": [],
   "source": [
    "input = 'i need legal advice on a claim involving'\n",
    "completion = 'a dangerous product'\n",
    "\n",
    "new_completion = AutoCompletionEntry(input=input, completions=[completion])"
   ]
  },
  {
   "cell_type": "code",
   "execution_count": 17,
   "metadata": {},
   "outputs": [
    {
     "name": "stdout",
     "output_type": "stream",
     "text": [
      "i need legal advice on a claim involving a dangerous product\n"
     ]
    }
   ],
   "source": [
    "print(new_completion)"
   ]
  },
  {
   "cell_type": "markdown",
   "metadata": {},
   "source": [
    "### Function: `increment_or_create_previous_completions`\n",
    "- Updates or creates new entries in the existing completions list\n",
    "- Increments hit counts, sorts by hits, and saves back to the file"
   ]
  },
  {
   "cell_type": "code",
   "execution_count": 18,
   "metadata": {},
   "outputs": [],
   "source": [
    "import json\n",
    "from typing import List\n",
    "from pydantic import BaseModel, ValidationError\n",
    "\n",
    "def increment_or_create_previous_completions(input: str, completion: str, topic_dir: str) -> List[AutoCompletionEntry]:\n",
    "    \"\"\"\n",
    "    Updates the list of previous completions by incrementing the hit count for existing entries\n",
    "    or creating a new entry if no match is found. The list is then sorted by hits in descending order\n",
    "    and saved back to the file.\n",
    "\n",
    "    Args:\n",
    "        input (str): The user input string to match or add.\n",
    "        completion (str): The completion string associated with the input.\n",
    "        topic_dir (str): The directory name under which the completions file is stored.\n",
    "\n",
    "    Returns:\n",
    "        List[AutoCompletionEntry]: A list of AutoCompletionEntry objects sorted by hits in descending order.\n",
    "    \"\"\"\n",
    "    previous_completions_file = (\n",
    "        f\"{PROMPT_ROOT_DIR}/knowledge_bases/{topic_dir}/previous_completions.json\"\n",
    "    )\n",
    "\n",
    "    # Try to read the previous completions file\n",
    "    try:\n",
    "        with open(previous_completions_file, \"r\") as file:\n",
    "            data = json.load(file)\n",
    "            previous_completions = [AutoCompletionEntry(**item) for item in data]\n",
    "    except (FileNotFoundError, json.JSONDecodeError, ValidationError):\n",
    "        previous_completions = []\n",
    "\n",
    "    # Check for a matching input and completion\n",
    "    matching_case = None\n",
    "    for item in previous_completions:\n",
    "        if item.input.lower() == input.lower():\n",
    "            for existing_completion in item.completions:\n",
    "                if completion.lower() in existing_completion.lower():\n",
    "                    matching_case = item\n",
    "                    break\n",
    "\n",
    "    # Update hits if a match is found, otherwise create a new entry\n",
    "    if matching_case:\n",
    "        matching_case.hits += 1\n",
    "    else:\n",
    "        new_completion = AutoCompletionEntry(input=input, completions=[completion])\n",
    "        previous_completions.append(new_completion)\n",
    "\n",
    "    # Sort completions by hits in descending order\n",
    "    completions_sorted_by_hits = sorted(\n",
    "        previous_completions, key=lambda x: x.hits, reverse=True\n",
    "    )\n",
    "\n",
    "    # Write the updated completions back to the file\n",
    "    with open(previous_completions_file, \"w\") as file:\n",
    "        json.dump([item.model_dump() for item in completions_sorted_by_hits], file, indent=4)\n",
    "\n",
    "    return completions_sorted_by_hits"
   ]
  },
  {
   "cell_type": "code",
   "execution_count": 19,
   "metadata": {},
   "outputs": [],
   "source": [
    "import openai\n",
    "\n",
    "def prompt_json(prompt: str) -> str:\n",
    "    \"\"\"\n",
    "    Sends a prompt to the OpenAI API and retrieves a JSON-formatted response.\n",
    "\n",
    "    Args:\n",
    "        prompt (str): The text prompt to send to the model.\n",
    "\n",
    "    Returns:\n",
    "        str: The content of the message from the model's response.\n",
    "    \"\"\"\n",
    "    client = openai.OpenAI()\n",
    "    chat_completion = client.chat.completions.create(\n",
    "        messages=[\n",
    "            {\n",
    "                \"role\": \"user\",\n",
    "                \"content\": prompt,\n",
    "            }\n",
    "        ],\n",
    "        stream=False,\n",
    "        model=\"gpt-3.5-turbo\",\n",
    "        response_format={\n",
    "            \"type\": \"json_object\",\n",
    "        },\n",
    "    )\n",
    "    return chat_completion.choices[0].message.content"
   ]
  },
  {
   "cell_type": "code",
   "execution_count": 40,
   "metadata": {},
   "outputs": [],
   "source": [
    "from typing import Sequence\n",
    "from pydantic import Field, model_validator, ConfigDict\n",
    "\n",
    "class AutoCompletions(BaseModel):\n",
    "    \"\"\"Auto-completions for a new user query.\"\"\"\n",
    "    \n",
    "    input: str = Field(\n",
    "        ...,\n",
    "        description=\"The user provided INPUT_VALUE.\",\n",
    "    )\n",
    "    completions: List[str] = Field(\n",
    "        default_factory=list,\n",
    "        description=\"A list of potential completions based on the GENERATION_RULES.\",\n",
    "    )\n",
    "    correct_department: str = Field(\n",
    "        ...,\n",
    "        description=\"The predicted department based on ALL available information.\",\n",
    "    )\n",
    "    "
   ]
  },
  {
   "cell_type": "code",
   "execution_count": 42,
   "metadata": {},
   "outputs": [],
   "source": [
    "import instructor\n",
    "from openai import OpenAI\n",
    "from typing import Any\n",
    "\n",
    "def get_autocompletions(input_data: str) -> AutoCompletions:\n",
    "    \"\"\"\n",
    "    Retrieves auto-completions for a given input using a language model.\n",
    "\n",
    "    Args:\n",
    "        input_data (str): The user's input data for which completions are needed.\n",
    "\n",
    "    Returns:\n",
    "        AutoCompletion: An object containing the input, completions, and predicted department.\n",
    "    \"\"\"\n",
    "    prompt = build_omni_complete_prompt(\n",
    "        input_data, topic=TOPIC, topic_dir=TOPIC_DIR\n",
    "    )\n",
    "    client = instructor.from_openai(OpenAI())\n",
    "    \n",
    "    return client.chat.completions.create(\n",
    "            messages=[\n",
    "                {\n",
    "                    \"role\": \"user\",\n",
    "                    \"content\": prompt,\n",
    "                },\n",
    "            ],\n",
    "            model=\"gpt-4-turbo\",\n",
    "            response_model=AutoCompletions,\n",
    "        )"
   ]
  },
  {
   "cell_type": "code",
   "execution_count": 43,
   "metadata": {},
   "outputs": [],
   "source": [
    "input_data = 'I need assistance with a legal issue involving'\n",
    "\n",
    "autocompletions = get_autocompletions(input_data)"
   ]
  },
  {
   "cell_type": "code",
   "execution_count": 44,
   "metadata": {},
   "outputs": [
    {
     "data": {
      "text/plain": [
       "{'input': 'I need assistance with a legal issue involving',\n",
       " 'completions': ['a legal dispute',\n",
       "  'an arbitration',\n",
       "  'a regulatory issue',\n",
       "  'property damage',\n",
       "  'a personal injury'],\n",
       " 'correct_department': 'General Legal Queries'}"
      ]
     },
     "execution_count": 44,
     "metadata": {},
     "output_type": "execute_result"
    }
   ],
   "source": [
    "autocompletions.model_dump()"
   ]
  },
  {
   "cell_type": "code",
   "execution_count": 48,
   "metadata": {},
   "outputs": [],
   "source": [
    "def get_autocomplete(input_data: str) -> AutoCompletionEntry:\n",
    "    \"\"\"\n",
    "    Fetches autocompletion entries for a given input using a predefined prompt structure.\n",
    "\n",
    "    Args:\n",
    "        input_data (str): The user's input data for which autocompletions are needed.\n",
    "\n",
    "    Returns:\n",
    "        AutoCompletionEntry: An object containing the input and its corresponding completions.\n",
    "    \"\"\"\n",
    "    prompt = build_omni_complete_prompt(\n",
    "        input_data, topic=TOPIC, topic_dir=TOPIC_DIR\n",
    "    )\n",
    "    client = instructor.from_openai(OpenAI())\n",
    "    \n",
    "    return client.chat.completions.create(\n",
    "            messages=[\n",
    "                {\n",
    "                    \"role\": \"user\",\n",
    "                    \"content\": prompt,\n",
    "                },\n",
    "            ],\n",
    "            model=\"gpt-4-turbo\",\n",
    "            response_model=AutoCompletionEntry,\n",
    "        )"
   ]
  },
  {
   "cell_type": "code",
   "execution_count": 49,
   "metadata": {},
   "outputs": [
    {
     "name": "stdout",
     "output_type": "stream",
     "text": [
      "I have a complex coverage dispute involving\n",
      "claims or coverage limits\n",
      "I have a complex coverage dispute involving claims or coverage limits\n"
     ]
    }
   ],
   "source": [
    "input_data = 'I have a complex coverage dispute involving'\n",
    "print(input_data)\n",
    "autocomplete_object = get_autocomplete(input_data)\n",
    "print(autocomplete_object.completions[0])\n",
    "print(str(autocomplete_object))"
   ]
  },
  {
   "cell_type": "code",
   "execution_count": 50,
   "metadata": {},
   "outputs": [
    {
     "data": {
      "text/plain": [
       "{'input': 'I have a complex coverage dispute involving',\n",
       " 'completions': ['claims or coverage limits'],\n",
       " 'correct_department': 'Coverage Team',\n",
       " 'hits': 1}"
      ]
     },
     "execution_count": 50,
     "metadata": {},
     "output_type": "execute_result"
    }
   ],
   "source": [
    "autocomplete_object.model_dump()"
   ]
  },
  {
   "cell_type": "code",
   "execution_count": 51,
   "metadata": {},
   "outputs": [],
   "source": [
    "updated_completions = increment_or_create_previous_completions(\n",
    "        autocomplete_object.input, autocomplete_object.completions[0], TOPIC_DIR\n",
    "    )"
   ]
  },
  {
   "cell_type": "code",
   "execution_count": 104,
   "metadata": {},
   "outputs": [],
   "source": [
    "import requests\n",
    "\n",
    "class SearchRequest(BaseModel):\n",
    "    body: str\n",
    "\n",
    "def get_autocomplete(user_query: str) -> list[str]:\n",
    "    input_data = SearchRequest(body=user_query)\n",
    "    url = \"http://127.0.0.1:5000/get-pred\"\n",
    "    \n",
    "    response = requests.post(url, data=input_data.model_dump_json(), headers={\"Content-Type\": \"application/json\"})\n",
    "    return AutoCompletions(**response.json())"
   ]
  },
  {
   "cell_type": "code",
   "execution_count": 111,
   "metadata": {},
   "outputs": [],
   "source": [
    "input_text = \"I need assistance with a complex liability\"\n",
    "res = get_autocomplete(input_text)"
   ]
  },
  {
   "cell_type": "code",
   "execution_count": 112,
   "metadata": {},
   "outputs": [
    {
     "data": {
      "text/plain": [
       "{'input': 'I need assistance with a complex liability',\n",
       " 'completions': ['claim involving a multi-party dispute',\n",
       "  'case requiring in-depth analysis of contractual obligations'],\n",
       " 'correct_department': 'Insurance Defense Team'}"
      ]
     },
     "execution_count": 112,
     "metadata": {},
     "output_type": "execute_result"
    }
   ],
   "source": [
    "res.model_dump()"
   ]
  },
  {
   "cell_type": "code",
   "execution_count": null,
   "metadata": {},
   "outputs": [],
   "source": []
  }
 ],
 "metadata": {
  "kernelspec": {
   "display_name": ".venv",
   "language": "python",
   "name": "python3"
  },
  "language_info": {
   "codemirror_mode": {
    "name": "ipython",
    "version": 3
   },
   "file_extension": ".py",
   "mimetype": "text/x-python",
   "name": "python",
   "nbconvert_exporter": "python",
   "pygments_lexer": "ipython3",
   "version": "3.10.11"
  }
 },
 "nbformat": 4,
 "nbformat_minor": 2
}
