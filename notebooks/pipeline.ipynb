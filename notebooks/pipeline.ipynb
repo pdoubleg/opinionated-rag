{
 "cells": [
  {
   "cell_type": "code",
   "execution_count": 1,
   "metadata": {},
   "outputs": [
    {
     "name": "stdout",
     "output_type": "stream",
     "text": [
      "df shape: (1987, 24)\n"
     ]
    },
    {
     "data": {
      "text/html": [
       "<div>\n",
       "<style scoped>\n",
       "    .dataframe tbody tr th:only-of-type {\n",
       "        vertical-align: middle;\n",
       "    }\n",
       "\n",
       "    .dataframe tbody tr th {\n",
       "        vertical-align: top;\n",
       "    }\n",
       "\n",
       "    .dataframe thead th {\n",
       "        text-align: right;\n",
       "    }\n",
       "</style>\n",
       "<table border=\"1\" class=\"dataframe\">\n",
       "  <thead>\n",
       "    <tr style=\"text-align: right;\">\n",
       "      <th></th>\n",
       "      <th>index</th>\n",
       "      <th>id</th>\n",
       "      <th>citation</th>\n",
       "      <th>name</th>\n",
       "      <th>name_abbreviation</th>\n",
       "      <th>decision_date</th>\n",
       "      <th>court_id</th>\n",
       "      <th>court_name</th>\n",
       "      <th>court_slug</th>\n",
       "      <th>judges</th>\n",
       "      <th>attorneys</th>\n",
       "      <th>citations</th>\n",
       "      <th>url</th>\n",
       "      <th>head</th>\n",
       "      <th>body</th>\n",
       "      <th>name_contains_lm</th>\n",
       "      <th>body_contains_lm</th>\n",
       "      <th>year</th>\n",
       "      <th>context</th>\n",
       "      <th>context_citation</th>\n",
       "      <th>context_tokens</th>\n",
       "      <th>openai_embeddings</th>\n",
       "      <th>splade_embeddings</th>\n",
       "      <th>state</th>\n",
       "    </tr>\n",
       "  </thead>\n",
       "  <tbody>\n",
       "    <tr>\n",
       "      <th>0</th>\n",
       "      <td>0</td>\n",
       "      <td>411690</td>\n",
       "      <td>154 Ill. 2d 90</td>\n",
       "      <td>RICHARD R. JOHNSON, Plaintiff-Appellant and Cr...</td>\n",
       "      <td>Johnson v. Halloran</td>\n",
       "      <td>2000-01-13</td>\n",
       "      <td>8837</td>\n",
       "      <td>Illinois Appellate Court</td>\n",
       "      <td>ill-app-ct</td>\n",
       "      <td>[]</td>\n",
       "      <td>['Wolter, Beeman, Lynch &amp; McIntyre, of Springf...</td>\n",
       "      <td>[{'type': 'official', 'cite': '312 Ill. App. 3...</td>\n",
       "      <td>https://api.case.law/v1/cases/411690/</td>\n",
       "      <td>RICHARD R. JOHNSON, Plaintiff-Appellant and Cr...</td>\n",
       "      <td>JUSTICE HALL\\r\\ndelivered the opinion of the c...</td>\n",
       "      <td>False</td>\n",
       "      <td>True</td>\n",
       "      <td>2000</td>\n",
       "      <td>The public defender of Cook County was appoint...</td>\n",
       "      <td>154 Ill. 2d 90</td>\n",
       "      <td>1317</td>\n",
       "      <td>[-0.0017778094625100493, -0.002360282698646187...</td>\n",
       "      <td>[0.0, 0.0, 0.0, 0.0, 0.0, 0.0, 0.0, 0.0, 0.0, ...</td>\n",
       "      <td>New Mexico</td>\n",
       "    </tr>\n",
       "  </tbody>\n",
       "</table>\n",
       "</div>"
      ],
      "text/plain": [
       "   index      id        citation  \\\n",
       "0      0  411690  154 Ill. 2d 90   \n",
       "\n",
       "                                                name    name_abbreviation  \\\n",
       "0  RICHARD R. JOHNSON, Plaintiff-Appellant and Cr...  Johnson v. Halloran   \n",
       "\n",
       "  decision_date  court_id                court_name  court_slug judges  \\\n",
       "0    2000-01-13      8837  Illinois Appellate Court  ill-app-ct     []   \n",
       "\n",
       "                                           attorneys  \\\n",
       "0  ['Wolter, Beeman, Lynch & McIntyre, of Springf...   \n",
       "\n",
       "                                           citations  \\\n",
       "0  [{'type': 'official', 'cite': '312 Ill. App. 3...   \n",
       "\n",
       "                                     url  \\\n",
       "0  https://api.case.law/v1/cases/411690/   \n",
       "\n",
       "                                                head  \\\n",
       "0  RICHARD R. JOHNSON, Plaintiff-Appellant and Cr...   \n",
       "\n",
       "                                                body  name_contains_lm  \\\n",
       "0  JUSTICE HALL\\r\\ndelivered the opinion of the c...             False   \n",
       "\n",
       "   body_contains_lm  year                                            context  \\\n",
       "0              True  2000  The public defender of Cook County was appoint...   \n",
       "\n",
       "  context_citation  context_tokens  \\\n",
       "0   154 Ill. 2d 90            1317   \n",
       "\n",
       "                                   openai_embeddings  \\\n",
       "0  [-0.0017778094625100493, -0.002360282698646187...   \n",
       "\n",
       "                                   splade_embeddings       state  \n",
       "0  [0.0, 0.0, 0.0, 0.0, 0.0, 0.0, 0.0, 0.0, 0.0, ...  New Mexico  "
      ]
     },
     "execution_count": 1,
     "metadata": {},
     "output_type": "execute_result"
    }
   ],
   "source": [
    "import os\n",
    "from dotenv import load_dotenv\n",
    "import pandas as pd\n",
    "import warnings\n",
    "warnings.filterwarnings('ignore')\n",
    "pd.set_option('display.max_columns', None)\n",
    "from IPython.display import Markdown, display, HTML\n",
    "\n",
    "load_dotenv()\n",
    "os.chdir(os.path.dirname(os.getcwd()))\n",
    "\n",
    "df = pd.read_parquet('./data/splade.parquet')\n",
    "print(f\"df shape: {df.shape}\")\n",
    "df.head(1)"
   ]
  },
  {
   "cell_type": "code",
   "execution_count": 2,
   "metadata": {},
   "outputs": [],
   "source": [
    "query = \"\"\"\n",
    "How have courts interpreted the phrase 'sudden and accidental' with respect to water damage?\n",
    "\"\"\""
   ]
  },
  {
   "cell_type": "code",
   "execution_count": 3,
   "metadata": {},
   "outputs": [],
   "source": [
    "from src.search.models import (\n",
    "    QueryPlanConfig,\n",
    "    SearchRequest,\n",
    "    DocumentSource,\n",
    "    BaseFilters,\n",
    "    Tag\n",
    ")\n",
    "from src.search.query_expansion import segment_search_query\n",
    "from src.search.query_planning import generate_query_filters, screen_query\n",
    "\n",
    "DEFAULT_TOP_K = 40\n",
    "DEFAULT_RERANK_TOP_K = 20\n",
    "DEFAULT_MAX_LLM_CHUNKS = 10\n",
    "\n",
    "\n",
    "def retrieval_preprocessing(\n",
    "    search_request: SearchRequest,\n",
    "    verbose: bool = False,\n",
    ") -> QueryPlanConfig:\n",
    "    \n",
    "    tag_list = []\n",
    "    \n",
    "    query = search_request.query\n",
    "\n",
    "    preset_filters = search_request.human_selected_filters or None\n",
    "    \n",
    "    if preset_filters:\n",
    "        tag_list.extend(preset_filters.tags)\n",
    "\n",
    "    query_screening = None\n",
    "    if search_request.enable_query_screening:\n",
    "        query_screening = screen_query(query=query)\n",
    "        \n",
    "    if search_request.enable_auto_detect_filters:\n",
    "        predicted_filters = generate_query_filters(\n",
    "            search_df=df,\n",
    "            query=query,\n",
    "            filter_fields=['state'],\n",
    "            verbose=verbose,\n",
    "        )\n",
    "        pred_tags = []\n",
    "        for tag in predicted_filters:\n",
    "            pred_tag = Tag(\n",
    "                tag_key=tag.filter_key,\n",
    "                tag_value=tag.filter_value\n",
    "            )\n",
    "            pred_tags.append(pred_tag)\n",
    "        \n",
    "        tag_list.extend(pred_tags)\n",
    "        \n",
    "    if search_request.enable_auto_subquestions:\n",
    "        n = str(query_screening.n_subquestions) if query_screening else \"2 to 3\"\n",
    "        queries = segment_search_query(\n",
    "            query,\n",
    "            n,\n",
    "        )\n",
    "        \n",
    "    return QueryPlanConfig(\n",
    "        query=search_request.query,\n",
    "        subquestions=queries,\n",
    "        filters=tag_list,\n",
    "        num_hits=DEFAULT_TOP_K,\n",
    "        num_rerank=DEFAULT_RERANK_TOP_K,\n",
    "        max_llm_filter_chunks=DEFAULT_MAX_LLM_CHUNKS,\n",
    "        rerank=search_request.rerank,\n",
    "        llm_chunk_filter=search_request.llm_chunk_filter,\n",
    "        query_eval=query_screening if query_screening is not None else None,\n",
    "        search_configs=search_request.search_configs,\n",
    "    )\n"
   ]
  },
  {
   "cell_type": "code",
   "execution_count": 4,
   "metadata": {},
   "outputs": [
    {
     "name": "stderr",
     "output_type": "stream",
     "text": [
      "\u001b[32m2024-04-29 00:41:22 - INFO - Schema shown to LLM: \n",
      "Name of each field, its type and unique values (up to 20):\n",
      "* state (string);  Values - ['New Mexico' 'Nevada' 'Virginia' 'Vermont' 'Kansas' 'Maryland' 'Arkansas'\n",
      " 'Massachusetts' 'West Virginia' 'Pennsylvania' 'Texas' 'Maine'\n",
      " 'Mississippi' 'Hawaii' 'Iowa' 'Kentucky' 'Ohio' 'New Hampshire'\n",
      " 'Wisconsin' 'North Dakota'], ... 30 more\n",
      "        \u001b[0m\n"
     ]
    }
   ],
   "source": [
    "from src.agent.tools.semantic_search import SemanticSearchConfig\n",
    "from src.agent.tools.splade_search import SPLADESearchConfig\n",
    "\n",
    "DATA_PATH = \"data/splade.parquet\"\n",
    "\n",
    "SEMANTIC_TEXT_COLUMN = \"context\"\n",
    "SPLADE_TEXT_COLUMN = \"context\"\n",
    "\n",
    "semantic_config = SemanticSearchConfig(\n",
    "    data_path=DATA_PATH,\n",
    "    text_column=SEMANTIC_TEXT_COLUMN,\n",
    ")\n",
    "keyword_config = SPLADESearchConfig(\n",
    "    data_path=DATA_PATH,\n",
    "    text_column=SEMANTIC_TEXT_COLUMN,\n",
    ")\n",
    "\n",
    "# Tag can be added manually &/or be generated by llm\n",
    "state_tag = Tag(\n",
    "    tag_key=\"state\",\n",
    "    tag_value=\"Texas\"\n",
    ")\n",
    "base_filters = BaseFilters(\n",
    "    source_type=DocumentSource.OPINIONS,\n",
    "    document_set=\"sharepoint\",\n",
    "    tags=[state_tag],\n",
    ")\n",
    "search_request = SearchRequest(\n",
    "    query=query,\n",
    "    human_selected_filters=None,\n",
    "    enable_query_screening=True,\n",
    "    enable_auto_detect_filters=True,\n",
    "    enable_auto_subquestions=True,\n",
    "    rerank=False,\n",
    "    llm_chunk_filter=False,\n",
    "    search_configs=[semantic_config, keyword_config]\n",
    ")\n",
    "preprocessed_search_query = retrieval_preprocessing(\n",
    "    search_request=search_request,\n",
    "    verbose=True,\n",
    ")"
   ]
  },
  {
   "cell_type": "code",
   "execution_count": 5,
   "metadata": {},
   "outputs": [
    {
     "data": {
      "text/plain": [
       "{'query': \"\\nHow have courts interpreted the phrase 'sudden and accidental' with respect to water damage?\\n\",\n",
       " 'filters': [{'tag_key': 'text',\n",
       "   'tag_value': 'sudden and accidental water damage'}],\n",
       " 'num_hits': 40,\n",
       " 'rerank': False,\n",
       " 'num_rerank': 20,\n",
       " 'llm_chunk_filter': False,\n",
       " 'max_llm_filter_chunks': 10,\n",
       " 'subquestions': {'questions': [{'sub_question_topic': \"Court Interpretations of 'Sudden and Accidental' in Water Damage Claims\",\n",
       "    'sub_question_query': \"How have courts interpreted the phrase 'sudden and accidental' in the context of water damage claims, and what are the key legal precedents and judicial decisions that have influenced this interpretation?\",\n",
       "    'sub_question_keywords': ['sudden and accidental',\n",
       "     'water damage',\n",
       "     'court interpretation',\n",
       "     'legal precedent',\n",
       "     'judicial decision']}]},\n",
       " 'query_eval': {'topic': \"Interpretation of 'sudden and accidental' phrase in water damage cases\",\n",
       "  'question_quality': 'The question is well-defined and focused on a specific legal interpretation.',\n",
       "  'n_subquestions': 0},\n",
       " 'search_configs': [{'type': <SearchType.SEMANTIC: 'semantic'>,\n",
       "   'data_path': 'data/splade.parquet',\n",
       "   'text_column': 'context',\n",
       "   'embedding_column': 'openai_embeddings'},\n",
       "  {'type': <SearchType.SPLADE: 'splade'>,\n",
       "   'data_path': 'data/splade.parquet',\n",
       "   'text_column': 'context',\n",
       "   'embedding_column': 'splade_embeddings'}]}"
      ]
     },
     "execution_count": 5,
     "metadata": {},
     "output_type": "execute_result"
    }
   ],
   "source": [
    "preprocessed_search_query.model_dump()"
   ]
  },
  {
   "cell_type": "code",
   "execution_count": 6,
   "metadata": {},
   "outputs": [
    {
     "data": {
      "text/plain": [
       "{'text': 'sudden and accidental water damage'}"
      ]
     },
     "execution_count": 6,
     "metadata": {},
     "output_type": "execute_result"
    }
   ],
   "source": [
    "preprocessed_search_query.filters[0].filter_dict"
   ]
  },
  {
   "cell_type": "code",
   "execution_count": 7,
   "metadata": {},
   "outputs": [
    {
     "data": {
      "text/plain": [
       "\"How have courts interpreted the phrase 'sudden and accidental' in the context of water damage claims, and what are the key legal precedents and judicial decisions that have influenced this interpretation?\""
      ]
     },
     "execution_count": 7,
     "metadata": {},
     "output_type": "execute_result"
    }
   ],
   "source": [
    "preprocessed_search_query.subquestions.questions[0].sub_question_query"
   ]
  },
  {
   "cell_type": "code",
   "execution_count": 8,
   "metadata": {},
   "outputs": [
    {
     "data": {
      "text/plain": [
       "['sudden and accidental',\n",
       " 'water damage',\n",
       " 'court interpretation',\n",
       " 'legal precedent',\n",
       " 'judicial decision']"
      ]
     },
     "execution_count": 8,
     "metadata": {},
     "output_type": "execute_result"
    }
   ],
   "source": [
    "preprocessed_search_query.subquestions.questions[0].sub_question_keywords"
   ]
  },
  {
   "cell_type": "code",
   "execution_count": 9,
   "metadata": {},
   "outputs": [
    {
     "name": "stderr",
     "output_type": "stream",
     "text": [
      "\u001b[32m2024-04-29 00:41:33 - INFO - Read in df with shape: (1987, 24)\u001b[0m\n",
      "\u001b[32m2024-04-29 00:41:33 - INFO - Read in df with shape: (1987, 24)\u001b[0m\n",
      "\u001b[32m2024-04-29 00:41:34 - INFO - Using pre-computed 'context' embeddings from existing column: splade_embeddings\u001b[0m\n",
      "\u001b[32m2024-04-29 00:41:34 - INFO - \n",
      "\n",
      "Thought: To understand how courts have interpreted the phrase 'sudden and accidental' in the context of water\n",
      "damage, we need to explore case law, legal interpretations, and judicial decisions that have\n",
      "addressed this specific phrase. This involves looking into how various jurisdictions have defined\n",
      "and applied 'sudden and accidental' in water damage claims, including any significant rulings that\n",
      "have shaped the understanding of this phrase.\n",
      "Search topic: Court Interpretations of 'Sudden and Accidental' in Water Damage Claims\u001b[0m\n",
      "\u001b[32m2024-04-29 00:41:34 - INFO - Running search using SemanticSearch: How have courts interpreted the phrase 'sudden and accidental' in the context of water damage claims, and what are the key legal precedents and judicial decisions that have influenced this interpretation?\u001b[0m\n",
      "\u001b[32m2024-04-29 00:41:34 - INFO - Running search using SPLADESparseSearch: sudden and accidental, water damage, court interpretation, legal precedent, judicial decision\u001b[0m\n",
      "\u001b[32m2024-04-29 00:41:34 - INFO - Retrieved 40, 40 records from searches\u001b[0m\n",
      "\u001b[32m2024-04-29 00:41:34 - INFO - Returning 20 joined and deduplicated records\u001b[0m\n",
      "\u001b[32m2024-04-29 00:41:34 - INFO - ---------------------------------------------------------------------------\u001b[0m\n"
     ]
    }
   ],
   "source": [
    "retrieval_res = preprocessed_search_query.subquestions.execute(\n",
    "    preprocessed_search_query,\n",
    ")"
   ]
  },
  {
   "cell_type": "code",
   "execution_count": 10,
   "metadata": {},
   "outputs": [
    {
     "data": {
      "text/html": [
       "<div>\n",
       "<style scoped>\n",
       "    .dataframe tbody tr th:only-of-type {\n",
       "        vertical-align: middle;\n",
       "    }\n",
       "\n",
       "    .dataframe tbody tr th {\n",
       "        vertical-align: top;\n",
       "    }\n",
       "\n",
       "    .dataframe thead th {\n",
       "        text-align: right;\n",
       "    }\n",
       "</style>\n",
       "<table border=\"1\" class=\"dataframe\">\n",
       "  <thead>\n",
       "    <tr style=\"text-align: right;\">\n",
       "      <th></th>\n",
       "      <th>context</th>\n",
       "      <th>index</th>\n",
       "      <th>id</th>\n",
       "      <th>citation</th>\n",
       "      <th>name</th>\n",
       "      <th>name_abbreviation</th>\n",
       "      <th>decision_date</th>\n",
       "      <th>court_id</th>\n",
       "      <th>court_name</th>\n",
       "      <th>court_slug</th>\n",
       "      <th>judges</th>\n",
       "      <th>attorneys</th>\n",
       "      <th>citations</th>\n",
       "      <th>url</th>\n",
       "      <th>head</th>\n",
       "      <th>body</th>\n",
       "      <th>name_contains_lm</th>\n",
       "      <th>body_contains_lm</th>\n",
       "      <th>year</th>\n",
       "      <th>context_citation</th>\n",
       "      <th>context_tokens</th>\n",
       "      <th>state</th>\n",
       "      <th>search_type</th>\n",
       "      <th>score</th>\n",
       "    </tr>\n",
       "  </thead>\n",
       "  <tbody>\n",
       "    <tr>\n",
       "      <th>1675</th>\n",
       "      <td>Id. at 4. According to Plaintiff's insurance p...</td>\n",
       "      <td>2126</td>\n",
       "      <td>12526556</td>\n",
       "      <td>91 L. Ed. 2d 265</td>\n",
       "      <td>Audrey SANKO, Plaintiff, v. ALLSTATE INSURANCE...</td>\n",
       "      <td>Sanko v. Allstate Ins. Co.</td>\n",
       "      <td>2018-05-18</td>\n",
       "      <td>9039</td>\n",
       "      <td>United States District Court for the Middle Di...</td>\n",
       "      <td>md-pa</td>\n",
       "      <td>[]</td>\n",
       "      <td>['Tammy Lee Clause, Attorney Tammy Lee Clause,...</td>\n",
       "      <td>[{'type': 'official', 'cite': '323 F. Supp. 3d...</td>\n",
       "      <td>https://api.case.law/v1/cases/12526556/</td>\n",
       "      <td>Audrey SANKO, Plaintiff,\\r\\nv.\\r\\nALLSTATE INS...</td>\n",
       "      <td>Robert D. Mariani, United States District Judg...</td>\n",
       "      <td>False</td>\n",
       "      <td>True</td>\n",
       "      <td>2018</td>\n",
       "      <td>91 L. Ed. 2d 265</td>\n",
       "      <td>1442</td>\n",
       "      <td>Wyoming</td>\n",
       "      <td>vector</td>\n",
       "      <td>0.968254</td>\n",
       "    </tr>\n",
       "    <tr>\n",
       "      <th>584</th>\n",
       "      <td>In the absence of clear Missouri law, the tria...</td>\n",
       "      <td>754</td>\n",
       "      <td>5454708</td>\n",
       "      <td>197 Ill. 2d 278</td>\n",
       "      <td>EMERSON ELECTRIC COMPANY et al., Plaintiffs-Ap...</td>\n",
       "      <td>Emerson Electric Co. v. Aetna Casualty &amp; Suret...</td>\n",
       "      <td>2004-08-30</td>\n",
       "      <td>8837</td>\n",
       "      <td>Illinois Appellate Court</td>\n",
       "      <td>ill-app-ct</td>\n",
       "      <td>['McNULTY and McBRIDE, JJ., concur.']</td>\n",
       "      <td>['Stephan G. Weil, Mark H. Kolman, Keisha A. G...</td>\n",
       "      <td>[{'type': 'official', 'cite': '352 Ill. App. 3...</td>\n",
       "      <td>https://api.case.law/v1/cases/5454708/</td>\n",
       "      <td>EMERSON ELECTRIC COMPANY et al., Plaintiffs-Ap...</td>\n",
       "      <td>JUSTICE GORDON\\r\\ndelivered the opinion of the...</td>\n",
       "      <td>False</td>\n",
       "      <td>True</td>\n",
       "      <td>2004</td>\n",
       "      <td>197 Ill. 2d 278</td>\n",
       "      <td>1285</td>\n",
       "      <td>Massachusetts</td>\n",
       "      <td>vector</td>\n",
       "      <td>0.962121</td>\n",
       "    </tr>\n",
       "  </tbody>\n",
       "</table>\n",
       "</div>"
      ],
      "text/plain": [
       "                                                context  index        id  \\\n",
       "1675  Id. at 4. According to Plaintiff's insurance p...   2126  12526556   \n",
       "584   In the absence of clear Missouri law, the tria...    754   5454708   \n",
       "\n",
       "              citation                                               name  \\\n",
       "1675  91 L. Ed. 2d 265  Audrey SANKO, Plaintiff, v. ALLSTATE INSURANCE...   \n",
       "584    197 Ill. 2d 278  EMERSON ELECTRIC COMPANY et al., Plaintiffs-Ap...   \n",
       "\n",
       "                                      name_abbreviation decision_date  \\\n",
       "1675                         Sanko v. Allstate Ins. Co.    2018-05-18   \n",
       "584   Emerson Electric Co. v. Aetna Casualty & Suret...    2004-08-30   \n",
       "\n",
       "      court_id                                         court_name  court_slug  \\\n",
       "1675      9039  United States District Court for the Middle Di...       md-pa   \n",
       "584       8837                           Illinois Appellate Court  ill-app-ct   \n",
       "\n",
       "                                     judges  \\\n",
       "1675                                     []   \n",
       "584   ['McNULTY and McBRIDE, JJ., concur.']   \n",
       "\n",
       "                                              attorneys  \\\n",
       "1675  ['Tammy Lee Clause, Attorney Tammy Lee Clause,...   \n",
       "584   ['Stephan G. Weil, Mark H. Kolman, Keisha A. G...   \n",
       "\n",
       "                                              citations  \\\n",
       "1675  [{'type': 'official', 'cite': '323 F. Supp. 3d...   \n",
       "584   [{'type': 'official', 'cite': '352 Ill. App. 3...   \n",
       "\n",
       "                                          url  \\\n",
       "1675  https://api.case.law/v1/cases/12526556/   \n",
       "584    https://api.case.law/v1/cases/5454708/   \n",
       "\n",
       "                                                   head  \\\n",
       "1675  Audrey SANKO, Plaintiff,\\r\\nv.\\r\\nALLSTATE INS...   \n",
       "584   EMERSON ELECTRIC COMPANY et al., Plaintiffs-Ap...   \n",
       "\n",
       "                                                   body  name_contains_lm  \\\n",
       "1675  Robert D. Mariani, United States District Judg...             False   \n",
       "584   JUSTICE GORDON\\r\\ndelivered the opinion of the...             False   \n",
       "\n",
       "      body_contains_lm  year  context_citation  context_tokens          state  \\\n",
       "1675              True  2018  91 L. Ed. 2d 265            1442        Wyoming   \n",
       "584               True  2004   197 Ill. 2d 278            1285  Massachusetts   \n",
       "\n",
       "     search_type     score  \n",
       "1675      vector  0.968254  \n",
       "584       vector  0.962121  "
      ]
     },
     "execution_count": 10,
     "metadata": {},
     "output_type": "execute_result"
    }
   ],
   "source": [
    "retrieval_res[0].to_pandas.head(2)"
   ]
  },
  {
   "cell_type": "code",
   "execution_count": 11,
   "metadata": {},
   "outputs": [
    {
     "data": {
      "text/plain": [
       "[ChunkMetric(source='SemanticSearch', document_id='584', score=0.8603, rank=1),\n",
       " ChunkMetric(source='SemanticSearch', document_id='1671', score=0.8422, rank=2),\n",
       " ChunkMetric(source='SemanticSearch', document_id='1675', score=0.842, rank=3),\n",
       " ChunkMetric(source='SemanticSearch', document_id='1670', score=0.8412, rank=4),\n",
       " ChunkMetric(source='SemanticSearch', document_id='1673', score=0.8409, rank=5),\n",
       " ChunkMetric(source='SemanticSearch', document_id='1672', score=0.8407, rank=6),\n",
       " ChunkMetric(source='SemanticSearch', document_id='1674', score=0.8407, rank=7),\n",
       " ChunkMetric(source='SemanticSearch', document_id='585', score=0.8372, rank=8),\n",
       " ChunkMetric(source='SemanticSearch', document_id='1955', score=0.8369, rank=9),\n",
       " ChunkMetric(source='SemanticSearch', document_id='887', score=0.8359, rank=10)]"
      ]
     },
     "execution_count": 11,
     "metadata": {},
     "output_type": "execute_result"
    }
   ],
   "source": [
    "retrieval_res[0].metrics[:10]"
   ]
  },
  {
   "cell_type": "code",
   "execution_count": 12,
   "metadata": {},
   "outputs": [
    {
     "name": "stderr",
     "output_type": "stream",
     "text": [
      "Processing summaries:   0%|          | 0/9 [00:00<?, ?it/s]"
     ]
    },
    {
     "name": "stderr",
     "output_type": "stream",
     "text": [
      "Processing summaries: 100%|██████████| 9/9 [00:10<00:00,  1.21s/it]\n"
     ]
    }
   ],
   "source": [
    "from src.agent.tools.utils import aget_fact_patterns_df, aget_context_evaluations_df\n",
    "import nest_asyncio\n",
    "nest_asyncio.apply()\n",
    "\n",
    "rag_df = retrieval_res[0].to_pandas.drop_duplicates(subset=['name'], keep='first')\n",
    "\n",
    "prepped_context = await aget_fact_patterns_df(rag_df, 'context')"
   ]
  },
  {
   "cell_type": "code",
   "execution_count": 13,
   "metadata": {},
   "outputs": [
    {
     "name": "stderr",
     "output_type": "stream",
     "text": [
      "Processing context evaluations: 100%|██████████| 9/9 [00:24<00:00,  2.70s/it]"
     ]
    },
    {
     "name": "stdout",
     "output_type": "stream",
     "text": [
      "9\n"
     ]
    },
    {
     "name": "stderr",
     "output_type": "stream",
     "text": [
      "\n"
     ]
    }
   ],
   "source": [
    "prepped_context = await aget_context_evaluations_df(\n",
    "    df=prepped_context,\n",
    "    question=query,\n",
    "    text_column='context',\n",
    "    model_name='gpt-4-turbo',    \n",
    ")\n",
    "print(prepped_context['relevance_score'].tolist()[0])"
   ]
  },
  {
   "cell_type": "code",
   "execution_count": 14,
   "metadata": {},
   "outputs": [
    {
     "data": {
      "text/markdown": [
       "9"
      ],
      "text/plain": [
       "<IPython.core.display.Markdown object>"
      ]
     },
     "metadata": {},
     "output_type": "display_data"
    },
    {
     "data": {
      "text/markdown": [
       "The excerpt discusses the interpretation of the terms 'sudden and accidental' in the context of insurance claims and environmental law. It specifically mentions that in Illinois law, as argued by plaintiffs, these terms mean 'unexpected and unintended'. This interpretation, however, was in contention with Missouri law, which the trial court applied, interpreting 'sudden' to mean 'abrupt'. This legal dispute centers on whether the trial court should have considered the broader, Illinois interpretation, especially in light of the abrupt and unintended releases of pollutants at specific sites in Alabama and Louisiana, possibly affecting contamination assessments. The excerpt also delves into procedural aspects like summary judgment and the law of the case doctrine, indicating how interpretations can vary and affect legal outcomes in environmental or contamination-related insurance claims."
      ],
      "text/plain": [
       "<IPython.core.display.Markdown object>"
      ]
     },
     "metadata": {},
     "output_type": "display_data"
    }
   ],
   "source": [
    "i = 0\n",
    "\n",
    "display(Markdown(str(prepped_context['relevance_score'].tolist()[i])))\n",
    "display(Markdown(prepped_context['summary_analysis'].tolist()[i]))"
   ]
  },
  {
   "cell_type": "code",
   "execution_count": 15,
   "metadata": {},
   "outputs": [
    {
     "data": {
      "text/markdown": [
       "The central issues in this legal dispute involve the interpretation of insurance policy language, specifically the terms \"sudden and accidental\" in the context of environmental contamination at owned sites in Alabama and Louisiana. On appeal, plaintiffs argue that the trial court erroneously applied Missouri law instead of Illinois law, the latter of which interprets \"sudden and accidental\" to mean \"unexpected and unintended.\" Moreover, plaintiffs contest the trial court's interpretation of \"sudden\" as \"abrupt\" under Missouri law and its disregard of evidence indicating abrupt and unintended pollutant releases could have contributed to the contamination. The procedural backdrop includes a summary judgment framework, which dictates that such a judgment is appropriate only when there's no genuine issue of material fact and the moving party is entitled to judgment as a matter of law. The order granting summary judgment is subject to de novo review, with appellate courts required to independently examine the evidence for and against the motion to ensure that reasonable divergent inferences from undisputed facts could not lead to a different conclusion. Additionally, this case touches upon the law of the case doctrine, emphasizing its role in ensuring consistency and finality in litigation, albeit with an acknowledgment of its flexibility under certain circumstances like intervening changes in law. The previous decision in Emerson I comes under scrutiny for its interpretation relevant to the pollution exclusion exception in insurance policies, particularly the defining moment of \"discharge\" or \"release\" that triggers said exception."
      ],
      "text/plain": [
       "<IPython.core.display.Markdown object>"
      ]
     },
     "execution_count": 15,
     "metadata": {},
     "output_type": "execute_result"
    }
   ],
   "source": [
    "Markdown(prepped_context['summary'].tolist()[i])"
   ]
  },
  {
   "cell_type": "code",
   "execution_count": 16,
   "metadata": {},
   "outputs": [
    {
     "data": {
      "text/html": [
       "<div>\n",
       "<style scoped>\n",
       "    .dataframe tbody tr th:only-of-type {\n",
       "        vertical-align: middle;\n",
       "    }\n",
       "\n",
       "    .dataframe tbody tr th {\n",
       "        vertical-align: top;\n",
       "    }\n",
       "\n",
       "    .dataframe thead th {\n",
       "        text-align: right;\n",
       "    }\n",
       "</style>\n",
       "<table border=\"1\" class=\"dataframe\">\n",
       "  <thead>\n",
       "    <tr style=\"text-align: right;\">\n",
       "      <th></th>\n",
       "      <th>context</th>\n",
       "      <th>index</th>\n",
       "      <th>id</th>\n",
       "      <th>citation</th>\n",
       "      <th>name</th>\n",
       "      <th>name_abbreviation</th>\n",
       "      <th>decision_date</th>\n",
       "      <th>court_id</th>\n",
       "      <th>court_name</th>\n",
       "      <th>court_slug</th>\n",
       "      <th>judges</th>\n",
       "      <th>attorneys</th>\n",
       "      <th>citations</th>\n",
       "      <th>url</th>\n",
       "      <th>head</th>\n",
       "      <th>body</th>\n",
       "      <th>name_contains_lm</th>\n",
       "      <th>body_contains_lm</th>\n",
       "      <th>year</th>\n",
       "      <th>context_citation</th>\n",
       "      <th>context_tokens</th>\n",
       "      <th>state</th>\n",
       "      <th>search_type</th>\n",
       "      <th>score</th>\n",
       "      <th>summary</th>\n",
       "      <th>summary_analysis</th>\n",
       "      <th>relevance_score</th>\n",
       "    </tr>\n",
       "  </thead>\n",
       "  <tbody>\n",
       "    <tr>\n",
       "      <th>1</th>\n",
       "      <td>In the absence of clear Missouri law, the tria...</td>\n",
       "      <td>754</td>\n",
       "      <td>5454708</td>\n",
       "      <td>197 Ill. 2d 278</td>\n",
       "      <td>EMERSON ELECTRIC COMPANY et al., Plaintiffs-Ap...</td>\n",
       "      <td>Emerson Electric Co. v. Aetna Casualty &amp; Suret...</td>\n",
       "      <td>2004-08-30</td>\n",
       "      <td>8837</td>\n",
       "      <td>Illinois Appellate Court</td>\n",
       "      <td>ill-app-ct</td>\n",
       "      <td>['McNULTY and McBRIDE, JJ., concur.']</td>\n",
       "      <td>['Stephan G. Weil, Mark H. Kolman, Keisha A. G...</td>\n",
       "      <td>[{'type': 'official', 'cite': '352 Ill. App. 3...</td>\n",
       "      <td>https://api.case.law/v1/cases/5454708/</td>\n",
       "      <td>EMERSON ELECTRIC COMPANY et al., Plaintiffs-Ap...</td>\n",
       "      <td>JUSTICE GORDON\\r\\ndelivered the opinion of the...</td>\n",
       "      <td>False</td>\n",
       "      <td>True</td>\n",
       "      <td>2004</td>\n",
       "      <td>197 Ill. 2d 278</td>\n",
       "      <td>1285</td>\n",
       "      <td>Massachusetts</td>\n",
       "      <td>vector</td>\n",
       "      <td>0.962121</td>\n",
       "      <td>The central issues in this legal dispute invol...</td>\n",
       "      <td>The excerpt discusses the interpretation of th...</td>\n",
       "      <td>9</td>\n",
       "    </tr>\n",
       "    <tr>\n",
       "      <th>0</th>\n",
       "      <td>Id. at 4. According to Plaintiff's insurance p...</td>\n",
       "      <td>2126</td>\n",
       "      <td>12526556</td>\n",
       "      <td>91 L. Ed. 2d 265</td>\n",
       "      <td>Audrey SANKO, Plaintiff, v. ALLSTATE INSURANCE...</td>\n",
       "      <td>Sanko v. Allstate Ins. Co.</td>\n",
       "      <td>2018-05-18</td>\n",
       "      <td>9039</td>\n",
       "      <td>United States District Court for the Middle Di...</td>\n",
       "      <td>md-pa</td>\n",
       "      <td>[]</td>\n",
       "      <td>['Tammy Lee Clause, Attorney Tammy Lee Clause,...</td>\n",
       "      <td>[{'type': 'official', 'cite': '323 F. Supp. 3d...</td>\n",
       "      <td>https://api.case.law/v1/cases/12526556/</td>\n",
       "      <td>Audrey SANKO, Plaintiff,\\r\\nv.\\r\\nALLSTATE INS...</td>\n",
       "      <td>Robert D. Mariani, United States District Judg...</td>\n",
       "      <td>False</td>\n",
       "      <td>True</td>\n",
       "      <td>2018</td>\n",
       "      <td>91 L. Ed. 2d 265</td>\n",
       "      <td>1442</td>\n",
       "      <td>Wyoming</td>\n",
       "      <td>vector</td>\n",
       "      <td>0.968254</td>\n",
       "      <td>The insurance policy's exclusions for coverage...</td>\n",
       "      <td>The excerpt deals extensively with coverage di...</td>\n",
       "      <td>8</td>\n",
       "    </tr>\n",
       "    <tr>\n",
       "      <th>7</th>\n",
       "      <td>Varlen found a chemical called hexavalent chro...</td>\n",
       "      <td>2614</td>\n",
       "      <td>12521187</td>\n",
       "      <td>91 L. Ed. 2d 202</td>\n",
       "      <td>VARLEN CORPORATION, Plaintiff-Appellant, v. LI...</td>\n",
       "      <td>Varlen Corp. v. Liberty Mut. Ins. Co.</td>\n",
       "      <td>2019-05-16</td>\n",
       "      <td>9010</td>\n",
       "      <td>United States Court of Appeals for the Seventh...</td>\n",
       "      <td>7th-cir</td>\n",
       "      <td>['Before Sykes, Barrett, and St. Eve, Circuit ...</td>\n",
       "      <td>['Catherine Basque Weiler, Attorney, Swanson, ...</td>\n",
       "      <td>[{'type': 'official', 'cite': '924 F.3d 456'}]</td>\n",
       "      <td>https://api.case.law/v1/cases/12521187/</td>\n",
       "      <td>VARLEN CORPORATION, Plaintiff-Appellant,\\r\\nv....</td>\n",
       "      <td>Barrett, Circuit Judge.\\r\\nVarlen Corporation ...</td>\n",
       "      <td>True</td>\n",
       "      <td>True</td>\n",
       "      <td>2019</td>\n",
       "      <td>91 L. Ed. 2d 202</td>\n",
       "      <td>1339</td>\n",
       "      <td>Minnesota</td>\n",
       "      <td>vector</td>\n",
       "      <td>0.678113</td>\n",
       "      <td>In a legal dispute between Varlen and its insu...</td>\n",
       "      <td>The excerpt details a legal conflict between V...</td>\n",
       "      <td>8</td>\n",
       "    </tr>\n",
       "  </tbody>\n",
       "</table>\n",
       "</div>"
      ],
      "text/plain": [
       "                                             context  index        id  \\\n",
       "1  In the absence of clear Missouri law, the tria...    754   5454708   \n",
       "0  Id. at 4. According to Plaintiff's insurance p...   2126  12526556   \n",
       "7  Varlen found a chemical called hexavalent chro...   2614  12521187   \n",
       "\n",
       "           citation                                               name  \\\n",
       "1   197 Ill. 2d 278  EMERSON ELECTRIC COMPANY et al., Plaintiffs-Ap...   \n",
       "0  91 L. Ed. 2d 265  Audrey SANKO, Plaintiff, v. ALLSTATE INSURANCE...   \n",
       "7  91 L. Ed. 2d 202  VARLEN CORPORATION, Plaintiff-Appellant, v. LI...   \n",
       "\n",
       "                                   name_abbreviation decision_date  court_id  \\\n",
       "1  Emerson Electric Co. v. Aetna Casualty & Suret...    2004-08-30      8837   \n",
       "0                         Sanko v. Allstate Ins. Co.    2018-05-18      9039   \n",
       "7              Varlen Corp. v. Liberty Mut. Ins. Co.    2019-05-16      9010   \n",
       "\n",
       "                                          court_name  court_slug  \\\n",
       "1                           Illinois Appellate Court  ill-app-ct   \n",
       "0  United States District Court for the Middle Di...       md-pa   \n",
       "7  United States Court of Appeals for the Seventh...     7th-cir   \n",
       "\n",
       "                                              judges  \\\n",
       "1              ['McNULTY and McBRIDE, JJ., concur.']   \n",
       "0                                                 []   \n",
       "7  ['Before Sykes, Barrett, and St. Eve, Circuit ...   \n",
       "\n",
       "                                           attorneys  \\\n",
       "1  ['Stephan G. Weil, Mark H. Kolman, Keisha A. G...   \n",
       "0  ['Tammy Lee Clause, Attorney Tammy Lee Clause,...   \n",
       "7  ['Catherine Basque Weiler, Attorney, Swanson, ...   \n",
       "\n",
       "                                           citations  \\\n",
       "1  [{'type': 'official', 'cite': '352 Ill. App. 3...   \n",
       "0  [{'type': 'official', 'cite': '323 F. Supp. 3d...   \n",
       "7     [{'type': 'official', 'cite': '924 F.3d 456'}]   \n",
       "\n",
       "                                       url  \\\n",
       "1   https://api.case.law/v1/cases/5454708/   \n",
       "0  https://api.case.law/v1/cases/12526556/   \n",
       "7  https://api.case.law/v1/cases/12521187/   \n",
       "\n",
       "                                                head  \\\n",
       "1  EMERSON ELECTRIC COMPANY et al., Plaintiffs-Ap...   \n",
       "0  Audrey SANKO, Plaintiff,\\r\\nv.\\r\\nALLSTATE INS...   \n",
       "7  VARLEN CORPORATION, Plaintiff-Appellant,\\r\\nv....   \n",
       "\n",
       "                                                body  name_contains_lm  \\\n",
       "1  JUSTICE GORDON\\r\\ndelivered the opinion of the...             False   \n",
       "0  Robert D. Mariani, United States District Judg...             False   \n",
       "7  Barrett, Circuit Judge.\\r\\nVarlen Corporation ...              True   \n",
       "\n",
       "   body_contains_lm  year  context_citation  context_tokens          state  \\\n",
       "1              True  2004   197 Ill. 2d 278            1285  Massachusetts   \n",
       "0              True  2018  91 L. Ed. 2d 265            1442        Wyoming   \n",
       "7              True  2019  91 L. Ed. 2d 202            1339      Minnesota   \n",
       "\n",
       "  search_type     score                                            summary  \\\n",
       "1      vector  0.962121  The central issues in this legal dispute invol...   \n",
       "0      vector  0.968254  The insurance policy's exclusions for coverage...   \n",
       "7      vector  0.678113  In a legal dispute between Varlen and its insu...   \n",
       "\n",
       "                                    summary_analysis  relevance_score  \n",
       "1  The excerpt discusses the interpretation of th...                9  \n",
       "0  The excerpt deals extensively with coverage di...                8  \n",
       "7  The excerpt details a legal conflict between V...                8  "
      ]
     },
     "execution_count": 16,
     "metadata": {},
     "output_type": "execute_result"
    }
   ],
   "source": [
    "prepped_context.head(3)"
   ]
  },
  {
   "cell_type": "code",
   "execution_count": 17,
   "metadata": {},
   "outputs": [],
   "source": [
    "from src.agent.tools.utils import create_formatted_input, get_final_answer\n",
    "\n",
    "formatted_input = create_formatted_input(\n",
    "    df=prepped_context, \n",
    "    query=retrieval_res[0].sub_question, \n",
    "    text_column='summary',\n",
    "    url_column='url',\n",
    "    context_token_limit=6000\n",
    "    )"
   ]
  },
  {
   "cell_type": "code",
   "execution_count": 18,
   "metadata": {},
   "outputs": [
    {
     "data": {
      "text/markdown": [
       "[1] The central issues in this legal dispute involve the interpretation of insurance policy language, specifically the terms \"sudden and accidental\" in the context of environmental contamination at owned sites in Alabama and Louisiana. On appeal, plaintiffs argue that the trial court erroneously applied Missouri law instead of Illinois law, the latter of which interprets \"sudden and accidental\" to mean \"unexpected and unintended.\" Moreover, plaintiffs contest the trial court's interpretation of \"sudden\" as \"abrupt\" under Missouri law and its disregard of evidence indicating abrupt and unintended pollutant releases could have contributed to the contamination. The procedural backdrop includes a summary judgment framework, which dictates that such a judgment is appropriate only when there's no genuine issue of material fact and the moving party is entitled to judgment as a matter of law. The order granting summary judgment is subject to de novo review, with appellate courts required to independently examine the evidence for and against the motion to ensure that reasonable divergent inferences from undisputed facts could not lead to a different conclusion. Additionally, this case touches upon the law of the case doctrine, emphasizing its role in ensuring consistency and finality in litigation, albeit with an acknowledgment of its flexibility under certain circumstances like intervening changes in law. The previous decision in Emerson I comes under scrutiny for its interpretation relevant to the pollution exclusion exception in insurance policies, particularly the defining moment of \"discharge\" or \"release\" that triggers said exception.\n",
       "URL: https://api.case.law/v1/cases/5454708/\n",
       "\n",
       "[2] The insurance policy's exclusions for coverage specifically include a variety of water damage scenarios, excluding coverage for losses caused by flood, surface water, sewer or drain backups, sump pump overflows, and subsurface water pressure or seepage. However, it does provide coverage for sudden and accidental physical loss due to fire, explosion, or theft resulting from such water-related issues. In a disputed claim, the plaintiff references a specific event where a sewage system explosion caused damage, arguing for coverage under the policy's exception for explosions. The defendant challenges this claim, asserting that the explosion must be a consequence of the excluded water damage, not a preceding event, to qualify for coverage. This interpretation dispute is set against the backdrop of summary judgment standards emphasizing the need for genuine disputes over material facts to oppose summary judgment effectively. Colella v. State Farm Fire & Cas. Co. is cited as a relevant case for interpreting similar water damage exclusion clauses.\n",
       "URL: https://api.case.law/v1/cases/12526556/\n",
       "\n",
       "[3] In a legal dispute between Varlen and its insurer, Liberty Mutual, regarding coverage for contamination damage at the LASI and Silvis sites, the core issue revolved around whether the chemical leaks or discharges were \"sudden and accidental\" as outlined in Liberty Mutual's policy. Varlen's primary evidence to support this claim was the expert testimony of geologist Daniel Rogers. Rogers posited that the contamination was sudden and accidental based on the characteristics of the concrete sump leak at the LASI site and the nature of diesel and solvent contamination at the Silvis site. However, the district court ruled Rogers's testimony as unreliable and speculative, not meeting the Federal Rule of Evidence 702 standards for expert testimony. This was based on the reasoning that Rogers's conclusions were not sufficiently grounded in reliable methods or principles. Consequently, the court granted Liberty Mutual's motion for summary judgment after striking Rogers's testimony, pointing out that Varlen failed to provide admissible evidence that a reasonable jury could rely on to find the contamination events were \"sudden and accidental\".\n",
       "URL: https://api.case.law/v1/cases/12521187/\n",
       "\n",
       "[4] The case discusses the interpretation of terms within a Commercial General Liability (CGL) policy, specifically focusing on 'property damage' and 'occurrence,' and their implications for coverage. 'Property damage' is defined within the policy as either physical injury to tangible property or loss of use of tangible property that is not physically injured. An 'occurrence' is defined as an accident, which includes continuous or repeated exposure to substantially the same general harmful conditions. However, the policy lacks a definition for 'accident,' leading to ambiguity. Courts have therefore emphasized a liberal construction of 'accident' in favor of coverage, interpreting it as an unforeseen and unplanned event, or an event resulting from carelessness or ignorance where the person responsible did not intend or expect the resulting harm. The specific case highlights a scenario where the plaintiffs allege physical damage to their property due to negligent actions, claiming this damage falls under the policy's broad definition of 'property damage.' The court must decide whether this damage resulted from an 'occurrence' as per the policy's definition. Early arguments suggest that the negligence leading to property damage constitutes an 'occurrence' because the actions leading to the damage were not intended or expected by the defendant, aligning with the judicial interpretation of an 'accident.' The text also touches upon the potential for the CGL policy to be overly broad, suggesting it might cover scenarios typically excluded, akin to a performance bond.\n",
       "URL: https://api.case.law/v1/cases/4268691/\n",
       "\n",
       "[5] The plaintiff in a declaratory judgment action bears the burden of proof, as established by Addison Insurance Co., emphasizing the appellees' initial responsibility in such cases. The dispute centers on whether the damage to the Walskis’ home falls under policy coverage, challenged on grounds it was not caused by an “occurrence” and that contractual liability for economic damages does not equate to “property damage.” The policy definition of “occurrence” as an accident or continuous exposure to harmful conditions is scrutinized. Various Illinois appellate court decisions and definitions from Black’s Law Dictionary delineate “accident” as unforeseen, injurious occurrences not expected in the usual course of events. The legal dialogue delves into whether the natural and ordinary consequences of an act, or actions intentionally done with unintended results, constitute an accident. Carr versus Stoneridge cases illuminate differing interpretations based on the nature of claims (negligence versus breach of contract), influenced by precedent from Supreme Court and appellate court rulings, including nuanced discussions on the intent behind actions leading to accidents. The complication around what defines an “accident” underscores the nuanced legal interpretations of policy language and the implications for coverage in cases of property damage claims.\n",
       "URL: https://api.case.law/v1/cases/4277921/\n",
       "\n",
       "[6] Visalia's legal battle revolves around disputes concerning environmental contaminant cleanup costs, highlighting the non-relevance of ‘sudden and accidental’ releases due to explicit policy exclusions. Visalia’s reliance on affirmative defenses against RLI, including waiver, estoppel, and fraud, is further nuanced by the addition of 'unclean hands' and 'forfeiture' defenses in their Amended Answer. The parties debated on the appropriate standard for pleading affirmative defenses, referencing a lack of clarity between the 'fair notice' and the heightened 'plausibility' standards established by federal case law. The court dismissed certain requests for judicial notice as irrelevant, underscoring the focus on the legal tenability and the strategic approaches taken by both parties within the litigation framework. The discussion also dabbles in the procedural postings and the specific legal precedents guiding the pleading standards for affirmative defenses within the Ninth Circuit jurisdiction, reflecting broader implications on case strategy and judicial discretion.\n",
       "URL: https://api.case.law/v1/cases/12524005/\n",
       "\n",
       "[7] Williams, 143 Ill. App. 3d at 111 involves a dispute over insurance coverage for water damage to property. The core issue revolves around interpreting the policy to determine coverage eligibility. Critical to the case are factual findings regarding the cause of the water damage, with the court finding it resulted from rain collecting on the roof leading to a partial collapse. This finding contrasts with testimonies suggesting the damage was due to normal wear and tear and that no roof repairs had been observed or conducted during the relevant storage period. Notably, the admission of roof repairs between July 1997 and November 1998 supported the court’s decision. The case was marked by conflicting evidence, necessitating multiple factual findings, specifically 15, compared to only three conclusions of law. The appellate court found the circuit court’s order to strike the defendant’s jury demand as an abuse of discretion, emphasizing the need for a jury to evaluate witness credibility and factual causes of the water damage for proper policy coverage determination. Consequently, it was remanded for a new trial. The appellate review also addressed the propriety of denying the defendant's motion for summary judgment, highlighting the existence of factual disputes and criticizing the defendant's contradictory stances on the presence of factual issues. The decision underscores principles of judgment and jury involvement in the context of insurance dispute resolution and factual ambiguity.\n",
       "URL: https://api.case.law/v1/cases/4267133/\n",
       "\n",
       "[8] Hugo's Estate argues for a broad interpretation of \"occurrence\" under Kentucky law to include unintentional injuries from negligent acts, like exposure to secondhand smoke, advocating that such mishaps not planned or known to cause harm should be considered accidents covered by insurance. It disputes the claim of \"bodily injury\" arising from \"physical abuse\" as defined in the policy, suggesting that the common understanding of abuse does not align with Hugo's unknowingly harmful smoking around his children. The legal backdrop includes the summary judgment standard, guiding the court to resolve cases without a trial when there's no factual dispute and one party is entitled to judgment as a legal right. Crucially, Kentucky law, chosen based on the most significant relationship to the case -- particularly insurance matters -- emphasizes that insurance contracts are interpreted by the court, focusing on the mutual understanding of the contract terms at inception. Insurers have a duty to defend if claims could potentially fall under policy coverage unless clearly excluded. The text suggests a heavy reliance on statutory interpretation, precedent, and the specific language of the insurance contract in determining the obligations of the insurer and the rights of the insured.\n",
       "URL: https://api.case.law/v1/cases/12531212/\n",
       "\n",
       "[9] A legal dispute arose when plaintiffs filed a claim with Union for water damage to their basement, caused by flooding, which Union denied citing a policy exclusion for loss caused by water damage, including floods and surface water. Union argued the damage resulted from flood and surface water, while the plaintiffs contended the water was not surface water and accused Union of shifting its defense inappropriately under the \"mend the hold\" doctrine. The trial court granted summary judgment in favor of Union, rejecting plaintiffs' arguments, including their claim under the \"mend the hold\" doctrine, which prevents a party from changing the reason for breach of contract once litigation has begun. The trial court's decision, based on the pleaded water damage exclusion and expert testimonies on the cause of the damage, highlighted the non-applicability of the \"mend the hold\" doctrine since Union did not change the foundational basis of its defense but rather specified a type of water contributing to the damage. This case underscores the necessity of a clear understanding of insurance policy exclusions and the challenges in litigating insurance claims involving nuanced definitions of excluded perils.\n",
       "URL: https://api.case.law/v1/cases/171775/\n",
       "\n",
       "Instructions: Using only the provided search results that are relevant, and starting with the most relevant, write a detailed comparative analysis for a new query. If there are no relevant cases say so, and use one example from the search results to illustrate the uniqueness of the new query. ALWAYS cite search results using [[number](URL)] notation after the reference.\n",
       "\n",
       "New Query:\n",
       "How have courts interpreted the phrase 'sudden and accidental' in the context of water damage claims, and what are the key legal precedents and judicial decisions that have influenced this interpretation?\n",
       "\n",
       "Analysis:"
      ],
      "text/plain": [
       "<IPython.core.display.Markdown object>"
      ]
     },
     "execution_count": 18,
     "metadata": {},
     "output_type": "execute_result"
    }
   ],
   "source": [
    "Markdown(formatted_input)"
   ]
  },
  {
   "cell_type": "code",
   "execution_count": 19,
   "metadata": {},
   "outputs": [
    {
     "data": {
      "text/markdown": [
       "The phrase 'sudden and accidental' has been a central issue in several insurance policy disputes concerning environmental and other types of damage. Various cases provide insights into how courts interpret this phrase, particularly in the context of water damage claims. \n",
       "\n",
       "In the first case, the interpretation of 'sudden and accidental' is disputed in the context of environmental contamination, where plaintiffs argue that under Illinois law, the term should mean 'unexpected and unintended,' contrasting with 'abrupt' under Missouri law [[1](https://api.case.law/v1/cases/5454708/)]. This ongoing debate over the jurisdictional application and definitions underlines the significant difference in interpretations that can affect the outcome of litigation involving insurance coverage for environmental damages.\n",
       "\n",
       "Another relevant case involves a dispute over whether a sewage system explosion, falling under the exception for explosions despite prior exclusions for water damage, should be considered 'sudden and accidental' [[2](https://api.case.law/v1/cases/12526556/)]. This case illustrates the complexity of separating cause and effect in insurance disputes and the importance of clearly understanding policy terms in determining coverage.\n",
       "\n",
       "In the third relevant case, the reliability of expert testimony was critical in deciding whether chemical leaks were 'sudden and accidental.' The court's decision to disregard the expert's testimony due to its speculative nature and lack of reliable methodologies reflects the scrutiny legal arguments undergo in such disputes [[3](https://api.case.law/v1/cases/12521187/)].\n",
       "\n",
       "These cases collectively emphasize the varied judicial interpretations of 'sudden and accidental,' which often hinge on specific facts and expert testimonies, as well as the nuanced understanding of policy language. They reveal that 'sudden and accidental' often involves a detailed analysis of the circumstances surrounding the incident and the policy wording that can shift the balance in judicial decisions."
      ],
      "text/plain": [
       "<IPython.core.display.Markdown object>"
      ]
     },
     "execution_count": 19,
     "metadata": {},
     "output_type": "execute_result"
    }
   ],
   "source": [
    "report = get_final_answer(\n",
    "    formatted_input=formatted_input,\n",
    "    model_name='gpt-4-turbo',\n",
    "    )\n",
    "Markdown(report.research_report)"
   ]
  },
  {
   "cell_type": "code",
   "execution_count": 20,
   "metadata": {},
   "outputs": [
    {
     "data": {
      "text/plain": [
       "['1', '2', '3']"
      ]
     },
     "execution_count": 20,
     "metadata": {},
     "output_type": "execute_result"
    }
   ],
   "source": [
    "report.citations"
   ]
  },
  {
   "cell_type": "code",
   "execution_count": 21,
   "metadata": {},
   "outputs": [],
   "source": [
    "from src.utils.citations import create_citation_lookup_table, get_top_citations, get_citation_context"
   ]
  },
  {
   "cell_type": "code",
   "execution_count": 22,
   "metadata": {},
   "outputs": [],
   "source": [
    "citation_table = create_citation_lookup_table(prepped_context, text_column='body', id_column='id')"
   ]
  },
  {
   "cell_type": "code",
   "execution_count": 23,
   "metadata": {},
   "outputs": [
    {
     "data": {
      "text/plain": [
       "(396, 2)"
      ]
     },
     "execution_count": 23,
     "metadata": {},
     "output_type": "execute_result"
    }
   ],
   "source": [
    "citation_table.shape"
   ]
  },
  {
   "cell_type": "code",
   "execution_count": 24,
   "metadata": {},
   "outputs": [
    {
     "data": {
      "text/markdown": [
       "| Citation         |   Count | link                                                 |\n",
       "|:-----------------|--------:|:-----------------------------------------------------|\n",
       "| 154 Ill. 2d 90   |       5 | https://cite.case.law/ill-2d/154/90                  |\n",
       "| 197 Ill. 2d 278  |       3 | https://cite.case.law/ill-2d/197/278                 |\n",
       "| 477 U.S. 242     |       3 | https://cite.case.law/us/477/242                     |\n",
       "| 106 S. Ct. 2505  |       3 | https://www.courtlistener.com/c/S.%20Ct./106/2505    |\n",
       "| 91 L. Ed. 2d 202 |       3 | https://www.courtlistener.com/c/L.%20Ed.%202d/91/202 |\n",
       "| 477 U.S. 317     |       3 | https://cite.case.law/us/477/317                     |\n",
       "| 106 S. Ct. 2548  |       3 | https://www.courtlistener.com/c/S.%20Ct./106/2548    |\n",
       "| 91 L. Ed. 2d 265 |       3 | https://www.courtlistener.com/c/L.%20Ed.%202d/91/265 |\n",
       "| 42 U.S.C. § 9601 |       2 | No link found                                        |\n",
       "| 607 N.E.2d 1204  |       2 | https://cite.case.law/ne2d/607/1204                  |"
      ],
      "text/plain": [
       "<IPython.core.display.Markdown object>"
      ]
     },
     "execution_count": 24,
     "metadata": {},
     "output_type": "execute_result"
    }
   ],
   "source": [
    "top_citations = get_top_citations(df=prepped_context, text_column='body', top_n=10)\n",
    "Markdown(top_citations.to_markdown(index=False))"
   ]
  },
  {
   "cell_type": "code",
   "execution_count": 25,
   "metadata": {},
   "outputs": [
    {
     "data": {
      "text/plain": [
       "(26, 2)"
      ]
     },
     "execution_count": 25,
     "metadata": {},
     "output_type": "execute_result"
    }
   ],
   "source": [
    "from src.utils.citations import filter_frequent_citations, add_citation_context_to_df\n",
    "\n",
    "frequent_citation_table = filter_frequent_citations(citation_table, 3)\n",
    "frequent_citation_table.shape"
   ]
  },
  {
   "cell_type": "code",
   "execution_count": 26,
   "metadata": {},
   "outputs": [],
   "source": [
    "df2 = frequent_citation_table.merge(prepped_context, on='id', how='inner')\n",
    "df2.drop_duplicates(subset=['id'], keep='first', inplace=True)"
   ]
  },
  {
   "cell_type": "code",
   "execution_count": 28,
   "metadata": {},
   "outputs": [],
   "source": [
    "top_cites_with_context_df = add_citation_context_to_df(\n",
    "    df=df2,\n",
    "    text_column='body',\n",
    "    citation_column='citation_x',\n",
    ")"
   ]
  },
  {
   "cell_type": "code",
   "execution_count": 29,
   "metadata": {},
   "outputs": [
    {
     "data": {
      "text/html": [
       "<div>\n",
       "<style scoped>\n",
       "    .dataframe tbody tr th:only-of-type {\n",
       "        vertical-align: middle;\n",
       "    }\n",
       "\n",
       "    .dataframe tbody tr th {\n",
       "        vertical-align: top;\n",
       "    }\n",
       "\n",
       "    .dataframe thead th {\n",
       "        text-align: right;\n",
       "    }\n",
       "</style>\n",
       "<table border=\"1\" class=\"dataframe\">\n",
       "  <thead>\n",
       "    <tr style=\"text-align: right;\">\n",
       "      <th></th>\n",
       "      <th>id</th>\n",
       "      <th>citation_x</th>\n",
       "      <th>context</th>\n",
       "      <th>index</th>\n",
       "      <th>citation_y</th>\n",
       "      <th>name</th>\n",
       "      <th>name_abbreviation</th>\n",
       "      <th>decision_date</th>\n",
       "      <th>court_id</th>\n",
       "      <th>court_name</th>\n",
       "      <th>court_slug</th>\n",
       "      <th>judges</th>\n",
       "      <th>attorneys</th>\n",
       "      <th>citations</th>\n",
       "      <th>url</th>\n",
       "      <th>head</th>\n",
       "      <th>body</th>\n",
       "      <th>name_contains_lm</th>\n",
       "      <th>body_contains_lm</th>\n",
       "      <th>year</th>\n",
       "      <th>context_citation</th>\n",
       "      <th>context_tokens</th>\n",
       "      <th>state</th>\n",
       "      <th>search_type</th>\n",
       "      <th>score</th>\n",
       "      <th>summary</th>\n",
       "      <th>summary_analysis</th>\n",
       "      <th>relevance_score</th>\n",
       "    </tr>\n",
       "  </thead>\n",
       "  <tbody>\n",
       "    <tr>\n",
       "      <th>0</th>\n",
       "      <td>5454708</td>\n",
       "      <td>154 Ill. 2d 90</td>\n",
       "      <td>II. In granting summary judgment with respect ...</td>\n",
       "      <td>754</td>\n",
       "      <td>197 Ill. 2d 278</td>\n",
       "      <td>EMERSON ELECTRIC COMPANY et al., Plaintiffs-Ap...</td>\n",
       "      <td>Emerson Electric Co. v. Aetna Casualty &amp; Suret...</td>\n",
       "      <td>2004-08-30</td>\n",
       "      <td>8837</td>\n",
       "      <td>Illinois Appellate Court</td>\n",
       "      <td>ill-app-ct</td>\n",
       "      <td>['McNULTY and McBRIDE, JJ., concur.']</td>\n",
       "      <td>['Stephan G. Weil, Mark H. Kolman, Keisha A. G...</td>\n",
       "      <td>[{'type': 'official', 'cite': '352 Ill. App. 3...</td>\n",
       "      <td>https://api.case.law/v1/cases/5454708/</td>\n",
       "      <td>EMERSON ELECTRIC COMPANY et al., Plaintiffs-Ap...</td>\n",
       "      <td>JUSTICE GORDON\\r\\ndelivered the opinion of the...</td>\n",
       "      <td>False</td>\n",
       "      <td>True</td>\n",
       "      <td>2004</td>\n",
       "      <td>154 Ill. 2d 90</td>\n",
       "      <td>1285</td>\n",
       "      <td>Massachusetts</td>\n",
       "      <td>vector</td>\n",
       "      <td>0.962121</td>\n",
       "      <td>The central issues in this legal dispute invol...</td>\n",
       "      <td>The excerpt discusses the interpretation of th...</td>\n",
       "      <td>9</td>\n",
       "    </tr>\n",
       "  </tbody>\n",
       "</table>\n",
       "</div>"
      ],
      "text/plain": [
       "        id      citation_x                                            context  \\\n",
       "0  5454708  154 Ill. 2d 90  II. In granting summary judgment with respect ...   \n",
       "\n",
       "   index       citation_y                                               name  \\\n",
       "0    754  197 Ill. 2d 278  EMERSON ELECTRIC COMPANY et al., Plaintiffs-Ap...   \n",
       "\n",
       "                                   name_abbreviation decision_date  court_id  \\\n",
       "0  Emerson Electric Co. v. Aetna Casualty & Suret...    2004-08-30      8837   \n",
       "\n",
       "                 court_name  court_slug  \\\n",
       "0  Illinois Appellate Court  ill-app-ct   \n",
       "\n",
       "                                  judges  \\\n",
       "0  ['McNULTY and McBRIDE, JJ., concur.']   \n",
       "\n",
       "                                           attorneys  \\\n",
       "0  ['Stephan G. Weil, Mark H. Kolman, Keisha A. G...   \n",
       "\n",
       "                                           citations  \\\n",
       "0  [{'type': 'official', 'cite': '352 Ill. App. 3...   \n",
       "\n",
       "                                      url  \\\n",
       "0  https://api.case.law/v1/cases/5454708/   \n",
       "\n",
       "                                                head  \\\n",
       "0  EMERSON ELECTRIC COMPANY et al., Plaintiffs-Ap...   \n",
       "\n",
       "                                                body  name_contains_lm  \\\n",
       "0  JUSTICE GORDON\\r\\ndelivered the opinion of the...             False   \n",
       "\n",
       "   body_contains_lm  year context_citation  context_tokens          state  \\\n",
       "0              True  2004   154 Ill. 2d 90            1285  Massachusetts   \n",
       "\n",
       "  search_type     score                                            summary  \\\n",
       "0      vector  0.962121  The central issues in this legal dispute invol...   \n",
       "\n",
       "                                    summary_analysis  relevance_score  \n",
       "0  The excerpt discusses the interpretation of th...                9  "
      ]
     },
     "execution_count": 29,
     "metadata": {},
     "output_type": "execute_result"
    }
   ],
   "source": [
    "df2.head(1)"
   ]
  },
  {
   "cell_type": "code",
   "execution_count": 36,
   "metadata": {},
   "outputs": [],
   "source": [
    "citation_context = \"\"\n",
    "\n",
    "for _, row in df2.iterrows():\n",
    "    text = row['body']\n",
    "    name = row['name_abbreviation']\n",
    "    date = row['decision_date']\n",
    "    cite_context = get_citation_context(\n",
    "        text=text,\n",
    "        citation='154 Ill. 2d 90',\n",
    "        words_after=200,\n",
    "        words_before=200,\n",
    "    )\n",
    "    if cite_context != \"\":\n",
    "        citation_context += f\"Citation: **154 Ill. 2d 90**\\n\\n\"\n",
    "        citation_context += f\"Case Name: {name}, decided on {date}\\n\\n\"\n",
    "        citation_context += f\"Context: {cite_context}\\n\\n\"\n",
    "        citation_context += \"-\"*100 + \"\\n\\n\""
   ]
  },
  {
   "cell_type": "code",
   "execution_count": 37,
   "metadata": {},
   "outputs": [
    {
     "data": {
      "text/markdown": [
       "Citation: **154 Ill. 2d 90**\n",
       "\n",
       "Case Name: Emerson Electric Co. v. Aetna Casualty & Surety Co., decided on 2004-08-30 00:00:00\n",
       "\n",
       "Context: Summary judgment is appropriate where “the pleadings, depositions, and admissions on file, together with the affidavits, if any, show that there is no genuine issue as to any material fact and that the moving party is entitled to a judgment as a matter of law.” 735 ILCS 5/2—1005(c) (West 2002). Orders granting summary judgment are reviewed de novo. Rumford v. Countrywide Funding Corp., 287 Ill. App. 3d 330, 334, 678 N.E.2d 369, 372 (1997). On appeal from such an order, the reviewing court “must independently examine the evidence presented in support of and in opposition to a motion for summary judgment.” Groce v. South Chicago Community Hospital, 282 Ill. App. 3d 1004, 1006, 669 N.E.2d 596, 598 (1996). Where a reasonable person could draw divergent inferences from undisputed facts, summary judgment is improper. Outboard Marine Corp. v. Liberty Mutual Insurance Co., 154 Ill. 2d 90, 102, 607 N.E.2d 1204, 1209 (1992). If, from a review of the pleadings and evidentiary material before the circuit court, this court determines that a material issue of fact exists or that the summary judgment was based upon an erroneous interpretation of the law, a reversal is warranted. Metropolitan Life Insurance Co. v. American National Bank & Trust Co., 288 Ill. App. 3d 760, 765, 682 N.E.2d 72, 75 (1997). Construction of an insurance policy is a question of law and, therefore, may appropriately be disposed of through summary judgment. See American Standard Insurance Co. v. Allstate Insurance Co., 210 Ill. App. 3d 443, 446, 569 N.E.2d 162, 165 (1991). In construing the language of the policy, the court’s primary task is “to ascertain and give effect to the intent of the parties to the contract.” Traveler’s Insurance Co. v. Eljer Manufacturing, Inc., 197 Ill. 2d 278, 292, 757 N.E.2d 481, 491 (2001). In order to ascertain the meaning of the policy’s language and the parties’ intent, the court must construe the policy as a whole and take into account the type of insurance purchased, the nature of the risks involved, and the overall purpose of the contract.\n",
       "\n",
       "----------------------------------------------------------------------------------------------------\n",
       "\n",
       "Citation: **154 Ill. 2d 90**\n",
       "\n",
       "Case Name: Country Mutual Insurance v. Carr, decided on 2007-03-19 00:00:00\n",
       "\n",
       "Context: This appeal followed. II. ANALYSIS Carr argues the third amended complaint in the underlying case (case No. 04—L—8) alleges an “occurrence” covered by his CGL policy through Country Mutual. A. Standard of Review The standard of review for reviewing a trial court’s decision to grant a motion for judgment on the pleadings is de novo. Board of Trustees of the University of Illinois v. City of Chicago, 317 Ill. App. 3d 569, 571, 740 N.E.2d 515, 517 (2000). The same is true for reviewing a trial court’s interpretation of an insurance policy. Travelers Insurance Co. v. Eljer Manufacturing, Inc., 197 Ill. 2d 278, 292, 757 N.E.2d 481, 491 (2001). In this appeal, we must determine whether the trial court erred in finding the complaint in the underlying case did not allege an “occurrence.” B. Insurance Company’s Duty To Defend The underlying issues in case No. 04—L—15 from which this appeal arises are whether Country Mutual has a duty to defend and possibly indemnify Carr in case No. 04—L—8. An insurance company’s duty to defend its policyholder is much broader than its duty to indemnify that same policyholder. Outboard Marine Corp. v. Liberty Mutual Insurance Co., 154 Ill. 2d 90, 125, 607 N.E.2d 1204, 1220 (1992). To determine whether an insurance company has a duty to defend, the court must compare the allegations in the underlying complaint to the language of the insurance policy at issue. Outboard Marine Corp., 154 Ill. 2d at 125, 607 N.E.2d at 1220. In so doing, the court must give the allegations in the complaint a liberal construction in favor of the insured. Outboard Marine Corp., 154 Ill. 2d at 125, 607 N.E.2d at 1220. Further, the court must liberally construe the provisions of the insurance policy in favor of coverage. State Security Insurance Co. v. Burgos, 145 Ill. 2d 423, 438, 583 N.E.2d 547, 554 (1991). After giving both the allegations in the complaint and the provisions of the policy a liberal construction in favor of the insured having coverage, the court must determine if the “allegations fall within, or potentially within, the policy’s coverage.” (Emphasis in original.) Outboard Marine Corp., 154 Ill. 2d at 125, 607 N.E.2d at 1220. If the court finds this to be so, “the insurer has a duty to defend the insured against the underlying complaint.” Outboard Marine Corp., 154 Ill. 2d at 125, 607 N.E.2d at 1220.\n",
       "\n",
       "----------------------------------------------------------------------------------------------------\n",
       "\n",
       "Citation: **154 Ill. 2d 90**\n",
       "\n",
       "Case Name: Stoneridge Development Co. v. Essex Insurance, decided on 2008-05-06 00:00:00\n",
       "\n",
       "Context: Accordingly, we conclude that we have jurisdiction over this appeal. B. Estoppel Turning to the merits, Essex first argues that the trial court erred by granting appellees summary judgment based on estoppel. Summary judgment is appropriate only where the pleadings, affidavits, depositions, admissions, and exhibits on file, when viewed in the light most favorable to the nonmoving party, show that there is no genuine issue of material fact and that the moving party is entitled to judgment as a matter of law. Zekman v. Direct American Marketers, Inc., 182 Ill. 2d 359, 374 (1998). We review de novo a grant of summary judgment. Rich v. Principal Life Insurance Co., 226 Ill. 2d 359, 370 (2007). Also, the construction of an insurance policy is a question of law, to which de novo review applies. Rich, 226 Ill. 2d at 371. We begin by discussing the relevant case law on an insurer’s duty to defend. An insurer’s duty to defend its insured is much broader than its duty to indemnify the insured. Outboard Marine Corp. v. Liberty Mutual Insurance Co., 154 Ill. 2d 90, 125 (1992). A duty to indemnify arises only if the insured has a judgment against it on any underlying claim and the insured’s activity and the resulting loss or damage actually come within the policy’s coverage. Outboard Marine Corp., 154 Ill. 2d at 127-28. In contrast, the precursor duty to defend arises if, liberally construing in the insured’s favor the allegations in the underlying complaint against the insured, there are factual allegations that even potentially fall within the coverage. General Agents Insurance Co. of America, Inc. v. Midwest Sporting Goods Co., 215 Ill. 2d 146, 154-55 (2005). Moreover, if the underlying complaint against the insured contains several theories of recovery and only one of the theories is potentially covered, the insurer must still defend the insured. Midwest Sporting Goods Co., 215 Ill. 2d at 155. In this manner, the insurer may become obligated to defend against causes of action and theories of recovery that the policy does not actually cover. Illinois Masonic Medical Center v. Turegum Insurance Co., 168 Ill. App. 3d 158, 162 (1988).\n",
       "\n",
       "----------------------------------------------------------------------------------------------------\n",
       "\n",
       "Citation: **154 Ill. 2d 90**\n",
       "\n",
       "Case Name: Noren v. Metropolitan Property & Casualty Insurance, decided on 2006-12-06 00:00:00\n",
       "\n",
       "Context: Only then can a proper determination be made as to whether the damage was covered under the policy. Because the court erred in striking defendant’s jury demand, we remand this cause to the circuit court for a new trial. In light of this determination, we need only address one of defendant’s remaining contentions on appeal, that the court erred in denying its motion for summary judgment. Summary judgment is proper if the pleadings, depositions, affidavits, admissions, and other matters on file demonstrate that there is no genuine issue of material fact and that the movant is entitled to judgment as a matter of law. Smith v. Armor Plus Co., 248 Ill. App. 3d 831, 839 (1993). The court should construe the evidence strictly against the movant and liberally in favor of the opponent. Richter v. Burton Investment Properties, Inc., 240 Ill. App. 3d 998, 1001 (1993). If reasonable persons could draw different inferences from undisputed facts, an issue of fact exists. Armor, 248 Ill. App. 3d at 839. Appellate review of an order granting summary judgment is de novo. Outboard Marine Corp. v. Liberty Mutual Insurance Co., 154 Ill. 2d 90, 102 (1992). Here, as stated above, there were numerous questions of fact the circuit court was required to make because there was conflicting evidence as to the cause of the water damage to plaintiffs’ property. Defendant argues in its brief that because plaintiffs presented no evidence regarding the cause of their property damage, there were no issues of material fact. However, we point out that in defendant’s brief, in support of its argument that the court erred in striking its jury demand, defendant states that there were factual issues as to how the property damage occurred. In fact, defendant argued in its reply brief that there were a “litany of factual issues.” We are unable to reconcile defendant’s inconsistent positions. It is illogical for defendant to argue on the one hand that there were no factual issues for summary judgment purposes and on the other hand to argue that there were many factual issues for jury demand purposes. Defendant cannot have it both ways. We find that the circuit court properly denied defendant’s motion for summary judgment because a question of fact existed as to how plaintiffs’ property was damaged.\n",
       "\n",
       "----------------------------------------------------------------------------------------------------\n",
       "\n",
       "Citation: **154 Ill. 2d 90**\n",
       "\n",
       "Case Name: Smith v. Union Automobile Indemnity Co., decided on 2001-07-17 00:00:00\n",
       "\n",
       "Context: The trial court rejected plaintiffs’ arguments and granted summary judgment in Union’s favor as to count I of the first amended complaint. The court also denied plaintiffs’ cross-motion for partial summary judgment and dismissed Union’s counterclaim. Subsequently, the trial court denied plaintiffs’ motion to reconsider and dismissed count II of the first amended complaint with prejudice. This appeal followed. ANALYSIS •1 We begin by noting the appropriate standard for reviewing a trial court’s decision to grant a motion for summary judgment. Summary judgment is appropriate if the pleadings, depositions, and admissions on file, together with any affidavits, demonstrate that there is no genuine issue of material fact and that the moving party is entitled to judgment as a matter of law. 735 ILCS 5/2—1005(c) (West 1998). A court considering a motion for summary judgment must construe the pleadings, depositions, admissions, and affidavits strictly against the moving party and liberally in favor of the nonmoving party. Outboard Marine Corp. v. Liberty Mutual Insurance Co., 154 Ill. 2d 90, 131-32 (1992). A court should grant summary judgment only when the movant’s right to judgment is clear and free from doubt. When reasonable people could draw divergent inferences from undisputed facts, summary judgment should be denied. Outboard Marine, 154 Ill. 2d at 102. Our review of a trial court’s summary judgment ruling is de nova. Outboard Marine, 154 Ill. 2d at 102. •2 First, we address plaintiffs’ assertion that the “mend the hold” doctrine precluded Union from presenting the defense that the water that entered plaintiffs’ basement was surface water. The doctrine’s name, which is derived from a nineteenth-century wrestling term (Harbor Insurance Co. v. Continental Bank Corp., 922 F.2d 357, 362 (7th Cir. 1990)), prohibits a party who has repudiated a contract on one ground from changing his ground after litigation has begun and thus “ ‘mend[ing] his hold.’ ” Larson v. Johnson, 1 Ill. App. 2d 36, 39-40 (1953), quoting Ohio & Mississippi Ry. Co. v. McCarthy, 96 U.S. 258, 267-68, 24 L. Ed. 693, 696 (1878).\n",
       "\n",
       "----------------------------------------------------------------------------------------------------\n",
       "\n"
      ],
      "text/plain": [
       "<IPython.core.display.Markdown object>"
      ]
     },
     "execution_count": 37,
     "metadata": {},
     "output_type": "execute_result"
    }
   ],
   "source": [
    "Markdown(citation_context)"
   ]
  },
  {
   "cell_type": "code",
   "execution_count": 38,
   "metadata": {},
   "outputs": [],
   "source": [
    "import instructor\n",
    "import openai\n",
    "from tenacity import Retrying, stop_after_attempt, wait_fixed\n",
    "\n",
    "from src.search.models import CitationInformation\n",
    "\n",
    "def analyze_citation(\n",
    "    citation: str, excerpts: str\n",
    ") -> CitationInformation:\n",
    "    client = instructor.patch(openai.OpenAI())\n",
    "    return client.chat.completions.create(\n",
    "        model=\"gpt-4-turbo-preview\",\n",
    "        seed=42,\n",
    "        response_model=CitationInformation,\n",
    "        max_retries=Retrying(\n",
    "            stop=stop_after_attempt(5),\n",
    "            wait=wait_fixed(1),\n",
    "        ),\n",
    "        messages=[\n",
    "            {\n",
    "                \"role\": \"system\",\n",
    "                \"content\": \"Your role is to analyze Context, which is previously extracted information about a legal case law citation, and distill down the main takeaways using the correct format. The goal is to support downstream retrieval for users who will be submitting natural language queries to return relevant and useful case citations.\",\n",
    "            },\n",
    "            {\n",
    "                \"role\": \"user\",\n",
    "                \"content\": f\"Your task focuses on citation: **{citation}**\",\n",
    "            },\n",
    "            {   \"role\": \"user\", \"content\": f\"Here is the Context, remember to limit the use of named entities especially on the questions: {excerpts}\"},\n",
    "        ],\n",
    "    )"
   ]
  },
  {
   "cell_type": "code",
   "execution_count": 39,
   "metadata": {},
   "outputs": [],
   "source": [
    "cite_res = analyze_citation(\n",
    "    citation='154 Ill. 2d 90',\n",
    "    excerpts=citation_context\n",
    ")"
   ]
  },
  {
   "cell_type": "code",
   "execution_count": 40,
   "metadata": {},
   "outputs": [
    {
     "name": "stdout",
     "output_type": "stream",
     "text": [
      "Citation: 154 Ill. 2d 90\n",
      "Summary:\n",
      "In the context of insurance and summary judgment decisions, 154 Ill. 2d 90 serves as a pivotal\n",
      "authority on several points: it outlines the conditions under which summary judgment is appropriate,\n",
      "details appellate review standards for these judgments, emphasizes the broad duty to defend over the\n",
      "narrower duty to indemnify within insurance contracts, and provides guidance on the construction and\n",
      "interpretation of insurance policies in favor of ensuring coverage. The case law emphasizes a de\n",
      "novo review in both summary judgment appeals and insurance policy interpretations, and asserts that\n",
      "factual inferences drawn from undisputed facts can preclude summary judgment when divergent.\n",
      "Furthermore, it underscores the principle that an insurer's duty to defend is triggered when\n",
      "allegations even potentially fall within policy coverage, and confronts challenges such as estoppel\n",
      "claims against granting summary judgment.\n",
      "Questions:\n",
      "- What are the conditions under which summary judgment is deemed appropriate in insurance litigation cases?\n",
      "- How is appellate review conducted for orders granting summary judgment in the context of insurance disputes?\n",
      "- What delineates the duty to defend from the duty to indemnify in insurance contracts according to court rulings?\n",
      "- In what way does the interpretation of insurance policy language impact coverage decisions?\n",
      "- How does estoppel apply to summary judgment decisions in insurance law?\n",
      "- What implications does divergent inference from undisputed facts have on the appropriateness of summary judgment?\n",
      "- When is an insurer's duty to defend triggered based on the allegations within an insurance policy?\n",
      "- What are the standards for reviewing an insurance company's duty to defend and indemnify policyholders?\n",
      "Keywords:\n",
      "summary judgment, insurance policy interpretation, duty to defend, duty to indemnify, de novo\n",
      "review, estoppel, insurance litigation, appellate review, coverage decision, policy language,\n",
      "undisputed facts, divergent inferences, allegations within policy, court rulings on insurance\n",
      "Recency:\n",
      "No recent observations.\n"
     ]
    }
   ],
   "source": [
    "print(cite_res)"
   ]
  },
  {
   "cell_type": "code",
   "execution_count": null,
   "metadata": {},
   "outputs": [],
   "source": []
  }
 ],
 "metadata": {
  "kernelspec": {
   "display_name": ".venv",
   "language": "python",
   "name": "python3"
  },
  "language_info": {
   "codemirror_mode": {
    "name": "ipython",
    "version": 3
   },
   "file_extension": ".py",
   "mimetype": "text/x-python",
   "name": "python",
   "nbconvert_exporter": "python",
   "pygments_lexer": "ipython3",
   "version": "3.10.11"
  }
 },
 "nbformat": 4,
 "nbformat_minor": 2
}
