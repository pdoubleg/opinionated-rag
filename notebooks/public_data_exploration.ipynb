{
 "cells": [
  {
   "cell_type": "code",
   "execution_count": 1,
   "metadata": {},
   "outputs": [],
   "source": [
    "import os\n",
    "from dotenv import load_dotenv\n",
    "import pandas as pd\n",
    "import eyecite\n",
    "from datetime import datetime\n",
    "from markdown import markdown\n",
    "from IPython.display import Markdown, display, HTML\n",
    "import warnings\n",
    "warnings.filterwarnings('ignore')\n",
    "pd.set_option('display.max_columns', None)\n",
    "load_dotenv()\n",
    "os.chdir(os.path.dirname(os.getcwd()))"
   ]
  },
  {
   "cell_type": "code",
   "execution_count": 2,
   "metadata": {},
   "outputs": [],
   "source": [
    "from typing import Tuple, Optional\n",
    "from src.schema.decisions import Decision\n",
    "from src.schema.decisions import extract_parallel_citation_context, filter_decisions_by_forward_citations\n",
    "from src.doc_store.cap_client import CAPClient\n",
    "from src.doc_store.cl_client  import CourtListenerClient\n",
    "from src.utils.citations import create_highlighted_citation\n",
    "from src.doc_store.base import process_citations_with_progress\n",
    "from src.doc_store.utils import (\n",
    "    load_models_from_json, \n",
    "    save_models_to_json, \n",
    "    looks_like_case_law_link, \n",
    "    filter_decisions_with_text,\n",
    ")"
   ]
  },
  {
   "cell_type": "code",
   "execution_count": 3,
   "metadata": {},
   "outputs": [
    {
     "data": {
      "text/markdown": [
       "|    | Citation              |   Count | link                                                      | cap_ind   |\n",
       "|---:|:----------------------|--------:|:----------------------------------------------------------|:----------|\n",
       "|  0 | 120 Cal. Rptr. 2d 162 |     226 | https://www.courtlistener.com/c/Cal.%20Rptr.%202d/120/162 | False     |\n",
       "|  1 | 908 A.2d 888          |     197 | https://cite.case.law/a2d/908/888                         | True      |\n",
       "|  2 | 750 P.2d 297          |     195 | https://cite.case.law/p2d/750/297                         | True      |\n",
       "|  3 | 121 F.3d 496          |     190 | https://cite.case.law/f3d/121/496                         | True      |\n",
       "|  4 | 268 S.W.3d 487        |     187 | https://cite.case.law/sw3d/268/487                        | True      |\n",
       "|  5 | 693 P.2d 796          |     186 | https://cite.case.law/p2d/693/796                         | True      |\n",
       "|  6 | 36 Cal. App. 4th 500  |     184 | https://cite.case.law/cal-app-4th/36/500                  | True      |\n",
       "|  7 | 40 P.2d 311           |     182 | https://cite.case.law/p2d/40/311                          | True      |\n",
       "|  8 | 159 F. Supp. 2d 1196  |     178 | https://cite.case.law/f-supp-2d/159/1196                  | True      |\n",
       "|  9 | 44 Cal. Rptr. 2d 370  |     177 | https://www.courtlistener.com/c/Cal.%20Rptr.%202d/44/370  | False     |"
      ],
      "text/plain": [
       "<IPython.core.display.Markdown object>"
      ]
     },
     "execution_count": 3,
     "metadata": {},
     "output_type": "execute_result"
    }
   ],
   "source": [
    "top_citations = pd.read_excel(\"./data/tables/top_citations.xlsx\")\n",
    "top_citations[\"cap_ind\"] = top_citations[\"link\"].apply(looks_like_case_law_link)\n",
    "Markdown(top_citations.to_markdown())"
   ]
  },
  {
   "cell_type": "code",
   "execution_count": 3,
   "metadata": {},
   "outputs": [],
   "source": [
    "cl_client = CourtListenerClient()\n",
    "cap_client = CAPClient()"
   ]
  },
  {
   "cell_type": "code",
   "execution_count": 4,
   "metadata": {},
   "outputs": [],
   "source": [
    "\n",
    "def fetch_case(citation: str) -> Tuple[Optional[Decision], bool]:\n",
    "    \"\"\"\n",
    "    Fetches a case by citation, trying CAPClient first and falling back to CourtListenerClient if necessary.\n",
    "\n",
    "    Args:\n",
    "        citation (str): The citation string to search for.\n",
    "\n",
    "    Returns:\n",
    "        Tuple[Optional[Decision], bool]: A tuple containing the Decision model (or None if not found) and a boolean indicating if the case was found in CAP (True) or CourtListener (False).\n",
    "    \"\"\"\n",
    "    try:\n",
    "        case = cap_client.read_cite(citation, full_case=True, body_format=\"html\")\n",
    "        return case, True\n",
    "    except (ValueError, IndexError):\n",
    "        try:\n",
    "            cite = cl_client.find_cite(citation)\n",
    "            case = cl_client.fetch_case_by_id(cite.id)\n",
    "            return case, False\n",
    "        except:\n",
    "            return None, False\n",
    "\n",
    "def update_case_counts(case: Decision, is_cap: bool) -> Decision:\n",
    "    \"\"\"\n",
    "    Updates the Decision model with counts of \"cites to\" and \"cited by\" cases.\n",
    "\n",
    "    Args:\n",
    "        case (Decision): The Decision model to update.\n",
    "        is_cap (bool): Indicates if the case was found in CAP (True) or CourtListener (False).\n",
    "\n",
    "    Returns:\n",
    "        Decision: The updated Decision model.\n",
    "    \"\"\"\n",
    "    if is_cap:\n",
    "        forward_cites = cap_client.get_forward_citation_ids(case.id)\n",
    "    else:\n",
    "        forward_cites = cl_client.get_forward_citation_ids(case.id)\n",
    "    \n",
    "    case_updated = case.model_copy(update={\"forward_citation_ids\": forward_cites})\n",
    "    cites_to_count = len(case_updated.cites_to)\n",
    "    cited_by_count = len(case_updated.forward_citation_ids)\n",
    "    \n",
    "    return case_updated, cites_to_count, cited_by_count\n",
    "\n",
    "\n",
    "def process_citations(top_citations: pd.DataFrame) -> Tuple[pd.DataFrame, list]:\n",
    "    \"\"\"\n",
    "    Processes citations in a DataFrame, updating each with \"cites to\" and \"cited by\" counts, and collects updated Decision objects.\n",
    "\n",
    "    Args:\n",
    "        top_citations (pd.DataFrame): The DataFrame containing citations to process.\n",
    "\n",
    "    Returns:\n",
    "        Tuple[pd.DataFrame, list]: The updated DataFrame with new counts and a list of updated Decision objects.\n",
    "    \"\"\"\n",
    "    updated_decisions = []\n",
    "    \n",
    "    for idx, row in top_citations.iterrows():\n",
    "        citation = row[\"Citation\"]\n",
    "        case, is_cap = fetch_case(citation)\n",
    "        \n",
    "        if case:\n",
    "            case_updated, cites_to_count, cited_by_count = update_case_counts(case, is_cap)\n",
    "            print(f\"'{str(case_updated)}' cites to {cites_to_count} cases & been cited {cited_by_count} times.\")\n",
    "            \n",
    "            updated_decisions.append(case_updated)\n",
    "        else:\n",
    "            print(f\"Error reading: {citation}\")\n",
    "            cites_to_count = cited_by_count = 0\n",
    "        \n",
    "        top_citations.at[idx, 'cites_to_count'] = cites_to_count\n",
    "        top_citations.at[idx, 'cited_by_count'] = cited_by_count\n",
    "    \n",
    "    return top_citations, updated_decisions\n"
   ]
  },
  {
   "cell_type": "code",
   "execution_count": 6,
   "metadata": {},
   "outputs": [
    {
     "name": "stdout",
     "output_type": "stream",
     "text": [
      "'Cunningham, 120 Cal. Rptr. 2d 162 (2002-04-30)' cites to 22 cases & been cited 7 times.\n",
      "'Kvaerner Metals Division of Kvaerner U.S., Inc. v. Commercial Union Insurance, 589 Pa. 317 (2006-10-25)' cites to 37 cases & been cited 100 times.\n",
      "'Isaacson, 750 P.2d 297 (1988-03-07)' cites to 0 cases & been cited 0 times.\n",
      "'National Steel Corp. v. Golden Eagle Insurance, 121 F.3d 496 (1997-08-06)' cites to 49 cases & been cited 41 times.\n",
      "'Zurich American Insurance Co. v. Nokia, Inc., 268 S.W.3d 487 (2008-08-29)' cites to 54 cases & been cited 97 times.\n",
      "'Brandt, 693 P.2d 796 (1985-01-28)' cites to 1 cases & been cited 20 times.\n",
      "'Pruyn v. Agricultural Insurance, 36 Cal. App. 4th 500 (1995-06-30)' cites to 93 cases & been cited 62 times.\n",
      "Error reading: 40 P.2d 311\n",
      "'Everett Associates, Inc. v. Transcontinental Insurance, 159 F. Supp. 2d 1196 (2001-08-28)' cites to 117 cases & been cited 7 times.\n",
      "'Waller, 900 P.2d 619 (1995-08-28)' cites to 14 cases & been cited 20 times.\n",
      "9\n"
     ]
    }
   ],
   "source": [
    "top_citations_updated, decisions_list = process_citations(top_citations)\n",
    "print(len(decisions_list))"
   ]
  },
  {
   "cell_type": "code",
   "execution_count": 7,
   "metadata": {},
   "outputs": [
    {
     "data": {
      "text/markdown": [
       "|    | Citation              |   Count | link                                                      | cap_ind   |   cites_to_count |   cited_by_count |\n",
       "|---:|:----------------------|--------:|:----------------------------------------------------------|:----------|-----------------:|-----------------:|\n",
       "|  0 | 120 Cal. Rptr. 2d 162 |     226 | https://www.courtlistener.com/c/Cal.%20Rptr.%202d/120/162 | False     |               22 |                7 |\n",
       "|  1 | 908 A.2d 888          |     197 | https://cite.case.law/a2d/908/888                         | True      |               37 |              100 |\n",
       "|  2 | 750 P.2d 297          |     195 | https://cite.case.law/p2d/750/297                         | True      |                0 |                0 |\n",
       "|  3 | 121 F.3d 496          |     190 | https://cite.case.law/f3d/121/496                         | True      |               49 |               41 |\n",
       "|  4 | 268 S.W.3d 487        |     187 | https://cite.case.law/sw3d/268/487                        | True      |               54 |               97 |\n",
       "|  5 | 693 P.2d 796          |     186 | https://cite.case.law/p2d/693/796                         | True      |                1 |               20 |\n",
       "|  6 | 36 Cal. App. 4th 500  |     184 | https://cite.case.law/cal-app-4th/36/500                  | True      |               93 |               62 |\n",
       "|  7 | 40 P.2d 311           |     182 | https://cite.case.law/p2d/40/311                          | True      |                0 |                0 |\n",
       "|  8 | 159 F. Supp. 2d 1196  |     178 | https://cite.case.law/f-supp-2d/159/1196                  | True      |              117 |                7 |\n",
       "|  9 | 44 Cal. Rptr. 2d 370  |     177 | https://www.courtlistener.com/c/Cal.%20Rptr.%202d/44/370  | False     |               14 |               20 |"
      ],
      "text/plain": [
       "<IPython.core.display.Markdown object>"
      ]
     },
     "execution_count": 7,
     "metadata": {},
     "output_type": "execute_result"
    }
   ],
   "source": [
    "Markdown(top_citations_updated.to_markdown())"
   ]
  },
  {
   "cell_type": "code",
   "execution_count": 8,
   "metadata": {},
   "outputs": [
    {
     "data": {
      "text/plain": [
       "(2, 2)"
      ]
     },
     "execution_count": 8,
     "metadata": {},
     "output_type": "execute_result"
    }
   ],
   "source": [
    "cl_cites = top_citations_updated[top_citations_updated[\"cap_ind\"]==False][\"Citation\"].tolist()\n",
    "cap_cites = [\n",
    "    \"121 F.3d 496\",\n",
    "    \"268 S.W.3d 487\",\n",
    "]\n",
    "len(cl_cites), len(cap_cites)"
   ]
  },
  {
   "cell_type": "code",
   "execution_count": 9,
   "metadata": {},
   "outputs": [
    {
     "name": "stdout",
     "output_type": "stream",
     "text": [
      "Fetching forward citation ID: 2441985\n",
      "Citation: Btr Hampstead, LLC v. Source Interlink, 5 A.3d 142, 194 Md. App. 538 (Md. Ct. Spec. App. 2010)\n",
      "Fetching forward citation ID: 2439427\n",
      "Citation: Brucia v. Hartford Acc. and Indem., 307 F. Supp. 2d 1079 (N.D. Cal. 2003)\n",
      "Fetching forward citation ID: 2251305\n",
      "Citation: Davis v. Farmers Ins. Group, 134 Cal. App. 4th 100, 35 Cal. Rptr. 3d 738 (Cal. Ct. App. 2005)\n",
      "Fetching forward citation ID: 2740011\n",
      "Citation: Baek v. Continental Casualty Co.,  (Cal. Ct. App. 2014)\n",
      "Fetching forward citation ID: 2473426\n",
      "Citation: Lakeland Village Owners Association v. Great American Insurance Company, 727 F. Supp. 2d 887 (E.D. Cal. 2010)\n",
      "Fetching forward citation ID: 2276439\n",
      "Citation: Mercury Ins. Co. v. Ayala, 11 Cal. Rptr. 3d 158, 116 Cal. App. 4th 1198 (Cal. Ct. App. 2004)\n",
      "Fetching forward citation ID: 2273431\n",
      "Citation: BAROCO WEST, INC. v. Scottsdale Ins. Co., 110 Cal. App. 4th 96, 1 Cal. Rptr. 3d 464 (Cal. Ct. App. 2003)\n",
      "Fetching forward citation ID: 1462146\n",
      "Citation: Vigna v. Allstate Ins. Co., 686 A.2d 598 (Me. 1996)\n",
      "Fetching forward citation ID: 2302857\n",
      "Citation: Dalrymple v. United Services Auto. Assn., 40 Cal. App. 4th 497, 46 Cal. Rptr. 2d 845 (Cal. Ct. App. 1995)\n",
      "Fetching forward citation ID: 2277264\n",
      "Citation: City of S. El Monte v. S. Cal. Joint Powers, 38 Cal. App. 4th 1629, 45 Cal. Rptr. 2d 729 (Cal. Ct. App. 1995)\n",
      "Fetching forward citation ID: 2306587\n",
      "Citation: California Cas. Ins. Co. v. Northland Ins. Co., 48 Cal. App. 4th 1682 (Cal. Ct. App. 1996)\n",
      "Fetching forward citation ID: 2254492\n",
      "Citation: AMERICAN INTERNAT. BK. v. Fidelity & Deposit Co., 49 Cal. App. 4th 1558, 57 Cal. Rptr. 2d 567 (Cal. Ct. App. 1996)\n",
      "Fetching forward citation ID: 2353831\n",
      "Citation: Freudenberger v. Allstate Ins. Co., 941 F. Supp. 940 (S.D. Cal. 1996)\n",
      "Fetching forward citation ID: 2249770\n",
      "Citation: Dogloo, Inc. v. Northern Ins. Co. of New York, 907 F. Supp. 1383 (C.D. Cal. 1995)\n",
      "Fetching forward citation ID: 2306225\n",
      "Citation: Miller v. Western General Agency, Inc., 41 Cal. App. 4th 1144, 49 Cal. Rptr. 2d 55 (Cal. Ct. App. 1996)\n",
      "Fetching forward citation ID: 2258363\n",
      "Citation: Chase v. Blue Cross of California, 42 Cal. App. 4th 1142, 50 Cal. Rptr. 2d 178 (Cal. Ct. App. 1996)\n",
      "Fetching forward citation ID: 2257230\n",
      "Citation: Monteleone v. Allstate Ins. Co., 51 Cal. App. 4th 509, 59 Cal. Rptr. 2d 48 (Cal. Ct. App. 1996)\n",
      "Fetching forward citation ID: 2302801\n",
      "Citation: Ticor Title Ins. Co. v. Employers Ins. of Wausau, 40 Cal. App. 4th 1699, 48 Cal. Rptr. 2d 368 (Cal. Ct. App. 1995)\n",
      "Fetching forward citation ID: 2292689\n",
      "Citation: Farmers Ins. Exchange v. Knopp, 50 Cal. App. 4th 1415 (Cal. Ct. App. 1996)\n",
      "Fetching forward citation ID: 2306008\n",
      "Citation: Hartford v. State of California, 41 Cal. App. 4th 1564, 49 Cal. Rptr. 2d 282 (Cal. Ct. App. 1996)\n",
      "Fetching forward citation ID: 2284391\n",
      "Citation: Truck Ins. Exchange v. Bennett, 53 Cal. App. 4th 75, 53 Cal. App. 2d 75, 61 Cal. Rptr. 2d 497 (Cal. Ct. App. 1997)\n",
      "Fetching forward citation ID: 1801833\n",
      "Citation: Randi W. v. Muroc Joint Unified School Dist., 14 Cal. 4th 1066 (Cal. 1997)\n",
      "Fetching forward citation ID: 2257386\n",
      "Citation: Armstrong World Industries v. Aetna Cas. & Sur., 45 Cal. App. 4th 1 (Cal. Ct. App. 1996)\n",
      "Fetching forward citation ID: 2257387\n",
      "Citation: Frank and Freedus v. Allstate Ins. Co., 45 Cal. App. 4th 461 (Cal. Ct. App. 1996)\n",
      "Fetching forward citation ID: 1461613\n",
      "Citation: Griffin v. Allstate Ins. Co., 920 F. Supp. 127 (C.D. Cal. 1996)\n",
      "Fetching forward citation ID: 2269427\n",
      "Citation: Republic Indemnity Co. v. Schofield, 47 Cal. App. 4th 220 (Cal. Ct. App. 1996)\n",
      "Fetching forward citation ID: 2272251\n",
      "Citation: Taub v. First State Ins. Co., 44 Cal. App. 4th 811, 52 Cal. Rptr. 2d 1 (Cal. Ct. App. 1995)\n",
      "27\n"
     ]
    }
   ],
   "source": [
    "cl_cases = []\n",
    "\n",
    "for citation in cl_cites:\n",
    "    cite = cl_client.find_cite(citation)\n",
    "    forward_decisions = cl_client.read_forward_citations(cite.id)\n",
    "    cl_cases.extend(forward_decisions)\n",
    "    \n",
    "print(len(cl_cases))    "
   ]
  },
  {
   "cell_type": "code",
   "execution_count": 10,
   "metadata": {},
   "outputs": [],
   "source": [
    "cite = cap_client.read_cite(cap_cites[0])"
   ]
  },
  {
   "cell_type": "code",
   "execution_count": 11,
   "metadata": {},
   "outputs": [],
   "source": [
    "read_id = cap_client.read_id(cite.id)"
   ]
  },
  {
   "cell_type": "code",
   "execution_count": 12,
   "metadata": {},
   "outputs": [
    {
     "data": {
      "text/plain": [
       "'NATIONAL STEEL CORPORATION, a Delaware corporation, Plaintiff-Appellee, v. GOLDEN EAGLE INSURANCE COMPANY, Defendant-Appellant. No. 95-17291. United States Court of Appeals, Ninth Circuit. Argued and Submitted July 17, 1997. Decided Aug. 6, 1997. *497 Irving H. Greines and Marc J. Poster, Greines, Martin, Stein, & Richland, Beverly Hills, CA, for defendant-appellant. *498 John L. Condrey, Gordon & Rees, San Francisco, CA, for plaintiff-appellee. Before: FARRIS and TASHIMA, Circuit Judges, and STAGG, Senior District Judge. * * The Honorable Tom Slagg, Senior United States District Judge for the Western District of Louisiana, sitting by designation. FARRIS, Circuit Judge: Golden Eagle appeals a district court summary judgment order holding Golden Eagle liable for the stipulated settlement reached by Golden Eagle’s insured after Golden Eagle denied defense to the insured because the claim did not fall with the insured’s policy. The district court had jurisdiction pursuant to 28 U.S.C. § 1332 . We have jurisdiction pursuant to 28 U.S.C. § 1291 . We affirm. BACKGROUND In March 1988, National Steel hired Envirocare Industries, Inc. to upgrade the gas cleaning system at a National Steel steelmaking plant in Illinois. Under the contract, Envirocare was required to obtain payment and performance bonds in the amount of $2,895,500.00. Envirocare asked Golden Gate Insurance Center, and its president, Dennis DuBois, to procure the bonds. DuBois obtained the bonds from Mid-Atlantic Casualty & Surety Company. Problems arose with Envirocare’s performance, and in June 1989 National Steel attempted to make a claim on the bonds. National Steel was unable to locate Mid-Atlantic, and sought DuBois’ assistance. Mid-Atlantic was eventually discovered to be a defunct, nonexistent, or assetless surety company. In July 1990, Golden Eagle Insurance Company issued a professional errors and omissions insurance policy to Congeneric Insurance Brokers (successor-in-interest to Golden Gate), Golden Gate, and DuBois. The policy covered claims made against the insureds from August 1990 to August 1991, provided the claim was not reasonably foreseeable to the insureds at the time the policy was executed. In January 1991, the deposition of DuBois was noticed in connection with the lawsuit National Steel had filed against Envirocare. The matter was referred to Golden Eagle, who retained a law firm to represent DuBois at the deposition, while reserving the right to contest coverage. In April 1991, National Steel filed the present lawsuit against Golden Gate and DuBois alleging negligent failure to obtain insurance coverage, misrepresentation, and breach of contract. Kent Michitsch, an examiner for Golden Eagle, investigated the claim. He talked with several people. All relevant facts he discovered, however, were from DuBois’ deposition and two letters. DuBois’ deposition testimony revealed that: the Envirocare bond was hard to place; DuBois obtained the bond knowing Mid-Atlantic was an off-shore carrier and that he had not received the financial statements he had requested from them; Mid-Atlantic had DuBois address the premium check to Euro-American Brokerage Services; and, after the bond was placed but before the Golden Eagle insurance policy was executed, DuBois received a bankruptcy notice regarding the president of Mid-Atlantic and an FBI agent visited DuBois to review the file on the Mid-Atlantic bond. A June 1989 letter from National Steel, copied to Golden Gate and DuBois, notified Mid-Atlantic that National Steel intended to pursue a claim on the bond. In his declaration, DuBois stated that he did not recall the June letter. However, the letter was sent certified and was signed for by DuBois’ secretary, who stated that it was her custom to give certified mail to DuBois. A December 1989 letter from National Steel to Golden Gate and DuBois notified them that Mid-Atlantic was defunct and unable to meet the bond obligations, and that National Steel intended to pursue claims against Golden Gate. DuBois testified that he did not receive the December letter. The *499 letter had been sent to the wrong zip code. Michitseh did not confirm with anyone at Golden Gate that they had received the letter. He did confirm with National Steel that the letter was sent and not returned, but that there had been no follow up or response to the letter. Michitseh concluded that Golden Gate had received both letters. In May 1991, as a result of Michitsch’s investigation, Golden Eagle informed Golden Gate and DuBois that it would not defend or indemnify them against National Steel’s claim because they should reasonably have foreseen the claim at the time the insurance policy was executed, and therefore the claim was not covered by the insurance policy. As a result of mediation, National Steel settled its actions against Enviroeare, Golden Gate, and DuBois. Pursuant to these settlements, National Steel received payments of $150,000 from Enviroeare and $120,000 from Golden Gate and DuBois. In addition, Golden Gate and DuBois entered a stipulated judgment for $1,153,321, and assigned any rights to indemnification by Golden Eagle for the judgment to National Steel in exchange for National Steel’s covenant not to execute the judgment against them. Golden Eagle attended the mediation, but did not settle. National Steel then amended its complaint to include the assigned suit against Golden Eagle. Both parties filed motions for summary judgment. The district court held that Golden Eagle had violated its duty to defend Golden Gate and DuBois because it denied defense before discovering that there was no possibility of coverage under the insurance policy. Therefore, Golden Eagle was liable for the reasonable $1,153,321 settlement plus the $18,676.39 cost of defending National Steel’s suit. Golden Eagle appeals. DISCUSSION A. Standard of Review We review a district court’s grant of summary judgment de novo. Bagdadi v. Nazar, 84 F.3d 1194 , 1197 (9th Cir.1996). We review a district court’s interpretation of state law de novo. Salve Regina College v. Russell, 499 U.S. 225 , 231, 111 S.Ct. 1217 , 1220, 113 L.Ed.2d 190 (1991). B. The Duty to Defend A liability insurer owes a broad duty to defend its insured against claims that create a potential for indemnity. Montrose Chemical Corp. of Cal. v. Superior Court, 6 Cal.4th 287 , 295, 24 Cal.Rptr.2d 467 , 861 P.2d 1153 (1993)(en banc)(quoting Gray v. Zurich Ins. Co., 65 Cal.2d 263 , 54 Cal.Rptr. 104 , 419 P.2d 168 (1966)). The existence of a duty to defend turns upon the facts known to the insurer at the inception of the lawsuit, not upon the ultimate adjudication of coverage. Id. (quoting Saylin v. Cal. Ins. Guarantee Ass’n, 179 Cal.App.3d 256 , 263, 224 Cal.Rptr. 493 (1986)); Aetna Cas. & Sur. Co. v. Centennial Ins. Co., 838 F.2d 346 , 350 (9th Cir.1988). The duty to defend arises if the facts known to the insurer indicate a potential or possibility for indemnity. Montrose, 6 Cal.4th at 300 , 24 Cal.Rptr.2d 467 , 861 P.2d 1153 . An insurer has no duty only if, at the time of its decision, it can prove that the claim cannot fall within policy coverage. Id. Golden Eagle argues that Montrose implies that this rule is different depending on whether the facts at issue are intrinsic or extrinsic to the underlying litigation. Mont-rose does not support Golden Eagle’s argument. Golden Eagle denied coverage on the grounds that, prior to the inception of coverage, Golden Gate and DuBois had knowledge of facts that would cause them to reasonably foresee National Steel’s claim against them. Based on Michitsch’s investigation, at that time Golden Gate and DuBois knew that National Steel intended to pursue a claim on the Mid-Atlantic bond; that Mid-Atlantic’s president was bankrupt; that Mid-Atlantic had not provided its financial statements; that the premium cheek had been made out to a different name; and that the FBI was interested in Mid-Atlantic. However, Michitsch, having discovered no evidence that DuBois was lying, was not entitled to assume that DuBois and Golden Gate had received the December letter. See Downey Savings & Loan Ass’n v. Ohio Cas. Ins. Co., 189 *500 Cal.App.3d 1072 , 1087-88, 234 Cal.Rptr. 835 (1987). Though the facts known to Golden Gate and DuBois would create an inference that something was wrong with the Mid-Atlantic bond, they do not establish definitively that Golden Gate and DuBois should reasonably have foreseen that National Steel would bring a claim against them for negligence in placing the bond. There was still a possibility that the claim would be covered by the Golden Eagle insurance policy. Golden Eagle breached its duty to defend. Golden Eagle argues that later-discovered evidence of DuBois’ knowledge at the time the policy was signed proves that he should reasonably have foreseen a suit by National Steel, and therefore that Golden Eagle did not violate its duty to defend. Golden Eagle relies primarily on Williamson & Vollmer Engineering Inc. v. Sequoia Ins. Co., 64 Cal.App.3d 261 , 134 Cal.Rptr. 427 (1976). In Williamson the court held that the insurer did not have to provide defense to its insured on a claim on a policy similar to the one at issue because the insured misrepresented its knowledge of potential claims at the time it executed the policy. Williamson pre-dates Montrose, so to the extent it conflicts with Montrose, Montrose’s clear rule based on the insurer’s knowledge at the time defense is denied overrules any contrary rule in Williamson. Further, it is unclear in Williamson whether the insurer knew of the insured’s misrepresentation at the time it denied defense. The most logical reading of the ease is that the insurer did know. One of the insured’s arguments that the court found unpersuasive in Williamson was that, once the insurer discovered the misrepresentation, it had to rescind or affirm the contract immediately, instead of waiting to see what happened, as the insurer did. Id. at 274-75, 134 Cal.Rptr. 427 . This argument would only have been made if the insurer knew of the misrepresentation when it denied defense. Williamson is consistent with Montrose. Golden Eagle also contends, based on Waller v. Truck Ins. Exchange, Inc., 11 Cal.4th 1 , 44 Cal.Rptr.2d 370 , 900 P.2d 619 (1995), that an insurer does not violate its duty to defend if it is ultimately correct about its denial of defense. However, in Waller, the court merely held that an insurer may rely on caselaw (as opposed to evidence) developed after it denied defense to support its denial. Id. at 26, 44 Cal.Rptr.2d 370 , 900 P.2d 619 . Finally, Golden Eagle argues that the denial of defense was proper under an exclusion in the Golden Gate and DuBois policy for “any Claim arising out of the insolvency, receivership, bankruptcy, liquidation or financial inability to pay, of any insurance company.” Golden Eagle contends that National Steel’s suit against Golden Gate and DuBois arose out of Mid-Atlantic’s, an insurance company’s, financial inability to pay. Golden Eagle has waived this argument by failing to raise it at summary judgment before the district court. Ninth Circuit appellate review is limited to the record presented to the district court at the time of summary judgment. Lippi v. City Bank, 955 F.2d 599 , 604 (9th Cir.1992). Golden Eagle’s raising of the argument in its motion for reconsideration does not preserve it for appeal. In re Department of Energy Stripper Well Exemption Litigation, 968 F.2d 27 , 38 (Temp.Emer.Ct.App.1992). Further, Mid-Atlantic’s bond was a surety bond, not an insurance contract. Suretyship is included as a “class of insurance” in California Insurance Code section 105. However, not everything that is a “class of insurance” is treated as insurance for all purposes. See Estate of Barr, 104 Cal.App.2d 506 , 511, 231 P.2d 876 (1951) (annuities, although a “class of insurance” in the Insurance Code, are not “insurance” for the purposes of the Tax Code). Golden Eagle argues that the exclusion covers “insurance companies,” and regardless of the specific transaction at issue, Mid-Atlantic was an insurance company. However, exclusionary clauses are construed narrowly to afford the insured as much coverage as possible. Waller, 11 Cal.4th 1 , 16, 44 Cal.Rptr.2d 370 , 900 P.2d 619 . Golden Eagle’s argument is not so strong that there is no possibility that the exclusion would not apply. See Montrose, 6 Cal.4th at 300 , 24 Cal.Rptr.2d 467 , 861 P.2d *501 1153 ; Aetna, 838 F.2d at 350 . Golden Eagle breached its duty to defend DuBois and Golden Gate. C. Liability for the Settlement Golden Eagle contends that even if it violated its duty to defend Golden Gate and DuBois, it is only liable for their cost of defense, not the full settlement, unless National Steel proves that Golden Eagle acted tortiously. However, the case on which Golden Eagle relies simply held that the erroneous denial of a claim (i.e. breach of contract) does not itself support tort liability. Tomaselli v. Transamerica Ins. Co., 25 Cal.App.4th 1269 , 1280, 31 Cal.Rptr.2d 433 (1994). California law is well settled that where an insurer improperly refuses to defend an insured, the insured is entitled to make a reasonable settlement of the claim in good faith, and then maintain an action against the insurer to recover the amount of the settlement. Isaacson v. California Ins. Guar. Ass’n, 44 Cal.3d 775 , 791, 244 Cal.Rptr. 655 , 750 P.2d 297 (1988). Further, a reasonable settlement by an insured to terminate the underlying claim is presumptive evidence of the amount of the insured’s liability on the underlying claim. Id. Golden Eagle argues that because National Steel acquired its rights by way of assignment with a covenant not to execute the judgment against DuBois and Golden Gate, it is not liable for the stipulated judgment. However, California courts have held that a reasonable stipulated judgment, given in exchange for a covenant not to execute, is presumptive evidence of liability. Pruyn v. Agricultural Ins. Co., 36 Cal.App.4th 500 , 509, 42 Cal.Rptr.2d 295 (1995); Xebec Dev. Partners v. National Union Fire Ins. Co., 12 Cal.App.4th 501 , 545, 15 Cal.Rptr.2d 726 (1993); see Samson v. Transamerica Ins. Co., 30 Cal.3d 220 , 240-41, 178 Cal.Rptr. 343 , 636 P.2d 32 (1981) (insured may assign his rights against his insurer to the injured plaintiff in exchange for a covenant not to execute); Clemmer v. Hartford Ins. Co., 22 Cal.3d 865 , 884, 151 Cal.Rptr. 285 , 587 P.2d 1098 (1978) (insurer is bound by default judgment against insured where insurer had repudiated obligation to defend). In addition, interpreting California law, this circuit has previously held that where an insurer breaches its duty to defend and rejects a reasonable settlement offer within policy limits, the insurer is liable to the injured plaintiff for an assigned settlement obtained in exchange for a covenant not to execute against the insured. Consolidated American Ins. Co. v. Mike Soper Marine Services, 951 F.2d 186 , 190 (9th Cir.1991). Although here there is no evidence that Golden Eagle rejected a reasonable settlement offer within policy limits, it was present at the settlement conferences and mediation, and thus, as the district court noted, had an opportunity to settle for what it considered to be a reasonable amount. Golden Eagle cites Smith v. State Farm Mutual Auto. Ins. Co., 5 Cal.App.4th 1104 , 7 Cal.Rptr.2d 131 (1992), for the contrary conclusion. The Smith court held that a judgment against an insured was a requirement for an insured’s right to assign a bad faith cause of action. Id. at 1114, 7 Cal.Rptr.2d 131 . It further held that a settlement entered with a covenant not to execute did not satisfy this requirement because it was a transaction without substance that would encourage collusion between insureds and claimants. Id. Thus, Smith contradicts the rule described above. However, the strength of authority cast by the California Supreme Court’s earlier decisions, the Ninth Circuit’s interpretation of those decisions, and the more recent California appellate decisions in Pruyn and Xebec outweigh the precedential value of a lone intermediate appellate court decision. The Smith court stated that its rule was necessary for three reasons: (1) the prohibition on evidence of insurance in personal injury actions; (2) the lack of an adversarial process in a settlement with a covenant not to execute term; and (3) unfairness to excess insurers. Smith, 5 Cal.App.4th at 1112-13 , 7 Cal.Rptr.2d 131 . The Pruyn court explained, however, that Smith’s first two concerns are satisfied by the requirement that the settlement be found to be reasonable, and the third concern is not valid under *502 current law. Pruyn, 36 Cal.App.4th at 520-21 , 42 Cal.Rptr.2d 295 . The Pruyn court rejected the Smith rule, concluding that it “simply has no merit in light of [California legal precedent].” Id. at 522, 42 Cal.Rptr.2d 295 . In addition, this circuit has explained that although there is a peculiarity in the insured not being at risk for a settlement, the judgment against him still can have collateral adverse effects, such as an effect on future credit. Consolidated American, 951 F.2d at 190-91 . Golden Eagle is liable for the settlement. Golden Eagle argues that even if Xebec is the law, there is still a triable issue of fact as to whether the settlement was reasonable and free of collusion. However, Golden Eagle is required at the summary judgment stage to produce evidence of a genuine issue of material fact. Celotex Corp. v. Catrett, 477 U.S. 317 , 322-23, 106 S.Ct. 2548 , 2552-53, 91 L.Ed.2d 265 (1986). National Steel presented documentary evidence to the district court explaining how the settlement figure was reached. DuBois’ and Golden Gate’s attorney had reviewed this evidence and advised them that the figure reflected the amount that National Steel would win at trial, and that they may be liable in addition for National Steel’s attorney’s fees in the Enviroeare action. Further, there was evidence that one year prior to the settlement, Golden Eagle valued the claim at $1 million. Golden Eagle’s evidence of the unreasonableness of the settlement was: (1) the December 1989 letter from National Steel which estimated National Steel’s damages at $435,-000, and (2) Michitsch’s deposition testimony that he may have seen a document indicating that National Steel’s damages were unsubstantiated. The district court concluded that this evidence was inadmissible because the former was not based on the letter-writer’s personal knowledge and the latter did not identify the relevant document. A district court’s exclusion of evidence at summary judgment is reviewed for an abuse of discretion. Maljack Prods., Inc. v. GoodTimes Home Video Corp., 81 F.3d 881 , 886 (9th Cir.1996). The district court did not abuse its discretion in concluding that this evidence was inadmissable. Further, as the court noted, both of these pieces of evidence referred to time periods over a year before the settlement was reached, and therefore were not current estimates of damage. Conclusory allegations of collusion, without factual support, are insufficient to defeat summary judgment. Zander, 259 Cal.App.2d at 804-06, 66 Cal.Rptr. 561 . Golden Eagle had its opportunity to submit evidence creating a material issue as to the reasonableness of the settlement at summary judgment. It failed to rebut the presumption that the settlement reflected DuBois’ and Golden Gate’s liability. It is not entitled to a second chance. D. Effect of Settlement Payments Golden Eagle argues that if it is liable for the settlement, the settlement should be offset by the $270,000 already paid to National Steel by Enviroeare, DuBois, and Golden Gate. The district court held that Golden Eagle was not entitled to set-off under the collateral source rule. The collateral source rule allows an insured to recover from a tortfeasor as well as the insured’s insurer even if it creates double recovery. See Kardly v. State Farm Mutual Automobile Ins. Co., 207 Cal.App.3d 479 , 486, 255 Cal.Rptr. 40 (1989). Here, however, National Steel seeks to recover first from the “tortfeasors,” and second from the tortfeasors’ insurer. The collateral source rule is inapplicable to this situation. However, there is no risk of double recovery. National Steel brings this suit against Golden Eagle as an assignee of Golden Gate and DuBois’ rights. An assignee does not sue in its own right, but “stands in the shoes of the assignor.” Bush v. Superior Court, 10 Cal.App.4th 1374 , 1380, 13 Cal.Rptr.2d 382 (1992). Golden Gate and DuBois are liable for the amount of the settlement in addition to the amount already paid to National Steel but for the covenant not to execute. The settlement does not cover the same damages as the amount already paid. Golden Eagle has not shown that this calculation of dam *503 ages was unreasonable. It is liable for the full settlement amount. AFFIRMED.'"
      ]
     },
     "execution_count": 12,
     "metadata": {},
     "output_type": "execute_result"
    }
   ],
   "source": [
    "read_id.text_clean"
   ]
  },
  {
   "cell_type": "code",
   "execution_count": 13,
   "metadata": {},
   "outputs": [
    {
     "name": "stdout",
     "output_type": "stream",
     "text": [
      "Fetching forward citation ID: 8971904\n"
     ]
    },
    {
     "name": "stdout",
     "output_type": "stream",
     "text": [
      "Citation: Bassidji v. Goe, 413 F.3d 928 (2005-06-15)\n",
      "Fetching forward citation ID: 5388163\n",
      "Citation: Atmel Corp. v. St. Paul Fire & Marine, 426 F. Supp. 2d 1039 (2005-10-11)\n",
      "Fetching forward citation ID: 5713928\n",
      "Citation: Smith v. Pacific Bell Telephone Co., 649 F. Supp. 2d 1073 (2009-08-12)\n",
      "Fetching forward citation ID: 9499657\n",
      "Citation: Yates v. Rexton, Inc., 267 F.3d 793 (2001-10-05)\n",
      "Fetching forward citation ID: 3787146\n",
      "Citation: Smith v. Pacific Bell Telephone Co., 662 F. Supp. 2d 1199 (2009-08-12)\n",
      "Fetching forward citation ID: 4127501\n",
      "Citation: Carlson v. Century Surety Co., 832 F. Supp. 2d 1086 (2011-05-27)\n",
      "Fetching forward citation ID: 9169166\n",
      "Citation: Church Mutual Insurance v. United States Liability Insurance, 347 F. Supp. 2d 880 (2004-04-26)\n",
      "Fetching forward citation ID: 8448529\n",
      "Citation: Boyd v. City of Oakland, 458 F. Supp. 2d 1015 (2006-10-17)\n",
      "Fetching forward citation ID: 5632914\n",
      "Citation: Waimea Bay Associates One, LLC v. Young, 438 F. Supp. 2d 1186 (2006-06-05)\n",
      "Fetching forward citation ID: 3980439\n",
      "Citation: Woods v. Washington, 475 F. App'x 111 (2012-04-04)\n",
      "Fetching forward citation ID: 962587\n",
      "Citation: Lucas v. Citizens Communications Co., 409 F. Supp. 2d 1206 (2005-11-15)\n",
      "Fetching forward citation ID: 714140\n",
      "Citation: Snodgrass v. Lanphere Enterprises, Inc., 62 F. App'x 148 (2003-04-02)\n",
      "Fetching forward citation ID: 3556636\n",
      "Citation: Surrell v. California Water Service Co., 518 F.3d 1097 (2008-03-11)\n",
      "Fetching forward citation ID: 9485733\n",
      "Citation: Patelco Credit Union v. Sahni, 262 F.3d 897 (2001-08-27)\n",
      "Fetching forward citation ID: 3250597\n",
      "Citation: Kupau v. United States Department of Labor, 597 F. Supp. 2d 1113 (2009-02-05)\n",
      "Fetching forward citation ID: 11630889\n",
      "Citation: Ekeh v. Hartford Fire Insurance, 39 F. Supp. 2d 1216 (1999-01-29)\n",
      "Fetching forward citation ID: 8955178\n",
      "Citation: Diaz v. Federal Express Corp., 373 F. Supp. 2d 1034 (2005-06-21)\n",
      "Fetching forward citation ID: 9254063\n",
      "Citation: Farmer ex rel. Hansen v. Allstate Insurance, 311 F. Supp. 2d 884 (2004-02-05)\n",
      "Fetching forward citation ID: 9494704\n",
      "Citation: Everett Associates, Inc. v. Transcontinental Insurance, 159 F. Supp. 2d 1196 (2001-08-28)\n",
      "Fetching forward citation ID: 4327220\n",
      "Citation: Oliver v. Wong, 158 F. Supp. 3d 1036 (2016-01-28)\n",
      "Fetching forward citation ID: 4309816\n",
      "Citation: Ronald A. Katz Technology Licensing, L.P. v. Fifth Third Corp., 882 F. Supp. 2d 1123 (2010-05-14)\n",
      "Fetching forward citation ID: 3863999\n",
      "Citation: Sancho v. U.S. Department of Energy, 578 F. Supp. 2d 1258 (2008-09-26)\n",
      "Fetching forward citation ID: 670658\n",
      "Citation: Manus v. Ranger Insurance, 142 F. App'x 280 (2005-07-05)\n",
      "Fetching forward citation ID: 3899972\n",
      "Citation: Keystone Fruit Marketing, Inc. v. Brownfield, 318 F. App'x 459 (2008-09-02)\n",
      "Fetching forward citation ID: 4252748\n",
      "Citation: Deonarine v. Leonhart, 328 F. App'x 572 (2009-07-08)\n",
      "Fetching forward citation ID: 3605200\n",
      "Citation: United States v. Cowan, 535 F. Supp. 2d 1135 (2008-01-04)\n",
      "Fetching forward citation ID: 4078034\n",
      "Citation: Maxum Indemnity Co. v. Drive West Insurance Services, 630 F. App'x 599 (2015-11-18)\n",
      "Fetching forward citation ID: 4131801\n",
      "Citation: State Farm Fire & Casualty Co. v. Willison, 833 F. Supp. 2d 1200 (2011-06-28)\n",
      "Fetching forward citation ID: 5924826\n",
      "Citation: Carlson v. Century Surety Co., 606 F. App'x 882 (2015-03-31)\n",
      "Fetching forward citation ID: 4345435\n",
      "Citation: Hanover Insurance v. Anova Food, LLC, 173 F. Supp. 3d 1008 (2016-03-24)\n",
      "Fetching forward citation ID: 2586844\n",
      "Citation: Express, LLC v. Fetish Group, Inc., 464 F. Supp. 2d 965 (2006-09-05)\n",
      "Fetching forward citation ID: 3993055\n",
      "Citation: Ghilotti Bros. v. American Safety Indemnity Co., 493 F. App'x 860 (2012-08-30)\n",
      "Fetching forward citation ID: 1437152\n",
      "Citation: Palo Alto Town & Country Village, Inc. v. Deutsche Lufthansa A.G., 91 F. App'x 550 (2004-02-25)\n",
      "Fetching forward citation ID: 3831904\n",
      "Citation: Jackson v. Foodland Super Market, Ltd., 958 F. Supp. 2d 1133 (2013-07-25)\n",
      "Fetching forward citation ID: 3682404\n",
      "Citation: Pengilly Masonry, Inc. v. Aspen Insurance UK Ltd., 674 F. Supp. 2d 1150 (2009-11-24)\n",
      "Fetching forward citation ID: 4178021\n",
      "Citation: Davis v. Four Seasons Hotel Ltd., 810 F. Supp. 2d 1145 (2011-08-26)\n",
      "Fetching forward citation ID: 2164199\n",
      "Citation: McGinest v. GTE Service Corp., 360 F.3d 1103 (2004-03-11)\n",
      "Fetching forward citation ID: 12277739\n",
      "Citation: Teleflex Medical Inc. v. National Union Fire Insurance Co. of Pittsburgh, 851 F.3d 976 (2017-03-21)\n",
      "Fetching forward citation ID: 11100140\n",
      "Citation: Everett Associates, Inc. v. Transcontinental Insurance, 141 F. Supp. 2d 989 (2001-03-07)\n",
      "Fetching forward citation ID: 4041839\n",
      "Citation: United States v. Vacante, 717 F. Supp. 2d 992 (2010-05-20)\n",
      "Fetching forward citation ID: 5608310\n",
      "Citation: Dumas v. New United Motor Manufacturing, Inc., 305 F. App'x 445 (2008-12-29)\n",
      "Fetching forward citation ID: 4321798\n",
      "Citation: Burlington Insurance v. JC Instride, Inc., 30 F. Supp. 3d 587 (2014-07-07)\n",
      "Fetching forward citation ID: 3632135\n",
      "Citation: Ace American Insurance v. Freeport Welding & Fabricating, Inc., 699 F.3d 832 (2012-10-19)\n",
      "Fetching forward citation ID: 8197640\n",
      "Citation: Federal Insurance Co. v. Samsung Electronics America, 268 S.W.3d 506 (2008-08-29)\n",
      "Fetching forward citation ID: 12531210\n",
      "Citation: Waste Mgmt., Inc. v. Aig Specialty Ins. Co., 377 F. Supp. 3d 700 (2019-03-28)\n",
      "Fetching forward citation ID: 6874637\n",
      "Citation: Dallas National Insurance Co. v. Calitex Corp., 458 S.W.3d 210 (2015-03-03)\n",
      "Fetching forward citation ID: 7321616\n",
      "Citation: Accufleet, Inc. v. Hartford Fire Insurance Co., 322 S.W.3d 264 (2009-09-17)\n",
      "Fetching forward citation ID: 3724308\n",
      "Citation: National Casualty Co. v. Western World Insurance, 669 F.3d 608 (2012-02-03)\n",
      "Fetching forward citation ID: 12532245\n",
      "Citation: U.S. Env't, L.P. v. Am. Int'l Specialty Lines Ins. Co., 388 F. Supp. 3d 807 (2017-07-07)\n",
      "Fetching forward citation ID: 4174359\n",
      "Citation: Liberty Surplus Insurance v. Allied Waste Systems, Inc., 758 F. Supp. 2d 414 (2010-12-20)\n",
      "Fetching forward citation ID: 5650968\n",
      "Citation: Evanston Insurance v. Legacy of Life, Inc., 645 F.3d 739 (2011-06-30)\n",
      "Fetching forward citation ID: 12656672\n",
      "Citation: Farmers Tex. Cnty. Mut. Ins. Co. v. Zuniga, 548 S.W.3d 646 (2017-11-15)\n",
      "Fetching forward citation ID: 12177461\n",
      "Citation: Markel American Insurance Co. v. Verbeek, 561 B.R. 305 (2016-09-27)\n",
      "Fetching forward citation ID: 4048965\n",
      "Citation: Century Surety Co. v. Hardscape Construction Specialties, Inc., 578 F.3d 262 (2009-08-07)\n",
      "Fetching forward citation ID: 5738572\n",
      "Citation: Basic Energy Services, LP v. Great Northern Insurance, 347 F. App'x 83 (2009-09-29)\n",
      "Fetching forward citation ID: 4022861\n",
      "Citation: Building Specialties, Inc. v. Liberty Mutual Fire Insurance, 712 F. Supp. 2d 628 (2010-05-17)\n",
      "Fetching forward citation ID: 4120143\n",
      "Citation: America's Recommended Mailers Inc. v. Maryland Casualty Co., 339 F. App'x 467 (2009-08-04)\n",
      "Fetching forward citation ID: 4290135\n",
      "Citation: Castle Point National Insurance v. Lalo, 642 F. App'x 329 (2016-03-17)\n",
      "Fetching forward citation ID: 7320163\n",
      "Citation: Weingarten Realty Management Co. v. Liberty Mutual Fire Insurance Co., 343 S.W.3d 859 (2011-05-26)\n",
      "Fetching forward citation ID: 3592298\n",
      "Citation: Pendergest-Holt v. Certain Underwriters at Lloyd's of London, 681 F. Supp. 2d 816 (2010-01-26)\n",
      "Fetching forward citation ID: 12128364\n",
      "Citation: Federal Insurance Co. v. Northfield Insurance Co., 837 F.3d 548 (2016-09-16)\n",
      "Fetching forward citation ID: 12271224\n",
      "Citation: Klein v. Federal Insurance Co., 220 F. Supp. 3d 747 (2016-12-02)\n",
      "Fetching forward citation ID: 7093883\n",
      "Citation: Burlington Northern & Santa Fe Railway Co. v. National Union Fire Insurance Co. of Pittsburgh, 394 S.W.3d 228 (2012-08-29)\n",
      "Fetching forward citation ID: 12273280\n",
      "Citation: Colony Insurance Co. v. Custom AG Commodities, LLC, 272 F. Supp. 3d 948 (2017-07-10)\n",
      "Fetching forward citation ID: 12400258\n",
      "Citation: Colony National Insurance Co. v. United Fire & Casualty Co., 677 F. App'x 941 (2017-01-31)\n",
      "Fetching forward citation ID: 12139654\n",
      "Citation: Markel American Insurance Co. v. Verbeek, 657 F. App'x 305 (2016-09-27)\n",
      "Fetching forward citation ID: 4260999\n",
      "Citation: American Southern Insurance v. Buckley, 748 F. Supp. 2d 610 (2010-09-28)\n",
      "Fetching forward citation ID: 4079752\n",
      "Citation: Atlantic Casualty Insurance v. Gonzalez, 402 F. App'x 953 (2010-11-24)\n",
      "Fetching forward citation ID: 7316102\n",
      "Citation: Dallas National Insurance Co. v. Sabic Americas, Inc., 355 S.W.3d 111 (2011-03-10)\n",
      "Fetching forward citation ID: 3952779\n",
      "Citation: Associated Automotive Inc. v. Acceptance Indemnity Insurance, 705 F. Supp. 2d 714 (2010-03-31)\n",
      "Fetching forward citation ID: 3721358\n",
      "Citation: City of College Station v. Star Insurance, 735 F.3d 332 (2013-11-14)\n",
      "Fetching forward citation ID: 7299734\n",
      "Citation: D.R. Horton-Texas Ltd. v. Markel International Insurance Co., 300 S.W.3d 740 (2009-12-11)\n",
      "Fetching forward citation ID: 4274328\n",
      "Citation: Test Masters Educational Services, Inc. v. State Farm Lloyds, 791 F.3d 561 (2015-06-29)\n",
      "Fetching forward citation ID: 12277400\n",
      "Citation: Aldous v. Darwin National Assurance Co., 851 F.3d 473 (2017-03-16)\n",
      "Fetching forward citation ID: 12518552\n",
      "Citation: Lyda Swinerton Builders, Inc. v. Okla. Sur. Co., 903 F.3d 435 (2018-08-29)\n",
      "Fetching forward citation ID: 5754526\n",
      "Citation: Wilshire Insurance v. RJT Construction, LLC, 581 F.3d 222 (2009-08-26)\n",
      "Fetching forward citation ID: 12526778\n",
      "Citation: Everest Nat'l Ins. Co. v. Gessner Eng'g, LLC, 325 F. Supp. 3d 760 (2018-07-10)\n",
      "Fetching forward citation ID: 12522692\n",
      "Citation: CBX Res., LLC v. ACE Am. Ins. Co., 282 F. Supp. 3d 948 (2017-10-16)\n",
      "Fetching forward citation ID: 12531401\n",
      "Citation: Oceans Healthcare, L. L.C. v. Ill. Union Ins. Co., 379 F. Supp. 3d 554 (2019-03-30)\n",
      "Fetching forward citation ID: 7323338\n",
      "Citation: Ustanik v. Nortex Foundation Designs, Inc., 320 S.W.3d 409 (2010-06-16)\n",
      "Fetching forward citation ID: 5688011\n",
      "Citation: Trinity Universal Insurance v. Employers Mutual Casualty Co., 592 F.3d 687 (2010-01-04)\n",
      "Fetching forward citation ID: 12532435\n",
      "Citation: Mt. Hawley Ins. Co. v. Slay Eng'g, 390 F. Supp. 3d 794 (2019-06-13)\n",
      "Fetching forward citation ID: 7318241\n",
      "Citation: Geico General Insurance Co. v. Austin Power Inc., 357 S.W.3d 821 (2012-01-05)\n",
      "Fetching forward citation ID: 12177633\n",
      "Citation: Seger v. Yorkshire Insurance Co., 503 S.W.3d 388 (2016-06-17)\n",
      "Fetching forward citation ID: 7314661\n",
      "Citation: Evanston Insurance Co. v. Legacy of Life, Inc., 370 S.W.3d 377 (2012-06-29)\n",
      "Fetching forward citation ID: 12275432\n",
      "Citation: Laney Chiropractic & Sports Therapy, P.A. v. Nationwide Mutual Insurance Co., 866 F.3d 254 (2017-07-28)\n",
      "Fetching forward citation ID: 12522755\n",
      "Citation: Hallmark Cnty. Mut. Ins. Co. v. ACE Am. Ins. Co., 283 F. Supp. 3d 559 (2017-09-28)\n",
      "Fetching forward citation ID: 4020499\n",
      "Citation: National Fire Insurance v. Radiology Associates, LLP, 694 F. Supp. 2d 658 (2010-03-03)\n",
      "Fetching forward citation ID: 4042011\n",
      "Citation: June v. Union Carbide Corp., 577 F.3d 1234 (2009-08-21)\n",
      "Fetching forward citation ID: 4115232\n",
      "Citation: BJB Construction LLC v. Atlantic Casualty Insurance, 338 F. App'x 382 (2009-07-13)\n",
      "Fetching forward citation ID: 4358945\n",
      "Citation: Hudson Specialty Insurance v. Bland, 101 F. Supp. 3d 661 (2015-04-22)\n",
      "Fetching forward citation ID: 5738278\n",
      "Citation: Colony National Insurance v. Unique Industrial Product Co., 487 F. App'x 888 (2012-08-24)\n",
      "Fetching forward citation ID: 4261161\n",
      "Citation: East Rio Hondo Water Supply Corp. v. American Alternative Insurance, 748 F. Supp. 2d 636 (2010-08-30)\n",
      "Fetching forward citation ID: 7263030\n",
      "Citation: Ewing Construction Co. v. Amerisure Insurance Co., 420 S.W.3d 30 (2014-01-17)\n",
      "Fetching forward citation ID: 4202302\n",
      "Citation: Westport Insurance v. Cotten Schmidt, LLP, 605 F. Supp. 2d 796 (2009-03-18)\n",
      "Fetching forward citation ID: 6768964\n",
      "Citation: McGinnes Industrial Maintenance Corp. v. Phoenix Insurance Co., 477 S.W.3d 786 (2015-06-26)\n",
      "Fetching forward citation ID: 4333384\n",
      "Citation: Companion Property & Casualty Insurance v. Opheim, 92 F. Supp. 3d 539 (2015-02-20)\n",
      "Fetching forward citation ID: 6050134\n",
      "Citation: Colony Insurance v. Peachtree Construction, Ltd., 647 F.3d 248 (2011-07-19)\n",
      "Fetching forward citation ID: 6053719\n",
      "Citation: VRV Development L.P. v. Mid-Continent Casualty Co., 630 F.3d 451 (2011-01-07)\n",
      "Fetching forward citation ID: 12274518\n",
      "Citation: Landing Council of Co-Owners v. Federal Insurance Co., 247 F. Supp. 3d 802 (2017-03-23)\n",
      "Fetching forward citation ID: 12530520\n",
      "Citation: Centauri Specialty Ins. Co. v. Hansen, 369 F. Supp. 3d 796 (2018-10-09)\n",
      "Fetching forward citation ID: 3485024\n",
      "Citation: Mary Kay Holding Corp. v. Federal Insurance, 309 F. App'x 843 (2009-02-06)\n",
      "Fetching forward citation ID: 3860833\n",
      "Citation: Gilbane Building Co. v. Admiral Insurance, 664 F.3d 589 (2011-12-12)\n",
      "Fetching forward citation ID: 3567969\n",
      "Citation: Shore Chan Bragalone Depumpo LLP v. Greenwich Insurance, 856 F. Supp. 2d 891 (2012-04-11)\n",
      "Fetching forward citation ID: 7319399\n",
      "Citation: In re Petroleum Wholesale Litigation, 339 S.W.3d 405 (2009-02-10)\n",
      "Fetching forward citation ID: 7092077\n",
      "Citation: Mid-Continent Casualty Co. v. Krolczyk, 408 S.W.3d 896 (2013-08-15)\n",
      "Fetching forward citation ID: 7091583\n",
      "Citation: Lennar Corp. v. Markel American Insurance Co., 413 S.W.3d 750 (2013-08-23)\n",
      "Fetching forward citation ID: 8158083\n",
      "Citation: KLN Steel Products Co. v. CNA Insurance Companies, 278 S.W.3d 429 (2008-12-31)\n",
      "Fetching forward citation ID: 7320454\n",
      "Citation: Burlington Northern & Santa Fe Railway Co. v. National Union Fire Insurance Co., 334 S.W.3d 217 (2011-02-25)\n",
      "Fetching forward citation ID: 12131720\n",
      "Citation: Lexington Insurance Co. v. Ace American Insurance Co., 192 F. Supp. 3d 712 (2016-06-14)\n",
      "Fetching forward citation ID: 4140937\n",
      "Citation: CSA Nutraceuticals GP, LLC v. Chubb Custom Insurance, 505 F. App'x 298 (2013-01-02)\n",
      "Fetching forward citation ID: 6856586\n",
      "Citation: RSUI Indemnity Co. v. Lynd Co., 466 S.W.3d 113 (2015-05-08)\n",
      "Fetching forward citation ID: 12523402\n",
      "Citation: Allied Prop. & Cas. Ins. Co. v. Clean N Go, LLC, 290 F. Supp. 3d 619 (2017-11-20)\n",
      "Fetching forward citation ID: 7316364\n",
      "Citation: Lexington Insurance Co. v. National Oilwell Nov, Inc., 355 S.W.3d 205 (2011-05-12)\n",
      "Fetching forward citation ID: 4198298\n",
      "Citation: Ewing Construction Co. v. Amerisure Insurance, 814 F. Supp. 2d 739 (2011-04-28)\n",
      "Fetching forward citation ID: 4347805\n",
      "Citation: First Community Bancshares v. St. Paul Mercury Insurance, 593 F. App'x 286 (2014-11-14)\n",
      "Fetching forward citation ID: 4064161\n",
      "Citation: Blanton v. Continental Insurance, 565 F. App'x 330 (2014-04-29)\n",
      "Fetching forward citation ID: 5741476\n",
      "Citation: Mid-Continent Casualty Co. v. Academy Development Inc., 476 F. App'x 316 (2012-04-20)\n",
      "Fetching forward citation ID: 12527531\n",
      "Citation: Mt. Hawley Ins. Co. v. Slay Eng'g, Tex. Multi-Chem, & Huser Constr. Co., 335 F. Supp. 3d 874 (2018-08-15)\n",
      "Fetching forward citation ID: 12512687\n",
      "Citation: Tex. Ass'n of Pub. Sch. Prop. & Liab. Fund v. White Deer Indep. Sch. Dist. (In re Tex. Ass'n of Pub. Sch. Prop. & Liab. Fund), 598 B.R. 570 (2019-03-01)\n",
      "Fetching forward citation ID: 7317425\n",
      "Citation: Reeves County v. Houston Casualty Co., 356 S.W.3d 664 (2011-09-14)\n",
      "Fetching forward citation ID: 7320500\n",
      "Citation: Burlington Northern & Santa Fe Railway Co. v. National Union Fire Insurance Co., 334 S.W.3d 235 (2009-12-09)\n",
      "Fetching forward citation ID: 4178874\n",
      "Citation: Star-Tex Resources, L.L.C. v. Granite State Insurance, 553 F. App'x 366 (2014-01-08)\n",
      "Fetching forward citation ID: 7320000\n",
      "Citation: Thos. S. Byrne, Ltd. v. Trinity Universal Insurance Co., 334 S.W.3d 29 (2008-12-04)\n",
      "Fetching forward citation ID: 12381633\n",
      "Citation: Wausau Underwriters Insurance Co. v. Wedel, 518 S.W.3d 615 (2017-04-26)\n",
      "Fetching forward citation ID: 4275140\n",
      "Citation: Shanze Enterprises, Inc. v. American Casualty Co. of Reading, PA, 150 F. Supp. 3d 771 (2015-12-15)\n",
      "Fetching forward citation ID: 3761095\n",
      "Citation: Pennzoil-Quaker State Co. v. American International Specialty Lines Insurance, 653 F. Supp. 2d 690 (2009-09-04)\n",
      "Fetching forward citation ID: 4305354\n",
      "Citation: Evanston Insurance v. Gene by Gene, Ltd., 155 F. Supp. 3d 706 (2016-01-06)\n",
      "Fetching forward citation ID: 4172748\n",
      "Citation: American Western Home Insurance v. Israel, 747 F. Supp. 2d 785 (2010-10-01)\n",
      "Fetching forward citation ID: 8197585\n",
      "Citation: Trinity Universal Insurance Co. v. Cellular One Group, 268 S.W.3d 505 (2008-08-29)\n",
      "Fetching forward citation ID: 12265948\n",
      "Citation: Bain Enterprises LLC v. Mountain States Mutual Casualty Co., 267 F. Supp. 3d 796 (2016-08-01)\n",
      "Fetching forward citation ID: 4334045\n",
      "Citation: Charla G. Aldous, P.C. v. Darwin National Assurance Co., 92 F. Supp. 3d 555 (2015-03-09)\n",
      "Fetching forward citation ID: 7130084\n",
      "Citation: Great American Lloyds Insurance Co. v. Audubon Insurance Co., 377 S.W.3d 802 (2012-08-06)\n",
      "Fetching forward citation ID: 12265446\n",
      "Citation: Lyda Swinerton Builders, Inc. v. Oklahoma Surety Co., 877 F.3d 600 (2017-12-12)\n",
      "Fetching forward citation ID: 12518897\n",
      "Citation: John M. O'Quinn, P.C. v. Lexington Ins. Co., 906 F.3d 363 (2018-10-18)\n",
      "Fetching forward citation ID: 6785532\n",
      "Citation: Allstate County Mutual Insurance Co. v. Wootton, 494 S.W.3d 825 (2016-03-29)\n",
      "Fetching forward citation ID: 4163581\n",
      "Citation: Fireman's Fund Insurance v. Sneed's Shipbuilding, Inc., 803 F. Supp. 2d 530 (2011-03-22)\n",
      "Fetching forward citation ID: 5923839\n",
      "Citation: Hartford Casualty Insurance v. DP Engineering, L.L.C., 827 F.3d 423 (2016-06-29)\n",
      "138\n"
     ]
    }
   ],
   "source": [
    "cap_cases = []\n",
    "\n",
    "for citation in cap_cites:\n",
    "    try:\n",
    "        cite = cap_client.read_cite(citation)\n",
    "        forward_decisions = cap_client.read_forward_citations(cite.id)\n",
    "        cap_cases.extend(forward_decisions)\n",
    "    except IndexError as e:\n",
    "        print(f\"Error: {e}\")\n",
    "        pass\n",
    "    \n",
    "print(len(cap_cases))"
   ]
  },
  {
   "cell_type": "code",
   "execution_count": 14,
   "metadata": {},
   "outputs": [
    {
     "data": {
      "text/plain": [
       "174"
      ]
     },
     "execution_count": 14,
     "metadata": {},
     "output_type": "execute_result"
    }
   ],
   "source": [
    "from itertools import chain\n",
    "\n",
    "case_list = list(chain(decisions_list, cl_cases, cap_cases))\n",
    "len(case_list)"
   ]
  },
  {
   "cell_type": "code",
   "execution_count": 15,
   "metadata": {},
   "outputs": [
    {
     "data": {
      "text/plain": [
       "{'decision_date': '2006-10-25',\n",
       " 'name': 'KVAERNER METALS DIVISION OF KVAERNER U.S., INC. f/k/a Kvaerner Davy Division of Kvaerner U.S. Inc. f/k/a Davy International, A Division of Trafalgar House, Inc. and Kvaerner Songer, Inc., f/k/a Kvaerner Davy Songer, Inc. f/k/a Davy Songer, Inc., Together A Joint Venture; Kvaerner Metals Division of Kvaerner U.S., Inc. f/k/a Kvaerner Davy Division of Kvaerner U.S. Inc f/k/a Davy International, A Division of Trafalgar House, Inc., Kvaerner Songer, Inc., f/k/a Kvaerner Davy Songer, Inc. f/k/a Davy Songer, Inc.; Kvaerner Public Liability Company f/k/a Trafalgar House Public Liability Company; and Kvaerner ASA v. COMMERCIAL UNION INSURANCE COMPANY, Lexington Insurance Company, National Union Fire Insurance Company of Pittsburgh, PA, Bethlehem Steel Corporation, Thyssen Still Otto Anlagentechnick GMBH, Successor-in-interest to Still Otto, GMBH. Appeal of National Union Fire Insurance Company Of Pittsburgh, PA.',\n",
       " 'name_abbreviation': 'Kvaerner Metals Division of Kvaerner U.S., Inc. v. Commercial Union Insurance',\n",
       " 'docket_num': None,\n",
       " 'citations': [{'cite': '589 Pa. 317',\n",
       "   'reporter': None,\n",
       "   'category': 'official',\n",
       "   'case_ids': []},\n",
       "  {'cite': '908 A.2d 888',\n",
       "   'reporter': None,\n",
       "   'category': 'parallel',\n",
       "   'case_ids': []}],\n",
       " 'parties': [],\n",
       " 'attorneys': None,\n",
       " 'first_page': 317,\n",
       " 'last_page': 336,\n",
       " 'court': {'id': 8832,\n",
       "  'name': 'Supreme Court of Pennsylvania',\n",
       "  'url': 'https://api.case.law/v1/courts/pa/',\n",
       "  'whitelisted': None,\n",
       "  'name_abbreviation': 'Pa.'},\n",
       " 'casebody': {'data': '<section class=\"casebody\" data-case-id=\"32044088383518_0031\" data-firstpage=\"317\" data-lastpage=\"336\">\\n  <section class=\"head-matter\">\\n    <p class=\"citation\" id=\"b493-5\" data-blocks=\\'[[\"BL_493.6\",493,[712,798,207,29]]]\\'>908 A.2d 888</p>\\n    <h4 class=\"parties\" id=\"b493-6\" data-blocks=\\'[[\"BL_493.7\",493,[239,861,1152,839]],[\"BL_493.8\",493,[443,1750,740,83]]]\\'>KVAERNER METALS DIVISION OF KVAERNER U.S., INC. f/k/a Kvaerner Davy Division of Kvaerner U.S. Inc. f/k/a Davy International, A Division of Trafalgar House, Inc. and Kvaerner Songer, Inc., f/k/a Kvaerner Davy Songer, Inc. f/k/a Davy Songer, Inc., Together A Joint Venture; Kvaerner Metals Division of Kvaerner U.S., Inc. f/k/a Kvaerner Davy Division of Kvaerner U.S. Inc f/k/a Davy International, A Division of Trafalgar House, Inc., Kvaerner Songer, Inc., f/k/a Kvaerner Davy Songer, Inc. f/k/a Davy Songer, Inc.; Kvaerner Public Liability Company f/k/a Trafalgar House Public Liability Company; and Kvaerner ASA v. COMMERCIAL UNION INSURANCE COMPANY, Lexington Insurance Company, National Union Fire Insurance Company of Pittsburgh, PA, Bethlehem Steel Corporation, Thyssen Still Otto Anlagentechnick GMBH, Successor-in-interest to Still Otto, GMBH. Appeal of National Union Fire Insurance Company Of Pittsburgh, PA.</h4>\\n    <p class=\"court\" id=\"b493-10\" data-blocks=\\'[[\"BL_493.9\",493,[542,1874,543,37]]]\\'>Supreme Court of Pennsylvania.</p>\\n    <p class=\"otherdate\" id=\"b493-11\" data-blocks=\\'[[\"BL_493.10\",493,[631,1951,362,36]]]\\'>Argued Oct. 19, 2004.</p>\\n    <p class=\"decisiondate\" id=\"b493-12\" data-blocks=\\'[[\"BL_493.11\",493,[627,2015,372,35]]]\\'>Decided Oct. 25, 2006.</p>\\n    <p class=\"attorneys\" id=\"b496-18\" data-blocks=\\'[[\"BL_496.18\",496,[277,2288,1150,95]],[\"BL_497.1\",497,[243,327,1149,99]]]\\'>\\n      <a id=\"p320\" href=\"#p320\" data-label=\"320\" data-citation-index=\"1\" class=\"page-label\">*320</a>Michael J. Cawley, Deborah Malamut Minkoff, Gaele M. Barthold, Philadelphia, Jay M. Levin, Paoli, Leanne Alsen <a id=\"p321\" href=\"#p321\" data-label=\"321\" data-citation-index=\"1\" class=\"page-label\">*321</a>Waldie, for Nat. Union Fire Ins. Co. of Pittsburgh, PA, appellant.</p>\\n    <p class=\"attorneys\" id=\"b497-4\" data-blocks=\\'[[\"BL_497.5\",497,[245,452,1148,99]]]\\'>Michael Scott Olsan, Philadelphia, for Complex Ins. Claims Litigation Ass’n, appellant amicus curiae.</p>\\n    <p class=\"attorneys\" id=\"b497-5\" data-blocks=\\'[[\"BL_497.6\",497,[246,577,1149,152]]]\\'>Joseph Leonard Luciana, III, Kenneth John Lund; Robert L. Byer, Philadelphia; John R. Dingess; Philip Marsh Hof, Eason, for Kvaerner Metals Div. of Kvaerner et al., appellees.</p>\\n    <p class=\"attorneys\" id=\"b497-6\" data-blocks=\\'[[\"BL_497.7\",497,[246,757,1147,99]]]\\'>John Norig Ellison, Philadelphia, for United Policyholders, appellee amicus curiae.</p>\\n    <p class=\"attorneys\" id=\"b497-7\" data-blocks=\\'[[\"BL_497.8\",497,[243,882,1150,97]]]\\'>James G. McLean, Pittsburgh, for Mechanical Contractors Ass’n of Western PA, Inc., appellee amicus curiae.</p>\\n    <p class=\"judges\" id=\"b497-8\" data-blocks=\\'[[\"BL_497.9\",497,[246,1031,1086,95]]]\\'>Before: CAPPY, C.J., CASTILLE, NIGRO, NEWMAN, SAYLOR, EAKIN and BAER, JJ.</p>\\n  </section>\\n  <article class=\"opinion\" data-type=\"majority\">\\n    <p id=\"b497-9\" data-blocks=\\'[[\"BL_497.10\",497,[727,1196,192,33]]]\\'>\\n      <em>OPINION</em>\\n    </p>\\n    <p class=\"author\" id=\"b497-10\" data-blocks=\\'[[\"BL_497.11\",497,[288,1278,400,33]]]\\'>Chief Justice CAPPY.</p>\\n    <p id=\"b497-11\" data-blocks=\\'[[\"BL_497.12\",497,[243,1347,1153,689]]]\\'>In this insurance coverage dispute, Appellant National Union Fire Insurance Company of Pittsburgh, Pennsylvania (“National Union”) appeals from the Superior Court’s April 16, 2003 order, which reversed the trial court’s order granting National Union’s motion for summary judgment and remanded the case for additional proceedings to determine whether National Union was responsible for defending and indemnifying Appellee Kvaerner Metals Division of U.S., Inc., and other related companies (collectively, “Kvaerner”) in an action brought by Bethlehem Steel Corporation (“Bethlehem”). Because we find that National Union has no duty under its policies to defend or indemnify Kvaerner in this case, the order of the Superior Court is reversed.</p>\\n    <p id=\"b497-12\" data-blocks=\\'[[\"BL_497.13\",497,[242,2066,1153,313]],[\"BL_498.1\",498,[259,326,1157,301]]]\\'>In June 1997, Bethlehem brought an action against Kvaerner asserting claims of breach of contract and breach of warranty. In its complaint, Bethlehem alleged that it entered into a contract with Kvaerner (the “Contract”) pursuant to which Kvaerner agreed to design and construct a coke oven battery (the “Battery”) for Bethlehem. According to Bethle<a id=\"p322\" href=\"#p322\" data-label=\"322\" data-citation-index=\"1\" class=\"page-label\">*322</a>hem, under the contract Kvaerner (1) agreed to build the Battery according to certain “plans and specifications that were made a part of the [Contract],” (2) warranted that its materials, equipment, and work would be free from defect, and (3) agreed to repair or replace any defective work or materials.</p>\\n    <p id=\"b498-4\" data-blocks=\\'[[\"BL_498.4\",498,[258,661,1155,579]]]\\'>Bethlehem then contended that based on these facts, Kvaerner breached the above Contract terms because the Battery built by Kvaerner was “damaged” and “did not meet the contract specifications and warranties, or the applicable industry standards for construction ...” Bethlehem further alleged that although it sent Kvaerner a “non-performance list” detailing the Battery’s “damages and breaches,” Kvaerner had failed to remedy the Battery’s problems. Moreover, Bethlehem incorporated by reference the “damages and breaches” listed in the non-performance list, which enumerated numerous problems with the Battery, including the following:</p>\\n    <blockquote id=\"b498-5\" data-blocks=\\'[[\"BL_498.5\",498,[292,1255,1119,1117]],[\"BL_499.1\",499,[287,324,1111,199]]]\\'>(1) “100% of the ovens have cracked paver bricks”; (2) “[s]hifting brickwork has caused maximum deviation of centerlines of flue inspection ports”; (3) “[t]he larry car rails are introducing eccentric loads on the oven walls”; (4) “[d]ue to displacement of oven top brick and appurtenances (e.g. larry car rail chairs) the chairs are not directly above the centerline of the heating walls”; (5) “[t]he non-uniform shifting of brickwork in the oven roof resulted in a tilted configuration of the flue inspection ports”; (6) “[s]heared/open joints are present in the horizontal plane of roof brick and there are open joints in the vertical plane of roof brick,” causing the migration of gas; (7) “[s]ections of seven lintel blocks [have subsided] and the outer blocks of two ovens are completely broken or shattered”; (8) the centerlines of the Battery’s ovens are displaced, causing multiple door jams; (9) there are sheared/open joints between the silica and fireclay in the Battery; (10) the oven walls are not plumb and are distorted, causing them to experience compressive stress orders of a magnitude greater than design; (11) the oven walls are spalling; (12) certain braces deviate from the Contract design specifications; (13) <a id=\"p323\" href=\"#p323\" data-label=\"323\" data-citation-index=\"1\" class=\"page-label\">*323</a>the spring adjustments are inadequate; (14) the tie rod housings are bowed; (15) the buckstays do not comply with the erection tolerances; and (16) water is penetrating the coke side bench.</blockquote>\\n    <p id=\"b499-4\" data-blocks=\\'[[\"BL_499.4\",499,[246,549,1155,574]]]\\'>Bethlehem’s Non-Performance List, attached to May 15, 1997 Letter of Final Notification of Contract Non-Performance (“Non-Performance List”), Exh. 3 to Kvaerner’s Motion for Reconsideration, at 1-14 (incorporated by reference in Bethlehem Complaint, Exh. A to Kvaerner Complaint, at 8-9). As a result of these damages to the Battery, Bethlehem asserted that Kvaerner was liable to it for either “the amount that it will cost to replace the Coke Oven Battery, or the difference in value between the defective Coke Oven Battery that it received and the Coke Oven Battery that [Kvaerner] warranted that it would deliver.” <em>Id. </em>at 10.</p>\\n    <p id=\"b499-5\" data-blocks=\\'[[\"BL_499.5\",499,[247,1153,1158,628]],[\"BL_500.1\",500,[272,326,1151,197]]]\\'>After being served with Bethlehem’s complaint, Kvaerner notified its insurer, National Union, of the suit, seeking defense and indemnity pursuant to two commercial general liability (“CGL”) policies (collectively, the “Policies”). The first policy was a “claims made” policy for the period of September 30, 1995 to September 30, 1996 (the “1996 Policy”) whereas the second policy was an “occurrence” policy for the period of April 1, 1997 to December 31, 1997 (the “1997 Policy”).<a class=\"footnotemark\" href=\"#footnote_1_1\" id=\"ref_footnote_1_1\">1</a> National Union subsequently notified Kvaerner that it was disclaiming “coverage, defense, and indemnity for all allegations contained in [the] complaint” based on its conclusion that Bethlehem’s claims did not fall within the <a id=\"p324\" href=\"#p324\" data-label=\"324\" data-citation-index=\"1\" class=\"page-label\">*324</a>coverage provisions of the Policies. August 29, 1997 Letter from AIG Claim Services, Inc. to National Union, Exh. H of Index of Exhibits in Support of National Union’s Motion for Summary Judgment, at 6.</p>\\n    <p id=\"b500-4\" data-blocks=\\'[[\"BL_500.4\",500,[265,548,1157,882]]]\\'>Due to National Union’s refusal to provide coverage, Kvaerner commenced the instant action in the Court of Common Pleas of Northampton County against National Union, seeking, <em>inter alia, </em>a declaratory judgment that National Union has a duty to defend and indemnify it pursuant to the Policies. National Union responded by filing an answer and a new matter, raising numerous affirmative defenses.<a class=\"footnotemark\" href=\"#footnote_1_2\" id=\"ref_footnote_1_2\">2</a> The parties engaged in discovery and in September 2000 National Union filed a motion for summary judgment, arguing that judgment must be entered in its favor because (1) the Policies only permitted coverage for allegations of “property damage” caused by an “occurrence,” which was defined by the Policies as an accident, and Bethlehem had not alleged that the Battery was damaged by such an occurrence, and (2) even if Bethlehem alleged property damage caused by an occurrence, such damages were excluded under various “business risk/ work product” exclusions in the Policies.</p>\\n    <p id=\"b500-5\" data-blocks=\\'[[\"BL_500.5\",500,[264,1454,1155,408]],[\"BL_501.1\",501,[235,329,1153,1167]]]\\'>Kvaerner filed a brief in opposition to National Union’s motion for summary judgment as well as a cross-motion for summary judgment, asserting that National Union was responsible for defending and indemnifying it under the Policies because the Battery’s damages were caused by an occurrence, which it deemed to be an unintended and unexpected event. According to Kvaerner, the Battery was damaged because of “longitudinal movement of the roof,” which was caused be<a id=\"p325\" href=\"#p325\" data-label=\"325\" data-citation-index=\"1\" class=\"page-label\">*325</a>cause the bricks in the Battery’s roof were “grouted” too early and because of heavy rains that occurred on October 31, 1994. Kvaerner’s Bf. in Opposition to National Union’s Motion for Summary Judgment, at 6, 24. In support of this claim, Kvaerner submitted a report from two experts in which they collectively opined that the damages to the Battery were caused from displacement and movement of the Battery’s roof, which occurred because Kvaerner grouted the bricks earlier than had been scheduled. <em>See </em>Expert Report of Mr. Chuck Beechan and Dr. Clayton Liu, Exh. 8 to Appendix to Kvaerner’s Responses in Opposition to the Motions for Summary Judgment of Commercial Union and National Union and in Support of its Cross-Motion for Summary Judgment. The experts further opined, however, that “the heavy ‘monsoon-type’ rain which occurred on October 31 could have damaged the joints in the roof.” <em>Id. </em>at 3. Kvaerner then explained that because it did not intend or expect the early grouting of the Battery’s bricks or the October 31 rains to cause the movement in the Battery’s roof and thereby damage the Battery, the Battery’s damages were caused by an “accident” for purposes of the Policies. See Kvaerner’s Bf. in Opposition to National Union’s Motion for Summary Judgment, at 23-24.</p>\\n    <p id=\"b501-4\" data-blocks=\\'[[\"BL_501.4\",501,[231,1521,1154,738]]]\\'>Kvaerner further asserted that the Policies included “Completed Operations Coverage,” which, according to Kvaerner, meant that National Union would provide coverage for damages to Kvaerner’s <em>completed </em>work product in certain circumstances, such as where the damages were the result of improper work performed by its subcontractor, Thyssen Still Otto Anlagentecnick (“Thyssen”). According to Kvaerner, it was entitled to coverage under the above provisions because the damages to the Battery occurred after it was completed by Kvaerner and were the result of Thyssen’s decision to permit Kvaerner to grout the bricks on the Battery’s roof earlier than scheduled. Finally, Kvaerner claimed that National Union was not entitled to summary judgment based on the exclusions relied upon by National Union because they were inapplicable.</p>\\n    <p id=\"b501-5\" data-blocks=\\'[[\"BL_501.5\",501,[234,2284,1148,94]],[\"BL_502.1\",502,[277,327,1156,748]]]\\'>On February 9, 2001, the trial court entered an opinion and order granting National Union’s motion for summary judg<a id=\"p326\" href=\"#p326\" data-label=\"326\" data-citation-index=\"1\" class=\"page-label\">*326</a>ment and denying Kvaerner’s cross-motion.<a class=\"footnotemark\" href=\"#footnote_1_3\" id=\"ref_footnote_1_3\">3</a> The trial court initially reviewed the Policies and agreed with National Union that it was only required to provide coverage for property damage caused by an occurrence or accident. The trial court then found, relying largely on the Superior Court’s <em>en banc </em>decision in <em>Redevelopment Auth. of Cambria County v. International Ins. Co., </em><a href=\"https://cite.case.law/pa-super/454/374/\" class=\"citation\" data-index=\"0\" data-cite=\"454 Pa. Super. 374\" data-case-ids=\"772897\">454 Pa.Super. 374</a>, <a href=\"https://cite.case.law/a2d/685/581/\" class=\"citation\" data-index=\"1\" data-cite=\"685 A.2d 581\" data-case-ids=\"7351637,772897\">685 A.2d 581</a> (1996), that because the Policies were only meant to cover “accidental” damages National Union was not required to defend or indemnify an insured for breach of contract claims, presumably because damages resulting from a party’s breach of contract could never be classified as “accidental.”<a class=\"footnotemark\" href=\"#footnote_1_4\" id=\"ref_footnote_1_4\">4</a> With that premise in mind, the trial court examined Bethlehem’s complaint to determine whether it was covered by the Policies.</p>\\n    <p id=\"b502-4\" data-blocks=\\'[[\"BL_502.4\",502,[277,1101,1156,744]],[\"BL_503.1\",503,[228,336,1158,414]]]\\'>After finding that Bethlehem was solely seeking damages for Kvaerner’s breach of the Contract, rather than damages caused by an accident, the trial court concluded that Bethlehem’s Complaint did not trigger coverage under the Policies. <em>See Kvaerner Metals Division of Kvaerner U.S., Inc., et al. v. Commercial Union Ins. Co., et al., </em>Pa. C. Northampton, No. 1998-C-9531, at 11 (Feb. 9, 2001) (“The design specifications are duties imposed on Insured, not by public policy, but by the Contract; therefore, [Bethlehem’s] allegations lie in breach of contract.”). In spite of this conclusion, the trial court went on to consider Kvaerner’s claim that it was entitled to coverage under the “Completed Operations Coverage” provisions in the Policies. While the trial court agreed with Kvaerner that these provisions provided coverage for property damage to an <a id=\"p327\" href=\"#p327\" data-label=\"327\" data-citation-index=\"1\" class=\"page-label\">*327</a>insured’s completed work product when such damage was caused by the insured’s subcontractor, it found that these provisions did not “obviate the [Policies’] requirement ... that the property damage [be caused by an accident].” <em>Id. </em>at 14. Thus, as it had already found that Bethlehem was not seeking accidental damages, the trial court concluded that National Union did not have to defend or indemnify Kvaerner pursuant to the “Completed Operations Coverage” provisions.<a class=\"footnotemark\" href=\"#footnote_1_5\" id=\"ref_footnote_1_5\">5</a>\\n    </p>\\n    <p id=\"b503-4\" data-blocks=\\'[[\"BL_503.4\",503,[227,774,1158,1379]],[\"BL_504.1\",504,[280,333,1154,360]]]\\'>Kvaerner appealed to the Superior Court, which entered an opinion and order on April 16, 2003, reversing the trial court’s order and remanding the case back to that court for further proceedings. <em>See Kvaerner Metals Division of Kvaerner U.S., Inc., et al. v. Commercial Union Ins. Co., et al., </em><a href=\"https://cite.case.law/a2d/825/641/\" class=\"citation\" data-index=\"2\" data-cite=\"825 A.2d 641\" data-case-ids=\"9116652\">825 A.2d 641</a> (Pa.Super.2003). The Superior Court first found that it was unable to agree with the trial court’s conclusion that National Union did not have a duty to defend or indemnify Kvaerner because Bethlehem had not alleged that the Battery’s damages were caused by an accident. While the Superior Court acknowledged that case law from this Court indicated that an insurer’s duty to defend and indemnify was dependant on “whether the third-party’s complaint triggers coverage,” <em>Kvaerner, </em><a href=\"https://cite.case.law/a2d/825/641/\" class=\"citation\" data-index=\"3\" data-cite=\"825 A.2d 641\" data-case-ids=\"9116652\">825 A.2d at 650</a> (emphasis in original) (quoting <em>Mutual Benefit Ins. Co. v. Haver, </em><a href=\"https://cite.case.law/pa/555/534/\" class=\"citation\" data-index=\"4\" data-cite=\"555 Pa. 534\" data-case-ids=\"1701987\">555 Pa. 534</a>, <a href=\"https://cite.case.law/a2d/725/743/\" class=\"citation\" data-index=\"5\" data-cite=\"725 A.2d 743\" data-case-ids=\"11639853,1701987\">725 A.2d 743</a>, 745 (1999)), the court found that it could look outside of Bethlehem’s Complaint in the instant case because there was “no requirement in the [Policies] that a civil complaint be filed to trigger coverage....” <em>Id. </em>at 652 (emphasis in original). Therefore, looking beyond the allegations in Bethlehem’s Complaint to the expert report submitted by Kvaerner with its cross-motion for summary judgment, see, <em>supra </em>pp. 324-25, 908 A.2d at pp. 892-93, the Superior Court observed that the Battery’s damages may have been caused by various events, including the “torrential rains” on October 31, which would have clearly constituted an occurrence under the Policy. <a id=\"p328\" href=\"#p328\" data-label=\"328\" data-citation-index=\"1\" class=\"page-label\">*328</a>\\n      <em>Kvaerner, </em><a href=\"https://cite.case.law/a2d/825/641/\" class=\"citation\" data-index=\"6\" data-cite=\"825 A.2d 641\" data-case-ids=\"9116652\">825 A.2d at 654</a>. In light of this uncertainty, the Superior Court found that there was a genuine issue of material fact regarding the causes of the Battery’s damages and therefore concluded that “summary judgment was improperly entered against Kvaerner on the basis that there had been no ‘occurrence’ as required by the terms of the policy.” <em><a href=\"https://cite.case.law/a2d/825/641/\" class=\"citation\" data-index=\"7\" data-cite=\"825 A.2d 641\" data-case-ids=\"9116652\">Id. </a></em><a href=\"https://cite.case.law/a2d/825/641/\" class=\"citation\" data-index=\"7\" data-cite=\"825 A.2d 641\" data-case-ids=\"9116652\">at 654-55</a>.</p>\\n    <p id=\"b504-4\" data-blocks=\\'[[\"BL_504.4\",504,[277,742,1156,1231]]]\\'>The Superior Court next considered whether National Union was entitled to summary judgment based on the Policies’ “business risk/work product” exclusions, which National Union also relied upon in its summary judgment motion. The Superior Court found that these exclusions may have precluded coverage for the Bethlehem lawsuit if an endorsement had not been added to the 1997 Policy, changing the effect of the exclusions. The court explained that while the “business risk/work product exclusions” generally barred coverage for damages caused by work performed by the insured or the insured’s subcontractor, endorsement 16, which was added to the 1997 Policy in March 1997, altered the exclusions by permitting coverage for property damage caused by the insured’s subcontractor. Given this endorsement, the Superior Court found that it could not conclude as a matter of law that the “business risk/work product” exclusions precluded coverage in the instant case until findings of fact were made regarding the amount of work performed by Kvaerner’s subcontractors and whether any of that work caused the Battery’s damages. Thus, the Superior Court remanded the case to the trial court to make the necessary findings of fact to determine whether any of the Battery’s damages were covered because they were caused by the work of Kvaerner’s subcontractors.</p>\\n    <p id=\"b504-5\" data-blocks=\\'[[\"BL_504.5\",504,[276,2014,1155,367]],[\"BL_505.1\",505,[243,327,1151,309]]]\\'>National Union subsequently filed a petition for allowance of appeal with this Court and we granted allocatur to consider whether the Superior Court erred by, <em>inter alia, </em>(1) looking beyond Bethlehem’s Complaint to find that National Union may have a duty to defend Kvaerner, (2) finding that the Battery may have been damaged by an “occurrence,” and (3) finding that the “business risk/work product” exclusions did <a id=\"p329\" href=\"#p329\" data-label=\"329\" data-citation-index=\"1\" class=\"page-label\">*329</a>not exclude coverage for Bethlehem’s claims.<a class=\"footnotemark\" href=\"#footnote_1_6\" id=\"ref_footnote_1_6\">6</a> We now conclude that the Superior Court did in fact err in looking beyond the allegations raised in Bethlehem’s complaint to determine whether National Union had a duty to defend Kvaerner and in finding that the Battery’s damages may have been the result of an “occurrence.”</p>\\n    <p id=\"b505-4\" data-blocks=\\'[[\"BL_505.4\",505,[242,704,1155,846]]]\\'>In analyzing the order of the trial court that granted summary judgment to National Union, our scope of review is plenary. <em>Mountain Village v. Board of Supervisors, </em><a href=\"https://cite.case.law/pa/582/605/\" class=\"citation\" data-index=\"8\" data-cite=\"582 Pa. 605\" data-case-ids=\"650306\">582 Pa. 605</a>, <a href=\"https://cite.case.law/a2d/874/1/\" class=\"citation\" data-index=\"9\" data-cite=\"874 A.2d 1\" data-case-ids=\"650306,8950785\">874 A.2d 1</a>, 5 (2005). The standard of review is clear; we will reverse the order of the trial court only when the court committed an error of law or abused its discretion. <em>Mountain Village, </em><a href=\"https://cite.case.law/a2d/874/1/\" class=\"citation\" data-index=\"10\" data-cite=\"874 A.2d 1\" data-case-ids=\"650306,8950785\">874 A.2d at 5</a>. Summary judgment is appropriate only when the record clearly shows that there is no genuine issue of material fact and that the moving party is entitled to judgment as a matter of law. <em><a href=\"https://cite.case.law/a2d/874/1/\" class=\"citation\" data-index=\"11\" data-cite=\"874 A.2d 1\" data-case-ids=\"650306,8950785\">Id.</a> </em>The reviewing court must view the record in the light most favorable to the nonmoving party and resolve all doubts as to the existence of a genuine issue of material fact against the moving party. <em><a href=\"https://cite.case.law/a2d/874/1/\" class=\"citation\" data-index=\"12\" data-cite=\"874 A.2d 1\" data-case-ids=\"650306,8950785\">Id. </a></em><a href=\"https://cite.case.law/a2d/874/1/\" class=\"citation\" data-index=\"12\" data-cite=\"874 A.2d 1\" data-case-ids=\"650306,8950785\">at 5-6</a>. Only when the facts are so clear that reasonable minds could not differ can a trial court properly enter summary judgment. <em><a href=\"https://cite.case.law/a2d/874/1/\" class=\"citation\" data-index=\"13\" data-cite=\"874 A.2d 1\" data-case-ids=\"650306,8950785\">Id. </a></em><a href=\"https://cite.case.law/a2d/874/1/\" class=\"citation\" data-index=\"13\" data-cite=\"874 A.2d 1\" data-case-ids=\"650306,8950785\">at 6</a>.</p>\\n    <p id=\"b505-5\" data-blocks=\\'[[\"BL_505.5\",505,[245,1617,1150,97]],[\"BL_506.1\",506,[263,326,1151,99]]]\\'>It is well established that an insurer’s duties under an insurance policy are triggered by the language of the <a id=\"p330\" href=\"#p330\" data-label=\"330\" data-citation-index=\"1\" class=\"page-label\">*330</a>complaint against the insured.<a class=\"footnotemark\" href=\"#footnote_1_7\" id=\"ref_footnote_1_7\">7</a> In <em>Mutual Benefit Insurance Co. v. Haver, </em><a href=\"https://cite.case.law/pa/555/534/\" class=\"citation\" data-index=\"14\" data-cite=\"555 Pa. 534\" data-case-ids=\"1701987\">555 Pa. 534</a>, <a href=\"https://cite.case.law/a2d/725/743/\" class=\"citation\" data-index=\"15\" data-cite=\"725 A.2d 743\" data-case-ids=\"11639853,1701987\">725 A.2d 743</a>, 745 (1999), we stated;</p>\\n    <blockquote id=\"AMC\" data-blocks=\\'[[\"BL_506.4\",506,[302,440,1112,153]]]\\'>A carrier’s duty to defend and indemnify an insured in a suit brought by a third party depends upon a determination of whether the third party’s complaint triggers coverage.</blockquote>\\n    <p id=\"Ah0\" data-blocks=\\'[[\"BL_506.5\",506,[258,610,1155,258]]]\\'>\\n      <em><a href=\"https://cite.case.law/a2d/725/743/\" class=\"citation\" data-index=\"16\" data-cite=\"725 A.2d 743\" data-case-ids=\"11639853,1701987\">Id.,</a> citing General Accident Insurance Co. v. Allen, </em><a href=\"https://cite.case.law/pa/547/693/\" class=\"citation\" data-index=\"17\" data-cite=\"547 Pa. 693\" data-case-ids=\"468736\">547 Pa. 693</a>, <a href=\"https://cite.case.law/a2d/692/1089/\" class=\"citation\" data-index=\"18\" data-cite=\"692 A.2d 1089\" data-case-ids=\"11919873,468736\">692 A.2d 1089</a>, 1095 (1997). This principle has been long held in this Commonwealth as well as in other jurisdictions. In <em>Wilson v. Maryland Casualty Co., </em><a href=\"https://cite.case.law/pa/377/588/\" class=\"citation\" data-index=\"19\" data-cite=\"377 Pa. 588\" data-case-ids=\"1249511\">377 Pa. 588</a>, <a href=\"https://cite.case.law/citations/?q=105%20A.2d%20304\" class=\"citation\" data-index=\"20\" data-cite=\"105 A.2d 304\">105 A.2d 304</a>, 307 (1954), we explained:</p>\\n    <blockquote id=\"b506-4\" data-blocks=\\'[[\"BL_506.6\",506,[299,885,1112,203]]]\\'>[T]he rule everywhere is that the obligation of a casualty insurance company to defend an action brought against the insured is to be determined <em>solely </em>by the allegations of the complaint in the action ...</blockquote>\\n    <p id=\"b506-5\" data-blocks=\\'[[\"BL_506.7\",506,[256,1109,447,42]]]\\'>\\n      <em><a href=\"https://cite.case.law/citations/?q=105%20A.2d%20304\" class=\"citation\" data-index=\"21\" data-cite=\"105 A.2d 304\">Id.</a> </em>(Emphasis supplied).</p>\\n    <p id=\"b506-6\" data-blocks=\\'[[\"BL_506.8\",506,[253,1176,1156,681]]]\\'>In this case, the Superior Court looked to information not contained in the underlying complaint in its determination that coverage might exist under the National Union policies. It claimed that it could do so because the Policies do not require that a Complaint be filed in order to trigger coverage. The Superior Court premised its coverage determination on reports submitted by two experts on behalf of Kvaerner stating that torrential rains may have caused the damages complained of by Bethlehem. The court held that these reports create uncertainty as to the cause of the damage and perhaps set forth an “occurrence” as required by the policies to trigger coverage, thus making summary judgment improper.</p>\\n    <p id=\"b507-3\" data-blocks=\\'[[\"BL_507.3\",507,[243,325,1157,686]]]\\'>\\n      <a id=\"p331\" href=\"#p331\" data-label=\"331\" data-citation-index=\"1\" class=\"page-label\">*331</a>The Superior Court erred in looking beyond the allegations raised in Bethlehem’s Complaint to determine whether National Union had a duty to defend Kvaerner and in finding that the Battery’s damages may have been the result of an “occurrence.” In doing so, it departed from the well-established precedent of this Court requiring that an insurer’s duty to defend and indemnify be determined solely from the language of the complaint against the insured. <em>Haver, </em><a href=\"https://cite.case.law/a2d/725/743/\" class=\"citation\" data-index=\"22\" data-cite=\"725 A.2d 743\" data-case-ids=\"11639853,1701987\">725 A.2d at 745</a>; <em>Allen, </em><a href=\"https://cite.case.law/a2d/692/1089/\" class=\"citation\" data-index=\"23\" data-cite=\"692 A.2d 1089\" data-case-ids=\"11919873,468736\">692 A.2d at 1095</a>; <em>Wilson, </em><a href=\"https://cite.case.law/citations/?q=105%20A.2d%20304\" class=\"citation\" data-index=\"24\" data-cite=\"105 A.2d 304\">105 A.2d at 307</a>. We find no reason to expand upon the well-reasoned and longstanding rule that an insurer’s duty to defend is triggered, if at all, by the factual averments contained in the complaint itself.</p>\\n    <p id=\"b507-4\" data-blocks=\\'[[\"BL_507.4\",507,[244,1045,1155,368]]]\\'>Thus, we hold that the Superior Court’s approach in looking beyond the Bethlehem complaint was in error. Instead, we will look to the language of the policies themselves to determine in which instances they will provide coverage, and then examine Bethlehem’s complaint to determine whether the allegations set forth therein constitute the type of instances that will trigger coverage.</p>\\n    <p id=\"b507-5\" data-blocks=\\'[[\"BL_507.5\",507,[245,1452,1157,791]]]\\'>The interpretation of an insurance policy is a question of law that we will review <em>de novo. See 401 Fourth Street v. Investors Insurance Co., </em><a href=\"https://cite.case.law/pa/583/445/\" class=\"citation\" data-index=\"25\" data-cite=\"583 Pa. 445\" data-case-ids=\"687747\">583 Pa. 445</a>, <a href=\"https://cite.case.law/a2d/879/166/\" class=\"citation\" data-index=\"26\" data-cite=\"879 A.2d 166\" data-case-ids=\"687747,8933054\">879 A.2d 166</a>, 170 (2005). Our primary goal in interpreting a policy, as with interpreting any contract, is to ascertain the parties’ intentions as manifested by the policy’s terms. <em>401 Fourth Street, </em><a href=\"https://cite.case.law/a2d/879/166/\" class=\"citation\" data-index=\"27\" data-cite=\"879 A.2d 166\" data-case-ids=\"687747,8933054\">879 A.2d at 170</a>. “When the language of the policy is clear and unambiguous, [we must] give effect to that language.” <em><a href=\"https://cite.case.law/a2d/879/166/\" class=\"citation\" data-index=\"28\" data-cite=\"879 A.2d 166\" data-case-ids=\"687747,8933054\">Id.</a> </em>Alternatively, when a provision in the policy is ambiguous, “the policy is to be construed in favor of the insured to further the contract’s prime purpose of indemnification and against the insurer, as the insurer drafts the policy, and controls coverage.” <em><a href=\"https://cite.case.law/a2d/879/166/\" class=\"citation\" data-index=\"29\" data-cite=\"879 A.2d 166\" data-case-ids=\"687747,8933054\">Id.</a> </em>With these principles in mind, we shall review the terms of the Policies to determine when they required National Union to defend Kvaerner.</p>\\n    <p id=\"b507-6\" data-blocks=\\'[[\"BL_507.6\",507,[247,2278,1152,96]]]\\'>The pertinent portions of the National Union CGL policies under which Kvaerner claims coverage state;</p>\\n    <blockquote id=\"b508-3\" data-blocks=\\'[[\"BL_508.3\",508,[316,323,1108,86]]]\\'>\\n      <a id=\"p332\" href=\"#p332\" data-label=\"332\" data-citation-index=\"1\" class=\"page-label\">*332</a>COVERAGE A. BODILY INJURY AND PROPERTY DAMAGE LIABILITY</blockquote>\\n    <blockquote id=\"b508-5\" data-blocks=\\'[[\"BL_508.4\",508,[317,432,444,41]]]\\'>1. Insuring Agreement</blockquote>\\n    <blockquote id=\"b508-6\" data-blocks=\\'[[\"BL_508.5\",508,[355,488,1068,252]]]\\'>a. We will pay those sums that the insured becomes legally obligated to pay as damages because of “bodily injury” or “property damage” to which this insurance applies. We will have the right and duty to defend any “suit” seeking those damages....</blockquote>\\n    <blockquote id=\"b508-7\" data-blocks=\\'[[\"BL_508.6\",508,[354,815,1067,94]]]\\'>b. This insurance applies to “bodily injury” or “property damage” only if:</blockquote>\\n    <blockquote id=\"b508-8\" data-blocks=\\'[[\"BL_508.7\",508,[395,929,1025,145]]]\\'>(1) The “bodily injury” or “property damage” is caused by an “occurrence” that takes place in the “coverage territory;”</blockquote>\\n    <p id=\"b508-9\" data-blocks=\\'[[\"BL_508.8\",508,[269,1095,1153,669]]]\\'>1996 Policy, National Union’s Bf., at E2; 1997 Policy, <em><a href=\"https://cite.case.law/a2d/879/166/\" class=\"citation\" data-index=\"30\" data-cite=\"879 A.2d 166\" data-case-ids=\"687747,8933054\">id.</a> </em>at F2 (emphasis added). The Policies defined “property damage” as “[pjhysical injury to tangible property, including all resulting loss of use of that property.” 1996 Policy, <em><a href=\"https://cite.case.law/a2d/879/166/\" class=\"citation\" data-index=\"31\" data-cite=\"879 A.2d 166\" data-case-ids=\"687747,8933054\">id.</a> </em>at E9-E10; 1997 Policy, <em><a href=\"https://cite.case.law/a2d/879/166/\" class=\"citation\" data-index=\"32\" data-cite=\"879 A.2d 166\" data-case-ids=\"687747,8933054\">id.</a> </em>at F9. An “occurrence” was defined as “an accident, including continuous or repeated exposure to substantially the same or general harmful conditions.” 1996 Policy, <em><a href=\"https://cite.case.law/a2d/879/166/\" class=\"citation\" data-index=\"33\" data-cite=\"879 A.2d 166\" data-case-ids=\"687747,8933054\">id.</a> </em>at E9; 1997 Policy, <em><a href=\"https://cite.case.law/a2d/879/166/\" class=\"citation\" data-index=\"34\" data-cite=\"879 A.2d 166\" data-case-ids=\"687747,8933054\">id.</a> </em>at F8. The Policies also defined\\' a “suit” as “a civil proceeding in which damages because of ‘bodily injury’, ‘property damage,’ ‘personal injury,’ or ‘advertising injury<a class=\"footnotemark\" href=\"#footnote_1_5\" id=\"ref_footnote_1_5\">5</a> to which this insurance applies are alleged.” 1996 Policy, <em><a href=\"https://cite.case.law/a2d/879/166/\" class=\"citation\" data-index=\"35\" data-cite=\"879 A.2d 166\" data-case-ids=\"687747,8933054\">id.</a> </em>at E10; 1997 Policy, <em><a href=\"https://cite.case.law/a2d/879/166/\" class=\"citation\" data-index=\"36\" data-cite=\"879 A.2d 166\" data-case-ids=\"687747,8933054\">id.</a> </em>at F9 (emphasis added).</p>\\n    <p id=\"b508-11\" data-blocks=\\'[[\"BL_508.9\",508,[266,1783,1153,460]]]\\'>Thus, National Union contracted to defend Kvaerner only when a “suit” or “proceeding” was brought against Kvaerner seeking or alleging damages for <em>inter alia, </em>property damage which is a result of an “occurrence.” An “occurrence,” in turn, is an accident. It is necessary, then, to examine whether the damage that is the impetus of this suit was caused by an accident, so as to constitute an occurrence under the policy. We must, then, examine what constitutes an accident under the policy.</p>\\n    <p id=\"b508-12\" data-blocks=\\'[[\"BL_508.10\",508,[267,2276,1152,94]],[\"BL_509.1\",509,[242,325,1155,517]]]\\'>The National Union CGL policies do not provide a definition for “accident.” Words of common usage in an <a id=\"p333\" href=\"#p333\" data-label=\"333\" data-citation-index=\"1\" class=\"page-label\">*333</a>insurance policy are construed according to their natural, plain, and ordinary sense. <em>Madison Construction Co. v. Harleysmile Mutual Insurance Co., </em><a href=\"https://cite.case.law/pa/557/595/\" class=\"citation\" data-index=\"37\" data-cite=\"557 Pa. 595\" data-case-ids=\"56742\">557 Pa. 595</a>, <a href=\"https://cite.case.law/a2d/735/100/\" class=\"citation\" data-index=\"38\" data-cite=\"735 A.2d 100\" data-case-ids=\"11533791,56742\">735 A.2d 100</a>, 108 (1999). We may consult the dictionary definition of a word to determine its ordinary usage. <em><a href=\"https://cite.case.law/a2d/735/100/\" class=\"citation\" data-index=\"39\" data-cite=\"735 A.2d 100\" data-case-ids=\"11533791,56742\">Id.</a> </em>Webster’s II New College Dictionary 6 (2001) defines “accident” as “[a]n unexpected and undesirable event,” or “something that occurs unexpectedly or unintentionally.” The key term in the ordinary definition of “accident” is “unexpected.” This implies a degree of fortuity that is not present in a claim for faulty workmanship.</p>\\n    <p id=\"b509-4\" data-blocks=\\'[[\"BL_509.4\",509,[240,866,1153,1043]]]\\'>Other courts have reached similar conclusions in the construction of the word ‘accident’ for purposes of insurance coverage. In <em>Snyder Heating v. Pennsylvania Manufacturers’ Association Insurance Co., </em><a href=\"https://cite.case.law/a2d/715/483/\" class=\"citation\" data-index=\"40\" data-cite=\"715 A.2d 483\" data-case-ids=\"11706800\">715 A.2d 483</a> (Pa.Super.1998), the insured sought a declaratory judgment that insurer’s CGL policy covered alleged liability for a breach of its agreement to maintain burners and boilers at a school’s physical plant. The relevant language of the policy was the same as that in this case. <em>Snyder, </em><a href=\"https://cite.case.law/a2d/715/483/\" class=\"citation\" data-index=\"41\" data-cite=\"715 A.2d 483\" data-case-ids=\"11706800\">715 A.2d at 485-86</a>. The school allegedly suffered damage to its boilers due to insured’s failure to maintain them properly.<a class=\"footnotemark\" href=\"#footnote_1_8\" id=\"ref_footnote_1_8\">8</a> The court held that there was no coverage under the language of the CGL policy because the complaint set forth solely claims for breach of contract. <em><a href=\"https://cite.case.law/a2d/715/483/\" class=\"citation\" data-index=\"42\" data-cite=\"715 A.2d 483\" data-case-ids=\"11706800\">Id. </a></em><a href=\"https://cite.case.law/a2d/715/483/\" class=\"citation\" data-index=\"42\" data-cite=\"715 A.2d 483\" data-case-ids=\"11706800\">at 487</a>. The court explained, “[provisions of a general liability policy provide coverage ... if the insured work or product <em>actively malfunctions, </em>causing injury to an individual or damage to another’s property.” <em><a href=\"https://cite.case.law/a2d/715/483/\" class=\"citation\" data-index=\"43\" data-cite=\"715 A.2d 483\" data-case-ids=\"11706800\">Id.</a> </em>(Emphasis original). Contractual claims of poor workmanship did not constitute the active malfunction needed to establish coverage under the policy.</p>\\n    <p id=\"b509-5\" data-blocks=\\'[[\"BL_509.5\",509,[242,1934,1148,94]],[\"BL_510.1\",510,[270,327,1156,421]]]\\'>In <em>McAllister v. Peerless Ins. Co., </em><a href=\"https://cite.case.law/nh/124/676/\" class=\"citation\" data-index=\"44\" data-cite=\"124 N.H. 676\" data-case-ids=\"4405122\">124 N.H. 676</a>, <a href=\"https://cite.case.law/citations/?q=474%20A.2d%201033\" class=\"citation\" data-index=\"45\" data-cite=\"474 A.2d 1033\">474 A.2d 1033</a> (1984), the New Hampshire Supreme Court held that <a id=\"p334\" href=\"#p334\" data-label=\"334\" data-citation-index=\"1\" class=\"page-label\">*334</a>claims for poor workmanship were not covered by the insured landscaper’s CGL policy. It stated, “[t]he <em>fortuity </em>implied by reference to accident or exposure is not what is commonly meant by a failure of workmanship.” <em>McAllister, </em><a href=\"https://cite.case.law/citations/?q=474%20A.2d%201033\" class=\"citation\" data-index=\"46\" data-cite=\"474 A.2d 1033\">474 A.2d at 1036</a>. emphasis added. Thus, the Court found that because the only damage alleged was caused by faulty workmanship to the work product itself, there was not an “accident” as required to trigger coverage. <em><a href=\"https://cite.case.law/citations/?q=474%20A.2d%201033\" class=\"citation\" data-index=\"47\" data-cite=\"474 A.2d 1033\">Id. </a></em><a href=\"https://cite.case.law/citations/?q=474%20A.2d%201033\" class=\"citation\" data-index=\"47\" data-cite=\"474 A.2d 1033\">at 1035</a>.</p>\\n    <p id=\"b510-4\" data-blocks=\\'[[\"BL_510.4\",510,[269,779,1156,584]]]\\'>The recent decision of the Supreme Court of South Carolina, <em>L-J, Inc. v. Bituminous Fire and Marine Ins. Co., </em><a href=\"https://cite.case.law/sc/366/117/\" class=\"citation\" data-index=\"48\" data-cite=\"366 S.C. 117\" data-case-ids=\"892401\">366 S.C. 117</a>, <a href=\"https://cite.case.law/sc/366/117/\" class=\"citation\" data-index=\"49\" data-cite=\"366 S.C. 117\" data-case-ids=\"892401\">621 S.E.2d 33</a> (2005), is instructive in our analysis. L-J Inc. contracted to build roads for a real estate developer. Within four years of completion the roads had deteriorated and the developer brought an action against L-J Inc. asserting breach of contract, breach of warranty, and negligence. L-J Inc. brought a declaratory judgment action against Bituminous, seeking coverage under its CGL policy. The trial court and intermediate appellate court found that coverage existed under the policy.</p>\\n    <p id=\"b510-5\" data-blocks=\\'[[\"BL_510.5\",510,[268,1394,1158,473]]]\\'>On appeal, the Supreme Court of South Carolina reversed. It held that the deterioration of the road could not constitute an “occurrence” under the terms of the policy. The Court explained that all of the allegations raised in the complaint against L-J Inc., including the negligence claims, were based on faulty workmanship. <em>L-J, Inc., </em><a href=\"https://cite.case.law/sc/366/117/\" class=\"citation\" data-index=\"50\" data-cite=\"366 S.C. 117\" data-case-ids=\"892401\">621 S.E.2d at 36</a>. Faulty workmanship, the Court held, does not constitute an “accident” as required to establish an “occurrence” under the policies. Thus, coverage was denied.</p>\\n    <p id=\"b510-6\" data-blocks=\\'[[\"BL_510.6\",510,[268,1897,1156,471]],[\"BL_511.1\",511,[230,339,1157,571]]]\\'>The Court stated that a CGL policy may provide coverage where faulty workmanship caused bodily injury or damage to another property, but not in cases where faulty workmanship damages the work product alone. <em><a href=\"https://cite.case.law/sc/366/117/\" class=\"citation\" data-index=\"51\" data-cite=\"366 S.C. 117\" data-case-ids=\"892401\">Id.</a> </em>at 36 n. 4. To permit coverage in such instances would convert CGL policies into performance bonds, which guarantee the work, rather than like an insurance policy, which is intended to insure against accidents. <em>Id. </em>at 36-37. See also <em>Hotel Roanoke Conference Center Commission v. Cincinnati Insurance Co., </em><a href=\"https://cite.case.law/f-supp-2d/303/784/#p788\" class=\"citation\" data-index=\"52\" data-cite=\"303 F. Supp. 2d 784\" data-case-ids=\"9288874\">303 </a><a id=\"p335\" href=\"#p335\" data-label=\"335\" data-citation-index=\"1\" class=\"page-label\">*335</a><a href=\"https://cite.case.law/f-supp-2d/303/784/#p788\" class=\"citation\" data-index=\"52\" data-cite=\"303 F. Supp. 2d 784\" data-case-ids=\"9288874\">F.Supp.2d. 784</a>, 788 (W.D.Va.2004), (“[T]he word ‘accident’ as used in the definition of occurrence involves a degree of fortuity not present when the insured’s defective performance of a contract causes injury to the insured’s own work or product.”); <em>Norwalk Ready Mixed Concrete v. Travelers Insurance Companies, </em><a href=\"https://cite.case.law/f3d/246/1132/#p1137\" class=\"citation\" data-index=\"53\" data-cite=\"246 F.3d 1132\" data-case-ids=\"11111866\">246 F.3d 1132</a>, 1137 (8th Cir.2001),(holding that defective workmanship cannot be characterized as an accident under Iowa law), <em>Auto-Owners Insurance Co. v. Home Pride Companies, Inc., </em><a href=\"https://cite.case.law/neb/268/528/\" class=\"citation\" data-index=\"54\" data-cite=\"268 Neb. 528\" data-case-ids=\"3713786\">268 Neb. 528</a>, <a href=\"https://cite.case.law/neb/268/528/\" class=\"citation\" data-index=\"55\" data-cite=\"268 Neb. 528\" data-case-ids=\"3713786\">684 N.W.2d 571</a>, 578 (2004) (A CGL policy does not provide coverage for faulty workmanship that damages only the resulting work product.)<a class=\"footnotemark\" href=\"#footnote_1_9\" id=\"ref_footnote_1_9\">9</a>\\n    </p>\\n    <p id=\"b511-4\" data-blocks=\\'[[\"BL_511.4\",511,[231,942,1156,201]],[\"BL_512.1\",512,[276,340,1152,244]]]\\'>We hold that the definition of “accident” required to establish an “occurrence” under the policies cannot be satisfied by claims based upon faulty workmanship.<a class=\"footnotemark\" href=\"#footnote_1_10\" id=\"ref_footnote_1_10\">10</a> Such claims simply do not present the degree of fortuity contemplated by <a id=\"p336\" href=\"#p336\" data-label=\"336\" data-citation-index=\"1\" class=\"page-label\">*336</a>the ordinary definition of “accident” or its common judicial construction in this context. To hold otherwise would be to convert a policy for insurance into a performance bond. We are unwilling to do so, especially since such protections are already readily available for the protection of contractors.<a class=\"footnotemark\" href=\"#footnote_1_11\" id=\"ref_footnote_1_11\">11</a>\\n    </p>\\n    <p id=\"b512-4\" data-blocks=\\'[[\"BL_512.6\",512,[273,610,1156,1041]]]\\'>The underlying suit in this case avers only property damage from poor workmanship to the work product itself. In its complaint, Bethlehem alleged that the construction of the coke battery “did not meet the contract specifications and warranties, or the applicable industry standards for construction, and accordingly was in breach of the Contract and its warranties.” Bethlehem Complaint at 8. Bethlehem incorporated by reference into its complaint a non-performance list, specifying the damages and breaches that it alleged. See Pages 322-23, 908 A.2d at 891, <em>supra. </em>The list details construction defects and a series of workmanship related irregularities. As faulty workmanship does not constitute an “accident” as required to set forth an occurrence under the CGL policies, we hold that National Union had no duty to defend or indemnify Kvaerner in the action brought by Bethlehem. Given this conclusion, it is not necessary for us to consider whether the business risk/work product exclusions also preclude coverage here. The Superior Court erred, therefore, in vacating the trial court’s grant of summary judgment to National Union. As such, the Superior Court’s order is reversed.</p>\\n    <p class=\"judges\" id=\"b512-5\" data-blocks=\\'[[\"BL_512.7\",512,[275,1707,1081,94]]]\\'>Justices CASTILLE, SAYLOR, EAKIN and BAER join this opinion.</p>\\n    <p class=\"judges\" id=\"b512-6\" data-blocks=\\'[[\"BL_512.8\",512,[273,1827,1061,93]]]\\'>Former Justice NIGRO and Justice NEWMAN did not participate in the decision of this case.</p>\\n    <aside data-label=\"1\" class=\"footnote\" id=\"footnote_1_1\">\\n      <a href=\"#ref_footnote_1_1\">1</a>\\n      <p id=\"b499-6\" data-blocks=\\'[[\"BL_499.6\",499,[253,1824,1152,549]]]\\'>. \"An ‘occurrence’ policy protects the policyholder from liability for any act done while the policy is in effect, whereas a ‘claims made’ policy protects the holder only against claims made during the life of the policy.\" <em>See Consulting Engineers Inc., v. Ins. Co. of North America, </em><a href=\"https://cite.case.law/a2d/710/82/#p85\" class=\"citation\" data-index=\"56\" data-cite=\"710 A.2d 82\" data-case-ids=\"11827660\">710 A.2d 82</a>, 85 (Pa.Super.1998), citing <em>St. Paul Fire &amp; Marine Ins. Co. v. Barry, </em><a href=\"https://cite.case.law/us/438/531/#p535\" class=\"citation\" data-index=\"57\" data-cite=\"438 U.S. 531\" data-case-ids=\"1769210\">438 U.S. 531</a>, 535, <a href=\"https://cite.case.law/us/438/531/#p535\" class=\"citation\" data-index=\"58\" data-cite=\"438 U.S. 531\" data-case-ids=\"1769210\">98 S.Ct. 2923</a>, <a href=\"https://cite.case.law/us/438/531/#p535\" class=\"citation\" data-index=\"59\" data-cite=\"438 U.S. 531\" data-case-ids=\"1769210\">57 L.Ed.2d 932</a> (1978). Thus, even though the Policies contained the same general terms and conditions, they differed in the sense that the 1996 Policy only covered claims made between September 30, 1995 and September 30, 1996, and the 1997 Policy only covered acts that took place between April 1, 1997 and December 31, 1997. See 1996 Policy, National Union\\'s Bf., at E2; 1997 Policy, <em><a href=\"https://cite.case.law/us/438/531/#p535\" class=\"citation\" data-index=\"60\" data-cite=\"438 U.S. 531\" data-case-ids=\"1769210\">id.</a> </em>at F2. In all other respects, the policies were identical; thus, for purposes of this appeal only a single analysis is necessary.</p>\\n    </aside>\\n    <aside data-label=\"2\" class=\"footnote\" id=\"footnote_1_2\">\\n      <a href=\"#ref_footnote_1_2\">2</a>\\n      <p id=\"b500-6\" data-blocks=\\'[[\"BL_500.6\",500,[265,1900,1152,462]]]\\'>. National Union claimed that it did not have a duty to defend or indemnify Kvaerner under the Policies for numerous reasons, including the following: (1) Bethlehem’s claims against Kvaerner did not involve \"property damage” arising from an \"occurrence” as, required by the Policies; (2) the Battery\\'s damages did not take place during the effective time periods of the Policies; (3) the Battery’s damages were a loss in progress or known loss when the Policies were issued; (4) the Battery’s damages were excluded under different \"business risk/work product” exclusions in the Policies; and (5) the Battery’s damages were based on the rendering of or failure to render professional services and the Policies excluded coverage for such harm. <em>See </em>Answer of National Union with New Matter and New Matter Under Pa.R.C.P. 2252.</p>\\n    </aside>\\n    <aside data-label=\"3\" class=\"footnote\" id=\"footnote_1_3\">\\n      <a href=\"#ref_footnote_1_3\">3</a>\\n      <p id=\"b502-5\" data-blocks=\\'[[\"BL_502.5\",502,[278,1880,1153,75]]]\\'>. Shortly after the trial court entered its decision, the Bethlehem lawsuit was settled and consequently, discontinued with prejudice.</p>\\n    </aside>\\n    <aside data-label=\"4\" class=\"footnote\" id=\"footnote_1_4\">\\n      <a href=\"#ref_footnote_1_4\">4</a>\\n      <p id=\"b502-6\" data-blocks=\\'[[\"BL_502.6\",502,[278,1976,1155,193]]]\\'>. The Superior Court in <em>Redevelopment Auth. </em>concluded that a CGL insurer was not responsible for defending the Redevelopment Authority of Cambria County for a breach of contract action filed against it by Barr Township because the CGL policy did not cover such actions. <a href=\"https://cite.case.law/a2d/685/581/\" class=\"citation\" data-index=\"61\" data-cite=\"685 A.2d 581\" data-case-ids=\"7351637,772897\">685 A.2d at 589-90</a>. The court explained:</p>\\n      <blockquote id=\"b502-7\" data-blocks=\\'[[\"BL_502.7\",502,[343,2180,1089,154]]]\\'>Erie correctly asserts that it has no duty to defend or indemnify the Authority since the underlying suit arises out of a breach of contract which is not an accident or occurrence contemplated or covered by the provisions of the general liability insurance policy.</blockquote>\\n      <p id=\"b502-8\" data-blocks=\\'[[\"BL_502.8\",502,[309,2339,156,28]]]\\'>\\n        <em><a href=\"https://cite.case.law/a2d/685/581/\" class=\"citation\" data-index=\"62\" data-cite=\"685 A.2d 581\" data-case-ids=\"7351637,772897\">Id. </a></em><a href=\"https://cite.case.law/a2d/685/581/\" class=\"citation\" data-index=\"62\" data-cite=\"685 A.2d 581\" data-case-ids=\"7351637,772897\">at 589</a>.</p>\\n    </aside>\\n    <aside data-label=\"5\" class=\"footnote\" id=\"footnote_1_5\">\\n      <a href=\"#ref_footnote_1_5\">5</a>\\n      <p id=\"b503-5\" data-blocks=\\'[[\"BL_503.5\",503,[229,2189,1154,193]]]\\'>. As the trial court concluded that National Union was entitled to summary judgment because Bethlehem had not alleged that the Battery’s damages were the result of an accident, it did not consider whether coverage was precluded based on the Policies’ exclusions also relied on by National Union in its summary judgment motion.</p>\\n    </aside>\\n    <aside data-label=\"6\" class=\"footnote\" id=\"footnote_1_6\">\\n      <a href=\"#ref_footnote_1_6\">6</a>\\n      <p id=\"b505-6\" data-blocks=\\'[[\"BL_505.6\",505,[244,1750,1154,627]]]\\'>. In our order granting allocatur, we also directed the parties to \"address the appropriate test or inquiry in ascertaining whether an underlying claim sounds in contract or tort for purposes of insurance coverage.” <em>Kvaerner Metals Div. of Kvaerner U.S., Inc., et al. v. Commercial Union Ins. Co., et al., </em><a href=\"https://cite.case.law/pa/577/667/\" class=\"citation\" data-index=\"63\" data-cite=\"577 Pa. 667\" data-case-ids=\"91586\">577 Pa. 667</a>, <a href=\"https://cite.case.law/a2d/848/925/\" class=\"citation\" data-index=\"64\" data-cite=\"848 A.2d 925\" data-case-ids=\"91586,9249066\">848 A.2d 925</a> (2004). We further consolidated the case with <em>Freestone v. New England Log Homes, Inc., </em>77 WAL 2003, in which the Superior Court directly considered this issue. <em>See Kvaerner Metals Div., </em><a href=\"https://cite.case.law/pa/577/667/\" class=\"citation\" data-index=\"65\" data-cite=\"577 Pa. 667\" data-case-ids=\"91586\">577 Pa. 667</a>, <a href=\"https://cite.case.law/a2d/848/925/\" class=\"citation\" data-index=\"66\" data-cite=\"848 A.2d 925\" data-case-ids=\"91586,9249066\">848 A.2d 925</a> (2003); <em>Freestone v. New England Log Homes, Inc., </em><a href=\"https://cite.case.law/citations/?q=577%20Pa.%20735\" class=\"citation\" data-index=\"67\" data-cite=\"577 Pa. 735\">577 Pa. 735</a>, <a href=\"https://cite.case.law/citations/?q=848%20A.2d%20929\" class=\"citation\" data-index=\"68\" data-cite=\"848 A.2d 929\">848 A.2d 929</a> (2004); <em>Freestone v. New England Log Homes, Inc., </em><a href=\"https://cite.case.law/a2d/819/550/#p553\" class=\"citation\" data-index=\"69\" data-cite=\"819 A.2d 550\" data-case-ids=\"9348417\">819 A.2d 550</a>, 553-54 (Pa.Super.Ct.2003). The <em>Freestone </em>case, however, was dismissed prior to oral argument. Given these circumstances, we see no need to address this issue and shall therefore leave it for another day. <em>See Gulnac by Gulnac v. South Butler County School Dist., </em><a href=\"https://cite.case.law/pa/526/483/\" class=\"citation\" data-index=\"70\" data-cite=\"526 Pa. 483\" data-case-ids=\"1825913\">526 Pa. 483</a>, <a href=\"https://cite.case.law/pa/526/483/\" class=\"citation\" data-index=\"71\" data-cite=\"526 Pa. 483\" data-case-ids=\"1825913\">587 A.2d 699</a>, 701 (1991) (opining that this Court should only consider issues over which there \"is a real controversy”).</p>\\n    </aside>\\n    <aside data-label=\"7\" class=\"footnote\" id=\"footnote_1_7\">\\n      <a href=\"#ref_footnote_1_7\">7</a>\\n      <p id=\"b506-7\" data-blocks=\\'[[\"BL_506.9\",506,[254,1903,1153,470]]]\\'>. Kvaerner claims that National Union owed it a duty to defend as well as a duty to indemnify. As this Court has explained, a duty to defend is broader than the duty to indemnify. <em>General Accident Insurance Co. v. Allen, </em><a href=\"https://cite.case.law/pa/547/693/\" class=\"citation\" data-index=\"72\" data-cite=\"547 Pa. 693\" data-case-ids=\"468736\">547 Pa. 693</a>, <a href=\"https://cite.case.law/a2d/692/1089/\" class=\"citation\" data-index=\"73\" data-cite=\"692 A.2d 1089\" data-case-ids=\"11919873,468736\">692 A.2d 1089</a>, 1095 (1997). Further, the Superior Court has explained that because the duty to defend is broader, a finding that it is not present will also preclude a duty to indemnify. <em>Scopel </em>v. <em>Donegal Mutual Insurance Co., </em><a href=\"https://cite.case.law/a2d/698/602/#p605\" class=\"citation\" data-index=\"74\" data-cite=\"698 A.2d 602\" data-case-ids=\"12009560\">698 A.2d 602</a>, 605 (Pa.Super.1997). Although, however, the duty to defend is separate from and broader than the duty to indemnify, both duties flow from a determination that the complaint triggers coverage. <em>Allen, </em><a href=\"https://cite.case.law/a2d/692/1089/\" class=\"citation\" data-index=\"75\" data-cite=\"692 A.2d 1089\" data-case-ids=\"11919873,468736\">692 A.2d at 1095</a>. Thus, if National Union does not have a duty to defend Kvaerner in this suit, neither does it have the duty to indemnify.</p>\\n    </aside>\\n    <aside data-label=\"8\" class=\"footnote\" id=\"footnote_1_8\">\\n      <a href=\"#ref_footnote_1_8\">8</a>\\n      <p id=\"b509-6\" data-blocks=\\'[[\"BL_509.6\",509,[241,2065,1151,309]]]\\'>. The school’s complaint specified the following alleged causes for its damages; (1) Failure to seal and close the boilers; (2) failure to properly test and inspect the boilers; (3) failure to timely inspect the boilers and report noted deficiencies; (4) failure to install new hardware as needed in the boilers; (5) failure to start the boilers in accordance with specifications; (6) failure to properly clean the boilers; (7) failure to properly secure the boiler doors; (8) failure to otherwise perform its obligations. <em>Snyder, </em><a href=\"https://cite.case.law/a2d/715/483/\" class=\"citation\" data-index=\"76\" data-cite=\"715 A.2d 483\" data-case-ids=\"11706800\">715 A.2d at 486</a>.</p>\\n    </aside>\\n    <aside data-label=\"9\" class=\"footnote\" id=\"footnote_1_9\">\\n      <a href=\"#ref_footnote_1_9\">9</a>\\n      <p id=\"b511-5\" data-blocks=\\'[[\"BL_511.5\",511,[233,1179,1155,598]]]\\'>. While the majority of Courts have held that coverage under a CGL policy is not triggered by poor workmanship which causes injury to the work product itself, a minority of jurisdictions have held that faulty or negligent workmanship constitutes an accident so long as the insured did not intend for the damage to occur. <em>American Family Mutual Insurance Co. v. American Girl, Inc., <a href=\"https://cite.case.law/wis-2d/268/16/\" class=\"citation\" data-index=\"77\" data-cite=\"268 Wis. 2d 16\" data-case-ids=\"2228898\">268 </a></em><a href=\"https://cite.case.law/wis-2d/268/16/\" class=\"citation\" data-index=\"77\" data-cite=\"268 Wis. 2d 16\" data-case-ids=\"2228898\">Wis.2d 16</a>, <a href=\"https://cite.case.law/wis-2d/268/16/\" class=\"citation\" data-index=\"78\" data-cite=\"268 Wis. 2d 16\" data-case-ids=\"2228898\">673 N.W.2d 65</a> (2004), <em>Fidelity &amp; Deposit of Maryland v. Hartford Cas., </em><a href=\"https://cite.case.law/f-supp-2d/189/1212/\" class=\"citation\" data-index=\"79\" data-cite=\"189 F. Supp. 2d 1212\" data-case-ids=\"9508050\">189 F.Supp.2d 1212</a> (D.Kan.2002), <em>Joe Banks Drywall v. Transcontinental Ins. Co., </em><a href=\"https://cite.case.law/so-2d/753/980/\" class=\"citation\" data-index=\"80\" data-cite=\"753 So. 2d 980\" data-case-ids=\"11469611\">753 So.2d 980</a> (La.App.2000), <em>Erie Insurance Exchange v. Colony Development Corp., </em><a href=\"https://cite.case.law/ohio-app-3d/136/406/\" class=\"citation\" data-index=\"81\" data-cite=\"136 Ohio App. 3d 406\" data-case-ids=\"168040\">136 Ohio App.3d 406</a>, <a href=\"https://cite.case.law/citations/?q=736%20N.E.2d%20941\" class=\"citation\" data-index=\"82\" data-cite=\"736 N.E.2d 941\">736 N.E.2d 941</a> (1999). We believe that this is an overly broad interpretation of accident, as the situation is rare indeed in which a contractor intends that the work product suffer injury. Because we believe that CGL policies are not the proper means to protect against such risks, we concur with the majority of Courts and decline to apply coverage in such cases.</p>\\n    </aside>\\n    <aside data-label=\"10\" class=\"footnote\" id=\"footnote_1_10\">\\n      <a href=\"#ref_footnote_1_10\">10</a>\\n      <p id=\"b511-6\" data-blocks=\\'[[\"BL_511.6\",511,[234,1812,1153,74]]]\\'>. The application and limitations of CGL policies were aptly explained in a seminal law review article by Roger C. Henderson;</p>\\n      <blockquote id=\"b511-7\" data-blocks=\\'[[\"BL_511.7\",511,[297,1912,1089,474]],[\"BL_512.2\",512,[339,2026,1089,73]]]\\'>The risk intended to be insured is the possibility that the goods, products or work of the insured, once relinquished and completed, will cause bodily injury or damage to property other than to the completed work itself and for which the insured by be found liable. The insured, as a source of goods or services, may be liable as a matter of contract law to make good on products or work which is defective or otherwise unsuitable because it is lacking in some capacity. This may even extend to an obligation to completely replace or rebuild the deficient work or product. This liability, however, is not what the coverages in question are designed to protect against. The coverage is for tort liability for physical damages to others and not for contractual liability of the insured for economic loss because the <a id=\"p336\" href=\"#p336\" data-label=\"336\" data-citation-index=\"1\" class=\"page-label\">*336</a>product or completed work is not that for which the damaged person bargained.</blockquote>\\n      <p id=\"b512-8\" data-blocks=\\'[[\"BL_512.3\",512,[306,2101,1119,74]]]\\'>Insurance Protection for Products Liability and Completed Operations; What Every Lawyer Should Know, <a href=\"https://cite.case.law/citations/?q=50%20Neb.%20L.%20Rev.%20415\" class=\"citation\" data-index=\"83\" data-cite=\"50 Neb. L. Rev. 415\">50 Neb. L.Rev. 415</a>, 441 (1971).</p>\\n    </aside>\\n    <aside data-label=\"11\" class=\"footnote\" id=\"footnote_1_11\">\\n      <a href=\"#ref_footnote_1_11\">11</a>\\n      <p id=\"b512-9\" data-blocks=\\'[[\"BL_512.9\",512,[277,2195,1151,187]]]\\'>. In this case Kvaerner was covered by a Builder’s Risk Policy, providing coverage for property constructed by Kvaerner under the Contract, and a Professional Liability Policy, covering alleged negligent acts, errors, or omissions by Kvaerner or its subcontractors. Kvaerner has recovered monies under both policies.</p>\\n    </aside>\\n  </article>\\n</section>',\n",
       "  'status': 'ok'},\n",
       " 'jurisdiction': {'id': 6,\n",
       "  'name': 'Pa.',\n",
       "  'url': 'https://api.case.law/v1/jurisdictions/pa/',\n",
       "  'slug': 'pa',\n",
       "  'whitelisted': False,\n",
       "  'name_abbreviation': None},\n",
       " 'cites_to': [{'cite': '50 Neb. L.Rev. 415',\n",
       "   'reporter': 'Neb. L. Rev.',\n",
       "   'category': 'journals:journal',\n",
       "   'case_ids': [],\n",
       "   'year': 1971,\n",
       "   'pin_cites': [{'page': '441'}],\n",
       "   'opinion_id': 0},\n",
       "  {'cite': '736 N.E.2d 941',\n",
       "   'reporter': 'N.E.2d',\n",
       "   'category': 'reporters:state_regional',\n",
       "   'case_ids': [],\n",
       "   'year': 1999,\n",
       "   'opinion_id': 0},\n",
       "  {'cite': '136 Ohio App.3d 406',\n",
       "   'reporter': 'Ohio App. 3d',\n",
       "   'category': 'reporters:state',\n",
       "   'case_ids': [168040],\n",
       "   'year': 1999,\n",
       "   'opinion_id': 0},\n",
       "  {'cite': '753 So.2d 980',\n",
       "   'reporter': 'So. 2d',\n",
       "   'category': 'reporters:state_regional',\n",
       "   'case_ids': [11469611],\n",
       "   'opinion_id': 0},\n",
       "  {'cite': '189 F.Supp.2d 1212',\n",
       "   'reporter': 'F. Supp. 2d',\n",
       "   'category': 'reporters:federal',\n",
       "   'case_ids': [9508050],\n",
       "   'opinion_id': 0},\n",
       "  {'cite': '268 Wis.2d 16',\n",
       "   'reporter': 'Wis. 2d',\n",
       "   'category': 'reporters:state',\n",
       "   'case_ids': [2228898],\n",
       "   'weight': 2,\n",
       "   'year': 2004,\n",
       "   'opinion_id': 0},\n",
       "  {'cite': '698 A.2d 602',\n",
       "   'reporter': 'A.2d',\n",
       "   'category': 'reporters:state_regional',\n",
       "   'case_ids': [12009560],\n",
       "   'pin_cites': [{'page': '605'}],\n",
       "   'opinion_id': 0},\n",
       "  {'cite': '526 Pa. 483',\n",
       "   'reporter': 'Pa.',\n",
       "   'category': 'reporters:state',\n",
       "   'case_ids': [1825913],\n",
       "   'weight': 2,\n",
       "   'year': 1991,\n",
       "   'pin_cites': [{'parenthetical': 'opining that this Court should only consider issues over which there \"is a real controversy\"'},\n",
       "    {'page': '701',\n",
       "     'parenthetical': 'opining that this Court should only consider issues over which there \"is a real controversy\"'}],\n",
       "   'opinion_id': 0},\n",
       "  {'cite': '819 A.2d 550',\n",
       "   'reporter': 'A.2d',\n",
       "   'category': 'reporters:state_regional',\n",
       "   'case_ids': [9348417],\n",
       "   'pin_cites': [{'page': '553-54'}],\n",
       "   'opinion_id': 0},\n",
       "  {'cite': '848 A.2d 929',\n",
       "   'reporter': 'A.2d',\n",
       "   'category': 'reporters:state_regional',\n",
       "   'case_ids': [],\n",
       "   'year': 2004,\n",
       "   'opinion_id': 0},\n",
       "  {'cite': '577 Pa. 735',\n",
       "   'reporter': 'Pa.',\n",
       "   'category': 'reporters:state',\n",
       "   'case_ids': [],\n",
       "   'year': 2004,\n",
       "   'opinion_id': 0},\n",
       "  {'cite': '848 A.2d 925',\n",
       "   'reporter': 'A.2d',\n",
       "   'category': 'reporters:state_regional',\n",
       "   'case_ids': [91586, 9249066],\n",
       "   'weight': 2,\n",
       "   'year': 2004,\n",
       "   'opinion_id': 0},\n",
       "  {'cite': '577 Pa. 667',\n",
       "   'reporter': 'Pa.',\n",
       "   'category': 'reporters:state',\n",
       "   'case_ids': [91586],\n",
       "   'weight': 2,\n",
       "   'year': 2004,\n",
       "   'opinion_id': 0},\n",
       "  {'cite': '438 U.S. 531',\n",
       "   'reporter': 'U.S.',\n",
       "   'category': 'reporters:federal',\n",
       "   'case_ids': [1769210],\n",
       "   'weight': 4,\n",
       "   'year': 1978,\n",
       "   'pin_cites': [{'page': '535'}],\n",
       "   'opinion_id': 0},\n",
       "  {'cite': '710 A.2d 82',\n",
       "   'reporter': 'A.2d',\n",
       "   'category': 'reporters:state_regional',\n",
       "   'case_ids': [11827660],\n",
       "   'pin_cites': [{'page': '85'}],\n",
       "   'opinion_id': 0},\n",
       "  {'cite': '268 Neb. 528',\n",
       "   'reporter': 'Neb.',\n",
       "   'category': 'reporters:state',\n",
       "   'case_ids': [3713786],\n",
       "   'weight': 2,\n",
       "   'year': 2004,\n",
       "   'pin_cites': [{'parenthetical': 'A CGL policy does not provide coverage for faulty workmanship that damages only the resulting work product.'},\n",
       "    {'page': '578',\n",
       "     'parenthetical': 'A CGL policy does not provide coverage for faulty workmanship that damages only the resulting work product.'}],\n",
       "   'opinion_id': 0},\n",
       "  {'cite': '246 F.3d 1132',\n",
       "   'reporter': 'F.3d',\n",
       "   'category': 'reporters:federal',\n",
       "   'case_ids': [11111866],\n",
       "   'pin_cites': [{'page': '1137'}],\n",
       "   'opinion_id': 0},\n",
       "  {'cite': '303 F.Supp.2d. 784',\n",
       "   'reporter': 'F. Supp. 2d',\n",
       "   'category': 'reporters:federal',\n",
       "   'case_ids': [9288874],\n",
       "   'pin_cites': [{'page': '788'}],\n",
       "   'opinion_id': 0},\n",
       "  {'cite': '366 S.C. 117',\n",
       "   'reporter': 'S.C.',\n",
       "   'category': 'reporters:state',\n",
       "   'case_ids': [892401],\n",
       "   'weight': 4,\n",
       "   'year': 2005,\n",
       "   'pin_cites': [{'page': '36'}],\n",
       "   'opinion_id': 0},\n",
       "  {'cite': '474 A.2d 1033',\n",
       "   'reporter': 'A.2d',\n",
       "   'category': 'reporters:state_regional',\n",
       "   'case_ids': [],\n",
       "   'weight': 3,\n",
       "   'year': 1984,\n",
       "   'pin_cites': [{'page': '1036'}, {'page': '1035'}],\n",
       "   'opinion_id': 0},\n",
       "  {'cite': '124 N.H. 676',\n",
       "   'reporter': 'N.H.',\n",
       "   'category': 'reporters:state',\n",
       "   'case_ids': [4405122],\n",
       "   'year': 1984,\n",
       "   'opinion_id': 0},\n",
       "  {'cite': '715 A.2d 483',\n",
       "   'reporter': 'A.2d',\n",
       "   'category': 'reporters:state_regional',\n",
       "   'case_ids': [11706800],\n",
       "   'weight': 5,\n",
       "   'pin_cites': [{'page': '485-86'},\n",
       "    {'page': '487'},\n",
       "    {'parenthetical': 'Emphasis original'},\n",
       "    {'page': '486'}],\n",
       "   'opinion_id': 0},\n",
       "  {'cite': '735 A.2d 100',\n",
       "   'reporter': 'A.2d',\n",
       "   'category': 'reporters:state_regional',\n",
       "   'case_ids': [56742, 11533791],\n",
       "   'weight': 2,\n",
       "   'year': 1999,\n",
       "   'pin_cites': [{'page': '108'}],\n",
       "   'opinion_id': 0},\n",
       "  {'cite': '557 Pa. 595',\n",
       "   'reporter': 'Pa.',\n",
       "   'category': 'reporters:state',\n",
       "   'case_ids': [56742],\n",
       "   'year': 1999,\n",
       "   'opinion_id': 0},\n",
       "  {'cite': '879 A.2d 166',\n",
       "   'reporter': 'A.2d',\n",
       "   'category': 'reporters:state_regional',\n",
       "   'case_ids': [687747, 8933054],\n",
       "   'weight': 11,\n",
       "   'year': 2005,\n",
       "   'pin_cites': [{'page': '170'}, {'page': '170'}],\n",
       "   'opinion_id': 0},\n",
       "  {'cite': '583 Pa. 445',\n",
       "   'reporter': 'Pa.',\n",
       "   'category': 'reporters:state',\n",
       "   'case_ids': [687747],\n",
       "   'year': 2005,\n",
       "   'opinion_id': 0},\n",
       "  {'cite': '105 A.2d 304',\n",
       "   'reporter': 'A.2d',\n",
       "   'category': 'reporters:state_regional',\n",
       "   'case_ids': [],\n",
       "   'weight': 3,\n",
       "   'year': 1954,\n",
       "   'pin_cites': [{'page': '307'},\n",
       "    {'parenthetical': 'Emphasis supplied'},\n",
       "    {'page': '307'}],\n",
       "   'opinion_id': 0},\n",
       "  {'cite': '377 Pa. 588',\n",
       "   'reporter': 'Pa.',\n",
       "   'category': 'reporters:state',\n",
       "   'case_ids': [1249511],\n",
       "   'year': 1954,\n",
       "   'opinion_id': 0},\n",
       "  {'cite': '692 A.2d 1089',\n",
       "   'reporter': 'A.2d',\n",
       "   'category': 'reporters:state_regional',\n",
       "   'case_ids': [468736, 11919873],\n",
       "   'weight': 4,\n",
       "   'year': 1997,\n",
       "   'pin_cites': [{'page': '1095'},\n",
       "    {'page': '1095'},\n",
       "    {'page': '1095'},\n",
       "    {'page': '1095'}],\n",
       "   'opinion_id': 0},\n",
       "  {'cite': '547 Pa. 693',\n",
       "   'reporter': 'Pa.',\n",
       "   'category': 'reporters:state',\n",
       "   'case_ids': [468736],\n",
       "   'weight': 2,\n",
       "   'year': 1997,\n",
       "   'opinion_id': 0},\n",
       "  {'cite': '874 A.2d 1',\n",
       "   'reporter': 'A.2d',\n",
       "   'category': 'reporters:state_regional',\n",
       "   'case_ids': [8950785, 650306],\n",
       "   'weight': 5,\n",
       "   'year': 2005,\n",
       "   'pin_cites': [{'page': '5'}, {'page': '5'}, {'page': '5-6'}, {'page': '6'}],\n",
       "   'opinion_id': 0},\n",
       "  {'cite': '582 Pa. 605',\n",
       "   'reporter': 'Pa.',\n",
       "   'category': 'reporters:state',\n",
       "   'case_ids': [650306],\n",
       "   'year': 2005,\n",
       "   'opinion_id': 0},\n",
       "  {'cite': '725 A.2d 743',\n",
       "   'reporter': 'A.2d',\n",
       "   'category': 'reporters:state_regional',\n",
       "   'case_ids': [1701987, 11639853],\n",
       "   'weight': 4,\n",
       "   'year': 1999,\n",
       "   'pin_cites': [{'page': '745'}, {'page': '745'}, {'page': '745'}],\n",
       "   'opinion_id': 0},\n",
       "  {'cite': '555 Pa. 534',\n",
       "   'reporter': 'Pa.',\n",
       "   'category': 'reporters:state',\n",
       "   'case_ids': [1701987],\n",
       "   'weight': 2,\n",
       "   'year': 1999,\n",
       "   'opinion_id': 0},\n",
       "  {'cite': '825 A.2d 641',\n",
       "   'reporter': 'A.2d',\n",
       "   'category': 'reporters:state_regional',\n",
       "   'case_ids': [9116652],\n",
       "   'weight': 4,\n",
       "   'pin_cites': [{'page': '650', 'parenthetical': 'emphasis in original'},\n",
       "    {'page': '654'},\n",
       "    {'page': '654-55'}],\n",
       "   'opinion_id': 0},\n",
       "  {'cite': '685 A.2d 581',\n",
       "   'reporter': 'A.2d',\n",
       "   'category': 'reporters:state_regional',\n",
       "   'case_ids': [772897, 7351637],\n",
       "   'weight': 3,\n",
       "   'year': 1996,\n",
       "   'pin_cites': [{'page': '589-90'}, {'page': '589'}],\n",
       "   'opinion_id': 0},\n",
       "  {'cite': '454 Pa.Super. 374',\n",
       "   'reporter': 'Pa. Super.',\n",
       "   'category': 'reporters:state',\n",
       "   'case_ids': [772897],\n",
       "   'year': 1996,\n",
       "   'opinion_id': 0}],\n",
       " 'id': 2573580,\n",
       " 'last_updated': '2024-02-27T18:15:09.609776+00:00',\n",
       " 'frontend_url': 'https://cite.case.law/pa/589/317/',\n",
       " 'forward_citation_ids': [4241206,\n",
       "  4241018,\n",
       "  4241236,\n",
       "  8308180,\n",
       "  8371371,\n",
       "  3868031,\n",
       "  8343421,\n",
       "  8343751,\n",
       "  8301434,\n",
       "  3595134,\n",
       "  3596845,\n",
       "  8361456,\n",
       "  8375536,\n",
       "  5585054,\n",
       "  3329189,\n",
       "  8386581,\n",
       "  8304533,\n",
       "  3844508,\n",
       "  8314180,\n",
       "  8396953,\n",
       "  8304323,\n",
       "  3829721,\n",
       "  3509212,\n",
       "  3559981,\n",
       "  3576541,\n",
       "  4224503,\n",
       "  8245987,\n",
       "  3634976,\n",
       "  3841976,\n",
       "  5764554,\n",
       "  8211850,\n",
       "  3901742,\n",
       "  3831981,\n",
       "  8172261,\n",
       "  7333955,\n",
       "  5895926,\n",
       "  7299054,\n",
       "  3750829,\n",
       "  3968660,\n",
       "  3674943,\n",
       "  7289268,\n",
       "  7322945,\n",
       "  3837329,\n",
       "  4011925,\n",
       "  12312906,\n",
       "  3690851,\n",
       "  3840387,\n",
       "  3840309,\n",
       "  4197434,\n",
       "  4213886,\n",
       "  7288227,\n",
       "  7285722,\n",
       "  4198458,\n",
       "  7284353,\n",
       "  7163830,\n",
       "  7205993,\n",
       "  12169109,\n",
       "  5900319,\n",
       "  4059893,\n",
       "  4163273,\n",
       "  3846785,\n",
       "  5904305,\n",
       "  3917137,\n",
       "  5905606,\n",
       "  4196513,\n",
       "  4134382,\n",
       "  7274189,\n",
       "  7270834,\n",
       "  7004502,\n",
       "  6049951,\n",
       "  4203213,\n",
       "  4127855,\n",
       "  4116796,\n",
       "  3568452,\n",
       "  4004552,\n",
       "  5741335,\n",
       "  4152077,\n",
       "  4132575,\n",
       "  3848160,\n",
       "  5748878,\n",
       "  3500382,\n",
       "  4322712,\n",
       "  4276524,\n",
       "  4189031,\n",
       "  3810764,\n",
       "  4323716,\n",
       "  4044448,\n",
       "  3609404,\n",
       "  3849445,\n",
       "  7068285,\n",
       "  7308810,\n",
       "  12127694,\n",
       "  4168308,\n",
       "  3828022,\n",
       "  7305624,\n",
       "  4060843,\n",
       "  7303929,\n",
       "  7258760,\n",
       "  3754186,\n",
       "  4310715],\n",
       " 'context': None,\n",
       " 'context_citation': None,\n",
       " 'url': 'https://api.case.law/v1/cases/2573580/',\n",
       " 'docket_number': 'Nos. 47, 48 MAP 2004',\n",
       " 'volume': {'url': 'https://api.case.law/v1/volumes/32044088383518/',\n",
       "  'volume_number': '589',\n",
       "  'barcode': '32044088383518'},\n",
       " 'reporter': {'url': 'https://api.case.law/v1/reporters/409/',\n",
       "  'full_name': 'Pennsylvania State Reports',\n",
       "  'id': 409},\n",
       " 'frontend_pdf_url': 'https://cite.case.law/pdf/2573580/Kvaerner%20Metals%20Division%20of%20Kvaerner%20U.S.,%20Inc.%20v.%20Commercial%20Union%20Insurance,%20589%20Pa.%20317,%20908%20A.2d%20888%20(2006).pdf',\n",
       " 'preview': [],\n",
       " 'analysis': {'word_count': 5909,\n",
       "  'random_bucket': 11142,\n",
       "  'sha256': '8703e2e18c55af5db09fb2c412f5d0c22ac254ba18dda21289c18f07f30a3626',\n",
       "  'ocr_confidence': 0.707,\n",
       "  'char_count': 37273,\n",
       "  'random_id': 2047224710,\n",
       "  'pagerank': {'percentile': 0.9947392685828401, 'raw': 1.946044767071385e-06},\n",
       "  'cardinality': 1336,\n",
       "  'simhash': '1:8090f344b4cdb7d4'},\n",
       " 'provenance': {'date_added': '2019-08-29',\n",
       "  'batch': '2018',\n",
       "  'source': 'Harvard'}}"
      ]
     },
     "execution_count": 15,
     "metadata": {},
     "output_type": "execute_result"
    }
   ],
   "source": [
    "decisions_list[1].model_dump()"
   ]
  },
  {
   "cell_type": "code",
   "execution_count": 16,
   "metadata": {},
   "outputs": [
    {
     "name": "stdout",
     "output_type": "stream",
     "text": [
      "'Cunningham, 120 Cal. Rptr. 2d 162 (2002-04-30)' cites to 22 cases & been cited 7 times.\n",
      "'Waller, 900 P.2d 619 (1995-08-28)' cites to 14 cases & been cited 20 times.\n",
      "'National Steel Corp. v. Golden Eagle Insurance, 121 F.3d 496 (1997-08-06)' cites to 49 cases & been cited 41 times.\n",
      "'Zurich American Insurance Co. v. Nokia, Inc., 268 S.W.3d 487 (2008-08-29)' cites to 54 cases & been cited 97 times.\n"
     ]
    },
    {
     "data": {
      "text/markdown": [
       "|    | Citation              |   cites_to_count |   cited_by_count |\n",
       "|---:|:----------------------|-----------------:|-----------------:|\n",
       "|  0 | 120 Cal. Rptr. 2d 162 |               22 |                7 |\n",
       "|  1 | 44 Cal. Rptr. 2d 370  |               14 |               20 |\n",
       "|  2 | 121 F.3d 496          |               49 |               41 |\n",
       "|  3 | 268 S.W.3d 487        |               54 |               97 |"
      ],
      "text/plain": [
       "<IPython.core.display.Markdown object>"
      ]
     },
     "execution_count": 16,
     "metadata": {},
     "output_type": "execute_result"
    }
   ],
   "source": [
    "top_four = cl_cites + cap_cites\n",
    "top_four_df = pd.DataFrame({\"Citation\": top_four})\n",
    "top_four_updated, decisions = process_citations(top_four_df)\n",
    "Markdown(top_four_updated.to_markdown())"
   ]
  },
  {
   "cell_type": "code",
   "execution_count": 17,
   "metadata": {},
   "outputs": [
    {
     "data": {
      "text/plain": [
       "169"
      ]
     },
     "execution_count": 17,
     "metadata": {},
     "output_type": "execute_result"
    }
   ],
   "source": [
    "case_list = decisions + cl_cases + cap_cases\n",
    "len(case_list)"
   ]
  },
  {
   "cell_type": "code",
   "execution_count": 4,
   "metadata": {},
   "outputs": [],
   "source": [
    "# save_models_to_json(case_list, \"./data/models/top_four.json\")\n",
    "cases = load_models_from_json(Decision, \"./data/models/top_four.json\")"
   ]
  },
  {
   "cell_type": "code",
   "execution_count": 5,
   "metadata": {},
   "outputs": [
    {
     "data": {
      "text/plain": [
       "7"
      ]
     },
     "execution_count": 5,
     "metadata": {},
     "output_type": "execute_result"
    }
   ],
   "source": [
    "forward_cases = filter_decisions_by_forward_citations(cases[0], cases)\n",
    "len(forward_cases)"
   ]
  },
  {
   "cell_type": "code",
   "execution_count": 6,
   "metadata": {},
   "outputs": [
    {
     "data": {
      "text/plain": [
       "['120 Cal. Rptr. 2d 162', '98 Cal. App. 4th 1141']"
      ]
     },
     "execution_count": 6,
     "metadata": {},
     "output_type": "execute_result"
    }
   ],
   "source": [
    "citations = [citation.cite for citation in cases[0].citations]\n",
    "citations"
   ]
  },
  {
   "cell_type": "code",
   "execution_count": 7,
   "metadata": {},
   "outputs": [
    {
     "data": {
      "text/markdown": [
       "This in no way interfered with Fidelitone's use of the premises. (Citations omitted) (emphasis added). In its initial brief in this Court, BTR argues that its actions did not constitute a constructive eviction. This argument, however, invokes the wrong doctrine of law, because the doctrine of constructive eviction is not applicable to the facts of the case sub judice. [2] In its reply brief, BTR clarifies that the circuit court erred in finding that BTR evicted Source Interlink from the property. According to BTR, Source Interlink (1) had decommissioned the property and was only using it to store equipment, (2) \"continued to store and showcase property in the facility\" even after Fidelitone had left, (3) was informed at all times by BTR that Fidelitone's occupancy was only temporary, and (4) \"maintained the keys to the premises and continued to access the property weekly.\" Such facts, argues BTR, demonstrate that BTR did not \"interfere[ ] with any of the activities which Source [Interlink] conducted in the space prior to, during or after the flood.\" Because Source Interlink's \"use of the space and its activities with respect to *152 the space never changed,\" BTR argues that it was \"impossible to have an actual eviction.\" We disagree and explain. Our review of Maryland case law has disclosed no definition of \"actual eviction.\" Black's Law Dictionary 35 (6th ed.1990) defines actual eviction as \"[a]n actual expulsion of the tenant out of all or some part of the demised premises. A physical ouster or dispossession from the very thing granted or some substantial part thereof. \" (Emphasis added). Thompson on Real Property § 41.03(c)(2), entitled \"Actual Eviction by the Landlord,\" explains: The landlord will be in breach of the implied covenant of quiet enjoyment if the landlord, or someone for whose acts the landlord is responsible, wrongfully ousts the tenant from the leased premises. The cases refer to this conduct, which can take the form of physical expulsion or a physical exclusion of the tenant from the leased premises, as an actual eviction. Particular acts by the landlord that have been found to be sufficient to constitute actual eviction of a tenant have included changing the locks on the leased premises, refusing to permit the tenant to enter a building in which space has been leased, padlocking the entry to the leased premises, and taking possession of the leased premises with threats of violence against the tenant or members of the tenant's family if they attempt to re-enter. The cases also recognize that the landlord's eviction efforts may deprive the tenant of only a portion of the leased premises, leaving the tenant in possession of the remainder. If the landlord deprives the tenant of a significant portion of the leased premises, the landlord's conduct will generally be regarded as constituting a partial actual eviction, and a breach of the implied covenant. (Emphasis added) (footnotes omitted); see also Cunningham v. Universal Underwriters, 98 Cal. App. 4th 1141 , 120 Cal. Rptr. 2d 162 , 168-69 (2002) (\"The legal definition of an eviction is the same: an `eviction' is `[t]he act or process of legally dispossessing a person of land or rental property.' (Black's Law Dict. (7th ed.1999) p. 575, col. 2.) A wrongful eviction thus occurs when the person recovering the property had no right to dispossess the other party from the property.\" (Alteration in original)); cf. Day v. Watson, 8 Mich. 535 , 536 (1860) (\"[T]he entry being followed by a continuous possession, which was inconsistent with the possessory title assured to the tenants under the lease, that possession amounts very clearly to an eviction.\"). The Restatement (Second) of Property: Landlord and Tenant § 6.1 (hereinafter \"the Restatement\"), provides in pertinent part: Except to the extent the parties to a lease validly agree otherwise, there is a breach of the landlord's obligations if, during the period the tenant is entitled to possession of the leased property, the landlord, or someone whose conduct is attributable to him, interferes with a permissible use of the leased property by the tenant. (Emphasis added). Comment (a) to section 6.1 of the Restatement states that \"[t]he conduct in § 6.1 is more commonly referred to as an eviction by the landlord.\" (Emphasis added). Comment (b) to section 6.1 of the Restatement further explains that \"[a]n unauthorized possession of all or any part of the leased property by the landlord, or someone whose conduct is attributable to him, is an eviction of the tenant that could be cured by the tenant himself.\" One of the Illustrations given in Comment (b) is particularly relevant to the instant case: *153 L leases land to T. T enters the leased property. Six months later L, without T's consent, takes possession of a building located on a remote corner of the leased premises that T is not currently using. L's possession of part of the leased property is unauthorized, and L is interfering with a permissible use thereof by T. The actions of BTR in allowing Fidelitone to take possession of the premises leased to Source Interlink are more extensive than the Illustration discussed above. Source Interlink leased approximately 126,786 square feet of the Hampstead Facility, of which 114,891 square feet was warehouse space and 11,895 square feet was office space. Clark, a member of BTR, \"testified that Fidelitone used and occupied 115,000 square feet of Source Interlink's space, constituting substantially all of Source Interlink's warehouse space.\" Although there was testimony that Source Interlink stored \"a large piece of equipment\" in the warehouse during the time Fidelitone occupied the premises, the impact of such equipment on the warehouse space used by Fidelitone was negligible. The equipment referred to was Source Interlink's air system, consisting mainly of a Twinn City Fan and Blower, which was mounted on the roof. Source Interlink wanted to sell the air system, and estimated that its removal would cost $8,500.00."
      ],
      "text/plain": [
       "<IPython.core.display.Markdown object>"
      ]
     },
     "metadata": {},
     "output_type": "display_data"
    },
    {
     "data": {
      "text/markdown": [
       "Here, R & H, tenants of the Property, have sued Plaintiffs, their landlords, for invading their right of private occupancy to the Property, not merely based on the contamination of the property, but also based on Plaintiffs' alleged failure to inspect and disclose contamination. Accordingly, the Court finds that the Underlying Complaint alleges personal injury claims separate from claims for property damage. [1] 3) Applicability of the Pollution Exclusion The Hartford argues that, even if the Court finds that the Underlying Complaint alleges personal injury damages, the Second Pollution Exclusion bars coverage. The Court disagrees. Although the Second Pollution Exclusion does not expressly state that it applies only to property damage or bodily injury, both pollution exclusions are listed as exclusions under Section IA of the insurance contract, the section of *1085 the contract dealing with coverage for bodily injury and property damage liability. Coverage for personal injury claims, on the other hand, is found in Section IB, a separate section containing its own insuring agreement and applicable exclusions. Given the structure of the insurance contract, an insured would reasonably expect that the exclusions listed under Section IA of the insurance contract, including both pollution exclusions, apply only to property damage or bodily injury. See Legarra v. Federated Mut. Ins. Co., 35 Cal. App.4th 1472 , 1477, 42 Cal.Rptr.2d 101 (1995)(finding that, given the format of the policy, an insured would reasonably expect the pollution exclusion to apply only to coverage for bodily injury and property damage, despite the lack of specific reference in the pollution exclusion to bodily injury and property damage). Therefore, the Court finds that the pollution exclusions in the insurance contract do not bar coverage for personal injury claims against the insured, and The Hartford has a duty to defend Plaintiffs in the suit filed by R & H. III. CONCLUSION For the foregoing reasons, the Court GRANTS Plaintiffs' motion for partial summary judgment and DENIES The Hartford's Motion to Dismiss. IT IS SO ORDERED. NOTES [1] Plaintiffs have also argued that the allegations in the Underlying Complaint cannot be claims for \"property damage,\" since the property damage section of the policy applies only to \"tangible property.\" Plaintiffs argue that a leasehold interest is not \"tangible property\" and therefore damage to a leasehold interest is not property damage as defined in the policy. No California court has directly considered whether a tenant in possession of a property has a tangible property right. In Kazi v. State Farm Fire and Casualty Co., 24 Cal.4th 871 , 103 Cal.Rptr.2d 1 , 15 P.3d 223 (2001), the Supreme Court of California held that an easement represents only a nonpossessory right to use another's property, and therefore is not tangible property. Id. at 881, 103 Cal.Rptr.2d 1 , 15 P.3d 223 . In Cunningham v. Universal Underwriters, 98 Cal. App.4th 1141 , 120 Cal.Rptr.2d 162 (2002), a California appellate court applied the reasoning of Kazi to hold that a nonpossessing tenant, whose claimed loss concerned solely the interference with its right to possession of real property under the parties' lease, did not allege damage to a tangible property right. As the court in Cunningham explained, \"[a] tenant's right to possess property on the lease commencement date is a contractual right that does not mature into a property right until possession actually occurs. A landlord's failure to deliver possession of the premises merely gives the tenant a right to abandon the tenancy and sue for damages, but does not give the tenant the legal right to act as a possessor of the real property until the date of actual transfer.\" Id. at 1155-1156, 120 Cal.Rptr.2d 162 . The clear implication of the Cunningham court's reasoning is that when a tenant legally takes possession of the premises, the tenant, unlike an easement holder or a nonpossessing tenant, has a possessory property right in the premises. As such, a tenant in possession presumably has a tangible property interest in the premises and can assert claims for property damage, as defined in the insurance contract."
      ],
      "text/plain": [
       "<IPython.core.display.Markdown object>"
      ]
     },
     "metadata": {},
     "output_type": "display_data"
    },
    {
     "data": {
      "text/markdown": [
       "The Davises filed a motion for summary adjudication asking the trial court to conclude that Fire owed a duty to defend the underlying action and that it breached that duty. Fire moved for summary judgment or in the alternative, summary adjudication, arguing that all causes of action against it lacked merit because there was no potential for coverage under either policy. The trial court denied the Davises' motion, granted Fire's summary judgment motion and entered judgment in favor of Fire. The Davises timely appealed. DISCUSSION I. Standard of Review We review the trial court's decision granting summary judgment de novo. ( Aguilar v. Atlantic Richfield Co. (2001) 25 Cal.4th 826 , 860, 107 Cal.Rptr.2d 841 , 24 P.3d 493 ( Aguilar ).) After identifying the issues framed by the pleadings, we determine whether the moving party has established *742 facts justifying judgment in its favor. If the moving party has carried its initial burden, we then decide whether the opposing party has demonstrated the existence of a triable, material fact issue. ( Bono v. Clark (2002) 103 Cal.App.4th 1409 , 1432, 128 Cal.Rptr.2d 31 .) We must strictly construe the moving party's evidence and liberally construe the opposing party's evidence ( Binder v. Aetna Life Ins. Co. (1999) 75 Cal. App.4th 832 , 838-839, 89 Cal.Rptr.2d 540 ) and we may not weigh the evidence or conflicting inferences. ( Aguilar, supra, 25 Cal.4th at p. 856, 107 Cal.Rptr.2d 841 , 24 P.3d 493 ; Code Civ. Proc., § 437c, subd. (c).) II. Applicable Insurance Law Principles Interpretation of an insurance policy presents a question of law governed by the general rules of contract interpretation. ( Waller v. Truck Ins. Exchange, Inc. (1995) 11 Cal.4th 1 , 18, 44 Cal.Rptr.2d 370 , 900 P.2d 619 ( Waller ).) We must give effect to the intent of the parties when they formed the contract and, if possible, infer this intent solely from the written provisions of the contract. ( E.M.M.I., Inc. v. Zurich American Ins. Co. (2004) 32 Cal.4th 465 , 470, 9 Cal. Rptr.3d 701 , 84 P.3d 385 .) In so doing, we must \"look first to the language of the [insurance policy] in order to ascertain its plain meaning or the meaning a layperson would ordinarily attach to it.\" ( Waller, supra, 11 Cal.4th at p. 18, 44 Cal.Rptr.2d 370 , 900 P.2d 619 .) The language of the policy must be read in the context of the instrument as a whole under the circumstances of the case and a policy provision will be considered ambiguous when it is capable of two or more reasonable constructions. ( Id. at pp. 18-19, 44 Cal.Rptr.2d 370 , 900 P.2d 619 .) If a policy provision is ambiguous, we resolve the ambiguity in the insureds' favor, consistent with the insureds' reasonable expectations. ( Cunningham v. Universal Underwriters (2002) 98 Cal.App.4th 1141 , 1149, 120 Cal.Rptr.2d 162 .) An insurer must defend any action that seeks damages potentially within the coverage of the policy; however, no duty to defend exists when the third party complaint \"`can by no conceivable theory raise a single issue [that] could bring it within the policy coverage.'\" ( Montrose Chemical Corp. v. Superior Court (1993) 6 Cal.4th 287 , 299-300, 24 Cal.Rptr.2d 467 , 861 P.2d 1153 , quoting Gray v. Zurich Insurance Co. (1966) 65 Cal.2d 263 , 276, 54 Cal. Rptr. 104 , 419 P.2d 168 , fn. 15 ( Gray ), italics omitted.) Whether a third party action asserts a potentially covered claim under the policy triggering the duty to defend requires us to interpret the language of the insuring agreement and presents a question of law. ( Alex Robertson Co. v. Imperial Casualty & Indemnity Co. (1992) 8 Cal. App.4th 338 , 342-343, 10 Cal.Rptr.2d 165 ; Union Oil Co. v. International Ins. Co. (1995) 37 Cal. App.4th 930 , 936, 44 Cal.Rptr.2d 4 .) An insurer's duty to defend turns on the facts alleged in the underlying complaint, or available to the insurer from extrinsic sources at the time the claim is made. ( Montrose Chemical Corp. v. Superior Court, supra, 6 Cal.4th at p. 295, 24 Cal.Rptr.2d 467 , 861 P.2d 1153 ; Gray, supra, 65 Cal.2d at p. 276, 54 Cal.Rptr. 104 , 419 P.2d 168 .) The insured has the burden of showing that the claim fails within the scope of coverage and the insurer has the burden of proving that an otherwise covered claim is barred by a policy exclusion. ( Travelers Casualty & Surety Co. v. Superior Court (1998) 63 Cal. App.4th 1440 , 1453, 75 Cal.Rptr.2d 54 .) \"[I]n an action [in which] none of the claims is even potentially covered, the insurer does not have a duty to defend.\" ( Buss v. Superior Court (1997) 16 Cal.4th 35 , 47, 65 Cal.Rptr.2d 366 , 939 P.2d 766 .) *743 III. Analysis A. Policy Coverage Provisions The first step in any insurance coverage dispute is to determine whether the insuring provisions of the policy afforded coverage for the alleged losses. The policies at issue are typical homeowner's policies, divided into two separate and distinct parts: (1) first party coverage whereby the insurer agrees to indemnify its insured for specific losses to the designated property; and (2) personal liability insurance to the named insureds against third party claims against them. (See Garvey v. State Farm Fire & Casualty Co. (1989) 48 Cal.3d 395 , 399 & fn. 2, 257 Cal.Rptr. 292 , 770 P.2d 704 .) This action does not involve first party coverage; rather, it involves the personal liability portion of the policies, which provides liability coverage to the insureds, limited only by the specific exclusionary provisions of each policy. Because the personal liability portion of each policy is substantially the same, our coverage discussion applies to both policies."
      ],
      "text/plain": [
       "<IPython.core.display.Markdown object>"
      ]
     },
     "metadata": {},
     "output_type": "display_data"
    },
    {
     "data": {
      "text/markdown": [
       "Instead, they represented a “stepping away” from HMWC’s business because they were performed solely for Baek’s own benefit, not for HMWC’s. They thus cannot be said to have occurred “while performing duties related to the conduct of [HMWC’s] business.” For the same reasons, we conclude that the alleged sexual assault was not “with respect to the conduct of [HMWC’s] business.” Although HMWC’s business created the opportunity for the alleged assault, the assault was not done at HMWC’s request or for its benefit. To paraphrase Lisa M., a deliberate sexual assault “is fairly attributed not to any peculiar aspect of [a massage enterprise], but only to ‘propinquity and lust.’” (Lisa M., 14 supra, 12 Cal.4th at p. 302.) It therefore cannot be characterized as having occurred “with respect to” the conduct of HMWC’s business. ”2 Baek contends that the phrase “but only with respect to the conduct of [HMWC’s] business” should be read broadly, to connote only a minimal causal connection or incidental relationship. Neither of the cases Baek cites in support of this argument concern sexual misconduct, however, and thus neither stands for the proposition that sexual harassment or sexual assault has the requisite causal connection to Baek’s employment to give rise to coverage under an employer’s CGL policy. (Hartford Casualty Ins. Co. v. Travelers Indemnity Co. (2003) 110 Cal. App.4th 710 , 714 [held: commercial tenant’s CGL insurer owed landlord a duty of defense in premises liability action brought by tenant’s employee’s parents; rejecting insurer’s contention that “‘but only with respect to’” refers only to liability directly caused by landlord]; Acceptance Ins. Co. v. Syufy Enterprises (1999) 69 Cal. App.4th 321 , 328 [building owner was additional insured under contractor’s CGL policy when contractor’s employee was injured while performing repairs on building’s roof; “[employee’s] injury clearly ‘arose out of’ the work he was performing on the roof of Syufy’s building. The relationship between the defective [roof] hatch and the job was more than incidental, in that [employee] could not have done the job without passing through the hatch.” ].) D. Baek’s Additional Contentions Are Without Merit 1. Negligence Baek contends that even if there was no duty to defend with regard to the allegations of sexual assault, there was a duty to defend Jaime W.’s claim of negligence. We do not agree. “The scope of the duty does not depend on the labels given to the causes of action in the third party complaint; instead it rests on whether the alleged facts . . . reveal a possibility that the claim may be covered by the policy.” (Atlantic Mutual Ins. Co. v. J. Lamb, Inc. (2002) 100 Cal.App.4th 1017 , 1034, italics omitted; 2 Having so concluded, we do not address Continental’s additional contention that it did not owe Baek a duty of defense because he did not timely tender his claim. 15 Cunningham v. Universal Underwriters (2002) 98 Cal.App.4th 1141 , 1148 [same].) Here, although Jaime W. asserts a cause of action for negligent massage, the sole facts alleged in support describe intentional conduct—i.e., that Baek “touched, fondled, rubbed, grabbed and squeezed Plaintiff’s breasts, buttocks, inner thighs and genitals, all while making and emitting moans, groans, grunts and other sounds and noises of sexual pleasure.” These alleged acts of sexual misconduct “are, by their very nature, intentional” (Coit Drapery Cleaners, Inc. v. Sequoia Ins. Co. (1993) 14 Cal. App.4th 1595 , 1606)—to paraphrase Shanahan v. State Farm General Ins. Co. (2011) 193 Cal. App.4th 780 , 788, one does not “accidentally” sexually fondle another. Thus, the cause of action for negligence did not give rise to a duty to defend. Jaime W.’s complaint also alleges that each defendant negligently hired, trained, and supervised Baek. Although this allegation on its face is alleged against Baek, as well as the other defendants, we conclude that Baek cannot be liable for failing to use due care while supervising himself. (See State Farm Fire & Casualty Co. v. Century Indemnity Co. (1997) 59 Cal. App.4th 648 , 663 [“We next note that State Farm treats Derrick and the other teachers the same with respect to the claims based on the failure to report. However, in doing so, State Farm conveniently ignores obvious and material differences between them. The other teachers’ potential liability arose solely from their failure to properly respond to information about sexual misconduct by another teacher. . . . [¶] [I]f [insurer] had a duty to defend Derrick against claims based on failure to report, what would emerge is a simple way to plead around the caselaw that precludes a duty to defend teachers against claims of molestation. One need only allege that the teacher/molester negligently failed to report the information known to him or her that would lead a reasonable person to suspect a student had been molested.” ].) 2. False Imprisonment Baek contends Continental had a duty to defend because Jaime W.’s complaint contained a cause of action for false imprisonment, for which there is coverage under the Continental policy. Again, we do not agree. Courts have found no duty to defend 16 allegations of nonsexual misconduct that are “inseparably intertwined” with allegations of intentional sexual misconduct. For example, in Jane D. v. Ordinary Mutual (1995) 32 Cal.App.4th 643 , 653, the plaintiff’s allegations of nonsexual conduct—“obtaining information about plaintiff during counseling and using this information and misusing counseling techniques to create transference and to control and induce plaintiff’s behavior”—were “‘inseparably intertwined’” with the allegations of sexual assault. The court explained: “Plaintiff’s complaint alleges [defendant’s] misuse of his counseling position resulted in the inducement for her to engage in sexual relations with him. He used the information he learned about plaintiff to influence and control her behavior and he utilized the feelings created by transference to create a sexual relationship. None of the allegations of [defendant’s] malfeasance in counseling stands separate from the allegation of sexual misconduct."
      ],
      "text/plain": [
       "<IPython.core.display.Markdown object>"
      ]
     },
     "metadata": {},
     "output_type": "display_data"
    },
    {
     "data": {
      "text/markdown": [
       "(Pl.'s Evid., Ex. 12, at 1.) \"Personal injury\" is defined to include \"injury, other than `bodily injury,' arising out of ... the wrongful eviction from, wrongful entry into, or invasion of the right of private occupancy of a room, dwelling or premises that a person occupies by or on behalf of its owner, landlord or lessor.\" (Id., at 3.) III. DISCUSSION The parties dispute whether or not Defendant owes Plaintiff a defense of Hollow's Cross-Complaint. Plaintiff seeks a declaration that Defendant has a duty to defend it, arguing Hollow's nuisance claim is covered by the policy's coverage for injury arising out of \"invasion of the right of private occupancy of a room, dwelling or premises that a person occupies by or on behalf of its owner, landlord or lessor....\" (Pl.'s P. & A. in Supp. of Mot. for Partial Summ. J. (\"Mot.\") 8:9-19.) Defendant rejoins that it does not owe Plaintiff a defense because \"invasion of the right of private occupancy,\" requires a physical invasion, and \"[n]oise simply is not a physical invasion of the right to private occupancy in California.\" (Def.'s P. & A. in Opp'n to Pl.'s Mot. for Summ. J. (\"Opp'n\") 9:8-10, 10:20-21.) Defendant further counters that it does not owe Plaintiff a defense since the clause \"by or on behalf of its owner, landlord or lessor,\" modifies the word \"invasion,\" requiring Plaintiff to own the affected property for there to be coverage, and Plaintiff does not own Hollow's property. (Opp'n 7:11-15.) A. An Insurer's Duty to Defend Under California law, An insurer must defend its insured against claims that create a potential for indemnity under the policy. The duty to defend is broader than the duty to indemnify, and it may apply even in an action where no damages are ultimately awarded. Determination of the duty to defend depends, in the first instance, on a comparison between the allegations of the complaint and the terms of the policy. But the duty also exists where extrinsic facts known to the insurer suggest that the claim may be covered. Moreover, that the precise causes of action pled by the third-party complaint may fall outside policy coverage does not excuse the duty to defend where, under the facts alleged, reasonably inferable, or otherwise known, the complaint could fairly be amended to state a covered liability. Scottsdale Ins. Co. v. MV Transp., 36 Cal. 4th 643 , 654, 31 Cal. Rptr. 3d 147 , 115 P.3d 460 (2005) (citation omitted). Further, \"[a]ny doubt as to whether the facts give rise to a duty to defend is resolved in the insured's favor.\" Horace Mann Ins. Co. v. Barbara B., 4 Cal. 4th 1076 , 1081, 17 Cal. Rptr. 2d 210 , 846 P.2d 792 (1993). In a duty to defend case, an insured moving for summary judgment \"need only show `the existence of a potential for coverage,' i.e., `that the underlying claim may fall within policy coverage.'\" Cunningham v. Univ. Underwriters, 98 Cal. App. 4th 1141 , 1147, 120 Cal. Rptr. 2d 162 (2002) (citing Montrose Chem. Corp. v. Sup. Ct., 6 Cal. 4th 287 , 300, 24 Cal. Rptr. 2d 467 , 861 P.2d 1153 (1993)). Whereas, an insurer moving for summary judgment \"`must establish the absence of any ... potential' for coverage, i.e., that the underlying complaint `can by no conceivable theory raise a single issue which could bring *891 it within the policy coverage.'\" Id. (citing Montrose Chem. Corp., at 300, 24 Cal. Rptr. 2d 467 , 861 P.2d 1153 (1993)). \"Although the insurer's burden in moving for summary judgment is greater than the insured's burden in bringing its own affirmative motion, this disparity merely reflects the substantive law.\" Id. (citation omitted). When an insurer owes a duty of defense, \"the insurer is obligated to defend against all of the claims involved in the action, both covered and noncovered....\" Horace Mann Ins. Co. v. Barbara B., 4 Cal. 4th 1076 , 1081, 17 Cal. Rptr. 2d 210 , 846 P.2d 792 (1993). \"To defend meaningfully, the insurer must defend immediately. To defend immediately, it must defend entirely. It cannot parse the claims, dividing those that are at least potentially covered from those that are not.\" Buss v. Sup. Ct., 16 Cal. 4th 35 , 49, 65 Cal. Rptr. 2d 366 , 939 P.2d 766 (1997). B. Applicable Principals of Insurance Policy Interpretation The principles of insurance policy interpretation are well-settled under California law: Interpretation of an insurance policy is a question of law. While insurance contracts have special features, they are still contracts to which ordinary rules of contractual interpretation apply. Thus, the mutual intention of the parties at the time the contract is formed governs interpretation. If possible, [courts] infer this intent solely from the written provisions of the insurance policy. If the policy language is clear and explicit, it governs. When interpreting a policy provision, [courts] must give its terms their ordinary and popular sense unless used by the parties in a technical sense or a special meaning is given to them by usage. We must also interpret these terms in context, and give effect to every part of the policy with each clause helping to interpret the other. Palmer v. Truck Ins. Exchange, 21 Cal. 4th 1109 , 1115, 90 Cal. Rptr. 2d 647 , 988 P.2d 568 (1999) (quotations and citations omitted). \"A policy provision will be considered ambiguous when it is capable of two or more constructions, both of which are reasonable. But language in a contract must be interpreted as a whole, and in the circumstances of the case, and cannot be found to be ambiguous in the abstract.\" Waller v. Truck Ins. Exchange, Inc., 11 Cal. 4th 1 , 18, 44 Cal. Rptr. 2d 370 , 900 P.2d 619 (1995). \"There cannot be an ambiguity per se, i.e. an ambiguity unrelated to an application.\" Bay Cities Paving & Grading, Inc. v. Lawyers' Mutual Ins. Co., 5 Cal. 4th 854 , 867, 21 Cal. Rptr."
      ],
      "text/plain": [
       "<IPython.core.display.Markdown object>"
      ]
     },
     "metadata": {},
     "output_type": "display_data"
    },
    {
     "data": {
      "text/markdown": [
       "We affirm. Factual and Procedural Summary In October of 1991, Medina was struck by a car driven by an uninsured motorist. She worked for Robinsons-May, and the accident took place in the employee parking *160 lot. Robinsons-May, which is self-insured for workers' compensation claims, paid her medical and other expenses in an amount which exceeded $15,000. Medina and Ayala [1] had automobile insurance with Mercury. The declarations page lists uninsured motorist bodily injury coverage limits of $15,000 per person and $30,000 per accident. Ayala and Medina made claims under that coverage. Mercury denied the claims, then sued for declaratory relief, seeking a declaration that both claims were subject to a single $15,000 per person limit and that the limit was exhausted because it was reduced by the workers' compensation benefits paid to Medina. Appellants cross-complained for declaratory relief, breach of contract, and bad faith. Mercury moved for summary judgment on the complaint. The court granted the motion, finding that the claims were not covered. Mercury demurred to the amended cross-complaint on that ground. The demurrer was sustained and judgment was entered in Mercury's favor. Discussion 1. Mercury's reliance on a specimen policy [**] 2. Coverage: Which limit applies? [2] Part IV of appellants' policy is entitled \"Uninsured Motorists Coverage.\" In it, Mercury promises to pay \"all sums which the insured ... shall be legally entitled to recover as damages from the owner, or operator of an uninsured motor vehicle because of bodily injury, sustained by the insured, caused by accident and arising out of the ... use of such uninsured motor vehicles....\" The next part of the policy, titled \"Part IV  Conditions,\" includes the provision that \"The limit of liability stated in the declarations as applicable to `each person' is the limit of the company's liability for all damages arising out of bodily injury sustained by one person in any one accident, ... For the purposes of this provision, the `bodily injury sustained by any one person' as used herein, shall be deemed to include all injury and damages for care, loss of consortium and injury to any interpersonal relationship sustained by others as a consequence of such bodily injury.\" The second quoted sentence is in bold face. At summary judgment, Mercury contended that the unambiguous language of this clause meant that the per person limit of $15,000, not the per accident limit of $30,000, applies to appellants' claims. Appellants make two claims, that the per accident limit applies under the terms of the policy and that the per accident limit must apply, because Insurance Code section 11580.2 mandates that it does. As to the policy itself, we agree with Mercury that the language is unambiguous. We thus give effect to its plain meaning ( Cunningham v. Universal Underwriters (2002) 98 Cal. App. 4th 1141 , 1149, 120 Cal. Rptr. 2d 162 ), which is clearly the one Mercury ascribes to it  the per person limit applies. Numerous cases beginning with United Services Automobile Assn. v. Warner (1976) 64 Cal. App. 3d 957 , 135 Cal. Rptr. 34 have construed similar language in liability policies and have found that the *161 language is unambiguous and means what Mercury, and we, say that it means. Appellants seek a different result, citing Abellon v. Hartford Ins. Co. (1985) 167 Cal. App. 3d 21 , 212 Cal. Rptr. 852 . Abellon, like Warner, is a declaratory relief action filed by an insurer after its insured was in a car accident and was sued not only by the other driver, but by that driver's spouse on a loss of consortium claim. Neither case involves uninsured motorist coverage, but in both cases, the insurer sought a declaration that the per person, not the per accident, limit of the liability coverage applied. Warner found that the per person limit applied, and Abellon found that the per accident limit applied. However, in Warner, the policy language was like the language before us, [3] and in Abellon there was no similar language defining \"bodily injury to any one person\" to include the loss of consortium sustained by another. Instead, the insured in Abellon case had \"no notice when it purchased the policy that loss of consortium damages fell within the purview of the `per person' limitation.\" ( Id. at p. 31, 212 Cal. Rptr. 852 .) Abellon does not help us construe appellants' policy. We next consider appellants' statutory argument. Insurance Code section 11580.2 sets out the minimum uninsured motorist coverage which every car insurance policy must include. It is designed to ensure that drivers injured by uninsured motorists drivers are protected to the same extent they would have been if the driver at fault had carried the statutory minimum of liability insurance. If a policy conflicts with the statute, the statute prevails. ( Hartford Casualty Ins. Co. v. Cancilla (1994) 28 Cal. App. 4th 1305 , 1310, 34 Cal. Rptr. 2d 302 .) Insurance Code section 11580.2 sets out the minimum coverage in two ways. First, it provides that unless the insured agrees in writing to the contrary, the uninsured motorist coverage must have limits at least equal to the limits of liability for bodily injury in the underlying policy of insurance. (Ins.Code, § 11580.2, subd. (a)(1); (m).) Appellants' policy complies with this requirement. The uninsured motorist bodily injury coverage limits are the same as the bodily injury limits in the rest of the policy. Indeed, the definition of \"bodily injury sustained by any one person\" is the same in both coverages."
      ],
      "text/plain": [
       "<IPython.core.display.Markdown object>"
      ]
     },
     "metadata": {},
     "output_type": "display_data"
    },
    {
     "data": {
      "text/markdown": [
       "*472 4. Disposition We affirm the trial court's judgment. Scottsdale shall recover its costs on appeal. We concur: RAMIREZ, P.J., and WARD, J. NOTES [1] Guz v. Bechtel National, Inc. (2000) 24 Cal.4th 317 , 334, 100 Cal.Rptr.2d 352 , 8 P.3d 1089 . [2] Parsons v. Crown Disposal Co. (1997) 15 Cal.4th 456 , 500, 63 Cal.Rptr.2d 291 , 936 P.2d 70 . [3] See Code of Civil Procedure section 437c, subdivision (c); Guz v. Bechtel National, Inc., supra, 24 Cal.4th at page 334, 100 Cal.Rptr.2d 352 , 8 P.3d 1089 . [4] See Smith Kandal Real Estate v. Continental Casualty Co. (1998) 67 Cal. App.4th 406 , 414, 79 Cal.Rptr.2d 52 . [5] Smith Kandal Real Estate v. Continental Casualty Co., supra, 67 Cal. App.4th at pages 413-414, 79 Cal.Rptr.2d 52 . [6] Smith Kandal Real Estate v. Continental Casualty Co., supra, 67 Cal. App.4th at page 414, 79 Cal.Rptr.2d 52 . [7] See Waller v. Truck Ins. Exchange, Inc. (1995) 11 Cal.4th 1 , 18, 44 Cal.Rptr.2d 370 , 900 P.2d 619 . [8] See Waller v. Truck Ins. Exchange, Inc., supra, 11 Cal.4th at page 18, 44 Cal.Rptr.2d 370 , 900 P.2d 619 ; Buxbaum v. Aetna Life & Casualty Co. (2002) 103 Cal. App.4th 434 , 442, 126 Cal.Rptr.2d 682 . [9] See Waller v. Truck Ins. Exchange, Inc., supra, 11 Cal.4th at page 19, 44 Cal.Rptr.2d 370 , 900 P.2d 619 . [10] Waller v. Truck Ins. Exchange, Inc., supra, 11 Cal.4th at page 19, 44 Cal.Rptr.2d 370 , 900 P.2d 619 . [11] American Internat. Bank v. Fidelity & Deposit Co. (1996) 49 Cal. App.4th 1558 , 1571, 57 Cal.Rptr.2d 567 . [12] See Montrose Chemical Corp. v. Superior Court (1993) 6 Cal.4th 287 , 297-298, 24 Cal. Rptr.2d 467 , 861 P.2d 1153 ; Swain v. California Casualty Ins. Co. (2002) 99 Cal. App.4th 1 , 8, 120 Cal.Rptr.2d 808 ; Northland Ins. Co. v. Briones (2000) 81 Cal. App.4th 796 , 806, 97 Cal.Rptr.2d 127 ; Hurley Construction Co. v. State Farm Fire & Casualty Co. (1992) 10 Cal. App.4th 533 , 538, 12 Cal.Rptr.2d 629 . [13] See Buena Vista Mines, Inc. v. Industrial Indemnity Co. (2001) 87 Cal. App.4th 482 , 487, 104 Cal.Rptr.2d 557 . [14] See FMC Corp. v. Plaisted & Companies (1998) 61 Cal. App.4th 1132 , 1154-1155, 72 Cal.Rptr.2d 467 . [15] FMC Corp. v. Plaisted & Companies, supra, 61 Cal. App.4th at page 1155, 72 Cal.Rptr.2d 467 ; see also Ringler Associates Inc. v. Maryland Casualty Co. (2000) 80 Cal. App.4th 1165 , 96 Cal.Rptr.2d 136 . [16] Aerojet-General Corp. v. Transport Indemnity Co. (1997) 17 Cal.4th 38 , 59, 70 Cal. Rptr.2d 118 , 948 P.2d 909 . [17] Aerojet-General Corp. v. Transport Indemnity Co., supra, 17 Cal.4th at page 59, 70 Cal.Rptr.2d 118 , 948 P.2d 909 . [18] See Montrose Chemical Corp. v. Superior Court, supra, 6 Cal.4th at page 300, 24 Cal. Rptr.2d 467 , 861 P.2d 1153 ; Cunningham v. Universal Underwriters (2002) 98 Cal.App.4th 1141 , 1147, 120 Cal.Rptr.2d 162 . [19] Hurley Construction Co. v. State Farm Fire & Casualty Co., supra, 10 Cal. App.4th at page 538, 12 Cal.Rptr.2d 629 . [20] Cutler-Orosi Unified School Dist. v. Tulare County School etc. Authority (1994) 31 Cal. App.4th 617 , 633, 37 Cal.Rptr.2d 106 . [21] See Nissel v. Certain Underwriters at Lloyd's of London (1998) 62 Cal.App.4th 1103 , 1111, 73 Cal.Rptr.2d 174 . [22] But see Roger H. Proulx & Co. v. Crest-Liners, Inc. (2002) 98 Cal. App.4th 182 , 203, 119 Cal.Rptr.2d 442 (involving facts indicating possible damage to property other than tank liner on which contractor was performing work). [23] See Buena Vista Mines, Inc. v. Industrial Indemnity Co., supra, 87 Cal. App.4th at page 488, 104 Cal.Rptr.2d 557 , quoting Waller v. Truck Ins. Exchange, Inc.. supra, 11 Cal.4th at page 36, 44 Cal.Rptr.2d 370 , 900 P.2d 619 ; San Diego Housing Com. v. Industrial Indemnity Co. (1998) 68 Cal."
      ],
      "text/plain": [
       "<IPython.core.display.Markdown object>"
      ]
     },
     "metadata": {},
     "output_type": "display_data"
    }
   ],
   "source": [
    "for i in range(len(forward_cases)):\n",
    "    forward_cases[i].set_citation_context(citations)\n",
    "    display(Markdown(forward_cases[i].context))"
   ]
  },
  {
   "cell_type": "code",
   "execution_count": 8,
   "metadata": {},
   "outputs": [
    {
     "data": {
      "text/plain": [
       "7"
      ]
     },
     "execution_count": 8,
     "metadata": {},
     "output_type": "execute_result"
    }
   ],
   "source": [
    "decisions_context = extract_parallel_citation_context(forward_cases, citations)\n",
    "len(decisions_context)"
   ]
  },
  {
   "cell_type": "code",
   "execution_count": 9,
   "metadata": {},
   "outputs": [
    {
     "data": {
      "text/plain": [
       "'(Pl.\\'s Evid., Ex. 12, at 1.) \"Personal injury\" is defined to include \"injury, other than `bodily injury,\\' arising out of ... the wrongful eviction from, wrongful entry into, or invasion of the right of private occupancy of a room, dwelling or premises that a person occupies by or on behalf of its owner, landlord or lessor.\" (Id., at 3.) III. DISCUSSION The parties dispute whether or not Defendant owes Plaintiff a defense of Hollow\\'s Cross-Complaint. Plaintiff seeks a declaration that Defendant has a duty to defend it, arguing Hollow\\'s nuisance claim is covered by the policy\\'s coverage for injury arising out of \"invasion of the right of private occupancy of a room, dwelling or premises that a person occupies by or on behalf of its owner, landlord or lessor....\" (Pl.\\'s P. & A. in Supp. of Mot. for Partial Summ. J. (\"Mot.\") 8:9-19.) Defendant rejoins that it does not owe Plaintiff a defense because \"invasion of the right of private occupancy,\" requires a physical invasion, and \"[n]oise simply is not a physical invasion of the right to private occupancy in California.\" (Def.\\'s P. & A. in Opp\\'n to Pl.\\'s Mot. for Summ. J. (\"Opp\\'n\") 9:8-10, 10:20-21.) Defendant further counters that it does not owe Plaintiff a defense since the clause \"by or on behalf of its owner, landlord or lessor,\" modifies the word \"invasion,\" requiring Plaintiff to own the affected property for there to be coverage, and Plaintiff does not own Hollow\\'s property. (Opp\\'n 7:11-15.) A. An Insurer\\'s Duty to Defend Under California law, An insurer must defend its insured against claims that create a potential for indemnity under the policy. The duty to defend is broader than the duty to indemnify, and it may apply even in an action where no damages are ultimately awarded. Determination of the duty to defend depends, in the first instance, on a comparison between the allegations of the complaint and the terms of the policy. But the duty also exists where extrinsic facts known to the insurer suggest that the claim may be covered. Moreover, that the precise causes of action pled by the third-party complaint may fall outside policy coverage does not excuse the duty to defend where, under the facts alleged, reasonably inferable, or otherwise known, the complaint could fairly be amended to state a covered liability. Scottsdale Ins. Co. v. MV Transp., 36 Cal. 4th 643 , 654, 31 Cal. Rptr. 3d 147 , 115 P.3d 460 (2005) (citation omitted). Further, \"[a]ny doubt as to whether the facts give rise to a duty to defend is resolved in the insured\\'s favor.\" Horace Mann Ins. Co. v. Barbara B., 4 Cal. 4th 1076 , 1081, 17 Cal. Rptr. 2d 210 , 846 P.2d 792 (1993). In a duty to defend case, an insured moving for summary judgment \"need only show `the existence of a potential for coverage,\\' i.e., `that the underlying claim may fall within policy coverage.\\'\" Cunningham v. Univ. Underwriters, 98 Cal. App. 4th 1141 , 1147, 120 Cal. Rptr. 2d 162 (2002) (citing Montrose Chem. Corp. v. Sup. Ct., 6 Cal. 4th 287 , 300, 24 Cal. Rptr. 2d 467 , 861 P.2d 1153 (1993)). Whereas, an insurer moving for summary judgment \"`must establish the absence of any ... potential\\' for coverage, i.e., that the underlying complaint `can by no conceivable theory raise a single issue which could bring *891 it within the policy coverage.\\'\" Id. (citing Montrose Chem. Corp., at 300, 24 Cal. Rptr. 2d 467 , 861 P.2d 1153 (1993)). \"Although the insurer\\'s burden in moving for summary judgment is greater than the insured\\'s burden in bringing its own affirmative motion, this disparity merely reflects the substantive law.\" Id. (citation omitted). When an insurer owes a duty of defense, \"the insurer is obligated to defend against all of the claims involved in the action, both covered and noncovered....\" Horace Mann Ins. Co. v. Barbara B., 4 Cal. 4th 1076 , 1081, 17 Cal. Rptr. 2d 210 , 846 P.2d 792 (1993). \"To defend meaningfully, the insurer must defend immediately. To defend immediately, it must defend entirely. It cannot parse the claims, dividing those that are at least potentially covered from those that are not.\" Buss v. Sup. Ct., 16 Cal. 4th 35 , 49, 65 Cal. Rptr. 2d 366 , 939 P.2d 766 (1997). B. Applicable Principals of Insurance Policy Interpretation The principles of insurance policy interpretation are well-settled under California law: Interpretation of an insurance policy is a question of law. While insurance contracts have special features, they are still contracts to which ordinary rules of contractual interpretation apply. Thus, the mutual intention of the parties at the time the contract is formed governs interpretation. If possible, [courts] infer this intent solely from the written provisions of the insurance policy. If the policy language is clear and explicit, it governs. When interpreting a policy provision, [courts] must give its terms their ordinary and popular sense unless used by the parties in a technical sense or a special meaning is given to them by usage. We must also interpret these terms in context, and give effect to every part of the policy with each clause helping to interpret the other. Palmer v. Truck Ins. Exchange, 21 Cal. 4th 1109 , 1115, 90 Cal. Rptr. 2d 647 , 988 P.2d 568 (1999) (quotations and citations omitted). \"A policy provision will be considered ambiguous when it is capable of two or more constructions, both of which are reasonable. But language in a contract must be interpreted as a whole, and in the circumstances of the case, and cannot be found to be ambiguous in the abstract.\" Waller v. Truck Ins. Exchange, Inc., 11 Cal. 4th 1 , 18, 44 Cal. Rptr. 2d 370 , 900 P.2d 619 (1995). \"There cannot be an ambiguity per se, i.e. an ambiguity unrelated to an application.\" Bay Cities Paving & Grading, Inc. v. Lawyers\\' Mutual Ins. Co., 5 Cal. 4th 854 , 867, 21 Cal. Rptr.'"
      ]
     },
     "execution_count": 9,
     "metadata": {},
     "output_type": "execute_result"
    }
   ],
   "source": [
    "decisions_context[4].parallel_context"
   ]
  },
  {
   "cell_type": "code",
   "execution_count": 10,
   "metadata": {},
   "outputs": [
    {
     "data": {
      "text/markdown": [
       "Here, R & H, tenants of the Property, have sued Plaintiffs, their landlords, for invading their right of private occupancy to the Property, not merely based on the contamination of the property, but also based on Plaintiffs' alleged failure to inspect and disclose contamination. Accordingly, the Court finds that the Underlying Complaint alleges personal injury claims separate from claims for property damage. [1] 3) Applicability of the Pollution Exclusion The Hartford argues that, even if the Court finds that the Underlying Complaint alleges personal injury damages, the Second Pollution Exclusion bars coverage. The Court disagrees. Although the Second Pollution Exclusion does not expressly state that it applies only to property damage or bodily injury, both pollution exclusions are listed as exclusions under Section IA of the insurance contract, the section of *1085 the contract dealing with coverage for bodily injury and property damage liability. Coverage for personal injury claims, on the other hand, is found in Section IB, a separate section containing its own insuring agreement and applicable exclusions. Given the structure of the insurance contract, an insured would reasonably expect that the exclusions listed under Section IA of the insurance contract, including both pollution exclusions, apply only to property damage or bodily injury. See Legarra v. Federated Mut. Ins. Co., 35 Cal. App.4th 1472 , 1477, 42 Cal.Rptr.2d 101 (1995)(finding that, given the format of the policy, an insured would reasonably expect the pollution exclusion to apply only to coverage for bodily injury and property damage, despite the lack of specific reference in the pollution exclusion to bodily injury and property damage). Therefore, the Court finds that the pollution exclusions in the insurance contract do not bar coverage for personal injury claims against the insured, and The Hartford has a duty to defend Plaintiffs in the suit filed by R & H. III. CONCLUSION For the foregoing reasons, the Court GRANTS Plaintiffs' motion for partial summary judgment and DENIES The Hartford's Motion to Dismiss. IT IS SO ORDERED. NOTES [1] Plaintiffs have also argued that the allegations in the Underlying Complaint cannot be claims for \"property damage,\" since the property damage section of the policy applies only to \"tangible property.\" Plaintiffs argue that a leasehold interest is not \"tangible property\" and therefore damage to a leasehold interest is not property damage as defined in the policy. No California court has directly considered whether a tenant in possession of a property has a tangible property right. In Kazi v. State Farm Fire and Casualty Co., 24 Cal.4th 871 , 103 Cal.Rptr.2d 1 , 15 P.3d 223 (2001), the Supreme Court of California held that an easement represents only a nonpossessory right to use another's property, and therefore is not tangible property. Id. at 881, 103 Cal.Rptr.2d 1 , 15 P.3d 223 . In Cunningham v. Universal Underwriters, <mark>98 Cal. App.4th 1141</mark> , 120 Cal.Rptr.2d 162 (2002), a California appellate court applied the reasoning of Kazi to hold that a nonpossessing tenant, whose claimed loss concerned solely the interference with its right to possession of real property under the parties' lease, did not allege damage to a tangible property right. As the court in Cunningham explained, \"[a] tenant's right to possess property on the lease commencement date is a contractual right that does not mature into a property right until possession actually occurs. A landlord's failure to deliver possession of the premises merely gives the tenant a right to abandon the tenancy and sue for damages, but does not give the tenant the legal right to act as a possessor of the real property until the date of actual transfer.\" Id. at 1155-1156, 120 Cal.Rptr.2d 162 . The clear implication of the Cunningham court's reasoning is that when a tenant legally takes possession of the premises, the tenant, unlike an easement holder or a nonpossessing tenant, has a possessory property right in the premises. As such, a tenant in possession presumably has a tangible property interest in the premises and can assert claims for property damage, as defined in the insurance contract."
      ],
      "text/plain": [
       "<IPython.core.display.Markdown object>"
      ]
     },
     "execution_count": 10,
     "metadata": {},
     "output_type": "execute_result"
    }
   ],
   "source": [
    "Markdown(create_highlighted_citation(decisions_context[1].parallel_context, str(citations[1])))"
   ]
  },
  {
   "cell_type": "code",
   "execution_count": 11,
   "metadata": {},
   "outputs": [
    {
     "name": "stderr",
     "output_type": "stream",
     "text": [
      "100%|██████████| 7/7 [01:22<00:00, 11.78s/it]\n"
     ]
    }
   ],
   "source": [
    "import nest_asyncio\n",
    "nest_asyncio.apply()\n",
    "\n",
    "all_data = await process_citations_with_progress(forward_cases)"
   ]
  },
  {
   "cell_type": "code",
   "execution_count": 12,
   "metadata": {},
   "outputs": [
    {
     "data": {
      "text/markdown": [
       "| citation              | legal_question                                                                                                                                                                                                          | rule                                                                                                                                                                                                                                                                                                                                                                                                                                      | application                                                                                                                                                                                                                                                                                                                                                                                                                                                                              | citation_reference                                                                                                                                                                                                                                                                                                                                                                                                                                                                                   |\n",
       "|:----------------------|:------------------------------------------------------------------------------------------------------------------------------------------------------------------------------------------------------------------------|:------------------------------------------------------------------------------------------------------------------------------------------------------------------------------------------------------------------------------------------------------------------------------------------------------------------------------------------------------------------------------------------------------------------------------------------|:-----------------------------------------------------------------------------------------------------------------------------------------------------------------------------------------------------------------------------------------------------------------------------------------------------------------------------------------------------------------------------------------------------------------------------------------------------------------------------------------|:-----------------------------------------------------------------------------------------------------------------------------------------------------------------------------------------------------------------------------------------------------------------------------------------------------------------------------------------------------------------------------------------------------------------------------------------------------------------------------------------------------|\n",
       "| 120 Cal. Rptr. 2d 162 | Does allowing a third party to take possession of premises leased to another constitute actual eviction?                                                                                                                | A wrongful eviction occurs when the person recovering the property had no right to dispossess the other party from the property.                                                                                                                                                                                                                                                                                                          | The court found that wrongful eviction occurs under the legal definition when there is a dispossession of a person from land or rental property that they have rights to, without proper legal basis.                                                                                                                                                                                                                                                                                    | The case of Cunningham v. Universal Underwriters was cited to support the legal interpretation of eviction as the act of legally dispossessing a person of land or rental property, and further clarify that wrongful eviction occurs under circumstances involving illegal dispossession.                                                                                                                                                                                                           |\n",
       "| 120 Cal. Rptr. 2d 162 | Does a tenant have a tangible property right in the premises before physically taking possession, and can they assert claims for property damage as defined in the insurance contract before actual possession?         | A tenant's right to possess property on the lease commencement date is a contractual right that does not mature into a property right until possession actually occurs. A landlord's failure to deliver possession of the premises merely gives the tenant a right to abandon the tenancy and sue for damages, but does not give the tenant the legal right to act as a possessor of the real property until the date of actual transfer. | The court in the mentioned case applied the ruling that a nonpossessing tenant, whose claimed loss concerned solely the interference with their right to possession of real property under the parties' lease, did not allege damage to a tangible property right. This reasoning implies that when a tenant legally takes possession of the premises, they then, and only then, have a possessory property right in the premises, thus potentially having a tangible property interest. | The citation was used to establish that a tenant's leasehold interest does not constitute a tangible property right until actual possession of the property, distinguishing between contractual rights and tangible property rights in the context of insurance coverage for property damage.                                                                                                                                                                                                        |\n",
       "| 120 Cal. Rptr. 2d 162 | In an insurance policy dispute, how should ambiguous policy provisions be interpreted, and who benefits from such interpretations?                                                                                      | If a policy provision is ambiguous, the ambiguity should be resolved in the insureds' favor, consistent with the insureds' reasonable expectations.                                                                                                                                                                                                                                                                                       | The rule suggests that in cases where the language of an insurance policy can be interpreted in multiple reasonable ways, the interpretation that favors the insured's expectations should be chosen. This approach helps in protecting the interests of the insured party by ensuring that ambiguities do not work to their disadvantage.                                                                                                                                               | The citation is referenced to support the principle that ambiguities in insurance policy provisions must be resolved in favor of the insured, based on their reasonable expectations. This principle is applied within the broader context of interpreting and evaluating insurance policy disputes, especially in situations where the policy language is unclear or open to more than one reasonable interpretation.                                                                               |\n",
       "| 98 Cal. App. 4th 1141 | Does a cause of action for negligence give rise to a duty to defend against claims of sexual assault in the context of employer liability under a commercial general liability (CGL) policy?                            | The scope of the duty to defend does not depend on the labels given to the causes of action in a third party complaint, but rather on whether the alleged facts reveal a possibility that the claim may be covered by the policy.                                                                                                                                                                                                         | The cause of action for negligence did not give rise to a duty to defend due to the intentional nature of the alleged acts of sexual misconduct, which are by their very nature, intentional and not accidental. Claims for negligent hiring, training, and supervising were also not applicable to Baek, as he could not be held liable for failing to use due care while supervising himself.                                                                                          | The citation was referenced to support the principle that the determination of a duty to defend based on a negligence claim revolves around the nature of the facts alleged rather than the labels of the causes of action. It emphasized that mere claims of negligence related to sexual misconduct, which intrinsically entail intentional acts, do not establish a duty to defend under a CGL policy.                                                                                            |\n",
       "| 120 Cal. Rptr. 2d 162 | Does the insurance policy cover the plaintiff's claim for defense against a nuisance claim related to 'invasion of the right of private occupancy' where the alleged invasion was non-physical but rather due to noise? | An insurer must defend its insured against claims creating a potential for indemnity under the policy, even if the precise causes of action pled may fall outside policy coverage. Doubt as to whether the facts give rise to a duty to defend is resolved in the insured's favor. The insured must only show the existence of a potential for coverage, while an insurer must establish the absence of any potential for coverage.       | In this case, if the nuisance claim may potentially fall within the insurance policy's coverage for 'invasion of the right of private occupancy,' even if the invasion is non-physical, the insurer could have a duty to defend against the claim.                                                                                                                                                                                                                                       | The citation was used to discuss the principles determining an insurer's duty to defend its insured, emphasizing that the insured need only demonstrate a potential for coverage to argue for the insurer's duty to defend, whereas the insurer must prove no possibility of coverage to be relieved of this duty.                                                                                                                                                                                   |\n",
       "| 120 Cal. Rptr. 2d 162 | Does the per person limit or the per accident limit of uninsured motorist bodily injury coverage apply to the claimants' cases?                                                                                         | The per person limit applies to the claimants' cases based on the unambiguous language of the insurance policy's clause.                                                                                                                                                                                                                                                                                                                  | The court agreed with Mercury that the language of the insurance policy is unambiguous and gives effect to its plain meaning, which is that the per person limit, not the per accident limit, applies to appellants' claims.                                                                                                                                                                                                                                                             | The court referenced Cunningham v. Universal Underwriters, stating they give effect to the plain language of the insurance policy as was similarly found in Cunningham v. Universal Underwriters (2002) 98 Cal. App. 4th 1141, 120 Cal. Rptr. 2d 162, which states that the unambiguous language of an insurance policy should be given its plain meaning.                                                                                                                                           |\n",
       "| 120 Cal. Rptr. 2d 162 | What legal principles or questions were addressed in the case referenced by the citation 120 Cal. Rptr. 2d 162?                                                                                                         |                                                                                                                                                                                                                                                                                                                                                                                                                                           |                                                                                                                                                                                                                                                                                                                                                                                                                                                                                          | The citation 120 Cal. Rptr. 2d 162 was referenced in the context of discussing diverse legal principles or rulings. It is associated with Cunningham v. Universal Underwriters (2002) 98 Cal.App.4th 1141, 1147. The reference appears to be part of an extensive discussion that includes various cases and legal principles, indicating that the case may have been used to support or illustrate a specific legal argument or principle in the broader context of the legal discussion presented. |"
      ],
      "text/plain": [
       "<IPython.core.display.Markdown object>"
      ]
     },
     "execution_count": 12,
     "metadata": {},
     "output_type": "execute_result"
    }
   ],
   "source": [
    "data_dicts = [model.model_dump() for model in all_data]\n",
    "df_res = pd.DataFrame(data_dicts)\n",
    "Markdown(df_res.to_markdown(index=False))"
   ]
  },
  {
   "cell_type": "code",
   "execution_count": 13,
   "metadata": {},
   "outputs": [],
   "source": [
    "from src.utils.pydantic_utils import *\n",
    "from lancedb.pydantic import LanceModel, Vector"
   ]
  },
  {
   "cell_type": "code",
   "execution_count": 87,
   "metadata": {},
   "outputs": [],
   "source": [
    "fields = [\n",
    "    \"id\",\n",
    "    \"decision_date\",\n",
    "    \"name\",\n",
    "    \"judges\",\n",
    "    \"attorneys\",\n",
    "    \"head_matter\",\n",
    "    \"frontend_url\", \n",
    "    \"data\",\n",
    "    \"status\",\n",
    "    \"forward_citation_ids\",\n",
    "    \"cites_to\",    \n",
    "]"
   ]
  },
  {
   "cell_type": "code",
   "execution_count": 108,
   "metadata": {},
   "outputs": [
    {
     "data": {
      "text/plain": [
       "167"
      ]
     },
     "execution_count": 108,
     "metadata": {},
     "output_type": "execute_result"
    }
   ],
   "source": [
    "cases= filter_decisions_with_text(cases)\n",
    "len(cases)"
   ]
  },
  {
   "cell_type": "code",
   "execution_count": 119,
   "metadata": {},
   "outputs": [],
   "source": [
    "fields_dicts = []\n",
    "for i in range(len(cases)):\n",
    "    try:\n",
    "        case_dict = extract_fields(cases[i], fields)\n",
    "        if not isinstance(cases[i].casebody.data, str):\n",
    "            case_dict[\"type\"] = cases[i].casebody.data.opinions[0].type if cases[i].casebody.data.opinions else None\n",
    "        else:\n",
    "            case_dict[\"type\"] = \"Missing\"\n",
    "        case_dict[\"content\"] = cases[i].text_clean\n",
    "        case_dict[\"html\"] = cases[i].text\n",
    "        case_dict[\"citation\"] = cases[i].citations if cases[i].citations else None\n",
    "        fields_dicts.append(case_dict)\n",
    "    except AttributeError as e:\n",
    "        print(f\"{e}\")\n",
    "        pass\n",
    "df_cases = pd.DataFrame(fields_dicts)"
   ]
  },
  {
   "cell_type": "code",
   "execution_count": 124,
   "metadata": {},
   "outputs": [
    {
     "name": "stdout",
     "output_type": "stream",
     "text": [
      "df cases shape: (167, 16)\n"
     ]
    },
    {
     "data": {
      "text/html": [
       "<div>\n",
       "<style scoped>\n",
       "    .dataframe tbody tr th:only-of-type {\n",
       "        vertical-align: middle;\n",
       "    }\n",
       "\n",
       "    .dataframe tbody tr th {\n",
       "        vertical-align: top;\n",
       "    }\n",
       "\n",
       "    .dataframe thead th {\n",
       "        text-align: right;\n",
       "    }\n",
       "</style>\n",
       "<table border=\"1\" class=\"dataframe\">\n",
       "  <thead>\n",
       "    <tr style=\"text-align: right;\">\n",
       "      <th></th>\n",
       "      <th>id</th>\n",
       "      <th>decision_date</th>\n",
       "      <th>name</th>\n",
       "      <th>judges</th>\n",
       "      <th>attorneys</th>\n",
       "      <th>head_matter</th>\n",
       "      <th>frontend_url</th>\n",
       "      <th>status</th>\n",
       "      <th>forward_citation_ids</th>\n",
       "      <th>cites_to</th>\n",
       "      <th>type</th>\n",
       "      <th>content</th>\n",
       "      <th>html</th>\n",
       "      <th>citation</th>\n",
       "      <th>data</th>\n",
       "      <th>tokens</th>\n",
       "    </tr>\n",
       "  </thead>\n",
       "  <tbody>\n",
       "    <tr>\n",
       "      <th>124</th>\n",
       "      <td>9992</td>\n",
       "      <td>2015-06-26</td>\n",
       "      <td>MCGINNES INDUSTRIAL MAINTENANCE CORPORATION, A...</td>\n",
       "      <td>NaN</td>\n",
       "      <td>None</td>\n",
       "      <td>NaN</td>\n",
       "      <td>https://cite.case.law/sw3d/477/786/</td>\n",
       "      <td>ok</td>\n",
       "      <td>None</td>\n",
       "      <td>[243 S.W.2d 154, 150 Tex. 513, 46 F.3d 1116, 2...</td>\n",
       "      <td>Missing</td>\n",
       "      <td>MCGINNES INDUSTRIAL MAINTENANCE CORPORATION, A...</td>\n",
       "      <td>&lt;section class=\"casebody\" data-case-id=\"320441...</td>\n",
       "      <td>[477 S.W.3d 786]</td>\n",
       "      <td>&lt;section class=\"casebody\" data-case-id=\"320441...</td>\n",
       "      <td>19983</td>\n",
       "    </tr>\n",
       "    <tr>\n",
       "      <th>127</th>\n",
       "      <td>8820</td>\n",
       "      <td>2011-01-07</td>\n",
       "      <td>VRV DEVELOPMENT L.P., formerly known as VRV De...</td>\n",
       "      <td>NaN</td>\n",
       "      <td>None</td>\n",
       "      <td>NaN</td>\n",
       "      <td>https://cite.case.law/f3d/630/451/</td>\n",
       "      <td>ok</td>\n",
       "      <td>None</td>\n",
       "      <td>[100 F.2d 441, 955 F.2d 1353, 434 F.3d 165, 56...</td>\n",
       "      <td>Missing</td>\n",
       "      <td>VRV DEVELOPMENT L.P., formerly known as VRV De...</td>\n",
       "      <td>&lt;section class=\"casebody\" data-case-id=\"320441...</td>\n",
       "      <td>[630 F.3d 451]</td>\n",
       "      <td>&lt;section class=\"casebody\" data-case-id=\"320441...</td>\n",
       "      <td>5427</td>\n",
       "    </tr>\n",
       "  </tbody>\n",
       "</table>\n",
       "</div>"
      ],
      "text/plain": [
       "       id decision_date                                               name  \\\n",
       "124  9992    2015-06-26  MCGINNES INDUSTRIAL MAINTENANCE CORPORATION, A...   \n",
       "127  8820    2011-01-07  VRV DEVELOPMENT L.P., formerly known as VRV De...   \n",
       "\n",
       "    judges attorneys head_matter                         frontend_url status  \\\n",
       "124    NaN      None         NaN  https://cite.case.law/sw3d/477/786/     ok   \n",
       "127    NaN      None         NaN   https://cite.case.law/f3d/630/451/     ok   \n",
       "\n",
       "    forward_citation_ids                                           cites_to  \\\n",
       "124                 None  [243 S.W.2d 154, 150 Tex. 513, 46 F.3d 1116, 2...   \n",
       "127                 None  [100 F.2d 441, 955 F.2d 1353, 434 F.3d 165, 56...   \n",
       "\n",
       "        type                                            content  \\\n",
       "124  Missing  MCGINNES INDUSTRIAL MAINTENANCE CORPORATION, A...   \n",
       "127  Missing  VRV DEVELOPMENT L.P., formerly known as VRV De...   \n",
       "\n",
       "                                                  html          citation  \\\n",
       "124  <section class=\"casebody\" data-case-id=\"320441...  [477 S.W.3d 786]   \n",
       "127  <section class=\"casebody\" data-case-id=\"320441...    [630 F.3d 451]   \n",
       "\n",
       "                                                  data  tokens  \n",
       "124  <section class=\"casebody\" data-case-id=\"320441...   19983  \n",
       "127  <section class=\"casebody\" data-case-id=\"320441...    5427  "
      ]
     },
     "execution_count": 124,
     "metadata": {},
     "output_type": "execute_result"
    }
   ],
   "source": [
    "print(f\"df cases shape: {df_cases.shape}\")\n",
    "df_cases.sample(2)"
   ]
  },
  {
   "cell_type": "code",
   "execution_count": 121,
   "metadata": {},
   "outputs": [],
   "source": [
    "from src.utils.gen_utils import count_tokens\n",
    "\n",
    "df_cases[\"tokens\"] = df_cases[\"content\"].apply(lambda x: count_tokens(x))"
   ]
  },
  {
   "cell_type": "code",
   "execution_count": 122,
   "metadata": {},
   "outputs": [
    {
     "data": {
      "text/plain": [
       "count      167.000000\n",
       "mean      8883.143713\n",
       "std       6724.815578\n",
       "min        640.000000\n",
       "25%       4809.500000\n",
       "50%       7385.000000\n",
       "75%      10944.500000\n",
       "max      54689.000000\n",
       "Name: tokens, dtype: float64"
      ]
     },
     "execution_count": 122,
     "metadata": {},
     "output_type": "execute_result"
    }
   ],
   "source": [
    "df_cases[\"tokens\"].describe()"
   ]
  },
  {
   "cell_type": "code",
   "execution_count": 123,
   "metadata": {},
   "outputs": [],
   "source": [
    "df_cases.to_excel(\"./data/tables/cases_with_text.xlsx\", index=False)"
   ]
  },
  {
   "cell_type": "code",
   "execution_count": 125,
   "metadata": {},
   "outputs": [
    {
     "data": {
      "text/plain": [
       "'120 Cal. Rptr. 2d 162'"
      ]
     },
     "execution_count": 125,
     "metadata": {},
     "output_type": "execute_result"
    }
   ],
   "source": [
    "top_four[0]"
   ]
  },
  {
   "cell_type": "code",
   "execution_count": 126,
   "metadata": {},
   "outputs": [
    {
     "data": {
      "text/plain": [
       "'Cunningham, 120 Cal. Rptr. 2d 162 (2002-04-30)'"
      ]
     },
     "execution_count": 126,
     "metadata": {},
     "output_type": "execute_result"
    }
   ],
   "source": [
    "str(cases[0])"
   ]
  },
  {
   "cell_type": "code",
   "execution_count": 127,
   "metadata": {},
   "outputs": [
    {
     "name": "stdout",
     "output_type": "stream",
     "text": [
      "Fetching case ID: 1160464\n",
      "Citation: Vons Companies, Inc. v. Seabest Foods, Inc., 14 Cal. 4th 434 (Cal. 1996)\n",
      "Fetching case ID: 2258291\n",
      "Citation: General Accident Ins. Co. v. West Am. Ins. Co., 42 Cal. App. 4th 95, 49 Cal. Rptr. 2d 603 (Cal. Ct. App. 1996)\n",
      "Fetching case ID: 2302806\n",
      "Citation: Martin Marietta Corp. v. Insurance Co. of N. Am., 40 Cal. App. 4th 1113, 47 Cal. Rptr. 2d 670 (Cal. Ct. App. 1995)\n",
      "Fetching case ID: 2253301\n",
      "Citation: Fibreboard Corp. v. Hartford Acc. & Indemnity Co., 16 Cal. App. 4th 492, 20 Cal. Rptr. 2d 376 (Cal. Ct. App. 1993)\n",
      "Fetching case ID: 2293434\n",
      "Citation: Hendrickson v. ZURICH AMERICAN INS. CO., 85 Cal. Rptr. 2d 622, 72 Cal. App. 4th 1084 (Cal. Ct. App. 1999)\n",
      "Fetching case ID: 2144332\n",
      "Citation: Bartlome v. State Farm Fire & Casualty Co., 208 Cal. App. 3d 1235, 256 Cal. Rptr. 719 (Cal. Ct. App. 1989)\n",
      "Fetching case ID: 2270816\n",
      "Citation: Lee v. Placer Title Co., 28 Cal. App. 4th 503, 33 Cal. Rptr. 2d 572 (Cal. Ct. App. 1994)\n",
      "Fetching case ID: 1158094\n",
      "Citation: Montrose Chemical Corp. v. Superior Court, 861 P.2d 1153, 6 Cal. 4th 287, 24 Cal. Rptr. 2d 467 (Cal. 1993)\n",
      "Fetching case ID: 2525331\n",
      "Citation: Safeco Ins. Co. of America v. Robert S., 28 P.3d 889, 110 Cal. Rptr. 2d 844, 26 Cal. 4th 758 (Cal. 2001)\n",
      "Fetching case ID: 1158522\n",
      "Citation: Waller v. Truck Ins. Exchange, Inc., 900 P.2d 619, 11 Cal. 4th 1, 44 Cal. Rptr. 2d 370 (Cal. 1995)\n",
      "Fetching case ID: 2280652\n",
      "Citation: Lomes v. HARTFORD FINANCIAL SERVICES, 105 Cal. Rptr. 2d 471, 88 Cal. App. 4th 127 (Cal. Ct. App. 2001)\n",
      "Fetching case ID: 2585557\n",
      "Citation: Kazi v. State Farm Fire & Casualty Co., 15 P.3d 223, 103 Cal. Rptr. 2d 1, 24 Cal. 4th 871, 24 Cal. 871 (Cal. 2001)\n",
      "Fetching case ID: 2245487\n",
      "Citation: American Cyanamid Co. v. AMERICAN HOME ASSU. CO., 30 Cal. App. 4th 969, 35 Cal. Rptr. 2d 920 (Cal. Ct. App. 1994)\n",
      "Fetching case ID: 2269810\n",
      "Citation: Continental Casualty Co. v. Superior Court, 111 Cal. Rptr. 2d 849, 92 Cal. App. 4th 430 (Cal. Ct. App. 2001)\n",
      "Fetching case ID: 2126249\n",
      "Citation: Maryland Casualty Co. v. Reeder, 221 Cal. App. 3d 961, 270 Cal. Rptr. 719 (Cal. Ct. App. 1990)\n",
      "Fetching case ID: 1252963\n",
      "Citation: Vandenberg v. Superior Court, 982 P.2d 229, 88 Cal. Rptr. 2d 366, 21 Cal. 4th 815 (Cal. 1999)\n",
      "Fetching case ID: 1182285\n",
      "Citation: Green v. Superior Court, 517 P.2d 1168, 10 Cal. 3d 616, 111 Cal. Rptr. 704 (Cal. 1974)\n",
      "Fetching case ID: 2254351\n",
      "Citation: Hurley Constr. Co. v. State Farm Fire & Cas. Co., 12 Cal. Rptr. 2d 629, 10 Cal. App. 4th 533 (Cal. Ct. App. 1992)\n",
      "Fetching case ID: 2268966\n",
      "Citation: STERLING BUILDERS v. United Nat. Ins. Co., 93 Cal. Rptr. 2d 697, 79 Cal. App. 4th 105 (Cal. Ct. App. 2000)\n",
      "Fetching case ID: 2514219\n",
      "Citation: Aguilar v. Atlantic Richfield Co., 24 P.3d 493, 107 Cal. Rptr. 2d 841, 25 Cal. 4th 826 (Cal. 2001)\n",
      "Fetching case ID: 2249141\n",
      "Citation: Stein-Brief Group v. Home Indem. Co., 76 Cal. Rptr. 2d 3, 65 Cal. App. 4th 364 (Cal. Ct. App. 1998)\n",
      "Fetching case ID: 2174121\n",
      "Citation: Guntert v. City of Stockton, 55 Cal. App. 3d 131, 126 Cal. Rptr. 690 (Cal. Ct. App. 1976)\n"
     ]
    }
   ],
   "source": [
    "cited_by_test = cl_client.read_cited_by(cases[0].id)"
   ]
  },
  {
   "cell_type": "code",
   "execution_count": 128,
   "metadata": {},
   "outputs": [
    {
     "data": {
      "text/plain": [
       "22"
      ]
     },
     "execution_count": 128,
     "metadata": {},
     "output_type": "execute_result"
    }
   ],
   "source": [
    "len(cited_by_test)"
   ]
  },
  {
   "cell_type": "code",
   "execution_count": 129,
   "metadata": {},
   "outputs": [
    {
     "data": {
      "text/plain": [
       "'14 Cal.4th 434 (1996) VONS COMPANIES, INC., Cross-complainant and Appellant, \\nv. \\nSEABEST FOODS, INC., et al., Cross-defendants and Respondents. Docket No. S049039. Supreme Court of California. December 12, 1996. *440 COUNSEL Munger, Tolles & Olson, Gregory P. Stone, Joseph D. Lee, Kristin A. Linsley, David M. Rosenzweig, Susan R. Szabo and Kristin S. Escalante for Cross-complainant and Appellant. Neil, Dymott, Perkins, Brown & Frank, Thomas M. Dymott, Kyle A. Cruse, Crosby, Heafey, Roach & May, Peter W. Davis, James C. Martin, Jacques B. LeBoeuf, Laskero & Associates and Michael G. Roddy for Cross-defendants and Respondents. OPINION GEORGE, C.J. We consider in this case the issue whether California courts may exercise personal jurisdiction over owners of \"fast food\" restaurant franchises located in another state, in litigation stemming from several incidents of food poisoning that occurred in the foreign jurisdiction. We conclude that the franchisees had sufficient contacts with California through their relationship with their California franchiser, and that the tort claims alleged against the franchisees in a cross-complaint filed in a California action stemming from the food poisoning incidents were sufficiently related to the franchisees\\' contacts in California, to justify this state\\'s exercise of jurisdiction over the franchisees. I In 1993, customers of Jack-in-the-Box restaurants in several states, including Washington, suffered from exposure to Escherichia coli (E. coli) bacteria traced to hamburgers sold at the restaurants. Many fell ill and some died. Foodmaker, Inc., of which Jack-in-the-Box is a division, is a Delaware corporation with its principal place of business in San Diego, California. It blamed the E. coli contamination on its meat suppliers, including the Vons Companies, Inc. (Vons). Vons processed hamburger patties in its El Monte, California plant and shipped them to Foodmaker for use in Jack-in-the-Box restaurants. *441 Litigation soon followed. Eighty-five Jack-in-the-Box franchisees from California and other states, whose customers had not been injured, sued Foodmaker, Vons, and other meat processors, in an action brought in the San Diego County Superior Court. The action stated causes of action for negligence, breach of implied warranty, breach of contract, and other claims, and sought substantial damages for loss of business caused by the adverse publicity that followed the E. coli outbreak. Foodmaker cross-complained against Vons and the other meat suppliers. Foodmaker\\'s cross-complaint alleged breach of warranty and of contract, as well as negligence, negligent interference with economic relations, and other claims. It alleged the suppliers delivered contaminated meat to Foodmaker, and that this conduct exposed Foodmaker to liability both to injured customers and to franchisees who had lost business after the E. coli outbreak. Vons then filed the cross-complaint that is the subject of this appeal. [1] It asserted causes of action against Foodmaker, several slaughterers and meat packers, and several Jack-in-the-Box franchisees, including Seabest Foods, Inc. (Seabest) and Washington Restaurant Management, Inc. (WRMI). Seabest, beginning in 1988, and WRMI, beginning in 1987, were owners of Jack-in-the-Box franchises in Washington State at which E. coli contamination had injured or killed Jack-in-the-Box customers. [2] Vons\\'s cross-complaint alleged the injuries caused by the E. coli contamination would have been avoided had Foodmaker and its franchisees cooked the hamburgers at the proper temperature. Specifically, it alleged Foodmaker, Seabest, and WRMI had failed to follow proper procedures for cooking the meat, and that their procedures were \"systematically deficient when measured against industry standards.\" In addition, it alleged Foodmaker, Seabest, and WRMI had failed to follow government standards for cooking the meat at a proper temperature, that Foodmaker had failed to inform its franchisees of the applicable government regulations, that the \"standard\" grills used by Foodmaker, Seabest, and WRMI were below the industry norm and lacked various safety features, and that Foodmaker, Seabest, and WRMI failed to require adequate qualifications and training for their cooks. *442 The cross-complaint asserted causes of action against Seabest and WRMI for negligence, negligent and intentional interference with economic advantage, and comparative and equitable indemnity. Vons sought damages for its own loss of business, as well as indemnification for any liability that might be imposed upon it for injury to Jack-in-the-Box customers in other actions, and for liability that might be imposed upon it for the claims of the franchisees in the current action. Seabest and WRMI appeared specially and moved to quash service of process on the ground of lack of personal jurisdiction. The trial court considered evidence of Seabest\\'s contacts with California, including the circumstance that a majority of its board of directors lived in California and had signed franchise agreements, leases, and a security agreement with Foodmaker in California. One of Seabest\\'s leases and its security agreement with Foodmaker listed the franchisee\\'s home office address as being in Granada Hills, California. Although most of its business with Foodmaker was conducted with Foodmaker\\'s Washington office, Seabest conducted some business by mail and telephone with Foodmaker at Foodmaker\\'s corporate headquarters in San Diego. Seabest officers attended multiple training sessions offered by Foodmaker in California, and met with Foodmaker representatives in San Diego before entering the franchise agreements, and again thereafter to resolve a dispute unrelated to the present litigation. Significantly, the franchise agreements for Seabest\\'s 10 Washington restaurants provided that any contract disputes would be litigated in California under California law, and that the franchisees would meet Foodmaker\\'s specifications in providing training, following cooking procedures, and using equipment. The agreement specified that the franchisees must purchase ingredients, materials, and supplies from sources approved by Foodmaker, which might include Foodmaker itself. In fact, Seabest purchased most of its food and all of its hamburger patties from Foodmaker. It received delivery of food from Foodmaker\\'s Washington warehouse, but was sent invoices by (and sent payments to) the San Diego Foodmaker headquarters \\x97 at first by mail, and then through a Colorado telephone exchange. Seabest also made its royalty and rent payments to Foodmaker in the same manner. Seabest employed a San Diego accountant to prepare the monthly financial statement it was required to send to Foodmaker headquarters in San Diego. During high volume periods, Seabest remitted up to $450,000 a month to Foodmaker. Foodmaker inspectors from California occasionally inspected Seabest\\'s restaurants, and Foodmaker once sent an auditor from its San Diego office to *443 audit Seabest\\'s books. Seabest also made equipment purchases from Foodmaker in California. Payment for equipment purchases for one restaurant totaled $233,217. WRMI had less extensive contacts with Foodmaker in California, conducting almost all of its business with Foodmaker through Foodmaker\\'s Washington office. Nonetheless, WRMI\\'s three franchise agreements were negotiated in California, and one of the individual franchisees executed original franchise agreements in California. These franchise agreements provided that contract disputes would be litigated in California under California law, and also controlled the franchisee\\'s purchases of ingredients, training, equipment, and cooking procedures in the same manner as the Seabest agreements. In addition, the president of WRMI met once with Foodmaker representatives in San Diego to negotiate regarding two initial franchises, and attended training on another occasion in San Diego. He also had telephone conversations regarding the potential sale of a franchise with a manager employed at Foodmaker\\'s San Diego office. His application to purchase a third franchise was forwarded to the San Diego office of Foodmaker, and that office in turn returned the approved franchise and an assignment of the individual franchises to the WRMI corporation. The president of WRMI attended yearly meetings in California with Foodmaker dealing with WRMI business, and also traveled to California six to eight times to represent Jack-in-the-Box franchisees other than WRMI in policy discussions with Foodmaker. He received monthly accounts receivable statements from the San Diego office. He purchased 70 percent of his food supplies and all of his hamburger patties from Foodmaker. He was sent invoices by Foodmaker\\'s Washington center and received his deliveries from that location, but he received a monthly statement for his food purchases from Foodmaker in San Diego. The hamburger patties delivered to him from that center originally came from California suppliers. He originally mailed his royalty, rent, and food payments to Foodmaker\\'s San Diego address, and later paid the bills by telephone to a bank located in California. He also sent monthly income statements and a yearly accounting to Foodmaker in San Diego. His employees had occasional phone conversations with Foodmaker in California regarding financial matters, and he occasionally received updated training materials from Foodmaker in California. After the E. coli outbreak, he had conversations with Foodmaker in California regarding an agreement to terminate his franchises, as noted below. Finally, two WRMI employees received training in California on one occasion, and WRMI purchased cash registers and other sales tracking equipment directly from Foodmaker in California. There also was evidence that during litigation involving the motions to quash, Foodmaker reached an agreement with Seabest and WRMI under *444 which the franchisees assigned the franchises back to Foodmaker. In addition, Foodmaker agreed to defend and indemnify the franchisees to the extent their insurers refused to defend and indemnify them against personal injury claims brought by injured Jack-in-the-Box customers, as well as the claims brought in the present litigation. [3] The trial court granted the motions to quash, and the Court of Appeal affirmed, also ordering Vons to pay Seabest\\'s and WRMI\\'s costs on appeal. We granted Vons\\'s petition for review. II A (1) California\\'s long-arm statute authorizes California courts to exercise jurisdiction on any basis not inconsistent with the Constitution of the United States or the Constitution of California. (Code Civ. Proc., § 410.10.) A state court\\'s assertion of personal jurisdiction over a nonresident defendant who has not been served with process within the state comports with the requirements of the due process clause of the federal Constitution if the defendant has such minimum contacts with the state that the assertion of jurisdiction does not violate \"`traditional notions of fair play and substantial justice.\\'\" ( International Shoe Co. v. Washington (1945) 326 U.S. 310 , 316 [90 L.Ed. *445 95, 102, 66 S.Ct. 154 , 161 A.L.R. 1057 ] ( International Shoe ); see also Burnham v. Superior Court (1990) 495 U.S. 604 , 618-619 [ 109 L.Ed.2d 631 , 644-645, 110 S.Ct. 2105 ] ( Burnham ).) (2) Recent decisions of the United States Supreme Court describe two bases for limiting a state\\'s exercise of personal jurisdiction over nonresidents. The first recognizes limits on a state\\'s assertion of jurisdiction designed to ensure fairness to nonresident defendants. The second recognizes the mutual limits on the states\\' sovereign power to exercise jurisdiction in a federal system. As the high court has explained, each individual has a liberty interest in not being subject to the judgments of a forum with which he or she has established no meaningful minimum \"contacts, ties or relations.\" ( Burger King Corp. v. Rudzewicz (1985) 471 U.S. 462 , 471-472 [ 85 L.Ed.2d 528 , 540, 105 S.Ct. 2174 ] ( Burger King ) [approving Florida court\\'s exercise of jurisdiction over franchise dispute involving Michigan franchisee and Florida franchiser], quoting International Shoe, supra, 326 U.S. at p. 319 [90 L.Ed. at p. 104].) As a matter of fairness, a defendant should not be \"haled into a jurisdiction solely as the result of `random,\\' `fortuitous,\\' or `attenuated\\' contacts.\" ( Burger King, supra, 471 U.S. at p. 475 [85 L.Ed.2d at p. 542].) The concept of minimum contacts also requires states to observe certain territorial limits on their sovereignty. It \"ensure[s] that the States, through their courts, do not reach out beyond the limits imposed on them by their status as coequal sovereigns in a federal system.\" ( World-Wide Volkswagen Corp. v. Woodson (1980) 444 U.S. 286 , 292 [ 62 L.Ed.2d 490 , 498, 100 S.Ct. 559 ] ( World-Wide Volkswagen ).) As the high court has explained, \"the Framers ... intended that the States retain many essential attributes of sovereignty, including, in particular, the sovereign power to try causes in their courts. The sovereignty of each State, in turn, implied a limitation on the sovereignty of all of its sister States....\" ( Id. at p. 293 [62 L.Ed.2d at p. 499].) (3) Personal jurisdiction may be either general or specific. A nonresident defendant may be subject to the general jurisdiction of the forum if his or her contacts in the forum state are \"substantial ... continuous and systematic.\" ( Perkins v. Benguet Mining Co. (1952) 342 U.S. 437 , 445, 446 [ 96 L.Ed. 485 , 492, 493, 72 S.Ct. 413 ]; see also Helicopteros Nacionales de Columbia v. Hall (1984) 466 U.S. 408 , 414-415 [ 80 L.Ed.2d 404 , 410-411, 104 S.Ct. 1868 ] ( Helicopteros ).) In such a case, \"it is not necessary that the specific cause of action alleged be connected with the defendant\\'s business relationship to the forum.\" ( Cornelison v. Chaney (1976) 16 Cal.3d 143 , 147 [127 *446 Cal. Rptr. 352, 545 P.2d 264 ] ( Cornelison ); see also Helicopteros, supra, 466 U.S. at p. 414 [80 L.Ed.2d at pp. 410-411].) Such a defendant\\'s contacts with the forum are so wide-ranging that they take the place of physical presence in the forum as a basis for jurisdiction. (See Burnham, supra, 495 U.S. at p. 618 [109 L.Ed.2d at p. 644] (plur. opn. by Scalia, J.).) No question of general jurisdiction arises, however, in the case before us. If the nonresident defendant does not have substantial and systematic contacts in the forum sufficient to establish general jurisdiction, he or she still may be subject to the specific jurisdiction of the forum, if the defendant has purposefully availed himself or herself of forum benefits ( Burger King, supra, 471 U.S. at pp. 472-473 [85 L.Ed.2d at pp. 540-541]), and the \"controversy is related to or `arises out of\\' a defendant\\'s contacts with the forum.\" ( Helicopteros, supra, 466 U.S. at p. 414 [80 L.Ed.2d at p. 411]; see also Burger King, supra, 471 U.S. at p. 472 [85 L.Ed.2d at pp. 540-541].) It is this type of personal jurisdiction that Vons seeks to establish in this case. The United States Supreme Court has described the forum contacts necessary to establish specific jurisdiction as involving variously a nonresident who has \"purposefully directed\" his or her activities at forum residents ( Burger King, supra, 471 U.S. at p. 472 [85 L.Ed.2d at p. 541]), or who has \"purposefully derived benefit\" from forum activities ( id. at p. 473 [85 L.Ed.2d at p. 541]), or \"`purposefully avail[ed himself or herself] of the privilege of conducting activities within the forum State, thus invoking the benefits and protections of its laws.\\'\" ( Id. at p. 475 [85 L.Ed.2d at p. 542].) The court also has referred to the requisite forum contact as involving a nonresident defendant who \"`deliberately\\' has engaged in significant activities with a State [citation] or has created `continuing obligations\\' between himself and residents of the forum [citation]\" ( Id. at pp. 475-476 [85 L.Ed.2d at p. 543]), concluding that in such cases the defendant \"manifestly has availed himself of the privilege of conducting business [in the forum], and because his activities are shielded by `the benefits and protections\\' of the forum\\'s laws it is presumptively not unreasonable to require him to submit to the burdens of litigation in that forum as well.\" ( Id. at p. 476 [85 L.Ed.2d at p. 543].) According to the high court, it is fair to subject defendants to specific jurisdiction, because their forum activities should put them on notice that they will be subject to litigation in the forum. That is, \"[w]hen a corporation `purposefully avails itself of the privilege of conducting activities within the forum State,\\' [citation] it has clear notice that it is subject to suit there, and can act to alleviate the risk of burdensome litigation by procuring insurance, passing the expected costs on to customers, or, if the risks are too great, *447 severing its connection with the state.\" ( World-Wide Volkswagen, supra, 444 U.S. at p. 297 [62 L.Ed.2d at p. 501].) This element of fair warning gives \"a degree of predictability to the legal system that allows potential defendants to structure their primary conduct with some minimum assurance as to where that conduct will and will not render them liable to suit.\" ( Id. at p. 297 [62 L.Ed.2d at p. 501].) The United States Supreme Court has explained, for example, that a state properly may exercise specific jurisdiction when it \"`asserts personal jurisdiction over a corporation that delivers its products into the stream of commerce with the expectation that they will be purchased by consumers in the forum State\\' and those products subsequently injure forum consumers. [Citation.] Similarly a publisher who distributes magazines in a distant State may fairly be held accountable in that forum for damages resulting there from an allegedly defamatory story. [Citations.]\" ( Burger King, supra, 471 U.S. at p. 473 [85 L.Ed.2d at p. 541].) And in the case of litigation arising out of an ongoing franchise agreement, the high court has found proper a Florida court\\'s exercise of specific jurisdiction over a franchise operator located in Michigan, emphasizing that \"parties who `reach out beyond one state and create continuing relationships and obligations with citizens of another state\\' are subject to regulation and sanctions in the other State for the consequences of their activities.\" ( Ibid. ) (4) A state may exercise specific jurisdiction over a nonresident who purposefully avails himself or herself of forum benefits, because the state has \"a `manifest interest\\' in providing its residents with a convenient forum for redressing injuries inflicted by out-of-state actors. [Citations.] Moreover, where individuals `purposefully derive benefit\\' from their interstate activities [citation] it may well be unfair to allow them to escape having to account in other States for consequences that arise proximately from such activities.\" ( Burger King, supra, 471 U.S. at pp. 473-474 [85 L.Ed.2d at p. 541].) Further, \"because `modern transportation and communications have made it much less burdensome for a party sued to defend himself in a State where he engages in economic activity,\\' it usually will not be unfair to subject him to the burdens of litigating in another forum for disputes relating to such activity.\" ( Id. at p. 474 [85 L.Ed.2d at p. 541].) Finally, in analyzing the exercise of specific jurisdiction, \"[o]nce it has been decided that a defendant purposefully established minimum contacts within the forum State, these contacts may be considered in light of other factors to determine whether the assertion of personal jurisdiction would comport with `fair play and substantial justice.\\'\" ( Burger King, supra, 471 U.S. at p. 476 [85 L.Ed.2d at p. 543], quoting International Shoe, supra, 326 *448 U.S. at p. 320 [90 L.Ed. at p. 104].) Courts may evaluate the burden on the defendant of appearing in the forum, the forum state\\'s interest in adjudicating the claim, the plaintiff\\'s interest in convenient and effective relief within the forum, judicial economy, and \"the `shared interest of the several States in furthering fundamental substantive social policies.\\'\" ( Burger King, supra, 471 U.S. at p. 477 [85 L.Ed.2d at p. 543].) This court examined the problem of specific jurisdiction in Cornelison, supra, 16 Cal.3d 143 . There we held that a California resident could sue a Nebraska defendant in California for wrongful death in connection with an accident that occurred in Nevada. Because the defendant was engaged in the business of hauling goods by truck and made fairly frequent deliveries in California, and the accident occurred while he was en route to California for further deliveries, we found a \"substantial nexus between plaintiff\\'s cause of action and defendant\\'s activities in California.\" ( Id. at p. 149.) We explained that the appropriate inquiry is whether the plaintiff\\'s cause of action \"arises out of or has a substantial connection with a business relationship defendant has purposefully established with California.\" ( Ibid. ) We commented that if, as we found, the defendant\\'s activities are not so wide ranging as to justify general jurisdiction, \"then jurisdiction depends upon the quality and nature of his activity in the forum in relation to the particular cause of action. In such a situation, the cause of action must arise out of an act done or transaction consummated in the forum, or defendant must perform some other act by which he purposefully avails himself of the privilege of conducting activities in the forum, thereby invoking the benefits and protections of its laws. Thus, as the relationship of the defendant with the state seeking to exercise jurisdiction over him grows more tenuous, the scope of jurisdiction also retracts, and fairness is assured by limiting the circumstances under which the plaintiff can compel him to appear and defend. The crucial inquiry concerns the character of defendant\\'s activity in the forum, whether the cause of action arises out of or has a substantial connection with that activity, and upon the balancing of the convenience of the parties and the interests of the state in assuming jurisdiction.\" ( Id. at pp. 147-148, fn. omitted, italics added, citing Hanson v. Denckla (1958) 357 U.S. 235 , 250-253 [ 2 L.Ed.2d 1283 , 1295-1298, 78 S.Ct. 1228 ]; McGee v. International Life Ins. Co. (1957) 355 U.S. 220 , 223 [ 2 L.Ed.2d 223 , 226, 78 S.Ct. 199 ]; and Buckeye Boiler Co. v. Superior Court (1969) 71 Cal.2d 893 , 898-899 [ 80 Cal. Rptr. 113 , 458 P.2d 57 ].) B (5a) Applying the teaching of Burger King, supra, 471 U.S. 462 , and Cornelison, supra, 16 Cal.3d 143 , we must determine whether the courts of *449 this state properly may exercise specific jurisdiction over Seabest and WRMI. (6) When a defendant moves to quash service of process on jurisdictional grounds, the plaintiff has the initial burden of demonstrating facts justifying the exercise of jurisdiction. ( State of Oregon v. Superior Court (1994) 24 Cal. App.4th 1550 , 1557 [ 29 Cal. Rptr.2d 909 ].) Once facts showing minimum contacts with the forum state are established, however, it becomes the defendant\\'s burden to demonstrate that the exercise of jurisdiction would be unreasonable. ( Burger King, supra, 471 U.S. at pp. 476-477 [85 L.Ed.2d at pp. 543-544].) When there is conflicting evidence, the trial court\\'s factual determinations are not disturbed on appeal if supported by substantial evidence. ( Felix v. Bomoro Kommanditgesellschaft (1987) 196 Cal. App.3d 106 , 111 [ 241 Cal. Rptr. 670 , 69 A.L.R.4th 1 ].) When no conflict in the evidence exists, however, the question of jurisdiction is purely one of law and the reviewing court engages in an independent review of the record. ( Great-West Life Assurance Co. v. Guarantee Co. of North America (1988) 205 Cal. App.3d 199 , 204 [ 252 Cal. Rptr. 363 ].) (5b) We conclude that this state may exercise specific jurisdiction over Seabest and WRMI. Indeed, this case closely resembles Burger King, supra, 471 U.S. 462 , which, we believe, largely governs the outcome here. As we explain, the cross-defendants here, like the defendants in Burger King, purposefully availed themselves of benefits in the forum by reaching out to forum residents to create an ongoing franchise relationship. In Burger King, supra, 471 U.S. 462 , a Florida corporation sued its Michigan franchisee in the federal district court in Florida for breach of the franchise agreement. The franchisee appeared specially and claimed that because he was a Michigan resident doing business only in Michigan, and because the claim did not \"arise\" in Florida, the district court lacked jurisdiction over him. The Supreme Court disagreed. It held the franchisee, through his continuing contractual obligations to the Florida corporation, purposefully had availed himself of the privilege of conducting business in Florida. The high court declared that, although a nonresident defendant does not necessarily become subject to the specific jurisdiction of the forum state simply by entering into a contract with a resident of the forum ( Burger King, supra, 471 U.S. at p. 478 [85 L.Ed.2d at pp. 544-545]), the exercise of specific jurisdiction over the out-of-state franchisee was appropriate in the case before it because of ongoing franchise relations very similar to those involved here. As already noted, the court declared that \"with respect to interstate contractual obligations, we have emphasized that parties who `reach out *450 beyond one state and create continuing relationships and obligations with citizens of another state\\' are subject to regulation and sanctions in the other State for the consequences of their activities.\\'\" ( Burger King, supra, 471 U.S. at p. 473 [85 L.Ed.2d at p. 541].) The court observed that the dispute in question grew out of a contract that had a \"substantial connection\" with the forum state. ( Id. at p. 479 [85 L.Ed.2d at p. 545], italics omitted.) The court acknowledged that the franchisee was supervised directly by the Michigan Burger King office, but noted that, as in the present case, the franchisee made monthly payments to (and agreed that his operations would be regulated by) corporate headquarters in the forum state. It was important to the court that the Michigan franchisee, although he had no physical presence in Florida, had agreed to an ongoing contractual relationship under which it was established that any disputes would be governed by Florida law. ( Id. at p. 481 [85 L.Ed.2d at pp. 546-547].) The court found it significant that, as in the case before us, the franchisee knew he was affiliating himself with a business with headquarters in the forum state, and that his operations would be supervised by that headquarters. ( Burger King, supra, 471 U.S. at p. 480 [85 L.Ed.2d at pp. 545-546].) The franchisee had reached out beyond Michigan and negotiated with a Florida corporation to take advantage of the significant benefits that would flow from affiliation with the Burger King name and organization. The court stated: \"In light of [the franchisee\\'s] voluntary acceptance of the long-term and exacting regulation of his business from Burger King\\'s Miami headquarters, the `quality and nature\\' of his relationship to the company in Florida can in no sense be viewed as `random,\\' `fortuitous,\\' or `attenuated.\\'\" ( Id. at p. 480 [85 L.Ed.2d at p. 545].) The court cautioned that no mechanical test exists to determine whether a defendant purposefully has availed himself or herself of forum benefits by entering into a contract in the forum. ( Id. at pp. 478-479 [85 L.Ed.2d at p. 545].) Rather, the court \"emphasized the need for a `highly realistic\\' approach\" in which the court examines prior negotiations, future consequences of the contract, the terms of the contract, and the parties\\' dealings with each other. ( Id. at p. 479 [85 L.Ed.2d at p. 545].) The court\\'s discussion in Burger King, supra, 471 U.S. 462 , makes it clear that if Foodmaker had sued Seabest and WRMI in California in a breach of contract action based on the franchise agreements, it would have had no difficulty in establishing California\\'s jurisdiction. As in Burger King, the franchisees here reached out to the California Foodmaker business, and clearly sought out and benefited from the California business\\'s multistate name recognition and organization. The franchisees purposefully undertook ongoing contractual obligations to the California business, and agreed that any disputes arising out of the contract not only would be governed by *451 California law, but also would be litigated in California. Therefore, it was not only predictable that they might face litigation in California \\x97 it was settled that any litigation on the contract would occur in this forum. In addition, Seabest and WRMI made substantial and continuing purchases from Foodmaker in California. (See Rocklin De Mexico, S.A. v. Superior Court (1984) 157 Cal. App.3d 91 , 95, 98 [ 203 Cal. Rptr. 547 ] [asserting regular purchasing contacts would induce a reasonable defendant to foresee the possibility of being brought into court in the forum].) If Foodmaker were to seek indemnification from Seabest or WRMI for any liability Foodmaker suffered as a result of Seabest\\'s or WRMI\\'s undercooking of meat in Washington, the contacts between the Washington franchisees and this forum and Foodmaker also were such that California\\'s exercise of jurisdiction would be proper over the Washington franchisees. The franchise agreement, after all, provided that the Washington franchisees would prepare their products in conformance with Foodmaker\\'s regulations, and any alleged failure to do so would create an injury that arose from the contract and from the Washington franchisees\\' contacts with California. That a court would have no difficulty finding specific jurisdiction in such hypothetical lawsuits brought by Foodmaker demonstrates that Seabest and WRMI purposefully availed themselves of the benefits of doing business with the California Foodmaker enterprise. They formed a substantial economic connection with this state. To require them to answer Vons\\'s claim, as well, is not to allow a third party unilaterally to draw them into a connection with the state; rather, it was Seabest and WRMI who established the connection. Nor would the exercise of jurisdiction in this state over Vons\\'s claim depend on \"random, fortuitous or attenuated\" contacts. Rather, as we have seen, Seabest and WRMI had an ongoing commercial relationship in this forum. We recognize that the court in Burger King, supra, 471 U.S. 462 , did not specifically discuss the further requirement that the claim \"arise out of\" or be \"related to\" the defendant\\'s forum activity in order to warrant the exercise of specific jurisdiction, and that the meaning of that requirement is implicated in the present case. [4] We also recognize that in Burger King, the claim involved a contract action that arose directly from the forum contact, that is, *452 the ongoing franchise relationship, and that the litigation involved the same parties as were involved in the forum contact. The present case is distinguishable from Burger King in that the cross-complainant was not a party to the franchise contract, and thus the claim is not on the contract as was the dispute in Burger King. This distinction, however, does not render the exercise of specific jurisdiction improper. (7) A claim need not arise directly from the defendant\\'s forum contacts in order to be sufficiently related to the contact to warrant the exercise of specific jurisdiction. Rather, as long as the claim bears a substantial connection to the nonresident\\'s forum contacts, the exercise of specific jurisdiction is appropriate. The due process clause is concerned with protecting nonresident defendants from being brought unfairly into court in the forum, on the basis of random contacts. That constitutional provision, however, does not provide defendants with a shield against jurisdiction when the defendant purposefully has availed himself or herself of benefits in the forum. The goal of fairness is well served by the standard we originally set out in Cornelison, supra, 16 Cal.3d 143 , that is, there must be a substantial connection between the forum contacts and the plaintiff\\'s claim to warrant the exercise of specific jurisdiction. ( Id. at p. 148.) As we said in Cornelison, and as the high court suggested in International Shoe, supra, 326 U.S. 310 , for the purpose of establishing jurisdiction the intensity of forum contacts and the connection of the claim to those contacts are inversely related. (See International Shoe, supra, 326 U.S. at p. 317 [90 L.Ed. at pp. 102-103] [\"`Presence\\' in the state ... has never been doubted when the activities of the corporation there have not only been continuous and systematic, but also give rise to the liabilities sued on.... Conversely it has been generally recognized that the casual presence of the corporate agent or even his conduct of single or isolated items of activities ... are not enough to subject it to suit on causes of action unconnected with the activities there.\"].) The explanation we set out in Cornelison bears repeating: \"[A]s the relationship of the defendant with the state seeking to exercise jurisdiction over him grows more tenuous, the scope of jurisdiction also retracts, and fairness is assured by limiting the circumstances under which the plaintiff can compel him to appear and defend. The crucial inquiry concerns the character of defendant\\'s activity in the forum, whether the cause of action arises out of or has a substantial connection with that activity, *453 and the balancing of the convenience of the parties and the interests of the state in assuming jurisdiction.\" ( Cornelison, supra, 16 Cal.3d at p. 148, fn. omitted, italics added; see also Northrup King v. Compania Productora Semillas (8th Cir.1995) 51 F.3d 1383 , 1388 [nature of defendant\\'s contacts with forum \"closely interrelated\" with question of connection of contacts with plaintiff\\'s cause of action]; Richman, Review Essay, Part II \\x97 A Sliding Scale to Supplement the Distinction Between General and Specific Jurisdiction (1984) 72 Cal.L.Rev. 1328, 1340 et seq. [viewing intensity of defendant\\'s contacts and relationship of contacts to claim on a continuum, so that the greater the intensity of forum activity, the lesser the relationship required between the contact and the claim].) (5c) When, as here, the defendants sought out and maintained a continuing commercial connection with a California business, it is not necessary that the claim arise directly from the defendant\\'s contacts in the state. Rather, as is discussed further below, because of the defendants\\' relationship with the forum, it is not unfair to require that they answer in a California court for an alleged injury that is substantially connected to the defendants\\' forum contacts. Seabest argues that the standard we set forth in Cornelison, supra, 16 Cal.3d 143 , and the result we reached in that case, are \"at or beyond the outer-most limits of what the Due Process Clause will countenance.\" (See also Brilmayer, How Contacts Count: Due Process Limitations on State Court Jurisdiction (1980) Sup. Ct. Rev. 77, 84 ( How Contacts Count ) [criticizing Cornelison for considering contacts in the forum that are merely similar to the nonforum conduct that injured the plaintiff].) It argues such a formulation erases the distinction between general and specific jurisdiction, and is inconsistent with cases decided by the United States Supreme Court \"insisting on a direct and concrete nexus between the forum, the specific allegations in a lawsuit, and the defendant\\'s particularized activity in the forum as related to the allegations in the lawsuit to support the exercise of specific jurisdiction.\" We disagree. The high court has not provided precise criteria regarding the particular issue before us \\x97 that is, the necessary relationship between the plaintiff\\'s cause of action and the defendant\\'s contacts in the forum. It has stated the applicable standard in much broader terms than those proposed by Seabest, however, requiring only that a plaintiff\\'s cause of action be \"related to or `arise[] out of\\' a defendant\\'s contacts with the forum.\" ( Helicopteros, supra, 466 U.S. at p. 414 [80 L.Ed.2d at p. 410]; see also Burger King, supra, 471 U.S. at p. 472 [85 L.Ed.2d at pp. 540-541].) To require that there be a substantial nexus or connection between the plaintiff\\'s cause of action and the defendant\\'s forum contacts is in no way inconsistent with this standard, or with the rationale the high court has provided for the exercise of specific *454 jurisdiction. Nor does such a standard eliminate the distinction between general and specific jurisdiction, for it retains the requirement that specific jurisdiction be based upon a connection between the plaintiff\\'s claim and the defendant\\'s forum contacts. The formulation expressed in Cornelison, supra, 16 Cal.3d 143 \\x97 that the state may exercise specific jurisdiction if there is a substantial connection or nexus between forum contacts and the litigation \\x97 is not unique. The same flexibility and emphasis on the nature of the relationship between the claim and the forum contacts is demonstrated in the approach taken by the United States Court of Appeals for the Seventh Circuit in In re Oil Spill by Amoco Cadiz Off Coast of France (7th Cir.1983) 699 F.2d 909 ( Amoco Cadiz ). There, the court of appeals, in an opinion by then Judge, now Chief Judge Posner, approved the federal district court\\'s exercise of jurisdiction in Illinois over a Spanish shipbuilder in a case in which French citizens injured by an oil spill off the coast of France sued the shipbuilder in tort for negligent and defective design of the ship. The French citizens also sued affiliates of the shipowner\\'s parent company for damage caused by negligent operation of the ship, and the affiliates of the parent company cross-claimed against the shipbuilder for indemnity. The court concluded that the Spanish shipbuilder\\'s contacts with Illinois, that is, the course of negotiations and the signing of the shipbuilding contract in Illinois, were sufficiently connected to the oil spill off the coast of France to warrant the exercise of specific jurisdiction with respect to the claims of the French citizens injured by the spill. The court observed that although the French plaintiffs were not party to the contract negotiations in Illinois \\x97 just as Vons was not in contract with Seabest or WRMI \\x97 they were harmed by the shipowner\\'s operation of the ship in its defective condition, \"and the negotiation and signing of the contract were critical steps in the chain of events that led to the oil spill.\" ( Amoco Cadiz, supra, 699 F.2d at p. 917.) Noting that it was particularly reasonable to permit the court in Illinois to exercise jurisdiction to allow all claims arising out of a single catastrophe to be litigated in the same court, it concluded that the exercise of jurisdiction over the Spanish shipbuilder did not offend notions of due process. ( Ibid. ) Similarly, the Sixth Circuit has explained that the relatedness criterion requires only that the plaintiff\\'s claim have a substantial connection with the defendant\\'s forum activities to warrant the exercise of specific jurisdiction. ( Third Nat. Bank in Nashville v. Wedge Group Inc. (6th Cir.1989) 882 F.2d 1087 , 1091.) In that case, the defendant was a Delaware corporation that owned a subsidiary that did business in Tennessee and was involved in the subsidiary\\'s financial transactions in Tennessee. Plaintiff Third National *455 Bank sued the Delaware corporation in Tennessee to enforce Third National Bank\\'s rights as a secured creditor under contracts the defendant\\'s subsidiary had entered into with it. Defendant argued the action did not arise out of its own business contacts with the forum, so that the Tennessee court could not properly exercise jurisdiction. The federal appeals court disagreed, stating that the relatedness element of specific jurisdiction \"does not require that the cause of action formally `arise from\\' defendant\\'s contacts with the forum; rather, this criterion requires only `that the cause of action, of whatever type, have a substantial connection with the defendant\\'s in-state activities.\\' ... `Only when the operative facts of the controversy are not related to the defendant\\'s contact with the state can it be said that the cause of action does not arise from that [contact].\\'\" ( Ibid. ) The defendant\\'s contacts in the forum had a \"close relationship\" with the action, because defendant interjected itself into loan negotiations between the bank and the subsidiary, was a party to a tax sharing agreement that formed a part of the bank\\'s claim, and deposited funds with the bank to induce it to enter into the loan agreement with the subsidiary. ( Ibid. ) The federal circuit also has chosen to apply a flexible standard, deciding in Akro Corp. v. Luker (Fed. Cir.1995) 45 F.3d 1541 that a California patent holder was subject to jurisdiction in an action for declaratory judgment of noninfringement in Ohio, because the patent holder had sought to protect the patent in Ohio and because the patent holder had entered into an exclusive licensing agreement with an Ohio company not involved in the litigation. As for the relationship between the action and the defendant\\'s forum contacts, the court observed that forum contacts need not be directed at the plaintiff in order to warrant the exercise of specific jurisdiction, and that the \"arising out of or relating to\" standard is in the disjunctive, and is intended as a relaxed, flexible standard, rather than one requiring that the plaintiff\\'s claim arise out of the forum contact in any narrow sense. ( Id. at p. 1547.) The court also suggested that the more wide ranging the defendant\\'s forum contacts, the more readily is shown a connection between the forum contacts and the claim. ( Ibid. ; see also Northrup King v. Compania Productora Semillas, supra, 51 F.3d at pp. 1387-1388 [considering \"connection\" between contacts and breach of contract cause of action; although some forum contacts, including meetings to discuss possible future business relations, were not directly related to the breach of contract claim, they were an \"essential part of the course of dealing\" between the parties leading to the contract]; Francosteel Corp. v. M/V Charm (11th Cir.1994) 19 F.3d 624 , 627 [requiring simply that the defendant\\'s contacts be \"related\" to the plaintiff\\'s claim, but deciding that an international shipping contract calling for delivery of goods in the forum was insufficient when none of the events giving rise to the cause of action took place in the forum, none of the parties was a forum *456 resident, the contract was negotiated outside the forum, and the loss occurred when the ship went down in international waters, before delivery]; Vermeulen v. Renault, U.S.A., Inc. (11th Cir.1992) 985 F.2d 1534 , 1546, 1550 [contacts must be \"related\" to the plaintiff\\'s claim or have given rise to it; Renault\\'s design of an automobile for the United States market, advertising of the vehicle in the forum, and maintenance of a distribution network in the forum were sufficiently related to a products liability action, because they were \"inextricable links\" by which the forum resident obtained the vehicle].) In sum, considering the rationale of the specific jurisdiction doctrine, the language in which the high court has described the doctrine, and the federal cases discussed above applying the doctrine, we conclude that a nonresident defendant may be subject to the specific jurisdiction of this state if the defendant purposefully has availed itself of forum benefits through an ongoing franchise agreement and there is a substantial nexus or connection between the defendant\\'s forum activities and the plaintiff\\'s claim. Applying this standard, Vons has demonstrated a substantial nexus between WRMI\\'s and Seabest\\'s business contacts in California and Vons\\'s tort claims against WRMI and Seabest. It is consistent with due process for Seabest and WRMI to be required to appear in the action in this forum; not only did they purposefully avail themselves of forum benefits through their ongoing, comprehensive and profitable contacts with the forum, but the plaintiff\\'s claims against them bore a substantial relationship to their forum contact for two reasons. First, the relationship Seabest and WRMI established in the forum drew these defendants and Vons into a relationship as alleged joint tortfeasors, with some joint liability and rights of indemnification. WRMI and Seabest established an ongoing contractual relationship with Foodmaker in California, and agreed to buy food supplies from Foodmaker (or from suppliers approved by Foodmaker) and to follow Foodmaker\\'s directions in preparing food in the Washington restaurants. Seabest and WRMI actually bought all their hamburger patties from Foodmaker, which in turn was supplied by Vons and other purveyors. Although it was Foodmaker\\'s Washington distribution center that delivered the meat to Seabest and WRMI, Seabest and WRMI paid Foodmaker\\'s San Diego corporate headquarters for the supplies over a period of years. Accordingly, it appears that Seabest and WRMI bought Vons\\'s contaminated meat from Foodmaker pursuant to the franchise agreement. It was pursuant to the ongoing contractual arrangement that the contaminated meat was delivered to Seabest and WRMI. Because of the contractual relationship in California, Vons, Seabest, and WRMI became, it is alleged, joint or concurrent tortfeasors with respect to the injured franchisees and consumers \\x97 Vons for supplying the contaminated meat, and Seabest and WRMI for failing to cook it properly. The contract in California put *457 Vons, Seabest, and WRMI in a position to become jointly liable under California law for harm caused by the meat (Civ. Code, §§ 1431, 1431.2; 5 Witkin, Summary of Cal. Law (9th ed. 1988) Torts, §§ 48, 51, pp. 110, 112), thereby giving Vons a potential claim for indemnification against Seabest and WRMI. (See 5 Witkin, Summary of Cal. Law, supra, § 89, p. 162.) [5] Second, the franchise relationship, with its uniform standards for cooking food, training employees, and buying equipment, itself was a source of injury to Vons. To the extent that, as the complaint alleged, Foodmaker\\'s procedures were \"systematically deficient when measured by industry standards,\" and, as indicated by evidence offered below by Vons, these procedures were imposed on Seabest and WRMI pursuant to the franchise agreement, the contractual contact in California was a contributing cause of the injuries alleged to have been inflicted by Seabest and WRMI upon restaurant customers and other franchisees \\x97 as to which Vons assertedly had concurrent liability and some right to indemnification \\x97 as well as a contributing cause of the injuries to reputation claimed by Vons, because its meat was blamed for the illness and death of customers. [6] Accordingly, both the negligence claims and the claim for indemnification arose out of the contractual relationship between Foodmaker, WRMI, and Seabest, a relationship that had a substantial connection to California. The Court of Appeal below focused on an asserted lack of relationship between Vons, on the one hand, and Seabest and WRMI, on the other. The court suggested this lack of relationship was critical in determining whether the claim was sufficiently related to the forum contacts to permit the exercise of specific jurisdiction in California. Contrary to the Court of Appeal\\'s thesis, however, the defendant\\'s forum activities need not be directed at the plaintiff in order to give rise to specific jurisdiction. (See, e.g., Keeton v. Hustler Magazine, Inc. (1984) 465 U.S. 770 , 775 [ 79 L.Ed.2d 790 , 798, 104 S.Ct. 1473 ] [publisher that distributes magazines to the public in a distant state may be held accountable in that forum for damage to victim of defamation]; Cornelison, supra, 16 Cal.3d 143 [jurisdiction found although the defendant\\'s business activities in California were not directed at the accident victim]; Akro Corp. v. Luker, supra, 45 F.3d at p. 1547 [\"plaintiff need not be the forum resident toward whom any, much less all, of the *458 defendant\\'s relevant activities were purposefully directed\"]; Amoco Cadiz, supra, 699 F.2d at p. 917 [French victims of oil spill may bring a tort action against a Spanish shipbuilder in an Illinois court; their claim \"could readily be said to arise from the negotiating and signing, in Illinois, of the [ship-building] contract,\" even though the negotiations obviously were not directed at the plaintiffs].) (8), (5d) The United States Supreme Court has stated more than once that the nexus required to establish specific jurisdiction is between the defendant, the forum, and the litigation ( Helicopteros, supra, 466 U.S. at p. 411 [80 L.Ed.2d at p. 409]; Shaffer v. Heitner (1977) 433 U.S. 186 , 204 [ 53 L.Ed.2d 683 , 697-698, 97 S.Ct. 2569 ]) \\x97 not between the plaintiff and the defendant. For the purpose of deciding whether a defendant has minimum contacts or purposefully has availed itself of forum benefits, the relevant contacts are said to be with the forum, because it is the defendant\\'s choice to take advantage of opportunities that exist in the forum that subjects it to jurisdiction. ( Asahi Metal Industry Co. v. Superior Court (1987) 480 U.S. 102 , 112 [ 94 L.Ed.2d 92 , 104-105, 107 S.Ct. 1026 ] (plur. opn. by O\\'Connor, J.); Burger King, supra, 471 U.S. at pp. 475, 479 [85 L.Ed.2d at pp. 542, 545]; Helicopteros, supra, 466 U.S. at p. 414 [80 L.Ed.2d at p. 409]; Shaffer v. Heitner, supra, 433 U.S. at p. 204 [53 L.Ed.2d at pp. 697-698].) Seabest argues none of its physical contacts in California \\x97 by phone, visit, or letter \\x97 are relevant to the alleged injury, that is the illness caused by the undercooking of meat in Washington. It argues Vons\\'s claims have no connection with California, asserting that these claims are based solely upon a violation of Washington law \\x97 that violation consisting of a failure to cook hamburgers to the proper internal temperature. This argument views both Vons\\'s claim and Seabest\\'s contacts with this forum far too narrowly. Seabest, like the defendant in Burger King, supra, 471 U.S. 462 , purposefully availed itself of an ongoing contractual relationship with a business in the forum, deriving substantial advantage from that business\\'s multistate reputation and the standardization provided for under the franchise agreement. This forum contact bore a substantial relationship to the claimed injury to Vons\\'s business and reputation, because Seabest acquired Vons\\'s tainted meat from Foodmaker pursuant to purchases under the franchise agreement and cooked it according to the standards provided under the franchise agreement. Far from basing its claim solely or primarily upon an allegation that the franchisees violated Washington law, Vons\\'s cross-complaint alleged that the franchisees failed to cook the meat properly because of deficiencies in the cooking and training procedures and equipment requirements provided for by Foodmaker on a system-wide basis. [7] WRMI argues strenuously that there was no substantial nexus between its California contacts and Vons\\'s negligent handling of the meat. Conceding *459 that a defendant does not necessarily have to have had a prior relationship with the plaintiff in order for specific jurisdiction to be established, WRMI asserts that cases finding jurisdiction despite a lack of prior relationship between the plaintiff and the defendant turn upon a finding of a substantial nexus between the defendant\\'s forum activities and the plaintiff\\'s claim \\x97 a nexus that WRMI argues is missing in this case. In Cornelison, supra, 16 Cal.3d 143 , for example, WRMI claims we found a substantial relationship because the accident arose out of the very activity that formed the essential basis of the defendant\\'s contacts with California. Here, by contrast, WRMI contends \\x97 as does Seabest \\x97 that its improper cooking of hamburgers in Washington had nothing directly to do with its forum-based activities. Although it concedes that the franchise agreement gave Foodmaker the right to dictate WRMI\\'s food preparation methods, WRMI argues this was of minimal significance. Rather, it contends, the benefit that WRMI bargained for when it entered into the agreement was not the privilege of having Foodmaker supervise it, but the benefit gained from association with a regionally known chain. Moreover, WRMI asserts that by entering into the agreement, it did not seek to conduct any business in California, did not own property in California, has no employees in California, and never has contracted or done business directly with Vons. Finally, WRMI claims Vons failed to demonstrate that Foodmaker actually directed Seabest or WRMI to use substandard training, equipment, and cooking methods. We are not persuaded. The relationship of Vons\\'s claim to WRMI\\'s forum activities is less attenuated than the relationship of the accident victim\\'s claim to the defendant\\'s forum activities in Cornelison, supra, 16 Cal.3d 143 . We did not hold in that case that only an injury caused by the very activity that formed the defendant\\'s forum contacts would give rise to specific jurisdiction. Indeed, under WRMI\\'s reading of the case, a state never could exercise jurisdiction over a tort claim arising from a contractual *460 contact. Such a result, however, would be inconsistent with the fairness rationale underlying specific jurisdiction, by which courts recognize that defendants who purposefully avail themselves of forum benefits may have to answer claims against them in the forum. Nor would it be consistent with Chief Judge Posner\\'s analysis in Amoco Cadiz, supra, 699 F.2d 909 , or with the other federal cases discussed above, which recognize that a tort claim arising out of a contractual relationship may be sufficiently connected to the forum contact to give rise to specific jurisdiction. Further, WRMI\\'s claim that it did no business in California and derived no economic benefit from this state is belied by the ongoing contractual relationship it entered into with Foodmaker, a relationship by which WRMI sought to secure to itself the benefits the California business could provide in terms of ready-made goodwill for WRMI\\'s restaurants, as well as an easy-to-follow format for establishing and running these businesses. In any event, jurisdiction is not limited to litigation over bargained-for contract benefits when a tort claim is at stake. As in Amoco Cadiz, supra, 699 F.2d 909 , in which the contractual activities in the state sufficed to establish specific jurisdiction even though they did not relate directly to the oil spill off the coast of France, subjecting defendants to jurisdiction is not unfair simply because the plaintiff\\'s claim did not involve one of the specific benefits defendant anticipated would flow from doing business in the forum. Finally, it is obvious that Vons is not required to prove the allegations of its cross-complaint in order to establish that jurisdiction is proper in this forum. ( Edmunds v. Superior Court (1994) 24 Cal. App.4th 221 , 228 [ 29 Cal. Rptr.2d 281 ].) C (9) In opposition to the conclusion we reach, the Court of Appeal determined (and Seabest and WRMI argue) that the connection between the forum contacts of these cross-defendants and Vons\\'s asserted claims against them fails to meet various tests of \"relatedness\" that they assert are required by the doctrine of specific jurisdiction. In addition, Vons urges us to adopt a more expansive test of \"relatedness\" than the one we have embraced. The various theories offered by the Court of Appeal and the parties are not persuasive, however, at least in the context of the type of ongoing franchise relationship that has been demonstrated in this case. We must recall that the United States Supreme Court has rejected the use of \"talismanic jurisdictional formulas\" ( Burger King, supra, 471 U.S. at p. 485 [85 L.Ed.2d at p. 549]), stating that \"`the facts of each case must [always] be weighed\\' in determining whether personal jurisdiction would comport with `fair play and substantial justice.\\'\" ( Id. at pp. 485-486 [85 L.Ed.2d at p. 549].) *461 The Court of Appeal declared that it did not need to determine whether Seabest and WRMI had \"purposefully availed\" themselves of the privilege of conducting business activities in this state, because even if they had, the causes of action against them did not \"arise out of\" or \"relate to\" those activities. The appellate court reached this conclusion because of its view that Seabest\\'s and WRMI\\'s contacts with California did not cause Vons\\'s claim. The court believed it was required to apply an extremely narrow test of causation in deciding whether there was a sufficient connection between the activity and the cause of action. Under the test formulated by the Court of Appeal, unless the forum contact proximately caused the occurrence that injured the plaintiff, the connection between the contacts and the claim is insufficient to permit the exercise of specific jurisdiction. The Court of Appeal relied principally upon two cases in attempting to demonstrate the proper application of such a test. As will appear, we disapprove the reasoning of these cases to the extent they are inconsistent with this opinion. In the first case, Circus Circus Hotels, Inc. v. Superior Court (1981) 120 Cal. App.3d 546 [ 174 Cal. Rptr. 885 ] ( Circus Circus ), California residents brought a tort cause of action in this state against a Nevada hotel corporation. They sought damages for losses they incurred while on vacation in Nevada, alleging that the hotel\\'s negligence was the cause of a burglary of their hotel room. They alleged that the Nevada hotel\\'s substantial advertising campaign in California induced them to patronize the hotel. The reviewing court found the connection between the cause of action and the Nevada hotel\\'s activities in California insufficient to warrant this state\\'s exercise of jurisdiction. The court observed: \"It could not be seriously contended that the defendant\\'s advertising was the proximate cause of the burglary....\" ( Id. at p. 569, italics added.) As additional support, the Court of Appeal below relied upon Sklar v. Princess Properties International, Ltd. (1987) 194 Cal. App.3d 1202 [ 240 Cal. Rptr. 102 ] ( Sklar ). In that case, the plaintiff, a California resident, filed a tort action in this state against a Bermuda hotel corporation, alleging personal injuries sustained in a fall at the hotel. The plaintiff alleged the hotel contracted through its agents for plaintiff\\'s accommodations in a California transaction and engaged in advertising in California. The Court of Appeal found insufficient the connection between the activity alleged to have occurred in the forum state and plaintiff\\'s cause of action. It said: \"It cannot seriously be contended that sale to plaintiff in California of accommodations at defendant\\'s hotel in Bermuda was the proximate cause of plaintiff\\'s personal injuries....\" ( Id. at p. 1208, italics added.) Applying the standard it derived from these cases, the Court of Appeal explained: \"In the present case, defendants\\' act or omission alleged to have *462 caused damage to Vons and for which it seeks indemnification is the undercooking of hamburgers in the state of Washington. It cannot seriously be contended that but for defendants [ sic ] activities in California ... the hamburger patties would not have been undercooked in Washington.\" The Court of Appeal also emphasized that defendants had no relationship with Vons, and that, \"[i]n short, the causal link between defendants\\' ... franchise relationship with Foodmaker and the alleged failure to properly cook hamburgers in Washington is too attenuated to say the injury arose from the activities of Seabest and WRMI in this state.\" As is evident, although the Court of Appeal used the term \"but for\" in discussing whether an adequate relationship had been shown between the forum contacts and the plaintiff\\'s claim, the test actually applied was a proximate cause test as used in Circus Circus, supra, 120 Cal. App.3d 546 , and Sklar, supra, 194 Cal. App.3d 1202 , whose focus is whether the forum contact was the legal cause of the plaintiff\\'s injuries. The Court of Appeal\\'s holding that jurisdiction cannot exist unless the alleged injury was proximately caused by the contacts in the forum state \\x97 in the sense that the contacts were the immediate preceding legal cause of plaintiff\\'s injury \\x97 is untenable, at least in the franchise setting. To require that the injury be proximately caused by the forum contact is to require that the injury \"arise out of\" the forum contact in the strictest sense. Such a requirement is inconsistent with the formulation that appears in Burger King and Helicopteros, which, as noted above, states in the disjunctive that jurisdiction is proper when litigation results from alleged injuries that \"`arise out of or relate to \\'\" forum activities. ( Burger King, supra, 471 U.S. at p. 472 [85 L.Ed.2d at p. 541], italics added; Helicopteros, supra, 466 U.S. at p. 414, fn. 9 [80 L.Ed.2d at p. 411]; see also International Shoe, supra, 326 U.S. at p. 319 [90 L.Ed. at p. 104] [\"The exercise of that privilege [forum activities] may give rise to obligations, and, so far as those obligations arise out of or are connected with the activities within the state, a procedure which requires the corporation to respond to a suit brought to enforce them can, in most instances, hardly be said to be undue.\"].) Similarly, such a requirement is inconsistent with the relevant standard in Cornelison, supra, 16 Cal.3d at page 148, wherein we stated, also in the disjunctive, that the proper inquiry is \"whether the cause of action arises out of or has a substantial connection with that [forum] activity.\" (Italics added.) A proximate cause test as applied in the foregoing Court of Appeal cases would prohibit the exercise of specific jurisdiction in most contract actions arising out of ongoing interstate contractual relations \\x97 the sort of case in which specific jurisdiction is most obviously appropriate. This is so because the contractual relationship usually cannot be said to cause a party to fail to *463 live up to the terms of the contract. If only an injury proximately caused by the forum contact could give rise to specific jurisdiction, the United States Supreme Court would have reached a different result in Burger King, supra, 471 U.S. 462 , because the forum activity in that case (the ongoing contractual relationship in Florida) did not cause the injury (the franchisee\\'s failure to make franchise payments in Michigan). Similarly, the Court of Appeal\\'s formulation would have produced a different result in Cornelison, supra, 16 Cal.3d 143 , where the forum activities (deliveries inside California) did not cause the injury (the accident in Nevada). The United States Supreme Court long ago rejected the notion that personal jurisdiction might turn upon mechanical tests such as a proximate cause test. ( International Shoe, supra, 326 U.S. at p. 319 [90 L.Ed. at pp. 103-104] [\"It is evident that the criteria by which we mark the boundary line between those activities which justify the subjection of a corporation to suit, and those which do not, cannot be simply mechanical or quantitative.... Whether due process is satisfied must depend rather upon the quality and nature of the activity in relation to the fair and orderly administration of the laws which it was the purpose of the due process clause to insure.\"]; Burger King, supra, 471 U.S. at p. 478 [85 L.Ed.2d at p. 545] [in discussing whether a contract may be a sufficient contact, the court rejected any mechanical test or \"`conceptualistic ... theories of the place of contracting or of performance\\'\"]; see also Kulko v. California Superior Court (1978) 436 U.S. 84 , 91, 92 [ 56 L.Ed.2d 132 , 140-141, 98 S.Ct. 1690 ]; Shaffer v. Heitner, supra, 433 U.S. at p. 204 [53 L.Ed.2d at pp. 697-698]; Cornelison, supra, 16 Cal.3d at p. 150 [holding that \"[t]he question of jurisdiction cannot be decided by the application of some precise formula,\" and rejecting \"a rigid test in favor of a flexible approach grounded in the quality and nature of the activity of the defendant in the state seeking to exercise jurisdiction over him, fairness to the parties, and the orderly administration of the law\"].) Such a proximate cause test also is inconsistent with the fairness rationale underlying the specific jurisdiction doctrine. A person who purposefully avails himself or herself of the benefits of doing business in the forum state must be prepared to answer lawsuits that relate to his or her activity there. ( Burger King, supra, 471 U.S. at p. 472 [85 L.Ed.2d at pp. 540-541].) The due process clause recognizes the individual\\'s liberty interest in structuring his or her business relations so as to avoid jurisdiction in another forum ( ibid. ; see also World-Wide Volkswagen, supra, 444 U.S. at p. 297 [62 L.Ed.2d at p. 501]), but a narrow proximate cause test of the relationship between the plaintiff\\'s claim and the defendant\\'s forum contacts is unnecessary to ensure that interest. Indeed, such a test would shield nonresidents who take advantage of forum benefits from the duty to answer related claims *464 in the forum for injury the nonresident defendant has caused. As the high court has declared, however, \"the Due Process Clause may not readily be wielded as a territorial shield to avoid interstate obligations that have been voluntarily assumed.\" ( Burger King, supra, 471 U.S. at p. 474 [85 L.Ed.2d at p. 541].) An individual who, in the forum, has entered into an ongoing contractual relationship of the nature described in Burger King, supra, 471 U.S. 462 , or shown in the present case, has chosen not to structure its business relations to avoid that forum\\'s jurisdiction, but rather has chosen to affiliate with the forum, and reasonably must anticipate exposure to litigation in the forum beyond claims that are in a narrow sense proximately caused by forum activities. This is readily apparent, because the high court has established that it is not the particular injury in the forum state that must be foreseeable to the defendant, but rather \"`the foreseeability that is critical to the due process analysis ... is that the defendant\\'s conduct and connection with the forum State are such that he should reasonably anticipate being haled into court there.\\'\" ( Id. at p. 474 [85 L.Ed.2d at p. 542].) Finally, the narrow proximate cause test as applied by the Court of Appeal in the present case has been criticized as improperly importing common law policies limiting tort liability into the entirely unrelated field of jurisdiction. (Rose, Related Contacts and Personal Jurisdiction: The \"But For\" Test (1994) 82 Cal.L.Rev. 1545, 1577 ( Related Contacts ).) Although it is used mechanically in jurisdiction cases, the test operates as an expression of policy in tort cases. As one commentator has observed: \"It is particularly difficult to regard proximate or `legal\\' causation as a true definition of relatedness because proximate causation usually reflects a policy-based legal filter on `but for\\' causation. As Dean Prosser wrote, `[t]he term \"proximate cause\" is applied by the courts to those more or less undefined considerations which limit liability even where the fact of causation is clearly established.\\'\" ( Ibid., fn. omitted.) Accordingly, we reject the proximate cause test applied by the Court of Appeal in this case, and by the courts in Sklar, supra, 194 Cal. App.3d 1202 , and Circus Circus, supra, 120 Cal. App.3d 546 , because it is inconsistent with the rationale underlying specific jurisdiction in the context of an ongoing franchise relationship. An alternative to the narrow proximate cause test employed by the Court of Appeal, and one that both Vons and WRMI may be understood to urge in support of their own conflicting conclusions, is an analysis focused upon whether a defendant\\'s forum contacts are a \"but for\" cause of the plaintiff\\'s *465 claim. Although WRMI argues that Vons\\'s claims fail this test, the test is a broad one that usually is understood as supporting expansive exercise of jurisdiction over nonresidents. (See, e.g., Rose, Related Contacts, supra, 82 Cal.L.Rev. at p. 1577; Note, Specific Personal Jurisdiction and the \"Arise From or Relate to\" Requirement ... What Does it Mean? (1993) 50 Wash. & Lee L.Rev. 1265, 1277 ( Note ).) For example, in Dialysis at Sea, Inc. v. Superior Court (1989) 216 Cal. App.3d 788 [ 265 Cal. Rptr. 71 ] ( Dialysis at Sea ), a nonresident defendant contracted in California with California residents for special medical services aboard a cruise ship. Defendants provided negligent medical care on board ship outside of California, injuring the plaintiff. The Court of Appeal refused to apply the narrow proximate cause test of Sklar, supra, 194 Cal. App.3d 1202 , and Circus Circus, supra, 120 Cal. App.3d 546 . It observed that under such a test contractual relations formed in one state never could be the basis for jurisdiction over a related tort claim for injuries inflicted in another state. ( Dialysis at Sea, supra, 216 Cal. App.3d at p. 795.) The appellate court also noted the absence of a \"direct connection\" between the forum activities in Sklar, supra, 194 Cal. App.3d 1202 , and Circus Circus, supra, 120 Cal. App.3d 546 , and the causes of action asserted therein. It observed, by contrast, that the contract for medical care on board ship in the case before it put the out-of-state defendant within \"striking distance\" of the plaintiff, allowing the defendant tortiously to injure the California plaintiff. The court declared that the contract was the \"but for\" cause of the injury, stating that \"[i]n other words, `but for\\' the contract plaintiff and the decedent would not have been on the cruise and the decedent would not have been subjected to [the defendant\\'s] allegedly negligent medical treatment.\" (216 Cal. App.3d at p. 795; see also State of Oregon v. Superior Court, supra, 24 Cal. App.4th 1550 [applying same test to permit exercise of jurisdiction in California when Oregon university recruited California athlete in California, and medical malpractice in Oregon allegedly contributed to athlete\\'s death].) [8] Several federal court opinions also employ a \"but for\" test in this context. For example, the Ninth Circuit Court of Appeals found that a Florida cruise line\\'s solicitation of business in Washington State was related sufficiently to an injury on board the cruise ship in international waters to warrant the exercise of jurisdiction in Washington, because in the absence of the solicitation the plaintiffs would not have taken the cruise and the injury would *466 not have occurred. ( Shute v. Carnival Cruise Lines (9th Cir.1990) 897 F.2d 377 , revd. on other grounds sub nom. Carnival Cruise Lines v. Shute, supra, 499 U.S. 585 .) The appeals court found jurisdiction although the cruise line had no offices or exclusive agents in Washington, and was not registered to do business there, but merely advertised in the local media, mailed brochures and paid commissions to travel agents there, and conducted promotional seminars in the state. Only about 1 percent of the cruise line\\'s sales took place in Washington. The Ninth Circuit Court of Appeals declared that a \"but for\" test is \"consistent with the basic function of the `arising out of\\' requirement \\x97 it preserves the essential distinction between general and specific jurisdiction,\" in that it \"preserves the requirement that there be some nexus between the cause of action and the defendant\\'s activities in the forum.\" ( Shute v. Carnival Cruise Lines, supra, 897 F.2d at p. 385, italics added.) It rejected any narrower reading of the \"arising out of\" requirement as unnecessary to protect defendants from unreasonable assertions of jurisdiction, explaining that the third element of the specific jurisdiction analysis \\x97 that is, the reasonableness requirement \\x97 provides the necessary protection. ( Ibid. ) The court reasoned that any narrower application of the \"arising out of\" element would shield defendants who purposefully have availed themselves of forum benefits, and therefore would be \"an unwarranted departure from the core concepts of `fair play and substantial justice\\' which are central to the due process analysis\" underlying the exercise of specific jurisdiction. ( Id. at p. 386.) Thereafter, in Ballard v. Savage (9th Cir.1995) 65 F.3d 1495 , 1500, the Ninth Circuit reaffirmed Shute v. Carnival Cruise Lines, supra, 897 F.2d 377 , after the high court\\'s reversal of the latter opinion on other grounds. (See Carnival Cruise Lines v. Shute, supra, 499 U.S. 585 .) The Ninth Circuit found that a duped investor\\'s fraud claim against an Austrian bank that was used as a repository for deposits in a Ponzi scheme was sufficiently related to the bank\\'s general banking activities in the forum to warrant the exercise of specific jurisdiction, although the bank\\'s general banking activities in the forum clearly did not cause the injury. The court found that the \"but for\" test was satisfied because, had the bank not done business in the United States, the creator of the Ponzi scheme would not have used it in connection with the fraudulent scheme. ( Ballard v. Savage, supra, 65 F.3d at p. 1500; see also Prejean v. Sonatrach, Inc. (5th Cir.1981) 652 F.2d 1260 , 1270, fn. 21 [\"Logically, there is no reason why a tort cannot grow out of a contractual contact. In a case like this, the contractual contact is a `but for\\' causative factor for the tort since it brought the parties within tortious `striking distance\\' of each other. While the relationship between a tort suit and *467 contractual contact is certainly more tenuous than when a tort suit arises from a tort contact, that only goes to whether the contact is by itself sufficient for due process, not whether the suit arises from the contact.\"].) We are not persuaded it is productive to focus upon whether the injury would have occurred \"but for\" the forum contacts, at least when an ongoing franchise relationship is the forum contact. As applied in certain circumstances, this standard may be too lax and theoretically may include any historical cause of the plaintiff\\'s injuries. For example, as Seabest notes, if the defendant is a lawyer who has received his or her legal education in the forum, that legal education may be said to be a \"but for\" cause of any malpractice the lawyer commits anywhere in the nation, yet it hardly seems a sufficient basis for the forum to exercise jurisdiction. One commentator has criticized the \"but for\" test as permitting a virtually unlimited exercise of jurisdiction. (Brilmayer, Related Contacts and Personal Jurisdiction (1988) 101 Harv. L.Rev. 1444, 1462 ( Related Contacts ); Brilmayer, How Contacts Count, supra, Sup. Ct. Rev. at p. 84.) As Professor Lea Brilmayer points out, one\\'s birth is a historical \"but for\" cause of one\\'s every action, yet the location of one\\'s birth normally should not determine personal jurisdiction. (Brilmayer, Related Contacts, supra, 101 Harv. L.Rev. at p. 1462.) Moreover, as another commentator has pointed out, the concept of \"minimum contacts\" is not compatible with the elements of causation \\x97 normally physical factors \\x97 that are involved in tort claims. Just as with the proximate cause test, \"[a] further problem with the `but for\\' causation is its mismatch with the social activities that are part of the causal chain in typical personal jurisdiction disputes. In tort causal chains, one usually encounters physical phenomena such as a speeding car, a careless shotgun blast, or a baby food spill on a supermarket floor. Conversely, contacts in personal jurisdiction cases are generally social acts, like advertising directed at forum residents. In the latter instance, the causal link between those acts and the injuries necessarily passes through some conscious decision on the plaintiff\\'s part,\" thereby interrupting the causal chain, though not necessarily making the exercise of jurisdiction unreasonable. (Rose, Related Contacts, supra, 82 Cal.L.Rev. at pp. 1571-1572.) Further, even in the context of \"but for\" causation in the tort field, it generally has been accepted that the search for \"but for\" causation is not a meaningful one when two or more concurrent, independent causes exist, because the tortfeasor does not escape liability for his or her negligence on the ground that the same harm would have occurred without such negligence. ( Mitchell v. Gonzales (1991) 54 Cal.3d 1041 , 1049 [ 1 Cal. Rptr.2d 913 , 819 P.2d 872 ].) The same may be true in the context of jurisdiction, such that if a forum contact is but one of several concurrent, independent causes of plaintiff\\'s injury, it nonetheless may be fair to permit the state to exercise jurisdiction over the defendant. *468 Significantly, the high court has not been concerned with causation in this context. Rather, it has spoken of a relationship between the cause of action and the contacts in the forum, and has used relatively broad terms to describe the necessary relationship. (See International Shoe, supra, 326 U.S. at p. 319 [90 L.Ed. at pp. 103-104]; see also Burger King, supra, 471 U.S. 462 , 472 [ 85 L.Ed.2d 528 , 540-541]; Helicopteros, supra, 466 U.S. at p. 414, fn. 9 [80 L.Ed.2d at p. 411].) In International Shoe, for example, the court found the defendant\\'s sales activities within the state were such as to subject it to the forum\\'s jurisdiction, without requiring proof that the sales activities caused the events underlying the claim within the state (a claim for unemployment insurance contribution for the sales representatives). [9] ( International Shoe, supra, 326 U.S. 310 .) In Burger King, too, as we have pointed out, the Michigan defendant\\'s breach of contract was not caused by his contacts with the Florida corporation, even though the claim certainly arose out of the contract. ( Burger King, supra, 471 U.S. 462 .) And in Cornelison, we found a Nevada trucking company\\'s history of contacts with California sufficient to establish jurisdiction, although these contacts did not literally cause the accident in Nevada that was the subject of the lawsuit. ( Cornelison, supra, 16 Cal.3d 143 .) The foregoing authorities call into question the utility of importing a causation test from tort law into the area of jurisdiction in order to evaluate a matter that fundamentally is one of relationship and fairness, rather than causation. Again, beginning with International Shoe, supra, 326 U.S. 310 , the high court has cautioned repeatedly that the question whether a nonresident defendant has sufficient contacts with the forum, so as to make fair the exercise of jurisdiction, cannot be answered by resort to mechanical tests. ( Id. at p. 319 [90 L.Ed. at pp. 103-104]; see also Burger King, supra, 471 U.S. at p. 478 [85 L.Ed.2d at pp. 544-545]; Kulko v. California Superior Court, supra, 436 U.S. at pp. 91, 92 [56 L.Ed.2d at pp. 140-141]; Shaffer v. Heitner, supra, 433 U.S. 186 , 204 [ 53 L.Ed.2d 683 , 697-698].) We echoed this concern in Cornelison, supra, 16 Cal.3d 143 , stating that specific jurisdiction does not turn upon any precise formula. ( Id. at p. 150; see also Edmunds v. Superior Court, supra, 24 Cal. App.4th at pp. 230-231; Pennsylvania Health & Life Ins. Guaranty Assn. v. Superior Court (1994) 22 Cal. App.4th 477 , 481 [ 27 Cal. Rptr.2d 507 ].) The question whether the facts are sufficient to justify the exercise of specific jurisdiction is answered fundamentally by considering the goal of fairness. A \"but for\" test is overly *469 mechanical and fails to concentrate on the central issue presented by a motion to quash for lack of specific jurisdiction \\x97 that is, whether the defendant\\'s forum contacts and the plaintiff\\'s claim are related sufficiently so that it is fair to subject the defendant to jurisdiction in the forum. Seabest urges alternatively that we declare that the relationship required between the forum contact and the plaintiff\\'s claim must be direct and concrete. It appears Seabest would have us limit the forum to exercising jurisdiction over nonresident defendants for, in Seabest\\'s words, \"alleged wrongdoing that took place in the forum.\" Specifically, Seabest urges that we adopt the view championed by Professor Brilmayer, that specific jurisdiction is legitimate under recent high court authority only when a forum contact is substantively related to the plaintiff\\'s cause of action \\x97 that is, when conduct constituting a forum contact that took place in the forum normally would be pleaded under state substantive law applicable to the plaintiff\\'s cause of action. (See Brilmayer, How Contacts Count, supra, 1980 Sup. Ct. Rev. at p. 82; Brilmayer et al., A General Look at General Jurisdiction (1988) 66 Tex. L.Rev. 721, 738 ( General Jurisdiction ).) If a fact alleged to be a forum contact would be irrelevant in a domestic dispute, the argument continues, it is not a \"related\" contact merely because a nonresident defendant is involved. ( Ibid. ) In support of this thesis, Professor Brilmayer asserts that the constitutional underpinning for specific jurisdiction is the state\\'s sovereign power to regulate conduct within the state. (Brilmayer et al., General Jurisdiction, supra, 66 Tex. L.Rev. at pp. 739, 740; Brilmayer, How Contacts Count, supra, Sup. Ct. Rev. at pp. 85-86 [arguing that the concept of state sovereignty permits exercise of jurisdiction over nonresidents because of the \"State\\'s right to regulate activities occurring within the State\"].) She explains: \"A test of substantive relevance helps to identify those situations in which the state is using the litigation to regulate local activity. Conduct that has no legal relevance [to the claim] is unlikely to give rise to any plausible state interest in regulation. Consequently, if such legally irrelevant conduct is the only local contact, then a state cannot predicate jurisdiction upon any purported desire to regulate local activities.\" (Brilmayer et al., supra, 66 Tex. L.Rev at p. 740, italics added.) Seabest argues that the \"substantive relevance\" standard now represents the majority view in the federal circuits. Our research, however, shows otherwise. In the First Circuit Court of Appeals, the court expressly has repudiated the claim that its earlier decisions adopted the substantive relevance doctrine as a matter of federal constitutional law. ( Ticketmaster-New York, Inc. v. Alioto (1st Cir.1994) 26 F.3d 201 , 207, fn. 8.) While the cases *470 from the First Circuit Court of Appeals cited by Seabest express various standards, [10] we observe that in a case decided after those cited by Seabest, the First Circuit Court of Appeals has approved the exercise of jurisdiction when forum contacts were not substantively related to the plaintiff\\'s claim. ( Nowak v. Tak How Investments, Ltd. (1st Cir.1996) 94 F.3d 708 .) In that case, plaintiff\\'s decedent drowned in a swimming pool in the defendant\\'s Hong Kong hotel. The court determined that the Hong Kong hotel corporation\\'s solicitation of the patronage of Massachusetts residents and its negotiations conducted by fax over the terms of a group rate contract established a sufficient relationship between the forum contacts and the plaintiff\\'s claim to justify the exercise of specific jurisdiction in Massachusetts, although the plaintiff\\'s injury occurred in Hong Kong. It appears evident as well that the solicitation was not substantively related to the plaintiff\\'s claim. The court also observed that although it favors a proximate cause standard of relatedness, it also recognizes that such a test is unduly restrictive in some cases. ( Id. at p. 715.) The court concluded that although jurisdiction necessarily is reasonable if premised upon a forum \"contact that is a legal cause of the injury underlying the controversy \\x97 i.e., that `form[s] an \"important or [at least] material, element of proof\" in the plaintiff\\'s case\\' [citation]\" \\x97 jurisdiction nevertheless may be exercised appropriately in cases not meeting this standard. ( Ibid. ) The court declared: \"If the resident is harmed while engaged in activities integral to the relationship the corporation sought to establish, we think the nexus between the contacts and the cause of action is sufficiently strong to survive the due process inquiry at least at the relatedness stage.\" ( Id. at pp. 715-716; see also Pritsker v. Yari (1st Cir.1994) 42 F.3d 53 , 61 [relatedness element a \"flexible, relaxed standard\"]; Ticketmaster-New York, Inc. v. Alioto, supra, 26 F.3d 201 , 205-206, 207, fn. 8 [indicating standard should be flexible].) Seabest also cites cases from the Second, Fourth, Seventh, and Eighth Circuit Courts of Appeals in support of its position. (See, e.g., Gelfand v. Tanner Motor Tours, Ltd. (2d Cir.1964) 339 F.2d 317 , 321-322 [declining to exercise jurisdiction based upon in-state sale of bus tickets, because the alleged negligence took place entirely outside the forum]; City of Virginia *471 Beach v. Roanoke River Basin (4th Cir.1985) 776 F.2d 484 , 487 [noting that \"the activities that support the jurisdictional claim must coincide with those that form the basis of the plaintiff\\'s substantive claim\"]; Saylor v. Dyniewski (7th Cir.1988) 836 F.2d 341 , 343 [holding \"the case law plainly establishes that claims can only `arise from\\' transactions if some connection exists between the nature of the claim and the nature of the transaction,\" but specifically limiting this part of the holding to interpretation of Illinois\\'s long-arm statute]; Pearrow v. National Life & Acc. Ins. Co. (8th Cir.1983) 703 F.2d 1067 , 1068-1069 [interpreting only Arkansas\\'s long-arm statute, the defendant\\'s out-of-state negligence did not \"arise out of\" the defendant\\'s in-state solicitation].) Only the first two cases cited actually support Seabest\\'s claim, the others being interpretations of state long-arm statutes. As our review demonstrates, these authorities do not demonstrate that Seabest\\'s test represents any \"majority view\" among the federal circuits. Neither is Seabest\\'s reliance upon Hanson v. Denckla, supra, 357 U.S. 235 , as an \"illustration\" of the substantive relevance test particularly enlightening. In Hanson, legatees sought to establish personal jurisdiction over a Delaware trustee in a Florida court. The trust had been created in Delaware, and the beneficiary thereafter moved to Florida and there exercised her powers of appointment. The argument in support of Florida\\'s exercise of jurisdiction was that the trustee had established sufficient \"affiliation\" with Florida to justify jurisdiction. The high court rejected this argument, finding insufficient minimum contacts between the Delaware trustee and the state of Florida. It explained that the trustee had no office in Florida and neither transacted nor solicited business there, and that the trust assets never had been held or administered in Florida. (P. 251 [2 L.Ed.2d at p. 1296].) In addition, the court explained that \"[t]he cause of action in this case is not one that arises out of an act done or transaction consummated in the forum State.\" ( Ibid. ) Seabest seizes on this statement as an example of its \"substantive relevance\" test. Its reliance is misplaced. In making this statement, the court was concerned not with establishing a general rule of relatedness for the purpose of specific jurisdiction, but with distinguishing the case at bar from McGee v. International Life Ins. Co., supra, 355 U.S. 220 . In the latter case, the court held that a single forum contact in the form of an insurance contract could be the basis for jurisdiction, in light of the forum state\\'s interest in providing effective redress when insurers that have solicited business in the state fail to pay claims. ( McGee v. International Life Ins. Co., supra, 355 U.S. at p. 223 [2 L.Ed.2d at p. 226]; see also Burger King, supra, 471 U.S. at p. 475, fn. 18 [85 L.Ed.2d at p. 543].) In Hanson, by contrast, the court stated that the contract that was the subject of the litigation had no connection with the forum state and therefore could not count as a forum \"contact\" on the part of the trustee. ( Hanson v. Denckla, supra, 357 U.S. at p. 252 [2 L.Ed.2d at p. 1297].) *472 Consequently, the court reasoned, \"this suit cannot be said to be one to enforce an obligation that arose from a privilege the defendant [trustee] exercised in Florida.\" ( Hanson v. Denckla, supra, 357 U.S. at p. 252 [2 L.Ed.2d at p. 1297].) This language does not suggest that specific jurisdiction is legitimate only when a forum contact is substantively related to the plaintiff\\'s cause of action \\x97 that is, when conduct constituting a forum contact normally would be pleaded under state substantive law applicable to the plaintiff\\'s cause of action. Although the court in Hanson certainly found that when no relationship exists between the subject of the litigation and the forum, and there are no other contacts between the defendant and the forum, the exercise of jurisdiction is inappropriate, the court was not presented with the different question of how connected a cause of action must be to forum contacts in order to establish specific jurisdiction. [11] Seabest also urges the following policy rationales in support of the substantive relevance standard. It contends the test would prevent the assertion of jurisdiction based upon attenuated contacts that have no direct relationship to a lawsuit. We are not persuaded. Existing law regarding specific jurisdiction, with its emphasis upon \"purposeful availment,\" already prohibits the exercise of jurisdiction on the basis of attenuated contacts. The assertion that the standard should ensure a direct relationship between the contacts and the lawsuit is simply another way of stating the standard promoted by Seabest, but does not advance a supporting argument. Seabest also argues that the policy of long-arm statutes (and, presumably, the due process clause) is to permit states to regulate activities that take place within their borders, and that its proposed rule comports with this asserted policy. According to Seabest, the interest of the state in regulating activity within its borders is implicated only when the plaintiff seeks to impose liability for some act that the defendant actually committed in the forum state. This rationale is stated more fully in the works of Professor Brilmayer, cited above. We reject this argument, however, because in our view it fails to acknowledge another interest of the state that is recognized as an incident of state sovereignty. Specifically, not only does the state have the power as sovereign to regulate conduct through the application of its substantive law, but *473 the state additionally has an interest in providing a judicial forum for its residents \\x97 so long as the goal of fairness to defendants also is observed. As the high court stated in Burger King, supra, 471 U.S. 462 , explaining why a state legitimately may exercise specific jurisdiction: \"A State generally has a `manifest interest\\' in providing its residents with a convenient forum for redressing injuries inflicted by out-of-state actors.\" ( Id. at p. 473 [85 L.Ed.2d at p. 541], citing McGee v. International Life Ins. Co., supra, 355 U.S. at pp. 222-223 [2 L.Ed.2d at pp. 225-226]; see also id. at pp. 223-224 [2 L.Ed.2d at pp. 226-227]; and Keeton v. Hustler Magazine, Inc., supra, 465 U.S. at p. 776 [79 L.Ed.2d at pp. 798-799]; see also Rush v. Savchuk (1980) 444 U.S. 320 , 329, 323 [ 62 L.Ed.2d 516 , 525-526, 522, 100 S.Ct. 571 ] [acknowledging state\\'s interest in providing forum to resident, but holding such interest insufficient to justify jurisdiction when cause of action arose outside forum and the defendant\\'s single forum contact would not render foreseeable the possibility of jurisdiction in that forum]; Dunne v. State of Florida (1992) 6 Cal. App.4th 1340 , 1346 [ 8 Cal. Rptr.2d 483 ].) This interest cannot be satisfied consistently with fairness to the defendant when the defendant has no minimum contacts with the state \\x97 but when the defendant does have such contacts with the state, it can be satisfied. In short, the theoretical basis proffered for the substantive relevance standard is unpersuasive. The high court never has indicated that the state\\'s sovereign power to regulate conduct within its borders is the sole justification for a state\\'s exercise of specific jurisdiction. Rather, it has treated the question whether the state may assert power to regulate conduct in a particular case through its substantive law as distinct from the question whether minimum contacts have been established for the purpose of the state court\\'s assertion of jurisdiction. (See Keeton v. Hustler Magazine, Inc., supra, 465 U.S. at p. 778 [79 L.Ed.2d at pp. 799-800]; see also Kulko v. Superior Court, supra, 436 U.S. at p. 98 [56 L.Ed.2d at p. 145]; Shaffer v. Heitner, supra, 433 U.S. at p. 215 [53 L.Ed.2d at pp. 704-705]; Twitchell, The Myth of General Jurisdiction (1988) 101 Harv. L.Rev. 610, 654-655; Korn, The Choice-of-Law Revolution: A Critique (1983) 83 Colum. L.Rev. 772, 786-787.) Indeed, the high court has made it clear that a state\\'s jurisdiction to provide a forum is not limited to claims that involve conduct that took place within the state\\'s borders. ( Burger King, supra, 471 U.S. at p. 476 [85 L.Ed.2d at p. 543]; see 1 Casad, Jurisdiction in Civil Actions, supra, § 2.05, p. 2-99.) Rather, as noted, the state has a legitimate interest as sovereign in providing its residents with protection from injuries caused by nonresidents and with a forum in which to seek redress. This assertion of sovereignty with respect to nonresident defendants is fair when those defendants have availed themselves of certain benefits within the state and the claim is related to those contacts. The relatedness requirement is imposed in *474 order to ensure fairness to defendants who have relatively attenuated contacts with the state, and not to reflect that the state\\'s sovereign power is limited to adjudicating claims that arise within its borders. Especially inappropriate is Seabest\\'s suggestion that the state may not provide a forum in a case in which the nonresident has taken advantage of the state\\'s market or laws and in the process injured a forum resident. As already pointed out in connection with the proximate cause test applied by the Court of Appeal, a restrictive test of relatedness is inconsistent with the fairness rationale that informs the specific jurisdiction analysis. That is, a person who purposefully takes advantage of the benefits of doing business in the forum state fairly can be required to answer lawsuits that relate to his or her activities there ( Burger King, supra, 471 U.S. at p. 472 [85 L.Ed.2d at pp. 540-541]); such an exercise of jurisdiction does not offend \"`traditional notions of fair play and substantial justice.\\'\" ( International Shoe, supra, 326 U.S. at p. 316 [90 L.Ed. at p. 102].) As the high court has admonished: \"[T]o the extent that a [defendant] exercises the privilege of conducting activities within a state, it enjoys the benefits and protection of the laws of that state. The exercise of that privilege may give rise to obligations, and, so far as those obligations arise out of or are connected with the activities within the state, a procedure which requires the [defendant] to respond to a suit brought to enforce them can, in most instances, hardly be said to be undue.\" ( Id. at p. 319 [90 L.Ed. at p. 104].) The substantive relevance test would make jurisdiction turn upon pleading requirements under state substantive law, a focus that falls far from the real issue of evaluating jurisdiction in terms of fundamental fairness. We also note that the substantive relevance test proposed by Seabest would have produced a different outcome in Cornelison, supra, 16 Cal.3d 143 . In that case, the defendant\\'s forum activities (making deliveries in California) presumably would not have been relevant in the wrongful death action based upon a claim that the defendant negligently drove his truck, thereby causing the accident in Nevada. Nonetheless, we were of the view that California could, consistently with \"fair play and substantial justice,\" exercise specific jurisdiction over the defendant. Seabest argues finally that the substantive relevance test provides a bright line rule and affords the simplest guideline for courts to follow. Academic commentators have noted the same attraction in this test. (See Note, supra, 50 Wash. & Lee L.Rev. at p. 1290; Rose, Related Contacts, supra, 82 Cal.L.Rev. at p. 1579; Twitchell, The Myth of General Jurisdiction, supra, 101 Harv. L.Rev. at p. 653.) Simple rules, however, are not always correct rules. A rule that essentially limits the jurisdiction of a forum to acts *475 occurring within its boundaries may be easy to apply, but it is overly mechanical and is inconsistent with the thrust of recent high court opinions. It is inconsistent not only with express language in Burger King, supra, 471 U.S. 462 , acknowledging the power of the state to exercise jurisdiction over out-of-state conduct that injures a forum resident, but also is inconsistent with the direction followed by the court ever since it explained in International Shoe, supra, 326 U.S. 310 , that \"the criteria by which we mark the boundary line between those activities which justify the subjection of a [defendant] to suit, and those which do not, cannot be simply mechanical or quantitative.... Whether due process is satisfied must depend ... upon the quality and nature of the activity in relation to the fair and orderly administration of the laws which it was the purpose of the due process clause to insure.\" ( Id. at p. 319 [90 L.Ed. at pp. 103-104].) In World-Wide Volkswagen, supra, 444 U.S. 286 , and Asahi Metal Industry Co. v. Superior Court, supra, 480 U.S. 102 , for example, involving negligently designed products placed in the stream of commerce at the forum, the proposed test easily would have produced a holding that, because any negligence or design defect occurred outside the forum and no forum contact would have been pleaded in a domestic complaint raising the same claim, the forum could not exercise jurisdiction over the defendant manufacturers or distributors. Yet the United States Supreme Court instead undertook the traditional three-part analysis of jurisdiction outlined in its earlier cases. There is no indication the substantive relevance test would find favor in the high court. In the context of ongoing franchise relationships, we have rejected the proximate cause test as too narrow, and the \"but for\" test as too broad and amorphous. Finally, we conclude that the substantive relevance test is inappropriate, based as it is upon an overly restrictive view of the interest of the state in providing a judicial forum and redress to its residents. In sum, one must question the utility of importing a causation test from tort law to measure a matter that is fundamentally one of relationship and fairness rather than causation, keeping in mind that mechanical tests are inconsistent with a court\\'s basic task of determining whether the exercise of personal jurisdiction would comport with \"`fair play and substantial justice.\\'\" ( Burger King, supra, 471 U.S. at p. 486 [85 L.Ed.2d at p. 549].) As the high court explained: \"This approach does, of course, preclude clear-cut jurisdictional rules. But any inquiry into `fair play and substantial justice\\' necessarily requires determinations `in which few answers will be written \"in black and white. The greys are dominant and even among them the shades are innumerable.\"\\'\" ( Id. at p. 486, fn. 29 [85 L.Ed.2d at p. 549].) D (10a) Having determined that defendants did establish minimum contacts with California, we finally must consider whether the assertion of *476 specific jurisdiction is fair. ( Burger King, supra, 471 U.S. at p. 476 [85 L.Ed.2d at p. 543].) (11) In this connection, a court \"must consider the burden on the defendant, the interests of the forum State, and the plaintiff\\'s interest in obtaining relief. It must also weigh in its determination `the interstate judicial system\\'s interest in obtaining the most efficient resolution of controversies; and the shared interest of the several States in furthering fundamental substantive social policies.\\'\" ( Asahi Metal Industry Co. v. Superior Court, supra, 480 U.S. at p. 113 [94 L.Ed. at p. 105]; see also Burger King, supra, 471 U.S. at p. 477 [85 L.Ed.2d at pp. 543-544].) (10b) Because we conclude defendants had the requisite minimum contacts with California, the burden is now on them to \"present a compelling case that the presence of some other considerations would render jurisdiction unreasonable.\" ( Burger King, supra, 471 U.S. at p. 477 [85 L.Ed.2d at p. 544].) The Court of Appeal did not reach this part of the analysis, having concluded the claim lacked a sufficient relationship to the cross-defendants\\' California contacts. Because we are as equipped as the Court of Appeal to analyze this point, we decide it here rather than remanding the matter to the intermediate court. WRMI asks us to consider that it had \"virtually no contact\" with California, that all the conduct that is the basis for Vons\\'s claim occurred in Washington, that witnesses from Washington (mostly young persons formerly employed in its restaurants) would be forced to travel to California, and that WRMI is a small corporation that would be unduly burdened by being forced to defend itself in an extensive multiparty lawsuit far from home. WRMI also points out that it would be at a disadvantage at this point in time, because the litigation has continued during review of the order on its motion to quash. Seabest asks that we consider the allegedly tenuous and minimal nature of its contacts with California and the irrelevance of those contacts to Vons\\'s claims against Seabest, the availability of the Washington forum to adjudicate not only Vons\\'s cross-complaint, but the entire action, and the circumstance that a majority of the evidence relevant to Vons\\'s claim will be in Washington. Seabest also urges that because it has no corporate presence in California, an undue burden would be imposed were it required to litigate in this state. It claims that Washington law should be applied, because Vons\\'s claim turns on assertions that Seabest\\'s cooking practices violated Washington law. Seabest also notes that some cases consider the extent to which the plaintiff\\'s choice of forum appears to be the result of forum shopping, and suggests that Vons may have chosen the California forum in order to secure *477 punitive damages that would be unavailable under Washington law. Seabest would discount California\\'s interest in providing a forum for its residents, because Vons is a sophisticated litigant that can secure relief in any forum. Finally, Seabest argues California has no interest in regulating the conduct involved in the litigation, because all of the relevant conduct took place outside its borders. We have concluded that Seabest and WRMI had significant contacts with California through their ongoing business relationship with Foodmaker, and that the litigation bears a substantial connection to that forum relationship. We are not persuaded it would be unfair to subject Seabest and WRMI to the jurisdiction of the California courts. As the high court has explained, \"When minimum contacts have been established, often the interests of the plaintiff and the forum in the exercise of jurisdiction will justify even the serious burdens placed on the ... defendant.\" ( Asahi Metal Industry Co. v. Superior Court, supra, 480 U.S. at p. 114 [94 L.Ed.2d at pp. 105-106].) Vons is a corporation, with headquarters in California, that not only alleged injury arising from Seabest\\'s and WRMI\\'s conduct, but that has been sued in the California forum in complex multiparty litigation as to which Seabest and WRMI may have a degree of concurrent liability. California has an obvious and direct interest in protecting Vons from injury and providing it with a forum in which its claims for relief may be adjudicated, enabling it to obtain the relief to which it is entitled. Moreover, considerations of judicial efficiency overwhelmingly favor litigation of all claims in a single forum. Because California already has invested judicial resources in this litigation apart from its substantive interest in the claims, the additional interest of efficiency favors this state\\'s exercise of jurisdiction. Finally, although the burdens on defendants are not inconsiderable, they are not such \"as to make litigation `so gravely difficult and inconvenient\\'\" that Seabest and WRMI would be at a \"`severe disadvantage\\'\" ( Burger King, supra, 471 U.S. at p. 478 [85 L.Ed.2d at p. 544]) in comparison to Vons, not the least because Foodmaker\\'s agreement to provide a defense and indemnify Seabest and WRMI substantially mitigates those burdens. With respect to Seabest\\'s arguments regarding the substantive law to be applied, the United States Supreme Court has explained that such concerns \"usually may be accommodated through means short of finding jurisdiction unconstitutional. For example, the potential clash of the forum\\'s law with the `fundamental substantive social policies\\' of another State may be accommodated through application of the forum\\'s choice-of-law rules.\" ( Burger King, supra, 471 U.S. at p. 477 [85 L.Ed.2d at p. 544], fn. omitted.) And, as *478 in Burger King, where the defendant claimed Michigan\\'s franchise laws governed many aspects of the franchise relationship, the acknowledged interest of Washington in applying its own law does not render California\\'s interest null, or \\x97 more importantly \\x97 unconstitutional. ( Id. at p. 483 [85 L.Ed.2d at pp. 547-548].) As for the claimed disparity in economic power and sophistication between Seabest and WRMI on the one hand, and Vons on the other, to the extent such a disparity is relevant, whatever disparity exists is mitigated, again, by Foodmaker\\'s agreement to provide a defense to the extent one is not provided by Seabest\\'s and WRMI\\'s insurers. For the reasons set forth above, we conclude Seabest and WRMI have failed to demonstrate that exercise of jurisdiction by the California courts in this matter would be fundamentally unfair. III The judgment of the Court of Appeal is reversed and the matter is remanded for further proceedings not inconsistent with this opinion. Mosk, J., Kennard, J., Baxter, J., Werdegar, J., Chin, J., and Brown, J., concurred. Appellant\\'s petition for a rehearing was denied February 5, 1997. NOTES [1] For convenience, references to \"the cross-complaint\" refer to Vons\\'s cross-complaint. [2] Seabest and WRMI are Washington corporations to which individual franchisees of Foodmaker assigned their franchise agreements. All restaurant locations involved in the franchise agreements were located in Washington State. The individual franchisees served as corporate directors of Seabest and WRMI, and it does not appear there were any shareholders other than the individual franchisees. The assignments provided the individual franchisees would remain obligated to perform on the franchise agreements. Foodmaker does not permit franchises to be sold directly to corporations. For convenience, we refer to Seabest and WRMI as the franchisees. [3] Vons requests that we take judicial notice, augment the record, or make a factual determination under Code of Civil Procedure section 909, so that the record in these proceedings will include deposition testimony given after the judgment was rendered in this matter, as well as manuals referred to in the franchise agreement but not presented to the trial court, in order to demonstrate that the franchise agreement required Seabest and WRMI to follow certain specifications in cooking its hamburgers. Vons seeks to include this new evidence in order to rebut the factual claims of Seabest and WRMI that the franchise agreements did not dictate how the franchisees were to prepare hamburgers at their restaurants. Seabest and WRMI oppose the motion.\\n Augmentation does not function to supplement the record with materials not before the trial court. ( People v. Brooks (1980) 26 Cal.3d 471 , 484 [ 162 Cal. Rptr. 177 , 605 P.2d 1306 ]; Rebney v. Wells Fargo Bank (1990) 220 Cal. App.3d 1117 , 1139, fn. 7 [ 269 Cal. Rptr. 844 ]; Eisenberg et al., Cal. Practice Guide: Civil Appeals & Writs 1 (The Rutter Group 1995) ¶ 5:134, p. 5-32.) Reviewing courts generally do not take judicial notice of evidence not presented to the trial court. Rather, normally \"when reviewing the correctness of a trial court\\'s judgment, an appellate court will consider only matters which were part of the record at the time the judgment was entered.\" ( Reserve Insurance Co. v. Pisciotta (1982) 30 Cal.3d 800 , 813 [ 180 Cal. Rptr. 628 , 640 P.2d 764 ].) No exceptional circumstances exist that would justify deviating from that rule, either by taking judicial notice or exercising the power to take evidence under Code of Civil Procedure section 909. (Cf. Reserve Insurance Co. v. Pisciotta, supra, 30 Cal.3d at p. 813; In re Conservatorship of Hart (1991) 228 Cal. App.3d 1244 , 1257 [ 279 Cal. Rptr. 249 ]; Monsan Homes, Inc. v. Pogrebneak (1989) 210 Cal. App.3d 826 , 830 [ 258 Cal. Rptr. 676 ]; De Young v. Del Mar Thoroughbred Club (1984) 159 Cal. App.3d 858 , 863, fn. 3 [ 206 Cal. Rptr. 28 ].) The request is denied. [4] The high court has declined to clarify the relatedness element of specific jurisdiction. (See, e.g., Carnival Cruise Lines v. Shute (1991) 499 U.S. 585 , 589 [ 113 L.Ed.2d 622 , 629, 111 S.Ct. 1522 ] [declining to reach the issue whether a cruise company\\'s contacts in Washington state were sufficiently connected to a slip and fall injury that occurred on board a ship, when the vessel was located outside the forum, to warrant the exercise of specific jurisdiction; the court decided the case on a narrower forum selection clause in the contract]; Helicopteros, supra, 466 U.S. at p. 415, fn. 10 [80 L.Ed.2d at p. 411] [because the parties did not argue the issue, the majority in Helicopteros did not reach the question whether \"a forum\\'s exercise of personal jurisdiction in a situation where the cause of action `relates to,\\' but does not `arise out of,\\' the defendant\\'s contacts with the forum should be analyzed as an assertion of specific jurisdiction\"]; but see id. at p. 425 [80 L.Ed.2d at p. 418] (dis. opn. of Brennan, J.) [asserting that although the claim did not arise out of forum activities, it was related to those activities, which were relevant to establish specific jurisdiction].) [5] Of course, it is not settled that California law would apply with respect to the claim for indemnification, because the choice-of-law decision has yet to be made. [6] WRMI\\'s claim that Vons first raised in this court the theory that the franchise agreement actually caused the injuries is not supported by the record. WRMI\\'s contention that the manual directing franchisees as to required cooking procedures is not part of the record, and hence that Vons cannot prove the procedures were inadequate systemwide, appears to be directed to the merits of Vons\\'s substantive claim, rather than to the jurisdictional question. It is the latter question, of course, that is before us. [7] To the extent Seabest also may be understood to argue that the contacts of the individual franchisees before its incorporation cannot be attributed to it, the argument is questionable. It is generally true that the defendant\\'s own contacts are considered for the purpose of jurisdiction ( Burger King, supra, 471 U.S. at pp. 474-475 [85 L.Ed.2d at pp. 541-542]; Sibley v. Superior Court (1976) 16 Cal.3d 442 , 447-448 [ 128 Cal. Rptr. 34 , 546 P.2d 322 ]), but corporate veils may be pierced and agents\\' activities may be considered in appropriate cases. (See, e.g., Calder v. Jones (1984) 465 U.S. 783 , 789-790 [ 79 L.Ed.2d 804 , 812-813, 104 S.Ct. 1482 ]; Seagate Technology v. A.J. Kgoyo Co. (1990) 219 Cal. App.3d 696 , 701-702 [ 268 Cal. Rptr. 586 ]; Wisconsin Elec. Mfg. Co., Inc. v. Pennant Products (7th Cir.1980) 619 F.2d 676 , 677-678; 1 Casad, Jurisdiction in Civil Actions (2d ed. 1991) § 4.03[4], p. 4-13.) In Seabest\\'s case, the corporate owners were identical to the individual franchisees (except that one individual had died), and indeed the individuals remained liable on the franchise agreement. (See 1 Casad, Jurisdiction in Civil Actions, supra, § 4.03[5] [d], p. 4-140 [court may impute contacts of corporation\\'s predecessor if successor liable for obligations of predecessor].) In any event, in finding the requisite contacts, we rely only upon contacts that occurred after the incorporation, and upon the franchise agreement itself, by which Seabest obviously was bound. [8] As will appear, we are not persuaded that the \"but for\" test provides an appropriate general standard, and consequently the reasoning of Dialysis at Sea, supra, 216 Cal. App.3d 788 , and State of Oregon v. Superior Court, supra, 24 Cal. App.4th 1550 , is disapproved to the extent it is inconsistent with this opinion. [9] Although the court in International Shoe, supra, 326 U.S. 310 , did not use the specific/general jurisdiction nomenclature, the case has been understood as establishing the theoretical basis for specific jurisdiction. (Von Mehren & Trautman, Jurisdiction to Adjudicate: A Suggested Analysis (1966) 79 Harv. L.Rev. 1121, 1141-1163; Rose, Related Contacts, supra, 82 Cal.L.Rev. at p. 1550.) [10] See, e.g., United Elec. Workers v. 163 Pleasant Street Corp. (1st Cir.1992) 960 F.2d 1080 , 1089 (forum contacts must be both cause in fact and legal cause of plaintiff\\'s injury in order to support specific jurisdiction and \"the defendant\\'s in-state conduct must form an `important, or [at least] material, element of proof\\' in the plaintiff\\'s case\"); Sawtelle v. Farrell (1st Cir.1995) 70 F.3d 1381 , 1389-1390 (suggesting that in a tort claim, the contacts must constitute the negligent conduct that caused the plaintiff\\'s injury); see also Marino v. Hyatt Corp. (1st Cir.1986) 793 F.2d 427 , 430 (no jurisdiction because in-state conduct \"would hardly be an important, or perhaps even a material, element of proof\" in the cause of action); but see Fournier v. Best Western Treasure Island Resort (1st Cir.1992) 962 F.2d 126 , 127, in which the court simply asks whether plaintiff\\'s injuries \"arise out of\" defendant\\'s in-state conduct. [11] Seabest\\'s reliance upon Farris v. Capt. J.B. Fronapfel Co. (1986) 182 Cal. App.3d 982 [ 227 Cal. Rptr. 619 ], in support of the substantive relevance test, also is unpersuasive. In that case, the Court of Appeal found no contacts between the defendant (a Florida ship inspector) and California, and no relationship between the plaintiff\\'s fraud claim and this state. The court did not suggest that, even if the defendant purposefully had availed himself of benefits in California, jurisdiction over him would be improper unless the lawsuit alleged that defendant\\'s in-forum contacts were substantively related to the claim.'"
      ]
     },
     "execution_count": 129,
     "metadata": {},
     "output_type": "execute_result"
    }
   ],
   "source": [
    "cited_by_test[0].text_clean"
   ]
  },
  {
   "cell_type": "code",
   "execution_count": 139,
   "metadata": {},
   "outputs": [
    {
     "data": {
      "text/plain": [
       "(285037,\n",
       " 'National Steel Corp. v. Golden Eagle Insurance, 121 F.3d 496 (1997-08-06)')"
      ]
     },
     "execution_count": 139,
     "metadata": {},
     "output_type": "execute_result"
    }
   ],
   "source": [
    "decisions[2].id, str(decisions[2])"
   ]
  },
  {
   "cell_type": "code",
   "execution_count": 140,
   "metadata": {},
   "outputs": [
    {
     "data": {
      "text/plain": [
       "49"
      ]
     },
     "execution_count": 140,
     "metadata": {},
     "output_type": "execute_result"
    }
   ],
   "source": [
    "len(decisions[2].cites_to)"
   ]
  },
  {
   "cell_type": "code",
   "execution_count": 141,
   "metadata": {},
   "outputs": [
    {
     "name": "stdout",
     "output_type": "stream",
     "text": [
      "Fetching case ID: 2282116\n",
      "Fetched Decision: Clemmer v. Hartford Insurance, 22 Cal. 3d 865 (1978-12-19)\n",
      "Fetching case ID: 2013849\n",
      "Fetched Decision: Samson v. Transamerica Insurance, 30 Cal. 3d 220 (1981-11-23)\n",
      "Fetching case ID: 1310362\n",
      "Fetched Decision: Aetna Casualty & Surety Co. v. Centennial Insurance, 838 F.2d 346 (1988-02-01)\n",
      "Fetching case ID: 11318566\n",
      "Fetched Decision: Salve Regina College v. Russell, 499 U.S. 225 (1991-03-20)\n",
      "Fetching case ID: 4372662\n",
      "Fetched Decision: Xebec Development Partners, Ltd. v. National Union Fire Insurance, 12 Cal. App. 4th 501 (1993-01-13)\n",
      "Fetching case ID: 6207800\n",
      "Fetched Decision: Celotex Corp. v. Catrett, 477 U.S. 317 (1986-06-25)\n",
      "Fetching case ID: 2263866\n",
      "Fetched Decision: Kuchel v. McCormack, 104 Cal. App. 2d 506 (1951-05-31)\n",
      "Fetching case ID: 4881724\n",
      "Fetched Decision: Pruyn v. Agricultural Insurance, 36 Cal. App. 4th 500 (1995-06-30)\n",
      "Fetching case ID: 10513471\n",
      "Fetched Decision: Koch Industries, Inc. v. Mobil Oil Corp., 968 F.2d 27 (1992-04-07)\n",
      "Fetching case ID: 11289408\n",
      "Fetched Decision: Lippi v. City Bank, 955 F.2d 599 (1992-01-23)\n",
      "Fetching case ID: 1793478\n",
      "Fetched Decision: Bagdadi v. Nazar, 84 F.3d 1194 (1996-05-29)\n",
      "Fetching case ID: 2188750\n",
      "Fetched Decision: Saylin v. California Insurance Guarantee Ass'n, 179 Cal. App. 3d 256 (1986-03-27)\n",
      "Fetching case ID: 2205776\n",
      "Fetched Decision: Downey Savings & Loan Ass'n v. Ohio Casualty Insurance, 189 Cal. App. 3d 1072 (1987-02-26)\n",
      "Fetching case ID: 7652691\n",
      "Fetched Decision: Maljack Productions, Inc. v. Goodtimes Home Video Corp., 81 F.3d 881 (1996-04-17)\n",
      "Fetching case ID: 4462807\n",
      "Fetched Decision: Williamson & Vollmer Engineering, Inc. v. Sequoia Insurance, 64 Cal. App. 3d 261 (1976-10-28)\n",
      "Fetching case ID: 2326744\n",
      "Fetched Decision: Gray v. Zurich Insurance, 65 Cal. 2d 263 (1966-10-25)\n",
      "Fetching case ID: 6038619\n",
      "Fetched Decision: Kardly v. State Farm Mutual Automobile Insurance, 207 Cal. App. 3d 479 (1989-01-25)\n",
      "Fetching case ID: 1944156\n",
      "Fetched Decision: Tomaselli v. Transamerica Insurance, 25 Cal. App. 4th 1269 (1994-06-13)\n",
      "Fetching case ID: 2312287\n",
      "Fetched Decision: Smith v. State Farm Mutual Automobile Insurance, 5 Cal. App. 4th 1104 (1992-04-15)\n",
      "Fetching case ID: 1960673\n",
      "Fetched Decision: Waller v. Truck Insurance Exchange, Inc., 11 Cal. 4th 1 (1995-08-28)\n",
      "Fetching case ID: 10520806\n",
      "Fetched Decision: Consolidated American Insurance v. Mike Soper Marine Services, 951 F.2d 186 (1991-08-23)\n",
      "Fetching case ID: 1995112\n",
      "Fetched Decision: Montrose Chemical Corp. v. Superior Court, 6 Cal. 4th 287 (1993-11-22)\n",
      "Fetching case ID: 4537973\n",
      "Fetched Decision: Isaacson v. California Insurance Guarantee Ass'n, 44 Cal. 3d 775 (1988-03-07)\n",
      "Fetching case ID: 2326648\n",
      "Fetched Decision: Bush v. Superior Court, 10 Cal. App. 4th 1374 (1992-11-10)\n",
      "Fetching case ID: 6516092\n",
      "Fetched Decision: Lippi v. City Bank, 955 F.2d 599 (1992-01-23)\n"
     ]
    }
   ],
   "source": [
    "cited_by_test_2 = cap_client.read_cited_by(decisions[2].id)"
   ]
  },
  {
   "cell_type": "code",
   "execution_count": 142,
   "metadata": {},
   "outputs": [
    {
     "data": {
      "text/plain": [
       "'[L.A. No. 30759. Dec. 19, 1978.] MARJORIE J. CLEMMER et al., Plaintiffs and Appellants, v. HARTFORD INSURANCE COMPANY, Defendant and Appellant. *871 Counsel Gibson, Dunn & Crutcher, John H. Sharer and Fred F. Gregory for Plaintiffs and Appellants. Overton, Lyman & Prince, Carl J. Schuck, John D. McCurdy, Valerie Baker and Gwen H. Whitson for Defendants and Appellants. Opinion MANUEL, J. By this action plaintiffs, the widow and the son of a victim of a killing, sue to recover from the liability insurer of the slayer the amount of a wrongful death judgment obtained against him. Following a jury verdict the trial court entered judgment against the defendant insurer, but it subsequently granted defendant’s motion for new trial, tendered on all issues, on the sole issue submitted to the jury—i.e., whether the death in question was caused by a willful act—and denied it on all other issues. Plaintiffs appeal from the aforesaid order granting a limited new trial. Defendant appeals from that portion of the judgment which is not affected by the order granting a limited new trial and also from the orders of the trial court denying its motions (1) for judgment notwithstanding the verdict, (2) to set aside and vacate the judgment and enter a new and different judgment, and (3) for a new trial on all issues. Its appeal must be dismissed insofar as it purports to be from the latter two orders, such orders being nonappealable. Defendant has also filed a protective cross-appeal from the whole of the judgment. (Cal. Rules of Court, rule 3(c).) Factual Background Plaintiffs, Marjorie Clemmer and Hugh Clemmer, are respectively the widow and minor son of Dr. Hugh Clemmer, deceased. Dr. Daniel Lovelace had worked for Dr. Clemmer, and he was shocked when the latter on January 29, 1971, advised him that the employment relationship would be terminated. The next day Dr. Clemmer was shot and killed by Dr. Lovelace, the Hartford Insurance Company’s insured. Just prior to the shooting Dr. Lovelace, from his apartment window, had observed Dr. *872 Clemmer in a nearby gas station. Dr. Lovelace placed a pistol in a shoe box, went to his car, placed the box and pistol on the seat, and drove across the street (from his apartment) to the gas station. He pulled next to a gas pump and spoke to the attendant. He then left the car and, carrying the gun, approached Dr. Clemmer. He greeted Dr. Clemmer, then shot him twice. These shots were followed by two more shots. Finally, Dr. Lovelace knelt close to the victim and at close range shot him in the head. The gun was placed on the ground. Dr. Lovelace remarked that he knew what he was doing and that Dr. Clemmer was destroying him professionally. For the slaying of Dr. Clemmer, Dr. Lovelace was tried and convicted of murder in the second degree. At the criminal trial Dr. Lovelace did not testify, and at the conclusion of the guilt phase he withdrew his plea of not guilty by reason of insanity. Thereafter plaintiffs obtained a default judgment against Dr. Lovelace in the sum of $2,003,421 for the wrongful death. In the instant action, commenced by plaintiffs against the Hartford Insurance Company (Hartford), plaintiffs claim that Hartford is obligated to satisfy the judgment against Dr. Lovelace because of a personal comprehensive liability policy issued by Hartford with limits of $5 million. Hartford defended the action on the ground, among others, that Dr. Lovelace’s killing Dr. Clemmer was a willful act and thus excluded from coverage by the law of this state (citing Ins. Code, § 533). 1 The trial court made divers rulings. 2 Inter alia, it rejected the contention that the second degree murder conviction of Dr. Lovelace collaterally estopped *873 the plaintiffs from contending the killing was not willful. 3 The court also rejected Hartford’s move to reopen the question of damages. The jury returned a special verdict 4 that Dr. Lovelace lacked the mental capacity to intend to shoot and harm Dr. Clemmer and lacked such capacity to govern his own conduct. After the filing of findings of fact and conclusions of law, based upon the evidence and the jury’s verdict, judgment for plaintiffs was entered in the sum of $2,003,480 less $50,000, the amount “deductible” under the policy. Hartford next moved for a new trial asserting, among other things, the insufficiency of the evidence to support the jury’s verdict. This motion was granted by the trial court as to this limited issue and denied as to all other issues urged. The court also denied defendant’s motion for judgment notwithstanding the verdict predicated upon the grounds that (1) plaintiffs were collaterally estopped by the second degree murder conviction and (2) the evidence required a defense judgment. The trial court also denied Hartford’s motion to set aside and vacate the judgment under Code of Civil Procedure section 663. Discussion I Collateral Estoppel Hartford contends that plaintiffs are estopped by Lovelace’s second degree murder conviction from asserting a claim of coverage against Hartford. This claim of collateral estoppel is founded upon a provision of the insurance policy 5 and Insurance Code section 533. 6 *874 In Bernhard v. Bank of America (1942) 19 Cal.2d 807 [ 122 P.2d 892 ], this court rejected the mutuality doctrine and recognized the twofold aspect of res judicata. We there pointed out that the doctrine not only bars relitigation of the same cause of action once a final determination has been made by a court of competent jurisdiction, but it also precludes a reexamination as between the parties or their privies of any issue necessarily decided if the issue is involved in any subsequent lawsuit brought on a different cause of action. (Id., at p. 810.) Thus, we concluded, a party will be collaterally estopped from relitigating an issue only if (1) the issue decided in a prior adjudication is identical with that presented in the action in question; and (2) there was a final judgment on the merits; and (3) the party against whom the plea is asserted was a party or in privity with a party to the prior adjudication. (Id., at p. 813.) This requirement of identity of parties or privity is a requirement of due process of law. (Id., at p. 812; Blonder-Tongue v. University Foundation (1971) 402 U.S. 313 , 329 [ 28 L.Ed.2d 788 , 799-780, 91 S.Ct. 1434 ].) Building upon the principles enunciated in Bernhard, this court in Teitelbaum Furs, Inc. v. Dominion Ins. Co., Ltd. (1962) 58 Cal.2d 601 [ 25 Cal.Rptr. 559 , 375 P.2d 439 ], held that a party will be estopped from litigating an issue in a civil action where the issue had necessarily been determined by a prior criminal conviction so long as all three requirements set forth in Bernhard are met. Hartford’s position, simply stated, is this: Dr. Lovelace, it is urged, would be estopped from denying the willfulness of his act in killing Dr. Clemmer in any subsequent action against his insurer, that issue having been necessarily determined by the second degree murder conviction. 7 Dr. Clemmer’s survivors, defendant argues, are in privity with Dr. Lovelace because whatever rights they have are derived from Lovelace’s insurance policy, and therefore, defendant concludes, those survivors are also collaterally estopped as against Hartford from relitigating the issue of willfulness. For the reasons set forth below, however, we have concluded that the requisite privity between plaintiffs and Dr. Lovelace which would justify application of the doctrine of collateral estoppel is lacking where, although plaintiffs’ rights against Hartford are based on Lovelace’s insurance policy, plaintiffs’ interests in litigating the issue of willfulness differed from those of Dr. Lovelace and were therefore not adequately represented by him in his prior criminal trial. *875 Privity is a concept not readily susceptible of uniform definition. Traditionally it has been held to refer to an interest in the subject matter of litigation acquired after rendition of the judgment through or under one of the parties, as by inheritance, succession or purchase. (Bernhard, supra, 19 Cal.2d at p. 811.) The concept has also been expanded to refer to a mutual or successive relationship to the same rights of property, or to such an identification in interest of one person with another as to represent the same legal rights (Zaragosa v. Craven (1949) 33 Cal.2d 315 [ 202 P.2d 73 , 6 A.L.R.2d 461 ]; Teitelbaum Furs, Inc. v. Dominion Ins. Co., Ltd., supra, 58 Cal.2d at p. 604; Rynsburger v. Dairymen’s Fertilizer Coop., Inc. (1968) 266 Cal.App.2d 269 [ 72 Cal.Rptr. 102 ]) and, more recently, to a relationship between the party to be estopped and the unsuccessful party in the prior litigation which is “sufficiently close” so as to justify application of the doctrine of collateral estoppel (Lynch v. Glass (1975) 44 Cal.App.3d 943 [ 119 Cal.Rptr. 139 ]; People v. One 1964 Chevrolet Corvette Convertible (1969) 274 Cal.App.2d 720 , 731 [ 79 Cal.Rptr. 447 ]; People ex rel. State of Cal. v. Drinkhouse (1970) 4 Cal.App.3d 931 , 939 [ 84 Cal.Rptr. 773 ].) Notwithstanding expanded notions of privity, collateral estoppel may be applied only if due process requirements are satisfied. (Blonder-Tongue, supra; Bernhard, supra; Dilliard v. McKnight (1949) 34 Cal.2d 209 , 214-215 [ 209 P.2d 387 , 11 A.L.R.2d 835 ].) In the context of collateral estoppel, due process requires that the party to be estopped must have had an identity or community of interest with, and adequate representation by, the losing party in the first action as well as that the circumstances must have been such that the party to be estopped should reasonably have expected to be bound by the prior adjudication. (Lynch v. Glass, supra, at p. 948.) Thus, in deciding whether to apply collateral estoppel, the court must balance the rights of the party to be estopped against the need for applying collateral estoppel in the particular case, in order to promote judicial economy by minimizing repetitive litigation, to prevent inconsistent judgments which undermine the integrity of the judicial system, or to protect against vexatious litigation. (People v. Taylor (1974) 12 Cal.3d 686 , 695 [ 117 Cal.Rptr. 70 , 527 P.2d 622 ]; see also Teitelbaum, supra.) With these considerations in mind, we now examine the relationship between plaintiffs and Dr. Lovelace. It is urged that this-relationship is one of “derivative privity” in that plaintiffs sue, inter alia, as third party *876 beneficiaries of Lovelace’s insurance policy, having no greater rights than would the insured under that policy, and thus are subject to the same defenses that could be asserted against the insured. In support of this proposition, Hartford relies on this court’s decision in Valladao v. Fireman’s Fund Indem. Co. (1939) 13 Cal.2d 322 [ 89 P.2d 643 ], where we held that in a suit by an injured third person against the tortfeasor’s insurer, the insurer may raise any defense against the injured person that it could have raised against the insured. (See also Ford v. Providence Washington Ins. Co. (1957) 151 Cal.App.2d 431 [ 311 P.2d 930 ]; Olds v. General Acc. Fire etc., Corp. (1945) 67 Cal.App.2d 812 [ 155 P.2d 676 ].) A similar contention was made in Shapiro v. Republic Indem. Co. of America (1959) 52 Cal.2d 437 [ 341 P.2d 289 ]. Shapiro involved the issue whether the injured party plaintiffs were bound by a prior judgment in a reformation action between the insured and the insurer to which they were not parties. In Shapiro we observed that Valladao was not authority for the proposition that collateral estoppel would apply, and we concluded that the plaintiffs would not be bound by the prior reformation judgment. In reaching this conclusion, we referred to Dransfield v. Citizens Casualty Co. of New York (1950) 5 N.J. 190 [ 74 A.2d 304 ], where it was held that although the injured third party stands in the shoes of the assured, his rights were not barred by a decree voiding the policy since he was not a party to such an action and “was not in privity with the assured” (74 A.2d, supra, at p. 306, cited at 52 Cal.2d at p. 439). Additionally, we cited Pharr v. Canal Ins. Co. (1958) 233 S.C. 266 [ 104 S.E.2d 394 ], where it was held that a declaratory judgment of nonliability based on the insured’s breach of a cooperation clause was not res judicata in a later action between the injured person and the insurer, even though the insurer had the right to raise the issue of breach of the duty of cooperation in the suit by the injured person and although the injured person would have been bound by the judgment had he been made a party to that action. Hartford argues that Shapiro does not apply to preclude application of collateral estoppel based on Valladao where after the event giving rise to the claim the insurer has not entered into any agreement or an action, collusive or otherwise, which would defeat the rights of the injured third party. We are unconvinced that Shapiro should be so limited. The concept that an injured person stands in the shoes of the insured cannot be mechanically applied in all instances. (See Barrera v. State Farm Mut. Automobile Ins. Co. (1969) 71 Cal.2d 659 [ 79 Cal.Rptr. 106 , 456 P.2d 674 ]; Murphy v. Allstate Ins. Co. (1976) 17 Cal.3d 937 [ 132 Cal.Rptr. 424 , 553 P.2d 584 ].) The record indicates that, after having been adjudged guilty of *877 second degree murder, Dr. Lovelace withdrew his plea of not guilty by reason of insanity. He may well have done so as a result of a determination on his part that the sentence to be served by him under a second degree murder conviction would.be preferable to the possible consequence of his prevailing on his insanity pleas, to wit, commitment to a state mental hospital (see Pen. Code, § 1026). For this reason, it cannot be said that Lovelace had the same interests in fully litigating the issue of the willfulness of his act in killing Dr. Clemmer as do the plaintiffs herein. We therefore hold that whereas plaintiffs are subject to any defenses that Hartford would have had against Lovelace, such defenses must be proved by Hartford. Plaintiffs may not be precluded from litigating the issue of willfulness by application of the doctrine of collateral estoppel. 8 II Sufficiency of the Evidence to Support Verdict and Judgment That the Killing of Dr. Clemmer Was Not Willful—Denial of Motion for Judgment Notwithstanding the Verdict Hartford contends that the evidence as a matter of law compels the conclusions that Dr. Lovelace was possessed of his mental faculties when he killed Dr. Clemmer, and that therefore the trial court should have granted a judgment for Hartford notwithstanding the verdict. In Hauter v. Zogarts (1975) 14 Cal.3d 104 , 110-111 [ 120 Cal.Rptr. 681 , 534 P.2d 377 , 74 A.L.R.3d 1282 ] we said; “The trial judge’s power to grant a judgment notwithstanding the verdict is identical to his power to grant a directed verdict [citations]. The trial judge cannot reweigh the evidence (Quintal v. Laurel Grove Hospital (1964) 62 Cal.2d 154 , 159 [ 141 Cal.Rptr. 577 , 397 P.2d 161 ]), or judge the credibility of witnesses. (Knight v. Contracting Engineers Co. (1961) 194 Cal.App.2d 435 , 442 [ 15 Cal.Rptr. 194 ].) If the evidence is conflicting or if several reasonable inferences may be drawn, the motion for judgment notwithstanding the *878 verdict should be denied. (McCown v. Spencer (1970) 8 Cal.App.3d 216 , 226 [ 87 Cal.Rptr. 213 ]; Hozz v. Felder (1959) 167 Cal.App.2d 197 , 200 [ 334 P.2d 159 ].) ‘A motion for judgment notwithstanding the verdict of a jury may properly be granted only if it appears from the evidence, viewed in the light most favorable to the party securing the verdict, that there is no substantial evidence to support the verdict. If there is any substantial evidence, or reasonable inferences to be drawn therefrom, in support of the verdict, the motion should be denied.’ (Brandenburg v. Pac. Gas & Elec. Co. (1946) 28 Cal.2d 282 , 284 [ 169 P.2d 909 ].)” Hartford’s claim that there is no substantial evidence to support the verdict rests upon its contention that the testimony of Dr. Anselen, plaintiffs’ psychiatric expert; was rendered absurd by certain internal inconsistencies, and that therefore that testimony must be disregarded. The record reflects that Dr. Anselen testified, on the one hand, that Dr. Lovelace had the mental capacity to know what he was doing and to know the nature and quality of his acts, but he also testified that Dr. Lovelace was a paranoid personality throughout his professional life, that he suffered an acute paranoid episode when Dr. Clemmer sought to terminate their professional relationship, and that Dr. Lovelace, at the time he shot Dr. Clemmer, did not have the mental capacity to deliberate and premeditate or to form the specific intent to shoot and harm the victim and did not understand the consequences of his act, being then directed by paranoid delusions. Even if it be assumed that there are logical inconsistencies in the foregoing testimony—a matter which we need not here reach—the fact that inconsistencies may occur in the testimony of a given witness does not require that such testimony be disregarded in its entirety for the purposes of a motion for judgment notwithstanding the verdict, nor does it mean that such testimony is necessarily insufficient to support the verdict. It is for the trier of fact to consider internal inconsistencies in testimony, to resolve them if this is possible, and to determine what weight should be given to such testimony. The motion for judgment notwithstanding the verdict was properly denied. III Exclusion of the Judgment of Conviction as Evidence of Willfulness The trial court as we have seen was properly not persuaded by the collateral estoppel theory presented by Hartford. Failing in the attempt to *879 so persuade the trial court, Hartford sought to introduce the record of the criminal case under Evidence Code section 1300 to prove Lovelace’s willfulness. 9 However, the trial court, being of the mind that such evidence would “create a substantial danger of undue prejudice, would confuse the issues and mislead the jury,” excluded the evidence (see Evid. Code, § 352). At the time of his ruling the trial judge noted that the record established there was no controversy on how the death of the victim occurred, and thus the only purpose of the evidence was to show that another jury had thought that murder had been committed. The trial court concluded that undue weight would be given by the jury to that prior judicial opinion without the evidence in the record being fairly considered. Although the conviction would appear to have been relevant and admissible under section 1300, we cannot say that the trial court abused its discretion in ruling as it did under section 352. IV Willfulness—Burden of Proof Hartford next contends that the trial court erroneously imposed upon Hartford the burden of proving that Lovelace had committed a willful act. 10 In Executive Aviation, Inc. v. National Ins. Underwriters (1971) 16 Cal.App.3d 799 , 806 [ 94 Cal.Rptr. 347 ], it was held that the burden is on the insurer to bring itself within an exculpatory clause contained in an insurance policy. Hartford claims that this rule is not applicable here because the issue tendered to the jury was not based upon the exculpatory clause contained in the insurance policy, but rather upon exclusion of liability under Insurance Code section 533 (see fn. 1, ante). Hartford urges that this statute represents a specific articulation in the insurance field of the broad rule of public policy set forth in Civil Code section 1668, 11 and that therefore it is the insured, rather than the insurer, *880 who should bear the burden of demonstrating that his acts were not willful within its meaning. The provisions of Insurance Code section 533, however, have been held to be the equivalent of an exclusionary or exculpatory clause. (See Evans v. Pacific Indemnity Co. (1975) 49 Cal.App.3d 537 , 540 [ 122 Cal.Rptr. 680 ]; Nuffer v. Insurance Co. of North America (1965) 236 Cal.App.2d 349 , 356 [ 45 Cal.Rptr. 918 ].) “[T]he burden of bringing itself within any exculpatory clause contained in the policy is on the insurer [citation].” (Executive Aviation, Inc. v. National Ins. Underwriters, supra, 16 Cal.App.3d 799 , 806; see also American Home Assurance Co. v. Essy (1960) 179 Cal.App.2d 19 , 23 [ 3 Cal.Rptr. 586 ].) Placing the burden on Hartford to show that Lovelace’s act was willful is also consistent with Evidence Code section 520. That section provides: “The party claiming that a person is guilty of crime or wrongdoing has the burden of proof on that issue.” (See Lane & Pyron, Inc. v. Gibbs (1968) 266 Cal.App.2d 61 , 67 [ 71 Cal.Rptr. 817 ].) Hartford also attempts to sustain its position by asserting that although the insurer has the burden of bringing itself within an exculpatory clause contained in the insurance policy, this is not the case when the “exclusion” defines the scope of insurance provided by that policy, citing Zuckerman v. Underwriters at Lloyd’s (1954) 42 Cal.2d 460 [ 267 P.2d 777 ]. The Zuckerman case, however, is clearly distinguishable. The policies there involved insured against “ ‘accidental bodily injury [including “bodily injury which shall occasion death” as defined in the policies] ....’” (42 Cal.2d at p. 473.) We held that the jury was properly instructed that plaintiffs, rather than the insurer, had the burden of showing that the death in question occurred by accidental means rather than by intentional self-injuiy, and that a part of this burden included the task of disproving intentional self-injury. The fact that an exclusion specifically withheld coverage for intentional self-injury, we held, did not operate to shift that burden. “The burden of establishing suicide, therefore, should not have been put on the insurer [as the plaintiffs had contended], as the provision as to death from that cause was not a condition subsequent but merely definitive of the precise risk assumed.” (Id., at p. 474.) In the instant case, on the other hand, coverage agreement which is the basis of the insurance provided speaks in general, comprehensive terms, the insurer agreeing to indemnify the insured “for all sums which the insured shall become legally obligated to pay as damages and expenses, . . . because of personal injury or property damage to which *881 this coverage applies, occurring during the policy period.” Clearly it cannot be said that the exclusion here in question, which appears with six others in a succeeding paragraph of the policy, was “definitive of the precise risk assumed” within the meaning of Zuckerman. In short, the exclusion here in question is a true exclusion within the meaning of the Executive A viation case, not a definitional redundancy as was involved in Zuckerman. V Dr. Lovelace’s Failure to Notify the Insurer of the Wrongful Death Action, His Non tender of Defense and His Failure to Cooperate as a Defense in This Action. The trial court found that within a week of the killing of Dr. Clemmer, Hartford was aware of the event. The court also found that Hartford was never informed by Dr. Lovelace that he had been served with summons and complaint in the action brought against him by plaintiffs, that the defense was not tendered to Hartford, and that Hartford was not advised by Dr. Lovelace of the request for entry of default served on Dr. Lovelace in the wrongful death case. The day before the hearing on the request, Hartford was notified of it by plaintiffs’ attorneys. This was Hartford’s first knowledge of the lawsuit. Disclaimer of coverage was conveyed to Dr. Lovelace’s counsel by a Hartford claims representative approximately two weeks after the hearing. The trial court concluded that Hartford could not claim the defense of lack of notice, of tender of defense, or of cooperation because by denying coverage it, as a matter of law, had waived any claim based thereon, and that in any event Hartford was not prejudiced. On this appeal, Hartford refers to cases cited in its collateral estoppel argument—i.e., Valladao v. Fireman’s Fund Indem. Co., supra, 13 Cal.2d 322 ; Sumida v. Pacific Auto. Ins. Co. (1942) 51 Cal.App.2d 472 [ 125 P.2d 87 ], and Sears v. Illinois Indemnity Co. (1932) 121 Cal.App. 211 [ 9 P.2d 245 ]—claiming that since it was entitled to assert the same defense against the Clemmers as it would have against Dr. Lovelace, it was prejudicial error to deny it the indicated defense. Plaintiffs correctly point out, however, that the defense of lack of notice, tender of defense and cooperation is not available here because Hartford has not shown prejudice. In Campbell v. Allstate Ins. Co. (1963) *882 60 Cal.2d 303 , at pages 305 to 307 [ 32 Cal.Rptr. 827 , 384 P.2d 155 ], this court thoroughly explored this area of the law, resolving any question that may have heretofore existed (see Valladao v. Fireman’s Fund Indem. Co., supra, 13 Cal.2d 322 , 330 et seq.). We there stated: “The right of an injured party to sue an insurer on the policy after obtaining judgment against the insured is established by statute. (Ins. Code, § 11580.) An insurer may assert defenses based upon a breach by the insured of a condition of the policy such as a cooperation clause, but the breach cannot be a valid defense unless the insurer was substantially prejudiced thereby. [Citations.] Similarly, it has been held that prejudice must be shown with respect to breach of notice clause. [Citations.] We are satisfied that the requirement of prejudice set forth in these decisions is proper. The cases of Valladao v. Fireman’s Fund Indem. Co. 13 Cal.2d 322 , 331 [ 89 P.2d 643 ] and Purefoy v. Pacific Automobile Indem. Exch., 5 Cal.2d 81 , 87 [ 53 P.2d 155 ], relied upon by defendant, are not contrary to the views expressed herein. In each of those cases the court found that prejudice had been established by the facts proved and that it was therefore unnecessary to determine whether a showing of prejudice should be required. [¶] The burden of proving that a breach of a cooperation clause resulted in prejudice is on the insurer. [Citations.] . . . [¶] In reaching its decision, the trial court properly determined that it was bound by Margellini v. Pacific Automobile Ins. Co., 33 Cal.App.2d 93 , 99-100 [ 91 P.2d 136 ], where it was reasoned that prejudice ‘must be presumed’ as a matter of law from the breach of a cooperation clause by conduct similar to that involved here. We have concluded, however, that this reasoning is unsound and that Margellini should be disapproved. No statutory basis for the presumption of prejudice has been cited or found, and presumptions should not be created judicially unless there are compelling reasons for doing so. Although it may be difficult for an insurer to prove prejudice in some situations, it ordinarily would be at least as difficult for the injured person to prove a lack of prejudice, which involves proof of a negative. The presumption would not be in keeping with the public policy of this state to provide compensation for those negligently injured in automobile accidents through no fault of their own (Interinsurance Exchange v. Ohio Cas. Ins. Co., 58 Cal.2d 142 , 153-154 [ 23 Cal.Rptr. 592 , 373 P.2d 640 ]; Wildman v. Government Employees Ins. Co., 48 Cal.2d 31 , 39 [ 307 P.2d 359 ]), and we are of the view that a judicially created presumption of prejudice, whether conclusive or rebuttable, is unwarranted (in accord: Allen v. Cheatum, supra, 351 Mich. 585 ). [¶] Margellini v. Pacific Automobile Ins. Co., 33 Cal.App.2d 93 [ 91 P.2d 136 ], is disapproved insofar as it is inconsistent with the views we have expressed regarding the impropriety of a presumption of prejudice.” *883 We conclude that Hartford has failed to make the requisite showing of prejudice. At no time prior to trial did it plead or assert the defense here in question, raising the matter for the first time in its memorandum of points and authorities in support of second motion for summaiy judgment, which was filed almost six months after the complaint. Even at that time Hartford expressly disclaimed any intention of urging lack of notice and tender of defense in the wrongful death action as a complete defense to the Clemmers’ action. “All Hartford seeks to accomplish by asserting lack of notice of pendency of the wrongful death action,” the memorandum stated, “is to prevent plaintiff from asserting that Hartford is foreclosed from raising the issue of coverage.” It was only at trial that Hartford sought to raise the matter as a defense rather than as a response to plaintiffs’ argument of foreclosure. Its offer of proof in this respect was rejected after the Clemmers had objected on the grounds, inter alia, that the offer was outside the scope of the pleadings and that in any event Hartford had not offered to prove prejudice through showing that it would have defended the action if there had been notice and tender. Hartford’s motion to amend the answer was denied at this time, although a posttrial amendment offered during the hearings on the findings of fact and conclusions of law was granted, the court then indicating that its former ruling had been based on Hartford’s apparent unwillingness to suggest that it would have defended the action had tender been made but pointing out that “no harm” would come of allowing the amendment for formal purposes. The fundamental defect in Hartford’s position here is that it has at no time suggested that, in the event that a timely tender of the defense of the wrongful death action had been made, it would have undertaken the defense. The record clearly suggests to the contrary. In these circumstances, applying the rule of the Campbell case, we must conclude that Hartford has failed to show that it sustained substantial prejudice as a result of the insured’s failure to provide it with notice and tender. 12 Accordingly, its defense based upon this failure was properly rejected. Finally, we point out that the trial court’s ruling herein that Hartford was not foreclosed from litigating the issue of willfulness vis-á-vis *884 negligence—which ruling we hold to have been correct—renders the present contention academic. If in fact Hartford suffered any prejudice through losing the opportunity to defend in the wrongful death action, such prejudice amounted to no more than the necessity that it demonstrate in the instant action what it claims it would have demonstrated in the former proceeding. Such prejudice, we believe, would clearly be de minimis. VI Hartford’s Opportunity to Litigate the Damages The trial court held Hartford bound by the amount of the judgment obtained by plaintiffs against Dr. Lovelace. Hartford argues that since it had no opportunity to litigate the issues in the suit brought against Dr. Lovelace by the plaintiffs, it cannot be bound by the amount of the judgment obtained therein. We disagree. In Ford v. Providence Washington Ins. Co., supra, 151 Cal.App.2d 431 , it is stated to be the general rule that “an insurer who has had an opportunity to defend is bound by the judgment against its insured as to all issues which were litigated in the action against the insured.” (151 Cal.App.2d at p. 436.) The operation of this rule, the court goes on to state, “depends primarily upon notice to the insurer of the pendency of the action.” (Id., at p. 437.) These statements appear to accurately state the general rules governing these cases. (See Bonfils v. Pacific Auto Ins. Co. (1958) 165 Cal.App.2d 152 , 161 [ 331 P.2d 766 ]; see generally, 39 Cal.Jur.3d, Insurance Contracts, § 431, pp. 733-734.) We are persuaded, nevertheless, that the insurer herein received the kind of “notice ... of the pendency of the [wrongful death] action” which should result in its being bound by the amount of damages found in that action to have been sustained by plaintiffs. We have indicated that Hartford was found by the trial court to have been aware of the shooting incident within a week of its occurrence, although its first notice of the pendency of the wrongful death action occurred when, on the day before the hearing on default judgment following Lovelace’s default, it was notified of that hearing by a telephone call and telegram from plaintiffs’ attorney. Within a few weeks thereafter Hartford directed a letter to Lovelace’s attorney in which it disclaimed coverage and asked to be advised of Lovelace’s intentions, but it at no time sought to have the *885 default judgment set aside on any ground. Even if it be conceded that the insurer had little opportunity to make an intelligent entry into the case by way of intervention or otherwise when, on the day before the default hearing, it first received notice of the action, it nevertheless had an opportunity for a reasonable period, up to six months thereafter, to assume control and management of the suit by way of an application for relief pursuant to Code of Civil Procedure section 473. Its failure to take advantage of this opportunity requires that the instant contention be resolved against it. Code of Civil Procedure section 473 provides in part: “The court may, upon such terms as may be just, relieve a party or his legal representative from a judgment . . . taken against him through his mistake, inadvertence, surprise or excusable neglect.” (Italics added.) The term “legal representative” has been interpreted with considerable liberality to permit one who would not normally be considered a “representative” of a party but has a sufficient interest in the action to maintain the motion. (See, e.g., Nuckolls v. Bank of California (1937) 10 Cal.2d 266 , 272 [ 61 P.2d 927 ] (trustee in bankruptcy as successor of bankrupt party); Trumpler v. Trumpler (1899) 123 Cal. 248 , 253 [ 55 P. 1008 ] (successor in interest to property); Skolsky v. Electronovision Productions, Inc. (1967) 254 Cal.App.2d 246 , 248 [ 62 Cal.Rptr. 91 ] (person who obtained bond to release attachment of defendant’s property in which he had contractual rights); Guardianship of Levy (1955) 137 Cal.App.2d 237 , 244 [ 290 P.2d 320 ] (person contesting appointment of another as guardian and seeking appointment himself); Estate of Seaman (1921) 51 Cal.App. 409 , 411 [ 196 P. 928 ] (creditor of estate).) The Skolsky case is particularly instructive on this point. There the defendant gave a bond to release an attachment after Magna, a nonparty who had certain contractual rights respecting the property, provided the surety with a substantial letter of credit as security. The defendant then defaulted. The Court of Appeal, relying on our decisions in Johnson v. Hayes Cal Builders, Inc. (1963) 60 Cal.2d 572 [ 35 Cal.Rptr. 618 , 387 P.2d 394 ], Drinkhouse v. Van Ness (1927) 202 Cal. 359 [ 260 P. 869 ], and Elliott v. Superior Court (1904) 144 Cal. 501 [ 77 P. 1109 ], held that Magna had a sufficient interest in the subject matter of the action to bring a motion to set aside the default judgment under section 473. Quoting from Elliott the court stated: “ ‘There is in fact another plain, speedy, and adequate remedy allowed by our practice to one whose rights or interests are injuriously affected by the judgment or by any appealable order to a court given or made in an action or proceeding to which he is not a party. He may make himself a party by moving to set aside such judgment or order, and if his motion is denied may, on appeal *886 from that order, have the proceeding of which he complains reviewed not only for excess of jurisdiction but for error.’ ” (254 Cal.App.2d at p. 249.) The standing of Hartford to move to set aside the default judgment which it might otherwise be required to satisfy is therefore clear. It would appear, moreover, that had it sought to set aside the judgment it would have had little difficulty making out a case for a “mistake, inadvertence, surprise or excusable neglect.” (See generally 5 Witkin, Cal. Procedure (2d ed. 1971) Attack on Judgment in Trial Court, §§ 126-147, pp. 3702-3703.) Thus, under the circumstances, we hold that Hartford had ample opportunity to seek an adjudication of the damages. It knew or should have known that judgment against its insured would form the basis for a later claim against it under Insurance Code section 11580. Instead of protecting itself by means of a section 473 motion it chose to remain silent, resting on its claim of noncoverage. Having failed to pursue remedies thus available to it, it cannot now claim prejudice or lack of opportunity to litigate damages. VII Hartford’s Other Contentions Hartford claims that the trial court’s giving of a formula instruction on the issue of willfulness was prejudicial error as was its refusal to give Hartford’s instruction on that issue. The issue of willfulness was submitted to the jury through a verdict form posing the following question: “Was the death of Dr. Clemmer caused by a willful act of Dr. Lovelace?” The jury, to aid it in answering this question, was instructed as follows: “If you find by a preponderance of the evidence that Dr. Lovelace had the mental capacity to intend to shoot and harm Dr. Clemmer when he caused his death, as well as the mental capacity to govern his own conduct, you will answer this question ‘Yes’. [¶] If on the other hand, you find that at that time Dr. Lovelace was suffering from a mental disease or defect of such magnitude that he could not form the mental state I have just mentioned, then you will answer the question ‘No’.” It is contended that the giving of the foregoing instruc *887 tion, and the refusal to give other instructions proffered by Hartford on the issue, 13 resulted in prejudicial error. Hartford urges that the term “willful” as used in the question presented to the jury should have been defined not in terms of Dr. Lovelace’s mental capacity and mental state (as the instruction given defined it) but rather in terms of conduct “more blameworthy than the sort of misconduct involved in ordinary negligence” (as Hartford’s proffered instruction defined it—see fn. 13, ante). The instruction given, Hartford asserts, had the effect of requiring the jury to find the existence of what amounted to a specific intent to kill in order to find willfulness. It is clear, however, that this argument not only ignores the specific language of the instruction—which speaks in terms of intent to “shoot and harm,” not in terms of intent to kill—but refuses to recognize the clear line of authority in this state to the effect that even an act which is “intentional” or “willful” within the meaning of traditional tort principles will not exonerate the insurer from liability under Insurance Code section 533 unless it is done with a “preconceived design to inflict injury.” (Walters v. American Ins. Co. (1960) 185 Cal.App.2d 776 , 783 [ 8 Cal.Rptr. 665 ]; see also Meyer v. Pacific Employers Ins. Co. (1965) 233 Cal.App.2d 321 , 327 [ 43 Cal.Rptr. 542 ]; see generally Gray v. Zurich Insurance Co. (1966) 65 Cal.2d 263 , 273-274, fn. 12 [ 54 Cal.Rptr. 104 , 419 P.2d 168 ], and cases there cited.) The instruction given by the trial court simply applied this principle to a situation in which the actor’s capacity to harbor the requisite “design” was placed in issue through evidence bearing upon his mental state. There was no error in this respect. 14 *888 Hartford’s final argument—that it was entitled to have the judgment set aside and a new judgment entered pursuant to Code of Civil Procedure section 663 because the findings of the trial court compel a determination that plaintiffs are precluded from litigating the issue of willfulness—is but a reassertion of its collateral estoppel argument couched in procedural language, and we need not consider it further here. VIII Contentions of Plaintiffs Regarding the Propriety of Granting Hartford’s Motion for New Trial. Plaintiffs contend that the specifications given by the trial court in support of its order granting a new trial were insufficient. Code of Civil Procedure section 657 provides: “When a new trial is granted, on all or part of the issues, the court shall specify the ground or grounds upon which it is granted and the court’s reason or reasons for granting the new trial upon each ground stated.” Here the trial judge filed a five-page memorandum setting forth his reasons for the new trial. Specifically he dealt with Dr. Lovelace’s state of mind and raised substantial questions concerning the testimony of the experts relating thereto, particularly that of Dr. Anselen compared with that of Dr. DiNolfo, stating that he “rejected] the opinions of Dr. Anselen, which would exonerate Dr. Lovelace from the ability to know and recognize the nature of his act and to control his conduct, as being absurd. Aside from these ill-founded opinions, there is no support for the jury’s finding. I am satisfied that if the action had been between two individuals, rather than a widow and fatherless child against an insurance company, a different result would have been reached by the jury.” Specifications for new trial are sufficient if they make a record sufficiently precise to permit meaningful review. (Scala v. Jerry Witt & Sons, Inc. (1970) 3 Cal.3d 359 , 363 [ 90 Cal.Rptr. 592 , 475 P.2d 864 ].) Specifications are insufficient if simply couched in the form of conclusions or statement of ultimate fact. (Miller v. Los Angeles County Flood Control Dist. (1973) 8 Cal.3d 689 , 698 [ 106 Cal.Rptr. 1 , 505 P.2d 193 ].) Here plaintiffs’ attack is basically one of factual disagreement with the court’s reasons for disbelieving evidence of Dr. Lovelace’s lack of *889 willfulness. Such a factual disagreement is not adequate to show that the specifications for new trial were insufficient. The record reflects that detailed reasons were given for the trial court’s decision and that the specifications reflected deliberation on the part of the trial judge such as to give this court a meaningful picture of what prompted the new trial order. The statutory purposes have thus been served. (Cf. Neal v. Farmers Ins. Exchange (1978) 21 Cal.3d 910 , 931-933 [ 148 Cal.Rptr. 389 , 582 P.2d 980 ].) It is next contended that a trial court’s power to grant a new trial on the ground of insufficiency of the evidence (Code Civ. Proc., § 657, subd. 6) deprives plaintiffs of their right to jury trial guaranteed by article I, section 16 of the California Constitution. This attack, however, comes too late in the jurisprudential day. It has long been held that the right to jury trial is not violated by the power in question. (Ingraham v. Weidler (1903) 139 Cal. 588 [ 73 P. 415 ]; Estate of Bainbridge (1915) 169 Cal. 166 [ 146 P. 427 ].) More recently we again passed upon this point in Dorsey v. Barba (1952) 38 Cal.2d 350 , 358 [ 240 P.2d 604 ], We also find wanting plaintiffs’ claim that Code of Civil Procedure section 657 violates due process (Cal. Const., art. I, § 7; U.S. Const., Amend. XIV, § 1). It is but another statement of their jury trial argument discussed above, and for that reason we discuss it no further. Finally, plaintiffs argue that in any event the willfulness of Dr. Lovelace was immaterial and irrelevant and that judgment should have been entered in plaintiffs’ favor because (1) Hartford breached its duty to defend Dr. Lovelace in the wrongful death action, and (2) Dr. Lovelace’s willfulness, if any, is inapplicable to innocent third parties. Even assuming that the failure to defend Dr. Lovelace was unjustified and that issues relating to coverage could be litigated in the action against Dr. Lovelace, plaintiffs cannot prevail in this contention. We held in Murphy v. Allstate Ins. Co., supra, 17 Cal.3d 937 , 943-944, that in the absence of an assignment a third party claimant cannot bring an action upon a duty owed to the insured by the insurer. Plaintiffs, standing in place of the injured party, can claim no duty owing to Dr. Lovelace to defend, no assignment of Dr. Lovelace’s right being claimed. Plaintiffs’ contention\\' that innocent victims of intentional torts should be able to recover from an insurer without regard to the willfulness of the insured clearly runs contrary to the policy expressed in *890 Insurance Code section 533, the subject of discussion at the start of this opinion. Nuffer v. Insurance Co. of North America, supra, 236 Cal.App.2d 349 is- cited by plaintiffs to demonstrate that an innocent third party may recover for the action of the insured’s agent. Here, however, we are not concerned with an action of Dr. Lovelace’s agent, but with Dr. Lovelace’s own act. Hartford may not be held liable to plaintiffs for any willful act of Dr. Lovelace. Conclusion We conclude on the basis of the foregoing that the orders here subject to appeal, i.e., the orders granting a limited new trial and denying judgment notwithstanding the verdict, must be affirmed; that the protective cross-appeal, having become moot following affirmance of the order granting a limited new trial, must be dismissed; that the purported appeals from the orders denying the motion to set aside and vacate the judgment and enter a new and different judgment and the motion for a new trial on all issues must also be dismissed, said orders being nonappealable; and that that portion of the judgment which is not affected by the order granting a limited new trial must be affirmed. Accordingly, the order entitled ruling on submitted matters, dated and entered in the minutes June 11, 1975, as amended nunc pro tunc by the order dated and entered in the minutes June 18, 1975, insofar as it constitutes an order granting a limited new trial, is affirmed. The same order as amended, insofar as it constitutes an order denying defendant’s motion for judgment notwithstanding the verdict, is affirmed. That portion of the judgment filed April 24, 1975, and entered April 25, 1975, which is not vacated and set aside by the aforesaid order as amended is affirmed. The protective cross-appeal filed by defendant July 3, 1975, and defendant’s purported appeals from the aforesaid order as amended insofar as it constitutes an order denying defendant’s motion to set aside and vacate the judgment and enter a new and different judgment and an order denying defendant’s motion for a new trial on all issues are, and each of them is, dismissed. The parties shall bear their own costs on appeal. Bird, C. J., Tobriner, J., Mosk, J., Clark, J., Richardson, J., and Newman, J., concurred. The petition of the defendant and appellant for a rehearing was denied January 17, 1979, and the opinion was modified to read as printed above. 1 Section 533 provides: “An insurer is not liable for a loss caused by the wilful act of the insured; but he is not exonerated by the negligence of the insured, or of the insured’s agents or others.’’ 2 The trial court’s findings included the following: “3. On January 30, 1971, Lovelace killed Dr. Clemmer by shooting him five times with a .45 caliber revolver, for which Lovelace was charged with murder by the People of the State of California in the case of People v. Lovelace, No. A116509 (Exhibit A in evidence). “4. On July 26, 27, 28, 29 and 30, 1971 trial was held on these charges and Lovelace was found guilty of murder in the second degree. On August 20, 1971 a judgment of conviction of second degree murder was entered against Lovelace for the shooting of Dr. Clemmer. (Exhibit A in evidence.) No appeal was taken from s\\'aid judgment, and the same duly became final. Lovelace was sentenced to serve the term prescribed by law and still is confined in prison.” The court’s conclusions of law included: “11. The judgment adjudging Lovelace guilty of second degree murder necessarily determined among other things as between Lovelace and defendant Hartford that Lovelace’s killing of Dr. Clemmer was an unlawful killing with malice aforethought, that *873 Lovelace intended to shoot and harm Dr. Clemmer when he caused his death, and that Lovelace when he shot and killed Dr. Clemmer had sufficient mental capacity to know and understand what he was doing and the nature and quality of his act, and to form the mental states referred to in this paragraph. “12. The criminal judgment rendered against Dr. Lovelace is irrelevant to any issue in this case and is inadmissible in the discretion of this court since its probative value is outweighed by prejudice pursuant to § 352.” 3 Evidence of the conviction was. over plaintiffs’ objection, admitted for impeachment purposes only. 4 The parties after conference with the trial judge agreed as to the method of proceeding in the trial court, trying certain issues to the court and trying the issue of the wilfulness of Dr. Lovelace’s act before the jury. 5 The pertinent provision of the policy provides that coverage was not applicable “to ■ any act committed by . . . the insured with intent to cause personal injury.” 6 See footnote 1. ante. 7 Hartford contends that Dr. Lovelace’s second degree murder conviction involves an adjudication of a willful act, citing Penal Code section 187, People v. Bender (1945) 27 Cal.2d 164 [ 163 P.2d 8 ], and People v. Washington (1965) 62 Cal.2d 777 [ 44 Cal.Rptr. 442 , *875 402 P.2d 130 ], For the purpose of this discussion, we assume that this contention is correct. 8 Hartford’s reliance on People ex rel. State of Cal. v. Drinkhouse, supra, 4 Cal.App.3d 931 (collateral estoppel applied against a grantee who could have no greater rights than his grantor and cograntee) and People v. One 1964 Chevrolet Corvette Convertible, supra, 274 Cal.App.2d 720 (collateral estoppel applied against the owner of an automobile who surrendered its control to a drug offender) is misplaced. In the first instance, the holding was based upon well-settled notions of privity in the context of property law, while in the second instance the holding is grounded on a concept of privity based upon the imputation of knowledge to an entrustor. None of the indicated considerations are here applicable. 9 Section 1300 provides: “Evidence of a final judgment adjudging a person guilty of a crime punishable as a felony is not made inadmissible by the hearsay rule when offered in a civil action to prove any fact essential to the judgment unless the judgment is based on a plea of nolo contendere.” 10 The jury was instructed “the defendant has the burden of establishing by a preponderance of the evidence all of the facts necessary to prove the following issue: that the death of Dr. Clemmer was caused by a willful act of Dr. Lovelace. The issue will be presented to you by a verdict containing the following question: ‘Was the death of Dr. Clemmer caused by a willful act of Dr. Lovelace?’...” 11 Section 1668 provides: “All contracts which have for their object, directly or indirectly, to exempt anyone from responsibility for his own fraud, or willful injury to the person or property of another, or violation of law, whether willful or negligent, are against the policy of the law.” 12 Hartford\\'s sole suggestion before the trial court—and before this court—concerning the manner in which it had suffered prejudice by the failure of notice and tender was couched in ipso facto terms; \"Surely there is prejudice if all of a sudden somebody is going to come after you for two million-plus dollars, in a situation where you have never been notified by anybody about the matter until after a default was taken.” What this argument fails to recognize, of course, is that prejudice is not shown simply by displaying end results; the probability that such results could or would have been avoided absent the claimed default or error must also be explored. 13 The proffered instructions provided: \"An act is a ‘willful act\" within the meaning of the question you are to decide, and within the meaning of my instructions, if the act is more blameworthy than the sort of misconduct involved in ordinary negligence, that is, if the act was performed with an improper motive or purpose. . . . \"You are instructed that a negligent act—in contrast to a willful act—is the doing of something which a reasonably prudent person would not do under circumstances similar to those shown by the evidence. It is the failure to use ordinary or reasonable care. Ordinary or reasonable care is that care which persons of ordinary prudence would use in order to avoid injurv to others unde\\' circumstances similar to those shown by the evidence. \"On the other hand, a person willfully harms another when he knows and understands what he is doing and has the purpose of intending to harm him. “Thus, for example, when a pedestrian is struck b\\' an automobile that is carelessly driven, the injurv is the result of negligence and no* willfulness. If. however, the driver intentionally struck [the] pedestrian, the act is willful.” 14 For cases in other jurisdictions considering the mental condition of the actor in determining the willfulness of his act for insurance purposes, see, e.g. Vanguard Insurance Co. v. Cantrell (1973) 18 Ariz.App. 486 [ 503 P.2d 962 ]; Burd v. Sussex Mutual Insurance Co. (1970) 56 N.J. 383 [ 267 A.2d 7 ]; Ruvulo v. American Cas. Co. (1963) 39 N.J. 490 [ 189 A.2d 204 ]; see also Annot. (1965) 2 A.L.R.3d 1238 , 1243-1245.'"
      ]
     },
     "execution_count": 142,
     "metadata": {},
     "output_type": "execute_result"
    }
   ],
   "source": [
    "cited_by_test_2[0].text_clean"
   ]
  },
  {
   "cell_type": "code",
   "execution_count": 143,
   "metadata": {},
   "outputs": [
    {
     "name": "stdout",
     "output_type": "stream",
     "text": [
      "22\n",
      "47\n"
     ]
    }
   ],
   "source": [
    "print(len(cited_by_test))\n",
    "cited_by_test.extend(cited_by_test_2)\n",
    "print(len(cited_by_test))"
   ]
  },
  {
   "cell_type": "code",
   "execution_count": 144,
   "metadata": {},
   "outputs": [],
   "source": [
    "save_models_to_json(cited_by_test, \"./data/models/cited_to.json\")"
   ]
  },
  {
   "cell_type": "code",
   "execution_count": null,
   "metadata": {},
   "outputs": [],
   "source": []
  },
  {
   "cell_type": "code",
   "execution_count": null,
   "metadata": {},
   "outputs": [],
   "source": []
  }
 ],
 "metadata": {
  "kernelspec": {
   "display_name": ".venv",
   "language": "python",
   "name": "python3"
  },
  "language_info": {
   "codemirror_mode": {
    "name": "ipython",
    "version": 3
   },
   "file_extension": ".py",
   "mimetype": "text/x-python",
   "name": "python",
   "nbconvert_exporter": "python",
   "pygments_lexer": "ipython3",
   "version": "3.10.11"
  }
 },
 "nbformat": 4,
 "nbformat_minor": 2
}
