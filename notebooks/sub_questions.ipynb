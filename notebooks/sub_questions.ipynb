{
 "cells": [
  {
   "cell_type": "code",
   "execution_count": 1,
   "metadata": {},
   "outputs": [
    {
     "data": {
      "text/plain": [
       "True"
      ]
     },
     "execution_count": 1,
     "metadata": {},
     "output_type": "execute_result"
    }
   ],
   "source": [
    "import os\n",
    "from dotenv import load_dotenv\n",
    "import pandas as pd\n",
    "import json\n",
    "from datetime import datetime\n",
    "from markdown import markdown\n",
    "from IPython.display import Markdown, display, HTML\n",
    "import warnings\n",
    "warnings.filterwarnings('ignore')\n",
    "pd.set_option('display.max_columns', None)\n",
    "load_dotenv()"
   ]
  },
  {
   "cell_type": "code",
   "execution_count": 2,
   "metadata": {},
   "outputs": [],
   "source": [
    "os.chdir(os.path.dirname(os.getcwd()))"
   ]
  },
  {
   "cell_type": "code",
   "execution_count": 31,
   "metadata": {},
   "outputs": [],
   "source": [
    "from concurrent.futures import ThreadPoolExecutor\n",
    "from urllib.parse import urlparse, parse_qs\n",
    "from readability import Document\n",
    "from datetime import datetime\n",
    "from bs4 import BeautifulSoup\n",
    "import requests\n",
    "import openai\n",
    "import ujson\n",
    "\n",
    "COMPLETION_MODEL = \"gpt-4-turbo-preview\"\n",
    "SOURCE_COUNT = 10\n",
    "\n",
    "def generate_search_query(text: str, model=\"gpt-4-turbo-preview\") -> str:\n",
    "    \"\"\"\n",
    "    Uses OpenAI's ChatCompletions to generate a search query from a given text.\n",
    "\n",
    "    ### Example:\n",
    "    For the text `What is the new Discord username system?`, a search query similar to `discord new username system` would be generated.\n",
    "    \"\"\"\n",
    "    client = openai.OpenAI()\n",
    "    return client.chat.completions.create(\n",
    "        model=model,\n",
    "        messages=[\n",
    "            {\"role\": \"system\", \"content\": \"Given a query, respond with the Google search query that would best help to answer the query. Don't use search operators. Respond with only the Google query and nothing else.\"},\n",
    "            {\"role\": \"user\", \"content\": text}\n",
    "        ]\n",
    "    ).choices[0].message.content\n",
    "\n",
    "\n",
    "def get_google_search_links(query: str, source_count: int = SOURCE_COUNT, proxies: dict = None) -> list[str]:\n",
    "    \"\"\"\n",
    "    Scrapes the official Google search page using the `requests` module and returns the first `source_count` links.\n",
    "\n",
    "    Args:\n",
    "        query (str): The search query.\n",
    "        source_count (int): The number of links to return.\n",
    "        proxies (dict, optional): Proxies to use for the request. Defaults to None.\n",
    "\n",
    "    Returns:\n",
    "        list[str]: A list of the first `source_count` links from the Google search.\n",
    "    \"\"\"\n",
    "    url = f\"https://www.google.com/search?q={query}\"\n",
    "    if proxies:\n",
    "        response = requests.get(url, proxies=proxies)\n",
    "    else:\n",
    "        response = requests.get(url)\n",
    "    soup = BeautifulSoup(response.text, \"html.parser\")\n",
    "    link_tags = soup.find_all(\"a\")\n",
    "    \n",
    "    links = []\n",
    "    for link in link_tags:\n",
    "        href = link.get(\"href\")\n",
    "        if href and href.startswith(\"/url?q=\"):\n",
    "            cleaned_href = parse_qs(urlparse(href).query)[\"q\"][0]\n",
    "            if cleaned_href not in links:\n",
    "                links.append(cleaned_href)\n",
    "\n",
    "    filtered_links = []\n",
    "    for link in links:\n",
    "        domain = urlparse(link).hostname\n",
    "        if domain and not any(site in domain for site in [\"google\", \"facebook\", \"twitter\", \"instagram\", \"youtube\", \"tiktok\"]):\n",
    "            if not any(new_url.hostname == domain for new_url in [urlparse(l) for l in filtered_links]):\n",
    "                filtered_links.append(link)\n",
    "    \n",
    "    return filtered_links[:source_count]\n",
    "\n",
    "def scrape_text_from_links(links: list, proxies: dict = None) -> list[dict]:   \n",
    "    \"\"\"\n",
    "    Uses a `ThreadPoolExecutor` to run `scrape_text_from_links` on each link in `links` concurrently, allowing for lightning-fast scraping.\n",
    "    \"\"\" \n",
    "    with ThreadPoolExecutor(max_workers=len(links)) as executor:\n",
    "        if proxies:\n",
    "            results = list(executor.map(scrape_text_from_link, links, [proxies] * len(links)))\n",
    "        else:\n",
    "            results = list(executor.map(scrape_text_from_link, links))\n",
    "    \n",
    "    for i, result in enumerate(results, start=1):\n",
    "        result[\"result_number\"] = i\n",
    "\n",
    "    return results\n",
    "    \n",
    "def scrape_text_from_link(link: str, proxies: dict = None) -> dict:\n",
    "    \"\"\"\n",
    "    Uses the `requests` module to scrape the text from a given link, and then uses the `readability-lxml` module along with `BeautifulSoup4` \n",
    "    to parse the text into a readable format. Implements robust error handling to ensure the function completes without throwing an error.\n",
    "\n",
    "    Args:\n",
    "        link (str): The URL of the webpage to scrape.\n",
    "        proxies (dict, optional): Proxies to use for the request. Defaults to None.\n",
    "\n",
    "    Returns:\n",
    "        dict: A dictionary containing the URL and the summarized text from the link. If an error occurs, returns a dictionary with the URL and an error message.\n",
    "    \"\"\"\n",
    "    try:\n",
    "        if proxies:\n",
    "            response = requests.get(link, proxies=proxies)\n",
    "        else:\n",
    "            response = requests.get(link)\n",
    "        response.raise_for_status()  # Raises a HTTPError if the response status code is 4XX/5XX\n",
    "    except requests.exceptions.RequestException as e:\n",
    "        return {\"url\": link, \"error\": f\"Failed to retrieve content: {str(e)}\"}\n",
    "\n",
    "    try:\n",
    "        doc = Document(response.text)\n",
    "        parsed = doc.summary()\n",
    "        soup = BeautifulSoup(parsed, \"html.parser\")\n",
    "        source_text = soup.get_text()\n",
    "    except Exception as e:\n",
    "        return {\"url\": link, \"error\": f\"Failed to parse content: {str(e)}\"}\n",
    "\n",
    "    try:\n",
    "        summarized_text = summarize_text(source_text[:50000])\n",
    "    except Exception as e:\n",
    "        return {\"url\": link, \"error\": f\"Failed to summarize content: {str(e)}\"}\n",
    "\n",
    "    return {\"url\": link, \"text\": summarized_text}\n",
    "\n",
    "def summarize_text(text: str, model=\"gpt-4-turbo-preview\") -> str:\n",
    "    \"\"\"\n",
    "    Uses OpenAI's ChatCompletions to summarize a given text.\n",
    "    \"\"\"\n",
    "    return openai.chat.completions.create(\n",
    "        model=model,\n",
    "        messages=[\n",
    "            {\"role\": \"system\", \"content\": \"Given text, respond with the summarized text (no more than 500 words) and nothing else.\"},\n",
    "            {\"role\": \"user\", \"content\": text}\n",
    "        ]\n",
    "    ).choices[0].message.content\n",
    "\n",
    "def search(query: str, proxies: dict = None) -> tuple[list[str], list[dict]]:\n",
    "    \"\"\"\n",
    "    This function takes a query as input, gets top Google search links for the query, and then scrapes the text from the links.\n",
    "    It returns a tuple containing the list of links and a list of dictionaries. Each dictionary contains the URL and the summarized text from the link.\n",
    "    \"\"\"\n",
    "    links = get_google_search_links(query, proxies=proxies)\n",
    "    sources = scrape_text_from_links(links, proxies=proxies)\n",
    "\n",
    "    return links, sources\n",
    "\n",
    "def perplexity_clone(query: str, proxies: dict = None, verbose=False) -> str:\n",
    "    \"\"\"\n",
    "    A clone of Perplexity AI's \"Search\" feature. This function takes a query as input and returns Markdown formatted text containing a response to the query with cited sources.\n",
    "    \"\"\"\n",
    "    client = openai.OpenAI()\n",
    "    formatted_time = datetime.utcnow().strftime(\"%A, %B %d, %Y %H:%M:%S UTC\")\n",
    "\n",
    "    search_query = generate_search_query(query)\n",
    "    if verbose:\n",
    "        print(f\"Searching \\\"{search_query}\\\"...\")\n",
    "    links, sources = search(search_query, proxies=proxies)\n",
    "    \n",
    "    print(f\"Links found: {links}\")\n",
    "\n",
    "    result = client.chat.completions.create(\n",
    "        model=COMPLETION_MODEL,\n",
    "        messages=[\n",
    "            {\"role\": \"system\", \"content\": \"Generate a comprehensive and informative answer for a given question solely based on the provided web Search Results (URL and Summary). You must only use information from the provided search results. Use an unbiased and journalistic tone. Use this current date and time: \" + formatted_time + \". Combine search results together into a coherent answer. Do not repeat text. Cite sources as [1] or [2] or [3] after each sentence (not just the very end) to back up your answer (Ex: Correct: [1], Correct: [2][3], Incorrect: [1, 2]). Only cite the most relevant results that answer the question accurately. If different results refer to different entities with the same name, write separate answers for each entity.\"},\n",
    "            {\"role\": \"user\", \"content\": ujson.dumps(sources)},\n",
    "            {\"role\": \"user\", \"content\": query}\n",
    "        ]\n",
    "    ).choices[0].message.content\n",
    "    result +=\"\\n\\n\"\n",
    "    result +=\"___\"\n",
    "    result +=\"\\n\\n\"\n",
    "    for i, link in enumerate(links, start=1):\n",
    "        parsed_url = urlparse(link)\n",
    "        base_url = parsed_url.netloc\n",
    "        base_url = base_url.replace(\"www.\", \"\")\n",
    "        result = result.replace(f\"[{i}]\", f\"<sup>[[{i}]]({link})</sup>\")\n",
    "        result += f\"* **[[{i}]](http://{base_url}) {base_url}**\\n\"\n",
    "\n",
    "    return result, sources"
   ]
  },
  {
   "cell_type": "code",
   "execution_count": 32,
   "metadata": {},
   "outputs": [
    {
     "name": "stdout",
     "output_type": "stream",
     "text": [
      "Searching \"2024 solar eclipse path Austin TX\"...\n",
      "Links found: ['https://www.austintexas.org/events/eclipse-austin/', 'https://eclipse2024.org/eclipse_cities/blog-posts/what-will-the-2024-total-solar-eclipse-look-like-from-austin.html', 'https://www.austintexas.gov/readycentraltexas/eclipse', 'https://nationaleclipse.com/cities/austin_texas.html', 'https://www.reddit.com/r/Austin/comments/1937wg2/2024_eclipse_viewing_in_the_city_vs_more_rural/', 'https://www.tripadvisor.com/ShowTopic-g28964-i75-k14298478-Solar_eclipse_April_8_2024_where_to_stay_near_Austin-Texas.html', 'https://www.timeanddate.com/eclipse/in/usa/austin?iso=20240408', 'https://www.statesman.com/story/entertainment/events/2024/02/12/2024-total-solar-eclipse-path-times-austin-texas-what-you-need-to-know/72190130007/']\n"
     ]
    },
    {
     "data": {
      "text/markdown": [
       "The 2024 Total Solar Eclipse, taking place on April 8, presents an exciting event for viewers, especially in Austin, Texas, which will be directly in the path of totality. This rare astronomical phenomenon, the first total solar eclipse visible in North America since 2017, is expected to draw large crowds to Central Texas, with Austin offering a unique viewing experience. Safety during the eclipse is crucial, with the emphasis on using certified eclipse glasses or viewers for direct observation of the sun, except during the brief phase of total eclipse where the moon completely covers the sun <sup>[[1]](https://www.austintexas.org/events/eclipse-austin/)</sup><sup>[[3]](https://www.austintexas.gov/readycentraltexas/eclipse)</sup>.\n",
       "\n",
       "Austin, being situated at the southern limit of the totality path, requires careful planning for viewers aiming to experience the ultimate spectacle. While the city itself provides several viewing locations, such as the Austin Zoo, Lady Bird Johnson Wildflower Center, and Barton Creek Greenbelt, the duration of totality varies across different sites. For instance, the Austin Aquarium will experience a longer period of totality at approximately 2 minutes and 58 seconds compared to 1 minute and 24 seconds at the Boardwalk at Lady Bird Lake <sup>[[4]](https://nationaleclipse.com/cities/austin_texas.html)</sup>. Consequently, for an optimal eclipse experience, areas outside Austin including Burnet, Marble Falls, Killeen, and others have been recommended, with spots like Buchanan Lake signaling a prime viewing point with around 4 minutes and 20 seconds of totality <sup>[[2]](https://eclipse2024.org/eclipse_cities/blog-posts/what-will-the-2024-total-solar-eclipse-look-like-from-austin.html)</sup>.\n",
       "\n",
       "Viewers are encouraged to prepare extensively for the event, considering the expected influx of visitors and potential traffic congestion. Making arrangements for early arrival at viewing spots, stashing supplies like food, water, and gas, and planning to stay put after the eclipse to avoid the rush are advisable strategies. Free eclipse glasses are being distributed at various locations in Central Texas to ensure public safety, and attendees are urged never to look directly at the sun without proper protection <sup>[[3]](https://www.austintexas.gov/readycentraltexas/eclipse)</sup>.\n",
       "\n",
       "The 2024 eclipse marks a significant occasion, as it offers an opportunity not to be missed given its rarity; the last total solar eclipse observed in Austin occurred in 1397 and the next one is not expected until 2343. The event is anticipated to cast areas into total darkness between 1:35 p.m. and 1:40 p.m., highlighting the importance of securing appropriate viewing equipment, like eclipse glasses marked with the \"ISO\" icon, or constructing a pinhole camera for safe observation <sup>[[8]](https://www.statesman.com/story/entertainment/events/2024/02/12/2024-total-solar-eclipse-path-times-austin-texas-what-you-need-to-know/72190130007/)</sup>.\n",
       "\n",
       "To benefit fully from this spectacular cosmic event, Austin residents and visitors are advised to heed safety guidelines and make necessary preparations, ensuring a memorable and secure eclipse viewing experience.\n",
       "\n",
       "___\n",
       "\n",
       "* **[[1]](http://austintexas.org) austintexas.org**\n",
       "* **[[2]](http://eclipse2024.org) eclipse2024.org**\n",
       "* **[[3]](http://austintexas.gov) austintexas.gov**\n",
       "* **[[4]](http://nationaleclipse.com) nationaleclipse.com**\n",
       "* **[[5]](http://reddit.com) reddit.com**\n",
       "* **[[6]](http://tripadvisor.com) tripadvisor.com**\n",
       "* **[[7]](http://timeanddate.com) timeanddate.com**\n",
       "* **[[8]](http://statesman.com) statesman.com**\n"
      ],
      "text/plain": [
       "<IPython.core.display.Markdown object>"
      ]
     },
     "metadata": {},
     "output_type": "display_data"
    }
   ],
   "source": [
    "test, sources = perplexity_clone(query=\"2024 solar eclipse austin tx\", verbose=True)\n",
    "display(Markdown(test))"
   ]
  },
  {
   "cell_type": "code",
   "execution_count": 27,
   "metadata": {},
   "outputs": [
    {
     "data": {
      "text/plain": [
       "{'url': 'https://nationaleclipse.com/cities/austin_texas.html',\n",
       " 'text': \"This text provides a list of locations in Austin, Texas, with corresponding start times and durations for an eclipse totality event. It mentions various places such as the Austin Zoo, Lady Bird Johnson Wildflower Center, and the Austin Aquarium, among others, with totality start times ranging from 1:35:21 PM CDT to 1:36:20 PM CDT and durations from 1:24 to 2:58 minutes. The text also notes that these times and durations are approximate, particularly for large areas like parks and campuses, and advises using Xavier Jubier's interactive Google eclipse maps for precise timing and duration at specific locations. The duration mentioned refers to the total eclipse's duration, expressed in minutes and seconds. Additionally, there's a mention of events and festivals celebrating the eclipse in Austin.\",\n",
       " 'result_number': 1}"
      ]
     },
     "execution_count": 27,
     "metadata": {},
     "output_type": "execute_result"
    }
   ],
   "source": [
    "sources[0]"
   ]
  },
  {
   "cell_type": "code",
   "execution_count": null,
   "metadata": {},
   "outputs": [],
   "source": []
  }
 ],
 "metadata": {
  "kernelspec": {
   "display_name": ".venv",
   "language": "python",
   "name": "python3"
  },
  "language_info": {
   "codemirror_mode": {
    "name": "ipython",
    "version": 3
   },
   "file_extension": ".py",
   "mimetype": "text/x-python",
   "name": "python",
   "nbconvert_exporter": "python",
   "pygments_lexer": "ipython3",
   "version": "3.10.11"
  }
 },
 "nbformat": 4,
 "nbformat_minor": 2
}
