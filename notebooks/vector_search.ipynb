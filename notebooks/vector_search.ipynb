{
 "cells": [
  {
   "cell_type": "code",
   "execution_count": 1,
   "metadata": {},
   "outputs": [
    {
     "data": {
      "text/html": [
       "<div>\n",
       "<style scoped>\n",
       "    .dataframe tbody tr th:only-of-type {\n",
       "        vertical-align: middle;\n",
       "    }\n",
       "\n",
       "    .dataframe tbody tr th {\n",
       "        vertical-align: top;\n",
       "    }\n",
       "\n",
       "    .dataframe thead th {\n",
       "        text-align: right;\n",
       "    }\n",
       "</style>\n",
       "<table border=\"1\" class=\"dataframe\">\n",
       "  <thead>\n",
       "    <tr style=\"text-align: right;\">\n",
       "      <th></th>\n",
       "      <th>index</th>\n",
       "      <th>created_utc</th>\n",
       "      <th>full_link</th>\n",
       "      <th>id</th>\n",
       "      <th>body</th>\n",
       "      <th>title</th>\n",
       "      <th>text_label</th>\n",
       "      <th>flair_label</th>\n",
       "      <th>embeddings</th>\n",
       "      <th>token_count</th>\n",
       "      <th>llm_title</th>\n",
       "      <th>state</th>\n",
       "      <th>kmeans_label</th>\n",
       "      <th>topic_title</th>\n",
       "      <th>splade_embeddings</th>\n",
       "    </tr>\n",
       "  </thead>\n",
       "  <tbody>\n",
       "    <tr>\n",
       "      <th>0</th>\n",
       "      <td>1078</td>\n",
       "      <td>1575952538</td>\n",
       "      <td>https://www.reddit.com/r/legaladvice/comments/...</td>\n",
       "      <td>e8lsen</td>\n",
       "      <td>I applied for a job and after two interviews I...</td>\n",
       "      <td>Failed a drug test due to amphetamines, I have...</td>\n",
       "      <td>employment</td>\n",
       "      <td>5</td>\n",
       "      <td>[9.475638042064453e-05, 0.0005111666301983955,...</td>\n",
       "      <td>493</td>\n",
       "      <td>\"Validity of Schedule II Drug Prescription in ...</td>\n",
       "      <td>PR</td>\n",
       "      <td>8</td>\n",
       "      <td>Employment Legal Concerns and Issues</td>\n",
       "      <td>[0.0, 0.0, 0.0, 0.0, 0.0, 0.0, 0.0, 0.0, 0.0, ...</td>\n",
       "    </tr>\n",
       "    <tr>\n",
       "      <th>1</th>\n",
       "      <td>2098</td>\n",
       "      <td>1577442453</td>\n",
       "      <td>https://www.reddit.com/r/legaladvice/comments/...</td>\n",
       "      <td>eg9ll2</td>\n",
       "      <td>Hi everyone, thanks in advance for any guidanc...</td>\n",
       "      <td>Speeding ticket in Tennessee, Georgia Driver's...</td>\n",
       "      <td>driving</td>\n",
       "      <td>4</td>\n",
       "      <td>[-0.006706413111028856, 0.020911016696181495, ...</td>\n",
       "      <td>252</td>\n",
       "      <td>\"Speeding ticket consequences for out-of-state...</td>\n",
       "      <td>KY</td>\n",
       "      <td>10</td>\n",
       "      <td>Legal Topics in Traffic Violations</td>\n",
       "      <td>[0.0, 0.0, 0.0, 0.0, 0.0, 0.0, 0.0, 0.0, 0.0, ...</td>\n",
       "    </tr>\n",
       "  </tbody>\n",
       "</table>\n",
       "</div>"
      ],
      "text/plain": [
       "   index  created_utc                                          full_link  \\\n",
       "0   1078   1575952538  https://www.reddit.com/r/legaladvice/comments/...   \n",
       "1   2098   1577442453  https://www.reddit.com/r/legaladvice/comments/...   \n",
       "\n",
       "       id                                               body  \\\n",
       "0  e8lsen  I applied for a job and after two interviews I...   \n",
       "1  eg9ll2  Hi everyone, thanks in advance for any guidanc...   \n",
       "\n",
       "                                               title  text_label  flair_label  \\\n",
       "0  Failed a drug test due to amphetamines, I have...  employment            5   \n",
       "1  Speeding ticket in Tennessee, Georgia Driver's...     driving            4   \n",
       "\n",
       "                                          embeddings  token_count  \\\n",
       "0  [9.475638042064453e-05, 0.0005111666301983955,...          493   \n",
       "1  [-0.006706413111028856, 0.020911016696181495, ...          252   \n",
       "\n",
       "                                           llm_title state  kmeans_label  \\\n",
       "0  \"Validity of Schedule II Drug Prescription in ...    PR             8   \n",
       "1  \"Speeding ticket consequences for out-of-state...    KY            10   \n",
       "\n",
       "                            topic_title  \\\n",
       "0  Employment Legal Concerns and Issues   \n",
       "1    Legal Topics in Traffic Violations   \n",
       "\n",
       "                                   splade_embeddings  \n",
       "0  [0.0, 0.0, 0.0, 0.0, 0.0, 0.0, 0.0, 0.0, 0.0, ...  \n",
       "1  [0.0, 0.0, 0.0, 0.0, 0.0, 0.0, 0.0, 0.0, 0.0, ...  "
      ]
     },
     "execution_count": 1,
     "metadata": {},
     "output_type": "execute_result"
    }
   ],
   "source": [
    "import os\n",
    "os.environ[\"KMP_DUPLICATE_LIB_OK\"] = \"TRUE\"\n",
    "import re\n",
    "from dotenv import load_dotenv\n",
    "import pandas as pd\n",
    "\n",
    "from IPython.display import Markdown, display, HTML\n",
    "import warnings\n",
    "warnings.filterwarnings('ignore')\n",
    "pd.set_option('display.max_columns', None)\n",
    "load_dotenv()\n",
    "os.chdir(os.path.dirname(os.getcwd()))\n",
    "\n",
    "df = pd.read_parquet(\"./data/splade_embeds.parquet\")\n",
    "# Convert column names to snake_case for compatibility with LanceDB\n",
    "original_columns = df.columns\n",
    "snake_case_columns = {col: re.sub(r'(?<!^)(?=[A-Z])', '_', col).lower() for col in original_columns}\n",
    "df.rename(columns=snake_case_columns, inplace=True)\n",
    "df.head(2)"
   ]
  },
  {
   "cell_type": "code",
   "execution_count": 2,
   "metadata": {},
   "outputs": [],
   "source": [
    "df.sort_values(by='token_count', ascending=False, inplace=True)"
   ]
  },
  {
   "cell_type": "code",
   "execution_count": 3,
   "metadata": {},
   "outputs": [
    {
     "data": {
      "text/markdown": [
       "\n",
       "Is it legal for my employer to discriminating against me for being a medical marijuana patient?\n"
      ],
      "text/plain": [
       "<IPython.core.display.Markdown object>"
      ]
     },
     "execution_count": 3,
     "metadata": {},
     "output_type": "execute_result"
    }
   ],
   "source": [
    "test_query = \"\"\"\n",
    "Is it legal for my employer to discriminating against me for being a medical marijuana patient?\n",
    "\"\"\"\n",
    "\n",
    "Markdown(test_query)"
   ]
  },
  {
   "cell_type": "code",
   "execution_count": 4,
   "metadata": {},
   "outputs": [],
   "source": [
    "from src.parsing.search import find_fuzzy_matches_in_df, find_closest_matches_with_bm25_df"
   ]
  },
  {
   "cell_type": "code",
   "execution_count": 5,
   "metadata": {},
   "outputs": [],
   "source": [
    "bm25_test = find_closest_matches_with_bm25_df(\n",
    "    query=test_query,\n",
    "    df=df,\n",
    "    k=5,\n",
    "    text_column='body',\n",
    ")"
   ]
  },
  {
   "cell_type": "code",
   "execution_count": 6,
   "metadata": {},
   "outputs": [
    {
     "data": {
      "text/plain": [
       "[\"I'm a New York State medical marijuana patient. I also work in healthcare. I applied to a new job at a new hospital, and they are discriminating against me for being a medical marijuana patient. I was offered the job and accepted, but when I went to get my pre-employment physical conducted, I gave them my medical marijuana card and informed them that I am a patient. They are now refusing to hire me. Is this legal? I already contacted the division of human rights at the labor department and they said I may or may not have a case.\",\n",
       " 'Hello,\\n\\nI was considering getting a medical marijuana card for my back pain. I\\'ve dealt with this chronically for years and it\\'s one of the few things that really help.\\n\\nThe problem is my company has a zero tolerance drug policy. The majority  of our employees are DOT regulated drivers so of course they are not able to able to smoke marijuana even if they have a medical card, this makes sense to me.\\n\\nAs for the rest of us, even us office folk, we are all still subject to randoms.  Basically the logic is that everyone is considered to be in a \"safety sensitive\" position because we can drive on company time or drive a company vehicle. We have a memo in our drug and alcohol handbook to \"all employees\" stating that just because some states have legalized marijuana, does not mean we can disregard company policy. It does NOT say anything about medical cards.\\n\\nI live in Arizona where medical marijuana is legal. Is my company able to trump me having a medical card because of their policy?  If I had a random and told the tester  I had a medical card, would it violate HIPAA for the MRO to inform my boss that I tested positive and have a medical card? What can I do? \\n\\nI feel really defeated by my pain and I just wish I could do the one thing that helps me.\\n\\nThank you.',\n",
       " \"I have my medical marijuana card because mj lets me eat, not feel like my body is coming apart at it's joints, feel like life is not so hopeless, and sleep soundly, but I've been looking for new jobs and I'm unsure about drug testing. \\n\\nI've looked it up and know its a state-to-state thing, but I'm still a little iffy about Pennsylvania and how weirdly 50/50 it seems to be with medical marijuana. I don't smoke before or during work and never intend to do so. However I'm unsure about the legality of workers compensation and drug testing during a hire situation if I happen to fail the test. \\n\\nWill I get fired or fined from work and would the employer looking to hire me have grounds to dismiss me?\\n\\nAlso, this is my first time on this sub so I hope this isn't an annoying question or something.\",\n",
       " \"Asking this for a friend who lives in a mobile home park in California.  He wants to get a medical marijuana card for his medical conditions so he can get off his pain medicine, but the park is telling him that even though he owns his home 100%, because its on the park's land he can't use it or bring it on the property.  Can the park legally do this or is there some legal medical grounds for him?  \",\n",
       " 'Hello. I recently started working as a California 1099 Medical provider with a home health company. Original terms of agreement and understanding was that mileage was covered “from the providers home.” My understanding and what was communicated to me by the person who recruited me, that this meant to and from my house. \\n\\nRecently, the owner now stated the contract is only from the providers home till the last patient. In the contract it states, “starting from the providers home”, and it does not specifically say ending at the last patient’s home. \\n\\nI brought this to the owners attention and he does not agree with me. He stated that its costing the company because many of the providers live outside of the area of patients (I typically live 60 miles away, my residence was known when I was hired). Do I have legal right to be reimbursed for my mileage home or is this a hard lesson to learn from?']"
      ]
     },
     "execution_count": 6,
     "metadata": {},
     "output_type": "execute_result"
    }
   ],
   "source": [
    "bm25_test['body'].tolist()"
   ]
  },
  {
   "cell_type": "code",
   "execution_count": 7,
   "metadata": {},
   "outputs": [],
   "source": [
    "fuzzy_test = find_fuzzy_matches_in_df(\n",
    "    query='mariwanna',\n",
    "    df=df,\n",
    "    k=5,\n",
    "    text_column='body',\n",
    "    words_after=5,\n",
    "    words_before=5,\n",
    ")"
   ]
  },
  {
   "cell_type": "code",
   "execution_count": 8,
   "metadata": {},
   "outputs": [
    {
     "data": {
      "text/plain": [
       "['father conceal loads of drugs, marijuana and some black looking drug,',\n",
       " 'years for a possession of marijuana charge. I’ve violated a couple',\n",
       " 'damaged property, and constantly had marijuana in her possession on the',\n",
       " 'tolerance for the use of marijuana regardless of local laws. I',\n",
       " 'the roommates getting arrested for marijuana charges on the property and']"
      ]
     },
     "execution_count": 8,
     "metadata": {},
     "output_type": "execute_result"
    }
   ],
   "source": [
    "fuzzy_test['context'].tolist()"
   ]
  },
  {
   "cell_type": "code",
   "execution_count": 9,
   "metadata": {},
   "outputs": [],
   "source": [
    "from src.search.query_expansion import segment\n",
    "\n",
    "queries = segment(\n",
    "    test_query,\n",
    "    n='3 to 5'\n",
    ")"
   ]
  },
  {
   "cell_type": "code",
   "execution_count": 10,
   "metadata": {},
   "outputs": [
    {
     "data": {
      "text/plain": [
       "[SubQuestion(chain_of_thought=\"To understand if an employer's actions are legal, we first need to examine the federal laws regarding marijuana use and employment. This will help determine if there are any overarching legal protections or prohibitions.\", sub_question_topic='Federal Laws on Marijuana and Employment', sub_question_query='What are the federal laws regarding marijuana use and employment?', sub_question_keywords=['federal laws', 'marijuana', 'employment']),\n",
       " SubQuestion(chain_of_thought=\"Since marijuana laws can vary significantly by state, it's important to look into the specific state laws where the employment is based. This will help identify any state-specific protections for medical marijuana patients in the workplace.\", sub_question_topic='State Laws on Medical Marijuana and Employment', sub_question_query='What are the state laws regarding medical marijuana use and employment?', sub_question_keywords=['state laws', 'medical marijuana', 'employment']),\n",
       " SubQuestion(chain_of_thought=\"Understanding the employer's policies on drug use and testing is crucial to determining if their actions are within their legal rights. This involves reviewing the employer's handbook or any official documents outlining their stance on marijuana.\", sub_question_topic=\"Employer's Policies on Marijuana Use\", sub_question_query=\"What are the employer's policies on marijuana use and testing?\", sub_question_keywords=[\"employer's policies\", 'marijuana use', 'drug testing']),\n",
       " SubQuestion(chain_of_thought=\"To fully understand the legal implications, it's important to know if there have been any relevant court cases where employees were discriminated against for being medical marijuana patients. This will provide insight into how courts have interpreted the laws.\", sub_question_topic='Relevant Court Cases', sub_question_query='What are the relevant court cases involving discrimination against medical marijuana patients in the workplace?', sub_question_keywords=['court cases', 'discrimination', 'medical marijuana', 'workplace']),\n",
       " SubQuestion(chain_of_thought='Finally, examining any federal or state protections specifically for medical marijuana patients in the workplace will help determine if there are laws that directly address this issue.', sub_question_topic='Protections for Medical Marijuana Patients in the Workplace', sub_question_query='What protections exist for medical marijuana patients in the workplace?', sub_question_keywords=['protections', 'medical marijuana patients', 'workplace'])]"
      ]
     },
     "execution_count": 10,
     "metadata": {},
     "output_type": "execute_result"
    }
   ],
   "source": [
    "queries.searches"
   ]
  },
  {
   "cell_type": "code",
   "execution_count": 11,
   "metadata": {},
   "outputs": [
    {
     "name": "stderr",
     "output_type": "stream",
     "text": [
      "2024-04-06 03:49:18 - INFO - Using pre-computed 'title' embeddings from existing column: splade_embeddings\n"
     ]
    }
   ],
   "source": [
    "from src.agent.tools.semantic_search import SemanticSearch\n",
    "from src.agent.tools.splade_search import SparseEmbeddingsSplade\n",
    "from src.search.query_expansion import segment\n",
    "\n",
    "semantic_search = SemanticSearch(\n",
    "    df=df,\n",
    "    embedding_col_name='embeddings'\n",
    ")\n",
    "\n",
    "splade_search = SparseEmbeddingsSplade(\n",
    "    df=df,\n",
    "    text_column='title',\n",
    "    splade_column='splade_embeddings'\n",
    ")"
   ]
  },
  {
   "cell_type": "code",
   "execution_count": 12,
   "metadata": {},
   "outputs": [
    {
     "name": "stderr",
     "output_type": "stream",
     "text": [
      "2024-04-06 03:49:18 - INFO - \n",
      "\n",
      "Thought: To understand if an employer's actions are legal, we first need to examine the federal laws\n",
      "regarding marijuana use and employment. This will help determine if there are any overarching legal\n",
      "protections or prohibitions.\n",
      "Search topic: Federal Laws on Marijuana and Employment\n",
      "2024-04-06 03:49:18 - INFO - Running vector (OpenAI) search: What are the federal laws regarding marijuana use and employment?\n",
      "2024-04-06 03:49:18 - INFO - Running keyword (SPLADE) search: federal laws, marijuana, employment\n",
      "2024-04-06 03:49:18 - INFO - Returning 10 records from vector search and 10 from keywords\n",
      "2024-04-06 03:49:18 - INFO - ---------------------------------------------------------------------------\n",
      "2024-04-06 03:49:18 - INFO - \n",
      "\n",
      "Thought: Since marijuana laws can vary significantly by state, it's important to look into the specific state\n",
      "laws where the employment is based. This will help identify any state-specific protections for\n",
      "medical marijuana patients in the workplace.\n",
      "Search topic: State Laws on Medical Marijuana and Employment\n",
      "2024-04-06 03:49:18 - INFO - Running vector (OpenAI) search: What are the state laws regarding medical marijuana use and employment?\n",
      "2024-04-06 03:49:19 - INFO - Running keyword (SPLADE) search: state laws, medical marijuana, employment\n",
      "2024-04-06 03:49:19 - INFO - Returning 10 records from vector search and 10 from keywords\n",
      "2024-04-06 03:49:19 - INFO - ---------------------------------------------------------------------------\n",
      "2024-04-06 03:49:19 - INFO - \n",
      "\n",
      "Thought: Understanding the employer's policies on drug use and testing is crucial to determining if their\n",
      "actions are within their legal rights. This involves reviewing the employer's handbook or any\n",
      "official documents outlining their stance on marijuana.\n",
      "Search topic: Employer's Policies on Marijuana Use\n",
      "2024-04-06 03:49:19 - INFO - Running vector (OpenAI) search: What are the employer's policies on marijuana use and testing?\n",
      "2024-04-06 03:49:19 - INFO - Running keyword (SPLADE) search: employer's policies, marijuana use, drug testing\n",
      "2024-04-06 03:49:19 - INFO - Returning 10 records from vector search and 10 from keywords\n",
      "2024-04-06 03:49:19 - INFO - ---------------------------------------------------------------------------\n",
      "2024-04-06 03:49:19 - INFO - \n",
      "\n",
      "Thought: To fully understand the legal implications, it's important to know if there have been any relevant\n",
      "court cases where employees were discriminated against for being medical marijuana patients. This\n",
      "will provide insight into how courts have interpreted the laws.\n",
      "Search topic: Relevant Court Cases\n",
      "2024-04-06 03:49:19 - INFO - Running vector (OpenAI) search: What are the relevant court cases involving discrimination against medical marijuana patients in the workplace?\n",
      "2024-04-06 03:49:19 - INFO - Running keyword (SPLADE) search: court cases, discrimination, medical marijuana, workplace\n",
      "2024-04-06 03:49:19 - INFO - Returning 10 records from vector search and 10 from keywords\n",
      "2024-04-06 03:49:19 - INFO - ---------------------------------------------------------------------------\n",
      "2024-04-06 03:49:19 - INFO - \n",
      "\n",
      "Thought: Finally, examining any federal or state protections specifically for medical marijuana patients in\n",
      "the workplace will help determine if there are laws that directly address this issue.\n",
      "Search topic: Protections for Medical Marijuana Patients in the Workplace\n",
      "2024-04-06 03:49:19 - INFO - Running vector (OpenAI) search: What protections exist for medical marijuana patients in the workplace?\n",
      "2024-04-06 03:49:19 - INFO - Running keyword (SPLADE) search: protections, medical marijuana patients, workplace\n",
      "2024-04-06 03:49:19 - INFO - Returning 10 records from vector search and 10 from keywords\n",
      "2024-04-06 03:49:19 - INFO - ---------------------------------------------------------------------------\n"
     ]
    }
   ],
   "source": [
    "vector_results, keyword_results = queries.execute(semantic_search, splade_search)"
   ]
  },
  {
   "cell_type": "code",
   "execution_count": 13,
   "metadata": {},
   "outputs": [],
   "source": [
    "from src.search.doc_joiner import DocJoinerDF\n",
    "from src.embedding_models.models import ColbertReranker\n",
    "from src.search.threadpool import run_functions_tuples_in_parallel"
   ]
  },
  {
   "cell_type": "code",
   "execution_count": 14,
   "metadata": {},
   "outputs": [],
   "source": [
    "USEFUL_PAT = \"Yes useful\"\n",
    "NONUSEFUL_PAT = \"Not useful\"\n",
    "CHUNK_FILTER_PROMPT = f\"\"\"\n",
    "Determine if the reference section is USEFUL for answering the user query.\n",
    "It is good enough for the section to be related or similar to the query, \\\n",
    "it should be similar information that is USEFUL for informing the query.\n",
    "If the section contains ANY useful information, that is good enough, \\\n",
    "it does not need to fully answer the user query, and be a relevant and USEFUL reference.\n",
    "\n",
    "Reference Section:\n",
    "```\n",
    "{{chunk_text}}\n",
    "```\n",
    "\n",
    "User Query:\n",
    "```\n",
    "{{user_query}}\n",
    "```\n",
    "\n",
    "Respond with EXACTLY AND ONLY: \"{USEFUL_PAT}\" or \"{NONUSEFUL_PAT}\"\n",
    "\"\"\".strip()"
   ]
  },
  {
   "cell_type": "code",
   "execution_count": 15,
   "metadata": {},
   "outputs": [],
   "source": [
    "from langchain.schema.messages import AIMessage\n",
    "from langchain.schema.messages import BaseMessage\n",
    "from langchain.schema.messages import HumanMessage\n",
    "from langchain.schema.messages import SystemMessage\n",
    "\n",
    "def dict_based_prompt_to_langchain_prompt(\n",
    "    messages: list[dict[str, str]]\n",
    ") -> list[BaseMessage]:\n",
    "    prompt: list[BaseMessage] = []\n",
    "    for message in messages:\n",
    "        role = message.get(\"role\")\n",
    "        content = message.get(\"content\")\n",
    "        if not role:\n",
    "            raise ValueError(f\"Message missing `role`: {message}\")\n",
    "        if not content:\n",
    "            raise ValueError(f\"Message missing `content`: {message}\")\n",
    "        elif role == \"user\":\n",
    "            prompt.append(HumanMessage(content=content))\n",
    "        elif role == \"system\":\n",
    "            prompt.append(SystemMessage(content=content))\n",
    "        elif role == \"assistant\":\n",
    "            prompt.append(AIMessage(content=content))\n",
    "        else:\n",
    "            raise ValueError(f\"Unknown role: {role}\")\n",
    "    return prompt"
   ]
  },
  {
   "cell_type": "code",
   "execution_count": 16,
   "metadata": {},
   "outputs": [],
   "source": [
    "from typing import Callable\n",
    "from langchain_openai import ChatOpenAI\n",
    "\n",
    "def llm_eval_chunk(query: str, chunk_content: str) -> bool:\n",
    "    def _get_usefulness_messages() -> list[dict[str, str]]:\n",
    "        messages = [\n",
    "            {\n",
    "                \"role\": \"user\",\n",
    "                \"content\": CHUNK_FILTER_PROMPT.format(\n",
    "                    chunk_text=chunk_content, user_query=query\n",
    "                ),\n",
    "            },\n",
    "        ]\n",
    "\n",
    "        return messages\n",
    "\n",
    "    def _extract_usefulness(model_output: str) -> bool:\n",
    "        \"\"\"Default 'useful' if the LLM doesn't match pattern exactly.\n",
    "        This is because it's better to trust the (re)ranking if LLM fails\"\"\"\n",
    "        if model_output.content.strip().strip('\"').lower() == NONUSEFUL_PAT.lower():\n",
    "            return False\n",
    "        return True\n",
    "\n",
    "    llm = ChatOpenAI(model='gpt-3.5-turbo')\n",
    "\n",
    "    messages = _get_usefulness_messages()\n",
    "    filled_llm_prompt = dict_based_prompt_to_langchain_prompt(messages)\n",
    "    model_output = llm.invoke(filled_llm_prompt)\n",
    "\n",
    "    return _extract_usefulness(model_output)\n",
    "\n",
    "\n",
    "def llm_batch_eval_chunks(\n",
    "    query: str, chunk_contents: list[str], use_threads: bool = True\n",
    ") -> list[bool]:\n",
    "    if use_threads:\n",
    "        functions_with_args: list[tuple[Callable, tuple]] = [\n",
    "            (llm_eval_chunk, (query, chunk_content)) for chunk_content in chunk_contents\n",
    "        ]\n",
    "\n",
    "        print(\n",
    "            \"Running LLM usefulness eval in parallel (following logging may be out of order)\"\n",
    "        )\n",
    "        parallel_results = run_functions_tuples_in_parallel(\n",
    "            functions_with_args, allow_failures=True\n",
    "        )\n",
    "\n",
    "        # In case of failure/timeout, don't throw out the chunk\n",
    "        return [True if item is None else item for item in parallel_results]\n",
    "\n",
    "    else:\n",
    "        return [\n",
    "            llm_eval_chunk(query, chunk_content) for chunk_content in chunk_contents\n",
    "        ]"
   ]
  },
  {
   "cell_type": "code",
   "execution_count": 17,
   "metadata": {},
   "outputs": [],
   "source": [
    "from llama_index_client import TextNode\n",
    "from pydantic import BaseModel\n",
    "from src.search.models import dataframe_to_text_nodes\n",
    "\n",
    "def filter_chunks(\n",
    "    query: str,\n",
    "    chunks_to_filter: list[BaseModel],\n",
    "    max_llm_filter_chunks: int = 20,\n",
    ") -> list[BaseModel]:\n",
    "    \"\"\"Filters chunks based on whether the LLM thought they were relevant to the query.\n",
    "\n",
    "    Args:\n",
    "        query (str): The query to filter chunks against.\n",
    "        chunks_to_filter (list[TextNode]): A list of TextNode objects to filter.\n",
    "        max_llm_filter_chunks (int, optional): The maximum number of chunks to consider. Defaults to 20.\n",
    "\n",
    "    Returns:\n",
    "        list[TextNode]: A list of TextNode objects that were marked as relevant.\n",
    "    \"\"\"\n",
    "    chunks_to_filter = chunks_to_filter[: max_llm_filter_chunks]\n",
    "    llm_chunk_selection = llm_batch_eval_chunks(\n",
    "        query=query,\n",
    "        chunk_contents=[chunk.content for chunk in chunks_to_filter],\n",
    "    )\n",
    "    return [\n",
    "        chunk\n",
    "        for ind, chunk in enumerate(chunks_to_filter)\n",
    "        if llm_chunk_selection[ind]\n",
    "    ]"
   ]
  },
  {
   "cell_type": "code",
   "execution_count": 18,
   "metadata": {},
   "outputs": [],
   "source": [
    "from src.types import Document\n",
    "from src.utils.pydantic_utils import dataframe_to_documents, dataframe_to_pydantic_objects"
   ]
  },
  {
   "cell_type": "code",
   "execution_count": 19,
   "metadata": {},
   "outputs": [],
   "source": [
    "docs = dataframe_to_documents(vector_results[0], content='body', embedding='embeddings')"
   ]
  },
  {
   "cell_type": "code",
   "execution_count": 20,
   "metadata": {},
   "outputs": [
    {
     "ename": "AssertionError",
     "evalue": "",
     "output_type": "error",
     "traceback": [
      "\u001b[1;31m---------------------------------------------------------------------------\u001b[0m",
      "\u001b[1;31mAssertionError\u001b[0m                            Traceback (most recent call last)",
      "Cell \u001b[1;32mIn[20], line 1\u001b[0m\n\u001b[1;32m----> 1\u001b[0m \u001b[38;5;28;01massert\u001b[39;00m \u001b[38;5;241m1\u001b[39m\u001b[38;5;241m+\u001b[39m\u001b[38;5;241m1\u001b[39m\u001b[38;5;241m==\u001b[39m\u001b[38;5;241m3\u001b[39m\n",
      "\u001b[1;31mAssertionError\u001b[0m: "
     ]
    }
   ],
   "source": [
    "assert 1+1==3"
   ]
  },
  {
   "cell_type": "code",
   "execution_count": 21,
   "metadata": {},
   "outputs": [
    {
     "data": {
      "text/plain": [
       "[DynamicDocument:\n",
       " content: 'I work a federal job. Certain positions at my work get drug tested because\n",
       " of their duties. To my knowledge, my position does not get tested. It's\n",
       " possible for anyone to get tested but it looks like they just don't test\n",
       " mine. I use CBD/hemp, which is legal in my state but not federally. I know\n",
       " I'm t'..., \n",
       " metadata: {\n",
       "     \"source\": \"context\"\n",
       " }, score: 0.8717314600944519,\n",
       " DynamicDocument:\n",
       " content: 'I have my medical marijuana card because mj lets me eat, not feel like my\n",
       " body is coming apart at it's joints, feel like life is not so hopeless, and\n",
       " sleep soundly, but I've been looking for new jobs and I'm unsure about drug\n",
       " testing.   I've looked it up and know its a state-to-state thing, but I'm'..., \n",
       " metadata: {\n",
       "     \"source\": \"context\"\n",
       " }, score: 0.8560442924499512,\n",
       " DynamicDocument:\n",
       " content: 'I'm a New York State medical marijuana patient. I also work in healthcare.\n",
       " I applied to a new job at a new hospital, and they are discriminating\n",
       " against me for being a medical marijuana patient. I was offered the job and\n",
       " accepted, but when I went to get my pre-employment physical conducted, I\n",
       " gave t'..., \n",
       " metadata: {\n",
       "     \"source\": \"context\"\n",
       " }, score: 0.8560085892677307,\n",
       " DynamicDocument:\n",
       " content: 'Hello,  I was considering getting a medical marijuana card for my back\n",
       " pain. I've dealt with this chronically for years and it's one of the few\n",
       " things that really help.  The problem is my company has a zero tolerance\n",
       " drug policy. The majority  of our employees are DOT regulated drivers so of\n",
       " course'..., \n",
       " metadata: {\n",
       "     \"source\": \"context\"\n",
       " }, score: 0.8411564826965332,\n",
       " DynamicDocument:\n",
       " content: 'Throwaway account for obvious reasons, I just graduated (BS biology) and\n",
       " got back from vacation in Colorado where I smoked weed. I live in Missouri\n",
       " and I'm seeking employment in Kansas. The day i returned I was offered a\n",
       " job through a staffing company and have a drug screening on the 15th, I am\n",
       " almo'..., \n",
       " metadata: {\n",
       "     \"source\": \"context\"\n",
       " }, score: 0.8374256491661072,\n",
       " DynamicDocument:\n",
       " content: 'This is in Iowa. My employer recently initiated a random drug testing\n",
       " program. This is not good news for me as I am an occasional recreational\n",
       " user of marijuana. I began researching my rights as far as the drug testing\n",
       " and came across Iowa Code 730.5. It says that employees have the right to\n",
       " testing'..., \n",
       " metadata: {\n",
       "     \"source\": \"context\"\n",
       " }, score: 0.8237423896789551,\n",
       " DynamicDocument:\n",
       " content: 'I recently started working at a small manufacturing company in Los Angeles\n",
       " working as an e-commerce specialist. My boss told me that there would be\n",
       " random drug testing for employees. I’ve been looking up the legality of\n",
       " random drug tests in California and to my best understanding random drug\n",
       " tests a'..., \n",
       " metadata: {\n",
       "     \"source\": \"context\"\n",
       " }, score: 0.8230921030044556,\n",
       " DynamicDocument:\n",
       " content: 'So to start: I’m not the employee that would be breathalyzed if it’s legal\n",
       " but I’m curious.   I work for a small company ~30 people. We are half\n",
       " office/production warehouse. Some of the team has been drinking either\n",
       " during and or before work. Mostly office employees but some production\n",
       " staff (they w'..., \n",
       " metadata: {\n",
       "     \"source\": \"context\"\n",
       " }, score: 0.8216345310211182,\n",
       " DynamicDocument:\n",
       " content: 'I already asked this question but I feel I need to clarify. I'm a 23 year\n",
       " old Michigan resident and we have legalized recreational marijuana as of\n",
       " December 1st. I also have my concealed pistol license. Am I legally allowed\n",
       " to go to one of the dispensaries and buy recreational marijuana and still\n",
       " ret'..., \n",
       " metadata: {\n",
       "     \"source\": \"context\"\n",
       " }, score: 0.8108618259429932,\n",
       " DynamicDocument:\n",
       " content: 'I don't want to spout off about what's right and wrong, but I do want to\n",
       " ask if there is anything dubious in a legal sense about this practice? I\n",
       " can see the arguments for both sides, but I don't know enough about federal\n",
       " and state Labor laws'..., \n",
       " metadata: {\n",
       "     \"source\": \"context\"\n",
       " }, score: 0.810314416885376]"
      ]
     },
     "execution_count": 21,
     "metadata": {},
     "output_type": "execute_result"
    }
   ],
   "source": [
    "docs"
   ]
  },
  {
   "cell_type": "code",
   "execution_count": 22,
   "metadata": {},
   "outputs": [
    {
     "name": "stdout",
     "output_type": "stream",
     "text": [
      "Running LLM usefulness eval in parallel (following logging may be out of order)\n",
      "\n",
      "Returned 3 nodes\n",
      "\n",
      "Is it legal for my employer to discriminating against me for being a medical marijuana patient?\n",
      "\n",
      "\n",
      "I have my medical marijuana card because mj lets me eat, not feel like my\n",
      "body is coming apart at it's joints, feel like life is not so hopeless, and\n",
      "sleep soundly, but I've been looking for new jobs and I'm unsure about drug\n",
      "testing.   I've looked it up and know its a state-to-state thing, but I'm\n",
      "{\n",
      "    \"source\": \"context\"\n",
      "}\n",
      "--------------------------------------------------\n",
      "I'm a New York State medical marijuana patient. I also work in healthcare.\n",
      "I applied to a new job at a new hospital, and they are discriminating\n",
      "against me for being a medical marijuana patient. I was offered the job and\n",
      "accepted, but when I went to get my pre-employment physical conducted, I\n",
      "gave t\n",
      "{\n",
      "    \"source\": \"context\"\n",
      "}\n",
      "--------------------------------------------------\n",
      "Hello,  I was considering getting a medical marijuana card for my back\n",
      "pain. I've dealt with this chronically for years and it's one of the few\n",
      "things that really help.  The problem is my company has a zero tolerance\n",
      "drug policy. The majority  of our employees are DOT regulated drivers so of\n",
      "course\n",
      "{\n",
      "    \"source\": \"context\"\n",
      "}\n",
      "--------------------------------------------------\n"
     ]
    }
   ],
   "source": [
    "filtered_chunks = filter_chunks(test_query, docs)\n",
    "print(f\"\\nReturned {len(filtered_chunks)} nodes\")\n",
    "print(f\"{test_query}\\n\")\n",
    "for content in filtered_chunks:\n",
    "    print(content)\n",
    "    print(\"-\" * 50)"
   ]
  },
  {
   "cell_type": "code",
   "execution_count": 23,
   "metadata": {},
   "outputs": [
    {
     "name": "stdout",
     "output_type": "stream",
     "text": [
      "I have my medical marijuana card because mj lets me eat, not feel like my\n",
      "body is coming apart at it's joints, feel like life is not so hopeless, and\n",
      "sleep soundly, but I've been looking for new jobs and I'm unsure about drug\n",
      "testing.   I've looked it up and know its a state-to-state thing, but I'm\n",
      "{\n",
      "    \"source\": \"context\"\n",
      "}\n"
     ]
    }
   ],
   "source": [
    "print(filtered_chunks[0])"
   ]
  },
  {
   "cell_type": "code",
   "execution_count": null,
   "metadata": {},
   "outputs": [],
   "source": [
    "cols = df.columns.tolist()\n",
    "cols.remove('embeddings')\n",
    "\n",
    "i = 0\n",
    "\n",
    "query = queries.searches[i].sub_question_keywords\n",
    "nodes = dataframe_to_text_nodes(\n",
    "    keyword_results[i],\n",
    "    id_column='index', \n",
    "    text_col='body', \n",
    "    metadata_fields=cols\n",
    ")"
   ]
  },
  {
   "cell_type": "code",
   "execution_count": null,
   "metadata": {},
   "outputs": [
    {
     "data": {
      "text/html": [
       "<div>\n",
       "<style scoped>\n",
       "    .dataframe tbody tr th:only-of-type {\n",
       "        vertical-align: middle;\n",
       "    }\n",
       "\n",
       "    .dataframe tbody tr th {\n",
       "        vertical-align: top;\n",
       "    }\n",
       "\n",
       "    .dataframe thead th {\n",
       "        text-align: right;\n",
       "    }\n",
       "</style>\n",
       "<table border=\"1\" class=\"dataframe\">\n",
       "  <thead>\n",
       "    <tr style=\"text-align: right;\">\n",
       "      <th></th>\n",
       "      <th>text</th>\n",
       "      <th>index</th>\n",
       "      <th>created_utc</th>\n",
       "      <th>full_link</th>\n",
       "      <th>id</th>\n",
       "      <th>body</th>\n",
       "      <th>title</th>\n",
       "      <th>text_label</th>\n",
       "      <th>flair_label</th>\n",
       "      <th>token_count</th>\n",
       "      <th>llm_title</th>\n",
       "      <th>state</th>\n",
       "      <th>kmeans_label</th>\n",
       "      <th>topic_title</th>\n",
       "      <th>splade_embeddings</th>\n",
       "    </tr>\n",
       "  </thead>\n",
       "  <tbody>\n",
       "    <tr>\n",
       "      <th>0</th>\n",
       "      <td>I'm a New York State medical marijuana patient...</td>\n",
       "      <td>8075</td>\n",
       "      <td>1590524169</td>\n",
       "      <td>https://www.reddit.com/r/legaladvice/comments/...</td>\n",
       "      <td>gr4q8s</td>\n",
       "      <td>I'm a New York State medical marijuana patient...</td>\n",
       "      <td>Is it legal in New York to discriminate agains...</td>\n",
       "      <td>employment</td>\n",
       "      <td>5</td>\n",
       "      <td>114</td>\n",
       "      <td>\"Can a hospital refuse to hire a medical marij...</td>\n",
       "      <td>MI</td>\n",
       "      <td>8</td>\n",
       "      <td>Employment Legal Concerns and Issues</td>\n",
       "      <td>[0.0, 0.0, 0.0, 0.0, 0.0, 0.0, 0.0, 0.0, 0.0, ...</td>\n",
       "    </tr>\n",
       "  </tbody>\n",
       "</table>\n",
       "</div>"
      ],
      "text/plain": [
       "                                                text  index  created_utc  \\\n",
       "0  I'm a New York State medical marijuana patient...   8075   1590524169   \n",
       "\n",
       "                                           full_link      id  \\\n",
       "0  https://www.reddit.com/r/legaladvice/comments/...  gr4q8s   \n",
       "\n",
       "                                                body  \\\n",
       "0  I'm a New York State medical marijuana patient...   \n",
       "\n",
       "                                               title  text_label  flair_label  \\\n",
       "0  Is it legal in New York to discriminate agains...  employment            5   \n",
       "\n",
       "   token_count                                          llm_title state  \\\n",
       "0          114  \"Can a hospital refuse to hire a medical marij...    MI   \n",
       "\n",
       "   kmeans_label                           topic_title  \\\n",
       "0             8  Employment Legal Concerns and Issues   \n",
       "\n",
       "                                   splade_embeddings  \n",
       "0  [0.0, 0.0, 0.0, 0.0, 0.0, 0.0, 0.0, 0.0, 0.0, ...  "
      ]
     },
     "execution_count": 14,
     "metadata": {},
     "output_type": "execute_result"
    }
   ],
   "source": [
    "from src.search.models import text_nodes_to_dataframe\n",
    "\n",
    "node_df = text_nodes_to_dataframe(nodes)\n",
    "node_df.head(1)"
   ]
  },
  {
   "cell_type": "code",
   "execution_count": null,
   "metadata": {},
   "outputs": [
    {
     "name": "stdout",
     "output_type": "stream",
     "text": [
      "Running LLM usefulness eval in parallel (following logging may be out of order)\n",
      "\n",
      "Returned 0 nodes\n",
      "['medical marijuana', 'legal status', 'state laws']\n",
      "\n"
     ]
    }
   ],
   "source": [
    "filtered_chunks = filter_chunks(test_query, nodes)\n",
    "print(f\"\\nReturned {len(filtered_chunks)} nodes\")\n",
    "print(f\"{query}\\n\")\n",
    "for obj in filtered_chunks:\n",
    "    print(obj)\n",
    "    print(\"-\" * 50)\n"
   ]
  },
  {
   "cell_type": "code",
   "execution_count": 24,
   "metadata": {},
   "outputs": [],
   "source": [
    "df_merger = DocJoinerDF(join_mode=\"merge\", top_k=20)"
   ]
  },
  {
   "cell_type": "code",
   "execution_count": 25,
   "metadata": {},
   "outputs": [
    {
     "data": {
      "text/plain": [
       "((18, 18), (20, 18))"
      ]
     },
     "execution_count": 25,
     "metadata": {},
     "output_type": "execute_result"
    }
   ],
   "source": [
    "vector_res = df_merger.run(vector_results, text_column='body')\n",
    "keyword_res = df_merger.run(keyword_results, text_column='title')\n",
    "vector_res.shape, keyword_res.shape"
   ]
  },
  {
   "cell_type": "code",
   "execution_count": 26,
   "metadata": {},
   "outputs": [],
   "source": [
    "reranker = ColbertReranker(column='body')"
   ]
  },
  {
   "cell_type": "code",
   "execution_count": 27,
   "metadata": {},
   "outputs": [],
   "source": [
    "vec_res = vector_res.drop(columns=['embeddings', 'splade_embeddings'])\n",
    "kw_res = keyword_res.drop(columns=['embeddings', 'splade_embeddings'])"
   ]
  },
  {
   "cell_type": "code",
   "execution_count": 28,
   "metadata": {},
   "outputs": [],
   "source": [
    "hybrid_results = reranker.rerank_hybrid(test_query, vec_res, kw_res)"
   ]
  },
  {
   "cell_type": "code",
   "execution_count": 29,
   "metadata": {},
   "outputs": [],
   "source": [
    "hybrid_results.drop_duplicates(subset=['body'], keep='last', inplace=True)"
   ]
  },
  {
   "cell_type": "code",
   "execution_count": 30,
   "metadata": {},
   "outputs": [
    {
     "data": {
      "text/plain": [
       "(27, 16)"
      ]
     },
     "execution_count": 30,
     "metadata": {},
     "output_type": "execute_result"
    }
   ],
   "source": [
    "hybrid_results.shape"
   ]
  },
  {
   "cell_type": "code",
   "execution_count": 31,
   "metadata": {},
   "outputs": [
    {
     "data": {
      "text/markdown": [
       "I'm a New York State medical marijuana patient. I also work in healthcare. I applied to a new job at a new hospital, and they are discriminating against me for being a medical marijuana patient. I was offered the job and accepted, but when I went to get my pre-employment physical conducted, I gave them my medical marijuana card and informed them that I am a patient. They are now refusing to hire me. Is this legal? I already contacted the division of human rights at the labor department and they said I may or may not have a case.\n",
       "\n",
       "---\n",
       "\n",
       "Hello,\n",
       "\n",
       "I was considering getting a medical marijuana card for my back pain. I've dealt with this chronically for years and it's one of the few things that really help.\n",
       "\n",
       "The problem is my company has a zero tolerance drug policy. The majority  of our employees are DOT regulated drivers so of course they are not able to able to smoke marijuana even if they have a medical card, this makes sense to me.\n",
       "\n",
       "As for the rest of us, even us office folk, we are all still subject to randoms.  Basically the logic is that everyone is considered to be in a \"safety sensitive\" position because we can drive on company time or drive a company vehicle. We have a memo in our drug and alcohol handbook to \"all employees\" stating that just because some states have legalized marijuana, does not mean we can disregard company policy. It does NOT say anything about medical cards.\n",
       "\n",
       "I live in Arizona where medical marijuana is legal. Is my company able to trump me having a medical card because of their policy?  If I had a random and told the tester  I had a medical card, would it violate HIPAA for the MRO to inform my boss that I tested positive and have a medical card? What can I do? \n",
       "\n",
       "I feel really defeated by my pain and I just wish I could do the one thing that helps me.\n",
       "\n",
       "Thank you.\n",
       "\n",
       "---\n",
       "\n",
       "This is in Iowa. My employer recently initiated a random drug testing program. This is not good news for me as I am an occasional recreational user of marijuana. I began researching my rights as far as the drug testing and came across Iowa Code 730.5. It says that employees have the right to testing done with \"regard to the privacy of the employee.\" \n",
       "\n",
       "My question is, what does this \"regard to the privacy of the employee\" mean? Are they allowed to watch me urinate while taking the test? In a previous round of drug tests they did, my co-worker told me that a police officer and one of the employees of the company doing the testing were in the bathroom while they were told to urinate. Is this legal in the state of Iowa? \n",
       "\n",
       "Any insight appreciated, thanks \n",
       "\n",
       "EDIT: I just found out that the guy watching was a  \"former\" police officer who now works at the drug testing place. Not an actual police officer. Sorry for confusion. \n",
       "\n",
       "---\n",
       "\n",
       "I have my medical marijuana card because mj lets me eat, not feel like my body is coming apart at it's joints, feel like life is not so hopeless, and sleep soundly, but I've been looking for new jobs and I'm unsure about drug testing. \n",
       "\n",
       "I've looked it up and know its a state-to-state thing, but I'm still a little iffy about Pennsylvania and how weirdly 50/50 it seems to be with medical marijuana. I don't smoke before or during work and never intend to do so. However I'm unsure about the legality of workers compensation and drug testing during a hire situation if I happen to fail the test. \n",
       "\n",
       "Will I get fired or fined from work and would the employer looking to hire me have grounds to dismiss me?\n",
       "\n",
       "Also, this is my first time on this sub so I hope this isn't an annoying question or something.\n",
       "\n",
       "---\n",
       "\n",
       "I recently started working at a small manufacturing company in Los Angeles working as an e-commerce specialist. My boss told me that there would be random drug testing for employees. I’ve been looking up the legality of random drug tests in California and to my best understanding random drug tests are only allowed for employees who work more dangerous jobs, and I do not qualify under that standard. Would a random drug test for me be legal? \n",
       "\n",
       "Also, if I were to refuse to take the random drug test could I be fired?"
      ],
      "text/plain": [
       "<IPython.core.display.Markdown object>"
      ]
     },
     "metadata": {},
     "output_type": "display_data"
    }
   ],
   "source": [
    "from IPython.display import Markdown\n",
    "\n",
    "# Convert the 'body' column of the first 5 rows into a Markdown formatted string\n",
    "markdown_text = '\\n\\n---\\n\\n'.join(hybrid_results.head()['body'].tolist())\n",
    "display(Markdown(markdown_text))"
   ]
  },
  {
   "cell_type": "code",
   "execution_count": 32,
   "metadata": {},
   "outputs": [
    {
     "data": {
      "text/plain": [
       "search_type\n",
       "vector    14\n",
       "splade    13\n",
       "Name: count, dtype: int64"
      ]
     },
     "execution_count": 32,
     "metadata": {},
     "output_type": "execute_result"
    }
   ],
   "source": [
    "hybrid_results['search_type'].value_counts()"
   ]
  },
  {
   "cell_type": "code",
   "execution_count": 33,
   "metadata": {},
   "outputs": [
    {
     "name": "stderr",
     "output_type": "stream",
     "text": [
      "Processing summaries:   0%|          | 0/27 [00:00<?, ?it/s]"
     ]
    },
    {
     "name": "stderr",
     "output_type": "stream",
     "text": [
      "Processing summaries: 100%|██████████| 27/27 [00:07<00:00,  3.79it/s]\n"
     ]
    }
   ],
   "source": [
    "from src.agent.tools.utils import aget_fact_patterns_df\n",
    "import nest_asyncio\n",
    "nest_asyncio.apply()\n",
    "\n",
    "prep_df = await aget_fact_patterns_df(hybrid_results, 'body', \"id\")"
   ]
  },
  {
   "cell_type": "code",
   "execution_count": 34,
   "metadata": {},
   "outputs": [
    {
     "data": {
      "text/html": [
       "<div>\n",
       "<style scoped>\n",
       "    .dataframe tbody tr th:only-of-type {\n",
       "        vertical-align: middle;\n",
       "    }\n",
       "\n",
       "    .dataframe tbody tr th {\n",
       "        vertical-align: top;\n",
       "    }\n",
       "\n",
       "    .dataframe thead th {\n",
       "        text-align: right;\n",
       "    }\n",
       "</style>\n",
       "<table border=\"1\" class=\"dataframe\">\n",
       "  <thead>\n",
       "    <tr style=\"text-align: right;\">\n",
       "      <th></th>\n",
       "      <th>index</th>\n",
       "      <th>created_utc</th>\n",
       "      <th>full_link</th>\n",
       "      <th>id</th>\n",
       "      <th>body</th>\n",
       "      <th>title</th>\n",
       "      <th>text_label</th>\n",
       "      <th>flair_label</th>\n",
       "      <th>token_count</th>\n",
       "      <th>llm_title</th>\n",
       "      <th>state</th>\n",
       "      <th>kmeans_label</th>\n",
       "      <th>topic_title</th>\n",
       "      <th>clean_text</th>\n",
       "      <th>search_type</th>\n",
       "      <th>_relevance_score</th>\n",
       "      <th>summary</th>\n",
       "    </tr>\n",
       "  </thead>\n",
       "  <tbody>\n",
       "    <tr>\n",
       "      <th>0</th>\n",
       "      <td>8075</td>\n",
       "      <td>1590524169</td>\n",
       "      <td>https://www.reddit.com/r/legaladvice/comments/...</td>\n",
       "      <td>36598d2ca979f02397b530a5c36d7a2a</td>\n",
       "      <td>I'm a New York State medical marijuana patient...</td>\n",
       "      <td>Is it legal in New York to discriminate agains...</td>\n",
       "      <td>employment</td>\n",
       "      <td>5</td>\n",
       "      <td>114</td>\n",
       "      <td>\"Can a hospital refuse to hire a medical marij...</td>\n",
       "      <td>MI</td>\n",
       "      <td>8</td>\n",
       "      <td>Employment Legal Concerns and Issues</td>\n",
       "      <td>new york state medical marijuana patient also ...</td>\n",
       "      <td>splade</td>\n",
       "      <td>0.821348</td>\n",
       "      <td>A New York State medical marijuana patient, wh...</td>\n",
       "    </tr>\n",
       "    <tr>\n",
       "      <th>1</th>\n",
       "      <td>7331</td>\n",
       "      <td>1576018396</td>\n",
       "      <td>https://www.reddit.com/r/legaladvice/comments/...</td>\n",
       "      <td>b20c68f342dceb310b1c8190753aa3af</td>\n",
       "      <td>Hello,\\n\\nI was considering getting a medical ...</td>\n",
       "      <td>Considering getting a medical marijuana card- ...</td>\n",
       "      <td>employment</td>\n",
       "      <td>5</td>\n",
       "      <td>276</td>\n",
       "      <td>\"Legal implications of company drug policies a...</td>\n",
       "      <td>PA</td>\n",
       "      <td>8</td>\n",
       "      <td>Employment Legal Concerns and Issues</td>\n",
       "      <td>hello considering getting medical marijuana ca...</td>\n",
       "      <td>vector</td>\n",
       "      <td>0.669316</td>\n",
       "      <td>An individual considering obtaining a medical ...</td>\n",
       "    </tr>\n",
       "  </tbody>\n",
       "</table>\n",
       "</div>"
      ],
      "text/plain": [
       "   index  created_utc                                          full_link  \\\n",
       "0   8075   1590524169  https://www.reddit.com/r/legaladvice/comments/...   \n",
       "1   7331   1576018396  https://www.reddit.com/r/legaladvice/comments/...   \n",
       "\n",
       "                                 id  \\\n",
       "0  36598d2ca979f02397b530a5c36d7a2a   \n",
       "1  b20c68f342dceb310b1c8190753aa3af   \n",
       "\n",
       "                                                body  \\\n",
       "0  I'm a New York State medical marijuana patient...   \n",
       "1  Hello,\\n\\nI was considering getting a medical ...   \n",
       "\n",
       "                                               title  text_label  flair_label  \\\n",
       "0  Is it legal in New York to discriminate agains...  employment            5   \n",
       "1  Considering getting a medical marijuana card- ...  employment            5   \n",
       "\n",
       "   token_count                                          llm_title state  \\\n",
       "0          114  \"Can a hospital refuse to hire a medical marij...    MI   \n",
       "1          276  \"Legal implications of company drug policies a...    PA   \n",
       "\n",
       "   kmeans_label                           topic_title  \\\n",
       "0             8  Employment Legal Concerns and Issues   \n",
       "1             8  Employment Legal Concerns and Issues   \n",
       "\n",
       "                                          clean_text search_type  \\\n",
       "0  new york state medical marijuana patient also ...      splade   \n",
       "1  hello considering getting medical marijuana ca...      vector   \n",
       "\n",
       "   _relevance_score                                            summary  \n",
       "0          0.821348  A New York State medical marijuana patient, wh...  \n",
       "1          0.669316  An individual considering obtaining a medical ...  "
      ]
     },
     "execution_count": 34,
     "metadata": {},
     "output_type": "execute_result"
    }
   ],
   "source": [
    "prep_df.head(2)"
   ]
  },
  {
   "cell_type": "code",
   "execution_count": 35,
   "metadata": {},
   "outputs": [],
   "source": [
    "from src.agent.tools.utils import create_formatted_input, get_final_answer\n",
    "\n",
    "formatted_input = create_formatted_input(\n",
    "    prep_df, test_query, context_token_limit=8000\n",
    "    )\n",
    "\n",
    "response_model = get_final_answer(formatted_input, model_name=\"gpt-4-turbo-preview\")"
   ]
  },
  {
   "cell_type": "code",
   "execution_count": 36,
   "metadata": {},
   "outputs": [
    {
     "data": {
      "text/markdown": [
       "The query raises the issue of employment-related discrimination based on an individual's status as a medical marijuana patient. This concern intersects with several laws and regulations, including but not limited to, employment discrimination laws, medical marijuana laws at the state level, and policies regarding drug testing in the workplace. \n",
       "\n",
       "The most directly relevant case is the first search result. This individual was offered a job in New York, which was later rescinded upon disclosure of their medical marijuana patient status during a pre-employment physical. They reached out to the division of human rights at the labor department for guidance, indicating a potential legal issue surrounding employment discrimination based on medical marijuana use [[1](https://www.reddit.com/r/legaladvice/comments/gr4q8s/is_it_legal_in_new_york_to_discriminate_against/)].\n",
       "\n",
       "Another pertinent case comes from Arizona, where an individual debated the ramifications of obtaining a medical marijuana card on their employment due to their company's zero-tolerance drug policy [[2](https://www.reddit.com/r/legaladvice/comments/e8y7gr/considering_getting_a_medical_marijuana_card/)]. This scenario mirrors the query by highlighting the tension between state-legalized medical marijuana and employer drug policies. \n",
       "\n",
       "The situation described in Pennsylvania also sheds light on this issue. The individual, a medical marijuana cardholder, expressed concerns about drug testing during the hiring process and potential repercussions upon failing the test due to their legitimate medical use of marijuana [[4](https://www.reddit.com/r/legaladvice/comments/gnrqby/if_i_have_a_medical_marijuana_card_can_i_be_fired/)].\n",
       "\n",
       "Finally, the scenario in New Jersey presents a scenario where prescribed medication (though not specifically marijuana) constituted grounds for a job offer being rescinded, which parallels concerns about discrimination based on medical treatments or prescriptions [[6](https://www.reddit.com/r/legaladvice/comments/gnpjof/nj_i_was_denied_a_job_due_to_being_prescribed/)].\n",
       "\n",
       "These cases collectively illustrate the complexity of navigating employment and medical marijuana use. They suggest a delicate balance between complying with state laws that permit medical marijuana and adhering to employer drug policies that may not differentiate between recreational and medical use. The legal landscape around this issue appears to be evolving, and the specifics may vary significantly depending on jurisdiction, making it imperative to consider local laws and regulations alongside federal standards when assessing legality."
      ],
      "text/plain": [
       "<IPython.core.display.Markdown object>"
      ]
     },
     "execution_count": 36,
     "metadata": {},
     "output_type": "execute_result"
    }
   ],
   "source": [
    "Markdown(response_model.research_report)"
   ]
  },
  {
   "cell_type": "code",
   "execution_count": null,
   "metadata": {},
   "outputs": [
    {
     "ename": "AssertionError",
     "evalue": "",
     "output_type": "error",
     "traceback": [
      "\u001b[1;31m---------------------------------------------------------------------------\u001b[0m",
      "\u001b[1;31mAssertionError\u001b[0m                            Traceback (most recent call last)",
      "Cell \u001b[1;32mIn[29], line 1\u001b[0m\n\u001b[1;32m----> 1\u001b[0m \u001b[38;5;28;01massert\u001b[39;00m \u001b[38;5;241m1\u001b[39m \u001b[38;5;241m+\u001b[39m \u001b[38;5;241m1\u001b[39m \u001b[38;5;241m==\u001b[39m \u001b[38;5;241m3\u001b[39m\n",
      "\u001b[1;31mAssertionError\u001b[0m: "
     ]
    }
   ],
   "source": [
    "assert 1 + 1 == 3"
   ]
  },
  {
   "cell_type": "code",
   "execution_count": null,
   "metadata": {},
   "outputs": [
    {
     "data": {
      "text/plain": [
       "['Should I just pay the rent and wait for my refund?',\n",
       " 'If the post office shows that my original money order was cashed, am I out that money?',\n",
       " 'What can I do about a landlord who is slow to make repairs?',\n",
       " 'Is it legal for my landlord to enter my apartment without permission?',\n",
       " 'Can a landlord raise rent in response to making repairs?',\n",
       " 'How do I handle disruptive neighbors?',\n",
       " 'What should I do if I suspect my landlord of stealing from me?',\n",
       " 'What are my rights as a tenant in Missouri?',\n",
       " 'Is it legal to use pliers to turn on water in lieu of a broken knob?',\n",
       " \"What actions can I take if I've been treated unfairly by my landlord?\"]"
      ]
     },
     "execution_count": 34,
     "metadata": {},
     "output_type": "execute_result"
    }
   ],
   "source": [
    "from src.search.query_expansion import generate_subquestions\n",
    "\n",
    "questions = generate_subquestions(test_query, n='any number of')\n",
    "questions.questions"
   ]
  },
  {
   "cell_type": "code",
   "execution_count": null,
   "metadata": {},
   "outputs": [
    {
     "data": {
      "text/plain": [
       "CompletionUsage(completion_tokens=147, prompt_tokens=1130, total_tokens=1277)"
      ]
     },
     "execution_count": 35,
     "metadata": {},
     "output_type": "execute_result"
    }
   ],
   "source": [
    "questions._raw_response.usage"
   ]
  },
  {
   "cell_type": "code",
   "execution_count": null,
   "metadata": {},
   "outputs": [],
   "source": [
    "from src.search.query_filter import generate_query_plan, auto_filter_fts_search"
   ]
  },
  {
   "cell_type": "code",
   "execution_count": null,
   "metadata": {},
   "outputs": [
    {
     "name": "stderr",
     "output_type": "stream",
     "text": [
      "\u001b[32m2024-03-19 21:42:45 - INFO - Schema shown to LLM: \n",
      "Name of each field, its type and unique values (up to 20):\n",
      "* state (string);  Values - ['NM' 'IN' 'WY' 'NH' 'MP' 'PA' 'MH' 'ID' 'AR' 'MA' 'KS' 'AS' 'ND' 'PR'\n",
      " 'DE' 'FL' 'LA' 'OR' 'VT' 'PW'], ... 39 more\n",
      "        \u001b[0m\n"
     ]
    },
    {
     "name": "stderr",
     "output_type": "stream",
     "text": [
      "\u001b[32m2024-03-19 21:42:55 - INFO - Input DataFrame has 5,000 rows\u001b[0m\n",
      "\u001b[32m2024-03-19 21:42:55 - INFO - Applying filter(s): state LIKE '%OR%'\u001b[0m\n",
      "\u001b[32m2024-03-19 21:43:03 - INFO - Filtered DataFrame has 86 rows\u001b[0m\n"
     ]
    }
   ],
   "source": [
    "query_plan = generate_query_plan(\n",
    "    input_df=df,\n",
    "    query=test_query,\n",
    "    filter_fields=[\n",
    "        'state',\n",
    "    ]\n",
    ")\n",
    "filtered_df = query_plan.filter_df(df=df)"
   ]
  },
  {
   "cell_type": "code",
   "execution_count": null,
   "metadata": {},
   "outputs": [
    {
     "data": {
      "text/html": [
       "<div>\n",
       "<style scoped>\n",
       "    .dataframe tbody tr th:only-of-type {\n",
       "        vertical-align: middle;\n",
       "    }\n",
       "\n",
       "    .dataframe tbody tr th {\n",
       "        vertical-align: top;\n",
       "    }\n",
       "\n",
       "    .dataframe thead th {\n",
       "        text-align: right;\n",
       "    }\n",
       "</style>\n",
       "<table border=\"1\" class=\"dataframe\">\n",
       "  <thead>\n",
       "    <tr style=\"text-align: right;\">\n",
       "      <th></th>\n",
       "      <th>index</th>\n",
       "      <th>created_utc</th>\n",
       "      <th>full_link</th>\n",
       "      <th>id</th>\n",
       "      <th>body</th>\n",
       "      <th>title</th>\n",
       "      <th>text_label</th>\n",
       "      <th>flair_label</th>\n",
       "      <th>embeddings</th>\n",
       "      <th>token_count</th>\n",
       "      <th>llm_title</th>\n",
       "      <th>state</th>\n",
       "      <th>kmeans_label</th>\n",
       "      <th>topic_title</th>\n",
       "      <th>splade_embeddings</th>\n",
       "    </tr>\n",
       "  </thead>\n",
       "  <tbody>\n",
       "    <tr>\n",
       "      <th>0</th>\n",
       "      <td>2029</td>\n",
       "      <td>1578267399</td>\n",
       "      <td>https://www.reddit.com/r/legaladvice/comments/...</td>\n",
       "      <td>ekl2ef</td>\n",
       "      <td>For context I live in the Philippines. I wont ...</td>\n",
       "      <td>My professor refuses to show us ALL of our tes...</td>\n",
       "      <td>school</td>\n",
       "      <td>9</td>\n",
       "      <td>[-0.00954271624451715, 0.007157037183387862, 0...</td>\n",
       "      <td>953</td>\n",
       "      <td>\"Unrevealed Grades and Lack of Transparency: S...</td>\n",
       "      <td>OR</td>\n",
       "      <td>9</td>\n",
       "      <td>Legal Consequences of False Accusations</td>\n",
       "      <td>[0.0, 0.0, 0.0, 0.0, 0.0, 0.0, 0.0, 0.0, 0.0, ...</td>\n",
       "    </tr>\n",
       "    <tr>\n",
       "      <th>1</th>\n",
       "      <td>3320</td>\n",
       "      <td>1591126549</td>\n",
       "      <td>https://www.reddit.com/r/legaladvice/comments/...</td>\n",
       "      <td>gve3nq</td>\n",
       "      <td>Edit: I live in Washington state.\\n\\nSo I live...</td>\n",
       "      <td>My landlord has been harassing me about my pet...</td>\n",
       "      <td>housing</td>\n",
       "      <td>7</td>\n",
       "      <td>[-0.0034782202413053045, 0.00616729225832095, ...</td>\n",
       "      <td>759</td>\n",
       "      <td>\"Legal dispute over pet snake: Landlord threat...</td>\n",
       "      <td>OR</td>\n",
       "      <td>3</td>\n",
       "      <td>Rental Property and Landlord Matters</td>\n",
       "      <td>[0.0, 0.0, 0.0, 0.0, 0.0, 0.0, 0.0, 0.0, 0.0, ...</td>\n",
       "    </tr>\n",
       "  </tbody>\n",
       "</table>\n",
       "</div>"
      ],
      "text/plain": [
       "   index  created_utc                                          full_link  \\\n",
       "0   2029   1578267399  https://www.reddit.com/r/legaladvice/comments/...   \n",
       "1   3320   1591126549  https://www.reddit.com/r/legaladvice/comments/...   \n",
       "\n",
       "       id                                               body  \\\n",
       "0  ekl2ef  For context I live in the Philippines. I wont ...   \n",
       "1  gve3nq  Edit: I live in Washington state.\\n\\nSo I live...   \n",
       "\n",
       "                                               title text_label  flair_label  \\\n",
       "0  My professor refuses to show us ALL of our tes...     school            9   \n",
       "1  My landlord has been harassing me about my pet...    housing            7   \n",
       "\n",
       "                                          embeddings  token_count  \\\n",
       "0  [-0.00954271624451715, 0.007157037183387862, 0...          953   \n",
       "1  [-0.0034782202413053045, 0.00616729225832095, ...          759   \n",
       "\n",
       "                                           llm_title state  kmeans_label  \\\n",
       "0  \"Unrevealed Grades and Lack of Transparency: S...    OR             9   \n",
       "1  \"Legal dispute over pet snake: Landlord threat...    OR             3   \n",
       "\n",
       "                               topic_title  \\\n",
       "0  Legal Consequences of False Accusations   \n",
       "1     Rental Property and Landlord Matters   \n",
       "\n",
       "                                   splade_embeddings  \n",
       "0  [0.0, 0.0, 0.0, 0.0, 0.0, 0.0, 0.0, 0.0, 0.0, ...  \n",
       "1  [0.0, 0.0, 0.0, 0.0, 0.0, 0.0, 0.0, 0.0, 0.0, ...  "
      ]
     },
     "execution_count": 15,
     "metadata": {},
     "output_type": "execute_result"
    }
   ],
   "source": [
    "filtered_df.head(2)"
   ]
  },
  {
   "cell_type": "code",
   "execution_count": null,
   "metadata": {},
   "outputs": [
    {
     "name": "stdout",
     "output_type": "stream",
     "text": [
      "Do I have any legal recourse here? I know Oregon is an 'at will' state, but it sounds like there are at LEAST two instances that offer grounds for wrongful termination (just based on my limited knowledge of the ADA, dept of labor, BOLI, etc.). \n",
      "legal recourse for wrongful termination in 'at will' employment including issues related to mistreatment, health code violations, improper handling of company money, and potential discrimination due to medical conditions\n"
     ]
    }
   ],
   "source": [
    "print(query_plan.original_query)\n",
    "print(query_plan.rephrased_query)"
   ]
  },
  {
   "cell_type": "code",
   "execution_count": null,
   "metadata": {},
   "outputs": [
    {
     "name": "stderr",
     "output_type": "stream",
     "text": [
      "\u001b[32m2024-03-19 21:44:19 - INFO - Schema shown to LLM: \n",
      "Name of each field, its type and unique values (up to 20):\n",
      "* state (string);  Values - ['NM' 'IN' 'WY' 'NH' 'MP' 'PA' 'MH' 'ID' 'AR' 'MA' 'KS' 'AS' 'ND' 'PR'\n",
      " 'DE' 'FL' 'LA' 'OR' 'VT' 'PW'], ... 39 more\n",
      "        \u001b[0m\n"
     ]
    },
    {
     "name": "stderr",
     "output_type": "stream",
     "text": [
      "\u001b[32m2024-03-19 21:44:22 - INFO - No filters were identified for query: marijuana\u001b[0m\n",
      "\u001b[32m2024-03-19 21:44:22 - INFO - Revised query: marijuana\u001b[0m\n",
      "\u001b[32m2024-03-19 21:44:23 - INFO - Full Text Search (FTS) search yielded a DataFrame with 20 rows\u001b[0m\n"
     ]
    }
   ],
   "source": [
    "test_res = auto_filter_fts_search(\n",
    "    df=df,\n",
    "    query='marijuana',\n",
    "    top_k=20,\n",
    "    text_column=\"body\",\n",
    "    embeddings_column=\"embeddings\",\n",
    "    filter_fields=[\n",
    "        'state',\n",
    "    ])"
   ]
  },
  {
   "cell_type": "code",
   "execution_count": null,
   "metadata": {},
   "outputs": [
    {
     "data": {
      "text/markdown": [
       "I'm a New York State medical marijuana patient. I also work in healthcare. I applied to a new job at a new hospital, and they are discriminating against me for being a medical marijuana patient. I was offered the job and accepted, but when I went to get my pre-employment physical conducted, I gave them my medical marijuana card and informed them that I am a patient. They are now refusing to hire me. Is this legal? I already contacted the division of human rights at the labor department and they said I may or may not have a case."
      ],
      "text/plain": [
       "<IPython.core.display.Markdown object>"
      ]
     },
     "execution_count": 14,
     "metadata": {},
     "output_type": "execute_result"
    }
   ],
   "source": [
    "Markdown(test_res['body'].tolist()[0])"
   ]
  }
 ],
 "metadata": {
  "kernelspec": {
   "display_name": ".venv",
   "language": "python",
   "name": "python3"
  },
  "language_info": {
   "codemirror_mode": {
    "name": "ipython",
    "version": 3
   },
   "file_extension": ".py",
   "mimetype": "text/x-python",
   "name": "python",
   "nbconvert_exporter": "python",
   "pygments_lexer": "ipython3",
   "version": "3.10.11"
  }
 },
 "nbformat": 4,
 "nbformat_minor": 2
}
