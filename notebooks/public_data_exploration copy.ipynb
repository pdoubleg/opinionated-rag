{
 "cells": [
  {
   "cell_type": "markdown",
   "metadata": {},
   "source": []
  },
  {
   "cell_type": "code",
   "execution_count": 1,
   "metadata": {},
   "outputs": [],
   "source": [
    "import os\n",
    "from dotenv import load_dotenv\n",
    "import pandas as pd\n",
    "from IPython.display import Markdown\n",
    "import warnings\n",
    "warnings.filterwarnings('ignore')\n",
    "pd.set_option('display.max_columns', None)\n",
    "load_dotenv()\n",
    "os.chdir(os.path.dirname(os.getcwd()))"
   ]
  },
  {
   "cell_type": "code",
   "execution_count": 2,
   "metadata": {},
   "outputs": [],
   "source": [
    "from src.schema.decisions import Decision\n",
    "from src.doc_store.cap_client import CAPClient\n",
    "from src.doc_store.cl_client  import CourtListenerClient\n",
    "from src.doc_store.utils import (\n",
    "    load_models_from_json, \n",
    ")"
   ]
  },
  {
   "cell_type": "code",
   "execution_count": 3,
   "metadata": {},
   "outputs": [],
   "source": [
    "cl_client = CourtListenerClient()\n",
    "cap_client = CAPClient()"
   ]
  },
  {
   "cell_type": "code",
   "execution_count": 4,
   "metadata": {},
   "outputs": [],
   "source": [
    "cap_docket_search = cap_client.search_cases(search_term=\"Liberty Mutual\", full_case=True)"
   ]
  },
  {
   "cell_type": "markdown",
   "metadata": {},
   "source": [
    "* The `Decision` data model is based on the CAP API, but it also (mostly) works with Court Listener API data"
   ]
  },
  {
   "cell_type": "code",
   "execution_count": 5,
   "metadata": {},
   "outputs": [
    {
     "data": {
      "text/plain": [
       "'ok'"
      ]
     },
     "execution_count": 5,
     "metadata": {},
     "output_type": "execute_result"
    }
   ],
   "source": [
    "decisions = [Decision(**result) for result in cap_docket_search[\"results\"]]\n",
    "\n",
    "decisions[0].casebody.status"
   ]
  },
  {
   "cell_type": "code",
   "execution_count": 6,
   "metadata": {},
   "outputs": [
    {
     "data": {
      "text/plain": [
       "100"
      ]
     },
     "execution_count": 6,
     "metadata": {},
     "output_type": "execute_result"
    }
   ],
   "source": [
    "len(decisions)"
   ]
  },
  {
   "cell_type": "code",
   "execution_count": 3,
   "metadata": {},
   "outputs": [
    {
     "data": {
      "text/plain": [
       "169"
      ]
     },
     "execution_count": 3,
     "metadata": {},
     "output_type": "execute_result"
    }
   ],
   "source": [
    "decisions = load_models_from_json(Decision, \"./data/models/top_four.json\")\n",
    "len(decisions)"
   ]
  },
  {
   "cell_type": "markdown",
   "metadata": {},
   "source": [
    "* Example of CAP data"
   ]
  },
  {
   "cell_type": "code",
   "execution_count": 7,
   "metadata": {},
   "outputs": [
    {
     "name": "stdout",
     "output_type": "stream",
     "text": [
      "Downloaded 58129 court cases to file cap_liberty_search_results.csv.\n"
     ]
    }
   ],
   "source": [
    "cap_client.download_to_csv(cap_docket_search, 'cap_liberty_search_results.csv')"
   ]
  },
  {
   "cell_type": "code",
   "execution_count": 8,
   "metadata": {},
   "outputs": [
    {
     "name": "stdout",
     "output_type": "stream",
     "text": [
      "Shape of CAP keyword search results: (58129, 13)\n",
      "Data contains 56,716 unique case names\n"
     ]
    },
    {
     "data": {
      "text/html": [
       "<div>\n",
       "<style scoped>\n",
       "    .dataframe tbody tr th:only-of-type {\n",
       "        vertical-align: middle;\n",
       "    }\n",
       "\n",
       "    .dataframe tbody tr th {\n",
       "        vertical-align: top;\n",
       "    }\n",
       "\n",
       "    .dataframe thead th {\n",
       "        text-align: right;\n",
       "    }\n",
       "</style>\n",
       "<table border=\"1\" class=\"dataframe\">\n",
       "  <thead>\n",
       "    <tr style=\"text-align: right;\">\n",
       "      <th></th>\n",
       "      <th>id</th>\n",
       "      <th>name</th>\n",
       "      <th>name_abbreviation</th>\n",
       "      <th>decision_date</th>\n",
       "      <th>court_id</th>\n",
       "      <th>court_name</th>\n",
       "      <th>court_slug</th>\n",
       "      <th>judges</th>\n",
       "      <th>attorneys</th>\n",
       "      <th>citations</th>\n",
       "      <th>url</th>\n",
       "      <th>head</th>\n",
       "      <th>body</th>\n",
       "    </tr>\n",
       "  </thead>\n",
       "  <tbody>\n",
       "    <tr>\n",
       "      <th>0</th>\n",
       "      <td>9468099</td>\n",
       "      <td>Lauri Jo HARTZ, Plaintiff-Appellant, v. LIBERT...</td>\n",
       "      <td>Hartz v. Liberty Mutual Insurance</td>\n",
       "      <td>2001-10-29</td>\n",
       "      <td>8954</td>\n",
       "      <td>United States Court of Appeals for the Fourth ...</td>\n",
       "      <td>4th-cir</td>\n",
       "      <td>['Before WILKINSON, Chief Judge, and WILKINS a...</td>\n",
       "      <td>['ARGUED: C. William Michaels, Baltimore, MD, ...</td>\n",
       "      <td>[{'type': 'official', 'cite': '269 F.3d 474'}]</td>\n",
       "      <td>https://api.case.law/v1/cases/9468099/</td>\n",
       "      <td>Lauri Jo HARTZ, Plaintiff-Appellant, v. LIBERT...</td>\n",
       "      <td>Affirmed by published opinion. Chief Judge WIL...</td>\n",
       "    </tr>\n",
       "    <tr>\n",
       "      <th>1</th>\n",
       "      <td>6774574</td>\n",
       "      <td>Reynolds v. Liberty Mutual Insurance Company, ...</td>\n",
       "      <td>Reynolds v. Liberty Mutual Insurance</td>\n",
       "      <td>1975-11-13</td>\n",
       "      <td>8775</td>\n",
       "      <td>Superior Court of Pennsylvania</td>\n",
       "      <td>pa-super-ct</td>\n",
       "      <td>[]</td>\n",
       "      <td>['Stephen J. Schofield, with him Joseph R. Tho...</td>\n",
       "      <td>[{'type': 'official', 'cite': '236 Pa. Super. ...</td>\n",
       "      <td>https://api.case.law/v1/cases/6774574/</td>\n",
       "      <td>Reynolds v. Liberty Mutual Insurance Company, ...</td>\n",
       "      <td>Order and judgment in both appeals affirmed.</td>\n",
       "    </tr>\n",
       "  </tbody>\n",
       "</table>\n",
       "</div>"
      ],
      "text/plain": [
       "        id                                               name  \\\n",
       "0  9468099  Lauri Jo HARTZ, Plaintiff-Appellant, v. LIBERT...   \n",
       "1  6774574  Reynolds v. Liberty Mutual Insurance Company, ...   \n",
       "\n",
       "                      name_abbreviation decision_date  court_id  \\\n",
       "0     Hartz v. Liberty Mutual Insurance    2001-10-29      8954   \n",
       "1  Reynolds v. Liberty Mutual Insurance    1975-11-13      8775   \n",
       "\n",
       "                                          court_name   court_slug  \\\n",
       "0  United States Court of Appeals for the Fourth ...      4th-cir   \n",
       "1                     Superior Court of Pennsylvania  pa-super-ct   \n",
       "\n",
       "                                              judges  \\\n",
       "0  ['Before WILKINSON, Chief Judge, and WILKINS a...   \n",
       "1                                                 []   \n",
       "\n",
       "                                           attorneys  \\\n",
       "0  ['ARGUED: C. William Michaels, Baltimore, MD, ...   \n",
       "1  ['Stephen J. Schofield, with him Joseph R. Tho...   \n",
       "\n",
       "                                           citations  \\\n",
       "0     [{'type': 'official', 'cite': '269 F.3d 474'}]   \n",
       "1  [{'type': 'official', 'cite': '236 Pa. Super. ...   \n",
       "\n",
       "                                      url  \\\n",
       "0  https://api.case.law/v1/cases/9468099/   \n",
       "1  https://api.case.law/v1/cases/6774574/   \n",
       "\n",
       "                                                head  \\\n",
       "0  Lauri Jo HARTZ, Plaintiff-Appellant, v. LIBERT...   \n",
       "1  Reynolds v. Liberty Mutual Insurance Company, ...   \n",
       "\n",
       "                                                body  \n",
       "0  Affirmed by published opinion. Chief Judge WIL...  \n",
       "1       Order and judgment in both appeals affirmed.  "
      ]
     },
     "execution_count": 8,
     "metadata": {},
     "output_type": "execute_result"
    }
   ],
   "source": [
    "cap_df = cap_client.read_in_csv('cap_liberty_search_results.csv')\n",
    "print(f\"Shape of CAP keyword search results: {cap_df.shape}\")\n",
    "print(f\"Data contains {cap_df['name'].nunique():,} unique case names\")\n",
    "cap_df.head(2)"
   ]
  },
  {
   "cell_type": "code",
   "execution_count": 10,
   "metadata": {},
   "outputs": [
    {
     "data": {
      "text/plain": [
       "name_contains_lm\n",
       "False    51916\n",
       "True      6213\n",
       "Name: count, dtype: int64"
      ]
     },
     "execution_count": 10,
     "metadata": {},
     "output_type": "execute_result"
    }
   ],
   "source": [
    "cap_df['name'].fillna('Missing', inplace=True)\n",
    "cap_df['body'].fillna('Missing', inplace=True)\n",
    "\n",
    "cap_df['name_contains_lm'] = cap_df['name'].apply(lambda x: 'Liberty Mutual' in x or 'LIBERTY MUTUAL' in x)\n",
    "cap_df['body_contains_lm'] = cap_df['body'].apply(lambda x: 'Liberty Mutual' in x or 'LIBERTY MUTUAL' in x)\n",
    "    \n",
    "cap_df['name_contains_lm'].value_counts()"
   ]
  },
  {
   "cell_type": "code",
   "execution_count": 11,
   "metadata": {},
   "outputs": [
    {
     "data": {
      "text/plain": [
       "body_contains_lm\n",
       "False    56589\n",
       "True      1540\n",
       "Name: count, dtype: int64"
      ]
     },
     "execution_count": 11,
     "metadata": {},
     "output_type": "execute_result"
    }
   ],
   "source": [
    "cap_df['body_contains_lm'].value_counts()"
   ]
  },
  {
   "cell_type": "code",
   "execution_count": 12,
   "metadata": {},
   "outputs": [
    {
     "name": "stdout",
     "output_type": "stream",
     "text": [
      "Filtered df shape: (7467, 15)\n"
     ]
    },
    {
     "data": {
      "text/html": [
       "<div>\n",
       "<style scoped>\n",
       "    .dataframe tbody tr th:only-of-type {\n",
       "        vertical-align: middle;\n",
       "    }\n",
       "\n",
       "    .dataframe tbody tr th {\n",
       "        vertical-align: top;\n",
       "    }\n",
       "\n",
       "    .dataframe thead th {\n",
       "        text-align: right;\n",
       "    }\n",
       "</style>\n",
       "<table border=\"1\" class=\"dataframe\">\n",
       "  <thead>\n",
       "    <tr style=\"text-align: right;\">\n",
       "      <th></th>\n",
       "      <th>id</th>\n",
       "      <th>name</th>\n",
       "      <th>name_abbreviation</th>\n",
       "      <th>decision_date</th>\n",
       "      <th>court_id</th>\n",
       "      <th>court_name</th>\n",
       "      <th>court_slug</th>\n",
       "      <th>judges</th>\n",
       "      <th>attorneys</th>\n",
       "      <th>citations</th>\n",
       "      <th>url</th>\n",
       "      <th>head</th>\n",
       "      <th>body</th>\n",
       "      <th>name_contains_lm</th>\n",
       "      <th>body_contains_lm</th>\n",
       "    </tr>\n",
       "  </thead>\n",
       "  <tbody>\n",
       "    <tr>\n",
       "      <th>0</th>\n",
       "      <td>9468099</td>\n",
       "      <td>Lauri Jo HARTZ, Plaintiff-Appellant, v. LIBERT...</td>\n",
       "      <td>Hartz v. Liberty Mutual Insurance</td>\n",
       "      <td>2001-10-29</td>\n",
       "      <td>8954</td>\n",
       "      <td>United States Court of Appeals for the Fourth ...</td>\n",
       "      <td>4th-cir</td>\n",
       "      <td>['Before WILKINSON, Chief Judge, and WILKINS a...</td>\n",
       "      <td>['ARGUED: C. William Michaels, Baltimore, MD, ...</td>\n",
       "      <td>[{'type': 'official', 'cite': '269 F.3d 474'}]</td>\n",
       "      <td>https://api.case.law/v1/cases/9468099/</td>\n",
       "      <td>Lauri Jo HARTZ, Plaintiff-Appellant, v. LIBERT...</td>\n",
       "      <td>Affirmed by published opinion. Chief Judge WIL...</td>\n",
       "      <td>True</td>\n",
       "      <td>True</td>\n",
       "    </tr>\n",
       "    <tr>\n",
       "      <th>1</th>\n",
       "      <td>6774574</td>\n",
       "      <td>Reynolds v. Liberty Mutual Insurance Company, ...</td>\n",
       "      <td>Reynolds v. Liberty Mutual Insurance</td>\n",
       "      <td>1975-11-13</td>\n",
       "      <td>8775</td>\n",
       "      <td>Superior Court of Pennsylvania</td>\n",
       "      <td>pa-super-ct</td>\n",
       "      <td>[]</td>\n",
       "      <td>['Stephen J. Schofield, with him Joseph R. Tho...</td>\n",
       "      <td>[{'type': 'official', 'cite': '236 Pa. Super. ...</td>\n",
       "      <td>https://api.case.law/v1/cases/6774574/</td>\n",
       "      <td>Reynolds v. Liberty Mutual Insurance Company, ...</td>\n",
       "      <td>Order and judgment in both appeals affirmed.</td>\n",
       "      <td>True</td>\n",
       "      <td>False</td>\n",
       "    </tr>\n",
       "  </tbody>\n",
       "</table>\n",
       "</div>"
      ],
      "text/plain": [
       "        id                                               name  \\\n",
       "0  9468099  Lauri Jo HARTZ, Plaintiff-Appellant, v. LIBERT...   \n",
       "1  6774574  Reynolds v. Liberty Mutual Insurance Company, ...   \n",
       "\n",
       "                      name_abbreviation decision_date  court_id  \\\n",
       "0     Hartz v. Liberty Mutual Insurance    2001-10-29      8954   \n",
       "1  Reynolds v. Liberty Mutual Insurance    1975-11-13      8775   \n",
       "\n",
       "                                          court_name   court_slug  \\\n",
       "0  United States Court of Appeals for the Fourth ...      4th-cir   \n",
       "1                     Superior Court of Pennsylvania  pa-super-ct   \n",
       "\n",
       "                                              judges  \\\n",
       "0  ['Before WILKINSON, Chief Judge, and WILKINS a...   \n",
       "1                                                 []   \n",
       "\n",
       "                                           attorneys  \\\n",
       "0  ['ARGUED: C. William Michaels, Baltimore, MD, ...   \n",
       "1  ['Stephen J. Schofield, with him Joseph R. Tho...   \n",
       "\n",
       "                                           citations  \\\n",
       "0     [{'type': 'official', 'cite': '269 F.3d 474'}]   \n",
       "1  [{'type': 'official', 'cite': '236 Pa. Super. ...   \n",
       "\n",
       "                                      url  \\\n",
       "0  https://api.case.law/v1/cases/9468099/   \n",
       "1  https://api.case.law/v1/cases/6774574/   \n",
       "\n",
       "                                                head  \\\n",
       "0  Lauri Jo HARTZ, Plaintiff-Appellant, v. LIBERT...   \n",
       "1  Reynolds v. Liberty Mutual Insurance Company, ...   \n",
       "\n",
       "                                                body  name_contains_lm  \\\n",
       "0  Affirmed by published opinion. Chief Judge WIL...              True   \n",
       "1       Order and judgment in both appeals affirmed.              True   \n",
       "\n",
       "   body_contains_lm  \n",
       "0              True  \n",
       "1             False  "
      ]
     },
     "execution_count": 12,
     "metadata": {},
     "output_type": "execute_result"
    }
   ],
   "source": [
    "# Filtering the dataframe to keep rows where either 'name_contains_lm' or 'body_contains_lm' is True\n",
    "filtered_df = cap_df[(cap_df['name_contains_lm'] == True) | (cap_df['body_contains_lm'] == True)]\n",
    "\n",
    "print(f\"Filtered df shape: {filtered_df.shape}\")\n",
    "filtered_df.head(2)"
   ]
  },
  {
   "cell_type": "code",
   "execution_count": 13,
   "metadata": {},
   "outputs": [
    {
     "data": {
      "text/plain": [
       "(Timestamp('1910-05-12 00:00:00'), Timestamp('2019-08-15 00:00:00'))"
      ]
     },
     "execution_count": 13,
     "metadata": {},
     "output_type": "execute_result"
    }
   ],
   "source": [
    "filtered_df['decision_date'] = pd.to_datetime(filtered_df['decision_date'], errors='coerce')\n",
    "filtered_df.sort_values(by='decision_date', inplace=True)\n",
    "filtered_df['decision_date'].min(), filtered_df['decision_date'].max()"
   ]
  },
  {
   "cell_type": "code",
   "execution_count": 14,
   "metadata": {},
   "outputs": [
    {
     "data": {
      "text/plain": [
       "<Axes: >"
      ]
     },
     "execution_count": 14,
     "metadata": {},
     "output_type": "execute_result"
    },
    {
     "data": {
      "image/png": "[encoded data removed]",
      "text/plain": [
       "<Figure size 640x480 with 1 Axes>"
      ]
     },
     "metadata": {},
     "output_type": "display_data"
    }
   ],
   "source": [
    "filtered_df['year'] = pd.DatetimeIndex(filtered_df['decision_date']).year\n",
    "filtered_df['year'] = filtered_df['year'].fillna(0).astype(int)\n",
    "trimmed_df = filtered_df[filtered_df['year'] > 1940]\n",
    "trimmed_df['year'].hist(bins=50)"
   ]
  },
  {
   "cell_type": "code",
   "execution_count": 15,
   "metadata": {},
   "outputs": [
    {
     "name": "stdout",
     "output_type": "stream",
     "text": [
      "df shape: (2479, 16)\n",
      "unique case names: 2,359\n"
     ]
    },
    {
     "data": {
      "text/html": [
       "<div>\n",
       "<style scoped>\n",
       "    .dataframe tbody tr th:only-of-type {\n",
       "        vertical-align: middle;\n",
       "    }\n",
       "\n",
       "    .dataframe tbody tr th {\n",
       "        vertical-align: top;\n",
       "    }\n",
       "\n",
       "    .dataframe thead th {\n",
       "        text-align: right;\n",
       "    }\n",
       "</style>\n",
       "<table border=\"1\" class=\"dataframe\">\n",
       "  <thead>\n",
       "    <tr style=\"text-align: right;\">\n",
       "      <th></th>\n",
       "      <th>id</th>\n",
       "      <th>name</th>\n",
       "      <th>name_abbreviation</th>\n",
       "      <th>decision_date</th>\n",
       "      <th>court_id</th>\n",
       "      <th>court_name</th>\n",
       "      <th>court_slug</th>\n",
       "      <th>judges</th>\n",
       "      <th>attorneys</th>\n",
       "      <th>citations</th>\n",
       "      <th>url</th>\n",
       "      <th>head</th>\n",
       "      <th>body</th>\n",
       "      <th>name_contains_lm</th>\n",
       "      <th>body_contains_lm</th>\n",
       "      <th>year</th>\n",
       "    </tr>\n",
       "  </thead>\n",
       "  <tbody>\n",
       "    <tr>\n",
       "      <th>3546</th>\n",
       "      <td>106582</td>\n",
       "      <td>Nancy RAMIREZ, as Personal Representative of t...</td>\n",
       "      <td>Ramirez v. Dawson Production Partners, Inc.</td>\n",
       "      <td>2000-01-11</td>\n",
       "      <td>9025</td>\n",
       "      <td>Court of Appeals of New Mexico</td>\n",
       "      <td>nm-ct-app</td>\n",
       "      <td>['BOSSON and ARMIJO, JJ., concur.']</td>\n",
       "      <td>['Timothy J. Cusack, Cusack, Jaramillo, Romero...</td>\n",
       "      <td>[{'type': 'official', 'cite': '128 N.M. 601'},...</td>\n",
       "      <td>https://api.case.law/v1/cases/106582/</td>\n",
       "      <td>2000-NMCA-011\\r\\n995 P.2d 1043\\r\\nNancy RAMIRE...</td>\n",
       "      <td>OPINION\\r\\nBUSTAMANTE, Judge.\\r\\n{1} This case...</td>\n",
       "      <td>True</td>\n",
       "      <td>False</td>\n",
       "      <td>2000</td>\n",
       "    </tr>\n",
       "    <tr>\n",
       "      <th>30161</th>\n",
       "      <td>411690</td>\n",
       "      <td>RICHARD R. JOHNSON, Plaintiff-Appellant and Cr...</td>\n",
       "      <td>Johnson v. Halloran</td>\n",
       "      <td>2000-01-13</td>\n",
       "      <td>8837</td>\n",
       "      <td>Illinois Appellate Court</td>\n",
       "      <td>ill-app-ct</td>\n",
       "      <td>[]</td>\n",
       "      <td>['Wolter, Beeman, Lynch &amp; McIntyre, of Springf...</td>\n",
       "      <td>[{'type': 'official', 'cite': '312 Ill. App. 3...</td>\n",
       "      <td>https://api.case.law/v1/cases/411690/</td>\n",
       "      <td>RICHARD R. JOHNSON, Plaintiff-Appellant and Cr...</td>\n",
       "      <td>JUSTICE HALL\\r\\ndelivered the opinion of the c...</td>\n",
       "      <td>False</td>\n",
       "      <td>True</td>\n",
       "      <td>2000</td>\n",
       "    </tr>\n",
       "  </tbody>\n",
       "</table>\n",
       "</div>"
      ],
      "text/plain": [
       "           id                                               name  \\\n",
       "3546   106582  Nancy RAMIREZ, as Personal Representative of t...   \n",
       "30161  411690  RICHARD R. JOHNSON, Plaintiff-Appellant and Cr...   \n",
       "\n",
       "                                 name_abbreviation decision_date  court_id  \\\n",
       "3546   Ramirez v. Dawson Production Partners, Inc.    2000-01-11      9025   \n",
       "30161                          Johnson v. Halloran    2000-01-13      8837   \n",
       "\n",
       "                           court_name  court_slug  \\\n",
       "3546   Court of Appeals of New Mexico   nm-ct-app   \n",
       "30161        Illinois Appellate Court  ill-app-ct   \n",
       "\n",
       "                                    judges  \\\n",
       "3546   ['BOSSON and ARMIJO, JJ., concur.']   \n",
       "30161                                   []   \n",
       "\n",
       "                                               attorneys  \\\n",
       "3546   ['Timothy J. Cusack, Cusack, Jaramillo, Romero...   \n",
       "30161  ['Wolter, Beeman, Lynch & McIntyre, of Springf...   \n",
       "\n",
       "                                               citations  \\\n",
       "3546   [{'type': 'official', 'cite': '128 N.M. 601'},...   \n",
       "30161  [{'type': 'official', 'cite': '312 Ill. App. 3...   \n",
       "\n",
       "                                         url  \\\n",
       "3546   https://api.case.law/v1/cases/106582/   \n",
       "30161  https://api.case.law/v1/cases/411690/   \n",
       "\n",
       "                                                    head  \\\n",
       "3546   2000-NMCA-011\\r\\n995 P.2d 1043\\r\\nNancy RAMIRE...   \n",
       "30161  RICHARD R. JOHNSON, Plaintiff-Appellant and Cr...   \n",
       "\n",
       "                                                    body  name_contains_lm  \\\n",
       "3546   OPINION\\r\\nBUSTAMANTE, Judge.\\r\\n{1} This case...              True   \n",
       "30161  JUSTICE HALL\\r\\ndelivered the opinion of the c...             False   \n",
       "\n",
       "       body_contains_lm  year  \n",
       "3546              False  2000  \n",
       "30161              True  2000  "
      ]
     },
     "execution_count": 15,
     "metadata": {},
     "output_type": "execute_result"
    }
   ],
   "source": [
    "df1 = filtered_df[filtered_df['year']>=2000]\n",
    "\n",
    "print(f\"df shape: {df1.shape}\")\n",
    "print(f\"unique case names: {df1['name'].nunique():,}\")\n",
    "df1.head(2)"
   ]
  },
  {
   "cell_type": "code",
   "execution_count": 16,
   "metadata": {},
   "outputs": [],
   "source": [
    "from src.utils.citations import create_citation_lookup_table, get_top_citations, get_citation_context"
   ]
  },
  {
   "cell_type": "code",
   "execution_count": 17,
   "metadata": {},
   "outputs": [
    {
     "data": {
      "text/markdown": [
       "| Citation             |   Count | link                                                  |\n",
       "|:---------------------|--------:|:------------------------------------------------------|\n",
       "| 154 Ill. 2d 90       |     321 | https://cite.case.law/ill-2d/154/90                   |\n",
       "| 607 N.E.2d 1204      |     178 | https://cite.case.law/ne2d/607/1204                   |\n",
       "| 156 Ill. 2d 384      |      76 | https://cite.case.law/ill-2d/156/384                  |\n",
       "| 477 U.S. 317         |      60 | https://cite.case.law/us/477/317                      |\n",
       "| 144 Ill. 2d 64       |      59 | https://cite.case.law/ill-2d/144/64                   |\n",
       "| 106 S. Ct. 2548      |      56 | https://www.courtlistener.com/c/S.%20Ct./106/2548     |\n",
       "| 91 L. Ed. 2d 265     |      56 | https://www.courtlistener.com/c/L.%20Ed.%202d/91/265  |\n",
       "| 477 U.S. 242         |      44 | https://cite.case.law/us/477/242                      |\n",
       "| 91 L. Ed. 2d 202     |      44 | https://www.courtlistener.com/c/L.%20Ed.%202d/91/202  |\n",
       "| 106 S. Ct. 2505      |      44 | https://www.courtlistener.com/c/S.%20Ct./106/2505     |\n",
       "| 197 Ill. 2d 278      |      43 | https://cite.case.law/ill-2d/197/278                  |\n",
       "| 177 Ill. 2d 473      |      41 | https://cite.case.law/ill-2d/177/473                  |\n",
       "| 186 Ill. 2d 127      |      37 | https://cite.case.law/ill-2d/186/127                  |\n",
       "| 620 N.E.2d 1073      |      37 | https://cite.case.law/ne2d/620/1073                   |\n",
       "| 578 N.E.2d 926       |      37 | https://cite.case.law/ne2d/578/926                    |\n",
       "| 111 Ill. 2d 229      |      34 | https://cite.case.law/ill-2d/111/229                  |\n",
       "| 215 Ill. 2d 121      |      32 | https://cite.case.law/ill-2d/215/121                  |\n",
       "| 180 Ill. Dec. 691    |      32 | https://www.courtlistener.com/c/Ill.%20Dec./180/691   |\n",
       "| 213 Ill. 2d 141      |      25 | https://cite.case.law/ill-2d/213/141                  |\n",
       "| 213 Ill. 2d 307      |      24 | https://cite.case.law/ill-2d/213/307                  |\n",
       "| 155 Ill. 2d 402      |      23 | https://cite.case.law/ill-2d/155/402                  |\n",
       "| 757 N.E.2d 481       |      23 | https://cite.case.law/ne2d/757/481                    |\n",
       "| 106 S. Ct. 1348      |      23 | https://www.courtlistener.com/c/S.%20Ct./106/1348     |\n",
       "| 89 L. Ed. 2d 538     |      23 | https://www.courtlistener.com/c/L.%20Ed.%202d/89/538  |\n",
       "| 708 N.E.2d 1122      |      22 | https://cite.case.law/ne2d/708/1122                   |\n",
       "| 118 Ill. 2d 23       |      22 | https://cite.case.law/ill-2d/118/23                   |\n",
       "| 475 U.S. 574         |      22 | https://cite.case.law/us/475/574                      |\n",
       "| 166 Ill. 2d 520      |      21 | https://cite.case.law/ill-2d/166/520                  |\n",
       "| 687 N.E.2d 72        |      20 | https://cite.case.law/ne2d/687/72                     |\n",
       "| 165 Ill. 2d 107      |      20 | https://cite.case.law/ill-2d/165/107                  |\n",
       "| 214 Ill. 2d 11       |      20 | https://cite.case.law/ill-2d/214/11                   |\n",
       "| 550 U.S. 544         |      19 | https://cite.case.law/us/550/544                      |\n",
       "| 556 U.S. 662         |      19 | https://cite.case.law/us/556/662                      |\n",
       "| 129 S. Ct. 1937      |      19 | https://www.courtlistener.com/c/S.%20Ct./129/1937     |\n",
       "| 173 L. Ed. 2d 868    |      19 | https://www.courtlistener.com/c/L.%20Ed.%202d/173/868 |\n",
       "| 268 Ill. App. 3d 598 |      18 | https://cite.case.law/ill-app-3d/268/598              |\n",
       "| 309 Ill. App. 3d 313 |      18 | https://cite.case.law/ill-app-3d/309/313              |\n",
       "| 374 Ill. App. 3d 618 |      18 | https://cite.case.law/ill-app-3d/374/618              |\n",
       "| 127 S. Ct. 1955      |      18 | https://www.courtlistener.com/c/S.%20Ct./127/1955     |\n",
       "| 167 L. Ed. 2d 929    |      18 | https://www.courtlistener.com/c/L.%20Ed.%202d/167/929 |\n",
       "| 183 Ill. 2d 317      |      17 | https://cite.case.law/ill-2d/183/317                  |\n",
       "| 181 Ill. 2d 436      |      17 | https://cite.case.law/ill-2d/181/436                  |\n",
       "| 349 N.C. 676         |      17 | https://cite.case.law/nc/349/676                      |\n",
       "| 509 S.E.2d 411       |      17 | https://cite.case.law/se2d/509/411                    |\n",
       "| 328 Ill. App. 3d 696 |      17 | https://cite.case.law/ill-app-3d/328/696              |\n",
       "| 323 Ill. App. 3d 946 |      17 | https://cite.case.law/ill-app-3d/323/946              |\n",
       "| 230 Ill. App. 3d 40  |      17 | https://cite.case.law/ill-app-3d/230/40               |\n",
       "| 489 N.E.2d 867       |      16 | https://cite.case.law/ne2d/489/867                    |\n",
       "| 88 Ill. 2d 1         |      15 | https://cite.case.law/ill-2d/88/1                     |\n",
       "| 186 Ill. 2d 367      |      15 | https://cite.case.law/ill-2d/186/367                  |"
      ],
      "text/plain": [
       "<IPython.core.display.Markdown object>"
      ]
     },
     "execution_count": 17,
     "metadata": {},
     "output_type": "execute_result"
    }
   ],
   "source": [
    "top_citations = get_top_citations(df=df1, text_column='body', top_n=50)\n",
    "Markdown(top_citations.to_markdown(index=False))"
   ]
  },
  {
   "cell_type": "code",
   "execution_count": 18,
   "metadata": {},
   "outputs": [
    {
     "name": "stdout",
     "output_type": "stream",
     "text": [
      "Outboard Marine Corp. v. Liberty Mutual Insurance, 154 Ill. 2d 90 (1992-12-04)\n"
     ]
    }
   ],
   "source": [
    "top_cite = '154 Ill. 2d 90'\n",
    "\n",
    "top_cited_case = cap_client.read_cite(\n",
    "    cite=top_cite,\n",
    "    full_case=True,\n",
    "    body_format='html')\n",
    "print(top_cited_case)"
   ]
  },
  {
   "cell_type": "code",
   "execution_count": 19,
   "metadata": {},
   "outputs": [
    {
     "data": {
      "text/plain": [
       "'https://cite.case.law/pdf/4820940/Outboard%20Marine%20Corp.%20v.%20Liberty%20Mutual%20Insurance,%20154%20Ill.%202d%2090%20(1992).pdf'"
      ]
     },
     "execution_count": 19,
     "metadata": {},
     "output_type": "execute_result"
    }
   ],
   "source": [
    "top_cited_case.frontend_pdf_url"
   ]
  },
  {
   "cell_type": "code",
   "execution_count": 21,
   "metadata": {},
   "outputs": [
    {
     "data": {
      "text/plain": [
       "18007"
      ]
     },
     "execution_count": 21,
     "metadata": {},
     "output_type": "execute_result"
    }
   ],
   "source": [
    "from src.utils.gen_utils import count_tokens\n",
    "\n",
    "case_text = top_cited_case.construct_decision_string()\n",
    "count_tokens(case_text)"
   ]
  },
  {
   "cell_type": "code",
   "execution_count": 22,
   "metadata": {},
   "outputs": [],
   "source": [
    "from typing import List\n",
    "from typing_extensions import Annotated\n",
    "from pydantic import BaseModel, Field\n",
    "from src.utils.pydantic_utils import flatten_pydantic_instance\n",
    "from tenacity import Retrying, stop_after_attempt, wait_fixed\n",
    "import instructor\n",
    "import openai\n",
    "\n",
    "class AnalysisSection(BaseModel):\n",
    "    \"\"\"A concise legal analysis leading to a decision.\"\"\"\n",
    "    \n",
    "    rules: str = Field(\n",
    "        ...,\n",
    "        description=\"Concise explanation of how the Court considers relevant statutes, interpretations, standards, and tests applicable to this case.\",\n",
    "    )\n",
    "    case_law: str = Field(\n",
    "        ...,\n",
    "        description=\"Names and or citations of cases reviewed by the Court and analysis of how the Court relates those cases to the Issues Presented.\",\n",
    "    )\n",
    "    application: str = Field(\n",
    "        ...,\n",
    "        description=\"Concise explanation of how the Rules and Case Law help the Court reach its conclusions.\",\n",
    "    )\n",
    "\n",
    "\n",
    "class CaseBrief(BaseModel):\n",
    "    \"\"\"A well structured and concise legal case brief.\"\"\"\n",
    "    \n",
    "    case_name: str = Field(\n",
    "        ...,\n",
    "        description=\"The name of the case, if possible include the court and year.\",\n",
    "    )\n",
    "    issues_presented: str = Field(\n",
    "        ...,\n",
    "        description=\"The issues the Court must resolve.\",\n",
    "    )\n",
    "    facts_of_the_case: str = Field(\n",
    "        ...,\n",
    "        description=\"A concise summary of the facts, parties involved, and the events leading to this case.\",\n",
    "    )\n",
    "    procedural_history: str = Field(\n",
    "        ...,\n",
    "        description=\"A district court case summary, appeals court case summary, or otherwise how this issue reached this Court.\",\n",
    "    )\n",
    "    analysis: AnalysisSection = Field(\n",
    "        ...,\n",
    "        description=\"A legal analysis leading to a decision.\",\n",
    "    )\n",
    "    conclusion: str = Field(\n",
    "        ...,\n",
    "        description=\"The Court's ruling on the Issues Presented.\",\n",
    "    )\n",
    "    winner: str = Field(\n",
    "        ...,\n",
    "        description=\"The entity or role that the Court decided in favor of.\",\n",
    "    )\n",
    "    @property\n",
    "    def to_pandas(self) -> pd.DataFrame:\n",
    "        \"\"\"Converts the case brief into a pandas DataFrame.\"\"\"\n",
    "        flat_model = flatten_pydantic_instance(self)\n",
    "        return pd.DataFrame([flat_model])\n",
    "    \n",
    "    def __str__(self) -> str:\n",
    "        \"\"\"Returns a structured legal case brief as a string.\"\"\"\n",
    "        brief_details = [\n",
    "            f\"Case Name: {self.case_name}\",\n",
    "            f\"Issues Presented: {self.issues_presented}\",\n",
    "            f\"Facts of the Case: {self.facts_of_the_case}\",\n",
    "            f\"Procedural History: {self.procedural_history}\",\n",
    "            f\"Analysis:\\n\\n* Rules: {self.analysis.rules}\\n\\n* Case Law: {self.analysis.case_law}\\n\\n* Application: {self.analysis.application}\",\n",
    "            f\"Conclusion: {self.conclusion}\",\n",
    "            f\"Winner: {self.winner}\"\n",
    "        ]\n",
    "        return \"\\n\\n\".join(brief_details)\n",
    "\n",
    "    \n",
    "CaseBrief.model_rebuild()\n",
    "\n",
    "\n",
    "def generate_case_brief(text: str) -> CaseBrief:\n",
    "    client = instructor.patch(openai.OpenAI())\n",
    "    return client.chat.completions.create(\n",
    "        model=\"gpt-4-1106-preview\",\n",
    "        response_model=CaseBrief,\n",
    "        max_retries=Retrying(\n",
    "            stop=stop_after_attempt(5),\n",
    "            wait=wait_fixed(1),\n",
    "        ),\n",
    "        messages=[\n",
    "            {\n",
    "                \"role\": \"system\",\n",
    "                \"content\": \"You are a world class legal AI specializing in document extraction and summarization.\",\n",
    "            },\n",
    "            {\n",
    "                \"role\": \"user\",\n",
    "                \"content\": f\"Compose a case brief using only information from the Context. Working step by step, organize the Context outline into well-structured paragraphs.\\n\\nHere is the Context: {text}\",\n",
    "            },\n",
    "        ],\n",
    "    )"
   ]
  },
  {
   "cell_type": "code",
   "execution_count": 23,
   "metadata": {},
   "outputs": [],
   "source": [
    "case_brief = generate_case_brief(case_text)"
   ]
  },
  {
   "cell_type": "code",
   "execution_count": 24,
   "metadata": {},
   "outputs": [
    {
     "data": {
      "text/markdown": [
       "Case Name: Outboard Marine Corp. v. Liberty Mutual Insurance, 154 Ill. 2d 90 (1992-12-04)\n",
       "\n",
       "Issues Presented: Whether the insurers have a duty to defend and indemnify Outboard Marine Corporation (OMC) under the terms of comprehensive general liability (CGL) insurance policies, considering the pollution exclusion clauses and the known loss doctrine.\n",
       "\n",
       "Facts of the Case: Outboard Marine Corporation (OMC) was involved in a coverage dispute with its insurers over the discharge of polychlorinated biphenyls (PCBs) into the North Ditch, Waukegan Harbor, and Lake Michigan. The Environmental Protection Agency (EPA) and the State of Illinois brought actions against OMC, which tendered defense to its insurers. The insurers refused to defend OMC, alleging the actions were not covered under the policies due to pollution exclusion provisions. OMC defended itself and later entered into a consent decree, incurring cleanup costs and seeking a declaration from the court regarding its insurers' duty to defend and indemnify for the costs associated with the PCB cleanup.\n",
       "\n",
       "Procedural History: The circuit court of Lake County granted OMC partial summary judgment against Liberty Mutual on the 'damages' issue, but granted the insurers' motions for summary judgment based on pollution exclusion provisions. Appeals were consolidated, and the appellate court affirmed the decisions. The Illinois Supreme Court granted Liberty Mutual's petition for leave to appeal.\n",
       "\n",
       "Analysis:\n",
       "\n",
       "* Rules: Insurers have a duty to defend if the facts alleged in a complaint potentially fall within policy coverage. The known loss doctrine may preclude coverage if the insured knew or should have known of a probable loss when purchasing the policy. The pollution exclusion generally denies coverage for environmental damage unless the discharge is sudden and accidental. However, language in insurance contracts is subject to interpretation, and ambiguous terms are construed in favor of coverage.\n",
       "\n",
       "* Case Law: The appellate court's interpretation of 'sudden' in the pollution exclusion clauses was reviewed, examining contrary authorities and considering the relationship between the policy definition of 'occurrence' and the exclusion clause.\n",
       "\n",
       "* Application: The Illinois Supreme Court construed the term 'sudden' in the exclusion clauses to mean unexpected or unintended rather than abrupt. This interpretation reinstates coverage for gradual but unintentional polluting events under the CGL policies. As for the known loss doctrine, the court affirmed one insurer's summary judgment due to OMC's pre-existing knowledge of PCB pollution, but remanded for further proceedings regarding other insurers. The court also upheld an insurer's exclusion based on its distinct pollution exclusion clause which did not contain a 'sudden and accidental' exception.\n",
       "\n",
       "Conclusion: The Illinois Supreme Court affirmed parts of both the appellate and circuit courts' rulings, reversed others, and remanded the case for further proceedings. It affirmed that OMC had knowledge of the known loss for one insurer, that the underlying actions were 'suits seeking damages', and that one insurer was rightly excluded based on its distinct clause. The court reversed the findings on the 'sudden and accidental' exception, providing possible coverage for OMC.\n",
       "\n",
       "Winner: Partially Outboard Marine Corporation, partially the insurers"
      ],
      "text/plain": [
       "<IPython.core.display.Markdown object>"
      ]
     },
     "execution_count": 24,
     "metadata": {},
     "output_type": "execute_result"
    }
   ],
   "source": [
    "Markdown(str(case_brief))"
   ]
  },
  {
   "cell_type": "code",
   "execution_count": 25,
   "metadata": {},
   "outputs": [
    {
     "name": "stdout",
     "output_type": "stream",
     "text": [
      "Citation table contains 30,423 rows from 22,331 unique citations\n",
      "CPU times: total: 1min 38s\n",
      "Wall time: 1min 38s\n"
     ]
    }
   ],
   "source": [
    "# %%time\n",
    "citation_table = create_citation_lookup_table(df1, text_column='body', id_column='id')\n",
    "print(f\"Citation table contains {len(citation_table):,} rows from {citation_table['citation'].nunique():,} unique citations\")"
   ]
  },
  {
   "cell_type": "code",
   "execution_count": 26,
   "metadata": {},
   "outputs": [],
   "source": [
    "def filter_frequent_citations(citation_table: pd.DataFrame, min_occurrences: int = 10) -> pd.DataFrame:\n",
    "    \"\"\"\n",
    "    Filters the citation table to only include citations that appear at least a specified number of times.\n",
    "    \n",
    "    Args:\n",
    "        citation_table (pd.DataFrame): The citation table to filter.\n",
    "        min_occurrences (int): The minimum number of occurrences for a citation to be included.\n",
    "        \n",
    "    Returns:\n",
    "        pd.DataFrame: A filtered DataFrame containing only the citations that meet the minimum occurrence criterion.\n",
    "    \"\"\"\n",
    "    # Count the occurrences of each citation\n",
    "    citation_counts = citation_table['citation'].value_counts()\n",
    "    \n",
    "    # Filter for citations that occur at least min_occurrences times\n",
    "    frequent_citations = citation_counts[citation_counts >= min_occurrences].index\n",
    "    \n",
    "    # Filter the original citation table to only include these citations\n",
    "    filtered_citation_table = citation_table[citation_table['citation'].isin(frequent_citations)]\n",
    "    \n",
    "    return filtered_citation_table\n"
   ]
  },
  {
   "cell_type": "code",
   "execution_count": 27,
   "metadata": {},
   "outputs": [
    {
     "data": {
      "text/plain": [
       "(2669, 2)"
      ]
     },
     "execution_count": 27,
     "metadata": {},
     "output_type": "execute_result"
    }
   ],
   "source": [
    "frequent_citation_table = filter_frequent_citations(citation_table, 10)\n",
    "frequent_citation_table.shape"
   ]
  },
  {
   "cell_type": "code",
   "execution_count": 28,
   "metadata": {},
   "outputs": [],
   "source": [
    "df2 = frequent_citation_table.merge(df1, on='id', how='inner')"
   ]
  },
  {
   "cell_type": "code",
   "execution_count": 29,
   "metadata": {},
   "outputs": [
    {
     "data": {
      "text/html": [
       "<div>\n",
       "<style scoped>\n",
       "    .dataframe tbody tr th:only-of-type {\n",
       "        vertical-align: middle;\n",
       "    }\n",
       "\n",
       "    .dataframe tbody tr th {\n",
       "        vertical-align: top;\n",
       "    }\n",
       "\n",
       "    .dataframe thead th {\n",
       "        text-align: right;\n",
       "    }\n",
       "</style>\n",
       "<table border=\"1\" class=\"dataframe\">\n",
       "  <thead>\n",
       "    <tr style=\"text-align: right;\">\n",
       "      <th></th>\n",
       "      <th>id</th>\n",
       "      <th>citation</th>\n",
       "      <th>name</th>\n",
       "      <th>name_abbreviation</th>\n",
       "      <th>decision_date</th>\n",
       "      <th>court_id</th>\n",
       "      <th>court_name</th>\n",
       "      <th>court_slug</th>\n",
       "      <th>judges</th>\n",
       "      <th>attorneys</th>\n",
       "      <th>citations</th>\n",
       "      <th>url</th>\n",
       "      <th>head</th>\n",
       "      <th>body</th>\n",
       "      <th>name_contains_lm</th>\n",
       "      <th>body_contains_lm</th>\n",
       "      <th>year</th>\n",
       "    </tr>\n",
       "  </thead>\n",
       "  <tbody>\n",
       "    <tr>\n",
       "      <th>0</th>\n",
       "      <td>411690</td>\n",
       "      <td>154 Ill. 2d 90</td>\n",
       "      <td>RICHARD R. JOHNSON, Plaintiff-Appellant and Cr...</td>\n",
       "      <td>Johnson v. Halloran</td>\n",
       "      <td>2000-01-13</td>\n",
       "      <td>8837</td>\n",
       "      <td>Illinois Appellate Court</td>\n",
       "      <td>ill-app-ct</td>\n",
       "      <td>[]</td>\n",
       "      <td>['Wolter, Beeman, Lynch &amp; McIntyre, of Springf...</td>\n",
       "      <td>[{'type': 'official', 'cite': '312 Ill. App. 3...</td>\n",
       "      <td>https://api.case.law/v1/cases/411690/</td>\n",
       "      <td>RICHARD R. JOHNSON, Plaintiff-Appellant and Cr...</td>\n",
       "      <td>JUSTICE HALL\\r\\ndelivered the opinion of the c...</td>\n",
       "      <td>False</td>\n",
       "      <td>True</td>\n",
       "      <td>2000</td>\n",
       "    </tr>\n",
       "    <tr>\n",
       "      <th>1</th>\n",
       "      <td>411690</td>\n",
       "      <td>607 N.E.2d 1204</td>\n",
       "      <td>RICHARD R. JOHNSON, Plaintiff-Appellant and Cr...</td>\n",
       "      <td>Johnson v. Halloran</td>\n",
       "      <td>2000-01-13</td>\n",
       "      <td>8837</td>\n",
       "      <td>Illinois Appellate Court</td>\n",
       "      <td>ill-app-ct</td>\n",
       "      <td>[]</td>\n",
       "      <td>['Wolter, Beeman, Lynch &amp; McIntyre, of Springf...</td>\n",
       "      <td>[{'type': 'official', 'cite': '312 Ill. App. 3...</td>\n",
       "      <td>https://api.case.law/v1/cases/411690/</td>\n",
       "      <td>RICHARD R. JOHNSON, Plaintiff-Appellant and Cr...</td>\n",
       "      <td>JUSTICE HALL\\r\\ndelivered the opinion of the c...</td>\n",
       "      <td>False</td>\n",
       "      <td>True</td>\n",
       "      <td>2000</td>\n",
       "    </tr>\n",
       "  </tbody>\n",
       "</table>\n",
       "</div>"
      ],
      "text/plain": [
       "       id         citation                                               name  \\\n",
       "0  411690   154 Ill. 2d 90  RICHARD R. JOHNSON, Plaintiff-Appellant and Cr...   \n",
       "1  411690  607 N.E.2d 1204  RICHARD R. JOHNSON, Plaintiff-Appellant and Cr...   \n",
       "\n",
       "     name_abbreviation decision_date  court_id                court_name  \\\n",
       "0  Johnson v. Halloran    2000-01-13      8837  Illinois Appellate Court   \n",
       "1  Johnson v. Halloran    2000-01-13      8837  Illinois Appellate Court   \n",
       "\n",
       "   court_slug judges                                          attorneys  \\\n",
       "0  ill-app-ct     []  ['Wolter, Beeman, Lynch & McIntyre, of Springf...   \n",
       "1  ill-app-ct     []  ['Wolter, Beeman, Lynch & McIntyre, of Springf...   \n",
       "\n",
       "                                           citations  \\\n",
       "0  [{'type': 'official', 'cite': '312 Ill. App. 3...   \n",
       "1  [{'type': 'official', 'cite': '312 Ill. App. 3...   \n",
       "\n",
       "                                     url  \\\n",
       "0  https://api.case.law/v1/cases/411690/   \n",
       "1  https://api.case.law/v1/cases/411690/   \n",
       "\n",
       "                                                head  \\\n",
       "0  RICHARD R. JOHNSON, Plaintiff-Appellant and Cr...   \n",
       "1  RICHARD R. JOHNSON, Plaintiff-Appellant and Cr...   \n",
       "\n",
       "                                                body  name_contains_lm  \\\n",
       "0  JUSTICE HALL\\r\\ndelivered the opinion of the c...             False   \n",
       "1  JUSTICE HALL\\r\\ndelivered the opinion of the c...             False   \n",
       "\n",
       "   body_contains_lm  year  \n",
       "0              True  2000  \n",
       "1              True  2000  "
      ]
     },
     "execution_count": 29,
     "metadata": {},
     "output_type": "execute_result"
    }
   ],
   "source": [
    "df2.head(2)"
   ]
  },
  {
   "cell_type": "code",
   "execution_count": 30,
   "metadata": {},
   "outputs": [
    {
     "name": "stdout",
     "output_type": "stream",
     "text": [
      "shape of df with cases citing a top 10 cite: (2669, 17)\n",
      "data contains: 117 unique citations\n"
     ]
    }
   ],
   "source": [
    "print(f\"shape of df with cases citing a top 10 cite: {df2.shape}\")\n",
    "print(f\"data contains: {df2['citation'].nunique()} unique citations\")"
   ]
  },
  {
   "cell_type": "code",
   "execution_count": 31,
   "metadata": {},
   "outputs": [],
   "source": [
    "def add_citation_context_to_df(\n",
    "    df: pd.DataFrame, \n",
    "    text_column: str, \n",
    "    citation_column: str, \n",
    "    words_before: int = 512, \n",
    "    words_after: int = 512,\n",
    ") -> pd.DataFrame:\n",
    "    \"\"\"\n",
    "    Loops over the given DataFrame and applies `get_citation_context` for the specified citation.\n",
    "    Adds the resulting context string to the DataFrame as a new column.\n",
    "\n",
    "    Args:\n",
    "        df (pd.DataFrame): The DataFrame to process, expected to contain a 'body' column.\n",
    "        citation (str): The citation to search for within the 'body' column.\n",
    "\n",
    "    Returns:\n",
    "        pd.DataFrame: The original DataFrame with an added 'context' column containing the citation context.\n",
    "    \"\"\"\n",
    "    # Ensure the 'context' column exists\n",
    "    if 'context' not in df.columns:\n",
    "        df['context'] = ''\n",
    "\n",
    "    # Apply the get_citation_context function row-wise\n",
    "    for index, row in df.iterrows():\n",
    "        cite = row[citation_column]\n",
    "        context = get_citation_context(\n",
    "            text=row[text_column], \n",
    "            citation=cite, \n",
    "            words_before=words_before, \n",
    "            words_after=words_after,\n",
    "        )\n",
    "        df.at[index, 'context'] = context\n",
    "        df.at[index, 'context_citation'] = cite\n",
    "\n",
    "    return df"
   ]
  },
  {
   "cell_type": "code",
   "execution_count": 32,
   "metadata": {},
   "outputs": [],
   "source": [
    "top_cites_with_context_df = add_citation_context_to_df(\n",
    "    df=df2,\n",
    "    text_column='body',\n",
    "    citation_column='citation',\n",
    ")"
   ]
  },
  {
   "cell_type": "code",
   "execution_count": 38,
   "metadata": {},
   "outputs": [
    {
     "data": {
      "text/plain": [
       "count    2669.000000\n",
       "mean     1435.885725\n",
       "std       153.952959\n",
       "min       568.000000\n",
       "25%      1365.000000\n",
       "50%      1428.000000\n",
       "75%      1524.000000\n",
       "max      2216.000000\n",
       "Name: context_tokens, dtype: float64"
      ]
     },
     "execution_count": 38,
     "metadata": {},
     "output_type": "execute_result"
    }
   ],
   "source": [
    "top_cites_with_context_df['context_tokens'] = top_cites_with_context_df['context'].apply(lambda x: count_tokens(x))\n",
    "top_cites_with_context_df['context_tokens'].describe()"
   ]
  },
  {
   "cell_type": "code",
   "execution_count": 39,
   "metadata": {},
   "outputs": [
    {
     "data": {
      "text/plain": [
       "3832379"
      ]
     },
     "execution_count": 39,
     "metadata": {},
     "output_type": "execute_result"
    }
   ],
   "source": [
    "top_cites_with_context_df['context_tokens'].sum()"
   ]
  },
  {
   "cell_type": "code",
   "execution_count": 35,
   "metadata": {},
   "outputs": [
    {
     "data": {
      "text/html": [
       "<div>\n",
       "<style scoped>\n",
       "    .dataframe tbody tr th:only-of-type {\n",
       "        vertical-align: middle;\n",
       "    }\n",
       "\n",
       "    .dataframe tbody tr th {\n",
       "        vertical-align: top;\n",
       "    }\n",
       "\n",
       "    .dataframe thead th {\n",
       "        text-align: right;\n",
       "    }\n",
       "</style>\n",
       "<table border=\"1\" class=\"dataframe\">\n",
       "  <thead>\n",
       "    <tr style=\"text-align: right;\">\n",
       "      <th></th>\n",
       "      <th>id</th>\n",
       "      <th>citation</th>\n",
       "      <th>name</th>\n",
       "      <th>name_abbreviation</th>\n",
       "      <th>decision_date</th>\n",
       "      <th>court_id</th>\n",
       "      <th>court_name</th>\n",
       "      <th>court_slug</th>\n",
       "      <th>judges</th>\n",
       "      <th>attorneys</th>\n",
       "      <th>citations</th>\n",
       "      <th>url</th>\n",
       "      <th>head</th>\n",
       "      <th>body</th>\n",
       "      <th>name_contains_lm</th>\n",
       "      <th>body_contains_lm</th>\n",
       "      <th>year</th>\n",
       "      <th>context</th>\n",
       "      <th>context_citation</th>\n",
       "      <th>context_tokens</th>\n",
       "    </tr>\n",
       "  </thead>\n",
       "  <tbody>\n",
       "    <tr>\n",
       "      <th>0</th>\n",
       "      <td>411690</td>\n",
       "      <td>154 Ill. 2d 90</td>\n",
       "      <td>RICHARD R. JOHNSON, Plaintiff-Appellant and Cr...</td>\n",
       "      <td>Johnson v. Halloran</td>\n",
       "      <td>2000-01-13</td>\n",
       "      <td>8837</td>\n",
       "      <td>Illinois Appellate Court</td>\n",
       "      <td>ill-app-ct</td>\n",
       "      <td>[]</td>\n",
       "      <td>['Wolter, Beeman, Lynch &amp; McIntyre, of Springf...</td>\n",
       "      <td>[{'type': 'official', 'cite': '312 Ill. App. 3...</td>\n",
       "      <td>https://api.case.law/v1/cases/411690/</td>\n",
       "      <td>RICHARD R. JOHNSON, Plaintiff-Appellant and Cr...</td>\n",
       "      <td>JUSTICE HALL\\r\\ndelivered the opinion of the c...</td>\n",
       "      <td>False</td>\n",
       "      <td>True</td>\n",
       "      <td>2000</td>\n",
       "      <td>The public defender of Cook County was appoint...</td>\n",
       "      <td>154 Ill. 2d 90</td>\n",
       "      <td>1317</td>\n",
       "    </tr>\n",
       "    <tr>\n",
       "      <th>1</th>\n",
       "      <td>411690</td>\n",
       "      <td>607 N.E.2d 1204</td>\n",
       "      <td>RICHARD R. JOHNSON, Plaintiff-Appellant and Cr...</td>\n",
       "      <td>Johnson v. Halloran</td>\n",
       "      <td>2000-01-13</td>\n",
       "      <td>8837</td>\n",
       "      <td>Illinois Appellate Court</td>\n",
       "      <td>ill-app-ct</td>\n",
       "      <td>[]</td>\n",
       "      <td>['Wolter, Beeman, Lynch &amp; McIntyre, of Springf...</td>\n",
       "      <td>[{'type': 'official', 'cite': '312 Ill. App. 3...</td>\n",
       "      <td>https://api.case.law/v1/cases/411690/</td>\n",
       "      <td>RICHARD R. JOHNSON, Plaintiff-Appellant and Cr...</td>\n",
       "      <td>JUSTICE HALL\\r\\ndelivered the opinion of the c...</td>\n",
       "      <td>False</td>\n",
       "      <td>True</td>\n",
       "      <td>2000</td>\n",
       "      <td>The public defender of Cook County was appoint...</td>\n",
       "      <td>607 N.E.2d 1204</td>\n",
       "      <td>1317</td>\n",
       "    </tr>\n",
       "  </tbody>\n",
       "</table>\n",
       "</div>"
      ],
      "text/plain": [
       "       id         citation                                               name  \\\n",
       "0  411690   154 Ill. 2d 90  RICHARD R. JOHNSON, Plaintiff-Appellant and Cr...   \n",
       "1  411690  607 N.E.2d 1204  RICHARD R. JOHNSON, Plaintiff-Appellant and Cr...   \n",
       "\n",
       "     name_abbreviation decision_date  court_id                court_name  \\\n",
       "0  Johnson v. Halloran    2000-01-13      8837  Illinois Appellate Court   \n",
       "1  Johnson v. Halloran    2000-01-13      8837  Illinois Appellate Court   \n",
       "\n",
       "   court_slug judges                                          attorneys  \\\n",
       "0  ill-app-ct     []  ['Wolter, Beeman, Lynch & McIntyre, of Springf...   \n",
       "1  ill-app-ct     []  ['Wolter, Beeman, Lynch & McIntyre, of Springf...   \n",
       "\n",
       "                                           citations  \\\n",
       "0  [{'type': 'official', 'cite': '312 Ill. App. 3...   \n",
       "1  [{'type': 'official', 'cite': '312 Ill. App. 3...   \n",
       "\n",
       "                                     url  \\\n",
       "0  https://api.case.law/v1/cases/411690/   \n",
       "1  https://api.case.law/v1/cases/411690/   \n",
       "\n",
       "                                                head  \\\n",
       "0  RICHARD R. JOHNSON, Plaintiff-Appellant and Cr...   \n",
       "1  RICHARD R. JOHNSON, Plaintiff-Appellant and Cr...   \n",
       "\n",
       "                                                body  name_contains_lm  \\\n",
       "0  JUSTICE HALL\\r\\ndelivered the opinion of the c...             False   \n",
       "1  JUSTICE HALL\\r\\ndelivered the opinion of the c...             False   \n",
       "\n",
       "   body_contains_lm  year                                            context  \\\n",
       "0              True  2000  The public defender of Cook County was appoint...   \n",
       "1              True  2000  The public defender of Cook County was appoint...   \n",
       "\n",
       "  context_citation  context_tokens  \n",
       "0   154 Ill. 2d 90            1317  \n",
       "1  607 N.E.2d 1204            1317  "
      ]
     },
     "execution_count": 35,
     "metadata": {},
     "output_type": "execute_result"
    }
   ],
   "source": [
    "top_cites_with_context_df.head(2)"
   ]
  },
  {
   "cell_type": "code",
   "execution_count": 40,
   "metadata": {},
   "outputs": [],
   "source": [
    "top_cites_with_context_df.to_parquet('citation_data_with_context.parquet', index=False)"
   ]
  },
  {
   "cell_type": "code",
   "execution_count": 4,
   "metadata": {},
   "outputs": [],
   "source": [
    "top_cites_with_context_df = pd.read_parquet('citation_data_with_context.parquet')"
   ]
  },
  {
   "cell_type": "code",
   "execution_count": 5,
   "metadata": {},
   "outputs": [
    {
     "data": {
      "text/markdown": [
       "The defense in the criminal case was then assigned to assistant public defender Halloran. Pretrial discovery disclosed by the State in the criminal case included two Chicago police department lab reports. These lab reports showed that body fluids on the vaginal swab and panties of the victim immediately following the attack revealed the presence of H activity, indicating that such body fluids were from a person who was a secretor. The blood and saliva samples taken from the victim and from Johnson showed that they were both nonsecretors. These results established that Johnson could not have been the sole donor of the foreign body fluids found on the person or clothing of the victim. Halloran did not seek to use this information in the underlying criminal trial. Rather, at a pretrial hearing, Halloran presented a motion in limine to prohibit the State from introducing any evidence of blood, semen, or saliva testing. The circuit court granted Halloran’s motion in limine on September 4, 1992. Following a bench trial, Johnson was convicted in the underlying criminal case and was sentenced to 30 years in the Illinois Department of Corrections. Prior to this conviction, no DNA profile was performed on Johnson, the victim, or the victim’s husband. Johnson’s conviction was vacated on March 8, 1996, pursuant to a postconviction petition based on DNA test results. Prior to his release, Johnson sent a letter dated February 8, 1993, to defendant Rita A. Fry, public defender of Cook County, complaining about the legal representation he received in his criminal case. In this letter, Johnson specifically mentioned DNA evidence. Johnson also sent a letter to the Attorney Registration and Disciplinary Commission (ARDC) date stamped March 3, 1993, complaining about the legal representation he received from Halloran. In the instant case, defendants filed a motion to dismiss plaintiffs complaint based on the statute of limitations, which was denied. Defendants filed a motion for summary judgment on the basis of sovereign immunity, arguing that public defenders are employees of the state and therefore the circuit court lacked subject matter jurisdiction to hear this case because plaintiffs claims must be brought in the Illinois Court of Claims. The circuit court granted defendants’ motion on May 27, 1998. On appeal plaintiff contends that the circuit court erred in granting summary judgment in favor of the defendants on the basis of sovereign immunity because (a) public defenders are not agents or employees of the state, and (b) defendants’ professional duties to their clients do not arise solely as a result of their government employment. On cross-appeal defendants contend that the circuit court erred in finding that plaintiffs complaint was timely filed. DISCUSSION A. Standard of Review In appeals from summary judgment rulings, this court conducts a de novo review. Outboard Marine Corp. v. Liberty Mutual Insurance Co., 154 Ill. 2d 90, 607 N.E.2d 1204 (1992). Summary judgment is appropriate only when there are no genuine issues of material fact and the moving party is entitled to judgment as a matter of law. Purtill v. Hess, <mark>111 Ill. 2d 229</mark>, 489 N.E.2d 867 (1986). B. Sovereign Immunity Article XIII, section 4, of the Illinois Constitution of 1970 abolished sovereign immunity “[ejxcept as the General Assembly may provide by law.” Ill. Const. 1970, art. XIII, § 4. The legislature enacted the State Lawsuit Immunity Act, which provides in pertinent part: “Except as provided in *** ‘AN ACT to create the Court of Claims ***’, *** the State of Illinois shall not be made a defendant or party in any court.” 745 ILCS 5/1 (West 1996). The Court of Claims Act established the Court of Claims and endowed it with exclusive jurisdiction to hear certain matters, including “[a]ll claims against the State for damages in cases sounding in tort, if a like cause of action would lie against a private person or corporation in a civil suit.” 705 ILCS 505/8(d) (West 1996). The plaintiff argues that Cook County public defenders are county employees and, therefore, the circuit court erred in applying the doctrine of sovereign immunity. Defendants contend that they are employees of the state so that sovereign immunity would apply. 1. Source of Duty Whether or not public defenders are state employees or county employees, the circuit court erred in applying sovereign immunity in this case because defendants’ professional duties to their clients did not arise solely as a result of their government employment. Whether an action is a suit against the state or merely an action against an employee for his own individual acts of negligence depends upon the issues involved and the relief sought, rather than the formal designation of the parties. Currie v. Lao, 148 Ill. 2d 151, 592 N.E.2d 977 (1992); Healy v. Vaupel, 133 Ill. 2d 295, 549 N.E.2d 1240 (1990). A suit against a state employee in his individual capacity is a claim against the state when the judgment for the plaintiff could control the state’s actions or subject it to liability. Wozniak v. Conry, 288 Ill. App. 3d 129, 679 N.E.2d 1255 (1997). However, a state employee is not immunized by sovereign immunity for his own acts of negligence merely because he was acting within the scope of his employment. Currie, 148 Ill. 2d at 158; Wozniak, 288 Ill. App. 3d at 133. The supreme court has instructed that when determining whether a tort claim arising out of the alleged on-the-job negligence of a state employee is in reality a claim against the state, the proper inquiry is into the source of the duty the employee is charged with breaching. Currie, 148 Ill. 2d at 159. The supreme court explained the source-of-duty analysis as follows: “Where the charged act of negligence arose out of the State employee’s breach of a duty that is imposed on him solely by virtue of his State employment, sovereign immunity will bar maintenance of the action in circuit court. [Citations.] Conversely, where the employee is charged with breaching a duty imposed on him independently of his State employment, sovereign immunity will not attach and a negligence claim may be maintained against him in circuit court. [Citations.] In other words, where"
      ],
      "text/plain": [
       "<IPython.core.display.Markdown object>"
      ]
     },
     "execution_count": 5,
     "metadata": {},
     "output_type": "execute_result"
    }
   ],
   "source": [
    "from src.utils.citations import create_highlighted_citation\n",
    "\n",
    "example_context = top_cites_with_context_df['context'].tolist()[2]\n",
    "example_citation = top_cites_with_context_df['citation'].tolist()[2]\n",
    "\n",
    "html_text = create_highlighted_citation(\n",
    "    text=example_context,\n",
    "    target_citation=example_citation,\n",
    "    html=True)\n",
    "\n",
    "Markdown(html_text)"
   ]
  },
  {
   "cell_type": "code",
   "execution_count": 8,
   "metadata": {},
   "outputs": [],
   "source": [
    "import pandas as pd\n",
    "from typing import List\n",
    "from typing_extensions import Annotated\n",
    "from pydantic import BaseModel, Field\n",
    "from typing import Literal\n",
    "from tenacity import AsyncRetrying, stop_after_attempt, wait_fixed\n",
    "import instructor\n",
    "import openai\n",
    "from tqdm.asyncio import tqdm\n",
    "\n",
    "class CaseCitationReference(BaseModel):\n",
    "    \"\"\"A legal citation referenced in court document.\"\"\"\n",
    "    \n",
    "    summary: str = Field(\n",
    "        ...,\n",
    "        description=\"A summary the legal argument with respect to the citation of interest. When possible this should include the question or issue the cited case helped answer or address.\"\n",
    "    )\n",
    "    keywords: str = Field(\n",
    "        ...,\n",
    "        description='A list of keywords useful for associating the citation with its underlying topic.'\n",
    "    )\n",
    "\n",
    "async def analyze_citations(citation: str, context: str) -> CaseCitationReference:\n",
    "    \"\"\"\n",
    "    Asynchronously analyzes citations and returns a CaseCitationReference object.\n",
    "    \n",
    "    Args:\n",
    "        citation (str): The citation to analyze.\n",
    "        context (str): The context in which the citation is used.\n",
    "        \n",
    "    Returns:\n",
    "        CaseCitationReference: An object containing the summary and sentiment of the citation.\n",
    "    \"\"\"\n",
    "    client = instructor.patch(openai.AsyncOpenAI())\n",
    "    response = await client.chat.completions.create(\n",
    "        model=\"gpt-3.5-turbo\",\n",
    "        response_model=CaseCitationReference,\n",
    "        max_retries=AsyncRetrying(\n",
    "            stop=stop_after_attempt(3),\n",
    "            wait=wait_fixed(1),\n",
    "        ),\n",
    "        messages=[\n",
    "            {\n",
    "                \"role\": \"system\",\n",
    "                \"content\": \"Your role is to extract information about a legal citation using the context, which is an excerpt from a subsequent legal proceeding that referenced the citation of interest.\",\n",
    "            },\n",
    "            {\"role\": \"user\", \"content\": f\"Your task focuses on citation: **{citation}**\"},\n",
    "            {\"role\": \"user\", \"content\": f\"Here is the context: {context}\"}\n",
    "        ]\n",
    "    )\n",
    "    return response\n",
    "\n",
    "async def process_citations_with_progress(df: pd.DataFrame) -> pd.DataFrame:\n",
    "    \"\"\"\n",
    "    Asynchronously processes citations in a DataFrame and updates it with new attributes.\n",
    "    \n",
    "    Args:\n",
    "        df (pd.DataFrame): The DataFrame to process.\n",
    "        \n",
    "    Returns:\n",
    "        pd.DataFrame: The updated DataFrame with new attributes.\n",
    "    \"\"\"\n",
    "    # Ensure the DataFrame has the necessary columns\n",
    "    if 'context' not in df.columns:\n",
    "        raise ValueError(\"DataFrame must contain a 'context' column.\")\n",
    "    \n",
    "    # Prepare new columns for the DataFrame\n",
    "    df['summary'] = None\n",
    "    df['keywords'] = None\n",
    "    \n",
    "    # Convert DataFrame rows to a list of dictionaries for easier async processing\n",
    "    rows = df.to_dict('records')\n",
    "    \n",
    "    # Process each row asynchronously\n",
    "    async for row in tqdm(rows, total=len(rows)):\n",
    "        citation_reference = await analyze_citations(row['citation'], row['context'])\n",
    "        row['summary'] = citation_reference.summary\n",
    "        row['keywords'] = citation_reference.keywords\n",
    "    \n",
    "    # Convert the list of dictionaries back to a DataFrame\n",
    "    updated_df = pd.DataFrame(rows)\n",
    "    \n",
    "    return updated_df"
   ]
  },
  {
   "cell_type": "code",
   "execution_count": 9,
   "metadata": {},
   "outputs": [
    {
     "name": "stderr",
     "output_type": "stream",
     "text": [
      "100%|██████████| 2669/2669 [1:14:46<00:00,  1.68s/it]\n"
     ]
    }
   ],
   "source": [
    "import nest_asyncio\n",
    "nest_asyncio.apply()\n",
    "\n",
    "updated_df = await process_citations_with_progress(df=top_cites_with_context_df)"
   ]
  },
  {
   "cell_type": "code",
   "execution_count": 10,
   "metadata": {},
   "outputs": [],
   "source": [
    "updated_df.to_parquet('citation_lookup_data.parquet', index=False)"
   ]
  },
  {
   "cell_type": "code",
   "execution_count": 11,
   "metadata": {},
   "outputs": [],
   "source": [
    "df = pd.read_parquet('citation_lookup_data.parquet')"
   ]
  },
  {
   "cell_type": "code",
   "execution_count": 12,
   "metadata": {},
   "outputs": [
    {
     "data": {
      "text/markdown": [
       "* The legal standard for summary judgment and the burden of proof in the context of a declaratory judgment action\n",
       "* The case discussed in the context upheld the trial court's finding that an affidavit complied with Rule 191(a) despite technical deficiencies in identifying certain details of conversations.\n",
       "* The case Crum & Forster Managers Corp. v. Resolution Trust Corp., 156 Ill. 2d 384 (1993), is cited in the legal document to support the principle that the construction of insurance policy provisions is a question of law that can be decided in a motion for summary judgment.\n",
       "* The citation 106 S. Ct. 2505 is referenced in a legal proceeding discussing the standard of review for summary judgment. It states that summary judgment must be granted when there is no genuine dispute as to any material fact and the movant is entitled to judgment as a matter of law, referencing the case Anderson v. Liberty Lobby, Inc.\n",
       "* The legal standard for summary judgment in the context refers to no genuine issue as to any material fact and the moving party being entitled to judgment as a matter of law. It also mentions the standard set forth in Anderson v. Liberty Lobby, Inc., 477 U.S. 242, 106 S.Ct. 2505, regarding what constitutes a genuine dispute about a material fact.\n",
       "* The citation 265 N.C. 431 is referenced in a legal proceeding to illustrate the court's duty in determining whether competent evidence supports the Commission's findings of fact.\n",
       "* To survive a motion to dismiss, a complaint must have 'facial plausibility,' meaning it must 'plead[ ] factual content that allows the court to draw the reasonable inference that the defendant is liable for the misconduct alleged.'\n",
       "* The case of State Farm Mutual Automobile Insurance Co. v. Smith, 197 Ill. 2d 369, 757 N.E.2d 881 (2001), discusses the inappropriateness of awarding costs and sanctions when there is a bona fide dispute concerning coverage in an insurance claim.\n",
       "* Crum & Forster Managers Corp. v. Resolution Trust Corp., 156 Ill. 2d 384, 393, 620 N.E.2d 1073 (1993) discusses an insurer's duty to defend and the obligation to defend its insured based on the allegations in the underlying complaint compared to the language of the insurance policy.\n",
       "* The court must award summary judgment with caution to avoid preempting a litigant’s right to trial by jury or his right to present fully the factual basis of a case where a material dispute may exist. In determining a summary judgment motion, the court must construe the pleadings, affidavits, depositions and admissions on file strictly against the moving party and liberally in favor of the opponent. In re Estate of Hoover, 155 Ill. 2d 402, 410-11, 615 N.E.2d 736 (1993)."
      ],
      "text/plain": [
       "<IPython.core.display.Markdown object>"
      ]
     },
     "metadata": {},
     "output_type": "display_data"
    }
   ],
   "source": [
    "from IPython.display import Markdown, display\n",
    "\n",
    "display(Markdown('\\n'.join([f'* {summary}' for summary in df.sample(10)['summary'].tolist()])))"
   ]
  },
  {
   "cell_type": "code",
   "execution_count": 13,
   "metadata": {},
   "outputs": [
    {
     "data": {
      "text/html": [
       "<div>\n",
       "<style scoped>\n",
       "    .dataframe tbody tr th:only-of-type {\n",
       "        vertical-align: middle;\n",
       "    }\n",
       "\n",
       "    .dataframe tbody tr th {\n",
       "        vertical-align: top;\n",
       "    }\n",
       "\n",
       "    .dataframe thead th {\n",
       "        text-align: right;\n",
       "    }\n",
       "</style>\n",
       "<table border=\"1\" class=\"dataframe\">\n",
       "  <thead>\n",
       "    <tr style=\"text-align: right;\">\n",
       "      <th></th>\n",
       "      <th>id</th>\n",
       "      <th>citation</th>\n",
       "      <th>name</th>\n",
       "      <th>name_abbreviation</th>\n",
       "      <th>decision_date</th>\n",
       "      <th>court_id</th>\n",
       "      <th>court_name</th>\n",
       "      <th>court_slug</th>\n",
       "      <th>judges</th>\n",
       "      <th>attorneys</th>\n",
       "      <th>citations</th>\n",
       "      <th>url</th>\n",
       "      <th>head</th>\n",
       "      <th>body</th>\n",
       "      <th>name_contains_lm</th>\n",
       "      <th>body_contains_lm</th>\n",
       "      <th>year</th>\n",
       "      <th>context</th>\n",
       "      <th>context_citation</th>\n",
       "      <th>context_tokens</th>\n",
       "      <th>summary</th>\n",
       "      <th>keywords</th>\n",
       "    </tr>\n",
       "  </thead>\n",
       "  <tbody>\n",
       "    <tr>\n",
       "      <th>0</th>\n",
       "      <td>411690</td>\n",
       "      <td>154 Ill. 2d 90</td>\n",
       "      <td>RICHARD R. JOHNSON, Plaintiff-Appellant and Cr...</td>\n",
       "      <td>Johnson v. Halloran</td>\n",
       "      <td>2000-01-13</td>\n",
       "      <td>8837</td>\n",
       "      <td>Illinois Appellate Court</td>\n",
       "      <td>ill-app-ct</td>\n",
       "      <td>[]</td>\n",
       "      <td>['Wolter, Beeman, Lynch &amp; McIntyre, of Springf...</td>\n",
       "      <td>[{'type': 'official', 'cite': '312 Ill. App. 3...</td>\n",
       "      <td>https://api.case.law/v1/cases/411690/</td>\n",
       "      <td>RICHARD R. JOHNSON, Plaintiff-Appellant and Cr...</td>\n",
       "      <td>JUSTICE HALL\\r\\ndelivered the opinion of the c...</td>\n",
       "      <td>False</td>\n",
       "      <td>True</td>\n",
       "      <td>2000</td>\n",
       "      <td>The public defender of Cook County was appoint...</td>\n",
       "      <td>154 Ill. 2d 90</td>\n",
       "      <td>1317</td>\n",
       "      <td>The case Outboard Marine Corp. v. Liberty Mutu...</td>\n",
       "      <td>appeals, summary judgment, standard of review,...</td>\n",
       "    </tr>\n",
       "    <tr>\n",
       "      <th>1</th>\n",
       "      <td>411690</td>\n",
       "      <td>607 N.E.2d 1204</td>\n",
       "      <td>RICHARD R. JOHNSON, Plaintiff-Appellant and Cr...</td>\n",
       "      <td>Johnson v. Halloran</td>\n",
       "      <td>2000-01-13</td>\n",
       "      <td>8837</td>\n",
       "      <td>Illinois Appellate Court</td>\n",
       "      <td>ill-app-ct</td>\n",
       "      <td>[]</td>\n",
       "      <td>['Wolter, Beeman, Lynch &amp; McIntyre, of Springf...</td>\n",
       "      <td>[{'type': 'official', 'cite': '312 Ill. App. 3...</td>\n",
       "      <td>https://api.case.law/v1/cases/411690/</td>\n",
       "      <td>RICHARD R. JOHNSON, Plaintiff-Appellant and Cr...</td>\n",
       "      <td>JUSTICE HALL\\r\\ndelivered the opinion of the c...</td>\n",
       "      <td>False</td>\n",
       "      <td>True</td>\n",
       "      <td>2000</td>\n",
       "      <td>The public defender of Cook County was appoint...</td>\n",
       "      <td>607 N.E.2d 1204</td>\n",
       "      <td>1317</td>\n",
       "      <td>The case Outboard Marine Corp. v. Liberty Mutu...</td>\n",
       "      <td>summary judgment, de novo review, genuine issu...</td>\n",
       "    </tr>\n",
       "  </tbody>\n",
       "</table>\n",
       "</div>"
      ],
      "text/plain": [
       "       id         citation                                               name  \\\n",
       "0  411690   154 Ill. 2d 90  RICHARD R. JOHNSON, Plaintiff-Appellant and Cr...   \n",
       "1  411690  607 N.E.2d 1204  RICHARD R. JOHNSON, Plaintiff-Appellant and Cr...   \n",
       "\n",
       "     name_abbreviation decision_date  court_id                court_name  \\\n",
       "0  Johnson v. Halloran    2000-01-13      8837  Illinois Appellate Court   \n",
       "1  Johnson v. Halloran    2000-01-13      8837  Illinois Appellate Court   \n",
       "\n",
       "   court_slug judges                                          attorneys  \\\n",
       "0  ill-app-ct     []  ['Wolter, Beeman, Lynch & McIntyre, of Springf...   \n",
       "1  ill-app-ct     []  ['Wolter, Beeman, Lynch & McIntyre, of Springf...   \n",
       "\n",
       "                                           citations  \\\n",
       "0  [{'type': 'official', 'cite': '312 Ill. App. 3...   \n",
       "1  [{'type': 'official', 'cite': '312 Ill. App. 3...   \n",
       "\n",
       "                                     url  \\\n",
       "0  https://api.case.law/v1/cases/411690/   \n",
       "1  https://api.case.law/v1/cases/411690/   \n",
       "\n",
       "                                                head  \\\n",
       "0  RICHARD R. JOHNSON, Plaintiff-Appellant and Cr...   \n",
       "1  RICHARD R. JOHNSON, Plaintiff-Appellant and Cr...   \n",
       "\n",
       "                                                body  name_contains_lm  \\\n",
       "0  JUSTICE HALL\\r\\ndelivered the opinion of the c...             False   \n",
       "1  JUSTICE HALL\\r\\ndelivered the opinion of the c...             False   \n",
       "\n",
       "   body_contains_lm  year                                            context  \\\n",
       "0              True  2000  The public defender of Cook County was appoint...   \n",
       "1              True  2000  The public defender of Cook County was appoint...   \n",
       "\n",
       "  context_citation  context_tokens  \\\n",
       "0   154 Ill. 2d 90            1317   \n",
       "1  607 N.E.2d 1204            1317   \n",
       "\n",
       "                                             summary  \\\n",
       "0  The case Outboard Marine Corp. v. Liberty Mutu...   \n",
       "1  The case Outboard Marine Corp. v. Liberty Mutu...   \n",
       "\n",
       "                                            keywords  \n",
       "0  appeals, summary judgment, standard of review,...  \n",
       "1  summary judgment, de novo review, genuine issu...  "
      ]
     },
     "execution_count": 13,
     "metadata": {},
     "output_type": "execute_result"
    }
   ],
   "source": [
    "df.head(2)"
   ]
  },
  {
   "cell_type": "code",
   "execution_count": 14,
   "metadata": {},
   "outputs": [],
   "source": [
    "from src.utils.gen_utils import count_tokens\n",
    "\n",
    "df['summary_tokens'] = df['summary'].apply(lambda x: count_tokens(x))"
   ]
  },
  {
   "cell_type": "code",
   "execution_count": 15,
   "metadata": {},
   "outputs": [],
   "source": [
    "def create_context(\n",
    "    df: pd.DataFrame,\n",
    "    context_token_limit: int = 50000\n",
    ") -> str:\n",
    "    \"\"\"\n",
    "    Creates a context string from a DataFrame within a specified token limit.\n",
    "\n",
    "    Args:\n",
    "        df (pd.DataFrame): The DataFrame containing case data.\n",
    "        context_token_limit (int): The maximum number of tokens for the context.\n",
    "\n",
    "    Returns:\n",
    "        str: A formatted string containing case details within the token limit.\n",
    "    \"\"\"\n",
    "    df.reset_index(drop=True, inplace=True)\n",
    "    returns = []\n",
    "    count = 1\n",
    "    total_tokens = 100  # Starting token count to account for initial text.\n",
    "    # Add the text to the context until the context is too long.\n",
    "    for _, row in df.iterrows():\n",
    "        text = (\n",
    "            f\"[{count}] [{row['name']}]({row['url']})\\n\"\n",
    "            f\"Decision date: {row['year']}\\n\"\n",
    "            f\"Summary: {row['summary']}\\n\"\n",
    "            f\"Keywords: {row['keywords']}\\n\"\n",
    "            \"-----------------------------------------\\n\"\n",
    "        )\n",
    "        text_tokens = count_tokens(text)\n",
    "        if total_tokens + text_tokens > context_token_limit:\n",
    "            break\n",
    "        returns.append(text)\n",
    "        total_tokens += text_tokens\n",
    "        count += 1\n",
    "    return \"\\n\\n\".join(returns)"
   ]
  },
  {
   "cell_type": "code",
   "execution_count": 16,
   "metadata": {},
   "outputs": [],
   "source": [
    "from typing import Optional, List\n",
    "from pydantic import BaseModel, Field\n",
    "\n",
    "class CitationInformation(BaseModel):\n",
    "    \"\"\"Generalized information about a legal citation.\"\"\"\n",
    "\n",
    "    citation: str = Field(\n",
    "        ...,\n",
    "        description=\"The Citation specified by the user.\",\n",
    "    )\n",
    "    summary: str = Field(\n",
    "        ...,\n",
    "        description=\"A fact-focused summary of the citation's scope of authority as evidenced by its past use.\",\n",
    "    )\n",
    "    questions: List[str] = Field(\n",
    "        default_factory=list,\n",
    "        description=\"A list of named-entity-free generalized questions, or potential questions the cited case can help answer or address. Do NOT reference specific entities, but rather the broader idea, theory or concept.\",\n",
    "    )\n",
    "    keywords: List[str] = Field(\n",
    "        default_factory=list,\n",
    "        description=\"A correctly resolved list of important keywords from the Context. Group similar topics together.\"\n",
    "    )\n",
    "    recency: Optional[str] = Field(\n",
    "        None,\n",
    "        description=\"Optional summary of changes in the interpretation or use of the cited case with a focus on the most recent (listed toward the end of the Context) texts.\",\n",
    "    )\n",
    "\n",
    "    def __str__(self) -> str:\n",
    "        \"\"\"Pretty prints the citation information, wrapping the summary, keywords, and recency text, and listing questions as bullet points.\"\"\"\n",
    "        from textwrap import fill\n",
    "        summary_wrapped = fill(self.summary, width=100)\n",
    "        questions_formatted = '\\n'.join([f\"- {q}\" for q in self.questions])\n",
    "        keywords_wrapped = fill(', '.join(self.keywords), width=100)\n",
    "        recency_wrapped = fill(self.recency, width=100) if self.recency else \"No recent observations.\"\n",
    "        return (\n",
    "            f\"Citation: {self.citation}\\n\"\n",
    "            f\"Summary:\\n{summary_wrapped}\\n\"\n",
    "            f\"Questions:\\n{questions_formatted}\\n\"\n",
    "            f\"Keywords:\\n{keywords_wrapped}\\n\"\n",
    "            f\"Recency:\\n{recency_wrapped}\"\n",
    "        )\n"
   ]
  },
  {
   "cell_type": "code",
   "execution_count": 17,
   "metadata": {},
   "outputs": [],
   "source": [
    "import instructor\n",
    "import openai\n",
    "from tenacity import Retrying, stop_after_attempt, wait_fixed\n",
    "\n",
    "def analyze_citation(\n",
    "    citation: str, excerpts: str\n",
    ") -> CitationInformation:\n",
    "    client = instructor.patch(openai.OpenAI())\n",
    "    return client.chat.completions.create(\n",
    "        model=\"gpt-4-turbo-preview\",\n",
    "        seed=42,\n",
    "        response_model=CitationInformation,\n",
    "        max_retries=Retrying(\n",
    "            stop=stop_after_attempt(5),\n",
    "            wait=wait_fixed(1),\n",
    "        ),\n",
    "        messages=[\n",
    "            {\n",
    "                \"role\": \"system\",\n",
    "                \"content\": \"Your role is to analyze Context, which is previously extracted information about a legal case law citation, and distill down the main takeaways using the correct format. The goal is to support downstream retrieval for users who will be submitting natural language queries to return relevant and useful case citations.\",\n",
    "            },\n",
    "            {\n",
    "                \"role\": \"user\",\n",
    "                \"content\": f\"Your task focuses on citation: **{citation}**\",\n",
    "            },\n",
    "            {   \"role\": \"user\", \"content\": f\"Here is the Context, remember to limit the use of named entities especially on the questions: {excerpts}\"},\n",
    "        ],\n",
    "    )"
   ]
  },
  {
   "cell_type": "code",
   "execution_count": 18,
   "metadata": {},
   "outputs": [],
   "source": [
    "df.sort_values(by='year', ascending=False)\n",
    "test_cite = df[df['citation']=='154 Ill. 2d 90']\n",
    "\n",
    "context = create_context(test_cite)"
   ]
  },
  {
   "cell_type": "code",
   "execution_count": 19,
   "metadata": {},
   "outputs": [],
   "source": [
    "test_res = analyze_citation(citation='154 Ill. 2d 90', excerpts=context)"
   ]
  },
  {
   "cell_type": "code",
   "execution_count": 20,
   "metadata": {},
   "outputs": [
    {
     "name": "stdout",
     "output_type": "stream",
     "text": [
      "Citation: 154 Ill. 2d 90\n",
      "Summary:\n",
      "The case Outboard Marine Corp. v. Liberty Mutual Insurance Co., 154 Ill. 2d 90, is a leading case\n",
      "establishing important principles concerning the standard for granting summary judgment, the concept\n",
      "of de novo review in appellate cases, and the interpretation of insurance policies, particularly\n",
      "regarding the duty of insurers to defend their insureds. It outlines that the review of a grant of\n",
      "summary judgment is conducted de novo, meaning that the appellate court examines the case anew, as\n",
      "if the trial court's decision had not been made, to determine if the movant's right to judgment is\n",
      "clear and free from doubt. This ruling also emphasizes the insurers' broader duty to defend their\n",
      "insureds based on the allegations in the underlying complaint compared to the policy language,\n",
      "indicating that if the facts alleged potentially fall within the policy coverage, the insurer must\n",
      "defend the insured.\n",
      "Questions:\n",
      "- What is the standard for granting summary judgment according to Illinois law?\n",
      "- How does the Outboard Marine Corp. case define the duty of an insurer to defend its insured?\n",
      "- What does de novo review entail in the context of appellate cases concerning summary judgment?\n",
      "Keywords:\n",
      "summary judgment, de novo review, insurance policy interpretation, duty to defend, Outboard Marine\n",
      "Corp. v. Liberty Mutual Insurance Co., insurer, insured, allegations in underlying complaint, policy\n",
      "coverage, Illinois law\n",
      "Recency:\n",
      "No recent observations.\n"
     ]
    }
   ],
   "source": [
    "print(test_res)"
   ]
  },
  {
   "cell_type": "code",
   "execution_count": 21,
   "metadata": {},
   "outputs": [
    {
     "data": {
      "text/plain": [
       "117"
      ]
     },
     "execution_count": 21,
     "metadata": {},
     "output_type": "execute_result"
    }
   ],
   "source": [
    "citation_list = df['citation'].unique().tolist()\n",
    "len(citation_list)"
   ]
  },
  {
   "cell_type": "code",
   "execution_count": 22,
   "metadata": {},
   "outputs": [
    {
     "name": "stderr",
     "output_type": "stream",
     "text": [
      "Analyzing citations: 100%|██████████| 117/117 [19:28<00:00,  9.99s/it]\n"
     ]
    }
   ],
   "source": [
    "from tqdm import tqdm\n",
    "\n",
    "results = []\n",
    "\n",
    "for citation in tqdm(citation_list, desc=\"Analyzing citations\"):\n",
    "    temp_df = df[df['citation'] == citation]    \n",
    "    context = create_context(temp_df)\n",
    "    result = analyze_citation(citation=citation, excerpts=context)\n",
    "    results.append(result)"
   ]
  },
  {
   "cell_type": "code",
   "execution_count": 25,
   "metadata": {},
   "outputs": [],
   "source": [
    "from datetime import datetime\n",
    "\n",
    "local_tz = str(datetime.now().astimezone().tzinfo)\n",
    "def get_timestamp(local_tz=local_tz):\n",
    "    return datetime.now().astimezone().isoformat()[:-9] + \"-\" + local_tz"
   ]
  },
  {
   "cell_type": "code",
   "execution_count": 26,
   "metadata": {},
   "outputs": [
    {
     "data": {
      "text/plain": [
       "'2024-04-04T22:19:12.493-Central Daylight Time'"
      ]
     },
     "execution_count": 26,
     "metadata": {},
     "output_type": "execute_result"
    }
   ],
   "source": [
    "get_timestamp()"
   ]
  },
  {
   "cell_type": "code",
   "execution_count": 27,
   "metadata": {},
   "outputs": [],
   "source": [
    "# Convert to DataFrame excluding 'questions', 'keywords' as joined string\n",
    "df1 = pd.DataFrame([{\n",
    "    'citation': ci.citation,\n",
    "    'summary': ci.summary,\n",
    "    'keywords': ', '.join(ci.keywords),\n",
    "    'recency': ci.recency\n",
    "} for ci in results])\n",
    "\n",
    "# Convert to DataFrame for 'citation' and 'question', each question in its own row\n",
    "df2_rows = [(ci.citation, question) for ci in results for question in ci.questions]\n",
    "df2 = pd.DataFrame(df2_rows, columns=['citation', 'question'])"
   ]
  },
  {
   "cell_type": "code",
   "execution_count": 31,
   "metadata": {},
   "outputs": [
    {
     "data": {
      "text/plain": [
       "((117, 4), (659, 2))"
      ]
     },
     "execution_count": 31,
     "metadata": {},
     "output_type": "execute_result"
    }
   ],
   "source": [
    "df1.to_parquet('citation_summary_keywords.parquet', index=False)\n",
    "df2.to_parquet('citation_questions.parquet', index=False)\n",
    "df1.shape, df2.shape"
   ]
  },
  {
   "cell_type": "code",
   "execution_count": 33,
   "metadata": {},
   "outputs": [],
   "source": [
    "from src.doc_store.utils import save_models_to_json, load_models_from_json"
   ]
  },
  {
   "cell_type": "code",
   "execution_count": 34,
   "metadata": {},
   "outputs": [],
   "source": [
    "save_models_to_json(results, './data/citation_search_data.json')"
   ]
  },
  {
   "cell_type": "code",
   "execution_count": 35,
   "metadata": {},
   "outputs": [],
   "source": [
    "results = load_models_from_json(CitationInformation, './data/citation_search_data.json')"
   ]
  },
  {
   "cell_type": "code",
   "execution_count": 36,
   "metadata": {},
   "outputs": [
    {
     "data": {
      "text/plain": [
       "117"
      ]
     },
     "execution_count": 36,
     "metadata": {},
     "output_type": "execute_result"
    }
   ],
   "source": [
    "len(results)"
   ]
  },
  {
   "cell_type": "code",
   "execution_count": 37,
   "metadata": {},
   "outputs": [
    {
     "name": "stdout",
     "output_type": "stream",
     "text": [
      "Citation: 154 Ill. 2d 90\n",
      "Summary:\n",
      "The case Outboard Marine Corp. v. Liberty Mutual Insurance Co., 154 Ill. 2d 90, is cited for setting\n",
      "legal standards in multiple aspects. It primarily addresses the interpretation of insurance policy\n",
      "provisions, emphasizing that provisions limiting or excluding coverage must be construed liberally\n",
      "in favor of the insured and against the insurer who drafted such language. It further establishes\n",
      "the principle that an insurer's duty to defend is broader than its duty to indemnify, determined by\n",
      "comparing the allegations in the underlying complaint to the language of the insurance policy. The\n",
      "court also held that summary judgment should only be granted when the movant's right to judgment is\n",
      "clear and free from doubt, setting the standard for reviewing summary judgment motions as de novo.\n",
      "Additionally, the case touches upon the insurer's obligation to repay settlement costs arising from\n",
      "the duty to indemnify and highlights that coverage disputes and policy language interpretations\n",
      "arise as key issues in legal proceedings related to insurance.\n",
      "Questions:\n",
      "- What are the key principles established by the case on interpreting insurance policy provisions?\n",
      "- How does the case distinguish between an insurer's duty to defend and its duty to indemnify?\n",
      "- What standard does the case set for granting summary judgment?\n",
      "- How should courts conduct reviews of summary judgment motions according to the case?\n",
      "- What does the case say about an insurer's obligation to repay settlement costs related to the duty to indemnify?\n",
      "- In what types of legal proceedings is the case often cited in relation to insurance disputes?\n",
      "Keywords:\n",
      "insurance policy interpretation, duty to defend, duty to indemnify, summary judgment, de novo\n",
      "review, coverage disputes, settlement costs, policy language, provisions excluding coverage,\n",
      "underlying complaint, liberal construction\n",
      "Recency:\n",
      "No recent observations.\n"
     ]
    }
   ],
   "source": [
    "print(results[0])"
   ]
  },
  {
   "cell_type": "code",
   "execution_count": 41,
   "metadata": {},
   "outputs": [
    {
     "data": {
      "text/markdown": [
       "| citation        | summary                                                                                                                                                                                                                                                                                                                                                                                                                                                                                                                                                                                                                                                                                                                                                                                                                                                                                                                                                                                                                                                                                       | keywords                                                                                                                                                                                                                                                                                     | recency   |\n",
       "|:----------------|:----------------------------------------------------------------------------------------------------------------------------------------------------------------------------------------------------------------------------------------------------------------------------------------------------------------------------------------------------------------------------------------------------------------------------------------------------------------------------------------------------------------------------------------------------------------------------------------------------------------------------------------------------------------------------------------------------------------------------------------------------------------------------------------------------------------------------------------------------------------------------------------------------------------------------------------------------------------------------------------------------------------------------------------------------------------------------------------------|:---------------------------------------------------------------------------------------------------------------------------------------------------------------------------------------------------------------------------------------------------------------------------------------------|:----------|\n",
       "| 154 Ill. 2d 90  | The case Outboard Marine Corp. v. Liberty Mutual Insurance Co., 154 Ill. 2d 90, is cited for setting legal standards in multiple aspects. It primarily addresses the interpretation of insurance policy provisions, emphasizing that provisions limiting or excluding coverage must be construed liberally in favor of the insured and against the insurer who drafted such language. It further establishes the principle that an insurer's duty to defend is broader than its duty to indemnify, determined by comparing the allegations in the underlying complaint to the language of the insurance policy. The court also held that summary judgment should only be granted when the movant's right to judgment is clear and free from doubt, setting the standard for reviewing summary judgment motions as de novo. Additionally, the case touches upon the insurer's obligation to repay settlement costs arising from the duty to indemnify and highlights that coverage disputes and policy language interpretations arise as key issues in legal proceedings related to insurance. | insurance policy interpretation, duty to defend, duty to indemnify, summary judgment, de novo review, coverage disputes, settlement costs, policy language, provisions excluding coverage, underlying complaint, liberal construction                                                        |           |\n",
       "| 607 N.E.2d 1204 | Outboard Marine Corp. v. Liberty Mutual Insurance Co., 154 Ill. 2d 90, 607 N.E.2d 1204 (1992), established principles for interpreting insurance policies, focusing on determining the intent of the parties to the contract, the construction of an insurance policy's provisions, and the determination of the rights and obligations under that policy. It also clarified the standards for granting summary judgment by stating that summary judgment should only be granted when the movant's right to judgment is clear and free from doubt, and it should be reviewed de novo. The case is frequently cited as a precedent for principles regarding the duty of an insurer to defend its insured, the interpretation of ambiguous policy terms in favor of the insured, and the liberal construction of insurance policies to favor coverage.                                                                                                                                                                                                                                          | insurance policy interpretation, ambiguity in policy terms, duty to defend, summary judgment, interpretation favoring coverage, intent of the parties, contract construction, Outboard Marine Corp., Liberty Mutual Insurance Co., movant's right, clear and free from doubt, de novo review |           |"
      ],
      "text/plain": [
       "<IPython.core.display.Markdown object>"
      ]
     },
     "execution_count": 41,
     "metadata": {},
     "output_type": "execute_result"
    }
   ],
   "source": [
    "Markdown(df1.head(2).to_markdown(index=False))"
   ]
  },
  {
   "cell_type": "code",
   "execution_count": 43,
   "metadata": {},
   "outputs": [
    {
     "data": {
      "text/markdown": [
       "| citation       | question                                                                                                         |\n",
       "|:---------------|:-----------------------------------------------------------------------------------------------------------------|\n",
       "| 154 Ill. 2d 90 | What are the key principles established by the case on interpreting insurance policy provisions?                 |\n",
       "| 154 Ill. 2d 90 | How does the case distinguish between an insurer's duty to defend and its duty to indemnify?                     |\n",
       "| 154 Ill. 2d 90 | What standard does the case set for granting summary judgment?                                                   |\n",
       "| 154 Ill. 2d 90 | How should courts conduct reviews of summary judgment motions according to the case?                             |\n",
       "| 154 Ill. 2d 90 | What does the case say about an insurer's obligation to repay settlement costs related to the duty to indemnify? |"
      ],
      "text/plain": [
       "<IPython.core.display.Markdown object>"
      ]
     },
     "execution_count": 43,
     "metadata": {},
     "output_type": "execute_result"
    }
   ],
   "source": [
    "Markdown(df2.head().to_markdown(index=False))"
   ]
  },
  {
   "cell_type": "code",
   "execution_count": 38,
   "metadata": {},
   "outputs": [],
   "source": [
    "from src.embedding_models.models import OpenAIEmbeddings"
   ]
  },
  {
   "cell_type": "code",
   "execution_count": 45,
   "metadata": {},
   "outputs": [],
   "source": [
    "embeddings = OpenAIEmbeddings()\n",
    "embed_fn = embeddings.embedding_fn()\n",
    "\n",
    "summary_vecs = embed_fn(df1['summary'].tolist())\n",
    "df1['openai_embeddings_summary'] = summary_vecs\n",
    "\n",
    "question_vecs = embed_fn(df2['question'].tolist())\n",
    "df2['openai_embeddings_question'] = question_vecs"
   ]
  },
  {
   "cell_type": "code",
   "execution_count": 47,
   "metadata": {},
   "outputs": [
    {
     "data": {
      "text/html": [
       "<div>\n",
       "<style scoped>\n",
       "    .dataframe tbody tr th:only-of-type {\n",
       "        vertical-align: middle;\n",
       "    }\n",
       "\n",
       "    .dataframe tbody tr th {\n",
       "        vertical-align: top;\n",
       "    }\n",
       "\n",
       "    .dataframe thead th {\n",
       "        text-align: right;\n",
       "    }\n",
       "</style>\n",
       "<table border=\"1\" class=\"dataframe\">\n",
       "  <thead>\n",
       "    <tr style=\"text-align: right;\">\n",
       "      <th></th>\n",
       "      <th>citation</th>\n",
       "      <th>summary</th>\n",
       "      <th>keywords</th>\n",
       "      <th>recency</th>\n",
       "      <th>openai_embeddings_summary</th>\n",
       "    </tr>\n",
       "  </thead>\n",
       "  <tbody>\n",
       "    <tr>\n",
       "      <th>0</th>\n",
       "      <td>154 Ill. 2d 90</td>\n",
       "      <td>The case Outboard Marine Corp. v. Liberty Mutu...</td>\n",
       "      <td>insurance policy interpretation, duty to defen...</td>\n",
       "      <td>None</td>\n",
       "      <td>[-0.01926794834434986, 0.0018745827255770564, ...</td>\n",
       "    </tr>\n",
       "    <tr>\n",
       "      <th>1</th>\n",
       "      <td>607 N.E.2d 1204</td>\n",
       "      <td>Outboard Marine Corp. v. Liberty Mutual Insura...</td>\n",
       "      <td>insurance policy interpretation, ambiguity in ...</td>\n",
       "      <td>None</td>\n",
       "      <td>[-0.018108054995536804, -0.0009786781156435609...</td>\n",
       "    </tr>\n",
       "    <tr>\n",
       "      <th>2</th>\n",
       "      <td>111 Ill. 2d 229</td>\n",
       "      <td>The citation references Purtill v. Hess as a s...</td>\n",
       "      <td>summary judgment, material fact, moving party,...</td>\n",
       "      <td>None</td>\n",
       "      <td>[-0.003897976828739047, 0.01571042649447918, 0...</td>\n",
       "    </tr>\n",
       "    <tr>\n",
       "      <th>3</th>\n",
       "      <td>489 N.E.2d 867</td>\n",
       "      <td>The case of Purtill v. Hess, 489 N.E.2d 867 (1...</td>\n",
       "      <td>summary judgment, appeals, common law negligen...</td>\n",
       "      <td>The case's interpretation concerning summary j...</td>\n",
       "      <td>[-0.003980935085564852, 0.021972907707095146, ...</td>\n",
       "    </tr>\n",
       "    <tr>\n",
       "      <th>4</th>\n",
       "      <td>158 Ill. 2d 116</td>\n",
       "      <td>The seminal case of National Union Fire Insura...</td>\n",
       "      <td>insurance policy, coverage, liability, endorse...</td>\n",
       "      <td>The case continues to be referenced in numerou...</td>\n",
       "      <td>[-0.012328366748988628, -0.013215634971857071,...</td>\n",
       "    </tr>\n",
       "  </tbody>\n",
       "</table>\n",
       "</div>"
      ],
      "text/plain": [
       "          citation                                            summary  \\\n",
       "0   154 Ill. 2d 90  The case Outboard Marine Corp. v. Liberty Mutu...   \n",
       "1  607 N.E.2d 1204  Outboard Marine Corp. v. Liberty Mutual Insura...   \n",
       "2  111 Ill. 2d 229  The citation references Purtill v. Hess as a s...   \n",
       "3   489 N.E.2d 867  The case of Purtill v. Hess, 489 N.E.2d 867 (1...   \n",
       "4  158 Ill. 2d 116  The seminal case of National Union Fire Insura...   \n",
       "\n",
       "                                            keywords  \\\n",
       "0  insurance policy interpretation, duty to defen...   \n",
       "1  insurance policy interpretation, ambiguity in ...   \n",
       "2  summary judgment, material fact, moving party,...   \n",
       "3  summary judgment, appeals, common law negligen...   \n",
       "4  insurance policy, coverage, liability, endorse...   \n",
       "\n",
       "                                             recency  \\\n",
       "0                                               None   \n",
       "1                                               None   \n",
       "2                                               None   \n",
       "3  The case's interpretation concerning summary j...   \n",
       "4  The case continues to be referenced in numerou...   \n",
       "\n",
       "                           openai_embeddings_summary  \n",
       "0  [-0.01926794834434986, 0.0018745827255770564, ...  \n",
       "1  [-0.018108054995536804, -0.0009786781156435609...  \n",
       "2  [-0.003897976828739047, 0.01571042649447918, 0...  \n",
       "3  [-0.003980935085564852, 0.021972907707095146, ...  \n",
       "4  [-0.012328366748988628, -0.013215634971857071,...  "
      ]
     },
     "execution_count": 47,
     "metadata": {},
     "output_type": "execute_result"
    }
   ],
   "source": [
    "df1.head()"
   ]
  },
  {
   "cell_type": "code",
   "execution_count": 48,
   "metadata": {},
   "outputs": [],
   "source": [
    "from src.agent.tools.splade_search import SparseEmbeddingsSplade"
   ]
  },
  {
   "cell_type": "code",
   "execution_count": 49,
   "metadata": {},
   "outputs": [
    {
     "name": "stderr",
     "output_type": "stream",
     "text": [
      "2024-04-04 23:16:37 - INFO - Generating sparce (SPLADE) embeddings...\n",
      "Embedding documents: 100%|██████████| 117/117 [00:06<00:00, 19.18it/s]\n",
      "2024-04-04 23:16:43 - INFO - Done! Embeddings have been saved to self.df['splade_embeddings']\n",
      "2024-04-04 23:16:43 - INFO - Using pre-computed 'keywords' embeddings from existing column: splade_embeddings\n"
     ]
    }
   ],
   "source": [
    "splade = SparseEmbeddingsSplade(df1, 'keywords')"
   ]
  },
  {
   "cell_type": "code",
   "execution_count": 50,
   "metadata": {},
   "outputs": [
    {
     "name": "stderr",
     "output_type": "stream",
     "text": [
      "2024-04-04 23:17:14 - INFO - Generating sparce (SPLADE) embeddings...\n",
      "Embedding documents: 100%|██████████| 659/659 [00:21<00:00, 30.05it/s]\n",
      "2024-04-04 23:17:36 - INFO - Done! Embeddings have been saved to self.df['splade_embeddings']\n",
      "2024-04-04 23:17:36 - INFO - Using pre-computed 'question' embeddings from existing column: splade_embeddings\n"
     ]
    }
   ],
   "source": [
    "splade_q = SparseEmbeddingsSplade(df2, 'question')"
   ]
  },
  {
   "cell_type": "code",
   "execution_count": 51,
   "metadata": {},
   "outputs": [
    {
     "data": {
      "text/plain": [
       "((117, 6), (659, 4))"
      ]
     },
     "execution_count": 51,
     "metadata": {},
     "output_type": "execute_result"
    }
   ],
   "source": [
    "splade.df.to_parquet('citation_summary_keywords.parquet', index=False)\n",
    "splade_q.df.to_parquet('citation_questions.parquet', index=False)\n",
    "splade.df.shape, splade_q.df.shape"
   ]
  },
  {
   "cell_type": "code",
   "execution_count": null,
   "metadata": {},
   "outputs": [],
   "source": []
  },
  {
   "cell_type": "code",
   "execution_count": null,
   "metadata": {},
   "outputs": [],
   "source": []
  },
  {
   "cell_type": "code",
   "execution_count": null,
   "metadata": {},
   "outputs": [],
   "source": []
  },
  {
   "cell_type": "code",
   "execution_count": 27,
   "metadata": {},
   "outputs": [],
   "source": [
    "import ast\n",
    "from src.schema.decisions import CaseBody, Decision\n",
    "\n",
    "decision_list = []\n",
    "\n",
    "for i, row in df1.iterrows():\n",
    "    # Safely evaluate the string representations\n",
    "    try:\n",
    "        citations = ast.literal_eval(row['citations'])\n",
    "    except (ValueError, SyntaxError):\n",
    "        citations = []\n",
    "        \n",
    "    try:\n",
    "        parties = ast.literal_eval(row['judges'])\n",
    "    except (ValueError, SyntaxError):\n",
    "        parties = []\n",
    "        \n",
    "    try:\n",
    "        attorneys = ast.literal_eval(row['attorneys'])\n",
    "    except (ValueError, SyntaxError):\n",
    "        attorneys = []\n",
    "\n",
    "    decision_obj = Decision(\n",
    "        id=row['id'],\n",
    "        decision_date=row['decision_date'],\n",
    "        name=row['name'],\n",
    "        name_abbreviation=row['name_abbreviation'],\n",
    "        citations=citations, \n",
    "        parties=parties,\n",
    "        attorneys=attorneys,\n",
    "        frontend_url=row['url'],\n",
    "        court=row['court_name'],\n",
    "        casebody=CaseBody(\n",
    "            data=row['body'],\n",
    "        )\n",
    "    )\n",
    "    decision_list.append(decision_obj)"
   ]
  },
  {
   "cell_type": "code",
   "execution_count": 28,
   "metadata": {},
   "outputs": [
    {
     "data": {
      "text/plain": [
       "2479"
      ]
     },
     "execution_count": 28,
     "metadata": {},
     "output_type": "execute_result"
    }
   ],
   "source": [
    "len(decision_list)"
   ]
  },
  {
   "cell_type": "code",
   "execution_count": 33,
   "metadata": {},
   "outputs": [
    {
     "name": "stdout",
     "output_type": "stream",
     "text": [
      "OPINION\n",
      "BUSTAMANTE, Judge.\n",
      "{1} This case requires us to examine the scope of workers’ compensation coverage for workers whose work takes them away from home and who are injured while away from home for their employment. We address appeals from a consolidated case before the Workers’ Compensation Administration in which three oil field workers injured in an automobile accident between their work site and their homes sought workers’ compensation benefits for their injuries. The Workers’ Compensation Judge (WCJ) applied the “traveling employee exception” to the “going and coming rule” in awarding benefits to two of the workers but denying benefits to the third. The WCJ ordered that the compensation awards to the two workers be reduced by 30% and 15%, respectively, based on the workers’ violations of certain company safety policies and statutory regulations. We affirm in part, reverse in part, and remand with instructions.\n",
      "FACTS\n",
      "{2} On August 4, 1997, Jose Ramirez, Gabriel Alvarez, and Jesus Cervantes were working as roustabouts, or roughnecks, for Dawson Production Partners, Inc. (Dawson), which operates an oil field well-servicing business. Ramirez, Alvarez, and Cervantes were part of a “pulling unit” crew, the pulling unit being the mobile rig assembly. Dawson’s pulling unit crews consisted of two floor hands, a derrick man, and a rig operator, who oversaw the work of the other crew members. Two such crews, including the one to which Ramirez, Alvarez, and Cervantes were assigned, were working in Men-tone, Texas, on a “fishing” operation; that is, they were working to try to retrieve tubing and wire that were stuck in a drill hole. Mentone, Texas, is approximately ninety miles from Hobbs, New Mexico, where the workers’ lived and where Dawson maintained its home office.\n",
      "{3} When Dawson began the fishing operation in Mentone in March 1997, it expected the job to take approximately two weeks. Dawson provided crew members $50 per day, with which they could pay for lodging and meals in the nearby towns of Kermit or Pecos, Texas, and $6.50 per day for travel, including the day of the car accident, for the approximately one-half hour trip each way between the workers’ lodgings and the oil field. Everyone understood the purpose of the per diem money; most used it to stay at a motel in Pecos. But workers were not directed specifically on how they were to spend the money, and they received the money even if they did not stay in Pecos on work nights. Dawson also initially provided transportation between Mentone and Hobbs on the workers’ days off.\n",
      "{4} The job took much longer than originally expected, and safety became a concern as the two crews worked around the clock with little time off. Sometime before July 1, 1997, Lilo Quiroz, one of the rig operators at Mentone, and Lonnie Stuward, Dawson’s Operations Manager in Hobbs, agreed that crews in Mentone should have an extra member in order for crew members to establish a rotating schedule of regular days off. The idea was that workers would be more well rested and therefore safer as a result of having regularly scheduled days off. In exchange for the extra crew member, however, workers would have to provide their own transportation between Mentone and Hobbs.\n",
      "{5} On August 4, 1997, Ramirez, Alvarez, and Cervantes finished their shift on the pulling unit crew at 5:00 p.m. MDT. Their supervisor, Lilo Quiroz, drove them from the rig site to Mentone, where the three got into a pickup truck Ramirez had borrowed from his cousin. They set out for Hobbs, stopping for a six pack of beer along the way. Five miles north of Kermit, Texas, the truck’s left rear tire blew while the truck was traveling at over eighty miles per hour. Ramirez, the driver, lost control of the truck. It swerved and skidded and rolled at least three times before coming to rest on the side of the road. All three workers were ejected from the truck and seriously injured. Ramirez died as a result of his injuries. None of the three was wearing a seat belt, although the seat belt where Alvarez was sitting was broken. All had drunk beer, but none had a significant blood-alcohol concentration. The WCJ found the levels of blood alcohol to be “very low.”\n",
      "{6} After a hearing, the WCJ awarded benefits to Ramirez’ estate and to Alvarez, based on the conclusion that Ramirez and Alvarez, as traveling employees, were injured within the course and scope of their employment while traveling to Hobbs. She denied benefits to Cervantes, however, because she concluded he was outside the scope of his employment.\n",
      "DISCUSSION\n",
      "{7} Under New Mexico’s Workers’ Compensation Act, NMSA 1978, §§ 52-1-1 to -70 (1929, as amended through 1999) (the Act), workers injured while traveling between home and work are generally not eligible for compensation. See § 52-1-19 (excluding from compensation “injuries to any worker occurring while on his way to assume the duties of his employment or after leaving such duties”). In this respect, the Act codifies what is commonly known in workers’ compensation law as the “going-and-coming rule.” See Espinosa v. Albuquerque. Publ’g Co., 1997-NMCA-072, ¶ 8, 123 N.M. 605, 943 P.2d 1058. “This rule arises from the recognition that, ‘while admittedly the employment is the cause of the workman’s journey between his home and the factory, it is generally taken for granted that workmen’s compensation was not intended to protect him against all the perils of that journey.’ ” Id. (quoting 1 Arthur Larson & Lex K. Larson, Larson’s Workers’ Compensation Law § 15.11 (1996)). The going-and-coming rule is subject to a number of exceptions, though, as we have recognized on several occasions. See Espinosa, 1997-NMCA-072, ¶ 8, 123 N.M. 605, 943 P.2d 1058 (“Off-premises injuries sustained while going to or from work are not covered under the [Act] unless they fit within one of several specific exceptions to the going-and-coming rule.”); see also Barton v. Las Cositas, 102 N.M. 312, 315, 694 P.2d 1377, 1380 (Ct.App.1984) (“If the employee’s work creates the necessity for the travel, then any injury during travel (except for that governed by the ‘going and coming rule’) is compensable.”). One of those exceptions — the “traveling-employee” exception— is at issue in this ease.\n",
      "{8} Before discussing the traveling-employee rule in detail, however, we think it necessary to address Dawson’s argument that our Legislature’s rejection of the rule of liberal construction of the Act in favor of workers precludes us from adopting the traveling-employee rule in this case. See NMSA 1978, § 52-5-1 (1989) (“It is the specific intent of the legislature that benefit claims eases be decided on their merits and that the common law rule of ‘liberal construction’ based on the supposed ‘remedial’ basis of workers’ benefits legislation shall not apply in these eases.”). We do not agree with Dawson’s contention. Liberal construction was “but one of many tools employed by our appellate courts in construing workers’ compensation legislation. Liberal construction has historically been tempered by attention to legislative intent and balanced against sound reason and policy. Fundamental fairness to both the workers and employers has long been a guideline.” Garcia v. Mt. Taylor Millwork, Inc., 111 N.M. 17, 19, 801 P.2d 87, 89 (Ct.App.1989) (citation omitted). “Section 52-5-1 [simply] calls for a balanced and evenhanded construction of the Workers’ Compensation Act.” Gomez v. B.E. Harvey Gin Corp., 110 N.M. 100, 102, 792 P.2d 1143, 1145 (1990).\n",
      "{9} As our discussion below indicates, the traveling-employee rule recognizes that the conditions faced by employees working “on the road,” away from home and away from their employer’s home office, are sufficiently different from the conditions faced by employees merely going to or from their local place of employment on a daily basis to warrant a distinct rule. We need not construe the Act liberally to apply a rule appropriate to the circumstances in which Dawson and its employees working at Mentone found themselves at the time of the accident. Instead, evenhanded construction of the Act requires us to recognize the conditions traveling employees face. Cf. Iliaifar v. SAIF Corp., 160 Or.App. 116, 981 P.2d 353, 356 (1999) (noting Oregon’s longstanding recognition of exceptions to going-and-coming rule without reference to passage in 1995 of Or. Rev.Stat.Ann. § 656-012(3) (Supp.1998) abrogating liberal construction of Oregon’s workers’ compensation statute).\n",
      "{10} Dawson also argues that we have already rejected the traveling-employee exception with our decision in Arias v. AAA Landscaping, 115 N.M. 239, 849 P.2d 382 (Ct.App.1993), implicitly acknowledging our ability to adopt the traveling-employee exception despite the Legislature’s direction that courts not construe the Act liberally. We concede that the facts in Arias bear some similarity to the facts in this case. See id. at 239-40, 849 P.2d at 382-83. However, in Arias we were concerned with three distinct exceptions to the going-and-coming rule: the “employer’s conveyance exception,” see id. at 240, 849 P.2d at 383 (citing 1 Arthur Larson, Larson’s Workers’ Compensation Law § 17.00 (1992)); the “special errand exception,” see id. (citing Edens v. New Mexico Health & Soc. Servs. Dep’t, 89 N.M. 60, 547 P.2d 65 (1976); Avila v. Pleasuretime Soda, Inc., 90 N.M. 707, 568 P.2d 233 (Ct. App.1977)); and the “dual purpose exception,” see id. at 241, 849 P.2d at 384 (citing and quoting Wilson v. Rowan Drilling Co., 55 N.M. 81, 92, 227 P.2d 365, 372 (1950)); cf. Clark v. Electronic City, 90 N.M. 477, 480-81, 565 P.2d 348, 351-52 (Ct.App.1977) (discussing development of dual-purpose doctrine in New Mexico). Anas does not discuss the traveling-employee exception at all, and we adhere to the rale that cases are not authority for propositions they do not consider. See Fernandez v. Farmers Ins. Co., 115 N.M. 622, 627, 857 P.2d 22, 27 (1993). We therefore turn to the traveling-employee exception and its applicability in this case.\n",
      "The Traveling-Employee Exception\n",
      "{11} “The general rule is that an employee whose work entails travel away from the employer’s premises is, in most circumstances, under continuous workers’ compensation coverage from the time he leaves home until he returns.” Voight v. Rettinger Transp., Inc., 306 N.W.2d 133, 136 (Minn.1981); see also 2 Arthur Larson & Lex K. Larson, Larson’s Workers’ Compensation Law § 25.01 (1999). Stated otherwise,\n",
      "An employee who is taken away from home by his or her employment and who of necessity must eat and sleep away from home in order to further the employer’s business may be considered to be in the continuous employment of the employer, day and night. In such a case, “ ‘[i]t can not [sic] be said that the employment is broken by mere intervals of leisure such as those taken for a meal.’ ”\n",
      "Boyd Bros. Transp. Co. v. Fonville, 237 Ga. App. 721, 516 S.E.2d 573, 574 (1999) (citing and quoting McDonald v. State Highway Dep’t., 127 Ga.App. 171, 192 S.E.2d 919, 922-23 (1972)) (first alteration in original) (citation omitted). A traveling employee is not simply one who must travel significant distances to and from his job, however. “Traveling employees are employees for whom travel is an integral part of their jobs, such as those who travel to different locations to perform their duties, as differentiated from employees who commute daily from home to a single workplace.” Boyce v. Potter, 642 A.2d 1342, 1343 (Me.1994).\n",
      "{12} “The rationale behind the traveling employee rule is that an employee who is required to travel away from home is furthering the business of his employer as he eats, sleeps, and performs other acts necessary to his health and comfort during his travels.” Olinger Constr. Co. v. Mosbey, 427 N.E.2d 910, 915 (Ind.Ct.App.1981). In addition, “[w]here the employment requires travel, the employee is consequently exposed to hazards [he or] she would otherwise have the option of avoiding. Thus the hazards of the route become the hazards of the employment.” Appeal of Griffin, 140 N.H. 650, 671 A.2d 541, 544 (1996) (quoting Whittemore v. Sullivan County Homemaker’s Aid Serv., 129 N.H. 432, 529 A.2d 919, 921 (1987)) (internal quotation marks omitted) (second alteration in original). But,\n",
      "[i]t is not merely travel on a highway that creates a risk of compensable injury; if that were so, every ordinary commuter would be covered under the Act. Rather, it is the job’s requirement of travel and the employer’s authority and control in assigning its employees to different work sites that increase the normal risk and render compensable ... injuries] suffered during such travel.\n",
      "Boyce, 642 A.2d at 1344. In this respect, traveling employees have been regarded as having a “sui generis status since their work necessarily requires that they be away from home.” Voight, 306 N.W.2d at 138.\n",
      "{13} We note that some jurisdictions have extended coverage to injuries a traveling employee suffers during “leisure” activities, other than eating or sleeping, while away from home. See, e.g., Arkansas Dep’t of Health v. Huntley, 12 Ark.App. 287, 675 S.W.2d 845, 848-49 (1984) (extending coverage to woman injured by intoxicated stranger while returning to her motel room from motel’s bar); Bagcraft Corp. v. Industrial Comm’n, 302 Ill.App.3d 334, 235 Ill.Dec. 736, 705 N.E.2d 919, 923 (1998) (injuries from an all-terrain vehicle accident covered); Proctor v. SAIF Corp., 123 Or.App. 326, 860 P.2d 828, 831-32 (1993) (injuries suffered during basketball game covered). The reason for extending coverage to some injuries incurred during recreational activities is that employers should expect their traveling employees to engage in some sort of recreation while on the road. See Bagcraft Corp., 235 Ill.Dec. 736, 705 N.E.2d at 921. Moreover, given the rationale behind the exception, it would make little sense to provide coverage for traveling employees only while they are actually performing the duties of their jobs. See id. Thus, “[a] traveling employee may satisfy a physical need for recreation even if the job does not cause stress, and even if the employee chooses an activity that is not related to work. As the cases show, most traveling employees relax through activities that have little relationship to work.” Proctor, 860 P.2d at 831.\n",
      "{14} Coverage for traveling employees injured while away from home is not limitless, however. While a traveling employee is considered to be acting within the scope of his or her employment while on the road, one seeking compensation for an injury must still demonstrate that the injury “arose out of and in the course of employment.” See Jensen v. Industrial Comm’n, 305 Ill.App.3d 274, 238 Ill.Dec. 468, 711 N.E.2d 1129, 1132-33 (1999); see also Kolson v. District of Columbia Dep’t of Employment Servs., 699 A.2d 357, 360-61 (D.C.1997); NMSA 1978, § 52-l-28(A)(l). The phrase “in the course of,” we have previously noted, “refers to the time, place, and circumstances under which the injury occurred.” Gutierrez v. Amity Leather Prods. Co., 107 N.M. 26, 29, 751 P.2d 710, 713 (Ct.App.1988). In contrast, “[a]n injury arises out of the employment when it is ‘caused by a risk to which the worker is subjected in the employment.’ ” Sena v. Continental Cas. Co., 97 N.M. 753, 755, 643 P.2d 622, 624 (Ct.App.1982) (quoting Losinski v. Drs. Corcoran, Barkoff & Stagnone, P.A., 97 N.M. 79, 80, 636 P.2d 898, 899 (Ct.App.1981)). “For an injury to ‘arise out of the employment, there must be a showing that the injury was caused by a risk to which the plaintiff is subjected by reason of his employment.” Gutierrez, 107 N.M. at 29, 751 P.2d at 713. “Typically, an injury ‘arises out of a claimant’s employment if, at the time of the occurrence, the claimant was performing acts the employer instructed the claimant to perform, acts incidental to the claimant’s assigned duties, or acts which the claimant had a common law or statutory duty to perform.” Jensen, 238 Ill.Dec. 468, 711 N.E.2d at 1132. Determining whether a worker’s injury arose out of his employment is a question of fact. See Cox v. Chino Mines/Phelps Dodge, 115 N.M. 335, 337, 850 P.2d 1038, 1040 (Ct.App.1993). “However, where the historical facts of the case are undisputed, as in this case, the question of whether the accident arose out of the employment is a question of law.” Id.\n",
      "{15} Several jurisdictions have held that the requirements that an injury arise out of and in the course of employment are met if the traveling employee was injured while engaging in an activity that was both reasonable and foreseeable. See Huntley, 675 S.W.2d at 848; Bagcraft, 235 Ill.Dec. 736, 705 N.E.2d at 921; Voight, 306 N.W.2d at 138. Other jurisdictions have held that a traveling employee is covered unless he was injured during a distinct departure from his employment for a personal errand. See Eversman v. Concrete Cutting & Breaking, 224 Mich.App. 221, 568 N.W.2d 387, 389 (1997); see also Evans v. Workmen’s Compensation Appeal Board (Hotwork, Inc.), 664 A.2d 216, 219 (Pa.Cmwlth.1995) (allowing employer to rebut presumption that traveling employee was furthering employer’s business by proving “that the claimant’s actions were so foreign to and removed from his usual employment as to constitute an abandonment thereof’). These tests are fine, as far as they go. But they can put an undue burden on employers. Cf. Voight, 306 N.W.2d at 135, 138 (reversing denial of compensation to claimant who was accidentally shot by intoxicated fellow employee “attempt[ing] to generate some excitement” because claimant’s trip to the bar “for recreational purposes was a reasonable activity and therefore incident to the employment relationship”).\n",
      "{16} At least one of the jurisdictions that employs the reasonable-and-foreseeable test has sought to limit the test’s reach by imposing an additional requirement for compensation. The Illinois Appellate Court recently held that an injury incurred in an otherwise reasonable and foreseeable recreational activity will not be compensable if the activity was conducted in an unreasonable or unforeseeable manner. See Jensen, 238 Ill.Dec. 468, 711 N.E.2d at 1133. We agree that this should be part of the analysis. We also join those jurisdictions that hold that the activity giving rise to the injury must confer some benefit on the employer; that it must be reasonably related or incidental to employment. See Benson v. Colorado Compensation Ins. Auth., 870 P.2d 624, 627 (Colo.Ct.App.1994) (holding that the traveling-employee exception applies, in part, “when the travel confers a benefit on the employer beyond the sole fact of the employee’s arrival at work”); Kolson, 699 A.2d at 361 (“[W]hen a traveling employee is injured while engaging in a reasonable and foreseeable activity that is reasonably related to or incidental to his or her employment, the injury arises in the course of employment.”); Indiana & Mich. Elec. Co. v. Morgan, 494 N.E.2d 991, 994 (Ind.Ct.App.1986) (“Activities which advance, either directly or indirectly, an employer’s interests or are for the mutual benefit of the employer and employee may be incidental to and arise in the course of employment.”). This is consistent with our position in earlier cases “that an injury occurs in the course of employment when it takes place within the period of employment, at a place where the employee may reasonably be, and while the employee is reasonably fulfilling the duties of employment or doing something incidental to it.” Kloer v. Municipality of Las Vegas, 106 N.M. 594, 597, 746 P.2d 1126, 1129 (Ct.App.1987); accord Garcia v. Homestake Mining Co., 113 N.M. 508, 511, 828 P.2d 420, 423 (Ct.App. 1992); cf. Evans v. Valley Diesel, 111 N.M. 556, 559, 807 P.2d 740, 743 (1991) (reversing this Court’s denial of compensation and citing Moer for the proposition that the employee’s injury arose out of his employment because his employer derived intangible benefit from the activity the employee was engaged in when injured).\n",
      "{17} In sum, we hold that one whose work not only requires him to travel but for whom travel is an integral part of his employment is within the scope of employment continuously while traveling, and may therefore be eligible for workers’ compensation benefits as a traveling employee for injuries he sustains while away from home. The injury must, however, arise out of and in the course of employment, which means that it must occur during the commission of an activity that is reasonable and foreseeable both as to its nature and manner of commission, and must be of some benefit to the employer. The benefit to the employer need not be pecuniary, and may be as intangible as a well-fed and well-rested employee.\n",
      "{18} In this case, the WCJ applied the correct test in deciding whether to award benefits to Ramirez, Alvarez, and Cervantes. The WCJ found that the trip by Ramirez arose out of and in the course of his employment because the primary purposes of the trip were (1) to transport Alvarez to Hobbs so that Alvarez could begin his scheduled days off; and (2) to transport dirty uniforms, in part at the request of his supervisor, Lilo Quiroz, for laundering at the Hobbs yard the next day. These were both reasonable and foreseeable, and they benefitted Dawson by helping to ensure that Alvarez would be rested when he returned to work and that those whose uniforms Ramirez was transporting for laundering would have uniforms that met industry standards for safety. Thus, the WCJ properly awarded compensation to Ramirez’ estate.\n",
      "{19} About the awarding of benefits to Alvarez, little needs to be said. He was returning to Hobbs to begin his days off, as would be expected. The benefit to Dawson is exactly what was contemplated by the 1997 agreement: having a well-rested employee. And Alvarez arranged for a ride in a co-worker’s vehicle, as was necessary under the 1997 agreement. We note, as did the WCJ, that the 1997 agreement between Lilo Quiroz and Lonnie Steward conferred an incidental benefit on Dawson, saving it the expense of using one of its vehicles to transport workers back and forth from Hobbs to Mentone. The WCJ properly awarded compensation to Alvarez.\n",
      "{20} The WCJ concluded Cervantes’ injuries were not compensable because they did not arise out of and in the course of his employment. Although Cervantes was also taking his uniforms to Hobbs for cleaning, it was not necessary for him to accompany Ramirez and Alvarez, insofar as they were making the trip and transporting uniforms anyway. Regarding the other reason Cervantes offered for going along on the trip—to keep Ramirez company on the return trip the following morning—the WCJ concluded that conferred no benefit on Dawson and that Cervantes was therefore not entitled to compensation benefits. We agree. Traveling back and forth from Mentone to Hobbs too frequently would have exposed workers to the very safety risk Dawson sought to remedy by encouraging workers to stay in the Mentone area—insufficient rest. We therefore hold that the WCJ properly denied benefits to Cervantes.\n",
      "The WCJ’s Reduction of Workers’ Benefits\n",
      "{21} As we noted at the outset, despite awarding compensation benefits to Ramirez and Alvarez, the WCJ concluded that their compensation awards should be reduced because both had consumed alcohol during the drive and neither was wearing a seat belt. Specifically, the WCJ ordered a 10% reduction in benefits for both Ramirez and Alvarez for consuming alcohol during the drive, and ordered an additional 10% reduction in Ramirez’ benefits for failing to wear a seat belt, but only an additional 5% reduction in Alvarez’ benefits for failing to wear a seat belt, because the seat belt where he was sitting was inoperative. Finally, the WCJ ordered that Ramirez’ benefits be further reduced by 10% because he was speeding at the time of the accident.\n",
      "{22} The Act does provide for a reduction- in compensation to an injured worker under certain circumstances:\n",
      "In case an injury to, or death of, a worker results from his failure to observe statutory regulations appertaining to the safe conduct of his employment or from his failure to use a safety device provided by his employer, then the compensation otherwise payable under the ..'. Act ... shall be reduced ten percent.\n",
      "Section 52-l-10(A). By the terms of the statute, in order for a reduction to be appropriate the employee’s statutory violation or failure to use a safety device must have caused his injury. “In the absence of a showing of causation, no issue of entitlement to the penalty is raised.” Boughton v. Western Nuclear, Inc., 99 N.M. 723, 726, 663 P.2d 382, 385 (Ct.App.1983).\n",
      "{23} With respect to Ramirez’ and Alvarez’ consumption of alcohol and failure to wear seat belts, the record is devoid of evidence that those factors caused their injuries. In fact, the WCJ specifically found that “Mr. Ramirez’s consumption of alcohol did not contribute to the accident in which he was injured”; that the accident due to a blown tire might well have occurred even if the workers had not had any alcohol to drink. On the use of seat belts, Dawson does not point to any evidence, nor have we found any, to indicate that the workers’ failure in this regard caused their injuries. Instead, Dawson argues that “as a matter of common sense” the workers were ejected from the vehicle because they were not wearing seat belts, which “tends to lead to enhanced injuries.” Dawson also argues that the WCJ made an “implicit finding” that Ramirez’ and Alvarez’ failure to wear seat belts was a cause of their injuries. Of course, an implicit finding of causation is not a showing of causation. Dawson simply failed to present any evidence showing enhanced injury due to nonuse of seat belts, and we reject Dawson’s invitation to speculate to that effect.\n",
      "{24} The WCJ reduced Ramirez’ and Alvarez’ compensation awards nonetheless based on the finding that their consumption of alcohol and their failure to wear seat belts were in violation of Dawson’s safety policies. But Section 52-l-10(A) does not provide for a reduction in benefits when an employee simply violates company policies in the absence of evidence that the violation caused the injury, which Dawson did not produce. The WCJ was therefore incorrect in reducing Ramirez’ and Alvarez’ compensation awards on that basis. We reverse two of the 10% reductions for Ramirez. We also reverse the 15% reduction for Alvarez and note that, not only does Section 52-l-10(A) not provide for a 5% reduction in benefits, we also think it improper to penalize a worker for violating a regulation or failing to use a safety device (the non-operational seat beat) when the violation or failure was beyond his control.\n",
      "{25} In contrast, the WCJ found, based on the opinions of the officer who investigated the accident, that excessive speed was one of the causes of the accident. Por a traveling employee who is driving while in the course and scope of his employment, observing the posted speed limit is a “statutory regulation}] appertaining to the safe conduct of his employment.” Section 52-l-10(A). Thus, in light of the WCJ’s findings that speeding was a contributing cause of the accident (and therefore the injuries), it was proper to reduce Ramirez’ compensation award by 10%. As a mere passenger, Alvarez is not affected by this ruling. Because of our disposition of the other two reductions to Ramirez’ compensation award, we need not decide whether Section 52-1-10(A) authorizes multiple 10% reductions in a single accident for each safety violation or failure to use a safety device.\n",
      "CONCLUSION\n",
      "{26} We affirm the award of compensation to Ramirez and Alvarez based on the WCJ’s conclusion that the two were traveling-employees injured in the course and scope of their employment. We reverse the WCJ’s order of a 15% reduction in Alvarez’ compensation award for the reasons discussed above, and hold that Alvarez is not subject to any reduction. We likewise reverse the WCJ’s order of a reduction in Ramirez’ compensation award, except the 10% reduction based on the findings related to his driving in excess of the posted speed limit. We affirm the denial of benefits to Cervantes. We remand for the entry of a new order consistent with this opinion.\n",
      "{27} IT IS SO ORDERED.\n",
      "BOSSON and ARMIJO, JJ., concur.\n"
     ]
    }
   ],
   "source": [
    "print(decision_list[0].text)"
   ]
  },
  {
   "cell_type": "code",
   "execution_count": null,
   "metadata": {},
   "outputs": [],
   "source": []
  },
  {
   "cell_type": "code",
   "execution_count": null,
   "metadata": {},
   "outputs": [],
   "source": []
  },
  {
   "cell_type": "code",
   "execution_count": null,
   "metadata": {},
   "outputs": [],
   "source": []
  },
  {
   "cell_type": "code",
   "execution_count": null,
   "metadata": {},
   "outputs": [],
   "source": []
  },
  {
   "cell_type": "code",
   "execution_count": 19,
   "metadata": {},
   "outputs": [
    {
     "name": "stdout",
     "output_type": "stream",
     "text": [
      "court_name\n",
      "Massachusetts Superior Court                                             20\n",
      "United States Court of Appeals for the Eleventh Circuit                  20\n",
      "United States Court of Appeals for the Eighth Circuit                    20\n",
      "United States District Court for the District of Massachusetts           18\n",
      "United States Court of Appeals for the First Circuit                     18\n",
      "United States Court of Appeals for the Seventh Circuit                   18\n",
      "Minnesota Supreme Court                                                  18\n",
      "New Jersey Superior Court, Appellate Division                            17\n",
      "Court of Appeals of Georgia                                              16\n",
      "Court of Appeals of Indiana                                              15\n",
      "Court of Appeal of Louisiana, Third Circuit                              15\n",
      "Superior Court of Pennsylvania                                           14\n",
      "Supreme Court of the United States                                       14\n",
      "United States District Court for the Middle District of Florida          13\n",
      "Wisconsin Court of Appeals                                               13\n",
      "United States District Court for the District of Columbia                13\n",
      "Massachusetts Appellate Division                                         12\n",
      "Oklahoma Court of Civil Appeals                                          11\n",
      "United States District Court for the Eastern District of Pennsylvania    11\n",
      "United States Court of Appeals for the Tenth Circuit                     11\n",
      "Court of Appeals of Virginia                                             10\n",
      "Court of Appeal, Fifth District, California                              10\n",
      "United States District Court for the District of Connecticut             10\n",
      "Kansas Court of Appeals                                                  10\n",
      "Massachusetts Appeals Court                                              10\n",
      "Commonwealth Court of Pennsylvania                                       10\n",
      "Name: count, dtype: int64\n"
     ]
    }
   ],
   "source": [
    "court_name_counts = df1['court_name'].value_counts()\n",
    "court_name_counts_between_10_and_20 = court_name_counts[(court_name_counts >= 10) & (court_name_counts <= 20)]\n",
    "print(court_name_counts_between_10_and_20)"
   ]
  },
  {
   "cell_type": "code",
   "execution_count": 56,
   "metadata": {},
   "outputs": [
    {
     "data": {
      "text/plain": [
       "(14, 16)"
      ]
     },
     "execution_count": 56,
     "metadata": {},
     "output_type": "execute_result"
    }
   ],
   "source": [
    "la_third = filtered_df[filtered_df['court_name']=='Court of Appeal of Louisiana, Third Circuit']\n",
    "la_third = la_third[la_third['year']>2017]\n",
    "la_third.sort_values(by='decision_date', inplace=True)\n",
    "la_third.shape"
   ]
  },
  {
   "cell_type": "code",
   "execution_count": 70,
   "metadata": {},
   "outputs": [
    {
     "data": {
      "text/markdown": [
       "AMY, Judge.\r\n",
       "This dispute arises from an automobile accident between the plaintiff, Gerald Janise, and William Gerard, who was operating an Acadian Ambulance vehicle at the time of the collision. Following the accident, the plaintiff filed a petition for damages against Mr. Gerard, Acadian Ambulance, and the company's insurer. The jury ultimately found in favor of the defendants, and the plaintiff now appeals. For the following reasons, we affirm.\r\n",
       "Factual and Procedural Background\r\n",
       "On April 16, 2013, at the intersection of the Evangeline Thruway and Mudd Avenue in Lafayette, the plaintiff, Gerald Janise, was involved in an automobile accident with William Gerard, an operations supervisor for Acadian Ambulance Service, Inc. (hereafter referred to as \"Acadian Ambulance\"), who was driving a company vehicle. Subsequently, Mr. Janise filed a petition for damages, naming Mr. Gerard, Acadian Ambulance, and their insurer, Liberty Mutual Insurance Company (hereafter referred to as \"Liberty Mutual\"), as defendants. The petition alleged: \"When confronted with a red light ..., William J. Gerard, with wanton disregard and gross negligence, failed to obey the traffic control signal, failed to secure a proper lookout, and failed to proceed through the intersection with caution, thereby causing the collision with Gerald Janise's vehicle.\" The petition further alleged that, as a result of the collision, the plaintiff sustained bodily injury, particularly to his head, neck, and back. The defendants answered, responding, in pertinent part: \"Defendant avers that, by statute, it is entitled to qualified immunity due to the use of the ambulance's lights and siren, and, therefore, may not be held liable in this matter in the absence of gross negligence, which is expressly denied.\"\r\n",
       "Thereafter, the defendants filed a motion for summary judgment, arguing that, under La.R.S. 32:24, which is set forth in pertinent part below, \"the driver of an emergency vehicle can be held liable only if his"
      ],
      "text/plain": [
       "<IPython.core.display.Markdown object>"
      ]
     },
     "execution_count": 70,
     "metadata": {},
     "output_type": "execute_result"
    }
   ],
   "source": [
    "sample_test = la_third['body'].sample(1).tolist()[0]\n",
    "\n",
    "Markdown(sample_test[:2000])"
   ]
  },
  {
   "cell_type": "code",
   "execution_count": 76,
   "metadata": {},
   "outputs": [],
   "source": [
    "from typing import List\n",
    "from typing_extensions import Annotated\n",
    "from pydantic import BaseModel, Field\n",
    "from src.utils.pydantic_utils import flatten_pydantic_instance\n",
    "\n",
    "class AnalysisSection(BaseModel):\n",
    "    \"\"\"A concise legal analysis leading to a decision.\"\"\"\n",
    "    \n",
    "    rules: str = Field(\n",
    "        ...,\n",
    "        description=\"Concise explanation of how the Court's considers relevant statutes, interpretations, standards, and tests applicable to this case\",\n",
    "    )\n",
    "    case_law: str = Field(\n",
    "        ...,\n",
    "        description=\"Names and or citations of cases reviewed by the Court and analysis of how the Court relates those cases to the Issues Presented\",\n",
    "    )\n",
    "    application: str = Field(\n",
    "        ...,\n",
    "        description=\"Concise explanation of how the Rules and Case Law help the Court reach its conclusions.\",\n",
    "    )\n",
    "\n",
    "\n",
    "class CaseBrief(BaseModel):\n",
    "    \"\"\"A well structured and concise legal case brief.\"\"\"\n",
    "    \n",
    "    case_name: str = Field(\n",
    "        ...,\n",
    "        description=\"The name of the case, if possible include the court and year.\",\n",
    "    )\n",
    "    issues_presented: str = Field(\n",
    "        ...,\n",
    "        description=\"The issues the Court must resolve\",\n",
    "    )\n",
    "    facts_of_the_case: str = Field(\n",
    "        ...,\n",
    "        description=\"A concise summary of the facts, parties involved, and the events leading to this case.\",\n",
    "    )\n",
    "    procedural_history: str = Field(\n",
    "        ...,\n",
    "        description=\"A district court case summary, appeals court case summary, or otherwise how this issue reached this Court.\",\n",
    "    )\n",
    "    analysis: AnalysisSection = Field(\n",
    "        ...,\n",
    "        description=\"A legal analysis leading to a decision.\",\n",
    "    )\n",
    "    conclusion: str = Field(\n",
    "        ...,\n",
    "        description=\"The Court's ruling on the Issues Presented.\",\n",
    "    )\n",
    "    winner: str = Field(\n",
    "        ...,\n",
    "        description=\"The entity or role that the Court decided in favor of.\",\n",
    "    )\n",
    "    @property\n",
    "    def to_pandas(self):\n",
    "        flat_model = flatten_pydantic_instance(self)\n",
    "        return pd.DataFrame([flat_model])\n",
    "\n",
    "    \n",
    "CaseBrief.model_rebuild()"
   ]
  },
  {
   "cell_type": "code",
   "execution_count": 77,
   "metadata": {},
   "outputs": [],
   "source": [
    "from tenacity import Retrying, stop_after_attempt, wait_fixed\n",
    "import instructor\n",
    "import openai\n",
    "\n",
    "\n",
    "def generate_case_brief(text: str) -> CaseBrief:\n",
    "    client = instructor.patch(openai.OpenAI())\n",
    "    return client.chat.completions.create(\n",
    "        model=\"gpt-4-1106-preview\",\n",
    "        response_model=CaseBrief,\n",
    "        max_retries=Retrying(\n",
    "            stop=stop_after_attempt(5),\n",
    "            wait=wait_fixed(1),\n",
    "        ),\n",
    "        messages=[\n",
    "            {\n",
    "                \"role\": \"system\",\n",
    "                \"content\": \"You are a world class legal AI specializing in document extraction and summarization.\",\n",
    "            },\n",
    "            {\n",
    "                \"role\": \"user\",\n",
    "                \"content\": f\"Compose a case brief using only information from the Context. Working step by step, organize the Context outline into well-structured paragraphs.\\n\\nHere is the Context: {text}\",\n",
    "            },\n",
    "        ],\n",
    "    )"
   ]
  },
  {
   "cell_type": "code",
   "execution_count": 78,
   "metadata": {},
   "outputs": [
    {
     "name": "stdout",
     "output_type": "stream",
     "text": [
      "Case 1 of 14:\n",
      "Analyzing case: Zaunbrecher ex rel. Father v. Martin, decided on: 2018-03-21 00:00:00...\n",
      "Ruling favors: Defendants/Relators Marissa Martin, Nathan Ponthier, and Jeremy Ponthieux\n",
      "Case 2 of 14:\n",
      "Analyzing case: Janise v. Acadian Ambulance Serv., Inc., decided on: 2018-04-25 00:00:00...\n",
      "Ruling favors: William Gerard, Acadian Ambulance Service, Inc., and Liberty Mutual Insurance Company\n",
      "Case 3 of 14:\n",
      "Analyzing case: Talbot v. Mouton Plumbing & Hauling, Inc., decided on: 2018-04-25 00:00:00...\n",
      "Ruling favors: Partially Talbot, with other issues remanded for further proceedings\n",
      "Case 4 of 14:\n",
      "Analyzing case: Ortega v. Cantu Servs., Inc., decided on: 2018-05-02 00:00:00...\n",
      "Ruling favors: Cantu Services, Inc. and Liberty Mutual Insurance Company\n",
      "Case 5 of 14:\n",
      "Analyzing case: Blanchard v. Hicks, decided on: 2018-05-02 00:00:00...\n",
      "Ruling favors: GoAuto Insurance Company and Demetrius J. Hicks\n",
      "Case 6 of 14:\n",
      "Analyzing case: Gaspard v. Horace Mann Ins. Co., decided on: 2018-05-09 00:00:00...\n",
      "Ruling favors: Allstate Insurance Company\n",
      "Case 7 of 14:\n",
      "Analyzing case: Noles-Frye Realty v. Dixon, decided on: 2018-05-09 00:00:00...\n",
      "Ruling favors: Andrea Soltau-Talbot, the Buyer\n",
      "Case 8 of 14:\n",
      "Analyzing case: Adams v. Ga. Gulf Lake Charles, LLC, decided on: 2018-06-27 00:00:00...\n",
      "Ruling favors: Joseph Adams\n",
      "Case 9 of 14:\n",
      "Analyzing case: Walker v. Manitowoc Co., decided on: 2018-10-10 00:00:00...\n",
      "Ruling favors: Defendants/Applicants - Manitowoc Cranes, LLC, Westchester Fire Insurance Co., and The Manitowoc Company, Inc.\n",
      "Case 10 of 14:\n",
      "Analyzing case: Walker v. Manitowoc Co., decided on: 2018-10-10 00:00:00...\n",
      "Ruling favors: Defendants/Appellees\n",
      "Case 11 of 14:\n",
      "Analyzing case: Vanek v. Robertson, decided on: 2018-12-06 00:00:00...\n",
      "Ruling favors: Plaintiff (Michael D. Vanek and Vanek Real Estate, LLC)\n",
      "Case 12 of 14:\n",
      "Analyzing case: Liberty Mut. Fire Ins. Co. v. Randall J. Hebert & Assocs., Inc., decided on: 2019-02-06 00:00:00...\n",
      "Ruling favors: St. Martin Economic Development Authority (SMEDA)\n",
      "Case 13 of 14:\n",
      "Analyzing case: Guilbeau v. Liberty Mut. Fire Ins. Co., decided on: 2019-03-07 00:00:00...\n",
      "Ruling favors: Defendants/Appellants\n",
      "Case 14 of 14:\n",
      "Analyzing case: Mitchell v. Alliance Compressors, decided on: 2019-05-01 00:00:00...\n",
      "Ruling favors: Alliance Compressors\n"
     ]
    }
   ],
   "source": [
    "results = []\n",
    "n = len(la_third)\n",
    "i = 1\n",
    "\n",
    "for _, row in la_third.iterrows():\n",
    "    print(f\"Case {i} of {n}:\")\n",
    "    print(f\"Analyzing case: {row['name_abbreviation']}, decided on: {str(row['decision_date'])}...\")\n",
    "    text = row['body']\n",
    "    case_brief = generate_case_brief(text)\n",
    "    print(f\"Ruling favors: {case_brief.winner}\")\n",
    "    case_df = case_brief.to_pandas\n",
    "    case_df['id'] = row['id']\n",
    "    results.extend([case_df])\n",
    "    i += 1"
   ]
  },
  {
   "cell_type": "code",
   "execution_count": 89,
   "metadata": {},
   "outputs": [
    {
     "data": {
      "text/plain": [
       "\"(1) Whether the trial court erred in calculating the 'buy back' amount under La.R.S. 23:1102(B).\\n(2) Whether Talbot satisfied the necessary 'buy back' amount under La.R.S. 23:1102(B).\\n(3) Whether Talbot is entitled to additional credit against future workers' compensation benefits.\\n(4) Whether the trial court properly calculated the dollar for dollar credit against future compensation owed by Talbot.\""
      ]
     },
     "execution_count": 89,
     "metadata": {},
     "output_type": "execute_result"
    }
   ],
   "source": [
    "results[2]['issues_presented'].tolist()[0]"
   ]
  },
  {
   "cell_type": "code",
   "execution_count": 91,
   "metadata": {},
   "outputs": [
    {
     "data": {
      "text/markdown": [
       "| case_name                                                                                                                                                   | issues_presented                                                                                                                                                                                                                                                                                                                                                                                                        | facts_of_the_case                                                                                                                                                                                                                                                                                                                                                                                                                                                                                                                                                                                                                                                                                    | proceedural_history                                                                                                                                                                                                                                                                                                                                                                                                                                                                          | analysis__rules                                                                                                                                                                                                                                                                                                                                                                                                                                                         | analysis__case_law                                                                                                                                                                                                                                                                                                                                                                                                                           | analysis__application                                                                                                                                                                                                                                                                                                                                                                                                                                                                                                                 | conclusion                                                                                                                                                                                                                                                                                                                     | winner                                                                                                         |\n",
       "|:------------------------------------------------------------------------------------------------------------------------------------------------------------|:------------------------------------------------------------------------------------------------------------------------------------------------------------------------------------------------------------------------------------------------------------------------------------------------------------------------------------------------------------------------------------------------------------------------|:-----------------------------------------------------------------------------------------------------------------------------------------------------------------------------------------------------------------------------------------------------------------------------------------------------------------------------------------------------------------------------------------------------------------------------------------------------------------------------------------------------------------------------------------------------------------------------------------------------------------------------------------------------------------------------------------------------|:---------------------------------------------------------------------------------------------------------------------------------------------------------------------------------------------------------------------------------------------------------------------------------------------------------------------------------------------------------------------------------------------------------------------------------------------------------------------------------------------|:------------------------------------------------------------------------------------------------------------------------------------------------------------------------------------------------------------------------------------------------------------------------------------------------------------------------------------------------------------------------------------------------------------------------------------------------------------------------|:---------------------------------------------------------------------------------------------------------------------------------------------------------------------------------------------------------------------------------------------------------------------------------------------------------------------------------------------------------------------------------------------------------------------------------------------|:--------------------------------------------------------------------------------------------------------------------------------------------------------------------------------------------------------------------------------------------------------------------------------------------------------------------------------------------------------------------------------------------------------------------------------------------------------------------------------------------------------------------------------------|:-------------------------------------------------------------------------------------------------------------------------------------------------------------------------------------------------------------------------------------------------------------------------------------------------------------------------------|:---------------------------------------------------------------------------------------------------------------|\n",
       "| Zaunbrecher v. Succession of David, et al.                                                                                                                  | Whether the Louisiana Anti-Dram Shop Statute, La.R.S. 9:2800.1, grants statutory immunity to defendants Marissa Martin, Nathan Ponthier, and Jeremy Ponthieux, thereby barring the wrongful death suit arising from a fatal automobile accident caused by an intoxicated individual served alcohol by the defendants.                                                                                                   | On July 11, 2013, Michael Blake Zaunbrecher was killed in a head-on collision with Leo J. David, who was intoxicated. The plaintiff, Zachary Zaunbrecher, filed a suit alleging that David lost control of his vehicle due to his intoxication after being overserved at Paragon Casino Resort, where Marissa Martin served him alcohol, and security guards Nathan Ponthier and Jeremy Ponthieux failed to prevent him from driving away in an intoxicated state.                                                                                                                                                                                                                                   | The trial court dismissed claims against Paragon Casino based on tribal sovereign immunity but was reversed on appeal for the employee defendants. The employees later sought summary judgment based on statutory immunity, which the trial court denied. The employees then filed for supervisory writs challenging the denial of summary judgment.                                                                                                                                         | Under La.R.S. 9:2800.1, a person or entity who sells or serves alcohol is not liable for injuries caused by an intoxicated individual, except when alcohol is provided by force or to minors. Statutory immunity applies to employees of permit holders.                                                                                                                                                                                                                | Louisiana courts, including the Louisiana Supreme Court, have consistently interpreted the statute strictly, denying recovery in similar cases where the statutory conditions for immunity are met.                                                                                                                                                                                                                                          | The defendants have statutory immunity as employees of Paragon, a permit holder. The court found no evidence of force in serving alcohol or service to a minor, thus concluding that the statute applies and bars the suit.                                                                                                                                                                                                                                                                                                           | The writs sought by Marissa Martin, Nathan Ponthier, and Jeremy Ponthieux are granted and made peremptory, dismissing all claims against them with prejudice.                                                                                                                                                                  | Defendants/Relators Marissa Martin, Nathan Ponthier, and Jeremy Ponthieux                                      |\n",
       "| Gerald Janise v. William Gerard, Acadian Ambulance Service, Inc., and Liberty Mutual Insurance Company                                                      | Whether the jury correctly applied the emergency vehicle statute La.R.S. 32:24, determined Gross Negligence, and followed La.Civ.Code art. 2323 regarding the degree or percentage of negligence.                                                                                                                                                                                                                       | On April 16, 2013, in Lafayette, plaintiff Gerald Janise was involved in a collision with William Gerard of Acadian Ambulance while he was responding to an emergency. Janise sued Gerard, Acadian Ambulance, and their insurer, alleging negligence. The jury found in favor of the defendants, leading Janise to appeal on grounds of misapplication of law and failure to award damages.                                                                                                                                                                                                                                                                                                          | A motion for summary judgment by defendants was denied, proceeding to a jury trial where the jury ruled in favor of defendants. Plaintiff's motion for directed verdict was denied. Post-trial, the defendant's motion for a directed verdict was also denied, and the case was appealed.                                                                                                                                                                                                    | Under La.R.S. 32:24, an emergency vehicle is only liable for reckless disregard. The plaintiff must demonstrate that the emergency vehicle did not follow the statute's provision to qualify as 'responding to an emergency'. La.Civ.Code art. 2323 requires determination of negligence degree.                                                                                                                                                                        | Previous cases (such as Lenard v. Dilley and others) established that the statute provides a 'reckless disregard' standard if certain conditions are met.                                                                                                                                                                                                                                                                                    | The court found that Janise did not prove Gerard was not responding to an actual emergency, as Gerard was instructed by dispatch. The jury had a factual basis for finding Gerard exercised 'reckless disregard' or 'gross negligence'.                                                                                                                                                                                                                                                                                               | The appellate court upheld the jury's ruling in favor of the defendants, confirming that the defendant Gerard acted within the prescribed conduct for an emergency vehicle driver responding to an emergency call.                                                                                                             | William Gerard, Acadian Ambulance Service, Inc., and Liberty Mutual Insurance Company                          |\n",
       "| Terrell Talbot v. Mouton Plumbing and Hauling, Inc., Liberty Mutual Insurance Company                                                                       | (1) Whether the trial court erred in calculating the 'buy back' amount under La.R.S. 23:1102(B).; (2) Whether Talbot satisfied the necessary 'buy back' amount under La.R.S. 23:1102(B).; (3) Whether Talbot is entitled to additional credit against future workers' compensation benefits.; (4) Whether the trial court properly calculated the dollar for dollar credit against future compensation owed by Talbot.  | Terrell Talbot was involved in a work-related car accident and received workers' compensation benefits from his employer, Mouton Plumbing, and its insurer, Liberty Mutual. Subsequently, Talbot settled a lawsuit against a third-party tortfeasor without his employer's approval and his benefits were terminated. He paid a sum to 'buy back' his right to future benefits under La.R.S. 23:1102(B), leading to disputes about the sufficiency of the 'buy-back' and future benefit credits.                                                                                                                                                                                                     | Talbot filed a motion for summary judgment which was granted by the workers' compensation judge (WCJ), thus ruling in his favor. This affirmed that he had fulfilled the 'buy-back' and was entitled to future benefits. Mouton and Liberty Mutual disputed the calculations and appealed. The appellate court reviewed the WCJ's rulings, addressed calculation errors, and remanded the case for further determinations.                                                                   | La.R.S. 23:1102(B) states that an employee forfeits future workers' compensation benefits if settlement of a tort claim with a third party is not approved by the employer or insurer. The right to future benefits can be reserved upon 'buy-back' payment to the employer or insurer, which should not exceed fifty percent of the total recovery minus legal fees.                                                                                                   | The court considered previous cases, including City of Dequincy v. Henry and Mercer v. Nabors Drilling USA, L.P., and rulings that clarified the proper calculation of the 'buy back' amount and the credit against future benefits.                                                                                                                                                                                                         | The court de novo reviewed errors in legal analysis by the WCJ and corrected the 'buy back' payment amount and the overpayment credit due to Talbot. It upheld that Talbot's payment satisfied the 'buy-back' provision and ruled that the calculation of future credit owed by Talbot requires reconsideration.                                                                                                                                                                                                                      | The court affirmed parts of the WCJ's ruling, amended parts regarding overpayment and 'buy back' figures, and reversed the awarding of dollar for dollar credit. The case is remanded for proper determination of the credit.                                                                                                  | Partially Talbot, with other issues remanded for further proceedings                                           |\n",
       "| Mary Ortega v. Cantu Services, Inc. and Liberty Mutual Insurance Company                                                                                    | Whether the workers' compensation judge (WCJ) erred in: 1) finding the settlement of $120,000 did not need to be paid within thirty days of the judicial approval of the settlement agreement; and 2) finding CMS approval was a suspensive condition that must be fulfilled before paying Ms. Ortega the $120,000 settlement.                                                                                          | Mary Ortega sustained an injury while employed by Cantu Services, Inc. A settlement of $120,000 was reached, which included a Medicare Set-Aside Agreement (MSA) requiring CMS approval. The settlement was conditioned on CMS approval, with the benefits amount to be adjusted accordingly. Ms. Ortega filed a Motion to Enforce Settlement and for penalties and attorney fees, asserting nonpayment within thirty days post-agreement violation.                                                                                                                                                                                                                                                 | The settlement was judicially approved, but when CMS did not approve the MSA, Ms. Ortega filed motions for enforcement, penalties, and attorney fees. Upon denial at the WCJ level, she appealed, also filing a Motion to Strike parts of the Appellees' brief for lacking record support. The appellate court affirmed the WCJ's judgment but granted the Motion to Strike.                                                                                                                 | Louisiana Revised Statutes 23:1201(G) pertains to penalties and attorney fees for nonpayment of workers' compensation settlements within thirty days of a final, nonappealable judgment. Louisiana Civil Codes articles 1767, 1768, and 1770 address suspensive conditions in contracts, defining the fulfillment events and nullification conditions dependent on the obligor's actions.                                                                               | The case of Harrelson v. Arcadia established that CMS approval for MSA funding is a suspensive condition delaying the payment obligation until approval. CMS's actions are typically out of the employer's control, negating penalties for delayed payment pending CMS approval.                                                                                                                                                             | The court found no error with the WCJ's determination that the CMS approval was a suspensive condition and that it was not dependent on the whim of the obligor, as the timing and decision of CMS approval lay beyond the employer's control. The court concluded that nonpayment was the result of conditions over which the employer had no control, and therefore statutory penalties and attorney fees were not warranted.                                                                                                       | The appellate court affirmed the WCJ's judgment denying Ms. Ortega's Motion to Enforce Settlement and for penalties and attorney fees, as the settlement was properly conditioned upon CMS approval of the MSA, a suspensive condition. The court granted the Motion to Strike.                                                | Cantu Services, Inc. and Liberty Mutual Insurance Company                                                      |\n",
       "| Blanchard v. GoAuto Insurance Company and Demetrius J. Hicks                                                                                                | Whether the trial court erred in granting summary judgment to the defendants based on their assertion that an unknown thief's actions caused the collision and not the negligence of Mr. Hicks, who left his vehicle with the keys in the ignition and engine running in violation of La.R.S. 32:145.                                                                                                                   | Christopher Blanchard filed a lawsuit against Demetrius J. Hicks and his insurer, GoAuto, claiming damages from a collision where Blanchard's patrol car was rear-ended by a truck owned by Mr. Hicks and insured by GoAuto. The truck was earlier stolen by an unknown thief who abandoned it in gear, causing it to collide with Blanchard's vehicle. Hicks admitted leaving the truck unattended with the engine and air conditioning running. Blanchard appealed after summary judgment was granted in favor of Hicks and GoAuto by the trial court.                                                                                                                                             | The trial court granted summary judgment for Hicks and GoAuto, dismissing Blanchard's claims with prejudice. Blanchard appealed the judgment, claiming the trial court erred due to Hicks's violation of La.R.S. 32:145.                                                                                                                                                                                                                                                                     | The review for summary judgment is de novo and requires showing that there's no genuine issue of material fact, allowing the mover to win judgment as a matter of law. La.R.S. 32:145 mandates certain steps before leaving a vehicle unattended. Violation of La.R.S. 32:145 alone does not extend to liability for accidents caused by a thief.                                                                                                                       | A series of cases, such as 'Racine v. Moon's Towing' and 'Roach v. Liberty Mutual Insurance Co.', established that the mere act of leaving keys in a car does not create liability when a thief steals the car and injures a third party.                                                                                                                                                                                                    | The trial court applied the summary judgment standard and the relevant case law to conclude that Hicks's violation of La.R.S. 32:145 did not create liability for the accident caused by the thief. The court noted Hicks took immediate action to recover his stolen truck and that there was no genuine issue of material fact that warranted a trial.                                                                                                                                                                              | The trial court's ruling granting summary judgment in favor of GoAuto and Mr. Hicks is upheld, affirming the dismissal of all claims by plaintiff Christopher Blanchard.                                                                                                                                                       | GoAuto Insurance Company and Demetrius J. Hicks                                                                |\n",
       "| Jacqueline Gaspard v. Allstate Insurance Company                                                                                                            | Whether the trial court erred in: 1) granting Allstate's motion to strike the jury trial; 2) not recusing itself and proceeding as the finder-of-fact; 3) denying Ms. Gaspard's motion for a new trial without a contradictory hearing; 4) dismissing Ms. Gaspard's bad faith claims against Allstate; and 5) its findings related to damages and lost earning capacity.                                                | Jacqueline Gaspard experienced an auto accident on August 27, 2012, and claimed damages exceeding the liability coverage of the responsible parties. She reached settlements with the responsible parties and their insurers, but pursued claims against her uninsured motorist insurer, Allstate Insurance Company. She demanded an unconditional tender under Allstate's UM policy and later amended her claim to include penalties and attorney fees, which Allstate did not tender.                                                                                                                                                                                                              | The trial court denied Ms. Gaspard's claims for penalties and attorney fees and awarded her $3,314.37 in medical expenses and $8,000.00 in general damages. Ms. Gaspard filed motions for a new trial and to recuse the trial judge, both denied. She appealed on several grounds related to the conduct of the trial and the sufficiency of her damages award.                                                                                                                              | Allstate was not obligated to pay damages until Ms. Gaspard proved her damages exceeded $50,000.00. Issues of trial conduct, recusal, and damages are subject to standards that look at the trial court's discretion, the presence of actual bias, prejudice, and the reasonable basis for factual findings, and must be preserved for appeal properly.                                                                                                                 | Ms. Gaspard's reliance for a jury trial relied on La.Code Civ.P. arts. 1733, 1734, and 1734.1 which outline conditions for a jury trial or withdrawal of a jury demand. Her recusal claim was considered under the standards set for in La.Code Civ.P. art. 151(A) which outlines when a judge should be recused. The adequacy of damages is reviewed under the manifest error standard, as established by past case law.                    | The appellate court found the trial court did not err in its rulings. Ms. Gaspard did not properly secure her right to a jury trial and did not preserve her recusal argument for appeal. The damage awards were within the trial court's discretion, and there was no error in its determinations related to damages and lost earning capacity. Ms. Gaspard failed to prove bad faith against Allstate as she did not establish damages in excess of policy limits.                                                                  | Ms. Gaspard's appeal was affirmed, with all costs assessed to her. Her claims for penalties and attorney fees against Allstate were dismissed, and the judgment on the awarded damages was upheld.                                                                                                                             | Allstate Insurance Company                                                                                     |\n",
       "| Noles-Frye Realty v. Soltau-Talbot                                                                                                                          | Whether Andrea Soltau-Talbot, the Buyer, satisfied the burden of proving her good faith effort to obtain a loan as per the financing contingency in the purchase agreement, to warrant the return of her $30,000 deposit.                                                                                                                                                                                               | Noles-Frye Realty commenced a concursus proceeding over a disputed escrow deposit from a failed real estate transaction. Andrea Soltau-Talbot, the Buyer, sought to purchase property from the Sellers, but the sale was not completed. Both parties claimed entitlement to the deposit. The Buyer argued that due to an inability to secure financing, as per the financing contingency in the Agreement, she was entitled to the deposit's return. The Sellers contended the Agreement did not make the sale contingent on financing and claimed the deposit based on the Buyer's default.                                                                                                         | Following a hearing, the trial court ruled in favor of the Sellers, determining the Buyer failed to prove a good faith effort to obtain financing. The Buyer appealed. The appellate court reversed and rendered the trial court's decision.                                                                                                                                                                                                                                                 | The financing contingency clause under Louisiana law imposes a duty on the Buyer to make a good faith effort to obtain a loan for the purchase of the property. Both parties, as per the concursus proceeding, must assert their claims contradictorily against other parties and carry the burden to prove their claims.                                                                                                                                               | Woods v. Austin established that if, through no fault of her own, the Buyer is unable to obtain the loan, she is released from her obligation to purchase and is entitled to the return of her deposit (La. C.C. Art. 1771).                                                                                                                                                                                                                 | The appellate court found that the record supported the Buyer's credible testimony regarding her attempts to secure financing, and while the trial court found her credible, it improperly demanded additional documentary evidence which was not required by the Agreement. Upon appellate review, it was determined that the Buyer's testimony alone sufficiently proved her good faith effort to obtain a loan.                                                                                                                    | Given the credibility of the Buyer's testimony and the lack of requirement for additional documentary proof, the appellate court reversed the trial court's judgment and ordered that the deposit, along with accumulated interest, be returned to the Buyer.                                                                  | Andrea Soltau-Talbot, the Buyer                                                                                |\n",
       "| Adams v. Georgia Gulf Lake Charles, LLC                                                                                                                     | Whether the WCJ erred in finding Mr. Adams' workers' compensation claim did not prescribe, whether there was a causal connection between Mr. Adams' hearing loss and employment at Georgia Gulf, entitlement to SEB payments, the awarding of penalties and attorney fees, and the addressal of additional attorney fees for appeal.                                                                                    | Joseph Adams, employed by Georgia Gulf for 40 years, filed a workers' compensation claim for occupational hearing loss. Adams was awarded SEB, penalties, and attorney fees by the WCJ. Georgia Gulf appealed, arguing that Adams' claim prescribed, there was no causal connection, Adams was not entitled to SEB, and the awards of penalties and attorney fees were incorrect. Adams sought additional attorney fees for appeal work.                                                                                                                                                                                                                                                             | The workers' compensation judge (WCJ) awarded SEB, penalties, and attorney fees to Mr. Adams. Georgia Gulf appealed the decision, and Mr. Adams answered seeking additional attorney fees for appeal work. The appellate court amended the judgment to limit SEB payments to 104 weeks, affirmed the decision as amended, and granted additional attorney fees for the appeal.                                                                                                               | Louisiana Workers' Compensation Act governs occupational diseases. The manifest error or clearly wrong standard applies to factual findings. Prescription is interrupted by suit filing in a competent court. The employee must prove inability to earn 90% of pre-injury wage to receive SEB. An employer who fails to contest the claim may be subject to penalties and attorney fees if the denial of benefits is found arbitrary or capricious.                     | The court considered 'Arrant v. Graphic Packaging International, Inc.' case that occupational noise-induced hearing loss is an occupational disease under the LWCA. 'Poissenot v. St. Bernard Parish Sheriff's Office' and 'Seal v. Gaylord Container Corp.' were cited regarding the standards for proving entitlement to SEB payments.                                                                                                     | The court agreed with the WCJ that Adams' tort suit interrupted prescription, that he provided a preponderance of evidence of causation between his work and hearing loss, and established a prima facie case for SEB entitlement. Georgia Gulf failed to prove job availability within Adams' restrictions. The award of penalties and attorney fees was upheld due to Georgia Gulf's arbitrary handling of the claim. Additional attorney fees were awarded for the appeal work.                                                    | The appellate court affirmed the WCJ's decision regarding Mr. Adams' award of SEB, penalties, and attorney fees but amended the judgment to limit the SEB payments to 104 weeks due to retirement. Additional attorney fees for appeal work were also awarded.                                                                 | Joseph Adams                                                                                                   |\n",
       "| Matthew M. Walker and Jim Lee Hankins v. The Manitowoc Company, Inc., et al.                                                                                | Whether Plaintiffs'/Intervenors' claims alleging product liability under the Louisiana Products Liability Act (LPLA) for a crane accident due to failure to warn, design defects, and defects in construction should be dismissed based on various grounds including reasonably anticipated use, the nature of the warnings provided, and whether genuine issues of material fact exist that preclude summary judgment. | Walker and Hankins filed separate suits for personal injuries sustained in a worksite accident involving a Manitowoc model 888 crane. They alleged the crane was unreasonably dangerous due to inadequate warning, design defects, and defects in construction. Their employer, BWW, and its insurer intervened, alleging property damage. Defendants contended that the accident was caused by misuse and overloading of the crane, and not due to defects.                                                                                                                                                                                                                                         | The trial court consolidated the suits, denied Manitowoc's motion for summary judgment, granted partial summary judgment in favor of Plaintiffs'/Intervenors, and denied Manitowoc's motions to dismiss and for sanctions due to spoliation of evidence. Manitowoc sought supervisory writs and appealed the judgments. The appeals and writs were consolidated for review.                                                                                                                  | Under the LPLA, a plaintiff must prove that the product was unreasonably dangerous in construction, design, due to inadequate warning, or because it did not conform to a warranty, and caused damage arising from a reasonably anticipated use. For a failure to warn claim, a product is considered unreasonably dangerous if it possessed a characteristic that may cause damage, and the manufacturer failed to use reasonable care to provide an adequate warning. | The Court considered precedents such as Butz v. Lynch and the statutory provisions of La.R.S. 9:2800.54 and related articles for assessing product liability claims under the LPLA.                                                                                                                                                                                                                                                          | The Court found genuine issues of material fact as to whether the boom was a \"suspended load,\" whether the crane was overloaded or poorly maintained, and if there were feasible alternative designs that could have prevented the incident. It also considered whether the manufacturer performed its duty to warn effectively, looking at alternatives like direct notifications to owners vs. communicating through distributors.                                                                                                  | The appellate court reverses the lower court's judgment granting partial summary judgment on the failure to warn and dismisses affirmative defenses against distributors and previous owners. It denies both writ applications. It remands the case as genuine issues of material fact preclude summary judgment at this time. | Defendants/Applicants - Manitowoc Cranes, LLC, Westchester Fire Insurance Co., and The Manitowoc Company, Inc. |\n",
       "| Jim Lee Hankins & Matthew M. Walker v. Manitowoc Cranes, LLC, et al.                                                                                        | Whether the trial court erred in granting summary judgment to H & E Equipment Services, Inc. and Travelers Property and Casualty Company of America.                                                                                                                                                                                                                                                                    | Matthew M. Walker and Jim Lee Hankins, plaintiffs, were injured when a Manitowoc model 888 crane malfunctioned, causing them to fall. The plaintiffs brought suits against various parties including the manufacturer of the crane, alleging defects under the Louisiana Products Liability Act, and H & E Equipment Services, Inc., for failing to inspect or warn of the defect. Plaintiffs' employer and its insurer also sought damages. After consolidation, H & E's summary judgment motion was granted by the trial court.                                                                                                                                                                    | Plaintiffs and their employer's insurer appealed the trial court's grant of summary judgment for H & E, which was made contingent on the outcome of a companion case regarding the duty to warn against Manitowoc. The appellate court affirmed the trial court's decision favoring H & E.                                                                                                                                                                                                   | Under Louisiana's duty-risk analysis, liability is determined by the defendant's duty, breach, causation, scope of liability, and damages. For summary judgment, the mover must show no genuine issue of material fact and entitlement to judgment as a matter of law.                                                                                                                                                                                                  | Marks v. OHMEDA, Inc. was cited by the trial court for the proposition that the duty established by La.R.S. 9:2800.57(C) cannot be delegated and is placed directly upon the manufacturer.                                                                                                                                                                                                                                                   | The court found H & E's lone repair on the crane fifteen months prior to the incident did not involve the crane's defect. As H & E was not the crane's distributor at the time of Manitowoc's Service Bulletin 90, it had no duty to warn. H & E's limited role and lack of causal connection to the accident negated the existence of a duty to the plaintiffs, leading to the grant of summary judgment.                                                                                                                            | The appellate court affirmed the trial court's judgment granting summary judgment in favor of H & E Equipment Services, Inc. and Travelers Property and Casualty Company of America.                                                                                                                                           | Defendants/Appellees                                                                                           |\n",
       "| Michael D. Vanek and Vanek Real Estate, LLC v. Charles Robertson and Div-Conn of Lake Charles, LLC                                                          | Whether the trial court erred in dismissing the plaintiff's principal demand against Robertson when no motion for summary judgment was filed by a party to the principal action.                                                                                                                                                                                                                                        | Plaintiff Michael D. Vanek filed suit against Charles Robertson for breach of a listing agreement concerning a commercial property, claiming a commission for a sale where Robertson paid a different broker. Robertson countered the listing expired and was specific to another entity. Vanek alleged previous payment of commissions ratified the agreement. Sedano, involved in the listing, ceased working for Vanek and assured Robertson the listing expired. After the property sale, Sedano was paid a commission. Sedano then filed a partial summary judgment to dismiss Vanek's claims, contending Vanek waived his right to a commission in a previous agreement, which Vanek disputed. | Suit filed by Vanek against Robertson; Robertson filed answer, reconventional demand, and third-party demand against Sedano; Sedano moved for partial summary judgment dismissing Vanek's claims, asserting a waiver of commission. Trial court granted Sedano's motion including dismissal of Vanek's claims against Robertson, whom he had not sued directly. Vanek appealed the dismissal of his claims against the original defendants, asserting that the court exceeded its authority. | The procedural correctness of a court's judgment, summary judgment standards, article 966(F) of the Louisiana Code of Civil Procedure, which allows summary judgment only for issues considered at the time, and due process requirements for adequate notice.                                                                                                                                                                                                          | Cited cases include State, Through La. Riverboat Gaming Comm'n v. La. State Police Riverboat Gaming Enf't Div., Johnson v. La. Tax Comm'n, Dennison v. Liberty Mutual Insurance Co., Jones v. American Bank & Trust Co., Tassin v. Setliff, and Glover v. Med. Ctr. of Baton Rouge, providing legal background on summary judgments, procedural jurisdiction, and the adjudication of claims without plaintiff's assertion or direct claims. | The trial court granted partial summary judgment based on the belief that no factual disputes existed and the agreement between Vanek and Sedano applied. However, Vanek's claims were not subject to the motion considered. Robertson's lack of a motion or joinder meant Vanek's claims were not validly dismissed. Dennison and Jones provided jurisprudence on judgments against unnamed parties, and Article 966(F) established boundaries of grantable summary judgments.                                                       | The trial court erred in dismissing Vanek's principal claims against the original defendants, as summary judgment applied only to Sedano's motion. The decree reversed the portion of judgment dismissing Vanek's claims against the defendants and remanded the matter for further proceedings.                               | Plaintiff (Michael D. Vanek and Vanek Real Estate, LLC)                                                        |\n",
       "| Liberty Mutual Fire Insurance Company v. St. Martin Economic Development Authority (SMEDA)                                                                  | Whether the trial court erred in granting summary judgment to SMEDA, thereby dismissing Liberty Mutual and Hanover's claims for flood damage against SMEDA.                                                                                                                                                                                                                                                             | The St. Martin Economic Development Authority (SMEDA), a non-profit corporation, sold Lot 21-A in the Highway 90 Industrial Park to Waukesha Pearce Industries, LLC (WPI). Following flood damage to WPI's building in 2015, insurers Liberty Mutual and Hanover filed damage claims against SMEDA, alleging negligence in the design and maintenance of drainage systems. SMEDA moved for summary judgment claiming no involvement in the development or drainage design.                                                                                                                                                                                                                           | The trial court granted summary judgment in favor of SMEDA, dismissing Liberty Mutual and Hanover's claims. Liberty Mutual appealed the decision, and Hanover filed a brief in support of the appeal.                                                                                                                                                                                                                                                                                        | Summary judgment is appropriate when there is no genuine issue of material fact and the moving party is entitled to judgment as a matter of law. The moving party must demonstrate the lack of a material fact, shifting the burden to the opposing party to provide evidence of such a fact.                                                                                                                                                                           | References to the Louisiana Code of Civil Procedure, particularly Articles 966 and 862, govern the standards and burdens for summary judgment.                                                                                                                                                                                                                                                                                               | The affidavits submitted by SMEDA established their lack of involvement in the development and drainage design, and no counter affidavits or evidence were presented by Liberty Mutual or Hanover to establish a genuine issue of material fact. The court found that all claims against SMEDA were dismissed and that the granting of summary judgment in SMEDA's favor was proper.                                                                                                                                                  | The appellate court affirmed the trial court's granting of summary judgment in favor of SMEDA, thereby dismissing with prejudice all claims from Liberty Mutual and Hanover.                                                                                                                                                   | St. Martin Economic Development Authority (SMEDA)                                                              |\n",
       "| James Guilbeau, Keith Antoine, and Clyde Guillory v. Morlon Chaddrick, Utility Lines Construction Services, Inc., and Liberty Mutual Fire Insurance Company | Whether the trial court erred in granting Plaintiffs a partial summary judgment on liability and making the factual finding that Defendant Morlon Chaddrick was 100% at fault for causing the vehicular accident, despite the contention of numerous issues of material fact as to the negligence and/or comparative fault of the parties in this case.                                                                 | On September 5, 2014, a rear-end collision occurred when Morlon Chaddrick, employed by Utility Lines Construction Services, Inc., struck a stopped St. Landry Parish maintenance truck occupied by Plaintiffs James Guilbeau, Keith Antoine, and Clyde Guillory. St. Landry Parish Government intervened for reimbursement of worker's compensation benefits. The Plaintiffs and Intervenor sought summary judgment on liability, which the trial court granted, reserving issues of medical causation and damages for trial. Defendants appealed, contending the trial court erred by not recognizing the genuine issues of material fact.                                                          | Plaintiffs filed a motion for partial summary judgment on liability, which the trial court granted, finding Defendants 100% at fault. The issues of medical causation and damages were reserved for a trial on the merits. Defendants appealed the decision.                                                                                                                                                                                                                                 | Louisiana Civil Code Article 2315 outlines general negligence principles requiring proof of duty, breach of duty, cause-in-fact, legal causation, and actual damages. La.R.S. 32:81(A) and 32:141 dictate motorist conduct regarding following distance and parking on highways. Comparative fault principles apply when multiple parties contribute to an accident.                                                                                                    | Garcia v. Stalsby (rear-end collision presumption), Graffia v. Louisiana Farm Bureau (comparative fault in rear-end collisions), Samuel v. Vicknair (application of La.R.S. 32:141), and Laird v. Travelers Ins. Co. (La.R.S. 32:141 as a highway safety measure). The Supreme Court cases of Maggio v. Parker and Boyance v. United Fire and Casualty Co. clarify the roles of the courts in summary judgment and comparative fault.        | The appellate court concluded that genuine issues of material fact exist regarding the negligence or comparative fault of the Plaintiffs, notably the parking position of the dump truck and the failure to use safety warnings, as well as the claimed temporary blindness of Mr. Chaddrick due to sun glare. It held that La.R.S. 32:141 applies to a parish road and found that the trial court erred in granting summary judgment without resolving fact-based inquiries, thus reversing and remanding for trial on those issues. | The appellate court reversed the trial court's grant of partial summary judgment finding Defendants 100% at fault and remanded the case for further proceedings.                                                                                                                                                               | Defendants/Appellants                                                                                          |\n",
       "| Mitchell v. Alliance Compressors                                                                                                                            | Whether Alliance Compressors was entitled to summary judgment in a workers' compensation case, and whether the Workers' Compensation Judge (WCJ) abused discretion by not referring the summary judgment motion to a trial on the merits.                                                                                                                                                                               | Elaine Mitchell filed a workers' compensation claim against Alliance Compressors, alleging a workplace injury to her right hand on December 5, 2016. The dispute involved the extent of disability, indemnity benefits, medical treatments, and payments for medical and travel expenses, among other issues.                                                                                                                                                                                                                                                                                                                                                                                        | After several trial continuations, a hearing for Alliance's motion for summary judgment was scheduled for July 5, 2018. Mitchell's motions filed just before the hearing were considered untimely, and she did not appear at the hearing. The WCJ granted summary judgment in favor of Alliance and denied Mitchell's subsequent motion for new trial. Mitchell appealed.                                                                                                                    | Under Louisiana's workers' compensation statutes, an employee must show injury from an accident related to employment, necessitating medical treatment or disability, to recover benefits. Summary judgment is appropriate when there is no genuine issue of material fact, and the mover is entitled to judgment as a matter of law.                                                                                                                                   | The court reviewed cases such as Alfred v. Mid-S. Mach., Inc. and Fritz v. Home Furniture-Lafayette regarding disability benefits from workers' compensation claims. Previous rulings discussed the award of temporary total disability benefits and criteria for granting summary judgment in workers' compensation cases.                                                                                                                  | Alliance properly supported its motion for summary judgment, establishing uncontested material facts. Mitchell failed to attend the hearing or timely file opposition, and did not establish a genuine issue of material fact. The WCJ did not abuse discretion in refusing to continue or refer the motion to trial, and proper legal procedure was followed.                                                                                                                                                                        | The court affirmed the judgment in favor of Alliance. The WCJ properly granted summary judgment as Alliance met its burden and no genuine issues of material fact were found.                                                                                                                                                  | Alliance Compressors                                                                                           |"
      ],
      "text/plain": [
       "<IPython.core.display.Markdown object>"
      ]
     },
     "execution_count": 91,
     "metadata": {},
     "output_type": "execute_result"
    }
   ],
   "source": [
    "res_df = pd.concat(results)\n",
    "table_df = res_df.drop(columns=['id'])\n",
    "table_df['issues_presented'] = table_df['issues_presented'].str.replace(\"\\n\", \"; \", regex=False)\n",
    "Markdown(table_df.to_markdown(index=False))"
   ]
  },
  {
   "cell_type": "code",
   "execution_count": 97,
   "metadata": {},
   "outputs": [],
   "source": [
    "filtered_df.to_parquet('lm_cap_cases2000.parquet')"
   ]
  },
  {
   "cell_type": "code",
   "execution_count": null,
   "metadata": {},
   "outputs": [],
   "source": []
  }
 ],
 "metadata": {
  "kernelspec": {
   "display_name": ".venv",
   "language": "python",
   "name": "python3"
  },
  "language_info": {
   "codemirror_mode": {
    "name": "ipython",
    "version": 3
   },
   "file_extension": ".py",
   "mimetype": "text/x-python",
   "name": "python",
   "nbconvert_exporter": "python",
   "pygments_lexer": "ipython3",
   "version": "3.10.11"
  }
 },
 "nbformat": 4,
 "nbformat_minor": 2
}
