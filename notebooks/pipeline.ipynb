{
 "cells": [
  {
   "cell_type": "code",
   "execution_count": 1,
   "metadata": {},
   "outputs": [
    {
     "name": "stdout",
     "output_type": "stream",
     "text": [
      "df shape: (1987, 24)\n"
     ]
    },
    {
     "data": {
      "text/html": [
       "<div>\n",
       "<style scoped>\n",
       "    .dataframe tbody tr th:only-of-type {\n",
       "        vertical-align: middle;\n",
       "    }\n",
       "\n",
       "    .dataframe tbody tr th {\n",
       "        vertical-align: top;\n",
       "    }\n",
       "\n",
       "    .dataframe thead th {\n",
       "        text-align: right;\n",
       "    }\n",
       "</style>\n",
       "<table border=\"1\" class=\"dataframe\">\n",
       "  <thead>\n",
       "    <tr style=\"text-align: right;\">\n",
       "      <th></th>\n",
       "      <th>index</th>\n",
       "      <th>id</th>\n",
       "      <th>citation</th>\n",
       "      <th>name</th>\n",
       "      <th>name_abbreviation</th>\n",
       "      <th>decision_date</th>\n",
       "      <th>court_id</th>\n",
       "      <th>court_name</th>\n",
       "      <th>court_slug</th>\n",
       "      <th>judges</th>\n",
       "      <th>attorneys</th>\n",
       "      <th>citations</th>\n",
       "      <th>url</th>\n",
       "      <th>head</th>\n",
       "      <th>body</th>\n",
       "      <th>name_contains_lm</th>\n",
       "      <th>body_contains_lm</th>\n",
       "      <th>year</th>\n",
       "      <th>context</th>\n",
       "      <th>context_citation</th>\n",
       "      <th>context_tokens</th>\n",
       "      <th>openai_embeddings</th>\n",
       "      <th>splade_embeddings</th>\n",
       "      <th>state</th>\n",
       "    </tr>\n",
       "  </thead>\n",
       "  <tbody>\n",
       "    <tr>\n",
       "      <th>0</th>\n",
       "      <td>0</td>\n",
       "      <td>411690</td>\n",
       "      <td>154 Ill. 2d 90</td>\n",
       "      <td>RICHARD R. JOHNSON, Plaintiff-Appellant and Cr...</td>\n",
       "      <td>Johnson v. Halloran</td>\n",
       "      <td>2000-01-13</td>\n",
       "      <td>8837</td>\n",
       "      <td>Illinois Appellate Court</td>\n",
       "      <td>ill-app-ct</td>\n",
       "      <td>[]</td>\n",
       "      <td>['Wolter, Beeman, Lynch &amp; McIntyre, of Springf...</td>\n",
       "      <td>[{'type': 'official', 'cite': '312 Ill. App. 3...</td>\n",
       "      <td>https://api.case.law/v1/cases/411690/</td>\n",
       "      <td>RICHARD R. JOHNSON, Plaintiff-Appellant and Cr...</td>\n",
       "      <td>JUSTICE HALL\\r\\ndelivered the opinion of the c...</td>\n",
       "      <td>False</td>\n",
       "      <td>True</td>\n",
       "      <td>2000</td>\n",
       "      <td>The public defender of Cook County was appoint...</td>\n",
       "      <td>154 Ill. 2d 90</td>\n",
       "      <td>1317</td>\n",
       "      <td>[-0.0017778094625100493, -0.002360282698646187...</td>\n",
       "      <td>[0.0, 0.0, 0.0, 0.0, 0.0, 0.0, 0.0, 0.0, 0.0, ...</td>\n",
       "      <td>New Mexico</td>\n",
       "    </tr>\n",
       "  </tbody>\n",
       "</table>\n",
       "</div>"
      ],
      "text/plain": [
       "   index      id        citation  \\\n",
       "0      0  411690  154 Ill. 2d 90   \n",
       "\n",
       "                                                name    name_abbreviation  \\\n",
       "0  RICHARD R. JOHNSON, Plaintiff-Appellant and Cr...  Johnson v. Halloran   \n",
       "\n",
       "  decision_date  court_id                court_name  court_slug judges  \\\n",
       "0    2000-01-13      8837  Illinois Appellate Court  ill-app-ct     []   \n",
       "\n",
       "                                           attorneys  \\\n",
       "0  ['Wolter, Beeman, Lynch & McIntyre, of Springf...   \n",
       "\n",
       "                                           citations  \\\n",
       "0  [{'type': 'official', 'cite': '312 Ill. App. 3...   \n",
       "\n",
       "                                     url  \\\n",
       "0  https://api.case.law/v1/cases/411690/   \n",
       "\n",
       "                                                head  \\\n",
       "0  RICHARD R. JOHNSON, Plaintiff-Appellant and Cr...   \n",
       "\n",
       "                                                body  name_contains_lm  \\\n",
       "0  JUSTICE HALL\\r\\ndelivered the opinion of the c...             False   \n",
       "\n",
       "   body_contains_lm  year                                            context  \\\n",
       "0              True  2000  The public defender of Cook County was appoint...   \n",
       "\n",
       "  context_citation  context_tokens  \\\n",
       "0   154 Ill. 2d 90            1317   \n",
       "\n",
       "                                   openai_embeddings  \\\n",
       "0  [-0.0017778094625100493, -0.002360282698646187...   \n",
       "\n",
       "                                   splade_embeddings       state  \n",
       "0  [0.0, 0.0, 0.0, 0.0, 0.0, 0.0, 0.0, 0.0, 0.0, ...  New Mexico  "
      ]
     },
     "execution_count": 1,
     "metadata": {},
     "output_type": "execute_result"
    }
   ],
   "source": [
    "import os\n",
    "from dotenv import load_dotenv\n",
    "import pandas as pd\n",
    "import warnings\n",
    "warnings.filterwarnings('ignore')\n",
    "pd.set_option('display.max_columns', None)\n",
    "from IPython.display import Markdown, display, HTML\n",
    "\n",
    "load_dotenv()\n",
    "os.chdir(os.path.dirname(os.getcwd()))\n",
    "\n",
    "df = pd.read_parquet('./data/splade.parquet')\n",
    "print(f\"df shape: {df.shape}\")\n",
    "df.head(1)"
   ]
  },
  {
   "cell_type": "code",
   "execution_count": 2,
   "metadata": {},
   "outputs": [],
   "source": [
    "query = \"\"\"\n",
    "Regarding the pollution exclusion on comprehensive general liability (CGL) insurance, \\\n",
    "how have courts generally defined or interpreted the phrase 'sudden and accidental' with respect to polluting events?\n",
    "\"\"\""
   ]
  },
  {
   "cell_type": "code",
   "execution_count": 3,
   "metadata": {},
   "outputs": [],
   "source": [
    "from src.search.models import (\n",
    "    QueryPlanConfig,\n",
    "    SearchRequest,\n",
    "    DocumentSource,\n",
    "    BaseFilters,\n",
    "    Tag\n",
    ")\n",
    "from src.search.query_expansion import segment_search_query\n",
    "from src.search.query_planning import generate_query_filters, screen_query\n",
    "\n",
    "DEFAULT_TOP_K = 40\n",
    "DEFAULT_RERANK_TOP_K = 20\n",
    "DEFAULT_MAX_LLM_CHUNKS = 10\n",
    "\n",
    "\n",
    "def retrieval_preprocessing(\n",
    "    search_request: SearchRequest,\n",
    "    verbose: bool = False,\n",
    ") -> QueryPlanConfig:\n",
    "    \n",
    "    tag_list = []\n",
    "    \n",
    "    query = search_request.query\n",
    "\n",
    "    preset_filters = search_request.human_selected_filters or None\n",
    "    \n",
    "    if preset_filters:\n",
    "        tag_list.extend(preset_filters.tags)\n",
    "\n",
    "    query_screening = None\n",
    "    if search_request.enable_query_screening:\n",
    "        query_screening = screen_query(query=query)\n",
    "        \n",
    "    if search_request.enable_auto_detect_filters:\n",
    "        predicted_filters = generate_query_filters(\n",
    "            search_df=df,\n",
    "            query=query,\n",
    "            filter_fields=['state'],\n",
    "            verbose=verbose,\n",
    "        )\n",
    "        pred_tags = []\n",
    "        for tag in predicted_filters:\n",
    "            pred_tag = Tag(\n",
    "                tag_key=tag.filter_key,\n",
    "                tag_value=tag.filter_value\n",
    "            )\n",
    "            pred_tags.append(pred_tag)\n",
    "        \n",
    "        tag_list.extend(pred_tags)\n",
    "        \n",
    "    if search_request.enable_auto_subquestions:\n",
    "        n = str(query_screening.n_subquestions) if query_screening else \"2 to 3\"\n",
    "        queries = segment_search_query(\n",
    "            query,\n",
    "            n,\n",
    "        )\n",
    "        \n",
    "    return QueryPlanConfig(\n",
    "        query=search_request.query,\n",
    "        subquestions=queries,\n",
    "        filters=tag_list,\n",
    "        num_hits=DEFAULT_TOP_K,\n",
    "        num_rerank=DEFAULT_RERANK_TOP_K,\n",
    "        max_llm_filter_chunks=DEFAULT_MAX_LLM_CHUNKS,\n",
    "        rerank=search_request.rerank,\n",
    "        llm_chunk_filter=search_request.llm_chunk_filter,\n",
    "        query_eval=query_screening if query_screening is not None else None,\n",
    "        search_configs=search_request.search_configs,\n",
    "    )\n"
   ]
  },
  {
   "cell_type": "code",
   "execution_count": 4,
   "metadata": {},
   "outputs": [
    {
     "name": "stderr",
     "output_type": "stream",
     "text": [
      "\u001b[32m2024-04-28 18:30:17 - INFO - Schema shown to LLM: \n",
      "Name of each field, its type and unique values (up to 20):\n",
      "* state (string);  Values - ['New Mexico' 'Nevada' 'Virginia' 'Vermont' 'Kansas' 'Maryland' 'Arkansas'\n",
      " 'Massachusetts' 'West Virginia' 'Pennsylvania' 'Texas' 'Maine'\n",
      " 'Mississippi' 'Hawaii' 'Iowa' 'Kentucky' 'Ohio' 'New Hampshire'\n",
      " 'Wisconsin' 'North Dakota'], ... 30 more\n",
      "        \u001b[0m\n"
     ]
    }
   ],
   "source": [
    "from src.agent.tools.semantic_search import SemanticSearchConfig\n",
    "from src.agent.tools.splade_search import SPLADESearchConfig\n",
    "\n",
    "DATA_PATH = \"data/splade.parquet\"\n",
    "\n",
    "SEMANTIC_TEXT_COLUMN = \"context\"\n",
    "SPLADE_TEXT_COLUMN = \"context\"\n",
    "\n",
    "semantic_config = SemanticSearchConfig(\n",
    "    data_path=DATA_PATH,\n",
    "    text_column=SEMANTIC_TEXT_COLUMN,\n",
    ")\n",
    "keyword_config = SPLADESearchConfig(\n",
    "    data_path=DATA_PATH,\n",
    "    text_column=SEMANTIC_TEXT_COLUMN,\n",
    ")\n",
    "\n",
    "# Tag can be added manually &/or be generated by llm\n",
    "state_tag = Tag(\n",
    "    tag_key=\"state\",\n",
    "    tag_value=\"Texas\"\n",
    ")\n",
    "base_filters = BaseFilters(\n",
    "    source_type=DocumentSource.OPINIONS,\n",
    "    document_set=\"sharepoint\",\n",
    "    tags=[state_tag],\n",
    ")\n",
    "search_request = SearchRequest(\n",
    "    query=query,\n",
    "    human_selected_filters=None,\n",
    "    enable_query_screening=True,\n",
    "    enable_auto_detect_filters=True,\n",
    "    enable_auto_subquestions=True,\n",
    "    rerank=False,\n",
    "    llm_chunk_filter=False,\n",
    "    search_configs=[semantic_config, keyword_config]\n",
    ")\n",
    "preprocessed_search_query = retrieval_preprocessing(\n",
    "    search_request=search_request,\n",
    "    verbose=True,\n",
    ")"
   ]
  },
  {
   "cell_type": "code",
   "execution_count": 5,
   "metadata": {},
   "outputs": [
    {
     "data": {
      "text/plain": [
       "{'query': \"\\nRegarding the pollution exclusion on comprehensive general liability (CGL) insurance, how have courts generally defined or interpreted the phrase 'sudden and accidental' with respect to polluting events?\\n\",\n",
       " 'filters': [{'tag_key': 'state', 'tag_value': ''}],\n",
       " 'num_hits': 40,\n",
       " 'rerank': False,\n",
       " 'num_rerank': 20,\n",
       " 'llm_chunk_filter': False,\n",
       " 'max_llm_filter_chunks': 10,\n",
       " 'subquestions': {'questions': [{'sub_question_topic': \"Interpretation of 'Sudden and Accidental' in Pollution Exclusions\",\n",
       "    'sub_question_query': \"How have courts defined or interpreted the phrase 'sudden and accidental' in the context of pollution exclusions in comprehensive general liability (CGL) insurance policies, specifically in relation to polluting events?\",\n",
       "    'sub_question_keywords': ['pollution exclusion',\n",
       "     'comprehensive general liability insurance',\n",
       "     'sudden and accidental',\n",
       "     'court interpretation',\n",
       "     'legal precedent',\n",
       "     'case law']}]},\n",
       " 'query_eval': {'topic': 'Pollution Exclusion in CGL Insurance',\n",
       "  'question_quality': \"The user question is well-defined and focuses on how courts interpret the term 'sudden and accidental' in relation to polluting events. It is detailed and direct, indicating a high-quality question.\",\n",
       "  'n_subquestions': 0},\n",
       " 'search_configs': [{'type': <SearchType.SEMANTIC: 'semantic'>,\n",
       "   'data_path': 'data/splade.parquet',\n",
       "   'text_column': 'context',\n",
       "   'embedding_column': 'openai_embeddings'},\n",
       "  {'type': <SearchType.SPLADE: 'splade'>,\n",
       "   'data_path': 'data/splade.parquet',\n",
       "   'text_column': 'context',\n",
       "   'embedding_column': 'splade_embeddings'}]}"
      ]
     },
     "execution_count": 5,
     "metadata": {},
     "output_type": "execute_result"
    }
   ],
   "source": [
    "preprocessed_search_query.model_dump()"
   ]
  },
  {
   "cell_type": "code",
   "execution_count": 6,
   "metadata": {},
   "outputs": [
    {
     "data": {
      "text/plain": [
       "{'state': ''}"
      ]
     },
     "execution_count": 6,
     "metadata": {},
     "output_type": "execute_result"
    }
   ],
   "source": [
    "preprocessed_search_query.filters[0].filter_dict"
   ]
  },
  {
   "cell_type": "code",
   "execution_count": 7,
   "metadata": {},
   "outputs": [
    {
     "data": {
      "text/plain": [
       "\"How have courts defined or interpreted the phrase 'sudden and accidental' in the context of pollution exclusions in comprehensive general liability (CGL) insurance policies, specifically in relation to polluting events?\""
      ]
     },
     "execution_count": 7,
     "metadata": {},
     "output_type": "execute_result"
    }
   ],
   "source": [
    "preprocessed_search_query.subquestions.questions[0].sub_question_query"
   ]
  },
  {
   "cell_type": "code",
   "execution_count": 8,
   "metadata": {},
   "outputs": [
    {
     "data": {
      "text/plain": [
       "['pollution exclusion',\n",
       " 'comprehensive general liability insurance',\n",
       " 'sudden and accidental',\n",
       " 'court interpretation',\n",
       " 'legal precedent',\n",
       " 'case law']"
      ]
     },
     "execution_count": 8,
     "metadata": {},
     "output_type": "execute_result"
    }
   ],
   "source": [
    "preprocessed_search_query.subquestions.questions[0].sub_question_keywords"
   ]
  },
  {
   "cell_type": "code",
   "execution_count": 9,
   "metadata": {},
   "outputs": [
    {
     "name": "stderr",
     "output_type": "stream",
     "text": [
      "\u001b[32m2024-04-28 18:30:28 - INFO - Read in df with shape: (1987, 24)\u001b[0m\n",
      "\u001b[32m2024-04-28 18:30:29 - INFO - Read in df with shape: (1987, 24)\u001b[0m\n",
      "\u001b[32m2024-04-28 18:30:30 - INFO - Using pre-computed 'context' embeddings from existing column: splade_embeddings\u001b[0m\n",
      "\u001b[32m2024-04-28 18:30:30 - INFO - \n",
      "\n",
      "Thought: To address the user's query, we need to understand how courts have historically interpreted the\n",
      "phrase 'sudden and accidental' within the context of pollution exclusions in comprehensive general\n",
      "liability insurance policies. This involves looking into legal precedents, case law, and judicial\n",
      "interpretations that have shaped the understanding of this phrase in relation to polluting events.\n",
      "Search topic: Interpretation of 'Sudden and Accidental' in Pollution Exclusions\u001b[0m\n",
      "\u001b[32m2024-04-28 18:30:30 - INFO - Running search using SemanticSearch: How have courts defined or interpreted the phrase 'sudden and accidental' in the context of pollution exclusions in comprehensive general liability (CGL) insurance policies, specifically in relation to polluting events?\u001b[0m\n",
      "\u001b[32m2024-04-28 18:30:30 - INFO - Running search using SPLADESparseSearch: pollution exclusion, comprehensive general liability insurance, sudden and accidental, court interpretation, legal precedent, case law\u001b[0m\n",
      "\u001b[32m2024-04-28 18:30:30 - INFO - Retrieved 40, 40 records from searches\u001b[0m\n",
      "\u001b[32m2024-04-28 18:30:30 - INFO - Returning 20 joined and deduplicated records\u001b[0m\n",
      "\u001b[32m2024-04-28 18:30:30 - INFO - ---------------------------------------------------------------------------\u001b[0m\n"
     ]
    }
   ],
   "source": [
    "retrieval_res = preprocessed_search_query.subquestions.execute(\n",
    "    preprocessed_search_query,\n",
    ")"
   ]
  },
  {
   "cell_type": "code",
   "execution_count": 10,
   "metadata": {},
   "outputs": [
    {
     "data": {
      "text/html": [
       "<div>\n",
       "<style scoped>\n",
       "    .dataframe tbody tr th:only-of-type {\n",
       "        vertical-align: middle;\n",
       "    }\n",
       "\n",
       "    .dataframe tbody tr th {\n",
       "        vertical-align: top;\n",
       "    }\n",
       "\n",
       "    .dataframe thead th {\n",
       "        text-align: right;\n",
       "    }\n",
       "</style>\n",
       "<table border=\"1\" class=\"dataframe\">\n",
       "  <thead>\n",
       "    <tr style=\"text-align: right;\">\n",
       "      <th></th>\n",
       "      <th>context</th>\n",
       "      <th>index</th>\n",
       "      <th>id</th>\n",
       "      <th>citation</th>\n",
       "      <th>name</th>\n",
       "      <th>name_abbreviation</th>\n",
       "      <th>decision_date</th>\n",
       "      <th>court_id</th>\n",
       "      <th>court_name</th>\n",
       "      <th>court_slug</th>\n",
       "      <th>judges</th>\n",
       "      <th>attorneys</th>\n",
       "      <th>citations</th>\n",
       "      <th>url</th>\n",
       "      <th>head</th>\n",
       "      <th>body</th>\n",
       "      <th>name_contains_lm</th>\n",
       "      <th>body_contains_lm</th>\n",
       "      <th>year</th>\n",
       "      <th>context_citation</th>\n",
       "      <th>context_tokens</th>\n",
       "      <th>state</th>\n",
       "      <th>search_type</th>\n",
       "      <th>score</th>\n",
       "    </tr>\n",
       "  </thead>\n",
       "  <tbody>\n",
       "    <tr>\n",
       "      <th>115</th>\n",
       "      <td>While neither of these Missouri Court of Appea...</td>\n",
       "      <td>154</td>\n",
       "      <td>1527705</td>\n",
       "      <td>155 Ill. 2d 402</td>\n",
       "      <td>EMERSON ELECTRIC COMPANY et al., Plaintiffs-Ap...</td>\n",
       "      <td>Emerson Electric Co. v. Aetna Casualty &amp; Suret...</td>\n",
       "      <td>2001-01-16</td>\n",
       "      <td>8837</td>\n",
       "      <td>Illinois Appellate Court</td>\n",
       "      <td>ill-app-ct</td>\n",
       "      <td>[]</td>\n",
       "      <td>['Kevin M. Forde, Mary Anne Mason, Janice R. F...</td>\n",
       "      <td>[{'type': 'official', 'cite': '319 Ill. App. 3...</td>\n",
       "      <td>https://api.case.law/v1/cases/1527705/</td>\n",
       "      <td>EMERSON ELECTRIC COMPANY et al., Plaintiffs-Ap...</td>\n",
       "      <td>JUSTICE GORDON\\r\\ndelivered the opinion of the...</td>\n",
       "      <td>False</td>\n",
       "      <td>True</td>\n",
       "      <td>2001</td>\n",
       "      <td>155 Ill. 2d 402</td>\n",
       "      <td>1350</td>\n",
       "      <td>Washington</td>\n",
       "      <td>vector</td>\n",
       "      <td>0.991935</td>\n",
       "    </tr>\n",
       "    <tr>\n",
       "      <th>585</th>\n",
       "      <td>However, as discussed in detail below, such a ...</td>\n",
       "      <td>756</td>\n",
       "      <td>5454708</td>\n",
       "      <td>268 Ill. App. 3d 598</td>\n",
       "      <td>EMERSON ELECTRIC COMPANY et al., Plaintiffs-Ap...</td>\n",
       "      <td>Emerson Electric Co. v. Aetna Casualty &amp; Suret...</td>\n",
       "      <td>2004-08-30</td>\n",
       "      <td>8837</td>\n",
       "      <td>Illinois Appellate Court</td>\n",
       "      <td>ill-app-ct</td>\n",
       "      <td>['McNULTY and McBRIDE, JJ., concur.']</td>\n",
       "      <td>['Stephan G. Weil, Mark H. Kolman, Keisha A. G...</td>\n",
       "      <td>[{'type': 'official', 'cite': '352 Ill. App. 3...</td>\n",
       "      <td>https://api.case.law/v1/cases/5454708/</td>\n",
       "      <td>EMERSON ELECTRIC COMPANY et al., Plaintiffs-Ap...</td>\n",
       "      <td>JUSTICE GORDON\\r\\ndelivered the opinion of the...</td>\n",
       "      <td>False</td>\n",
       "      <td>True</td>\n",
       "      <td>2004</td>\n",
       "      <td>268 Ill. App. 3d 598</td>\n",
       "      <td>1176</td>\n",
       "      <td>Hawaii</td>\n",
       "      <td>vector</td>\n",
       "      <td>0.976563</td>\n",
       "    </tr>\n",
       "  </tbody>\n",
       "</table>\n",
       "</div>"
      ],
      "text/plain": [
       "                                               context  index       id  \\\n",
       "115  While neither of these Missouri Court of Appea...    154  1527705   \n",
       "585  However, as discussed in detail below, such a ...    756  5454708   \n",
       "\n",
       "                 citation                                               name  \\\n",
       "115       155 Ill. 2d 402  EMERSON ELECTRIC COMPANY et al., Plaintiffs-Ap...   \n",
       "585  268 Ill. App. 3d 598  EMERSON ELECTRIC COMPANY et al., Plaintiffs-Ap...   \n",
       "\n",
       "                                     name_abbreviation decision_date  \\\n",
       "115  Emerson Electric Co. v. Aetna Casualty & Suret...    2001-01-16   \n",
       "585  Emerson Electric Co. v. Aetna Casualty & Suret...    2004-08-30   \n",
       "\n",
       "     court_id                court_name  court_slug  \\\n",
       "115      8837  Illinois Appellate Court  ill-app-ct   \n",
       "585      8837  Illinois Appellate Court  ill-app-ct   \n",
       "\n",
       "                                    judges  \\\n",
       "115                                     []   \n",
       "585  ['McNULTY and McBRIDE, JJ., concur.']   \n",
       "\n",
       "                                             attorneys  \\\n",
       "115  ['Kevin M. Forde, Mary Anne Mason, Janice R. F...   \n",
       "585  ['Stephan G. Weil, Mark H. Kolman, Keisha A. G...   \n",
       "\n",
       "                                             citations  \\\n",
       "115  [{'type': 'official', 'cite': '319 Ill. App. 3...   \n",
       "585  [{'type': 'official', 'cite': '352 Ill. App. 3...   \n",
       "\n",
       "                                        url  \\\n",
       "115  https://api.case.law/v1/cases/1527705/   \n",
       "585  https://api.case.law/v1/cases/5454708/   \n",
       "\n",
       "                                                  head  \\\n",
       "115  EMERSON ELECTRIC COMPANY et al., Plaintiffs-Ap...   \n",
       "585  EMERSON ELECTRIC COMPANY et al., Plaintiffs-Ap...   \n",
       "\n",
       "                                                  body  name_contains_lm  \\\n",
       "115  JUSTICE GORDON\\r\\ndelivered the opinion of the...             False   \n",
       "585  JUSTICE GORDON\\r\\ndelivered the opinion of the...             False   \n",
       "\n",
       "     body_contains_lm  year      context_citation  context_tokens       state  \\\n",
       "115              True  2001       155 Ill. 2d 402            1350  Washington   \n",
       "585              True  2004  268 Ill. App. 3d 598            1176      Hawaii   \n",
       "\n",
       "    search_type     score  \n",
       "115      vector  0.991935  \n",
       "585      vector  0.976563  "
      ]
     },
     "execution_count": 10,
     "metadata": {},
     "output_type": "execute_result"
    }
   ],
   "source": [
    "retrieval_res[0].to_pandas.head(2)"
   ]
  },
  {
   "cell_type": "code",
   "execution_count": 11,
   "metadata": {},
   "outputs": [
    {
     "name": "stderr",
     "output_type": "stream",
     "text": [
      "Processing summaries:   0%|          | 0/20 [00:00<?, ?it/s]"
     ]
    },
    {
     "name": "stderr",
     "output_type": "stream",
     "text": [
      "Processing summaries: 100%|██████████| 20/20 [00:12<00:00,  1.64it/s]\n"
     ]
    }
   ],
   "source": [
    "from src.agent.tools.utils import aget_fact_patterns_df, aget_context_evaluations_df\n",
    "import nest_asyncio\n",
    "nest_asyncio.apply()\n",
    "\n",
    "prepped_context = await aget_fact_patterns_df(retrieval_res[0].to_pandas, 'context')"
   ]
  },
  {
   "cell_type": "code",
   "execution_count": 12,
   "metadata": {},
   "outputs": [
    {
     "name": "stderr",
     "output_type": "stream",
     "text": [
      "Processing context evaluations: 100%|██████████| 20/20 [00:26<00:00,  1.34s/it]\n"
     ]
    }
   ],
   "source": [
    "prepped_context = await aget_context_evaluations_df(\n",
    "    df=prepped_context,\n",
    "    question=query,\n",
    "    text_column='context',\n",
    "    model_name='gpt-4-turbo',    \n",
    ")"
   ]
  },
  {
   "cell_type": "code",
   "execution_count": 13,
   "metadata": {},
   "outputs": [
    {
     "data": {
      "text/markdown": [
       "The excerpt extensively discusses how Missouri courts interpret 'caused by accident' concerning pollution exclusion in comprehensive general liability (CGL) insurance policies. Referencing specific cases, such as N.W. Electric and White, the text explores the courts considering damage or pollution that was not intended or anticipated by the perpetrator as 'caused by accident', even if the initial acts were intentional. It also contrasts with a decision from the District of Columbia (IPC), which held that if the initial act of discharging pollutants was intentional, any resultant pollution was not 'accidental'. Furthermore, the deletion of the words 'sudden and' from a 1983-84 policy is highlighted, indicating the acceptance of gradual pollution as 'accidental'. This interpretation aligns with the decisions in General Dynamics I, where the focus was more on whether the resultant damage was intended rather than the nature of the initial act. The differences in jurisdictional decisions (Missouri vs. District of Columbia) on what constitutes an 'accidental' pollution under Missouri law are also examined."
      ],
      "text/plain": [
       "<IPython.core.display.Markdown object>"
      ]
     },
     "execution_count": 13,
     "metadata": {},
     "output_type": "execute_result"
    }
   ],
   "source": [
    "Markdown(prepped_context['summary_analysis'].tolist()[0])"
   ]
  },
  {
   "cell_type": "code",
   "execution_count": 14,
   "metadata": {},
   "outputs": [
    {
     "data": {
      "text/markdown": [
       "Analyzing Missouri Court of Appeals decisions, it is found that their interpretation of \"caused by accident\" aligns with General Dynamics I regarding pollution exclusion exceptions. Two cases, N.W. Electric and White, clarify that damage can be considered \"accidental\" regardless of whether the initial acts were intentional, if the resultant harm was not intended. This perspective was applied in a situation where it was argued that pollutants released at the York and Erie sites could be covered under Republic's 1983-84 policy, as the word \"sudden and\" was omitted from the pollution exclusion, suggesting coverage for \"accidental\" releases. Affidavits from individuals associated with the York and Erie sites contended that there was no intent to harm the environment, raising a question of the applicability of coverage under the accidental provision. The discussion extends to the contention by Republic, backed by the IPC case, emphasizing the intention in the initial discharge of pollutants, contrasting the Missouri approach focusing on unintended resultant harm.\n",
       "\n",
       "Additionally, a summary judgment related to the Maysville, Kentucky site involves environmental contamination at Emerson’s Browning Manufacturing facility, where extensive contamination has compelled a significant cleanup overseen by the Kentucky Department for Environmental Protection, reflecting on the complexities of pollution exclusion within insurance policies and the interpretative distinctions of "
      ],
      "text/plain": [
       "<IPython.core.display.Markdown object>"
      ]
     },
     "execution_count": 14,
     "metadata": {},
     "output_type": "execute_result"
    }
   ],
   "source": [
    "Markdown(prepped_context['summary'].tolist()[0])"
   ]
  },
  {
   "cell_type": "code",
   "execution_count": 15,
   "metadata": {},
   "outputs": [],
   "source": [
    "from src.agent.tools.utils import create_formatted_input, get_final_answer\n",
    "\n",
    "formatted_input = create_formatted_input(\n",
    "    df=prepped_context, \n",
    "    query=query, \n",
    "    text_column='summary',\n",
    "    url_column='url',\n",
    "    context_token_limit=4000\n",
    "    )"
   ]
  },
  {
   "cell_type": "code",
   "execution_count": 16,
   "metadata": {},
   "outputs": [
    {
     "data": {
      "text/markdown": [
       "[1] Analyzing Missouri Court of Appeals decisions, it is found that their interpretation of \"caused by accident\" aligns with General Dynamics I regarding pollution exclusion exceptions. Two cases, N.W. Electric and White, clarify that damage can be considered \"accidental\" regardless of whether the initial acts were intentional, if the resultant harm was not intended. This perspective was applied in a situation where it was argued that pollutants released at the York and Erie sites could be covered under Republic's 1983-84 policy, as the word \"sudden and\" was omitted from the pollution exclusion, suggesting coverage for \"accidental\" releases. Affidavits from individuals associated with the York and Erie sites contended that there was no intent to harm the environment, raising a question of the applicability of coverage under the accidental provision. The discussion extends to the contention by Republic, backed by the IPC case, emphasizing the intention in the initial discharge of pollutants, contrasting the Missouri approach focusing on unintended resultant harm.\n",
       "\n",
       "Additionally, a summary judgment related to the Maysville, Kentucky site involves environmental contamination at Emerson’s Browning Manufacturing facility, where extensive contamination has compelled a significant cleanup overseen by the Kentucky Department for Environmental Protection, reflecting on the complexities of pollution exclusion within insurance policies and the interpretative distinctions of \n",
       "URL: https://api.case.law/v1/cases/1527705/\n",
       "\n",
       "[2] The legal text discusses various aspects pertaining to insurance policy coverage for pollution damages, emphasizing the need for plaintiffs to prove unexpected and unintended exposure to conditions to qualify for an “occurrence” under the policy. It highlights a specific standard, the “sudden and accidental” exception to the pollution exclusion, which bars coverage for damages caused by gradual releases of pollutants. This standard was affirmed in Emerson I under Missouri law, establishing that gradual pollution at third-party sites under the 1984-85 policy is not covered. The text also references the EPA’s National Priorities List, indicating the seriousness of sites with known or threatened releases of hazardous substances and mentions a specific site in Hatfield, Pennsylvania, previously addressed in Emerson I. The requirement for pollution to be “accidental” under the 1983-84 policy and “sudden and accidental” under the 1984-85 policy is discussed, alongside the implications of intentional acts versus intended results, and the continuous trigger approach for ongoing property damage. Additionally, the text touches on summary judgment regarding soil and potential groundwater contamination at a Louisiana site, the use of Missouri’s “known loss” doctrine, and the relevance of the Quinn and Montrose Chemical Corp. cases to the insurance coverage debate.\n",
       "URL: https://api.case.law/v1/cases/5454708/\n",
       "\n",
       "[3] An insurance company issued a policy to a recycling business, specifying no obligation to defend or provide coverage for lawsuits alleging personal or advertising injury caused by pollution. The policy distinctly defined pollutants and excluded coverage for any injury claims stemming from pollution events. The state initiated a declaratory judgment to affirm the insurer's lack of duty to defend the recycling company against a lawsuit, emphasizing the policy's pollution exclusions. The lower court agreed with the insurer, focusing on the presence of a total pollution exclusion clause in the policy, which precluded coverage for bodily injury claims purportedly linked to pollution, notwithstanding the plaintiffs' failure to claim personal injury. This was upheld even against the backdrop of jurisprudence underscoring the broad duty of insurers to defend their insured, the necessity to construe insurance policies liberally in favor of coverage, and to determine the duty to defend based purely on allegations in the complaint without resorting to external evidence. The crux of determining coverage hinged on the specific operations of the recycling business and if the alleged injuries were consequentially linked to pollution as defined within the policy exclusions.\n",
       "URL: https://api.case.law/v1/cases/3749818/\n",
       "\n",
       "[4] An insurance policy exclusion defines a hostile fire as one that becomes uncontrollable or escapes its intended boundaries. Pollutants are detailed as solid, liquid, gaseous, or thermal irritants including smoke, soot, and chemicals, with waste encompassing recyclable materials. The policy's Coverage B outlines the insurer's duty to defend and pay damages for 'personal injury' or 'advertising injury,' excluding cases arising from pollutants. A lawsuit sought to determine the insurer's duty regarding Loop Paper Recycling's claims under these terms, with a consequential ruling that pollution exclusions barred coverage for the alleged injuries. Legal principles assert the broad duty of insurers to defend, comparing complaint allegations to policy terms and cautioning against applying extrinsic evidence. Insurance interpretations favor coverage, placing the burden on insurers to prove exclusion applicability. The court's main role is to deduce parties' intentions from the policy, acknowledging the contract's purpose and risk type, with a preference for plain terms interpretation. The case also reflects on the specific business operations of Loop Paper Recycling and their influence on coverage applicability under the policy.\n",
       "URL: https://api.case.law/v1/cases/3749818/\n",
       "\n",
       "[5] A legal dispute revolves around the interpretation of “sudden and accidental” within the context of insurance policy language and its applicability to environmental pollution claims. The crux of the issue concerns whether or not the trial court should have applied Illinois law over Missouri law in instances where Missouri law lacks clarity. Illinois law interprets “sudden and accidental” to mean “unexpected and unintended.” However, the trial court favored a Missouri viewpoint, deeming “sudden” as “abrupt,” but was criticized for not adequately considering evidence related to abrupt and unintended releases of pollutants at certain sites. When the trial court's decision on summary judgment, which leans heavily on legal interpretations and evidence evaluations, is challenged, the appellate process involves a de novo review, emphasizing the importance of assessing both legal errors and genuine issues of material fact. Significantly, the appellate discussion also invokes the law of the case doctrine, highlighting that prior appellate rulings should guide subsequent interpretations unless a higher court alters the precedential landscape. This is in balance with the dynamic nature of case law, which might evolve and thus influence the reconsideration of previously decided issues. Fundamental to resolving the dispute is the principle that insurance contract language must be construed to honor the mutual intent of the parties, considering the type of insurance, the risks involved, and the contract's overall purpose.\n",
       "URL: https://api.case.law/v1/cases/5454708/\n",
       "\n",
       "[6] In the case concerning Willis Corroon Corp., the court found Travelers' failure to defend constituted a breach of duty. The issue of pollution exclusions in the policies was raised, with Travelers arguing that coverage is barred due to intentional discharges of hazardous chemicals, which Rogers disputes. The court, referencing principles from found cases such as Founders Insurance Co. v. Munoz and Outboard Marine Corp. v. Liberty Mutual Insurance Co., ruled that the pollution exclusions did not apply. This was based on interpretations that favored the insured in the face of ambiguity and the requirement that exclusions be clear to deny coverage. Specifically, the court noted that Rogers did not intend for pollutants to enter the environment, taking steps to prevent this through containment and treatment measures. Therefore, the pollution exclusions were found inapplicable, and the argument that illegal conditions contributed to environmental release was also rejected.\n",
       "URL: https://api.case.law/v1/cases/12535237/\n",
       "\n",
       "[7] A court examined an insurance policy dispute where Connecticut sought declaratory judgment asserting it had no obligation to defend or cover Loop Paper Recycling in a lawsuit over bodily injury claims. The policy defined pollutants broadly and included an 'absolute pollution exclusion' disallowing coverage for injuries arising from pollutants' release. The circuit court sided with Connecticut, citing the total pollution exclusion and lack of personal injury claims that could override this exclusion. Summary judgment principles, insurance policy interpretation favoring broad defense obligations but strict reading of exclusions, and the significance of policy language clarity in determining coverage were key legal frameworks applied. The court emphasized the insurer's duty to defend is broader than the duty to indemnify and the need to construe allegations and policy terms in light of each other to decide on the duty to defend.\n",
       "URL: https://api.case.law/v1/cases/3749818/\n",
       "\n",
       "[8] In the legal case referenced, the insured, through an incident involving the insured's minor son spilling mercury in a neighbor's home, sought coverage for the ensued damage and injuries. The appellate court, while acknowledging the agreement between parties that mercury was considered a pollutant, applied the absolute pollution exclusion to preclude coverage. The court noted a speculative exception for mercury released from household items like thermostats or thermometers, where it might not be deemed a pollutant. Despite this, the court's decision emphasized that the determining factor for the exclusion's application was whether the substance's release constituted traditional environmental pollution. The cleaning company, failing to secure coverage under the Property Damage Legal Liability section due to a specific absolute pollution exclusion, also argued against State Farm's right to deny coverage based on policy exclusions, citing State Farm's failure to defend under a reservation of rights or seek a declaratory judgment. Yet, aligning with precedent, the court found that the insurer’s duty to defend was contingent upon the allegations potentially falling within the policy’s ambit. Given that the underlying complaint, which dealt with perc's environmental release—a defined pollutant under the policy—did not potentially fall within the policy's coverage, State Farm's failure to defend did not equate to a breach of duty. Therefore, State Farm was not estopped from asserting the exclusions as a defensive measure, leading the circuit court to rightly grant judgment on the pleadings for State Farm.\n",
       "URL: https://api.case.law/v1/cases/411728/\n",
       "\n",
       "[9] The legal document pertains to an insurance dispute where Connecticut, the insurer, seeks a declaratory judgment asserting its lack of duty to defend or provide coverage to Loop Paper Recycling in a lawsuit for damages claimed by underlying plaintiffs due to bodily injury. The insurance policy specified coverage for damages due to 'personal injury' or 'advertising injury', with a right and duty to defend in suits seeking such damages, except when related to conditions the insurance does not apply to, including injuries arising from pollution due to the 'absolute pollution exclusion'. The circuit court granted summary judgment in favor of Connecticut, agreeing that the pollution exclusion clause applies, denying coverage for the bodily injury claims made by the plaintiffs. This ruling was based on principles that summary judgment is to be granted when no genuine issue of material fact exists and is supported by precedents emphasizing an insurer's broad duty to defend but specific requirements for indemnity, the evaluation of policy terms against the underlying complaint without extrinsic evidence, and the construction of insurance policies in favor of coverage but with clarity on exclusions and ambiguities resolved against the insurer. The case also establishes the precedence for insurers to bear the burden of proving exclusions, the need to consider the entire policy context, and the importance of plain policy language interpretation.\n",
       "URL: https://api.case.law/v1/cases/3749818/\n",
       "\n",
       "[10] The legal principle stipulates that insurers bear the responsibility to conclusively demonstrate that an insurance policy exclusion is relevant and applicable. Specifically, the case of Pekin Insurance Co. v. Miller underscores that exclusions designed to limit or eliminate coverage within insurance agreements must be interpreted in a manner that generally favors the policyholder, as opposed to the insurer. This interpretative bias is consistent across scenarios whether assessing an insurer's obligation to defend or the applicability of exclusions. The leading case of United States Fidelity & Guaranty Co. v. Wilkin Insulation Co. sets a precedent for applying a liberal standard in such determinations. The piece then delves into the specifics of what constitutes an “accident” and consequentially an “occurrence” within an insurance policy context, referencing the definition provided by the Illinois Supreme Court in Rich v. Principal Life Insurance Co., which draws from earlier rulings. Under this doctrine, an unintended and unforeseen result from an intended action qualifies as an accident. Applying this framework to the case at hand, it is argued that the inadvertent mislabeling of chemicals constitutes an accident since it was unexpected and unintended by the party responsible, aligning with the policy's coverage of occurrences. The discussion extends to the notion of “property damage” within insurance policy terms, scrutinized under Illinois Supreme Court definitions, particularly emphasizing tangible physical damage over economic losses or value diminution. References are made to the application of these principles in a scenario where mislabeled chemicals caused tangible product harm, thus potentially fitting within the scope of policy coverage due to the physical nature of the damage and the loss of use of the affected products. The narrative concludes by addressing the insurer's counterargument regarding a policy exclusion clause related to product recalls and defects, highlighting the ongoing debate over the extent of coverage and the insurer's obligation to defend in cases where product issues lead to loss or damage.\n",
       "URL: https://api.case.law/v1/cases/7328607/\n",
       "\n",
       "[11] The court addressed the interpretation of policy exclusions, particularly focusing on the standard pollution exclusion that would allegedly bar coverage for damages and injuries resulting from the release or dispersal of substances such as 'acids' and 'alkalis'. Emphasizing the impractical consequences of a literal interpretation, the court highlighted how such an approach would exclude nearly all types of liquid spills due to their inherent acidic or alkaline nature. The court also pointed out the absurdity that could result from a literal reading, such as differentiating between burns caused by aqueous steam versus those caused by chlorine or ammonia gases. The discussions underscore the need to avoid interpretations leading to illogical outcomes, with references to case law that support a more rational and reasonable interpretation of contract terms to avoid absurd results. Further consideration is given to whether asbestos dust qualifies as a pollutant under the pollution exclusion, with the examination of three criteria necessary for the exclusion to apply - the discharge of a contaminant into the land, atmosphere, or water. Courts have found ambiguity in the terms of the exclusion, particularly regarding the spread of substances like asbestos within buildings, and whether such environments count as 'the atmosphere'. The necessity of a clear and rational interpretation of policy exclusions, with a focus on the potential for absurd outcomes from overly literal readings, is emphasized throughout the discussion.\n",
       "URL: https://api.case.law/v1/cases/12489335/\n",
       "\n",
       "[12] The cleaning company asserts that the cause of a chemical known as perc's release, originating from a faulty dry cleaning machine, does not fall under the absolute pollution exclusion, thereby not barring coverage. This argument references a precedent, Economy Preferred Insurance Co. v. Grandadam, where the court suggested that under certain conditions, substances may not be considered pollutants. However, the counterargument relies on the precedent set by Koloms, emphasizing that if the release constitutes traditional environmental pollution, the absolute pollution exclusion stands regardless of the cause. Furthermore, the cleaning company argues for coverage under the Property Damage Legal Liability section, noting it's not subject to the Business Liability's absolute pollution exclusion. Despite this, the policy includes a separate absolute pollution exclusion applying to pollutants like perc, negating this claim. Lastly, the cleaning company invokes estoppel against the insurer for failing to defend under a reservation of rights, citing Outboard Marine Corp. v. Liberty Mutual Insurance Co. and State Farm Fire & Casualty Co. v. Martin. However, due to the express exclusions for incidents like the release of perc, aligning with allegations of traditional environmental pollution defined by Koloms, it's concluded that State Farm had no duty to defend, thus not estopped from applying policy exclusions.\n",
       "URL: https://api.case.law/v1/cases/411728/\n",
       "\n",
       "[13] On September 28, 2001, a lawsuit was initiated seeking a declaratory judgment on the question of insurance coverage responsibility related to a case against Loop Paper Recycling. The basis of the legal dispute revolved around whether the insurance policy’s terms obliged the insurer to defend or provide coverage for claims resulting from a lawsuit involving Loop Paper Recycling. The core of the court's decision hinged on the application of the policy's \"total pollution exclusion\" and the question of whether the plaintiffs in the underlying lawsuit had adequately alleged “bodily injury” or “personal injury” within the meaning of the policy. The court ultimately granted summary judgment in favor of the insurer, concluding that the policy's total pollution exclusion negated the insurer's duty to defend or cover the claims presented. The court's reasoning included the lack of sufficient allegations of “personal injury” by the plaintiffs, and even if such allegations were present, they would be barred by the “absolute pollution exclusion\" clause in the policy. This led to Loop Paper Recycling filing an appeal against the summary judgment decision. The legal principles guiding the court's analysis included the liberal construction of insurance policies in favor of coverage, the obligation of insurers to defend insured parties when allegations potentially fall within policy coverage, and the prohibition against using extrinsic evidence in determinations of an insurer’s duty to defend in declaratory judgment actions. Additionally, the court emphasized the necessity to align the interpretation of insurance policies with the parties’ intentions, the nature of insurance purchased, and the contract's overall purpose, ensuring that clear and unambiguous policy terms are interpreted according to their plain meaning. The specific dispute under review involved analyzing whether the policy exception for “bodily injury” arising from heat, smoke, or fumes from a hostile fire would apply, contingent on whether Loop Paper Recycling was engaged in activities that fell under the definition of handling, storing, disposing, processing, or treating \"waste\" at the time of the fire in question.\n",
       "URL: https://api.case.law/v1/cases/3749818/\n",
       "\n",
       "[14] The courts emphasize the necessity of detailed analysis over mere abstract assertions when briefing an issue to prevent it from being deemed inadequately briefed. Cases such as Taylor v. Mucci and Northeast Ct. Economic Alliance, Inc. v. ATC Partnership highlight this requirement. The specified scenario involves Mt. McKinley's issuance of \"reservation of rights letters\" to Vanderbilt as a standard practice in responding to claims, aiming for a proper allocation of loss among parties involved including claims for reimbursement and other reliefs. During litigation, it's noted that the final determination on the applicability of these reservations has not been made, and these are part of interlocutory appeals. In discussions about pollution exclusion clauses, reference is made to cases like Buell Industries, Inc. v. Greater New York Mutual Ins. Co. and Schilberg Integrated Metals Corp. v. Continental Casualty Co., where environmental pollution instances led to coverage denial under such clauses. The text also debates the scope of pollution exclusions in insurance policies, with newer iterations providing more explicit definitions of what constitutes pollutants. Furthermore, there's a mention of the ambiguity in the terms of such exclusions being a factor in determining their applicability, particularly in the context of asbestos and whether its aerial dispersal or inhalation falls under such exclusions.\n",
       "URL: https://api.case.law/v1/cases/12489335/\n",
       "\n",
       "Instructions: Using only the provided search results that are relevant, and starting with the most relevant, write a detailed comparative analysis for a new query. If there are no relevant cases say so, and use one example from the search results to illustrate the uniqueness of the new query. ALWAYS cite search results using [[number](URL)] notation after the reference.\n",
       "\n",
       "New Query:\n",
       "\n",
       "Regarding the pollution exclusion on comprehensive general liability (CGL) insurance, how have courts generally defined or interpreted the phrase 'sudden and accidental' with respect to polluting events?\n",
       "\n",
       "\n",
       "Analysis:"
      ],
      "text/plain": [
       "<IPython.core.display.Markdown object>"
      ]
     },
     "execution_count": 16,
     "metadata": {},
     "output_type": "execute_result"
    }
   ],
   "source": [
    "Markdown(formatted_input)"
   ]
  },
  {
   "cell_type": "code",
   "execution_count": 17,
   "metadata": {},
   "outputs": [],
   "source": [
    "report = get_final_answer(\n",
    "    formatted_input=formatted_input,\n",
    "    model_name='gpt-4-turbo',\n",
    "    )"
   ]
  },
  {
   "cell_type": "code",
   "execution_count": 18,
   "metadata": {},
   "outputs": [
    {
     "data": {
      "text/markdown": [
       "The interpretation of the phrase 'sudden and accidental' within the context of pollution exclusions in comprehensive general liability (CGL) insurance policies is a highly debated topic in the legal domain, particularly concerning environmental pollution claims. The analysis of past cases reveals various judicial approaches to this phrase, notably emphasizing distinctions between unexpected, unintended, and abrupt incidents.\n",
       "\n",
       "A primary source directly addressing interpretations surrounding 'sudden and accidental' within CGL policies is found in the discussion on the Emerson I ruling under Missouri law. As detailed in the search result, this law indicates that the phrase 'sudden and accidental' is crucial in determining coverage for damages caused by pollutants and distinguishes between gradual and accidental releases. The standard was specifically used to deny coverages for gradual pollution incidents under the 1984-85 policies, linking the interpretation directly to the timeline and nature of the pollution event [[2](https://api.case.law/v1/cases/5454708/)].\n",
       "\n",
       "Another significant case, Willis Corroon Corp. v. Travelers, exemplifies the application of 'sudden and accidental' by emphasizing that the insured did not intend for pollutants to enter the environment, thereby reinforcing that accidental pollution might receive coverage if the release is not intentional [[6](https://api.case.law/v1/cases/12535237/)]. This case also underlines the broader legal tendency to favor the insured in case of ambiguity in the policy language.\n",
       "\n",
       "Case 5 underscores the differences in state laws, highlighting how Missouri law and Illinois law treat the term differently, suggesting a discrepancy in defining 'sudden' and 'accidental.' Missouri law interprets 'sudden' as 'abrupt,' allowing a more flexible approach towards the timeline of the release, whereas Illinois prefers a combined interpretation of 'unexpected and unintended,' anchoring the definition more solidly in the unforeseeability of the event [[5](https://api.case.law/v1/cases/5454708/)].\n",
       "\n",
       "These cases collectively point towards a nuanced interpretation where judicial perspectives can vary significantly based on state laws, specific policy wording, and the particulars of each case. The interpretations frequently hinge on whether a release was anticipated and whether it occurred over a prolonged period or abruptly, greatly influencing liability and coverage determinations."
      ],
      "text/plain": [
       "<IPython.core.display.Markdown object>"
      ]
     },
     "execution_count": 18,
     "metadata": {},
     "output_type": "execute_result"
    }
   ],
   "source": [
    "Markdown(report.research_report)"
   ]
  },
  {
   "cell_type": "code",
   "execution_count": 19,
   "metadata": {},
   "outputs": [
    {
     "data": {
      "text/plain": [
       "['2', '6', '5']"
      ]
     },
     "execution_count": 19,
     "metadata": {},
     "output_type": "execute_result"
    }
   ],
   "source": [
    "report.citations"
   ]
  },
  {
   "cell_type": "code",
   "execution_count": 20,
   "metadata": {},
   "outputs": [],
   "source": [
    "from typing_extensions import Annotated\n",
    "from annotated_types import Gt, Lt\n",
    "from pydantic import BaseModel, Field\n",
    "\n",
    "\n",
    "class ContextSummary(BaseModel):\n",
    "    \"\"\"A summary analysis of context based on user instructions.\"\"\"\n",
    "    \n",
    "    summary: str = Field(\n",
    "        ...,\n",
    "        description=\"An information dense factual summary with emphasis on details and nuanced considerations.\",\n",
    "    )\n",
    "    score: Annotated[int, Gt(0), Lt(11)] = Field(\n",
    "        ...,\n",
    "        description=\"An integer score from 1-10 indicating relevance to question\",\n",
    "    )"
   ]
  },
  {
   "cell_type": "code",
   "execution_count": 21,
   "metadata": {},
   "outputs": [],
   "source": [
    "import instructor\n",
    "import openai\n",
    "from tenacity import Retrying, stop_after_attempt, wait_fixed\n",
    "\n",
    "summary_prompt = (\n",
    "        \"Summarize the excerpt below to help determine if it is a relevant reference for a question.\\n\\n\"\n",
    "        \"Excerpt:----\\n\\n{context}\\n\\n----\\n\\n\"\n",
    "        \"Question: {question}\\n\\n\"\n",
    "        \"Do not answer the question, instead summarize to give evidence to help \"\n",
    "        \"answer the question. Stay detailed; report specific citations, laws, or \"\n",
    "        'direct quotes (marked with quotation marks). Reply \"Not applicable\" if the '\n",
    "        \"excerpt is irrelevant. At the end of your response, provide an integer score \"\n",
    "        \"from 1-10 indicating relevance to question. Do not explain your score.\"\n",
    "        \"\\n\\nRelevant Information Summary:\"\n",
    "    )\n",
    "\n",
    "def evaluate_context(context: str, question: str, model_name: str) -> ContextSummary:\n",
    "    client = instructor.patch(openai.OpenAI())\n",
    "    return client.chat.completions.create(\n",
    "        model=model_name,\n",
    "        response_model=ContextSummary,\n",
    "        max_retries=Retrying(\n",
    "            stop=stop_after_attempt(5),\n",
    "            wait=wait_fixed(1),\n",
    "        ),\n",
    "        messages=[\n",
    "            {\n",
    "                \"role\": \"system\",\n",
    "                \"content\": \"You are helpful legal research AI.\",\n",
    "            },\n",
    "            {   \"role\": \"user\", \n",
    "                \"content\": summary_prompt.format(context=context, question=question),\n",
    "            },\n",
    "        ],\n",
    "    )"
   ]
  },
  {
   "cell_type": "code",
   "execution_count": 22,
   "metadata": {},
   "outputs": [],
   "source": [
    "eval_test = evaluate_context(\n",
    "    context=prepped_context['body'].tolist()[3],\n",
    "    question=query,\n",
    "    model_name='gpt-4-turbo'\n",
    ")"
   ]
  },
  {
   "cell_type": "code",
   "execution_count": 23,
   "metadata": {},
   "outputs": [
    {
     "data": {
      "text/plain": [
       "7"
      ]
     },
     "execution_count": 23,
     "metadata": {},
     "output_type": "execute_result"
    }
   ],
   "source": [
    "eval_test.score"
   ]
  },
  {
   "cell_type": "code",
   "execution_count": 24,
   "metadata": {},
   "outputs": [
    {
     "data": {
      "text/markdown": [
       "The excerpt primarily discusses a legal dispute involving Loop Paper Recycling and Connecticut Specialty Insurance Company, focusing on the interpretation and application of a pollution exclusion clause in a comprehensive general liability insurance policy. The dispute arose following a fire at Loop Paper Recycling’s facility, which released smoke and toxic substances affecting the surrounding area. The court analyzed whether Connecticut had a duty to defend Loop Paper Recycling based on the pollution exclusions in the insurance policy. Key components of the discussion include the definitions of 'waste' and 'pollutants', the application of the 'total pollution exclusion' and the 'absolute pollution exclusion', and whether these exclusions barred coverage for the pollution caused by the fire. The court found that the 'total pollution exclusion' barred coverage because the fire involved materials classified as waste (such as cardboard intended for recycling), and it occurred at a facility engaged in waste handling and processing. The court also upheld the 'absolute pollution exclusion' for personal injury claims related to the pollution, emphasizing that the exclusions applied widely to prevent insurance coverage for environmental pollution associated with ongoing business activities of the insured."
      ],
      "text/plain": [
       "<IPython.core.display.Markdown object>"
      ]
     },
     "execution_count": 24,
     "metadata": {},
     "output_type": "execute_result"
    }
   ],
   "source": [
    "Markdown(eval_test.summary)"
   ]
  },
  {
   "cell_type": "code",
   "execution_count": 25,
   "metadata": {},
   "outputs": [
    {
     "data": {
      "text/markdown": [
       "An insurance policy exclusion defines a hostile fire as one that becomes uncontrollable or escapes its intended boundaries. Pollutants are detailed as solid, liquid, gaseous, or thermal irritants including smoke, soot, and chemicals, with waste encompassing recyclable materials. The policy's Coverage B outlines the insurer's duty to defend and pay damages for 'personal injury' or 'advertising injury,' excluding cases arising from pollutants. A lawsuit sought to determine the insurer's duty regarding Loop Paper Recycling's claims under these terms, with a consequential ruling that pollution exclusions barred coverage for the alleged injuries. Legal principles assert the broad duty of insurers to defend, comparing complaint allegations to policy terms and cautioning against applying extrinsic evidence. Insurance interpretations favor coverage, placing the burden on insurers to prove exclusion applicability. The court's main role is to deduce parties' intentions from the policy, acknowledging the contract's purpose and risk type, with a preference for plain terms interpretation. The case also reflects on the specific business operations of Loop Paper Recycling and their influence on coverage applicability under the policy."
      ],
      "text/plain": [
       "<IPython.core.display.Markdown object>"
      ]
     },
     "execution_count": 25,
     "metadata": {},
     "output_type": "execute_result"
    }
   ],
   "source": [
    "Markdown(prepped_context['summary'].tolist()[3])"
   ]
  },
  {
   "cell_type": "code",
   "execution_count": 26,
   "metadata": {},
   "outputs": [
    {
     "data": {
      "text/markdown": [
       "The excerpt provides detailed information on the interpretation and application of pollution exclusions within comprehensive general liability (CGL) insurance policies, particularly emphasizing the legal definitions and exclusions related to pollutants. It discusses specific legal standards and procedures, such as the duties of an insurer in the context of defending suits that involve polluting events. Additionally, it mentions the typical response of the court where the coverage issues regarding pollution are contested. However, the excerpt specifically revolves around the context of 'absolute pollution exclusion' and does not mention or discuss the 'sudden and accidental' provision or interpretation directly. This information, while detailed regarding pollution exclusions in general, may only indirectly relate to the specific interpretation of 'sudden and accidental' in CGL policies, which is crucial for the query in question."
      ],
      "text/plain": [
       "<IPython.core.display.Markdown object>"
      ]
     },
     "execution_count": 26,
     "metadata": {},
     "output_type": "execute_result"
    }
   ],
   "source": [
    "Markdown(prepped_context['summary_analysis'].tolist()[3])"
   ]
  },
  {
   "cell_type": "code",
   "execution_count": 28,
   "metadata": {},
   "outputs": [
    {
     "data": {
      "text/plain": [
       "3"
      ]
     },
     "execution_count": 28,
     "metadata": {},
     "output_type": "execute_result"
    }
   ],
   "source": [
    "prepped_context['relevance_score'].tolist()[3]"
   ]
  },
  {
   "cell_type": "code",
   "execution_count": null,
   "metadata": {},
   "outputs": [],
   "source": []
  },
  {
   "cell_type": "code",
   "execution_count": null,
   "metadata": {},
   "outputs": [],
   "source": []
  }
 ],
 "metadata": {
  "kernelspec": {
   "display_name": ".venv",
   "language": "python",
   "name": "python3"
  },
  "language_info": {
   "codemirror_mode": {
    "name": "ipython",
    "version": 3
   },
   "file_extension": ".py",
   "mimetype": "text/x-python",
   "name": "python",
   "nbconvert_exporter": "python",
   "pygments_lexer": "ipython3",
   "version": "3.10.11"
  }
 },
 "nbformat": 4,
 "nbformat_minor": 2
}
