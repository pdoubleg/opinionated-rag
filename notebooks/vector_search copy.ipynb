{
 "cells": [
  {
   "cell_type": "code",
   "execution_count": 1,
   "metadata": {},
   "outputs": [],
   "source": [
    "import os\n",
    "os.environ[\"KMP_DUPLICATE_LIB_OK\"] = \"TRUE\"\n",
    "import re\n",
    "from dotenv import load_dotenv\n",
    "import pandas as pd\n",
    "from IPython.display import Markdown, display, HTML\n",
    "import warnings\n",
    "warnings.filterwarnings('ignore')\n",
    "pd.set_option('display.max_columns', None)\n",
    "load_dotenv()\n",
    "os.chdir(os.path.dirname(os.getcwd()))"
   ]
  },
  {
   "cell_type": "code",
   "execution_count": 2,
   "metadata": {},
   "outputs": [
    {
     "data": {
      "text/plain": [
       "((117, 6), (1987, 23))"
      ]
     },
     "execution_count": 2,
     "metadata": {},
     "output_type": "execute_result"
    }
   ],
   "source": [
    "summary_df = pd.read_parquet('citation_summary_keywords.parquet')\n",
    "df = pd.read_parquet('./data/splade.parquet')\n",
    "summary_df.shape, df.shape"
   ]
  },
  {
   "cell_type": "code",
   "execution_count": 3,
   "metadata": {},
   "outputs": [],
   "source": [
    "def pretty_print(df: pd.DataFrame) -> None:\n",
    "    \"\"\"\n",
    "    Displays a DataFrame as HTML with line breaks for better readability.\n",
    "\n",
    "    Args:\n",
    "        df (pd.DataFrame): The DataFrame to display.\n",
    "    \"\"\"\n",
    "    return display(HTML(df.to_html().replace(\"\\\\n\", \"<br>\")))\n",
    "\n",
    "def visualize_retrieved_nodes(nodes: list) -> None:\n",
    "    \"\"\"\n",
    "    Visualizes the retrieved nodes by creating a DataFrame with scores and trimmed texts,\n",
    "    then displaying it using the pretty_print function.\n",
    "\n",
    "    Args:\n",
    "        nodes (list): A list of nodes to visualize, where each node has a score and text.\n",
    "    \"\"\"\n",
    "    result_dicts = []\n",
    "    for node in nodes:\n",
    "        # Trim the text to 1000 characters max\n",
    "        trimmed_text = node.node.get_text()[:1000]\n",
    "        result_dict = {\"Score\": node.score, \"Text\": trimmed_text}\n",
    "        result_dicts.append(result_dict)\n",
    "\n",
    "    pretty_print(pd.DataFrame(result_dicts))"
   ]
  },
  {
   "cell_type": "code",
   "execution_count": 4,
   "metadata": {},
   "outputs": [
    {
     "data": {
      "text/plain": [
       "((1987, 23), (1987, 23))"
      ]
     },
     "execution_count": 4,
     "metadata": {},
     "output_type": "execute_result"
    }
   ],
   "source": [
    "df1 = df.drop_duplicates(subset=['context'], keep='first')\n",
    "df.shape, df1.shape"
   ]
  },
  {
   "cell_type": "code",
   "execution_count": 5,
   "metadata": {},
   "outputs": [
    {
     "data": {
      "text/html": [
       "<div>\n",
       "<style scoped>\n",
       "    .dataframe tbody tr th:only-of-type {\n",
       "        vertical-align: middle;\n",
       "    }\n",
       "\n",
       "    .dataframe tbody tr th {\n",
       "        vertical-align: top;\n",
       "    }\n",
       "\n",
       "    .dataframe thead th {\n",
       "        text-align: right;\n",
       "    }\n",
       "</style>\n",
       "<table border=\"1\" class=\"dataframe\">\n",
       "  <thead>\n",
       "    <tr style=\"text-align: right;\">\n",
       "      <th></th>\n",
       "      <th>index</th>\n",
       "      <th>id</th>\n",
       "      <th>citation</th>\n",
       "      <th>name</th>\n",
       "      <th>name_abbreviation</th>\n",
       "      <th>decision_date</th>\n",
       "      <th>court_id</th>\n",
       "      <th>court_name</th>\n",
       "      <th>court_slug</th>\n",
       "      <th>judges</th>\n",
       "      <th>attorneys</th>\n",
       "      <th>citations</th>\n",
       "      <th>url</th>\n",
       "      <th>head</th>\n",
       "      <th>body</th>\n",
       "      <th>name_contains_lm</th>\n",
       "      <th>body_contains_lm</th>\n",
       "      <th>year</th>\n",
       "      <th>context</th>\n",
       "      <th>context_citation</th>\n",
       "      <th>context_tokens</th>\n",
       "      <th>openai_embeddings</th>\n",
       "      <th>splade_embeddings</th>\n",
       "    </tr>\n",
       "  </thead>\n",
       "  <tbody>\n",
       "    <tr>\n",
       "      <th>0</th>\n",
       "      <td>0</td>\n",
       "      <td>411690</td>\n",
       "      <td>154 Ill. 2d 90</td>\n",
       "      <td>RICHARD R. JOHNSON, Plaintiff-Appellant and Cr...</td>\n",
       "      <td>Johnson v. Halloran</td>\n",
       "      <td>2000-01-13</td>\n",
       "      <td>8837</td>\n",
       "      <td>Illinois Appellate Court</td>\n",
       "      <td>ill-app-ct</td>\n",
       "      <td>[]</td>\n",
       "      <td>['Wolter, Beeman, Lynch &amp; McIntyre, of Springf...</td>\n",
       "      <td>[{'type': 'official', 'cite': '312 Ill. App. 3...</td>\n",
       "      <td>https://api.case.law/v1/cases/411690/</td>\n",
       "      <td>RICHARD R. JOHNSON, Plaintiff-Appellant and Cr...</td>\n",
       "      <td>JUSTICE HALL\\r\\ndelivered the opinion of the c...</td>\n",
       "      <td>False</td>\n",
       "      <td>True</td>\n",
       "      <td>2000</td>\n",
       "      <td>The public defender of Cook County was appoint...</td>\n",
       "      <td>154 Ill. 2d 90</td>\n",
       "      <td>1317</td>\n",
       "      <td>[-0.0017778094625100493, -0.002360282698646187...</td>\n",
       "      <td>[0.0, 0.0, 0.0, 0.0, 0.0, 0.0, 0.0, 0.0, 0.0, ...</td>\n",
       "    </tr>\n",
       "    <tr>\n",
       "      <th>1</th>\n",
       "      <td>2</td>\n",
       "      <td>411690</td>\n",
       "      <td>111 Ill. 2d 229</td>\n",
       "      <td>RICHARD R. JOHNSON, Plaintiff-Appellant and Cr...</td>\n",
       "      <td>Johnson v. Halloran</td>\n",
       "      <td>2000-01-13</td>\n",
       "      <td>8837</td>\n",
       "      <td>Illinois Appellate Court</td>\n",
       "      <td>ill-app-ct</td>\n",
       "      <td>[]</td>\n",
       "      <td>['Wolter, Beeman, Lynch &amp; McIntyre, of Springf...</td>\n",
       "      <td>[{'type': 'official', 'cite': '312 Ill. App. 3...</td>\n",
       "      <td>https://api.case.law/v1/cases/411690/</td>\n",
       "      <td>RICHARD R. JOHNSON, Plaintiff-Appellant and Cr...</td>\n",
       "      <td>JUSTICE HALL\\r\\ndelivered the opinion of the c...</td>\n",
       "      <td>False</td>\n",
       "      <td>True</td>\n",
       "      <td>2000</td>\n",
       "      <td>The defense in the criminal case was then assi...</td>\n",
       "      <td>111 Ill. 2d 229</td>\n",
       "      <td>1346</td>\n",
       "      <td>[-0.005424648057669401, -0.0027988876681774855...</td>\n",
       "      <td>[0.0, 0.0, 0.0, 0.0, 0.0, 0.0, 0.0, 0.0, 0.0, ...</td>\n",
       "    </tr>\n",
       "  </tbody>\n",
       "</table>\n",
       "</div>"
      ],
      "text/plain": [
       "   index      id         citation  \\\n",
       "0      0  411690   154 Ill. 2d 90   \n",
       "1      2  411690  111 Ill. 2d 229   \n",
       "\n",
       "                                                name    name_abbreviation  \\\n",
       "0  RICHARD R. JOHNSON, Plaintiff-Appellant and Cr...  Johnson v. Halloran   \n",
       "1  RICHARD R. JOHNSON, Plaintiff-Appellant and Cr...  Johnson v. Halloran   \n",
       "\n",
       "  decision_date  court_id                court_name  court_slug judges  \\\n",
       "0    2000-01-13      8837  Illinois Appellate Court  ill-app-ct     []   \n",
       "1    2000-01-13      8837  Illinois Appellate Court  ill-app-ct     []   \n",
       "\n",
       "                                           attorneys  \\\n",
       "0  ['Wolter, Beeman, Lynch & McIntyre, of Springf...   \n",
       "1  ['Wolter, Beeman, Lynch & McIntyre, of Springf...   \n",
       "\n",
       "                                           citations  \\\n",
       "0  [{'type': 'official', 'cite': '312 Ill. App. 3...   \n",
       "1  [{'type': 'official', 'cite': '312 Ill. App. 3...   \n",
       "\n",
       "                                     url  \\\n",
       "0  https://api.case.law/v1/cases/411690/   \n",
       "1  https://api.case.law/v1/cases/411690/   \n",
       "\n",
       "                                                head  \\\n",
       "0  RICHARD R. JOHNSON, Plaintiff-Appellant and Cr...   \n",
       "1  RICHARD R. JOHNSON, Plaintiff-Appellant and Cr...   \n",
       "\n",
       "                                                body  name_contains_lm  \\\n",
       "0  JUSTICE HALL\\r\\ndelivered the opinion of the c...             False   \n",
       "1  JUSTICE HALL\\r\\ndelivered the opinion of the c...             False   \n",
       "\n",
       "   body_contains_lm  year                                            context  \\\n",
       "0              True  2000  The public defender of Cook County was appoint...   \n",
       "1              True  2000  The defense in the criminal case was then assi...   \n",
       "\n",
       "  context_citation  context_tokens  \\\n",
       "0   154 Ill. 2d 90            1317   \n",
       "1  111 Ill. 2d 229            1346   \n",
       "\n",
       "                                   openai_embeddings  \\\n",
       "0  [-0.0017778094625100493, -0.002360282698646187...   \n",
       "1  [-0.005424648057669401, -0.0027988876681774855...   \n",
       "\n",
       "                                   splade_embeddings  \n",
       "0  [0.0, 0.0, 0.0, 0.0, 0.0, 0.0, 0.0, 0.0, 0.0, ...  \n",
       "1  [0.0, 0.0, 0.0, 0.0, 0.0, 0.0, 0.0, 0.0, 0.0, ...  "
      ]
     },
     "execution_count": 5,
     "metadata": {},
     "output_type": "execute_result"
    }
   ],
   "source": [
    "df1.head(2)"
   ]
  },
  {
   "cell_type": "code",
   "execution_count": 44,
   "metadata": {},
   "outputs": [
    {
     "data": {
      "text/markdown": [
       "\n",
       "Regarding the pollution exclusion clause under the terms of comprehensive general liability (CGL) insurance, how has the California court defined the phrase \"sudden and accidental', in particular for polluting events? Also, has there been any consideration for intentional vs unintentional polluting events.\n"
      ],
      "text/plain": [
       "<IPython.core.display.Markdown object>"
      ]
     },
     "execution_count": 44,
     "metadata": {},
     "output_type": "execute_result"
    }
   ],
   "source": [
    "test_query = \"\"\"\n",
    "Regarding the pollution exclusion clause under the terms of comprehensive general liability (CGL) insurance, \\\n",
    "how has the California court defined the phrase \"sudden and accidental', in particular for polluting events? Also, has there been any consideration for intentional vs unintentional polluting events.\n",
    "\"\"\"\n",
    "Markdown(test_query)"
   ]
  },
  {
   "cell_type": "code",
   "execution_count": 7,
   "metadata": {},
   "outputs": [
    {
     "name": "stderr",
     "output_type": "stream",
     "text": [
      "\u001b[32m2024-04-08 16:22:22 - INFO - Schema shown to LLM: \n",
      "Name of each field, its type and unique values (up to 10):\n",
      "* court_name (string);  Values - ['Illinois Appellate Court' 'North Carolina Court of Appeals'\n",
      " 'Illinois Supreme Court'\n",
      " 'United States District Court for the District of Connecticut'\n",
      " 'Supreme Court of North Carolina'\n",
      " 'United States District Court for the Southern District of New York'\n",
      " 'Court of Appeals of North Carolina'\n",
      " 'United States Court of Appeals for the Second Circuit'\n",
      " 'United States Court of Appeals for the Third Circuit'\n",
      " 'United States District Court for the Eastern District of Pennsylvania'], ... 51 more\n",
      "        \u001b[0m\n"
     ]
    },
    {
     "data": {
      "text/plain": [
       "2"
      ]
     },
     "execution_count": 7,
     "metadata": {},
     "output_type": "execute_result"
    }
   ],
   "source": [
    "from src.search.query_filter import generate_query_plans, auto_filter_fts_search\n",
    "\n",
    "query_plan = generate_query_plans(\n",
    "    input_df=df1,\n",
    "    query=test_query,\n",
    "    filter_fields=[\n",
    "        'court_name',\n",
    "    ]\n",
    ")\n",
    "len(query_plan)"
   ]
  },
  {
   "cell_type": "code",
   "execution_count": 8,
   "metadata": {},
   "outputs": [
    {
     "name": "stderr",
     "output_type": "stream",
     "text": [
      "\u001b[32m2024-04-08 16:22:33 - INFO - Input DataFrame has 1,987 rows\u001b[0m\n",
      "\u001b[32m2024-04-08 16:22:33 - INFO - Applying filter(s): court_name LIKE '%California%'\u001b[0m\n",
      "\u001b[32m2024-04-08 16:22:35 - INFO - Filtered DataFrame has 25 rows\u001b[0m\n"
     ]
    }
   ],
   "source": [
    "filtered_df1 = query_plan[0].filter_df(df=df1)"
   ]
  },
  {
   "cell_type": "code",
   "execution_count": 9,
   "metadata": {},
   "outputs": [
    {
     "name": "stderr",
     "output_type": "stream",
     "text": [
      "\u001b[32m2024-04-08 16:22:35 - INFO - Input DataFrame has 1,987 rows\u001b[0m\n",
      "\u001b[32m2024-04-08 16:22:35 - INFO - Applying filter(s): court_name LIKE '%California%'\u001b[0m\n",
      "\u001b[32m2024-04-08 16:22:37 - INFO - Filtered DataFrame has 25 rows\u001b[0m\n"
     ]
    }
   ],
   "source": [
    "filtered_df1 = query_plan[1].filter_df(df=df1)"
   ]
  },
  {
   "cell_type": "code",
   "execution_count": 10,
   "metadata": {},
   "outputs": [
    {
     "data": {
      "text/plain": [
       "\"court_name LIKE '%California%'\""
      ]
     },
     "execution_count": 10,
     "metadata": {},
     "output_type": "execute_result"
    }
   ],
   "source": [
    "query_plan[0].filter"
   ]
  },
  {
   "cell_type": "code",
   "execution_count": 11,
   "metadata": {},
   "outputs": [
    {
     "data": {
      "text/markdown": [
       "How has the California court defined the phrase \"sudden and accidental\" in the context of pollution exclusion clause under comprehensive general liability (CGL) insurance?"
      ],
      "text/plain": [
       "<IPython.core.display.Markdown object>"
      ]
     },
     "execution_count": 11,
     "metadata": {},
     "output_type": "execute_result"
    }
   ],
   "source": [
    "Markdown(query_plan[0].original_query)"
   ]
  },
  {
   "cell_type": "code",
   "execution_count": 12,
   "metadata": {},
   "outputs": [
    {
     "data": {
      "text/markdown": [
       "definition of the phrase \"sudden and accidental\" in relation to the pollution exclusion clause under comprehensive general liability insurance"
      ],
      "text/plain": [
       "<IPython.core.display.Markdown object>"
      ]
     },
     "execution_count": 12,
     "metadata": {},
     "output_type": "execute_result"
    }
   ],
   "source": [
    "Markdown(query_plan[0].rephrased_query)"
   ]
  },
  {
   "cell_type": "code",
   "execution_count": 13,
   "metadata": {},
   "outputs": [
    {
     "data": {
      "text/markdown": [
       "Has there been any consideration for intentional vs unintentional polluting events in the definition of pollution exclusion clause under CGL insurance by the California court?"
      ],
      "text/plain": [
       "<IPython.core.display.Markdown object>"
      ]
     },
     "execution_count": 13,
     "metadata": {},
     "output_type": "execute_result"
    }
   ],
   "source": [
    "Markdown(query_plan[1].original_query)"
   ]
  },
  {
   "cell_type": "code",
   "execution_count": 14,
   "metadata": {},
   "outputs": [
    {
     "data": {
      "text/markdown": [
       "consideration of intentional versus unintentional polluting events in relation to the pollution exclusion clause under comprehensive general liability insurance"
      ],
      "text/plain": [
       "<IPython.core.display.Markdown object>"
      ]
     },
     "execution_count": 14,
     "metadata": {},
     "output_type": "execute_result"
    }
   ],
   "source": [
    "Markdown(query_plan[1].rephrased_query)"
   ]
  },
  {
   "cell_type": "code",
   "execution_count": 15,
   "metadata": {},
   "outputs": [
    {
     "data": {
      "text/plain": [
       "court_name\n",
       "United States District Court for the Eastern District of California      11\n",
       "United States District Court for the Central District of California       5\n",
       "United States District Court for the Southern District of California      4\n",
       "United States District Court for the Northern District of California      3\n",
       "United States Bankruptcy Court for the Central District of California     2\n",
       "Name: count, dtype: int64"
      ]
     },
     "execution_count": 15,
     "metadata": {},
     "output_type": "execute_result"
    }
   ],
   "source": [
    "filtered_df1['court_name'].value_counts()"
   ]
  },
  {
   "cell_type": "code",
   "execution_count": 41,
   "metadata": {},
   "outputs": [],
   "source": [
    "from src.search.models import dataframe_to_text_nodes\n",
    "\n",
    "nodes = dataframe_to_text_nodes(\n",
    "    df=df,\n",
    "    id_column='index',\n",
    "    text_column='context',\n",
    "    metadata_fields=['url', 'head', 'citation', 'name'],\n",
    "    embedding_column='openai_embeddings',\n",
    "    has_score=False,\n",
    ")"
   ]
  },
  {
   "cell_type": "code",
   "execution_count": 6,
   "metadata": {},
   "outputs": [],
   "source": [
    "from langchain_community.vectorstores import Chroma\n",
    "from langchain_openai import OpenAIEmbeddings\n",
    "from langchain_community.document_loaders import DataFrameLoader\n",
    "import chromadb"
   ]
  },
  {
   "cell_type": "code",
   "execution_count": 18,
   "metadata": {},
   "outputs": [
    {
     "data": {
      "text/html": [
       "<div>\n",
       "<style scoped>\n",
       "    .dataframe tbody tr th:only-of-type {\n",
       "        vertical-align: middle;\n",
       "    }\n",
       "\n",
       "    .dataframe tbody tr th {\n",
       "        vertical-align: top;\n",
       "    }\n",
       "\n",
       "    .dataframe thead th {\n",
       "        text-align: right;\n",
       "    }\n",
       "</style>\n",
       "<table border=\"1\" class=\"dataframe\">\n",
       "  <thead>\n",
       "    <tr style=\"text-align: right;\">\n",
       "      <th></th>\n",
       "      <th>index</th>\n",
       "      <th>id</th>\n",
       "      <th>citation</th>\n",
       "      <th>name</th>\n",
       "      <th>name_abbreviation</th>\n",
       "      <th>decision_date</th>\n",
       "      <th>court_id</th>\n",
       "      <th>court_name</th>\n",
       "      <th>court_slug</th>\n",
       "      <th>judges</th>\n",
       "      <th>attorneys</th>\n",
       "      <th>citations</th>\n",
       "      <th>url</th>\n",
       "      <th>head</th>\n",
       "      <th>body</th>\n",
       "      <th>name_contains_lm</th>\n",
       "      <th>body_contains_lm</th>\n",
       "      <th>year</th>\n",
       "      <th>context</th>\n",
       "      <th>context_citation</th>\n",
       "      <th>context_tokens</th>\n",
       "      <th>openai_embeddings</th>\n",
       "      <th>splade_embeddings</th>\n",
       "    </tr>\n",
       "  </thead>\n",
       "  <tbody>\n",
       "    <tr>\n",
       "      <th>0</th>\n",
       "      <td>0</td>\n",
       "      <td>411690</td>\n",
       "      <td>154 Ill. 2d 90</td>\n",
       "      <td>RICHARD R. JOHNSON, Plaintiff-Appellant and Cr...</td>\n",
       "      <td>Johnson v. Halloran</td>\n",
       "      <td>2000-01-13</td>\n",
       "      <td>8837</td>\n",
       "      <td>Illinois Appellate Court</td>\n",
       "      <td>ill-app-ct</td>\n",
       "      <td>[]</td>\n",
       "      <td>['Wolter, Beeman, Lynch &amp; McIntyre, of Springf...</td>\n",
       "      <td>[{'type': 'official', 'cite': '312 Ill. App. 3...</td>\n",
       "      <td>https://api.case.law/v1/cases/411690/</td>\n",
       "      <td>RICHARD R. JOHNSON, Plaintiff-Appellant and Cr...</td>\n",
       "      <td>JUSTICE HALL\\r\\ndelivered the opinion of the c...</td>\n",
       "      <td>False</td>\n",
       "      <td>True</td>\n",
       "      <td>2000</td>\n",
       "      <td>The public defender of Cook County was appoint...</td>\n",
       "      <td>154 Ill. 2d 90</td>\n",
       "      <td>1317</td>\n",
       "      <td>[-0.0017778094625100493, -0.002360282698646187...</td>\n",
       "      <td>[0.0, 0.0, 0.0, 0.0, 0.0, 0.0, 0.0, 0.0, 0.0, ...</td>\n",
       "    </tr>\n",
       "  </tbody>\n",
       "</table>\n",
       "</div>"
      ],
      "text/plain": [
       "   index      id        citation  \\\n",
       "0      0  411690  154 Ill. 2d 90   \n",
       "\n",
       "                                                name    name_abbreviation  \\\n",
       "0  RICHARD R. JOHNSON, Plaintiff-Appellant and Cr...  Johnson v. Halloran   \n",
       "\n",
       "  decision_date  court_id                court_name  court_slug judges  \\\n",
       "0    2000-01-13      8837  Illinois Appellate Court  ill-app-ct     []   \n",
       "\n",
       "                                           attorneys  \\\n",
       "0  ['Wolter, Beeman, Lynch & McIntyre, of Springf...   \n",
       "\n",
       "                                           citations  \\\n",
       "0  [{'type': 'official', 'cite': '312 Ill. App. 3...   \n",
       "\n",
       "                                     url  \\\n",
       "0  https://api.case.law/v1/cases/411690/   \n",
       "\n",
       "                                                head  \\\n",
       "0  RICHARD R. JOHNSON, Plaintiff-Appellant and Cr...   \n",
       "\n",
       "                                                body  name_contains_lm  \\\n",
       "0  JUSTICE HALL\\r\\ndelivered the opinion of the c...             False   \n",
       "\n",
       "   body_contains_lm  year                                            context  \\\n",
       "0              True  2000  The public defender of Cook County was appoint...   \n",
       "\n",
       "  context_citation  context_tokens  \\\n",
       "0   154 Ill. 2d 90            1317   \n",
       "\n",
       "                                   openai_embeddings  \\\n",
       "0  [-0.0017778094625100493, -0.002360282698646187...   \n",
       "\n",
       "                                   splade_embeddings  \n",
       "0  [0.0, 0.0, 0.0, 0.0, 0.0, 0.0, 0.0, 0.0, 0.0, ...  "
      ]
     },
     "execution_count": 18,
     "metadata": {},
     "output_type": "execute_result"
    }
   ],
   "source": [
    "df.head(1)"
   ]
  },
  {
   "cell_type": "code",
   "execution_count": 23,
   "metadata": {},
   "outputs": [
    {
     "data": {
      "text/plain": [
       "1987"
      ]
     },
     "execution_count": 23,
     "metadata": {},
     "output_type": "execute_result"
    }
   ],
   "source": [
    "loader = DataFrameLoader(df[['context', 'id', 'citation', 'name_abbreviation', 'court_name']], page_content_column=\"context\")\n",
    "docs = loader.load()\n",
    "len(docs)"
   ]
  },
  {
   "cell_type": "code",
   "execution_count": 7,
   "metadata": {},
   "outputs": [],
   "source": [
    "embeddings_model = OpenAIEmbeddings()\n",
    "\n",
    "# db = Chroma.from_documents(docs, embeddings_model, persist_directory=\"./data/chroma_db\")\n",
    "# load from disk\n",
    "db = Chroma(persist_directory=\"./data/chroma_db\", embedding_function=embeddings_model)"
   ]
  },
  {
   "cell_type": "code",
   "execution_count": 19,
   "metadata": {},
   "outputs": [],
   "source": [
    "chroma_client = chromadb.EphemeralClient()\n",
    "chroma_collection = chroma_client.create_collection(\"citation_context\")"
   ]
  },
  {
   "cell_type": "code",
   "execution_count": 42,
   "metadata": {},
   "outputs": [],
   "source": [
    "from typing import List\n",
    "from llama_index.core.indices.vector_store import VectorIndexRetriever, VectorStoreIndex\n",
    "from llama_index.embeddings.openai import OpenAIEmbedding\n",
    "from llama_index.vector_stores.chroma import ChromaVectorStore\n",
    "from llama_index.core.storage.storage_context import StorageContext\n",
    "from llama_index_client import TextNode\n",
    "\n",
    "from src.parsing.search import find_closest_matches_with_bm25_df, find_fuzzy_matches_in_df\n",
    "\n",
    "\n",
    "def init_vector_store_index(nodes: List[TextNode]):\n",
    "    chroma_client = chromadb.EphemeralClient()\n",
    "    chroma_collection = chroma_client.create_collection(\"chroma_db\")\n",
    "\n",
    "    embeddings = OpenAIEmbedding(\n",
    "        model='text-embedding-ada-002',\n",
    "    )\n",
    "    vector_store = ChromaVectorStore(chroma_collection=chroma_collection)\n",
    "    storage_context = StorageContext.from_defaults(\n",
    "        vector_store=vector_store,\n",
    "    )\n",
    "    index = VectorStoreIndex(\n",
    "        nodes=nodes,\n",
    "        embed_model=embeddings,\n",
    "        storage_context=storage_context,\n",
    "    )\n",
    "    return index\n",
    "\n",
    "index = init_vector_store_index(nodes=nodes)\n",
    "\n",
    "retriever = VectorIndexRetriever(\n",
    "    index=index,\n",
    "    similarity_top_k=10,\n",
    ")"
   ]
  },
  {
   "cell_type": "code",
   "execution_count": 45,
   "metadata": {},
   "outputs": [
    {
     "data": {
      "text/plain": [
       "10"
      ]
     },
     "execution_count": 45,
     "metadata": {},
     "output_type": "execute_result"
    }
   ],
   "source": [
    "res = retriever.retrieve(test_query)\n",
    "len(res)"
   ]
  },
  {
   "cell_type": "code",
   "execution_count": 48,
   "metadata": {},
   "outputs": [],
   "source": [
    "index.storage_context.persist()"
   ]
  },
  {
   "cell_type": "code",
   "execution_count": 50,
   "metadata": {},
   "outputs": [],
   "source": [
    "index.storage_context.vector_store.persist(persist_path='./data/index/chromadb')"
   ]
  },
  {
   "cell_type": "code",
   "execution_count": 46,
   "metadata": {},
   "outputs": [
    {
     "data": {
      "text/plain": [
       "[NodeWithScore(node=TextNode(id_='1145', embedding=None, metadata={'url': 'https://api.case.law/v1/cases/4268691/', 'head': 'COUNTRY MUTUAL INSURANCE COMPANY, Plaintiff-Appellee, v. STEVE CARR, d/b/a Carr Construction, Defendant-Appellant and Third-Party Plaintiff (Jon Seevers et al., Defendants; Harold Vogelzang, Third-Party Defendant).\\r\\nFourth District\\r\\nNo. 4—06—0589\\r\\nOpinion filed March 19, 2007.\\r\\nEdward H. Rawles (argued), of Rawles, O’Byrne, Stanko, Kepley & Jefferson, EC., of Champaign, for appellant.\\r\\nKaren L. Kendall (argued), of Heyl, Royster, Voelker & Allen, of Peoria, and Michael E. Raub, of Heyl, Royster, Voelker & Allen, of Urbana, for appellee.', 'citation': '89 Ill. App. 3d 617', 'name': 'COUNTRY MUTUAL INSURANCE COMPANY, Plaintiff-Appellee, v. STEVE CARR, d/b/a Carr Construction, Defendant-Appellant and Third-Party Plaintiff (Jon Seevers et al., Defendants; Harold Vogelzang, Third-Party Defendant)'}, excluded_embed_metadata_keys=[], excluded_llm_metadata_keys=[], relationships={}, text='Even if only one of several theories of recovery put forward by a plaintiff is within the potential coverage of the policy, the insurer has a duty to defend the insured on all theories of recovery. National Union Fire Insurance Co. of Pittsburgh, Pennsylvania v. Glenview Park District, 158 Ill. 2d 116, 124, 632 N.E.2d 1039, 1042-43 (1994). However, even if an insurer has a duty to defend, whether the insurer will have a duty to indemnify the insured will only be ripe for determination after the insured has incurred liability in the underlying claim against it. Outboard Marine Corp., 154 Ill. 2d at 127, 607 N.E.2d at 1221. C. Relevant Policy Provisions and Their Meanings According to the general-coverage provision of the CGL policy at issue in this case: “This insurance applies to ‘bodily injury’ and ‘property damage’ only if: (1) The ‘bodily injury’ or ‘property damage’ is caused by an ‘occurrence’ that takes place in the ‘coverage territory’; and (2) The ‘bodily injury’ or ‘property damage’ occurs during the policy period.” The CGL policy at issue in this case assigns definitions to certain terms used in the policy. According to these definitions, the policy defines “property damage” as: “a. Physical injury to tangible property, including all resulting loss of use of that property. All such loss of use shall be deemed to occur at the time of the physical injury that caused it; or b. Loss of use of tangible property that is not physically injured. All such loss of use shall be deemed to occur at the time of the ‘occurrence’ that caused it.” The policy defines an “occurrence” as “an accident, including continuous or repeated exposure to substantially the same general harmful conditions.” However, the CGL policy at issue does not define “accident.” The term has been interpreted in different ways as evidenced by our discussion below. Therefore, the term “accident” in the policy in question is ambiguous. Eljer Manufacturing, 197 Ill. 2d at 293, 757 N.E.2d at 491. As a result, for purposes of determining whether the damage to Rollings and Bowyer’s residence is the result of an accident, we must give the term a liberal construction in favor of coverage. Burgos, 145 Ill. 2d at 438, 583 N.E.2d at 554. One popular dictionary defines an “accident” as follows: “la: an unforeseen and unplanned event or circumstance b: lack of intention or necessity: CHANCE *** 2a: an unfortunate event resulting esp. from carelessness or ignorance b: an unexpected and medically important bodily event esp. when injurious **•* c: an unexpected happening causing loss or injury which is not due to any fault or misconduct on the part of the person injured but for which legal relief may be sought *** 3: a nonessential property or quality of an entity or circumstance ***.” Merriam Webster’s Collegiate Dictionary 7 (11th ed. 2003). Courts have defined an accident as “an unforeseen occurrence, usually of an untoward or disastrous character or an undesigned sudden or unexpected event of an inflictive or unfortunate character.” Aetna Casualty & Surety Co. v. Freyer, 89 Ill. App. 3d 617, 619, 411 N.E.2d 1157, 1159 (1980). Some courts have also stated that the “natural and ordinary consequences of an act do not constitute an accident.” Aetna Casualty & Surety Co., 89 Ill. App. 3d at 619, 411 N.E.2d at 1159; see also State Farm Fire & Casualty Co. v. Tillerson, 334 Ill. App. 3d 404, 409, 777 N.E.2d 986, 990 (2002); Monticello Insurance Co. v. Wil-Freds Construction, Inc., 277 Ill. App. 3d 697, 703, 661 N.E.2d 451, 455 (1996). The Supreme Court of Illinois has stated a court should not determine whether something is an accident by looking at whether the actions leading to the damage were intentionally done. According to the court, the real question is whether the person performing the acts leading to the result intended or expected the result. If the person did not intend or expect the result, then the result was the product of an accident. United States Fidelity & Guaranty Co. v. Wilkin Insulation Co., 144 Ill. 2d 64, 77-78, 578 N.E.2d 926, 932 (1991); see also Yates v. Bankers Life & Casualty Co., 415 Ill. 16, 19, 111 N.E.2d 516, 517-18 (1953); Lyons v. State Farm Fire & Casualty Co., 349 Ill. App. 3d 404, 409, 811 N.E.2d 718, 723 (2004). We apply this definition to the CGL policy at issue in this case. D. Property Damage To determine if the CGL policy applies to a claim in which a third party is seeking damages against the insured, the trial court must first determine if the third party has suffered “bodily injury” or “property damage” as defined by the policy. At issue in this case is whether Rollings and Bowyer suffered “property damage.” Rollings and Bowyer allege in the underlying complaint in case No. 04—L—08 that the negligent actions of defendant, his employees, agents, and/or subcontractors resulted in damage to their basement walls and other parts of the residence. They do not allege they only suffered intangible property losses, such as an economic loss, which courts do not usually consider “property damage.” Viking Construction Management, Inc. v. Liberty Mutual Insurance Co., 358 Ill. App. 3d 34, 42, 831 N.E.2d 1, 6-7 (2005). They allege physical injury to tangible property, their basement walls. This falls within the broad definition of “property damage” given by the policy. E. Occurrence If property damage occurred, the trial court must then determine if that property damage resulted from an “occurrence” as defined by the policy. In the underlying complaint in case No. 04—L—8, the two negligence counts against Carr simply allege that either Carr himself, his agents or employees, or his subcontractor used inappropriate backfill around the basement walls and then negligently operated heavy earthmoving equipment immediately adjacent to the basement walls. The counts allege these activities resulted in the sudden movement of the basement walls. The counts further allege the movement of the walls resulted in damage to those same walls and other parts of the residence.', start_char_idx=None, end_char_idx=None, text_template='Metadata:\\n{metadata_str}\\n----------------------------------------\\nContent:\\n{content}', metadata_template='{key} = {value}', metadata_seperator='\\n'), score=0.7398978401284662),\n",
       " NodeWithScore(node=TextNode(id_='804', embedding=None, metadata={'url': 'https://api.case.law/v1/cases/3749818/', 'head': 'CONNECTICUT SPECIALTY INSURANCE COMPANY, Plaintiff-Appellee, v. LOOP PAPER RECYCLING, INC., Defendant-Appellant (Anjanette Howard et al., Indiv. and On Behalf of All Others Similarly Situated, Defendants).\\r\\nFirst District (4th Division)\\r\\nNo. 1—03—2988\\r\\nOpinion filed February 17, 2005.\\r\\nLeahy, Eisenberg & Fraenkel, Ltd., of Chicago (Thomas J. Finn and Shannon F. O’Shea, of counsel), for appellant.\\r\\nWilliams, Montgomery & John, Ltd., of Chicago (Mary A. Sliwinski, Alyssa M. Campbell, and Lloyd E. Williams, Jr., of counsel), for appellee.', 'citation': '177 Ill. 2d 473', 'name': 'CONNECTICUT SPECIALTY INSURANCE COMPANY, Plaintiff-Appellee, v. LOOP PAPER RECYCLING, INC., Defendant-Appellant (Anjanette Howard et al., Indiv. and On Behalf of All Others Similarly Situated, Defendants)'}, excluded_embed_metadata_keys=[], excluded_llm_metadata_keys=[], relationships={}, text='^ ^ As used in this exclusion, a hostile fire means one which becomes uncontrollable or breaks out from where it was intended to be. ❖ * Pollutants means any solid, liquid, gaseous, or thermal irritant or contaminant including smoke, vapor, soot, fumes, acid, alkalis, chemicals and waste. Waste includes material to be recycled, reconditioned or reclaimed.” Coverage B stated, in pertinent part: “[Personal and Advertising Injury] Insuring Agreement a. We will pay those sums that the insured becomes legally obligated to pay as damages because of ‘personal injury’ or ‘advertising injury’ to which this insurance applies. b. We will have the right and duty to defend the insured against any ‘suit’ seeking those damages. However, we will have no duty to defend the insured against any ‘suit’ seeking damages for ‘personal injury’ or ‘advertising injury’ to which this insurance does not apply.” Coverage B contained an “absolute pollution exclusion,” which stated: “[Absolute Pollution Exclusion to Coverage B] 2. Exclusions This insurance does not apply to: a. ‘Personal injury’ or ‘advertising injury;’ (5) Arising out of the actual, alleged or threatened discharge, dispersal, seepage, migration, release or escape of pollutants at any time. ❖ * * Pollutants means any solid, liquid, gaseous or thermal irritant or contaminant, including smoke, vapor, soot, fumes, acids, alkalis, chemicals and waste. Waste includes materials to be recycled, reconditioned or reclaimed.” On September 28, 2001, Connecticut filed a complaint for declaratory judgment, arguing that, under the terms of the policy, it owed no duty to defend or provide coverage to Loop Paper Recycling in the lawsuit filed by the underlying plaintiffs. The circuit court granted Connecticut’s motion for summary judgment, finding that while the underlying plaintiffs sufficiently alleged that they suffered “bodily injury” as defined in the policy, there was no coverage under the policy’s “total pollution exclusion.” The court also found that the underlying plaintiffs failed to allege “personal injury” and that, even if they did, the “absolute pollution exclusion” barred coverage. Loop Paper Recycling filed a timely notice of appeal. ANALYSIS Summary judgment is appropriate when the pleadings, depositions, admissions, and affidavits on file reveal that there is no genuine issue of material fact and the moving party is entitled to judgment as a matter of law. Chatham Corp. v. Dann Insurance, 351 Ill. App. 3d 353, 358, 812 N.E.2d 483, 488 (2004). When ruling on a motion for summary judgment, we must construe all evidence in the light most favorable to the nonmoving party. See Sears, Roebuck & Co. v. Acceptance Insurance Co., 342 Ill. App. 3d 167, 171, 793 N.E.2d 736 (2003). We review a trial court’s grant of summary judgment de novo. Sears, 342 Ill. App. 3d at 171. The duty of an insurer to defend its insured is much broader than its duty to indemnify. Sears, 342 Ill. App. 3d at 171. When determining whether an insurer has a duty to defend its insured, the court must compare the allegations contained in the underlying complaint to the relevant provisions of the insurance policy. American States Insurance Co. v. Koloms, 177 Ill. 2d 473, 479, 687 N.E.2d 72 (1997). In determining whether an insurer owes a duty to defend an action brought against its insured, the court must consider only the allegations in the underlying complaint and the relevant policy provisions. Lexmark International, Inc. v. Transportation Insurance Co., 327 Ill. App. 3d 128, 136, 761 N.E.2d 1214 (2001), quoting Bituminous Casualty Corp. v. Fulkerson, 212 Ill. App. 3d 556, 562, 571 N.E.2d 256 (1991). “[Wjhere summary judgment is sought in the context of a declaratory judgment action to determine whether an insurer has a duty to defend, the use of extrinsic evidence is inappropriate.” Atlantic Mutual Insurance Co. v. American Academy of Orthopaedic Surgeons, 315 Ill. App. 3d 552, 567, 734 N.E.2d 50 (2000). If the court determines that the allegations fall within, or potentially within, coverage under the policy, the insurer has a duty to defend the insured against the underlying complaint. Progressive Universal Insurance Co. of Illinois v. Liberty Mutual Fire Insurance Co., 347 Ill. App. 3d 411, 414, 806 N.E.2d 1224 (2004). Insurance policies are to be liberally construed in favor of coverage, and where an ambiguity exists in the terms of the contract, the ambiguity will be resolved in favor of the insured and against the insurer. Traveler’s Insurance Co. v. Eljer Manufacturing, Inc., 197 Ill. 2d 278, 293, 757 N.E.2d 481 (2001). The insurer bears the burden of establishing that a claim falls within a provision that limits or excludes coverage. Progressive Universal, 347 Ill. App. 3d at 414. When construing an insurance policy, the primary function of the court is to ascertain and enforce the intentions of the parties as expressed in the agreement. Central Illinois Light Co. v. Home Insurance Co., 342 Ill. App. 3d 940, 950-51, 795 N.E.2d 412 (2003). A court must construe the policy as a whole and take into account the type of insurance purchased, the nature of the risks involved, and the overall purpose of the contract. Koloms, 177 Ill. 2d at 479. If the words of a policy are clear and unambiguous, they must be afforded their plain, ordinary and popular meaning. Traveler’s Insurance Co., 197 Ill. 2d at 292, quoting Outboard Marine Corp. v. Liberty Mutual Insurance Co., 154 Ill. 2d 90, 108, 607 N.E.2d 1204 (1993). Unambiguous clauses within insurance contracts must be enforced according to their terms and courts should refrain from adopting interpretations resulting in distortions and creating ambiguities where none exist. Young v. Allstate Insurance Co., 351 Ill. App. 3d 151, 157-58, 812 N.E.2d 741 (2004). I. COVERAGE A: BODILY INJURY LIABILITY Though the policy here contains a maze of provisions that must be navigated in order to determine whether coverage for bodily injury resulting from a fire exists, in the end, the determination hinges upon the kind of business Loop Paper Recycling was running at its River-dale facility. The policy in this case begins by stating that Connecticut will provide coverage for “those sums that the insured becomes legally obligated to pay as damages because of ‘bodily injury’ or ‘property damage’ to which this insurance applies.”', start_char_idx=None, end_char_idx=None, text_template='Metadata:\\n{metadata_str}\\n----------------------------------------\\nContent:\\n{content}', metadata_template='{key} = {value}', metadata_seperator='\\n'), score=0.7368731083534161),\n",
       " NodeWithScore(node=TextNode(id_='807', embedding=None, metadata={'url': 'https://api.case.law/v1/cases/3749818/', 'head': 'CONNECTICUT SPECIALTY INSURANCE COMPANY, Plaintiff-Appellee, v. LOOP PAPER RECYCLING, INC., Defendant-Appellant (Anjanette Howard et al., Indiv. and On Behalf of All Others Similarly Situated, Defendants).\\r\\nFirst District (4th Division)\\r\\nNo. 1—03—2988\\r\\nOpinion filed February 17, 2005.\\r\\nLeahy, Eisenberg & Fraenkel, Ltd., of Chicago (Thomas J. Finn and Shannon F. O’Shea, of counsel), for appellant.\\r\\nWilliams, Montgomery & John, Ltd., of Chicago (Mary A. Sliwinski, Alyssa M. Campbell, and Lloyd E. Williams, Jr., of counsel), for appellee.', 'citation': '315 Ill. App. 3d 552', 'name': 'CONNECTICUT SPECIALTY INSURANCE COMPANY, Plaintiff-Appellee, v. LOOP PAPER RECYCLING, INC., Defendant-Appellant (Anjanette Howard et al., Indiv. and On Behalf of All Others Similarly Situated, Defendants)'}, excluded_embed_metadata_keys=[], excluded_llm_metadata_keys=[], relationships={}, text='However, we will have no duty to defend the insured against any ‘suit’ seeking damages for ‘personal injury’ or ‘advertising injury’ to which this insurance does not apply.” Coverage B contained an “absolute pollution exclusion,” which stated: “[Absolute Pollution Exclusion to Coverage B] 2. Exclusions This insurance does not apply to: a. ‘Personal injury’ or ‘advertising injury;’ (5) Arising out of the actual, alleged or threatened discharge, dispersal, seepage, migration, release or escape of pollutants at any time. ❖ * * Pollutants means any solid, liquid, gaseous or thermal irritant or contaminant, including smoke, vapor, soot, fumes, acids, alkalis, chemicals and waste. Waste includes materials to be recycled, reconditioned or reclaimed.” On September 28, 2001, Connecticut filed a complaint for declaratory judgment, arguing that, under the terms of the policy, it owed no duty to defend or provide coverage to Loop Paper Recycling in the lawsuit filed by the underlying plaintiffs. The circuit court granted Connecticut’s motion for summary judgment, finding that while the underlying plaintiffs sufficiently alleged that they suffered “bodily injury” as defined in the policy, there was no coverage under the policy’s “total pollution exclusion.” The court also found that the underlying plaintiffs failed to allege “personal injury” and that, even if they did, the “absolute pollution exclusion” barred coverage. Loop Paper Recycling filed a timely notice of appeal. ANALYSIS Summary judgment is appropriate when the pleadings, depositions, admissions, and affidavits on file reveal that there is no genuine issue of material fact and the moving party is entitled to judgment as a matter of law. Chatham Corp. v. Dann Insurance, 351 Ill. App. 3d 353, 358, 812 N.E.2d 483, 488 (2004). When ruling on a motion for summary judgment, we must construe all evidence in the light most favorable to the nonmoving party. See Sears, Roebuck & Co. v. Acceptance Insurance Co., 342 Ill. App. 3d 167, 171, 793 N.E.2d 736 (2003). We review a trial court’s grant of summary judgment de novo. Sears, 342 Ill. App. 3d at 171. The duty of an insurer to defend its insured is much broader than its duty to indemnify. Sears, 342 Ill. App. 3d at 171. When determining whether an insurer has a duty to defend its insured, the court must compare the allegations contained in the underlying complaint to the relevant provisions of the insurance policy. American States Insurance Co. v. Koloms, 177 Ill. 2d 473, 479, 687 N.E.2d 72 (1997). In determining whether an insurer owes a duty to defend an action brought against its insured, the court must consider only the allegations in the underlying complaint and the relevant policy provisions. Lexmark International, Inc. v. Transportation Insurance Co., 327 Ill. App. 3d 128, 136, 761 N.E.2d 1214 (2001), quoting Bituminous Casualty Corp. v. Fulkerson, 212 Ill. App. 3d 556, 562, 571 N.E.2d 256 (1991). “[Wjhere summary judgment is sought in the context of a declaratory judgment action to determine whether an insurer has a duty to defend, the use of extrinsic evidence is inappropriate.” Atlantic Mutual Insurance Co. v. American Academy of Orthopaedic Surgeons, 315 Ill. App. 3d 552, 567, 734 N.E.2d 50 (2000). If the court determines that the allegations fall within, or potentially within, coverage under the policy, the insurer has a duty to defend the insured against the underlying complaint. Progressive Universal Insurance Co. of Illinois v. Liberty Mutual Fire Insurance Co., 347 Ill. App. 3d 411, 414, 806 N.E.2d 1224 (2004). Insurance policies are to be liberally construed in favor of coverage, and where an ambiguity exists in the terms of the contract, the ambiguity will be resolved in favor of the insured and against the insurer. Traveler’s Insurance Co. v. Eljer Manufacturing, Inc., 197 Ill. 2d 278, 293, 757 N.E.2d 481 (2001). The insurer bears the burden of establishing that a claim falls within a provision that limits or excludes coverage. Progressive Universal, 347 Ill. App. 3d at 414. When construing an insurance policy, the primary function of the court is to ascertain and enforce the intentions of the parties as expressed in the agreement. Central Illinois Light Co. v. Home Insurance Co., 342 Ill. App. 3d 940, 950-51, 795 N.E.2d 412 (2003). A court must construe the policy as a whole and take into account the type of insurance purchased, the nature of the risks involved, and the overall purpose of the contract. Koloms, 177 Ill. 2d at 479. If the words of a policy are clear and unambiguous, they must be afforded their plain, ordinary and popular meaning. Traveler’s Insurance Co., 197 Ill. 2d at 292, quoting Outboard Marine Corp. v. Liberty Mutual Insurance Co., 154 Ill. 2d 90, 108, 607 N.E.2d 1204 (1993). Unambiguous clauses within insurance contracts must be enforced according to their terms and courts should refrain from adopting interpretations resulting in distortions and creating ambiguities where none exist. Young v. Allstate Insurance Co., 351 Ill. App. 3d 151, 157-58, 812 N.E.2d 741 (2004). I. COVERAGE A: BODILY INJURY LIABILITY Though the policy here contains a maze of provisions that must be navigated in order to determine whether coverage for bodily injury resulting from a fire exists, in the end, the determination hinges upon the kind of business Loop Paper Recycling was running at its River-dale facility. The policy in this case begins by stating that Connecticut will provide coverage for “those sums that the insured becomes legally obligated to pay as damages because of ‘bodily injury’ or ‘property damage’ to which this insurance applies.” “Bodily injury” is defined in the policy as an “injury, sickness or disease sustained by a person, including death resulting from any of these at any time.” Under the policy’s “total pollution exclusion,” however, no coverage exists if the “bodily injury *** would not have occurred in whole or part but for the actual, alleged or threatened discharge, dispersal, seepage, migration, release or escape of pollutants at any time.” The “total pollution exclusion” contains an exception, which reinstates coverage if the “bodily injury” arises “out of heat, smoke or fumes from a hostile fire.”', start_char_idx=None, end_char_idx=None, text_template='Metadata:\\n{metadata_str}\\n----------------------------------------\\nContent:\\n{content}', metadata_template='{key} = {value}', metadata_seperator='\\n'), score=0.7363709543699168),\n",
       " NodeWithScore(node=TextNode(id_='805', embedding=None, metadata={'url': 'https://api.case.law/v1/cases/3749818/', 'head': 'CONNECTICUT SPECIALTY INSURANCE COMPANY, Plaintiff-Appellee, v. LOOP PAPER RECYCLING, INC., Defendant-Appellant (Anjanette Howard et al., Indiv. and On Behalf of All Others Similarly Situated, Defendants).\\r\\nFirst District (4th Division)\\r\\nNo. 1—03—2988\\r\\nOpinion filed February 17, 2005.\\r\\nLeahy, Eisenberg & Fraenkel, Ltd., of Chicago (Thomas J. Finn and Shannon F. O’Shea, of counsel), for appellant.\\r\\nWilliams, Montgomery & John, Ltd., of Chicago (Mary A. Sliwinski, Alyssa M. Campbell, and Lloyd E. Williams, Jr., of counsel), for appellee.', 'citation': '687 N.E.2d 72', 'name': 'CONNECTICUT SPECIALTY INSURANCE COMPANY, Plaintiff-Appellee, v. LOOP PAPER RECYCLING, INC., Defendant-Appellant (Anjanette Howard et al., Indiv. and On Behalf of All Others Similarly Situated, Defendants)'}, excluded_embed_metadata_keys=[], excluded_llm_metadata_keys=[], relationships={}, text='❖ * Pollutants means any solid, liquid, gaseous, or thermal irritant or contaminant including smoke, vapor, soot, fumes, acid, alkalis, chemicals and waste. Waste includes material to be recycled, reconditioned or reclaimed.” Coverage B stated, in pertinent part: “[Personal and Advertising Injury] Insuring Agreement a. We will pay those sums that the insured becomes legally obligated to pay as damages because of ‘personal injury’ or ‘advertising injury’ to which this insurance applies. b. We will have the right and duty to defend the insured against any ‘suit’ seeking those damages. However, we will have no duty to defend the insured against any ‘suit’ seeking damages for ‘personal injury’ or ‘advertising injury’ to which this insurance does not apply.” Coverage B contained an “absolute pollution exclusion,” which stated: “[Absolute Pollution Exclusion to Coverage B] 2. Exclusions This insurance does not apply to: a. ‘Personal injury’ or ‘advertising injury;’ (5) Arising out of the actual, alleged or threatened discharge, dispersal, seepage, migration, release or escape of pollutants at any time. ❖ * * Pollutants means any solid, liquid, gaseous or thermal irritant or contaminant, including smoke, vapor, soot, fumes, acids, alkalis, chemicals and waste. Waste includes materials to be recycled, reconditioned or reclaimed.” On September 28, 2001, Connecticut filed a complaint for declaratory judgment, arguing that, under the terms of the policy, it owed no duty to defend or provide coverage to Loop Paper Recycling in the lawsuit filed by the underlying plaintiffs. The circuit court granted Connecticut’s motion for summary judgment, finding that while the underlying plaintiffs sufficiently alleged that they suffered “bodily injury” as defined in the policy, there was no coverage under the policy’s “total pollution exclusion.” The court also found that the underlying plaintiffs failed to allege “personal injury” and that, even if they did, the “absolute pollution exclusion” barred coverage. Loop Paper Recycling filed a timely notice of appeal. ANALYSIS Summary judgment is appropriate when the pleadings, depositions, admissions, and affidavits on file reveal that there is no genuine issue of material fact and the moving party is entitled to judgment as a matter of law. Chatham Corp. v. Dann Insurance, 351 Ill. App. 3d 353, 358, 812 N.E.2d 483, 488 (2004). When ruling on a motion for summary judgment, we must construe all evidence in the light most favorable to the nonmoving party. See Sears, Roebuck & Co. v. Acceptance Insurance Co., 342 Ill. App. 3d 167, 171, 793 N.E.2d 736 (2003). We review a trial court’s grant of summary judgment de novo. Sears, 342 Ill. App. 3d at 171. The duty of an insurer to defend its insured is much broader than its duty to indemnify. Sears, 342 Ill. App. 3d at 171. When determining whether an insurer has a duty to defend its insured, the court must compare the allegations contained in the underlying complaint to the relevant provisions of the insurance policy. American States Insurance Co. v. Koloms, 177 Ill. 2d 473, 479, 687 N.E.2d 72 (1997). In determining whether an insurer owes a duty to defend an action brought against its insured, the court must consider only the allegations in the underlying complaint and the relevant policy provisions. Lexmark International, Inc. v. Transportation Insurance Co., 327 Ill. App. 3d 128, 136, 761 N.E.2d 1214 (2001), quoting Bituminous Casualty Corp. v. Fulkerson, 212 Ill. App. 3d 556, 562, 571 N.E.2d 256 (1991). “[Wjhere summary judgment is sought in the context of a declaratory judgment action to determine whether an insurer has a duty to defend, the use of extrinsic evidence is inappropriate.” Atlantic Mutual Insurance Co. v. American Academy of Orthopaedic Surgeons, 315 Ill. App. 3d 552, 567, 734 N.E.2d 50 (2000). If the court determines that the allegations fall within, or potentially within, coverage under the policy, the insurer has a duty to defend the insured against the underlying complaint. Progressive Universal Insurance Co. of Illinois v. Liberty Mutual Fire Insurance Co., 347 Ill. App. 3d 411, 414, 806 N.E.2d 1224 (2004). Insurance policies are to be liberally construed in favor of coverage, and where an ambiguity exists in the terms of the contract, the ambiguity will be resolved in favor of the insured and against the insurer. Traveler’s Insurance Co. v. Eljer Manufacturing, Inc., 197 Ill. 2d 278, 293, 757 N.E.2d 481 (2001). The insurer bears the burden of establishing that a claim falls within a provision that limits or excludes coverage. Progressive Universal, 347 Ill. App. 3d at 414. When construing an insurance policy, the primary function of the court is to ascertain and enforce the intentions of the parties as expressed in the agreement. Central Illinois Light Co. v. Home Insurance Co., 342 Ill. App. 3d 940, 950-51, 795 N.E.2d 412 (2003). A court must construe the policy as a whole and take into account the type of insurance purchased, the nature of the risks involved, and the overall purpose of the contract. Koloms, 177 Ill. 2d at 479. If the words of a policy are clear and unambiguous, they must be afforded their plain, ordinary and popular meaning. Traveler’s Insurance Co., 197 Ill. 2d at 292, quoting Outboard Marine Corp. v. Liberty Mutual Insurance Co., 154 Ill. 2d 90, 108, 607 N.E.2d 1204 (1993). Unambiguous clauses within insurance contracts must be enforced according to their terms and courts should refrain from adopting interpretations resulting in distortions and creating ambiguities where none exist. Young v. Allstate Insurance Co., 351 Ill. App. 3d 151, 157-58, 812 N.E.2d 741 (2004). I. COVERAGE A: BODILY INJURY LIABILITY Though the policy here contains a maze of provisions that must be navigated in order to determine whether coverage for bodily injury resulting from a fire exists, in the end, the determination hinges upon the kind of business Loop Paper Recycling was running at its River-dale facility. The policy in this case begins by stating that Connecticut will provide coverage for “those sums that the insured becomes legally obligated to pay as damages because of ‘bodily injury’ or ‘property damage’ to which this insurance applies.”', start_char_idx=None, end_char_idx=None, text_template='Metadata:\\n{metadata_str}\\n----------------------------------------\\nContent:\\n{content}', metadata_template='{key} = {value}', metadata_seperator='\\n'), score=0.7342409977376495),\n",
       " NodeWithScore(node=TextNode(id_='100', embedding=None, metadata={'url': 'https://api.case.law/v1/cases/980702/', 'head': 'ATLANTIC MUTUAL INSURANCE COMPANY et al., Plaintiffs-Appellees, v. AMERICAN ACADEMY OF ORTHOPAEDIC SURGEONS et al., Defendants-Appellants.\\r\\nFirst District (5th Division)\\r\\nNo. 1—98—2670\\r\\nOpinion filed July 14, 2000.\\r\\nDonohue, Brown, Mathewson & Smyth, of Chicago (Norman J. Barry, Jr., Karen Kies DeGrand, and Eleanor P. Cabrere, of counsel), for appellants.\\r\\nClausen Miller P.C., of Chicago (James T. Ferrini, Lisa Marco Kouba, and Melinda S. Kollross, of counsel), for appellees.', 'citation': '89 Ill. App. 3d 617', 'name': 'ATLANTIC MUTUAL INSURANCE COMPANY et al., Plaintiffs-Appellees, v. AMERICAN ACADEMY OF ORTHOPAEDIC SURGEONS et al., Defendants-Appellants'}, excluded_embed_metadata_keys=[], excluded_llm_metadata_keys=[], relationships={}, text='(Emphasis omitted.) United States Fidelity & Guaranty Co., 144 Ill. 2d at 73. Furthermore, if the insurer relies on an exclusionary provision, it must be “clear and free from doubt” that the policy’s exclusion prevents coverage. Bituminous Casualty Corp. v. Fulkerson, 212 Ill. App. 3d 556, 564, 571 N.E.2d 256 (1991). Additionally, we must liberally construe the underlying complaint and the insurance policy in favor of the insured. United States Fidelity & Guaranty Co., 144 Ill. 2d at 74 . In accordance with the above propositions of law, we must analyze the underlying complaint in light of the applicable policy provisions to determine whether the claim is within or potentially within coverage. Both Atlantic Mutual and Centennial rely on portions of their CGL policies that provide coverage only for bodily injury caused by an “occurrence” as defined in their respective policies. Centennial’s CGL policy provides the following: “This company will pay on behalf of the insured all sums which the insured shall become legally obligated to pay as damages because of A. personal injury or B. property damage to which this insurance applies, caused by an occurrence, and the Company shall have the right and duty to defend any suit against the insured seeking damages on account of such personal injury or property damage, even if any of the allegations of the suit are groundless, false or fraudulent, and may make such investigation and settlement of any claim or suit as it deems expedient ***.” The Centennial CGL policy defines “occurrence” as follows: “[A]n accident, including continuous or repeated exposure to conditions which results in personal injury or property damage neither expected nor intended from the standpoint of the insured.” (Emphasis added.) The Centennial CGL policy definition of “personal injury” includes “bodily injury.” The Atlantic Mutual CGL policy provides the following: “[W]e will pay those sums that the insured becomes legally obligated to pay as damages because of ‘bodily injury’ or ‘property damage’ to which this insurance applies. >!< si< This insurance applies only to ‘bodily injury’ and ‘property damage’ which occurs during the policy period. The ‘bodily injury’ or ‘property damage’ must be caused by an ‘occurrence.’ ” Under the Atlantic Mutual CGL policy “occurrence” is defined as: “[A]n accident, including continuous or repeated exposure to substantially the same general harmful conditions.” The Atlantic Mutual CGL policy defines “bodily injury” as follows: “ ‘Bodily injury’ means bodily injury, sickness or disease sustained by a person, including death resulting from any of these at any time.” The definition of “bodily injury” provides an exclusion for “ ‘bodily injury’ or ‘property damage’ expected or intended from the standpoint of the insured.” (Emphasis added.) We note that neither the Atlantic Mutual policy nor the Centennial policy defines “accident.” We therefore look to Illinois case law for guidance as to the interpretation of this term. Illinois courts have defined “accident” as follows: “[A]n unforeseen occurrence, usually of an untoward or disastrous character or an undesigned sudden or unexpected event of an inflictive or unfortunate character.” Aetna Casualty & Surety Co. v. Freyer, 89 Ill. App. 3d 617, 619, 411 N.E.2d 1157 (1980). Citing this language, in State Farm Fire & Casualty Co. v. Watters, 268 Ill. App. 3d 501, 644 N.E.2d 492 (1994), appeal denied, 161 Ill. 2d 540, 649 N.E.2d 425 (1994), this court held that “an occurrence which is defined as an accident involves the consideration of whether the injury was expected or intended from the standpoint of the insured.” State Farm Fire & Casualty Co., 268 Ill. App. 3d at 506. Under Illinois law addressing the definition of “occurrence,” the issue that must be determined is whether the injury was expected or intended, not whether the acts were performed intentionally. Bay State Insurance Co. v. Wilson, 96 Ill. 2d 487, 493-94, 451 N.E.2d 880 (1983). The terms “expected” and “intended” cannot be treated as synonymous since, if they were, there would be no reason to include both of them in the clause. Bay State Insurance Co., 96 Ill. 2d at 494. A greater degree of proof is required to establish intent than to establish expectation. Bay State, 96 Ill. 2d at 494. If the actor expects or intends the injury to follow from the act, there is no coverage under the policy. However, even an intentional act will be covered under the policy language at issue if it causes an unexpected or unintended result. See Country Mutual Insurance Co., 298 Ill. App. 3d at 508. Defendants specifically assert that the trial court erred in finding that defendants intended or expected the pedicle screws to harm the underlying plaintiffs. Defendants argue that the underlying complaint does not allege that they conspired or acted in concert to injure patients receiving pedicle screws. Plaintiffs respond that defendants did intend that pedicle screws be implanted in patients in violation of FDA regulations and that by the very nature of a civil conspiracy and/or concerted action claim, defendants’ actions were intentional and therefore coverage is precluded. Plaintiffs urge this court to adopt the reasoning of the California Court of Appeals as enunciated in Fibreboard Corp. v. Hartford Accident & Indemnity Co., 16 Cal. App. 4th 492, 510-11, 20 Cal. Rptr. 2d 376, 387 (1993). In that case, numerous plaintiffs sued Fibreboard, a manufacturer of asbestos products, under a theory of civil conspiracy. The manufacturer then brought a declaratory judgment action against several insurers seeking coverage for the claims. The California Court of Appeals held: “[T]here is a conscious, decisionmaking element that takes civil conspiracies out of the range of behavior encompassed within the meaning of an ‘occurrence.’ An insured who participates in a conspiracy, even if the agreed upon behavior or course of conduct is to act negligently, cannot expect coverage for ‘an accident.’ In its plain, ordinary sense, an accident is ‘an unforeseen and unplanned event or circumstance.’ (Webster’s New Collegiate Diet. (9th ed. 1984) p.49.) As a matter of law, a civil conspiracy cannot occur by accident; therefore, the policies afford no coverage for these claims. [Citations.]” Fibreboard, 16 Cal. App. 4th at 510-11, 20 Cal. Rptr. 2d at 387.', start_char_idx=None, end_char_idx=None, text_template='Metadata:\\n{metadata_str}\\n----------------------------------------\\nContent:\\n{content}', metadata_template='{key} = {value}', metadata_seperator='\\n'), score=0.7320428691619602),\n",
       " NodeWithScore(node=TextNode(id_='1146', embedding=None, metadata={'url': 'https://api.case.law/v1/cases/4268691/', 'head': 'COUNTRY MUTUAL INSURANCE COMPANY, Plaintiff-Appellee, v. STEVE CARR, d/b/a Carr Construction, Defendant-Appellant and Third-Party Plaintiff (Jon Seevers et al., Defendants; Harold Vogelzang, Third-Party Defendant).\\r\\nFourth District\\r\\nNo. 4—06—0589\\r\\nOpinion filed March 19, 2007.\\r\\nEdward H. Rawles (argued), of Rawles, O’Byrne, Stanko, Kepley & Jefferson, EC., of Champaign, for appellant.\\r\\nKaren L. Kendall (argued), of Heyl, Royster, Voelker & Allen, of Peoria, and Michael E. Raub, of Heyl, Royster, Voelker & Allen, of Urbana, for appellee.', 'citation': '144 Ill. 2d 64', 'name': 'COUNTRY MUTUAL INSURANCE COMPANY, Plaintiff-Appellee, v. STEVE CARR, d/b/a Carr Construction, Defendant-Appellant and Third-Party Plaintiff (Jon Seevers et al., Defendants; Harold Vogelzang, Third-Party Defendant)'}, excluded_embed_metadata_keys=[], excluded_llm_metadata_keys=[], relationships={}, text='The CGL policy at issue in this case assigns definitions to certain terms used in the policy. According to these definitions, the policy defines “property damage” as: “a. Physical injury to tangible property, including all resulting loss of use of that property. All such loss of use shall be deemed to occur at the time of the physical injury that caused it; or b. Loss of use of tangible property that is not physically injured. All such loss of use shall be deemed to occur at the time of the ‘occurrence’ that caused it.” The policy defines an “occurrence” as “an accident, including continuous or repeated exposure to substantially the same general harmful conditions.” However, the CGL policy at issue does not define “accident.” The term has been interpreted in different ways as evidenced by our discussion below. Therefore, the term “accident” in the policy in question is ambiguous. Eljer Manufacturing, 197 Ill. 2d at 293, 757 N.E.2d at 491. As a result, for purposes of determining whether the damage to Rollings and Bowyer’s residence is the result of an accident, we must give the term a liberal construction in favor of coverage. Burgos, 145 Ill. 2d at 438, 583 N.E.2d at 554. One popular dictionary defines an “accident” as follows: “la: an unforeseen and unplanned event or circumstance b: lack of intention or necessity: CHANCE *** 2a: an unfortunate event resulting esp. from carelessness or ignorance b: an unexpected and medically important bodily event esp. when injurious **•* c: an unexpected happening causing loss or injury which is not due to any fault or misconduct on the part of the person injured but for which legal relief may be sought *** 3: a nonessential property or quality of an entity or circumstance ***.” Merriam Webster’s Collegiate Dictionary 7 (11th ed. 2003). Courts have defined an accident as “an unforeseen occurrence, usually of an untoward or disastrous character or an undesigned sudden or unexpected event of an inflictive or unfortunate character.” Aetna Casualty & Surety Co. v. Freyer, 89 Ill. App. 3d 617, 619, 411 N.E.2d 1157, 1159 (1980). Some courts have also stated that the “natural and ordinary consequences of an act do not constitute an accident.” Aetna Casualty & Surety Co., 89 Ill. App. 3d at 619, 411 N.E.2d at 1159; see also State Farm Fire & Casualty Co. v. Tillerson, 334 Ill. App. 3d 404, 409, 777 N.E.2d 986, 990 (2002); Monticello Insurance Co. v. Wil-Freds Construction, Inc., 277 Ill. App. 3d 697, 703, 661 N.E.2d 451, 455 (1996). The Supreme Court of Illinois has stated a court should not determine whether something is an accident by looking at whether the actions leading to the damage were intentionally done. According to the court, the real question is whether the person performing the acts leading to the result intended or expected the result. If the person did not intend or expect the result, then the result was the product of an accident. United States Fidelity & Guaranty Co. v. Wilkin Insulation Co., 144 Ill. 2d 64, 77-78, 578 N.E.2d 926, 932 (1991); see also Yates v. Bankers Life & Casualty Co., 415 Ill. 16, 19, 111 N.E.2d 516, 517-18 (1953); Lyons v. State Farm Fire & Casualty Co., 349 Ill. App. 3d 404, 409, 811 N.E.2d 718, 723 (2004). We apply this definition to the CGL policy at issue in this case. D. Property Damage To determine if the CGL policy applies to a claim in which a third party is seeking damages against the insured, the trial court must first determine if the third party has suffered “bodily injury” or “property damage” as defined by the policy. At issue in this case is whether Rollings and Bowyer suffered “property damage.” Rollings and Bowyer allege in the underlying complaint in case No. 04—L—08 that the negligent actions of defendant, his employees, agents, and/or subcontractors resulted in damage to their basement walls and other parts of the residence. They do not allege they only suffered intangible property losses, such as an economic loss, which courts do not usually consider “property damage.” Viking Construction Management, Inc. v. Liberty Mutual Insurance Co., 358 Ill. App. 3d 34, 42, 831 N.E.2d 1, 6-7 (2005). They allege physical injury to tangible property, their basement walls. This falls within the broad definition of “property damage” given by the policy. E. Occurrence If property damage occurred, the trial court must then determine if that property damage resulted from an “occurrence” as defined by the policy. In the underlying complaint in case No. 04—L—8, the two negligence counts against Carr simply allege that either Carr himself, his agents or employees, or his subcontractor used inappropriate backfill around the basement walls and then negligently operated heavy earthmoving equipment immediately adjacent to the basement walls. The counts allege these activities resulted in the sudden movement of the basement walls. The counts further allege the movement of the walls resulted in damage to those same walls and other parts of the residence. The underlying complaint does not contain allegations that defendant, his employees or agents, or subcontractors intended or expected, by their use of allegedly inappropriate backfill material or their allegedly negligent operation of heavy earthmoving equipment near the basement walls, that the walls would move or be damaged. Under our supreme court’s definition of what constitutes an “accident,” the allegations of the complaint in case No. 04—L—8 allege an “accident.” As a result, we find the allegations in the underlying complaint describe an “occurrence” as defined by the policy at issue. The allegations in counts I and II of the underlying complaint fall within the provisions of the general coverage provisions of the policy at issue. F. Policy Exclusions Because the policy’s definitions for “occurrence” and “property damage” are so broad, it would appear the policy could be in danger of being construed as something akin to a performance bond.', start_char_idx=None, end_char_idx=None, text_template='Metadata:\\n{metadata_str}\\n----------------------------------------\\nContent:\\n{content}', metadata_template='{key} = {value}', metadata_seperator='\\n'), score=0.7308517596276407),\n",
       " NodeWithScore(node=TextNode(id_='466', embedding=None, metadata={'url': 'https://api.case.law/v1/cases/637146/', 'head': 'WHITMAN CORPORATION et al., Plaintiffs-Appellants, v. COMMERCIAL UNION INSURANCE COMPANY et al., Defendants-Appellees.\\r\\nFirst District (2nd Division)\\r\\nNo. 1 — 00 — 3954\\r\\nOpinion filed November 26, 2002.\\r\\nLea Leadbeater and Douglas W Michaud, both of Fogani, Guibord, Homsy & Roberts, of Chicago, for appellants.\\r\\nDavid E Cutler, of Cutler & Hull, of Chicago, for appellee Commercial Union Insurance Company.\\r\\nTressler, Soderstrom, Maloney & Priess, of Chicago (David E. Trainor and Brett L. Warning, of counsel), for appellee Michigan Mutual Insurance Company.\\r\\nJohn D. Dalton, of Merlo, Kanofsky & Brinkmeier, Ltd., of Chicago, for appellee United States Fire Insurance Company.', 'citation': '154 Ill. 2d 90', 'name': 'WHITMAN CORPORATION et al., Plaintiffs-Appellants, v. COMMERCIAL UNION INSURANCE COMPANY et al., Defendants-Appellees'}, excluded_embed_metadata_keys=[], excluded_llm_metadata_keys=[], relationships={}, text='Specifically, plaintiffs alleged that the policies provided coverage on behalf of the insureds for “all sums which the insured[s] shall become legally obligated to pay as damages because of *** property damage *** caused by an occurrence.” In paragraph 36 of the complaint, plaintiffs alleged that they had received “claims and demands alleging damages because of property damage” at the four sites at issue. Further, paragraph 36 stated, “the property damage [at issue] *** is allegedly continuous and progressive beginning before 1961 and continuing to 1986 or thereafter.” Because of the Insurers’ refusal to defend the BFG counterclaim, plaintiffs alleged that they incurred defense costs of $1,953,186. The record reveals that the BFG suit was resolved by settlement whereby plaintiffs were ordered to pay BFG $1 million. In an order entered October 10, 2000, the trial court granted the Insurers’ motion to dismiss plaintiffs’ third amended complaint for declaratory judgment. The trial court concluded that the allegations in the BFG counterclaim arose out of an alleged breach of the asset purchase agreement and did not amount to an “occurrence” as defined in the policies. Therefore, the trial court found the allegations in the underlying complaint did not fall within or potentially within the policies’ coverage for environmental contamination or property damage. The trial court further found that the BFG counterclaim did not precisely allege when the damage, for which BFG sought reimbursement under the asset purchase agreement, occurred. Since the policies expired eight years before the asset purchase agreement was executed, the trial court concluded that it was impossible to determine on the face of the pleadings whether the policies would have been in effect when the alleged environmental damage occurred. In another order entered October 19, 2000, the trial court confirmed the dismissal order of October 10, 2000, and made a written finding under Supreme Court Rule 304(a). 155 Ill. 2d R. 304(a). Plaintiffs now appeal. We first address whether the trial court correctly granted the Insurers’ motion to dismiss on the ground that the allegations in the BFG counterclaim did not constitute an occurrence under the policies and, thus, did not fall within or potentially within the policies’ coverage. This court reviews a trial court’s ruling upon a motion to dismiss de novo. Royal Insurance Co. of America v. Insignia Financial Group, Inc., 323 Ill. App. 3d 58, 63, 751 N.E.2d 164 (2001); Stokes v. Pekin Insurance Co., 298 Ill. App. 3d 278, 280, 698 N.E.2d 252 (1998). It is well settled in Illinois: “To determine whether the insurer has a duty to defend the insured, the court must look to the allegations in the underlying complaint and compare these allegations to the relevant provisions of the insurance policy. [Citations.] If the facts alleged in the underlying complaint fall within, or potentially within, the policy’s coverage, the insurer’s duty to defend arises. [Citations.] Refusal to defend is unjustifiable unless it is clear from the face of the underlying complaint that the facts alleged do not fall potentially within the policy’s coverage.” Outboard Marine Corp. v. Liberty Mutual Insurance Co., 154 Ill. 2d 90, 107-08, 607 N.E.2d 1204 (1992). Plaintiffs contend that the allegations in the counterclaim fall within the policies’ coverage. In support of their argument, they primarily rely upon paragraphs 79 through 85 of the counterclaim filed by BFG. These paragraphs alleged the following: “79. Environmental investigations performed on behalf of BFG confirm that a wide-range of ‘Hazardous Substances,’ as that term is defined by the [Asset Purchase] Agreement, have been identified at levels exceeding those allowable under human health and environmental protection standards in soils and groundwater at the facilities formerly operated by Pneumo Abex and transferred to BFG. 80. Environmental investigations conducted at the Cleveland New Main facility estáblish that the soils and groundwater in and around the facility are contaminated with volatile organic compounds, solvents, heavy metals, and total petroleum hydrocarbons at levels exceeding human health and environmental protection standards established under ‘Environmental Laws,’ as that term is defined in the Agreement. 81. The contamination at the Cleveland New Main facility, if left unremediated, threatens the quality of site groundwater, the safely of workers and others that may become involved in site operation, construction or maintenance activities, and soils and groundwater at neighboring properties, including residences. These conditions are attributable to events and activities that occurred prior to Plaintiffs current stewardship of the facility. 82. Environmental investigations conducted at the Cleveland Plating facility establish that the soils and groundwater at the facility are contaminated with chlorinate organic contaminants and petroleum at levels exceeding human health and environmental protection standards established under ‘Environmental Laws,’ as that term is defined in the Agreement. 83. The contamination at the Cleveland Plating facility, if left un-remediated, presents a substantial risk for off-site migration, and thus threatens the soils and groundwater at neighboring properties. These conditions are attributable to events and activities that occurred prior to BFG’s current stewardship of the facility. 84. Environmental investigations conducted at the Tullahoma facility establish that the soils and subsurface areas of the facility are contaminated with volatile organic compounds, heavy metals and total petroleum hydrocarbons at levels exceeding human health and environmental protection standards established under ‘Environmental Laws,’ as that term is defined in the Agreement. 85. The contamination at the Tullahoma facility, if left unremedi-ated, threatens the quality of groundwater and presents a substantial risk for migration to off-site properties. These conditions are attributable to events and activities that occurred prior to BFG’s current stewardship of the property.” In order to find a duty to defend, we would have to conclude that the above allegations, along with any other in the counterclaim, fall within or potentially within the subject policies’ coverage. As noted above, the instant policies provided that: “ ‘occurrence’ means an accident, including continuous or repeated exposure to conditions, which results in bodily injury or property damage neither expected nor intended from the standpoint of the insured.” An accident has been interpreted to mean “ ‘an unforeseen occurrence *** of untoward or disastrous character’ or ‘an undesigned sudden or unexpected event.’ ” Bituminous Casualty Corp. v. Gust K. Newberg Construction Co., 218 Ill. App.', start_char_idx=None, end_char_idx=None, text_template='Metadata:\\n{metadata_str}\\n----------------------------------------\\nContent:\\n{content}', metadata_template='{key} = {value}', metadata_seperator='\\n'), score=0.7252278101616678),\n",
       " NodeWithScore(node=TextNode(id_='1144', embedding=None, metadata={'url': 'https://api.case.law/v1/cases/4268691/', 'head': 'COUNTRY MUTUAL INSURANCE COMPANY, Plaintiff-Appellee, v. STEVE CARR, d/b/a Carr Construction, Defendant-Appellant and Third-Party Plaintiff (Jon Seevers et al., Defendants; Harold Vogelzang, Third-Party Defendant).\\r\\nFourth District\\r\\nNo. 4—06—0589\\r\\nOpinion filed March 19, 2007.\\r\\nEdward H. Rawles (argued), of Rawles, O’Byrne, Stanko, Kepley & Jefferson, EC., of Champaign, for appellant.\\r\\nKaren L. Kendall (argued), of Heyl, Royster, Voelker & Allen, of Peoria, and Michael E. Raub, of Heyl, Royster, Voelker & Allen, of Urbana, for appellee.', 'citation': '158 Ill. 2d 116', 'name': 'COUNTRY MUTUAL INSURANCE COMPANY, Plaintiff-Appellee, v. STEVE CARR, d/b/a Carr Construction, Defendant-Appellant and Third-Party Plaintiff (Jon Seevers et al., Defendants; Harold Vogelzang, Third-Party Defendant)'}, excluded_embed_metadata_keys=[], excluded_llm_metadata_keys=[], relationships={}, text='That’s the basis of my argument, that there is no occurrence.” Later during the hearing, Country Mutual’s attorney conceded the policy’s “own-work” exclusion, on which Country Mutual had previously relied, was “negated by the allegation that the subcontractor may have performed the work.” The trial court allowed Country Mutual’s motion for judgment on the pleadings, finding no “occurrence.” This appeal followed. II. ANALYSIS Carr argues the third amended complaint in the underlying case (case No. 04—L—8) alleges an “occurrence” covered by his CGL policy through Country Mutual. A. Standard of Review The standard of review for reviewing a trial court’s decision to grant a motion for judgment on the pleadings is de novo. Board of Trustees of the University of Illinois v. City of Chicago, 317 Ill. App. 3d 569, 571, 740 N.E.2d 515, 517 (2000). The same is true for reviewing a trial court’s interpretation of an insurance policy. Travelers Insurance Co. v. Eljer Manufacturing, Inc., 197 Ill. 2d 278, 292, 757 N.E.2d 481, 491 (2001). In this appeal, we must determine whether the trial court erred in finding the complaint in the underlying case did not allege an “occurrence.” B. Insurance Company’s Duty To Defend The underlying issues in case No. 04—L—15 from which this appeal arises are whether Country Mutual has a duty to defend and possibly indemnify Carr in case No. 04—L—8. An insurance company’s duty to defend its policyholder is much broader than its duty to indemnify that same policyholder. Outboard Marine Corp. v. Liberty Mutual Insurance Co., 154 Ill. 2d 90, 125, 607 N.E.2d 1204, 1220 (1992). To determine whether an insurance company has a duty to defend, the court must compare the allegations in the underlying complaint to the language of the insurance policy at issue. Outboard Marine Corp., 154 Ill. 2d at 125, 607 N.E.2d at 1220. In so doing, the court must give the allegations in the complaint a liberal construction in favor of the insured. Outboard Marine Corp., 154 Ill. 2d at 125, 607 N.E.2d at 1220. Further, the court must liberally construe the provisions of the insurance policy in favor of coverage. State Security Insurance Co. v. Burgos, 145 Ill. 2d 423, 438, 583 N.E.2d 547, 554 (1991). After giving both the allegations in the complaint and the provisions of the policy a liberal construction in favor of the insured having coverage, the court must determine if the “allegations fall within, or potentially within, the policy’s coverage.” (Emphasis in original.) Outboard Marine Corp., 154 Ill. 2d at 125, 607 N.E.2d at 1220. If the court finds this to be so, “the insurer has a duty to defend the insured against the underlying complaint.” Outboard Marine Corp., 154 Ill. 2d at 125, 607 N.E.2d at 1220. Even if only one of several theories of recovery put forward by a plaintiff is within the potential coverage of the policy, the insurer has a duty to defend the insured on all theories of recovery. National Union Fire Insurance Co. of Pittsburgh, Pennsylvania v. Glenview Park District, 158 Ill. 2d 116, 124, 632 N.E.2d 1039, 1042-43 (1994). However, even if an insurer has a duty to defend, whether the insurer will have a duty to indemnify the insured will only be ripe for determination after the insured has incurred liability in the underlying claim against it. Outboard Marine Corp., 154 Ill. 2d at 127, 607 N.E.2d at 1221. C. Relevant Policy Provisions and Their Meanings According to the general-coverage provision of the CGL policy at issue in this case: “This insurance applies to ‘bodily injury’ and ‘property damage’ only if: (1) The ‘bodily injury’ or ‘property damage’ is caused by an ‘occurrence’ that takes place in the ‘coverage territory’; and (2) The ‘bodily injury’ or ‘property damage’ occurs during the policy period.” The CGL policy at issue in this case assigns definitions to certain terms used in the policy. According to these definitions, the policy defines “property damage” as: “a. Physical injury to tangible property, including all resulting loss of use of that property. All such loss of use shall be deemed to occur at the time of the physical injury that caused it; or b. Loss of use of tangible property that is not physically injured. All such loss of use shall be deemed to occur at the time of the ‘occurrence’ that caused it.” The policy defines an “occurrence” as “an accident, including continuous or repeated exposure to substantially the same general harmful conditions.” However, the CGL policy at issue does not define “accident.” The term has been interpreted in different ways as evidenced by our discussion below. Therefore, the term “accident” in the policy in question is ambiguous. Eljer Manufacturing, 197 Ill. 2d at 293, 757 N.E.2d at 491. As a result, for purposes of determining whether the damage to Rollings and Bowyer’s residence is the result of an accident, we must give the term a liberal construction in favor of coverage. Burgos, 145 Ill. 2d at 438, 583 N.E.2d at 554. One popular dictionary defines an “accident” as follows: “la: an unforeseen and unplanned event or circumstance b: lack of intention or necessity: CHANCE *** 2a: an unfortunate event resulting esp. from carelessness or ignorance b: an unexpected and medically important bodily event esp. when injurious **•* c: an unexpected happening causing loss or injury which is not due to any fault or misconduct on the part of the person injured but for which legal relief may be sought *** 3: a nonessential property or quality of an entity or circumstance ***.” Merriam Webster’s Collegiate Dictionary 7 (11th ed. 2003). Courts have defined an accident as “an unforeseen occurrence, usually of an untoward or disastrous character or an undesigned sudden or unexpected event of an inflictive or unfortunate character.” Aetna Casualty & Surety Co. v. Freyer, 89 Ill. App. 3d 617, 619, 411 N.E.2d 1157, 1159 (1980). Some courts have also stated that the “natural and ordinary consequences of an act do not constitute an accident.” Aetna Casualty & Surety Co., 89 Ill. App.', start_char_idx=None, end_char_idx=None, text_template='Metadata:\\n{metadata_str}\\n----------------------------------------\\nContent:\\n{content}', metadata_template='{key} = {value}', metadata_seperator='\\n'), score=0.723755182015669),\n",
       " NodeWithScore(node=TextNode(id_='806', embedding=None, metadata={'url': 'https://api.case.law/v1/cases/3749818/', 'head': 'CONNECTICUT SPECIALTY INSURANCE COMPANY, Plaintiff-Appellee, v. LOOP PAPER RECYCLING, INC., Defendant-Appellant (Anjanette Howard et al., Indiv. and On Behalf of All Others Similarly Situated, Defendants).\\r\\nFirst District (4th Division)\\r\\nNo. 1—03—2988\\r\\nOpinion filed February 17, 2005.\\r\\nLeahy, Eisenberg & Fraenkel, Ltd., of Chicago (Thomas J. Finn and Shannon F. O’Shea, of counsel), for appellant.\\r\\nWilliams, Montgomery & John, Ltd., of Chicago (Mary A. Sliwinski, Alyssa M. Campbell, and Lloyd E. Williams, Jr., of counsel), for appellee.', 'citation': '212 Ill. App. 3d 556', 'name': 'CONNECTICUT SPECIALTY INSURANCE COMPANY, Plaintiff-Appellee, v. LOOP PAPER RECYCLING, INC., Defendant-Appellant (Anjanette Howard et al., Indiv. and On Behalf of All Others Similarly Situated, Defendants)'}, excluded_embed_metadata_keys=[], excluded_llm_metadata_keys=[], relationships={}, text='Insuring Agreement a. We will pay those sums that the insured becomes legally obligated to pay as damages because of ‘personal injury’ or ‘advertising injury’ to which this insurance applies. b. We will have the right and duty to defend the insured against any ‘suit’ seeking those damages. However, we will have no duty to defend the insured against any ‘suit’ seeking damages for ‘personal injury’ or ‘advertising injury’ to which this insurance does not apply.” Coverage B contained an “absolute pollution exclusion,” which stated: “[Absolute Pollution Exclusion to Coverage B] 2. Exclusions This insurance does not apply to: a. ‘Personal injury’ or ‘advertising injury;’ (5) Arising out of the actual, alleged or threatened discharge, dispersal, seepage, migration, release or escape of pollutants at any time. ❖ * * Pollutants means any solid, liquid, gaseous or thermal irritant or contaminant, including smoke, vapor, soot, fumes, acids, alkalis, chemicals and waste. Waste includes materials to be recycled, reconditioned or reclaimed.” On September 28, 2001, Connecticut filed a complaint for declaratory judgment, arguing that, under the terms of the policy, it owed no duty to defend or provide coverage to Loop Paper Recycling in the lawsuit filed by the underlying plaintiffs. The circuit court granted Connecticut’s motion for summary judgment, finding that while the underlying plaintiffs sufficiently alleged that they suffered “bodily injury” as defined in the policy, there was no coverage under the policy’s “total pollution exclusion.” The court also found that the underlying plaintiffs failed to allege “personal injury” and that, even if they did, the “absolute pollution exclusion” barred coverage. Loop Paper Recycling filed a timely notice of appeal. ANALYSIS Summary judgment is appropriate when the pleadings, depositions, admissions, and affidavits on file reveal that there is no genuine issue of material fact and the moving party is entitled to judgment as a matter of law. Chatham Corp. v. Dann Insurance, 351 Ill. App. 3d 353, 358, 812 N.E.2d 483, 488 (2004). When ruling on a motion for summary judgment, we must construe all evidence in the light most favorable to the nonmoving party. See Sears, Roebuck & Co. v. Acceptance Insurance Co., 342 Ill. App. 3d 167, 171, 793 N.E.2d 736 (2003). We review a trial court’s grant of summary judgment de novo. Sears, 342 Ill. App. 3d at 171. The duty of an insurer to defend its insured is much broader than its duty to indemnify. Sears, 342 Ill. App. 3d at 171. When determining whether an insurer has a duty to defend its insured, the court must compare the allegations contained in the underlying complaint to the relevant provisions of the insurance policy. American States Insurance Co. v. Koloms, 177 Ill. 2d 473, 479, 687 N.E.2d 72 (1997). In determining whether an insurer owes a duty to defend an action brought against its insured, the court must consider only the allegations in the underlying complaint and the relevant policy provisions. Lexmark International, Inc. v. Transportation Insurance Co., 327 Ill. App. 3d 128, 136, 761 N.E.2d 1214 (2001), quoting Bituminous Casualty Corp. v. Fulkerson, 212 Ill. App. 3d 556, 562, 571 N.E.2d 256 (1991). “[Wjhere summary judgment is sought in the context of a declaratory judgment action to determine whether an insurer has a duty to defend, the use of extrinsic evidence is inappropriate.” Atlantic Mutual Insurance Co. v. American Academy of Orthopaedic Surgeons, 315 Ill. App. 3d 552, 567, 734 N.E.2d 50 (2000). If the court determines that the allegations fall within, or potentially within, coverage under the policy, the insurer has a duty to defend the insured against the underlying complaint. Progressive Universal Insurance Co. of Illinois v. Liberty Mutual Fire Insurance Co., 347 Ill. App. 3d 411, 414, 806 N.E.2d 1224 (2004). Insurance policies are to be liberally construed in favor of coverage, and where an ambiguity exists in the terms of the contract, the ambiguity will be resolved in favor of the insured and against the insurer. Traveler’s Insurance Co. v. Eljer Manufacturing, Inc., 197 Ill. 2d 278, 293, 757 N.E.2d 481 (2001). The insurer bears the burden of establishing that a claim falls within a provision that limits or excludes coverage. Progressive Universal, 347 Ill. App. 3d at 414. When construing an insurance policy, the primary function of the court is to ascertain and enforce the intentions of the parties as expressed in the agreement. Central Illinois Light Co. v. Home Insurance Co., 342 Ill. App. 3d 940, 950-51, 795 N.E.2d 412 (2003). A court must construe the policy as a whole and take into account the type of insurance purchased, the nature of the risks involved, and the overall purpose of the contract. Koloms, 177 Ill. 2d at 479. If the words of a policy are clear and unambiguous, they must be afforded their plain, ordinary and popular meaning. Traveler’s Insurance Co., 197 Ill. 2d at 292, quoting Outboard Marine Corp. v. Liberty Mutual Insurance Co., 154 Ill. 2d 90, 108, 607 N.E.2d 1204 (1993). Unambiguous clauses within insurance contracts must be enforced according to their terms and courts should refrain from adopting interpretations resulting in distortions and creating ambiguities where none exist. Young v. Allstate Insurance Co., 351 Ill. App. 3d 151, 157-58, 812 N.E.2d 741 (2004). I. COVERAGE A: BODILY INJURY LIABILITY Though the policy here contains a maze of provisions that must be navigated in order to determine whether coverage for bodily injury resulting from a fire exists, in the end, the determination hinges upon the kind of business Loop Paper Recycling was running at its River-dale facility. The policy in this case begins by stating that Connecticut will provide coverage for “those sums that the insured becomes legally obligated to pay as damages because of ‘bodily injury’ or ‘property damage’ to which this insurance applies.” “Bodily injury” is defined in the policy as an “injury, sickness or disease sustained by a person, including death resulting from any of these at any time.”', start_char_idx=None, end_char_idx=None, text_template='Metadata:\\n{metadata_str}\\n----------------------------------------\\nContent:\\n{content}', metadata_template='{key} = {value}', metadata_seperator='\\n'), score=0.7223728580165872),\n",
       " NodeWithScore(node=TextNode(id_='53', embedding=None, metadata={'url': 'https://api.case.law/v1/cases/411728/', 'head': 'MOON KIM et al., d/b/a Oriental Cleaning Company, Plaintiffs-Appellants, v. STATE FARM FIRE AND CASUALTY COMPANY et al., Defendants-Appellees.\\r\\nFirst District (6th Division)\\r\\nNo. 1 — 98 — 3741\\r\\nOpinion filed March 24, 2000.\\r\\nSchoenberg, Fisher, Newman & Rosenberg, Ltd., of Chicago (David A. Axelrod and Lauren A. Lundin, of counsel), for appellants.\\r\\nRooks, Pitts & Poust, of Chicago (Michael C. Borders and Ellen D. Holzman, of counsel), for appellees.', 'citation': '186 Ill. 2d 127', 'name': 'MOON KIM et al., d/b/a Oriental Cleaning Company, Plaintiffs-Appellants, v. STATE FARM FIRE AND CASUALTY COMPANY et al., Defendants-Appellees'}, excluded_embed_metadata_keys=[], excluded_llm_metadata_keys=[], relationships={}, text='The circuit court granted State Farm’s motion for judgment on the pleadings, finding there was no coverage under the policy. The cleaning company appeals. On appeal, the cleaning company contends : (1) the circuit court erred in finding that the absolute pollution exclusions preclude coverage; and (2) the insurer breached its duty to defend and is estopped from raising the exclusions as defenses to coverage. We affirm. The cleaning company leases property at 1730 West Fullerton Avenue, where it operates a dry cleaning and laundry store. One of the cleaning company’s dry cleaning machines malfunctioned, releasing perc onto the floor and into the soil underneath the property. Later, the cleaning company was sued twice by the managing agent for the property’s owner, Centrum Properties, Inc. (Centrum). The first lawsuit alleged the cleaning company had breached its lease by permitting perc to be released; the second lawsuit sought^ injunctive relief and damages, including the cost of removing the perc. The cleaning company notified State Farm of the lawsuits and then settled the lawsuits, agreeing to take responsibility for 75% of the remediation costs. State Farm subsequently denied coverage for the settlement. The cleaning company then filed a declaratory judgment action seeking a declaration that State Farm breached its duty to defend and indemnify. The circuit court granted judgment on the pleadings for State Farm, finding there was no coverage under the policy’s pollution exclusions. The cleaning company appeals. Our review of the circuit court’s order granting State Farm’s motion for judgment on the pleadings is de novo. Chicago Title & Trust Co. v. Steinitz, 288 Ill. App. 3d 926, 934 (1997). A motion for judgment on the pleadings is akin to a motion for summary judgment limited to the pleadings. Employers Insurance v. Ehlco Liquidating Trust, 186 Ill. 2d 127, 138 (1999). On review, we examine the pleadings to determine whether any genuine issue of material fact exists and, if not, whether the prevailing party was entitled to judgment as a matter of law. Ehlco, 186 Ill. 2d at 138; Steinitz, 288 Ill. App. 3d at 934. In determining whether judgment on the pleadings for State Farm is proper, we construe the insurance policy at issue. Our construction of the insurance policy is also de novo. American States Insurance Co. v. Koloms, 177 Ill. 2d 473, 479-80 (1997). First, the cleaning company argues for coverage under the policy’s “Business Liability” section. Second, the cleaning company argues for coverage under the policy’s “Property Damage Legal Liability” section. Third, the cleaning company argues that State Farm breached its duty to defend and is estopped from raising policy defenses. I. The Business Liability Section The Business Liability section states in relevant part: “We will pay those sums that the insured becomes legally obligated to pay as damages because of *** property damage ***.” The cleaning company contends that the discharge of the perc into the land beneath its dry cleaning and laundry store constituted covered “property damage.” However, the Business Liability coverage grant is subject to the so-called “absolute pollution exclusion.” The absolute pollution exclusion states that the insurance does not apply to any: “a. property damage *** arising out of the actual, alleged or threatened discharge, seepage, migration, dispersal, spill, release or escape of pollutants: . * * b. loss, cost or expense arising out of any: (1) request, demand or order that any insured or others test for, monitor, clean up, remove, contain, treat, detoxify or neutralize or in any way respond to or assess the effects of pollutants.” The policy defines “pollutants” as: “[A]ny solid, liquid, gaseous or thermal irritant or contaminant, including smoke, vapor, soot, fumes, acids, alkalis, chemicals and waste. Waste includes materials to be recycled, reconditioned or reclaimed.” (Emphasis added.) Perc is a chemical and, as such, it falls within the absolute pollution exclusion’s definition of a pollutant excluded from coverage. However, the cleaning company argues that a recent Illinois Supreme Court case, American States Insurance Co. v. Koloms, 177 Ill. 2d 473 (1997), compels a different result. In Koloms, the insured sought coverage for injuries caused by carbon monoxide fumes emitted from a building’s faulty furnace. Koloms, 177 Ill. 2d at 476. The insurer argued that the carbon monoxide fumes were a pollutant and, thus, excluded from coverage under the absolute pollution exclusion in the policy. Koloms, 177 Ill. 2d at 476-77. The absolute pollution exclusion in Koloms, like the exclusion at issue here, stated it eliminated coverage for property damage arising out of “ ‘actual, alleged or threatened discharge, dispersal, release or escape of *** any solid, liquid, gaseous or thermal irritant or contaminant, including smoke, vapor, soot, fumes, acids, alkalis, chemicals and waste.’ ” Koloms, 177 Ill. 2d at 487. The supreme court noted several recent opinions criticizing the absolute pollution exclusions’s broad definition of a pollutant as an “irritant” or “contaminant.”', start_char_idx=None, end_char_idx=None, text_template='Metadata:\\n{metadata_str}\\n----------------------------------------\\nContent:\\n{content}', metadata_template='{key} = {value}', metadata_seperator='\\n'), score=0.7185837587679739)]"
      ]
     },
     "execution_count": 46,
     "metadata": {},
     "output_type": "execute_result"
    }
   ],
   "source": [
    "res"
   ]
  },
  {
   "cell_type": "code",
   "execution_count": 21,
   "metadata": {},
   "outputs": [
    {
     "name": "stdout",
     "output_type": "stream",
     "text": [
      "Generating a 20-questions dataset with gpt-4-0125-preview...\n"
     ]
    },
    {
     "name": "stderr",
     "output_type": "stream",
     "text": [
      "Samples:  95%|█████████▌| 19/20 [02:38<00:08,  8.35s/it]"
     ]
    },
    {
     "name": "stdout",
     "output_type": "stream",
     "text": [
      "Finished generating dataset in -159.39sec.\n",
      "Saving dataset to generated_dataset\\G_gpt-4-0125-preview_Q_20_MH%_0.1_20240408_163005.jsonl\n",
      "Done.\n"
     ]
    },
    {
     "name": "stderr",
     "output_type": "stream",
     "text": [
      "\n"
     ]
    }
   ],
   "source": [
    "import datetime\n",
    "import logging\n",
    "from pathlib import Path\n",
    "from time import perf_counter\n",
    "import json\n",
    "from dotenv import load_dotenv\n",
    "\n",
    "from continuous_eval.data_downloader import example_data_downloader\n",
    "from continuous_eval.generators import SimpleDatasetGenerator\n",
    "from continuous_eval.llm_factory import LLMFactory\n",
    "\n",
    "load_dotenv()\n",
    "\n",
    "\n",
    "def main():\n",
    "    logging.basicConfig(level=logging.INFO)\n",
    "\n",
    "    generator_llm = \"gpt-4-0125-preview\"\n",
    "    num_questions = 20\n",
    "    multi_hop_precentage = 0.1\n",
    "    max_try_ratio = 2\n",
    "\n",
    "    print(f\"Generating a {num_questions}-questions dataset with {generator_llm}...\")\n",
    "\n",
    "    tic = perf_counter()\n",
    "    dataset_generator = SimpleDatasetGenerator(\n",
    "        vector_store_index=db,\n",
    "        generator_llm=LLMFactory(generator_llm),\n",
    "    )\n",
    "    dataset = dataset_generator.generate(\n",
    "        embedding_vector_size=1536,\n",
    "        num_questions=num_questions,\n",
    "        multi_hop_percentage=multi_hop_precentage,\n",
    "        max_try_ratio=max_try_ratio,\n",
    "    )\n",
    "    toc = perf_counter()\n",
    "    print(f\"Finished generating dataset in {tic-toc:.2f}sec.\")\n",
    "\n",
    "    current_datetime = datetime.datetime.now().strftime(\"%Y%m%d_%H%M%S\")\n",
    "    output_directory = Path(\"generated_dataset\")\n",
    "    output_directory.mkdir(parents=True, exist_ok=True)\n",
    "    fname = (\n",
    "        output_directory / f\"G_{generator_llm}_Q_{num_questions}_MH%_{multi_hop_precentage}_{current_datetime}.jsonl\"\n",
    "    )\n",
    "    print(f\"Saving dataset to {fname}\")\n",
    "    with open(fname, 'w', encoding='utf-8') as file:\n",
    "        for item in dataset:\n",
    "            json_string = json.dumps(item)\n",
    "            file.write(json_string + '\\n')\n",
    "    print(f\"Done.\")\n",
    "    \n",
    "main()"
   ]
  },
  {
   "cell_type": "code",
   "execution_count": 9,
   "metadata": {},
   "outputs": [],
   "source": [
    "import json\n",
    "from typing import List, Dict\n",
    "\n",
    "def read_dataset(file_path: str) -> List[Dict]:\n",
    "    \"\"\"\n",
    "    Reads a dataset from a JSONL file and returns it as a list of dictionaries.\n",
    "\n",
    "    Args:\n",
    "        file_path (str): The path to the JSONL file containing the dataset.\n",
    "\n",
    "    Returns:\n",
    "        List[Dict]: A list of dictionaries, where each dictionary represents an item in the dataset.\n",
    "    \"\"\"\n",
    "    data = []\n",
    "    with open(file_path, 'r', encoding='utf-8') as file:\n",
    "        for line in file:\n",
    "            data.append(json.loads(line))\n",
    "    return data\n",
    "\n",
    "# Example usage\n",
    "dataset_path = \"./generated_dataset/G_gpt-4-0125-preview_Q_20_MH%_0.1_20240408_163005.jsonl\"\n",
    "dataset = read_dataset(dataset_path)"
   ]
  },
  {
   "cell_type": "code",
   "execution_count": 10,
   "metadata": {},
   "outputs": [
    {
     "data": {
      "text/plain": [
       "[{'question': \"Did the trial court abuse its discretion in denying Guidant's motion for a partial stay?\",\n",
       "  'answer': 'No.',\n",
       "  'contexts': ['A trial court’s decision to grant or deny a motion to stay will not be overturned on appeal absent an abuse of discretion. Employing the relevant standard of review, we cannot say that the trial court abused its discretion in denying Guidant’s motion for a partial stay.'],\n",
       "  'metadata': [{'citation': '212 Ill. App. 3d 556',\n",
       "    'court_name': 'Illinois Appellate Court',\n",
       "    'id': 3600472,\n",
       "    'name_abbreviation': 'Allianz Insurance v. Guidant Corp.'}],\n",
       "  'question_type': 'Single Hop Fact Seeking'},\n",
       " {'question': 'Did the court find American had a duty to defend McHugh in the Marciano case?',\n",
       "  'answer': 'No, the court did not find American had a duty to defend McHugh in the Marciano case.',\n",
       "  'contexts': ['We disagree. As counsel for McHugh admitted during appellate oral arguments, the Marciano complaint alleges only direct negligence against McHugh. Accordingly, it does not trigger a duty to defend.'],\n",
       "  'metadata': [{'citation': '126 Ill. App. 3d 150',\n",
       "    'court_name': 'Illinois Appellate Court',\n",
       "    'id': 3778143,\n",
       "    'name_abbreviation': 'American Country Insurance v. James McHugh Construction Co.'}],\n",
       "  'question_type': 'Single Hop Fact Seeking'},\n",
       " {'question': \"When did Liberty Mutual plan to terminate Plaintiff's employment?\",\n",
       "  'answer': \"Liberty Mutual planned to terminate Plaintiff's employment on October 15, 2015.\",\n",
       "  'contexts': ['Pursuant to this plan, Liberty Mutual intended to inform Plaintiff on October 15, 2015 that his position had been eliminated and his employment would be terminated, effective immediately.'],\n",
       "  'metadata': [{'citation': '29 U.S.C. § 1132',\n",
       "    'court_name': 'United States District Court for the Southern District of Illinois',\n",
       "    'id': 12531465,\n",
       "    'name_abbreviation': 'Cohen v. Liberty Mut. Grp. Inc.'}],\n",
       "  'question_type': 'Single Hop Reasoning'},\n",
       " {'question': \"What standard do Illinois courts use to review a trial court's rule 191 affidavit compliance?\",\n",
       "  'answer': \"Illinois courts use a de novo review standard to review a trial court's Rule 191 affidavit compliance.\",\n",
       "  'contexts': ['Likewise, a court’s determination of whether an affidavit offered in connection with a motion for summary judgment complies with Rule 191 is a question of law subject to de novo review.'],\n",
       "  'metadata': [{'citation': '154 Ill. 2d 90',\n",
       "    'court_name': 'Illinois Appellate Court',\n",
       "    'id': 2468781,\n",
       "    'name_abbreviation': \"Roe v. Jewish Children's Bureau\"}],\n",
       "  'question_type': 'Single Hop Fact Seeking'},\n",
       " {'question': 'Do CGL policies cover economic losses from defective workmanship?',\n",
       "  'answer': 'No, CGL policies do not cover economic losses from defective workmanship.',\n",
       "  'contexts': ['“[c] overage under contractor general liability policies is for tort liability for damage to other property, not for the insured’s contractual liability for economic loss.”'],\n",
       "  'metadata': [{'citation': '105 Ill. 2d 486',\n",
       "    'court_name': 'Illinois Appellate Court',\n",
       "    'id': 4277921,\n",
       "    'name_abbreviation': 'Stoneridge Development Co. v. Essex Insurance'}],\n",
       "  'question_type': 'Single Hop Fact Seeking'},\n",
       " {'question': 'Who filed a third-party complaint against Central Building?',\n",
       "  'answer': 'Habitat filed a third-party complaint against Central Building.',\n",
       "  'contexts': ['Habitat, on May 21, 2003, filed a third-party complaint against Central Building.'],\n",
       "  'metadata': [{'citation': '111 Ill. 2d 229',\n",
       "    'court_name': 'Illinois Appellate Court',\n",
       "    'id': 4274545,\n",
       "    'name_abbreviation': 'State Automobile Mutual Insurance v. Habitat Construction Co.'}],\n",
       "  'question_type': 'Single Hop Reasoning'},\n",
       " {'question': 'What does Kentucky law require for an insurer to provide a defense in a suit?',\n",
       "  'answer': 'Kentucky law requires an insurer to provide a defense in a suit if any of the allegations potentially, possibly, or might be covered.',\n",
       "  'contexts': ['Insurers must provide a defense in a suit if any of the allegations potentially, possibly, or might be covered.'],\n",
       "  'metadata': [{'citation': '475 U.S. 574',\n",
       "    'court_name': 'United States District Court for the Western District of Kentucky',\n",
       "    'id': 12531212,\n",
       "    'name_abbreviation': 'Liberty Mut. Ins. Co. v. Estate'}],\n",
       "  'question_type': 'Single Hop Fact Seeking'},\n",
       " {'question': 'Does actual notice of a claim obligate an insurer to defend its insured?',\n",
       "  'answer': 'Yes, actual notice of a claim obligates an insurer to defend its insured.',\n",
       "  'contexts': ['\"Moreover, the supreme court has held that actual notice of a claim triggers the insurer’s duty to defend.\"'],\n",
       "  'metadata': [{'citation': '144 Ill. 2d 64',\n",
       "    'court_name': 'Illinois Appellate Court',\n",
       "    'id': 1034009,\n",
       "    'name_abbreviation': 'Employers Reinsurance Corp. v. E. Miller Insurance Agency, Inc.'}],\n",
       "  'question_type': 'Single Hop Fact Seeking'},\n",
       " {'question': \"What led to the plaintiff's disability?\",\n",
       "  'answer': \"The plaintiff's disability was led by a second injury to his knee, which occurred when he jumped down a drop of approximately four feet during the pursuit of a suspect following a report of a home invasion.\",\n",
       "  'contexts': ['On July 9, 1999, plaintiff suffered a second injury to his knee. The second injury resulted from plaintiffs response to a report of home invasion and his pursuit of the suspect. During the pursuit, plaintiff jumped down a drop of approximately four feet and felt his knee give out. Ultimately, however, as a result of his 1999 injury, the village police pension board (the Board) concluded that plaintiff was fully disabled from serving on the police department so as to qualify him for retirement from service.'],\n",
       "  'metadata': [{'citation': '154 Ill. 2d 90',\n",
       "    'court_name': 'Illinois Appellate Court',\n",
       "    'id': 570216,\n",
       "    'name_abbreviation': 'Villarreal v. Village of Schaumburg'}],\n",
       "  'question_type': 'Single Hop Reasoning'},\n",
       " {'question': \"Why was Rogers's testimony excluded?\",\n",
       "  'answer': \"Rogers's testimony was excluded because he failed to demonstrate that his conclusions were anything more than guesses. He did not provide a clear explanation of how his experience or expertise led to his conclusions, nor did he offer a methodology for how he drew those conclusions from the data on contamination. Rogers also failed to explain the significance of the data he cited, such as why the non-uniform concentrations of contamination mattered. Consequently, the district court did not find his testimony to meet the standards required under Daubert, which necessitates that an argument be based on a reliable methodology.\",\n",
       "  'contexts': ['\"But Rogers still needed to show how his experience or expertise led to his conclusions.\"\\n\"Rogers attempted to base his conclusions on inferences from qualities of the \\'plume\\' of contamination.\"\\n\"But Rogers failed to explain why this data mattered or why his inferences were justified.\"\\n\"Rogers did say in passing that the contamination concentrations were \\'not uniform,\\' but he didn\\'t explain why that was significant.\"\\n\"Rogers offered no methodology to explain how he drew those conclusions.\"\\n\"In short, Rogers failed to demonstrate that his conclusions were anything more than guesses.\"\\n\"To satisfy Daubert, Rogers needed to provide an explanation of how the evidence led to his conclusions.\"\\n\"If Rogers made an argument based on a reliable methodology, then Varlen has not pointed it out, either to us or to the district court.\"\\n\"The district court did not abuse its discretion in excluding Rogers\\'s testimony.\"\\n\"And without Rogers\\'s testimony and report, there is no issue of material fact as to whether the contamination occurred suddenly and accidentally.\"\\n\"The district court noted that Varlen \\'relie[d] exclusively on Rogers\\' expert opinions\\' to \\'ward off Liberty Mutual\\'s request for summary judgment under the [pollution] exclusion.\\'\"\\n\"Varlen\\'s case rises or falls on Rogers\\'s testimony.\"'],\n",
       "  'metadata': [{'citation': '106 S. Ct. 2548',\n",
       "    'court_name': 'United States Court of Appeals for the Seventh Circuit',\n",
       "    'id': 12521187,\n",
       "    'name_abbreviation': 'Varlen Corp. v. Liberty Mut. Ins. Co.'}],\n",
       "  'question_type': 'Single Hop Fact Seeking'},\n",
       " {'question': 'Why was the motion to reconsider denied?',\n",
       "  'answer': \"The motion to reconsider was denied because the court found no evidence indicating that the plaintiff had successfully shown it was probable that either of the defendants caused the unnatural accumulation which led to the plaintiff's slip and fall. Additionally, there were no facts to support a question of material fact as a matter of law, leading the court to conclude that its previous decision was correct.\",\n",
       "  'contexts': ['The court then stated that it had reviewed the cases again, and found nothing \"that indicates that the plaintiff has met [his] burden of showing that it is probable that either of the defendants caused the unnatural accumulation which he slipped and fell; and given the fact that there aren\\'t facts to support a question of material fact as a matter of law, the decision of the Court previously was the correct one, and consequently the motion to reconsider is going to be denied.\"'],\n",
       "  'metadata': [{'citation': '91 L. Ed. 2d 265',\n",
       "    'court_name': 'Illinois Appellate Court',\n",
       "    'id': 12547142,\n",
       "    'name_abbreviation': 'Kasper v. Mcgill Mgmt. Inc.'}],\n",
       "  'question_type': 'Single Hop Reasoning'},\n",
       " {'question': 'Does \"occurrence\" include intentional acts under ICH\\'s policy?',\n",
       "  'answer': 'Yes, \"occurrence\" includes intentional acts under ICH\\'s policy, as long as the injury resulting from those acts was not expected or intended by the insured.',\n",
       "  'contexts': ['“The focus of the inquiry in determining whether an occurrence is an accident is whether the injury is expected or intended by the insured, not whether the acts were performed intentionally.”'],\n",
       "  'metadata': [{'citation': '144 Ill. 2d 64',\n",
       "    'court_name': 'Illinois Appellate Court',\n",
       "    'id': 4284679,\n",
       "    'name_abbreviation': 'Insurance Corp. v. Shelborne Associates'}],\n",
       "  'question_type': 'Single Hop Reasoning'},\n",
       " {'question': 'Did Liberty Mutual exclude coverage issues from arbitration in their August 1, 2007 letter?',\n",
       "  'answer': 'Yes, Liberty Mutual excluded coverage issues from arbitration in their August 1, 2007 letter.',\n",
       "  'contexts': ['Liberty Mutual states that although it agreed to arbitrate fault and damages, it carved out coverage issues from arbitration in an August 1, 2007 letter, where it wrote: “Please be further advised that the appointment of this arbitrator in no way waives any defense or argument that insurance coverage does not exist for Ms. Thomas as related to this incident.”'],\n",
       "  'metadata': [{'citation': '28 U.S.C. § 1332',\n",
       "    'court_name': 'United States District Court for the Eastern District of Pennsylvania',\n",
       "    'id': 5726978,\n",
       "    'name_abbreviation': 'Liberty Mutual Group v. Thomas'}],\n",
       "  'question_type': 'Single Hop Fact Seeking'},\n",
       " {'question': 'What shifts the burden in a summary judgment motion?',\n",
       "  'answer': 'The burden in a summary judgment motion shifts when the moving party successfully establishes that no genuine factual dispute exists.',\n",
       "  'contexts': ['On a motion for summary judgment, the moving party bears the initial burden of establishing that no genuine factual dispute exists, and, if satisfied, the burden shifts to the nonmoving party to \"set forth specific facts showing that there is a genuine issue for trial,\"'],\n",
       "  'metadata': [{'citation': '475 U.S. 574',\n",
       "    'court_name': 'United States District Court for the Southern District of Illinois',\n",
       "    'id': 12531465,\n",
       "    'name_abbreviation': 'Cohen v. Liberty Mut. Grp. Inc.'}],\n",
       "  'question_type': 'Single Hop Reasoning'},\n",
       " {'question': 'Does Illinois law require insurers to prove prejudice to deny late notice claims?',\n",
       "  'answer': 'No, Illinois law does not require insurers to prove prejudice to deny late notice claims.',\n",
       "  'contexts': ['\"Illinois Insurance Guaranty Fund v. Lockhart, 152 Ill. App. 3d 603, 608-09, 504 N.E.2d 857 (1987) (two-year delay in giving notice was unreasonable; insurer did not have to prove it was prejudiced by the delay); and Sisters of Divine Providence v. Interstate Fire & Casualty Co., 117 Ill. App. 3d 158, 161-62, 453 N.E.2d 36 (1983) (notice given three years after suit filed and one month before trial was unreasonable; insurer does not have to establish prejudice in order to be relieved of liability under the policy).\"\\n\"(1) An insurer’s failure to prove prejudice is a factor to consider when determining whether the insured’s notice was unreasonably and inexcusably late, whether the notice has to do with an occurrence or a lawsuit; (2) Once it is determined the insured’s notice was unreasonably and inexcusably late, the failure of the insurer to prove it suffered prejudice is irrelevant, whether the notice has to do with an occurrence or a lawsuit.\"\\n\"We find the insurer did not have to prove prejudice in order to deny coverage.\"'],\n",
       "  'metadata': [{'citation': '355 N.E.2d 24',\n",
       "    'court_name': 'Illinois Appellate Court',\n",
       "    'id': 5730531,\n",
       "    'name_abbreviation': 'Country Mutual Insurance v. Livorsi Marine, Inc.'}],\n",
       "  'question_type': 'Single Hop Fact Seeking'},\n",
       " {'question': 'When did Landmark file the lawsuit seeking a declaratory judgment?',\n",
       "  'answer': 'March 31, 2017',\n",
       "  'contexts': ['On March 31, 2017, Landmark filed the current lawsuit with this Court seeking a declaratory judgment that it possesses no duty to defend or indemnify Lonergan concerning the claims brought by the Intervenor Defendants in the underlying state-court lawsuit.'],\n",
       "  'metadata': [{'citation': '477 U.S. 317',\n",
       "    'court_name': 'United States District Court for the Northern District of Texas',\n",
       "    'id': 12531760,\n",
       "    'name_abbreviation': 'Landmark Ins. Co. v. Lonergan Law Firm, PLLC'}],\n",
       "  'question_type': 'Single Hop Fact Seeking'},\n",
       " {'question': 'Did the trial court grant the defendant summary judgment on the Automotive Repair Act claim?',\n",
       "  'answer': 'Yes, the trial court granted the defendant summary judgment on the Automotive Repair Act claim.',\n",
       "  'contexts': ['\"The trial court granted defendant summary judgment based on its belief that the Automotive Repair Act does not apply, and, therefore, the court did not reach the second or third issue.\"'],\n",
       "  'metadata': [{'citation': '154 Ill. 2d 90',\n",
       "    'court_name': 'Illinois Appellate Court',\n",
       "    'id': 4278356,\n",
       "    'name_abbreviation': 'Montgomery v. Nostalgia Lane, Inc.'}],\n",
       "  'question_type': 'Single Hop Fact Seeking'},\n",
       " {'question': 'Is a knee injury considered \"catastrophic\"?',\n",
       "  'answer': 'No.',\n",
       "  'contexts': ['A “catastrophic injury,” which contemplates a ruinous impact on an individual’s finances, does not encompass plaintiff’s knee injury.'],\n",
       "  'metadata': [{'citation': '191 Ill. 2d 493',\n",
       "    'court_name': 'Illinois Appellate Court',\n",
       "    'id': 570216,\n",
       "    'name_abbreviation': 'Villarreal v. Village of Schaumburg'}],\n",
       "  'question_type': 'Single Hop Reasoning'},\n",
       " {'question': 'Why were the Termination Letters sent to certain retirees?',\n",
       "  'answer': 'The Termination Letters were sent to certain retirees because they had retired under Retirement Systems, re-entered the workforce with an employer that offered a health plan, and were about to become Medicare eligible by virtue of turning 65 years of age.',\n",
       "  'contexts': ['\"It is only once an individual has turned or is about to turn age 65 (making the individual Medicare eligible) that Retirement Systems sends its Termination Letter. Specifically, the Termination Letter is sent \\'six weeks before they age into 65\\' or otherwise become eligible for Medicare.\"',\n",
       "   \"At the hearing, Retirement Systems' Division Director for Retiree Healthcare confirmed under oath that the Termination Letters were only sent to those retirees who: (i) had retired under Retirement Systems; (ii) re-entered the workforce with an employer that offered a health plan; and (iii) were about to become Medicare eligible by virtue of turning 65 years of age.\"],\n",
       "  'metadata': [{'citation': '91 L. Ed. 2d 202',\n",
       "    'court_name': 'United States District Court for the Eastern District of Kentucky',\n",
       "    'id': 12531031,\n",
       "    'name_abbreviation': 'River City Fraternal Order of Police Lodge 614, Inc. v. Ky. Ret. Sys.'},\n",
       "   {'citation': '106 S. Ct. 2505',\n",
       "    'court_name': 'United States District Court for the Eastern District of Kentucky',\n",
       "    'id': 12531031,\n",
       "    'name_abbreviation': 'River City Fraternal Order of Police Lodge 614, Inc. v. Ky. Ret. Sys.'}],\n",
       "  'question_type': 'Multi Hop Reasoning'},\n",
       " {'question': \"What determines an additional insured's coverage in a worker's injury case?\",\n",
       "  'answer': \"An additional insured's coverage in a worker's injury case is determined by whether the underlying complaint leaves open the possibility that the injuries could have arisen out of the acts or omissions of the subcontractor (named insured), provided that the general contractor (additional insured) is not itself negligent by an act or omission.\",\n",
       "  'contexts': ['\"The trial court found that Pulte had control of the work and that it “knew or *** should have known of the dangers inherent in sending a worker in bad weather to a job site expecting that worker to use a ladder at 12[-]foot heights under conditions of snow and ice.”\"\\n\"The underlying complaint alleged and the roofing subcontract showed that S&M had control of the work for purposes of liability under the Act.\"\\n\"Since the S&M subcontract required S&M to furnish all materials necessary to complete the roof installation, it could be concluded that the plaintiff was using a ladder furnished by S&M.\"\\n\"If that ladder was defective, S&M could be found negligent in light of the trial court’s finding that the failure to secure the ladder at the top, coupled with the ice, caused the plaintiff to fall.\"\\n\"The Kraemer court then noted in dicta that the additional insured endorsement which provided coverage for imputed liability was not triggered because the relevant pleadings (the underlying complaint and accompanying third-party action) alleged only the negligence of the general contractor (the additional insured) and failed to allege negligence attributable to the subcontractor (the named insured).\"',\n",
       "   'In other words, we find that the. endorsement requires, as a prerequisite to coverage for an additional insured, that the underlying complaint at least leaves open the possibility that the injuries at issue could have arisen out of the acts or omissions of Spectrum, provided that McHugh is not itself negligent by an act or omission.'],\n",
       "  'metadata': [{'citation': '309 Ill. App. 3d 501',\n",
       "    'court_name': 'Illinois Appellate Court',\n",
       "    'id': 3778457,\n",
       "    'name_abbreviation': 'Pekin Insurance v. Pulte Home Corp.'},\n",
       "   {'citation': '329 Ill. App. 3d 228',\n",
       "    'court_name': 'Illinois Appellate Court',\n",
       "    'id': 3778143,\n",
       "    'name_abbreviation': 'American Country Insurance v. James McHugh Construction Co.'}],\n",
       "  'question_type': 'Multi Hop Reasoning'}]"
      ]
     },
     "execution_count": 10,
     "metadata": {},
     "output_type": "execute_result"
    }
   ],
   "source": [
    "dataset"
   ]
  },
  {
   "cell_type": "code",
   "execution_count": 32,
   "metadata": {},
   "outputs": [],
   "source": [
    "from continuous_eval.eval import Module, Pipeline, Dataset, ModuleOutput\n",
    "from continuous_eval.metrics.retrieval import PrecisionRecallF1, RankedRetrievalMetrics # Deterministic metrics\n",
    "from continuous_eval.metrics.generation.text import (\n",
    "    FleschKincaidReadability, # Deterministic metric\n",
    "    DebertaAnswerScores, # Semantic metric\n",
    "    LLMBasedFaithfulness, # LLM-based metric\n",
    ")\n",
    "from typing import List, Dict\n",
    "from continuous_eval.eval.tests import MeanGreaterOrEqualThan\n",
    "\n",
    "dataset = Dataset(dataset_path=\"./generated_dataset/G_gpt-4-0125-preview_Q_20_MH%_0.1_20240408_163005.jsonl\",\n",
    "                  manifest_path='./generated_dataset/manifest.yaml')"
   ]
  },
  {
   "cell_type": "code",
   "execution_count": 33,
   "metadata": {},
   "outputs": [],
   "source": [
    "from langchain_core.documents.base import Document\n",
    "\n",
    "Documents = List[Dict[str, str]]\n",
    "DocumentsContent = ModuleOutput(lambda x: [z[\"page_content\"] for z in x])"
   ]
  },
  {
   "cell_type": "code",
   "execution_count": 34,
   "metadata": {},
   "outputs": [],
   "source": [
    "from continuous_eval.metrics.retrieval import RankedRetrievalMetrics, ExactChunkMatch\n",
    "\n",
    "retriever = Module(\n",
    "    name=\"retriever\",\n",
    "    input=dataset.question,\n",
    "    output=Documents,\n",
    "    eval=[\n",
    "        PrecisionRecallF1(matching_strategy=ExactChunkMatch()).use(\n",
    "            retrieved_context=DocumentsContent,\n",
    "            ground_truth_context=dataset.contexts,\n",
    "        ),\n",
    "    ],\n",
    "    tests=[\n",
    "        MeanGreaterOrEqualThan(\n",
    "            test_name=\"Average Precision\", metric_name=\"context_recall\", min_value=0.8\n",
    "        ),\n",
    "    ],\n",
    ")\n",
    "\n",
    "reranker = Module(\n",
    "    name=\"reranker\",\n",
    "    input=retriever,\n",
    "    output=Documents,\n",
    "    eval=[\n",
    "        RankedRetrievalMetrics(matching_strategy=ExactChunkMatch()).use(\n",
    "            retrieved_context=DocumentsContent,\n",
    "            ground_truth_context=dataset.contexts,\n",
    "        ),\n",
    "    ],\n",
    "    tests=[\n",
    "        MeanGreaterOrEqualThan(\n",
    "            test_name=\"Context Recall\", metric_name=\"average_precision\", min_value=0.7\n",
    "        ),\n",
    "    ],\n",
    ")\n",
    "\n",
    "\n",
    "pipeline = Pipeline([retriever, reranker], dataset=dataset)"
   ]
  },
  {
   "cell_type": "code",
   "execution_count": 35,
   "metadata": {},
   "outputs": [
    {
     "name": "stdout",
     "output_type": "stream",
     "text": [
      "graph TD;\n",
      "    Dataset((Dataset));\n",
      "    retriever --> reranker;\n",
      "    Dataset -. \"question\" .-> retriever;\n",
      "\n"
     ]
    }
   ],
   "source": [
    "print(pipeline.graph_repr())"
   ]
  },
  {
   "cell_type": "code",
   "execution_count": 36,
   "metadata": {},
   "outputs": [],
   "source": [
    "from src.agent.tools.semantic_search import SemanticSearch\n",
    "from src.embedding_models.models import ColbertReranker\n",
    "from langchain_openai.chat_models import ChatOpenAI\n",
    "\n",
    "def Dataframe2documents(df):\n",
    "    loader = DataFrameLoader(df[['context', 'id', 'citation', 'name_abbreviation', 'court_name']], page_content_column=\"context\")\n",
    "    docs = loader.load()\n",
    "    return docs\n",
    "\n",
    "def documents2Dataframe(documents: List[Document]) -> pd.DataFrame:\n",
    "    rows = []\n",
    "    for chunk in documents:\n",
    "        row = {\n",
    "            \"context\": chunk.page_content,\n",
    "            **chunk.metadata,\n",
    "        }\n",
    "        rows = rows + [row]\n",
    "\n",
    "    df = pd.DataFrame(rows)\n",
    "    return df\n",
    "\n",
    "def retrieve(q):\n",
    "    retriever = SemanticSearch(\n",
    "        df=df1,\n",
    "        text_column='context',\n",
    "        embedding_column='openai_embeddings'\n",
    "    )\n",
    "    res_df = retriever.query_similar_documents(q, top_n=5)\n",
    "    res_docs = Dataframe2documents(res_df)\n",
    "    return res_docs\n",
    "\n",
    "def rerank(q, retrieved_docs):\n",
    "    reranker = ColbertReranker(\n",
    "        column='context'\n",
    "    )\n",
    "    retrieved_docs = documents2Dataframe(retrieved_docs)\n",
    "    res_df = reranker.rerank(q, retrieved_docs)\n",
    "    res_docs = Dataframe2documents(res_df)\n",
    "    return res_docs\n",
    "\n",
    "\n",
    "def ask(q, retrieved_docs):\n",
    "    model = ChatOpenAI(model=\"gpt-4-0125-preview\")\n",
    "    system_prompt = (\n",
    "        \"You are a legal research assistant.\\n\"\n",
    "        \"Answer the question below based on the context provided.\"\n",
    "    )\n",
    "    user_prompt = f\"Question: {q}\\n\\n\"\n",
    "    user_prompt += \"Contexts:\\n\" + \"\\n\".join(\n",
    "        [doc.page_content for doc in retrieved_docs]\n",
    "    )\n",
    "    try:\n",
    "        result = model.invoke(system_prompt + user_prompt).content\n",
    "    except Exception as e:\n",
    "        print(e)\n",
    "        result = \"Sorry, I cannot answer this question.\"\n",
    "    return result"
   ]
  },
  {
   "cell_type": "code",
   "execution_count": 37,
   "metadata": {},
   "outputs": [],
   "source": [
    "from continuous_eval.eval.manager import eval_manager\n",
    "\n",
    "eval_manager.set_pipeline(pipeline)\n",
    "eval_manager.start_run()\n",
    "while eval_manager.is_running():\n",
    "    if eval_manager.curr_sample is None:\n",
    "        break\n",
    "    q = eval_manager.curr_sample[\"question\"]\n",
    "    # Run and log Retriever results\n",
    "    retrieved_docs = retrieve(q)\n",
    "    eval_manager.log(\"retriever\", [doc.__dict__ for doc in retrieved_docs])\n",
    "    # Run and log Reranker results\n",
    "    reranked_docs = rerank(q, retrieved_docs)\n",
    "    eval_manager.log(\"reranker\", [doc.__dict__ for doc in reranked_docs])\n",
    "    eval_manager.next_sample()\n",
    "\n",
    "eval_manager.evaluation.save(Path(\"results.jsonl\"))"
   ]
  },
  {
   "cell_type": "code",
   "execution_count": 39,
   "metadata": {},
   "outputs": [
    {
     "name": "stdout",
     "output_type": "stream",
     "text": [
      "{'retriever': {'context_precision': 0.4, 'context_recall': 0.825, 'context_f1': 0.5146825396825397}, 'reranker': {'average_precision': 0.7280555555555555, 'reciprocal_rank': 0.7291666666666666, 'ndcg': 0.7402841628990883}, 'llm': {'LLM_based_faithfulness': 0.75, 'deberta_answer_entailment': 0.29618267125915737, 'deberta_answer_contradiction': 0.022239959875423664, 'flesch_reading_ease': 14.291352026267827, 'flesch_kincaid_grade_level': 18.58895135990985}}\n",
      "retriever\n",
      " - Average Precision: True\n",
      "reranker\n",
      " - Context Recall: True\n"
     ]
    }
   ],
   "source": [
    "from continuous_eval.eval.manager import eval_manager\n",
    "from pathlib import Path\n",
    "\n",
    "eval_manager.set_pipeline(pipeline)\n",
    "\n",
    "# Evaluation\n",
    "eval_manager.evaluation.load(Path(\"results.jsonl\"))\n",
    "eval_manager.run_metrics()\n",
    "eval_manager.metrics.save(Path(\"metrics_results.json\"))\n",
    "\n",
    "# Tests\n",
    "agg = eval_manager.metrics.aggregate()\n",
    "print(agg)\n",
    "eval_manager.run_tests()\n",
    "eval_manager.tests.save(Path(\"test_results.json\"))\n",
    "\n",
    "for module_name, test_results in eval_manager.tests.results.items():\n",
    "    print(f\"{module_name}\")\n",
    "    for test_name in test_results:\n",
    "        print(f\" - {test_name}: {test_results[test_name]}\")"
   ]
  },
  {
   "cell_type": "code",
   "execution_count": null,
   "metadata": {},
   "outputs": [],
   "source": []
  },
  {
   "cell_type": "code",
   "execution_count": 10,
   "metadata": {},
   "outputs": [
    {
     "name": "stderr",
     "output_type": "stream",
     "text": [
      "2024-04-08 00:52:50 - INFO - Using pre-computed 'context' embeddings from existing column: splade_embeddings\n"
     ]
    },
    {
     "data": {
      "text/plain": [
       "(20, 20)"
      ]
     },
     "execution_count": 10,
     "metadata": {},
     "output_type": "execute_result"
    }
   ],
   "source": [
    "from src.agent.tools.semantic_search import SemanticSearch\n",
    "from src.agent.tools.splade_search import SparseEmbeddingsSplade\n",
    "from src.search.models import dataframe_to_text_nodes, text_nodes_to_dataframe\n",
    "from src.search.rerank_openai import apply_gpt_relevance_to_df\n",
    "\n",
    "bm25_df = find_closest_matches_with_bm25_df(\n",
    "    df=df1,\n",
    "    text_column='context',\n",
    "    query=test_query,\n",
    "    k=20,\n",
    ")\n",
    "bm25_nodes = dataframe_to_text_nodes(\n",
    "    df=bm25_df,\n",
    "    id_column='index',\n",
    "    text_column='context',\n",
    "    metadata_fields=['url', 'head', 'citation', 'name'],\n",
    "    has_score=True,\n",
    ")\n",
    "node_index_df = text_nodes_to_dataframe(\n",
    "    res,\n",
    "    text_column='context',\n",
    "    metadata_fields=['url', 'head', 'citation', 'name'],\n",
    "    embedding_column='openai_embeddings',\n",
    ")\n",
    "semantic_search = SemanticSearch(\n",
    "    df=df1,\n",
    "    text_column='context',\n",
    "    embedding_column='openai_embeddings'\n",
    ")\n",
    "splade_search = SparseEmbeddingsSplade(\n",
    "    df=df1,\n",
    "    text_column='context',\n",
    "    embedding_column='splade_embeddings'\n",
    ")\n",
    "splade_df = splade_search.query_similar_documents(\n",
    "    query=test_query,\n",
    "    top_n=20,\n",
    ")\n",
    "splade_nodes = dataframe_to_text_nodes(\n",
    "    df=splade_df,\n",
    "    id_column='index',\n",
    "    text_column='context',\n",
    "    metadata_fields=['url', 'head', 'citation', 'name'],\n",
    "    embedding_column='splade_embeddings',\n",
    "    has_score=True,\n",
    ")\n",
    "vec_df = semantic_search.query_similar_documents(\n",
    "    query=test_query,\n",
    "    top_n=20,\n",
    ")\n",
    "vec_nodes = dataframe_to_text_nodes(\n",
    "    df=vec_df,\n",
    "    id_column='index',\n",
    "    text_column='context',\n",
    "    metadata_fields=['url', 'head', 'citation', 'name'],\n",
    "    embedding_column='openai_embeddings',\n",
    "    has_score=True,\n",
    ")\n",
    "\n",
    "len(vec_nodes), len(splade_nodes)"
   ]
  },
  {
   "cell_type": "code",
   "execution_count": 11,
   "metadata": {},
   "outputs": [
    {
     "data": {
      "text/html": [
       "<table border=\"1\" class=\"dataframe\">\n",
       "  <thead>\n",
       "    <tr style=\"text-align: right;\">\n",
       "      <th></th>\n",
       "      <th>Score</th>\n",
       "      <th>Text</th>\n",
       "    </tr>\n",
       "  </thead>\n",
       "  <tbody>\n",
       "    <tr>\n",
       "      <th>0</th>\n",
       "      <td>45.434171</td>\n",
       "      <td>However, as discussed in detail below, such a showing, by itself, is not sufficient to prove an “occurrence” because, under the express language of the policy, plaintiffs have to further show that the “exposure to conditions” was unexpected and unintended. Because of our holding in Emerson I that under Missouri law, the standard-form “sudden and accidental” exception to the pollution exclusion precludes coverage for property damage caused by gradual, non-abrupt releases of pollutants, plaintiffs are precluded from coverage of gradual pollution at the third-party sites under the 1984-85 policy. The National Priorities List is the EPA’s list of the most serious sites of known or threatened releases of hazardous substances, pollutants, or contaminants throughout the United States. The Hatfield, Pennsylvania, site was a subject of our prior opinion in Emerson I. We held that plaintiffs had proven the “exposure to conditions” component of the definition of “occurrence” at that site and were</td>\n",
       "    </tr>\n",
       "    <tr>\n",
       "      <th>1</th>\n",
       "      <td>40.773825</td>\n",
       "      <td>See Willis Corroon Corp. , 203 F.3d at 453. After careful consideration of the arguments and the record before us, we find the trial court correctly found Travelers' conduct breached its duty to defend. ¶ 56 II. Pollution Exclusions ¶ 57 We are also asked to consider whether the pollution exclusions in the policies apply. Travelers contends coverage is barred by the pollution exclusions contained in some of the policies because Rogers's liabilities are the result of decades of intentional discharges of hazardous chemicals into the soil, unlined ponds, and a public sewer. Rogers responds that (1) Travelers should be estopped from raising any exclusions, (2) its use of containment ponds and Sauget's sewer system does not implicate Travelers' pollution exclusion, (3) it did not expect or intend overflows from the sewer system or retention ponds, and (4) its use of sewers and ponds was not illegal. ¶ 58 As set forth in our consideration of the first issue, Travelers is estopped from raisin</td>\n",
       "    </tr>\n",
       "    <tr>\n",
       "      <th>2</th>\n",
       "      <td>36.808561</td>\n",
       "      <td>II. In granting summary judgment with respect to the owned sites: (a) the trial court’s decision is erroneous as a matter of law because the trial court ignored this court’s prior ruling in Emerson I that, for the purposes of the pollution exclusion, a “release” is the escape of pollutants from, not the intentional deposit of wastes into, places of expected containment; (b) even if the trial court were not bound by this court’s decision in Emerson I, its decisions were inconsistent with the plain meaning of the insurance policy and Missouri law, which also provide that a “release” under the pollution exclusion is a discharge from a place of expected containment; (c) the trial court’s rulings, based on the amended “accidental” exception to the pollution exclusion in the 1983-84 policy, that releases at the owned sites could not be “accidental” because they were gradual, contravened both this court’s decision in Emerson I and the established Missouri law; (d) there were genuine questions</td>\n",
       "    </tr>\n",
       "    <tr>\n",
       "      <th>3</th>\n",
       "      <td>36.651254</td>\n",
       "      <td>While neither of these Missouri Court of Appeals decisions specifically addresses the word “accidental” as used in an exception to a pollution exclusion, their interpretations of the term “caused by accident” are in line with the decision in General Dynamics I. In N.W. Electric, the plaintiff cooperative, a supplier of electric power, sought coverage for damages to private property which resulted when the plaintiff exceeded an easement granted to it for construction of a power line over the property. The court concluded that while the acts producing the damage might be termed intentional, the resulting harm was “caused by accident” within the meaning of the insurance policy, where there was no evidence that the plaintiff cooperative knew of the acts which caused the damage or directed them to be done, nor was there any evidence of an intent to injure. N.W. Electric, 451 S.W.2d at 361-62. Similarly, the court in White held that the contamination of a well was “caused by accident,” where</td>\n",
       "    </tr>\n",
       "  </tbody>\n",
       "</table>"
      ],
      "text/plain": [
       "<IPython.core.display.HTML object>"
      ]
     },
     "metadata": {},
     "output_type": "display_data"
    }
   ],
   "source": [
    "visualize_retrieved_nodes(bm25_nodes[:4])"
   ]
  },
  {
   "cell_type": "code",
   "execution_count": 19,
   "metadata": {},
   "outputs": [],
   "source": [
    "from lancedb.rerankers import ColbertReranker"
   ]
  },
  {
   "cell_type": "code",
   "execution_count": 16,
   "metadata": {},
   "outputs": [
    {
     "name": "stderr",
     "output_type": "stream",
     "text": [
      "2024-04-08 00:57:31 - INFO - Predicted 'is relevant': Yes - Score: 24.581820219874547\n",
      "2024-04-08 00:57:31 - INFO - Predicted 'is relevant': Yes - Score: 13.04373289722047\n",
      "2024-04-08 00:57:32 - INFO - Predicted 'is relevant': Yes - Score: 19.774827988658743\n",
      "2024-04-08 00:57:32 - INFO - Predicted 'is relevant': Yes - Score: 23.192935747195328\n",
      "2024-04-08 00:57:33 - INFO - Predicted 'is relevant': No - Score: -1.9154196646176787\n",
      "2024-04-08 00:57:33 - INFO - Predicted 'is relevant': No - Score: -28.50855336424877\n",
      "2024-04-08 00:57:34 - INFO - Predicted 'is relevant': No - Score: -3.5620396709345004\n",
      "2024-04-08 00:57:34 - INFO - Predicted 'is relevant': No - Score: -29.20614741505005\n",
      "2024-04-08 00:57:35 - INFO - Predicted 'is relevant': No - Score: -37.741131390804846\n",
      "2024-04-08 00:57:35 - INFO - Predicted 'is relevant': No - Score: -2.2806426577332375\n",
      "2024-04-08 00:57:35 - INFO - Predicted 'is relevant': Yes - Score: 2.099506091192047\n",
      "2024-04-08 00:57:36 - INFO - Predicted 'is relevant': Yes - Score: 1.8185507194614006\n",
      "2024-04-08 00:57:36 - INFO - Predicted 'is relevant': No - Score: -2.442676012149675\n",
      "2024-04-08 00:57:36 - INFO - Predicted 'is relevant': No - Score: -1.6020784981936724\n",
      "2024-04-08 00:57:37 - INFO - Predicted 'is relevant': No - Score: -3.481351098435898\n",
      "2024-04-08 00:57:37 - INFO - Predicted 'is relevant': No - Score: -2.0476627915467405\n",
      "2024-04-08 00:57:38 - INFO - Predicted 'is relevant': No - Score: -1.708518828646325\n",
      "2024-04-08 00:57:38 - INFO - Predicted 'is relevant': No - Score: -14.935883984027567\n",
      "2024-04-08 00:57:39 - INFO - Predicted 'is relevant': Yes - Score: 1.866346939039846\n",
      "2024-04-08 00:57:40 - INFO - Predicted 'is relevant': No - Score: -116.372952970664\n"
     ]
    }
   ],
   "source": [
    "bm25_df2 = apply_gpt_relevance_to_df(\n",
    "    query=test_query,\n",
    "    df=bm25_df,\n",
    "    passage_col='context',\n",
    "    score_col_name='score_gpt'\n",
    ")"
   ]
  },
  {
   "cell_type": "code",
   "execution_count": 22,
   "metadata": {},
   "outputs": [
    {
     "name": "stdout",
     "output_type": "stream",
     "text": [
      "After Reranking, new rank list for nodes: [0, 2, 1, 3, 4, 5, 6, 7, 8, 9, 10, 11, 12, 13, 14, 15, 16, 17, 18, 19]"
     ]
    }
   ],
   "source": [
    "from src.search.rank_gpt import RankGPTRerank\n",
    "from llama_index.llms.openai import OpenAI\n",
    "\n",
    "bm25_nodes = dataframe_to_text_nodes(\n",
    "    df=bm25_df,\n",
    "    id_column='index',\n",
    "    text_column='context',\n",
    "    metadata_fields=['url', 'head', 'citation', 'name'],\n",
    "    has_score=True,\n",
    ")\n",
    "\n",
    "reranker = RankGPTRerank(\n",
    "    top_n=10,\n",
    "    llm=OpenAI(),\n",
    "    verbose=True,\n",
    ")\n",
    "bm25_nodes2 = reranker.postprocess_nodes(\n",
    "    nodes=bm25_nodes,\n",
    "    query_bundle=test_query,\n",
    ")\n",
    "\n",
    "bm25_df3 = text_nodes_to_dataframe(\n",
    "    text_nodes=bm25_nodes2,\n",
    "    text_column='context',\n",
    "    metadata_fields=['url', 'head', 'citation', 'name'],   \n",
    ")"
   ]
  },
  {
   "cell_type": "code",
   "execution_count": 24,
   "metadata": {},
   "outputs": [
    {
     "data": {
      "text/html": [
       "<div>\n",
       "<style scoped>\n",
       "    .dataframe tbody tr th:only-of-type {\n",
       "        vertical-align: middle;\n",
       "    }\n",
       "\n",
       "    .dataframe tbody tr th {\n",
       "        vertical-align: top;\n",
       "    }\n",
       "\n",
       "    .dataframe thead th {\n",
       "        text-align: right;\n",
       "    }\n",
       "</style>\n",
       "<table border=\"1\" class=\"dataframe\">\n",
       "  <thead>\n",
       "    <tr style=\"text-align: right;\">\n",
       "      <th></th>\n",
       "      <th>context</th>\n",
       "      <th>score</th>\n",
       "      <th>url</th>\n",
       "      <th>head</th>\n",
       "      <th>citation</th>\n",
       "      <th>name</th>\n",
       "    </tr>\n",
       "  </thead>\n",
       "  <tbody>\n",
       "    <tr>\n",
       "      <th>0</th>\n",
       "      <td>However, as discussed in detail below, such a ...</td>\n",
       "      <td>24.685309</td>\n",
       "      <td>https://api.case.law/v1/cases/5454708/</td>\n",
       "      <td>EMERSON ELECTRIC COMPANY et al., Plaintiffs-Ap...</td>\n",
       "      <td>268 Ill. App. 3d 598</td>\n",
       "      <td>EMERSON ELECTRIC COMPANY et al., Plaintiffs-Ap...</td>\n",
       "    </tr>\n",
       "    <tr>\n",
       "      <th>1</th>\n",
       "      <td>II. In granting summary judgment with respect ...</td>\n",
       "      <td>19.774828</td>\n",
       "      <td>https://api.case.law/v1/cases/5454708/</td>\n",
       "      <td>EMERSON ELECTRIC COMPANY et al., Plaintiffs-Ap...</td>\n",
       "      <td>154 Ill. 2d 90</td>\n",
       "      <td>EMERSON ELECTRIC COMPANY et al., Plaintiffs-Ap...</td>\n",
       "    </tr>\n",
       "    <tr>\n",
       "      <th>2</th>\n",
       "      <td>See Willis Corroon Corp. , 203 F.3d at 453. Af...</td>\n",
       "      <td>13.670125</td>\n",
       "      <td>https://api.case.law/v1/cases/12535237/</td>\n",
       "      <td>ROGERS CARTAGE COMPANY, Pharmacia Corporation,...</td>\n",
       "      <td>154 Ill. 2d 90</td>\n",
       "      <td>ROGERS CARTAGE COMPANY, Pharmacia Corporation,...</td>\n",
       "    </tr>\n",
       "    <tr>\n",
       "      <th>3</th>\n",
       "      <td>While neither of these Missouri Court of Appea...</td>\n",
       "      <td>23.544951</td>\n",
       "      <td>https://api.case.law/v1/cases/1527705/</td>\n",
       "      <td>EMERSON ELECTRIC COMPANY et al., Plaintiffs-Ap...</td>\n",
       "      <td>155 Ill. 2d 402</td>\n",
       "      <td>EMERSON ELECTRIC COMPANY et al., Plaintiffs-Ap...</td>\n",
       "    </tr>\n",
       "    <tr>\n",
       "      <th>4</th>\n",
       "      <td>(Emphasis omitted.) United States Fidelity &amp; G...</td>\n",
       "      <td>-1.915420</td>\n",
       "      <td>https://api.case.law/v1/cases/980702/</td>\n",
       "      <td>ATLANTIC MUTUAL INSURANCE COMPANY et al., Plai...</td>\n",
       "      <td>89 Ill. App. 3d 617</td>\n",
       "      <td>ATLANTIC MUTUAL INSURANCE COMPANY et al., Plai...</td>\n",
       "    </tr>\n",
       "  </tbody>\n",
       "</table>\n",
       "</div>"
      ],
      "text/plain": [
       "                                             context      score  \\\n",
       "0  However, as discussed in detail below, such a ...  24.685309   \n",
       "1  II. In granting summary judgment with respect ...  19.774828   \n",
       "2  See Willis Corroon Corp. , 203 F.3d at 453. Af...  13.670125   \n",
       "3  While neither of these Missouri Court of Appea...  23.544951   \n",
       "4  (Emphasis omitted.) United States Fidelity & G...  -1.915420   \n",
       "\n",
       "                                       url  \\\n",
       "0   https://api.case.law/v1/cases/5454708/   \n",
       "1   https://api.case.law/v1/cases/5454708/   \n",
       "2  https://api.case.law/v1/cases/12535237/   \n",
       "3   https://api.case.law/v1/cases/1527705/   \n",
       "4    https://api.case.law/v1/cases/980702/   \n",
       "\n",
       "                                                head              citation  \\\n",
       "0  EMERSON ELECTRIC COMPANY et al., Plaintiffs-Ap...  268 Ill. App. 3d 598   \n",
       "1  EMERSON ELECTRIC COMPANY et al., Plaintiffs-Ap...        154 Ill. 2d 90   \n",
       "2  ROGERS CARTAGE COMPANY, Pharmacia Corporation,...        154 Ill. 2d 90   \n",
       "3  EMERSON ELECTRIC COMPANY et al., Plaintiffs-Ap...       155 Ill. 2d 402   \n",
       "4  ATLANTIC MUTUAL INSURANCE COMPANY et al., Plai...   89 Ill. App. 3d 617   \n",
       "\n",
       "                                                name  \n",
       "0  EMERSON ELECTRIC COMPANY et al., Plaintiffs-Ap...  \n",
       "1  EMERSON ELECTRIC COMPANY et al., Plaintiffs-Ap...  \n",
       "2  ROGERS CARTAGE COMPANY, Pharmacia Corporation,...  \n",
       "3  EMERSON ELECTRIC COMPANY et al., Plaintiffs-Ap...  \n",
       "4  ATLANTIC MUTUAL INSURANCE COMPANY et al., Plai...  "
      ]
     },
     "execution_count": 24,
     "metadata": {},
     "output_type": "execute_result"
    }
   ],
   "source": [
    "bm25_df3.head()"
   ]
  },
  {
   "cell_type": "code",
   "execution_count": 27,
   "metadata": {},
   "outputs": [
    {
     "name": "stdout",
     "output_type": "stream",
     "text": [
      "Running LLM usefulness eval in parallel (following logging may be out of order)\n"
     ]
    },
    {
     "data": {
      "text/plain": [
       "6"
      ]
     },
     "execution_count": 27,
     "metadata": {},
     "output_type": "execute_result"
    }
   ],
   "source": [
    "from src.search.llm_filter import filter_chunks\n",
    "\n",
    "bm25_nodes3 = filter_chunks(\n",
    "    query=test_query,\n",
    "    chunks_to_filter=bm25_nodes2,\n",
    ")\n",
    "\n",
    "len(bm25_nodes3)"
   ]
  },
  {
   "cell_type": "code",
   "execution_count": 29,
   "metadata": {},
   "outputs": [
    {
     "data": {
      "text/html": [
       "<table border=\"1\" class=\"dataframe\">\n",
       "  <thead>\n",
       "    <tr style=\"text-align: right;\">\n",
       "      <th></th>\n",
       "      <th>Score</th>\n",
       "      <th>Text</th>\n",
       "    </tr>\n",
       "  </thead>\n",
       "  <tbody>\n",
       "    <tr>\n",
       "      <th>0</th>\n",
       "      <td>19.774828</td>\n",
       "      <td>II. In granting summary judgment with respect to the owned sites: (a) the trial court’s decision is erroneous as a matter of law because the trial court ignored this court’s prior ruling in Emerson I that, for the purposes of the pollution exclusion, a “release” is the escape of pollutants from, not the intentional deposit of wastes into, places of expected containment; (b) even if the trial court were not bound by this court’s decision in Emerson I, its decisions were inconsistent with the plain meaning of the insurance policy and Missouri law, which also provide that a “release” under the pollution exclusion is a discharge from a place of expected containment; (c) the trial court’s rulings, based on the amended “accidental” exception to the pollution exclusion in the 1983-84 policy, that releases at the owned sites could not be “accidental” because they were gradual, contravened both this court’s decision in Emerson I and the established Missouri law; (d) there were genuine questions</td>\n",
       "    </tr>\n",
       "    <tr>\n",
       "      <th>1</th>\n",
       "      <td>13.670125</td>\n",
       "      <td>See Willis Corroon Corp. , 203 F.3d at 453. After careful consideration of the arguments and the record before us, we find the trial court correctly found Travelers' conduct breached its duty to defend. ¶ 56 II. Pollution Exclusions ¶ 57 We are also asked to consider whether the pollution exclusions in the policies apply. Travelers contends coverage is barred by the pollution exclusions contained in some of the policies because Rogers's liabilities are the result of decades of intentional discharges of hazardous chemicals into the soil, unlined ponds, and a public sewer. Rogers responds that (1) Travelers should be estopped from raising any exclusions, (2) its use of containment ponds and Sauget's sewer system does not implicate Travelers' pollution exclusion, (3) it did not expect or intend overflows from the sewer system or retention ponds, and (4) its use of sewers and ponds was not illegal. ¶ 58 As set forth in our consideration of the first issue, Travelers is estopped from raisin</td>\n",
       "    </tr>\n",
       "    <tr>\n",
       "      <th>2</th>\n",
       "      <td>23.544951</td>\n",
       "      <td>While neither of these Missouri Court of Appeals decisions specifically addresses the word “accidental” as used in an exception to a pollution exclusion, their interpretations of the term “caused by accident” are in line with the decision in General Dynamics I. In N.W. Electric, the plaintiff cooperative, a supplier of electric power, sought coverage for damages to private property which resulted when the plaintiff exceeded an easement granted to it for construction of a power line over the property. The court concluded that while the acts producing the damage might be termed intentional, the resulting harm was “caused by accident” within the meaning of the insurance policy, where there was no evidence that the plaintiff cooperative knew of the acts which caused the damage or directed them to be done, nor was there any evidence of an intent to injure. N.W. Electric, 451 S.W.2d at 361-62. Similarly, the court in White held that the contamination of a well was “caused by accident,” where</td>\n",
       "    </tr>\n",
       "    <tr>\n",
       "      <th>3</th>\n",
       "      <td>-1.915420</td>\n",
       "      <td>(Emphasis omitted.) United States Fidelity &amp; Guaranty Co., 144 Ill. 2d at 73. Furthermore, if the insurer relies on an exclusionary provision, it must be “clear and free from doubt” that the policy’s exclusion prevents coverage. Bituminous Casualty Corp. v. Fulkerson, 212 Ill. App. 3d 556, 564, 571 N.E.2d 256 (1991). Additionally, we must liberally construe the underlying complaint and the insurance policy in favor of the insured. United States Fidelity &amp; Guaranty Co., 144 Ill. 2d at 74 . In accordance with the above propositions of law, we must analyze the underlying complaint in light of the applicable policy provisions to determine whether the claim is within or potentially within coverage. Both Atlantic Mutual and Centennial rely on portions of their CGL policies that provide coverage only for bodily injury caused by an “occurrence” as defined in their respective policies. Centennial’s CGL policy provides the following: “This company will pay on behalf of the insured all sums which</td>\n",
       "    </tr>\n",
       "    <tr>\n",
       "      <th>4</th>\n",
       "      <td>-3.562040</td>\n",
       "      <td>The trees were cleared from the wrong lots. The tree-cutler’s commercial general liability (CGL) insurer, Pekin Insurance Co., refused to defend Miller against lawsuits brought by the owners of the property trees were removed from. This court must decide whether clearing trees off the wrong lots constitutes an “occurrence” under the CGL policy and whether certain exclusions in the policy bar coverage. The trial court found Pekin has a duty to defend. We agree. FACTS In the underlying lawsuit, plaintiffs Chicago Title &amp; Trust Co. as trustee under trust No. 53885, William Givens, Marilyn Givens, John Marek, and Harriet Slayton, filed suit against Miller, d/b/a Miller Tree Service, and Bineet Sarang, d/b/a Sarang Corporation (Sarang), for trespass and violations of the Wrongful Tree Cutting Act (740 ILCS 185/2 (West 2000)). The plaintiffs later added additional counts of negligent trespass. They alleged Sarang hired Miller to remove trees from lots 13, 14, and 15 of a subdivision in Hanov</td>\n",
       "    </tr>\n",
       "  </tbody>\n",
       "</table>"
      ],
      "text/plain": [
       "<IPython.core.display.HTML object>"
      ]
     },
     "metadata": {},
     "output_type": "display_data"
    }
   ],
   "source": [
    "visualize_retrieved_nodes(bm25_nodes3[:5])"
   ]
  },
  {
   "cell_type": "code",
   "execution_count": 13,
   "metadata": {},
   "outputs": [
    {
     "name": "stderr",
     "output_type": "stream",
     "text": [
      "2024-04-08 00:54:25 - INFO - Predicted 'is relevant': Yes - Score: 24.581820219874547\n",
      "2024-04-08 00:54:25 - INFO - Predicted 'is relevant': Yes - Score: 20.62935967994126\n",
      "2024-04-08 00:54:25 - INFO - Predicted 'is relevant': Yes - Score: 23.54495143265143\n",
      "2024-04-08 00:54:26 - INFO - Predicted 'is relevant': No - Score: -152.2382138316638\n",
      "2024-04-08 00:54:26 - INFO - Predicted 'is relevant': Yes - Score: 13.04373289722047\n",
      "2024-04-08 00:54:27 - INFO - Predicted 'is relevant': No - Score: -97.49343406094958\n",
      "2024-04-08 00:54:28 - INFO - Predicted 'is relevant': No - Score: -2.022808950994338\n",
      "2024-04-08 00:54:29 - INFO - Predicted 'is relevant': No - Score: -2.442676012149675\n",
      "2024-04-08 00:54:29 - INFO - Predicted 'is relevant': No - Score: -511.249874552062\n",
      "2024-04-08 00:54:29 - INFO - Predicted 'is relevant': No - Score: -1318.759110977008\n",
      "2024-04-08 00:54:30 - INFO - Predicted 'is relevant': No - Score: -813.8807690717495\n",
      "2024-04-08 00:54:30 - INFO - Predicted 'is relevant': No - Score: -9.525443364142745\n",
      "2024-04-08 00:54:30 - INFO - Predicted 'is relevant': No - Score: -1.8949362452490157\n",
      "2024-04-08 00:54:31 - INFO - Predicted 'is relevant': No - Score: -370.77481703375105\n",
      "2024-04-08 00:54:31 - INFO - Predicted 'is relevant': No - Score: -6.62778147276595\n",
      "2024-04-08 00:54:31 - INFO - Predicted 'is relevant': No - Score: -345.1564965442069\n",
      "2024-04-08 00:54:31 - INFO - Predicted 'is relevant': No - Score: -53905.519580209686\n",
      "2024-04-08 00:54:32 - INFO - Predicted 'is relevant': No - Score: -586.9424670189691\n",
      "2024-04-08 00:54:32 - INFO - Predicted 'is relevant': No - Score: -497.06955131370756\n",
      "2024-04-08 00:54:33 - INFO - Predicted 'is relevant': No - Score: -535.1417413876161\n"
     ]
    }
   ],
   "source": [
    "retrieved_df3 = apply_gpt_relevance_to_df(\n",
    "    query=test_query,\n",
    "    df=splade_df,\n",
    "    passage_col='context',\n",
    "    score_col_name='score'\n",
    ")"
   ]
  },
  {
   "cell_type": "code",
   "execution_count": 14,
   "metadata": {},
   "outputs": [
    {
     "name": "stderr",
     "output_type": "stream",
     "text": [
      "2024-04-08 00:54:42 - INFO - Predicted 'is relevant': Yes - Score: 24.581820219874547\n",
      "2024-04-08 00:54:42 - INFO - Predicted 'is relevant': No - Score: -1.6020784981936724\n",
      "2024-04-08 00:54:43 - INFO - Predicted 'is relevant': No - Score: -1.9436635722052453\n",
      "2024-04-08 00:54:43 - INFO - Predicted 'is relevant': No - Score: -44.50275294029689\n",
      "2024-04-08 00:54:43 - INFO - Predicted 'is relevant': No - Score: -149.36246498850468\n",
      "2024-04-08 00:54:44 - INFO - Predicted 'is relevant': Yes - Score: 23.54495143265143\n",
      "2024-04-08 00:54:44 - INFO - Predicted 'is relevant': No - Score: -307.63982907038877\n",
      "2024-04-08 00:54:45 - INFO - Predicted 'is relevant': No - Score: -1.9154196646176787\n",
      "2024-04-08 00:54:46 - INFO - Predicted 'is relevant': No - Score: -243.29580171197526\n",
      "2024-04-08 00:54:46 - INFO - Predicted 'is relevant': No - Score: -9.788421315579486\n",
      "2024-04-08 00:54:46 - INFO - Predicted 'is relevant': No - Score: -3.4858878709786447\n",
      "2024-04-08 00:54:47 - INFO - Predicted 'is relevant': Yes - Score: 1.4670651215536805\n",
      "2024-04-08 00:54:47 - INFO - Predicted 'is relevant': No - Score: -83.13995672232693\n",
      "2024-04-08 00:54:48 - INFO - Predicted 'is relevant': No - Score: -25.868312594965808\n",
      "2024-04-08 00:54:48 - INFO - Predicted 'is relevant': No - Score: -4.568487405342654\n",
      "2024-04-08 00:54:49 - INFO - Predicted 'is relevant': No - Score: -14.915617874995785\n",
      "2024-04-08 00:54:50 - INFO - Predicted 'is relevant': No - Score: -1.9983879404162253\n",
      "2024-04-08 00:54:50 - INFO - Predicted 'is relevant': No - Score: -3.897480668495884\n",
      "2024-04-08 00:54:50 - INFO - Predicted 'is relevant': No - Score: -8.813069076394768\n",
      "2024-04-08 00:54:51 - INFO - Predicted 'is relevant': No - Score: -3.7458655009533226\n"
     ]
    }
   ],
   "source": [
    "retrieved_df3 = apply_gpt_relevance_to_df(\n",
    "    query=test_query,\n",
    "    df=vec_df,\n",
    "    passage_col='context',\n",
    "    score_col_name='score'\n",
    ")"
   ]
  },
  {
   "cell_type": "code",
   "execution_count": null,
   "metadata": {},
   "outputs": [],
   "source": []
  },
  {
   "cell_type": "code",
   "execution_count": null,
   "metadata": {},
   "outputs": [],
   "source": []
  },
  {
   "cell_type": "code",
   "execution_count": null,
   "metadata": {},
   "outputs": [],
   "source": []
  },
  {
   "cell_type": "code",
   "execution_count": 5,
   "metadata": {},
   "outputs": [
    {
     "name": "stderr",
     "output_type": "stream",
     "text": [
      "\u001b[32m2024-04-06 19:49:44 - INFO - Using pre-computed 'keywords' embeddings from existing column: splade_embeddings\u001b[0m\n"
     ]
    }
   ],
   "source": [
    "from src.agent.tools.semantic_search import SemanticSearch\n",
    "from src.agent.tools.splade_search import SparseEmbeddingsSplade\n",
    "from src.search.query_expansion import segment\n",
    "\n",
    "semantic_search = SemanticSearch(\n",
    "    df=summary_df,\n",
    "    embedding_col_name='openai_embeddings_summary'\n",
    ")\n",
    "\n",
    "splade_search = SparseEmbeddingsSplade(\n",
    "    df=summary_df,\n",
    "    text_column='keywords',\n",
    "    splade_column='splade_embeddings'\n",
    ")\n",
    "\n",
    "queries = segment(\n",
    "    test_query,\n",
    "    n='3 to 5'\n",
    ")"
   ]
  },
  {
   "cell_type": "code",
   "execution_count": 6,
   "metadata": {},
   "outputs": [
    {
     "data": {
      "text/plain": [
       "[SubQuestion(chain_of_thought=\"Understanding the basic framework of the pollution exclusion clause in CGL policies is essential to grasp how the 'sudden and accidental' phrase is interpreted. This will provide a foundation for further analysis.\", sub_question_topic='Overview of Pollution Exclusion Clause in CGL Insurance', sub_question_query='What is the pollution exclusion clause in comprehensive general liability insurance?', sub_question_keywords=['pollution exclusion clause', 'CGL insurance', 'comprehensive general liability']),\n",
       " SubQuestion(chain_of_thought=\"Clarifying the legal interpretation of 'sudden and accidental' within the context of pollution exclusion is crucial to understanding how courts and insurers apply this phrase to pollution events.\", sub_question_topic=\"Legal Interpretation of 'Sudden and Accidental'\", sub_question_query=\"How is the phrase 'sudden and accidental' legally interpreted in the context of pollution exclusion clauses in CGL insurance?\", sub_question_keywords=['sudden and accidental', 'legal interpretation', 'pollution exclusion clause', 'CGL insurance']),\n",
       " SubQuestion(chain_of_thought=\"Exploring how courts have historically applied the 'sudden and accidental' phrase to cases involving gradual pollution events will provide insight into the practical application of this clause.\", sub_question_topic=\"Case Law on 'Sudden and Accidental' in Gradual Pollution Events\", sub_question_query=\"How have courts applied the 'sudden and accidental' phrase in pollution exclusion clauses to cases involving gradual but unintentional polluting events?\", sub_question_keywords=['sudden and accidental', 'case law', 'gradual pollution', 'pollution exclusion clause', 'CGL insurance']),\n",
       " SubQuestion(chain_of_thought=\"Understanding the implications of the 'sudden and accidental' clause on policyholders and insurers will help in assessing the broader impact of this clause on pollution claims.\", sub_question_topic=\"Implications of 'Sudden and Accidental' Clause\", sub_question_query=\"What are the implications of the 'sudden and accidental' clause in pollution exclusion for policyholders and insurers?\", sub_question_keywords=['sudden and accidental', 'implications', 'policyholders', 'insurers', 'pollution exclusion clause', 'CGL insurance'])]"
      ]
     },
     "execution_count": 6,
     "metadata": {},
     "output_type": "execute_result"
    }
   ],
   "source": [
    "queries.searches"
   ]
  },
  {
   "cell_type": "code",
   "execution_count": 7,
   "metadata": {},
   "outputs": [
    {
     "name": "stderr",
     "output_type": "stream",
     "text": [
      "\u001b[32m2024-04-06 19:49:58 - INFO - \n",
      "\n",
      "Thought: Understanding the basic framework of the pollution exclusion clause in CGL policies is essential to\n",
      "grasp how the 'sudden and accidental' phrase is interpreted. This will provide a foundation for\n",
      "further analysis.\n",
      "Search topic: Overview of Pollution Exclusion Clause in CGL Insurance\u001b[0m\n",
      "\u001b[32m2024-04-06 19:49:58 - INFO - Running vector (OpenAI) search: What is the pollution exclusion clause in comprehensive general liability insurance?\u001b[0m\n",
      "\u001b[32m2024-04-06 19:49:58 - INFO - Running keyword (SPLADE) search: pollution exclusion clause, CGL insurance, comprehensive general liability\u001b[0m\n",
      "\u001b[32m2024-04-06 19:49:58 - INFO - Returning 10 records from vector search and 10 from keywords\u001b[0m\n",
      "\u001b[32m2024-04-06 19:49:58 - INFO - ---------------------------------------------------------------------------\u001b[0m\n",
      "\u001b[32m2024-04-06 19:49:58 - INFO - \n",
      "\n",
      "Thought: Clarifying the legal interpretation of 'sudden and accidental' within the context of pollution\n",
      "exclusion is crucial to understanding how courts and insurers apply this phrase to pollution events.\n",
      "Search topic: Legal Interpretation of 'Sudden and Accidental'\u001b[0m\n",
      "\u001b[32m2024-04-06 19:49:58 - INFO - Running vector (OpenAI) search: How is the phrase 'sudden and accidental' legally interpreted in the context of pollution exclusion clauses in CGL insurance?\u001b[0m\n",
      "\u001b[32m2024-04-06 19:49:58 - INFO - Running keyword (SPLADE) search: sudden and accidental, legal interpretation, pollution exclusion clause, CGL insurance\u001b[0m\n",
      "\u001b[32m2024-04-06 19:49:58 - INFO - Returning 10 records from vector search and 10 from keywords\u001b[0m\n",
      "\u001b[32m2024-04-06 19:49:58 - INFO - ---------------------------------------------------------------------------\u001b[0m\n",
      "\u001b[32m2024-04-06 19:49:58 - INFO - \n",
      "\n",
      "Thought: Exploring how courts have historically applied the 'sudden and accidental' phrase to cases involving\n",
      "gradual pollution events will provide insight into the practical application of this clause.\n",
      "Search topic: Case Law on 'Sudden and Accidental' in Gradual Pollution Events\u001b[0m\n",
      "\u001b[32m2024-04-06 19:49:58 - INFO - Running vector (OpenAI) search: How have courts applied the 'sudden and accidental' phrase in pollution exclusion clauses to cases involving gradual but unintentional polluting events?\u001b[0m\n",
      "\u001b[32m2024-04-06 19:49:58 - INFO - Running keyword (SPLADE) search: sudden and accidental, case law, gradual pollution, pollution exclusion clause, CGL insurance\u001b[0m\n",
      "\u001b[32m2024-04-06 19:49:58 - INFO - Returning 10 records from vector search and 10 from keywords\u001b[0m\n",
      "\u001b[32m2024-04-06 19:49:58 - INFO - ---------------------------------------------------------------------------\u001b[0m\n",
      "\u001b[32m2024-04-06 19:49:58 - INFO - \n",
      "\n",
      "Thought: Understanding the implications of the 'sudden and accidental' clause on policyholders and insurers\n",
      "will help in assessing the broader impact of this clause on pollution claims.\n",
      "Search topic: Implications of 'Sudden and Accidental' Clause\u001b[0m\n",
      "\u001b[32m2024-04-06 19:49:58 - INFO - Running vector (OpenAI) search: What are the implications of the 'sudden and accidental' clause in pollution exclusion for policyholders and insurers?\u001b[0m\n",
      "\u001b[32m2024-04-06 19:49:58 - INFO - Running keyword (SPLADE) search: sudden and accidental, implications, policyholders, insurers, pollution exclusion clause, CGL insurance\u001b[0m\n",
      "\u001b[32m2024-04-06 19:49:58 - INFO - Returning 10 records from vector search and 10 from keywords\u001b[0m\n",
      "\u001b[32m2024-04-06 19:49:58 - INFO - ---------------------------------------------------------------------------\u001b[0m\n"
     ]
    },
    {
     "data": {
      "text/plain": [
       "(4, 4)"
      ]
     },
     "execution_count": 7,
     "metadata": {},
     "output_type": "execute_result"
    }
   ],
   "source": [
    "vector_results, keyword_results = queries.execute(semantic_search, splade_search)\n",
    "len(vector_results), len(keyword_results)"
   ]
  },
  {
   "cell_type": "code",
   "execution_count": 8,
   "metadata": {},
   "outputs": [
    {
     "data": {
      "text/html": [
       "<div>\n",
       "<style scoped>\n",
       "    .dataframe tbody tr th:only-of-type {\n",
       "        vertical-align: middle;\n",
       "    }\n",
       "\n",
       "    .dataframe tbody tr th {\n",
       "        vertical-align: top;\n",
       "    }\n",
       "\n",
       "    .dataframe thead th {\n",
       "        text-align: right;\n",
       "    }\n",
       "</style>\n",
       "<table border=\"1\" class=\"dataframe\">\n",
       "  <thead>\n",
       "    <tr style=\"text-align: right;\">\n",
       "      <th></th>\n",
       "      <th>citation</th>\n",
       "      <th>summary</th>\n",
       "      <th>keywords</th>\n",
       "      <th>recency</th>\n",
       "      <th>openai_embeddings_summary</th>\n",
       "      <th>splade_embeddings</th>\n",
       "      <th>search_type</th>\n",
       "      <th>score</th>\n",
       "    </tr>\n",
       "  </thead>\n",
       "  <tbody>\n",
       "    <tr>\n",
       "      <th>19</th>\n",
       "      <td>578 N.E.2d 926</td>\n",
       "      <td>The citation 578 N.E.2d 926 concerns primarily...</td>\n",
       "      <td>insurance policy interpretation, duty to defen...</td>\n",
       "      <td>None</td>\n",
       "      <td>[0.0031179494690150023, -0.00488113472238183, ...</td>\n",
       "      <td>[0.0, 0.0, 0.0, 0.0, 0.0, 0.0, 0.0, 0.0, 0.0, ...</td>\n",
       "      <td>vector</td>\n",
       "      <td>0.851879</td>\n",
       "    </tr>\n",
       "    <tr>\n",
       "      <th>89</th>\n",
       "      <td>357 Ill. App. 3d 955</td>\n",
       "      <td>The case cautions against broadly interpreting...</td>\n",
       "      <td>'arising out of' language, insurance policy ex...</td>\n",
       "      <td>None</td>\n",
       "      <td>[-0.015558742918074131, -0.011712239123880863,...</td>\n",
       "      <td>[0.0, 0.0, 0.0, 0.0, 0.0, 0.0, 0.0, 0.0, 0.0, ...</td>\n",
       "      <td>vector</td>\n",
       "      <td>0.825766</td>\n",
       "    </tr>\n",
       "  </tbody>\n",
       "</table>\n",
       "</div>"
      ],
      "text/plain": [
       "                citation                                            summary  \\\n",
       "19        578 N.E.2d 926  The citation 578 N.E.2d 926 concerns primarily...   \n",
       "89  357 Ill. App. 3d 955  The case cautions against broadly interpreting...   \n",
       "\n",
       "                                             keywords recency  \\\n",
       "19  insurance policy interpretation, duty to defen...    None   \n",
       "89  'arising out of' language, insurance policy ex...    None   \n",
       "\n",
       "                            openai_embeddings_summary  \\\n",
       "19  [0.0031179494690150023, -0.00488113472238183, ...   \n",
       "89  [-0.015558742918074131, -0.011712239123880863,...   \n",
       "\n",
       "                                    splade_embeddings search_type     score  \n",
       "19  [0.0, 0.0, 0.0, 0.0, 0.0, 0.0, 0.0, 0.0, 0.0, ...      vector  0.851879  \n",
       "89  [0.0, 0.0, 0.0, 0.0, 0.0, 0.0, 0.0, 0.0, 0.0, ...      vector  0.825766  "
      ]
     },
     "execution_count": 8,
     "metadata": {},
     "output_type": "execute_result"
    }
   ],
   "source": [
    "vector_results[0].head(2)"
   ]
  },
  {
   "cell_type": "code",
   "execution_count": 9,
   "metadata": {},
   "outputs": [],
   "source": [
    "vector_results = [df.reset_index(drop=False) for df in vector_results]\n",
    "keyword_results = [df.reset_index(drop=False) for df in keyword_results]"
   ]
  },
  {
   "cell_type": "code",
   "execution_count": 10,
   "metadata": {},
   "outputs": [
    {
     "data": {
      "text/plain": [
       "((40, 9), (40, 9))"
      ]
     },
     "execution_count": 10,
     "metadata": {},
     "output_type": "execute_result"
    }
   ],
   "source": [
    "pd.concat(vector_results).shape, pd.concat(keyword_results).shape"
   ]
  },
  {
   "cell_type": "code",
   "execution_count": 11,
   "metadata": {},
   "outputs": [],
   "source": [
    "from src.search.doc_joiner import DocJoinerDF\n",
    "\n",
    "df_joiner = DocJoinerDF(\n",
    "    join_mode=\"reciprocal_rank_fusion\", \n",
    "    top_k=10,\n",
    ")"
   ]
  },
  {
   "cell_type": "code",
   "execution_count": 12,
   "metadata": {},
   "outputs": [
    {
     "data": {
      "text/plain": [
       "((10, 9), (10, 9))"
      ]
     },
     "execution_count": 12,
     "metadata": {},
     "output_type": "execute_result"
    }
   ],
   "source": [
    "vector_res = df_joiner.run(vector_results, text_column='summary')\n",
    "keyword_res = df_joiner.run(keyword_results, text_column='keywords')\n",
    "vector_res.shape, keyword_res.shape"
   ]
  },
  {
   "cell_type": "code",
   "execution_count": 13,
   "metadata": {},
   "outputs": [
    {
     "data": {
      "text/html": [
       "<div>\n",
       "<style scoped>\n",
       "    .dataframe tbody tr th:only-of-type {\n",
       "        vertical-align: middle;\n",
       "    }\n",
       "\n",
       "    .dataframe tbody tr th {\n",
       "        vertical-align: top;\n",
       "    }\n",
       "\n",
       "    .dataframe thead th {\n",
       "        text-align: right;\n",
       "    }\n",
       "</style>\n",
       "<table border=\"1\" class=\"dataframe\">\n",
       "  <thead>\n",
       "    <tr style=\"text-align: right;\">\n",
       "      <th></th>\n",
       "      <th>index</th>\n",
       "      <th>citation</th>\n",
       "      <th>summary</th>\n",
       "      <th>keywords</th>\n",
       "      <th>recency</th>\n",
       "      <th>openai_embeddings_summary</th>\n",
       "      <th>splade_embeddings</th>\n",
       "      <th>search_type</th>\n",
       "      <th>score</th>\n",
       "    </tr>\n",
       "  </thead>\n",
       "  <tbody>\n",
       "    <tr>\n",
       "      <th>0</th>\n",
       "      <td>19</td>\n",
       "      <td>578 N.E.2d 926</td>\n",
       "      <td>The citation 578 N.E.2d 926 concerns primarily...</td>\n",
       "      <td>insurance policy interpretation, duty to defen...</td>\n",
       "      <td>None</td>\n",
       "      <td>[0.0031179494690150023, -0.00488113472238183, ...</td>\n",
       "      <td>[0.0, 0.0, 0.0, 0.0, 0.0, 0.0, 0.0, 0.0, 0.0, ...</td>\n",
       "      <td>vector</td>\n",
       "      <td>0.995968</td>\n",
       "    </tr>\n",
       "    <tr>\n",
       "      <th>7</th>\n",
       "      <td>53</td>\n",
       "      <td>643 N.E.2d 1226</td>\n",
       "      <td>643 N.E.2d 1226, United States Gypsum Co. v. A...</td>\n",
       "      <td>insurance law, continuous trigger approach, pr...</td>\n",
       "      <td>References to 643 N.E.2d 1226 have evolved to ...</td>\n",
       "      <td>[-0.02118617109954357, -0.003369903890416026, ...</td>\n",
       "      <td>[0.0, 0.0, 0.0, 0.0, 0.0, 0.0, 0.0, 0.0, 0.0, ...</td>\n",
       "      <td>vector</td>\n",
       "      <td>0.939225</td>\n",
       "    </tr>\n",
       "    <tr>\n",
       "      <th>1</th>\n",
       "      <td>89</td>\n",
       "      <td>357 Ill. App. 3d 955</td>\n",
       "      <td>The case cautions against broadly interpreting...</td>\n",
       "      <td>'arising out of' language, insurance policy ex...</td>\n",
       "      <td>None</td>\n",
       "      <td>[-0.015558742918074131, -0.011712239123880863,...</td>\n",
       "      <td>[0.0, 0.0, 0.0, 0.0, 0.0, 0.0, 0.0, 0.0, 0.0, ...</td>\n",
       "      <td>vector</td>\n",
       "      <td>0.932460</td>\n",
       "    </tr>\n",
       "    <tr>\n",
       "      <th>10</th>\n",
       "      <td>33</td>\n",
       "      <td>268 Ill. App. 3d 598</td>\n",
       "      <td>The case law from United States Gypsum Co. v. ...</td>\n",
       "      <td>insurance, claim, coverage, policy, occurrence...</td>\n",
       "      <td>None</td>\n",
       "      <td>[-0.008939363993704319, -0.011452711187303066,...</td>\n",
       "      <td>[0.0, 0.0, 0.0, 0.0, 0.0, 0.0, 0.0, 0.0, 0.0, ...</td>\n",
       "      <td>vector</td>\n",
       "      <td>0.741935</td>\n",
       "    </tr>\n",
       "    <tr>\n",
       "      <th>11</th>\n",
       "      <td>40</td>\n",
       "      <td>89 Ill. App. 3d 617</td>\n",
       "      <td>The case Aetna Casualty &amp; Surety Co. v. Freyer...</td>\n",
       "      <td>insurance, accident, definition, unforeseen oc...</td>\n",
       "      <td>The definition of 'accident' established in 89...</td>\n",
       "      <td>[-0.003400814952328801, -0.015401927754282951,...</td>\n",
       "      <td>[0.0, 0.0, 0.0, 0.0, 0.0, 0.0, 0.0, 0.0, 0.0, ...</td>\n",
       "      <td>vector</td>\n",
       "      <td>0.705141</td>\n",
       "    </tr>\n",
       "    <tr>\n",
       "      <th>5</th>\n",
       "      <td>71</td>\n",
       "      <td>199 Ill. 2d 281</td>\n",
       "      <td>General Casualty Insurance Co. v. Lacey, 199 I...</td>\n",
       "      <td>insurance policy, summary judgment, duty to de...</td>\n",
       "      <td>This case has continually influenced the inter...</td>\n",
       "      <td>[-0.0014027409488335252, 0.010859929956495762,...</td>\n",
       "      <td>[0.0, 0.0, 0.0, 0.0, 0.0, 0.0, 0.0, 0.0, 0.0, ...</td>\n",
       "      <td>vector</td>\n",
       "      <td>0.689733</td>\n",
       "    </tr>\n",
       "    <tr>\n",
       "      <th>2</th>\n",
       "      <td>91</td>\n",
       "      <td>363 Ill. App. 3d 335</td>\n",
       "      <td>Liberty Mutual Fire Insurance Co. v. St. Paul ...</td>\n",
       "      <td>insurance policy, interpretation, obligations,...</td>\n",
       "      <td>None</td>\n",
       "      <td>[-0.006612452678382397, -0.00979774072766304, ...</td>\n",
       "      <td>[0.0, 0.0, 0.0, 0.0, 0.0, 0.0, 0.0, 0.0, 0.0, ...</td>\n",
       "      <td>vector</td>\n",
       "      <td>0.480345</td>\n",
       "    </tr>\n",
       "    <tr>\n",
       "      <th>4</th>\n",
       "      <td>77</td>\n",
       "      <td>329 Ill. App. 3d 228</td>\n",
       "      <td>The case National Union Fire Insurance Co. of ...</td>\n",
       "      <td>insurance policy, duty to defend, allegations,...</td>\n",
       "      <td>The case provides insights into the interpreta...</td>\n",
       "      <td>[0.003789374837651849, -0.008720937184989452, ...</td>\n",
       "      <td>[0.0, 0.0, 0.0, 0.0, 0.0, 0.0, 0.0, 0.0, 0.0, ...</td>\n",
       "      <td>vector</td>\n",
       "      <td>0.462227</td>\n",
       "    </tr>\n",
       "    <tr>\n",
       "      <th>15</th>\n",
       "      <td>62</td>\n",
       "      <td>197 Ill. 2d 278</td>\n",
       "      <td>Travelers Insurance Co. v. Eljer Manufacturing...</td>\n",
       "      <td>insurance policy, initial permission rule, cov...</td>\n",
       "      <td>None</td>\n",
       "      <td>[-0.015268008224666119, -0.011478173546493053,...</td>\n",
       "      <td>[0.0, 0.0, 0.0, 0.0, 0.0, 0.0, 0.0, 0.0, 0.0, ...</td>\n",
       "      <td>vector</td>\n",
       "      <td>0.462121</td>\n",
       "    </tr>\n",
       "    <tr>\n",
       "      <th>3</th>\n",
       "      <td>4</td>\n",
       "      <td>158 Ill. 2d 116</td>\n",
       "      <td>The seminal case of National Union Fire Insura...</td>\n",
       "      <td>insurance policy, coverage, liability, endorse...</td>\n",
       "      <td>The case continues to be referenced in numerou...</td>\n",
       "      <td>[-0.012328366748988628, -0.013215634971857071,...</td>\n",
       "      <td>[0.0, 0.0, 0.0, 0.0, 0.0, 0.0, 0.0, 0.0, 0.0, ...</td>\n",
       "      <td>vector</td>\n",
       "      <td>0.456138</td>\n",
       "    </tr>\n",
       "  </tbody>\n",
       "</table>\n",
       "</div>"
      ],
      "text/plain": [
       "    index              citation  \\\n",
       "0      19        578 N.E.2d 926   \n",
       "7      53       643 N.E.2d 1226   \n",
       "1      89  357 Ill. App. 3d 955   \n",
       "10     33  268 Ill. App. 3d 598   \n",
       "11     40   89 Ill. App. 3d 617   \n",
       "5      71       199 Ill. 2d 281   \n",
       "2      91  363 Ill. App. 3d 335   \n",
       "4      77  329 Ill. App. 3d 228   \n",
       "15     62       197 Ill. 2d 278   \n",
       "3       4       158 Ill. 2d 116   \n",
       "\n",
       "                                              summary  \\\n",
       "0   The citation 578 N.E.2d 926 concerns primarily...   \n",
       "7   643 N.E.2d 1226, United States Gypsum Co. v. A...   \n",
       "1   The case cautions against broadly interpreting...   \n",
       "10  The case law from United States Gypsum Co. v. ...   \n",
       "11  The case Aetna Casualty & Surety Co. v. Freyer...   \n",
       "5   General Casualty Insurance Co. v. Lacey, 199 I...   \n",
       "2   Liberty Mutual Fire Insurance Co. v. St. Paul ...   \n",
       "4   The case National Union Fire Insurance Co. of ...   \n",
       "15  Travelers Insurance Co. v. Eljer Manufacturing...   \n",
       "3   The seminal case of National Union Fire Insura...   \n",
       "\n",
       "                                             keywords  \\\n",
       "0   insurance policy interpretation, duty to defen...   \n",
       "7   insurance law, continuous trigger approach, pr...   \n",
       "1   'arising out of' language, insurance policy ex...   \n",
       "10  insurance, claim, coverage, policy, occurrence...   \n",
       "11  insurance, accident, definition, unforeseen oc...   \n",
       "5   insurance policy, summary judgment, duty to de...   \n",
       "2   insurance policy, interpretation, obligations,...   \n",
       "4   insurance policy, duty to defend, allegations,...   \n",
       "15  insurance policy, initial permission rule, cov...   \n",
       "3   insurance policy, coverage, liability, endorse...   \n",
       "\n",
       "                                              recency  \\\n",
       "0                                                None   \n",
       "7   References to 643 N.E.2d 1226 have evolved to ...   \n",
       "1                                                None   \n",
       "10                                               None   \n",
       "11  The definition of 'accident' established in 89...   \n",
       "5   This case has continually influenced the inter...   \n",
       "2                                                None   \n",
       "4   The case provides insights into the interpreta...   \n",
       "15                                               None   \n",
       "3   The case continues to be referenced in numerou...   \n",
       "\n",
       "                            openai_embeddings_summary  \\\n",
       "0   [0.0031179494690150023, -0.00488113472238183, ...   \n",
       "7   [-0.02118617109954357, -0.003369903890416026, ...   \n",
       "1   [-0.015558742918074131, -0.011712239123880863,...   \n",
       "10  [-0.008939363993704319, -0.011452711187303066,...   \n",
       "11  [-0.003400814952328801, -0.015401927754282951,...   \n",
       "5   [-0.0014027409488335252, 0.010859929956495762,...   \n",
       "2   [-0.006612452678382397, -0.00979774072766304, ...   \n",
       "4   [0.003789374837651849, -0.008720937184989452, ...   \n",
       "15  [-0.015268008224666119, -0.011478173546493053,...   \n",
       "3   [-0.012328366748988628, -0.013215634971857071,...   \n",
       "\n",
       "                                    splade_embeddings search_type     score  \n",
       "0   [0.0, 0.0, 0.0, 0.0, 0.0, 0.0, 0.0, 0.0, 0.0, ...      vector  0.995968  \n",
       "7   [0.0, 0.0, 0.0, 0.0, 0.0, 0.0, 0.0, 0.0, 0.0, ...      vector  0.939225  \n",
       "1   [0.0, 0.0, 0.0, 0.0, 0.0, 0.0, 0.0, 0.0, 0.0, ...      vector  0.932460  \n",
       "10  [0.0, 0.0, 0.0, 0.0, 0.0, 0.0, 0.0, 0.0, 0.0, ...      vector  0.741935  \n",
       "11  [0.0, 0.0, 0.0, 0.0, 0.0, 0.0, 0.0, 0.0, 0.0, ...      vector  0.705141  \n",
       "5   [0.0, 0.0, 0.0, 0.0, 0.0, 0.0, 0.0, 0.0, 0.0, ...      vector  0.689733  \n",
       "2   [0.0, 0.0, 0.0, 0.0, 0.0, 0.0, 0.0, 0.0, 0.0, ...      vector  0.480345  \n",
       "4   [0.0, 0.0, 0.0, 0.0, 0.0, 0.0, 0.0, 0.0, 0.0, ...      vector  0.462227  \n",
       "15  [0.0, 0.0, 0.0, 0.0, 0.0, 0.0, 0.0, 0.0, 0.0, ...      vector  0.462121  \n",
       "3   [0.0, 0.0, 0.0, 0.0, 0.0, 0.0, 0.0, 0.0, 0.0, ...      vector  0.456138  "
      ]
     },
     "execution_count": 13,
     "metadata": {},
     "output_type": "execute_result"
    }
   ],
   "source": [
    "vector_res"
   ]
  },
  {
   "cell_type": "code",
   "execution_count": 14,
   "metadata": {},
   "outputs": [
    {
     "data": {
      "text/html": [
       "<div>\n",
       "<style scoped>\n",
       "    .dataframe tbody tr th:only-of-type {\n",
       "        vertical-align: middle;\n",
       "    }\n",
       "\n",
       "    .dataframe tbody tr th {\n",
       "        vertical-align: top;\n",
       "    }\n",
       "\n",
       "    .dataframe thead th {\n",
       "        text-align: right;\n",
       "    }\n",
       "</style>\n",
       "<table border=\"1\" class=\"dataframe\">\n",
       "  <thead>\n",
       "    <tr style=\"text-align: right;\">\n",
       "      <th></th>\n",
       "      <th>index</th>\n",
       "      <th>citation</th>\n",
       "      <th>summary</th>\n",
       "      <th>keywords</th>\n",
       "      <th>recency</th>\n",
       "      <th>openai_embeddings_summary</th>\n",
       "      <th>splade_embeddings</th>\n",
       "      <th>score</th>\n",
       "      <th>search_type</th>\n",
       "    </tr>\n",
       "  </thead>\n",
       "  <tbody>\n",
       "    <tr>\n",
       "      <th>0</th>\n",
       "      <td>92</td>\n",
       "      <td>223 Ill. 2d 352</td>\n",
       "      <td>Valley Forge Insurance Co. v. Swiderski Electr...</td>\n",
       "      <td>insurance, duty to defend, allegations, insura...</td>\n",
       "      <td>The 2006 decision continues to influence how i...</td>\n",
       "      <td>[-0.014363071881234646, -0.010653404518961906,...</td>\n",
       "      <td>[0.0, 0.0, 0.0, 0.0, 0.0, 0.0, 0.0, 0.0, 0.0, ...</td>\n",
       "      <td>1.000000</td>\n",
       "      <td>splade</td>\n",
       "    </tr>\n",
       "    <tr>\n",
       "      <th>1</th>\n",
       "      <td>9</td>\n",
       "      <td>687 N.E.2d 72</td>\n",
       "      <td>The case law 687 N.E.2d 72, typically referenc...</td>\n",
       "      <td>insurance policy interpretation, ambiguity res...</td>\n",
       "      <td>None</td>\n",
       "      <td>[-0.001692606951110065, 0.0007399397436529398,...</td>\n",
       "      <td>[0.0, 0.0, 0.0, 0.0, 0.0, 0.0, 0.0, 0.0, 0.0, ...</td>\n",
       "      <td>0.979967</td>\n",
       "      <td>splade</td>\n",
       "    </tr>\n",
       "    <tr>\n",
       "      <th>2</th>\n",
       "      <td>58</td>\n",
       "      <td>105 Ill. 2d 486</td>\n",
       "      <td>The citation 105 Ill. 2d 486, pertaining to th...</td>\n",
       "      <td>insurance policy, indemnification, self-insure...</td>\n",
       "      <td>None</td>\n",
       "      <td>[-0.014985797926783562, -0.008534330874681473,...</td>\n",
       "      <td>[0.0, 0.0, 0.0, 0.0, 0.0, 0.0, 0.0, 0.0, 0.0, ...</td>\n",
       "      <td>0.972158</td>\n",
       "      <td>splade</td>\n",
       "    </tr>\n",
       "    <tr>\n",
       "      <th>3</th>\n",
       "      <td>19</td>\n",
       "      <td>578 N.E.2d 926</td>\n",
       "      <td>The citation 578 N.E.2d 926 concerns primarily...</td>\n",
       "      <td>insurance policy interpretation, duty to defen...</td>\n",
       "      <td>None</td>\n",
       "      <td>[0.0031179494690150023, -0.00488113472238183, ...</td>\n",
       "      <td>[0.0, 0.0, 0.0, 0.0, 0.0, 0.0, 0.0, 0.0, 0.0, ...</td>\n",
       "      <td>0.942456</td>\n",
       "      <td>splade</td>\n",
       "    </tr>\n",
       "    <tr>\n",
       "      <th>8</th>\n",
       "      <td>63</td>\n",
       "      <td>757 N.E.2d 481</td>\n",
       "      <td>The citation 757 N.E.2d 481, primarily referen...</td>\n",
       "      <td>insurance policy, intent of parties, insurer d...</td>\n",
       "      <td>References to the principles established in Tr...</td>\n",
       "      <td>[-0.006457023788243532, 0.004370039328932762, ...</td>\n",
       "      <td>[0.0, 0.0, 0.0, 0.0, 0.0, 0.0, 0.0, 0.0, 0.0, ...</td>\n",
       "      <td>0.904548</td>\n",
       "      <td>splade</td>\n",
       "    </tr>\n",
       "    <tr>\n",
       "      <th>4</th>\n",
       "      <td>77</td>\n",
       "      <td>329 Ill. App. 3d 228</td>\n",
       "      <td>The case National Union Fire Insurance Co. of ...</td>\n",
       "      <td>insurance policy, duty to defend, allegations,...</td>\n",
       "      <td>The case provides insights into the interpreta...</td>\n",
       "      <td>[0.003789374837651849, -0.008720937184989452, ...</td>\n",
       "      <td>[0.0, 0.0, 0.0, 0.0, 0.0, 0.0, 0.0, 0.0, 0.0, ...</td>\n",
       "      <td>0.703957</td>\n",
       "      <td>splade</td>\n",
       "    </tr>\n",
       "    <tr>\n",
       "      <th>10</th>\n",
       "      <td>91</td>\n",
       "      <td>363 Ill. App. 3d 335</td>\n",
       "      <td>Liberty Mutual Fire Insurance Co. v. St. Paul ...</td>\n",
       "      <td>insurance policy, interpretation, obligations,...</td>\n",
       "      <td>None</td>\n",
       "      <td>[-0.006612452678382397, -0.00979774072766304, ...</td>\n",
       "      <td>[0.0, 0.0, 0.0, 0.0, 0.0, 0.0, 0.0, 0.0, 0.0, ...</td>\n",
       "      <td>0.696843</td>\n",
       "      <td>splade</td>\n",
       "    </tr>\n",
       "    <tr>\n",
       "      <th>11</th>\n",
       "      <td>18</td>\n",
       "      <td>144 Ill. 2d 64</td>\n",
       "      <td>United States Fidelity &amp; Guaranty Co. v. Wilki...</td>\n",
       "      <td>insurance, duty to defend, policy coverage, am...</td>\n",
       "      <td>Notably, the principles established in United ...</td>\n",
       "      <td>[-0.020754359662532806, -0.013158555142581463,...</td>\n",
       "      <td>[0.0, 0.0, 0.0, 0.0, 0.0, 0.0, 0.0, 0.0, 0.0, ...</td>\n",
       "      <td>0.676340</td>\n",
       "      <td>splade</td>\n",
       "    </tr>\n",
       "    <tr>\n",
       "      <th>6</th>\n",
       "      <td>4</td>\n",
       "      <td>158 Ill. 2d 116</td>\n",
       "      <td>The seminal case of National Union Fire Insura...</td>\n",
       "      <td>insurance policy, coverage, liability, endorse...</td>\n",
       "      <td>The case continues to be referenced in numerou...</td>\n",
       "      <td>[-0.012328366748988628, -0.013215634971857071,...</td>\n",
       "      <td>[0.0, 0.0, 0.0, 0.0, 0.0, 0.0, 0.0, 0.0, 0.0, ...</td>\n",
       "      <td>0.673081</td>\n",
       "      <td>splade</td>\n",
       "    </tr>\n",
       "    <tr>\n",
       "      <th>7</th>\n",
       "      <td>89</td>\n",
       "      <td>357 Ill. App. 3d 955</td>\n",
       "      <td>The case cautions against broadly interpreting...</td>\n",
       "      <td>'arising out of' language, insurance policy ex...</td>\n",
       "      <td>None</td>\n",
       "      <td>[-0.015558742918074131, -0.011712239123880863,...</td>\n",
       "      <td>[0.0, 0.0, 0.0, 0.0, 0.0, 0.0, 0.0, 0.0, 0.0, ...</td>\n",
       "      <td>0.672794</td>\n",
       "      <td>splade</td>\n",
       "    </tr>\n",
       "  </tbody>\n",
       "</table>\n",
       "</div>"
      ],
      "text/plain": [
       "    index              citation  \\\n",
       "0      92       223 Ill. 2d 352   \n",
       "1       9         687 N.E.2d 72   \n",
       "2      58       105 Ill. 2d 486   \n",
       "3      19        578 N.E.2d 926   \n",
       "8      63        757 N.E.2d 481   \n",
       "4      77  329 Ill. App. 3d 228   \n",
       "10     91  363 Ill. App. 3d 335   \n",
       "11     18        144 Ill. 2d 64   \n",
       "6       4       158 Ill. 2d 116   \n",
       "7      89  357 Ill. App. 3d 955   \n",
       "\n",
       "                                              summary  \\\n",
       "0   Valley Forge Insurance Co. v. Swiderski Electr...   \n",
       "1   The case law 687 N.E.2d 72, typically referenc...   \n",
       "2   The citation 105 Ill. 2d 486, pertaining to th...   \n",
       "3   The citation 578 N.E.2d 926 concerns primarily...   \n",
       "8   The citation 757 N.E.2d 481, primarily referen...   \n",
       "4   The case National Union Fire Insurance Co. of ...   \n",
       "10  Liberty Mutual Fire Insurance Co. v. St. Paul ...   \n",
       "11  United States Fidelity & Guaranty Co. v. Wilki...   \n",
       "6   The seminal case of National Union Fire Insura...   \n",
       "7   The case cautions against broadly interpreting...   \n",
       "\n",
       "                                             keywords  \\\n",
       "0   insurance, duty to defend, allegations, insura...   \n",
       "1   insurance policy interpretation, ambiguity res...   \n",
       "2   insurance policy, indemnification, self-insure...   \n",
       "3   insurance policy interpretation, duty to defen...   \n",
       "8   insurance policy, intent of parties, insurer d...   \n",
       "4   insurance policy, duty to defend, allegations,...   \n",
       "10  insurance policy, interpretation, obligations,...   \n",
       "11  insurance, duty to defend, policy coverage, am...   \n",
       "6   insurance policy, coverage, liability, endorse...   \n",
       "7   'arising out of' language, insurance policy ex...   \n",
       "\n",
       "                                              recency  \\\n",
       "0   The 2006 decision continues to influence how i...   \n",
       "1                                                None   \n",
       "2                                                None   \n",
       "3                                                None   \n",
       "8   References to the principles established in Tr...   \n",
       "4   The case provides insights into the interpreta...   \n",
       "10                                               None   \n",
       "11  Notably, the principles established in United ...   \n",
       "6   The case continues to be referenced in numerou...   \n",
       "7                                                None   \n",
       "\n",
       "                            openai_embeddings_summary  \\\n",
       "0   [-0.014363071881234646, -0.010653404518961906,...   \n",
       "1   [-0.001692606951110065, 0.0007399397436529398,...   \n",
       "2   [-0.014985797926783562, -0.008534330874681473,...   \n",
       "3   [0.0031179494690150023, -0.00488113472238183, ...   \n",
       "8   [-0.006457023788243532, 0.004370039328932762, ...   \n",
       "4   [0.003789374837651849, -0.008720937184989452, ...   \n",
       "10  [-0.006612452678382397, -0.00979774072766304, ...   \n",
       "11  [-0.020754359662532806, -0.013158555142581463,...   \n",
       "6   [-0.012328366748988628, -0.013215634971857071,...   \n",
       "7   [-0.015558742918074131, -0.011712239123880863,...   \n",
       "\n",
       "                                    splade_embeddings     score search_type  \n",
       "0   [0.0, 0.0, 0.0, 0.0, 0.0, 0.0, 0.0, 0.0, 0.0, ...  1.000000      splade  \n",
       "1   [0.0, 0.0, 0.0, 0.0, 0.0, 0.0, 0.0, 0.0, 0.0, ...  0.979967      splade  \n",
       "2   [0.0, 0.0, 0.0, 0.0, 0.0, 0.0, 0.0, 0.0, 0.0, ...  0.972158      splade  \n",
       "3   [0.0, 0.0, 0.0, 0.0, 0.0, 0.0, 0.0, 0.0, 0.0, ...  0.942456      splade  \n",
       "8   [0.0, 0.0, 0.0, 0.0, 0.0, 0.0, 0.0, 0.0, 0.0, ...  0.904548      splade  \n",
       "4   [0.0, 0.0, 0.0, 0.0, 0.0, 0.0, 0.0, 0.0, 0.0, ...  0.703957      splade  \n",
       "10  [0.0, 0.0, 0.0, 0.0, 0.0, 0.0, 0.0, 0.0, 0.0, ...  0.696843      splade  \n",
       "11  [0.0, 0.0, 0.0, 0.0, 0.0, 0.0, 0.0, 0.0, 0.0, ...  0.676340      splade  \n",
       "6   [0.0, 0.0, 0.0, 0.0, 0.0, 0.0, 0.0, 0.0, 0.0, ...  0.673081      splade  \n",
       "7   [0.0, 0.0, 0.0, 0.0, 0.0, 0.0, 0.0, 0.0, 0.0, ...  0.672794      splade  "
      ]
     },
     "execution_count": 14,
     "metadata": {},
     "output_type": "execute_result"
    }
   ],
   "source": [
    "keyword_res"
   ]
  },
  {
   "cell_type": "code",
   "execution_count": 15,
   "metadata": {},
   "outputs": [],
   "source": [
    "from src.embedding_models.models import ColbertReranker\n",
    "from src.search.threadpool import run_functions_tuples_in_parallel"
   ]
  },
  {
   "cell_type": "code",
   "execution_count": 16,
   "metadata": {},
   "outputs": [],
   "source": [
    "USEFUL_PAT = \"Yes useful\"\n",
    "NONUSEFUL_PAT = \"Not useful\"\n",
    "\n",
    "CHUNK_FILTER_PROMPT = f\"\"\"\n",
    "Determine if the reference section is USEFUL for answering the user query.\n",
    "It is good enough for the section to be related or similar to the query, \\\n",
    "it should be relevant information that is USEFUL for comparing to the query.\n",
    "If the section contains ANY useful information, that is good enough, \\\n",
    "it does not need to fully answer the user query, but it \\\n",
    "should at least address a component to be USEFUL.\n",
    "\n",
    "Reference Section:\n",
    "```\n",
    "{{chunk_text}}\n",
    "```\n",
    "\n",
    "User Query:\n",
    "```\n",
    "{{user_query}}\n",
    "```\n",
    "\n",
    "Respond with EXACTLY AND ONLY: \"{USEFUL_PAT}\" or \"{NONUSEFUL_PAT}\"\n",
    "\"\"\".strip()"
   ]
  },
  {
   "cell_type": "code",
   "execution_count": 17,
   "metadata": {},
   "outputs": [],
   "source": [
    "from langchain.schema.messages import AIMessage\n",
    "from langchain.schema.messages import BaseMessage\n",
    "from langchain.schema.messages import HumanMessage\n",
    "from langchain.schema.messages import SystemMessage\n",
    "\n",
    "def dict_based_prompt_to_langchain_prompt(\n",
    "    messages: list[dict[str, str]]\n",
    ") -> list[BaseMessage]:\n",
    "    prompt: list[BaseMessage] = []\n",
    "    for message in messages:\n",
    "        role = message.get(\"role\")\n",
    "        content = message.get(\"content\")\n",
    "        if not role:\n",
    "            raise ValueError(f\"Message missing `role`: {message}\")\n",
    "        if not content:\n",
    "            raise ValueError(f\"Message missing `content`: {message}\")\n",
    "        elif role == \"user\":\n",
    "            prompt.append(HumanMessage(content=content))\n",
    "        elif role == \"system\":\n",
    "            prompt.append(SystemMessage(content=content))\n",
    "        elif role == \"assistant\":\n",
    "            prompt.append(AIMessage(content=content))\n",
    "        else:\n",
    "            raise ValueError(f\"Unknown role: {role}\")\n",
    "    return prompt"
   ]
  },
  {
   "cell_type": "code",
   "execution_count": 18,
   "metadata": {},
   "outputs": [],
   "source": [
    "from typing import Callable\n",
    "from langchain_openai import ChatOpenAI\n",
    "\n",
    "def llm_eval_chunk(query: str, chunk_content: str) -> bool:\n",
    "    def _get_usefulness_messages() -> list[dict[str, str]]:\n",
    "        messages = [\n",
    "            {\n",
    "                \"role\": \"user\",\n",
    "                \"content\": CHUNK_FILTER_PROMPT.format(\n",
    "                    chunk_text=chunk_content, user_query=query\n",
    "                ),\n",
    "            },\n",
    "        ]\n",
    "\n",
    "        return messages\n",
    "\n",
    "    def _extract_usefulness(model_output: str) -> bool:\n",
    "        \"\"\"Default 'useful' if the LLM doesn't match pattern exactly.\n",
    "        This is because it's better to trust the (re)ranking if LLM fails\"\"\"\n",
    "        if model_output.content.strip().strip('\"').lower() == NONUSEFUL_PAT.lower():\n",
    "            return False\n",
    "        return True\n",
    "\n",
    "    llm = ChatOpenAI(model='gpt-3.5-turbo')\n",
    "\n",
    "    messages = _get_usefulness_messages()\n",
    "    filled_llm_prompt = dict_based_prompt_to_langchain_prompt(messages)\n",
    "    model_output = llm.invoke(filled_llm_prompt)\n",
    "\n",
    "    return _extract_usefulness(model_output)\n",
    "\n",
    "\n",
    "def llm_batch_eval_chunks(\n",
    "    query: str, chunk_contents: list[str], use_threads: bool = True\n",
    ") -> list[bool]:\n",
    "    if use_threads:\n",
    "        functions_with_args: list[tuple[Callable, tuple]] = [\n",
    "            (llm_eval_chunk, (query, chunk_content)) for chunk_content in chunk_contents\n",
    "        ]\n",
    "\n",
    "        print(\n",
    "            \"Running LLM usefulness eval in parallel (following logging may be out of order)\"\n",
    "        )\n",
    "        parallel_results = run_functions_tuples_in_parallel(\n",
    "            functions_with_args, allow_failures=True\n",
    "        )\n",
    "\n",
    "        # In case of failure/timeout, don't throw out the chunk\n",
    "        return [True if item is None else item for item in parallel_results]\n",
    "\n",
    "    else:\n",
    "        return [\n",
    "            llm_eval_chunk(query, chunk_content) for chunk_content in chunk_contents\n",
    "        ]"
   ]
  },
  {
   "cell_type": "code",
   "execution_count": 19,
   "metadata": {},
   "outputs": [],
   "source": [
    "from llama_index_client import TextNode\n",
    "from pydantic import BaseModel\n",
    "from src.search.models import dataframe_to_text_nodes\n",
    "\n",
    "def filter_chunks(\n",
    "    query: str,\n",
    "    chunks_to_filter: list[BaseModel],\n",
    "    max_llm_filter_chunks: int = 20,\n",
    ") -> list[BaseModel]:\n",
    "    \"\"\"Filters chunks based on whether the LLM thought they were relevant to the query.\n",
    "\n",
    "    Args:\n",
    "        query (str): The query to filter chunks against.\n",
    "        chunks_to_filter (list[BaseModel]): A list of BaseModel objects to filter.\n",
    "        max_llm_filter_chunks (int, optional): The maximum number of chunks to consider. Defaults to 20.\n",
    "\n",
    "    Returns:\n",
    "        list[BaseModel]: A list of BaseModel objects that were marked as relevant.\n",
    "    \"\"\"\n",
    "    chunks_to_filter = chunks_to_filter[: max_llm_filter_chunks]\n",
    "    llm_chunk_selection = llm_batch_eval_chunks(\n",
    "        query=query,\n",
    "        chunk_contents=[chunk.text for chunk in chunks_to_filter],\n",
    "    )\n",
    "    return [\n",
    "        chunk\n",
    "        for ind, chunk in enumerate(chunks_to_filter)\n",
    "        if llm_chunk_selection[ind]\n",
    "    ]"
   ]
  },
  {
   "cell_type": "code",
   "execution_count": 20,
   "metadata": {},
   "outputs": [],
   "source": [
    "from src.types import Document\n",
    "from src.utils.pydantic_utils import dataframe_to_documents, dataframe_to_pydantic_objects"
   ]
  },
  {
   "cell_type": "code",
   "execution_count": 21,
   "metadata": {},
   "outputs": [
    {
     "ename": "AssertionError",
     "evalue": "",
     "output_type": "error",
     "traceback": [
      "\u001b[1;31m---------------------------------------------------------------------------\u001b[0m",
      "\u001b[1;31mAssertionError\u001b[0m                            Traceback (most recent call last)",
      "Cell \u001b[1;32mIn[21], line 1\u001b[0m\n\u001b[1;32m----> 1\u001b[0m \u001b[38;5;28;01massert\u001b[39;00m \u001b[38;5;241m1\u001b[39m\u001b[38;5;241m+\u001b[39m\u001b[38;5;241m1\u001b[39m\u001b[38;5;241m==\u001b[39m\u001b[38;5;241m3\u001b[39m\n",
      "\u001b[1;31mAssertionError\u001b[0m: "
     ]
    }
   ],
   "source": [
    "assert 1+1==3"
   ]
  },
  {
   "cell_type": "code",
   "execution_count": 22,
   "metadata": {},
   "outputs": [],
   "source": [
    "docs = dataframe_to_documents(vector_results[0], content='summary', embedding='openai_embeddings_summary')"
   ]
  },
  {
   "cell_type": "code",
   "execution_count": 23,
   "metadata": {},
   "outputs": [
    {
     "name": "stdout",
     "output_type": "stream",
     "text": [
      "DynamicDocument:\n",
      "content: 'The citation 578 N.E.2d 926 concerns primarily the interpretation of\n",
      "insurance policies, focusing on the broad duty of insurers to defend their\n",
      "insured, the consideration of ambiguous policy terms in favor of the\n",
      "insured, and the principles for determining coverage in complex scenarios\n",
      "such as pollu'..., \n",
      "metadata: {\n",
      "    \"source\": null\n",
      "}, score: 0.8519, embedding: vector of size 1536\n"
     ]
    }
   ],
   "source": [
    "print(docs[0])"
   ]
  },
  {
   "cell_type": "code",
   "execution_count": null,
   "metadata": {},
   "outputs": [],
   "source": []
  },
  {
   "cell_type": "code",
   "execution_count": null,
   "metadata": {},
   "outputs": [
    {
     "name": "stdout",
     "output_type": "stream",
     "text": [
      "Running LLM usefulness eval in parallel (following logging may be out of order)\n",
      "\n",
      "Returned 8 nodes\n",
      "\n",
      "Regarding the pollution exclusion clause under the terms of comprehensive general liability (CGL) insurance, how is phrase \"sudden and accidental' defined and applied given a claim involving gradual but unintentional polluting events.\n",
      "\n",
      "\n",
      "DynamicDocument:\n",
      "content: 'The citation 578 N.E.2d 926 concerns primarily the interpretation of\n",
      "insurance policies, focusing on the broad duty of insurers to defend their\n",
      "insured, the consideration of ambiguous policy terms in favor of the\n",
      "insured, and the principles for determining coverage in complex scenarios\n",
      "such as pollu'..., \n",
      "metadata: {\n",
      "    \"source\": null,\n",
      "    \"citation\": \"578 N.E.2d 926\"\n",
      "}, score: 0.9766\n",
      "--------------------------------------------------\n",
      "DynamicDocument:\n",
      "content: 'The case law from United States Gypsum Co. v. Admiral Insurance Co., 268\n",
      "Ill. App. 3d 598, clarifies significant concepts in insurance law across\n",
      "multiple topics, such as the determination of claim coverage based on third\n",
      "party's claim contents, the interpretation of 'occurrences' using the\n",
      "'cause''..., \n",
      "metadata: {\n",
      "    \"source\": null,\n",
      "    \"citation\": \"268 Ill. App. 3d 598\"\n",
      "}, score: 0.7421\n",
      "--------------------------------------------------\n",
      "DynamicDocument:\n",
      "content: 'General Casualty Insurance Co. v. Lacey, 199 Ill. 2d 281 (2002) is a\n",
      "pivotal case that has been cited extensively to address legal standards\n",
      "related to insurance policy interpretations, the duty to defend and\n",
      "indemnify, procedural standards for granting summary judgment, and legal\n",
      "proceedings concer'..., \n",
      "metadata: {\n",
      "    \"source\": null,\n",
      "    \"citation\": \"199 Ill. 2d 281\"\n",
      "}, score: 0.7226\n",
      "--------------------------------------------------\n",
      "DynamicDocument:\n",
      "content: '643 N.E.2d 1226, United States Gypsum Co. v. Admiral Insurance Co.,\n",
      "establishes principles related to insurance law in various contexts,\n",
      "including the application of the continuous trigger approach for\n",
      "progressive and inseparable property damage, the construction of insurance\n",
      "policies regarding occu'..., \n",
      "metadata: {\n",
      "    \"source\": null,\n",
      "    \"citation\": \"643 N.E.2d 1226\"\n",
      "}, score: 0.7076\n",
      "--------------------------------------------------\n",
      "DynamicDocument:\n",
      "content: 'The case cautions against broadly interpreting the 'arising out of'\n",
      "language in an insurance policy exclusion to avoid expanding the exclusion\n",
      "advantageously for the insurer. It supports the principle that insurers may\n",
      "justifiably refuse to defend against underlying actions if the complaint\n",
      "clearly'..., \n",
      "metadata: {\n",
      "    \"source\": null,\n",
      "    \"citation\": \"357 Ill. App. 3d 955\"\n",
      "}, score: 0.6936\n",
      "--------------------------------------------------\n",
      "DynamicDocument:\n",
      "content: 'Travelers Insurance Co. v. Eljer Manufacturing, Inc. addresses several key\n",
      "issues in insurance law, including the construction of insurance policy\n",
      "provisions, the application of the initial permission rule, the definition\n",
      "of \"property damage\", the scope of duty to defend and indemnify, the\n",
      "principle'..., \n",
      "metadata: {\n",
      "    \"source\": null,\n",
      "    \"citation\": \"197 Ill. 2d 278\"\n",
      "}, score: 0.6829\n",
      "--------------------------------------------------\n",
      "DynamicDocument:\n",
      "content: 'Liberty Mutual Fire Insurance Co. v. St. Paul Fire & Marine Insurance Co.,\n",
      "363 Ill. App. 3d 335 (2005), is a foundational case that provides guidance\n",
      "on multiple aspects related to insurance policies, including the\n",
      "interpretation of insurance policy language, the obligations of the parties\n",
      "involved,'..., \n",
      "metadata: {\n",
      "    \"source\": null,\n",
      "    \"citation\": \"363 Ill. App. 3d 335\"\n",
      "}, score: 0.6631\n",
      "--------------------------------------------------\n",
      "DynamicDocument:\n",
      "content: 'In 214 Ill. 2d 11, the court highlighted the principles of contract\n",
      "interpretation in the context of insurance policies, emphasizing the intent\n",
      "of the parties as expressed in the policy language. It established that\n",
      "unclear or ambiguous policy terms must be interpreted narrowly and in favor\n",
      "of the i'..., \n",
      "metadata: {\n",
      "    \"source\": null,\n",
      "    \"citation\": \"214 Ill. 2d 11\"\n",
      "}, score: 0.246\n",
      "--------------------------------------------------\n"
     ]
    }
   ],
   "source": [
    "nodes = dataframe_to_documents(\n",
    "    vector_res,\n",
    "    content='summary',\n",
    "    metadata=['citation']\n",
    ")\n",
    "\n",
    "filtered_chunks = filter_chunks(test_query, nodes)\n",
    "print(f\"\\nReturned {len(filtered_chunks)} nodes\")\n",
    "print(f\"{test_query}\\n\")\n",
    "for obj in filtered_chunks:\n",
    "    print(obj)\n",
    "    print(\"-\" * 50)"
   ]
  },
  {
   "cell_type": "code",
   "execution_count": null,
   "metadata": {},
   "outputs": [
    {
     "name": "stdout",
     "output_type": "stream",
     "text": [
      "Running LLM usefulness eval in parallel (following logging may be out of order)\n",
      "\n",
      "Returned 7 nodes\n",
      "\n",
      "Regarding the pollution exclusion clause under the terms of comprehensive general liability (CGL) insurance, how is phrase \"sudden and accidental' defined and applied given a claim involving gradual but unintentional polluting events.\n",
      "\n",
      "\n",
      "DynamicDocument:\n",
      "content: 'insurance policy interpretation, ambiguity resolution, insurer's duty to\n",
      "defend, duty to indemnify, de novo review, intentions of parties,\n",
      "exclusionary provisions, family member ambiguity, entitlement exclusion,\n",
      "environmental pollution'..., \n",
      "metadata: {\n",
      "    \"source\": null,\n",
      "    \"citation\": \"687 N.E.2d 72\"\n",
      "}, score: 0.9802\n",
      "--------------------------------------------------\n",
      "DynamicDocument:\n",
      "content: 'insurance policy interpretation, duty to defend, policy coverage, ambiguous\n",
      "policy terms, pollution exclusion, property damage, insurer's obligations,\n",
      "coverage disputes'..., \n",
      "metadata: {\n",
      "    \"source\": null,\n",
      "    \"citation\": \"578 N.E.2d 926\"\n",
      "}, score: 0.9647\n",
      "--------------------------------------------------\n",
      "DynamicDocument:\n",
      "content: 'insurance, claim, coverage, policy, occurrences, liability policies, cause\n",
      "theory, effect theory, progressive property damage, continuing trigger\n",
      "analysis, indemnification, breach of duty to defend, uninsurable claim,\n",
      "pollution damage, joint and several liability, collusion, policy\n",
      "interpretation, l'..., \n",
      "metadata: {\n",
      "    \"source\": null,\n",
      "    \"citation\": \"268 Ill. App. 3d 598\"\n",
      "}, score: 0.7153\n",
      "--------------------------------------------------\n",
      "DynamicDocument:\n",
      "content: 'insurance law, continuous trigger approach, progressive property damage,\n",
      "insurance policy construction, pollution damage, indemnification, liability\n",
      "policies, occurrence limits, cause analysis, breach of duty to defend,\n",
      "settlement agreement, horizontal exhaustion, factual findings, evidence'..., \n",
      "metadata: {\n",
      "    \"source\": null,\n",
      "    \"citation\": \"643 N.E.2d 1226\"\n",
      "}, score: 0.7053\n",
      "--------------------------------------------------\n",
      "DynamicDocument:\n",
      "content: ''arising out of' language, insurance policy exclusion, insurer refusal to\n",
      "defend, duty to defend, allegations in complaints, policy provisions,\n",
      "interpretation in favor of insured, ambiguity resolution, broad\n",
      "interpretation, coverage limitation'..., \n",
      "metadata: {\n",
      "    \"source\": null,\n",
      "    \"citation\": \"357 Ill. App. 3d 955\"\n",
      "}, score: 0.6869\n",
      "--------------------------------------------------\n",
      "DynamicDocument:\n",
      "content: 'insurance policy, indemnification, self-insured retention, Estoppel,\n",
      "waiver, appellate procedure, insurance law, coverage, liability, insurance\n",
      "proceeds, policy provision, ambiguous, interpretation, plain meaning,\n",
      "unambiguous, policy interpretation, ambiguity, indemnification, employee\n",
      "fraud, Contra'..., \n",
      "metadata: {\n",
      "    \"source\": null,\n",
      "    \"citation\": \"105 Ill. 2d 486\"\n",
      "}, score: 0.66\n",
      "--------------------------------------------------\n",
      "DynamicDocument:\n",
      "content: 'insurance, accident, definition, unforeseen occurrence, bodily injury,\n",
      "property damage, legal interpretation, coverage, duty to defend, designed\n",
      "sudden event, undesigned sudden event, inflictive or unfortunate character'..., \n",
      "metadata: {\n",
      "    \"source\": null,\n",
      "    \"citation\": \"89 Ill. App. 3d 617\"\n",
      "}, score: 0.4803\n",
      "--------------------------------------------------\n"
     ]
    }
   ],
   "source": [
    "nodes_kw = dataframe_to_documents(\n",
    "    df=keyword_res, \n",
    "    content='keywords',\n",
    "    metadata=['citation']\n",
    ")\n",
    "\n",
    "filtered_chunks_kw = filter_chunks(test_query, nodes_kw)\n",
    "print(f\"\\nReturned {len(filtered_chunks_kw)} nodes\")\n",
    "print(f\"{test_query}\\n\")\n",
    "for obj in filtered_chunks_kw:\n",
    "    print(obj)\n",
    "    print(\"-\" * 50)"
   ]
  },
  {
   "cell_type": "code",
   "execution_count": null,
   "metadata": {},
   "outputs": [],
   "source": [
    "distinct_citations = list(set(node.metadata.citation for node in filtered_chunks + filtered_chunks_kw))"
   ]
  },
  {
   "cell_type": "code",
   "execution_count": null,
   "metadata": {},
   "outputs": [
    {
     "data": {
      "text/plain": [
       "10"
      ]
     },
     "execution_count": 32,
     "metadata": {},
     "output_type": "execute_result"
    }
   ],
   "source": [
    "len(distinct_citations)"
   ]
  },
  {
   "cell_type": "code",
   "execution_count": null,
   "metadata": {},
   "outputs": [],
   "source": [
    "filtered_chunks.extend(filtered_chunks_kw)"
   ]
  },
  {
   "cell_type": "code",
   "execution_count": null,
   "metadata": {},
   "outputs": [],
   "source": [
    "from src.utils.pydantic_utils import flatten_pydantic_instance\n",
    "\n",
    "test_flat_model = flatten_pydantic_instance(filtered_chunks[0])"
   ]
  },
  {
   "cell_type": "code",
   "execution_count": null,
   "metadata": {},
   "outputs": [],
   "source": [
    "search_res_df = pd.DataFrame([test_flat_model])"
   ]
  },
  {
   "cell_type": "code",
   "execution_count": null,
   "metadata": {},
   "outputs": [],
   "source": [
    "results = []\n",
    "\n",
    "for i in range(len(filtered_chunks)):\n",
    "    flat_model = flatten_pydantic_instance(filtered_chunks[i])\n",
    "    df = pd.DataFrame([flat_model])\n",
    "    results.extend([df])\n"
   ]
  },
  {
   "cell_type": "code",
   "execution_count": null,
   "metadata": {},
   "outputs": [],
   "source": [
    "context_df = pd.concat(results)"
   ]
  },
  {
   "cell_type": "code",
   "execution_count": null,
   "metadata": {},
   "outputs": [
    {
     "data": {
      "text/markdown": [
       "The citation 578 N.E.2d 926 concerns primarily the interpretation of insurance policies, focusing on the broad duty of insurers to defend their insured, the consideration of ambiguous policy terms in favor of the insured, and the principles for determining coverage in complex scenarios such as pollution or property damage. It establishes that insurers have a broad duty to defend their insured if the allegations in the underlying complaint potentially fall within the policy’s coverage. It also sets precedent for interpreting ambiguous policy language in favor of the insured and outlines the conditions under which pollution exclusions apply."
      ],
      "text/plain": [
       "<IPython.core.display.Markdown object>"
      ]
     },
     "execution_count": 59,
     "metadata": {},
     "output_type": "execute_result"
    }
   ],
   "source": [
    "Markdown(context_df.head(1)['content'].tolist()[0])"
   ]
  },
  {
   "cell_type": "code",
   "execution_count": null,
   "metadata": {},
   "outputs": [
    {
     "data": {
      "text/html": [
       "<div>\n",
       "<style scoped>\n",
       "    .dataframe tbody tr th:only-of-type {\n",
       "        vertical-align: middle;\n",
       "    }\n",
       "\n",
       "    .dataframe tbody tr th {\n",
       "        vertical-align: top;\n",
       "    }\n",
       "\n",
       "    .dataframe thead th {\n",
       "        text-align: right;\n",
       "    }\n",
       "</style>\n",
       "<table border=\"1\" class=\"dataframe\">\n",
       "  <thead>\n",
       "    <tr style=\"text-align: right;\">\n",
       "      <th></th>\n",
       "      <th>id</th>\n",
       "      <th>content</th>\n",
       "      <th>metadata__source</th>\n",
       "      <th>metadata__citation</th>\n",
       "      <th>score_</th>\n",
       "      <th>embedding</th>\n",
       "      <th>index</th>\n",
       "      <th>keywords</th>\n",
       "      <th>recency</th>\n",
       "      <th>openai_embeddings_summary</th>\n",
       "      <th>splade_embeddings</th>\n",
       "      <th>search_type</th>\n",
       "      <th>score</th>\n",
       "      <th>summary</th>\n",
       "    </tr>\n",
       "  </thead>\n",
       "  <tbody>\n",
       "    <tr>\n",
       "      <th>0</th>\n",
       "      <td>cc931aa3da3830196b56c6e88639764b28abdd541c481c...</td>\n",
       "      <td>insurance, claim, coverage, policy, occurrence...</td>\n",
       "      <td>None</td>\n",
       "      <td>268 Ill. App. 3d 598</td>\n",
       "      <td>0.715310</td>\n",
       "      <td>None</td>\n",
       "      <td>33</td>\n",
       "      <td>NaN</td>\n",
       "      <td>None</td>\n",
       "      <td>[-0.008939363993704319, -0.011452711187303066,...</td>\n",
       "      <td>[0.0, 0.0, 0.0, 0.0, 0.0, 0.0, 0.0, 0.0, 0.0, ...</td>\n",
       "      <td>splade</td>\n",
       "      <td>0.715310</td>\n",
       "      <td>The case law from United States Gypsum Co. v. ...</td>\n",
       "    </tr>\n",
       "    <tr>\n",
       "      <th>0</th>\n",
       "      <td>ee22aac895c83ec83d9900e8e2171f32c46e27815417e0...</td>\n",
       "      <td>insurance law, continuous trigger approach, pr...</td>\n",
       "      <td>None</td>\n",
       "      <td>643 N.E.2d 1226</td>\n",
       "      <td>0.705325</td>\n",
       "      <td>None</td>\n",
       "      <td>53</td>\n",
       "      <td>NaN</td>\n",
       "      <td>References to 643 N.E.2d 1226 have evolved to ...</td>\n",
       "      <td>[-0.02118617109954357, -0.003369903890416026, ...</td>\n",
       "      <td>[0.0, 0.0, 0.0, 0.0, 0.0, 0.0, 0.0, 0.0, 0.0, ...</td>\n",
       "      <td>splade</td>\n",
       "      <td>0.705325</td>\n",
       "      <td>643 N.E.2d 1226, United States Gypsum Co. v. A...</td>\n",
       "    </tr>\n",
       "    <tr>\n",
       "      <th>0</th>\n",
       "      <td>caff281ae5c222364389d859aed731584a418163158e45...</td>\n",
       "      <td>'arising out of' language, insurance policy ex...</td>\n",
       "      <td>None</td>\n",
       "      <td>357 Ill. App. 3d 955</td>\n",
       "      <td>0.686908</td>\n",
       "      <td>None</td>\n",
       "      <td>89</td>\n",
       "      <td>NaN</td>\n",
       "      <td>None</td>\n",
       "      <td>[-0.015558742918074131, -0.011712239123880863,...</td>\n",
       "      <td>[0.0, 0.0, 0.0, 0.0, 0.0, 0.0, 0.0, 0.0, 0.0, ...</td>\n",
       "      <td>splade</td>\n",
       "      <td>0.686908</td>\n",
       "      <td>The case cautions against broadly interpreting...</td>\n",
       "    </tr>\n",
       "    <tr>\n",
       "      <th>0</th>\n",
       "      <td>64100020552c4150874373e53e10e40484aea600c027eb...</td>\n",
       "      <td>insurance policy, indemnification, self-insure...</td>\n",
       "      <td>None</td>\n",
       "      <td>105 Ill. 2d 486</td>\n",
       "      <td>0.659979</td>\n",
       "      <td>None</td>\n",
       "      <td>58</td>\n",
       "      <td>NaN</td>\n",
       "      <td>None</td>\n",
       "      <td>[-0.014985797926783562, -0.008534330874681473,...</td>\n",
       "      <td>[0.0, 0.0, 0.0, 0.0, 0.0, 0.0, 0.0, 0.0, 0.0, ...</td>\n",
       "      <td>splade</td>\n",
       "      <td>0.659979</td>\n",
       "      <td>The citation 105 Ill. 2d 486, pertaining to th...</td>\n",
       "    </tr>\n",
       "    <tr>\n",
       "      <th>0</th>\n",
       "      <td>96a86e2c5b26d21ea30feddea76386987af5752132ad29...</td>\n",
       "      <td>insurance, accident, definition, unforeseen oc...</td>\n",
       "      <td>None</td>\n",
       "      <td>89 Ill. App. 3d 617</td>\n",
       "      <td>0.480345</td>\n",
       "      <td>None</td>\n",
       "      <td>40</td>\n",
       "      <td>NaN</td>\n",
       "      <td>The definition of 'accident' established in 89...</td>\n",
       "      <td>[-0.003400814952328801, -0.015401927754282951,...</td>\n",
       "      <td>[0.0, 0.0, 0.0, 0.0, 0.0, 0.0, 0.0, 0.0, 0.0, ...</td>\n",
       "      <td>splade</td>\n",
       "      <td>0.480345</td>\n",
       "      <td>The case Aetna Casualty &amp; Surety Co. v. Freyer...</td>\n",
       "    </tr>\n",
       "  </tbody>\n",
       "</table>\n",
       "</div>"
      ],
      "text/plain": [
       "                                                  id  \\\n",
       "0  cc931aa3da3830196b56c6e88639764b28abdd541c481c...   \n",
       "0  ee22aac895c83ec83d9900e8e2171f32c46e27815417e0...   \n",
       "0  caff281ae5c222364389d859aed731584a418163158e45...   \n",
       "0  64100020552c4150874373e53e10e40484aea600c027eb...   \n",
       "0  96a86e2c5b26d21ea30feddea76386987af5752132ad29...   \n",
       "\n",
       "                                             content metadata__source  \\\n",
       "0  insurance, claim, coverage, policy, occurrence...             None   \n",
       "0  insurance law, continuous trigger approach, pr...             None   \n",
       "0  'arising out of' language, insurance policy ex...             None   \n",
       "0  insurance policy, indemnification, self-insure...             None   \n",
       "0  insurance, accident, definition, unforeseen oc...             None   \n",
       "\n",
       "     metadata__citation    score_ embedding  index keywords  \\\n",
       "0  268 Ill. App. 3d 598  0.715310      None     33      NaN   \n",
       "0       643 N.E.2d 1226  0.705325      None     53      NaN   \n",
       "0  357 Ill. App. 3d 955  0.686908      None     89      NaN   \n",
       "0       105 Ill. 2d 486  0.659979      None     58      NaN   \n",
       "0   89 Ill. App. 3d 617  0.480345      None     40      NaN   \n",
       "\n",
       "                                             recency  \\\n",
       "0                                               None   \n",
       "0  References to 643 N.E.2d 1226 have evolved to ...   \n",
       "0                                               None   \n",
       "0                                               None   \n",
       "0  The definition of 'accident' established in 89...   \n",
       "\n",
       "                           openai_embeddings_summary  \\\n",
       "0  [-0.008939363993704319, -0.011452711187303066,...   \n",
       "0  [-0.02118617109954357, -0.003369903890416026, ...   \n",
       "0  [-0.015558742918074131, -0.011712239123880863,...   \n",
       "0  [-0.014985797926783562, -0.008534330874681473,...   \n",
       "0  [-0.003400814952328801, -0.015401927754282951,...   \n",
       "\n",
       "                                   splade_embeddings search_type     score  \\\n",
       "0  [0.0, 0.0, 0.0, 0.0, 0.0, 0.0, 0.0, 0.0, 0.0, ...      splade  0.715310   \n",
       "0  [0.0, 0.0, 0.0, 0.0, 0.0, 0.0, 0.0, 0.0, 0.0, ...      splade  0.705325   \n",
       "0  [0.0, 0.0, 0.0, 0.0, 0.0, 0.0, 0.0, 0.0, 0.0, ...      splade  0.686908   \n",
       "0  [0.0, 0.0, 0.0, 0.0, 0.0, 0.0, 0.0, 0.0, 0.0, ...      splade  0.659979   \n",
       "0  [0.0, 0.0, 0.0, 0.0, 0.0, 0.0, 0.0, 0.0, 0.0, ...      splade  0.480345   \n",
       "\n",
       "                                             summary  \n",
       "0  The case law from United States Gypsum Co. v. ...  \n",
       "0  643 N.E.2d 1226, United States Gypsum Co. v. A...  \n",
       "0  The case cautions against broadly interpreting...  \n",
       "0  The citation 105 Ill. 2d 486, pertaining to th...  \n",
       "0  The case Aetna Casualty & Surety Co. v. Freyer...  "
      ]
     },
     "execution_count": 62,
     "metadata": {},
     "output_type": "execute_result"
    }
   ],
   "source": [
    "context_df.tail()"
   ]
  },
  {
   "cell_type": "code",
   "execution_count": null,
   "metadata": {},
   "outputs": [],
   "source": [
    "from src.utils.gen_utils import count_tokens\n",
    "\n",
    "\n",
    "def create_context(\n",
    "    df: pd.DataFrame,\n",
    "    context_token_limit: int = 25000\n",
    ") -> str:\n",
    "    \"\"\"\n",
    "    Creates a context string from a DataFrame within a specified token limit,\n",
    "    applying word wrapping to the summary text.\n",
    "\n",
    "    Args:\n",
    "        df (pd.DataFrame): The DataFrame containing case data.\n",
    "        context_token_limit (int): The maximum number of tokens for the context.\n",
    "\n",
    "    Returns:\n",
    "        str: A formatted string containing case details within the token limit,\n",
    "             with word wrapping applied to the summary text.\n",
    "    \"\"\"\n",
    "    import textwrap\n",
    "\n",
    "    df.reset_index(drop=True, inplace=True)\n",
    "    returns = []\n",
    "    count = 1\n",
    "    total_tokens = 100  # Starting token count to account for initial text.\n",
    "    # Add the text to the context until the context is too long.\n",
    "    for _, row in df.iterrows():\n",
    "        wrapped_summary = textwrap.fill(row['content'], width=80)\n",
    "        text = (\n",
    "            f\"[{count}] {row['metadata__citation']}\\n\"\n",
    "            f\"Summary: {wrapped_summary}\\n\"\n",
    "            \"-----------------------------------------\\n\"\n",
    "        )\n",
    "        text_tokens = count_tokens(text)\n",
    "        if total_tokens + text_tokens > context_token_limit:\n",
    "            break\n",
    "        returns.append(text)\n",
    "        total_tokens += text_tokens\n",
    "        count += 1\n",
    "    return \"\\n\\n\".join(returns)"
   ]
  },
  {
   "cell_type": "code",
   "execution_count": null,
   "metadata": {},
   "outputs": [],
   "source": [
    "context = create_context(context_df)"
   ]
  },
  {
   "cell_type": "code",
   "execution_count": null,
   "metadata": {},
   "outputs": [
    {
     "name": "stdout",
     "output_type": "stream",
     "text": [
      "[1] 578 N.E.2d 926\n",
      "Summary: The citation 578 N.E.2d 926 concerns primarily the interpretation of insurance\n",
      "policies, focusing on the broad duty of insurers to defend their insured, the\n",
      "consideration of ambiguous policy terms in favor of the insured, and the\n",
      "principles for determining coverage in complex scenarios such as pollution or\n",
      "property damage. It establishes that insurers have a broad duty to defend their\n",
      "insured if the allegations in the underlying complaint potentially fall within\n",
      "the policy’s coverage. It also sets precedent for interpreting ambiguous policy\n",
      "language in favor of the insured and outlines the conditions under which\n",
      "pollution exclusions apply.\n",
      "-----------------------------------------\n",
      "\n",
      "\n",
      "[2] 268 Ill. App. 3d 598\n",
      "Summary: The case law from United States Gypsum Co. v. Admiral Insurance Co., 268 Ill.\n",
      "App. 3d 598, clarifies significant concepts in insurance law across multiple\n",
      "topics, such as the determination of claim coverage based on third party's claim\n",
      "contents, the interpretation of 'occurrences' using the 'cause' theory, guidance\n",
      "on definitional aspects of 'occurrence' in policies for progressive property\n",
      "damage, issues around settlements following an insurer's breach of duty to\n",
      "defend, principles of indemnification, applying a continuing trigger analysis\n",
      "for pollution damage, assessing the 'continuing process' of manufacturing and\n",
      "selling products as one occurrence, and the importance of cause in determining\n",
      "the number of occurrences. It has been cited to address the need to determine\n",
      "the interpretation of insurance policy terms, the standard for reasonableness of\n",
      "settlements, and ethical issues in insurer-insured relationships.\n",
      "-----------------------------------------\n",
      "\n",
      "\n",
      "[3] 199 Ill. 2d 281\n",
      "Summary: General Casualty Insurance Co. v. Lacey, 199 Ill. 2d 281 (2002) is a pivotal\n",
      "case that has been cited extensively to address legal standards related to\n",
      "insurance policy interpretations, the duty to defend and indemnify, procedural\n",
      "standards for granting summary judgment, and legal proceedings concerning policy\n",
      "exclusions. It has laid down significant precedents for de novo review,\n",
      "especially in statutory interpretation concerning insurance coverage disputes\n",
      "and the examination of policy provisions against public policy.\n",
      "-----------------------------------------\n",
      "\n",
      "\n",
      "[4] 643 N.E.2d 1226\n",
      "Summary: 643 N.E.2d 1226, United States Gypsum Co. v. Admiral Insurance Co., establishes\n",
      "principles related to insurance law in various contexts, including the\n",
      "application of the continuous trigger approach for progressive and inseparable\n",
      "property damage, the construction of insurance policies regarding occurrences,\n",
      "and the interpretation of insurance coverage through cause analysis. It also\n",
      "addresses legal considerations such as the breach of duty to defend,\n",
      "indemnification obligations, determining the number of occurrences under\n",
      "liability policies, and the theory of horizontal exhaustion.\n",
      "-----------------------------------------\n",
      "\n",
      "\n",
      "[5] 357 Ill. App. 3d 955\n",
      "Summary: The case cautions against broadly interpreting the 'arising out of' language in\n",
      "an insurance policy exclusion to avoid expanding the exclusion advantageously\n",
      "for the insurer. It supports the principle that insurers may justifiably refuse\n",
      "to defend against underlying actions if the complaint clearly does not allege\n",
      "facts potentially within coverage. However, it emphasizes that in considering\n",
      "whether an insurer has a duty to defend, both complaint's allegations and policy\n",
      "provisions must be liberally construed in favor of the insured, and any doubt\n",
      "regarding the duty to defend or interpret terms should be resolved in the\n",
      "insured's favor.\n",
      "-----------------------------------------\n",
      "\n",
      "\n",
      "[6] 197 Ill. 2d 278\n",
      "Summary: Travelers Insurance Co. v. Eljer Manufacturing, Inc. addresses several key\n",
      "issues in insurance law, including the construction of insurance policy\n",
      "provisions, the application of the initial permission rule, the definition of\n",
      "\"property damage\", the scope of duty to defend and indemnify, the principles for\n",
      "granting summary judgment, and the interpretation of terms such as \"occurrence\"\n",
      "and \"catastrophic injury\" in insurance contracts. The case has been a reference\n",
      "point in various legal contexts involving insurance coverage disputes, policy\n",
      "interpretation, and the determination of an insurer's obligations.\n",
      "-----------------------------------------\n",
      "\n",
      "\n",
      "[7] 363 Ill. App. 3d 335\n",
      "Summary: Liberty Mutual Fire Insurance Co. v. St. Paul Fire & Marine Insurance Co., 363\n",
      "Ill. App. 3d 335 (2005), is a foundational case that provides guidance on\n",
      "multiple aspects related to insurance policies, including the interpretation of\n",
      "insurance policy language, the obligations of the parties involved, the process\n",
      "for adding an entity as an additional insured under a Comprehensive General\n",
      "Liability (CGL) policy, and principles for filing cross-motions for summary\n",
      "judgment. It establishes standards for interpreting contractual obligations in\n",
      "service contracts, and addresses the duties to defend and indemnify,\n",
      "underinsured-motorist provisions, and statutory interpretation principles. The\n",
      "case emphasizes that a provision's ambiguity does not automatically arise from\n",
      "disagreements between parties, and underscores the importance of resolving\n",
      "doubts in favor of the insured when determining the duty to defend.\n",
      "-----------------------------------------\n",
      "\n",
      "\n",
      "[8] 214 Ill. 2d 11\n",
      "Summary: In 214 Ill. 2d 11, the court highlighted the principles of contract\n",
      "interpretation in the context of insurance policies, emphasizing the intent of\n",
      "the parties as expressed in the policy language. It established that unclear or\n",
      "ambiguous policy terms must be interpreted narrowly and in favor of the insured,\n",
      "unless the policy language is clear and unambiguous. The decision underscored\n",
      "the importance of reviewing policy provisions that exclude or limit coverage\n",
      "with precision, applying them only when the terms are explicit and specific.\n",
      "-----------------------------------------\n",
      "\n",
      "\n",
      "[9] 687 N.E.2d 72\n",
      "Summary: insurance policy interpretation, ambiguity resolution, insurer's duty to defend,\n",
      "duty to indemnify, de novo review, intentions of parties, exclusionary\n",
      "provisions, family member ambiguity, entitlement exclusion, environmental\n",
      "pollution\n",
      "-----------------------------------------\n",
      "\n",
      "\n",
      "[10] 578 N.E.2d 926\n",
      "Summary: insurance policy interpretation, duty to defend, policy coverage, ambiguous\n",
      "policy terms, pollution exclusion, property damage, insurer's obligations,\n",
      "coverage disputes\n",
      "-----------------------------------------\n",
      "\n",
      "\n",
      "[11] 268 Ill. App. 3d 598\n",
      "Summary: insurance, claim, coverage, policy, occurrences, liability policies, cause\n",
      "theory, effect theory, progressive property damage, continuing trigger analysis,\n",
      "indemnification, breach of duty to defend, uninsurable claim, pollution damage,\n",
      "joint and several liability, collusion, policy interpretation, legal precedent,\n",
      "excess coverage, selective tender rule, cause, horizontal exhaustion, targeted\n",
      "tender, settlement, defense expenses, ethical problems\n",
      "-----------------------------------------\n",
      "\n",
      "\n",
      "[12] 643 N.E.2d 1226\n",
      "Summary: insurance law, continuous trigger approach, progressive property damage,\n",
      "insurance policy construction, pollution damage, indemnification, liability\n",
      "policies, occurrence limits, cause analysis, breach of duty to defend,\n",
      "settlement agreement, horizontal exhaustion, factual findings, evidence\n",
      "-----------------------------------------\n",
      "\n",
      "\n",
      "[13] 357 Ill. App. 3d 955\n",
      "Summary: 'arising out of' language, insurance policy exclusion, insurer refusal to\n",
      "defend, duty to defend, allegations in complaints, policy provisions,\n",
      "interpretation in favor of insured, ambiguity resolution, broad interpretation,\n",
      "coverage limitation\n",
      "-----------------------------------------\n",
      "\n",
      "\n",
      "[14] 105 Ill. 2d 486\n",
      "Summary: insurance policy, indemnification, self-insured retention, Estoppel, waiver,\n",
      "appellate procedure, insurance law, coverage, liability, insurance proceeds,\n",
      "policy provision, ambiguous, interpretation, plain meaning, unambiguous, policy\n",
      "interpretation, ambiguity, indemnification, employee fraud, Contract\n",
      "interpretation, clarity, unambiguous terms, reservation of rights, implied\n",
      "waiver, CGL policy, property damage, faulty workmanship, Illinois Supreme Court,\n",
      "Brochu, legal doctrines, coverage exclusions, parties' intentions, written\n",
      "provisions\n",
      "-----------------------------------------\n",
      "\n",
      "\n",
      "[15] 89 Ill. App. 3d 617\n",
      "Summary: insurance, accident, definition, unforeseen occurrence, bodily injury, property\n",
      "damage, legal interpretation, coverage, duty to defend, designed sudden event,\n",
      "undesigned sudden event, inflictive or unfortunate character\n",
      "-----------------------------------------\n",
      "\n"
     ]
    }
   ],
   "source": [
    "print(context)"
   ]
  },
  {
   "cell_type": "code",
   "execution_count": null,
   "metadata": {},
   "outputs": [],
   "source": [
    "from src.agent.tools.utils import extract_citation_numbers_in_brackets\n",
    "\n",
    "def create_formatted_input(\n",
    "    df: pd.DataFrame,\n",
    "    query: str,\n",
    "    context_token_limit: int = 25000,\n",
    "    instructions: str = \"\"\"Instructions: Working step-by-step using only the provided search results that are relevant to a particular component of the user query, write a detailed analysis focusing on how the prior case(s) can inform a component of the uer query.\\n\\nNew Query:\"\"\",\n",
    ") -> str:\n",
    "\n",
    "    context = create_context(df, context_token_limit)\n",
    "\n",
    "    try:\n",
    "        prompt = f\"\"\"{context}\\n\\n{instructions}\\n{query}\\n\\nAnalysis:\"\"\"\n",
    "        prompt_citations = extract_citation_numbers_in_brackets(prompt)\n",
    "        # print(f\"\\nCases in prompt: {prompt_citations}\\n\")\n",
    "        # print(prompt)\n",
    "        return prompt\n",
    "    except Exception as e:\n",
    "        print(e)\n",
    "        return \"\""
   ]
  },
  {
   "cell_type": "code",
   "execution_count": null,
   "metadata": {},
   "outputs": [],
   "source": [
    "from src.agent.tools.utils import ResearchReport\n",
    "import openai\n",
    "import instructor\n",
    "from tenacity import Retrying, stop_after_attempt, wait_fixed\n",
    "\n",
    "\n",
    "def get_final_answer(formatted_input: str, model_name: str) -> ResearchReport:\n",
    "    client = instructor.patch(openai.OpenAI())\n",
    "    return client.chat.completions.create(\n",
    "        model=model_name,\n",
    "        response_model=ResearchReport,\n",
    "        max_retries=Retrying(\n",
    "            stop=stop_after_attempt(5),\n",
    "            wait=wait_fixed(1),\n",
    "        ),\n",
    "        messages=[\n",
    "            {\n",
    "                \"role\": \"system\",\n",
    "                \"content\": \"You are helpful legal research assistant. Working step-by-step, first breakdown the user query into logical sub-questions, then analyze each component with respect to the case law search results. Using only the provided context, offer insights on applicability of the past case(s) and how the legal researcher can reference them to address the components of the broader question, and ultimately the full question. Make sure to use highly structured markdown formatting.\",\n",
    "            },\n",
    "            {\n",
    "                \"role\": \"user\",\n",
    "                \"content\": f\"Search Results:\\n\\n{formatted_input}\"\n",
    "            },\n",
    "        ],\n",
    "    )\n"
   ]
  },
  {
   "cell_type": "code",
   "execution_count": null,
   "metadata": {},
   "outputs": [],
   "source": [
    "formatted_input = create_formatted_input(search_res_df, test_query, context_token_limit=25000)\n",
    "\n",
    "response_model = get_final_answer(formatted_input, model_name=\"gpt-4-turbo-preview\")"
   ]
  },
  {
   "cell_type": "code",
   "execution_count": null,
   "metadata": {},
   "outputs": [
    {
     "data": {
      "text/markdown": [
       "The query focuses on how the phrase 'sudden and accidental' within the context of a pollution exclusion clause under comprehensive general liability (CGL) insurance policies is defined and applied, especially in cases involving gradual but unintentional polluting events.\n",
       "\n",
       "Considering the summary of the citation 578 N.E.2d 926, it directly addresses relevant aspects that can inform the analysis of the new query:\n",
       "\n",
       "1. **Interpretation of Insurance Policies**: The case provides a precedent for a broad interpretation in favor of the insured when policy terms are ambiguous. This principle can be crucial in analyzing how 'sudden and accidental' is defined, especially if the policy language does not explicitly clarify whether gradual pollution events are covered.\n",
       "\n",
       "2. **Determination of Coverage in Complex Scenarios**: The case discusses how insurers determine coverage in intricate situations, including pollution or property damage. This is particularly relevant for evaluating how the 'sudden and accidental' phrase is applied in claims involving gradual but unintentional polluting events, which are complex by nature.\n",
       "\n",
       "3. **Pollution Exclusions**: The case outlines the conditions under which pollution exclusions apply. This directly touches upon how 'sudden and accidental' might be interpreted in the context of pollution exclusions, providing a foundation for understanding whether and how such clauses might exclude or include coverage for gradual pollution incidents.\n",
       "\n",
       "In summary, the principles established in 578 N.E.2d 926 suggest that in cases involving ambiguous policy terms or complex scenarios like gradual pollution, the interpretation is likely to lean in favor of the insured. Therefore, if the phrase 'sudden and accidental' within the pollution exclusion clause is ambiguous or can be interpreted in more than one way in the context of gradual but unintentional polluting events, the precedent suggests that courts might favor an interpretation that includes coverage for such events under CGL insurance policies. This precedent can be remendously valuable for legal researchers or practitioners arguing for the inclusion of gradual pollution incidents in insurance coverage, despite the presence of a pollution exclusion clause."
      ],
      "text/plain": [
       "<IPython.core.display.Markdown object>"
      ]
     },
     "execution_count": 76,
     "metadata": {},
     "output_type": "execute_result"
    }
   ],
   "source": [
    "Markdown(response_model.research_report)"
   ]
  },
  {
   "cell_type": "code",
   "execution_count": null,
   "metadata": {},
   "outputs": [
    {
     "data": {
      "text/markdown": [
       "Regarding the interpretation and application of the 'sudden and accidental' phrase within the context of pollution exclusion clauses under Comprehensive General Liability (CGL) insurance policies, especially in cases involving gradual but unintentional pollution events, a detailed analysis of applicable case law is essential. This analysis will explore how this phrase has been defined and applied in past rulings to guide the current enquiry.\n",
       "\n",
       "**Case Law Analysis:**\n",
       "\n",
       "- **United States Gypsum Co. v. Admiral Insurance Co., [1] & [3]:** These entries note the application of the 'continuous trigger approach' for progressive and inseparable property damage and the interpretation of insurance coverage through cause analysis. While not directly referencing 'sudden and accidental,' these cases are significant for understanding how courts may approach policy interpretations involving gradual pollution events. The principles of cause analysis and continuous trigger might be indirectly relevant to dissecting the 'sudden and accidental' clause in pollution exclusions.\n",
       "\n",
       "- **Travelers Insurance Co. v. Eljer Manufacturing, Inc., [6] & [17]:** These references address the construction of insurance policy provisions and interpretation duties of insurers. They establish guidelines that might be applicable when debating the definition and application of 'sudden and accidental' in pollution exclusions, especially since the summary points to discussions around 'occurrence' and 'property damage' in insurance contracts.\n",
       "\n",
       "- **Zurich Insurance Co. v. Raymark Industries, Inc., [18]:** This case directly deals with the interpretation of policy terms, especially concerning duties to defend and indemnify and trigger of coverage for specific claims like asbestos exposure. While not exclusively concerning pollution, the principles set forth regarding insurance policy interpretation could be instrumental in understanding how 'sudden and accidental' might be construed in the context of pollution.\n",
       "\n",
       "**Discussion:**\n",
       "\n",
       "The analyzed cases suggest that the interpretation of 'sudden and accidental' within pollution exclusions likely depends on broader legal principles of insurance policy interpretation, including the continuous trigger for coverage and cause analysis. Since gradual pollution events fall outside the traditional 'sudden' framework, the application of these clauses would require a nuanced approach, examining the specific language of the policy and considering precedents that interpret similar terms.\n",
       "\n",
       "**Conclusion:**\n",
       "\n",
       "Given the indirect relevance of the discussed cases, further research into directly related case law or advisory opinions concerning 'sudden and accidental' in the context of CGL policies and pollution exclusions might be necessary. However, these cases provide a foundational understanding of how courts approach complex policy interpretations and might influence arguments concerning the applicability of pollution exclusions to gradual environmental damage."
      ],
      "text/plain": [
       "<IPython.core.display.Markdown object>"
      ]
     },
     "execution_count": 147,
     "metadata": {},
     "output_type": "execute_result"
    }
   ],
   "source": [
    "Markdown(response_model.research_report)"
   ]
  },
  {
   "cell_type": "code",
   "execution_count": null,
   "metadata": {},
   "outputs": [],
   "source": []
  },
  {
   "cell_type": "code",
   "execution_count": null,
   "metadata": {},
   "outputs": [
    {
     "data": {
      "text/plain": [
       "['Should I just pay the rent and wait for my refund?',\n",
       " 'If the post office shows that my original money order was cashed, am I out that money?',\n",
       " 'What can I do about a landlord who is slow to make repairs?',\n",
       " 'Is it legal for my landlord to enter my apartment without permission?',\n",
       " 'Can a landlord raise rent in response to making repairs?',\n",
       " 'How do I handle disruptive neighbors?',\n",
       " 'What should I do if I suspect my landlord of stealing from me?',\n",
       " 'What are my rights as a tenant in Missouri?',\n",
       " 'Is it legal to use pliers to turn on water in lieu of a broken knob?',\n",
       " \"What actions can I take if I've been treated unfairly by my landlord?\"]"
      ]
     },
     "execution_count": 34,
     "metadata": {},
     "output_type": "execute_result"
    }
   ],
   "source": [
    "from src.search.query_expansion import generate_subquestions\n",
    "\n",
    "questions = generate_subquestions(test_query, n='any number of')\n",
    "questions.questions"
   ]
  },
  {
   "cell_type": "code",
   "execution_count": null,
   "metadata": {},
   "outputs": [
    {
     "data": {
      "text/plain": [
       "CompletionUsage(completion_tokens=147, prompt_tokens=1130, total_tokens=1277)"
      ]
     },
     "execution_count": 35,
     "metadata": {},
     "output_type": "execute_result"
    }
   ],
   "source": [
    "questions._raw_response.usage"
   ]
  },
  {
   "cell_type": "code",
   "execution_count": null,
   "metadata": {},
   "outputs": [],
   "source": [
    "from src.search.query_filter import generate_query_plan, auto_filter_fts_search"
   ]
  },
  {
   "cell_type": "code",
   "execution_count": null,
   "metadata": {},
   "outputs": [
    {
     "name": "stderr",
     "output_type": "stream",
     "text": [
      "\u001b[32m2024-03-19 21:42:45 - INFO - Schema shown to LLM: \n",
      "Name of each field, its type and unique values (up to 20):\n",
      "* state (string);  Values - ['NM' 'IN' 'WY' 'NH' 'MP' 'PA' 'MH' 'ID' 'AR' 'MA' 'KS' 'AS' 'ND' 'PR'\n",
      " 'DE' 'FL' 'LA' 'OR' 'VT' 'PW'], ... 39 more\n",
      "        \u001b[0m\n"
     ]
    },
    {
     "name": "stderr",
     "output_type": "stream",
     "text": [
      "\u001b[32m2024-03-19 21:42:55 - INFO - Input DataFrame has 5,000 rows\u001b[0m\n",
      "\u001b[32m2024-03-19 21:42:55 - INFO - Applying filter(s): state LIKE '%OR%'\u001b[0m\n",
      "\u001b[32m2024-03-19 21:43:03 - INFO - Filtered DataFrame has 86 rows\u001b[0m\n"
     ]
    }
   ],
   "source": [
    "query_plan = generate_query_plan(\n",
    "    input_df=df,\n",
    "    query=test_query,\n",
    "    filter_fields=[\n",
    "        'state',\n",
    "    ]\n",
    ")\n",
    "filtered_df = query_plan.filter_df(df=df)"
   ]
  },
  {
   "cell_type": "code",
   "execution_count": null,
   "metadata": {},
   "outputs": [
    {
     "data": {
      "text/html": [
       "<div>\n",
       "<style scoped>\n",
       "    .dataframe tbody tr th:only-of-type {\n",
       "        vertical-align: middle;\n",
       "    }\n",
       "\n",
       "    .dataframe tbody tr th {\n",
       "        vertical-align: top;\n",
       "    }\n",
       "\n",
       "    .dataframe thead th {\n",
       "        text-align: right;\n",
       "    }\n",
       "</style>\n",
       "<table border=\"1\" class=\"dataframe\">\n",
       "  <thead>\n",
       "    <tr style=\"text-align: right;\">\n",
       "      <th></th>\n",
       "      <th>index</th>\n",
       "      <th>created_utc</th>\n",
       "      <th>full_link</th>\n",
       "      <th>id</th>\n",
       "      <th>body</th>\n",
       "      <th>title</th>\n",
       "      <th>text_label</th>\n",
       "      <th>flair_label</th>\n",
       "      <th>embeddings</th>\n",
       "      <th>token_count</th>\n",
       "      <th>llm_title</th>\n",
       "      <th>state</th>\n",
       "      <th>kmeans_label</th>\n",
       "      <th>topic_title</th>\n",
       "      <th>splade_embeddings</th>\n",
       "    </tr>\n",
       "  </thead>\n",
       "  <tbody>\n",
       "    <tr>\n",
       "      <th>0</th>\n",
       "      <td>2029</td>\n",
       "      <td>1578267399</td>\n",
       "      <td>https://www.reddit.com/r/legaladvice/comments/...</td>\n",
       "      <td>ekl2ef</td>\n",
       "      <td>For context I live in the Philippines. I wont ...</td>\n",
       "      <td>My professor refuses to show us ALL of our tes...</td>\n",
       "      <td>school</td>\n",
       "      <td>9</td>\n",
       "      <td>[-0.00954271624451715, 0.007157037183387862, 0...</td>\n",
       "      <td>953</td>\n",
       "      <td>\"Unrevealed Grades and Lack of Transparency: S...</td>\n",
       "      <td>OR</td>\n",
       "      <td>9</td>\n",
       "      <td>Legal Consequences of False Accusations</td>\n",
       "      <td>[0.0, 0.0, 0.0, 0.0, 0.0, 0.0, 0.0, 0.0, 0.0, ...</td>\n",
       "    </tr>\n",
       "    <tr>\n",
       "      <th>1</th>\n",
       "      <td>3320</td>\n",
       "      <td>1591126549</td>\n",
       "      <td>https://www.reddit.com/r/legaladvice/comments/...</td>\n",
       "      <td>gve3nq</td>\n",
       "      <td>Edit: I live in Washington state.\\n\\nSo I live...</td>\n",
       "      <td>My landlord has been harassing me about my pet...</td>\n",
       "      <td>housing</td>\n",
       "      <td>7</td>\n",
       "      <td>[-0.0034782202413053045, 0.00616729225832095, ...</td>\n",
       "      <td>759</td>\n",
       "      <td>\"Legal dispute over pet snake: Landlord threat...</td>\n",
       "      <td>OR</td>\n",
       "      <td>3</td>\n",
       "      <td>Rental Property and Landlord Matters</td>\n",
       "      <td>[0.0, 0.0, 0.0, 0.0, 0.0, 0.0, 0.0, 0.0, 0.0, ...</td>\n",
       "    </tr>\n",
       "  </tbody>\n",
       "</table>\n",
       "</div>"
      ],
      "text/plain": [
       "   index  created_utc                                          full_link  \\\n",
       "0   2029   1578267399  https://www.reddit.com/r/legaladvice/comments/...   \n",
       "1   3320   1591126549  https://www.reddit.com/r/legaladvice/comments/...   \n",
       "\n",
       "       id                                               body  \\\n",
       "0  ekl2ef  For context I live in the Philippines. I wont ...   \n",
       "1  gve3nq  Edit: I live in Washington state.\\n\\nSo I live...   \n",
       "\n",
       "                                               title text_label  flair_label  \\\n",
       "0  My professor refuses to show us ALL of our tes...     school            9   \n",
       "1  My landlord has been harassing me about my pet...    housing            7   \n",
       "\n",
       "                                          embeddings  token_count  \\\n",
       "0  [-0.00954271624451715, 0.007157037183387862, 0...          953   \n",
       "1  [-0.0034782202413053045, 0.00616729225832095, ...          759   \n",
       "\n",
       "                                           llm_title state  kmeans_label  \\\n",
       "0  \"Unrevealed Grades and Lack of Transparency: S...    OR             9   \n",
       "1  \"Legal dispute over pet snake: Landlord threat...    OR             3   \n",
       "\n",
       "                               topic_title  \\\n",
       "0  Legal Consequences of False Accusations   \n",
       "1     Rental Property and Landlord Matters   \n",
       "\n",
       "                                   splade_embeddings  \n",
       "0  [0.0, 0.0, 0.0, 0.0, 0.0, 0.0, 0.0, 0.0, 0.0, ...  \n",
       "1  [0.0, 0.0, 0.0, 0.0, 0.0, 0.0, 0.0, 0.0, 0.0, ...  "
      ]
     },
     "execution_count": 15,
     "metadata": {},
     "output_type": "execute_result"
    }
   ],
   "source": [
    "filtered_df.head(2)"
   ]
  },
  {
   "cell_type": "code",
   "execution_count": null,
   "metadata": {},
   "outputs": [
    {
     "name": "stdout",
     "output_type": "stream",
     "text": [
      "Do I have any legal recourse here? I know Oregon is an 'at will' state, but it sounds like there are at LEAST two instances that offer grounds for wrongful termination (just based on my limited knowledge of the ADA, dept of labor, BOLI, etc.). \n",
      "legal recourse for wrongful termination in 'at will' employment including issues related to mistreatment, health code violations, improper handling of company money, and potential discrimination due to medical conditions\n"
     ]
    }
   ],
   "source": [
    "print(query_plan.original_query)\n",
    "print(query_plan.rephrased_query)"
   ]
  },
  {
   "cell_type": "code",
   "execution_count": null,
   "metadata": {},
   "outputs": [
    {
     "name": "stderr",
     "output_type": "stream",
     "text": [
      "\u001b[32m2024-03-19 21:44:19 - INFO - Schema shown to LLM: \n",
      "Name of each field, its type and unique values (up to 20):\n",
      "* state (string);  Values - ['NM' 'IN' 'WY' 'NH' 'MP' 'PA' 'MH' 'ID' 'AR' 'MA' 'KS' 'AS' 'ND' 'PR'\n",
      " 'DE' 'FL' 'LA' 'OR' 'VT' 'PW'], ... 39 more\n",
      "        \u001b[0m\n"
     ]
    },
    {
     "name": "stderr",
     "output_type": "stream",
     "text": [
      "\u001b[32m2024-03-19 21:44:22 - INFO - No filters were identified for query: marijuana\u001b[0m\n",
      "\u001b[32m2024-03-19 21:44:22 - INFO - Revised query: marijuana\u001b[0m\n",
      "\u001b[32m2024-03-19 21:44:23 - INFO - Full Text Search (FTS) search yielded a DataFrame with 20 rows\u001b[0m\n"
     ]
    }
   ],
   "source": [
    "test_res = auto_filter_fts_search(\n",
    "    df=df,\n",
    "    query='marijuana',\n",
    "    top_k=20,\n",
    "    text_column=\"body\",\n",
    "    embeddings_column=\"embeddings\",\n",
    "    filter_fields=[\n",
    "        'state',\n",
    "    ])"
   ]
  },
  {
   "cell_type": "code",
   "execution_count": null,
   "metadata": {},
   "outputs": [
    {
     "data": {
      "text/markdown": [
       "I'm a New York State medical marijuana patient. I also work in healthcare. I applied to a new job at a new hospital, and they are discriminating against me for being a medical marijuana patient. I was offered the job and accepted, but when I went to get my pre-employment physical conducted, I gave them my medical marijuana card and informed them that I am a patient. They are now refusing to hire me. Is this legal? I already contacted the division of human rights at the labor department and they said I may or may not have a case."
      ],
      "text/plain": [
       "<IPython.core.display.Markdown object>"
      ]
     },
     "execution_count": 14,
     "metadata": {},
     "output_type": "execute_result"
    }
   ],
   "source": [
    "Markdown(test_res['body'].tolist()[0])"
   ]
  }
 ],
 "metadata": {
  "kernelspec": {
   "display_name": ".venv",
   "language": "python",
   "name": "python3"
  },
  "language_info": {
   "codemirror_mode": {
    "name": "ipython",
    "version": 3
   },
   "file_extension": ".py",
   "mimetype": "text/x-python",
   "name": "python",
   "nbconvert_exporter": "python",
   "pygments_lexer": "ipython3",
   "version": "3.10.11"
  }
 },
 "nbformat": 4,
 "nbformat_minor": 2
}
